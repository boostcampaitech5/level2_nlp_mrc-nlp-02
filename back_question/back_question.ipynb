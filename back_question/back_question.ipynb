{
 "cells": [
  {
   "cell_type": "code",
   "execution_count": null,
   "metadata": {},
   "outputs": [],
   "source": [
    "import pandas as pd"
   ]
  },
  {
   "cell_type": "code",
   "execution_count": 4,
   "metadata": {},
   "outputs": [],
   "source": [
    "datasets = pd.read_csv('/opt/ml/input/data/wiki_ner.csv')\n",
    "datasets['context_ner'] = datasets['context_ner'].apply(eval)"
   ]
  },
  {
   "cell_type": "code",
   "execution_count": 5,
   "metadata": {},
   "outputs": [
    {
     "data": {
      "text/html": [
       "<div>\n",
       "<style scoped>\n",
       "    .dataframe tbody tr th:only-of-type {\n",
       "        vertical-align: middle;\n",
       "    }\n",
       "\n",
       "    .dataframe tbody tr th {\n",
       "        vertical-align: top;\n",
       "    }\n",
       "\n",
       "    .dataframe thead th {\n",
       "        text-align: right;\n",
       "    }\n",
       "</style>\n",
       "<table border=\"1\" class=\"dataframe\">\n",
       "  <thead>\n",
       "    <tr style=\"text-align: right;\">\n",
       "      <th></th>\n",
       "      <th>text</th>\n",
       "      <th>corpus_source</th>\n",
       "      <th>url</th>\n",
       "      <th>domain</th>\n",
       "      <th>title</th>\n",
       "      <th>author</th>\n",
       "      <th>html</th>\n",
       "      <th>document_id</th>\n",
       "      <th>context_ner</th>\n",
       "    </tr>\n",
       "  </thead>\n",
       "  <tbody>\n",
       "    <tr>\n",
       "      <th>0</th>\n",
       "      <td>이 문서는 나라 목록이며, 전 세계 206개 나라의 각 현황과 주권 승인 정보를 개...</td>\n",
       "      <td>위키피디아</td>\n",
       "      <td>TODO</td>\n",
       "      <td>NaN</td>\n",
       "      <td>나라 목록</td>\n",
       "      <td>NaN</td>\n",
       "      <td>NaN</td>\n",
       "      <td>0</td>\n",
       "      <td>{'QUANTITY': [('206개', 20), ('두 부분', 75), ('첫 ...</td>\n",
       "    </tr>\n",
       "    <tr>\n",
       "      <th>1</th>\n",
       "      <td>이 목록에 실린 국가 기준은 1933년 몬테비데오 협약 1장을 참고로 하였다. 협정...</td>\n",
       "      <td>위키피디아</td>\n",
       "      <td>TODO</td>\n",
       "      <td>NaN</td>\n",
       "      <td>나라 목록</td>\n",
       "      <td>NaN</td>\n",
       "      <td>NaN</td>\n",
       "      <td>1</td>\n",
       "      <td>{'DATE': [('1933년', 16)], 'ORGANIZATION': [('몬...</td>\n",
       "    </tr>\n",
       "  </tbody>\n",
       "</table>\n",
       "</div>"
      ],
      "text/plain": [
       "                                                text corpus_source   url  \\\n",
       "0  이 문서는 나라 목록이며, 전 세계 206개 나라의 각 현황과 주권 승인 정보를 개...         위키피디아  TODO   \n",
       "1  이 목록에 실린 국가 기준은 1933년 몬테비데오 협약 1장을 참고로 하였다. 협정...         위키피디아  TODO   \n",
       "\n",
       "   domain  title  author  html  document_id  \\\n",
       "0     NaN  나라 목록     NaN   NaN            0   \n",
       "1     NaN  나라 목록     NaN   NaN            1   \n",
       "\n",
       "                                         context_ner  \n",
       "0  {'QUANTITY': [('206개', 20), ('두 부분', 75), ('첫 ...  \n",
       "1  {'DATE': [('1933년', 16)], 'ORGANIZATION': [('몬...  "
      ]
     },
     "execution_count": 5,
     "metadata": {},
     "output_type": "execute_result"
    }
   ],
   "source": [
    "datasets.head(2)"
   ]
  },
  {
   "cell_type": "code",
   "execution_count": 6,
   "metadata": {},
   "outputs": [
    {
     "data": {
      "text/plain": [
       "dict"
      ]
     },
     "execution_count": 6,
     "metadata": {},
     "output_type": "execute_result"
    }
   ],
   "source": [
    "type(datasets['context_ner'][0])"
   ]
  },
  {
   "cell_type": "code",
   "execution_count": 7,
   "metadata": {},
   "outputs": [
    {
     "data": {
      "text/plain": [
       "0    {'QUANTITY': [('206개', 20), ('두 부분', 75), ('첫 ...\n",
       "1    {'DATE': [('1933년', 16)], 'ORGANIZATION': [('몬...\n",
       "2    {'CITY': [('서울특별시', 2), ('홍콩', 230), ('쾰른', 13...\n",
       "3    {'ORGANIZATION': [('아오조라 문고', 0), ('아오조라 분고', ...\n",
       "4    {'OCCUPATION': [('저자', 0), ('저자', 71), ('작가', ...\n",
       "Name: context_ner, dtype: object"
      ]
     },
     "execution_count": 7,
     "metadata": {},
     "output_type": "execute_result"
    }
   ],
   "source": [
    "datasets['context_ner'][:5]"
   ]
  },
  {
   "cell_type": "code",
   "execution_count": 8,
   "metadata": {},
   "outputs": [],
   "source": [
    "desired_keys = set(['QUANTITY', 'PERSON'])\n",
    "\n",
    "def reshape_row(row, keys):\n",
    "    new_rows = []\n",
    "    for key, values in row['context_ner'].items():\n",
    "        if key in keys:\n",
    "            for value, start in values:\n",
    "                new_row = {\n",
    "                    'context': row['text'],\n",
    "                    'document_id': row['document_id'],\n",
    "                    'answer': value,\n",
    "                    'answer_start': start,\n",
    "                    'key': key   # Add the key\n",
    "                }\n",
    "                new_rows.append(new_row)\n",
    "    return new_rows\n"
   ]
  },
  {
   "cell_type": "code",
   "execution_count": 9,
   "metadata": {},
   "outputs": [],
   "source": [
    "desired_keys = set(['TERM', 'MATERIAL', 'PLANT', 'ANINAL', 'EVENT', 'TIME', 'CIVILIZATION', 'LOCATION', 'ORGANIZATION', 'ARTIFACTS', 'THEORY', 'STUDY_FIELD', 'QUANTITY', 'DATE', 'PERSON'])\n",
    "new_rows = datasets.apply(lambda row: reshape_row(row, desired_keys), axis=1)\n",
    "new_df = pd.concat([pd.DataFrame(v) for v in new_rows if v], ignore_index=True)\n"
   ]
  },
  {
   "cell_type": "code",
   "execution_count": 10,
   "metadata": {},
   "outputs": [
    {
     "data": {
      "text/plain": [
       "key\n",
       "PERSON          429708\n",
       "CIVILIZATION    398200\n",
       "DATE            335915\n",
       "QUANTITY        310066\n",
       "ORGANIZATION    290031\n",
       "LOCATION        203549\n",
       "TERM            149898\n",
       "EVENT            61518\n",
       "STUDY_FIELD      42655\n",
       "MATERIAL         30834\n",
       "THEORY           22440\n",
       "TIME             14174\n",
       "PLANT            10231\n",
       "Name: count, dtype: int64"
      ]
     },
     "execution_count": 10,
     "metadata": {},
     "output_type": "execute_result"
    }
   ],
   "source": [
    "new_df['key'].value_counts()"
   ]
  },
  {
   "cell_type": "code",
   "execution_count": 11,
   "metadata": {},
   "outputs": [
    {
     "data": {
      "text/plain": [
       "2299219"
      ]
     },
     "execution_count": 11,
     "metadata": {},
     "output_type": "execute_result"
    }
   ],
   "source": [
    "len(new_df)"
   ]
  },
  {
   "cell_type": "code",
   "execution_count": 12,
   "metadata": {},
   "outputs": [
    {
     "data": {
      "text/plain": [
       "context         이 문서는 나라 목록이며, 전 세계 206개 나라의 각 현황과 주권 승인 정보를 개...\n",
       "document_id                                                     0\n",
       "answer                                                       206개\n",
       "answer_start                                                   20\n",
       "key                                                      QUANTITY\n",
       "Name: 0, dtype: object"
      ]
     },
     "execution_count": 12,
     "metadata": {},
     "output_type": "execute_result"
    }
   ],
   "source": [
    "new_df.loc[0]"
   ]
  },
  {
   "cell_type": "code",
   "execution_count": 13,
   "metadata": {},
   "outputs": [],
   "source": [
    "def spacing(x):\n",
    "    return x.replace(u'\\xa0', u' ').replace('\\u3000', ' ')\n",
    "new_df['context'] =new_df['context'].apply(spacing)\n",
    "new_df['answer'] =new_df['answer'].apply(spacing)\n"
   ]
  },
  {
   "cell_type": "code",
   "execution_count": 14,
   "metadata": {},
   "outputs": [],
   "source": [
    "def preprocess2(x):\n",
    "    if x['context'].find(x['answer']) > -1:\n",
    "        return True\n",
    "    else:\n",
    "        return False\n",
    "\n",
    "new_df['asdf'] =new_df.apply(preprocess2, axis=1)"
   ]
  },
  {
   "cell_type": "code",
   "execution_count": 15,
   "metadata": {},
   "outputs": [
    {
     "data": {
      "text/plain": [
       "asdf\n",
       "True     2299024\n",
       "False        195\n",
       "Name: count, dtype: int64"
      ]
     },
     "execution_count": 15,
     "metadata": {},
     "output_type": "execute_result"
    }
   ],
   "source": [
    "new_df['asdf'].value_counts()"
   ]
  },
  {
   "cell_type": "code",
   "execution_count": 16,
   "metadata": {},
   "outputs": [
    {
     "name": "stderr",
     "output_type": "stream",
     "text": [
      "/tmp/ipykernel_4650/4280476082.py:2: SettingWithCopyWarning: \n",
      "A value is trying to be set on a copy of a slice from a DataFrame\n",
      "\n",
      "See the caveats in the documentation: https://pandas.pydata.org/pandas-docs/stable/user_guide/indexing.html#returning-a-view-versus-a-copy\n",
      "  data.drop('asdf', axis=1, inplace=True)\n"
     ]
    }
   ],
   "source": [
    "data = new_df[new_df['asdf'] == True]\n",
    "data.drop('asdf', axis=1, inplace=True)"
   ]
  },
  {
   "cell_type": "code",
   "execution_count": 17,
   "metadata": {},
   "outputs": [
    {
     "name": "stderr",
     "output_type": "stream",
     "text": [
      "/tmp/ipykernel_4650/2196115205.py:8: SettingWithCopyWarning: \n",
      "A value is trying to be set on a copy of a slice from a DataFrame.\n",
      "Try using .loc[row_indexer,col_indexer] = value instead\n",
      "\n",
      "See the caveats in the documentation: https://pandas.pydata.org/pandas-docs/stable/user_guide/indexing.html#returning-a-view-versus-a-copy\n",
      "  data['context'] =data.apply(preprocess, axis=1)\n"
     ]
    }
   ],
   "source": [
    "def preprocess(x):\n",
    "    if len(x['context']) < 450:\n",
    "        return x['context']\n",
    "    else:\n",
    "        idx = x['context'].index(x['answer'])\n",
    "        return x['context'][max(0,idx-225):idx+225]\n",
    "    \n",
    "data['context'] =data.apply(preprocess, axis=1)"
   ]
  },
  {
   "cell_type": "code",
   "execution_count": 18,
   "metadata": {},
   "outputs": [
    {
     "data": {
      "text/plain": [
       "context         이 문서는 나라 목록이며, 전 세계 206개 나라의 각 현황과 주권 승인 정보를 개...\n",
       "document_id                                                     0\n",
       "answer                                                       206개\n",
       "answer_start                                                   20\n",
       "key                                                      QUANTITY\n",
       "Name: 0, dtype: object"
      ]
     },
     "execution_count": 18,
     "metadata": {},
     "output_type": "execute_result"
    }
   ],
   "source": [
    "data.loc[0]"
   ]
  },
  {
   "cell_type": "code",
   "execution_count": 20,
   "metadata": {},
   "outputs": [
    {
     "data": {
      "text/plain": [
       "2299024"
      ]
     },
     "execution_count": 20,
     "metadata": {},
     "output_type": "execute_result"
    }
   ],
   "source": [
    "len(data)"
   ]
  },
  {
   "cell_type": "code",
   "execution_count": null,
   "metadata": {},
   "outputs": [],
   "source": [
    "data.to_csv('preprocessed_ner.csv', encoding='utf-8-sig')"
   ]
  }
 ],
 "metadata": {
  "kernelspec": {
   "display_name": "mrc",
   "language": "python",
   "name": "python3"
  },
  "language_info": {
   "codemirror_mode": {
    "name": "ipython",
    "version": 3
   },
   "file_extension": ".py",
   "mimetype": "text/x-python",
   "name": "python",
   "nbconvert_exporter": "python",
   "pygments_lexer": "ipython3",
   "version": "3.10.11"
  },
  "orig_nbformat": 4
 },
 "nbformat": 4,
 "nbformat_minor": 2
}
