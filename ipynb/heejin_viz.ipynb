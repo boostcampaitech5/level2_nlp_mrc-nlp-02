{
  "cells": [
    {
      "cell_type": "code",
      "execution_count": 1,
      "id": "460fa429",
      "metadata": {
        "ExecuteTime": {
          "end_time": "2023-06-07T20:46:03.168548Z",
          "start_time": "2023-06-07T20:45:57.534623Z"
        },
        "id": "460fa429"
      },
      "outputs": [
        {
          "name": "stderr",
          "output_type": "stream",
          "text": [
            "/tmp/ipykernel_8737/3168426047.py:7: MatplotlibDeprecationWarning: The seaborn styles shipped by Matplotlib are deprecated since 3.6, as they no longer correspond to the styles shipped by seaborn. However, they will remain available as 'seaborn-v0_8-<style>'. Alternatively, directly use the seaborn API instead.\n",
            "  plt.style.use('seaborn')\n",
            "/tmp/ipykernel_8737/3168426047.py:10: MatplotlibDeprecationWarning: The seaborn styles shipped by Matplotlib are deprecated since 3.6, as they no longer correspond to the styles shipped by seaborn. However, they will remain available as 'seaborn-v0_8-<style>'. Alternatively, directly use the seaborn API instead.\n",
            "  style.use(\"seaborn-talk\")\n"
          ]
        }
      ],
      "source": [
        "import numpy as np\n",
        "import pandas as pd\n",
        "import matplotlib.pyplot as plt\n",
        "import seaborn as sns\n",
        "import matplotlib.style as style\n",
        "\n",
        "plt.style.use('seaborn')\n",
        "from matplotlib import rc, font_manager\n",
        "style.use(\"fivethirtyeight\")\n",
        "style.use(\"seaborn-talk\")\n",
        "plt.rcParams['font.family'] = 'serif'\n",
        "\n",
        "import pickle\n",
        "import os\n",
        "import re\n",
        "import json\n",
        "\n",
        "from konlpy.tag import Okt \n",
        "okt=Okt()\n",
        "\n",
        "import warnings\n",
        "warnings.filterwarnings('ignore')\n",
        "\n",
        "import matplotlib\n",
        "matplotlib.rcParams['axes.unicode_minus'] =False"
      ]
    },
    {
      "attachments": {},
      "cell_type": "markdown",
      "id": "d9f6babe",
      "metadata": {
        "id": "d9f6babe"
      },
      "source": [
        "# wiki"
      ]
    },
    {
      "cell_type": "code",
      "execution_count": 2,
      "id": "729480e1",
      "metadata": {
        "ExecuteTime": {
          "end_time": "2023-06-07T20:46:04.931882Z",
          "start_time": "2023-06-07T20:46:03.168548Z"
        },
        "id": "729480e1",
        "outputId": "c000f915-dce9-486b-fe02-4f0652918546"
      },
      "outputs": [
        {
          "data": {
            "text/plain": [
              "dict_keys(['text', 'corpus_source', 'url', 'domain', 'title', 'author', 'html', 'document_id'])"
            ]
          },
          "execution_count": 2,
          "metadata": {},
          "output_type": "execute_result"
        }
      ],
      "source": [
        "with open(os.path.join(\"../input/data/wikipedia_documents.json\"), \"r\", encoding=\"utf-8\") as f:\n",
        "    wiki = json.load(f)\n",
        "wiki['0'].keys()"
      ]
    },
    {
      "cell_type": "code",
      "execution_count": 3,
      "id": "6b7f13d0",
      "metadata": {
        "ExecuteTime": {
          "end_time": "2023-06-07T20:46:08.056312Z",
          "start_time": "2023-06-07T20:46:04.933571Z"
        },
        "colab": {
          "base_uri": "https://localhost:8080/",
          "height": 206
        },
        "id": "6b7f13d0",
        "outputId": "b9e93443-9c19-417e-f9a8-254eaca09b35"
      },
      "outputs": [
        {
          "data": {
            "text/html": [
              "<div>\n",
              "<style scoped>\n",
              "    .dataframe tbody tr th:only-of-type {\n",
              "        vertical-align: middle;\n",
              "    }\n",
              "\n",
              "    .dataframe tbody tr th {\n",
              "        vertical-align: top;\n",
              "    }\n",
              "\n",
              "    .dataframe thead th {\n",
              "        text-align: right;\n",
              "    }\n",
              "</style>\n",
              "<table border=\"1\" class=\"dataframe\">\n",
              "  <thead>\n",
              "    <tr style=\"text-align: right;\">\n",
              "      <th></th>\n",
              "      <th>text</th>\n",
              "      <th>corpus_source</th>\n",
              "      <th>url</th>\n",
              "      <th>domain</th>\n",
              "      <th>title</th>\n",
              "      <th>author</th>\n",
              "      <th>html</th>\n",
              "      <th>document_id</th>\n",
              "    </tr>\n",
              "  </thead>\n",
              "  <tbody>\n",
              "    <tr>\n",
              "      <th>0</th>\n",
              "      <td>이 문서는 나라 목록이며, 전 세계 206개 나라의 각 현황과 주권 승인 정보를 개...</td>\n",
              "      <td>위키피디아</td>\n",
              "      <td>TODO</td>\n",
              "      <td>None</td>\n",
              "      <td>나라 목록</td>\n",
              "      <td>None</td>\n",
              "      <td>None</td>\n",
              "      <td>0</td>\n",
              "    </tr>\n",
              "    <tr>\n",
              "      <th>1</th>\n",
              "      <td>이 목록에 실린 국가 기준은 1933년 몬테비데오 협약 1장을 참고로 하였다. 협정...</td>\n",
              "      <td>위키피디아</td>\n",
              "      <td>TODO</td>\n",
              "      <td>None</td>\n",
              "      <td>나라 목록</td>\n",
              "      <td>None</td>\n",
              "      <td>None</td>\n",
              "      <td>1</td>\n",
              "    </tr>\n",
              "    <tr>\n",
              "      <th>2</th>\n",
              "      <td>현 서울특별시 종로구 서린동 (구 일제 강점기 경기도 경성부 서린정) 출신이다. 친...</td>\n",
              "      <td>위키피디아</td>\n",
              "      <td>TODO</td>\n",
              "      <td>None</td>\n",
              "      <td>백남준</td>\n",
              "      <td>None</td>\n",
              "      <td>None</td>\n",
              "      <td>2</td>\n",
              "    </tr>\n",
              "    <tr>\n",
              "      <th>3</th>\n",
              "      <td>아오조라 문고(靑空文庫, あおぞらぶんこ|아오조라 분고)는 ‘일본어판 구텐베르크 프로...</td>\n",
              "      <td>위키피디아</td>\n",
              "      <td>TODO</td>\n",
              "      <td>None</td>\n",
              "      <td>아오조라 문고</td>\n",
              "      <td>None</td>\n",
              "      <td>None</td>\n",
              "      <td>3</td>\n",
              "    </tr>\n",
              "    <tr>\n",
              "      <th>4</th>\n",
              "      <td>저자 사망 이후 50년이 지나 저작권이 소멸한 메이지 시대부터 쇼와 시대 초기까지의...</td>\n",
              "      <td>위키피디아</td>\n",
              "      <td>TODO</td>\n",
              "      <td>None</td>\n",
              "      <td>아오조라 문고</td>\n",
              "      <td>None</td>\n",
              "      <td>None</td>\n",
              "      <td>4</td>\n",
              "    </tr>\n",
              "  </tbody>\n",
              "</table>\n",
              "</div>"
            ],
            "text/plain": [
              "                                                text corpus_source   url  \\\n",
              "0  이 문서는 나라 목록이며, 전 세계 206개 나라의 각 현황과 주권 승인 정보를 개...         위키피디아  TODO   \n",
              "1  이 목록에 실린 국가 기준은 1933년 몬테비데오 협약 1장을 참고로 하였다. 협정...         위키피디아  TODO   \n",
              "2  현 서울특별시 종로구 서린동 (구 일제 강점기 경기도 경성부 서린정) 출신이다. 친...         위키피디아  TODO   \n",
              "3  아오조라 문고(靑空文庫, あおぞらぶんこ|아오조라 분고)는 ‘일본어판 구텐베르크 프로...         위키피디아  TODO   \n",
              "4  저자 사망 이후 50년이 지나 저작권이 소멸한 메이지 시대부터 쇼와 시대 초기까지의...         위키피디아  TODO   \n",
              "\n",
              "  domain    title author  html document_id  \n",
              "0   None    나라 목록   None  None           0  \n",
              "1   None    나라 목록   None  None           1  \n",
              "2   None      백남준   None  None           2  \n",
              "3   None  아오조라 문고   None  None           3  \n",
              "4   None  아오조라 문고   None  None           4  "
            ]
          },
          "execution_count": 3,
          "metadata": {},
          "output_type": "execute_result"
        }
      ],
      "source": [
        "wiki = pd.DataFrame(wiki).T.reset_index(drop=True)\n",
        "wiki.head()"
      ]
    },
    {
      "cell_type": "code",
      "execution_count": 4,
      "id": "c1a694fd",
      "metadata": {
        "ExecuteTime": {
          "end_time": "2023-06-07T20:46:08.071814Z",
          "start_time": "2023-06-07T20:46:08.060877Z"
        },
        "colab": {
          "base_uri": "https://localhost:8080/"
        },
        "id": "c1a694fd",
        "outputId": "803e6ca6-75ba-43a9-f8c7-5891810ec3a1"
      },
      "outputs": [
        {
          "data": {
            "text/plain": [
              "60613"
            ]
          },
          "execution_count": 4,
          "metadata": {},
          "output_type": "execute_result"
        }
      ],
      "source": [
        "len(wiki)"
      ]
    },
    {
      "attachments": {},
      "cell_type": "markdown",
      "id": "d093111f",
      "metadata": {
        "id": "d093111f"
      },
      "source": [
        "## 결측값"
      ]
    },
    {
      "cell_type": "code",
      "execution_count": 5,
      "id": "f3497aea",
      "metadata": {
        "ExecuteTime": {
          "end_time": "2023-06-07T20:46:08.214666Z",
          "start_time": "2023-06-07T20:46:08.074535Z"
        },
        "colab": {
          "base_uri": "https://localhost:8080/"
        },
        "id": "f3497aea",
        "outputId": "abfd1bc5-12f6-420e-ee7d-8546c471aa89"
      },
      "outputs": [
        {
          "data": {
            "text/plain": [
              "text                 0\n",
              "corpus_source        0\n",
              "url              56059\n",
              "domain           60613\n",
              "title                0\n",
              "author           60613\n",
              "html             60613\n",
              "document_id          0\n",
              "dtype: int64"
            ]
          },
          "execution_count": 5,
          "metadata": {},
          "output_type": "execute_result"
        }
      ],
      "source": [
        "wiki.isnull().sum()"
      ]
    },
    {
      "attachments": {},
      "cell_type": "markdown",
      "id": "ef3b3fa6",
      "metadata": {
        "id": "ef3b3fa6"
      },
      "source": [
        "- domain, author, html 컬럼은 모두 NaN값 &rarr; 필요없는 컬럼들"
      ]
    },
    {
      "cell_type": "code",
      "execution_count": 6,
      "id": "debe5173",
      "metadata": {
        "ExecuteTime": {
          "end_time": "2023-06-07T20:46:08.251617Z",
          "start_time": "2023-06-07T20:46:08.219706Z"
        },
        "colab": {
          "base_uri": "https://localhost:8080/"
        },
        "id": "debe5173",
        "outputId": "8eb9ad7d-0a56-44d3-86f5-1b1c3e52a868"
      },
      "outputs": [
        {
          "data": {
            "text/plain": [
              "array(['위키피디아'], dtype=object)"
            ]
          },
          "execution_count": 6,
          "metadata": {},
          "output_type": "execute_result"
        }
      ],
      "source": [
        "wiki['corpus_source'].unique()"
      ]
    },
    {
      "attachments": {},
      "cell_type": "markdown",
      "id": "45531fab",
      "metadata": {
        "id": "45531fab"
      },
      "source": [
        "- corpus_source 컬럼은 모두 '위키피디아' 값으로 이뤄짐 &rarr; 필요없는 컬럼"
      ]
    },
    {
      "cell_type": "code",
      "execution_count": 7,
      "id": "e7b29eee",
      "metadata": {
        "ExecuteTime": {
          "end_time": "2023-06-07T20:46:08.279162Z",
          "start_time": "2023-06-07T20:46:08.256264Z"
        },
        "colab": {
          "base_uri": "https://localhost:8080/"
        },
        "id": "e7b29eee",
        "outputId": "c55dedb7-26d4-4aa7-ad35-60ec1348ec82"
      },
      "outputs": [
        {
          "data": {
            "text/plain": [
              "array(['TODO', None], dtype=object)"
            ]
          },
          "execution_count": 7,
          "metadata": {},
          "output_type": "execute_result"
        }
      ],
      "source": [
        "wiki['url'].unique()"
      ]
    },
    {
      "cell_type": "code",
      "execution_count": 8,
      "id": "bf190f69",
      "metadata": {
        "ExecuteTime": {
          "end_time": "2023-06-07T20:46:09.224288Z",
          "start_time": "2023-06-07T20:46:08.282024Z"
        },
        "colab": {
          "base_uri": "https://localhost:8080/",
          "height": 467
        },
        "id": "bf190f69",
        "outputId": "b4c1cc3f-5690-4d90-926b-f42493813d65"
      },
      "outputs": [
        {
          "data": {
            "text/html": [
              "<div>\n",
              "<style scoped>\n",
              "    .dataframe tbody tr th:only-of-type {\n",
              "        vertical-align: middle;\n",
              "    }\n",
              "\n",
              "    .dataframe tbody tr th {\n",
              "        vertical-align: top;\n",
              "    }\n",
              "\n",
              "    .dataframe thead th {\n",
              "        text-align: right;\n",
              "    }\n",
              "</style>\n",
              "<table border=\"1\" class=\"dataframe\">\n",
              "  <thead>\n",
              "    <tr style=\"text-align: right;\">\n",
              "      <th></th>\n",
              "      <th>text</th>\n",
              "      <th>corpus_source</th>\n",
              "      <th>url</th>\n",
              "      <th>domain</th>\n",
              "      <th>title</th>\n",
              "      <th>author</th>\n",
              "      <th>html</th>\n",
              "      <th>document_id</th>\n",
              "    </tr>\n",
              "  </thead>\n",
              "  <tbody>\n",
              "    <tr>\n",
              "      <th>8413</th>\n",
              "      <td>\"Robots.txt\"는 이 문서를 가리킵니다. 위키백과의 Robots.txt의 파...</td>\n",
              "      <td>위키피디아</td>\n",
              "      <td>None</td>\n",
              "      <td>None</td>\n",
              "      <td>로봇 배제 표준</td>\n",
              "      <td>None</td>\n",
              "      <td>None</td>\n",
              "      <td>8413</td>\n",
              "    </tr>\n",
              "    <tr>\n",
              "      <th>3859</th>\n",
              "      <td>\"Robots.txt\"는 이 문서를 가리킵니다. 위키백과의 Robots.txt의 파...</td>\n",
              "      <td>위키피디아</td>\n",
              "      <td>TODO</td>\n",
              "      <td>None</td>\n",
              "      <td>로봇 배제 표준</td>\n",
              "      <td>None</td>\n",
              "      <td>None</td>\n",
              "      <td>3859</td>\n",
              "    </tr>\n",
              "    <tr>\n",
              "      <th>6873</th>\n",
              "      <td>\"들어오지 못하게, 나가지 못하게, 나가도 쓰지 못하게”라는 삼성SDS 고유의 보안...</td>\n",
              "      <td>위키피디아</td>\n",
              "      <td>None</td>\n",
              "      <td>None</td>\n",
              "      <td>삼성SDS</td>\n",
              "      <td>None</td>\n",
              "      <td>None</td>\n",
              "      <td>6873</td>\n",
              "    </tr>\n",
              "    <tr>\n",
              "      <th>2319</th>\n",
              "      <td>\"들어오지 못하게, 나가지 못하게, 나가도 쓰지 못하게”라는 삼성SDS 고유의 보안...</td>\n",
              "      <td>위키피디아</td>\n",
              "      <td>TODO</td>\n",
              "      <td>None</td>\n",
              "      <td>삼성SDS</td>\n",
              "      <td>None</td>\n",
              "      <td>None</td>\n",
              "      <td>2319</td>\n",
              "    </tr>\n",
              "    <tr>\n",
              "      <th>3744</th>\n",
              "      <td>\"아미타불\"이라는 낱말은 무량광(無量光: 헤아릴 수 없는 광명을 가진 것)의 뜻인 ...</td>\n",
              "      <td>위키피디아</td>\n",
              "      <td>TODO</td>\n",
              "      <td>None</td>\n",
              "      <td>아미타불</td>\n",
              "      <td>None</td>\n",
              "      <td>None</td>\n",
              "      <td>3744</td>\n",
              "    </tr>\n",
              "    <tr>\n",
              "      <th>...</th>\n",
              "      <td>...</td>\n",
              "      <td>...</td>\n",
              "      <td>...</td>\n",
              "      <td>...</td>\n",
              "      <td>...</td>\n",
              "      <td>...</td>\n",
              "      <td>...</td>\n",
              "      <td>...</td>\n",
              "    </tr>\n",
              "    <tr>\n",
              "      <th>1943</th>\n",
              "      <td>힌디어(हिन्दी, Hindi)는 인도유럽어족의 인도이란어파에 속하는 언어로, 영...</td>\n",
              "      <td>위키피디아</td>\n",
              "      <td>TODO</td>\n",
              "      <td>None</td>\n",
              "      <td>힌디어</td>\n",
              "      <td>None</td>\n",
              "      <td>None</td>\n",
              "      <td>1943</td>\n",
              "    </tr>\n",
              "    <tr>\n",
              "      <th>2553</th>\n",
              "      <td>힘이 물체의 운동 방향으로 작용하면, 물체의 운동량이 증가하고 힘이 일을 하므로 에...</td>\n",
              "      <td>위키피디아</td>\n",
              "      <td>TODO</td>\n",
              "      <td>None</td>\n",
              "      <td>질량-에너지 등가</td>\n",
              "      <td>None</td>\n",
              "      <td>None</td>\n",
              "      <td>2553</td>\n",
              "    </tr>\n",
              "    <tr>\n",
              "      <th>7107</th>\n",
              "      <td>힘이 물체의 운동 방향으로 작용하면, 물체의 운동량이 증가하고 힘이 일을 하므로 에...</td>\n",
              "      <td>위키피디아</td>\n",
              "      <td>None</td>\n",
              "      <td>None</td>\n",
              "      <td>질량-에너지 등가</td>\n",
              "      <td>None</td>\n",
              "      <td>None</td>\n",
              "      <td>7107</td>\n",
              "    </tr>\n",
              "    <tr>\n",
              "      <th>4542</th>\n",
              "      <td>치 셰미니 례예 낫재라.\\n\\n○ 子思子曰, 天命之謂性, 率性之謂道, 修道...</td>\n",
              "      <td>위키피디아</td>\n",
              "      <td>TODO</td>\n",
              "      <td>None</td>\n",
              "      <td>소학언해</td>\n",
              "      <td>None</td>\n",
              "      <td>None</td>\n",
              "      <td>4542</td>\n",
              "    </tr>\n",
              "    <tr>\n",
              "      <th>9096</th>\n",
              "      <td>치 셰미니 례예 낫재라.\\n\\n○ 子思子曰, 天命之謂性, 率性之謂道, 修道...</td>\n",
              "      <td>위키피디아</td>\n",
              "      <td>None</td>\n",
              "      <td>None</td>\n",
              "      <td>소학언해</td>\n",
              "      <td>None</td>\n",
              "      <td>None</td>\n",
              "      <td>9096</td>\n",
              "    </tr>\n",
              "  </tbody>\n",
              "</table>\n",
              "<p>7586 rows × 8 columns</p>\n",
              "</div>"
            ],
            "text/plain": [
              "                                                   text corpus_source   url  \\\n",
              "8413  \"Robots.txt\"는 이 문서를 가리킵니다. 위키백과의 Robots.txt의 파...         위키피디아  None   \n",
              "3859  \"Robots.txt\"는 이 문서를 가리킵니다. 위키백과의 Robots.txt의 파...         위키피디아  TODO   \n",
              "6873  \"들어오지 못하게, 나가지 못하게, 나가도 쓰지 못하게”라는 삼성SDS 고유의 보안...         위키피디아  None   \n",
              "2319  \"들어오지 못하게, 나가지 못하게, 나가도 쓰지 못하게”라는 삼성SDS 고유의 보안...         위키피디아  TODO   \n",
              "3744  \"아미타불\"이라는 낱말은 무량광(無量光: 헤아릴 수 없는 광명을 가진 것)의 뜻인 ...         위키피디아  TODO   \n",
              "...                                                 ...           ...   ...   \n",
              "1943  힌디어(हिन्दी, Hindi)는 인도유럽어족의 인도이란어파에 속하는 언어로, 영...         위키피디아  TODO   \n",
              "2553  힘이 물체의 운동 방향으로 작용하면, 물체의 운동량이 증가하고 힘이 일을 하므로 에...         위키피디아  TODO   \n",
              "7107  힘이 물체의 운동 방향으로 작용하면, 물체의 운동량이 증가하고 힘이 일을 하므로 에...         위키피디아  None   \n",
              "4542  치 셰미니 례예 낫재라.\\n\\n○ 子思子曰, 天命之謂性, 率性之謂道, 修道...         위키피디아  TODO   \n",
              "9096  치 셰미니 례예 낫재라.\\n\\n○ 子思子曰, 天命之謂性, 率性之謂道, 修道...         위키피디아  None   \n",
              "\n",
              "     domain      title author  html document_id  \n",
              "8413   None   로봇 배제 표준   None  None        8413  \n",
              "3859   None   로봇 배제 표준   None  None        3859  \n",
              "6873   None      삼성SDS   None  None        6873  \n",
              "2319   None      삼성SDS   None  None        2319  \n",
              "3744   None       아미타불   None  None        3744  \n",
              "...     ...        ...    ...   ...         ...  \n",
              "1943   None        힌디어   None  None        1943  \n",
              "2553   None  질량-에너지 등가   None  None        2553  \n",
              "7107   None  질량-에너지 등가   None  None        7107  \n",
              "4542   None       소학언해   None  None        4542  \n",
              "9096   None       소학언해   None  None        9096  \n",
              "\n",
              "[7586 rows x 8 columns]"
            ]
          },
          "execution_count": 8,
          "metadata": {},
          "output_type": "execute_result"
        }
      ],
      "source": [
        "wiki[wiki.duplicated(['text','title'],keep=False)].sort_values('text')"
      ]
    },
    {
      "attachments": {},
      "cell_type": "markdown",
      "id": "7d90dae3",
      "metadata": {
        "id": "7d90dae3"
      },
      "source": [
        "- url 컬럼은 'TODO' or NaN값 &rarr; TODO가 무슨 뜻이지?\n",
        "    - text와 title 동일한데 url이 TODO/NaN값인 경우 살펴본 결과 → 필요없는 컬럼"
      ]
    },
    {
      "cell_type": "code",
      "execution_count": 9,
      "id": "115a1069",
      "metadata": {
        "ExecuteTime": {
          "end_time": "2023-06-07T20:46:09.248572Z",
          "start_time": "2023-06-07T20:46:09.227714Z"
        },
        "colab": {
          "base_uri": "https://localhost:8080/"
        },
        "id": "115a1069",
        "outputId": "e91d8ee8-f4ae-4f44-a498-98f3161bc591"
      },
      "outputs": [
        {
          "data": {
            "text/plain": [
              "60613"
            ]
          },
          "execution_count": 9,
          "metadata": {},
          "output_type": "execute_result"
        }
      ],
      "source": [
        "len(wiki['document_id'].unique())"
      ]
    },
    {
      "attachments": {},
      "cell_type": "markdown",
      "id": "d3f652fd",
      "metadata": {
        "id": "d3f652fd"
      },
      "source": [
        "- document_id 컬럼은 모두 고유한 값으로 이뤄짐(중복된 값이 없음) → 중복 살펴볼 때 document_id 컬럼 제외하고 살펴보기"
      ]
    },
    {
      "cell_type": "code",
      "execution_count": 10,
      "id": "7fa61c6b",
      "metadata": {
        "ExecuteTime": {
          "end_time": "2023-06-07T20:46:09.273434Z",
          "start_time": "2023-06-07T20:46:09.248572Z"
        },
        "id": "7fa61c6b"
      },
      "outputs": [],
      "source": [
        "wiki.drop(['corpus_source','url','domain','author','html'],axis=1,inplace=True)"
      ]
    },
    {
      "cell_type": "code",
      "execution_count": 11,
      "id": "82300e3a",
      "metadata": {
        "ExecuteTime": {
          "end_time": "2023-06-07T20:46:09.295668Z",
          "start_time": "2023-06-07T20:46:09.276625Z"
        },
        "colab": {
          "base_uri": "https://localhost:8080/",
          "height": 206
        },
        "id": "82300e3a",
        "outputId": "a4c91881-484a-4874-8155-f91340cd6efe"
      },
      "outputs": [
        {
          "data": {
            "text/html": [
              "<div>\n",
              "<style scoped>\n",
              "    .dataframe tbody tr th:only-of-type {\n",
              "        vertical-align: middle;\n",
              "    }\n",
              "\n",
              "    .dataframe tbody tr th {\n",
              "        vertical-align: top;\n",
              "    }\n",
              "\n",
              "    .dataframe thead th {\n",
              "        text-align: right;\n",
              "    }\n",
              "</style>\n",
              "<table border=\"1\" class=\"dataframe\">\n",
              "  <thead>\n",
              "    <tr style=\"text-align: right;\">\n",
              "      <th></th>\n",
              "      <th>text</th>\n",
              "      <th>title</th>\n",
              "      <th>document_id</th>\n",
              "    </tr>\n",
              "  </thead>\n",
              "  <tbody>\n",
              "    <tr>\n",
              "      <th>0</th>\n",
              "      <td>이 문서는 나라 목록이며, 전 세계 206개 나라의 각 현황과 주권 승인 정보를 개...</td>\n",
              "      <td>나라 목록</td>\n",
              "      <td>0</td>\n",
              "    </tr>\n",
              "    <tr>\n",
              "      <th>1</th>\n",
              "      <td>이 목록에 실린 국가 기준은 1933년 몬테비데오 협약 1장을 참고로 하였다. 협정...</td>\n",
              "      <td>나라 목록</td>\n",
              "      <td>1</td>\n",
              "    </tr>\n",
              "    <tr>\n",
              "      <th>2</th>\n",
              "      <td>현 서울특별시 종로구 서린동 (구 일제 강점기 경기도 경성부 서린정) 출신이다. 친...</td>\n",
              "      <td>백남준</td>\n",
              "      <td>2</td>\n",
              "    </tr>\n",
              "    <tr>\n",
              "      <th>3</th>\n",
              "      <td>아오조라 문고(靑空文庫, あおぞらぶんこ|아오조라 분고)는 ‘일본어판 구텐베르크 프로...</td>\n",
              "      <td>아오조라 문고</td>\n",
              "      <td>3</td>\n",
              "    </tr>\n",
              "    <tr>\n",
              "      <th>4</th>\n",
              "      <td>저자 사망 이후 50년이 지나 저작권이 소멸한 메이지 시대부터 쇼와 시대 초기까지의...</td>\n",
              "      <td>아오조라 문고</td>\n",
              "      <td>4</td>\n",
              "    </tr>\n",
              "  </tbody>\n",
              "</table>\n",
              "</div>"
            ],
            "text/plain": [
              "                                                text    title document_id\n",
              "0  이 문서는 나라 목록이며, 전 세계 206개 나라의 각 현황과 주권 승인 정보를 개...    나라 목록           0\n",
              "1  이 목록에 실린 국가 기준은 1933년 몬테비데오 협약 1장을 참고로 하였다. 협정...    나라 목록           1\n",
              "2  현 서울특별시 종로구 서린동 (구 일제 강점기 경기도 경성부 서린정) 출신이다. 친...      백남준           2\n",
              "3  아오조라 문고(靑空文庫, あおぞらぶんこ|아오조라 분고)는 ‘일본어판 구텐베르크 프로...  아오조라 문고           3\n",
              "4  저자 사망 이후 50년이 지나 저작권이 소멸한 메이지 시대부터 쇼와 시대 초기까지의...  아오조라 문고           4"
            ]
          },
          "execution_count": 11,
          "metadata": {},
          "output_type": "execute_result"
        }
      ],
      "source": [
        "wiki.head()"
      ]
    },
    {
      "attachments": {},
      "cell_type": "markdown",
      "id": "1fbc107c",
      "metadata": {
        "id": "1fbc107c"
      },
      "source": [
        "## 중복값"
      ]
    },
    {
      "cell_type": "code",
      "execution_count": 12,
      "id": "3a49e07a",
      "metadata": {
        "ExecuteTime": {
          "end_time": "2023-06-07T20:46:09.311220Z",
          "start_time": "2023-06-07T20:46:09.295668Z"
        },
        "colab": {
          "base_uri": "https://localhost:8080/"
        },
        "id": "3a49e07a",
        "outputId": "d3bfada4-dad6-4aef-afa5-61540bb57271"
      },
      "outputs": [
        {
          "data": {
            "text/plain": [
              "60613"
            ]
          },
          "execution_count": 12,
          "metadata": {},
          "output_type": "execute_result"
        }
      ],
      "source": [
        "len(wiki)"
      ]
    },
    {
      "cell_type": "code",
      "execution_count": 13,
      "id": "992825da",
      "metadata": {
        "ExecuteTime": {
          "end_time": "2023-06-07T20:46:09.791739Z",
          "start_time": "2023-06-07T20:46:09.313101Z"
        },
        "colab": {
          "base_uri": "https://localhost:8080/"
        },
        "id": "992825da",
        "outputId": "e331030e-de0c-44ba-edad-c37aff633178"
      },
      "outputs": [
        {
          "data": {
            "text/plain": [
              "56808"
            ]
          },
          "execution_count": 13,
          "metadata": {},
          "output_type": "execute_result"
        }
      ],
      "source": [
        "len(wiki.drop_duplicates(['text','title']))"
      ]
    },
    {
      "cell_type": "code",
      "execution_count": 14,
      "id": "ce3149b0",
      "metadata": {
        "ExecuteTime": {
          "end_time": "2023-06-07T20:46:10.273376Z",
          "start_time": "2023-06-07T20:46:09.791739Z"
        },
        "id": "ce3149b0"
      },
      "outputs": [],
      "source": [
        "wiki=wiki.drop_duplicates(['text','title']).reset_index(drop=True)"
      ]
    },
    {
      "cell_type": "code",
      "execution_count": 15,
      "id": "b3631c46",
      "metadata": {
        "ExecuteTime": {
          "end_time": "2023-06-07T20:46:10.290174Z",
          "start_time": "2023-06-07T20:46:10.274730Z"
        },
        "colab": {
          "base_uri": "https://localhost:8080/"
        },
        "id": "b3631c46",
        "outputId": "f827403a-f1b9-4719-ff8b-67ae04669db6"
      },
      "outputs": [
        {
          "data": {
            "text/plain": [
              "56808"
            ]
          },
          "execution_count": 15,
          "metadata": {},
          "output_type": "execute_result"
        }
      ],
      "source": [
        "len(wiki)"
      ]
    },
    {
      "attachments": {},
      "cell_type": "markdown",
      "id": "a8fe145f",
      "metadata": {
        "ExecuteTime": {
          "end_time": "2023-06-07T17:35:43.343433Z",
          "start_time": "2023-06-07T17:35:43.311865Z"
        },
        "id": "a8fe145f"
      },
      "source": [
        "- text,title 컬럼 기준 중복제거한다면 56808개 남음"
      ]
    },
    {
      "cell_type": "code",
      "execution_count": 16,
      "id": "996dca2a",
      "metadata": {
        "ExecuteTime": {
          "end_time": "2023-06-07T20:46:10.852087Z",
          "start_time": "2023-06-07T20:46:10.296195Z"
        },
        "colab": {
          "base_uri": "https://localhost:8080/",
          "height": 423
        },
        "id": "996dca2a",
        "outputId": "7ef4b606-ea8e-4db6-be84-1ea7b14a8988"
      },
      "outputs": [
        {
          "data": {
            "text/html": [
              "<div>\n",
              "<style scoped>\n",
              "    .dataframe tbody tr th:only-of-type {\n",
              "        vertical-align: middle;\n",
              "    }\n",
              "\n",
              "    .dataframe tbody tr th {\n",
              "        vertical-align: top;\n",
              "    }\n",
              "\n",
              "    .dataframe thead th {\n",
              "        text-align: right;\n",
              "    }\n",
              "</style>\n",
              "<table border=\"1\" class=\"dataframe\">\n",
              "  <thead>\n",
              "    <tr style=\"text-align: right;\">\n",
              "      <th></th>\n",
              "      <th>text</th>\n",
              "      <th>title</th>\n",
              "      <th>document_id</th>\n",
              "    </tr>\n",
              "  </thead>\n",
              "  <tbody>\n",
              "    <tr>\n",
              "      <th>45981</th>\n",
              "      <td>10대 닥터\\n \\n*TARDISODE 8\\n*\"The beast and his a...</td>\n",
              "      <td>The Impossible Planet</td>\n",
              "      <td>49786</td>\n",
              "    </tr>\n",
              "    <tr>\n",
              "      <th>46036</th>\n",
              "      <td>10대 닥터\\n \\n*TARDISODE 8\\n*\"The beast and his a...</td>\n",
              "      <td>The Satan Pit</td>\n",
              "      <td>49841</td>\n",
              "    </tr>\n",
              "    <tr>\n",
              "      <th>1213</th>\n",
              "      <td>19세기 말부터 러시아의 진보적 귀족과 러시아 농촌 내 농민에게서 자생적으로 발생한...</td>\n",
              "      <td>레닌주의</td>\n",
              "      <td>1213</td>\n",
              "    </tr>\n",
              "    <tr>\n",
              "      <th>56458</th>\n",
              "      <td>19세기 말부터 러시아의 진보적 귀족과 러시아 농촌 내 농민에게서 자생적으로 발생한...</td>\n",
              "      <td>노농동맹</td>\n",
              "      <td>60263</td>\n",
              "    </tr>\n",
              "    <tr>\n",
              "      <th>52579</th>\n",
              "      <td>2000년부터 김정일은 독립채산제로 인한 자체 수익 사업을 권장하며 방위산업이든 일...</td>\n",
              "      <td>89호집적회로공장</td>\n",
              "      <td>56384</td>\n",
              "    </tr>\n",
              "    <tr>\n",
              "      <th>...</th>\n",
              "      <td>...</td>\n",
              "      <td>...</td>\n",
              "      <td>...</td>\n",
              "    </tr>\n",
              "    <tr>\n",
              "      <th>51189</th>\n",
              "      <td>팀들은 승점 순으로 정렬된다.(승리시 3점, 무승부시 1점, 패배시 0점), 승점 ...</td>\n",
              "      <td>2019-20년 UEFA 유로파리그 조별 리그</td>\n",
              "      <td>54994</td>\n",
              "    </tr>\n",
              "    <tr>\n",
              "      <th>39132</th>\n",
              "      <td>파일:Pierre Trudeau (1975).jpg|캐나다 캐나다&lt;br /&gt;피에르 ...</td>\n",
              "      <td>제4회 G7 정상회담</td>\n",
              "      <td>42937</td>\n",
              "    </tr>\n",
              "    <tr>\n",
              "      <th>39127</th>\n",
              "      <td>파일:Pierre Trudeau (1975).jpg|캐나다 캐나다&lt;br /&gt;피에르 ...</td>\n",
              "      <td>제3회 G7 정상회담</td>\n",
              "      <td>42932</td>\n",
              "    </tr>\n",
              "    <tr>\n",
              "      <th>53194</th>\n",
              "      <td>한산도함은 국내 군함 중 최대 규모의 의무실과 병상을 갖췄다. 독도함의 1.8배의 ...</td>\n",
              "      <td>ATH-81 한산도</td>\n",
              "      <td>56999</td>\n",
              "    </tr>\n",
              "    <tr>\n",
              "      <th>53182</th>\n",
              "      <td>한산도함은 국내 군함 중 최대 규모의 의무실과 병상을 갖췄다. 독도함의 1.8배의 ...</td>\n",
              "      <td>비전쟁군사행동</td>\n",
              "      <td>56987</td>\n",
              "    </tr>\n",
              "  </tbody>\n",
              "</table>\n",
              "<p>96 rows × 3 columns</p>\n",
              "</div>"
            ],
            "text/plain": [
              "                                                    text  \\\n",
              "45981  10대 닥터\\n \\n*TARDISODE 8\\n*\"The beast and his a...   \n",
              "46036  10대 닥터\\n \\n*TARDISODE 8\\n*\"The beast and his a...   \n",
              "1213   19세기 말부터 러시아의 진보적 귀족과 러시아 농촌 내 농민에게서 자생적으로 발생한...   \n",
              "56458  19세기 말부터 러시아의 진보적 귀족과 러시아 농촌 내 농민에게서 자생적으로 발생한...   \n",
              "52579  2000년부터 김정일은 독립채산제로 인한 자체 수익 사업을 권장하며 방위산업이든 일...   \n",
              "...                                                  ...   \n",
              "51189  팀들은 승점 순으로 정렬된다.(승리시 3점, 무승부시 1점, 패배시 0점), 승점 ...   \n",
              "39132  파일:Pierre Trudeau (1975).jpg|캐나다 캐나다<br />피에르 ...   \n",
              "39127  파일:Pierre Trudeau (1975).jpg|캐나다 캐나다<br />피에르 ...   \n",
              "53194  한산도함은 국내 군함 중 최대 규모의 의무실과 병상을 갖췄다. 독도함의 1.8배의 ...   \n",
              "53182  한산도함은 국내 군함 중 최대 규모의 의무실과 병상을 갖췄다. 독도함의 1.8배의 ...   \n",
              "\n",
              "                           title document_id  \n",
              "45981      The Impossible Planet       49786  \n",
              "46036              The Satan Pit       49841  \n",
              "1213                        레닌주의        1213  \n",
              "56458                       노농동맹       60263  \n",
              "52579                  89호집적회로공장       56384  \n",
              "...                          ...         ...  \n",
              "51189  2019-20년 UEFA 유로파리그 조별 리그       54994  \n",
              "39132                제4회 G7 정상회담       42937  \n",
              "39127                제3회 G7 정상회담       42932  \n",
              "53194                 ATH-81 한산도       56999  \n",
              "53182                    비전쟁군사행동       56987  \n",
              "\n",
              "[96 rows x 3 columns]"
            ]
          },
          "execution_count": 16,
          "metadata": {},
          "output_type": "execute_result"
        }
      ],
      "source": [
        "wiki[wiki.duplicated(['text'],keep=False)].sort_values('text')"
      ]
    },
    {
      "attachments": {},
      "cell_type": "markdown",
      "id": "f330f402",
      "metadata": {
        "id": "f330f402"
      },
      "source": [
        "- text는 동일한데 title이 다른 경우 존재\n",
        "- text만 동일하면 중복제거하는게 좋을까?\n",
        "- 우리가 하는 task에서 title을 참고하는 경우가 있을까? "
      ]
    },
    {
      "cell_type": "code",
      "execution_count": 17,
      "id": "31531c5b",
      "metadata": {
        "ExecuteTime": {
          "end_time": "2023-06-07T20:46:11.317453Z",
          "start_time": "2023-06-07T20:46:10.855985Z"
        },
        "colab": {
          "base_uri": "https://localhost:8080/"
        },
        "id": "31531c5b",
        "outputId": "96c0f3d7-d8bb-455c-8e26-ef9ef4206c1a"
      },
      "outputs": [
        {
          "data": {
            "text/plain": [
              "56737"
            ]
          },
          "execution_count": 17,
          "metadata": {},
          "output_type": "execute_result"
        }
      ],
      "source": [
        "# 만약 title 상관없이 text가 동일한 경우 중복제거할 때\n",
        "len(wiki.drop_duplicates(['text']))"
      ]
    },
    {
      "cell_type": "code",
      "execution_count": 18,
      "id": "79a854b7",
      "metadata": {
        "ExecuteTime": {
          "end_time": "2023-06-07T20:46:11.790739Z",
          "start_time": "2023-06-07T20:46:11.321450Z"
        },
        "id": "79a854b7"
      },
      "outputs": [],
      "source": [
        "wiki=wiki.drop_duplicates(['text']).reset_index(drop=True)"
      ]
    },
    {
      "cell_type": "code",
      "execution_count": 19,
      "id": "49ba5297",
      "metadata": {
        "ExecuteTime": {
          "end_time": "2023-06-07T20:46:11.821137Z",
          "start_time": "2023-06-07T20:46:11.794014Z"
        },
        "colab": {
          "base_uri": "https://localhost:8080/"
        },
        "id": "49ba5297",
        "outputId": "f862eb46-7ebd-46f1-af30-24eb45b3998c"
      },
      "outputs": [
        {
          "data": {
            "text/plain": [
              "56737"
            ]
          },
          "execution_count": 19,
          "metadata": {},
          "output_type": "execute_result"
        }
      ],
      "source": [
        "len(wiki)"
      ]
    },
    {
      "attachments": {},
      "cell_type": "markdown",
      "id": "c067e191",
      "metadata": {
        "id": "c067e191"
      },
      "source": [
        "- text 컬럼 기준 중복제거한다면 56737개 남음"
      ]
    },
    {
      "attachments": {},
      "cell_type": "markdown",
      "id": "3045545e",
      "metadata": {
        "id": "3045545e"
      },
      "source": [
        "## 토큰화"
      ]
    },
    {
      "cell_type": "code",
      "execution_count": 20,
      "id": "c53e8724",
      "metadata": {},
      "outputs": [],
      "source": [
        "#pip install transformers==4.29.2"
      ]
    },
    {
      "cell_type": "code",
      "execution_count": 21,
      "id": "4125a637",
      "metadata": {},
      "outputs": [],
      "source": [
        "from transformers import AutoTokenizer\n",
        "MODEL_NAME = \"klue/bert-base\"\n",
        "tokenizer = AutoTokenizer.from_pretrained(MODEL_NAME)"
      ]
    },
    {
      "cell_type": "code",
      "execution_count": 22,
      "id": "a9127232",
      "metadata": {
        "ExecuteTime": {
          "end_time": "2023-06-07T20:46:13.945455Z",
          "start_time": "2023-06-07T20:46:13.933108Z"
        },
        "colab": {
          "base_uri": "https://localhost:8080/"
        },
        "id": "a9127232",
        "outputId": "43f2d7e3-9fa2-4635-84a6-20768a4a6e6e"
      },
      "outputs": [
        {
          "data": {
            "text/plain": [
              "dict_keys(['input_ids', 'token_type_ids', 'attention_mask'])"
            ]
          },
          "execution_count": 22,
          "metadata": {},
          "output_type": "execute_result"
        }
      ],
      "source": [
        "tokenizer(wiki['text'].tolist()[0]).keys()"
      ]
    },
    {
      "cell_type": "code",
      "execution_count": 23,
      "id": "ff88c476",
      "metadata": {
        "ExecuteTime": {
          "end_time": "2023-06-07T20:47:29.217960Z",
          "start_time": "2023-06-07T20:46:13.945455Z"
        },
        "colab": {
          "base_uri": "https://localhost:8080/"
        },
        "id": "ff88c476",
        "outputId": "4ba07383-74e8-4e65-bd0a-0b7aab76b6c8"
      },
      "outputs": [
        {
          "name": "stderr",
          "output_type": "stream",
          "text": [
            "Token indices sequence length is longer than the specified maximum sequence length for this model (1133 > 512). Running this sequence through the model will result in indexing errors\n"
          ]
        }
      ],
      "source": [
        "wiki['text_token_length']=pd.Series(wiki['text'].tolist()).apply(lambda x: len(tokenizer(x)['input_ids']))"
      ]
    },
    {
      "cell_type": "code",
      "execution_count": 24,
      "id": "fbedd464",
      "metadata": {
        "ExecuteTime": {
          "end_time": "2023-06-07T20:47:34.462058Z",
          "start_time": "2023-06-07T20:47:29.220841Z"
        },
        "colab": {
          "base_uri": "https://localhost:8080/",
          "height": 282
        },
        "id": "fbedd464",
        "outputId": "71600fa4-6ae0-4850-9d3c-24f9dadd5712"
      },
      "outputs": [
        {
          "data": {
            "text/plain": [
              "Text(0, 0.5, '')"
            ]
          },
          "execution_count": 24,
          "metadata": {},
          "output_type": "execute_result"
        },
        {
          "data": {
            "image/png": "[encoded data removed]",
            "text/plain": [
              "<Figure size 1800x300 with 1 Axes>"
            ]
          },
          "metadata": {},
          "output_type": "display_data"
        }
      ],
      "source": [
        "f, ax = plt.subplots(figsize=(18, 3))\n",
        "sns.histplot(data=wiki['text_token_length'])\n",
        "ax.set_title('Wiki')\n",
        "ax.set_ylabel(\"\")"
      ]
    },
    {
      "cell_type": "code",
      "execution_count": 25,
      "id": "60a5b0e6",
      "metadata": {
        "ExecuteTime": {
          "end_time": "2023-06-07T20:47:34.482462Z",
          "start_time": "2023-06-07T20:47:34.464971Z"
        },
        "colab": {
          "base_uri": "https://localhost:8080/"
        },
        "id": "60a5b0e6",
        "outputId": "ab36e401-71bc-46f5-e26a-a09278ae6950"
      },
      "outputs": [
        {
          "data": {
            "text/plain": [
              "count    56737.000000\n",
              "mean       403.889208\n",
              "std        392.152975\n",
              "min         56.000000\n",
              "25%        223.000000\n",
              "50%        310.000000\n",
              "75%        459.000000\n",
              "max      27541.000000\n",
              "Name: text_token_length, dtype: float64"
            ]
          },
          "execution_count": 25,
          "metadata": {},
          "output_type": "execute_result"
        }
      ],
      "source": [
        "wiki['text_token_length'].describe()"
      ]
    },
    {
      "attachments": {},
      "cell_type": "markdown",
      "id": "b29a7226",
      "metadata": {
        "id": "b29a7226"
      },
      "source": [
        "## 텍스트 분석"
      ]
    },
    {
      "attachments": {},
      "cell_type": "markdown",
      "id": "f8c35e80",
      "metadata": {
        "id": "f8c35e80"
      },
      "source": [
        "### 특수문자"
      ]
    },
    {
      "cell_type": "code",
      "execution_count": 26,
      "id": "09905881",
      "metadata": {
        "ExecuteTime": {
          "end_time": "2023-06-07T20:47:43.054539Z",
          "start_time": "2023-06-07T20:47:34.482462Z"
        },
        "id": "09905881"
      },
      "outputs": [],
      "source": [
        "special_char=''.join(wiki['text'].apply(lambda x: re.sub(r'[\\w\\s]','',x)).values)"
      ]
    },
    {
      "cell_type": "code",
      "execution_count": 27,
      "id": "b47323d0",
      "metadata": {
        "ExecuteTime": {
          "end_time": "2023-06-07T20:47:43.138116Z",
          "start_time": "2023-06-07T20:47:43.054539Z"
        },
        "colab": {
          "base_uri": "https://localhost:8080/"
        },
        "id": "b47323d0",
        "outputId": "a8d23667-9658-4261-e8c3-73e6f6aa9c68"
      },
      "outputs": [
        {
          "data": {
            "text/plain": [
              "{'!',\n",
              " '\"',\n",
              " '#',\n",
              " '$',\n",
              " '%',\n",
              " '&',\n",
              " \"'\",\n",
              " '(',\n",
              " ')',\n",
              " '*',\n",
              " '+',\n",
              " ',',\n",
              " '-',\n",
              " '.',\n",
              " '/',\n",
              " ':',\n",
              " ';',\n",
              " '<',\n",
              " '=',\n",
              " '>',\n",
              " '?',\n",
              " '@',\n",
              " '[',\n",
              " '\\\\',\n",
              " ']',\n",
              " '^',\n",
              " '`',\n",
              " '{',\n",
              " '|',\n",
              " '}',\n",
              " '~',\n",
              " '\\x7f',\n",
              " '\\x95',\n",
              " '¡',\n",
              " '¢',\n",
              " '£',\n",
              " '¥',\n",
              " '§',\n",
              " '¨',\n",
              " '«',\n",
              " '¬',\n",
              " '\\xad',\n",
              " '®',\n",
              " '°',\n",
              " '±',\n",
              " '´',\n",
              " '¶',\n",
              " '·',\n",
              " '»',\n",
              " '¿',\n",
              " '×',\n",
              " '÷',\n",
              " '˕',\n",
              " '˚',\n",
              " '˝',\n",
              " '˥',\n",
              " '˦',\n",
              " '˧',\n",
              " '˩',\n",
              " '˪',\n",
              " '̀',\n",
              " '́',\n",
              " '̂',\n",
              " '̃',\n",
              " '̄',\n",
              " '̈',\n",
              " '̊',\n",
              " '̌',\n",
              " '̍',\n",
              " '̚',\n",
              " '̝',\n",
              " '̞',\n",
              " '̟',\n",
              " '̠',\n",
              " '̡',\n",
              " '̣',\n",
              " '̥',\n",
              " '̩',\n",
              " '̪',\n",
              " '̯',\n",
              " '̰',\n",
              " '̱',\n",
              " '̴',\n",
              " '̷',\n",
              " '̻',\n",
              " '̽',\n",
              " '͡',\n",
              " '΄',\n",
              " '՝',\n",
              " '։',\n",
              " '֖',\n",
              " '֥',\n",
              " 'ְ',\n",
              " 'ֱ',\n",
              " 'ִ',\n",
              " 'ֵ',\n",
              " 'ֶ',\n",
              " 'ַ',\n",
              " 'ָ',\n",
              " 'ֹ',\n",
              " 'ּ',\n",
              " 'ֽ',\n",
              " 'ֿ',\n",
              " 'ׁ',\n",
              " 'ׂ',\n",
              " 'ׇ',\n",
              " 'ً',\n",
              " 'ٍ',\n",
              " 'َ',\n",
              " 'ُ',\n",
              " 'ِ',\n",
              " 'ّ',\n",
              " 'ْ',\n",
              " 'ٔ',\n",
              " 'ަ',\n",
              " 'ި',\n",
              " 'ު',\n",
              " 'ެ',\n",
              " 'ް',\n",
              " 'ࠝ',\n",
              " 'ࠠ',\n",
              " 'ࠩ',\n",
              " 'ँ',\n",
              " 'ं',\n",
              " 'ः',\n",
              " '़',\n",
              " 'ा',\n",
              " 'ि',\n",
              " 'ी',\n",
              " 'ु',\n",
              " 'ू',\n",
              " 'ृ',\n",
              " 'े',\n",
              " 'ॉ',\n",
              " 'ो',\n",
              " 'ौ',\n",
              " '्',\n",
              " 'ং',\n",
              " '়',\n",
              " 'া',\n",
              " 'ি',\n",
              " 'ী',\n",
              " 'ু',\n",
              " 'ে',\n",
              " 'ো',\n",
              " '্',\n",
              " 'ਂ',\n",
              " 'ਾ',\n",
              " 'ਿ',\n",
              " 'ੀ',\n",
              " 'ੋ',\n",
              " 'ੰ',\n",
              " 'ି',\n",
              " 'ா',\n",
              " 'ி',\n",
              " 'ீ',\n",
              " 'ு',\n",
              " 'ூ',\n",
              " 'ெ',\n",
              " 'ே',\n",
              " 'ை',\n",
              " 'ொ',\n",
              " 'ோ',\n",
              " '்',\n",
              " 'ి',\n",
              " 'ు',\n",
              " 'ె',\n",
              " '్',\n",
              " 'ಾ',\n",
              " 'ಿ',\n",
              " 'ೀ',\n",
              " 'ು',\n",
              " 'ೇ',\n",
              " 'ೊ',\n",
              " '್',\n",
              " 'ി',\n",
              " '്',\n",
              " 'ං',\n",
              " '්',\n",
              " 'ා',\n",
              " 'ැ',\n",
              " 'ි',\n",
              " 'ී',\n",
              " 'ු',\n",
              " 'ූ',\n",
              " 'ෙ',\n",
              " 'ේ',\n",
              " 'ො',\n",
              " 'ෝ',\n",
              " 'ั',\n",
              " 'ิ',\n",
              " 'ี',\n",
              " 'ึ',\n",
              " 'ื',\n",
              " 'ุ',\n",
              " 'ู',\n",
              " 'ฺ',\n",
              " '็',\n",
              " '่',\n",
              " '้',\n",
              " '๋',\n",
              " '์',\n",
              " 'ັ',\n",
              " 'ິ',\n",
              " 'ຸ',\n",
              " 'ູ',\n",
              " 'ົ',\n",
              " '່',\n",
              " '້',\n",
              " 'ໍ',\n",
              " '་',\n",
              " '།',\n",
              " 'ི',\n",
              " 'ུ',\n",
              " 'ེ',\n",
              " 'ོ',\n",
              " 'ྐ',\n",
              " 'ྒ',\n",
              " 'ྙ',\n",
              " 'ྟ',\n",
              " 'ྣ',\n",
              " 'ྦ',\n",
              " 'ྨ',\n",
              " 'ྩ',\n",
              " 'ྫ',\n",
              " 'ྱ',\n",
              " 'ྲ',\n",
              " 'ླ',\n",
              " 'ྷ',\n",
              " 'ါ',\n",
              " 'ာ',\n",
              " 'ိ',\n",
              " 'ီ',\n",
              " 'ု',\n",
              " 'ူ',\n",
              " 'ေ',\n",
              " 'ဲ',\n",
              " 'ံ',\n",
              " '့',\n",
              " 'း',\n",
              " '္',\n",
              " '်',\n",
              " 'ျ',\n",
              " 'ြ',\n",
              " 'ွ',\n",
              " 'ှ',\n",
              " '၊',\n",
              " '။',\n",
              " 'ា',\n",
              " 'ិ',\n",
              " 'ុ',\n",
              " 'ូ',\n",
              " 'ួ',\n",
              " 'ំ',\n",
              " 'ះ',\n",
              " '់',\n",
              " '័',\n",
              " '្',\n",
              " '᠋',\n",
              " '\\u200b',\n",
              " '\\u200c',\n",
              " '\\u200d',\n",
              " '\\u200e',\n",
              " '\\u200f',\n",
              " '‐',\n",
              " '‑',\n",
              " '–',\n",
              " '—',\n",
              " '―',\n",
              " '‖',\n",
              " '‘',\n",
              " '’',\n",
              " '‚',\n",
              " '“',\n",
              " '”',\n",
              " '„',\n",
              " '†',\n",
              " '‡',\n",
              " '•',\n",
              " '․',\n",
              " '‥',\n",
              " '…',\n",
              " '‧',\n",
              " '‰',\n",
              " '′',\n",
              " '″',\n",
              " '‹',\n",
              " '›',\n",
              " '※',\n",
              " '‿',\n",
              " '⁄',\n",
              " '\\u2060',\n",
              " '⁻',\n",
              " '⁽',\n",
              " '⁾',\n",
              " '₩',\n",
              " '€',\n",
              " '℃',\n",
              " '℉',\n",
              " '™',\n",
              " '←',\n",
              " '↑',\n",
              " '→',\n",
              " '↓',\n",
              " '↔',\n",
              " '↘',\n",
              " '↙',\n",
              " '↦',\n",
              " '⇄',\n",
              " '⇌',\n",
              " '⇐',\n",
              " '⇑',\n",
              " '⇒',\n",
              " '⇓',\n",
              " '⇔',\n",
              " '⇕',\n",
              " '⇘',\n",
              " '∀',\n",
              " '∃',\n",
              " '∆',\n",
              " '∈',\n",
              " '∑',\n",
              " '−',\n",
              " '∙',\n",
              " '√',\n",
              " '∞',\n",
              " '∧',\n",
              " '∨',\n",
              " '∩',\n",
              " '∪',\n",
              " '∴',\n",
              " '∼',\n",
              " '≈',\n",
              " '≒',\n",
              " '≠',\n",
              " '≡',\n",
              " '≤',\n",
              " '≥',\n",
              " '≪',\n",
              " '≫',\n",
              " '≲',\n",
              " '⊂',\n",
              " '⊃',\n",
              " '⊆',\n",
              " '⊔',\n",
              " '⊙',\n",
              " '⊢',\n",
              " '⊥',\n",
              " '⊿',\n",
              " '⋅',\n",
              " '⋯',\n",
              " 'Ⓐ',\n",
              " 'Ⓚ',\n",
              " 'Ⓡ',\n",
              " 'ⓒ',\n",
              " '─',\n",
              " '│',\n",
              " '└',\n",
              " '├',\n",
              " '║',\n",
              " '■',\n",
              " '□',\n",
              " '▨',\n",
              " '▩',\n",
              " '▪',\n",
              " '▲',\n",
              " '△',\n",
              " '▵',\n",
              " '▶',\n",
              " '▷',\n",
              " '▼',\n",
              " '◆',\n",
              " '◇',\n",
              " '○',\n",
              " '◌',\n",
              " '◎',\n",
              " '●',\n",
              " '◗',\n",
              " '◯',\n",
              " '★',\n",
              " '☆',\n",
              " '☊',\n",
              " '☐',\n",
              " '☑',\n",
              " '☞',\n",
              " '☧',\n",
              " '♀',\n",
              " '♂',\n",
              " '♡',\n",
              " '♣',\n",
              " '♥',\n",
              " '♦',\n",
              " '♪',\n",
              " '♬',\n",
              " '♭',\n",
              " '♯',\n",
              " '⛎',\n",
              " '✓',\n",
              " '✔',\n",
              " '✿',\n",
              " '❍',\n",
              " '❰',\n",
              " '❱',\n",
              " '➜',\n",
              " '⟨',\n",
              " '⟩',\n",
              " '⟪',\n",
              " '⟫',\n",
              " '⠀',\n",
              " '⦁',\n",
              " '⳩',\n",
              " '⿸',\n",
              " '、',\n",
              " '。',\n",
              " '〃',\n",
              " '〈',\n",
              " '〉',\n",
              " '《',\n",
              " '》',\n",
              " '「',\n",
              " '」',\n",
              " '『',\n",
              " '』',\n",
              " '【',\n",
              " '】',\n",
              " '〔',\n",
              " '〕',\n",
              " '〜',\n",
              " '〮',\n",
              " '〯',\n",
              " '〰',\n",
              " '・',\n",
              " '㈜',\n",
              " '㉠',\n",
              " '㉮',\n",
              " '㉯',\n",
              " '㉰',\n",
              " '㎈',\n",
              " '㎎',\n",
              " '㎏',\n",
              " '㎒',\n",
              " '㎓',\n",
              " '㎖',\n",
              " '㎗',\n",
              " '㎚',\n",
              " '㎛',\n",
              " '㎜',\n",
              " '㎝',\n",
              " '㎞',\n",
              " '㎠',\n",
              " '㎡',\n",
              " '㎢',\n",
              " '㎥',\n",
              " '㎲',\n",
              " '㎾',\n",
              " '㎿',\n",
              " '㏃',\n",
              " '㏈',\n",
              " '㏊',\n",
              " '㏏',\n",
              " 'ꠤ',\n",
              " '\\ue0cd',\n",
              " '\\ue0e6',\n",
              " '\\ue10e',\n",
              " '\\ue11c',\n",
              " '\\ue142',\n",
              " '\\ue1a7',\n",
              " '\\ue1aa',\n",
              " '\\ue1ab',\n",
              " '\\ue1ad',\n",
              " '\\ue1ba',\n",
              " '\\ue1bf',\n",
              " '\\ue1cd',\n",
              " '\\ue1ce',\n",
              " '\\ue1d4',\n",
              " '\\ue264',\n",
              " '\\ue26a',\n",
              " '\\ue27a',\n",
              " '\\ue283',\n",
              " '\\ue284',\n",
              " '\\ue285',\n",
              " '\\ue286',\n",
              " '\\ue288',\n",
              " '\\ue28c',\n",
              " '\\ue290',\n",
              " '\\ue292',\n",
              " '\\ue299',\n",
              " '\\ue2a0',\n",
              " '\\ue31b',\n",
              " '\\ue323',\n",
              " '\\ue335',\n",
              " '\\ue344',\n",
              " '\\ue34d',\n",
              " '\\ue350',\n",
              " '\\ue35f',\n",
              " '\\ue38a',\n",
              " '\\ue38b',\n",
              " '\\ue38d',\n",
              " '\\ue38e',\n",
              " '\\ue38f',\n",
              " '\\ue390',\n",
              " '\\ue393',\n",
              " '\\ue397',\n",
              " '\\ue39e',\n",
              " '\\ue3a4',\n",
              " '\\ue3a8',\n",
              " '\\ue3b0',\n",
              " '\\ue40b',\n",
              " '\\ue419',\n",
              " '\\ue423',\n",
              " '\\ue42c',\n",
              " '\\ue44b',\n",
              " '\\ue45d',\n",
              " '\\ue46c',\n",
              " '\\ue46e',\n",
              " '\\ue470',\n",
              " '\\ue477',\n",
              " '\\ue47e',\n",
              " '\\ue487',\n",
              " '\\ue500',\n",
              " '\\ue514',\n",
              " '\\ue543',\n",
              " '\\ue560',\n",
              " '\\ue563',\n",
              " '\\ue564',\n",
              " '\\ue566',\n",
              " '\\ue567',\n",
              " '\\ue570',\n",
              " '\\ue57b',\n",
              " '\\ue57e',\n",
              " '\\ue580',\n",
              " '\\ue587',\n",
              " '\\ue588',\n",
              " '\\ue5e5',\n",
              " '\\ue5ff',\n",
              " '\\ue60b',\n",
              " '\\ue620',\n",
              " '\\ue640',\n",
              " '\\ue64a',\n",
              " '\\ue64d',\n",
              " '\\ue64f',\n",
              " '\\ue650',\n",
              " '\\ue653',\n",
              " '\\ue65c',\n",
              " '\\ue668',\n",
              " '\\ue669',\n",
              " '\\ue6aa',\n",
              " '\\ue6ac',\n",
              " '\\ue6b0',\n",
              " '\\ue6b5',\n",
              " '\\ue6bc',\n",
              " '\\ue6c7',\n",
              " '\\ue6d2',\n",
              " '\\ue6d7',\n",
              " '\\ue6da',\n",
              " '\\ue6db',\n",
              " '\\ue6e9',\n",
              " '\\ue6f5',\n",
              " '\\ue725',\n",
              " '\\ue73b',\n",
              " '\\ue741',\n",
              " '\\ue74c',\n",
              " '\\ue74f',\n",
              " '\\ue750',\n",
              " '\\ue76b',\n",
              " '\\ue770',\n",
              " '\\ue772',\n",
              " '\\ue774',\n",
              " '\\ue777',\n",
              " '\\ue77c',\n",
              " '\\ue789',\n",
              " '\\ue798',\n",
              " '\\ue79e',\n",
              " '\\ue7af',\n",
              " '\\ue7b9',\n",
              " '\\ue7bb',\n",
              " '\\ue7be',\n",
              " '\\ue7c0',\n",
              " '\\ue7df',\n",
              " '\\ue7e0',\n",
              " '\\ue7eb',\n",
              " '\\ue7ef',\n",
              " '\\ue7f0',\n",
              " '\\ue805',\n",
              " '\\ue81a',\n",
              " '\\ue81f',\n",
              " '\\ue82b',\n",
              " '\\ue847',\n",
              " '\\ue8da',\n",
              " '\\ue8e6',\n",
              " '\\ue904',\n",
              " '\\ue911',\n",
              " '\\ue91c',\n",
              " '\\ue920',\n",
              " '\\ue93a',\n",
              " '\\ue94d',\n",
              " '\\ue95b',\n",
              " '\\ue96d',\n",
              " '\\ue97d',\n",
              " '\\ue97f',\n",
              " '\\ue980',\n",
              " '\\ue982',\n",
              " '\\ue986',\n",
              " '\\ue98b',\n",
              " '\\ue991',\n",
              " '\\ue999',\n",
              " '\\ue99a',\n",
              " '\\ue9a2',\n",
              " '\\ue9a3',\n",
              " '\\ue9a5',\n",
              " '\\ue9a9',\n",
              " '\\ue9bf',\n",
              " '\\ue9cd',\n",
              " '\\ue9d5',\n",
              " '\\ue9d9',\n",
              " '\\ue9e1',\n",
              " '\\ue9fa',\n",
              " '\\uea05',\n",
              " '\\uea09',\n",
              " '\\uea0b',\n",
              " '\\uea2e',\n",
              " '\\uea30',\n",
              " '\\uea35',\n",
              " '\\uea3b',\n",
              " '\\uea45',\n",
              " '\\uea4b',\n",
              " '\\uea4d',\n",
              " '\\uea50',\n",
              " '\\uea52',\n",
              " '\\uea58',\n",
              " '\\uea5c',\n",
              " '\\uea61',\n",
              " '\\uea71',\n",
              " '\\uea8d',\n",
              " '\\ueaab',\n",
              " '\\ueab3',\n",
              " '\\ueab8',\n",
              " '\\uead6',\n",
              " '\\uead9',\n",
              " '\\ueae0',\n",
              " '\\ueae3',\n",
              " '\\ueae7',\n",
              " '\\ueaed',\n",
              " '\\ueaf8',\n",
              " '\\ueafa',\n",
              " '\\ueafc',\n",
              " '\\ueafe',\n",
              " '\\ueb27',\n",
              " '\\ueb4c',\n",
              " '\\ueb5e',\n",
              " '\\ueb66',\n",
              " '\\ueb68',\n",
              " '\\ueb6a',\n",
              " '\\ueb78',\n",
              " '\\ueb7b',\n",
              " '\\ueb8e',\n",
              " '\\ueb91',\n",
              " '\\uebd4',\n",
              " '\\uebd6',\n",
              " '\\uebe1',\n",
              " '\\uec02',\n",
              " '\\uec17',\n",
              " '\\uecf0',\n",
              " '\\uecf5',\n",
              " '\\ued01',\n",
              " '\\ued0c',\n",
              " '\\ued1c',\n",
              " '\\ued46',\n",
              " '\\ued6e',\n",
              " '\\ued8f',\n",
              " '\\ued93',\n",
              " '\\ued98',\n",
              " '\\ued9a',\n",
              " '\\uedc5',\n",
              " '\\uedf8',\n",
              " '\\uee0d',\n",
              " '\\uee19',\n",
              " '\\uee20',\n",
              " '\\uee32',\n",
              " '\\uee6b',\n",
              " '\\uee88',\n",
              " '\\uee8a',\n",
              " '\\uee8c',\n",
              " '\\uee90',\n",
              " '\\uee93',\n",
              " '\\uee95',\n",
              " '\\ueea4',\n",
              " '\\ueea5',\n",
              " '\\ueeaa',\n",
              " '\\uf000',\n",
              " '\\uf09e',\n",
              " '\\uf0a7',\n",
              " '\\uf16e',\n",
              " '\\uf17a',\n",
              " '\\uf199',\n",
              " '\\uf1a4',\n",
              " '\\uf1ac',\n",
              " '\\uf1d6',\n",
              " '\\uf1e2',\n",
              " '\\uf1f2',\n",
              " '\\uf1fc',\n",
              " '\\uf1fd',\n",
              " '\\uf1fe',\n",
              " '\\uf200',\n",
              " '\\uf204',\n",
              " '\\uf207',\n",
              " '\\uf209',\n",
              " '\\uf212',\n",
              " '\\uf219',\n",
              " '\\uf21b',\n",
              " '\\uf22e',\n",
              " '\\uf2e2',\n",
              " '\\uf2f5',\n",
              " '\\uf2fe',\n",
              " '\\uf325',\n",
              " '\\uf32e',\n",
              " '\\uf337',\n",
              " '\\uf341',\n",
              " '\\uf343',\n",
              " '\\uf345',\n",
              " '\\uf346',\n",
              " '\\uf34b',\n",
              " '\\uf34e',\n",
              " '\\uf353',\n",
              " '\\uf354',\n",
              " '\\uf3ea',\n",
              " '\\uf3ed',\n",
              " '\\uf3f3',\n",
              " '\\uf402',\n",
              " '\\uf414',\n",
              " '\\uf42a',\n",
              " '\\uf43c',\n",
              " '\\uf43d',\n",
              " '\\uf43e',\n",
              " '\\uf440',\n",
              " '\\uf443',\n",
              " '\\uf445',\n",
              " '\\uf448',\n",
              " '\\uf469',\n",
              " '\\uf475',\n",
              " '\\uf48e',\n",
              " '\\uf490',\n",
              " '\\uf492',\n",
              " '\\uf4a0',\n",
              " '\\uf4b6',\n",
              " '\\uf4bf',\n",
              " '\\uf4cf',\n",
              " '\\uf4d9',\n",
              " '\\uf4dc',\n",
              " '\\uf506',\n",
              " '\\uf51b',\n",
              " '\\uf537',\n",
              " '\\uf538',\n",
              " '\\uf53a',\n",
              " '\\uf53c',\n",
              " '\\uf53d',\n",
              " '\\uf545',\n",
              " '\\uf550',\n",
              " '\\uf552',\n",
              " '\\uf553',\n",
              " '\\uf554',\n",
              " '\\uf55a',\n",
              " '\\uf55b',\n",
              " '\\uf55c',\n",
              " '！',\n",
              " '＂',\n",
              " '＄',\n",
              " '％',\n",
              " '＆',\n",
              " '＇',\n",
              " '（',\n",
              " '）',\n",
              " '＊',\n",
              " '＋',\n",
              " '，',\n",
              " '－',\n",
              " '．',\n",
              " '／',\n",
              " '：',\n",
              " '；',\n",
              " '＜',\n",
              " '＝',\n",
              " '＞',\n",
              " '？',\n",
              " '［',\n",
              " '＼',\n",
              " '］',\n",
              " '｜',\n",
              " '～',\n",
              " '｢',\n",
              " '｣',\n",
              " '･',\n",
              " '￢',\n",
              " '￼',\n",
              " '�',\n",
              " '🄓',\n",
              " '🐎',\n",
              " '🔰',\n",
              " '\\U000f0811',\n",
              " '\\U000f0813',\n",
              " '\\U000f0818',\n",
              " '\\U000f081a',\n",
              " '\\U000f0848',\n",
              " '\\U000f0850',\n",
              " '\\U000f0851',\n",
              " '\\U000f0852',\n",
              " '\\U000f0853',\n",
              " '\\U000f0854',\n",
              " '\\U000f0855',\n",
              " '\\U00103911'}"
            ]
          },
          "execution_count": 27,
          "metadata": {},
          "output_type": "execute_result"
        }
      ],
      "source": [
        "set(special_char)"
      ]
    },
    {
      "attachments": {},
      "cell_type": "markdown",
      "id": "d08d55d7",
      "metadata": {
        "id": "d08d55d7"
      },
      "source": [
        "### 외국어"
      ]
    },
    {
      "cell_type": "code",
      "execution_count": 28,
      "id": "3524a7cf",
      "metadata": {
        "ExecuteTime": {
          "end_time": "2023-06-07T20:47:53.330622Z",
          "start_time": "2023-06-07T20:47:43.138116Z"
        },
        "id": "3524a7cf"
      },
      "outputs": [],
      "source": [
        "foreign=''.join(wiki['text'].apply(lambda x: re.sub(r'[A-Za-z가-힣ㄱ-ㅎㅏ-ㅣ0-9]','',re.sub(r'[^\\w]','',x))).values)"
      ]
    },
    {
      "cell_type": "code",
      "execution_count": 29,
      "id": "58981d9a",
      "metadata": {
        "ExecuteTime": {
          "end_time": "2023-06-07T20:47:53.448381Z",
          "start_time": "2023-06-07T20:47:53.337768Z"
        },
        "colab": {
          "base_uri": "https://localhost:8080/"
        },
        "id": "58981d9a",
        "outputId": "f623d0fa-fe0b-447e-f218-ef514bfee7f9"
      },
      "outputs": [
        {
          "data": {
            "text/plain": [
              "{'淵',\n",
              " '瑟',\n",
              " '吻',\n",
              " '澧',\n",
              " '舐',\n",
              " '別',\n",
              " 'ཁ',\n",
              " '貝',\n",
              " '倆',\n",
              " '娠',\n",
              " '禑',\n",
              " 'พ',\n",
              " '孺',\n",
              " '同',\n",
              " 'ᄴ',\n",
              " 'Т',\n",
              " '閘',\n",
              " '守',\n",
              " '鍮',\n",
              " '⑨',\n",
              " '圉',\n",
              " '綦',\n",
              " '猪',\n",
              " 'ᅊ',\n",
              " '罰',\n",
              " '繫',\n",
              " '蜜',\n",
              " '霞',\n",
              " '家',\n",
              " '语',\n",
              " 'ぉ',\n",
              " '增',\n",
              " '釂',\n",
              " '動',\n",
              " '稙',\n",
              " 'Я',\n",
              " '戛',\n",
              " '迓',\n",
              " '圓',\n",
              " '猟',\n",
              " '豚',\n",
              " '控',\n",
              " '殖',\n",
              " '沐',\n",
              " '諺',\n",
              " '变',\n",
              " '蝶',\n",
              " '箋',\n",
              " '苻',\n",
              " '沖',\n",
              " '瓘',\n",
              " '況',\n",
              " '仞',\n",
              " '昻',\n",
              " '煉',\n",
              " 'ힼ',\n",
              " '穴',\n",
              " '暿',\n",
              " 'ප',\n",
              " '默',\n",
              " '昔',\n",
              " '静',\n",
              " 'т',\n",
              " '諭',\n",
              " '琤',\n",
              " '焼',\n",
              " '摺',\n",
              " 'ퟌ',\n",
              " '老',\n",
              " '矿',\n",
              " '鈑',\n",
              " '融',\n",
              " 'ᆊ',\n",
              " '㫜',\n",
              " '死',\n",
              " '採',\n",
              " '椅',\n",
              " '狎',\n",
              " '疎',\n",
              " '筮',\n",
              " '粉',\n",
              " 'ᇸ',\n",
              " '面',\n",
              " 'ɡ',\n",
              " '枪',\n",
              " '寒',\n",
              " '履',\n",
              " '琪',\n",
              " '漑',\n",
              " '間',\n",
              " '紙',\n",
              " 'ᠢ',\n",
              " '皋',\n",
              " '癖',\n",
              " 'ᠡ',\n",
              " 'Ё',\n",
              " '辦',\n",
              " '友',\n",
              " '鉅',\n",
              " '張',\n",
              " 'ḷ',\n",
              " '澶',\n",
              " 'ɖ',\n",
              " 'ي',\n",
              " '駕',\n",
              " '埵',\n",
              " '豪',\n",
              " '萠',\n",
              " '跪',\n",
              " '滷',\n",
              " '連',\n",
              " 'ㆁ',\n",
              " '蘗',\n",
              " '進',\n",
              " '依',\n",
              " '儳',\n",
              " '躩',\n",
              " 'ꥨ',\n",
              " 'ἰ',\n",
              " '互',\n",
              " '筑',\n",
              " 'Ե',\n",
              " '妬',\n",
              " '琳',\n",
              " '荖',\n",
              " 'ꥡ',\n",
              " '肃',\n",
              " '篠',\n",
              " '曌',\n",
              " '携',\n",
              " '壑',\n",
              " '廄',\n",
              " 'ŵ',\n",
              " '鞠',\n",
              " 'ꥪ',\n",
              " '疇',\n",
              " '闸',\n",
              " '郴',\n",
              " '究',\n",
              " '漸',\n",
              " '隙',\n",
              " '寬',\n",
              " '堡',\n",
              " '徒',\n",
              " '惠',\n",
              " '賈',\n",
              " '躅',\n",
              " 'η',\n",
              " '膚',\n",
              " '擦',\n",
              " '沛',\n",
              " '瓠',\n",
              " '畇',\n",
              " 'Ἵ',\n",
              " '床',\n",
              " '付',\n",
              " '绕',\n",
              " '醸',\n",
              " 'И',\n",
              " '肪',\n",
              " 'ඩ',\n",
              " '𐀀',\n",
              " '畠',\n",
              " '甿',\n",
              " '螳',\n",
              " '復',\n",
              " '虛',\n",
              " '葯',\n",
              " '赇',\n",
              " '胞',\n",
              " '筍',\n",
              " 'ḛ',\n",
              " '鵤',\n",
              " 'ﾌ',\n",
              " '楯',\n",
              " '壬',\n",
              " '鑿',\n",
              " '榰',\n",
              " '鴨',\n",
              " 'く',\n",
              " '兆',\n",
              " '陣',\n",
              " '項',\n",
              " '挹',\n",
              " '薾',\n",
              " '運',\n",
              " '嚔',\n",
              " '苦',\n",
              " 'ç',\n",
              " '式',\n",
              " '_',\n",
              " '毒',\n",
              " '膀',\n",
              " '裟',\n",
              " '砧',\n",
              " 'প',\n",
              " '寫',\n",
              " '僅',\n",
              " '翟',\n",
              " '玅',\n",
              " '络',\n",
              " '歐',\n",
              " '距',\n",
              " '奩',\n",
              " '奪',\n",
              " '曆',\n",
              " '聶',\n",
              " '爨',\n",
              " 'Ⅳ',\n",
              " 'Ã',\n",
              " '咕',\n",
              " '晝',\n",
              " '朐',\n",
              " '聖',\n",
              " '癎',\n",
              " '以',\n",
              " '擅',\n",
              " 'ර',\n",
              " '⅔',\n",
              " '剣',\n",
              " 'թ',\n",
              " 'ꥣ',\n",
              " '揉',\n",
              " '勀',\n",
              " '柏',\n",
              " '駆',\n",
              " '乫',\n",
              " '妊',\n",
              " '珚',\n",
              " 'ї',\n",
              " '鏞',\n",
              " '播',\n",
              " '焦',\n",
              " '搋',\n",
              " '⑲',\n",
              " '姜',\n",
              " '狮',\n",
              " '泌',\n",
              " '鉞',\n",
              " '菉',\n",
              " '牝',\n",
              " '訳',\n",
              " '亢',\n",
              " 'ተ',\n",
              " '廃',\n",
              " 'ղ',\n",
              " '廻',\n",
              " '諦',\n",
              " '群',\n",
              " '蚣',\n",
              " '硬',\n",
              " '园',\n",
              " '檼',\n",
              " '脾',\n",
              " '８',\n",
              " 'အ',\n",
              " '城',\n",
              " '鑼',\n",
              " '濾',\n",
              " 'Ք',\n",
              " '攢',\n",
              " '袞',\n",
              " '逓',\n",
              " '䄉',\n",
              " 'ず',\n",
              " '陸',\n",
              " '様',\n",
              " '鞭',\n",
              " 'ڙ',\n",
              " 'ێ',\n",
              " '棉',\n",
              " '牀',\n",
              " 'Ṭ',\n",
              " '涌',\n",
              " '噵',\n",
              " 'ە',\n",
              " '乐',\n",
              " '鄉',\n",
              " '錘',\n",
              " 'ያ',\n",
              " 'வ',\n",
              " '㣖',\n",
              " '髡',\n",
              " '俔',\n",
              " '骻',\n",
              " '聯',\n",
              " '惓',\n",
              " '讒',\n",
              " '侃',\n",
              " '瞳',\n",
              " '驊',\n",
              " 'ᅃ',\n",
              " '晸',\n",
              " '觉',\n",
              " 'ღ',\n",
              " '誼',\n",
              " '鞶',\n",
              " '匯',\n",
              " '負',\n",
              " '貌',\n",
              " '爻',\n",
              " 'å',\n",
              " '噌',\n",
              " 'ퟁ',\n",
              " 'ฟ',\n",
              " '逾',\n",
              " 'ယ',\n",
              " '葅',\n",
              " '乖',\n",
              " '謖',\n",
              " '東',\n",
              " '凜',\n",
              " '麯',\n",
              " '刈',\n",
              " '澪',\n",
              " '縣',\n",
              " '劒',\n",
              " '叩',\n",
              " 'ሕ',\n",
              " '瑜',\n",
              " '空',\n",
              " '汉',\n",
              " '睹',\n",
              " '租',\n",
              " '牟',\n",
              " 'သ',\n",
              " '嚼',\n",
              " '绝',\n",
              " 'ន',\n",
              " '烿',\n",
              " 'ද',\n",
              " '豁',\n",
              " '嬃',\n",
              " '飫',\n",
              " '圏',\n",
              " 'ὺ',\n",
              " '冄',\n",
              " 'ᆪ',\n",
              " 'ण',\n",
              " 'Ⅷ',\n",
              " '橄',\n",
              " '炎',\n",
              " '砮',\n",
              " '詮',\n",
              " '薬',\n",
              " '俵',\n",
              " '晟',\n",
              " '曖',\n",
              " '伐',\n",
              " '管',\n",
              " '謎',\n",
              " '绿',\n",
              " '计',\n",
              " '腳',\n",
              " '億',\n",
              " '呉',\n",
              " '備',\n",
              " '贤',\n",
              " '止',\n",
              " '裳',\n",
              " '宵',\n",
              " '餙',\n",
              " '驤',\n",
              " '媚',\n",
              " '鎭',\n",
              " '檮',\n",
              " '肸',\n",
              " '琦',\n",
              " 'ᇶ',\n",
              " 'ᠶ',\n",
              " '稹',\n",
              " 'ਲ',\n",
              " '胖',\n",
              " '企',\n",
              " '搢',\n",
              " '樞',\n",
              " '皓',\n",
              " 'サ',\n",
              " '渚',\n",
              " '蛻',\n",
              " '獎',\n",
              " '粦',\n",
              " '寨',\n",
              " 'ï',\n",
              " 'ᇑ',\n",
              " '鈸',\n",
              " '能',\n",
              " '簞',\n",
              " 'ܩ',\n",
              " 'ힷ',\n",
              " '墵',\n",
              " '纖',\n",
              " '货',\n",
              " '昆',\n",
              " '濯',\n",
              " 'ꥢ',\n",
              " '梧',\n",
              " '袳',\n",
              " '吽',\n",
              " 'ฤ',\n",
              " '猇',\n",
              " '麚',\n",
              " '謳',\n",
              " '侵',\n",
              " '结',\n",
              " '堪',\n",
              " '足',\n",
              " 'घ',\n",
              " '簋',\n",
              " '穩',\n",
              " '澬',\n",
              " '芒',\n",
              " '訓',\n",
              " '袈',\n",
              " '徂',\n",
              " '賀',\n",
              " '𐀡',\n",
              " '紐',\n",
              " '扑',\n",
              " '碓',\n",
              " '僞',\n",
              " '硫',\n",
              " '恮',\n",
              " '圈',\n",
              " '姚',\n",
              " '沉',\n",
              " '乍',\n",
              " '曔',\n",
              " '隼',\n",
              " '範',\n",
              " '帯',\n",
              " 'ᅍ',\n",
              " '賁',\n",
              " '喩',\n",
              " '浅',\n",
              " 'आ',\n",
              " '蠓',\n",
              " '甛',\n",
              " '鬢',\n",
              " '價',\n",
              " 'А',\n",
              " '蚕',\n",
              " 'ም',\n",
              " '離',\n",
              " '嬿',\n",
              " '榕',\n",
              " '淑',\n",
              " '㫾',\n",
              " 'ᅂ',\n",
              " '理',\n",
              " 'ⅱ',\n",
              " 'ᇬ',\n",
              " '俠',\n",
              " '氈',\n",
              " '猾',\n",
              " 'ع',\n",
              " '雲',\n",
              " '盍',\n",
              " '枯',\n",
              " '實',\n",
              " '菊',\n",
              " '刖',\n",
              " '竩',\n",
              " '猝',\n",
              " '邨',\n",
              " '疫',\n",
              " 'Ζ',\n",
              " '弼',\n",
              " '沆',\n",
              " 'ळ',\n",
              " '坰',\n",
              " '犁',\n",
              " 'ኢ',\n",
              " 'Ἠ',\n",
              " '淪',\n",
              " '歯',\n",
              " 'ѣ',\n",
              " '鬘',\n",
              " '貰',\n",
              " '②',\n",
              " '植',\n",
              " '㵧',\n",
              " '胚',\n",
              " '潢',\n",
              " '晅',\n",
              " '朱',\n",
              " '多',\n",
              " '虱',\n",
              " '菠',\n",
              " 'ힺ',\n",
              " '徐',\n",
              " '諳',\n",
              " '槊',\n",
              " '纽',\n",
              " '巨',\n",
              " '秃',\n",
              " '除',\n",
              " '滯',\n",
              " '嫩',\n",
              " '烤',\n",
              " '昰',\n",
              " 'ឃ',\n",
              " 'ކ',\n",
              " '米',\n",
              " '湢',\n",
              " '紞',\n",
              " 'ℝ',\n",
              " '惤',\n",
              " '筏',\n",
              " '馹',\n",
              " '偸',\n",
              " '固',\n",
              " '承',\n",
              " 'Ƣ',\n",
              " '鋸',\n",
              " '蚊',\n",
              " '拠',\n",
              " '夔',\n",
              " 'ฮ',\n",
              " '芪',\n",
              " '転',\n",
              " '與',\n",
              " '情',\n",
              " '祕',\n",
              " '観',\n",
              " '熿',\n",
              " '瑊',\n",
              " '邾',\n",
              " 'ᆦ',\n",
              " '璘',\n",
              " '蚤',\n",
              " '煙',\n",
              " '曉',\n",
              " 'ᇢ',\n",
              " '欣',\n",
              " '亟',\n",
              " '卽',\n",
              " '侯',\n",
              " '۱',\n",
              " '缶',\n",
              " '柁',\n",
              " '躑',\n",
              " '喝',\n",
              " 'Ⅺ',\n",
              " 'ퟷ',\n",
              " '仄',\n",
              " '寻',\n",
              " '杬',\n",
              " '筭',\n",
              " '侗',\n",
              " 'շ',\n",
              " '鞍',\n",
              " '瓜',\n",
              " '澠',\n",
              " 'Ứ',\n",
              " '腹',\n",
              " '熹',\n",
              " '郡',\n",
              " '留',\n",
              " '濶',\n",
              " '鮟',\n",
              " '幽',\n",
              " '渷',\n",
              " '騶',\n",
              " '尤',\n",
              " '巖',\n",
              " '撰',\n",
              " 'Ρ',\n",
              " '鳯',\n",
              " '裨',\n",
              " '邵',\n",
              " '浚',\n",
              " 'ꥵ',\n",
              " '虜',\n",
              " '穡',\n",
              " '隕',\n",
              " '椎',\n",
              " 'ᅶ',\n",
              " '邓',\n",
              " '絿',\n",
              " '薦',\n",
              " '憂',\n",
              " '繞',\n",
              " '瑾',\n",
              " '残',\n",
              " '懼',\n",
              " '禰',\n",
              " '鶻',\n",
              " '兑',\n",
              " '舖',\n",
              " '埜',\n",
              " 'ό',\n",
              " '窄',\n",
              " '嵯',\n",
              " '揖',\n",
              " '愈',\n",
              " '别',\n",
              " '路',\n",
              " '梅',\n",
              " 'ӽ',\n",
              " '㶏',\n",
              " 'ต',\n",
              " '岳',\n",
              " '螯',\n",
              " '臑',\n",
              " '巌',\n",
              " 'У',\n",
              " '往',\n",
              " '詝',\n",
              " '壷',\n",
              " '琮',\n",
              " '屯',\n",
              " '阮',\n",
              " '儼',\n",
              " '彪',\n",
              " '廋',\n",
              " 'ퟀ',\n",
              " '芚',\n",
              " '焰',\n",
              " '殲',\n",
              " '飄',\n",
              " 'ᄍ',\n",
              " 'ᆓ',\n",
              " '又',\n",
              " '俄',\n",
              " '酬',\n",
              " '栱',\n",
              " '噍',\n",
              " '骘',\n",
              " '出',\n",
              " '掉',\n",
              " 'ձ',\n",
              " '尹',\n",
              " 'ퟍ',\n",
              " '抛',\n",
              " '棍',\n",
              " '烏',\n",
              " '鸞',\n",
              " '貼',\n",
              " 'ᅘ',\n",
              " '沽',\n",
              " '逞',\n",
              " 'ᇳ',\n",
              " '擇',\n",
              " '慠',\n",
              " '毋',\n",
              " '幢',\n",
              " '絲',\n",
              " '背',\n",
              " '繻',\n",
              " '区',\n",
              " 'न',\n",
              " '簗',\n",
              " '蔡',\n",
              " '計',\n",
              " 'ற',\n",
              " '慢',\n",
              " '辛',\n",
              " '逍',\n",
              " 'ñ',\n",
              " '嬢',\n",
              " 'ˀ',\n",
              " '蠋',\n",
              " '龜',\n",
              " '裁',\n",
              " '答',\n",
              " '委',\n",
              " '裘',\n",
              " '鐸',\n",
              " '聘',\n",
              " '孰',\n",
              " '菱',\n",
              " '輅',\n",
              " '猿',\n",
              " '偦',\n",
              " '獵',\n",
              " '廈',\n",
              " '誘',\n",
              " 'ű',\n",
              " '曽',\n",
              " '仇',\n",
              " '蠅',\n",
              " '繆',\n",
              " '長',\n",
              " '韠',\n",
              " '吧',\n",
              " 'ꥤ',\n",
              " '輗',\n",
              " '动',\n",
              " '郇',\n",
              " '卒',\n",
              " 'ퟄ',\n",
              " '皖',\n",
              " '吝',\n",
              " '梵',\n",
              " 'ᇝ',\n",
              " '賠',\n",
              " '囊',\n",
              " '馨',\n",
              " '鍒',\n",
              " '𐠩',\n",
              " '湛',\n",
              " '璠',\n",
              " '他',\n",
              " '肫',\n",
              " 'ᇮ',\n",
              " '狩',\n",
              " 'ힻ',\n",
              " 'ᆬ',\n",
              " 'ペ',\n",
              " 'ը',\n",
              " '柰',\n",
              " 'ṇ',\n",
              " 'コ',\n",
              " '亀',\n",
              " '湌',\n",
              " '諉',\n",
              " 'ᆙ',\n",
              " '引',\n",
              " 'ᆾ',\n",
              " '横',\n",
              " '瓆',\n",
              " '黨',\n",
              " '虞',\n",
              " '身',\n",
              " 'ፍ',\n",
              " '剡',\n",
              " 'ர',\n",
              " '顺',\n",
              " '服',\n",
              " '竄',\n",
              " '徼',\n",
              " 'Ꟃ',\n",
              " '拷',\n",
              " '淡',\n",
              " '醤',\n",
              " '簡',\n",
              " '牌',\n",
              " '擺',\n",
              " '凉',\n",
              " 'ꡕ',\n",
              " '史',\n",
              " '篆',\n",
              " '棐',\n",
              " '长',\n",
              " '禫',\n",
              " '鞅',\n",
              " '籌',\n",
              " '額',\n",
              " 'ẫ',\n",
              " 'ກ',\n",
              " '冥',\n",
              " '剩',\n",
              " 'Δ',\n",
              " '垰',\n",
              " '北',\n",
              " 'ɲ',\n",
              " '羣',\n",
              " '瀬',\n",
              " '粟',\n",
              " '膩',\n",
              " '祠',\n",
              " 'ᅫ',\n",
              " '稚',\n",
              " '杢',\n",
              " '偉',\n",
              " '姦',\n",
              " 'Ｔ',\n",
              " '倀',\n",
              " '𐀟',\n",
              " '赛',\n",
              " '刲',\n",
              " '狂',\n",
              " '汚',\n",
              " 'ⅲ',\n",
              " 'द',\n",
              " '岭',\n",
              " 'ʀ',\n",
              " '病',\n",
              " '櫃',\n",
              " '梳',\n",
              " '盾',\n",
              " 'ょ',\n",
              " 'ц',\n",
              " '鈔',\n",
              " '構',\n",
              " '閏',\n",
              " '朮',\n",
              " '獨',\n",
              " '𩖃',\n",
              " '蟆',\n",
              " 'ケ',\n",
              " '兰',\n",
              " '年',\n",
              " '熳',\n",
              " '鉃',\n",
              " '蛍',\n",
              " 'ழ',\n",
              " 'ᠤ',\n",
              " '值',\n",
              " 'ぬ',\n",
              " '睫',\n",
              " '潝',\n",
              " '郎',\n",
              " '遶',\n",
              " '𐀗',\n",
              " '輓',\n",
              " '糺',\n",
              " '凤',\n",
              " 'म',\n",
              " 'プ',\n",
              " 'ũ',\n",
              " '惴',\n",
              " '汾',\n",
              " '熏',\n",
              " 'খ',\n",
              " '織',\n",
              " '赭',\n",
              " 'ມ',\n",
              " 'ᆨ',\n",
              " 'ᄞ',\n",
              " '漣',\n",
              " '勘',\n",
              " '韋',\n",
              " '重',\n",
              " '艘',\n",
              " '給',\n",
              " '饶',\n",
              " '𐀊',\n",
              " '扶',\n",
              " '麋',\n",
              " 'È',\n",
              " '晤',\n",
              " '梣',\n",
              " '柚',\n",
              " '奴',\n",
              " 'Ž',\n",
              " 'Í',\n",
              " '玲',\n",
              " '尚',\n",
              " '号',\n",
              " '兼',\n",
              " 'ध',\n",
              " '唖',\n",
              " 'ច',\n",
              " '決',\n",
              " '瑗',\n",
              " '籩',\n",
              " '涪',\n",
              " 'ȴ',\n",
              " '顎',\n",
              " '禾',\n",
              " '瘳',\n",
              " '択',\n",
              " '導',\n",
              " '過',\n",
              " 'ᄗ',\n",
              " 'û',\n",
              " '強',\n",
              " '滙',\n",
              " '𐠰',\n",
              " '柴',\n",
              " '燃',\n",
              " '司',\n",
              " '旨',\n",
              " '閃',\n",
              " '媳',\n",
              " '俀',\n",
              " '蔺',\n",
              " '紵',\n",
              " 'Ő',\n",
              " '濟',\n",
              " '懐',\n",
              " '緘',\n",
              " '衍',\n",
              " '竴',\n",
              " 'Î',\n",
              " '絇',\n",
              " '嗄',\n",
              " 'ヘ',\n",
              " '細',\n",
              " '根',\n",
              " '弊',\n",
              " '龚',\n",
              " 'ວ',\n",
              " '令',\n",
              " '墺',\n",
              " 'ת',\n",
              " '舌',\n",
              " 'ᇥ',\n",
              " 'ふ',\n",
              " '俸',\n",
              " '銳',\n",
              " 'ও',\n",
              " '頙',\n",
              " '徴',\n",
              " '驅',\n",
              " '淤',\n",
              " '判',\n",
              " '跡',\n",
              " '员',\n",
              " '埴',\n",
              " '帷',\n",
              " '劬',\n",
              " '臺',\n",
              " 'ᄂ',\n",
              " '錐',\n",
              " '妒',\n",
              " '۹',\n",
              " 'ᆆ',\n",
              " '視',\n",
              " '殱',\n",
              " '喪',\n",
              " 'ힵ',\n",
              " '溥',\n",
              " 'Ż',\n",
              " '弖',\n",
              " 'ஜ',\n",
              " '菩',\n",
              " '脫',\n",
              " '敬',\n",
              " '珞',\n",
              " '賄',\n",
              " 'せ',\n",
              " '襄',\n",
              " '僧',\n",
              " 'ퟤ',\n",
              " '優',\n",
              " 'ᅳ',\n",
              " '赦',\n",
              " '怯',\n",
              " '葬',\n",
              " '泼',\n",
              " '炬',\n",
              " '濰',\n",
              " '岔',\n",
              " '灝',\n",
              " '誥',\n",
              " '拏',\n",
              " '攻',\n",
              " '辭',\n",
              " '嫁',\n",
              " '敕',\n",
              " '搥',\n",
              " '普',\n",
              " '熤',\n",
              " '熈',\n",
              " 'ꥴ',\n",
              " '毕',\n",
              " '即',\n",
              " '卉',\n",
              " '鉝',\n",
              " 'ブ',\n",
              " '遞',\n",
              " 'ᄀ',\n",
              " '菑',\n",
              " '門',\n",
              " '訃',\n",
              " '覲',\n",
              " '綿',\n",
              " '蓬',\n",
              " '而',\n",
              " 'ہ',\n",
              " 'シ',\n",
              " '鶉',\n",
              " '券',\n",
              " '藺',\n",
              " '逡',\n",
              " '楛',\n",
              " 'ơ',\n",
              " '襟',\n",
              " '妻',\n",
              " 'ổ',\n",
              " '鬱',\n",
              " '嗇',\n",
              " '夾',\n",
              " '吠',\n",
              " '翛',\n",
              " 'ꥥ',\n",
              " '昌',\n",
              " '亦',\n",
              " '临',\n",
              " '矜',\n",
              " '湫',\n",
              " '秆',\n",
              " '果',\n",
              " '琵',\n",
              " '綫',\n",
              " '僖',\n",
              " '曲',\n",
              " '襈',\n",
              " '簣',\n",
              " '翻',\n",
              " '簀',\n",
              " '黟',\n",
              " '緝',\n",
              " 'で',\n",
              " '稍',\n",
              " '隨',\n",
              " '獤',\n",
              " ...}"
            ]
          },
          "execution_count": 29,
          "metadata": {},
          "output_type": "execute_result"
        }
      ],
      "source": [
        "set(foreign)"
      ]
    },
    {
      "attachments": {},
      "cell_type": "markdown",
      "id": "3e0bdfd1",
      "metadata": {
        "id": "3e0bdfd1"
      },
      "source": [
        "### 자음, 모음"
      ]
    },
    {
      "cell_type": "code",
      "execution_count": 30,
      "id": "1d5c38d8",
      "metadata": {
        "ExecuteTime": {
          "end_time": "2023-06-07T20:47:54.852882Z",
          "start_time": "2023-06-07T20:47:53.448630Z"
        },
        "id": "1d5c38d8"
      },
      "outputs": [],
      "source": [
        "wiki['one_word']=wiki['text'].apply(lambda x: (re.findall(r'[ㄱ-ㅎㅏ-ㅣ]',x)))\n",
        "L=[]\n",
        "for i in range(len(wiki)):\n",
        "    L.extend(wiki.loc[i,'one_word'])"
      ]
    },
    {
      "cell_type": "code",
      "execution_count": 31,
      "id": "43e0aec3",
      "metadata": {
        "ExecuteTime": {
          "end_time": "2023-06-07T20:47:54.871780Z",
          "start_time": "2023-06-07T20:47:54.854964Z"
        },
        "colab": {
          "base_uri": "https://localhost:8080/"
        },
        "id": "43e0aec3",
        "outputId": "3936d18c-b2af-42bc-d077-a54244d877d3"
      },
      "outputs": [
        {
          "data": {
            "text/plain": [
              "1725"
            ]
          },
          "execution_count": 31,
          "metadata": {},
          "output_type": "execute_result"
        }
      ],
      "source": [
        "len(L)"
      ]
    },
    {
      "cell_type": "code",
      "execution_count": 32,
      "id": "88408954",
      "metadata": {
        "ExecuteTime": {
          "end_time": "2023-06-07T20:47:54.889049Z",
          "start_time": "2023-06-07T20:47:54.874782Z"
        },
        "colab": {
          "base_uri": "https://localhost:8080/"
        },
        "id": "88408954",
        "outputId": "55826ac5-8a7f-4312-9bd9-2cfc6aeb0e63"
      },
      "outputs": [
        {
          "data": {
            "text/plain": [
              "{'ㄱ',\n",
              " 'ㄲ',\n",
              " 'ㄳ',\n",
              " 'ㄴ',\n",
              " 'ㄵ',\n",
              " 'ㄶ',\n",
              " 'ㄷ',\n",
              " 'ㄸ',\n",
              " 'ㄹ',\n",
              " 'ㄺ',\n",
              " 'ㄻ',\n",
              " 'ㄼ',\n",
              " 'ㄽ',\n",
              " 'ㄾ',\n",
              " 'ㄿ',\n",
              " 'ㅀ',\n",
              " 'ㅁ',\n",
              " 'ㅂ',\n",
              " 'ㅃ',\n",
              " 'ㅄ',\n",
              " 'ㅅ',\n",
              " 'ㅆ',\n",
              " 'ㅇ',\n",
              " 'ㅈ',\n",
              " 'ㅉ',\n",
              " 'ㅊ',\n",
              " 'ㅋ',\n",
              " 'ㅌ',\n",
              " 'ㅍ',\n",
              " 'ㅎ',\n",
              " 'ㅏ',\n",
              " 'ㅐ',\n",
              " 'ㅑ',\n",
              " 'ㅒ',\n",
              " 'ㅓ',\n",
              " 'ㅔ',\n",
              " 'ㅕ',\n",
              " 'ㅖ',\n",
              " 'ㅗ',\n",
              " 'ㅘ',\n",
              " 'ㅙ',\n",
              " 'ㅚ',\n",
              " 'ㅛ',\n",
              " 'ㅜ',\n",
              " 'ㅝ',\n",
              " 'ㅞ',\n",
              " 'ㅟ',\n",
              " 'ㅠ',\n",
              " 'ㅡ',\n",
              " 'ㅢ',\n",
              " 'ㅣ'}"
            ]
          },
          "execution_count": 32,
          "metadata": {},
          "output_type": "execute_result"
        }
      ],
      "source": [
        "set(L)"
      ]
    },
    {
      "attachments": {},
      "cell_type": "markdown",
      "id": "11a69931",
      "metadata": {
        "id": "11a69931"
      },
      "source": [
        "# train/valid"
      ]
    },
    {
      "cell_type": "code",
      "execution_count": 33,
      "id": "c014bc26",
      "metadata": {
        "ExecuteTime": {
          "end_time": "2023-06-07T21:24:50.067530Z",
          "start_time": "2023-06-07T21:24:50.052876Z"
        },
        "colab": {
          "base_uri": "https://localhost:8080/"
        },
        "id": "c014bc26",
        "outputId": "20949ba8-9dcd-4019-c5f6-1620801b8d0b"
      },
      "outputs": [],
      "source": [
        "#pip install datasets==2.12.0"
      ]
    },
    {
      "cell_type": "code",
      "execution_count": 34,
      "id": "Gos8KRXE2nXu",
      "metadata": {
        "id": "Gos8KRXE2nXu"
      },
      "outputs": [],
      "source": [
        "# train_dataset을 불러오고 싶은 경우\n",
        "from datasets import load_from_disk\n",
        "train_dataset = load_from_disk(\"../input/data/train_dataset/\")"
      ]
    },
    {
      "attachments": {},
      "cell_type": "markdown",
      "id": "be121774",
      "metadata": {
        "id": "be121774"
      },
      "source": [
        "- id: 질문의 고유 id\n",
        "- question: 질문\n",
        "- answers: 답변에 대한 정보. 하나의 질문에 하나의 답변만 존재함\n",
        "    - answer_start : 답변의 시작 위치\n",
        "    - text: 답변의 텍스트\n",
        "- context: 답변이 포함된 문서\n",
        "- title: 문서의 제목\n",
        "- document_id: 문서의 고유 id"
      ]
    },
    {
      "cell_type": "code",
      "execution_count": 35,
      "id": "458a38ed",
      "metadata": {
        "ExecuteTime": {
          "end_time": "2023-06-07T21:24:50.513633Z",
          "start_time": "2023-06-07T21:24:50.398758Z"
        },
        "id": "458a38ed"
      },
      "outputs": [],
      "source": [
        "train=pd.DataFrame({'title':train_dataset['train']['title'], 'context':train_dataset['train']['context'], 'question':train_dataset['train']['question'], 'id':train_dataset['train']['id'], 'answers':train_dataset['train']['answers'], 'document_id':train_dataset['train']['document_id'], '__index_level_0__':train_dataset['train']['__index_level_0__']})\n",
        "valid=pd.DataFrame({'title':train_dataset['validation']['title'], 'context':train_dataset['validation']['context'], 'question':train_dataset['validation']['question'], 'id':train_dataset['validation']['id'], 'answers':train_dataset['validation']['answers'], 'document_id':train_dataset['validation']['document_id'], '__index_level_0__':train_dataset['validation']['__index_level_0__']})"
      ]
    },
    {
      "attachments": {},
      "cell_type": "markdown",
      "id": "dde8ba2e",
      "metadata": {
        "ExecuteTime": {
          "end_time": "2023-06-07T20:23:36.706705Z",
          "start_time": "2023-06-07T20:23:36.694647Z"
        },
        "id": "dde8ba2e"
      },
      "source": [
        "## 결측값"
      ]
    },
    {
      "cell_type": "code",
      "execution_count": 36,
      "id": "ddd83966",
      "metadata": {
        "ExecuteTime": {
          "end_time": "2023-06-07T21:24:50.680931Z",
          "start_time": "2023-06-07T21:24:50.666432Z"
        },
        "colab": {
          "base_uri": "https://localhost:8080/"
        },
        "id": "ddd83966",
        "outputId": "3cd33b81-54f2-457d-cb8f-990667a7c601"
      },
      "outputs": [
        {
          "data": {
            "text/plain": [
              "title                0\n",
              "context              0\n",
              "question             0\n",
              "id                   0\n",
              "answers              0\n",
              "document_id          0\n",
              "__index_level_0__    0\n",
              "dtype: int64"
            ]
          },
          "execution_count": 36,
          "metadata": {},
          "output_type": "execute_result"
        }
      ],
      "source": [
        "train.isnull().sum()"
      ]
    },
    {
      "cell_type": "code",
      "execution_count": 37,
      "id": "05336805",
      "metadata": {
        "ExecuteTime": {
          "end_time": "2023-06-07T21:24:50.830020Z",
          "start_time": "2023-06-07T21:24:50.799971Z"
        },
        "colab": {
          "base_uri": "https://localhost:8080/"
        },
        "id": "05336805",
        "outputId": "dccc55bc-3a87-43fa-bb5c-34a0849b6e9d"
      },
      "outputs": [
        {
          "data": {
            "text/plain": [
              "title                0\n",
              "context              0\n",
              "question             0\n",
              "id                   0\n",
              "answers              0\n",
              "document_id          0\n",
              "__index_level_0__    0\n",
              "dtype: int64"
            ]
          },
          "execution_count": 37,
          "metadata": {},
          "output_type": "execute_result"
        }
      ],
      "source": [
        "valid.isnull().sum()"
      ]
    },
    {
      "cell_type": "code",
      "execution_count": 38,
      "id": "5d1800b4",
      "metadata": {
        "ExecuteTime": {
          "end_time": "2023-06-07T21:24:50.980528Z",
          "start_time": "2023-06-07T21:24:50.949503Z"
        },
        "colab": {
          "base_uri": "https://localhost:8080/"
        },
        "id": "5d1800b4",
        "outputId": "8bf8ca2d-c2a9-4237-a995-c8a7afcdfe11"
      },
      "outputs": [
        {
          "data": {
            "text/plain": [
              "3952"
            ]
          },
          "execution_count": 38,
          "metadata": {},
          "output_type": "execute_result"
        }
      ],
      "source": [
        "len(train)"
      ]
    },
    {
      "cell_type": "code",
      "execution_count": 39,
      "id": "fabfb07f",
      "metadata": {
        "ExecuteTime": {
          "end_time": "2023-06-07T21:24:51.113513Z",
          "start_time": "2023-06-07T21:24:51.082851Z"
        },
        "colab": {
          "base_uri": "https://localhost:8080/"
        },
        "id": "fabfb07f",
        "outputId": "fa5bdc3b-01f4-456f-ddd8-51457bd9ef2c"
      },
      "outputs": [
        {
          "data": {
            "text/plain": [
              "240"
            ]
          },
          "execution_count": 39,
          "metadata": {},
          "output_type": "execute_result"
        }
      ],
      "source": [
        "len(valid)"
      ]
    },
    {
      "cell_type": "code",
      "execution_count": 40,
      "id": "13de33fb",
      "metadata": {
        "ExecuteTime": {
          "end_time": "2023-06-07T21:24:51.247024Z",
          "start_time": "2023-06-07T21:24:51.232979Z"
        },
        "colab": {
          "base_uri": "https://localhost:8080/"
        },
        "id": "13de33fb",
        "outputId": "192b4f20-ed80-4286-d9ea-19f3145d7294"
      },
      "outputs": [
        {
          "data": {
            "text/plain": [
              "Index(['title', 'context', 'question', 'id', 'answers', 'document_id',\n",
              "       '__index_level_0__'],\n",
              "      dtype='object')"
            ]
          },
          "execution_count": 40,
          "metadata": {},
          "output_type": "execute_result"
        }
      ],
      "source": [
        "train.columns"
      ]
    },
    {
      "cell_type": "code",
      "execution_count": 41,
      "id": "f25c5156",
      "metadata": {
        "ExecuteTime": {
          "end_time": "2023-06-07T21:24:51.380543Z",
          "start_time": "2023-06-07T21:24:51.365439Z"
        },
        "colab": {
          "base_uri": "https://localhost:8080/"
        },
        "id": "f25c5156",
        "outputId": "71f9b830-98d3-45dd-a6ac-4d43bd4a9bf6"
      },
      "outputs": [
        {
          "data": {
            "text/plain": [
              "Index(['title', 'context', 'question', 'id', 'answers', 'document_id',\n",
              "       '__index_level_0__'],\n",
              "      dtype='object')"
            ]
          },
          "execution_count": 41,
          "metadata": {},
          "output_type": "execute_result"
        }
      ],
      "source": [
        "valid.columns"
      ]
    },
    {
      "attachments": {},
      "cell_type": "markdown",
      "id": "a8c5d893",
      "metadata": {
        "id": "a8c5d893"
      },
      "source": [
        "## 중복값"
      ]
    },
    {
      "cell_type": "code",
      "execution_count": 42,
      "id": "ada3b306",
      "metadata": {
        "ExecuteTime": {
          "end_time": "2023-06-07T21:24:51.713460Z",
          "start_time": "2023-06-07T21:24:51.648603Z"
        },
        "colab": {
          "base_uri": "https://localhost:8080/"
        },
        "id": "ada3b306",
        "outputId": "fe788204-a544-45ce-eac4-ee6dd307bf4f"
      },
      "outputs": [
        {
          "name": "stdout",
          "output_type": "stream",
          "text": [
            "train 길이: 3952\n",
            "--------------------------------------------------\n",
            "질문의 고유 id: 3952\n",
            "고유한 질문 개수 id: 3952\n",
            "--------------------------------------------------\n",
            "문서의 고유 id: 3340\n",
            "고유한 문서 개수 id: 3340\n",
            "--------------------------------------------------\n",
            "고유한 제목 개수 id: 2716\n"
          ]
        }
      ],
      "source": [
        "print(f\"train 길이: {len(train)}\")\n",
        "print(\"-\"*50)\n",
        "print(f\"질문의 고유 id: {len(train['id'].unique())}\")\n",
        "print(f\"고유한 질문 개수 id: {len(train['question'].unique())}\")\n",
        "print(\"-\"*50)\n",
        "print(f\"문서의 고유 id: {len(train['document_id'].unique())}\")\n",
        "print(f\"고유한 문서 개수 id: {len(train['context'].unique())}\")\n",
        "print(\"-\"*50)\n",
        "print(f\"고유한 제목 개수 id: {len(train['title'].unique())}\")"
      ]
    },
    {
      "cell_type": "code",
      "execution_count": 43,
      "id": "80ed1be9",
      "metadata": {
        "ExecuteTime": {
          "end_time": "2023-06-07T21:24:51.814314Z",
          "start_time": "2023-06-07T21:24:51.783125Z"
        },
        "colab": {
          "base_uri": "https://localhost:8080/"
        },
        "id": "80ed1be9",
        "outputId": "3e38bda2-ee44-4660-f31c-e3be5f6695ef"
      },
      "outputs": [
        {
          "name": "stdout",
          "output_type": "stream",
          "text": [
            "valid 길이: 240\n",
            "--------------------------------------------------\n",
            "질문의 고유 id: 240\n",
            "고유한 질문 개수 id: 240\n",
            "--------------------------------------------------\n",
            "문서의 고유 id: 235\n",
            "고유한 문서 개수 id: 235\n",
            "--------------------------------------------------\n",
            "고유한 제목 개수 id: 228\n"
          ]
        }
      ],
      "source": [
        "print(f\"valid 길이: {len(valid)}\")\n",
        "print(\"-\"*50)\n",
        "print(f\"질문의 고유 id: {len(valid['id'].unique())}\")\n",
        "print(f\"고유한 질문 개수 id: {len(valid['question'].unique())}\")\n",
        "print(\"-\"*50)\n",
        "print(f\"문서의 고유 id: {len(valid['document_id'].unique())}\")\n",
        "print(f\"고유한 문서 개수 id: {len(valid['context'].unique())}\")\n",
        "print(\"-\"*50)\n",
        "print(f\"고유한 제목 개수 id: {len(valid['title'].unique())}\")"
      ]
    },
    {
      "cell_type": "code",
      "execution_count": 44,
      "id": "b6588276",
      "metadata": {
        "ExecuteTime": {
          "end_time": "2023-06-07T21:24:51.946715Z",
          "start_time": "2023-06-07T21:24:51.931692Z"
        },
        "colab": {
          "base_uri": "https://localhost:8080/"
        },
        "id": "b6588276",
        "outputId": "b8770e7c-3c89-429f-e81e-ff5c51c1ca68"
      },
      "outputs": [
        {
          "data": {
            "text/plain": [
              "3120"
            ]
          },
          "execution_count": 44,
          "metadata": {},
          "output_type": "execute_result"
        }
      ],
      "source": [
        "len(train['__index_level_0__'].unique())"
      ]
    },
    {
      "attachments": {},
      "cell_type": "markdown",
      "id": "35c7923d",
      "metadata": {
        "id": "35c7923d"
      },
      "source": [
        "- __index_level_0__ 컬럼은 뭘까?"
      ]
    },
    {
      "attachments": {},
      "cell_type": "markdown",
      "id": "4a7d3293",
      "metadata": {
        "id": "4a7d3293"
      },
      "source": [
        "## 정답 시작 위치"
      ]
    },
    {
      "cell_type": "code",
      "execution_count": 45,
      "id": "bc8357cd",
      "metadata": {
        "ExecuteTime": {
          "end_time": "2023-06-07T21:24:52.396870Z",
          "start_time": "2023-06-07T21:24:52.365509Z"
        },
        "colab": {
          "base_uri": "https://localhost:8080/"
        },
        "id": "bc8357cd",
        "outputId": "1f27d006-f38e-4e03-d023-7ff0e1a8e557"
      },
      "outputs": [
        {
          "data": {
            "text/plain": [
              "0               {'answer_start': [235], 'text': ['하원']}\n",
              "1         {'answer_start': [212], 'text': ['《경영의 실제》']}\n",
              "2               {'answer_start': [510], 'text': ['백성']}\n",
              "3               {'answer_start': [625], 'text': ['중국']}\n",
              "4                {'answer_start': [30], 'text': ['4개']}\n",
              "                             ...                       \n",
              "3947         {'answer_start': [317], 'text': ['지질 구조']}\n",
              "3948           {'answer_start': [616], 'text': ['뉴저지']}\n",
              "3949        {'answer_start': [255], 'text': ['칼 에케르트']}\n",
              "3950        {'answer_start': [476], 'text': ['슬라브 신화']}\n",
              "3951    {'answer_start': [189], 'text': ['크리스토포 알하우스']}\n",
              "Name: answers, Length: 3952, dtype: object"
            ]
          },
          "execution_count": 45,
          "metadata": {},
          "output_type": "execute_result"
        }
      ],
      "source": [
        "train['answers']"
      ]
    },
    {
      "cell_type": "code",
      "execution_count": 46,
      "id": "f2f13186",
      "metadata": {
        "ExecuteTime": {
          "end_time": "2023-06-07T21:24:52.547020Z",
          "start_time": "2023-06-07T21:24:52.532498Z"
        },
        "id": "f2f13186"
      },
      "outputs": [],
      "source": [
        "train['answer_start']=train['answers'].apply(lambda x: x['answer_start'][0])\n",
        "train['answer_text']=train['answers'].apply(lambda x: x['text'][0])\n",
        "\n",
        "valid['answer_start']=valid['answers'].apply(lambda x: x['answer_start'][0])\n",
        "valid['answer_text']=valid['answers'].apply(lambda x: x['text'][0])"
      ]
    },
    {
      "cell_type": "code",
      "execution_count": 47,
      "id": "083ff7bb",
      "metadata": {
        "ExecuteTime": {
          "end_time": "2023-06-07T21:24:52.946690Z",
          "start_time": "2023-06-07T21:24:52.681731Z"
        },
        "colab": {
          "base_uri": "https://localhost:8080/",
          "height": 284
        },
        "id": "083ff7bb",
        "outputId": "236e9556-b0ce-4060-d2b7-879c65706693"
      },
      "outputs": [
        {
          "data": {
            "text/plain": [
              "Text(0, 0.5, '')"
            ]
          },
          "execution_count": 47,
          "metadata": {},
          "output_type": "execute_result"
        },
        {
          "data": {
            "image/png": "[encoded data removed]",
            "text/plain": [
              "<Figure size 1800x300 with 2 Axes>"
            ]
          },
          "metadata": {},
          "output_type": "display_data"
        }
      ],
      "source": [
        "f, ax = plt.subplots(1,2,figsize=(18, 3))\n",
        "sns.histplot(data=train['answer_start'],ax=ax[0])\n",
        "ax[0].set_title('Train')\n",
        "ax[0].set_ylabel(\"\")\n",
        "\n",
        "sns.histplot(data=valid['answer_start'],ax=ax[1])\n",
        "ax[1].set_title('Valid')\n",
        "ax[1].set_ylabel(\"\")"
      ]
    },
    {
      "attachments": {},
      "cell_type": "markdown",
      "id": "95ff9fbf",
      "metadata": {
        "id": "95ff9fbf"
      },
      "source": [
        "- train, valid에서 정답 시작 위치는 비슷한 양상 보임\n",
        "- train, valid 모두 위치가 초반일수록 정답이 많이 나옴"
      ]
    },
    {
      "attachments": {},
      "cell_type": "markdown",
      "id": "1747ad32",
      "metadata": {
        "id": "1747ad32"
      },
      "source": [
        "## 토큰화"
      ]
    },
    {
      "cell_type": "code",
      "execution_count": 48,
      "id": "ee134f4a",
      "metadata": {
        "ExecuteTime": {
          "end_time": "2023-06-07T21:24:53.446774Z",
          "start_time": "2023-06-07T21:24:53.131631Z"
        },
        "id": "ee134f4a"
      },
      "outputs": [],
      "source": [
        "from transformers import AutoTokenizer\n",
        "MODEL_NAME = \"klue/bert-base\"\n",
        "tokenizer = AutoTokenizer.from_pretrained(MODEL_NAME)"
      ]
    },
    {
      "cell_type": "code",
      "execution_count": 49,
      "id": "8e1d69d0",
      "metadata": {
        "ExecuteTime": {
          "end_time": "2023-06-07T21:24:53.462504Z",
          "start_time": "2023-06-07T21:24:53.448599Z"
        },
        "colab": {
          "base_uri": "https://localhost:8080/"
        },
        "id": "8e1d69d0",
        "outputId": "bff0a9fe-2948-4d8e-d30c-af178a8f8435"
      },
      "outputs": [
        {
          "data": {
            "text/plain": [
              "dict_keys(['input_ids', 'token_type_ids', 'attention_mask'])"
            ]
          },
          "execution_count": 49,
          "metadata": {},
          "output_type": "execute_result"
        }
      ],
      "source": [
        "tokenizer(train['context'].tolist()[0]).keys()"
      ]
    },
    {
      "attachments": {},
      "cell_type": "markdown",
      "id": "aaa85ba9",
      "metadata": {
        "id": "aaa85ba9"
      },
      "source": [
        "### context"
      ]
    },
    {
      "cell_type": "code",
      "execution_count": 50,
      "id": "0d0126e0",
      "metadata": {
        "ExecuteTime": {
          "end_time": "2023-06-07T21:24:58.349132Z",
          "start_time": "2023-06-07T21:24:53.602638Z"
        },
        "colab": {
          "base_uri": "https://localhost:8080/"
        },
        "id": "0d0126e0",
        "outputId": "383ac389-4d7a-4eb1-ef2c-2f7cc34c64a2"
      },
      "outputs": [
        {
          "name": "stderr",
          "output_type": "stream",
          "text": [
            "Token indices sequence length is longer than the specified maximum sequence length for this model (1022 > 512). Running this sequence through the model will result in indexing errors\n"
          ]
        }
      ],
      "source": [
        "train['context_token_length']=pd.Series(train['context'].tolist()).apply(lambda x: len(tokenizer(x)['input_ids']))\n",
        "valid['context_token_length']=pd.Series(valid['context'].tolist()).apply(lambda x: len(tokenizer(x)['input_ids']))"
      ]
    },
    {
      "cell_type": "code",
      "execution_count": 51,
      "id": "0798df76",
      "metadata": {
        "ExecuteTime": {
          "end_time": "2023-06-07T21:24:58.836379Z",
          "start_time": "2023-06-07T21:24:58.353079Z"
        },
        "colab": {
          "base_uri": "https://localhost:8080/",
          "height": 284
        },
        "id": "0798df76",
        "outputId": "985f892f-ae63-4810-f81f-913524eb92e9"
      },
      "outputs": [
        {
          "data": {
            "text/plain": [
              "Text(0, 0.5, '')"
            ]
          },
          "execution_count": 51,
          "metadata": {},
          "output_type": "execute_result"
        },
        {
          "data": {
            "image/png": "[encoded data removed]",
            "text/plain": [
              "<Figure size 1800x300 with 2 Axes>"
            ]
          },
          "metadata": {},
          "output_type": "display_data"
        }
      ],
      "source": [
        "f, ax = plt.subplots(1,2,figsize=(18, 3))\n",
        "sns.histplot(data=train['context_token_length'],ax=ax[0])\n",
        "ax[0].set_title('Train')\n",
        "ax[0].set_ylabel(\"\")\n",
        "\n",
        "sns.histplot(data=valid['context_token_length'],ax=ax[1])\n",
        "ax[1].set_title('Valid')\n",
        "ax[1].set_ylabel(\"\")"
      ]
    },
    {
      "cell_type": "code",
      "execution_count": 52,
      "id": "317fbede",
      "metadata": {
        "ExecuteTime": {
          "end_time": "2023-06-07T21:24:58.855957Z",
          "start_time": "2023-06-07T21:24:58.840467Z"
        },
        "colab": {
          "base_uri": "https://localhost:8080/"
        },
        "id": "317fbede",
        "outputId": "4394617f-e2f7-4417-f9c9-2c9097f0ba05"
      },
      "outputs": [
        {
          "data": {
            "text/plain": [
              "count    3952.000000\n",
              "mean      497.301619\n",
              "std       193.801724\n",
              "min       241.000000\n",
              "25%       348.000000\n",
              "50%       444.000000\n",
              "75%       594.000000\n",
              "max      1174.000000\n",
              "Name: context_token_length, dtype: float64"
            ]
          },
          "execution_count": 52,
          "metadata": {},
          "output_type": "execute_result"
        }
      ],
      "source": [
        "train['context_token_length'].describe()"
      ]
    },
    {
      "cell_type": "code",
      "execution_count": 53,
      "id": "16d8d58a",
      "metadata": {
        "ExecuteTime": {
          "end_time": "2023-06-07T21:24:58.880567Z",
          "start_time": "2023-06-07T21:24:58.858296Z"
        },
        "colab": {
          "base_uri": "https://localhost:8080/"
        },
        "id": "16d8d58a",
        "outputId": "61fa0cc7-230a-4eaf-c6ea-2febca0a2e08"
      },
      "outputs": [
        {
          "data": {
            "text/plain": [
              "count     240.000000\n",
              "mean      496.304167\n",
              "std       197.632311\n",
              "min       267.000000\n",
              "25%       341.250000\n",
              "50%       435.500000\n",
              "75%       599.250000\n",
              "max      1153.000000\n",
              "Name: context_token_length, dtype: float64"
            ]
          },
          "execution_count": 53,
          "metadata": {},
          "output_type": "execute_result"
        }
      ],
      "source": [
        "valid['context_token_length'].describe()"
      ]
    },
    {
      "attachments": {},
      "cell_type": "markdown",
      "id": "807e26b8",
      "metadata": {
        "id": "807e26b8"
      },
      "source": [
        "- train, valid는 context의 토큰화 길이가 비슷한 양상 보임"
      ]
    },
    {
      "cell_type": "code",
      "execution_count": 54,
      "id": "13150457",
      "metadata": {
        "ExecuteTime": {
          "end_time": "2023-06-07T21:25:04.679297Z",
          "start_time": "2023-06-07T21:24:58.882300Z"
        },
        "colab": {
          "base_uri": "https://localhost:8080/",
          "height": 282
        },
        "id": "13150457",
        "outputId": "e1546109-9d9b-45b7-94ac-061182fbd677"
      },
      "outputs": [
        {
          "data": {
            "text/plain": [
              "Text(0, 0.5, '')"
            ]
          },
          "execution_count": 54,
          "metadata": {},
          "output_type": "execute_result"
        },
        {
          "data": {
            "image/png": "[encoded data removed]",
            "text/plain": [
              "<Figure size 1800x300 with 1 Axes>"
            ]
          },
          "metadata": {},
          "output_type": "display_data"
        }
      ],
      "source": [
        "f, ax = plt.subplots(figsize=(18, 3))\n",
        "sns.histplot(data=wiki['text_token_length'])\n",
        "ax.set_title('Wiki')\n",
        "ax.set_ylabel(\"\")"
      ]
    },
    {
      "cell_type": "code",
      "execution_count": 55,
      "id": "17a9b812",
      "metadata": {
        "ExecuteTime": {
          "end_time": "2023-06-07T21:25:04.698553Z",
          "start_time": "2023-06-07T21:25:04.681297Z"
        },
        "colab": {
          "base_uri": "https://localhost:8080/"
        },
        "id": "17a9b812",
        "outputId": "ba37c554-e79a-4331-ff7d-2f14b00c3006"
      },
      "outputs": [
        {
          "data": {
            "text/plain": [
              "count    56737.000000\n",
              "mean       403.889208\n",
              "std        392.152975\n",
              "min         56.000000\n",
              "25%        223.000000\n",
              "50%        310.000000\n",
              "75%        459.000000\n",
              "max      27541.000000\n",
              "Name: text_token_length, dtype: float64"
            ]
          },
          "execution_count": 55,
          "metadata": {},
          "output_type": "execute_result"
        }
      ],
      "source": [
        "wiki['text_token_length'].describe()"
      ]
    },
    {
      "attachments": {},
      "cell_type": "markdown",
      "id": "6bb129b2",
      "metadata": {
        "id": "6bb129b2"
      },
      "source": [
        "- wiki와도 비교해보기 → train,valid와 비슷한듯"
      ]
    },
    {
      "attachments": {},
      "cell_type": "markdown",
      "id": "9f0c02b6",
      "metadata": {
        "id": "9f0c02b6"
      },
      "source": [
        "### question"
      ]
    },
    {
      "cell_type": "code",
      "execution_count": 56,
      "id": "de4262eb",
      "metadata": {
        "ExecuteTime": {
          "end_time": "2023-06-07T21:25:05.329257Z",
          "start_time": "2023-06-07T21:25:04.700670Z"
        },
        "id": "de4262eb"
      },
      "outputs": [],
      "source": [
        "train['question_token_length']=pd.Series(train['question'].tolist()).apply(lambda x: len(tokenizer(x)['input_ids']))\n",
        "valid['question_token_length']=pd.Series(valid['question'].tolist()).apply(lambda x: len(tokenizer(x)['input_ids']))"
      ]
    },
    {
      "cell_type": "code",
      "execution_count": 57,
      "id": "ca4b3712",
      "metadata": {
        "ExecuteTime": {
          "end_time": "2023-06-07T21:25:05.888951Z",
          "start_time": "2023-06-07T21:25:05.329257Z"
        },
        "colab": {
          "base_uri": "https://localhost:8080/",
          "height": 283
        },
        "id": "ca4b3712",
        "outputId": "f8a96591-874d-42bf-8dc1-439fbeebfbe0"
      },
      "outputs": [
        {
          "data": {
            "text/plain": [
              "Text(0, 0.5, '')"
            ]
          },
          "execution_count": 57,
          "metadata": {},
          "output_type": "execute_result"
        },
        {
          "data": {
            "image/png": "[encoded data removed]",
            "text/plain": [
              "<Figure size 1800x300 with 2 Axes>"
            ]
          },
          "metadata": {},
          "output_type": "display_data"
        }
      ],
      "source": [
        "f, ax = plt.subplots(1,2,figsize=(18, 3))\n",
        "sns.histplot(data=train['question_token_length'],ax=ax[0])\n",
        "ax[0].set_title('Train')\n",
        "ax[0].set_ylabel(\"\")\n",
        "\n",
        "sns.histplot(data=valid['question_token_length'],ax=ax[1])\n",
        "ax[1].set_title('Valid')\n",
        "ax[1].set_ylabel(\"\")"
      ]
    },
    {
      "cell_type": "code",
      "execution_count": 58,
      "id": "5d572fbd",
      "metadata": {
        "ExecuteTime": {
          "end_time": "2023-06-07T21:25:05.919475Z",
          "start_time": "2023-06-07T21:25:05.891392Z"
        },
        "colab": {
          "base_uri": "https://localhost:8080/"
        },
        "id": "5d572fbd",
        "outputId": "b0d5be76-6f24-45aa-aa30-ef511c1da416"
      },
      "outputs": [
        {
          "data": {
            "text/plain": [
              "count    3952.000000\n",
              "mean       18.298330\n",
              "std         4.544425\n",
              "min         7.000000\n",
              "25%        15.000000\n",
              "50%        18.000000\n",
              "75%        21.000000\n",
              "max        45.000000\n",
              "Name: question_token_length, dtype: float64"
            ]
          },
          "execution_count": 58,
          "metadata": {},
          "output_type": "execute_result"
        }
      ],
      "source": [
        "train['question_token_length'].describe()"
      ]
    },
    {
      "cell_type": "code",
      "execution_count": 59,
      "id": "2111061a",
      "metadata": {
        "ExecuteTime": {
          "end_time": "2023-06-07T21:25:05.935235Z",
          "start_time": "2023-06-07T21:25:05.919475Z"
        },
        "colab": {
          "base_uri": "https://localhost:8080/"
        },
        "id": "2111061a",
        "outputId": "17cbb71f-a4e4-4470-e16d-041f22b7c56e"
      },
      "outputs": [
        {
          "data": {
            "text/plain": [
              "count    240.000000\n",
              "mean      18.316667\n",
              "std        4.707305\n",
              "min        7.000000\n",
              "25%       15.000000\n",
              "50%       18.000000\n",
              "75%       21.000000\n",
              "max       34.000000\n",
              "Name: question_token_length, dtype: float64"
            ]
          },
          "execution_count": 59,
          "metadata": {},
          "output_type": "execute_result"
        }
      ],
      "source": [
        "valid['question_token_length'].describe()"
      ]
    },
    {
      "attachments": {},
      "cell_type": "markdown",
      "id": "6f157d80",
      "metadata": {
        "id": "6f157d80"
      },
      "source": [
        "- train, valid는 question의 토큰화 길이가 비슷한 양상 보임"
      ]
    },
    {
      "attachments": {},
      "cell_type": "markdown",
      "id": "cf33bc5d",
      "metadata": {
        "id": "cf33bc5d"
      },
      "source": [
        "### question + context"
      ]
    },
    {
      "cell_type": "code",
      "execution_count": 60,
      "id": "bdb6cc5b",
      "metadata": {
        "ExecuteTime": {
          "end_time": "2023-06-07T21:25:18.369203Z",
          "start_time": "2023-06-07T21:25:05.935235Z"
        },
        "id": "bdb6cc5b"
      },
      "outputs": [],
      "source": [
        "train['question+context_token_length']=pd.Series((train['question']+'[SEP]'+train['context']).tolist()).apply(lambda x: len(tokenizer(x)['input_ids']))\n",
        "valid['question+context_token_length']=pd.Series((train['question']+'[SEP]'+train['context']).tolist()).apply(lambda x: len(tokenizer(x)['input_ids']))"
      ]
    },
    {
      "cell_type": "code",
      "execution_count": 61,
      "id": "a84082af",
      "metadata": {
        "ExecuteTime": {
          "end_time": "2023-06-07T21:25:18.870773Z",
          "start_time": "2023-06-07T21:25:18.372267Z"
        },
        "colab": {
          "base_uri": "https://localhost:8080/",
          "height": 284
        },
        "id": "a84082af",
        "outputId": "a608146d-5308-4887-ddea-b28976292ed3"
      },
      "outputs": [
        {
          "data": {
            "text/plain": [
              "Text(0, 0.5, '')"
            ]
          },
          "execution_count": 61,
          "metadata": {},
          "output_type": "execute_result"
        },
        {
          "data": {
            "image/png": "[encoded data removed]",
            "text/plain": [
              "<Figure size 1800x300 with 2 Axes>"
            ]
          },
          "metadata": {},
          "output_type": "display_data"
        }
      ],
      "source": [
        "f, ax = plt.subplots(1,2,figsize=(18, 3))\n",
        "sns.histplot(data=train['question+context_token_length'],ax=ax[0])\n",
        "ax[0].set_title('Train : question+context token length')\n",
        "ax[0].set_ylabel(\"\")\n",
        "\n",
        "sns.histplot(data=valid['question+context_token_length'],ax=ax[1])\n",
        "ax[1].set_title('Valid')\n",
        "ax[1].set_ylabel(\"\")"
      ]
    },
    {
      "cell_type": "code",
      "execution_count": 62,
      "id": "132a6998",
      "metadata": {
        "ExecuteTime": {
          "end_time": "2023-06-07T21:25:18.892473Z",
          "start_time": "2023-06-07T21:25:18.874357Z"
        },
        "colab": {
          "base_uri": "https://localhost:8080/"
        },
        "id": "132a6998",
        "outputId": "631067d1-67e5-4a49-8fe3-bcb2a3948ed9"
      },
      "outputs": [
        {
          "data": {
            "text/plain": [
              "count    3952.000000\n",
              "mean       18.298330\n",
              "std         4.544425\n",
              "min         7.000000\n",
              "25%        15.000000\n",
              "50%        18.000000\n",
              "75%        21.000000\n",
              "max        45.000000\n",
              "Name: question_token_length, dtype: float64"
            ]
          },
          "execution_count": 62,
          "metadata": {},
          "output_type": "execute_result"
        }
      ],
      "source": [
        "train['question_token_length'].describe()"
      ]
    },
    {
      "cell_type": "code",
      "execution_count": 63,
      "id": "738c0aca",
      "metadata": {
        "ExecuteTime": {
          "end_time": "2023-06-07T21:25:18.918968Z",
          "start_time": "2023-06-07T21:25:18.896145Z"
        },
        "colab": {
          "base_uri": "https://localhost:8080/"
        },
        "id": "738c0aca",
        "outputId": "92c81da4-3363-4d00-e621-d91e259b6b06"
      },
      "outputs": [
        {
          "data": {
            "text/plain": [
              "count    240.000000\n",
              "mean      18.316667\n",
              "std        4.707305\n",
              "min        7.000000\n",
              "25%       15.000000\n",
              "50%       18.000000\n",
              "75%       21.000000\n",
              "max       34.000000\n",
              "Name: question_token_length, dtype: float64"
            ]
          },
          "execution_count": 63,
          "metadata": {},
          "output_type": "execute_result"
        }
      ],
      "source": [
        "valid['question_token_length'].describe()"
      ]
    },
    {
      "attachments": {},
      "cell_type": "markdown",
      "id": "cf11c95f",
      "metadata": {
        "id": "cf11c95f"
      },
      "source": [
        "- train, valid는 question+context의 토큰화 길이가 비슷한 양상 보임"
      ]
    },
    {
      "attachments": {},
      "cell_type": "markdown",
      "id": "ab656187",
      "metadata": {
        "id": "ab656187"
      },
      "source": [
        "## 텍스트 분석\n",
        "question 중심으로"
      ]
    },
    {
      "cell_type": "code",
      "execution_count": 64,
      "id": "4d5d3585",
      "metadata": {
        "ExecuteTime": {
          "end_time": "2023-06-07T21:25:18.942863Z",
          "start_time": "2023-06-07T21:25:18.923863Z"
        },
        "colab": {
          "base_uri": "https://localhost:8080/"
        },
        "id": "4d5d3585",
        "outputId": "2b6f15bb-e130-4ec4-cc13-5a124b3b28f4"
      },
      "outputs": [
        {
          "data": {
            "text/plain": [
              "0             대통령을 포함한 미국의 행정부 견제권을 갖는 국가 기관은?\n",
              "1                       현대적 인사조직관리의 시발점이 된 책은?\n",
              "2               강희제가 1717년에 쓴 글은 누구를 위해 쓰여졌는가?\n",
              "3      11~12세기에 제작된 본존불은 보통 어떤 나라의 특징이 전파되었나요?\n",
              "4                   명문이 적힌 유물을 구성하는 그릇의 총 개수는?\n",
              "5                   카드모스의 부하들이 간 곳에는 무엇이 있었는가?\n",
              "6                        관우를 불태워 죽이려한 사람 누구인가?\n",
              "7                   참호 속에 무기와 장비를 버리고 도주한 집단은?\n",
              "8                     제2차 세계 대전에 참전하여 사망한 자식은?\n",
              "9          고려 공민왕이 처가 식구들과 아내와 함께 피신처로 삼은 마을은?\n",
              "10                               정여창은 어떻게 죽었나?\n",
              "11                  아멜리아는 빅토르의 직업을 무엇으로 착각하나요?\n",
              "12                     우핑가스 왕조의 이름은 어디서 유래하였나?\n",
              "13                           장면이 한국으로 돌아온 년도는?\n",
              "14                     유대교의 지나친 차별을 타파하려한 사람은?\n",
              "15                   권번에서 요릿집에 제공한 기생 명부의 이름은?\n",
              "16           영국군 약 42만명의 사상자가 발생한 전투가 시작된 연도는?\n",
              "17                 웨이크필드가 15번째 시즌에 활약한 팀의 이름은?\n",
              "18               김상옥이 종로경찰서에 폭탄을 던진 직후 피신한 곳은?\n",
              "19                  윤치호가 극찬했던 조선시대의 인물은 누구인가요?\n",
              "20              항우가 진나라를 멸하면서 조왕 헐은 어디로 이동했는가?\n",
              "21     30일에 한달 연장 근무를 신청하는 병사가 상금으로 받게 되는 금액은?\n",
              "22                       슈만이 미군에게 포로로 잡혔던 년도는?\n",
              "23                           김건의 할아버지가 세운 학교는?\n",
              "24                          뇌에 탈피 신호를 보내는 부위는?\n",
              "25          툴민은 ≪코스모폴리스≫에서 근대과학과 무엇에 대해 비평하나요?\n",
              "26                             아테네와 파트라간의 거리는?\n",
              "27        페리데코가 궁전으로 주문한 서재는 무엇으로 널리 알려져 있었나요?\n",
              "28        카르텔 내부의 세력 다툼이 일어나기 전 카르텔의 리더는 누구였나?\n",
              "29           개건 현대화의 계기가 된 승리자동차련합기업소의 생산 설비는?\n",
              "30                    잘록한 허리가 두드러지게 옷을 입는 방법은?\n",
              "31                      도연주와 백승희는 무슨 사이로 알려졌나?\n",
              "32            러시아가 ISIL과 타 반정부 단체와 전투를 벌인 년도는?\n",
              "33                       비트겐슈타인은 누구와 친구가 되었는가?\n",
              "34                            뷰포트는 대개 무슨 모양인가?\n",
              "35                             브루노 라이헨바흐의 직업은?\n",
              "36         차바하르항은 어떤 나라 덕분에 미국의 제재를 받지 않게 되었나?\n",
              "37                    항공기에 기름을 바르는 것은 누구의 일인가?\n",
              "38       완장에 있는 별모양과 비슷한 모양의 빛을 뿜는 것은 누구의 손인가?\n",
              "39               어린아이임에도 불구하고 도스필라스의 왕이 된 사람은?\n",
              "40              KANU의 의장이었던 사람이 케냐 대통령이 된 날짜는?\n",
              "41             전기화학적 기울기가 ATP와 무엇을 만들어낼 수 있는가?\n",
              "42             고든 프리맨이 레이븐홈을 떠날 수 있도록 도와준 사람은?\n",
              "43          사후에 영장을 청구할 수 있는 예외조항이 존재하는 법 조항은?\n",
              "44                  이범래는 일본에서 언제까지 도피 생활을 했나요?\n",
              "45    매사추세츠는 어느 지역의 사람들에게 공격을 받아 수많은 사람들이 죽었나?\n",
              "46       초고층 주거에서 차량과 사람의 활동 범위 중복을 최소화하는 장치는?\n",
              "47           풍수지리사상의 관점에서 보면 선몽대는 어떤 유형에 속하나요?\n",
              "48                      농지법을 개혁할 당시 카이사르의 직위는?\n",
              "49             조에나 머레이 스미스가 여성주의를 비판한 것은 언제인가?\n",
              "Name: question, dtype: object"
            ]
          },
          "execution_count": 64,
          "metadata": {},
          "output_type": "execute_result"
        }
      ],
      "source": [
        "train['question'][:50]"
      ]
    },
    {
      "cell_type": "code",
      "execution_count": 65,
      "id": "ztyfHcKy3MdK",
      "metadata": {
        "id": "ztyfHcKy3MdK"
      },
      "outputs": [],
      "source": [
        "def question_keyword1(df2, question_df, pattern):\n",
        "  df2['q1']=df2['question'].apply(lambda x: len(re.findall(pattern,x)))\n",
        "  df1=df2[df2['q1']!=0].reset_index(drop=True)\n",
        "  df2=df2[df2['q1']==0].reset_index(drop=True)\n",
        "  print(len(df1))\n",
        "  print(len(df2))\n",
        "  df1['keyword']=df1['question'].apply(lambda x: re.findall(pattern,x)[0])\n",
        "  question_df=pd.concat([question_df,df1.copy()]).reset_index(drop=True)\n",
        "  return df2, question_df"
      ]
    },
    {
      "cell_type": "code",
      "execution_count": 66,
      "id": "IjGJS9yq53AH",
      "metadata": {
        "id": "IjGJS9yq53AH"
      },
      "outputs": [],
      "source": [
        "def question_keyword2(df2, question_df, pattern):\n",
        "  df2['q1']=df2['question'].apply(lambda x: len(re.findall(pattern,x)))\n",
        "  df1=df2[df2['q1']!=0].reset_index(drop=True)\n",
        "  df2=df2[df2['q1']==0].reset_index(drop=True)\n",
        "  print(len(df1))\n",
        "  print(len(df2))\n",
        "  df1['keyword']=df1['question'].apply(lambda x: ''.join(okt.nouns(re.findall(pattern,x)[0])))\n",
        "  question_df=pd.concat([question_df,df1.copy()]).reset_index(drop=True)\n",
        "  return df2, question_df"
      ]
    },
    {
      "attachments": {},
      "cell_type": "markdown",
      "id": "_2-4aF3pCi0r",
      "metadata": {
        "id": "_2-4aF3pCi0r"
      },
      "source": [
        "### \"은/는?\" 앞에 오는 단어"
      ]
    },
    {
      "cell_type": "code",
      "execution_count": 67,
      "id": "3mkvTJA94Ybh",
      "metadata": {
        "colab": {
          "base_uri": "https://localhost:8080/"
        },
        "id": "3mkvTJA94Ybh",
        "outputId": "b67f252a-f5f0-4409-f35c-c062547514b9"
      },
      "outputs": [
        {
          "name": "stdout",
          "output_type": "stream",
          "text": [
            "2410\n",
            "1542\n",
            "1\n",
            "1541\n"
          ]
        }
      ],
      "source": [
        "df2, question_df=question_keyword1(train, pd.DataFrame(), r'\\w+(?=[은는]\\?)')\n",
        "df2,question_df=question_keyword1(df2,question_df, r'\\w+(?=[은는]$)')"
      ]
    },
    {
      "attachments": {},
      "cell_type": "markdown",
      "id": "G-FfizVSBwfU",
      "metadata": {
        "id": "G-FfizVSBwfU"
      },
      "source": [
        "### \"어떠한\" 뒤에 오는 명사"
      ]
    },
    {
      "cell_type": "code",
      "execution_count": 68,
      "id": "T4JSJq1bBwff",
      "metadata": {
        "colab": {
          "base_uri": "https://localhost:8080/"
        },
        "id": "T4JSJq1bBwff",
        "outputId": "0aaaae67-3a7e-49d0-9a6d-9603e096b5bd"
      },
      "outputs": [
        {
          "name": "stdout",
          "output_type": "stream",
          "text": [
            "10\n",
            "1531\n"
          ]
        }
      ],
      "source": [
        "df2,question_df=question_keyword2(df2,question_df, r'(?<=어떠한 )\\w+')"
      ]
    },
    {
      "attachments": {},
      "cell_type": "markdown",
      "id": "gssPVNpC_b9T",
      "metadata": {
        "id": "gssPVNpC_b9T"
      },
      "source": [
        "### \"어떤\" 뒤에 오는 명사"
      ]
    },
    {
      "cell_type": "code",
      "execution_count": 69,
      "id": "_60VwLWI50MT",
      "metadata": {
        "colab": {
          "base_uri": "https://localhost:8080/"
        },
        "id": "_60VwLWI50MT",
        "outputId": "7f654151-5581-42ad-cfd1-7fb9b3560379"
      },
      "outputs": [
        {
          "name": "stdout",
          "output_type": "stream",
          "text": [
            "170\n",
            "1361\n",
            "1\n",
            "1360\n"
          ]
        }
      ],
      "source": [
        "df2,question_df=question_keyword2(df2,question_df, r'(?<=어떤 )\\w+')\n",
        "df2,question_df=question_keyword2(df2,question_df, r'(?<=어떤)\\w+')"
      ]
    },
    {
      "attachments": {},
      "cell_type": "markdown",
      "id": "OK3RMcfE_iIQ",
      "metadata": {
        "id": "OK3RMcfE_iIQ"
      },
      "source": [
        "### \"무슨\" 뒤에 오는 명사"
      ]
    },
    {
      "cell_type": "code",
      "execution_count": 70,
      "id": "F1RTFHRb_iIW",
      "metadata": {
        "colab": {
          "base_uri": "https://localhost:8080/"
        },
        "id": "F1RTFHRb_iIW",
        "outputId": "8e76e6a4-a7cd-435d-8fa0-5643741f2000"
      },
      "outputs": [
        {
          "name": "stdout",
          "output_type": "stream",
          "text": [
            "14\n",
            "1346\n",
            "2\n",
            "1344\n"
          ]
        }
      ],
      "source": [
        "df2,question_df=question_keyword2(df2,question_df, r'(?<=무슨 )\\w+')\n",
        "df2,question_df=question_keyword2(df2,question_df, r'(?<=무슨)\\w+')"
      ]
    },
    {
      "attachments": {},
      "cell_type": "markdown",
      "id": "ehqKib9b_msj",
      "metadata": {
        "id": "ehqKib9b_msj"
      },
      "source": [
        "### \"어느\" 뒤에 오는 명사"
      ]
    },
    {
      "cell_type": "code",
      "execution_count": 71,
      "id": "3uuPqt6D_msp",
      "metadata": {
        "colab": {
          "base_uri": "https://localhost:8080/"
        },
        "id": "3uuPqt6D_msp",
        "outputId": "a5981ab7-310b-4d02-97c7-216c6bf10d10"
      },
      "outputs": [
        {
          "name": "stdout",
          "output_type": "stream",
          "text": [
            "103\n",
            "1241\n",
            "5\n",
            "1236\n"
          ]
        }
      ],
      "source": [
        "df2,question_df=question_keyword2(df2,question_df, r'(?<=어느 )\\w+')\n",
        "df2,question_df=question_keyword2(df2,question_df, r'(?<=어느)\\w+')"
      ]
    },
    {
      "attachments": {},
      "cell_type": "markdown",
      "id": "ma6r8ixQARtc",
      "metadata": {
        "id": "ma6r8ixQARtc"
      },
      "source": [
        "### \"몇\" 뒤에 오는 명사"
      ]
    },
    {
      "cell_type": "code",
      "execution_count": 72,
      "id": "ZlVtFrj0ARti",
      "metadata": {
        "colab": {
          "base_uri": "https://localhost:8080/"
        },
        "id": "ZlVtFrj0ARti",
        "outputId": "dd8e737a-d4b9-4994-dab4-4af88e9d4ac7"
      },
      "outputs": [
        {
          "name": "stdout",
          "output_type": "stream",
          "text": [
            "84\n",
            "1152\n",
            "13\n",
            "1139\n"
          ]
        }
      ],
      "source": [
        "df2,question_df=question_keyword2(df2,question_df, r'(?<=몇 )\\w+')\n",
        "df2,question_df=question_keyword2(df2,question_df, r'(?<=몇)\\w+')"
      ]
    },
    {
      "attachments": {},
      "cell_type": "markdown",
      "id": "d67b1dfe",
      "metadata": {
        "id": "d67b1dfe"
      },
      "source": [
        "### 누구"
      ]
    },
    {
      "cell_type": "code",
      "execution_count": 73,
      "id": "638df785",
      "metadata": {
        "ExecuteTime": {
          "end_time": "2023-06-07T21:25:28.828243Z",
          "start_time": "2023-06-07T21:25:28.798830Z"
        },
        "colab": {
          "base_uri": "https://localhost:8080/"
        },
        "id": "638df785",
        "outputId": "7685927d-bfdd-415d-e9a6-6863cf9c6c59"
      },
      "outputs": [
        {
          "name": "stdout",
          "output_type": "stream",
          "text": [
            "305\n",
            "834\n"
          ]
        }
      ],
      "source": [
        "df2,question_df=question_keyword1(df2,question_df, r'누구')"
      ]
    },
    {
      "attachments": {},
      "cell_type": "markdown",
      "id": "e7f5acc7",
      "metadata": {
        "id": "e7f5acc7"
      },
      "source": [
        "### 어디"
      ]
    },
    {
      "cell_type": "code",
      "execution_count": 74,
      "id": "EwtGGhbJ-w5y",
      "metadata": {
        "ExecuteTime": {
          "end_time": "2023-06-07T21:25:28.828243Z",
          "start_time": "2023-06-07T21:25:28.798830Z"
        },
        "colab": {
          "base_uri": "https://localhost:8080/"
        },
        "id": "EwtGGhbJ-w5y",
        "outputId": "7aa21027-f447-4db8-f4bf-a32049ee0e0d"
      },
      "outputs": [
        {
          "name": "stdout",
          "output_type": "stream",
          "text": [
            "202\n",
            "632\n"
          ]
        }
      ],
      "source": [
        "df2,question_df=question_keyword1(df2,question_df, r'어디')"
      ]
    },
    {
      "attachments": {},
      "cell_type": "markdown",
      "id": "f61f878c",
      "metadata": {
        "id": "f61f878c"
      },
      "source": [
        "### 무엇"
      ]
    },
    {
      "cell_type": "code",
      "execution_count": 75,
      "id": "4w8RSKmT-2qK",
      "metadata": {
        "ExecuteTime": {
          "end_time": "2023-06-07T21:25:28.828243Z",
          "start_time": "2023-06-07T21:25:28.798830Z"
        },
        "colab": {
          "base_uri": "https://localhost:8080/"
        },
        "id": "4w8RSKmT-2qK",
        "outputId": "7be8b753-5574-4007-eedc-a2579c89708a"
      },
      "outputs": [
        {
          "name": "stdout",
          "output_type": "stream",
          "text": [
            "407\n",
            "225\n"
          ]
        }
      ],
      "source": [
        "df2,question_df=question_keyword1(df2,question_df, r'무엇')"
      ]
    },
    {
      "attachments": {},
      "cell_type": "markdown",
      "id": "b555fcf1",
      "metadata": {
        "id": "b555fcf1"
      },
      "source": [
        "### 언제"
      ]
    },
    {
      "cell_type": "code",
      "execution_count": 76,
      "id": "cEvVp8ZL-6fE",
      "metadata": {
        "ExecuteTime": {
          "end_time": "2023-06-07T21:25:28.828243Z",
          "start_time": "2023-06-07T21:25:28.798830Z"
        },
        "colab": {
          "base_uri": "https://localhost:8080/"
        },
        "id": "cEvVp8ZL-6fE",
        "outputId": "3b95505a-90bd-429e-ea1e-191acf64630e"
      },
      "outputs": [
        {
          "name": "stdout",
          "output_type": "stream",
          "text": [
            "134\n",
            "91\n"
          ]
        }
      ],
      "source": [
        "df2,question_df=question_keyword1(df2,question_df, r'언제')"
      ]
    },
    {
      "attachments": {},
      "cell_type": "markdown",
      "id": "Lg1CoXr4AHwL",
      "metadata": {
        "id": "Lg1CoXr4AHwL"
      },
      "source": [
        "### 누가"
      ]
    },
    {
      "cell_type": "code",
      "execution_count": 77,
      "id": "9Il2wxE1AHwQ",
      "metadata": {
        "ExecuteTime": {
          "end_time": "2023-06-07T21:25:28.828243Z",
          "start_time": "2023-06-07T21:25:28.798830Z"
        },
        "colab": {
          "base_uri": "https://localhost:8080/"
        },
        "id": "9Il2wxE1AHwQ",
        "outputId": "571d9856-2fa9-4ea9-c87a-413708fe9641"
      },
      "outputs": [
        {
          "name": "stdout",
          "output_type": "stream",
          "text": [
            "34\n",
            "57\n"
          ]
        }
      ],
      "source": [
        "df2,question_df=question_keyword1(df2,question_df, r'누가')"
      ]
    },
    {
      "attachments": {},
      "cell_type": "markdown",
      "id": "82511d22",
      "metadata": {
        "id": "82511d22"
      },
      "source": [
        "### 어떻게"
      ]
    },
    {
      "cell_type": "code",
      "execution_count": 78,
      "id": "dMH9KXSx_Im4",
      "metadata": {
        "ExecuteTime": {
          "end_time": "2023-06-07T21:25:28.828243Z",
          "start_time": "2023-06-07T21:25:28.798830Z"
        },
        "colab": {
          "base_uri": "https://localhost:8080/"
        },
        "id": "dMH9KXSx_Im4",
        "outputId": "573ecd74-547f-4de7-b29f-5129981a9ead"
      },
      "outputs": [
        {
          "name": "stdout",
          "output_type": "stream",
          "text": [
            "10\n",
            "47\n"
          ]
        }
      ],
      "source": [
        "df2,question_df=question_keyword1(df2,question_df, r'어떻게')"
      ]
    },
    {
      "attachments": {},
      "cell_type": "markdown",
      "id": "dvPzxeaRCT3J",
      "metadata": {
        "id": "dvPzxeaRCT3J"
      },
      "source": [
        "### 왜"
      ]
    },
    {
      "cell_type": "code",
      "execution_count": 79,
      "id": "Fsx6_f22CT3O",
      "metadata": {
        "ExecuteTime": {
          "end_time": "2023-06-07T21:25:28.828243Z",
          "start_time": "2023-06-07T21:25:28.798830Z"
        },
        "colab": {
          "base_uri": "https://localhost:8080/"
        },
        "id": "Fsx6_f22CT3O",
        "outputId": "3dce50db-9409-4565-cccc-a18c3f6f814e"
      },
      "outputs": [
        {
          "name": "stdout",
          "output_type": "stream",
          "text": [
            "1\n",
            "46\n"
          ]
        }
      ],
      "source": [
        "df2,question_df=question_keyword1(df2,question_df, r'왜')"
      ]
    },
    {
      "attachments": {},
      "cell_type": "markdown",
      "id": "aeQpYU9wAo7F",
      "metadata": {
        "id": "aeQpYU9wAo7F"
      },
      "source": [
        "### 얼마"
      ]
    },
    {
      "cell_type": "code",
      "execution_count": 80,
      "id": "6jhEvjtZAo7L",
      "metadata": {
        "ExecuteTime": {
          "end_time": "2023-06-07T21:25:28.828243Z",
          "start_time": "2023-06-07T21:25:28.798830Z"
        },
        "colab": {
          "base_uri": "https://localhost:8080/"
        },
        "id": "6jhEvjtZAo7L",
        "outputId": "fc9acb03-114c-477e-fe43-0d20d22b7c2a"
      },
      "outputs": [
        {
          "name": "stdout",
          "output_type": "stream",
          "text": [
            "26\n",
            "20\n"
          ]
        }
      ],
      "source": [
        "df2,question_df=question_keyword1(df2,question_df, r'얼마')"
      ]
    },
    {
      "attachments": {},
      "cell_type": "markdown",
      "id": "xqNyur3wDZkG",
      "metadata": {
        "id": "xqNyur3wDZkG"
      },
      "source": [
        "### 뭐"
      ]
    },
    {
      "cell_type": "code",
      "execution_count": 81,
      "id": "rWUzhCBGDZkL",
      "metadata": {
        "ExecuteTime": {
          "end_time": "2023-06-07T21:25:28.828243Z",
          "start_time": "2023-06-07T21:25:28.798830Z"
        },
        "colab": {
          "base_uri": "https://localhost:8080/"
        },
        "id": "rWUzhCBGDZkL",
        "outputId": "e7b7f857-624d-4987-8545-a466276c3572"
      },
      "outputs": [
        {
          "name": "stdout",
          "output_type": "stream",
          "text": [
            "12\n",
            "8\n"
          ]
        }
      ],
      "source": [
        "df2,question_df=question_keyword1(df2,question_df, r'뭐')"
      ]
    },
    {
      "attachments": {},
      "cell_type": "markdown",
      "id": "e-P31nc_DkKN",
      "metadata": {
        "id": "e-P31nc_DkKN"
      },
      "source": [
        "### 며칠"
      ]
    },
    {
      "cell_type": "code",
      "execution_count": 82,
      "id": "mzzcafYnDkKT",
      "metadata": {
        "ExecuteTime": {
          "end_time": "2023-06-07T21:25:28.828243Z",
          "start_time": "2023-06-07T21:25:28.798830Z"
        },
        "colab": {
          "base_uri": "https://localhost:8080/"
        },
        "id": "mzzcafYnDkKT",
        "outputId": "cde1f2f9-59d5-4956-acf8-3e6d8527262e"
      },
      "outputs": [
        {
          "name": "stdout",
          "output_type": "stream",
          "text": [
            "3\n",
            "5\n"
          ]
        }
      ],
      "source": [
        "df2,question_df=question_keyword1(df2,question_df, r'며칠')"
      ]
    },
    {
      "attachments": {},
      "cell_type": "markdown",
      "id": "daa0f3c3",
      "metadata": {},
      "source": [
        "자주 나오는 keyword"
      ]
    },
    {
      "cell_type": "code",
      "execution_count": 88,
      "id": "0Us69RI2DkKT",
      "metadata": {
        "colab": {
          "base_uri": "https://localhost:8080/"
        },
        "id": "0Us69RI2DkKT",
        "outputId": "ea68c961-4045-4c4f-9b98-3fa531ac7277"
      },
      "outputs": [
        {
          "data": {
            "text/plain": [
              "keyword\n",
              "무엇    407\n",
              "누구    305\n",
              "사람    232\n",
              "인물    208\n",
              "어디    202\n",
              "것     191\n",
              "언제    134\n",
              "곳     121\n",
              "해     119\n",
              "나라     77\n",
              "이름     73\n",
              "년도     48\n",
              "시기     46\n",
              "국가     45\n",
              "연도     36\n",
              "지역     36\n",
              "이유     36\n",
              "누가     34\n",
              "기관     27\n",
              "얼마     26\n",
              "Name: count, dtype: int64"
            ]
          },
          "execution_count": 88,
          "metadata": {},
          "output_type": "execute_result"
        }
      ],
      "source": [
        "question_df['keyword'].value_counts()[:20]"
      ]
    },
    {
      "attachments": {},
      "cell_type": "markdown",
      "id": "HvipJJAS_PRt",
      "metadata": {
        "id": "HvipJJAS_PRt"
      },
      "source": [
        "### 나머지(keyword 설정 못한 data)\n",
        "- 5개 행만 남음"
      ]
    },
    {
      "cell_type": "code",
      "execution_count": 84,
      "id": "2f698222",
      "metadata": {
        "ExecuteTime": {
          "end_time": "2023-06-07T21:47:56.604220Z",
          "start_time": "2023-06-07T21:47:56.585520Z"
        },
        "colab": {
          "base_uri": "https://localhost:8080/"
        },
        "id": "2f698222",
        "outputId": "13a8c8d0-5797-48de-99c3-d8c9498785f4"
      },
      "outputs": [
        {
          "data": {
            "text/plain": [
              "0    husroum (حصروم)을 페르시아어로 번역하면?\n",
              "1               아제르 상귀니스를 아람어로 하면?\n",
              "2         보현암 석조관음보살의 보존 상태는 어떠한가?\n",
              "3                   잉카제국의 마지막 왕은 ?\n",
              "4         강희제는 장병 간의 관계가 어떻다고 믿었나?\n",
              "Name: question, dtype: object"
            ]
          },
          "execution_count": 84,
          "metadata": {},
          "output_type": "execute_result"
        }
      ],
      "source": [
        "df2['question']"
      ]
    },
    {
      "attachments": {},
      "cell_type": "markdown",
      "id": "16c61f6a",
      "metadata": {
        "id": "16c61f6a"
      },
      "source": [
        "# train/valid & wiki 비교"
      ]
    },
    {
      "cell_type": "code",
      "execution_count": 85,
      "id": "bfaa06ac",
      "metadata": {
        "ExecuteTime": {
          "end_time": "2023-06-07T20:48:23.274606Z",
          "start_time": "2023-06-07T20:48:23.254035Z"
        },
        "id": "bfaa06ac",
        "outputId": "327befc8-c4df-402e-bdc6-b7e38f25f08c"
      },
      "outputs": [
        {
          "data": {
            "text/html": [
              "<div>\n",
              "<style scoped>\n",
              "    .dataframe tbody tr th:only-of-type {\n",
              "        vertical-align: middle;\n",
              "    }\n",
              "\n",
              "    .dataframe tbody tr th {\n",
              "        vertical-align: top;\n",
              "    }\n",
              "\n",
              "    .dataframe thead th {\n",
              "        text-align: right;\n",
              "    }\n",
              "</style>\n",
              "<table border=\"1\" class=\"dataframe\">\n",
              "  <thead>\n",
              "    <tr style=\"text-align: right;\">\n",
              "      <th></th>\n",
              "      <th>title</th>\n",
              "      <th>context</th>\n",
              "      <th>question</th>\n",
              "      <th>id</th>\n",
              "      <th>answers</th>\n",
              "      <th>document_id</th>\n",
              "      <th>__index_level_0__</th>\n",
              "      <th>answer_start</th>\n",
              "      <th>answer_text</th>\n",
              "      <th>context_token_length</th>\n",
              "      <th>question_token_length</th>\n",
              "      <th>question+context_token_length</th>\n",
              "      <th>q1</th>\n",
              "    </tr>\n",
              "  </thead>\n",
              "  <tbody>\n",
              "    <tr>\n",
              "      <th>0</th>\n",
              "      <td>미국 상원</td>\n",
              "      <td>미국 상의원 또는 미국 상원(United States Senate)은 양원제인 미국...</td>\n",
              "      <td>대통령을 포함한 미국의 행정부 견제권을 갖는 국가 기관은?</td>\n",
              "      <td>mrc-1-000067</td>\n",
              "      <td>{'answer_start': [235], 'text': ['하원']}</td>\n",
              "      <td>18293</td>\n",
              "      <td>42</td>\n",
              "      <td>235</td>\n",
              "      <td>하원</td>\n",
              "      <td>436</td>\n",
              "      <td>18</td>\n",
              "      <td>453</td>\n",
              "      <td>1</td>\n",
              "    </tr>\n",
              "  </tbody>\n",
              "</table>\n",
              "</div>"
            ],
            "text/plain": [
              "   title                                            context  \\\n",
              "0  미국 상원  미국 상의원 또는 미국 상원(United States Senate)은 양원제인 미국...   \n",
              "\n",
              "                           question            id  \\\n",
              "0  대통령을 포함한 미국의 행정부 견제권을 갖는 국가 기관은?  mrc-1-000067   \n",
              "\n",
              "                                   answers  document_id  __index_level_0__  \\\n",
              "0  {'answer_start': [235], 'text': ['하원']}        18293                 42   \n",
              "\n",
              "   answer_start answer_text  context_token_length  question_token_length  \\\n",
              "0           235          하원                   436                     18   \n",
              "\n",
              "   question+context_token_length  q1  \n",
              "0                            453   1  "
            ]
          },
          "execution_count": 85,
          "metadata": {},
          "output_type": "execute_result"
        }
      ],
      "source": [
        "train[0:1]"
      ]
    },
    {
      "cell_type": "code",
      "execution_count": 86,
      "id": "b379adc6",
      "metadata": {
        "ExecuteTime": {
          "end_time": "2023-06-07T20:48:23.324694Z",
          "start_time": "2023-06-07T20:48:23.274606Z"
        },
        "id": "b379adc6",
        "outputId": "50f7114f-4f4b-400d-b452-3f5bdb429a7a"
      },
      "outputs": [
        {
          "data": {
            "text/html": [
              "<div>\n",
              "<style scoped>\n",
              "    .dataframe tbody tr th:only-of-type {\n",
              "        vertical-align: middle;\n",
              "    }\n",
              "\n",
              "    .dataframe tbody tr th {\n",
              "        vertical-align: top;\n",
              "    }\n",
              "\n",
              "    .dataframe thead th {\n",
              "        text-align: right;\n",
              "    }\n",
              "</style>\n",
              "<table border=\"1\" class=\"dataframe\">\n",
              "  <thead>\n",
              "    <tr style=\"text-align: right;\">\n",
              "      <th></th>\n",
              "      <th>text</th>\n",
              "      <th>title</th>\n",
              "      <th>document_id</th>\n",
              "      <th>text_token_length</th>\n",
              "      <th>one_word</th>\n",
              "    </tr>\n",
              "  </thead>\n",
              "  <tbody>\n",
              "    <tr>\n",
              "      <th>14489</th>\n",
              "      <td>미국 상의원 또는 미국 상원(United States Senate)은 양원제인 미국...</td>\n",
              "      <td>미국 상원</td>\n",
              "      <td>18293</td>\n",
              "      <td>436</td>\n",
              "      <td>[]</td>\n",
              "    </tr>\n",
              "  </tbody>\n",
              "</table>\n",
              "</div>"
            ],
            "text/plain": [
              "                                                    text  title document_id  \\\n",
              "14489  미국 상의원 또는 미국 상원(United States Senate)은 양원제인 미국...  미국 상원       18293   \n",
              "\n",
              "       text_token_length one_word  \n",
              "14489                436       []  "
            ]
          },
          "execution_count": 86,
          "metadata": {},
          "output_type": "execute_result"
        }
      ],
      "source": [
        "wiki[wiki['document_id']==18293]"
      ]
    },
    {
      "attachments": {},
      "cell_type": "markdown",
      "id": "c7fc4e98",
      "metadata": {
        "id": "c7fc4e98"
      },
      "source": [
        "- (train/valid의 document_id 컬럼) == (wiki의 document_id 컬럼) → 당연한거지만 혹시 몰라 확인해봄"
      ]
    },
    {
      "cell_type": "code",
      "execution_count": null,
      "id": "7801a54a",
      "metadata": {
        "id": "7801a54a"
      },
      "outputs": [],
      "source": []
    }
  ],
  "metadata": {
    "colab": {
      "provenance": []
    },
    "kernelspec": {
      "display_name": "Python 3 (ipykernel)",
      "language": "python",
      "name": "python3"
    },
    "language_info": {
      "codemirror_mode": {
        "name": "ipython",
        "version": 3
      },
      "file_extension": ".py",
      "mimetype": "text/x-python",
      "name": "python",
      "nbconvert_exporter": "python",
      "pygments_lexer": "ipython3",
      "version": "3.8.5"
    },
    "toc": {
      "base_numbering": 1,
      "nav_menu": {},
      "number_sections": true,
      "sideBar": true,
      "skip_h1_title": false,
      "title_cell": "Table of Contents",
      "title_sidebar": "Contents",
      "toc_cell": false,
      "toc_position": {
        "height": "calc(100% - 180px)",
        "left": "10px",
        "top": "150px",
        "width": "261.818px"
      },
      "toc_section_display": true,
      "toc_window_display": true
    },
    "widgets": {
      "application/vnd.jupyter.widget-state+json": {
        "06c504542452453cb379ab35783ab18c": {
          "model_module": "@jupyter-widgets/controls",
          "model_module_version": "1.5.0",
          "model_name": "FloatProgressModel",
          "state": {
            "_dom_classes": [],
            "_model_module": "@jupyter-widgets/controls",
            "_model_module_version": "1.5.0",
            "_model_name": "FloatProgressModel",
            "_view_count": null,
            "_view_module": "@jupyter-widgets/controls",
            "_view_module_version": "1.5.0",
            "_view_name": "ProgressView",
            "bar_style": "success",
            "description": "",
            "description_tooltip": null,
            "layout": "IPY_MODEL_923d332d62194aa4a9e2bddc8bf53b54",
            "max": 125,
            "min": 0,
            "orientation": "horizontal",
            "style": "IPY_MODEL_1344868573f44c94971da625d6f853e5",
            "value": 125
          }
        },
        "07009857103740e48defa9495a6251f2": {
          "model_module": "@jupyter-widgets/controls",
          "model_module_version": "1.5.0",
          "model_name": "DescriptionStyleModel",
          "state": {
            "_model_module": "@jupyter-widgets/controls",
            "_model_module_version": "1.5.0",
            "_model_name": "DescriptionStyleModel",
            "_view_count": null,
            "_view_module": "@jupyter-widgets/base",
            "_view_module_version": "1.2.0",
            "_view_name": "StyleView",
            "description_width": ""
          }
        },
        "0d99bb468aab45f5a213befb6bcf5272": {
          "model_module": "@jupyter-widgets/base",
          "model_module_version": "1.2.0",
          "model_name": "LayoutModel",
          "state": {
            "_model_module": "@jupyter-widgets/base",
            "_model_module_version": "1.2.0",
            "_model_name": "LayoutModel",
            "_view_count": null,
            "_view_module": "@jupyter-widgets/base",
            "_view_module_version": "1.2.0",
            "_view_name": "LayoutView",
            "align_content": null,
            "align_items": null,
            "align_self": null,
            "border": null,
            "bottom": null,
            "display": null,
            "flex": null,
            "flex_flow": null,
            "grid_area": null,
            "grid_auto_columns": null,
            "grid_auto_flow": null,
            "grid_auto_rows": null,
            "grid_column": null,
            "grid_gap": null,
            "grid_row": null,
            "grid_template_areas": null,
            "grid_template_columns": null,
            "grid_template_rows": null,
            "height": null,
            "justify_content": null,
            "justify_items": null,
            "left": null,
            "margin": null,
            "max_height": null,
            "max_width": null,
            "min_height": null,
            "min_width": null,
            "object_fit": null,
            "object_position": null,
            "order": null,
            "overflow": null,
            "overflow_x": null,
            "overflow_y": null,
            "padding": null,
            "right": null,
            "top": null,
            "visibility": null,
            "width": null
          }
        },
        "1344868573f44c94971da625d6f853e5": {
          "model_module": "@jupyter-widgets/controls",
          "model_module_version": "1.5.0",
          "model_name": "ProgressStyleModel",
          "state": {
            "_model_module": "@jupyter-widgets/controls",
            "_model_module_version": "1.5.0",
            "_model_name": "ProgressStyleModel",
            "_view_count": null,
            "_view_module": "@jupyter-widgets/base",
            "_view_module_version": "1.2.0",
            "_view_name": "StyleView",
            "bar_color": null,
            "description_width": ""
          }
        },
        "16d7a497f642422ca965ceed9d89a5e3": {
          "model_module": "@jupyter-widgets/base",
          "model_module_version": "1.2.0",
          "model_name": "LayoutModel",
          "state": {
            "_model_module": "@jupyter-widgets/base",
            "_model_module_version": "1.2.0",
            "_model_name": "LayoutModel",
            "_view_count": null,
            "_view_module": "@jupyter-widgets/base",
            "_view_module_version": "1.2.0",
            "_view_name": "LayoutView",
            "align_content": null,
            "align_items": null,
            "align_self": null,
            "border": null,
            "bottom": null,
            "display": null,
            "flex": null,
            "flex_flow": null,
            "grid_area": null,
            "grid_auto_columns": null,
            "grid_auto_flow": null,
            "grid_auto_rows": null,
            "grid_column": null,
            "grid_gap": null,
            "grid_row": null,
            "grid_template_areas": null,
            "grid_template_columns": null,
            "grid_template_rows": null,
            "height": null,
            "justify_content": null,
            "justify_items": null,
            "left": null,
            "margin": null,
            "max_height": null,
            "max_width": null,
            "min_height": null,
            "min_width": null,
            "object_fit": null,
            "object_position": null,
            "order": null,
            "overflow": null,
            "overflow_x": null,
            "overflow_y": null,
            "padding": null,
            "right": null,
            "top": null,
            "visibility": null,
            "width": null
          }
        },
        "18f9ea56066f42379bca4c8fc451a3a5": {
          "model_module": "@jupyter-widgets/base",
          "model_module_version": "1.2.0",
          "model_name": "LayoutModel",
          "state": {
            "_model_module": "@jupyter-widgets/base",
            "_model_module_version": "1.2.0",
            "_model_name": "LayoutModel",
            "_view_count": null,
            "_view_module": "@jupyter-widgets/base",
            "_view_module_version": "1.2.0",
            "_view_name": "LayoutView",
            "align_content": null,
            "align_items": null,
            "align_self": null,
            "border": null,
            "bottom": null,
            "display": null,
            "flex": null,
            "flex_flow": null,
            "grid_area": null,
            "grid_auto_columns": null,
            "grid_auto_flow": null,
            "grid_auto_rows": null,
            "grid_column": null,
            "grid_gap": null,
            "grid_row": null,
            "grid_template_areas": null,
            "grid_template_columns": null,
            "grid_template_rows": null,
            "height": null,
            "justify_content": null,
            "justify_items": null,
            "left": null,
            "margin": null,
            "max_height": null,
            "max_width": null,
            "min_height": null,
            "min_width": null,
            "object_fit": null,
            "object_position": null,
            "order": null,
            "overflow": null,
            "overflow_x": null,
            "overflow_y": null,
            "padding": null,
            "right": null,
            "top": null,
            "visibility": null,
            "width": null
          }
        },
        "1cb9192851da4346af412d62bd9d000c": {
          "model_module": "@jupyter-widgets/base",
          "model_module_version": "1.2.0",
          "model_name": "LayoutModel",
          "state": {
            "_model_module": "@jupyter-widgets/base",
            "_model_module_version": "1.2.0",
            "_model_name": "LayoutModel",
            "_view_count": null,
            "_view_module": "@jupyter-widgets/base",
            "_view_module_version": "1.2.0",
            "_view_name": "LayoutView",
            "align_content": null,
            "align_items": null,
            "align_self": null,
            "border": null,
            "bottom": null,
            "display": null,
            "flex": null,
            "flex_flow": null,
            "grid_area": null,
            "grid_auto_columns": null,
            "grid_auto_flow": null,
            "grid_auto_rows": null,
            "grid_column": null,
            "grid_gap": null,
            "grid_row": null,
            "grid_template_areas": null,
            "grid_template_columns": null,
            "grid_template_rows": null,
            "height": null,
            "justify_content": null,
            "justify_items": null,
            "left": null,
            "margin": null,
            "max_height": null,
            "max_width": null,
            "min_height": null,
            "min_width": null,
            "object_fit": null,
            "object_position": null,
            "order": null,
            "overflow": null,
            "overflow_x": null,
            "overflow_y": null,
            "padding": null,
            "right": null,
            "top": null,
            "visibility": null,
            "width": null
          }
        },
        "1e949dcf5eb04e5b92a0be96ba3de073": {
          "model_module": "@jupyter-widgets/controls",
          "model_module_version": "1.5.0",
          "model_name": "DescriptionStyleModel",
          "state": {
            "_model_module": "@jupyter-widgets/controls",
            "_model_module_version": "1.5.0",
            "_model_name": "DescriptionStyleModel",
            "_view_count": null,
            "_view_module": "@jupyter-widgets/base",
            "_view_module_version": "1.2.0",
            "_view_name": "StyleView",
            "description_width": ""
          }
        },
        "20e88c18ce0d4da9be6be911796115a1": {
          "model_module": "@jupyter-widgets/base",
          "model_module_version": "1.2.0",
          "model_name": "LayoutModel",
          "state": {
            "_model_module": "@jupyter-widgets/base",
            "_model_module_version": "1.2.0",
            "_model_name": "LayoutModel",
            "_view_count": null,
            "_view_module": "@jupyter-widgets/base",
            "_view_module_version": "1.2.0",
            "_view_name": "LayoutView",
            "align_content": null,
            "align_items": null,
            "align_self": null,
            "border": null,
            "bottom": null,
            "display": null,
            "flex": null,
            "flex_flow": null,
            "grid_area": null,
            "grid_auto_columns": null,
            "grid_auto_flow": null,
            "grid_auto_rows": null,
            "grid_column": null,
            "grid_gap": null,
            "grid_row": null,
            "grid_template_areas": null,
            "grid_template_columns": null,
            "grid_template_rows": null,
            "height": null,
            "justify_content": null,
            "justify_items": null,
            "left": null,
            "margin": null,
            "max_height": null,
            "max_width": null,
            "min_height": null,
            "min_width": null,
            "object_fit": null,
            "object_position": null,
            "order": null,
            "overflow": null,
            "overflow_x": null,
            "overflow_y": null,
            "padding": null,
            "right": null,
            "top": null,
            "visibility": null,
            "width": null
          }
        },
        "2252192aa9c64dc4864e9da1ee22c38a": {
          "model_module": "@jupyter-widgets/base",
          "model_module_version": "1.2.0",
          "model_name": "LayoutModel",
          "state": {
            "_model_module": "@jupyter-widgets/base",
            "_model_module_version": "1.2.0",
            "_model_name": "LayoutModel",
            "_view_count": null,
            "_view_module": "@jupyter-widgets/base",
            "_view_module_version": "1.2.0",
            "_view_name": "LayoutView",
            "align_content": null,
            "align_items": null,
            "align_self": null,
            "border": null,
            "bottom": null,
            "display": null,
            "flex": null,
            "flex_flow": null,
            "grid_area": null,
            "grid_auto_columns": null,
            "grid_auto_flow": null,
            "grid_auto_rows": null,
            "grid_column": null,
            "grid_gap": null,
            "grid_row": null,
            "grid_template_areas": null,
            "grid_template_columns": null,
            "grid_template_rows": null,
            "height": null,
            "justify_content": null,
            "justify_items": null,
            "left": null,
            "margin": null,
            "max_height": null,
            "max_width": null,
            "min_height": null,
            "min_width": null,
            "object_fit": null,
            "object_position": null,
            "order": null,
            "overflow": null,
            "overflow_x": null,
            "overflow_y": null,
            "padding": null,
            "right": null,
            "top": null,
            "visibility": null,
            "width": null
          }
        },
        "2d23b18fd8704d53b6bda2fafe7fd003": {
          "model_module": "@jupyter-widgets/base",
          "model_module_version": "1.2.0",
          "model_name": "LayoutModel",
          "state": {
            "_model_module": "@jupyter-widgets/base",
            "_model_module_version": "1.2.0",
            "_model_name": "LayoutModel",
            "_view_count": null,
            "_view_module": "@jupyter-widgets/base",
            "_view_module_version": "1.2.0",
            "_view_name": "LayoutView",
            "align_content": null,
            "align_items": null,
            "align_self": null,
            "border": null,
            "bottom": null,
            "display": null,
            "flex": null,
            "flex_flow": null,
            "grid_area": null,
            "grid_auto_columns": null,
            "grid_auto_flow": null,
            "grid_auto_rows": null,
            "grid_column": null,
            "grid_gap": null,
            "grid_row": null,
            "grid_template_areas": null,
            "grid_template_columns": null,
            "grid_template_rows": null,
            "height": null,
            "justify_content": null,
            "justify_items": null,
            "left": null,
            "margin": null,
            "max_height": null,
            "max_width": null,
            "min_height": null,
            "min_width": null,
            "object_fit": null,
            "object_position": null,
            "order": null,
            "overflow": null,
            "overflow_x": null,
            "overflow_y": null,
            "padding": null,
            "right": null,
            "top": null,
            "visibility": null,
            "width": null
          }
        },
        "31a6a5c2b07c4ea09d512a0e05d7587f": {
          "model_module": "@jupyter-widgets/controls",
          "model_module_version": "1.5.0",
          "model_name": "ProgressStyleModel",
          "state": {
            "_model_module": "@jupyter-widgets/controls",
            "_model_module_version": "1.5.0",
            "_model_name": "ProgressStyleModel",
            "_view_count": null,
            "_view_module": "@jupyter-widgets/base",
            "_view_module_version": "1.2.0",
            "_view_name": "StyleView",
            "bar_color": null,
            "description_width": ""
          }
        },
        "3412cc46cd0443ed8a62447501a19128": {
          "model_module": "@jupyter-widgets/controls",
          "model_module_version": "1.5.0",
          "model_name": "HTMLModel",
          "state": {
            "_dom_classes": [],
            "_model_module": "@jupyter-widgets/controls",
            "_model_module_version": "1.5.0",
            "_model_name": "HTMLModel",
            "_view_count": null,
            "_view_module": "@jupyter-widgets/controls",
            "_view_module_version": "1.5.0",
            "_view_name": "HTMLView",
            "description": "",
            "description_tooltip": null,
            "layout": "IPY_MODEL_536ddb0893994f11b1a004133db91d9f",
            "placeholder": "​",
            "style": "IPY_MODEL_98c7a2fa2f3144b09319b4167a85badc",
            "value": "Downloading (…)/main/tokenizer.json: 100%"
          }
        },
        "351ffb96e0c449cfb29b7927558c1d47": {
          "model_module": "@jupyter-widgets/controls",
          "model_module_version": "1.5.0",
          "model_name": "ProgressStyleModel",
          "state": {
            "_model_module": "@jupyter-widgets/controls",
            "_model_module_version": "1.5.0",
            "_model_name": "ProgressStyleModel",
            "_view_count": null,
            "_view_module": "@jupyter-widgets/base",
            "_view_module_version": "1.2.0",
            "_view_name": "StyleView",
            "bar_color": null,
            "description_width": ""
          }
        },
        "37d4d1c4f27140c48e8bab2698999820": {
          "model_module": "@jupyter-widgets/controls",
          "model_module_version": "1.5.0",
          "model_name": "DescriptionStyleModel",
          "state": {
            "_model_module": "@jupyter-widgets/controls",
            "_model_module_version": "1.5.0",
            "_model_name": "DescriptionStyleModel",
            "_view_count": null,
            "_view_module": "@jupyter-widgets/base",
            "_view_module_version": "1.2.0",
            "_view_name": "StyleView",
            "description_width": ""
          }
        },
        "41dd2bc3215b4182ba88a5bd8a7fc319": {
          "model_module": "@jupyter-widgets/controls",
          "model_module_version": "1.5.0",
          "model_name": "DescriptionStyleModel",
          "state": {
            "_model_module": "@jupyter-widgets/controls",
            "_model_module_version": "1.5.0",
            "_model_name": "DescriptionStyleModel",
            "_view_count": null,
            "_view_module": "@jupyter-widgets/base",
            "_view_module_version": "1.2.0",
            "_view_name": "StyleView",
            "description_width": ""
          }
        },
        "4c1b849f4ab049db8778b1ac6f288e91": {
          "model_module": "@jupyter-widgets/base",
          "model_module_version": "1.2.0",
          "model_name": "LayoutModel",
          "state": {
            "_model_module": "@jupyter-widgets/base",
            "_model_module_version": "1.2.0",
            "_model_name": "LayoutModel",
            "_view_count": null,
            "_view_module": "@jupyter-widgets/base",
            "_view_module_version": "1.2.0",
            "_view_name": "LayoutView",
            "align_content": null,
            "align_items": null,
            "align_self": null,
            "border": null,
            "bottom": null,
            "display": null,
            "flex": null,
            "flex_flow": null,
            "grid_area": null,
            "grid_auto_columns": null,
            "grid_auto_flow": null,
            "grid_auto_rows": null,
            "grid_column": null,
            "grid_gap": null,
            "grid_row": null,
            "grid_template_areas": null,
            "grid_template_columns": null,
            "grid_template_rows": null,
            "height": null,
            "justify_content": null,
            "justify_items": null,
            "left": null,
            "margin": null,
            "max_height": null,
            "max_width": null,
            "min_height": null,
            "min_width": null,
            "object_fit": null,
            "object_position": null,
            "order": null,
            "overflow": null,
            "overflow_x": null,
            "overflow_y": null,
            "padding": null,
            "right": null,
            "top": null,
            "visibility": null,
            "width": null
          }
        },
        "4f43d87b676241bbaf8d04478ef07bc8": {
          "model_module": "@jupyter-widgets/controls",
          "model_module_version": "1.5.0",
          "model_name": "HBoxModel",
          "state": {
            "_dom_classes": [],
            "_model_module": "@jupyter-widgets/controls",
            "_model_module_version": "1.5.0",
            "_model_name": "HBoxModel",
            "_view_count": null,
            "_view_module": "@jupyter-widgets/controls",
            "_view_module_version": "1.5.0",
            "_view_name": "HBoxView",
            "box_style": "",
            "children": [
              "IPY_MODEL_5679f6c17b444f649eb7dcdc9a19960b",
              "IPY_MODEL_06c504542452453cb379ab35783ab18c",
              "IPY_MODEL_7a00d02ff98e41c69e429c148b3347c1"
            ],
            "layout": "IPY_MODEL_18f9ea56066f42379bca4c8fc451a3a5"
          }
        },
        "504142ddbec1485781a7f9ee945b67d9": {
          "model_module": "@jupyter-widgets/base",
          "model_module_version": "1.2.0",
          "model_name": "LayoutModel",
          "state": {
            "_model_module": "@jupyter-widgets/base",
            "_model_module_version": "1.2.0",
            "_model_name": "LayoutModel",
            "_view_count": null,
            "_view_module": "@jupyter-widgets/base",
            "_view_module_version": "1.2.0",
            "_view_name": "LayoutView",
            "align_content": null,
            "align_items": null,
            "align_self": null,
            "border": null,
            "bottom": null,
            "display": null,
            "flex": null,
            "flex_flow": null,
            "grid_area": null,
            "grid_auto_columns": null,
            "grid_auto_flow": null,
            "grid_auto_rows": null,
            "grid_column": null,
            "grid_gap": null,
            "grid_row": null,
            "grid_template_areas": null,
            "grid_template_columns": null,
            "grid_template_rows": null,
            "height": null,
            "justify_content": null,
            "justify_items": null,
            "left": null,
            "margin": null,
            "max_height": null,
            "max_width": null,
            "min_height": null,
            "min_width": null,
            "object_fit": null,
            "object_position": null,
            "order": null,
            "overflow": null,
            "overflow_x": null,
            "overflow_y": null,
            "padding": null,
            "right": null,
            "top": null,
            "visibility": null,
            "width": null
          }
        },
        "536ddb0893994f11b1a004133db91d9f": {
          "model_module": "@jupyter-widgets/base",
          "model_module_version": "1.2.0",
          "model_name": "LayoutModel",
          "state": {
            "_model_module": "@jupyter-widgets/base",
            "_model_module_version": "1.2.0",
            "_model_name": "LayoutModel",
            "_view_count": null,
            "_view_module": "@jupyter-widgets/base",
            "_view_module_version": "1.2.0",
            "_view_name": "LayoutView",
            "align_content": null,
            "align_items": null,
            "align_self": null,
            "border": null,
            "bottom": null,
            "display": null,
            "flex": null,
            "flex_flow": null,
            "grid_area": null,
            "grid_auto_columns": null,
            "grid_auto_flow": null,
            "grid_auto_rows": null,
            "grid_column": null,
            "grid_gap": null,
            "grid_row": null,
            "grid_template_areas": null,
            "grid_template_columns": null,
            "grid_template_rows": null,
            "height": null,
            "justify_content": null,
            "justify_items": null,
            "left": null,
            "margin": null,
            "max_height": null,
            "max_width": null,
            "min_height": null,
            "min_width": null,
            "object_fit": null,
            "object_position": null,
            "order": null,
            "overflow": null,
            "overflow_x": null,
            "overflow_y": null,
            "padding": null,
            "right": null,
            "top": null,
            "visibility": null,
            "width": null
          }
        },
        "5679f6c17b444f649eb7dcdc9a19960b": {
          "model_module": "@jupyter-widgets/controls",
          "model_module_version": "1.5.0",
          "model_name": "HTMLModel",
          "state": {
            "_dom_classes": [],
            "_model_module": "@jupyter-widgets/controls",
            "_model_module_version": "1.5.0",
            "_model_name": "HTMLModel",
            "_view_count": null,
            "_view_module": "@jupyter-widgets/controls",
            "_view_module_version": "1.5.0",
            "_view_name": "HTMLView",
            "description": "",
            "description_tooltip": null,
            "layout": "IPY_MODEL_5768edeb33854d828864940d9f5e9309",
            "placeholder": "​",
            "style": "IPY_MODEL_fd34895cf4a443dab47fa43228ff6c59",
            "value": "Downloading (…)cial_tokens_map.json: 100%"
          }
        },
        "5768edeb33854d828864940d9f5e9309": {
          "model_module": "@jupyter-widgets/base",
          "model_module_version": "1.2.0",
          "model_name": "LayoutModel",
          "state": {
            "_model_module": "@jupyter-widgets/base",
            "_model_module_version": "1.2.0",
            "_model_name": "LayoutModel",
            "_view_count": null,
            "_view_module": "@jupyter-widgets/base",
            "_view_module_version": "1.2.0",
            "_view_name": "LayoutView",
            "align_content": null,
            "align_items": null,
            "align_self": null,
            "border": null,
            "bottom": null,
            "display": null,
            "flex": null,
            "flex_flow": null,
            "grid_area": null,
            "grid_auto_columns": null,
            "grid_auto_flow": null,
            "grid_auto_rows": null,
            "grid_column": null,
            "grid_gap": null,
            "grid_row": null,
            "grid_template_areas": null,
            "grid_template_columns": null,
            "grid_template_rows": null,
            "height": null,
            "justify_content": null,
            "justify_items": null,
            "left": null,
            "margin": null,
            "max_height": null,
            "max_width": null,
            "min_height": null,
            "min_width": null,
            "object_fit": null,
            "object_position": null,
            "order": null,
            "overflow": null,
            "overflow_x": null,
            "overflow_y": null,
            "padding": null,
            "right": null,
            "top": null,
            "visibility": null,
            "width": null
          }
        },
        "624c5862a4e243cab97bbdf050a30b95": {
          "model_module": "@jupyter-widgets/base",
          "model_module_version": "1.2.0",
          "model_name": "LayoutModel",
          "state": {
            "_model_module": "@jupyter-widgets/base",
            "_model_module_version": "1.2.0",
            "_model_name": "LayoutModel",
            "_view_count": null,
            "_view_module": "@jupyter-widgets/base",
            "_view_module_version": "1.2.0",
            "_view_name": "LayoutView",
            "align_content": null,
            "align_items": null,
            "align_self": null,
            "border": null,
            "bottom": null,
            "display": null,
            "flex": null,
            "flex_flow": null,
            "grid_area": null,
            "grid_auto_columns": null,
            "grid_auto_flow": null,
            "grid_auto_rows": null,
            "grid_column": null,
            "grid_gap": null,
            "grid_row": null,
            "grid_template_areas": null,
            "grid_template_columns": null,
            "grid_template_rows": null,
            "height": null,
            "justify_content": null,
            "justify_items": null,
            "left": null,
            "margin": null,
            "max_height": null,
            "max_width": null,
            "min_height": null,
            "min_width": null,
            "object_fit": null,
            "object_position": null,
            "order": null,
            "overflow": null,
            "overflow_x": null,
            "overflow_y": null,
            "padding": null,
            "right": null,
            "top": null,
            "visibility": null,
            "width": null
          }
        },
        "653e0aeddcc342e190de5ac2f68ef77a": {
          "model_module": "@jupyter-widgets/base",
          "model_module_version": "1.2.0",
          "model_name": "LayoutModel",
          "state": {
            "_model_module": "@jupyter-widgets/base",
            "_model_module_version": "1.2.0",
            "_model_name": "LayoutModel",
            "_view_count": null,
            "_view_module": "@jupyter-widgets/base",
            "_view_module_version": "1.2.0",
            "_view_name": "LayoutView",
            "align_content": null,
            "align_items": null,
            "align_self": null,
            "border": null,
            "bottom": null,
            "display": null,
            "flex": null,
            "flex_flow": null,
            "grid_area": null,
            "grid_auto_columns": null,
            "grid_auto_flow": null,
            "grid_auto_rows": null,
            "grid_column": null,
            "grid_gap": null,
            "grid_row": null,
            "grid_template_areas": null,
            "grid_template_columns": null,
            "grid_template_rows": null,
            "height": null,
            "justify_content": null,
            "justify_items": null,
            "left": null,
            "margin": null,
            "max_height": null,
            "max_width": null,
            "min_height": null,
            "min_width": null,
            "object_fit": null,
            "object_position": null,
            "order": null,
            "overflow": null,
            "overflow_x": null,
            "overflow_y": null,
            "padding": null,
            "right": null,
            "top": null,
            "visibility": null,
            "width": null
          }
        },
        "660fd7d5fbb941649eae46248a2086e1": {
          "model_module": "@jupyter-widgets/controls",
          "model_module_version": "1.5.0",
          "model_name": "FloatProgressModel",
          "state": {
            "_dom_classes": [],
            "_model_module": "@jupyter-widgets/controls",
            "_model_module_version": "1.5.0",
            "_model_name": "FloatProgressModel",
            "_view_count": null,
            "_view_module": "@jupyter-widgets/controls",
            "_view_module_version": "1.5.0",
            "_view_name": "ProgressView",
            "bar_style": "success",
            "description": "",
            "description_tooltip": null,
            "layout": "IPY_MODEL_2252192aa9c64dc4864e9da1ee22c38a",
            "max": 289,
            "min": 0,
            "orientation": "horizontal",
            "style": "IPY_MODEL_351ffb96e0c449cfb29b7927558c1d47",
            "value": 289
          }
        },
        "691e5eb874014c428d389bd2ce12246d": {
          "model_module": "@jupyter-widgets/controls",
          "model_module_version": "1.5.0",
          "model_name": "DescriptionStyleModel",
          "state": {
            "_model_module": "@jupyter-widgets/controls",
            "_model_module_version": "1.5.0",
            "_model_name": "DescriptionStyleModel",
            "_view_count": null,
            "_view_module": "@jupyter-widgets/base",
            "_view_module_version": "1.2.0",
            "_view_name": "StyleView",
            "description_width": ""
          }
        },
        "70d2b6d5843d49129a4c265ec0673403": {
          "model_module": "@jupyter-widgets/controls",
          "model_module_version": "1.5.0",
          "model_name": "HBoxModel",
          "state": {
            "_dom_classes": [],
            "_model_module": "@jupyter-widgets/controls",
            "_model_module_version": "1.5.0",
            "_model_name": "HBoxModel",
            "_view_count": null,
            "_view_module": "@jupyter-widgets/controls",
            "_view_module_version": "1.5.0",
            "_view_name": "HBoxView",
            "box_style": "",
            "children": [
              "IPY_MODEL_be463ca56d124a06946b77b696ee111a",
              "IPY_MODEL_ba8a603c47684026a9927ae7de11d7f9",
              "IPY_MODEL_a077affb9fd14668b2e1a5dc6b8189f5"
            ],
            "layout": "IPY_MODEL_1cb9192851da4346af412d62bd9d000c"
          }
        },
        "7a00d02ff98e41c69e429c148b3347c1": {
          "model_module": "@jupyter-widgets/controls",
          "model_module_version": "1.5.0",
          "model_name": "HTMLModel",
          "state": {
            "_dom_classes": [],
            "_model_module": "@jupyter-widgets/controls",
            "_model_module_version": "1.5.0",
            "_model_name": "HTMLModel",
            "_view_count": null,
            "_view_module": "@jupyter-widgets/controls",
            "_view_module_version": "1.5.0",
            "_view_name": "HTMLView",
            "description": "",
            "description_tooltip": null,
            "layout": "IPY_MODEL_2d23b18fd8704d53b6bda2fafe7fd003",
            "placeholder": "​",
            "style": "IPY_MODEL_37d4d1c4f27140c48e8bab2698999820",
            "value": " 125/125 [00:00&lt;00:00, 6.79kB/s]"
          }
        },
        "7f7077f2390f4fdc87149ea675acb039": {
          "model_module": "@jupyter-widgets/controls",
          "model_module_version": "1.5.0",
          "model_name": "HTMLModel",
          "state": {
            "_dom_classes": [],
            "_model_module": "@jupyter-widgets/controls",
            "_model_module_version": "1.5.0",
            "_model_name": "HTMLModel",
            "_view_count": null,
            "_view_module": "@jupyter-widgets/controls",
            "_view_module_version": "1.5.0",
            "_view_name": "HTMLView",
            "description": "",
            "description_tooltip": null,
            "layout": "IPY_MODEL_0d99bb468aab45f5a213befb6bcf5272",
            "placeholder": "​",
            "style": "IPY_MODEL_83175a59da6a474790732ae6aee04ce4",
            "value": " 289/289 [00:00&lt;00:00, 10.3kB/s]"
          }
        },
        "80898f5865a847e5932ef4a82354f4ba": {
          "model_module": "@jupyter-widgets/controls",
          "model_module_version": "1.5.0",
          "model_name": "DescriptionStyleModel",
          "state": {
            "_model_module": "@jupyter-widgets/controls",
            "_model_module_version": "1.5.0",
            "_model_name": "DescriptionStyleModel",
            "_view_count": null,
            "_view_module": "@jupyter-widgets/base",
            "_view_module_version": "1.2.0",
            "_view_name": "StyleView",
            "description_width": ""
          }
        },
        "83175a59da6a474790732ae6aee04ce4": {
          "model_module": "@jupyter-widgets/controls",
          "model_module_version": "1.5.0",
          "model_name": "DescriptionStyleModel",
          "state": {
            "_model_module": "@jupyter-widgets/controls",
            "_model_module_version": "1.5.0",
            "_model_name": "DescriptionStyleModel",
            "_view_count": null,
            "_view_module": "@jupyter-widgets/base",
            "_view_module_version": "1.2.0",
            "_view_name": "StyleView",
            "description_width": ""
          }
        },
        "8c8b7deeb75c45b4ad88e756e239c8d1": {
          "model_module": "@jupyter-widgets/controls",
          "model_module_version": "1.5.0",
          "model_name": "ProgressStyleModel",
          "state": {
            "_model_module": "@jupyter-widgets/controls",
            "_model_module_version": "1.5.0",
            "_model_name": "ProgressStyleModel",
            "_view_count": null,
            "_view_module": "@jupyter-widgets/base",
            "_view_module_version": "1.2.0",
            "_view_name": "StyleView",
            "bar_color": null,
            "description_width": ""
          }
        },
        "923d332d62194aa4a9e2bddc8bf53b54": {
          "model_module": "@jupyter-widgets/base",
          "model_module_version": "1.2.0",
          "model_name": "LayoutModel",
          "state": {
            "_model_module": "@jupyter-widgets/base",
            "_model_module_version": "1.2.0",
            "_model_name": "LayoutModel",
            "_view_count": null,
            "_view_module": "@jupyter-widgets/base",
            "_view_module_version": "1.2.0",
            "_view_name": "LayoutView",
            "align_content": null,
            "align_items": null,
            "align_self": null,
            "border": null,
            "bottom": null,
            "display": null,
            "flex": null,
            "flex_flow": null,
            "grid_area": null,
            "grid_auto_columns": null,
            "grid_auto_flow": null,
            "grid_auto_rows": null,
            "grid_column": null,
            "grid_gap": null,
            "grid_row": null,
            "grid_template_areas": null,
            "grid_template_columns": null,
            "grid_template_rows": null,
            "height": null,
            "justify_content": null,
            "justify_items": null,
            "left": null,
            "margin": null,
            "max_height": null,
            "max_width": null,
            "min_height": null,
            "min_width": null,
            "object_fit": null,
            "object_position": null,
            "order": null,
            "overflow": null,
            "overflow_x": null,
            "overflow_y": null,
            "padding": null,
            "right": null,
            "top": null,
            "visibility": null,
            "width": null
          }
        },
        "98c7a2fa2f3144b09319b4167a85badc": {
          "model_module": "@jupyter-widgets/controls",
          "model_module_version": "1.5.0",
          "model_name": "DescriptionStyleModel",
          "state": {
            "_model_module": "@jupyter-widgets/controls",
            "_model_module_version": "1.5.0",
            "_model_name": "DescriptionStyleModel",
            "_view_count": null,
            "_view_module": "@jupyter-widgets/base",
            "_view_module_version": "1.2.0",
            "_view_name": "StyleView",
            "description_width": ""
          }
        },
        "9a59b7f4abb541f18603f82306582e72": {
          "model_module": "@jupyter-widgets/base",
          "model_module_version": "1.2.0",
          "model_name": "LayoutModel",
          "state": {
            "_model_module": "@jupyter-widgets/base",
            "_model_module_version": "1.2.0",
            "_model_name": "LayoutModel",
            "_view_count": null,
            "_view_module": "@jupyter-widgets/base",
            "_view_module_version": "1.2.0",
            "_view_name": "LayoutView",
            "align_content": null,
            "align_items": null,
            "align_self": null,
            "border": null,
            "bottom": null,
            "display": null,
            "flex": null,
            "flex_flow": null,
            "grid_area": null,
            "grid_auto_columns": null,
            "grid_auto_flow": null,
            "grid_auto_rows": null,
            "grid_column": null,
            "grid_gap": null,
            "grid_row": null,
            "grid_template_areas": null,
            "grid_template_columns": null,
            "grid_template_rows": null,
            "height": null,
            "justify_content": null,
            "justify_items": null,
            "left": null,
            "margin": null,
            "max_height": null,
            "max_width": null,
            "min_height": null,
            "min_width": null,
            "object_fit": null,
            "object_position": null,
            "order": null,
            "overflow": null,
            "overflow_x": null,
            "overflow_y": null,
            "padding": null,
            "right": null,
            "top": null,
            "visibility": null,
            "width": null
          }
        },
        "9a82a355056a46fda82efcc0ed44306f": {
          "model_module": "@jupyter-widgets/controls",
          "model_module_version": "1.5.0",
          "model_name": "HBoxModel",
          "state": {
            "_dom_classes": [],
            "_model_module": "@jupyter-widgets/controls",
            "_model_module_version": "1.5.0",
            "_model_name": "HBoxModel",
            "_view_count": null,
            "_view_module": "@jupyter-widgets/controls",
            "_view_module_version": "1.5.0",
            "_view_name": "HBoxView",
            "box_style": "",
            "children": [
              "IPY_MODEL_dd21bc8487c946aa828b7c0ba01825fa",
              "IPY_MODEL_660fd7d5fbb941649eae46248a2086e1",
              "IPY_MODEL_7f7077f2390f4fdc87149ea675acb039"
            ],
            "layout": "IPY_MODEL_20e88c18ce0d4da9be6be911796115a1"
          }
        },
        "9a98c49deb2f48d2a1f9de1531154409": {
          "model_module": "@jupyter-widgets/controls",
          "model_module_version": "1.5.0",
          "model_name": "HBoxModel",
          "state": {
            "_dom_classes": [],
            "_model_module": "@jupyter-widgets/controls",
            "_model_module_version": "1.5.0",
            "_model_name": "HBoxModel",
            "_view_count": null,
            "_view_module": "@jupyter-widgets/controls",
            "_view_module_version": "1.5.0",
            "_view_name": "HBoxView",
            "box_style": "",
            "children": [
              "IPY_MODEL_fb8c324a5d3e4d43bf47536c11b3da33",
              "IPY_MODEL_9d211aa002774aefbce482bfc61ad880",
              "IPY_MODEL_d568e484d3e84c67a37683dbc74747fb"
            ],
            "layout": "IPY_MODEL_b35c2034752c453aae91c7c7ea3c2cf9"
          }
        },
        "9d211aa002774aefbce482bfc61ad880": {
          "model_module": "@jupyter-widgets/controls",
          "model_module_version": "1.5.0",
          "model_name": "FloatProgressModel",
          "state": {
            "_dom_classes": [],
            "_model_module": "@jupyter-widgets/controls",
            "_model_module_version": "1.5.0",
            "_model_name": "FloatProgressModel",
            "_view_count": null,
            "_view_module": "@jupyter-widgets/controls",
            "_view_module_version": "1.5.0",
            "_view_name": "ProgressView",
            "bar_style": "success",
            "description": "",
            "description_tooltip": null,
            "layout": "IPY_MODEL_624c5862a4e243cab97bbdf050a30b95",
            "max": 425,
            "min": 0,
            "orientation": "horizontal",
            "style": "IPY_MODEL_31a6a5c2b07c4ea09d512a0e05d7587f",
            "value": 425
          }
        },
        "a077affb9fd14668b2e1a5dc6b8189f5": {
          "model_module": "@jupyter-widgets/controls",
          "model_module_version": "1.5.0",
          "model_name": "HTMLModel",
          "state": {
            "_dom_classes": [],
            "_model_module": "@jupyter-widgets/controls",
            "_model_module_version": "1.5.0",
            "_model_name": "HTMLModel",
            "_view_count": null,
            "_view_module": "@jupyter-widgets/controls",
            "_view_module_version": "1.5.0",
            "_view_name": "HTMLView",
            "description": "",
            "description_tooltip": null,
            "layout": "IPY_MODEL_9a59b7f4abb541f18603f82306582e72",
            "placeholder": "​",
            "style": "IPY_MODEL_80898f5865a847e5932ef4a82354f4ba",
            "value": " 248k/248k [00:00&lt;00:00, 2.73MB/s]"
          }
        },
        "a45fb98d3d574d8f8154e55895804a85": {
          "model_module": "@jupyter-widgets/controls",
          "model_module_version": "1.5.0",
          "model_name": "FloatProgressModel",
          "state": {
            "_dom_classes": [],
            "_model_module": "@jupyter-widgets/controls",
            "_model_module_version": "1.5.0",
            "_model_name": "FloatProgressModel",
            "_view_count": null,
            "_view_module": "@jupyter-widgets/controls",
            "_view_module_version": "1.5.0",
            "_view_name": "ProgressView",
            "bar_style": "success",
            "description": "",
            "description_tooltip": null,
            "layout": "IPY_MODEL_653e0aeddcc342e190de5ac2f68ef77a",
            "max": 494860,
            "min": 0,
            "orientation": "horizontal",
            "style": "IPY_MODEL_8c8b7deeb75c45b4ad88e756e239c8d1",
            "value": 494860
          }
        },
        "b35c2034752c453aae91c7c7ea3c2cf9": {
          "model_module": "@jupyter-widgets/base",
          "model_module_version": "1.2.0",
          "model_name": "LayoutModel",
          "state": {
            "_model_module": "@jupyter-widgets/base",
            "_model_module_version": "1.2.0",
            "_model_name": "LayoutModel",
            "_view_count": null,
            "_view_module": "@jupyter-widgets/base",
            "_view_module_version": "1.2.0",
            "_view_name": "LayoutView",
            "align_content": null,
            "align_items": null,
            "align_self": null,
            "border": null,
            "bottom": null,
            "display": null,
            "flex": null,
            "flex_flow": null,
            "grid_area": null,
            "grid_auto_columns": null,
            "grid_auto_flow": null,
            "grid_auto_rows": null,
            "grid_column": null,
            "grid_gap": null,
            "grid_row": null,
            "grid_template_areas": null,
            "grid_template_columns": null,
            "grid_template_rows": null,
            "height": null,
            "justify_content": null,
            "justify_items": null,
            "left": null,
            "margin": null,
            "max_height": null,
            "max_width": null,
            "min_height": null,
            "min_width": null,
            "object_fit": null,
            "object_position": null,
            "order": null,
            "overflow": null,
            "overflow_x": null,
            "overflow_y": null,
            "padding": null,
            "right": null,
            "top": null,
            "visibility": null,
            "width": null
          }
        },
        "ba8a603c47684026a9927ae7de11d7f9": {
          "model_module": "@jupyter-widgets/controls",
          "model_module_version": "1.5.0",
          "model_name": "FloatProgressModel",
          "state": {
            "_dom_classes": [],
            "_model_module": "@jupyter-widgets/controls",
            "_model_module_version": "1.5.0",
            "_model_name": "FloatProgressModel",
            "_view_count": null,
            "_view_module": "@jupyter-widgets/controls",
            "_view_module_version": "1.5.0",
            "_view_name": "ProgressView",
            "bar_style": "success",
            "description": "",
            "description_tooltip": null,
            "layout": "IPY_MODEL_d524f5bab94f46f0b558985b37130cd5",
            "max": 248477,
            "min": 0,
            "orientation": "horizontal",
            "style": "IPY_MODEL_c90cda9e987043ad9e45ae3699f15c4e",
            "value": 248477
          }
        },
        "be463ca56d124a06946b77b696ee111a": {
          "model_module": "@jupyter-widgets/controls",
          "model_module_version": "1.5.0",
          "model_name": "HTMLModel",
          "state": {
            "_dom_classes": [],
            "_model_module": "@jupyter-widgets/controls",
            "_model_module_version": "1.5.0",
            "_model_name": "HTMLModel",
            "_view_count": null,
            "_view_module": "@jupyter-widgets/controls",
            "_view_module_version": "1.5.0",
            "_view_name": "HTMLView",
            "description": "",
            "description_tooltip": null,
            "layout": "IPY_MODEL_e7544aa2689148cba2f94b2dd93a2c60",
            "placeholder": "​",
            "style": "IPY_MODEL_41dd2bc3215b4182ba88a5bd8a7fc319",
            "value": "Downloading (…)solve/main/vocab.txt: 100%"
          }
        },
        "c829685c156f4db69903be085d1f9e03": {
          "model_module": "@jupyter-widgets/controls",
          "model_module_version": "1.5.0",
          "model_name": "HTMLModel",
          "state": {
            "_dom_classes": [],
            "_model_module": "@jupyter-widgets/controls",
            "_model_module_version": "1.5.0",
            "_model_name": "HTMLModel",
            "_view_count": null,
            "_view_module": "@jupyter-widgets/controls",
            "_view_module_version": "1.5.0",
            "_view_name": "HTMLView",
            "description": "",
            "description_tooltip": null,
            "layout": "IPY_MODEL_ddab1f044eef49c6a723b09a002ba64d",
            "placeholder": "​",
            "style": "IPY_MODEL_07009857103740e48defa9495a6251f2",
            "value": " 495k/495k [00:00&lt;00:00, 5.47MB/s]"
          }
        },
        "c90cda9e987043ad9e45ae3699f15c4e": {
          "model_module": "@jupyter-widgets/controls",
          "model_module_version": "1.5.0",
          "model_name": "ProgressStyleModel",
          "state": {
            "_model_module": "@jupyter-widgets/controls",
            "_model_module_version": "1.5.0",
            "_model_name": "ProgressStyleModel",
            "_view_count": null,
            "_view_module": "@jupyter-widgets/base",
            "_view_module_version": "1.2.0",
            "_view_name": "StyleView",
            "bar_color": null,
            "description_width": ""
          }
        },
        "d387bfb4ca454940923e65720560a2b3": {
          "model_module": "@jupyter-widgets/controls",
          "model_module_version": "1.5.0",
          "model_name": "HBoxModel",
          "state": {
            "_dom_classes": [],
            "_model_module": "@jupyter-widgets/controls",
            "_model_module_version": "1.5.0",
            "_model_name": "HBoxModel",
            "_view_count": null,
            "_view_module": "@jupyter-widgets/controls",
            "_view_module_version": "1.5.0",
            "_view_name": "HBoxView",
            "box_style": "",
            "children": [
              "IPY_MODEL_3412cc46cd0443ed8a62447501a19128",
              "IPY_MODEL_a45fb98d3d574d8f8154e55895804a85",
              "IPY_MODEL_c829685c156f4db69903be085d1f9e03"
            ],
            "layout": "IPY_MODEL_504142ddbec1485781a7f9ee945b67d9"
          }
        },
        "d524f5bab94f46f0b558985b37130cd5": {
          "model_module": "@jupyter-widgets/base",
          "model_module_version": "1.2.0",
          "model_name": "LayoutModel",
          "state": {
            "_model_module": "@jupyter-widgets/base",
            "_model_module_version": "1.2.0",
            "_model_name": "LayoutModel",
            "_view_count": null,
            "_view_module": "@jupyter-widgets/base",
            "_view_module_version": "1.2.0",
            "_view_name": "LayoutView",
            "align_content": null,
            "align_items": null,
            "align_self": null,
            "border": null,
            "bottom": null,
            "display": null,
            "flex": null,
            "flex_flow": null,
            "grid_area": null,
            "grid_auto_columns": null,
            "grid_auto_flow": null,
            "grid_auto_rows": null,
            "grid_column": null,
            "grid_gap": null,
            "grid_row": null,
            "grid_template_areas": null,
            "grid_template_columns": null,
            "grid_template_rows": null,
            "height": null,
            "justify_content": null,
            "justify_items": null,
            "left": null,
            "margin": null,
            "max_height": null,
            "max_width": null,
            "min_height": null,
            "min_width": null,
            "object_fit": null,
            "object_position": null,
            "order": null,
            "overflow": null,
            "overflow_x": null,
            "overflow_y": null,
            "padding": null,
            "right": null,
            "top": null,
            "visibility": null,
            "width": null
          }
        },
        "d568e484d3e84c67a37683dbc74747fb": {
          "model_module": "@jupyter-widgets/controls",
          "model_module_version": "1.5.0",
          "model_name": "HTMLModel",
          "state": {
            "_dom_classes": [],
            "_model_module": "@jupyter-widgets/controls",
            "_model_module_version": "1.5.0",
            "_model_name": "HTMLModel",
            "_view_count": null,
            "_view_module": "@jupyter-widgets/controls",
            "_view_module_version": "1.5.0",
            "_view_name": "HTMLView",
            "description": "",
            "description_tooltip": null,
            "layout": "IPY_MODEL_4c1b849f4ab049db8778b1ac6f288e91",
            "placeholder": "​",
            "style": "IPY_MODEL_fcd82ce054a945dbafe1a670bbbe1b9d",
            "value": " 425/425 [00:00&lt;00:00, 21.0kB/s]"
          }
        },
        "dd21bc8487c946aa828b7c0ba01825fa": {
          "model_module": "@jupyter-widgets/controls",
          "model_module_version": "1.5.0",
          "model_name": "HTMLModel",
          "state": {
            "_dom_classes": [],
            "_model_module": "@jupyter-widgets/controls",
            "_model_module_version": "1.5.0",
            "_model_name": "HTMLModel",
            "_view_count": null,
            "_view_module": "@jupyter-widgets/controls",
            "_view_module_version": "1.5.0",
            "_view_name": "HTMLView",
            "description": "",
            "description_tooltip": null,
            "layout": "IPY_MODEL_e6cbc51dadd4412f95175943472281cd",
            "placeholder": "​",
            "style": "IPY_MODEL_1e949dcf5eb04e5b92a0be96ba3de073",
            "value": "Downloading (…)okenizer_config.json: 100%"
          }
        },
        "ddab1f044eef49c6a723b09a002ba64d": {
          "model_module": "@jupyter-widgets/base",
          "model_module_version": "1.2.0",
          "model_name": "LayoutModel",
          "state": {
            "_model_module": "@jupyter-widgets/base",
            "_model_module_version": "1.2.0",
            "_model_name": "LayoutModel",
            "_view_count": null,
            "_view_module": "@jupyter-widgets/base",
            "_view_module_version": "1.2.0",
            "_view_name": "LayoutView",
            "align_content": null,
            "align_items": null,
            "align_self": null,
            "border": null,
            "bottom": null,
            "display": null,
            "flex": null,
            "flex_flow": null,
            "grid_area": null,
            "grid_auto_columns": null,
            "grid_auto_flow": null,
            "grid_auto_rows": null,
            "grid_column": null,
            "grid_gap": null,
            "grid_row": null,
            "grid_template_areas": null,
            "grid_template_columns": null,
            "grid_template_rows": null,
            "height": null,
            "justify_content": null,
            "justify_items": null,
            "left": null,
            "margin": null,
            "max_height": null,
            "max_width": null,
            "min_height": null,
            "min_width": null,
            "object_fit": null,
            "object_position": null,
            "order": null,
            "overflow": null,
            "overflow_x": null,
            "overflow_y": null,
            "padding": null,
            "right": null,
            "top": null,
            "visibility": null,
            "width": null
          }
        },
        "e6cbc51dadd4412f95175943472281cd": {
          "model_module": "@jupyter-widgets/base",
          "model_module_version": "1.2.0",
          "model_name": "LayoutModel",
          "state": {
            "_model_module": "@jupyter-widgets/base",
            "_model_module_version": "1.2.0",
            "_model_name": "LayoutModel",
            "_view_count": null,
            "_view_module": "@jupyter-widgets/base",
            "_view_module_version": "1.2.0",
            "_view_name": "LayoutView",
            "align_content": null,
            "align_items": null,
            "align_self": null,
            "border": null,
            "bottom": null,
            "display": null,
            "flex": null,
            "flex_flow": null,
            "grid_area": null,
            "grid_auto_columns": null,
            "grid_auto_flow": null,
            "grid_auto_rows": null,
            "grid_column": null,
            "grid_gap": null,
            "grid_row": null,
            "grid_template_areas": null,
            "grid_template_columns": null,
            "grid_template_rows": null,
            "height": null,
            "justify_content": null,
            "justify_items": null,
            "left": null,
            "margin": null,
            "max_height": null,
            "max_width": null,
            "min_height": null,
            "min_width": null,
            "object_fit": null,
            "object_position": null,
            "order": null,
            "overflow": null,
            "overflow_x": null,
            "overflow_y": null,
            "padding": null,
            "right": null,
            "top": null,
            "visibility": null,
            "width": null
          }
        },
        "e7544aa2689148cba2f94b2dd93a2c60": {
          "model_module": "@jupyter-widgets/base",
          "model_module_version": "1.2.0",
          "model_name": "LayoutModel",
          "state": {
            "_model_module": "@jupyter-widgets/base",
            "_model_module_version": "1.2.0",
            "_model_name": "LayoutModel",
            "_view_count": null,
            "_view_module": "@jupyter-widgets/base",
            "_view_module_version": "1.2.0",
            "_view_name": "LayoutView",
            "align_content": null,
            "align_items": null,
            "align_self": null,
            "border": null,
            "bottom": null,
            "display": null,
            "flex": null,
            "flex_flow": null,
            "grid_area": null,
            "grid_auto_columns": null,
            "grid_auto_flow": null,
            "grid_auto_rows": null,
            "grid_column": null,
            "grid_gap": null,
            "grid_row": null,
            "grid_template_areas": null,
            "grid_template_columns": null,
            "grid_template_rows": null,
            "height": null,
            "justify_content": null,
            "justify_items": null,
            "left": null,
            "margin": null,
            "max_height": null,
            "max_width": null,
            "min_height": null,
            "min_width": null,
            "object_fit": null,
            "object_position": null,
            "order": null,
            "overflow": null,
            "overflow_x": null,
            "overflow_y": null,
            "padding": null,
            "right": null,
            "top": null,
            "visibility": null,
            "width": null
          }
        },
        "fb8c324a5d3e4d43bf47536c11b3da33": {
          "model_module": "@jupyter-widgets/controls",
          "model_module_version": "1.5.0",
          "model_name": "HTMLModel",
          "state": {
            "_dom_classes": [],
            "_model_module": "@jupyter-widgets/controls",
            "_model_module_version": "1.5.0",
            "_model_name": "HTMLModel",
            "_view_count": null,
            "_view_module": "@jupyter-widgets/controls",
            "_view_module_version": "1.5.0",
            "_view_name": "HTMLView",
            "description": "",
            "description_tooltip": null,
            "layout": "IPY_MODEL_16d7a497f642422ca965ceed9d89a5e3",
            "placeholder": "​",
            "style": "IPY_MODEL_691e5eb874014c428d389bd2ce12246d",
            "value": "Downloading (…)lve/main/config.json: 100%"
          }
        },
        "fcd82ce054a945dbafe1a670bbbe1b9d": {
          "model_module": "@jupyter-widgets/controls",
          "model_module_version": "1.5.0",
          "model_name": "DescriptionStyleModel",
          "state": {
            "_model_module": "@jupyter-widgets/controls",
            "_model_module_version": "1.5.0",
            "_model_name": "DescriptionStyleModel",
            "_view_count": null,
            "_view_module": "@jupyter-widgets/base",
            "_view_module_version": "1.2.0",
            "_view_name": "StyleView",
            "description_width": ""
          }
        },
        "fd34895cf4a443dab47fa43228ff6c59": {
          "model_module": "@jupyter-widgets/controls",
          "model_module_version": "1.5.0",
          "model_name": "DescriptionStyleModel",
          "state": {
            "_model_module": "@jupyter-widgets/controls",
            "_model_module_version": "1.5.0",
            "_model_name": "DescriptionStyleModel",
            "_view_count": null,
            "_view_module": "@jupyter-widgets/base",
            "_view_module_version": "1.2.0",
            "_view_name": "StyleView",
            "description_width": ""
          }
        }
      }
    }
  },
  "nbformat": 4,
  "nbformat_minor": 5
}
