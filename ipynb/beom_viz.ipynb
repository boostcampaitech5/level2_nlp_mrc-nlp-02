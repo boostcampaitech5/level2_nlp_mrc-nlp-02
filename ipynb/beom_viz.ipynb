{
 "cells": [
  {
   "cell_type": "code",
   "execution_count": 34,
   "id": "460fa429",
   "metadata": {
    "ExecuteTime": {
     "end_time": "2023-06-07T11:58:58.426467Z",
     "start_time": "2023-06-07T11:58:51.598266Z"
    }
   },
   "outputs": [],
   "source": [
    "import matplotlib\n",
    "import pickle\n",
    "import os\n",
    "import re\n",
    "import json\n",
    "import numpy as np\n",
    "import pandas as pd\n",
    "import matplotlib.pyplot as plt\n",
    "import seaborn as sns\n",
    "import matplotlib.style as style\n",
    "\n",
    "import warnings\n",
    "warnings.filterwarnings('ignore')\n",
    "\n",
    "plt.style.use('seaborn')\n",
    "from matplotlib import rc, font_manager\n",
    "style.use(\"fivethirtyeight\")\n",
    "style.use(\"seaborn-talk\")\n",
    "plt.rcParams['font.family'] = 'serif'\n",
    "matplotlib.rcParams['axes.unicode_minus'] =False\n",
    "\n",
    "%matplotlib inline"
   ]
  },
  {
   "attachments": {},
   "cell_type": "markdown",
   "id": "d7f42e85",
   "metadata": {},
   "source": [
    "# 1. 데이터 불러오기"
   ]
  },
  {
   "attachments": {},
   "cell_type": "markdown",
   "id": "3d235ed1",
   "metadata": {},
   "source": [
    "## 1.1 wiki 데이터 불러오기"
   ]
  },
  {
   "cell_type": "code",
   "execution_count": 6,
   "id": "729480e1",
   "metadata": {
    "ExecuteTime": {
     "end_time": "2023-06-07T11:59:00.305250Z",
     "start_time": "2023-06-07T11:58:58.427246Z"
    }
   },
   "outputs": [
    {
     "data": {
      "text/plain": [
       "dict_keys(['text', 'corpus_source', 'url', 'domain', 'title', 'author', 'html', 'document_id'])"
      ]
     },
     "execution_count": 6,
     "metadata": {},
     "output_type": "execute_result"
    }
   ],
   "source": [
    "with open(os.path.join(\"../input/data/wikipedia_documents.json\"), \"r\", encoding=\"utf-8\") as f:\n",
    "    wiki = json.load(f)\n",
    "wiki['0'].keys()"
   ]
  },
  {
   "cell_type": "code",
   "execution_count": 7,
   "id": "d7679862",
   "metadata": {
    "ExecuteTime": {
     "end_time": "2023-06-07T11:59:02.911395Z",
     "start_time": "2023-06-07T11:59:00.305250Z"
    }
   },
   "outputs": [
    {
     "data": {
      "text/html": [
       "<div>\n",
       "<style scoped>\n",
       "    .dataframe tbody tr th:only-of-type {\n",
       "        vertical-align: middle;\n",
       "    }\n",
       "\n",
       "    .dataframe tbody tr th {\n",
       "        vertical-align: top;\n",
       "    }\n",
       "\n",
       "    .dataframe thead th {\n",
       "        text-align: right;\n",
       "    }\n",
       "</style>\n",
       "<table border=\"1\" class=\"dataframe\">\n",
       "  <thead>\n",
       "    <tr style=\"text-align: right;\">\n",
       "      <th></th>\n",
       "      <th>text</th>\n",
       "      <th>corpus_source</th>\n",
       "      <th>url</th>\n",
       "      <th>domain</th>\n",
       "      <th>title</th>\n",
       "      <th>author</th>\n",
       "      <th>html</th>\n",
       "      <th>document_id</th>\n",
       "    </tr>\n",
       "  </thead>\n",
       "  <tbody>\n",
       "    <tr>\n",
       "      <th>0</th>\n",
       "      <td>이 문서는 나라 목록이며, 전 세계 206개 나라의 각 현황과 주권 승인 정보를 개...</td>\n",
       "      <td>위키피디아</td>\n",
       "      <td>TODO</td>\n",
       "      <td>None</td>\n",
       "      <td>나라 목록</td>\n",
       "      <td>None</td>\n",
       "      <td>None</td>\n",
       "      <td>0</td>\n",
       "    </tr>\n",
       "    <tr>\n",
       "      <th>1</th>\n",
       "      <td>이 목록에 실린 국가 기준은 1933년 몬테비데오 협약 1장을 참고로 하였다. 협정...</td>\n",
       "      <td>위키피디아</td>\n",
       "      <td>TODO</td>\n",
       "      <td>None</td>\n",
       "      <td>나라 목록</td>\n",
       "      <td>None</td>\n",
       "      <td>None</td>\n",
       "      <td>1</td>\n",
       "    </tr>\n",
       "    <tr>\n",
       "      <th>2</th>\n",
       "      <td>현 서울특별시 종로구 서린동 (구 일제 강점기 경기도 경성부 서린정) 출신이다. 친...</td>\n",
       "      <td>위키피디아</td>\n",
       "      <td>TODO</td>\n",
       "      <td>None</td>\n",
       "      <td>백남준</td>\n",
       "      <td>None</td>\n",
       "      <td>None</td>\n",
       "      <td>2</td>\n",
       "    </tr>\n",
       "    <tr>\n",
       "      <th>3</th>\n",
       "      <td>아오조라 문고(靑空文庫, あおぞらぶんこ|아오조라 분고)는 ‘일본어판 구텐베르크 프로...</td>\n",
       "      <td>위키피디아</td>\n",
       "      <td>TODO</td>\n",
       "      <td>None</td>\n",
       "      <td>아오조라 문고</td>\n",
       "      <td>None</td>\n",
       "      <td>None</td>\n",
       "      <td>3</td>\n",
       "    </tr>\n",
       "    <tr>\n",
       "      <th>4</th>\n",
       "      <td>저자 사망 이후 50년이 지나 저작권이 소멸한 메이지 시대부터 쇼와 시대 초기까지의...</td>\n",
       "      <td>위키피디아</td>\n",
       "      <td>TODO</td>\n",
       "      <td>None</td>\n",
       "      <td>아오조라 문고</td>\n",
       "      <td>None</td>\n",
       "      <td>None</td>\n",
       "      <td>4</td>\n",
       "    </tr>\n",
       "  </tbody>\n",
       "</table>\n",
       "</div>"
      ],
      "text/plain": [
       "                                                text corpus_source   url  \\\n",
       "0  이 문서는 나라 목록이며, 전 세계 206개 나라의 각 현황과 주권 승인 정보를 개...         위키피디아  TODO   \n",
       "1  이 목록에 실린 국가 기준은 1933년 몬테비데오 협약 1장을 참고로 하였다. 협정...         위키피디아  TODO   \n",
       "2  현 서울특별시 종로구 서린동 (구 일제 강점기 경기도 경성부 서린정) 출신이다. 친...         위키피디아  TODO   \n",
       "3  아오조라 문고(靑空文庫, あおぞらぶんこ|아오조라 분고)는 ‘일본어판 구텐베르크 프로...         위키피디아  TODO   \n",
       "4  저자 사망 이후 50년이 지나 저작권이 소멸한 메이지 시대부터 쇼와 시대 초기까지의...         위키피디아  TODO   \n",
       "\n",
       "  domain    title author  html document_id  \n",
       "0   None    나라 목록   None  None           0  \n",
       "1   None    나라 목록   None  None           1  \n",
       "2   None      백남준   None  None           2  \n",
       "3   None  아오조라 문고   None  None           3  \n",
       "4   None  아오조라 문고   None  None           4  "
      ]
     },
     "execution_count": 7,
     "metadata": {},
     "output_type": "execute_result"
    }
   ],
   "source": [
    "wiki = pd.DataFrame(wiki).T\n",
    "wiki.head()"
   ]
  },
  {
   "cell_type": "code",
   "execution_count": 8,
   "id": "c1a694fd",
   "metadata": {
    "ExecuteTime": {
     "end_time": "2023-06-07T11:59:02.926687Z",
     "start_time": "2023-06-07T11:59:02.914944Z"
    }
   },
   "outputs": [
    {
     "data": {
      "text/plain": [
       "60613"
      ]
     },
     "execution_count": 8,
     "metadata": {},
     "output_type": "execute_result"
    }
   ],
   "source": [
    "len(wiki)"
   ]
  },
  {
   "attachments": {},
   "cell_type": "markdown",
   "id": "a3e0a9c6",
   "metadata": {},
   "source": [
    "## 1.2 train/valid 데이터 불러오기"
   ]
  },
  {
   "cell_type": "code",
   "execution_count": 9,
   "id": "4fb39cea",
   "metadata": {
    "ExecuteTime": {
     "end_time": "2023-06-07T11:59:05.061929Z",
     "start_time": "2023-06-07T11:59:02.944405Z"
    }
   },
   "outputs": [],
   "source": [
    "# train_dataset을 불러오고 싶은 경우\n",
    "from datasets import load_from_disk\n",
    "train_dataset = load_from_disk(\"../input/data/train_dataset/\")"
   ]
  },
  {
   "cell_type": "code",
   "execution_count": 10,
   "id": "1bc57141",
   "metadata": {
    "ExecuteTime": {
     "end_time": "2023-06-07T11:59:05.079350Z",
     "start_time": "2023-06-07T11:59:05.065057Z"
    }
   },
   "outputs": [
    {
     "data": {
      "text/plain": [
       "DatasetDict({\n",
       "    train: Dataset({\n",
       "        features: ['title', 'context', 'question', 'id', 'answers', 'document_id', '__index_level_0__'],\n",
       "        num_rows: 3952\n",
       "    })\n",
       "    validation: Dataset({\n",
       "        features: ['title', 'context', 'question', 'id', 'answers', 'document_id', '__index_level_0__'],\n",
       "        num_rows: 240\n",
       "    })\n",
       "})"
      ]
     },
     "execution_count": 10,
     "metadata": {},
     "output_type": "execute_result"
    }
   ],
   "source": [
    "train_dataset"
   ]
  },
  {
   "attachments": {},
   "cell_type": "markdown",
   "id": "89adee28",
   "metadata": {},
   "source": [
    "- id: 질문의 고유 id\n",
    "- question: 질문\n",
    "- answers: 답변에 대한 정보. 하나의 질문에 하나의 답변만 존재함\n",
    "    - answer_start : 답변의 시작 위치\n",
    "    - text: 답변의 텍스트\n",
    "- context: 답변이 포함된 문서\n",
    "- title: 문서의 제목\n",
    "- document_id: 문서의 고유 id"
   ]
  },
  {
   "cell_type": "code",
   "execution_count": 11,
   "id": "458a38ed",
   "metadata": {
    "ExecuteTime": {
     "end_time": "2023-06-07T11:59:05.309740Z",
     "start_time": "2023-06-07T11:59:05.082371Z"
    }
   },
   "outputs": [],
   "source": [
    "train=pd.DataFrame({'title':train_dataset['train']['title'], 'context':train_dataset['train']['context'], 'question':train_dataset['train']['question'], 'id':train_dataset['train']['id'], 'answers':train_dataset['train']['answers'], 'document_id':train_dataset['train']['document_id'], '__index_level_0__':train_dataset['train']['__index_level_0__']})\n",
    "valid=pd.DataFrame({'title':train_dataset['validation']['title'], 'context':train_dataset['validation']['context'], 'question':train_dataset['validation']['question'], 'id':train_dataset['validation']['id'], 'answers':train_dataset['validation']['answers'], 'document_id':train_dataset['validation']['document_id'], '__index_level_0__':train_dataset['validation']['__index_level_0__']})"
   ]
  },
  {
   "cell_type": "code",
   "execution_count": 12,
   "id": "5d1800b4",
   "metadata": {
    "ExecuteTime": {
     "end_time": "2023-06-07T11:59:05.325416Z",
     "start_time": "2023-06-07T11:59:05.312591Z"
    }
   },
   "outputs": [
    {
     "data": {
      "text/plain": [
       "3952"
      ]
     },
     "execution_count": 12,
     "metadata": {},
     "output_type": "execute_result"
    }
   ],
   "source": [
    "len(train)"
   ]
  },
  {
   "cell_type": "code",
   "execution_count": 13,
   "id": "fabfb07f",
   "metadata": {
    "ExecuteTime": {
     "end_time": "2023-06-07T11:59:05.341156Z",
     "start_time": "2023-06-07T11:59:05.325416Z"
    }
   },
   "outputs": [
    {
     "data": {
      "text/plain": [
       "240"
      ]
     },
     "execution_count": 13,
     "metadata": {},
     "output_type": "execute_result"
    }
   ],
   "source": [
    "len(valid)"
   ]
  },
  {
   "cell_type": "code",
   "execution_count": 14,
   "id": "c6b395e7",
   "metadata": {
    "ExecuteTime": {
     "end_time": "2023-06-07T11:59:05.362906Z",
     "start_time": "2023-06-07T11:59:05.341156Z"
    }
   },
   "outputs": [
    {
     "data": {
      "text/plain": [
       "Index(['title', 'context', 'question', 'id', 'answers', 'document_id',\n",
       "       '__index_level_0__'],\n",
       "      dtype='object')"
      ]
     },
     "execution_count": 14,
     "metadata": {},
     "output_type": "execute_result"
    }
   ],
   "source": [
    "train.columns"
   ]
  },
  {
   "cell_type": "code",
   "execution_count": 15,
   "id": "20c56c47",
   "metadata": {
    "ExecuteTime": {
     "end_time": "2023-06-07T11:59:05.381060Z",
     "start_time": "2023-06-07T11:59:05.365933Z"
    }
   },
   "outputs": [
    {
     "data": {
      "text/plain": [
       "Index(['title', 'context', 'question', 'id', 'answers', 'document_id',\n",
       "       '__index_level_0__'],\n",
       "      dtype='object')"
      ]
     },
     "execution_count": 15,
     "metadata": {},
     "output_type": "execute_result"
    }
   ],
   "source": [
    "valid.columns"
   ]
  },
  {
   "cell_type": "code",
   "execution_count": 16,
   "id": "0b0922b5",
   "metadata": {
    "ExecuteTime": {
     "end_time": "2023-06-07T11:59:05.541668Z",
     "start_time": "2023-06-07T11:59:05.499300Z"
    }
   },
   "outputs": [
    {
     "data": {
      "text/html": [
       "<div>\n",
       "<style scoped>\n",
       "    .dataframe tbody tr th:only-of-type {\n",
       "        vertical-align: middle;\n",
       "    }\n",
       "\n",
       "    .dataframe tbody tr th {\n",
       "        vertical-align: top;\n",
       "    }\n",
       "\n",
       "    .dataframe thead th {\n",
       "        text-align: right;\n",
       "    }\n",
       "</style>\n",
       "<table border=\"1\" class=\"dataframe\">\n",
       "  <thead>\n",
       "    <tr style=\"text-align: right;\">\n",
       "      <th></th>\n",
       "      <th>title</th>\n",
       "      <th>context</th>\n",
       "      <th>question</th>\n",
       "      <th>id</th>\n",
       "      <th>answers</th>\n",
       "      <th>document_id</th>\n",
       "      <th>__index_level_0__</th>\n",
       "    </tr>\n",
       "  </thead>\n",
       "  <tbody>\n",
       "    <tr>\n",
       "      <th>0</th>\n",
       "      <td>미국 상원</td>\n",
       "      <td>미국 상의원 또는 미국 상원(United States Senate)은 양원제인 미국...</td>\n",
       "      <td>대통령을 포함한 미국의 행정부 견제권을 갖는 국가 기관은?</td>\n",
       "      <td>mrc-1-000067</td>\n",
       "      <td>{'answer_start': [235], 'text': ['하원']}</td>\n",
       "      <td>18293</td>\n",
       "      <td>42</td>\n",
       "    </tr>\n",
       "    <tr>\n",
       "      <th>1</th>\n",
       "      <td>인사조직관리</td>\n",
       "      <td>'근대적 경영학' 또는 '고전적 경영학'에서 현대적 경영학으로 전환되는 시기는 19...</td>\n",
       "      <td>현대적 인사조직관리의 시발점이 된 책은?</td>\n",
       "      <td>mrc-0-004397</td>\n",
       "      <td>{'answer_start': [212], 'text': ['《경영의 실제》']}</td>\n",
       "      <td>51638</td>\n",
       "      <td>2873</td>\n",
       "    </tr>\n",
       "    <tr>\n",
       "      <th>2</th>\n",
       "      <td>강희제</td>\n",
       "      <td>강희제는 강화된 황권으로 거의 황제 중심의 독단적으로 나라를 이끌어 갔기에 자칫 전...</td>\n",
       "      <td>강희제가 1717년에 쓴 글은 누구를 위해 쓰여졌는가?</td>\n",
       "      <td>mrc-1-000362</td>\n",
       "      <td>{'answer_start': [510], 'text': ['백성']}</td>\n",
       "      <td>5028</td>\n",
       "      <td>230</td>\n",
       "    </tr>\n",
       "    <tr>\n",
       "      <th>3</th>\n",
       "      <td>금동삼존불감</td>\n",
       "      <td>불상을 모시기 위해 나무나 돌, 쇠 등을 깎아 일반적인 건축물보다 작은 규모로 만든...</td>\n",
       "      <td>11~12세기에 제작된 본존불은 보통 어떤 나라의 특징이 전파되었나요?</td>\n",
       "      <td>mrc-0-001510</td>\n",
       "      <td>{'answer_start': [625], 'text': ['중국']}</td>\n",
       "      <td>34146</td>\n",
       "      <td>992</td>\n",
       "    </tr>\n",
       "    <tr>\n",
       "      <th>4</th>\n",
       "      <td>계사명 사리구</td>\n",
       "      <td>동아대학교박물관에서 소장하고 있는 계사명 사리구는 총 4개의 용기로 구성된 조선후기...</td>\n",
       "      <td>명문이 적힌 유물을 구성하는 그릇의 총 개수는?</td>\n",
       "      <td>mrc-0-000823</td>\n",
       "      <td>{'answer_start': [30], 'text': ['4개']}</td>\n",
       "      <td>47334</td>\n",
       "      <td>548</td>\n",
       "    </tr>\n",
       "  </tbody>\n",
       "</table>\n",
       "</div>"
      ],
      "text/plain": [
       "     title                                            context  \\\n",
       "0    미국 상원  미국 상의원 또는 미국 상원(United States Senate)은 양원제인 미국...   \n",
       "1   인사조직관리  '근대적 경영학' 또는 '고전적 경영학'에서 현대적 경영학으로 전환되는 시기는 19...   \n",
       "2      강희제  강희제는 강화된 황권으로 거의 황제 중심의 독단적으로 나라를 이끌어 갔기에 자칫 전...   \n",
       "3   금동삼존불감  불상을 모시기 위해 나무나 돌, 쇠 등을 깎아 일반적인 건축물보다 작은 규모로 만든...   \n",
       "4  계사명 사리구  동아대학교박물관에서 소장하고 있는 계사명 사리구는 총 4개의 용기로 구성된 조선후기...   \n",
       "\n",
       "                                  question            id  \\\n",
       "0         대통령을 포함한 미국의 행정부 견제권을 갖는 국가 기관은?  mrc-1-000067   \n",
       "1                   현대적 인사조직관리의 시발점이 된 책은?  mrc-0-004397   \n",
       "2           강희제가 1717년에 쓴 글은 누구를 위해 쓰여졌는가?  mrc-1-000362   \n",
       "3  11~12세기에 제작된 본존불은 보통 어떤 나라의 특징이 전파되었나요?  mrc-0-001510   \n",
       "4               명문이 적힌 유물을 구성하는 그릇의 총 개수는?  mrc-0-000823   \n",
       "\n",
       "                                         answers  document_id  \\\n",
       "0        {'answer_start': [235], 'text': ['하원']}        18293   \n",
       "1  {'answer_start': [212], 'text': ['《경영의 실제》']}        51638   \n",
       "2        {'answer_start': [510], 'text': ['백성']}         5028   \n",
       "3        {'answer_start': [625], 'text': ['중국']}        34146   \n",
       "4         {'answer_start': [30], 'text': ['4개']}        47334   \n",
       "\n",
       "   __index_level_0__  \n",
       "0                 42  \n",
       "1               2873  \n",
       "2                230  \n",
       "3                992  \n",
       "4                548  "
      ]
     },
     "execution_count": 16,
     "metadata": {},
     "output_type": "execute_result"
    }
   ],
   "source": [
    "train.head()"
   ]
  },
  {
   "attachments": {},
   "cell_type": "markdown",
   "id": "e6607e8c",
   "metadata": {},
   "source": [
    "## 1.3 중복 제거하기"
   ]
  },
  {
   "cell_type": "code",
   "execution_count": 60,
   "id": "0b22090c",
   "metadata": {},
   "outputs": [
    {
     "data": {
      "text/plain": [
       "((3952, 7), (3952, 7))"
      ]
     },
     "execution_count": 60,
     "metadata": {},
     "output_type": "execute_result"
    }
   ],
   "source": [
    "train.shape, train.drop_duplicates(subset=['context', 'question']).shape"
   ]
  },
  {
   "cell_type": "code",
   "execution_count": 61,
   "id": "913ccce3",
   "metadata": {},
   "outputs": [
    {
     "data": {
      "text/plain": [
       "((240, 7), (240, 7))"
      ]
     },
     "execution_count": 61,
     "metadata": {},
     "output_type": "execute_result"
    }
   ],
   "source": [
    "valid.shape, valid.drop_duplicates(subset=['context', 'question']).shape"
   ]
  },
  {
   "cell_type": "code",
   "execution_count": 62,
   "id": "1d87c815",
   "metadata": {},
   "outputs": [
    {
     "data": {
      "text/plain": [
       "((60613, 8), (60613, 8))"
      ]
     },
     "execution_count": 62,
     "metadata": {},
     "output_type": "execute_result"
    }
   ],
   "source": [
    "wiki.shape, wiki.drop_duplicates().shape"
   ]
  },
  {
   "attachments": {},
   "cell_type": "markdown",
   "id": "312394a2",
   "metadata": {},
   "source": [
    "# 2. 토크나이징 후 길이 분포 확인하기"
   ]
  },
  {
   "cell_type": "code",
   "execution_count": 17,
   "id": "5aa20732",
   "metadata": {},
   "outputs": [],
   "source": [
    "from transformers import AutoTokenizer"
   ]
  },
  {
   "cell_type": "code",
   "execution_count": 19,
   "id": "69684028",
   "metadata": {},
   "outputs": [
    {
     "data": {
      "text/plain": [
       "BertTokenizerFast(name_or_path='klue/bert-base', vocab_size=32000, model_max_length=512, is_fast=True, padding_side='right', truncation_side='right', special_tokens={'unk_token': '[UNK]', 'sep_token': '[SEP]', 'pad_token': '[PAD]', 'cls_token': '[CLS]', 'mask_token': '[MASK]'}, clean_up_tokenization_spaces=True)"
      ]
     },
     "execution_count": 19,
     "metadata": {},
     "output_type": "execute_result"
    }
   ],
   "source": [
    "tokenizer = AutoTokenizer.from_pretrained('klue/bert-base')\n",
    "tokenizer"
   ]
  },
  {
   "attachments": {},
   "cell_type": "markdown",
   "id": "352df11d",
   "metadata": {},
   "source": [
    "## 2.0 wiki의 text 길이 분포 확인"
   ]
  },
  {
   "cell_type": "code",
   "execution_count": 48,
   "id": "963486d5",
   "metadata": {},
   "outputs": [],
   "source": [
    "def find_PAD(tokens):\n",
    "    data = []\n",
    "\n",
    "    for token in tokens:\n",
    "        data.append(len(token))\n",
    "    \n",
    "    return data"
   ]
  },
  {
   "cell_type": "code",
   "execution_count": 49,
   "id": "10a4c6ef",
   "metadata": {},
   "outputs": [],
   "source": [
    "wiki_tokens_len = find_PAD(tokenizer(wiki['text'].tolist())['input_ids'])"
   ]
  },
  {
   "cell_type": "code",
   "execution_count": 51,
   "id": "2dbd9dc4",
   "metadata": {},
   "outputs": [
    {
     "data": {
      "text/plain": [
       "(27541, 56)"
      ]
     },
     "execution_count": 51,
     "metadata": {},
     "output_type": "execute_result"
    }
   ],
   "source": [
    "max(wiki_tokens_len), min(wiki_tokens_len)"
   ]
  },
  {
   "cell_type": "code",
   "execution_count": 50,
   "id": "5a63cc0a",
   "metadata": {},
   "outputs": [
    {
     "data": {
      "text/plain": [
       "Text(0.5, 0, 'wiki text len')"
      ]
     },
     "execution_count": 50,
     "metadata": {},
     "output_type": "execute_result"
    },
    {
     "data": {
      "image/png": "[encoded data removed]",
      "text/plain": [
       "<Figure size 1040x715 with 1 Axes>"
      ]
     },
     "metadata": {},
     "output_type": "display_data"
    }
   ],
   "source": [
    "plt.hist(wiki_tokens_len)\n",
    "plt.xlabel('wiki text len')"
   ]
  },
  {
   "attachments": {},
   "cell_type": "markdown",
   "id": "12c26919",
   "metadata": {},
   "source": [
    "## 2.1 question에서 [PAD] 등장 위치 확인"
   ]
  },
  {
   "cell_type": "code",
   "execution_count": 26,
   "id": "fc88a5e5",
   "metadata": {},
   "outputs": [],
   "source": [
    "train_q_tokens = tokenizer(train['question'].tolist())['input_ids']\n",
    "val_q_tokens = tokenizer(valid['question'].tolist())['input_ids']"
   ]
  },
  {
   "cell_type": "code",
   "execution_count": 42,
   "id": "98f0f5d3",
   "metadata": {},
   "outputs": [],
   "source": [
    "train_q_real_len = find_PAD(train_q_tokens)\n",
    "val_q_real_len = find_PAD(val_q_tokens)"
   ]
  },
  {
   "cell_type": "code",
   "execution_count": 44,
   "id": "ed0d9a6f",
   "metadata": {},
   "outputs": [
    {
     "data": {
      "text/plain": [
       "Text(0.5, 0, 'val question len')"
      ]
     },
     "execution_count": 44,
     "metadata": {},
     "output_type": "execute_result"
    },
    {
     "data": {
      "image/png": "[encoded data removed]",
      "text/plain": [
       "<Figure size 1040x715 with 2 Axes>"
      ]
     },
     "metadata": {},
     "output_type": "display_data"
    }
   ],
   "source": [
    "plt.subplot(1, 2, 1)\n",
    "plt.hist(train_q_real_len)\n",
    "plt.xlabel('train question len')\n",
    "\n",
    "plt.subplot(1, 2, 2)\n",
    "plt.hist(val_q_real_len)\n",
    "plt.xlabel('val question len')"
   ]
  },
  {
   "attachments": {},
   "cell_type": "markdown",
   "id": "e5e8c5a0",
   "metadata": {},
   "source": [
    "## 2.2 context에서 [PAD] 등장 위치 확인"
   ]
  },
  {
   "cell_type": "code",
   "execution_count": 45,
   "id": "6d9aac67",
   "metadata": {},
   "outputs": [
    {
     "name": "stderr",
     "output_type": "stream",
     "text": [
      "Token indices sequence length is longer than the specified maximum sequence length for this model (1022 > 512). Running this sequence through the model will result in indexing errors\n"
     ]
    }
   ],
   "source": [
    "train_c_tokens = tokenizer(train['context'].tolist())['input_ids']\n",
    "val_c_tokens = tokenizer(valid['context'].tolist())['input_ids']"
   ]
  },
  {
   "cell_type": "code",
   "execution_count": 46,
   "id": "3cc83e18",
   "metadata": {},
   "outputs": [],
   "source": [
    "train_c_real_len = find_PAD(train_c_tokens)\n",
    "val_c_real_len = find_PAD(val_c_tokens)"
   ]
  },
  {
   "cell_type": "code",
   "execution_count": 47,
   "id": "14b8dd59",
   "metadata": {},
   "outputs": [
    {
     "data": {
      "text/plain": [
       "Text(0.5, 0, 'val context len')"
      ]
     },
     "execution_count": 47,
     "metadata": {},
     "output_type": "execute_result"
    },
    {
     "data": {
      "image/png": "[encoded data removed]",
      "text/plain": [
       "<Figure size 1040x715 with 2 Axes>"
      ]
     },
     "metadata": {},
     "output_type": "display_data"
    }
   ],
   "source": [
    "plt.subplot(1, 2, 1)\n",
    "plt.hist(train_c_real_len)\n",
    "plt.xlabel('train context len')\n",
    "\n",
    "plt.subplot(1, 2, 2)\n",
    "plt.hist(val_c_real_len)\n",
    "plt.xlabel('val context len')"
   ]
  },
  {
   "attachments": {},
   "cell_type": "markdown",
   "id": "5bacf2fd",
   "metadata": {},
   "source": [
    "## 2.3 model input의 길이 분포 확인"
   ]
  },
  {
   "cell_type": "code",
   "execution_count": 52,
   "id": "5ed0204a",
   "metadata": {},
   "outputs": [],
   "source": [
    "def concat_tokens_len(p, c):\n",
    "    data = []\n",
    "\n",
    "    for p_len, c_len in zip(p, c):\n",
    "        data.append(p_len + c_len)\n",
    "    \n",
    "    return data"
   ]
  },
  {
   "cell_type": "code",
   "execution_count": 53,
   "id": "6cdc9a29",
   "metadata": {},
   "outputs": [],
   "source": [
    "train_tokens = concat_tokens_len(train_q_real_len, train_c_real_len)\n",
    "val_tokens = concat_tokens_len(val_q_real_len, val_c_real_len)"
   ]
  },
  {
   "cell_type": "code",
   "execution_count": 54,
   "id": "e4daa9db",
   "metadata": {},
   "outputs": [
    {
     "data": {
      "text/plain": [
       "Text(0.5, 0, 'val inputs len')"
      ]
     },
     "execution_count": 54,
     "metadata": {},
     "output_type": "execute_result"
    },
    {
     "data": {
      "image/png": "[encoded data removed]",
      "text/plain": [
       "<Figure size 1040x715 with 2 Axes>"
      ]
     },
     "metadata": {},
     "output_type": "display_data"
    }
   ],
   "source": [
    "plt.subplot(1, 2, 1)\n",
    "plt.hist(train_tokens)\n",
    "plt.xlabel('train inputs len')\n",
    "\n",
    "plt.subplot(1, 2, 2)\n",
    "plt.hist(val_tokens)\n",
    "plt.xlabel('val inputs len')"
   ]
  },
  {
   "attachments": {},
   "cell_type": "markdown",
   "id": "a58853d1",
   "metadata": {},
   "source": [
    "# 3. 텍스트 마이닝"
   ]
  },
  {
   "attachments": {},
   "cell_type": "markdown",
   "id": "58d24d4e",
   "metadata": {},
   "source": [
    "## 3.0 wiki 마이닝"
   ]
  },
  {
   "cell_type": "code",
   "execution_count": 96,
   "id": "a22f4307",
   "metadata": {},
   "outputs": [
    {
     "data": {
      "text/plain": [
       "array([',##(),,\"\"\"\"',\n",
       "       ',*()*()*()*(),,,,*****:**:*,**:,,,,,,,,**:,**:,*,*,,,,*,()(),()(),*\",\",\"\"\",\",,,,,*,,\\'\\'*\"\",\\'\\'',\n",
       "       '()\"\",]],,,,‘’,,,\"\"‘’()‘’,()()\",,,,,\"‘’,‘’\",\",,\\'\\'‘-’,,‘’,‘’,‘’‘’,‘’,‘’\\'\\'\\'\\'‘’,‘’,‘’=--,\\'-\\',,()‘’‘’‘’,‘’,‘’,‘’,‘’,‘’,‘’\\'\\',:-,‘’,,‘’,,,,,,,(),‘’‘’(),‘’()[]\\'\\',\\',\\'\\'\\'\\'\\'‘’,‘’,‘’,‘’,‘’,‘’,,‘’,‘’,‘’,‘’,,,,',\n",
       "       ..., '·(,)(,),,,·,', ',(),()(),()()(),,(),(),,,·,·', \",()()''\"],\n",
       "      dtype=object)"
      ]
     },
     "execution_count": 96,
     "metadata": {},
     "output_type": "execute_result"
    }
   ],
   "source": [
    "wiki['text'].str.replace('[\\w\\s.]', '', regex=True).unique()"
   ]
  },
  {
   "cell_type": "code",
   "execution_count": 101,
   "id": "499d0cb5",
   "metadata": {},
   "outputs": [
    {
     "data": {
      "text/plain": [
       "array(['', 'ㄸㅃ', 'ㅃㄸ', 'ㅇ', 'ㅡㄹ', 'ㄴ', 'ㅂㅍㅃㅂㅂㅂㅂㅍㅃ', 'ㅡ', 'ㄹㄴ',\n",
       "       'ㄱㄴㄷㄹㅁㅂㅅㅇㅈㅊㅋㅌㅍㅎㅏㅑㅓㅕㅗㅛㅜㅠㅡㅣㅊㅋㅌㅍㅈㄱㄷㅂㅎㅑㅕㅛㅠ',\n",
       "       'ㄱㄲㅏㅐㄱㄲㄴㄷㄸㄹㅁㅂㅃㅅㅆㅇㅈㅉㅊㅋㅌㅍㅎㅏㅐㅑㅒㅓㅔㅕㅖㅗㅘㅙㅚㅛㅜㅝㅞㅟㅠㅡㅢㅣㄱㄲㄳㄴㄵㄶㄷㄹㄺㄻㄼㄽㄾㄿㅀㅁㅂㅄㅅㅆㅇㅈㅊㅋㅌㅍㅎㅇㅇㄱㄴㄷㄹㅁㅂㅅㅈㅊㅋㅌㅍㅎㄲㄸㅃㅆㅉㅇㅏㅑㅓㅕㅗㅛㅜㅠㅡㅣㅐㅒㅔㅖㅚㅟㅢㅘㅝㅙㅞㄱㄳㄴㄵㄶㄷㄹㄺㄻㄼㄽㄾㄿㅀㅁㅂㅄㅅㅇㅈㅊㅋㅌㅍㅎㄲㅆㄱㄴㄷㄹㅁㅂㅅㅇㅈㅊㅋㅌㅍㅎㄲㄸㅃㅆㅉㅏㅑㅓㅕㅗㅛㅜㅠㅡㅣㅐㅒㅔㅖㅘㅚㅙㅝㅟㅞㅢㄱㄴㄷㄹㅁㅂㅅㅇㅈㅊㅋㅌㅍㅎㄲㄳㄵㄶㄺㄻㄼㄽㄾㄿㅀㅄㅆㅅㅇㅎㅣㅏ',\n",
       "       'ㄱㅋㄷㅌㄴㅂㅍㅁㅈㅊㅅㅎㅇㄹㅡㅣㅗㅏㅜㅓㅛㅑㅠㅕㅖㅒㅋㄱㄷㅌㄱㄴㄷㄹㅁㅂㅅㅋㅌㅍㅈㅊㅇㅎㅏㅑㅓㅕㅗㅛㅜㅠㅡㅣㄱㄴㄷㄹㅁㅂㅅㅈㅊㅌㅋㅍㅎㅏㅑㅓㅕㅗㅛㅜㅠㅡㅣㄱㄴㄷㄹㅁㅂㅅㅈㅊㅌㅋㅍㅎㅏㅑㅓㅕㅗㅛㅜㅠㅡㅣㄱㄴㄷㄹㅁㅂㅅㅇㅈㅊㅌㅋㅍㅎㅏㅑㅓㅕㅗㅛㅜㅠㅡㅣ',\n",
       "       'ㄱㄴㄷㄹㅁㅂㅅㅇㄱㄴㄷㄹㅁㅂㅅㅋㅌㅍㅈㅊㅇㅎ', 'ㅁㅂㅃㅍ', 'ㄷ', 'ㅅ', 'ㄹㅣㅑㅒㅕㅖㅛㅠㄹㄹㄴㅇㄹ', 'ㄱㅓㅓ',\n",
       "       'ㅜㅗ', 'ㅇㅎㅇㅇㅇㅇㄹㅇㅇㅇㅇㅇㅇㅇㅇㅅㅇㅅㅇ', 'ㅈㅈㅈㄷㅈㅅㅈㅊㅅㅊㅈ',\n",
       "       'ㅈㅊㅈㅊㅈㅊㅑㅒㅕㅖㅛㅠㅏㅐㅓㅔㅗㅜㅈㅊㅈㅊㅑㅒㅕㅖㅛㅠㅏㅐㅓㅔㅗㅜ',\n",
       "       'ㅊㅊㅊㄷㅊㅈㅈㅊㅈㅊㅑㅒㅕㅖㅛㅠㅏㅐㅓㅔㅗㅜㅈㅊㅈㅊㅑㅒㅕㅖㅛㅠㅏㅐㅓㅔㅗㅜㅊㅅㅈㅊㅈㅅㅈㅊ', 'ㅣ',\n",
       "       'ㅅㄷㅣㅣㅅㅣㅣㅣㅣㅣㅣㅣㅣㅅㅣㄷㅣㅣㅣㅣㅅㅣ',\n",
       "       'ㅣㅣㅅㅅㅣㅣㅣㅣㅣㅅㅅㅣㅣㅣㅣㅣㅣㅣㅣㅣㅅㅣㅣㅣㅣㅣㅣㅣㅣㅣㅣㅣㅣㅣㅣㅣㅅㅣㅣㅣㅣㅣㅣㅣㅣㅣㅣㅣㅣㅣㅣㅣㅣㅣㅣㅣㅣㅣㅣㅣㅣㅣㅅㅅㅣㅣㅣㅅㅣㅣㅣㅣㅅㅅㅣㅅㅣㅣㅣㅣㅣㅣㅣㅣㅅㅣㅣㅣㅣㅣㅣㅣㅣㅅㅣㅣㅣㅣㅣㅣㅣㅣㅣㅣㅣㅣㅣㅣㅣㅣㅣㅣㅣ',\n",
       "       'ㅣㅣㅣㅣㅣㅣㅣㅣㅣㅣㅅㅣㅣㅣㅣㅣㅣㅣㅣㅣㅣㅣㅣㅣㅣㅣ',\n",
       "       'ㅣㅅㅅㅅㅣㅣㅅㅅㅅㅣㅣㅣㅣㅣㅣㅅㅣㅅㅣㅣㅅㅣㅣㅣㅣㅣㅣㅅㅣㅅㅅㅣㅣㅣㅣㅣㅣㅣㅣㅣㅣㅣㅅㅣㅣㅣㅣㅣㅣㅣㅣㅣㅣㅅㅣㅣㅣㅅㅣㅣㅣㅣㅅㅅㅅㅣㅣㅅㅣㅣㅣㅣㅅㅣㅅㅣㅣㅅㅣㅅㅣㅣㅅㅅㅅㅣㅣㅣㅅㅣㅣㅣㅅㅅㅣㅣㅣㅣㅣㅅㅣㅣㅣㅣㅣㅅㅣㅅㅅㅣㅣㅣㅣㅅㅣㅣㅣㅅㅣㅣㅣㅅㅅㅣㅣㅣㅅㅅㅣㅅㅅㅣㅣㅣㅣㅅㅣㅅㅣ',\n",
       "       'ㅣㅣㅅㅣㅣㅣㅅㅅㅅㅅㅅㅅㅅㅅㅣㅅㅣㅣㅣㅣㅣㅣㅣㅣㅣㅣㅣㅣㅣㅣㅅㅣㅣㅣㅅㅣㅣㅣㅣㅅㅅㅣㅅㅣㅣㅣㄷㅣㅣㅣㅣㅣㅣㅣㅣㅣㅣㅣㅣㅣㅣㅣㅣㅣㅣㅣㅅㅣㅣㅣㅣㅅㅣ',\n",
       "       'ㅣㅣㅅㅣㅣㅣㅣㅅㅣㅣㅣㅣㅣㅅㅣㅣㅣㅣㅣㅣㅣㅣㅣㅅㅣㅣㅣㅣㅣㅣㅣㄴㅣㅅㅣㅣㅣㅣㅅㅅㅣㅣㅣㅣㅣㅣㅣㄴㅣㅅㅣㅣㅣㅣㅣㅣㄴㅣㅣㅣㅣㅣㅣㅣㅣㅣㅣㅣㅣㅣㅣㅣㅅㅅㅣㅣㅅㅣㅣㅣㅣㅣㅣㅣㅣㅣㅣㅣㅣㅣㅣㅣㅣㅣㅣㅣㅣㅣㅣㅣㅣㅣㅅㅣㅣㅅㅣㅣㅣㅣㅣㅣㅣㅣㅣㅣㅣㅣㅣㅣㅣㅣㅣㅣㅣㅣㅣㅣㅅㅣㅣㅣㅣㅣㅣㅣㅣㅣㅅㅣㅣㅣㅣㅣㅣㅣㅅㅣ',\n",
       "       'ㅁ', 'ㅂㅂ', 'ㄹㄴㄹㄴㄴㄹㅇㄴ', 'ㅡㅡ', 'ㄲㄸㅋㅌ', 'ㅏㅣㅐㅗㅏㅘㄱㅅㄳ', 'ㅚㅟ', 'ㄱ',\n",
       "       'ㄲㄸㅃㅆㅉㅒㅖㅒㅖㄳㅘㅐㅔㅒㅖㄱㅏㅏㄱㅓㅓㅠ', 'ㄱㄱ', 'ㅎㅏㄴㅎㅏㄴㅎㅏㄴ', 'ㅎㅏㄴㄴㅏㅏㅏㅏㅏㄴㅎㅏㅇㅣㄴㅇㅏ',\n",
       "       'ㅁㅡ', 'ㄲㅏ', 'ㅇㅇㅇㅇ', 'ㅡㅇㅡ', 'ㅣㅣ', 'ㅁㄱ', 'ㅏ', 'ㄴㄴㄷㄷㄴㄴㄷ', 'ㄷㄱㄷㄱ',\n",
       "       'ㄱㄱㄱㄱ', 'ㅡㅡㅡ', 'ㄱㅂㄷㅈㅋㅍㅌㅊ', 'ㅍ', 'ㄱㄷㅁ', 'ㅂㅐ', 'ㅐ', 'ㄱㅇ', 'ㄴㄴㄴ',\n",
       "       'ㅂㅊㅊㅎㅋㅋㄹㅁㄴㅍㅍㅅㅌㅌㅊㅊ', 'ㅂㅃㅍㄷㄱ',\n",
       "       'ㄱㄴㅁㅅㅇㄱㄷㅂㅈㄹㅇㄱㄷㅂㅈㄴㅁㅅㅋㅌㅍㅊㄱㄴㅁㅅㄱㄴㅁㅅㄱㄷㅂㅈㄱㄷㅂㅈㄱㄴㅁㅅㅇㄱㄴㅁㄹㄹㄹㄴㅁㄷㅂㄱㅣㅇ',\n",
       "       'ㅇㅈㅉㅊㅑㅒㅕㅖㅛㅠㅏㅐㅓㅔㅗㅜㅇㅢㄴㄴㅣ', 'ㅎ', 'ㅎㄷㄷㅎㄷㄷㅎㄷㄷ', 'ㅕ', 'ㅠ', 'ㅆㅠ', 'ㅊ',\n",
       "       'ㅂ', 'ㅁㄷ', 'ㅐㅛㅖㅢㅈㄱㄷ', 'ㅇㅂ', 'ㄱㅁ', 'ㄷㄷ', 'ㅇㅇ', 'ㄱㄷㄱ', 'ㄱㅡ', 'ㅇㅋ',\n",
       "       'ㄱㄴㄷㄹㅁㅂㅇㄱㅋㄲㄳㄺㄱㄴㄵㄴㄷㅅㅈㅊㅌㅆㅎㄷㄹㄼㄽㄾㄿㄹㅁㄻㅁㅂㅍㅄㅂㅇㅇ', 'ㅏㅓㅗㅜㅣㅐㅔㅚㅟ',\n",
       "       'ㄱㄲㄴㄷㄸㄹㅁㅂㅃㅅㅆㅇㅈㅉㅊㅋㅌㅍㅎㅏㅐㅑㅒㅓㅔㅕㅖㅗㅘㅙㅚㅛㅜㅝㅞㅟㅠㅡㅢㅣㄱㄲㄳㄴㄵㄶㄷㄹㄺㄻㄼㄽㄾㄿㅀㅁㅂㅄㅅㅆㅇㅈㅊㅋㅌㅍㅎ',\n",
       "       'ㅗ', 'ㄹ', 'ㄷㅁ', 'ㅇㅇㅇ', 'ㄲ', 'ㄷㄱㅁ', 'ㅁㅁ', 'ㄷㄴㅁ', 'ㅁㄷㄱ', 'ㅁㄷㅁ',\n",
       "       'ㅁㄷㅡㄱ', 'ㅔ', 'ㅋㅋㅋㅋㅋㅋ',\n",
       "       'ㅋㅋㅋㅋㅋㅋㅋㅋㅋㅋㅋㅋㅋㅋㅋㅋㅋㅋㅋㅋㅋㅋㅋㅋㅋㅋㅋㅋㅋㅋㅋㅋㅋㅋㅋㅋㅋㅋㅋㅋㅋㅋ', 'ㄴㄴ', 'ㅀㄴㅇㅀㄹㄴㅇㄹㄴ',\n",
       "       'ㅈㅂㅈ', 'ㅆ', 'ㄴㅁ', 'ㅇㄹ', 'ㄱㄱㄱㄱㄱㄱㄱㄱㄱㄱㄱㄱㄱ', 'ㄱㄱㄱ', 'ㅈ', 'ㅓ', 'ㅁㄱㄷ',\n",
       "       'ㅛ', 'ㅡㅅㅏ', 'ㅗㄱ'], dtype=object)"
      ]
     },
     "execution_count": 101,
     "metadata": {},
     "output_type": "execute_result"
    }
   ],
   "source": [
    "wiki['text'].str.replace('[^ㄱ-ㅎㅏ-ㅣ]', '', regex=True).unique()"
   ]
  },
  {
   "attachments": {},
   "cell_type": "markdown",
   "id": "02cb1589",
   "metadata": {},
   "source": [
    "## 3.1 question 마이닝"
   ]
  },
  {
   "cell_type": "code",
   "execution_count": 64,
   "id": "c81c4504",
   "metadata": {},
   "outputs": [],
   "source": [
    "key = 'question'"
   ]
  },
  {
   "attachments": {},
   "cell_type": "markdown",
   "id": "fe8a5022",
   "metadata": {},
   "source": [
    "### 3.1.1 특수문자 확인"
   ]
  },
  {
   "cell_type": "code",
   "execution_count": 97,
   "id": "674eb67e",
   "metadata": {},
   "outputs": [
    {
     "data": {
      "text/plain": [
       "array(['?', '~?', '≪≫?', '<>?', '《》?', \"''?\", ',?', '<><()>?', '', \":!'?\",\n",
       "       ',,,?', '··?', '#?', '\"\"?', \"'?\", '『』,?', '“”?', ':?', '·,?',\n",
       "       '《》《》?', '-?', '/?', '<<>>?', ',,?', '「」?', '《,》?', '〈〉?', '--?',\n",
       "       '%?', '<()>?', '()?', '『』?', '//?', '<,>?', \"《》''?\", '?-', '·?',\n",
       "       '‘‘?'], dtype=object)"
      ]
     },
     "execution_count": 97,
     "metadata": {},
     "output_type": "execute_result"
    }
   ],
   "source": [
    "train[key].str.replace('[\\w\\s.]', '', regex=True).unique()"
   ]
  },
  {
   "cell_type": "code",
   "execution_count": 98,
   "id": "544906a5",
   "metadata": {},
   "outputs": [
    {
     "data": {
      "text/plain": [
       "array(['?', \"'?\", ',?', '~%?', '《》?', '\"\"?', '<>?', '\"?\"?', \"''?\"],\n",
       "      dtype=object)"
      ]
     },
     "execution_count": 98,
     "metadata": {},
     "output_type": "execute_result"
    }
   ],
   "source": [
    "valid[key].str.replace('[\\w\\s.]', '', regex=True).unique()"
   ]
  },
  {
   "attachments": {},
   "cell_type": "markdown",
   "id": "641451d9",
   "metadata": {},
   "source": [
    "### 3.1.2 자음 확인"
   ]
  },
  {
   "cell_type": "code",
   "execution_count": 99,
   "id": "07e0203e",
   "metadata": {},
   "outputs": [
    {
     "data": {
      "text/plain": [
       "array(['', 'ㅋ', 'ㄱ'], dtype=object)"
      ]
     },
     "execution_count": 99,
     "metadata": {},
     "output_type": "execute_result"
    }
   ],
   "source": [
    "train[key].str.replace('[^ㄱ-ㅎㅏ-ㅣ]', '', regex=True).unique()"
   ]
  },
  {
   "cell_type": "code",
   "execution_count": 100,
   "id": "01f6933b",
   "metadata": {},
   "outputs": [
    {
     "data": {
      "text/plain": [
       "array([''], dtype=object)"
      ]
     },
     "execution_count": 100,
     "metadata": {},
     "output_type": "execute_result"
    }
   ],
   "source": [
    "valid[key].str.replace('[^ㄱ-ㅎㅏ-ㅣ]', '', regex=True).unique()"
   ]
  },
  {
   "attachments": {},
   "cell_type": "markdown",
   "id": "d8def753",
   "metadata": {},
   "source": [
    "### 3.1.3 이상한 문자 확인"
   ]
  },
  {
   "cell_type": "code",
   "execution_count": 113,
   "id": "2a0f1057",
   "metadata": {},
   "outputs": [
    {
     "data": {
      "text/plain": [
       "array(['', 'حصروم', '派'], dtype=object)"
      ]
     },
     "execution_count": 113,
     "metadata": {},
     "output_type": "execute_result"
    }
   ],
   "source": [
    "train[key].str.replace('[^\\w]', '', regex=True).replace('[A-Za-z가-힣0-9ㅏ-ㅣㄱ-ㅎ]', '', regex=True).unique()"
   ]
  },
  {
   "cell_type": "code",
   "execution_count": 114,
   "id": "baeaf031",
   "metadata": {},
   "outputs": [
    {
     "data": {
      "text/plain": [
       "array([''], dtype=object)"
      ]
     },
     "execution_count": 114,
     "metadata": {},
     "output_type": "execute_result"
    }
   ],
   "source": [
    "valid[key].str.replace('[^\\w]', '', regex=True).replace('[A-Za-z가-힣0-9ㅏ-ㅣㄱ-ㅎ]', '', regex=True).unique()"
   ]
  },
  {
   "attachments": {},
   "cell_type": "markdown",
   "id": "a4d26cbd",
   "metadata": {},
   "source": [
    "## 3.2 context 마이닝"
   ]
  },
  {
   "cell_type": "code",
   "execution_count": 117,
   "id": "ebd4ed6b",
   "metadata": {},
   "outputs": [],
   "source": [
    "key = 'context'"
   ]
  },
  {
   "attachments": {},
   "cell_type": "markdown",
   "id": "ec209ae2",
   "metadata": {},
   "source": [
    "### 3.2.1 특수문자 확인"
   ]
  },
  {
   "cell_type": "code",
   "execution_count": 118,
   "id": "736fe68f",
   "metadata": {},
   "outputs": [
    {
     "data": {
      "text/plain": [
       "array(['()\\\\\\\\,/\\\\\\\\,,,,()()=--', \"'''',,,,,《》,,\\\\\\\\(),'','',,\",\n",
       "       ',\\\\\\\\《》\\\\\\\\\\\\()〈〉(),“,”“,,,,,”', ..., ',\\\\\\\\,,,,,\\\\\\\\,,\\\\\\\\,,',\n",
       "       \"!!\\\\\\\\'()'!!'()','()'\\\\\\\\'()',,,\\\\\\\\!!\",\n",
       "       \"(),\\\\\\\\,,\\\\\\\\,,\\\\\\\\,'()',\\\\\\\\'',,,\\\\\\\\\\\\\\\\\\\\\\\\,,\\\\\\\\,''\"],\n",
       "      dtype=object)"
      ]
     },
     "execution_count": 118,
     "metadata": {},
     "output_type": "execute_result"
    }
   ],
   "source": [
    "train[key].str.replace('[\\w\\s.]', '', regex=True).unique()"
   ]
  },
  {
   "cell_type": "code",
   "execution_count": 119,
   "id": "ffa821ca",
   "metadata": {},
   "outputs": [
    {
     "data": {
      "text/plain": [
       "array([',,,,\\\\\\\\(\"\"\"\"\\\\\\\\,', '&\\\\\\\\\\\\\\\\,&,\\\\\\\\\\\\\\\\',\n",
       "       '\\\\,,\\\\\\\\(),(),(),(),,\\\\\\\\,··,',\n",
       "       '\\\\\\\\《》()),),),)《》()(-)\\\\\\\\,,,\\\\\\\\,,,\\\\\\\\', ',·,,\\\\\\\\·,,,,',\n",
       "       '()\"\"(),,(),,,\\\\\\\\,()\"\",,,(:),\\'\\',,,\\\\\\\\,·,,,',\n",
       "       ',,,,,,···,,,(),,,,,,,,·', ',/,\\\\\\\\(,)(,),',\n",
       "       '(-)\\\\\\\\\\\\\\\\\\\\\\\\~\\\\\\\\', '\\\\\\\\\\\\\\\\\\\\\\\\()-\\\\\\\\', ',,,\"\",\\\\\\\\,,,,',\n",
       "       \",'',,,\\\\\\\\,,,'',,'''',\\\\\\\\'',()'','','',\",\n",
       "       ',\\\\\\\\·,,,,,\\'\\'()\"\"\"\"\\\\\\\\',\n",
       "       ',\"\"\"\"\"\"\"\"\"\"()\"\"\"\"\\\\\\\\\"\"\"\"\"\"()“,”()“‘’‘’,”',\n",
       "       '\\\\\\\\,,\\\\\\\\,\"\"()\\\\\\\\,,,\\\\\\\\,,,,()=|\"\"\"\"\"\"\\\\\\\\\"\"=|\"\"\"\",\"\"',\n",
       "       ',,,,%%\\\\\\\\\\\\\\\\', '(,|,~),,\\\\\\\\,(),(:),(),\\\\\\\\\\\\\\\\,\\\\\\\\,,',\n",
       "       '\\\\\\\\·,,,,,,[『』『』∼『』『』『』『』]\\\\\\\\〈〉『』“”',\n",
       "       ',,,,\\\\\\\\\\\\\\\\,「」,,,(,)\\\\\\\\,,(,)\\\\\\\\(),\\\\\\\\\\\\\\\\,\\\\\\\\()(,)\\\\\\\\,\\\\\\\\,「」\\\\\\\\,,,,\\\\\\\\,\\\\\\\\,。\\\\\\\\,\\\\\\\\『』,。',\n",
       "       ',\\\\,\\\\,', ',,\\\\\\\\,\"\"\"\",,,\\\\\\\\,\",\\'\\',\",\\\\\\\\\"\",\",,\"',\n",
       "       '%,~%,~%%~%%%%\\\\\\\\,~,,,,,,··,', ',,\\\\\\\\,‘’,,,',\n",
       "       ',\\\\\\\\,,\\\\\\\\(),,\\\\\\\\,,,,,,\\\\\\\\,,,,\\\\\\\\,,\\\\\\\\,',\n",
       "       \",'()'\\\\\\\\,()()(),(),,\\\\\\\\\",\n",
       "       ',,\\\\\\\\,,\\\\\\\\《》,,,,(),(),()\\\\\\\\,“,”,,,,',\n",
       "       '~,()\",,\"\\\\\\\\,,,\\\\\\\\\\'\\',\"\",', ',,,,,=--\\\\\\\\(),\\\\\\\\,,',\n",
       "       ',,\"\"\"\",,\\\\\\\\,,,\\\\\\\\,',\n",
       "       '(),,()\\\\\\\\(),,(),,\\\\\\\\,,,,\\\\\\\\(),()(),,\\\\\\\\,,,“!”“,!”\\\\\\\\,,(),',\n",
       "       ',\\\\\\\\,《》(),,,,,\\\\\\\\,\\\\\\\\,,,\\\\\\\\,,,,,,,,,', ',\\\\\\\\\\\\\\\\,\\\\\\\\,',\n",
       "       ',,,,(),\\\\\\\\『』,,,‘’\\\\\\\\(,),,\\\\\\\\,%%,\\\\\\\\', '·,(),(,),()()(),',\n",
       "       \";('')\\\\,,,,'()',+(,),'','',\", ',,,,,,,,,,,,-%,,,',\n",
       "       ',\\\\\\\\\\\\\\\\,\\\\\\\\,\\\\\\\\《》·',\n",
       "       '\\\\\\\\\\\\,,,,,,,,\\\\\\\\,,,,,,,,,,,,,\\\\\\\\,,,,(),(),\\\\\\\\,,,/,,,',\n",
       "       '%\\\\\\\\,,\\\\\\\\\\\\', '㎞\\\\\\\\\"\",,\\\\\\\\',\n",
       "       ',\\\\\\\\,,,,\",\",,,,\\\\\\\\,,,,,\\\\\\\\,,\\\\\\\\,,\":\",\\\\\\\\,,\\\\\\\\,,',\n",
       "       '《》《》《》《》\\\\\\\\\\\\\\\\,\"()\",\\\\\\\\,,\"\"\"\",(),,,,,,,',\n",
       "       \"(),,\\\\\\\\'',,\\\\\\\\',,'\", '(),\\\\\\\\··,,,\\\\\\\\(),',\n",
       "       '()()(),,\\\\\\\\,(),(),\\\\\\\\(),,,,', ',,\\\\‘’()\\\\,\\\\,,',\n",
       "       '\\\\(),(),,,\\\\======\\\\(),,,(),,', \"-()('')\\\\\\\\,---\\\\\\\\-,·\\\\\\\\,(··)\",\n",
       "       '\\\\\\\\\\\\\\\\*()\\\\*()\\\\\\\\\\\\\\\\\\\\\\\\*\\\\*',\n",
       "       '(),,()\\\\\\\\,\\\\\\\\,%,,~%\\\\\\\\,,,,,\\\\\\\\',\n",
       "       '\\\\\\\\\\\\\\\\;\\\\*\\\\:\\\\*\\\\:,\\\\*\\\\:',\n",
       "       \"\\\\\\\\\\\\\\\\()''\\\\\\\\()··''\\\\\\\\\\\\~\\\\\\\\,···''(),\\\\\\\\,\\\\\\\\()\\\\\\\\\",\n",
       "       \"(),'',·,\\\\\\\\'',,(·),(),\\\\\\\\,,\",\n",
       "       '()()()\\\\\\\\,,\\\\\\\\,,()\\\\\\\\()\\\\\\\\\\\\\\\\()', ',,,\\\\\\\\,,㎝,,\\\\\\\\\\\\\\\\',\n",
       "       ',~%,\\\\\\\\', ',·()\\\\\\\\·()\\\\\\\\', ',‘’‘’····,,,·,··\\\\\\\\,‘’,‘’\\\\\\\\,()',\n",
       "       ',\"\"\\\\\\\\,(),,,,,,\\\\\\\\,,,,,,,\\\\\\\\,(),',\n",
       "       ',()《()》,《》《》,,,(),《》「,」\\\\\\\\,,,', '\\\\\\\\,\\\\\\\\,,-,,\\\\\\\\()-\\\\\\\\',\n",
       "       ',“,,”,,\\\\\\\\,', '(),,,\\\\\\\\,,\\\\\\\\(),()()(),\\\\\\\\,,\\\\\\\\,,\\\\,()',\n",
       "       ',,\\\\\\\\,\\\\\\\\()°,(),°,\\\\\\\\,,', ',,(),\\\\\\\\,,,,,,\\\\\\\\,(,,),',\n",
       "       ',,,()\\\\\\\\,,\\\\\\\\,,,\\\\\\\\,(),,\\\\\\\\,,\\\\\\\\', ',‘’,‘()’,“”\\\\\\\\,,,,,“”',\n",
       "       ',,,(),(),\\\\\\\\', ',,,\\\\\\\\(,,),(),\\\\\\\\,,,\\\\\\\\',\n",
       "       \"(,)()(),''(),\\\\\\\\,(),,()\", '()()()\\\\\\\\,,(),\\\\\\\\,\\\\\\\\,,,', ',,',\n",
       "       '(-)\\\\\\\\(,,),\\\\\\\\,()():\\\\:“,,”\\\\\\\\\\\\,()', \",,,,,,''\\\\\\\\,,\\\\\\\\,,,\",\n",
       "       ',\\\\\\\\,()\\\\\\\\,,\\\\\\\\,,',\n",
       "       '(),\\\\\\\\,,(),〈〉\\\\\\\\,,\\\\\\\\,(),,\\\\\\\\,/\\\\\\\\,,,', '%,,,·\"\"\",,\"\\\\\\\\,',\n",
       "       ',-\\\\\\\\,,\\\\\\\\,,,\\\\\\\\,,,\\\\\\\\,()\\\\\\\\,,,', '(),,(),,,,,()',\n",
       "       ',%$%,,\\\\\\\\,,\\\\\\\\,', '()\\\\\\\\,(,)()\\'\\'\\\\\\\\,,\\'\\',\"\"\"\"\"\"', ',,,,,',\n",
       "       ',\\\\\\\\,\\'\\'\\\\\\\\·\"?\"\\\\\\\\\"\"\\'\\'\\\\‘’‘’‘’\\'\\'‘’,‘’,',\n",
       "       '\\\\\\\\,<>\\\\\\\\<>\\\\\\\\<>,', '\",\",\\\\\\\\\"\",\"\"\"\"\"\",\"……\"\\\\\\\\\"\",\"\"\"\"()',\n",
       "       ',(),\\\\\\\\,,\\\\\\\\\\\\\\\\,“”\\\\\\\\,\\\\\\\\·,,', ',,(),,,-,\\\\\\\\',\n",
       "       ',(),,\\\\\\\\()(),()(),(),(),\\\\\\\\,,\\\\\\\\,,,()',\n",
       "       '(),,(),\\\\\\\\‘’,()‘’\\\\\\\\“”,()‘’',\n",
       "       '·\\\\\\\\∼··,\\\\\\\\\\\\\\\\··,(),「()」\\\\\\\\,,,\\\\\\\\········\\\\\\\\(∼),(),',\n",
       "       '\\'\\',『』\\\\,,,\\\\\"\"\\\\\"\"()\\\\。\\\\『』\"()\"', ',\\\\\\\\,\\\\\\\\\"\"',\n",
       "       ',\"()\"\"\"\\\\\\\\\\\\\\\\\\\\\\\\\\\\\\\\', ',,\\\\\\\\\\\\\\\\,,,,,',\n",
       "       ',\\\\\\\\,,\\\\\\\\,,,\\\\\\\\()(),,', '(),,()(),\\\\\\\\,,()\\\\\\\\,,\\\\\\\\,,\\\\\\\\,',\n",
       "       \",,,\\\\'',,,,\", '\\\\\\\\,\"\",,\\\\\\\\–\"\"《》,\\\\\\\\《》',\n",
       "       '()\\\\\\\\(),\\\\\\\\-,-(,),(),,\\\\\\\\-', '\"\",\"\"\\\\\\\\\\\\,,', ',,,,,\\\\\\\\,',\n",
       "       ',,\\\\\\\\(),“”“”(“”)\\\\\\\\,,',\n",
       "       ',(),\\\\\\\\(),,,,\\\\\\\\,·,\\\\\\\\(),,\\\\\\\\(),,\\\\\\\\(),(),(,),,()·()(),()·(),(),·,,(),“,”',\n",
       "       '~()\\\\\\\\,(,,,)\\\\\\\\\\\\,,,,(····)\\\\\\\\,\\\\~\\\\,\\\\\\\\(),\\\\()\\\\\\\\~··',\n",
       "       '\"\"\"\",,\\\\\\\\-\\\\\\\\', \",,,,,,,''\",\n",
       "       '\\\\\\\\,,,,,,,,,,,\\\\\\\\\\\\\\\\\\\\\\\\,,,,\\\\\\\\,,\\\\\\\\\\\\\\\\\\\\\\\\\\\\\\\\',\n",
       "       '(்ாு|),(்),\\\\\\\\\\\\\\\\,,,,,', ',\\\\\\\\()/\\\\\\\\,,',\n",
       "       \",,'','''',,''\\\\\\\\,,,\", ',,,\\\\\\\\,\\\\\\\\,,\\\\\\\\,',\n",
       "       ',,,\\\\\\\\,+\\\\\\\\,,,+\\\\\\\\\\\\\\\\', \"\\\\''''\\\\\\\\,\\\\\\\\\\\\\\\\,\",\n",
       "       '(),,,,,\"\",,\\\\\\\\\"\"(\"\"),,,,\"\"', '《》(\\'),,,,,,\"\"\\\\\\\\,,,',\n",
       "       '\\\\\\\\,,,,,\\\\\\\\,,,,()\\\\\\\\', '()\\\\\\\\()\\\\\\\\\\\\\\\\',\n",
       "       ',,\\\\\\\\,,,,,\\\\\\\\,,,,\\\\\\\\,,,,',\n",
       "       '(),,,,,,(),\\\\\\\\,,,,(),\\\\\\\\,,,\\\\\\\\,,,,,,\\\\\\\\,\\\\\\\\,',\n",
       "       '\\\\\\\\(),\\\\\\\\,,', '·,,,()()(=)((‘·’)()', ',\\\\,\\\\(,)\\\\()',\n",
       "       ',,,\\\\\\\\(),,,(),,,\\\\\\\\,,,\\\\\\\\()(),\\\\\\\\(),()(),\\\\\\\\',\n",
       "       '--,,,,,,,,,,,‘’(,)\\\\\\\\,\\\\\\\\,,,', '\\\\\\\\-,,\\\\\\\\,',\n",
       "       \",(),,,\\\\(,),,,,',\\\\\\\\,,(,)\\\\\\\\(),,,\\\\\\\\,,\",\n",
       "       '《》(),\\\\\\\\,,,\\\\\\\\,\\\\\\\\,,,', '~·(),,,,,,\\\\\\\\,,\\\\\\\\~,\\\\\\\\,',\n",
       "       ',,,,\\\\\\\\(),,,,,,,\\\\\\\\,,,,,\\\\\\\\,,,,,,()',\n",
       "       '(),,,\\\\\\\\,\\\\\\\\,(),\\\\\\\\-,,', '()“‘()’”\\\\\\\\“”\\\\\\\\“”\\\\\\\\\"\"\"(:)(:)\"',\n",
       "       \"(),()\\\\\\\\()()\\\\\\\\,(·),',\\\\\\\\\\\\\\\\,\\\\\\\\,\\\\\\\\,()\\\\\\\\?,,,\\\\\\\\\",\n",
       "       '(),,/,,,,,', ',,,,,,,\\\\\\\\\\\\\\\\\\\\\\\\,\\\\\\\\',\n",
       "       '「,」\\\\,,,,,··\\\\\\\\,··,,,(),\\\\\\\\*',\n",
       "       '\\\\\\\\(-),\\\\\\\\,(),\\\\\\\\,,(–),,,,\\\\\\\\,',\n",
       "       '()《》,《》,《》\"()\",《》《》\\\\\\\\\"\",\",,,\",《》,,,,\\\\\\\\\"\"',\n",
       "       ';()\\\\:-,()/\\\\:,,\\\\:,,,(?)\\\\\\\\;()\\\\:-/\\\\:,,,,\\\\:,\\\\:\\\\\\\\;()\\\\:-/\\\\:,,\\\\:,\\\\\\\\;()\\\\:-/\\\\:,,,,,(?)\\\\:,\\\\\\\\;()\\\\:-\\\\:,,\\\\\\\\;\\\\:',\n",
       "       '··,,,,\\\\\\\\,,\\\\\\\\,()', \"','\\\\\\\\,<>,<>,<><><>\\\\\\\\'',,,''\",\n",
       "       '\"\"\\\\\\\\,,,(),\\\\\\\\\"\\'\\'\",\"\"\\\\\\\\,\"\"\\\\\\\\(),,\"\"\"\"\\\\\\\\,《:()》\\\\\"\"\\\\,',\n",
       "       '‘’(:)(:)(:),,,,,,,,\\\\\\\\,,\\\\\\\\,\\\\\\\\,,',\n",
       "       '(、,)\\\\\\\\\\\\\\\\\\\\,,,「()」\\\\,「()」\\\\\\\\,',\n",
       "       ',,\\\\\\\\,,,\\\\\\\\\\\\\\\\,,,\\\\\\\\,,,\\\\\\\\', \",,,,,,\\\\\\\\(),,,,,'',\\\\\\\\,,,,%\",\n",
       "       '(–)(\"\")〈〉‘’,\\\\\\\\“”“”,,,〈〉‘’\\\\\\\\‘’“”',\n",
       "       '\\\\;\\\\:,\\\\;\\\\:,\\\\;\\\\:,\\\\;/\\\\:,,,,,\\\\;\\\\:,',\n",
       "       '\\\\\\\\,,(),‘’,\\\\\\\\\\\\\\\\,,', '()()~(),,()\\\\\\\\',\n",
       "       '|\\\\\\\\\\\\-,,,\\\\\\\\,,,\\\\\\\\,', '-\\\\\\\\,\\\\\\\\,()',\n",
       "       '·\\\\,,,(),,\\\\\\\\\\\\\\\\,\\\\\\\\,,,,\"\",\"\",\"\"\\'\\',', ',(:),()',\n",
       "       '\\\\\\\\,,,\\\\\\\\,,,\\\\\\\\,,,(),,\\\\\\\\,,\\\\\\\\(),',\n",
       "       ',,,\"\"\\\\\\\\\\\\\\\\,\\\\\\\\\\\\\\\\,,,',\n",
       "       '\"\",,,\\\\\\\\()\\\\\\\\,,,-,°°\\\\\\\\,\\\\,/,,,\\\\\\\\', \",,,,,\\\\\\\\,'',\\\\\\\\,,\",\n",
       "       '(),,', '\\\\,\\\\\\\\,,\\\\\\\\,', '(:)\\\\\\\\\\\\\\\\\\\\\\\\,,,',\n",
       "       '(,,)\"\"\"\"\\\\\\\\\"\",\\\\\\\\\"\"', '(),,\\\\\\\\()\"\"\"\",,,\\\\\\\\\\\\\\\\,,',\n",
       "       ',,,,\\\\\\\\()(),,\"\"(),\",,\"\"\\'()\\',\"', '(),,,\\\\\\\\‘’()=\\\\\\\\[],\\\\\\\\,',\n",
       "       '()\\\\\\\\,\\\\\\\\()\\\\,,', ',,\\\\\\\\()(),\\\\\\\\,\\\\\\\\,,,,,\\\\\\\\,\\\\\\\\,',\n",
       "       ',,,,,,,,,,\\\\\\\\,,,\\\\\\\\,,,,,', ',,,,,,\\\\\\\\,,,\\\\\\\\,\\\\\\\\(),',\n",
       "       ',,(),\\\\*\\\\**,,\\\\**,\\\\**,\\\\**\\\\**\\\\**\\\\**\\\\**\\\\**\\\\**\\\\**\\\\*:,,,,-',\n",
       "       '\\\\,,\\\\\\\\-,-----,-----,()\\\\\\\\-(),(,,,,)\\\\\\\\(),(),,,',\n",
       "       '《》《》\"(),\",,,,,,,,,,,,,,\\\\\\\\,,,,,,:\\'\\'\\\\\\\\《》,,\\'\\'\\'\\',\\'\\'\\'\\',\\'\\',,\\\\\\\\,\\'\\'(,)',\n",
       "       '(,),,\"\"\\\\\\\\,,,', \"(),\\\\\\\\,\\\\,\\\\\\\\,'',\",\n",
       "       '()\\\\\\\\()\\\\\\\\,,,()\\\\\\\\,\\\\\\\\“……,,\\\\\\\\\\\\\\\\,',\n",
       "       '(),,(),,()()\\\\\\\\(),「()」,(),(),\\\\,,\\\\,,\\\\,()', '(:)(:)(():)',\n",
       "       '《》,《》,\\\\\\\\,,《》()(),,()', ',,,\\\\\\\\,,\\\\\\\\,,,,', '-,,\\\\\\\\~,,,\\\\\\\\,',\n",
       "       \":\\\\;\\\\:*,,,\\\\:\\\\;\\\\:*,,,(·)(),(,,,)\\\\:\\\\;\\\\:*,,,%,(,,,,,),(+)\\\\:\\\\;\\\\:*(),(),,,,/'',\\\\:\\\\;\\\\:*,,\",\n",
       "       ',\\\\\\\\,()', '\"\\'\\',\"\"\\'\\'\\'\\'\"\",\"\"\\'\\'\"\\'\\'\\'\\'‘’',\n",
       "       ',,,,,,,,,,()\\\\\\\\,,()\\\\\\\\()',\n",
       "       ',,,,,,,《》\\\\\\\\《》(),,《》,,,,\\\\\\\\,,,《》,,,,《》,,\\\\\\\\,,,“”,',\n",
       "       '(《》)“!”‘’“”()\\\\\\\\\\\\\\\\\\\\\\\\“,”\\\\\\\\,“,!”“”',\n",
       "       ',,\\\\\\\\,,\\\\\\\\,\\\\\\\\*,\\\\*,\\\\\\\\\\\\\\\\\\\\·()',\n",
       "       ',\\\\\\\\()“”“”“”,\\\\\\\\\\\\\\\\\\\\\\\\', '()\\\\\\\\()·(),,\\\\\\\\,,\\\\\\\\,,',\n",
       "       ',,\\\\\\\\,,\\\\\\\\,,,,,()\\\\\\\\,,,\\\\\\\\,\"\"\"\",',\n",
       "       ',《》,,,,,,《》,《》,《》,《》,《》《》,《》,《》,《》《》,《》\\\\,\\\\<>,<<>><<>>\\\\,,,,',\n",
       "       '\\\\,\\\\\\\\〈〉,,,,,\\\\\\\\,,‘’(),〈〉〈〉,\\\\\\\\,(),,(),', ',,,,,,,,',\n",
       "       '\\\\\\\\\\\\\\\\,\\\\\\\\::~', ',(),,‘’\\\\\\\\,\\\\,\\\\\\\\,“”,“,,”,',\n",
       "       ',\"\"\"()\"\\\\\\\\,,(),,()',\n",
       "       '(,)(:-)《》,\\\\\\\\,\\\\\\\\,(),\\\\\\\\(),《》\\\\\\\\\\\\\\\\,《》,', '()\\\\\\\\()\\\\\\\\()',\n",
       "       '\\\\\\\\,\"?\",', ',,,\\\\\\\\,,,,\\\\\\\\,,\\\\\\\\,(),',\n",
       "       \",,,'','',\\\\\\\\,,,,,,\\\\\\\\,,,''(),,,,,,,\",\n",
       "       '(,),,,\\\\\\\\()(,),,(),\\\\\\\\',\n",
       "       ',\\\\\\\\\\\\\\\\“‘’,”\\\\\\\\,,,“()”\\\\\\\\“”,“,”“”\\\\\\\\·()()‘’\\\\\\\\\\\\\\\\·,()\\\\\\\\“!”(!)\\\\\\\\,()《:·》\\\\\\\\‘~’,‘’',\n",
       "       '(),()＜＞＜＞＜＞‘’‘’,＜＞＜＞,≪≫“‘’”,“”·‘’“”,,,,,·',\n",
       "       '()\\\\\\\\*:-\\\\*:,-\\\\*:,-\\\\\\\\,,,\\\\\\\\,\\\\\\\\,()',\n",
       "       '(),,,\\\\\\\\,,()()\\\\\\\\,(–),(),,\\\\\\\\,,', ',,\\\\\\\\,', '\\\\\\\\,,,\\\\\\\\',\n",
       "       ',,,《》\\\\\\\\\"\"\\\\\\\\,\\\\\\\\====\\\\《》《》《》\\\\\\\\\",\"',\n",
       "       \",\\\\\\\\,,''\\\\\\\\,'',,,\\\\\\\\'',,\",\n",
       "       ',,,,\\'\\',,,\\\\\\\\,\\'\\'\\'\\'\\'(:)\\'\\\\\\\\\"\"\"\"--\"\"\"\"\"\"\\\\\\\\\\\\\\\\,,,,,,,',\n",
       "       \"(),,\\\\\\\\'',''(),(),,,\\\\\\\\,,,\\\\\\\\「」\",\n",
       "       '(),\\\\\\\\(,),,,‘’()‘’()\\\\\\\\,(),,,,,,\\\\\\\\,', '(,)\"\"(),,,,(),(),()',\n",
       "       \",,,,,,\\\\\\\\,,,''\\\\\\\\,\", '()\\\\\\\\\\\\\\\\,,,,,,(),()',\n",
       "       '#\\\\\\\\:\\\\\\\\\"\",,:,\"\",,,,,,,:,', \",''(),,,'','','''',''''''\",\n",
       "       ',,\\\\\\\\,\\\\\\\\,', ',,\\\\\\\\,,,,,,,,,,,,,,,,,,,\\\\\\\\:,::,:',\n",
       "       '“”‘’,(),,,,\\\\\\\\,“()”,',\n",
       "       '()\\\\\\\\*-,\"\"\\\\*\\\\*\\\\*\\\\*(,)\\\\*\\\\*\\\\*(,)\\\\*(・)\\\\*-\\\\*()-()\"\"',\n",
       "       ',,\\\\()(－)()()()()()\\\\\\\\\\\\?()()?‘()’()‘’!\\\\\\\\\\\\()?”\\\\\\\\()()\\\\\\\\“()”,',\n",
       "       '()\\\\\\\\-,,,\\\\\\\\,', ',\\'\\'\\\\\\\\,,\"\"\"\"', ',---\\\\\\\\,,-',\n",
       "       ',(),,\\\\\\\\,,\\\\\\\\,,,,\\\\\\\\,,,:\",!\"(\",!\"),,\"\"',\n",
       "       ',\\\\\\\\,,\\\\(),()?\\\\,\\\\!\\\\\\\\·(),\\\\\\\\,\\\\\\\\()()(),,\\\\\\\\()(),\\\\,,?\\\\\\\\!',\n",
       "       ',,()\\\\\\\\(\\')\\'\\'\"\"\\\\\\\\//', '(),,,\\\\\\\\(=‘’),,,,',\n",
       "       ',(),\\\\\\\\()\\\\\\\\(),', '·()()(),()·',\n",
       "       ',(),\\\\\\\\,,()\"\"\\\\\\\\,\\\\\\\\()()()\"()\"',\n",
       "       \",\\\\\\\\\\\\\\\\,\\\\\\\\','\\\\\\\\',,'\\\\\\\\()(),\\\\\\\\()\\\\\\\\,,\\\\\\\\\",\n",
       "       ',,\\\\\\\\,,,,,\\\\\\\\,,,\\\\\\\\,,',\n",
       "       '()\\\\,|,『』()\\\\,\\\\\\\\,,,\\\\\\\\,,,(),,,“?”,“?”'], dtype=object)"
      ]
     },
     "execution_count": 119,
     "metadata": {},
     "output_type": "execute_result"
    }
   ],
   "source": [
    "valid[key].str.replace('[\\w\\s.]', '', regex=True).unique()"
   ]
  },
  {
   "attachments": {},
   "cell_type": "markdown",
   "id": "8297ab9c",
   "metadata": {},
   "source": [
    "### 3.2.2 자음 확인"
   ]
  },
  {
   "cell_type": "code",
   "execution_count": 120,
   "id": "8d2d80a0",
   "metadata": {},
   "outputs": [
    {
     "data": {
      "text/plain": [
       "array(['', 'ㅎ', 'ㅋㅋㅋㅋㅋㅋㅋㅋㅋㅋㅋㅋㅋㅋㅋㅋㅋㅋㅋㅋㅋㅋㅋㅋㅋㅋㅋㅋㅋㅋㅋㅋㅋㅋㅋㅋㅋㅋㅋㅋㅋㅋ', 'ㄱ', 'ㅇ',\n",
       "       'ㅚㅟ', 'ㅅ', 'ㄷ', 'ㅁ', 'ㅕ', 'ㄹㄴ', 'ㅁㄱㄷ', 'ㄱㄱㄱㄱㄱㄱㄱㄱㄱㄱㄱㄱㄱ',\n",
       "       'ㅎㅏㄴㅎㅏㄴㅎㅏㄴ'], dtype=object)"
      ]
     },
     "execution_count": 120,
     "metadata": {},
     "output_type": "execute_result"
    }
   ],
   "source": [
    "train[key].str.replace('[^ㄱ-ㅎㅏ-ㅣ]', '', regex=True).unique()"
   ]
  },
  {
   "cell_type": "code",
   "execution_count": 121,
   "id": "eef7ef90",
   "metadata": {},
   "outputs": [
    {
     "data": {
      "text/plain": [
       "array(['', 'ㅍ'], dtype=object)"
      ]
     },
     "execution_count": 121,
     "metadata": {},
     "output_type": "execute_result"
    }
   ],
   "source": [
    "valid[key].str.replace('[^ㄱ-ㅎㅏ-ㅣ]', '', regex=True).unique()"
   ]
  },
  {
   "attachments": {},
   "cell_type": "markdown",
   "id": "45a70377",
   "metadata": {},
   "source": [
    "### 3.2.3 이상한 문자 확인"
   ]
  },
  {
   "cell_type": "code",
   "execution_count": 122,
   "id": "80c0f1e5",
   "metadata": {},
   "outputs": [
    {
     "data": {
      "text/plain": [
       "array(['', '告別上諭', '佛龕光背冠冠', '外函癸巳二月日施主承表兩主', '館驛更天人漢中王樊城', '田倉初子田倉仁',\n",
       "       '母后山蘿蔔山母護山', '李淳鎔', '草日記', '前村梅田異說', '正祖', '恒山',\n",
       "       '羽化過變態前胸腺相同器官體幼期若蟲', 'ΠάτραΠάτραι', '素髮優塡王', '李來昌', '狂笑', 'ⅠⅡⅠⅡ',\n",
       "       '遇巖平沙落雁形', '中華聯邦州對中華合衆国', '私歌', '神理性人ㆍ', '鼻音公', 'ملكالمملوكū',\n",
       "       '小林', '河口', '强奏', '儒達山', '梅乃本妙寺', '字形', '天王洲アイル', '菌血症', '印塘水',\n",
       "       'ëë', '南宋大元大都上都', '排日', '前意識', '面狀側鎖',\n",
       "       '禁中竝公家諸法度靈元閑院宮舊皇室典範皇嗣天皇崩スルトキハ皇嗣即チ践祚シ祖宗ノ神器ヲ承ク觀', 'é',\n",
       "       '妙義山加波山加波山加波山加波山', '天說話御用哲學俗流諸觀念天文曆法父祖', '解約金契約解除權法定保證金特段豫定判示倍額償還',\n",
       "       '製', '務安監理勅任官三等閔泳煥', '低浮彫如來型禪定印繫柱面三道外反彫飾', '武田勝頼', '聖爵祭具', 'だが',\n",
       "       '安宅船安宅船', '立夏木', '清洲会議', '諫大夫左曹中郞將侍中張美人', '成聖',\n",
       "       '猇亭夏恂周平虎父無犬子戰袍神像靈位', 'कल苦力', 'ǫö巫術ðóð', '大西瀧治郎南雲忠一', '科學的懷疑主義',\n",
       "       '撞座區梵字文寺名', '李範奭朴定緖呂允淑', 'Φάλαγγαὁπλίτης', '無泰長魚', '漢口', '典洞漢學',\n",
       "       'ВасилияПак朴秉吉', '戶長魯山大君魯陵', '反', '²²', '中', 'è', 'ロマン大正浪漫成金大正モダン',\n",
       "       '秦胡陽韓閼與樂乘魏咎安邑邯鄲武安許歷北山幾馬服君', '蜈蚣ⅠⅠⅠⅠⅠ', '創造神話', '①②③④⑤⑥⑦⑧⑨',\n",
       "       '十王草天王草', '古泥質対州層新石英斑岩更新世壱岐香ノ木山', '山', '呼揭王', '人',\n",
       "       '政治不參加直接民主制度都市國家政治參加度', '姥捨て山枝折り型難題型', '禪大禪師國師基壇塔身十飛天像',\n",
       "       '二人の恋人さよなら世界', '曲墻袍帶後綬', '性病', '李映周朴洪根朴斗善', 'īī大', '笹子トンネルささごトンネル',\n",
       "       '丁斐', '角閃石', '勇名裁可', '三抛', '中洞新都市', '塼塔基壇塔身八部衆像四天王像龕室', '李鐵得字',\n",
       "       '科分果', '全', 'ㆍ', '長井健司', '三蘇', '變轉', '楊氏', '秀女制修身治國平天下齊家愛民',\n",
       "       '工石蓮池', '愛琿城妻叔', 'Πόντος', '娘臂城千里長城名家淵太祚淵蓋蘇文長安高桓權', 'ᐨ', '聖遷從弟世襲制',\n",
       "       '海門矯公羨', '反親', '被告人被訴者', '龍湖', 'ΣτύξΣτύγα', 'ðóÞöóíó', '無辯論判決',\n",
       "       '佩刀雁毛刀柳葉刀片刀牛尾刀短刀南刀', '嶺南地方儒林嶺南內陸工業地域南東臨海工業地域', '祭', '必勝思想戰日政',\n",
       "       '擬古典主義懷疑理性啓蒙開化舊別市民劇卓見實作', '鎭痙藥', 'ć', '山山', '金益寧土田',\n",
       "       '直指寺大雄殿三尊佛幀畵世冠神覺密機念佛道人智英', 'ầêì陳添平', 'Народничество惡善農地', '作興調書',\n",
       "       'εὔδοξος', 'Рассказосемиповешенных大臣', '高力士李璵華淸池太眞宮女冠', '桓祖',\n",
       "       '千秋公園', '齊范蜎甘羅', '丈尺男女', '紙甲', '呂光呂紹太原公西秦太尉呂纂呂弘呂超', '孤立系',\n",
       "       '能禑水原府牟尼奴三代', '衛氏馮敬武公主', '猪鳴山', '聖骨', '抗訴審當否本旨續審制覆審制',\n",
       "       '描寫基底視點轉化立脚', '呂光天王太原公呂簒常山公呂弘太上皇帝軍災禍呂超隱王', '鮮民府韓僑同鄕會', '白骨松',\n",
       "       '兩眼視', '良知天人一理文人四句敎宿舍', '臨瀛大君英陽君涵府內面渭川里臨瀛大君李允必', 'óó',\n",
       "       '許世黃兢耒陽蔣均諫議大夫', '武田範之', '漸移地帶中原式生業經濟', '延平郡王朱國姓爺鄭克藏鄭克塽施琅姚啓聖漢軍公',\n",
       "       '列柱', '南蘇木底蒼巖金山', '人八', '街路燈', 'ⅡⅡ', '基壇塔身八部衆像', '顧頡剛疑高學派',\n",
       "       '戸地主漢六朝郷里義門張公芸九代忍隋唐名族族長宗祠族産華中華南李師中異性', '織布工帶劍貴族法服貴族', '凸矢山康夫',\n",
       "       '二元執政', '錦衣衛勇將張定辺旗艦郭興火攻兪通海火砲陳友仁陳友貴平章陳普略火船贛江長江水陸陳理',\n",
       "       '湯浅学船橋英雄廃盤水平社湯浅学青山正明', '面狀', '宜都譚雄', '史上途程', '十王', '我孫子駅あびこ駅',\n",
       "       '淪落行爲等防止法', '講道追敍', '修身', '航行', '三綱八', '光武改革',\n",
       "       '腹藏孔頭部結跏趺坐眉間白毫弓弧半開結跏趺坐法衣着衣法裙衣別造', '故意', '臺灣地區',\n",
       "       '文學郞方正諫大夫郞中戶將衛司馬尙書聖人儒學三王北闕', '田章', '三道大衣裙衣', '層狀', 'ó', '大虞Đạ',\n",
       "       '理念敵領有不正義最惠國通商條約轉用', '艦艇商船船主新造', '州改宗司祭', '情緖昆蟲小西', 'ă', '十三塚原',\n",
       "       '三龍', '本稿動力食器', '前八衝拳', 'Óí', '行政審判', '航海曆', '非商人海運',\n",
       "       '郞常侍騎左曹平通侯謁者諸吏光祿勳典屬國', '夏有喬木雅望天堂籽月', 'á', '李敎文李箕大修身齊家', '梨花曲法製',\n",
       "       'დავით世', '金思萬', '四面佛', '使者竹洞宮閔泳翊閔珽植', '現行犯現行犯人ㆍ', 'Μήδεια', 'éé',\n",
       "       '下吉田上吉田', '我生然後殺他', '白毫難産', '帶金', 'サンヨーオールスターゲーム',\n",
       "       '龜浦龜梁山郡誌倉南倉泛舫山龜浦稅穀南倉場', 'Εὔφορβος', '基壇塔身龕室', '聖人', '淸南濁南',\n",
       "       '巡察使李公好敏益詠臺', '巡撫巡行天下撫治軍民省省', '皇祖皇宗', '評郡役人軍毅郡家', '猿人',\n",
       "       '文叔瑞都禅師遠州錯乱', '泰封水德萬歲泰封泰封彌勒釋總康', '山寶冠光背', '團', '狂人理論狂人戰略',\n",
       "       '廣域性道紙地域紙道紙面數', '鷄林奬業團', '閔泳翊閔泳穆趙寧夏', 'ữêđườù', '①②③④⑤⑥', '存在基盤擧示',\n",
       "       '齒苔糖', 'ˈːʲ', '塑性燒成收縮', '神', '瓜形樽重房都將校吳文富宅上眞盛樽封樽',\n",
       "       '両毛線上野下野上毛下毛毛野国綿', '西笑承兌臨済宗顧問外交僧', '顯德王后章順章順章順嬪恭陵', '司馬橋油然坮司馬橋',\n",
       "       '羌騎校尉中郞將平陵侯', '會', '都堂大監三佛帝釋都神都堂浦里神木堂佛國', '水界舵輪', '旌閭門',\n",
       "       '複数數的重輕症者', '高速國道', '捕亡令追捕罪人条臨時発兵規定発兵勅符俘囚追捕官符', '施政權者自治性年報請願',\n",
       "       '段棋瑞徐樹錚黎元洪張勳', '德昌', '密本密敎異蹟金良圖興輪寺法惕宸仗藥師經大力神天神金谷寺秀天因惠', '川島威伸',\n",
       "       '義和公', '異世界', '李敏穫姜浩善申昌熙逆名', '隨何漢王劉邦謁者', '戰勢', '嶺東方言嶺西聲調', '松嶽西京',\n",
       "       '全民國政府', '四大書儒學朱子古文運動漢詩叙事詩詞詞樂敎坊樂大晟雅樂詞大曲樂歌舞院体画文人画', '分枝', '黒船来航',\n",
       "       '金銅彌勒菩薩半跏思惟像三山冠臺座半跏像古式', '臨急', 'ä', '朴熙道金元璧康基德朱翼韓偉鍵金炯璣李公厚朱鍾宣宋鎭禹',\n",
       "       'ÞýǫðÞýÞý', '光背三尊佛寶冠光背舟臺座', '閔泳煥中樞院一等議官勅任官香港', '傳舍章武侯景', '富力駐外',\n",
       "       '協同組合黨', '宋公祠', '候', '政遷漳河平阳武城遷赤麗宜安宜安肥下宜安圍魏救趙肥下', '急性氣管支炎',\n",
       "       '匡國翊贊功臣大丞', '北支皇軍慰問團', '螭螭雨龍', '無量寺韓絢', '權思義', '国民民主党希望の党', '按酒燒酒',\n",
       "       'ơêêơơê', 'łłłł', '書雲觀簡儀臺簡儀圭表', '光背臺座', '千老人三道臺座', '水名', '重重重',\n",
       "       '郞左曹御史中丞中書令槐里令諫大夫紅陽侯方正', '²', '駐林権助長谷川沈相薰可否不可勅裁',\n",
       "       '甘盤聖人說傅鬼方婦好祖己祖庚祖甲卜辞', '韓水山筆禍事件', '張叔平', '敎皇領', '女神學神性',\n",
       "       '国体護持政體万世一系', '實施敎示圈', '稅制土地制度量衡ā牌子', '中浜藩校老中開成学校雑司ヶ谷霊園', '元老誤判',\n",
       "       '通川', '暗黑', '釜日奬學會', '十', '金巴巴拉', '武魂', '鄭夔弼反求於諸心崇禎丁丑後二百三十四年',\n",
       "       'Лев', '賈午張泓楊駿韓壽韓慰祖', '基壇塔身眼象海蓮之塔', 'メカドンならはしみきメカカツならはしみきインドンインカツ',\n",
       "       '軟毛聚散花序', '魚鱗甲小札豆錫鱗甲塗金銅葉甲', '山家三方衆設楽郡菅沼定盈', '少夫', '羊', '明玉', '枝槍',\n",
       "       '原型転換炉', 'ᛚᚢᚴᛁð', 'ＭＳ３１３３３１５１４３', '癎疾癲癎', '浮丘伯南宮明堂', '正史',\n",
       "       '妙谷呂正鉉慶州李氏夢陽呂圭信', '半封建社會', '明治年の危機', '永明寺九梯宮', '成田のようにならないようにしよう',\n",
       "       '豊千代近衛寔子大御台所広大院増上寺', '海浸尖端', '食品', '無明草', '同太寺捨身蜀',\n",
       "       '手代山片蟠桃丁稚金子直吉手代', '可兴天下可亡天下', '中齋', '半州半州半州',\n",
       "       '杜雲禪師祖膺大禪師重修龍門寺記天啓午年古式多包式經典經藏宋代①②③凹凸', '一郞九郞九郞里', '部分割卵', '改修塔記碑',\n",
       "       '三木市', '晉厲公秦', 'ÉÉ', '大路', '孔子四聖從享賢', '寄親寄子在地土豪貫文寄親河尻秀隆',\n",
       "       '規準純他律主義啓示依存思索敬虔', '石造毘盧遮那佛坐像光背舟臺座', '澎侯貳師將軍郭穰華陽', 'æÞóæÞó',\n",
       "       '伍瓊議郞', '____', '羅漢己亥立柱副佛殿', '南證師雪浩湜封',\n",
       "       '佛身頂上髻珠大衣覆肩衣手印說法印下品中生印釋俊覺敏', '主神儀式主神宗敎', '火舍石', '硅素樹脂', '一樣類格短見',\n",
       "       '釋忠', '異性質體', '基督敎彰文社獨立控告書', '造山運動', 'ㆍㆍ', '川菜正宗川味麻辣', '正友會',\n",
       "       '調色板畵用品具調色粘調度取捨現象混濁明度組合畵調', 'ΜεγάλοςΛιμός', '伍允孚', '⑪靜觀古事', '荒川',\n",
       "       '條痕色', '作弘村汪', '耽津縣在京隊正仁守戶付沙器壹裹', 'クシェルアッカーマンオランピア', '炭素', '張勉下',\n",
       "       '天王後燕離班桃仁宗主國白狼城母', '北京王扈寧丁薛祥宋濤李進軍', '聖杯聖槍聖杯', '朴暹', '細長方柱高峻異形石塔',\n",
       "       'ù種', '吳仁澤趙希古金元命親勳臺諫循資格式賢良銓選除目', '化抗美', '貊炙雪下覓',\n",
       "       '候天伺地陰陽同光百神臨觀天氣下降炉', '反射膝蓋腱伸張腹直筋腹壁', '有限性先行優位進入障壁', '誌', '西巷説百物語',\n",
       "       '改', '誘導子µ', '保證金入札競買主從', '前離反敵意功利的高揚出口願望', '正體正體性', 'ê', '二重橋',\n",
       "       '金準桓', '第一次院士会议第一次院士會議翁文灏翁文灝朱家骅朱家驊', 'æ', '南陽州奉先寺銅鍾六字光明眞言',\n",
       "       '戰後日坂駅', 'æöð', '①②③④', '卵子', 'ЮрийМихайловичСмирнов', '南池耆老會圖',\n",
       "       '技術主義禁慾主義', '臨時贊成建議所', '善惡',\n",
       "       '大番組頭小姓組番頭書院番頭侍頭組頭奥野定良公用人物頭給人番頭用人武鑑小姓組番頭書院番頭', '林徽因', '狂症承命代理廳政琔',\n",
       "       '①子子②', '十輝', '散彈', '３ＭＳ１ＭＳＭＳ４３ＭＳ５８３', '豫科選科', '順序數序數',\n",
       "       'コシャマインの戦い道南', '種造成', '前', '崔氏潭方池雙圓島崔氏潭石伊二翼工包作拱包衝樑', '宋營造法式明魯班淸',\n",
       "       '北語群諸語', 'ありなしコンビ', '原繁郳詹', '趙高扶蘇陳勝吳廣章邯項梁項羽', '畸形學', '菊池謙讓鷄鳴社京城造營',\n",
       "       'ΜιχαήλΔΠαφλαγών', 'í', '張偃南宮侯共', 'Αθηναι', '天', '異世界異世界', '慶熙宮離宮',\n",
       "       '定都', '大聯政ß', '開城府松都面高麗町', '伊彦坊', '小',\n",
       "       '茨城大学加藤篤志アダルトチルドレントラウマサバイバー毒親', '社會量質時間', '古生物學', '萬景臺學生少年宮殿',\n",
       "       'გონიოსციხე', 'Ἰώ', '通告事', '神性人性', '死因', '倒閣',\n",
       "       '古國風與某書記書寬猛緩急神明中子山鎭山完山乾止山一天步領郡漕運領郡遊歷', '遼左紀臣僚桀紂殷周湯武主季札王昌瑾王公',\n",
       "       'ㆍ立壺砂粒鐵粉成形整形整面氣孔接胴類例ㆍ', '儀死', '¹', '夜黑國国主楊機奴側福晉愛新覺羅褚英大福晉嫡母寵姬',\n",
       "       '名東区', '創業年史鉱害', '赤色肉黑色肉', '死後美術史家對極單刀直入的啓示極暗夜畵商時流濃密聖畵像', '正斷層逆衝上',\n",
       "       '丁沖西曹掾丁廙臨菑侯徐奕右刺姦掾中領軍', 'ˈɛɔˈ', '史料批判外的內的', '①②③④④', '著',\n",
       "       '熱狂主義十字軍的發想利害計算强制', '興元岐王道州岐道州', '錫杖金銅錫杖頭多臂像神將像如意頭環', '飮食', '洗滌',\n",
       "       '指揮官', '親李親朴', 'ç情婦反', '樊子昭簡侯和离', '金春秋司農丞相里玄奬蔣儼東征子弟',\n",
       "       '前主情主義寫實主義高踏派流韻律影像內心', 'НІНІ', '廣平都尉', '袁世凱北洋大臣', '河神', '__',\n",
       "       '任雅相契苾何力', '遷鄴城太原陽曲縣狼孟平山縣番吾遷遷遷番吾', 'нон', '秦嬴姓趙氏嬴姓秦氏',\n",
       "       '永明齋文明欽金玉聲上田', '斡兀立海迷失可敦欽淑皇后', '欧化政策羅馬字会', '金學奎小人閑居爲不善',\n",
       "       '信託統治誤報事件新朝鮮報中央新聞', '建安城建安城烏骨城',\n",
       "       '吳文楚南寧兩廣總督巡撫孫永淸安南山南興化遺臣三疊山璽授安南國王宮市阮輝宿', '聖宗忠武皇帝', '黒川若松朝敵',\n",
       "       '脈動非線形的', '貞懿大王大妃性仁', 'சழசமரஜயம', '帥', '大昆靡小昆靡', '多脚',\n",
       "       '城子崖卵殻陶鬲鬹高柄杯石包丁陶寺郷陶寺遺跡巫術', '世宗', '美丽服务台孟美丽', '秦王', 'المعتزلة',\n",
       "       '前田秀一郎今村昌平女衒', '一隊戰則戰矣不戰則假道戰死易假道難人生門', '摩訶衍寺大乘', '八人', 'ú', 'α',\n",
       "       '政治局幹部會', '美', '顯陵', '通德郞公派崔必周', '祭壇臺聖別聖櫃聖器聖杯香盒祭鈴洗禮盤聖體匣典禮助祭',\n",
       "       '圓覺經寶珠大圓覺寺之碑', '征覇海灣戰局戰備', '郭郡國五銖錢赤側五銖錢三官五銖錢', '基壇塔身',\n",
       "       '木下街道夏見金杉行田宮坂二俣', '麵肉水糖醋肉乾烹鷄溫滷麵ēŭà', '商業劇政體正劇', '孤獨死', '朝蘇文化協會',\n",
       "       '八', '副皇副皇', '帝政論ˈ', '²製鹽', '反英對', '著中', '蔡濟恭兪彦摯魚肉', '工程',\n",
       "       '冠臺座墳墓石人像', 'княз', '中華思想淸國桃園', '三段論法小前提大前提媒槪念',\n",
       "       '二月河康熙王朝陳道明雍正王朝君臨天下金庸鹿鼎記懷玉公主', '禹貢武官烈女門', '地平座標南點北點', '乙漢口', '日向',\n",
       "       '赤旗歌', '金相國', '三尊佛寶冠', '大邱兒童黃酸事件', '甲鉄艦第一丁卯', 'ジャファル', '一', '頂上機關',\n",
       "       '戶曹大司徒地官', 'حصروم', '付雪潔', '廢液分枝', '優詔', '扶餘縣監臨陂縣令世子翊衛司衛率全羅都事',\n",
       "       'めんちかつ', '興京', '尹善道宗家文籍', '妥當性整合性思惟', '陰囊囊心陰囊縫線陰毛', '受信桐巢漫錄',\n",
       "       '虎口帶曲輪竪土壘竪堀櫓臺布目積み二之丸算木積鏡石三之丸', '親', '舊本新參大韓國國制', '公轉', '消長等溫線',\n",
       "       '新城契苾何力', '奉獻生活會', '法殺論', 'ロシアパン名士', '賤民丈人', '晉商票號合盛元票號', '在求大隊賞',\n",
       "       '半封建論新民主主義革命論人民公社制度三反五反運動集體所有制度', '集權化馬加牛加猪加狗加四加加家王', '白羊寺覺眞國師',\n",
       "       '懷疑土臺邊靈外的外界思惟點思考靈純粹知性自我存在者神明晳判明心身', '２３', '冠', '五色大匡錦城山黃袍大匡正胤',\n",
       "       '恭陵川', '宋時烈畿湖學派禮學', '周王公侯皇帝商周楚義帝', '恩全君荷葉生字憐哉', '力攻',\n",
       "       '国免荘郡郷郡郷保荘官一国棟梁板東惣追捕使', '勞動經濟學', '統制派荒木貞夫永田鉄山東條英機石原莞爾', '円照寺',\n",
       "       '石橋卞璞', '御家人鎌倉殿安堵御恩奉公恩償', '沛縣漢中漢劉肥劉如意孝惠皇帝', '戰後', '武成侯武城侯劇',\n",
       "       '古代近東發祥地', '惠居國師七星庵御井水', '大韓佛敎曹溪宗', '單孔類卵生', '資料構造', '鳳羽鳳鶴ㆍ',\n",
       "       '等價企業領海海賊', '遺棄享受化', '釀造', 'ə', 'Φαίδραφαιδρός', '諸夷蕃將傳契苾何力傳', 'à',\n",
       "       '祖語形', '基督משיחמשח', '洗禮臺洗禮盤', '入質背書附記眞否', '學齡兒童親權者', '孝文太后薄氏魏代王',\n",
       "       '東殿大谷吉継', '風疹', '北方南方国司東使', '雍氏', '週間', '半', '舌葉', '半隊',\n",
       "       '信都淖姬淖子劉丹', '四天國持國天王多聞天王增長天王廣目天王', '現', '安圭里', '佃戶冬牲副租總甲制',\n",
       "       '成長を実感に命のマニフェスト', '中央委員會', '琴譜', '_', '古天文學', '京極氏国司姉小路氏三木氏江馬氏',\n",
       "       '記述多表式換字旣知平文', '道袍袍', '覺皇寺', '昆蟲翅脫皮成蟲變態', 'Лира',\n",
       "       '獨立採算私營擴大再生産下廻線赤字', '當', '使用貸借貸主借主', '述懷', '三叉神經痛', '眞實', '幢幢竿石手',\n",
       "       '一心', 'إمامامامالإمامā', '仙台道', '爭座形上座百科事典的饗宴',\n",
       "       '華族士族神風連の乱秋月の乱萩の乱薩長土肥', '對韓', 'δρακωνδρακων', '全聾筆談張', '我田引水牽强附會',\n",
       "       '喪', '巳向乾坐商原君', 'الكاشغري', 'تقیة', '白磁鐵畵龍文壺圓壺民需用秀作',\n",
       "       '蒼龍島型艦橋赤城翔鶴型雲龍型ヒ', '浮浪者的集積', '糞食性屍食性', '天啓二年壬戌十一月十七日竹林寺', '高麗美術會',\n",
       "       '綱領批判派派派', '高仙芝', '資本國家', '馬植上京臨潢府古北口南京析津府高鳳郭葯師涿州易州領州事張珏河東路宣撫使譚稹',\n",
       "       '三道', '目島²竹島', '鐵甲騎兵κατάφρακτοςκατάφρακτοι', '韓系',\n",
       "       '龍華寺龍華殿頂上繫柱中央繫柱白蒿三道', '補贖',\n",
       "       '古宗派訓点カ加ヲコト点異体字宇津保物語国譲書の手本伴信友堤中納言物語虫めづる姫君小松英雄和英語林集成',\n",
       "       '鶴頂金帶角取勢宣武扈聖淸難五岳紅氣赤氣骨高深勢彩顫', '舊', '天地公事運度', 'łł', '廳州', '天津居金島',\n",
       "       'козакиказакиказакі', '陳承鉉', 'ＶＲＸＭＳＭＳ３５６', '柹蔕湯枾蔕湯柿蔕湯猪尾膏明聖大妃峻劑',\n",
       "       '安泰國禁書', '詹', '霊體', '郞虎林陽淵黎斐都陸任度張震五木城鑊里', '呂炳鉉郵務學堂',\n",
       "       '流移民辰漢辰韓細形銅劍馬韓弁韓辰韓三韓百濟新羅', '富大氣', '國防軍無誤說', 'Ⅱ', '光彩陸離轉機',\n",
       "       '荒川組神室町作戦', '韓儼黎韜', '東別館', 'Éééé', '窓', '南日錄玄鶴春', '古賀廉造', '熙怒愛樂',\n",
       "       '交戰團體', '柔弱說池田常太郎秋旻日韓合邦小史東京讀賣新聞日就社田保橋潔',\n",
       "       '赤札白札ㆍㆍ康平高階經重仙北俘囚長光賴武則小松嫗戸安倍館町', '醫藥品複製藥', '齊西之戰政济水济水共城',\n",
       "       '統衛營正領官警務廳警務官李圭完', '始祖', '陶器綠釉托盞寶珠', '義士劉振東', '網巾貫子風簪',\n",
       "       '博文寺春畝山伊藤博文兒玉秀雄', '刀錢尖首刀', '驍果軍秦楊浩越楊侗秦鄭', '司馬八達', '八路軍新四軍',\n",
       "       '水運¾交子', '靈芝寺熊井庵', '滎陽魏其侯書刀', '混合主義', '澎湖島風島白沙島漁翁島', '文藏臺雲藏臺五倫三綱',\n",
       "       '内務省', 'œ', '臨書學書形臨意臨字形背臨肉筆自運章法', '夜天', '洑德上王', '主', '少長派', '國葬富',\n",
       "       '李咬住朴氏趙氏那海', '電話番號', '印筒魚皮匠錫信印寶珠形大刹', 'كربغاüğ', '李珥宋翼弼四書近思錄知禮三年喪',\n",
       "       '劣化', '康熙帝', '自然法則物理法則', '水性化粧油性化粧專門店歐美', '蠻', '宮宰屯田兵', '朴在奉',\n",
       "       '監軍牙將歸州秦宗言江陵府馬步使趙匡山南東道留後', '西軍', '領国総取りㆍㆍㆍ', '神明之國德仁恕大宰府少弐ㆍ',\n",
       "       '人面鳥鳥半人半鳥天秋萬歲', '時分割', '三廊式側廊身廊風柱頭片蓋柱', '李雄鎭', '腐敗絶緣', '化',\n",
       "       '論衡櫜離國東明', '密陽朝陽川協新民政國史', '放水口', '蟹索戰', '反高永根尹稷善', '張黶陳澤',\n",
       "       '管子山海經琵琶形銅劍始祖說話戰國時代秦開滿潘汗遼東郡秦否王朝會準王浿水', '柱衣雲峴高宗雲峴雲峴', '胎夢性吉兆',\n",
       "       '在日朝鮮人北送事業閣議', '光背臺座三尊佛舟', '國土領土領海領空領領', 'حزبالله', '僧房朴洸小東得',\n",
       "       '回天丸東', '左右司議彝初李擴草屋子傳', '背壓', '屈折的無關心轉化', 'αββα', 'ＭＳ', '航海條例',\n",
       "       '徐東圭先親徐炳旭茶碗數種徐東圭徐炳旭徐東圭徐贊紀傍谷里', '陳仲金', '宣告猶豫免訴短期自由刑改過改悛', '吏胥',\n",
       "       '春生門事件', '徐景雨全身交椅坐像帽制雲紋渲染衣褶內工帖裏', 'Þóǫí', '鴻都門城門校尉', '基軸織機', '燈',\n",
       "       'सतरসতরستارسیتار', '南宋', '伊犁塔城石河子市昌吉回族自治州', '異議', '主神',\n",
       "       '梅北国兼竜ヶ水原田甚次辞世の句太閤', '王師金元命重望誹訕妖僧金鏞頭陀僧來謁', '氣土地大將軍光武十年丙午八月日同樂洞立',\n",
       "       '日曜日', '多毛類', '今橋城大原資良戸田重貞', '出捕岩仁同水口石大正紀念碑', '審希幸期性休',\n",
       "       '韓國王室政府代表伊藤博文弔禮團吾凶獸', '滿鮮一體', '叭公山', '反戰反核歌', '妊娠懷妊', 'Κένταυροι',\n",
       "       '古書喜歌劇', '大', '栗仇沙木槽架浦', '質量保存法則', '崔順子', '天安三台里磨崖如來立像天原三台里磨崖佛',\n",
       "       '鎭將', '朴準鎬', '東道西器', '扶陽侯丞義倩家丞', '神痘疹娘娘', '舟山島呉淞三門灣', '故', '大砲',\n",
       "       '裕親王福全恭親王常寧', '鐵器時代', '鼓手長旗手長',\n",
       "       '夏姬邯鄲秦白起趙括長平大戰史記呂不韋列傳呂不韋華陽夫人昭襄王陵楚字子楚', '剝片',\n",
       "       '苗代川薩摩焼日置郡玉山神社藩廳参勤交代小姓笠野原台地家老朴壽勝東郷氏', 'メビウス', '性穴',\n",
       "       '錄事金慶祚善竹橋金九善地橋', '革命的共産主義者聯盟', '半坡廟底溝甘肅靑海山西河南', '正體',\n",
       "       '善嬪安氏金宏弼南孝溫秀泉都正崇憲大夫靑杞君李彪李豹李玄李越', '參謀總長', '眞番傍辰國',\n",
       "       '後補寶髻內衣別材持物裙性諶現現', '綠營', '半九郎', '野塘里', '河田川田',\n",
       "       '豫防法學口頭公證人和解調停訴訟民事訴訟異議申請行政訴訟', 'αβ', 'é軍野黨稅入私財', '重役', '來迎圖授記圖',\n",
       "       '混交', '基壇部塔身眼象', '卜奇中郞上林苑', '眞德', '東征主戦彰義隊', '慣性', '隠し球', '符丕謝安'],\n",
       "      dtype=object)"
      ]
     },
     "execution_count": 122,
     "metadata": {},
     "output_type": "execute_result"
    }
   ],
   "source": [
    "train[key].str.replace('[^\\w]', '', regex=True).replace('[A-Za-z가-힣0-9ㅏ-ㅣㄱ-ㅎ]', '', regex=True).unique()"
   ]
  },
  {
   "cell_type": "code",
   "execution_count": 123,
   "id": "5fe78f4e",
   "metadata": {},
   "outputs": [
    {
     "data": {
      "text/plain": [
       "array(['', '皇国義勇軍²', '量感', '多脚', 'ㆍ案', '孛兒只斤阿里不哥開平府帝都', '陳田基壇塔身天人像八部神衆',\n",
       "       'ö', '信都淖姬淖子劉丹', '全', '西念寺建長覚信尼', '前八衝拳', '若狭武田氏南部氏', '親子丼鰻丼鰻重',\n",
       "       'Лев', '赤色肉黑色肉', '前聯政大聯政州', '天女像奏樂像舞踊圖鼓面梵複式', '金志雄', '傳衣說先悟後修',\n",
       "       '齊西之戰政济水济水共城', '素髮優塡王', '妙谷呂正鉉慶州李氏夢陽呂圭信', '光背臺座三尊佛舟', '混同', '隠し球',\n",
       "       'чересполосица', '護羌校尉張進杜通黃華辛機毌丘興魏平都亭侯', '漸移地帶中原式生業經濟', '地平座標南點北點',\n",
       "       '郞虎林陽淵黎斐都陸任度張震五木城鑊里', 'ℓ', 'பலலவநடபலலவ', '終速', 'ü', '梅乃本妙寺',\n",
       "       '冷带冬季少雨氣候', '他財他財正味', '水運¾交子', '聖人聖人諡福諡聖', '永明齋文明欽金玉聲上田', '石炭紀',\n",
       "       '朝鮮肅宗尹以濟雉堞', 'ＭＳ', '玄學三玄玄玄', '吉川春生魔宮あゆみ黑黒須ゆり虹原真鈴杏樹リカ', '狂森の子ら',\n",
       "       '株式会社アルプス物流物流個性物流個性', '印櫃梯形花形百子千孫', 'ééé黃繼炎', 'µµµµµµµµ', '航行',\n",
       "       '非公然', 'αβ', '路è', '成聖', '文叔瑞都禅師遠州錯乱', '水戶市報佛寺道場池', '紳帶初成', '遠藤未希',\n",
       "       '東亞讚英會閔永雨李敏英', 'ć', '我が巨人軍は永久に不滅です', '東道西器', '戟長戟手戟', '一人之下萬人之上',\n",
       "       '遼左紀臣僚桀紂殷周湯武主季札王昌瑾王公', 'β', '平樂觀中藏佐軍校尉長安令楊黨中常侍小黃門高進', '人的成果物的成果',\n",
       "       '神人溢莒安平君相國火牛之計', '東洋文化學會東洋事情', '捨生取義'], dtype=object)"
      ]
     },
     "execution_count": 123,
     "metadata": {},
     "output_type": "execute_result"
    }
   ],
   "source": [
    "valid[key].str.replace('[^\\w]', '', regex=True).replace('[A-Za-z가-힣0-9ㅏ-ㅣㄱ-ㅎ]', '', regex=True).unique()"
   ]
  },
  {
   "attachments": {},
   "cell_type": "markdown",
   "id": "5ab7e8d5",
   "metadata": {},
   "source": [
    "## 3.3 answer 마이닝"
   ]
  },
  {
   "cell_type": "code",
   "execution_count": 129,
   "id": "f7b9008e",
   "metadata": {},
   "outputs": [],
   "source": [
    "train['answer_text'] = train['answers'].apply(lambda x: x['text'][0])\n",
    "valid['answer_text'] = valid['answers'].apply(lambda x: x['text'][0])"
   ]
  },
  {
   "cell_type": "code",
   "execution_count": 130,
   "id": "4bb03194",
   "metadata": {},
   "outputs": [],
   "source": [
    "key = 'answer_text'"
   ]
  },
  {
   "attachments": {},
   "cell_type": "markdown",
   "id": "7744068c",
   "metadata": {},
   "source": [
    "### 3.3.1 특수문자 확인"
   ]
  },
  {
   "cell_type": "code",
   "execution_count": 134,
   "id": "34b955b5",
   "metadata": {},
   "outputs": [
    {
     "data": {
      "text/plain": [
       "array(['', '《》', \"''\", '()', '≪:()≫', '〈()〉', '〈〉()', '〈〉', '‘’()', '%',\n",
       "       ',', '‘’', '\"!!\"', '\\xad\\xad', '-', '\"\"', '“”', '(-)', '··', '<>',\n",
       "       '\"()\"', '‘∧’', '·', '!', '-%', \"'()'\", '≪≫', '『』', '“()”', '\",()\"',\n",
       "       '\"\"()', '《》()', '「」', '＜＞', '‘,’', '《()》', '・', '/', '(,)', '~',\n",
       "       '‘()’', '\",\"', ':', '()()', \"'\", '°', '+'], dtype=object)"
      ]
     },
     "execution_count": 134,
     "metadata": {},
     "output_type": "execute_result"
    }
   ],
   "source": [
    "train[key].str.replace('[\\w\\s.]', '', regex=True).unique()"
   ]
  },
  {
   "cell_type": "code",
   "execution_count": 132,
   "id": "1dad6eea",
   "metadata": {},
   "outputs": [
    {
     "data": {
      "text/plain": [
       "array(['', '\"\"', \"''\", '〈〉', \"'()'\", '《》', '『』', '‘’', '()', '()()', ',',\n",
       "       '“”', '(:)', '·()', \"''()\", '＜＞', '\"\"()'], dtype=object)"
      ]
     },
     "execution_count": 132,
     "metadata": {},
     "output_type": "execute_result"
    }
   ],
   "source": [
    "valid[key].str.replace('[\\w\\s.]', '', regex=True).unique()"
   ]
  },
  {
   "attachments": {},
   "cell_type": "markdown",
   "id": "2eab0c2a",
   "metadata": {},
   "source": [
    "### 3.3.2 자음 확인"
   ]
  },
  {
   "cell_type": "code",
   "execution_count": 135,
   "id": "79132f77",
   "metadata": {},
   "outputs": [
    {
     "data": {
      "text/plain": [
       "array(['', 'ㅋㅋㅋ'], dtype=object)"
      ]
     },
     "execution_count": 135,
     "metadata": {},
     "output_type": "execute_result"
    }
   ],
   "source": [
    "train[key].str.replace('[^ㄱ-ㅎㅏ-ㅣ]', '', regex=True).unique()"
   ]
  },
  {
   "cell_type": "code",
   "execution_count": 136,
   "id": "06e6a7f7",
   "metadata": {},
   "outputs": [
    {
     "data": {
      "text/plain": [
       "array([''], dtype=object)"
      ]
     },
     "execution_count": 136,
     "metadata": {},
     "output_type": "execute_result"
    }
   ],
   "source": [
    "valid[key].str.replace('[^ㄱ-ㅎㅏ-ㅣ]', '', regex=True).unique()"
   ]
  },
  {
   "attachments": {},
   "cell_type": "markdown",
   "id": "80aa0e62",
   "metadata": {},
   "source": [
    "### 3.3.3 이상한 문자 확인"
   ]
  },
  {
   "cell_type": "code",
   "execution_count": 137,
   "id": "a75fb270",
   "metadata": {},
   "outputs": [
    {
     "data": {
      "text/plain": [
       "array(['', '優塡王', '公', '前意識', '南雲忠一', '魯陵', '塔身', '大', '片刀', '陳理', '軍毅',\n",
       "       '釋總', '張勳', 'ä', '宋公祠', '重', '鄭夔弼', '海蓮之塔', '成田のようにならないようにしよう',\n",
       "       '部分割卵', '華陽', '麻辣', '汪', '北京', '循資格式', '有限性', '日坂駅', '鉱害', '蔣儼',\n",
       "       '流', '遷', '金學奎', '媒槪念', '受信', '扶餘縣監', '劉肥', '冬牲', '二月河', '華淸池',\n",
       "       '一心', '愛琿城', '郵務學堂', '祭壇', '康平', '文藏臺', '趙匡', '興輪寺', '狼孟', '原田甚次',\n",
       "       '呂超', '淵太祚'], dtype=object)"
      ]
     },
     "execution_count": 137,
     "metadata": {},
     "output_type": "execute_result"
    }
   ],
   "source": [
    "train[key].str.replace('[^\\w]', '', regex=True).replace('[A-Za-z가-힣0-9ㅏ-ㅣㄱ-ㅎ]', '', regex=True).unique()"
   ]
  },
  {
   "cell_type": "code",
   "execution_count": 138,
   "id": "6d88f646",
   "metadata": {},
   "outputs": [
    {
     "data": {
      "text/plain": [
       "array(['', '陳田', '黑色肉', '齊西之戰', '呂正鉉', 'ć', '楊黨', '物的成果'], dtype=object)"
      ]
     },
     "execution_count": 138,
     "metadata": {},
     "output_type": "execute_result"
    }
   ],
   "source": [
    "valid[key].str.replace('[^\\w]', '', regex=True).replace('[A-Za-z가-힣0-9ㅏ-ㅣㄱ-ㅎ]', '', regex=True).unique()"
   ]
  },
  {
   "cell_type": "code",
   "execution_count": null,
   "id": "147e624a",
   "metadata": {},
   "outputs": [],
   "source": []
  }
 ],
 "metadata": {
  "kernelspec": {
   "display_name": "Python 3 (ipykernel)",
   "language": "python",
   "name": "python3"
  },
  "language_info": {
   "codemirror_mode": {
    "name": "ipython",
    "version": 3
   },
   "file_extension": ".py",
   "mimetype": "text/x-python",
   "name": "python",
   "nbconvert_exporter": "python",
   "pygments_lexer": "ipython3",
   "version": "3.10.11"
  },
  "toc": {
   "base_numbering": 1,
   "nav_menu": {},
   "number_sections": true,
   "sideBar": true,
   "skip_h1_title": false,
   "title_cell": "Table of Contents",
   "title_sidebar": "Contents",
   "toc_cell": false,
   "toc_position": {},
   "toc_section_display": true,
   "toc_window_display": false
  }
 },
 "nbformat": 4,
 "nbformat_minor": 5
}
