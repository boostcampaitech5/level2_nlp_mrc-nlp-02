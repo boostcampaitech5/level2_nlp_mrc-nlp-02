{
 "cells": [
  {
   "cell_type": "code",
   "execution_count": 1,
   "metadata": {},
   "outputs": [
    {
     "name": "stderr",
     "output_type": "stream",
     "text": [
      "/opt/conda/envs/pororo/lib/python3.6/site-packages/tqdm/auto.py:22: TqdmWarning: IProgress not found. Please update jupyter and ipywidgets. See https://ipywidgets.readthedocs.io/en/stable/user_install.html\n",
      "  from .autonotebook import tqdm as notebook_tqdm\n"
     ]
    }
   ],
   "source": [
    "from pororo import Pororo\n",
    "# 전체 개괄: How to Build an Open-Domain Question Answering System? (https://lilianweng.github.io/posts/2020-10-29-odqa/#open-book-qa-retriever-generator)\n",
    "# https://github.com/kakaobrain/pororo\n",
    "# https://kakaobrain.github.io/pororo/seq2seq/qg.html\n",
    "# https://www.dinolabs.ai/398 : 오픈소스 리뷰기 / 뽀로로\n",
    "# https://amber-chaeeunk.tistory.com/105 : Generation based mrc\n"
   ]
  },
  {
   "cell_type": "code",
   "execution_count": 2,
   "metadata": {},
   "outputs": [
    {
     "data": {
      "text/plain": [
       "\"Available tasks are ['mrc', 'rc', 'qa', 'question_answering', 'machine_reading_comprehension', 'reading_comprehension', 'sentiment', 'sentiment_analysis', 'nli', 'natural_language_inference', 'inference', 'fill', 'fill_in_blank', 'fib', 'para', 'pi', 'cse', 'contextual_subword_embedding', 'similarity', 'sts', 'semantic_textual_similarity', 'sentence_similarity', 'sentvec', 'sentence_embedding', 'sentence_vector', 'se', 'inflection', 'morphological_inflection', 'g2p', 'grapheme_to_phoneme', 'grapheme_to_phoneme_conversion', 'w2v', 'wordvec', 'word2vec', 'word_vector', 'word_embedding', 'tokenize', 'tokenise', 'tokenization', 'tokenisation', 'tok', 'segmentation', 'seg', 'mt', 'machine_translation', 'translation', 'pos', 'tag', 'pos_tagging', 'tagging', 'const', 'constituency', 'constituency_parsing', 'cp', 'pg', 'collocation', 'collocate', 'col', 'word_translation', 'wt', 'summarization', 'summarisation', 'text_summarization', 'text_summarisation', 'summary', 'gec', 'review', 'review_scoring', 'lemmatization', 'lemmatisation', 'lemma', 'ner', 'named_entity_recognition', 'entity_recognition', 'zero-topic', 'dp', 'dep_parse', 'caption', 'captioning', 'asr', 'speech_recognition', 'st', 'speech_translation', 'tts', 'text_to_speech', 'speech_synthesis', 'ocr', 'srl', 'semantic_role_labeling', 'p2g', 'aes', 'essay', 'qg', 'question_generation', 'age_suitability', 'wsd']\""
      ]
     },
     "execution_count": 2,
     "metadata": {},
     "output_type": "execute_result"
    }
   ],
   "source": [
    "Pororo.available_tasks()"
   ]
  },
  {
   "cell_type": "code",
   "execution_count": 3,
   "metadata": {},
   "outputs": [],
   "source": [
    "# !pip install pandas\n",
    "# !pip install -U matplotlib\n",
    "# !pip install seaborn\n",
    "# !pip3 install datasets"
   ]
  },
  {
   "cell_type": "code",
   "execution_count": 4,
   "metadata": {},
   "outputs": [],
   "source": [
    "import pandas as pd\n",
    "import matplotlib\n",
    "import matplotlib.pyplot as plt\n",
    "import numpy as np\n",
    "import math\n",
    "import os\n",
    "import seaborn as sns\n",
    "import re\n",
    "import json\n",
    "\n",
    "from collections import Counter\n",
    "from tqdm import tqdm\n",
    "from pandas import json_normalize\n",
    "pd.set_option('display.max_rows', None)\n",
    "pd.set_option('display.max_columns', None)\n",
    "pd.set_option('display.max_colwidth', None)\n",
    "import warnings\n",
    "# 경고메세지 끄기\n",
    "warnings.filterwarnings(action='ignore')\n",
    "import matplotlib.font_manager as fm\n",
    "fontlist = fm.findSystemFonts(fontpaths=None, fontext='ttf')\n",
    "fontlist\n",
    "path = '/usr/share/fonts/nanum/NanumMyeongjoBold.ttf' # fontlist에 있던 경로입니다\n",
    "font_name = fm.FontProperties(fname=path).get_name()\n",
    "font_name\n",
    "plt.rcParams['font.family'] =font_name\n",
    "plt.rcParams['axes.unicode_minus'] =False"
   ]
  },
  {
   "cell_type": "code",
   "execution_count": 6,
   "metadata": {},
   "outputs": [],
   "source": [
    "ner = Pororo(task='ner',lang='ko')"
   ]
  },
  {
   "attachments": {},
   "cell_type": "markdown",
   "metadata": {},
   "source": [
    "# Train DATASET"
   ]
  },
  {
   "cell_type": "code",
   "execution_count": 34,
   "metadata": {},
   "outputs": [
    {
     "name": "stdout",
     "output_type": "stream",
     "text": [
      "DatasetDict({\n",
      "    train: Dataset({\n",
      "        features: ['title', 'context', 'question', 'id', 'answers', 'document_id', '__index_level_0__'],\n",
      "        num_rows: 3952\n",
      "    })\n",
      "    validation: Dataset({\n",
      "        features: ['title', 'context', 'question', 'id', 'answers', 'document_id', '__index_level_0__'],\n",
      "        num_rows: 240\n",
      "    })\n",
      "})\n"
     ]
    }
   ],
   "source": [
    "from datasets import load_from_disk\n",
    "dataset = load_from_disk(\"../input/data/train_dataset/\")\n",
    "print(dataset)\n",
    "df = pd.DataFrame( dataset['train'] )"
   ]
  },
  {
   "cell_type": "code",
   "execution_count": 35,
   "metadata": {},
   "outputs": [
    {
     "data": {
      "text/html": [
       "<div>\n",
       "<style scoped>\n",
       "    .dataframe tbody tr th:only-of-type {\n",
       "        vertical-align: middle;\n",
       "    }\n",
       "\n",
       "    .dataframe tbody tr th {\n",
       "        vertical-align: top;\n",
       "    }\n",
       "\n",
       "    .dataframe thead th {\n",
       "        text-align: right;\n",
       "    }\n",
       "</style>\n",
       "<table border=\"1\" class=\"dataframe\">\n",
       "  <thead>\n",
       "    <tr style=\"text-align: right;\">\n",
       "      <th></th>\n",
       "      <th>title</th>\n",
       "      <th>context</th>\n",
       "      <th>question</th>\n",
       "      <th>id</th>\n",
       "      <th>answers</th>\n",
       "      <th>document_id</th>\n",
       "      <th>__index_level_0__</th>\n",
       "    </tr>\n",
       "  </thead>\n",
       "  <tbody>\n",
       "    <tr>\n",
       "      <th>0</th>\n",
       "      <td>미국 상원</td>\n",
       "      <td>미국 상의원 또는 미국 상원(United States Senate)은 양원제인 미국 의회의 상원이다.\\n\\n미국 부통령이 상원의장이 된다. 각 주당 2명의 상원의원이 선출되어 100명의 상원의원으로 구성되어 있다. 임기는 6년이며, 2년마다 50개주 중 1/3씩 상원의원을 새로 선출하여 연방에 보낸다.\\n\\n미국 상원은 미국 하원과는 다르게 미국 대통령을 수반으로 하는 미국 연방 행정부에 각종 동의를 하는 기관이다. 하원이 세금과 경제에 대한 권한, 대통령을 포함한 대다수의 공무원을 파면할 권한을 갖고 있는 국민을 대표하는 기관인 반면 상원은 미국의 주를 대표한다. 즉 캘리포니아주, 일리노이주 같이 주 정부와 주 의회를 대표하는 기관이다. 그로 인하여 군대의 파병, 관료의 임명에 대한 동의, 외국 조약에 대한 승인 등 신속을 요하는 권한은 모두 상원에게만 있다. 그리고 하원에 대한 견제 역할(하원의 법안을 거부할 권한 등)을 담당한다. 2년의 임기로 인하여 급진적일 수밖에 없는 하원은 지나치게 급진적인 법안을 만들기 쉽다. 대표적인 예로 건강보험 개혁 당시 하원이 미국 연방 행정부에게 퍼블릭 옵션(공공건강보험기관)의 조항이 있는 반면 상원의 경우 하원안이 지나치게 세금이 많이 든다는 이유로 퍼블릭 옵션 조항을 제외하고 비영리건강보험기관이나 보험회사가 담당하도록 한 것이다. 이 경우처럼 상원은 하원이나 내각책임제가 빠지기 쉬운 국가들의 국회처럼 걸핏하면 발생하는 의회의 비정상적인 사태를 방지하는 기관이다. 상원은 급박한 처리사항의 경우가 아니면 법안을 먼저 내는 경우가 드물고 하원이 만든 법안을 수정하여 다시 하원에 되돌려보낸다. 이러한 방식으로 단원제가 빠지기 쉬운 함정을 미리 방지하는 것이다.날짜=2017-02-05</td>\n",
       "      <td>대통령을 포함한 미국의 행정부 견제권을 갖는 국가 기관은?</td>\n",
       "      <td>mrc-1-000067</td>\n",
       "      <td>{'answer_start': [235], 'text': ['하원']}</td>\n",
       "      <td>18293</td>\n",
       "      <td>42</td>\n",
       "    </tr>\n",
       "    <tr>\n",
       "      <th>1</th>\n",
       "      <td>인사조직관리</td>\n",
       "      <td>'근대적 경영학' 또는 '고전적 경영학'에서 현대적 경영학으로 전환되는 시기는 1950년대이다. 2차 세계대전을 마치고, 6.25전쟁의 시기로 유럽은 전후 재건에 집중하고, 유럽 제국주의의 식민지가 독립하여 아프리카, 아시아, 아메리카 대륙에서 신생국가가 형성되는 시기였고, 미국은 전쟁 이후 경제적 변화에 기업이 적응을 해야 하던 시기였다. 특히 1954년 피터 드러커의 저서 《경영의 실제》는 현대적 경영의 기준을 제시하여서, 기존 근대적 인사조직관리를 넘어선 현대적 인사조직관리의 전환점이 된다. 드러커는 경영자의 역할을 강조하며 경영이 현시대 최고의 예술이자 과학이라고 주장하였고 , 이 주장은 21세기 인사조직관리의 역할을 자리매김했다.\\n\\n현대적 인사조직관리와 근대 인사조직관리의 가장 큰 차이는 통합이다. 19세기의 영향을 받던 근대적 경영학(고전적 경영)의 흐름은 기능을 강조하였지만, 1950년대 이후의 현대 경영학은 통합을 강조하였다. 기능이 분화된 '기계적인 기업조직' 이해에서 다양한 기능을 인사조직관리의 목적, 경영의 목적을 위해서 다양한 분야를 통합하여 '유기적 기업 조직' 이해로 전환되었다. 이 통합적 접근방식은 과정, 시스템, 상황을 중심으로 하는 인사조직관리 방식을 형성했다.</td>\n",
       "      <td>현대적 인사조직관리의 시발점이 된 책은?</td>\n",
       "      <td>mrc-0-004397</td>\n",
       "      <td>{'answer_start': [212], 'text': ['《경영의 실제》']}</td>\n",
       "      <td>51638</td>\n",
       "      <td>2873</td>\n",
       "    </tr>\n",
       "    <tr>\n",
       "      <th>2</th>\n",
       "      <td>강희제</td>\n",
       "      <td>강희제는 강화된 황권으로 거의 황제 중심의 독단적으로 나라를 이끌어 갔기에 자칫 전제 독재의 가능성이 보일 수도 있었으나, 스스로 황권을 조절하고 정치의 일부는 재상들이나 대신들과 의논하였으며 당시 궁핍하게 살고 있는 한족들의 사정을 잘 알고 있던 한족 대신들의 의견을 수용하여 정책을 실행하고 선정을 베풀었다. 프랑스의 예수회 선교사 부베는 루이 14세에게 다음과 같이 보고하였다. \\n강희제는 세상에서 가장 부유한 군주입니다. 그럼에도 황제인 그의 생활용품들은 사치스러움과 화려함과는 거리가 멀다 못해 소박하기 그지없습니다. 역대 제왕들 가운데 전례없는 일입니다.\\n강희제 스스로도 자신이 직접 쓴 《근검록》에서 다음과 같이 쓰고 있다\\n모든 비용은 백성들의 피땀으로 얻어진 것이니 주인된 황제로서 절제하고 절제함은 당연한 것이 아닌가\\n\\n이런 강희제의 인자한 정치는 한족이 만주족의 청나라를 지지하게 만드는 데에 크게 일조하였다. 1717년(강희 56년) 강희제는 〈고별상유〉(告別上諭), 즉 마지막으로 백성들에게 바치는 글을 남겼는데 강희제는 “한 가지 일에 부지런하지 않으면 온 천하에 근심을 끼치고, 한 순간에 부지런하지 않으면 천추만대에 우환거리를 남긴다.”라고 역설하였다. 또한 “제왕이 천하를 다스림에 능력이 있는 자를 가까이 두고, 백성들의 세금을 낮추어 주어야 하며, 백성들의 마음을 하나로 묶고, 위태로움이 생기기 전에 나라를 보호하며, 혼란이 있기 전에 이를 먼저 파악하여 잘 다스리고, 관대하고 엄격함의 조화를 이루어 나라를 위한 계책을 도모해야 한다.”라고 후대의 황제에게도 이를 훈계하였다. 강희제는 황제로서 자식과 같은 백성들에게 이런 당부의 말을 남겨 황제로서의 도리를 다하려 하였다.</td>\n",
       "      <td>강희제가 1717년에 쓴 글은 누구를 위해 쓰여졌는가?</td>\n",
       "      <td>mrc-1-000362</td>\n",
       "      <td>{'answer_start': [510], 'text': ['백성']}</td>\n",
       "      <td>5028</td>\n",
       "      <td>230</td>\n",
       "    </tr>\n",
       "  </tbody>\n",
       "</table>\n",
       "</div>"
      ],
      "text/plain": [
       "    title  \\\n",
       "0   미국 상원   \n",
       "1  인사조직관리   \n",
       "2     강희제   \n",
       "\n",
       "                                                                                                                                                                                                                                                                                                                                                                                                                                                                                                                                                                                                                                                                                                                                                                                                                                                                                          context  \\\n",
       "0  미국 상의원 또는 미국 상원(United States Senate)은 양원제인 미국 의회의 상원이다.\\n\\n미국 부통령이 상원의장이 된다. 각 주당 2명의 상원의원이 선출되어 100명의 상원의원으로 구성되어 있다. 임기는 6년이며, 2년마다 50개주 중 1/3씩 상원의원을 새로 선출하여 연방에 보낸다.\\n\\n미국 상원은 미국 하원과는 다르게 미국 대통령을 수반으로 하는 미국 연방 행정부에 각종 동의를 하는 기관이다. 하원이 세금과 경제에 대한 권한, 대통령을 포함한 대다수의 공무원을 파면할 권한을 갖고 있는 국민을 대표하는 기관인 반면 상원은 미국의 주를 대표한다. 즉 캘리포니아주, 일리노이주 같이 주 정부와 주 의회를 대표하는 기관이다. 그로 인하여 군대의 파병, 관료의 임명에 대한 동의, 외국 조약에 대한 승인 등 신속을 요하는 권한은 모두 상원에게만 있다. 그리고 하원에 대한 견제 역할(하원의 법안을 거부할 권한 등)을 담당한다. 2년의 임기로 인하여 급진적일 수밖에 없는 하원은 지나치게 급진적인 법안을 만들기 쉽다. 대표적인 예로 건강보험 개혁 당시 하원이 미국 연방 행정부에게 퍼블릭 옵션(공공건강보험기관)의 조항이 있는 반면 상원의 경우 하원안이 지나치게 세금이 많이 든다는 이유로 퍼블릭 옵션 조항을 제외하고 비영리건강보험기관이나 보험회사가 담당하도록 한 것이다. 이 경우처럼 상원은 하원이나 내각책임제가 빠지기 쉬운 국가들의 국회처럼 걸핏하면 발생하는 의회의 비정상적인 사태를 방지하는 기관이다. 상원은 급박한 처리사항의 경우가 아니면 법안을 먼저 내는 경우가 드물고 하원이 만든 법안을 수정하여 다시 하원에 되돌려보낸다. 이러한 방식으로 단원제가 빠지기 쉬운 함정을 미리 방지하는 것이다.날짜=2017-02-05   \n",
       "1                                                                                                                                                                                                                                                   '근대적 경영학' 또는 '고전적 경영학'에서 현대적 경영학으로 전환되는 시기는 1950년대이다. 2차 세계대전을 마치고, 6.25전쟁의 시기로 유럽은 전후 재건에 집중하고, 유럽 제국주의의 식민지가 독립하여 아프리카, 아시아, 아메리카 대륙에서 신생국가가 형성되는 시기였고, 미국은 전쟁 이후 경제적 변화에 기업이 적응을 해야 하던 시기였다. 특히 1954년 피터 드러커의 저서 《경영의 실제》는 현대적 경영의 기준을 제시하여서, 기존 근대적 인사조직관리를 넘어선 현대적 인사조직관리의 전환점이 된다. 드러커는 경영자의 역할을 강조하며 경영이 현시대 최고의 예술이자 과학이라고 주장하였고 , 이 주장은 21세기 인사조직관리의 역할을 자리매김했다.\\n\\n현대적 인사조직관리와 근대 인사조직관리의 가장 큰 차이는 통합이다. 19세기의 영향을 받던 근대적 경영학(고전적 경영)의 흐름은 기능을 강조하였지만, 1950년대 이후의 현대 경영학은 통합을 강조하였다. 기능이 분화된 '기계적인 기업조직' 이해에서 다양한 기능을 인사조직관리의 목적, 경영의 목적을 위해서 다양한 분야를 통합하여 '유기적 기업 조직' 이해로 전환되었다. 이 통합적 접근방식은 과정, 시스템, 상황을 중심으로 하는 인사조직관리 방식을 형성했다.   \n",
       "2              강희제는 강화된 황권으로 거의 황제 중심의 독단적으로 나라를 이끌어 갔기에 자칫 전제 독재의 가능성이 보일 수도 있었으나, 스스로 황권을 조절하고 정치의 일부는 재상들이나 대신들과 의논하였으며 당시 궁핍하게 살고 있는 한족들의 사정을 잘 알고 있던 한족 대신들의 의견을 수용하여 정책을 실행하고 선정을 베풀었다. 프랑스의 예수회 선교사 부베는 루이 14세에게 다음과 같이 보고하였다. \\n강희제는 세상에서 가장 부유한 군주입니다. 그럼에도 황제인 그의 생활용품들은 사치스러움과 화려함과는 거리가 멀다 못해 소박하기 그지없습니다. 역대 제왕들 가운데 전례없는 일입니다.\\n강희제 스스로도 자신이 직접 쓴 《근검록》에서 다음과 같이 쓰고 있다\\n모든 비용은 백성들의 피땀으로 얻어진 것이니 주인된 황제로서 절제하고 절제함은 당연한 것이 아닌가\\n\\n이런 강희제의 인자한 정치는 한족이 만주족의 청나라를 지지하게 만드는 데에 크게 일조하였다. 1717년(강희 56년) 강희제는 〈고별상유〉(告別上諭), 즉 마지막으로 백성들에게 바치는 글을 남겼는데 강희제는 “한 가지 일에 부지런하지 않으면 온 천하에 근심을 끼치고, 한 순간에 부지런하지 않으면 천추만대에 우환거리를 남긴다.”라고 역설하였다. 또한 “제왕이 천하를 다스림에 능력이 있는 자를 가까이 두고, 백성들의 세금을 낮추어 주어야 하며, 백성들의 마음을 하나로 묶고, 위태로움이 생기기 전에 나라를 보호하며, 혼란이 있기 전에 이를 먼저 파악하여 잘 다스리고, 관대하고 엄격함의 조화를 이루어 나라를 위한 계책을 도모해야 한다.”라고 후대의 황제에게도 이를 훈계하였다. 강희제는 황제로서 자식과 같은 백성들에게 이런 당부의 말을 남겨 황제로서의 도리를 다하려 하였다.   \n",
       "\n",
       "                           question            id  \\\n",
       "0  대통령을 포함한 미국의 행정부 견제권을 갖는 국가 기관은?  mrc-1-000067   \n",
       "1            현대적 인사조직관리의 시발점이 된 책은?  mrc-0-004397   \n",
       "2    강희제가 1717년에 쓴 글은 누구를 위해 쓰여졌는가?  mrc-1-000362   \n",
       "\n",
       "                                         answers  document_id  \\\n",
       "0        {'answer_start': [235], 'text': ['하원']}        18293   \n",
       "1  {'answer_start': [212], 'text': ['《경영의 실제》']}        51638   \n",
       "2        {'answer_start': [510], 'text': ['백성']}         5028   \n",
       "\n",
       "   __index_level_0__  \n",
       "0                 42  \n",
       "1               2873  \n",
       "2                230  "
      ]
     },
     "metadata": {},
     "output_type": "display_data"
    }
   ],
   "source": [
    "display(df.head(3))"
   ]
  },
  {
   "cell_type": "code",
   "execution_count": 36,
   "metadata": {},
   "outputs": [
    {
     "data": {
      "text/plain": [
       "'미국 상의원 또는 미국 상원(United States Senate)은 양원제인 미국 의회의 상원이다.\\\\n\\\\n미국 부통령이 상원의장이 된다. 각 주당 2명의 상원의원이 선출되어 100명의 상원의원으로 구성되어 있다. 임기는 6년이며, 2년마다 50개주 중 1/3씩 상원의원을 새로 선출하여 연방에 보낸다.\\\\n\\\\n미국 상원은 미국 하원과는 다르게 미국 대통령을 수반으로 하는 미국 연방 행정부에 각종 동의를 하는 기관이다. 하원이 세금과 경제에 대한 권한, 대통령을 포함한 대다수의 공무원을 파면할 권한을 갖고 있는 국민을 대표하는 기관인 반면 상원은 미국의 주를 대표한다. 즉 캘리포니아주, 일리노이주 같이 주 정부와 주 의회를 대표하는 기관이다. 그로 인하여 군대의 파병, 관료의 임명에 대한 동의, 외국 조약에 대한 승인 등 신속을 요하는 권한은 모두 상원에게만 있다. 그리고 하원에 대한 견제 역할(하원의 법안을 거부할 권한 등)을 담당한다. 2년의 임기로 인하여 급진적일 수밖에 없는 하원은 지나치게 급진적인 법안을 만들기 쉽다. 대표적인 예로 건강보험 개혁 당시 하원이 미국 연방 행정부에게 퍼블릭 옵션(공공건강보험기관)의 조항이 있는 반면 상원의 경우 하원안이 지나치게 세금이 많이 든다는 이유로 퍼블릭 옵션 조항을 제외하고 비영리건강보험기관이나 보험회사가 담당하도록 한 것이다. 이 경우처럼 상원은 하원이나 내각책임제가 빠지기 쉬운 국가들의 국회처럼 걸핏하면 발생하는 의회의 비정상적인 사태를 방지하는 기관이다. 상원은 급박한 처리사항의 경우가 아니면 법안을 먼저 내는 경우가 드물고 하원이 만든 법안을 수정하여 다시 하원에 되돌려보낸다. 이러한 방식으로 단원제가 빠지기 쉬운 함정을 미리 방지하는 것이다.날짜=2017-02-05'"
      ]
     },
     "execution_count": 36,
     "metadata": {},
     "output_type": "execute_result"
    }
   ],
   "source": [
    "df.iloc[0].context"
   ]
  },
  {
   "cell_type": "code",
   "execution_count": 37,
   "metadata": {},
   "outputs": [
    {
     "ename": "NameError",
     "evalue": "name 'ner' is not defined",
     "output_type": "error",
     "traceback": [
      "\u001b[0;31m---------------------------------------------------------------------------\u001b[0m",
      "\u001b[0;31mNameError\u001b[0m                                 Traceback (most recent call last)",
      "\u001b[0;32m<ipython-input-37-decc30f6785c>\u001b[0m in \u001b[0;36m<module>\u001b[0;34m()\u001b[0m\n\u001b[0;32m----> 1\u001b[0;31m \u001b[0mner_result\u001b[0m \u001b[0;34m=\u001b[0m \u001b[0mner\u001b[0m\u001b[0;34m(\u001b[0m\u001b[0mdf\u001b[0m\u001b[0;34m.\u001b[0m\u001b[0miloc\u001b[0m\u001b[0;34m[\u001b[0m\u001b[0;36m0\u001b[0m\u001b[0;34m]\u001b[0m\u001b[0;34m.\u001b[0m\u001b[0mcontext\u001b[0m\u001b[0;34m)\u001b[0m\u001b[0;34m\u001b[0m\u001b[0;34m\u001b[0m\u001b[0m\n\u001b[0m\u001b[1;32m      2\u001b[0m \u001b[0;31m# ner_result\u001b[0m\u001b[0;34m\u001b[0m\u001b[0;34m\u001b[0m\u001b[0;34m\u001b[0m\u001b[0m\n",
      "\u001b[0;31mNameError\u001b[0m: name 'ner' is not defined"
     ]
    }
   ],
   "source": [
    "ner_result = ner(df.iloc[0].context)\n",
    "# ner_result"
   ]
  },
  {
   "attachments": {
    "image.png": {
     "image/png": "[encoded data removed]"
    }
   },
   "cell_type": "markdown",
   "metadata": {},
   "source": [
    "관찰 결과 O 지워줘야 할 듯    \n",
    "![image.png](attachment:image.png){: width=\"100\" height=\"100\"}"
   ]
  },
  {
   "cell_type": "code",
   "execution_count": 38,
   "metadata": {},
   "outputs": [
    {
     "ename": "NameError",
     "evalue": "name 'ner_result' is not defined",
     "output_type": "error",
     "traceback": [
      "\u001b[0;31m---------------------------------------------------------------------------\u001b[0m",
      "\u001b[0;31mNameError\u001b[0m                                 Traceback (most recent call last)",
      "\u001b[0;32m<ipython-input-38-9218859065b3>\u001b[0m in \u001b[0;36m<module>\u001b[0;34m()\u001b[0m\n\u001b[0;32m----> 1\u001b[0;31m \u001b[0mner_result\u001b[0m \u001b[0;34m=\u001b[0m \u001b[0;34m[\u001b[0m\u001b[0;34m(\u001b[0m\u001b[0mw\u001b[0m\u001b[0;34m,\u001b[0m\u001b[0mne\u001b[0m\u001b[0;34m)\u001b[0m \u001b[0;32mfor\u001b[0m \u001b[0mw\u001b[0m\u001b[0;34m,\u001b[0m\u001b[0mne\u001b[0m \u001b[0;32min\u001b[0m \u001b[0mner_result\u001b[0m \u001b[0;32mif\u001b[0m \u001b[0mne\u001b[0m\u001b[0;34m!=\u001b[0m\u001b[0;34m'O'\u001b[0m\u001b[0;34m]\u001b[0m\u001b[0;34m\u001b[0m\u001b[0;34m\u001b[0m\u001b[0m\n\u001b[0m\u001b[1;32m      2\u001b[0m \u001b[0mset\u001b[0m\u001b[0;34m(\u001b[0m\u001b[0mner_result\u001b[0m\u001b[0;34m)\u001b[0m\u001b[0;34m\u001b[0m\u001b[0;34m\u001b[0m\u001b[0m\n",
      "\u001b[0;31mNameError\u001b[0m: name 'ner_result' is not defined"
     ]
    }
   ],
   "source": [
    "ner_result = [(w,ne) for w,ne in ner_result if ne!='O']\n",
    "set(ner_result)"
   ]
  },
  {
   "cell_type": "code",
   "execution_count": 39,
   "metadata": {},
   "outputs": [
    {
     "data": {
      "text/plain": [
       "'《경영의 실제》'"
      ]
     },
     "execution_count": 39,
     "metadata": {},
     "output_type": "execute_result"
    }
   ],
   "source": [
    "df['answers'].iloc[1]['text'][0]"
   ]
  },
  {
   "attachments": {},
   "cell_type": "markdown",
   "metadata": {},
   "source": [
    "ner 분석 (answer, title)"
   ]
  },
  {
   "cell_type": "code",
   "execution_count": 33,
   "metadata": {},
   "outputs": [
    {
     "data": {
      "text/html": [
       "<div>\n",
       "<style scoped>\n",
       "    .dataframe tbody tr th:only-of-type {\n",
       "        vertical-align: middle;\n",
       "    }\n",
       "\n",
       "    .dataframe tbody tr th {\n",
       "        vertical-align: top;\n",
       "    }\n",
       "\n",
       "    .dataframe thead th {\n",
       "        text-align: right;\n",
       "    }\n",
       "</style>\n",
       "<table border=\"1\" class=\"dataframe\">\n",
       "  <thead>\n",
       "    <tr style=\"text-align: right;\">\n",
       "      <th></th>\n",
       "      <th>title</th>\n",
       "      <th>context</th>\n",
       "      <th>question</th>\n",
       "      <th>id</th>\n",
       "      <th>answers</th>\n",
       "      <th>document_id</th>\n",
       "      <th>__index_level_0__</th>\n",
       "      <th>ner_A</th>\n",
       "      <th>ner_T</th>\n",
       "    </tr>\n",
       "  </thead>\n",
       "  <tbody>\n",
       "    <tr>\n",
       "      <th>0</th>\n",
       "      <td>미국 상원</td>\n",
       "      <td>미국 상의원 또는 미국 상원(United States Senate)은 양원제인 미국 의회의 상원이다.\\n\\n미국 부통령이 상원의장이 된다. 각 주당 2명의 상원의원이 선출되어 100명의 상원의원으로 구성되어 있다. 임기는 6년이며, 2년마다 50개주 중 1/3씩 상원의원을 새로 선출하여 연방에 보낸다.\\n\\n미국 상원은 미국 하원과는 다르게 미국 대통령을 수반으로 하는 미국 연방 행정부에 각종 동의를 하는 기관이다. 하원이 세금과 경제에 대한 권한, 대통령을 포함한 대다수의 공무원을 파면할 권한을 갖고 있는 국민을 대표하는 기관인 반면 상원은 미국의 주를 대표한다. 즉 캘리포니아주, 일리노이주 같이 주 정부와 주 의회를 대표하는 기관이다. 그로 인하여 군대의 파병, 관료의 임명에 대한 동의, 외국 조약에 대한 승인 등 신속을 요하는 권한은 모두 상원에게만 있다. 그리고 하원에 대한 견제 역할(하원의 법안을 거부할 권한 등)을 담당한다. 2년의 임기로 인하여 급진적일 수밖에 없는 하원은 지나치게 급진적인 법안을 만들기 쉽다. 대표적인 예로 건강보험 개혁 당시 하원이 미국 연방 행정부에게 퍼블릭 옵션(공공건강보험기관)의 조항이 있는 반면 상원의 경우 하원안이 지나치게 세금이 많이 든다는 이유로 퍼블릭 옵션 조항을 제외하고 비영리건강보험기관이나 보험회사가 담당하도록 한 것이다. 이 경우처럼 상원은 하원이나 내각책임제가 빠지기 쉬운 국가들의 국회처럼 걸핏하면 발생하는 의회의 비정상적인 사태를 방지하는 기관이다. 상원은 급박한 처리사항의 경우가 아니면 법안을 먼저 내는 경우가 드물고 하원이 만든 법안을 수정하여 다시 하원에 되돌려보낸다. 이러한 방식으로 단원제가 빠지기 쉬운 함정을 미리 방지하는 것이다.날짜=2017-02-05</td>\n",
       "      <td>대통령을 포함한 미국의 행정부 견제권을 갖는 국가 기관은?</td>\n",
       "      <td>mrc-1-000067</td>\n",
       "      <td>{'answer_start': [235], 'text': ['하원']}</td>\n",
       "      <td>18293</td>\n",
       "      <td>42</td>\n",
       "      <td>[ORGANIZATION]</td>\n",
       "      <td>[COUNTRY, ORGANIZATION]</td>\n",
       "    </tr>\n",
       "    <tr>\n",
       "      <th>1</th>\n",
       "      <td>인사조직관리</td>\n",
       "      <td>'근대적 경영학' 또는 '고전적 경영학'에서 현대적 경영학으로 전환되는 시기는 1950년대이다. 2차 세계대전을 마치고, 6.25전쟁의 시기로 유럽은 전후 재건에 집중하고, 유럽 제국주의의 식민지가 독립하여 아프리카, 아시아, 아메리카 대륙에서 신생국가가 형성되는 시기였고, 미국은 전쟁 이후 경제적 변화에 기업이 적응을 해야 하던 시기였다. 특히 1954년 피터 드러커의 저서 《경영의 실제》는 현대적 경영의 기준을 제시하여서, 기존 근대적 인사조직관리를 넘어선 현대적 인사조직관리의 전환점이 된다. 드러커는 경영자의 역할을 강조하며 경영이 현시대 최고의 예술이자 과학이라고 주장하였고 , 이 주장은 21세기 인사조직관리의 역할을 자리매김했다.\\n\\n현대적 인사조직관리와 근대 인사조직관리의 가장 큰 차이는 통합이다. 19세기의 영향을 받던 근대적 경영학(고전적 경영)의 흐름은 기능을 강조하였지만, 1950년대 이후의 현대 경영학은 통합을 강조하였다. 기능이 분화된 '기계적인 기업조직' 이해에서 다양한 기능을 인사조직관리의 목적, 경영의 목적을 위해서 다양한 분야를 통합하여 '유기적 기업 조직' 이해로 전환되었다. 이 통합적 접근방식은 과정, 시스템, 상황을 중심으로 하는 인사조직관리 방식을 형성했다.</td>\n",
       "      <td>현대적 인사조직관리의 시발점이 된 책은?</td>\n",
       "      <td>mrc-0-004397</td>\n",
       "      <td>{'answer_start': [212], 'text': ['《경영의 실제》']}</td>\n",
       "      <td>51638</td>\n",
       "      <td>2873</td>\n",
       "      <td>[ARTIFACT]</td>\n",
       "      <td>[]</td>\n",
       "    </tr>\n",
       "    <tr>\n",
       "      <th>2</th>\n",
       "      <td>강희제</td>\n",
       "      <td>강희제는 강화된 황권으로 거의 황제 중심의 독단적으로 나라를 이끌어 갔기에 자칫 전제 독재의 가능성이 보일 수도 있었으나, 스스로 황권을 조절하고 정치의 일부는 재상들이나 대신들과 의논하였으며 당시 궁핍하게 살고 있는 한족들의 사정을 잘 알고 있던 한족 대신들의 의견을 수용하여 정책을 실행하고 선정을 베풀었다. 프랑스의 예수회 선교사 부베는 루이 14세에게 다음과 같이 보고하였다. \\n강희제는 세상에서 가장 부유한 군주입니다. 그럼에도 황제인 그의 생활용품들은 사치스러움과 화려함과는 거리가 멀다 못해 소박하기 그지없습니다. 역대 제왕들 가운데 전례없는 일입니다.\\n강희제 스스로도 자신이 직접 쓴 《근검록》에서 다음과 같이 쓰고 있다\\n모든 비용은 백성들의 피땀으로 얻어진 것이니 주인된 황제로서 절제하고 절제함은 당연한 것이 아닌가\\n\\n이런 강희제의 인자한 정치는 한족이 만주족의 청나라를 지지하게 만드는 데에 크게 일조하였다. 1717년(강희 56년) 강희제는 〈고별상유〉(告別上諭), 즉 마지막으로 백성들에게 바치는 글을 남겼는데 강희제는 “한 가지 일에 부지런하지 않으면 온 천하에 근심을 끼치고, 한 순간에 부지런하지 않으면 천추만대에 우환거리를 남긴다.”라고 역설하였다. 또한 “제왕이 천하를 다스림에 능력이 있는 자를 가까이 두고, 백성들의 세금을 낮추어 주어야 하며, 백성들의 마음을 하나로 묶고, 위태로움이 생기기 전에 나라를 보호하며, 혼란이 있기 전에 이를 먼저 파악하여 잘 다스리고, 관대하고 엄격함의 조화를 이루어 나라를 위한 계책을 도모해야 한다.”라고 후대의 황제에게도 이를 훈계하였다. 강희제는 황제로서 자식과 같은 백성들에게 이런 당부의 말을 남겨 황제로서의 도리를 다하려 하였다.</td>\n",
       "      <td>강희제가 1717년에 쓴 글은 누구를 위해 쓰여졌는가?</td>\n",
       "      <td>mrc-1-000362</td>\n",
       "      <td>{'answer_start': [510], 'text': ['백성']}</td>\n",
       "      <td>5028</td>\n",
       "      <td>230</td>\n",
       "      <td>[CIVILIZATION]</td>\n",
       "      <td>[PERSON]</td>\n",
       "    </tr>\n",
       "    <tr>\n",
       "      <th>3</th>\n",
       "      <td>금동삼존불감</td>\n",
       "      <td>불상을 모시기 위해 나무나 돌, 쇠 등을 깎아 일반적인 건축물보다 작은 규모로 만든 것을 불감(佛龕)이라고 한다. 불감은 그 안에 모신 불상의 양식뿐만 아니라, 당시의 건축 양식을 함께 살필 수 있는 중요한 자료가 된다. \\n\\n이 작품은 높이 18cm의 작은 불감으로, 청동으로 불감과 불상을 만들고 그 위에 금칠을 하였다. 불감 내부를 살펴보면 난간을 두른 사각형의 기단 위에 본존불과 양 옆에 보살상이 있으며, 그 위에 기둥과 지붕으로 된 뚜껑이 덮혀 있다. 법당 모양의 뚜껑에는 앞면과 양쪽에 커다란 창문이 있어서 안에 모셔진 불상을 잘 볼 수 있도록 하였다.\\n\\n본존불은 얼굴이 추상적이고, 양 어깨를 감싸고 있는 옷은 주름을 간략한 선으로 표현했다. 몸 뒤편에 있는 광배(光背)는 머리광배와 몸광배로 나누어져 있으며, 불꽃무늬로 가장자리를 장식하고 있다. 본존불 양 옆의 보살상도 구슬로 장식된 관(冠)을 쓰고 있다는 점을 제외하면 형식이나 표현 수법이 본존불과 유사하다.\\n\\n불감은 지금도 금색이 찬란하고 지붕에 녹청색이 남아 있는 등 전체적인 보존 상태가 양호하다. 본존불의 긴 허리, 불규칙하게 나타나는 옷주름, 그리고 보살이 쓰고 있는 구슬로 장식한 관(冠) 등 여러 양식으로 보아 만든 시기는 중국 북방 계통의 영향을 받은 11∼12세기 경으로 추정된다. 이 작품은 고려시대 또는 그 이전의 목조건축 양식과 조각수법을 보여주는 귀중한 예라는 점에서 가치가 크다고 할 수 있다.</td>\n",
       "      <td>11~12세기에 제작된 본존불은 보통 어떤 나라의 특징이 전파되었나요?</td>\n",
       "      <td>mrc-0-001510</td>\n",
       "      <td>{'answer_start': [625], 'text': ['중국']}</td>\n",
       "      <td>34146</td>\n",
       "      <td>992</td>\n",
       "      <td>[COUNTRY]</td>\n",
       "      <td>[]</td>\n",
       "    </tr>\n",
       "    <tr>\n",
       "      <th>4</th>\n",
       "      <td>계사명 사리구</td>\n",
       "      <td>동아대학교박물관에서 소장하고 있는 계사명 사리구는 총 4개의 용기로 구성된 조선후기의 유물로, 경상남도 울주군 웅촌면 대복리에서 출토되었다고 전한다. 외함(外函)은 청화명문이 있는 백자이며, 그 안쪽에 납작한 금속제 원형 합 2점과 금속제 원통형 합 등 3점의 그릇이 봉안되어 있다.\\n\\n바깥쪽의 외함인 백자 합 동체 중앙부 표면에 청화안료로 쓴 “癸巳二月日 施主承表 兩主”라는 명문이 세로로 세 줄에 걸쳐서 쓰여 있어 조선 후기인 계사년에 시주자인 승표 부부가 발원하여 만든 것임을 알 수 있다.\\n\\n동아대학교박물관의 계사명 사리구는 정확한 제작연대는 알 수 없지만 명문 등을 통해 적어도 17세기 이후에 제작된 것으로 추정되는 작품으로, 명문이 있는 조선 후기 경상도 지역 출토 사리장엄구라는 점에서 중요한 가치를 지닌 작품으로 판단된다.\\n\\n조선 후기 사리장엄구는 아직까지 조사와 연구가 거의 이루어지지 않았으나, 이처럼 세트를 갖추어 출토된 유물은 비교적 드문 편임을 고려할 때, 이 계사명 사리장엄구는 제작연대와 발원자의 이름이 밝혀져 있으며, 지금까지 출토된 예가 드문 비교적 완전한 세트를 가진 유물이라는 점에서 조선 후기 사리장엄구 연구에 자료적 가치를 지닌 유물이다.</td>\n",
       "      <td>명문이 적힌 유물을 구성하는 그릇의 총 개수는?</td>\n",
       "      <td>mrc-0-000823</td>\n",
       "      <td>{'answer_start': [30], 'text': ['4개']}</td>\n",
       "      <td>47334</td>\n",
       "      <td>548</td>\n",
       "      <td>[QUANTITY]</td>\n",
       "      <td>[LOCATION]</td>\n",
       "    </tr>\n",
       "  </tbody>\n",
       "</table>\n",
       "</div>"
      ],
      "text/plain": [
       "     title  \\\n",
       "0    미국 상원   \n",
       "1   인사조직관리   \n",
       "2      강희제   \n",
       "3   금동삼존불감   \n",
       "4  계사명 사리구   \n",
       "\n",
       "                                                                                                                                                                                                                                                                                                                                                                                                                                                                                                                                                                                                                                                                                                                                                                                                                                                                                          context  \\\n",
       "0  미국 상의원 또는 미국 상원(United States Senate)은 양원제인 미국 의회의 상원이다.\\n\\n미국 부통령이 상원의장이 된다. 각 주당 2명의 상원의원이 선출되어 100명의 상원의원으로 구성되어 있다. 임기는 6년이며, 2년마다 50개주 중 1/3씩 상원의원을 새로 선출하여 연방에 보낸다.\\n\\n미국 상원은 미국 하원과는 다르게 미국 대통령을 수반으로 하는 미국 연방 행정부에 각종 동의를 하는 기관이다. 하원이 세금과 경제에 대한 권한, 대통령을 포함한 대다수의 공무원을 파면할 권한을 갖고 있는 국민을 대표하는 기관인 반면 상원은 미국의 주를 대표한다. 즉 캘리포니아주, 일리노이주 같이 주 정부와 주 의회를 대표하는 기관이다. 그로 인하여 군대의 파병, 관료의 임명에 대한 동의, 외국 조약에 대한 승인 등 신속을 요하는 권한은 모두 상원에게만 있다. 그리고 하원에 대한 견제 역할(하원의 법안을 거부할 권한 등)을 담당한다. 2년의 임기로 인하여 급진적일 수밖에 없는 하원은 지나치게 급진적인 법안을 만들기 쉽다. 대표적인 예로 건강보험 개혁 당시 하원이 미국 연방 행정부에게 퍼블릭 옵션(공공건강보험기관)의 조항이 있는 반면 상원의 경우 하원안이 지나치게 세금이 많이 든다는 이유로 퍼블릭 옵션 조항을 제외하고 비영리건강보험기관이나 보험회사가 담당하도록 한 것이다. 이 경우처럼 상원은 하원이나 내각책임제가 빠지기 쉬운 국가들의 국회처럼 걸핏하면 발생하는 의회의 비정상적인 사태를 방지하는 기관이다. 상원은 급박한 처리사항의 경우가 아니면 법안을 먼저 내는 경우가 드물고 하원이 만든 법안을 수정하여 다시 하원에 되돌려보낸다. 이러한 방식으로 단원제가 빠지기 쉬운 함정을 미리 방지하는 것이다.날짜=2017-02-05   \n",
       "1                                                                                                                                                                                                                                                   '근대적 경영학' 또는 '고전적 경영학'에서 현대적 경영학으로 전환되는 시기는 1950년대이다. 2차 세계대전을 마치고, 6.25전쟁의 시기로 유럽은 전후 재건에 집중하고, 유럽 제국주의의 식민지가 독립하여 아프리카, 아시아, 아메리카 대륙에서 신생국가가 형성되는 시기였고, 미국은 전쟁 이후 경제적 변화에 기업이 적응을 해야 하던 시기였다. 특히 1954년 피터 드러커의 저서 《경영의 실제》는 현대적 경영의 기준을 제시하여서, 기존 근대적 인사조직관리를 넘어선 현대적 인사조직관리의 전환점이 된다. 드러커는 경영자의 역할을 강조하며 경영이 현시대 최고의 예술이자 과학이라고 주장하였고 , 이 주장은 21세기 인사조직관리의 역할을 자리매김했다.\\n\\n현대적 인사조직관리와 근대 인사조직관리의 가장 큰 차이는 통합이다. 19세기의 영향을 받던 근대적 경영학(고전적 경영)의 흐름은 기능을 강조하였지만, 1950년대 이후의 현대 경영학은 통합을 강조하였다. 기능이 분화된 '기계적인 기업조직' 이해에서 다양한 기능을 인사조직관리의 목적, 경영의 목적을 위해서 다양한 분야를 통합하여 '유기적 기업 조직' 이해로 전환되었다. 이 통합적 접근방식은 과정, 시스템, 상황을 중심으로 하는 인사조직관리 방식을 형성했다.   \n",
       "2              강희제는 강화된 황권으로 거의 황제 중심의 독단적으로 나라를 이끌어 갔기에 자칫 전제 독재의 가능성이 보일 수도 있었으나, 스스로 황권을 조절하고 정치의 일부는 재상들이나 대신들과 의논하였으며 당시 궁핍하게 살고 있는 한족들의 사정을 잘 알고 있던 한족 대신들의 의견을 수용하여 정책을 실행하고 선정을 베풀었다. 프랑스의 예수회 선교사 부베는 루이 14세에게 다음과 같이 보고하였다. \\n강희제는 세상에서 가장 부유한 군주입니다. 그럼에도 황제인 그의 생활용품들은 사치스러움과 화려함과는 거리가 멀다 못해 소박하기 그지없습니다. 역대 제왕들 가운데 전례없는 일입니다.\\n강희제 스스로도 자신이 직접 쓴 《근검록》에서 다음과 같이 쓰고 있다\\n모든 비용은 백성들의 피땀으로 얻어진 것이니 주인된 황제로서 절제하고 절제함은 당연한 것이 아닌가\\n\\n이런 강희제의 인자한 정치는 한족이 만주족의 청나라를 지지하게 만드는 데에 크게 일조하였다. 1717년(강희 56년) 강희제는 〈고별상유〉(告別上諭), 즉 마지막으로 백성들에게 바치는 글을 남겼는데 강희제는 “한 가지 일에 부지런하지 않으면 온 천하에 근심을 끼치고, 한 순간에 부지런하지 않으면 천추만대에 우환거리를 남긴다.”라고 역설하였다. 또한 “제왕이 천하를 다스림에 능력이 있는 자를 가까이 두고, 백성들의 세금을 낮추어 주어야 하며, 백성들의 마음을 하나로 묶고, 위태로움이 생기기 전에 나라를 보호하며, 혼란이 있기 전에 이를 먼저 파악하여 잘 다스리고, 관대하고 엄격함의 조화를 이루어 나라를 위한 계책을 도모해야 한다.”라고 후대의 황제에게도 이를 훈계하였다. 강희제는 황제로서 자식과 같은 백성들에게 이런 당부의 말을 남겨 황제로서의 도리를 다하려 하였다.   \n",
       "3                                                                                                                                         불상을 모시기 위해 나무나 돌, 쇠 등을 깎아 일반적인 건축물보다 작은 규모로 만든 것을 불감(佛龕)이라고 한다. 불감은 그 안에 모신 불상의 양식뿐만 아니라, 당시의 건축 양식을 함께 살필 수 있는 중요한 자료가 된다. \\n\\n이 작품은 높이 18cm의 작은 불감으로, 청동으로 불감과 불상을 만들고 그 위에 금칠을 하였다. 불감 내부를 살펴보면 난간을 두른 사각형의 기단 위에 본존불과 양 옆에 보살상이 있으며, 그 위에 기둥과 지붕으로 된 뚜껑이 덮혀 있다. 법당 모양의 뚜껑에는 앞면과 양쪽에 커다란 창문이 있어서 안에 모셔진 불상을 잘 볼 수 있도록 하였다.\\n\\n본존불은 얼굴이 추상적이고, 양 어깨를 감싸고 있는 옷은 주름을 간략한 선으로 표현했다. 몸 뒤편에 있는 광배(光背)는 머리광배와 몸광배로 나누어져 있으며, 불꽃무늬로 가장자리를 장식하고 있다. 본존불 양 옆의 보살상도 구슬로 장식된 관(冠)을 쓰고 있다는 점을 제외하면 형식이나 표현 수법이 본존불과 유사하다.\\n\\n불감은 지금도 금색이 찬란하고 지붕에 녹청색이 남아 있는 등 전체적인 보존 상태가 양호하다. 본존불의 긴 허리, 불규칙하게 나타나는 옷주름, 그리고 보살이 쓰고 있는 구슬로 장식한 관(冠) 등 여러 양식으로 보아 만든 시기는 중국 북방 계통의 영향을 받은 11∼12세기 경으로 추정된다. 이 작품은 고려시대 또는 그 이전의 목조건축 양식과 조각수법을 보여주는 귀중한 예라는 점에서 가치가 크다고 할 수 있다.   \n",
       "4                                                                                                                                                                                                                                                               동아대학교박물관에서 소장하고 있는 계사명 사리구는 총 4개의 용기로 구성된 조선후기의 유물로, 경상남도 울주군 웅촌면 대복리에서 출토되었다고 전한다. 외함(外函)은 청화명문이 있는 백자이며, 그 안쪽에 납작한 금속제 원형 합 2점과 금속제 원통형 합 등 3점의 그릇이 봉안되어 있다.\\n\\n바깥쪽의 외함인 백자 합 동체 중앙부 표면에 청화안료로 쓴 “癸巳二月日 施主承表 兩主”라는 명문이 세로로 세 줄에 걸쳐서 쓰여 있어 조선 후기인 계사년에 시주자인 승표 부부가 발원하여 만든 것임을 알 수 있다.\\n\\n동아대학교박물관의 계사명 사리구는 정확한 제작연대는 알 수 없지만 명문 등을 통해 적어도 17세기 이후에 제작된 것으로 추정되는 작품으로, 명문이 있는 조선 후기 경상도 지역 출토 사리장엄구라는 점에서 중요한 가치를 지닌 작품으로 판단된다.\\n\\n조선 후기 사리장엄구는 아직까지 조사와 연구가 거의 이루어지지 않았으나, 이처럼 세트를 갖추어 출토된 유물은 비교적 드문 편임을 고려할 때, 이 계사명 사리장엄구는 제작연대와 발원자의 이름이 밝혀져 있으며, 지금까지 출토된 예가 드문 비교적 완전한 세트를 가진 유물이라는 점에서 조선 후기 사리장엄구 연구에 자료적 가치를 지닌 유물이다.   \n",
       "\n",
       "                                  question            id  \\\n",
       "0         대통령을 포함한 미국의 행정부 견제권을 갖는 국가 기관은?  mrc-1-000067   \n",
       "1                   현대적 인사조직관리의 시발점이 된 책은?  mrc-0-004397   \n",
       "2           강희제가 1717년에 쓴 글은 누구를 위해 쓰여졌는가?  mrc-1-000362   \n",
       "3  11~12세기에 제작된 본존불은 보통 어떤 나라의 특징이 전파되었나요?  mrc-0-001510   \n",
       "4               명문이 적힌 유물을 구성하는 그릇의 총 개수는?  mrc-0-000823   \n",
       "\n",
       "                                         answers  document_id  \\\n",
       "0        {'answer_start': [235], 'text': ['하원']}        18293   \n",
       "1  {'answer_start': [212], 'text': ['《경영의 실제》']}        51638   \n",
       "2        {'answer_start': [510], 'text': ['백성']}         5028   \n",
       "3        {'answer_start': [625], 'text': ['중국']}        34146   \n",
       "4         {'answer_start': [30], 'text': ['4개']}        47334   \n",
       "\n",
       "   __index_level_0__           ner_A                    ner_T  \n",
       "0                 42  [ORGANIZATION]  [COUNTRY, ORGANIZATION]  \n",
       "1               2873      [ARTIFACT]                       []  \n",
       "2                230  [CIVILIZATION]                 [PERSON]  \n",
       "3                992       [COUNTRY]                       []  \n",
       "4                548      [QUANTITY]               [LOCATION]  "
      ]
     },
     "execution_count": 33,
     "metadata": {},
     "output_type": "execute_result"
    }
   ],
   "source": [
    "# 1분 30초 걸림\n",
    "df_train_ner = df.copy()\n",
    "# df_train_ner = df_train_ner.head()\n",
    "df_train_ner['ner_A'] = df_train_ner['answers'].apply(lambda x: [ne for w,ne in ner(x['text'][0]) if ne!='O'])\n",
    "df_train_ner['ner_T'] = df_train_ner['title'].apply(lambda x: [ne for w,ne in ner(x) if ne!='O'])\n",
    "df_train_ner.head()"
   ]
  },
  {
   "attachments": {},
   "cell_type": "markdown",
   "metadata": {},
   "source": [
    "# Pororo Q-gen"
   ]
  },
  {
   "cell_type": "code",
   "execution_count": 11,
   "metadata": {},
   "outputs": [],
   "source": [
    "qg = Pororo(task='qg',lang='ko')"
   ]
  },
  {
   "cell_type": "code",
   "execution_count": 13,
   "metadata": {},
   "outputs": [
    {
     "data": {
      "text/plain": [
       "{('14세', 'QUANTITY'),\n",
       " ('1717년', 'DATE'),\n",
       " ('n', 'QUANTITY'),\n",
       " ('강희 56년', 'DATE'),\n",
       " ('강희제', 'PERSON'),\n",
       " ('고별상유', 'ARTIFACT'),\n",
       " ('군주', 'OCCUPATION'),\n",
       " ('근검록', 'ARTIFACT'),\n",
       " ('대신', 'CIVILIZATION'),\n",
       " ('루이', 'PERSON'),\n",
       " ('만주족', 'CIVILIZATION'),\n",
       " ('백성', 'CIVILIZATION'),\n",
       " ('부베', 'PERSON'),\n",
       " ('선교사', 'OCCUPATION'),\n",
       " ('예수회', 'ORGANIZATION'),\n",
       " ('자식', 'CIVILIZATION'),\n",
       " ('재상', 'CIVILIZATION'),\n",
       " ('제왕', 'CIVILIZATION'),\n",
       " ('청나라', 'COUNTRY'),\n",
       " ('프랑스', 'COUNTRY'),\n",
       " ('하나', 'QUANTITY'),\n",
       " ('한 가지', 'QUANTITY'),\n",
       " ('한족', 'CIVILIZATION'),\n",
       " ('황제', 'OCCUPATION')}"
      ]
     },
     "execution_count": 13,
     "metadata": {},
     "output_type": "execute_result"
    }
   ],
   "source": [
    "ner_result = ner(df.iloc[2].context)\n",
    "ner_p = [(w,ne) for w,ne in ner_result if ne!='O']\n",
    "set(ner_p)"
   ]
  },
  {
   "attachments": {},
   "cell_type": "markdown",
   "metadata": {},
   "source": [
    "## Title로 질문 생성"
   ]
  },
  {
   "cell_type": "code",
   "execution_count": 14,
   "metadata": {},
   "outputs": [
    {
     "name": "stdout",
     "output_type": "stream",
     "text": [
      "강희제는 강화된 황권으로 거의 황제 중심의 독단적으로 나라를 이끌어 갔기에 자칫 전제 독재의 가능성이 보일 수도 있었으나, 스스로 황권을 조절하고 정치의 일부는 재상들이나 대신들과 의논하였으며 당시 궁핍하게 살고 있는 한족들의 사정을 잘 알고 있던 한족 대신들의 의견을 수용하여 정책을 실행하고 선정을 베풀었다. 프랑스의 예수회 선교사 부베는 루이 14세에게 다음과 같이 보고하였다. \\n강희제는 세상에서 가장 부유한 군주입니다. 그럼에도 황제인 그의 생활용품들은 사치스러움과 화려함과는 거리가 멀다 못해 소박하기 그지없습니다. 역대 제왕들 가운데 전례없는 일입니다.\\n강희제 스스로도 자신이 직접 쓴 《근검록》에서 다음과 같이 쓰고 있다\\n모든 비용은 백성들의 피땀으로 얻어진 것이니 주인된 황제로서 절제하고 절제함은 당연한 것이 아닌가\\n\\n이런 강희제의 인자한 정치는 한족이 만주족의 청나라를 지지하게 만드는 데에 크게 일조하였다. 1717년(강희 56년) 강희제는 〈고별상유〉(告別上諭), 즉 마지막으로 백성들에게 바치는 글을 남겼는데 강희제는 “한 가지 일에 부지런하지 않으면 온 천하에 근심을 끼치고, 한 순간에 부지런하지 않으면 천추만대에 우환거리를 남긴다.”라고 역설하였다. 또한 “제왕이 천하를 다스림에 능력이 있는 자를 가까이 두고, 백성들의 세금을 낮추어 주어야 하며, 백성들의 마음을 하나로 묶고, 위태로움이 생기기 전에 나라를 보호하며, 혼란이 있기 전에 이를 먼저 파악하여 잘 다스리고, 관대하고 엄격함의 조화를 이루어 나라를 위한 계책을 도모해야 한다.”라고 후대의 황제에게도 이를 훈계하였다. 강희제는 황제로서 자식과 같은 백성들에게 이런 당부의 말을 남겨 황제로서의 도리를 다하려 하였다.\n",
      "강희제\n"
     ]
    }
   ],
   "source": [
    "k = 2\n",
    "print(df.iloc[k].context)\n",
    "print(df.iloc[k].title)"
   ]
  },
  {
   "cell_type": "code",
   "execution_count": 15,
   "metadata": {},
   "outputs": [
    {
     "data": {
      "text/plain": [
       "'황권을 스스로 조절하고 정치의 일부를 재상들이나 대신들과 의논하여 정책을 실행하고 선정을 베풀었던 인물은?'"
      ]
     },
     "execution_count": 15,
     "metadata": {},
     "output_type": "execute_result"
    }
   ],
   "source": [
    "qg(\n",
    "    df.iloc[k].title,\n",
    "    df.iloc[k].context,\n",
    "    n_wrong=0\n",
    ")"
   ]
  },
  {
   "cell_type": "code",
   "execution_count": 16,
   "metadata": {},
   "outputs": [
    {
     "data": {
      "text/plain": [
       "'루이 14세에게 강희제에 대해 보고한 사람은?'"
      ]
     },
     "execution_count": 16,
     "metadata": {},
     "output_type": "execute_result"
    }
   ],
   "source": [
    "qg(\n",
    "    '부베',\n",
    "    df.iloc[k].context,\n",
    "    n_wrong=0\n",
    ")"
   ]
  },
  {
   "cell_type": "code",
   "execution_count": 37,
   "metadata": {},
   "outputs": [
    {
     "data": {
      "text/html": [
       "<div>\n",
       "<style scoped>\n",
       "    .dataframe tbody tr th:only-of-type {\n",
       "        vertical-align: middle;\n",
       "    }\n",
       "\n",
       "    .dataframe tbody tr th {\n",
       "        vertical-align: top;\n",
       "    }\n",
       "\n",
       "    .dataframe thead th {\n",
       "        text-align: right;\n",
       "    }\n",
       "</style>\n",
       "<table border=\"1\" class=\"dataframe\">\n",
       "  <thead>\n",
       "    <tr style=\"text-align: right;\">\n",
       "      <th></th>\n",
       "      <th>title</th>\n",
       "      <th>context</th>\n",
       "      <th>question</th>\n",
       "      <th>id</th>\n",
       "      <th>answers</th>\n",
       "      <th>document_id</th>\n",
       "      <th>__index_level_0__</th>\n",
       "      <th>ner_A</th>\n",
       "      <th>ner_T</th>\n",
       "      <th>Q_based title</th>\n",
       "    </tr>\n",
       "  </thead>\n",
       "  <tbody>\n",
       "    <tr>\n",
       "      <th>0</th>\n",
       "      <td>미국 상원</td>\n",
       "      <td>미국 상의원 또는 미국 상원(United States Senate)은 양원제인 미국 의회의 상원이다.\\n\\n미국 부통령이 상원의장이 된다. 각 주당 2명의 상원의원이 선출되어 100명의 상원의원으로 구성되어 있다. 임기는 6년이며, 2년마다 50개주 중 1/3씩 상원의원을 새로 선출하여 연방에 보낸다.\\n\\n미국 상원은 미국 하원과는 다르게 미국 대통령을 수반으로 하는 미국 연방 행정부에 각종 동의를 하는 기관이다. 하원이 세금과 경제에 대한 권한, 대통령을 포함한 대다수의 공무원을 파면할 권한을 갖고 있는 국민을 대표하는 기관인 반면 상원은 미국의 주를 대표한다. 즉 캘리포니아주, 일리노이주 같이 주 정부와 주 의회를 대표하는 기관이다. 그로 인하여 군대의 파병, 관료의 임명에 대한 동의, 외국 조약에 대한 승인 등 신속을 요하는 권한은 모두 상원에게만 있다. 그리고 하원에 대한 견제 역할(하원의 법안을 거부할 권한 등)을 담당한다. 2년의 임기로 인하여 급진적일 수밖에 없는 하원은 지나치게 급진적인 법안을 만들기 쉽다. 대표적인 예로 건강보험 개혁 당시 하원이 미국 연방 행정부에게 퍼블릭 옵션(공공건강보험기관)의 조항이 있는 반면 상원의 경우 하원안이 지나치게 세금이 많이 든다는 이유로 퍼블릭 옵션 조항을 제외하고 비영리건강보험기관이나 보험회사가 담당하도록 한 것이다. 이 경우처럼 상원은 하원이나 내각책임제가 빠지기 쉬운 국가들의 국회처럼 걸핏하면 발생하는 의회의 비정상적인 사태를 방지하는 기관이다. 상원은 급박한 처리사항의 경우가 아니면 법안을 먼저 내는 경우가 드물고 하원이 만든 법안을 수정하여 다시 하원에 되돌려보낸다. 이러한 방식으로 단원제가 빠지기 쉬운 함정을 미리 방지하는 것이다.날짜=2017-02-05</td>\n",
       "      <td>대통령을 포함한 미국의 행정부 견제권을 갖는 국가 기관은?</td>\n",
       "      <td>mrc-1-000067</td>\n",
       "      <td>{'answer_start': [235], 'text': ['하원']}</td>\n",
       "      <td>18293</td>\n",
       "      <td>42</td>\n",
       "      <td>[ORGANIZATION]</td>\n",
       "      <td>[COUNTRY, ORGANIZATION]</td>\n",
       "      <td>양원제인 미국 의회의 상원의 명칭은?</td>\n",
       "    </tr>\n",
       "    <tr>\n",
       "      <th>1</th>\n",
       "      <td>인사조직관리</td>\n",
       "      <td>'근대적 경영학' 또는 '고전적 경영학'에서 현대적 경영학으로 전환되는 시기는 1950년대이다. 2차 세계대전을 마치고, 6.25전쟁의 시기로 유럽은 전후 재건에 집중하고, 유럽 제국주의의 식민지가 독립하여 아프리카, 아시아, 아메리카 대륙에서 신생국가가 형성되는 시기였고, 미국은 전쟁 이후 경제적 변화에 기업이 적응을 해야 하던 시기였다. 특히 1954년 피터 드러커의 저서 《경영의 실제》는 현대적 경영의 기준을 제시하여서, 기존 근대적 인사조직관리를 넘어선 현대적 인사조직관리의 전환점이 된다. 드러커는 경영자의 역할을 강조하며 경영이 현시대 최고의 예술이자 과학이라고 주장하였고 , 이 주장은 21세기 인사조직관리의 역할을 자리매김했다.\\n\\n현대적 인사조직관리와 근대 인사조직관리의 가장 큰 차이는 통합이다. 19세기의 영향을 받던 근대적 경영학(고전적 경영)의 흐름은 기능을 강조하였지만, 1950년대 이후의 현대 경영학은 통합을 강조하였다. 기능이 분화된 '기계적인 기업조직' 이해에서 다양한 기능을 인사조직관리의 목적, 경영의 목적을 위해서 다양한 분야를 통합하여 '유기적 기업 조직' 이해로 전환되었다. 이 통합적 접근방식은 과정, 시스템, 상황을 중심으로 하는 인사조직관리 방식을 형성했다.</td>\n",
       "      <td>현대적 인사조직관리의 시발점이 된 책은?</td>\n",
       "      <td>mrc-0-004397</td>\n",
       "      <td>{'answer_start': [212], 'text': ['《경영의 실제》']}</td>\n",
       "      <td>51638</td>\n",
       "      <td>2873</td>\n",
       "      <td>[ARTIFACT]</td>\n",
       "      <td>[]</td>\n",
       "      <td>현대적 인사조직관리의 전환점이 된 것은?</td>\n",
       "    </tr>\n",
       "    <tr>\n",
       "      <th>2</th>\n",
       "      <td>강희제</td>\n",
       "      <td>강희제는 강화된 황권으로 거의 황제 중심의 독단적으로 나라를 이끌어 갔기에 자칫 전제 독재의 가능성이 보일 수도 있었으나, 스스로 황권을 조절하고 정치의 일부는 재상들이나 대신들과 의논하였으며 당시 궁핍하게 살고 있는 한족들의 사정을 잘 알고 있던 한족 대신들의 의견을 수용하여 정책을 실행하고 선정을 베풀었다. 프랑스의 예수회 선교사 부베는 루이 14세에게 다음과 같이 보고하였다. \\n강희제는 세상에서 가장 부유한 군주입니다. 그럼에도 황제인 그의 생활용품들은 사치스러움과 화려함과는 거리가 멀다 못해 소박하기 그지없습니다. 역대 제왕들 가운데 전례없는 일입니다.\\n강희제 스스로도 자신이 직접 쓴 《근검록》에서 다음과 같이 쓰고 있다\\n모든 비용은 백성들의 피땀으로 얻어진 것이니 주인된 황제로서 절제하고 절제함은 당연한 것이 아닌가\\n\\n이런 강희제의 인자한 정치는 한족이 만주족의 청나라를 지지하게 만드는 데에 크게 일조하였다. 1717년(강희 56년) 강희제는 〈고별상유〉(告別上諭), 즉 마지막으로 백성들에게 바치는 글을 남겼는데 강희제는 “한 가지 일에 부지런하지 않으면 온 천하에 근심을 끼치고, 한 순간에 부지런하지 않으면 천추만대에 우환거리를 남긴다.”라고 역설하였다. 또한 “제왕이 천하를 다스림에 능력이 있는 자를 가까이 두고, 백성들의 세금을 낮추어 주어야 하며, 백성들의 마음을 하나로 묶고, 위태로움이 생기기 전에 나라를 보호하며, 혼란이 있기 전에 이를 먼저 파악하여 잘 다스리고, 관대하고 엄격함의 조화를 이루어 나라를 위한 계책을 도모해야 한다.”라고 후대의 황제에게도 이를 훈계하였다. 강희제는 황제로서 자식과 같은 백성들에게 이런 당부의 말을 남겨 황제로서의 도리를 다하려 하였다.</td>\n",
       "      <td>강희제가 1717년에 쓴 글은 누구를 위해 쓰여졌는가?</td>\n",
       "      <td>mrc-1-000362</td>\n",
       "      <td>{'answer_start': [510], 'text': ['백성']}</td>\n",
       "      <td>5028</td>\n",
       "      <td>230</td>\n",
       "      <td>[CIVILIZATION]</td>\n",
       "      <td>[PERSON]</td>\n",
       "      <td>황권을 스스로 조절하고 정치의 일부를 재상들이나 대신들과 의논하여 정책을 실행하고 선정을 베풀었던 인물은?</td>\n",
       "    </tr>\n",
       "    <tr>\n",
       "      <th>3</th>\n",
       "      <td>금동삼존불감</td>\n",
       "      <td>불상을 모시기 위해 나무나 돌, 쇠 등을 깎아 일반적인 건축물보다 작은 규모로 만든 것을 불감(佛龕)이라고 한다. 불감은 그 안에 모신 불상의 양식뿐만 아니라, 당시의 건축 양식을 함께 살필 수 있는 중요한 자료가 된다. \\n\\n이 작품은 높이 18cm의 작은 불감으로, 청동으로 불감과 불상을 만들고 그 위에 금칠을 하였다. 불감 내부를 살펴보면 난간을 두른 사각형의 기단 위에 본존불과 양 옆에 보살상이 있으며, 그 위에 기둥과 지붕으로 된 뚜껑이 덮혀 있다. 법당 모양의 뚜껑에는 앞면과 양쪽에 커다란 창문이 있어서 안에 모셔진 불상을 잘 볼 수 있도록 하였다.\\n\\n본존불은 얼굴이 추상적이고, 양 어깨를 감싸고 있는 옷은 주름을 간략한 선으로 표현했다. 몸 뒤편에 있는 광배(光背)는 머리광배와 몸광배로 나누어져 있으며, 불꽃무늬로 가장자리를 장식하고 있다. 본존불 양 옆의 보살상도 구슬로 장식된 관(冠)을 쓰고 있다는 점을 제외하면 형식이나 표현 수법이 본존불과 유사하다.\\n\\n불감은 지금도 금색이 찬란하고 지붕에 녹청색이 남아 있는 등 전체적인 보존 상태가 양호하다. 본존불의 긴 허리, 불규칙하게 나타나는 옷주름, 그리고 보살이 쓰고 있는 구슬로 장식한 관(冠) 등 여러 양식으로 보아 만든 시기는 중국 북방 계통의 영향을 받은 11∼12세기 경으로 추정된다. 이 작품은 고려시대 또는 그 이전의 목조건축 양식과 조각수법을 보여주는 귀중한 예라는 점에서 가치가 크다고 할 수 있다.</td>\n",
       "      <td>11~12세기에 제작된 본존불은 보통 어떤 나라의 특징이 전파되었나요?</td>\n",
       "      <td>mrc-0-001510</td>\n",
       "      <td>{'answer_start': [625], 'text': ['중국']}</td>\n",
       "      <td>34146</td>\n",
       "      <td>992</td>\n",
       "      <td>[COUNTRY]</td>\n",
       "      <td>[]</td>\n",
       "      <td>불감이 뭐야?</td>\n",
       "    </tr>\n",
       "    <tr>\n",
       "      <th>4</th>\n",
       "      <td>계사명 사리구</td>\n",
       "      <td>동아대학교박물관에서 소장하고 있는 계사명 사리구는 총 4개의 용기로 구성된 조선후기의 유물로, 경상남도 울주군 웅촌면 대복리에서 출토되었다고 전한다. 외함(外函)은 청화명문이 있는 백자이며, 그 안쪽에 납작한 금속제 원형 합 2점과 금속제 원통형 합 등 3점의 그릇이 봉안되어 있다.\\n\\n바깥쪽의 외함인 백자 합 동체 중앙부 표면에 청화안료로 쓴 “癸巳二月日 施主承表 兩主”라는 명문이 세로로 세 줄에 걸쳐서 쓰여 있어 조선 후기인 계사년에 시주자인 승표 부부가 발원하여 만든 것임을 알 수 있다.\\n\\n동아대학교박물관의 계사명 사리구는 정확한 제작연대는 알 수 없지만 명문 등을 통해 적어도 17세기 이후에 제작된 것으로 추정되는 작품으로, 명문이 있는 조선 후기 경상도 지역 출토 사리장엄구라는 점에서 중요한 가치를 지닌 작품으로 판단된다.\\n\\n조선 후기 사리장엄구는 아직까지 조사와 연구가 거의 이루어지지 않았으나, 이처럼 세트를 갖추어 출토된 유물은 비교적 드문 편임을 고려할 때, 이 계사명 사리장엄구는 제작연대와 발원자의 이름이 밝혀져 있으며, 지금까지 출토된 예가 드문 비교적 완전한 세트를 가진 유물이라는 점에서 조선 후기 사리장엄구 연구에 자료적 가치를 지닌 유물이다.</td>\n",
       "      <td>명문이 적힌 유물을 구성하는 그릇의 총 개수는?</td>\n",
       "      <td>mrc-0-000823</td>\n",
       "      <td>{'answer_start': [30], 'text': ['4개']}</td>\n",
       "      <td>47334</td>\n",
       "      <td>548</td>\n",
       "      <td>[QUANTITY]</td>\n",
       "      <td>[LOCATION]</td>\n",
       "      <td>동아대학교박물관에서 소장하고 있는 총 4개의 용기로 구성된 조선후기의 유물은 뭐야?</td>\n",
       "    </tr>\n",
       "  </tbody>\n",
       "</table>\n",
       "</div>"
      ],
      "text/plain": [
       "     title  \\\n",
       "0    미국 상원   \n",
       "1   인사조직관리   \n",
       "2      강희제   \n",
       "3   금동삼존불감   \n",
       "4  계사명 사리구   \n",
       "\n",
       "                                                                                                                                                                                                                                                                                                                                                                                                                                                                                                                                                                                                                                                                                                                                                                                                                                                                                          context  \\\n",
       "0  미국 상의원 또는 미국 상원(United States Senate)은 양원제인 미국 의회의 상원이다.\\n\\n미국 부통령이 상원의장이 된다. 각 주당 2명의 상원의원이 선출되어 100명의 상원의원으로 구성되어 있다. 임기는 6년이며, 2년마다 50개주 중 1/3씩 상원의원을 새로 선출하여 연방에 보낸다.\\n\\n미국 상원은 미국 하원과는 다르게 미국 대통령을 수반으로 하는 미국 연방 행정부에 각종 동의를 하는 기관이다. 하원이 세금과 경제에 대한 권한, 대통령을 포함한 대다수의 공무원을 파면할 권한을 갖고 있는 국민을 대표하는 기관인 반면 상원은 미국의 주를 대표한다. 즉 캘리포니아주, 일리노이주 같이 주 정부와 주 의회를 대표하는 기관이다. 그로 인하여 군대의 파병, 관료의 임명에 대한 동의, 외국 조약에 대한 승인 등 신속을 요하는 권한은 모두 상원에게만 있다. 그리고 하원에 대한 견제 역할(하원의 법안을 거부할 권한 등)을 담당한다. 2년의 임기로 인하여 급진적일 수밖에 없는 하원은 지나치게 급진적인 법안을 만들기 쉽다. 대표적인 예로 건강보험 개혁 당시 하원이 미국 연방 행정부에게 퍼블릭 옵션(공공건강보험기관)의 조항이 있는 반면 상원의 경우 하원안이 지나치게 세금이 많이 든다는 이유로 퍼블릭 옵션 조항을 제외하고 비영리건강보험기관이나 보험회사가 담당하도록 한 것이다. 이 경우처럼 상원은 하원이나 내각책임제가 빠지기 쉬운 국가들의 국회처럼 걸핏하면 발생하는 의회의 비정상적인 사태를 방지하는 기관이다. 상원은 급박한 처리사항의 경우가 아니면 법안을 먼저 내는 경우가 드물고 하원이 만든 법안을 수정하여 다시 하원에 되돌려보낸다. 이러한 방식으로 단원제가 빠지기 쉬운 함정을 미리 방지하는 것이다.날짜=2017-02-05   \n",
       "1                                                                                                                                                                                                                                                   '근대적 경영학' 또는 '고전적 경영학'에서 현대적 경영학으로 전환되는 시기는 1950년대이다. 2차 세계대전을 마치고, 6.25전쟁의 시기로 유럽은 전후 재건에 집중하고, 유럽 제국주의의 식민지가 독립하여 아프리카, 아시아, 아메리카 대륙에서 신생국가가 형성되는 시기였고, 미국은 전쟁 이후 경제적 변화에 기업이 적응을 해야 하던 시기였다. 특히 1954년 피터 드러커의 저서 《경영의 실제》는 현대적 경영의 기준을 제시하여서, 기존 근대적 인사조직관리를 넘어선 현대적 인사조직관리의 전환점이 된다. 드러커는 경영자의 역할을 강조하며 경영이 현시대 최고의 예술이자 과학이라고 주장하였고 , 이 주장은 21세기 인사조직관리의 역할을 자리매김했다.\\n\\n현대적 인사조직관리와 근대 인사조직관리의 가장 큰 차이는 통합이다. 19세기의 영향을 받던 근대적 경영학(고전적 경영)의 흐름은 기능을 강조하였지만, 1950년대 이후의 현대 경영학은 통합을 강조하였다. 기능이 분화된 '기계적인 기업조직' 이해에서 다양한 기능을 인사조직관리의 목적, 경영의 목적을 위해서 다양한 분야를 통합하여 '유기적 기업 조직' 이해로 전환되었다. 이 통합적 접근방식은 과정, 시스템, 상황을 중심으로 하는 인사조직관리 방식을 형성했다.   \n",
       "2              강희제는 강화된 황권으로 거의 황제 중심의 독단적으로 나라를 이끌어 갔기에 자칫 전제 독재의 가능성이 보일 수도 있었으나, 스스로 황권을 조절하고 정치의 일부는 재상들이나 대신들과 의논하였으며 당시 궁핍하게 살고 있는 한족들의 사정을 잘 알고 있던 한족 대신들의 의견을 수용하여 정책을 실행하고 선정을 베풀었다. 프랑스의 예수회 선교사 부베는 루이 14세에게 다음과 같이 보고하였다. \\n강희제는 세상에서 가장 부유한 군주입니다. 그럼에도 황제인 그의 생활용품들은 사치스러움과 화려함과는 거리가 멀다 못해 소박하기 그지없습니다. 역대 제왕들 가운데 전례없는 일입니다.\\n강희제 스스로도 자신이 직접 쓴 《근검록》에서 다음과 같이 쓰고 있다\\n모든 비용은 백성들의 피땀으로 얻어진 것이니 주인된 황제로서 절제하고 절제함은 당연한 것이 아닌가\\n\\n이런 강희제의 인자한 정치는 한족이 만주족의 청나라를 지지하게 만드는 데에 크게 일조하였다. 1717년(강희 56년) 강희제는 〈고별상유〉(告別上諭), 즉 마지막으로 백성들에게 바치는 글을 남겼는데 강희제는 “한 가지 일에 부지런하지 않으면 온 천하에 근심을 끼치고, 한 순간에 부지런하지 않으면 천추만대에 우환거리를 남긴다.”라고 역설하였다. 또한 “제왕이 천하를 다스림에 능력이 있는 자를 가까이 두고, 백성들의 세금을 낮추어 주어야 하며, 백성들의 마음을 하나로 묶고, 위태로움이 생기기 전에 나라를 보호하며, 혼란이 있기 전에 이를 먼저 파악하여 잘 다스리고, 관대하고 엄격함의 조화를 이루어 나라를 위한 계책을 도모해야 한다.”라고 후대의 황제에게도 이를 훈계하였다. 강희제는 황제로서 자식과 같은 백성들에게 이런 당부의 말을 남겨 황제로서의 도리를 다하려 하였다.   \n",
       "3                                                                                                                                         불상을 모시기 위해 나무나 돌, 쇠 등을 깎아 일반적인 건축물보다 작은 규모로 만든 것을 불감(佛龕)이라고 한다. 불감은 그 안에 모신 불상의 양식뿐만 아니라, 당시의 건축 양식을 함께 살필 수 있는 중요한 자료가 된다. \\n\\n이 작품은 높이 18cm의 작은 불감으로, 청동으로 불감과 불상을 만들고 그 위에 금칠을 하였다. 불감 내부를 살펴보면 난간을 두른 사각형의 기단 위에 본존불과 양 옆에 보살상이 있으며, 그 위에 기둥과 지붕으로 된 뚜껑이 덮혀 있다. 법당 모양의 뚜껑에는 앞면과 양쪽에 커다란 창문이 있어서 안에 모셔진 불상을 잘 볼 수 있도록 하였다.\\n\\n본존불은 얼굴이 추상적이고, 양 어깨를 감싸고 있는 옷은 주름을 간략한 선으로 표현했다. 몸 뒤편에 있는 광배(光背)는 머리광배와 몸광배로 나누어져 있으며, 불꽃무늬로 가장자리를 장식하고 있다. 본존불 양 옆의 보살상도 구슬로 장식된 관(冠)을 쓰고 있다는 점을 제외하면 형식이나 표현 수법이 본존불과 유사하다.\\n\\n불감은 지금도 금색이 찬란하고 지붕에 녹청색이 남아 있는 등 전체적인 보존 상태가 양호하다. 본존불의 긴 허리, 불규칙하게 나타나는 옷주름, 그리고 보살이 쓰고 있는 구슬로 장식한 관(冠) 등 여러 양식으로 보아 만든 시기는 중국 북방 계통의 영향을 받은 11∼12세기 경으로 추정된다. 이 작품은 고려시대 또는 그 이전의 목조건축 양식과 조각수법을 보여주는 귀중한 예라는 점에서 가치가 크다고 할 수 있다.   \n",
       "4                                                                                                                                                                                                                                                               동아대학교박물관에서 소장하고 있는 계사명 사리구는 총 4개의 용기로 구성된 조선후기의 유물로, 경상남도 울주군 웅촌면 대복리에서 출토되었다고 전한다. 외함(外函)은 청화명문이 있는 백자이며, 그 안쪽에 납작한 금속제 원형 합 2점과 금속제 원통형 합 등 3점의 그릇이 봉안되어 있다.\\n\\n바깥쪽의 외함인 백자 합 동체 중앙부 표면에 청화안료로 쓴 “癸巳二月日 施主承表 兩主”라는 명문이 세로로 세 줄에 걸쳐서 쓰여 있어 조선 후기인 계사년에 시주자인 승표 부부가 발원하여 만든 것임을 알 수 있다.\\n\\n동아대학교박물관의 계사명 사리구는 정확한 제작연대는 알 수 없지만 명문 등을 통해 적어도 17세기 이후에 제작된 것으로 추정되는 작품으로, 명문이 있는 조선 후기 경상도 지역 출토 사리장엄구라는 점에서 중요한 가치를 지닌 작품으로 판단된다.\\n\\n조선 후기 사리장엄구는 아직까지 조사와 연구가 거의 이루어지지 않았으나, 이처럼 세트를 갖추어 출토된 유물은 비교적 드문 편임을 고려할 때, 이 계사명 사리장엄구는 제작연대와 발원자의 이름이 밝혀져 있으며, 지금까지 출토된 예가 드문 비교적 완전한 세트를 가진 유물이라는 점에서 조선 후기 사리장엄구 연구에 자료적 가치를 지닌 유물이다.   \n",
       "\n",
       "                                  question            id  \\\n",
       "0         대통령을 포함한 미국의 행정부 견제권을 갖는 국가 기관은?  mrc-1-000067   \n",
       "1                   현대적 인사조직관리의 시발점이 된 책은?  mrc-0-004397   \n",
       "2           강희제가 1717년에 쓴 글은 누구를 위해 쓰여졌는가?  mrc-1-000362   \n",
       "3  11~12세기에 제작된 본존불은 보통 어떤 나라의 특징이 전파되었나요?  mrc-0-001510   \n",
       "4               명문이 적힌 유물을 구성하는 그릇의 총 개수는?  mrc-0-000823   \n",
       "\n",
       "                                         answers  document_id  \\\n",
       "0        {'answer_start': [235], 'text': ['하원']}        18293   \n",
       "1  {'answer_start': [212], 'text': ['《경영의 실제》']}        51638   \n",
       "2        {'answer_start': [510], 'text': ['백성']}         5028   \n",
       "3        {'answer_start': [625], 'text': ['중국']}        34146   \n",
       "4         {'answer_start': [30], 'text': ['4개']}        47334   \n",
       "\n",
       "   __index_level_0__           ner_A                    ner_T  \\\n",
       "0                 42  [ORGANIZATION]  [COUNTRY, ORGANIZATION]   \n",
       "1               2873      [ARTIFACT]                       []   \n",
       "2                230  [CIVILIZATION]                 [PERSON]   \n",
       "3                992       [COUNTRY]                       []   \n",
       "4                548      [QUANTITY]               [LOCATION]   \n",
       "\n",
       "                                                 Q_based title  \n",
       "0                                         양원제인 미국 의회의 상원의 명칭은?  \n",
       "1                                       현대적 인사조직관리의 전환점이 된 것은?  \n",
       "2  황권을 스스로 조절하고 정치의 일부를 재상들이나 대신들과 의논하여 정책을 실행하고 선정을 베풀었던 인물은?  \n",
       "3                                                      불감이 뭐야?  \n",
       "4               동아대학교박물관에서 소장하고 있는 총 4개의 용기로 구성된 조선후기의 유물은 뭐야?  "
      ]
     },
     "execution_count": 37,
     "metadata": {},
     "output_type": "execute_result"
    }
   ],
   "source": [
    "# 18.14분 걸림\n",
    "df_train_ner['Q_based title'] = df_train_ner[['title','context']].apply(lambda x: qg(x[0],x[1],n_wrong=0), axis=1)\n",
    "df_train_ner.head()"
   ]
  },
  {
   "cell_type": "code",
   "execution_count": 42,
   "metadata": {},
   "outputs": [],
   "source": [
    "df_train_ner.to_csv('/opt/ml/input/data/train_dataset/train_QG.csv', sep=',', na_rep='NaN') # do not write index"
   ]
  },
  {
   "cell_type": "code",
   "execution_count": 38,
   "metadata": {},
   "outputs": [],
   "source": [
    "# df_tmp = df_train_ner.head()\n",
    "# df_tmp.to_csv('/opt/ml/input/data/train_dataset/train_QG.csv', sep=',', na_rep='NaN',index=False) # do not write index\n",
    "# df_tmp = pd.read_csv('/opt/ml/input/data/train_dataset/train_QG.csv')\n",
    "# display(df_tmp)"
   ]
  },
  {
   "cell_type": "code",
   "execution_count": 41,
   "metadata": {},
   "outputs": [
    {
     "data": {
      "text/html": [
       "<div>\n",
       "<style scoped>\n",
       "    .dataframe tbody tr th:only-of-type {\n",
       "        vertical-align: middle;\n",
       "    }\n",
       "\n",
       "    .dataframe tbody tr th {\n",
       "        vertical-align: top;\n",
       "    }\n",
       "\n",
       "    .dataframe thead th {\n",
       "        text-align: right;\n",
       "    }\n",
       "</style>\n",
       "<table border=\"1\" class=\"dataframe\">\n",
       "  <thead>\n",
       "    <tr style=\"text-align: right;\">\n",
       "      <th></th>\n",
       "      <th>title</th>\n",
       "      <th>context</th>\n",
       "      <th>question</th>\n",
       "      <th>id</th>\n",
       "      <th>answers</th>\n",
       "      <th>document_id</th>\n",
       "      <th>__index_level_0__</th>\n",
       "      <th>ner_A</th>\n",
       "      <th>ner_T</th>\n",
       "      <th>Q_based title</th>\n",
       "    </tr>\n",
       "  </thead>\n",
       "  <tbody>\n",
       "    <tr>\n",
       "      <th>0</th>\n",
       "      <td>미국 상원</td>\n",
       "      <td>미국 상의원 또는 미국 상원(United States Senate)은 양원제인 미국 의회의 상원이다.\\n\\n미국 부통령이 상원의장이 된다. 각 주당 2명의 상원의원이 선출되어 100명의 상원의원으로 구성되어 있다. 임기는 6년이며, 2년마다 50개주 중 1/3씩 상원의원을 새로 선출하여 연방에 보낸다.\\n\\n미국 상원은 미국 하원과는 다르게 미국 대통령을 수반으로 하는 미국 연방 행정부에 각종 동의를 하는 기관이다. 하원이 세금과 경제에 대한 권한, 대통령을 포함한 대다수의 공무원을 파면할 권한을 갖고 있는 국민을 대표하는 기관인 반면 상원은 미국의 주를 대표한다. 즉 캘리포니아주, 일리노이주 같이 주 정부와 주 의회를 대표하는 기관이다. 그로 인하여 군대의 파병, 관료의 임명에 대한 동의, 외국 조약에 대한 승인 등 신속을 요하는 권한은 모두 상원에게만 있다. 그리고 하원에 대한 견제 역할(하원의 법안을 거부할 권한 등)을 담당한다. 2년의 임기로 인하여 급진적일 수밖에 없는 하원은 지나치게 급진적인 법안을 만들기 쉽다. 대표적인 예로 건강보험 개혁 당시 하원이 미국 연방 행정부에게 퍼블릭 옵션(공공건강보험기관)의 조항이 있는 반면 상원의 경우 하원안이 지나치게 세금이 많이 든다는 이유로 퍼블릭 옵션 조항을 제외하고 비영리건강보험기관이나 보험회사가 담당하도록 한 것이다. 이 경우처럼 상원은 하원이나 내각책임제가 빠지기 쉬운 국가들의 국회처럼 걸핏하면 발생하는 의회의 비정상적인 사태를 방지하는 기관이다. 상원은 급박한 처리사항의 경우가 아니면 법안을 먼저 내는 경우가 드물고 하원이 만든 법안을 수정하여 다시 하원에 되돌려보낸다. 이러한 방식으로 단원제가 빠지기 쉬운 함정을 미리 방지하는 것이다.날짜=2017-02-05</td>\n",
       "      <td>대통령을 포함한 미국의 행정부 견제권을 갖는 국가 기관은?</td>\n",
       "      <td>mrc-1-000067</td>\n",
       "      <td>{'answer_start': [235], 'text': ['하원']}</td>\n",
       "      <td>18293</td>\n",
       "      <td>42</td>\n",
       "      <td>['ORGANIZATION']</td>\n",
       "      <td>['COUNTRY', 'ORGANIZATION']</td>\n",
       "      <td>양원제인 미국 의회의 상원의 명칭은?</td>\n",
       "    </tr>\n",
       "    <tr>\n",
       "      <th>1</th>\n",
       "      <td>인사조직관리</td>\n",
       "      <td>'근대적 경영학' 또는 '고전적 경영학'에서 현대적 경영학으로 전환되는 시기는 1950년대이다. 2차 세계대전을 마치고, 6.25전쟁의 시기로 유럽은 전후 재건에 집중하고, 유럽 제국주의의 식민지가 독립하여 아프리카, 아시아, 아메리카 대륙에서 신생국가가 형성되는 시기였고, 미국은 전쟁 이후 경제적 변화에 기업이 적응을 해야 하던 시기였다. 특히 1954년 피터 드러커의 저서 《경영의 실제》는 현대적 경영의 기준을 제시하여서, 기존 근대적 인사조직관리를 넘어선 현대적 인사조직관리의 전환점이 된다. 드러커는 경영자의 역할을 강조하며 경영이 현시대 최고의 예술이자 과학이라고 주장하였고 , 이 주장은 21세기 인사조직관리의 역할을 자리매김했다.\\n\\n현대적 인사조직관리와 근대 인사조직관리의 가장 큰 차이는 통합이다. 19세기의 영향을 받던 근대적 경영학(고전적 경영)의 흐름은 기능을 강조하였지만, 1950년대 이후의 현대 경영학은 통합을 강조하였다. 기능이 분화된 '기계적인 기업조직' 이해에서 다양한 기능을 인사조직관리의 목적, 경영의 목적을 위해서 다양한 분야를 통합하여 '유기적 기업 조직' 이해로 전환되었다. 이 통합적 접근방식은 과정, 시스템, 상황을 중심으로 하는 인사조직관리 방식을 형성했다.</td>\n",
       "      <td>현대적 인사조직관리의 시발점이 된 책은?</td>\n",
       "      <td>mrc-0-004397</td>\n",
       "      <td>{'answer_start': [212], 'text': ['《경영의 실제》']}</td>\n",
       "      <td>51638</td>\n",
       "      <td>2873</td>\n",
       "      <td>['ARTIFACT']</td>\n",
       "      <td>[]</td>\n",
       "      <td>현대적 인사조직관리의 전환점이 된 것은?</td>\n",
       "    </tr>\n",
       "    <tr>\n",
       "      <th>2</th>\n",
       "      <td>강희제</td>\n",
       "      <td>강희제는 강화된 황권으로 거의 황제 중심의 독단적으로 나라를 이끌어 갔기에 자칫 전제 독재의 가능성이 보일 수도 있었으나, 스스로 황권을 조절하고 정치의 일부는 재상들이나 대신들과 의논하였으며 당시 궁핍하게 살고 있는 한족들의 사정을 잘 알고 있던 한족 대신들의 의견을 수용하여 정책을 실행하고 선정을 베풀었다. 프랑스의 예수회 선교사 부베는 루이 14세에게 다음과 같이 보고하였다. \\n강희제는 세상에서 가장 부유한 군주입니다. 그럼에도 황제인 그의 생활용품들은 사치스러움과 화려함과는 거리가 멀다 못해 소박하기 그지없습니다. 역대 제왕들 가운데 전례없는 일입니다.\\n강희제 스스로도 자신이 직접 쓴 《근검록》에서 다음과 같이 쓰고 있다\\n모든 비용은 백성들의 피땀으로 얻어진 것이니 주인된 황제로서 절제하고 절제함은 당연한 것이 아닌가\\n\\n이런 강희제의 인자한 정치는 한족이 만주족의 청나라를 지지하게 만드는 데에 크게 일조하였다. 1717년(강희 56년) 강희제는 〈고별상유〉(告別上諭), 즉 마지막으로 백성들에게 바치는 글을 남겼는데 강희제는 “한 가지 일에 부지런하지 않으면 온 천하에 근심을 끼치고, 한 순간에 부지런하지 않으면 천추만대에 우환거리를 남긴다.”라고 역설하였다. 또한 “제왕이 천하를 다스림에 능력이 있는 자를 가까이 두고, 백성들의 세금을 낮추어 주어야 하며, 백성들의 마음을 하나로 묶고, 위태로움이 생기기 전에 나라를 보호하며, 혼란이 있기 전에 이를 먼저 파악하여 잘 다스리고, 관대하고 엄격함의 조화를 이루어 나라를 위한 계책을 도모해야 한다.”라고 후대의 황제에게도 이를 훈계하였다. 강희제는 황제로서 자식과 같은 백성들에게 이런 당부의 말을 남겨 황제로서의 도리를 다하려 하였다.</td>\n",
       "      <td>강희제가 1717년에 쓴 글은 누구를 위해 쓰여졌는가?</td>\n",
       "      <td>mrc-1-000362</td>\n",
       "      <td>{'answer_start': [510], 'text': ['백성']}</td>\n",
       "      <td>5028</td>\n",
       "      <td>230</td>\n",
       "      <td>['CIVILIZATION']</td>\n",
       "      <td>['PERSON']</td>\n",
       "      <td>황권을 스스로 조절하고 정치의 일부를 재상들이나 대신들과 의논하여 정책을 실행하고 선정을 베풀었던 인물은?</td>\n",
       "    </tr>\n",
       "    <tr>\n",
       "      <th>3</th>\n",
       "      <td>금동삼존불감</td>\n",
       "      <td>불상을 모시기 위해 나무나 돌, 쇠 등을 깎아 일반적인 건축물보다 작은 규모로 만든 것을 불감(佛龕)이라고 한다. 불감은 그 안에 모신 불상의 양식뿐만 아니라, 당시의 건축 양식을 함께 살필 수 있는 중요한 자료가 된다. \\n\\n이 작품은 높이 18cm의 작은 불감으로, 청동으로 불감과 불상을 만들고 그 위에 금칠을 하였다. 불감 내부를 살펴보면 난간을 두른 사각형의 기단 위에 본존불과 양 옆에 보살상이 있으며, 그 위에 기둥과 지붕으로 된 뚜껑이 덮혀 있다. 법당 모양의 뚜껑에는 앞면과 양쪽에 커다란 창문이 있어서 안에 모셔진 불상을 잘 볼 수 있도록 하였다.\\n\\n본존불은 얼굴이 추상적이고, 양 어깨를 감싸고 있는 옷은 주름을 간략한 선으로 표현했다. 몸 뒤편에 있는 광배(光背)는 머리광배와 몸광배로 나누어져 있으며, 불꽃무늬로 가장자리를 장식하고 있다. 본존불 양 옆의 보살상도 구슬로 장식된 관(冠)을 쓰고 있다는 점을 제외하면 형식이나 표현 수법이 본존불과 유사하다.\\n\\n불감은 지금도 금색이 찬란하고 지붕에 녹청색이 남아 있는 등 전체적인 보존 상태가 양호하다. 본존불의 긴 허리, 불규칙하게 나타나는 옷주름, 그리고 보살이 쓰고 있는 구슬로 장식한 관(冠) 등 여러 양식으로 보아 만든 시기는 중국 북방 계통의 영향을 받은 11∼12세기 경으로 추정된다. 이 작품은 고려시대 또는 그 이전의 목조건축 양식과 조각수법을 보여주는 귀중한 예라는 점에서 가치가 크다고 할 수 있다.</td>\n",
       "      <td>11~12세기에 제작된 본존불은 보통 어떤 나라의 특징이 전파되었나요?</td>\n",
       "      <td>mrc-0-001510</td>\n",
       "      <td>{'answer_start': [625], 'text': ['중국']}</td>\n",
       "      <td>34146</td>\n",
       "      <td>992</td>\n",
       "      <td>['COUNTRY']</td>\n",
       "      <td>[]</td>\n",
       "      <td>불감이 뭐야?</td>\n",
       "    </tr>\n",
       "    <tr>\n",
       "      <th>4</th>\n",
       "      <td>계사명 사리구</td>\n",
       "      <td>동아대학교박물관에서 소장하고 있는 계사명 사리구는 총 4개의 용기로 구성된 조선후기의 유물로, 경상남도 울주군 웅촌면 대복리에서 출토되었다고 전한다. 외함(外函)은 청화명문이 있는 백자이며, 그 안쪽에 납작한 금속제 원형 합 2점과 금속제 원통형 합 등 3점의 그릇이 봉안되어 있다.\\n\\n바깥쪽의 외함인 백자 합 동체 중앙부 표면에 청화안료로 쓴 “癸巳二月日 施主承表 兩主”라는 명문이 세로로 세 줄에 걸쳐서 쓰여 있어 조선 후기인 계사년에 시주자인 승표 부부가 발원하여 만든 것임을 알 수 있다.\\n\\n동아대학교박물관의 계사명 사리구는 정확한 제작연대는 알 수 없지만 명문 등을 통해 적어도 17세기 이후에 제작된 것으로 추정되는 작품으로, 명문이 있는 조선 후기 경상도 지역 출토 사리장엄구라는 점에서 중요한 가치를 지닌 작품으로 판단된다.\\n\\n조선 후기 사리장엄구는 아직까지 조사와 연구가 거의 이루어지지 않았으나, 이처럼 세트를 갖추어 출토된 유물은 비교적 드문 편임을 고려할 때, 이 계사명 사리장엄구는 제작연대와 발원자의 이름이 밝혀져 있으며, 지금까지 출토된 예가 드문 비교적 완전한 세트를 가진 유물이라는 점에서 조선 후기 사리장엄구 연구에 자료적 가치를 지닌 유물이다.</td>\n",
       "      <td>명문이 적힌 유물을 구성하는 그릇의 총 개수는?</td>\n",
       "      <td>mrc-0-000823</td>\n",
       "      <td>{'answer_start': [30], 'text': ['4개']}</td>\n",
       "      <td>47334</td>\n",
       "      <td>548</td>\n",
       "      <td>['QUANTITY']</td>\n",
       "      <td>['LOCATION']</td>\n",
       "      <td>동아대학교박물관에서 소장하고 있는 총 4개의 용기로 구성된 조선후기의 유물은 뭐야?</td>\n",
       "    </tr>\n",
       "  </tbody>\n",
       "</table>\n",
       "</div>"
      ],
      "text/plain": [
       "     title  \\\n",
       "0    미국 상원   \n",
       "1   인사조직관리   \n",
       "2      강희제   \n",
       "3   금동삼존불감   \n",
       "4  계사명 사리구   \n",
       "\n",
       "                                                                                                                                                                                                                                                                                                                                                                                                                                                                                                                                                                                                                                                                                                                                                                                                                                                                                          context  \\\n",
       "0  미국 상의원 또는 미국 상원(United States Senate)은 양원제인 미국 의회의 상원이다.\\n\\n미국 부통령이 상원의장이 된다. 각 주당 2명의 상원의원이 선출되어 100명의 상원의원으로 구성되어 있다. 임기는 6년이며, 2년마다 50개주 중 1/3씩 상원의원을 새로 선출하여 연방에 보낸다.\\n\\n미국 상원은 미국 하원과는 다르게 미국 대통령을 수반으로 하는 미국 연방 행정부에 각종 동의를 하는 기관이다. 하원이 세금과 경제에 대한 권한, 대통령을 포함한 대다수의 공무원을 파면할 권한을 갖고 있는 국민을 대표하는 기관인 반면 상원은 미국의 주를 대표한다. 즉 캘리포니아주, 일리노이주 같이 주 정부와 주 의회를 대표하는 기관이다. 그로 인하여 군대의 파병, 관료의 임명에 대한 동의, 외국 조약에 대한 승인 등 신속을 요하는 권한은 모두 상원에게만 있다. 그리고 하원에 대한 견제 역할(하원의 법안을 거부할 권한 등)을 담당한다. 2년의 임기로 인하여 급진적일 수밖에 없는 하원은 지나치게 급진적인 법안을 만들기 쉽다. 대표적인 예로 건강보험 개혁 당시 하원이 미국 연방 행정부에게 퍼블릭 옵션(공공건강보험기관)의 조항이 있는 반면 상원의 경우 하원안이 지나치게 세금이 많이 든다는 이유로 퍼블릭 옵션 조항을 제외하고 비영리건강보험기관이나 보험회사가 담당하도록 한 것이다. 이 경우처럼 상원은 하원이나 내각책임제가 빠지기 쉬운 국가들의 국회처럼 걸핏하면 발생하는 의회의 비정상적인 사태를 방지하는 기관이다. 상원은 급박한 처리사항의 경우가 아니면 법안을 먼저 내는 경우가 드물고 하원이 만든 법안을 수정하여 다시 하원에 되돌려보낸다. 이러한 방식으로 단원제가 빠지기 쉬운 함정을 미리 방지하는 것이다.날짜=2017-02-05   \n",
       "1                                                                                                                                                                                                                                                   '근대적 경영학' 또는 '고전적 경영학'에서 현대적 경영학으로 전환되는 시기는 1950년대이다. 2차 세계대전을 마치고, 6.25전쟁의 시기로 유럽은 전후 재건에 집중하고, 유럽 제국주의의 식민지가 독립하여 아프리카, 아시아, 아메리카 대륙에서 신생국가가 형성되는 시기였고, 미국은 전쟁 이후 경제적 변화에 기업이 적응을 해야 하던 시기였다. 특히 1954년 피터 드러커의 저서 《경영의 실제》는 현대적 경영의 기준을 제시하여서, 기존 근대적 인사조직관리를 넘어선 현대적 인사조직관리의 전환점이 된다. 드러커는 경영자의 역할을 강조하며 경영이 현시대 최고의 예술이자 과학이라고 주장하였고 , 이 주장은 21세기 인사조직관리의 역할을 자리매김했다.\\n\\n현대적 인사조직관리와 근대 인사조직관리의 가장 큰 차이는 통합이다. 19세기의 영향을 받던 근대적 경영학(고전적 경영)의 흐름은 기능을 강조하였지만, 1950년대 이후의 현대 경영학은 통합을 강조하였다. 기능이 분화된 '기계적인 기업조직' 이해에서 다양한 기능을 인사조직관리의 목적, 경영의 목적을 위해서 다양한 분야를 통합하여 '유기적 기업 조직' 이해로 전환되었다. 이 통합적 접근방식은 과정, 시스템, 상황을 중심으로 하는 인사조직관리 방식을 형성했다.   \n",
       "2              강희제는 강화된 황권으로 거의 황제 중심의 독단적으로 나라를 이끌어 갔기에 자칫 전제 독재의 가능성이 보일 수도 있었으나, 스스로 황권을 조절하고 정치의 일부는 재상들이나 대신들과 의논하였으며 당시 궁핍하게 살고 있는 한족들의 사정을 잘 알고 있던 한족 대신들의 의견을 수용하여 정책을 실행하고 선정을 베풀었다. 프랑스의 예수회 선교사 부베는 루이 14세에게 다음과 같이 보고하였다. \\n강희제는 세상에서 가장 부유한 군주입니다. 그럼에도 황제인 그의 생활용품들은 사치스러움과 화려함과는 거리가 멀다 못해 소박하기 그지없습니다. 역대 제왕들 가운데 전례없는 일입니다.\\n강희제 스스로도 자신이 직접 쓴 《근검록》에서 다음과 같이 쓰고 있다\\n모든 비용은 백성들의 피땀으로 얻어진 것이니 주인된 황제로서 절제하고 절제함은 당연한 것이 아닌가\\n\\n이런 강희제의 인자한 정치는 한족이 만주족의 청나라를 지지하게 만드는 데에 크게 일조하였다. 1717년(강희 56년) 강희제는 〈고별상유〉(告別上諭), 즉 마지막으로 백성들에게 바치는 글을 남겼는데 강희제는 “한 가지 일에 부지런하지 않으면 온 천하에 근심을 끼치고, 한 순간에 부지런하지 않으면 천추만대에 우환거리를 남긴다.”라고 역설하였다. 또한 “제왕이 천하를 다스림에 능력이 있는 자를 가까이 두고, 백성들의 세금을 낮추어 주어야 하며, 백성들의 마음을 하나로 묶고, 위태로움이 생기기 전에 나라를 보호하며, 혼란이 있기 전에 이를 먼저 파악하여 잘 다스리고, 관대하고 엄격함의 조화를 이루어 나라를 위한 계책을 도모해야 한다.”라고 후대의 황제에게도 이를 훈계하였다. 강희제는 황제로서 자식과 같은 백성들에게 이런 당부의 말을 남겨 황제로서의 도리를 다하려 하였다.   \n",
       "3                                                                                                                                         불상을 모시기 위해 나무나 돌, 쇠 등을 깎아 일반적인 건축물보다 작은 규모로 만든 것을 불감(佛龕)이라고 한다. 불감은 그 안에 모신 불상의 양식뿐만 아니라, 당시의 건축 양식을 함께 살필 수 있는 중요한 자료가 된다. \\n\\n이 작품은 높이 18cm의 작은 불감으로, 청동으로 불감과 불상을 만들고 그 위에 금칠을 하였다. 불감 내부를 살펴보면 난간을 두른 사각형의 기단 위에 본존불과 양 옆에 보살상이 있으며, 그 위에 기둥과 지붕으로 된 뚜껑이 덮혀 있다. 법당 모양의 뚜껑에는 앞면과 양쪽에 커다란 창문이 있어서 안에 모셔진 불상을 잘 볼 수 있도록 하였다.\\n\\n본존불은 얼굴이 추상적이고, 양 어깨를 감싸고 있는 옷은 주름을 간략한 선으로 표현했다. 몸 뒤편에 있는 광배(光背)는 머리광배와 몸광배로 나누어져 있으며, 불꽃무늬로 가장자리를 장식하고 있다. 본존불 양 옆의 보살상도 구슬로 장식된 관(冠)을 쓰고 있다는 점을 제외하면 형식이나 표현 수법이 본존불과 유사하다.\\n\\n불감은 지금도 금색이 찬란하고 지붕에 녹청색이 남아 있는 등 전체적인 보존 상태가 양호하다. 본존불의 긴 허리, 불규칙하게 나타나는 옷주름, 그리고 보살이 쓰고 있는 구슬로 장식한 관(冠) 등 여러 양식으로 보아 만든 시기는 중국 북방 계통의 영향을 받은 11∼12세기 경으로 추정된다. 이 작품은 고려시대 또는 그 이전의 목조건축 양식과 조각수법을 보여주는 귀중한 예라는 점에서 가치가 크다고 할 수 있다.   \n",
       "4                                                                                                                                                                                                                                                               동아대학교박물관에서 소장하고 있는 계사명 사리구는 총 4개의 용기로 구성된 조선후기의 유물로, 경상남도 울주군 웅촌면 대복리에서 출토되었다고 전한다. 외함(外函)은 청화명문이 있는 백자이며, 그 안쪽에 납작한 금속제 원형 합 2점과 금속제 원통형 합 등 3점의 그릇이 봉안되어 있다.\\n\\n바깥쪽의 외함인 백자 합 동체 중앙부 표면에 청화안료로 쓴 “癸巳二月日 施主承表 兩主”라는 명문이 세로로 세 줄에 걸쳐서 쓰여 있어 조선 후기인 계사년에 시주자인 승표 부부가 발원하여 만든 것임을 알 수 있다.\\n\\n동아대학교박물관의 계사명 사리구는 정확한 제작연대는 알 수 없지만 명문 등을 통해 적어도 17세기 이후에 제작된 것으로 추정되는 작품으로, 명문이 있는 조선 후기 경상도 지역 출토 사리장엄구라는 점에서 중요한 가치를 지닌 작품으로 판단된다.\\n\\n조선 후기 사리장엄구는 아직까지 조사와 연구가 거의 이루어지지 않았으나, 이처럼 세트를 갖추어 출토된 유물은 비교적 드문 편임을 고려할 때, 이 계사명 사리장엄구는 제작연대와 발원자의 이름이 밝혀져 있으며, 지금까지 출토된 예가 드문 비교적 완전한 세트를 가진 유물이라는 점에서 조선 후기 사리장엄구 연구에 자료적 가치를 지닌 유물이다.   \n",
       "\n",
       "                                  question            id  \\\n",
       "0         대통령을 포함한 미국의 행정부 견제권을 갖는 국가 기관은?  mrc-1-000067   \n",
       "1                   현대적 인사조직관리의 시발점이 된 책은?  mrc-0-004397   \n",
       "2           강희제가 1717년에 쓴 글은 누구를 위해 쓰여졌는가?  mrc-1-000362   \n",
       "3  11~12세기에 제작된 본존불은 보통 어떤 나라의 특징이 전파되었나요?  mrc-0-001510   \n",
       "4               명문이 적힌 유물을 구성하는 그릇의 총 개수는?  mrc-0-000823   \n",
       "\n",
       "                                         answers  document_id  \\\n",
       "0        {'answer_start': [235], 'text': ['하원']}        18293   \n",
       "1  {'answer_start': [212], 'text': ['《경영의 실제》']}        51638   \n",
       "2        {'answer_start': [510], 'text': ['백성']}         5028   \n",
       "3        {'answer_start': [625], 'text': ['중국']}        34146   \n",
       "4         {'answer_start': [30], 'text': ['4개']}        47334   \n",
       "\n",
       "   __index_level_0__             ner_A                        ner_T  \\\n",
       "0                 42  ['ORGANIZATION']  ['COUNTRY', 'ORGANIZATION']   \n",
       "1               2873      ['ARTIFACT']                           []   \n",
       "2                230  ['CIVILIZATION']                   ['PERSON']   \n",
       "3                992       ['COUNTRY']                           []   \n",
       "4                548      ['QUANTITY']                 ['LOCATION']   \n",
       "\n",
       "                                                 Q_based title  \n",
       "0                                         양원제인 미국 의회의 상원의 명칭은?  \n",
       "1                                       현대적 인사조직관리의 전환점이 된 것은?  \n",
       "2  황권을 스스로 조절하고 정치의 일부를 재상들이나 대신들과 의논하여 정책을 실행하고 선정을 베풀었던 인물은?  \n",
       "3                                                      불감이 뭐야?  \n",
       "4               동아대학교박물관에서 소장하고 있는 총 4개의 용기로 구성된 조선후기의 유물은 뭐야?  "
      ]
     },
     "metadata": {},
     "output_type": "display_data"
    }
   ],
   "source": []
  },
  {
   "attachments": {},
   "cell_type": "markdown",
   "metadata": {},
   "source": [
    "## Entity로 질문 생성"
   ]
  },
  {
   "cell_type": "code",
   "execution_count": 17,
   "metadata": {},
   "outputs": [
    {
     "data": {
      "text/plain": [
       "{('강희제', 'PERSON'), ('루이', 'PERSON'), ('부베', 'PERSON')}"
      ]
     },
     "execution_count": 17,
     "metadata": {},
     "output_type": "execute_result"
    }
   ],
   "source": [
    "ner_result = ner(df.iloc[k].context)\n",
    "ner_p = [(w,ne) for w,ne in ner_result if ne=='PERSON']\n",
    "set(ner_p)"
   ]
  },
  {
   "cell_type": "code",
   "execution_count": 18,
   "metadata": {},
   "outputs": [
    {
     "name": "stdout",
     "output_type": "stream",
     "text": [
      "프랑스의 예수회 선교사 부베는 누구에게 강희제에 대해 보고했는가? 루이\n",
      "황권을 스스로 조절하고 정치의 일부를 재상들이나 대신들과 의논하여 정책을 실행하고 선정을 베풀었던 인물은? 강희제\n",
      "루이 14세에게 강희제에 대해 보고한 사람은? 부베\n"
     ]
    }
   ],
   "source": [
    "for w,p in set(ner_p):\n",
    "    result = qg(\n",
    "        w,\n",
    "        df.iloc[k].context,\n",
    "        n_wrong=0\n",
    "    )\n",
    "    print(result,w)\n",
    "    # print(f'생성된 질문: {result[0]}, 반환된 오답: {result[1]}')"
   ]
  },
  {
   "cell_type": "code",
   "execution_count": 21,
   "metadata": {},
   "outputs": [
    {
     "name": "stdout",
     "output_type": "stream",
     "text": [
      "{('청나라', 'COUNTRY'), ('프랑스', 'COUNTRY')}\n",
      "gen_Q:  강희제의 인자한 정치는 한족이 만주족의 어느 나라를 지지하게 만드는데 크게 일조하였나? \n",
      "A:  청나라\n",
      "gen_Q:  예수회 선교사 부베는 어느나라 사람인가? \n",
      "A:  프랑스\n"
     ]
    }
   ],
   "source": [
    "ner_c = [(w,ne) for w,ne in ner_result if ne=='COUNTRY']\n",
    "print(set(ner_c))\n",
    "for w,p in set(ner_c):\n",
    "    result = qg(\n",
    "        w,\n",
    "        df.iloc[k].context,\n",
    "        n_wrong=0\n",
    "    )\n",
    "    print('gen_Q: ',result,'\\nA: ',w)\n",
    "    # print(f'생성된 질문: {result[0]}, 반환된 오답: {result[1]}')\n"
   ]
  },
  {
   "cell_type": "code",
   "execution_count": null,
   "metadata": {},
   "outputs": [],
   "source": []
  },
  {
   "attachments": {},
   "cell_type": "markdown",
   "metadata": {},
   "source": [
    "# wiki title based QG"
   ]
  },
  {
   "cell_type": "code",
   "execution_count": 40,
   "metadata": {},
   "outputs": [
    {
     "ename": "KeyboardInterrupt",
     "evalue": "",
     "output_type": "error",
     "traceback": [
      "\u001b[0;31m---------------------------------------------------------------------------\u001b[0m",
      "\u001b[0;31mTypeError\u001b[0m                                 Traceback (most recent call last)",
      "\u001b[0;32m/opt/conda/envs/pororo/lib/python3.6/site-packages/pandas/core/dtypes/base.py\u001b[0m in \u001b[0;36mfind\u001b[0;34m(self, dtype)\u001b[0m\n\u001b[1;32m    435\u001b[0m             \u001b[0;32mtry\u001b[0m\u001b[0;34m:\u001b[0m\u001b[0;34m\u001b[0m\u001b[0;34m\u001b[0m\u001b[0m\n\u001b[0;32m--> 436\u001b[0;31m                 \u001b[0;32mreturn\u001b[0m \u001b[0mdtype_type\u001b[0m\u001b[0;34m.\u001b[0m\u001b[0mconstruct_from_string\u001b[0m\u001b[0;34m(\u001b[0m\u001b[0mdtype\u001b[0m\u001b[0;34m)\u001b[0m\u001b[0;34m\u001b[0m\u001b[0;34m\u001b[0m\u001b[0m\n\u001b[0m\u001b[1;32m    437\u001b[0m             \u001b[0;32mexcept\u001b[0m \u001b[0mTypeError\u001b[0m\u001b[0;34m:\u001b[0m\u001b[0;34m\u001b[0m\u001b[0;34m\u001b[0m\u001b[0m\n",
      "\u001b[0;32m/opt/conda/envs/pororo/lib/python3.6/site-packages/pandas/core/dtypes/base.py\u001b[0m in \u001b[0;36mconstruct_from_string\u001b[0;34m(cls, string)\u001b[0m\n\u001b[1;32m    252\u001b[0m         \u001b[0;32mif\u001b[0m \u001b[0mstring\u001b[0m \u001b[0;34m!=\u001b[0m \u001b[0mcls\u001b[0m\u001b[0;34m.\u001b[0m\u001b[0mname\u001b[0m\u001b[0;34m:\u001b[0m\u001b[0;34m\u001b[0m\u001b[0;34m\u001b[0m\u001b[0m\n\u001b[0;32m--> 253\u001b[0;31m             \u001b[0;32mraise\u001b[0m \u001b[0mTypeError\u001b[0m\u001b[0;34m(\u001b[0m\u001b[0;34mf\"Cannot construct a '{cls.__name__}' from '{string}'\"\u001b[0m\u001b[0;34m)\u001b[0m\u001b[0;34m\u001b[0m\u001b[0;34m\u001b[0m\u001b[0m\n\u001b[0m\u001b[1;32m    254\u001b[0m         \u001b[0;32mreturn\u001b[0m \u001b[0mcls\u001b[0m\u001b[0;34m(\u001b[0m\u001b[0;34m)\u001b[0m\u001b[0;34m\u001b[0m\u001b[0;34m\u001b[0m\u001b[0m\n",
      "\u001b[0;31mTypeError\u001b[0m: Cannot construct a 'UInt64Dtype' from 'int64'",
      "\nDuring handling of the above exception, another exception occurred:\n",
      "\u001b[0;31mKeyboardInterrupt\u001b[0m                         Traceback (most recent call last)",
      "\u001b[0;32m<ipython-input-40-99a95df90fa8>\u001b[0m in \u001b[0;36m<module>\u001b[0;34m()\u001b[0m\n\u001b[1;32m      2\u001b[0m \u001b[0;31m#     js = json.loads(f.read()) ## json 라이브러리 이용\u001b[0m\u001b[0;34m\u001b[0m\u001b[0;34m\u001b[0m\u001b[0;34m\u001b[0m\u001b[0m\n\u001b[1;32m      3\u001b[0m \u001b[0;31m# df = pd.DataFrame(js)\u001b[0m\u001b[0;34m\u001b[0m\u001b[0;34m\u001b[0m\u001b[0;34m\u001b[0m\u001b[0m\n\u001b[0;32m----> 4\u001b[0;31m \u001b[0mdf\u001b[0m \u001b[0;34m=\u001b[0m \u001b[0mpd\u001b[0m\u001b[0;34m.\u001b[0m\u001b[0mread_json\u001b[0m\u001b[0;34m(\u001b[0m\u001b[0;34m'../input/data/wikipedia_documents.json'\u001b[0m\u001b[0;34m)\u001b[0m \u001b[0;31m## pd.read_json 이용\u001b[0m\u001b[0;34m\u001b[0m\u001b[0;34m\u001b[0m\u001b[0m\n\u001b[0m\u001b[1;32m      5\u001b[0m \u001b[0mdf\u001b[0m \u001b[0;34m=\u001b[0m \u001b[0mdf\u001b[0m\u001b[0;34m.\u001b[0m\u001b[0mtranspose\u001b[0m\u001b[0;34m(\u001b[0m\u001b[0;34m)\u001b[0m\u001b[0;34m\u001b[0m\u001b[0;34m\u001b[0m\u001b[0m\n\u001b[1;32m      6\u001b[0m \u001b[0mdisplay\u001b[0m\u001b[0;34m(\u001b[0m\u001b[0mdf\u001b[0m\u001b[0;34m.\u001b[0m\u001b[0mhead\u001b[0m\u001b[0;34m(\u001b[0m\u001b[0;36m2\u001b[0m\u001b[0;34m)\u001b[0m\u001b[0;34m)\u001b[0m\u001b[0;34m\u001b[0m\u001b[0;34m\u001b[0m\u001b[0m\n",
      "\u001b[0;32m/opt/conda/envs/pororo/lib/python3.6/site-packages/pandas/util/_decorators.py\u001b[0m in \u001b[0;36mwrapper\u001b[0;34m(*args, **kwargs)\u001b[0m\n\u001b[1;32m    197\u001b[0m                 \u001b[0;32melse\u001b[0m\u001b[0;34m:\u001b[0m\u001b[0;34m\u001b[0m\u001b[0;34m\u001b[0m\u001b[0m\n\u001b[1;32m    198\u001b[0m                     \u001b[0mkwargs\u001b[0m\u001b[0;34m[\u001b[0m\u001b[0mnew_arg_name\u001b[0m\u001b[0;34m]\u001b[0m \u001b[0;34m=\u001b[0m \u001b[0mnew_arg_value\u001b[0m\u001b[0;34m\u001b[0m\u001b[0;34m\u001b[0m\u001b[0m\n\u001b[0;32m--> 199\u001b[0;31m             \u001b[0;32mreturn\u001b[0m \u001b[0mfunc\u001b[0m\u001b[0;34m(\u001b[0m\u001b[0;34m*\u001b[0m\u001b[0margs\u001b[0m\u001b[0;34m,\u001b[0m \u001b[0;34m**\u001b[0m\u001b[0mkwargs\u001b[0m\u001b[0;34m)\u001b[0m\u001b[0;34m\u001b[0m\u001b[0;34m\u001b[0m\u001b[0m\n\u001b[0m\u001b[1;32m    200\u001b[0m \u001b[0;34m\u001b[0m\u001b[0m\n\u001b[1;32m    201\u001b[0m         \u001b[0;32mreturn\u001b[0m \u001b[0mcast\u001b[0m\u001b[0;34m(\u001b[0m\u001b[0mF\u001b[0m\u001b[0;34m,\u001b[0m \u001b[0mwrapper\u001b[0m\u001b[0;34m)\u001b[0m\u001b[0;34m\u001b[0m\u001b[0;34m\u001b[0m\u001b[0m\n",
      "\u001b[0;32m/opt/conda/envs/pororo/lib/python3.6/site-packages/pandas/util/_decorators.py\u001b[0m in \u001b[0;36mwrapper\u001b[0;34m(*args, **kwargs)\u001b[0m\n\u001b[1;32m    294\u001b[0m                 )\n\u001b[1;32m    295\u001b[0m                 \u001b[0mwarnings\u001b[0m\u001b[0;34m.\u001b[0m\u001b[0mwarn\u001b[0m\u001b[0;34m(\u001b[0m\u001b[0mmsg\u001b[0m\u001b[0;34m,\u001b[0m \u001b[0mFutureWarning\u001b[0m\u001b[0;34m,\u001b[0m \u001b[0mstacklevel\u001b[0m\u001b[0;34m=\u001b[0m\u001b[0mstacklevel\u001b[0m\u001b[0;34m)\u001b[0m\u001b[0;34m\u001b[0m\u001b[0;34m\u001b[0m\u001b[0m\n\u001b[0;32m--> 296\u001b[0;31m             \u001b[0;32mreturn\u001b[0m \u001b[0mfunc\u001b[0m\u001b[0;34m(\u001b[0m\u001b[0;34m*\u001b[0m\u001b[0margs\u001b[0m\u001b[0;34m,\u001b[0m \u001b[0;34m**\u001b[0m\u001b[0mkwargs\u001b[0m\u001b[0;34m)\u001b[0m\u001b[0;34m\u001b[0m\u001b[0;34m\u001b[0m\u001b[0m\n\u001b[0m\u001b[1;32m    297\u001b[0m \u001b[0;34m\u001b[0m\u001b[0m\n\u001b[1;32m    298\u001b[0m         \u001b[0;32mreturn\u001b[0m \u001b[0mwrapper\u001b[0m\u001b[0;34m\u001b[0m\u001b[0;34m\u001b[0m\u001b[0m\n",
      "\u001b[0;32m/opt/conda/envs/pororo/lib/python3.6/site-packages/pandas/io/json/_json.py\u001b[0m in \u001b[0;36mread_json\u001b[0;34m(path_or_buf, orient, typ, dtype, convert_axes, convert_dates, keep_default_dates, numpy, precise_float, date_unit, encoding, lines, chunksize, compression, nrows)\u001b[0m\n\u001b[1;32m    616\u001b[0m         \u001b[0;32mreturn\u001b[0m \u001b[0mjson_reader\u001b[0m\u001b[0;34m\u001b[0m\u001b[0;34m\u001b[0m\u001b[0m\n\u001b[1;32m    617\u001b[0m \u001b[0;34m\u001b[0m\u001b[0m\n\u001b[0;32m--> 618\u001b[0;31m     \u001b[0mresult\u001b[0m \u001b[0;34m=\u001b[0m \u001b[0mjson_reader\u001b[0m\u001b[0;34m.\u001b[0m\u001b[0mread\u001b[0m\u001b[0;34m(\u001b[0m\u001b[0;34m)\u001b[0m\u001b[0;34m\u001b[0m\u001b[0;34m\u001b[0m\u001b[0m\n\u001b[0m\u001b[1;32m    619\u001b[0m     \u001b[0;32mif\u001b[0m \u001b[0mshould_close\u001b[0m\u001b[0;34m:\u001b[0m\u001b[0;34m\u001b[0m\u001b[0;34m\u001b[0m\u001b[0m\n\u001b[1;32m    620\u001b[0m         \u001b[0mfilepath_or_buffer\u001b[0m\u001b[0;34m.\u001b[0m\u001b[0mclose\u001b[0m\u001b[0;34m(\u001b[0m\u001b[0;34m)\u001b[0m\u001b[0;34m\u001b[0m\u001b[0;34m\u001b[0m\u001b[0m\n",
      "\u001b[0;32m/opt/conda/envs/pororo/lib/python3.6/site-packages/pandas/io/json/_json.py\u001b[0m in \u001b[0;36mread\u001b[0;34m(self)\u001b[0m\n\u001b[1;32m    753\u001b[0m                 \u001b[0mobj\u001b[0m \u001b[0;34m=\u001b[0m \u001b[0mself\u001b[0m\u001b[0;34m.\u001b[0m\u001b[0m_get_object_parser\u001b[0m\u001b[0;34m(\u001b[0m\u001b[0mself\u001b[0m\u001b[0;34m.\u001b[0m\u001b[0m_combine_lines\u001b[0m\u001b[0;34m(\u001b[0m\u001b[0mdata\u001b[0m\u001b[0;34m)\u001b[0m\u001b[0;34m)\u001b[0m\u001b[0;34m\u001b[0m\u001b[0;34m\u001b[0m\u001b[0m\n\u001b[1;32m    754\u001b[0m         \u001b[0;32melse\u001b[0m\u001b[0;34m:\u001b[0m\u001b[0;34m\u001b[0m\u001b[0;34m\u001b[0m\u001b[0m\n\u001b[0;32m--> 755\u001b[0;31m             \u001b[0mobj\u001b[0m \u001b[0;34m=\u001b[0m \u001b[0mself\u001b[0m\u001b[0;34m.\u001b[0m\u001b[0m_get_object_parser\u001b[0m\u001b[0;34m(\u001b[0m\u001b[0mself\u001b[0m\u001b[0;34m.\u001b[0m\u001b[0mdata\u001b[0m\u001b[0;34m)\u001b[0m\u001b[0;34m\u001b[0m\u001b[0;34m\u001b[0m\u001b[0m\n\u001b[0m\u001b[1;32m    756\u001b[0m         \u001b[0mself\u001b[0m\u001b[0;34m.\u001b[0m\u001b[0mclose\u001b[0m\u001b[0;34m(\u001b[0m\u001b[0;34m)\u001b[0m\u001b[0;34m\u001b[0m\u001b[0;34m\u001b[0m\u001b[0m\n\u001b[1;32m    757\u001b[0m         \u001b[0;32mreturn\u001b[0m \u001b[0mobj\u001b[0m\u001b[0;34m\u001b[0m\u001b[0;34m\u001b[0m\u001b[0m\n",
      "\u001b[0;32m/opt/conda/envs/pororo/lib/python3.6/site-packages/pandas/io/json/_json.py\u001b[0m in \u001b[0;36m_get_object_parser\u001b[0;34m(self, json)\u001b[0m\n\u001b[1;32m    775\u001b[0m         \u001b[0mobj\u001b[0m \u001b[0;34m=\u001b[0m \u001b[0;32mNone\u001b[0m\u001b[0;34m\u001b[0m\u001b[0;34m\u001b[0m\u001b[0m\n\u001b[1;32m    776\u001b[0m         \u001b[0;32mif\u001b[0m \u001b[0mtyp\u001b[0m \u001b[0;34m==\u001b[0m \u001b[0;34m\"frame\"\u001b[0m\u001b[0;34m:\u001b[0m\u001b[0;34m\u001b[0m\u001b[0;34m\u001b[0m\u001b[0m\n\u001b[0;32m--> 777\u001b[0;31m             \u001b[0mobj\u001b[0m \u001b[0;34m=\u001b[0m \u001b[0mFrameParser\u001b[0m\u001b[0;34m(\u001b[0m\u001b[0mjson\u001b[0m\u001b[0;34m,\u001b[0m \u001b[0;34m**\u001b[0m\u001b[0mkwargs\u001b[0m\u001b[0;34m)\u001b[0m\u001b[0;34m.\u001b[0m\u001b[0mparse\u001b[0m\u001b[0;34m(\u001b[0m\u001b[0;34m)\u001b[0m\u001b[0;34m\u001b[0m\u001b[0;34m\u001b[0m\u001b[0m\n\u001b[0m\u001b[1;32m    778\u001b[0m \u001b[0;34m\u001b[0m\u001b[0m\n\u001b[1;32m    779\u001b[0m         \u001b[0;32mif\u001b[0m \u001b[0mtyp\u001b[0m \u001b[0;34m==\u001b[0m \u001b[0;34m\"series\"\u001b[0m \u001b[0;32mor\u001b[0m \u001b[0mobj\u001b[0m \u001b[0;32mis\u001b[0m \u001b[0;32mNone\u001b[0m\u001b[0;34m:\u001b[0m\u001b[0;34m\u001b[0m\u001b[0;34m\u001b[0m\u001b[0m\n",
      "\u001b[0;32m/opt/conda/envs/pororo/lib/python3.6/site-packages/pandas/io/json/_json.py\u001b[0m in \u001b[0;36mparse\u001b[0;34m(self)\u001b[0m\n\u001b[1;32m    890\u001b[0m         \u001b[0;32mif\u001b[0m \u001b[0mself\u001b[0m\u001b[0;34m.\u001b[0m\u001b[0mconvert_axes\u001b[0m\u001b[0;34m:\u001b[0m\u001b[0;34m\u001b[0m\u001b[0;34m\u001b[0m\u001b[0m\n\u001b[1;32m    891\u001b[0m             \u001b[0mself\u001b[0m\u001b[0;34m.\u001b[0m\u001b[0m_convert_axes\u001b[0m\u001b[0;34m(\u001b[0m\u001b[0;34m)\u001b[0m\u001b[0;34m\u001b[0m\u001b[0;34m\u001b[0m\u001b[0m\n\u001b[0;32m--> 892\u001b[0;31m         \u001b[0mself\u001b[0m\u001b[0;34m.\u001b[0m\u001b[0m_try_convert_types\u001b[0m\u001b[0;34m(\u001b[0m\u001b[0;34m)\u001b[0m\u001b[0;34m\u001b[0m\u001b[0;34m\u001b[0m\u001b[0m\n\u001b[0m\u001b[1;32m    893\u001b[0m         \u001b[0;32mreturn\u001b[0m \u001b[0mself\u001b[0m\u001b[0;34m.\u001b[0m\u001b[0mobj\u001b[0m\u001b[0;34m\u001b[0m\u001b[0;34m\u001b[0m\u001b[0m\n\u001b[1;32m    894\u001b[0m \u001b[0;34m\u001b[0m\u001b[0m\n",
      "\u001b[0;32m/opt/conda/envs/pororo/lib/python3.6/site-packages/pandas/io/json/_json.py\u001b[0m in \u001b[0;36m_try_convert_types\u001b[0;34m(self)\u001b[0m\n\u001b[1;32m   1170\u001b[0m \u001b[0;34m\u001b[0m\u001b[0m\n\u001b[1;32m   1171\u001b[0m         self._process_converter(\n\u001b[0;32m-> 1172\u001b[0;31m             \u001b[0;32mlambda\u001b[0m \u001b[0mcol\u001b[0m\u001b[0;34m,\u001b[0m \u001b[0mc\u001b[0m\u001b[0;34m:\u001b[0m \u001b[0mself\u001b[0m\u001b[0;34m.\u001b[0m\u001b[0m_try_convert_data\u001b[0m\u001b[0;34m(\u001b[0m\u001b[0mcol\u001b[0m\u001b[0;34m,\u001b[0m \u001b[0mc\u001b[0m\u001b[0;34m,\u001b[0m \u001b[0mconvert_dates\u001b[0m\u001b[0;34m=\u001b[0m\u001b[0;32mFalse\u001b[0m\u001b[0;34m)\u001b[0m\u001b[0;34m\u001b[0m\u001b[0;34m\u001b[0m\u001b[0m\n\u001b[0m\u001b[1;32m   1173\u001b[0m         )\n\u001b[1;32m   1174\u001b[0m \u001b[0;34m\u001b[0m\u001b[0m\n",
      "\u001b[0;32m/opt/conda/envs/pororo/lib/python3.6/site-packages/pandas/io/json/_json.py\u001b[0m in \u001b[0;36m_process_converter\u001b[0;34m(self, f, filt)\u001b[0m\n\u001b[1;32m   1150\u001b[0m         \u001b[0;32mfor\u001b[0m \u001b[0mi\u001b[0m\u001b[0;34m,\u001b[0m \u001b[0;34m(\u001b[0m\u001b[0mcol\u001b[0m\u001b[0;34m,\u001b[0m \u001b[0mc\u001b[0m\u001b[0;34m)\u001b[0m \u001b[0;32min\u001b[0m \u001b[0menumerate\u001b[0m\u001b[0;34m(\u001b[0m\u001b[0mself\u001b[0m\u001b[0;34m.\u001b[0m\u001b[0mobj\u001b[0m\u001b[0;34m.\u001b[0m\u001b[0mitems\u001b[0m\u001b[0;34m(\u001b[0m\u001b[0;34m)\u001b[0m\u001b[0;34m)\u001b[0m\u001b[0;34m:\u001b[0m\u001b[0;34m\u001b[0m\u001b[0;34m\u001b[0m\u001b[0m\n\u001b[1;32m   1151\u001b[0m             \u001b[0;32mif\u001b[0m \u001b[0mfilt\u001b[0m\u001b[0;34m(\u001b[0m\u001b[0mcol\u001b[0m\u001b[0;34m,\u001b[0m \u001b[0mc\u001b[0m\u001b[0;34m)\u001b[0m\u001b[0;34m:\u001b[0m\u001b[0;34m\u001b[0m\u001b[0;34m\u001b[0m\u001b[0m\n\u001b[0;32m-> 1152\u001b[0;31m                 \u001b[0mnew_data\u001b[0m\u001b[0;34m,\u001b[0m \u001b[0mresult\u001b[0m \u001b[0;34m=\u001b[0m \u001b[0mf\u001b[0m\u001b[0;34m(\u001b[0m\u001b[0mcol\u001b[0m\u001b[0;34m,\u001b[0m \u001b[0mc\u001b[0m\u001b[0;34m)\u001b[0m\u001b[0;34m\u001b[0m\u001b[0;34m\u001b[0m\u001b[0m\n\u001b[0m\u001b[1;32m   1153\u001b[0m                 \u001b[0;32mif\u001b[0m \u001b[0mresult\u001b[0m\u001b[0;34m:\u001b[0m\u001b[0;34m\u001b[0m\u001b[0;34m\u001b[0m\u001b[0m\n\u001b[1;32m   1154\u001b[0m                     \u001b[0mc\u001b[0m \u001b[0;34m=\u001b[0m \u001b[0mnew_data\u001b[0m\u001b[0;34m\u001b[0m\u001b[0;34m\u001b[0m\u001b[0m\n",
      "\u001b[0;32m/opt/conda/envs/pororo/lib/python3.6/site-packages/pandas/io/json/_json.py\u001b[0m in \u001b[0;36m<lambda>\u001b[0;34m(col, c)\u001b[0m\n\u001b[1;32m   1170\u001b[0m \u001b[0;34m\u001b[0m\u001b[0m\n\u001b[1;32m   1171\u001b[0m         self._process_converter(\n\u001b[0;32m-> 1172\u001b[0;31m             \u001b[0;32mlambda\u001b[0m \u001b[0mcol\u001b[0m\u001b[0;34m,\u001b[0m \u001b[0mc\u001b[0m\u001b[0;34m:\u001b[0m \u001b[0mself\u001b[0m\u001b[0;34m.\u001b[0m\u001b[0m_try_convert_data\u001b[0m\u001b[0;34m(\u001b[0m\u001b[0mcol\u001b[0m\u001b[0;34m,\u001b[0m \u001b[0mc\u001b[0m\u001b[0;34m,\u001b[0m \u001b[0mconvert_dates\u001b[0m\u001b[0;34m=\u001b[0m\u001b[0;32mFalse\u001b[0m\u001b[0;34m)\u001b[0m\u001b[0;34m\u001b[0m\u001b[0;34m\u001b[0m\u001b[0m\n\u001b[0m\u001b[1;32m   1173\u001b[0m         )\n\u001b[1;32m   1174\u001b[0m \u001b[0;34m\u001b[0m\u001b[0m\n",
      "\u001b[0;32m/opt/conda/envs/pororo/lib/python3.6/site-packages/pandas/io/json/_json.py\u001b[0m in \u001b[0;36m_try_convert_data\u001b[0;34m(self, name, data, use_dtypes, convert_dates)\u001b[0m\n\u001b[1;32m    964\u001b[0m             \u001b[0;31m# coerce ints if we can\u001b[0m\u001b[0;34m\u001b[0m\u001b[0;34m\u001b[0m\u001b[0;34m\u001b[0m\u001b[0m\n\u001b[1;32m    965\u001b[0m             \u001b[0;32mtry\u001b[0m\u001b[0;34m:\u001b[0m\u001b[0;34m\u001b[0m\u001b[0;34m\u001b[0m\u001b[0m\n\u001b[0;32m--> 966\u001b[0;31m                 \u001b[0mnew_data\u001b[0m \u001b[0;34m=\u001b[0m \u001b[0mdata\u001b[0m\u001b[0;34m.\u001b[0m\u001b[0mastype\u001b[0m\u001b[0;34m(\u001b[0m\u001b[0;34m\"int64\"\u001b[0m\u001b[0;34m)\u001b[0m\u001b[0;34m\u001b[0m\u001b[0;34m\u001b[0m\u001b[0m\n\u001b[0m\u001b[1;32m    967\u001b[0m                 \u001b[0;32mif\u001b[0m \u001b[0;34m(\u001b[0m\u001b[0mnew_data\u001b[0m \u001b[0;34m==\u001b[0m \u001b[0mdata\u001b[0m\u001b[0;34m)\u001b[0m\u001b[0;34m.\u001b[0m\u001b[0mall\u001b[0m\u001b[0;34m(\u001b[0m\u001b[0;34m)\u001b[0m\u001b[0;34m:\u001b[0m\u001b[0;34m\u001b[0m\u001b[0;34m\u001b[0m\u001b[0m\n\u001b[1;32m    968\u001b[0m                     \u001b[0mdata\u001b[0m \u001b[0;34m=\u001b[0m \u001b[0mnew_data\u001b[0m\u001b[0;34m\u001b[0m\u001b[0;34m\u001b[0m\u001b[0m\n",
      "\u001b[0;32m/opt/conda/envs/pororo/lib/python3.6/site-packages/pandas/core/generic.py\u001b[0m in \u001b[0;36mastype\u001b[0;34m(self, dtype, copy, errors)\u001b[0m\n\u001b[1;32m   5546\u001b[0m         \u001b[0;32melse\u001b[0m\u001b[0;34m:\u001b[0m\u001b[0;34m\u001b[0m\u001b[0;34m\u001b[0m\u001b[0m\n\u001b[1;32m   5547\u001b[0m             \u001b[0;31m# else, only a single dtype is given\u001b[0m\u001b[0;34m\u001b[0m\u001b[0;34m\u001b[0m\u001b[0;34m\u001b[0m\u001b[0m\n\u001b[0;32m-> 5548\u001b[0;31m             \u001b[0mnew_data\u001b[0m \u001b[0;34m=\u001b[0m \u001b[0mself\u001b[0m\u001b[0;34m.\u001b[0m\u001b[0m_mgr\u001b[0m\u001b[0;34m.\u001b[0m\u001b[0mastype\u001b[0m\u001b[0;34m(\u001b[0m\u001b[0mdtype\u001b[0m\u001b[0;34m=\u001b[0m\u001b[0mdtype\u001b[0m\u001b[0;34m,\u001b[0m \u001b[0mcopy\u001b[0m\u001b[0;34m=\u001b[0m\u001b[0mcopy\u001b[0m\u001b[0;34m,\u001b[0m \u001b[0merrors\u001b[0m\u001b[0;34m=\u001b[0m\u001b[0merrors\u001b[0m\u001b[0;34m,\u001b[0m\u001b[0;34m)\u001b[0m\u001b[0;34m\u001b[0m\u001b[0;34m\u001b[0m\u001b[0m\n\u001b[0m\u001b[1;32m   5549\u001b[0m             \u001b[0;32mreturn\u001b[0m \u001b[0mself\u001b[0m\u001b[0;34m.\u001b[0m\u001b[0m_constructor\u001b[0m\u001b[0;34m(\u001b[0m\u001b[0mnew_data\u001b[0m\u001b[0;34m)\u001b[0m\u001b[0;34m.\u001b[0m\u001b[0m__finalize__\u001b[0m\u001b[0;34m(\u001b[0m\u001b[0mself\u001b[0m\u001b[0;34m,\u001b[0m \u001b[0mmethod\u001b[0m\u001b[0;34m=\u001b[0m\u001b[0;34m\"astype\"\u001b[0m\u001b[0;34m)\u001b[0m\u001b[0;34m\u001b[0m\u001b[0;34m\u001b[0m\u001b[0m\n\u001b[1;32m   5550\u001b[0m \u001b[0;34m\u001b[0m\u001b[0m\n",
      "\u001b[0;32m/opt/conda/envs/pororo/lib/python3.6/site-packages/pandas/core/internals/managers.py\u001b[0m in \u001b[0;36mastype\u001b[0;34m(self, dtype, copy, errors)\u001b[0m\n\u001b[1;32m    602\u001b[0m         \u001b[0mself\u001b[0m\u001b[0;34m,\u001b[0m \u001b[0mdtype\u001b[0m\u001b[0;34m,\u001b[0m \u001b[0mcopy\u001b[0m\u001b[0;34m:\u001b[0m \u001b[0mbool\u001b[0m \u001b[0;34m=\u001b[0m \u001b[0;32mFalse\u001b[0m\u001b[0;34m,\u001b[0m \u001b[0merrors\u001b[0m\u001b[0;34m:\u001b[0m \u001b[0mstr\u001b[0m \u001b[0;34m=\u001b[0m \u001b[0;34m\"raise\"\u001b[0m\u001b[0;34m\u001b[0m\u001b[0;34m\u001b[0m\u001b[0m\n\u001b[1;32m    603\u001b[0m     ) -> \"BlockManager\":\n\u001b[0;32m--> 604\u001b[0;31m         \u001b[0;32mreturn\u001b[0m \u001b[0mself\u001b[0m\u001b[0;34m.\u001b[0m\u001b[0mapply\u001b[0m\u001b[0;34m(\u001b[0m\u001b[0;34m\"astype\"\u001b[0m\u001b[0;34m,\u001b[0m \u001b[0mdtype\u001b[0m\u001b[0;34m=\u001b[0m\u001b[0mdtype\u001b[0m\u001b[0;34m,\u001b[0m \u001b[0mcopy\u001b[0m\u001b[0;34m=\u001b[0m\u001b[0mcopy\u001b[0m\u001b[0;34m,\u001b[0m \u001b[0merrors\u001b[0m\u001b[0;34m=\u001b[0m\u001b[0merrors\u001b[0m\u001b[0;34m)\u001b[0m\u001b[0;34m\u001b[0m\u001b[0;34m\u001b[0m\u001b[0m\n\u001b[0m\u001b[1;32m    605\u001b[0m \u001b[0;34m\u001b[0m\u001b[0m\n\u001b[1;32m    606\u001b[0m     def convert(\n",
      "\u001b[0;32m/opt/conda/envs/pororo/lib/python3.6/site-packages/pandas/core/internals/managers.py\u001b[0m in \u001b[0;36mapply\u001b[0;34m(self, f, align_keys, **kwargs)\u001b[0m\n\u001b[1;32m    407\u001b[0m                 \u001b[0mapplied\u001b[0m \u001b[0;34m=\u001b[0m \u001b[0mb\u001b[0m\u001b[0;34m.\u001b[0m\u001b[0mapply\u001b[0m\u001b[0;34m(\u001b[0m\u001b[0mf\u001b[0m\u001b[0;34m,\u001b[0m \u001b[0;34m**\u001b[0m\u001b[0mkwargs\u001b[0m\u001b[0;34m)\u001b[0m\u001b[0;34m\u001b[0m\u001b[0;34m\u001b[0m\u001b[0m\n\u001b[1;32m    408\u001b[0m             \u001b[0;32melse\u001b[0m\u001b[0;34m:\u001b[0m\u001b[0;34m\u001b[0m\u001b[0;34m\u001b[0m\u001b[0m\n\u001b[0;32m--> 409\u001b[0;31m                 \u001b[0mapplied\u001b[0m \u001b[0;34m=\u001b[0m \u001b[0mgetattr\u001b[0m\u001b[0;34m(\u001b[0m\u001b[0mb\u001b[0m\u001b[0;34m,\u001b[0m \u001b[0mf\u001b[0m\u001b[0;34m)\u001b[0m\u001b[0;34m(\u001b[0m\u001b[0;34m**\u001b[0m\u001b[0mkwargs\u001b[0m\u001b[0;34m)\u001b[0m\u001b[0;34m\u001b[0m\u001b[0;34m\u001b[0m\u001b[0m\n\u001b[0m\u001b[1;32m    410\u001b[0m             \u001b[0mresult_blocks\u001b[0m \u001b[0;34m=\u001b[0m \u001b[0m_extend_blocks\u001b[0m\u001b[0;34m(\u001b[0m\u001b[0mapplied\u001b[0m\u001b[0;34m,\u001b[0m \u001b[0mresult_blocks\u001b[0m\u001b[0;34m)\u001b[0m\u001b[0;34m\u001b[0m\u001b[0;34m\u001b[0m\u001b[0m\n\u001b[1;32m    411\u001b[0m \u001b[0;34m\u001b[0m\u001b[0m\n",
      "\u001b[0;32m/opt/conda/envs/pororo/lib/python3.6/site-packages/pandas/core/internals/blocks.py\u001b[0m in \u001b[0;36mastype\u001b[0;34m(self, dtype, copy, errors)\u001b[0m\n\u001b[1;32m    546\u001b[0m \u001b[0;34m\u001b[0m\u001b[0m\n\u001b[1;32m    547\u001b[0m         \u001b[0;32mif\u001b[0m \u001b[0mdtype\u001b[0m \u001b[0;32mis\u001b[0m \u001b[0;32mnot\u001b[0m \u001b[0;32mNone\u001b[0m\u001b[0;34m:\u001b[0m\u001b[0;34m\u001b[0m\u001b[0;34m\u001b[0m\u001b[0m\n\u001b[0;32m--> 548\u001b[0;31m             \u001b[0mdtype\u001b[0m \u001b[0;34m=\u001b[0m \u001b[0mpandas_dtype\u001b[0m\u001b[0;34m(\u001b[0m\u001b[0mdtype\u001b[0m\u001b[0;34m)\u001b[0m\u001b[0;34m\u001b[0m\u001b[0;34m\u001b[0m\u001b[0m\n\u001b[0m\u001b[1;32m    549\u001b[0m \u001b[0;34m\u001b[0m\u001b[0m\n\u001b[1;32m    550\u001b[0m         \u001b[0;31m# may need to convert to categorical\u001b[0m\u001b[0;34m\u001b[0m\u001b[0;34m\u001b[0m\u001b[0;34m\u001b[0m\u001b[0m\n",
      "\u001b[0;32m/opt/conda/envs/pororo/lib/python3.6/site-packages/pandas/core/dtypes/common.py\u001b[0m in \u001b[0;36mpandas_dtype\u001b[0;34m(dtype)\u001b[0m\n\u001b[1;32m   1754\u001b[0m \u001b[0;34m\u001b[0m\u001b[0m\n\u001b[1;32m   1755\u001b[0m     \u001b[0;31m# registered extension types\u001b[0m\u001b[0;34m\u001b[0m\u001b[0;34m\u001b[0m\u001b[0;34m\u001b[0m\u001b[0m\n\u001b[0;32m-> 1756\u001b[0;31m     \u001b[0mresult\u001b[0m \u001b[0;34m=\u001b[0m \u001b[0mregistry\u001b[0m\u001b[0;34m.\u001b[0m\u001b[0mfind\u001b[0m\u001b[0;34m(\u001b[0m\u001b[0mdtype\u001b[0m\u001b[0;34m)\u001b[0m\u001b[0;34m\u001b[0m\u001b[0;34m\u001b[0m\u001b[0m\n\u001b[0m\u001b[1;32m   1757\u001b[0m     \u001b[0;32mif\u001b[0m \u001b[0mresult\u001b[0m \u001b[0;32mis\u001b[0m \u001b[0;32mnot\u001b[0m \u001b[0;32mNone\u001b[0m\u001b[0;34m:\u001b[0m\u001b[0;34m\u001b[0m\u001b[0;34m\u001b[0m\u001b[0m\n\u001b[1;32m   1758\u001b[0m         \u001b[0;32mreturn\u001b[0m \u001b[0mresult\u001b[0m\u001b[0;34m\u001b[0m\u001b[0;34m\u001b[0m\u001b[0m\n",
      "\u001b[0;32m/opt/conda/envs/pororo/lib/python3.6/site-packages/pandas/core/dtypes/base.py\u001b[0m in \u001b[0;36mfind\u001b[0;34m(self, dtype)\u001b[0m\n\u001b[1;32m    434\u001b[0m         \u001b[0;32mfor\u001b[0m \u001b[0mdtype_type\u001b[0m \u001b[0;32min\u001b[0m \u001b[0mself\u001b[0m\u001b[0;34m.\u001b[0m\u001b[0mdtypes\u001b[0m\u001b[0;34m:\u001b[0m\u001b[0;34m\u001b[0m\u001b[0;34m\u001b[0m\u001b[0m\n\u001b[1;32m    435\u001b[0m             \u001b[0;32mtry\u001b[0m\u001b[0;34m:\u001b[0m\u001b[0;34m\u001b[0m\u001b[0;34m\u001b[0m\u001b[0m\n\u001b[0;32m--> 436\u001b[0;31m                 \u001b[0;32mreturn\u001b[0m \u001b[0mdtype_type\u001b[0m\u001b[0;34m.\u001b[0m\u001b[0mconstruct_from_string\u001b[0m\u001b[0;34m(\u001b[0m\u001b[0mdtype\u001b[0m\u001b[0;34m)\u001b[0m\u001b[0;34m\u001b[0m\u001b[0;34m\u001b[0m\u001b[0m\n\u001b[0m\u001b[1;32m    437\u001b[0m             \u001b[0;32mexcept\u001b[0m \u001b[0mTypeError\u001b[0m\u001b[0;34m:\u001b[0m\u001b[0;34m\u001b[0m\u001b[0;34m\u001b[0m\u001b[0m\n\u001b[1;32m    438\u001b[0m                 \u001b[0;32mpass\u001b[0m\u001b[0;34m\u001b[0m\u001b[0;34m\u001b[0m\u001b[0m\n",
      "\u001b[0;31mKeyboardInterrupt\u001b[0m: "
     ]
    }
   ],
   "source": [
    "# with open('../input/data/wikipedia_documents.json') as f:\n",
    "#     js = json.loads(f.read()) ## json 라이브러리 이용\n",
    "# df = pd.DataFrame(js)\n",
    "df = pd.read_json('../input/data/wikipedia_documents.json') ## pd.read_json 이용\n",
    "df = df.transpose()\n",
    "display(df.head(2))"
   ]
  },
  {
   "cell_type": "code",
   "execution_count": null,
   "metadata": {},
   "outputs": [
    {
     "data": {
      "text/plain": [
       "60613"
      ]
     },
     "execution_count": 44,
     "metadata": {},
     "output_type": "execute_result"
    }
   ],
   "source": [
    "len(df)"
   ]
  },
  {
   "cell_type": "code",
   "execution_count": null,
   "metadata": {},
   "outputs": [],
   "source": [
    "df_wiki_ner = df.copy()\n",
    "# df_wiki_ner = df_wiki_ner.head()"
   ]
  },
  {
   "cell_type": "code",
   "execution_count": null,
   "metadata": {},
   "outputs": [],
   "source": [
    "df_wiki_ner['Q_based title'] = df_wiki_ner[['title','text']].apply(lambda x: qg(x[0],x[1],n_wrong=0), axis=1)"
   ]
  },
  {
   "cell_type": "code",
   "execution_count": null,
   "metadata": {},
   "outputs": [],
   "source": [
    "df_wiki_ner.to_csv('/opt/ml/input/data/train_dataset/wiki_QG.csv', sep=',', na_rep='NaN') # do not write index"
   ]
  },
  {
   "cell_type": "code",
   "execution_count": null,
   "metadata": {},
   "outputs": [
    {
     "data": {
      "text/html": [
       "<div>\n",
       "<style scoped>\n",
       "    .dataframe tbody tr th:only-of-type {\n",
       "        vertical-align: middle;\n",
       "    }\n",
       "\n",
       "    .dataframe tbody tr th {\n",
       "        vertical-align: top;\n",
       "    }\n",
       "\n",
       "    .dataframe thead th {\n",
       "        text-align: right;\n",
       "    }\n",
       "</style>\n",
       "<table border=\"1\" class=\"dataframe\">\n",
       "  <thead>\n",
       "    <tr style=\"text-align: right;\">\n",
       "      <th></th>\n",
       "      <th>text</th>\n",
       "      <th>corpus_source</th>\n",
       "      <th>url</th>\n",
       "      <th>domain</th>\n",
       "      <th>title</th>\n",
       "      <th>author</th>\n",
       "      <th>html</th>\n",
       "      <th>document_id</th>\n",
       "      <th>Q_based title</th>\n",
       "    </tr>\n",
       "  </thead>\n",
       "  <tbody>\n",
       "    <tr>\n",
       "      <th>0</th>\n",
       "      <td>이 문서는 나라 목록이며, 전 세계 206개 나라의 각 현황과 주권 승인 정보를 개요 형태로 나열하고 있다.\\n\\n이 목록은 명료화를 위해 두 부분으로 나뉘어 있다.\\n\\n# 첫 번째 부분은 바티칸 시국과 팔레스타인을 포함하여 유엔 등 국제 기구에 가입되어 국제적인 승인을 널리 받았다고 여기는 195개 나라를 나열하고 있다.\\n# 두 번째 부분은 일부 지역의 주권을 사실상 (데 팍토) 행사하고 있지만, 아직 국제적인 승인을 널리 받지 않았다고 여기는 11개 나라를 나열하고 있다.\\n\\n두 목록은 모두 가나다 순이다.\\n\\n일부 국가의 경우 국가로서의 자격에 논쟁의 여부가 있으며, 이 때문에 이러한 목록을 엮는 것은 매우 어렵고 논란이 생길 수 있는 과정이다. 이 목록을 구성하고 있는 국가를 선정하는 기준에 대한 정보는 \"포함 기준\" 단락을 통해 설명하였다. 나라에 대한 일반적인 정보는 \"국가\" 문서에서 설명하고 있다.</td>\n",
       "      <td>위키피디아</td>\n",
       "      <td>TODO</td>\n",
       "      <td>None</td>\n",
       "      <td>나라 목록</td>\n",
       "      <td>None</td>\n",
       "      <td>None</td>\n",
       "      <td>0</td>\n",
       "      <td>전 세계 206개 나라의 각 현황과 주권 승인 정보를 개요 형태로 나열하는 문서의 이름은?</td>\n",
       "    </tr>\n",
       "    <tr>\n",
       "      <th>1</th>\n",
       "      <td>이 목록에 실린 국가 기준은 1933년 몬테비데오 협약 1장을 참고로 하였다. 협정에 따르면, 국가는 다음의 조건을 만족해야 한다.\\n* (a) 영속적인 국민\\n* (b) 일정한 영토\\n* (c) 정부\\n* (d) 타국과의 관계 참여 자격.\\n특히, 마지막 조건은 국제 공동체의 참여 용인을 내포하고 있기 때문에, 다른 나라의 승인이 매우 중요한 역할을 할 수 있다.  이 목록에 포함된 모든 국가는 보통 이 기준을 만족하는 것으로 보이는 자주적이고 독립적인 국가이다. 하지만 몬테비데오 협약 기준을 만족하는지의 여부는 많은 국가가 논쟁이 되고 있는 실정이다. 또한, 몬테비데오 협약 기준만이 국가 지위의 충분한 자격이든 아니든, 국제법의 견해 차이는 존재할 수 있다. 이 물음에 대한 다른 이론에 대한 고리는 아래에서 볼 수 있다.\\n\\n위 기준에 논거하여 이 목록은 다음 206개 국가를 포함하고 있다.\\n* 일반 국제 승인을 받은 195개 자주 국가.\\n** 유엔 가입 국가 193개\\n** 성좌의 명칭으로 유엔에서 국제 승인을 받은 국가: 바티칸 시국\\n** 팔레스타인지역에 위치하며 유엔 영구 옵서버 국가: 팔레스타인\\n* 유엔의 가입국이 아니며, 일반 국제 승인을 받지 않은 11개 자주 국가.\\n** 유엔 회원국으로부터 승인을 받은 8개 국가: 남오세티야, 니우에, 북키프로스 튀르크 공화국, 사하라 아랍 민주 공화국, 압하지야, 중화민국, 코소보, 쿡 제도,\\n** 유엔 비회원국으로부터 승인을 받은 2개 국가: 아르차흐 공화국, 트란스니스트리아\\n** 어떤 나라에서도 승인 받지 않은 국가: 소말릴란드\\n\\n위 목록에 포함되지 않은 다음 국가는 몬테비데오 협약의 모든 조건을 만족하지 못하거나, 자주적이고 독립적임을 주장하지 않는 국가이다.\\n* 남극 대륙 전체는 정부와 영속 인구가 없다. 7개 국가가 남극 대륙 일부를 차지하고 있으며, 이중 5개 국가가 서로의 영유권을 인정하고 있다.  남극 조약에 따라서 규제되는 이 권리는 어떤 나라에서도 승인을 받지 않았다. \\n* EU 유럽 연합은 27개 가입 국가를 보유한 독특한 초국가 기구이다. 가입 국가는 입법권, 행정권, 사법권 기준을 유럽 연합 위원회로 이양하며, 유럽 연합은 엄밀히 말해 일반적인 주권 국가 간주와 관계 없이 주권 국가로의 특징을 가지고 있다. 유럽 연합은 주권 국가를 주장하지 않으며, 다른 나라와의 관계에서 제한된 지위를 가지고 있다.\\n* 미국과 오스트레일리아, 기타 국가에서 주 (State)라고 칭하는 행정 구역은 주 (행정 구역)을 참고하라. 이러한 하부 국가 개념의 행정 구역은 일부를 제외하고는 다른 나라와 관계를 형성하지 않는다. 예를 들어서 독일 제국의 주는 해외 영사관을 가졌으며, 소비에트 연방의 한 부분이었던 우크라이나 소비에트 사회주의 공화국 (현재의 우크라이나)과 벨로루시 소비에트 사회주의 공화국 (현재의 벨라루스)는 유엔 가입국이었다. 무엇보다 중요한 것은, 이러한 주들은 자주적이고 독립적임을 주장하지 않는다는 것이다.\\n* 몰타 기사단 몰타 기사단은 \"총회에 유효 참관국 자격으로 참여할 수 있으며, 본부에서 영속적인 지위를 유지하는 기타 국가\" 분류에 속하는 유엔 참관 국가이다.  이 단체는 104개 국가와 쌍방 외교 관계를 맺고 있으나, 로마 내의 치외 법권 영역 이외에는 일정한 영토가 없다.  단체의 웹사이트에서는 \"항상 국가에게 국제법의 독립 주체로 인정 받는다.\"고 선언하고 있다.  기사단의 헌법 에서는 다음과 같이 설명하고 있다. \"기사단은 국제법의 주체이며, 주권 기능을 행사한다.\"  기사단은 자주 주권을 주장하고 있지만, 이름에서 볼 수 있듯이 주권 국가라고 주장하지는 않는다. 다른 대사관처럼 이탈리아는 이론상 기사단과 외교 관계를 파기할 수 있으며, 이탈리아 국민이 아닌 단원을 이탈리아 영토에서 강제로 추방할 수 있다. 기사단의 단원은 모두 다른 나라의 국민이기 때문에, 사실상 이들은 모두 자신의 국가에서 살고 있으며, 로마에서 기사단의 치외 법권 영역에 거주하는 단원은 오직 공식 직무에만 연관하여 활동한다. 따라서, 기사단은 영속적인 국민의 특성이 부족하다고 볼 수 있다.\\n* 마이크로네이션으로 여겨지는 국가는 자주적이고 독립적이라고 주장하고, 다른 나라와 외교 관계를 맺고자 시도하여도 포함하지 않았다. 마이크로네이션이 정말로 점유한 영토를 지배하는지, 마이크로네이션의 '인구' 감소 빈도가 낮은 지의 여부는 논쟁이 되고 있다.\\n* ISIS 등은 다른 나라들 못지 않은 영역을 두고 있으며 스스로를 \"나라\"라고 자처하지만, 국제법상 주권이 결여되어 있으며 국제법에 위배되는 테러리즘을 일삼아 '나라'로 간주되지도 않는다. 다만 준국가로 분류한다.</td>\n",
       "      <td>위키피디아</td>\n",
       "      <td>TODO</td>\n",
       "      <td>None</td>\n",
       "      <td>나라 목록</td>\n",
       "      <td>None</td>\n",
       "      <td>None</td>\n",
       "      <td>1</td>\n",
       "      <td>ISIS는 준국가로 분류되는 이유가 뭐야?</td>\n",
       "    </tr>\n",
       "    <tr>\n",
       "      <th>2</th>\n",
       "      <td>현 서울특별시 종로구 서린동 (구 일제 강점기 경기도 경성부 서린정) 출신이다. 친일파인 아버지 백낙승과 어머니 조종희 사이의 3남 2녀 중 막내로 태어났다. 그후 종로구 창신동 197번지 소위 \"큰대문집\"에서 18세까지 살았다. 수송국민학교와 경기제1고등보통학교를 다니면서 피아니스트 신재덕에게 피아노 연주를, 작이건우]]에게 작곡을 각각 배웠다. 이때 한국이 낳은 작곡가 김순남을 사사했다. 1949년 그는 홍콩 로이덴 스쿨로 전학했으며, 한국 전쟁이 발발하기 이전 가족이 일본으로 이주했다. 그 후 일본으로 건너가 1952년 도쿄 대학교 문과부에 입학했다. 2년 후 미술사학 및 미학으로 전공을 정했지만, 실제로는 일본 당대의 작곡가 모로이 사부로, 미학자 노무라 요시오 등에게서 작곡과, 음악사학을 공부했다. 졸업 논문은 ‘아르놀트 쇤베르크 연구’이다.\\n\\n1956년 백남준은 졸업과 함께 독일로 유학을 떠나 뮌헨 대학교 및 쾰른 대학교 등에서 서양의 건축, 음악사, 철학 등을 공부하였다. 뮌헨 대학교 입학 1년 후에는 프라이부르크 국립 음악 대학교로 옮겨 볼프강 포르트너 교수에게 배우지만, 곧 쇤베르크 이후 현대음악의 실험이 활발히 진행되던 다름슈타트 하기 강좌에 참여했다. 1958년 그 곳에서 현대음악가 존 케이지를 만나 그의 음악에 대한 파괴적 접근과 자유정신으로부터 깊은 영감을 얻었다. 이 영감은 \"세계의 역사는 우리에게 알려준다. 주어진 게임에서 이길 수 없다면 규칙을 바꿔라\" 라는 것으로 규정된다. 이후 1950년대부터 활발해지기 시작한 독일 라인 지역의 액션뮤직의 현장에서 백남준은 ‘아시아에서 온 문화테러리스트’(앨런 카프로)라고 불릴 정도의 탁월한 퍼포먼스 아티스트로 활약했다. 1959년 ‘존 케이지에게 보내는 경의’에서 음악적 콜라주와 함께 피아노를 부수는 퍼포먼스를 선보이는 것을 시작으로, 바이올린을 단숨에 파괴하거나(바이올린 솔로) 존 케이지가 착용한 넥타이를 잘라버리는 퍼포먼스(피아노 포르테를 위한 연습곡)가 특히 유명하다. 이 초기 퍼포먼스에 대해 백남준은 스스로 \"충격, 표현주의, 낭만주의, 클라이맥스, 놀라움, 기타 등등을 보여준 것\"이라고 표현한 바 있다. 1961년 카를하인츠 슈토크하우젠의 음악 퍼포먼스 ‘오리기날레’에서 머리와 넥타이로 잉크를 묻혀 두루마리에 흔적을 남기는 독특한 퍼포먼스 심플 머리를 위한 선율을 보여주기도 했다. 1960년대 초반 조지 마키우나스, 요셉 보이스 등과 의기투합하여 플럭서스 활동을 함께 전개했다. 다다이즘에 영향을 받은 플럭서스는 헤라클레이투스가 주장한 ‘변화 생성의 흐름’ 이라는 개념을 받아들여 \"목적이 없는 자유, 실험을 위한 실험\"이라는 명목 하에 이벤트와 퍼포먼스 그리고 전위음악에 주력했고, 곧 유럽과 아시아 및 미국 등 세계로 퍼져나갔다.\\n\\n1961년 백남준은 작곡가 슈토크하우젠이 중심이 된 쾰른의 WDR 전자음악 스튜디오에 출입했으며, 이때 1950년대부터 노버트 위너에 의해 제안된 '사이버네틱스' 개념 하에서 전자공학을 공부한 것으로 알려져 있다. 특히 레이다와 TV 작업에 몰두했던 독일 작가 칼 오토 괴츠의 실패를 거울 삼아서 2년여 동안 홀로 TV를 활용한 미디어 아트로서의 가능성을 탐문하고 실험했다. 그 성과를 바탕으로 1963년 독일 부퍼탈 파르나스 갤러리에서 자신의 첫 번째 전시 ‘음악의 전시-전자 텔레비전’을 열었으며, 13대의 실험적인 TV를 통해 훗날 비디오 아트라고 불리게 되는 초기 형태를 보여주었다. 이 전시는 백남준이 자신의 즉흥음악 또는 무음악의 발상에 기초한 실제 퍼포먼스, 그 흔적과 결과물처럼 유럽에서 자신이 진행해온 작업의 성과와 함께 TV를 비롯한 미디어로 새로운 예술의 형태를 시도하는 작업이 공존하고 있었다. ‘적분된 피아노’, ‘랜덤 액세스 뮤직’, ‘레코드 샤슐릭’같은 20세기 전위음악에 젖줄을 대고 있는 실험적 음악의 시도와 ‘잘린 소머리’, ‘파괴된 누드 마네킹’, ‘보이스의 피아노 파괴 퍼포먼스’'걸음을 위한 선' '바람을 위한 선' 같은 우상파괴적 설치 작업 및 참여예술 형태의 퍼포먼스가 함께 펼쳐졌다. 청년 백남준은 이러한 전시 내용을 ‘동시성’, ‘참여’, ‘임의접속’ 등등에 관한 16개의 테마로써 정리하는 종합적인 큐레이팅 전시로 보여주었기 때문에 최근날짜=2015-5-9 독일, 오스트리아 등지의 연구자들 사이에서 이 전시의 중요성을 재평가하면서 아카이빙 작업과 연구가 점차 활발해지는 추세에 있다.\\n\\n1964년 백남준은 일본으로 건너가 '로봇 K-456'을 제작했으며, 곧 세계 예술의 중심지 뉴욕으로 이주했다. 뉴욕 언더그라운드 필름 운동의 중심지 중 하나였던 시네마테크 필름메이커스에 관여했으며, 스스로 영상 작업을 진행하기도 했다. 1965년 소니의 포타팩(세계 최초의 휴대용 비디오카메라)으로 미국 뉴욕을 첫 방문 중이던 교황 요한 바오로 6세를 촬영하여 곧바로 그 영상을 ‘카페 오 고고’에서 방영했다. 이것이 미술사에서는 한동안 공식적인 비디오 아트의 시작으로 기록되어 있었다. 지금은 1963년 첫번째 전시를 비디오아트의 기점으로 보고 있다. 또한 첼로 연주자이자 뉴욕 아방가르드 페스티벌의 기획자였던 샬럿 무어먼과 함께 비디오 아트와 음악을 혼합한 퍼포먼스 작업을 활발히 펼쳤다. 특히 1967년 음악에 성적인 코드를 집어넣은 백남준의 ‘오페라 섹스트로니크’에서 샬럿 무어먼은 누드 상태의 첼로 연주를 시도하다가 뉴욕 경찰에 체포되어 큰 사회적 파장을 불러일으켰다. 그 결과로 인해 예술 현장에서 누드를 처벌할 수 없다는 뉴욕의 법 개정이 이루어지는 획기적인 진전이 일어난다. 이후에도 미디어 아트가 미국 뉴욕을 중심으로 서서히 득세해가는 시대적 조류 속에서 두 사람은 ‘살아있는 조각을 위한 TV 브라’, ‘TV 첼로’, ‘TV 침대’ 등등 미디어 테크놀로지와 퍼포먼스를 결합한 많은 예술활동을 전개했다.\\n\\n1974년부터 백남준은 영상으로서의 비디오 아트를 새로운 미술적 방법인 설치 미술로 변환하여 다양하게 진행했으며, 그에 따라 ‘TV 붓다’, ‘달은 가장 오래된 TV다’, ‘TV 정원’, ‘TV 물고기’ 등등 많은 대표작을 선보였다. 이 작품들은 비디오 아트와 생명의 상징을 전자적으로 결합하여 테크놀로지로 물든 현대 사회의 새로운 합성적 생명력을 추구했다는 평판을 얻었다. 특히 'TV 붓다'는 그의 초기 비디오 설치의 경향을 잘 보여주는 대표작으로서 가장 널리 알려졌다. 1960년대 후반부터 미국의 문화적 환경이 미디어 테크놀로지에 호의적으로 변화하면서 폭발적인 수준의 미디어 전시가 빈발했고, 백남준의 비디오 아트는 그룹전 형태로 수많은 전시에 활발하게 참여했다. 1974년 뉴욕 에버슨 미술관 개인전과 함께 비데아 앤 비디올로지: 1959-1973이라는 예술과 기술을 교차시키는 하이브리드에 관한 저작을 내놓아 미디아 아트의 이해를 도왔으며, 1982년 뉴욕 휘트니 미술관에서 개최된 ‘백남준 회고전’을 통해 그의 예술 세계가 뉴욕을 중심으로 미국 사회에 많이 알려지는 계기가 되었다.\\n\\n1970년대 중반부터는 뉴욕 WNET 방송국, 보스턴 WGBH 방송국과 협력하여 자신의 비디오 아트를 공중파 TV에서 방송했고, 이는 네트워크 방송을 끌어들여 예술 세계의 영역 확장을 꾀한 놀라운 시도였다. 나아가 1984년 1월 1일 ‘굿모닝 미스터 오웰’은 세계적인 아티스트들의 퍼포먼스를 뉴욕 WNET 방송국과 파리 퐁피두 센터를 연결한 실시간 위성 생중계로 방송하여 전 세계적 반향을 불러일으켰다. 샌프란시스코와 서울까지 연결된 이 국제적인 규모의 위성 아트에는 로리 앤더슨, 피터 가브리엘, 오잉고 보잉고, 존 케이지, 요셉 보이스, 앨런 긴즈버그, 이브 몽탕 등의 예술가과 대중문화의 스타가 다수 참여했으며, 전 세계 2천 5백만명(재방송 포함)이 시청하였다. 이로써 전세계적인 차원의 대중적 각인이 이루어졌고, 마치 대중스타처럼 성가를 높였다. 이후에도 ‘위성 아트’ 3부작으로 명명된 ‘바이 바이 키플링’(1986), ‘손에 손잡고’(1988) 등이 이어져 위성 연결을 통한 전세계의 네트워크가 어떻게 새로운 부족사회를 낳는지 실감시켰다.\\n\\n1984년 일본 도쿄 소게쓰[草月]홀에서 백남준과 요셉 보이스가 공동으로 참여한 퍼포먼스 '코요테 콘서트 II'가 펼쳐졌으며, 이들이 각각 몽골의 늑대 울음소리와 초원의 달빛을 음악적으로 표현한 것을 통해 1961년 첫 만남부터 계속 이어온 공동의 관심사가 무엇인지 알려지기 시작했다. 그러나 이들의 이후 퍼포먼스 계획은 요셉 보이스의 죽음과 함께 미완으로 끝났다.\\n\\n1992년 '비디오 때, 비디오 땅' 전시는 독일 쿤스트 할레와 스위스 쮜리히에서 진행된 전시의 서울 투어전시로서 당시 과천 막계동에 자리잡은 지 몇 년 되지 않았던 국립현대미술관 과천관에 총 관람 인원 20만명이 찾은 첫번째 전시로 기록되었다. 이 전시의 주요한 작품은 '나의 파우스트' 시리즈이다. 1993년 백남준은 독일 작가 한스 하케와 함께 베니스 비엔날레 독일관 작가로 초대되어 국가전시관 부문에서 황금사자상을 수상했다. '문명의 동서남북'이라는 주제의 이 전시에서 그는 북방 유라시아의 유목 문화를 배경으로 전자적 소통을 시도하는 비디오 로봇 형태의‘칭기스칸의 복권’, ‘마르크폴로’, ‘훈족의 왕 아틸라’,‘스키타이의 왕 단군’, ‘로봇 전사’, ‘고대기마인물상’ 같은 작품들을 중심으로 다수의 작품을 내놓았다.\\n\\n1995년 백남준은 제1회 광주 비엔날레 태동의 산파 역할을 하며, 한국 미술이 국제적으로 진출할 수 있도록 조력자 역할을 수행했다. 제1회 광주 비엔날레는 국내외 총 관람객이 160만 명에 달하는 성공을 거두었고, 특히 백남준이 직접 관여한 ‘INFO Art’전이 주목받았다. 또한 백남준은 같은 해 베니스 비엔날레 국가전시관 부문에 한국관을 설치하는 일에 결정적인 역할을 했다. 이로써 한국 미술이 세계 미술계에 진출하는 교두보가 마련되었다고 하겠다. 같은 해 그의 예술적 정수가 담긴 일렉트로닉 수퍼하이웨이 전시를 진행했다. 1996년 4월 9일 뇌졸중으로 쓰러졌으며, 6개월만인 그해 10월에 재기했다. 2000년 뉴욕 구겐하임 미술관에서 ‘백남준의 세계’ 라는 대규모 회고전이 열렸으며, 이때 백남준은 레이저 아트 ‘야곱의 사다리’, ‘삼원소’ 등을 전시한 바 있다.\\n\\n2006년 1월 29일, 미국 마이애미의 자택에서 노환으로 75세로 별세, 유해가 서울, 뉴욕, 독일에 나눠서 안치되었다.</td>\n",
       "      <td>위키피디아</td>\n",
       "      <td>TODO</td>\n",
       "      <td>None</td>\n",
       "      <td>백남준</td>\n",
       "      <td>None</td>\n",
       "      <td>None</td>\n",
       "      <td>2</td>\n",
       "      <td>1966년 졸업과 함께 독일로 유학을 떠나 뮌헨 대학교 및 쾰른 대학교 등에서 서양의 건축, 음악사, 철학 등을 공부한 사람은?</td>\n",
       "    </tr>\n",
       "    <tr>\n",
       "      <th>3</th>\n",
       "      <td>아오조라 문고(靑空文庫, あおぞらぶんこ|아오조라 분고)는 ‘일본어판 구텐베르크 프로젝트’로 불리는 일본의 인터넷 전자도서관으로, 저작권이 풀린 문학작품을 수집, 전자문서화해서 인터넷에 공개하고 있다. 저자 사후 50년이 지난 메이지, 쇼와 시대 초기의 일본 문학 작품이 그 대부분을 차지하고 있고, 일본어 외 문학 작품의 일본어 번역 작품도 다수 있다. 1997년 2월 도미타 미치오, 노구치 에이치, 야마키 미에, 란무로 사테이 등 4명이 창설하여 시작되었다.  2016년 연간 방문객수는 940만 건 이상이다. \\n\\n아오조라 문고에 수록된 작품은 JIS X 0208에 해당되는 한자 범위 내에서 자원봉사자에 의해 아오조라 문고 형식 텍스트파일이나 HTML 파일로 전자화된다. 또 아오조라 문고 수록파일 취급기준에 따라 자유롭게 이용할 수 있기 때문에, 수록된 작품을 PC는 물론 PDA와 휴대전화로도 볼 수 있다. 텍스트 파일을 큰 글자로 인쇄하거나 전용 소프트웨어에 불러들여 시각장애인용으로 이용하는 방안도 기대되고 있다. 아오조라 문고의 열람 소프트웨어는 따로 개발 및 제공되고 있는 것은 없지만, 전자사전이나 아이폰용 어플리케이션 등은 타사에서 개발하여 출시되어 있다</td>\n",
       "      <td>위키피디아</td>\n",
       "      <td>TODO</td>\n",
       "      <td>None</td>\n",
       "      <td>아오조라 문고</td>\n",
       "      <td>None</td>\n",
       "      <td>None</td>\n",
       "      <td>3</td>\n",
       "      <td>일본어판 구텐베르크 프로젝트로 불리는 일본의 인터넷 전자도서관 이름은?</td>\n",
       "    </tr>\n",
       "    <tr>\n",
       "      <th>4</th>\n",
       "      <td>저자 사망 이후 50년이 지나 저작권이 소멸한 메이지 시대부터 쇼와 시대 초기까지의 서적 대부분이 존재한다. 외국 번역작품이나 저자가 무료보기를 인정한 현대작품도 포함된다. 장르는 정치부터 취미까지 다양하지만, 비교적 문학작품(시대소설, 추리소설등의 오락작품 포함)이 많다. 유명작가의 작품이 모두 갖춰져있진 않지만 그래도 일본어작품에 관련해서는 충실하게 갖춰진 편이다. (번역작품의 경우 번역저작권을 문제로 수가 많지 않다.)\\n\\n잘 알려지지 않은 작품을 보존, 소개하는 장점도 있다. 작품 텍스트화는 지금도 현재진행형이며 2011년 3월 15일 현재 등록작품수가 1만권이 넘었다.\\n고전작가인 모리 오가이, 나츠메 소세키, 아쿠타가와 류노스케, 최근의 작가로는 나카지마 아츠시, 다자이 오사무, 하야시 후미코, 미야모토 유리코, 호리 다쓰오, 사카구치 안고, 다카무라 고타로, 나가이 가후, 요시카와 에이지 등 인물의 작품이 있다.</td>\n",
       "      <td>위키피디아</td>\n",
       "      <td>TODO</td>\n",
       "      <td>None</td>\n",
       "      <td>아오조라 문고</td>\n",
       "      <td>None</td>\n",
       "      <td>None</td>\n",
       "      <td>4</td>\n",
       "      <td>일본 작가들의 작품은 얼마나 있어?</td>\n",
       "    </tr>\n",
       "  </tbody>\n",
       "</table>\n",
       "</div>"
      ],
      "text/plain": [
       "                                                                                                                                                                                                                                                                                                                                                                                                                                                                                                                                                                                                                                                                                                                                                                                                                                                                                                                                                                                                                                                                                                                                                                                                                                                                                                                                                                                                                                                                                                                                                                                                                                                                                                                                                                                                                                                                                                                                                                                                                                                                                                                                                                                                                                                                                                                                                                                                                                                                                                                                                                                                                                                                                                                                                                                                                                                                                                                                                                                                                                                                                                                                                                                                                                                                                                                                                                                                                                                                                                                                                                                                                                                                                                                                                                                                                                                                                                                                                                                                                                                                                                                                                                                                                                                                                                                                                                                                                                                                                                                                                                                                                                                                                                                                                                                                                                                                                                                                                                                                                                                                                                                                                                                                                                                                                             text  \\\n",
       "0                                                                                                                                                                                                                                                                                                                                                                                                                                                                                                                                                                                                                                                                                                                                                                                                                                                                                                                                                                                                                                                                                                                                                                                                                                                                                                                                                                                                                                                                                                                                                                                                                                                                                                                                                                                                                                                                                                                                                                                                                                                                                                                                                                                                                                                                                                                                                                                                                                                                                                                                                                                                                                                                                                                                                                                                                                                                                                                                                                                                                                                                                                                                                                                                                                                                                                                                                                                                                                                                                                                                                                                                                                                                                                                                                                                                                                                                                                                                                                                                                                                                                                                                                                                                                                                                                                                                                                                                                                                                                                                                                                                                                                                                                                                                                                                                                 이 문서는 나라 목록이며, 전 세계 206개 나라의 각 현황과 주권 승인 정보를 개요 형태로 나열하고 있다.\\n\\n이 목록은 명료화를 위해 두 부분으로 나뉘어 있다.\\n\\n# 첫 번째 부분은 바티칸 시국과 팔레스타인을 포함하여 유엔 등 국제 기구에 가입되어 국제적인 승인을 널리 받았다고 여기는 195개 나라를 나열하고 있다.\\n# 두 번째 부분은 일부 지역의 주권을 사실상 (데 팍토) 행사하고 있지만, 아직 국제적인 승인을 널리 받지 않았다고 여기는 11개 나라를 나열하고 있다.\\n\\n두 목록은 모두 가나다 순이다.\\n\\n일부 국가의 경우 국가로서의 자격에 논쟁의 여부가 있으며, 이 때문에 이러한 목록을 엮는 것은 매우 어렵고 논란이 생길 수 있는 과정이다. 이 목록을 구성하고 있는 국가를 선정하는 기준에 대한 정보는 \"포함 기준\" 단락을 통해 설명하였다. 나라에 대한 일반적인 정보는 \"국가\" 문서에서 설명하고 있다.   \n",
       "1                                                                                                                                                                                                                                                                                                                                                                                                                                                                                                                                                                                                                                                                                                                                                                                                                                                                                                                                                                                                                                                                                                                                                                                                                                                                                                                                                                                                                                                                                                                                                                                                                                                                                                                                                                                                                                                                                                                                                                                                                                                                                                                                                                                                                                                                                                                                                                                                                                                                                                                                                                                                                                                                                                                                                                                                                                                                                                     이 목록에 실린 국가 기준은 1933년 몬테비데오 협약 1장을 참고로 하였다. 협정에 따르면, 국가는 다음의 조건을 만족해야 한다.\\n* (a) 영속적인 국민\\n* (b) 일정한 영토\\n* (c) 정부\\n* (d) 타국과의 관계 참여 자격.\\n특히, 마지막 조건은 국제 공동체의 참여 용인을 내포하고 있기 때문에, 다른 나라의 승인이 매우 중요한 역할을 할 수 있다.  이 목록에 포함된 모든 국가는 보통 이 기준을 만족하는 것으로 보이는 자주적이고 독립적인 국가이다. 하지만 몬테비데오 협약 기준을 만족하는지의 여부는 많은 국가가 논쟁이 되고 있는 실정이다. 또한, 몬테비데오 협약 기준만이 국가 지위의 충분한 자격이든 아니든, 국제법의 견해 차이는 존재할 수 있다. 이 물음에 대한 다른 이론에 대한 고리는 아래에서 볼 수 있다.\\n\\n위 기준에 논거하여 이 목록은 다음 206개 국가를 포함하고 있다.\\n* 일반 국제 승인을 받은 195개 자주 국가.\\n** 유엔 가입 국가 193개\\n** 성좌의 명칭으로 유엔에서 국제 승인을 받은 국가: 바티칸 시국\\n** 팔레스타인지역에 위치하며 유엔 영구 옵서버 국가: 팔레스타인\\n* 유엔의 가입국이 아니며, 일반 국제 승인을 받지 않은 11개 자주 국가.\\n** 유엔 회원국으로부터 승인을 받은 8개 국가: 남오세티야, 니우에, 북키프로스 튀르크 공화국, 사하라 아랍 민주 공화국, 압하지야, 중화민국, 코소보, 쿡 제도,\\n** 유엔 비회원국으로부터 승인을 받은 2개 국가: 아르차흐 공화국, 트란스니스트리아\\n** 어떤 나라에서도 승인 받지 않은 국가: 소말릴란드\\n\\n위 목록에 포함되지 않은 다음 국가는 몬테비데오 협약의 모든 조건을 만족하지 못하거나, 자주적이고 독립적임을 주장하지 않는 국가이다.\\n* 남극 대륙 전체는 정부와 영속 인구가 없다. 7개 국가가 남극 대륙 일부를 차지하고 있으며, 이중 5개 국가가 서로의 영유권을 인정하고 있다.  남극 조약에 따라서 규제되는 이 권리는 어떤 나라에서도 승인을 받지 않았다. \\n* EU 유럽 연합은 27개 가입 국가를 보유한 독특한 초국가 기구이다. 가입 국가는 입법권, 행정권, 사법권 기준을 유럽 연합 위원회로 이양하며, 유럽 연합은 엄밀히 말해 일반적인 주권 국가 간주와 관계 없이 주권 국가로의 특징을 가지고 있다. 유럽 연합은 주권 국가를 주장하지 않으며, 다른 나라와의 관계에서 제한된 지위를 가지고 있다.\\n* 미국과 오스트레일리아, 기타 국가에서 주 (State)라고 칭하는 행정 구역은 주 (행정 구역)을 참고하라. 이러한 하부 국가 개념의 행정 구역은 일부를 제외하고는 다른 나라와 관계를 형성하지 않는다. 예를 들어서 독일 제국의 주는 해외 영사관을 가졌으며, 소비에트 연방의 한 부분이었던 우크라이나 소비에트 사회주의 공화국 (현재의 우크라이나)과 벨로루시 소비에트 사회주의 공화국 (현재의 벨라루스)는 유엔 가입국이었다. 무엇보다 중요한 것은, 이러한 주들은 자주적이고 독립적임을 주장하지 않는다는 것이다.\\n* 몰타 기사단 몰타 기사단은 \"총회에 유효 참관국 자격으로 참여할 수 있으며, 본부에서 영속적인 지위를 유지하는 기타 국가\" 분류에 속하는 유엔 참관 국가이다.  이 단체는 104개 국가와 쌍방 외교 관계를 맺고 있으나, 로마 내의 치외 법권 영역 이외에는 일정한 영토가 없다.  단체의 웹사이트에서는 \"항상 국가에게 국제법의 독립 주체로 인정 받는다.\"고 선언하고 있다.  기사단의 헌법 에서는 다음과 같이 설명하고 있다. \"기사단은 국제법의 주체이며, 주권 기능을 행사한다.\"  기사단은 자주 주권을 주장하고 있지만, 이름에서 볼 수 있듯이 주권 국가라고 주장하지는 않는다. 다른 대사관처럼 이탈리아는 이론상 기사단과 외교 관계를 파기할 수 있으며, 이탈리아 국민이 아닌 단원을 이탈리아 영토에서 강제로 추방할 수 있다. 기사단의 단원은 모두 다른 나라의 국민이기 때문에, 사실상 이들은 모두 자신의 국가에서 살고 있으며, 로마에서 기사단의 치외 법권 영역에 거주하는 단원은 오직 공식 직무에만 연관하여 활동한다. 따라서, 기사단은 영속적인 국민의 특성이 부족하다고 볼 수 있다.\\n* 마이크로네이션으로 여겨지는 국가는 자주적이고 독립적이라고 주장하고, 다른 나라와 외교 관계를 맺고자 시도하여도 포함하지 않았다. 마이크로네이션이 정말로 점유한 영토를 지배하는지, 마이크로네이션의 '인구' 감소 빈도가 낮은 지의 여부는 논쟁이 되고 있다.\\n* ISIS 등은 다른 나라들 못지 않은 영역을 두고 있으며 스스로를 \"나라\"라고 자처하지만, 국제법상 주권이 결여되어 있으며 국제법에 위배되는 테러리즘을 일삼아 '나라'로 간주되지도 않는다. 다만 준국가로 분류한다.   \n",
       "2  현 서울특별시 종로구 서린동 (구 일제 강점기 경기도 경성부 서린정) 출신이다. 친일파인 아버지 백낙승과 어머니 조종희 사이의 3남 2녀 중 막내로 태어났다. 그후 종로구 창신동 197번지 소위 \"큰대문집\"에서 18세까지 살았다. 수송국민학교와 경기제1고등보통학교를 다니면서 피아니스트 신재덕에게 피아노 연주를, 작이건우]]에게 작곡을 각각 배웠다. 이때 한국이 낳은 작곡가 김순남을 사사했다. 1949년 그는 홍콩 로이덴 스쿨로 전학했으며, 한국 전쟁이 발발하기 이전 가족이 일본으로 이주했다. 그 후 일본으로 건너가 1952년 도쿄 대학교 문과부에 입학했다. 2년 후 미술사학 및 미학으로 전공을 정했지만, 실제로는 일본 당대의 작곡가 모로이 사부로, 미학자 노무라 요시오 등에게서 작곡과, 음악사학을 공부했다. 졸업 논문은 ‘아르놀트 쇤베르크 연구’이다.\\n\\n1956년 백남준은 졸업과 함께 독일로 유학을 떠나 뮌헨 대학교 및 쾰른 대학교 등에서 서양의 건축, 음악사, 철학 등을 공부하였다. 뮌헨 대학교 입학 1년 후에는 프라이부르크 국립 음악 대학교로 옮겨 볼프강 포르트너 교수에게 배우지만, 곧 쇤베르크 이후 현대음악의 실험이 활발히 진행되던 다름슈타트 하기 강좌에 참여했다. 1958년 그 곳에서 현대음악가 존 케이지를 만나 그의 음악에 대한 파괴적 접근과 자유정신으로부터 깊은 영감을 얻었다. 이 영감은 \"세계의 역사는 우리에게 알려준다. 주어진 게임에서 이길 수 없다면 규칙을 바꿔라\" 라는 것으로 규정된다. 이후 1950년대부터 활발해지기 시작한 독일 라인 지역의 액션뮤직의 현장에서 백남준은 ‘아시아에서 온 문화테러리스트’(앨런 카프로)라고 불릴 정도의 탁월한 퍼포먼스 아티스트로 활약했다. 1959년 ‘존 케이지에게 보내는 경의’에서 음악적 콜라주와 함께 피아노를 부수는 퍼포먼스를 선보이는 것을 시작으로, 바이올린을 단숨에 파괴하거나(바이올린 솔로) 존 케이지가 착용한 넥타이를 잘라버리는 퍼포먼스(피아노 포르테를 위한 연습곡)가 특히 유명하다. 이 초기 퍼포먼스에 대해 백남준은 스스로 \"충격, 표현주의, 낭만주의, 클라이맥스, 놀라움, 기타 등등을 보여준 것\"이라고 표현한 바 있다. 1961년 카를하인츠 슈토크하우젠의 음악 퍼포먼스 ‘오리기날레’에서 머리와 넥타이로 잉크를 묻혀 두루마리에 흔적을 남기는 독특한 퍼포먼스 심플 머리를 위한 선율을 보여주기도 했다. 1960년대 초반 조지 마키우나스, 요셉 보이스 등과 의기투합하여 플럭서스 활동을 함께 전개했다. 다다이즘에 영향을 받은 플럭서스는 헤라클레이투스가 주장한 ‘변화 생성의 흐름’ 이라는 개념을 받아들여 \"목적이 없는 자유, 실험을 위한 실험\"이라는 명목 하에 이벤트와 퍼포먼스 그리고 전위음악에 주력했고, 곧 유럽과 아시아 및 미국 등 세계로 퍼져나갔다.\\n\\n1961년 백남준은 작곡가 슈토크하우젠이 중심이 된 쾰른의 WDR 전자음악 스튜디오에 출입했으며, 이때 1950년대부터 노버트 위너에 의해 제안된 '사이버네틱스' 개념 하에서 전자공학을 공부한 것으로 알려져 있다. 특히 레이다와 TV 작업에 몰두했던 독일 작가 칼 오토 괴츠의 실패를 거울 삼아서 2년여 동안 홀로 TV를 활용한 미디어 아트로서의 가능성을 탐문하고 실험했다. 그 성과를 바탕으로 1963년 독일 부퍼탈 파르나스 갤러리에서 자신의 첫 번째 전시 ‘음악의 전시-전자 텔레비전’을 열었으며, 13대의 실험적인 TV를 통해 훗날 비디오 아트라고 불리게 되는 초기 형태를 보여주었다. 이 전시는 백남준이 자신의 즉흥음악 또는 무음악의 발상에 기초한 실제 퍼포먼스, 그 흔적과 결과물처럼 유럽에서 자신이 진행해온 작업의 성과와 함께 TV를 비롯한 미디어로 새로운 예술의 형태를 시도하는 작업이 공존하고 있었다. ‘적분된 피아노’, ‘랜덤 액세스 뮤직’, ‘레코드 샤슐릭’같은 20세기 전위음악에 젖줄을 대고 있는 실험적 음악의 시도와 ‘잘린 소머리’, ‘파괴된 누드 마네킹’, ‘보이스의 피아노 파괴 퍼포먼스’'걸음을 위한 선' '바람을 위한 선' 같은 우상파괴적 설치 작업 및 참여예술 형태의 퍼포먼스가 함께 펼쳐졌다. 청년 백남준은 이러한 전시 내용을 ‘동시성’, ‘참여’, ‘임의접속’ 등등에 관한 16개의 테마로써 정리하는 종합적인 큐레이팅 전시로 보여주었기 때문에 최근날짜=2015-5-9 독일, 오스트리아 등지의 연구자들 사이에서 이 전시의 중요성을 재평가하면서 아카이빙 작업과 연구가 점차 활발해지는 추세에 있다.\\n\\n1964년 백남준은 일본으로 건너가 '로봇 K-456'을 제작했으며, 곧 세계 예술의 중심지 뉴욕으로 이주했다. 뉴욕 언더그라운드 필름 운동의 중심지 중 하나였던 시네마테크 필름메이커스에 관여했으며, 스스로 영상 작업을 진행하기도 했다. 1965년 소니의 포타팩(세계 최초의 휴대용 비디오카메라)으로 미국 뉴욕을 첫 방문 중이던 교황 요한 바오로 6세를 촬영하여 곧바로 그 영상을 ‘카페 오 고고’에서 방영했다. 이것이 미술사에서는 한동안 공식적인 비디오 아트의 시작으로 기록되어 있었다. 지금은 1963년 첫번째 전시를 비디오아트의 기점으로 보고 있다. 또한 첼로 연주자이자 뉴욕 아방가르드 페스티벌의 기획자였던 샬럿 무어먼과 함께 비디오 아트와 음악을 혼합한 퍼포먼스 작업을 활발히 펼쳤다. 특히 1967년 음악에 성적인 코드를 집어넣은 백남준의 ‘오페라 섹스트로니크’에서 샬럿 무어먼은 누드 상태의 첼로 연주를 시도하다가 뉴욕 경찰에 체포되어 큰 사회적 파장을 불러일으켰다. 그 결과로 인해 예술 현장에서 누드를 처벌할 수 없다는 뉴욕의 법 개정이 이루어지는 획기적인 진전이 일어난다. 이후에도 미디어 아트가 미국 뉴욕을 중심으로 서서히 득세해가는 시대적 조류 속에서 두 사람은 ‘살아있는 조각을 위한 TV 브라’, ‘TV 첼로’, ‘TV 침대’ 등등 미디어 테크놀로지와 퍼포먼스를 결합한 많은 예술활동을 전개했다.\\n\\n1974년부터 백남준은 영상으로서의 비디오 아트를 새로운 미술적 방법인 설치 미술로 변환하여 다양하게 진행했으며, 그에 따라 ‘TV 붓다’, ‘달은 가장 오래된 TV다’, ‘TV 정원’, ‘TV 물고기’ 등등 많은 대표작을 선보였다. 이 작품들은 비디오 아트와 생명의 상징을 전자적으로 결합하여 테크놀로지로 물든 현대 사회의 새로운 합성적 생명력을 추구했다는 평판을 얻었다. 특히 'TV 붓다'는 그의 초기 비디오 설치의 경향을 잘 보여주는 대표작으로서 가장 널리 알려졌다. 1960년대 후반부터 미국의 문화적 환경이 미디어 테크놀로지에 호의적으로 변화하면서 폭발적인 수준의 미디어 전시가 빈발했고, 백남준의 비디오 아트는 그룹전 형태로 수많은 전시에 활발하게 참여했다. 1974년 뉴욕 에버슨 미술관 개인전과 함께 비데아 앤 비디올로지: 1959-1973이라는 예술과 기술을 교차시키는 하이브리드에 관한 저작을 내놓아 미디아 아트의 이해를 도왔으며, 1982년 뉴욕 휘트니 미술관에서 개최된 ‘백남준 회고전’을 통해 그의 예술 세계가 뉴욕을 중심으로 미국 사회에 많이 알려지는 계기가 되었다.\\n\\n1970년대 중반부터는 뉴욕 WNET 방송국, 보스턴 WGBH 방송국과 협력하여 자신의 비디오 아트를 공중파 TV에서 방송했고, 이는 네트워크 방송을 끌어들여 예술 세계의 영역 확장을 꾀한 놀라운 시도였다. 나아가 1984년 1월 1일 ‘굿모닝 미스터 오웰’은 세계적인 아티스트들의 퍼포먼스를 뉴욕 WNET 방송국과 파리 퐁피두 센터를 연결한 실시간 위성 생중계로 방송하여 전 세계적 반향을 불러일으켰다. 샌프란시스코와 서울까지 연결된 이 국제적인 규모의 위성 아트에는 로리 앤더슨, 피터 가브리엘, 오잉고 보잉고, 존 케이지, 요셉 보이스, 앨런 긴즈버그, 이브 몽탕 등의 예술가과 대중문화의 스타가 다수 참여했으며, 전 세계 2천 5백만명(재방송 포함)이 시청하였다. 이로써 전세계적인 차원의 대중적 각인이 이루어졌고, 마치 대중스타처럼 성가를 높였다. 이후에도 ‘위성 아트’ 3부작으로 명명된 ‘바이 바이 키플링’(1986), ‘손에 손잡고’(1988) 등이 이어져 위성 연결을 통한 전세계의 네트워크가 어떻게 새로운 부족사회를 낳는지 실감시켰다.\\n\\n1984년 일본 도쿄 소게쓰[草月]홀에서 백남준과 요셉 보이스가 공동으로 참여한 퍼포먼스 '코요테 콘서트 II'가 펼쳐졌으며, 이들이 각각 몽골의 늑대 울음소리와 초원의 달빛을 음악적으로 표현한 것을 통해 1961년 첫 만남부터 계속 이어온 공동의 관심사가 무엇인지 알려지기 시작했다. 그러나 이들의 이후 퍼포먼스 계획은 요셉 보이스의 죽음과 함께 미완으로 끝났다.\\n\\n1992년 '비디오 때, 비디오 땅' 전시는 독일 쿤스트 할레와 스위스 쮜리히에서 진행된 전시의 서울 투어전시로서 당시 과천 막계동에 자리잡은 지 몇 년 되지 않았던 국립현대미술관 과천관에 총 관람 인원 20만명이 찾은 첫번째 전시로 기록되었다. 이 전시의 주요한 작품은 '나의 파우스트' 시리즈이다. 1993년 백남준은 독일 작가 한스 하케와 함께 베니스 비엔날레 독일관 작가로 초대되어 국가전시관 부문에서 황금사자상을 수상했다. '문명의 동서남북'이라는 주제의 이 전시에서 그는 북방 유라시아의 유목 문화를 배경으로 전자적 소통을 시도하는 비디오 로봇 형태의‘칭기스칸의 복권’, ‘마르크폴로’, ‘훈족의 왕 아틸라’,‘스키타이의 왕 단군’, ‘로봇 전사’, ‘고대기마인물상’ 같은 작품들을 중심으로 다수의 작품을 내놓았다.\\n\\n1995년 백남준은 제1회 광주 비엔날레 태동의 산파 역할을 하며, 한국 미술이 국제적으로 진출할 수 있도록 조력자 역할을 수행했다. 제1회 광주 비엔날레는 국내외 총 관람객이 160만 명에 달하는 성공을 거두었고, 특히 백남준이 직접 관여한 ‘INFO Art’전이 주목받았다. 또한 백남준은 같은 해 베니스 비엔날레 국가전시관 부문에 한국관을 설치하는 일에 결정적인 역할을 했다. 이로써 한국 미술이 세계 미술계에 진출하는 교두보가 마련되었다고 하겠다. 같은 해 그의 예술적 정수가 담긴 일렉트로닉 수퍼하이웨이 전시를 진행했다. 1996년 4월 9일 뇌졸중으로 쓰러졌으며, 6개월만인 그해 10월에 재기했다. 2000년 뉴욕 구겐하임 미술관에서 ‘백남준의 세계’ 라는 대규모 회고전이 열렸으며, 이때 백남준은 레이저 아트 ‘야곱의 사다리’, ‘삼원소’ 등을 전시한 바 있다.\\n\\n2006년 1월 29일, 미국 마이애미의 자택에서 노환으로 75세로 별세, 유해가 서울, 뉴욕, 독일에 나눠서 안치되었다.   \n",
       "3                                                                                                                                                                                                                                                                                                                                                                                                                                                                                                                                                                                                                                                                                                                                                                                                                                                                                                                                                                                                                                                                                                                                                                                                                                                                                                                                                                                                                                                                                                                                                                                                                                                                                                                                                                                                                                                                                                                                                                                                                                                                                                                                                                                                                                                                                                                                                                                                                                                                                                                                                                                                                                                                                                                                                                                                                                                                                                                                                                                                                                                                                                                                                                                                                                                                                                                                                                                                                                                                                                                                                                                                                                                                                                                                                                                                                                                                                                                                                                                                                                                                                                                                                                                                                                                                                                                                                                                                                                                                                                                                                                                                                                                                     아오조라 문고(靑空文庫, あおぞらぶんこ|아오조라 분고)는 ‘일본어판 구텐베르크 프로젝트’로 불리는 일본의 인터넷 전자도서관으로, 저작권이 풀린 문학작품을 수집, 전자문서화해서 인터넷에 공개하고 있다. 저자 사후 50년이 지난 메이지, 쇼와 시대 초기의 일본 문학 작품이 그 대부분을 차지하고 있고, 일본어 외 문학 작품의 일본어 번역 작품도 다수 있다. 1997년 2월 도미타 미치오, 노구치 에이치, 야마키 미에, 란무로 사테이 등 4명이 창설하여 시작되었다.  2016년 연간 방문객수는 940만 건 이상이다. \\n\\n아오조라 문고에 수록된 작품은 JIS X 0208에 해당되는 한자 범위 내에서 자원봉사자에 의해 아오조라 문고 형식 텍스트파일이나 HTML 파일로 전자화된다. 또 아오조라 문고 수록파일 취급기준에 따라 자유롭게 이용할 수 있기 때문에, 수록된 작품을 PC는 물론 PDA와 휴대전화로도 볼 수 있다. 텍스트 파일을 큰 글자로 인쇄하거나 전용 소프트웨어에 불러들여 시각장애인용으로 이용하는 방안도 기대되고 있다. 아오조라 문고의 열람 소프트웨어는 따로 개발 및 제공되고 있는 것은 없지만, 전자사전이나 아이폰용 어플리케이션 등은 타사에서 개발하여 출시되어 있다   \n",
       "4                                                                                                                                                                                                                                                                                                                                                                                                                                                                                                                                                                                                                                                                                                                                                                                                                                                                                                                                                                                                                                                                                                                                                                                                                                                                                                                                                                                                                                                                                                                                                                                                                                                                                                                                                                                                                                                                                                                                                                                                                                                                                                                                                                                                                                                                                                                                                                                                                                                                                                                                                                                                                                                                                                                                                                                                                                                                                                                                                                                                                                                                                                                                                                                                                                                                                                                                                                                                                                                                                                                                                                                                                                                                                                                                                                                                                                                                                                                                                                                                                                                                                                                                                                                                                                                                                                                                                                                                                                                                                                                                                                                                                                                                                                                                                                                                            저자 사망 이후 50년이 지나 저작권이 소멸한 메이지 시대부터 쇼와 시대 초기까지의 서적 대부분이 존재한다. 외국 번역작품이나 저자가 무료보기를 인정한 현대작품도 포함된다. 장르는 정치부터 취미까지 다양하지만, 비교적 문학작품(시대소설, 추리소설등의 오락작품 포함)이 많다. 유명작가의 작품이 모두 갖춰져있진 않지만 그래도 일본어작품에 관련해서는 충실하게 갖춰진 편이다. (번역작품의 경우 번역저작권을 문제로 수가 많지 않다.)\\n\\n잘 알려지지 않은 작품을 보존, 소개하는 장점도 있다. 작품 텍스트화는 지금도 현재진행형이며 2011년 3월 15일 현재 등록작품수가 1만권이 넘었다.\\n고전작가인 모리 오가이, 나츠메 소세키, 아쿠타가와 류노스케, 최근의 작가로는 나카지마 아츠시, 다자이 오사무, 하야시 후미코, 미야모토 유리코, 호리 다쓰오, 사카구치 안고, 다카무라 고타로, 나가이 가후, 요시카와 에이지 등 인물의 작품이 있다.   \n",
       "\n",
       "  corpus_source   url domain    title author  html document_id  \\\n",
       "0         위키피디아  TODO   None    나라 목록   None  None           0   \n",
       "1         위키피디아  TODO   None    나라 목록   None  None           1   \n",
       "2         위키피디아  TODO   None      백남준   None  None           2   \n",
       "3         위키피디아  TODO   None  아오조라 문고   None  None           3   \n",
       "4         위키피디아  TODO   None  아오조라 문고   None  None           4   \n",
       "\n",
       "                                                             Q_based title  \n",
       "0                       전 세계 206개 나라의 각 현황과 주권 승인 정보를 개요 형태로 나열하는 문서의 이름은?  \n",
       "1                                                  ISIS는 준국가로 분류되는 이유가 뭐야?  \n",
       "2  1966년 졸업과 함께 독일로 유학을 떠나 뮌헨 대학교 및 쾰른 대학교 등에서 서양의 건축, 음악사, 철학 등을 공부한 사람은?  \n",
       "3                                  일본어판 구텐베르크 프로젝트로 불리는 일본의 인터넷 전자도서관 이름은?  \n",
       "4                                                      일본 작가들의 작품은 얼마나 있어?  "
      ]
     },
     "execution_count": 51,
     "metadata": {},
     "output_type": "execute_result"
    }
   ],
   "source": [
    "df_wiki_ner.head()"
   ]
  },
  {
   "cell_type": "code",
   "execution_count": 47,
   "metadata": {},
   "outputs": [],
   "source": [
    "df_wiki_QG = pd.read_csv('/opt/ml/input/data/wiki_QG_concat.csv')"
   ]
  },
  {
   "cell_type": "code",
   "execution_count": 144,
   "metadata": {},
   "outputs": [
    {
     "data": {
      "text/plain": [
       "5"
      ]
     },
     "execution_count": 144,
     "metadata": {},
     "output_type": "execute_result"
    }
   ],
   "source": [
    "len(df_wiki_QG)"
   ]
  },
  {
   "cell_type": "code",
   "execution_count": 145,
   "metadata": {},
   "outputs": [
    {
     "data": {
      "text/html": [
       "<div>\n",
       "<style scoped>\n",
       "    .dataframe tbody tr th:only-of-type {\n",
       "        vertical-align: middle;\n",
       "    }\n",
       "\n",
       "    .dataframe tbody tr th {\n",
       "        vertical-align: top;\n",
       "    }\n",
       "\n",
       "    .dataframe thead th {\n",
       "        text-align: right;\n",
       "    }\n",
       "</style>\n",
       "<table border=\"1\" class=\"dataframe\">\n",
       "  <thead>\n",
       "    <tr style=\"text-align: right;\">\n",
       "      <th></th>\n",
       "      <th>title</th>\n",
       "      <th>text</th>\n",
       "      <th>corpus_source</th>\n",
       "      <th>url</th>\n",
       "      <th>domain</th>\n",
       "      <th>author</th>\n",
       "      <th>html</th>\n",
       "      <th>document_id</th>\n",
       "      <th>Q_based title</th>\n",
       "    </tr>\n",
       "  </thead>\n",
       "  <tbody>\n",
       "    <tr>\n",
       "      <th>0</th>\n",
       "      <td>나라 목록</td>\n",
       "      <td>이 문서는 나라 목록이며, 전 세계 206개 나라의 각 현황과 주권 승인 정보를 개요 형태로 나열하고 있다.\\n\\n이 목록은 명료화를 위해 두 부분으로 나뉘어 있다.\\n\\n# 첫 번째 부분은 바티칸 시국과 팔레스타인을 포함하여 유엔 등 국제 기구에 가입되어 국제적인 승인을 널리 받았다고 여기는 195개 나라를 나열하고 있다.\\n# 두 번째 부분은 일부 지역의 주권을 사실상 (데 팍토) 행사하고 있지만, 아직 국제적인 승인을 널리 받지 않았다고 여기는 11개 나라를 나열하고 있다.\\n\\n두 목록은 모두 가나다 순이다.\\n\\n일부 국가의 경우 국가로서의 자격에 논쟁의 여부가 있으며, 이 때문에 이러한 목록을 엮는 것은 매우 어렵고 논란이 생길 수 있는 과정이다. 이 목록을 구성하고 있는 국가를 선정하는 기준에 대한 정보는 \"포함 기준\" 단락을 통해 설명하였다. 나라에 대한 일반적인 정보는 \"국가\" 문서에서 설명하고 있다. 이 목록에 실린 국가 기준은 1933년 몬테비데오 협약 1장을 참고로 하였다. 협정에 따르면, 국가는 다음의 조건을 만족해야 한다.\\n* (a) 영속적인 국민\\n* (b) 일정한 영토\\n* (c) 정부\\n* (d) 타국과의 관계 참여 자격.\\n특히, 마지막 조건은 국제 공동체의 참여 용인을 내포하고 있기 때문에, 다른 나라의 승인이 매우 중요한 역할을 할 수 있다.  이 목록에 포함된 모든 국가는 보통 이 기준을 만족하는 것으로 보이는 자주적이고 독립적인 국가이다. 하지만 몬테비데오 협약 기준을 만족하는지의 여부는 많은 국가가 논쟁이 되고 있는 실정이다. 또한, 몬테비데오 협약 기준만이 국가 지위의 충분한 자격이든 아니든, 국제법의 견해 차이는 존재할 수 있다. 이 물음에 대한 다른 이론에 대한 고리는 아래에서 볼 수 있다.\\n\\n위 기준에 논거하여 이 목록은 다음 206개 국가를 포함하고 있다.\\n* 일반 국제 승인을 받은 195개 자주 국가.\\n** 유엔 가입 국가 193개\\n** 성좌의 명칭으로 유엔에서 국제 승인을 받은 국가: 바티칸 시국\\n** 팔레스타인지역에 위치하며 유엔 영구 옵서버 국가: 팔레스타인\\n* 유엔의 가입국이 아니며, 일반 국제 승인을 받지 않은 11개 자주 국가.\\n** 유엔 회원국으로부터 승인을 받은 8개 국가: 남오세티야, 니우에, 북키프로스 튀르크 공화국, 사하라 아랍 민주 공화국, 압하지야, 중화민국, 코소보, 쿡 제도,\\n** 유엔 비회원국으로부터 승인을 받은 2개 국가: 아르차흐 공화국, 트란스니스트리아\\n** 어떤 나라에서도 승인 받지 않은 국가: 소말릴란드\\n\\n위 목록에 포함되지 않은 다음 국가는 몬테비데오 협약의 모든 조건을 만족하지 못하거나, 자주적이고 독립적임을 주장하지 않는 국가이다.\\n* 남극 대륙 전체는 정부와 영속 인구가 없다. 7개 국가가 남극 대륙 일부를 차지하고 있으며, 이중 5개 국가가 서로의 영유권을 인정하고 있다.  남극 조약에 따라서 규제되는 이 권리는 어떤 나라에서도 승인을 받지 않았다. \\n* EU 유럽 연합은 27개 가입 국가를 보유한 독특한 초국가 기구이다. 가입 국가는 입법권, 행정권, 사법권 기준을 유럽 연합 위원회로 이양하며, 유럽 연합은 엄밀히 말해 일반적인 주권 국가 간주와 관계 없이 주권 국가로의 특징을 가지고 있다. 유럽 연합은 주권 국가를 주장하지 않으며, 다른 나라와의 관계에서 제한된 지위를 가지고 있다.\\n* 미국과 오스트레일리아, 기타 국가에서 주 (State)라고 칭하는 행정 구역은 주 (행정 구역)을 참고하라. 이러한 하부 국가 개념의 행정 구역은 일부를 제외하고는 다른 나라와 관계를 형성하지 않는다. 예를 들어서 독일 제국의 주는 해외 영사관을 가졌으며, 소비에트 연방의 한 부분이었던 우크라이나 소비에트 사회주의 공화국 (현재의 우크라이나)과 벨로루시 소비에트 사회주의 공화국 (현재의 벨라루스)는 유엔 가입국이었다. 무엇보다 중요한 것은, 이러한 주들은 자주적이고 독립적임을 주장하지 않는다는 것이다.\\n* 몰타 기사단 몰타 기사단은 \"총회에 유효 참관국 자격으로 참여할 수 있으며, 본부에서 영속적인 지위를 유지하는 기타 국가\" 분류에 속하는 유엔 참관 국가이다.  이 단체는 104개 국가와 쌍방 외교 관계를 맺고 있으나, 로마 내의 치외 법권 영역 이외에는 일정한 영토가 없다.  단체의 웹사이트에서는 \"항상 국가에게 국제법의 독립 주체로 인정 받는다.\"고 선언하고 있다.  기사단의 헌법 에서는 다음과 같이 설명하고 있다. \"기사단은 국제법의 주체이며, 주권 기능을 행사한다.\"  기사단은 자주 주권을 주장하고 있지만, 이름에서 볼 수 있듯이 주권 국가라고 주장하지는 않는다. 다른 대사관처럼 이탈리아는 이론상 기사단과 외교 관계를 파기할 수 있으며, 이탈리아 국민이 아닌 단원을 이탈리아 영토에서 강제로 추방할 수 있다. 기사단의 단원은 모두 다른 나라의 국민이기 때문에, 사실상 이들은 모두 자신의 국가에서 살고 있으며, 로마에서 기사단의 치외 법권 영역에 거주하는 단원은 오직 공식 직무에만 연관하여 활동한다. 따라서, 기사단은 영속적인 국민의 특성이 부족하다고 볼 수 있다.\\n* 마이크로네이션으로 여겨지는 국가는 자주적이고 독립적이라고 주장하고, 다른 나라와 외교 관계를 맺고자 시도하여도 포함하지 않았다. 마이크로네이션이 정말로 점유한 영토를 지배하는지, 마이크로네이션의 '인구' 감소 빈도가 낮은 지의 여부는 논쟁이 되고 있다.\\n* ISIS 등은 다른 나라들 못지 않은 영역을 두고 있으며 스스로를 \"나라\"라고 자처하지만, 국제법상 주권이 결여되어 있으며 국제법에 위배되는 테러리즘을 일삼아 '나라'로 간주되지도 않는다. 다만 준국가로 분류한다.</td>\n",
       "      <td>위키피디아</td>\n",
       "      <td>TODO</td>\n",
       "      <td>NaN</td>\n",
       "      <td>NaN</td>\n",
       "      <td>NaN</td>\n",
       "      <td>[0, 1]</td>\n",
       "      <td>세계 206개 나라의 현황과 주권 승인 정보를 개요 형태로 나열하는 문서가 뭐야?</td>\n",
       "    </tr>\n",
       "    <tr>\n",
       "      <th>1</th>\n",
       "      <td>데니스 리치</td>\n",
       "      <td>켄 톰슨(Ken Thompson) 등과 함께 최초의 유닉스(Unix) 시스템을 개발했고, 1971년 최초의 〈Unix Programmer's Manual〉을 썼다. 또한 C 언어를 개발한 후 브라이언 커니핸과 함께 〈C 프로그래밍 언어〉(The C Programming Language)를 기술했다. 커니핸과 〈C 프로그래밍 언어〉책을 썼기에 커니핸이 C 언어 개발에 참여한 것으로 종종 오해받으나 커니핸의 말에 따르면 자신은 C언어 개발에 참여하지 않았다고 한다.\\n\\nALTRAN, B언어, BCPL, Multics 등의 개발에도 영향을 끼친 것으로도 알려져 있다.\\n\\n1983년에 켄 톰프슨과 \"범용 운영체제 이론개발, 특히 유닉스 운영체제의 구현에 대한 공로\"로 튜링상을 수상했다.\\n\\n미국의 경제 전문지 '비즈니스 인사이더'에서는 '현재의 애플 컴퓨터는 거의 모두 데니스 리치의 업적에 기반하고 있다'이라며 그의 업적을 평가했다.  현재 애플 매킨토시의 OS X와 아이폰의 iOS는 모두 유닉스 운영체제를 기반으로 만들어져 있다.</td>\n",
       "      <td>위키피디아</td>\n",
       "      <td>TODO</td>\n",
       "      <td>NaN</td>\n",
       "      <td>NaN</td>\n",
       "      <td>NaN</td>\n",
       "      <td>[8]</td>\n",
       "      <td>애플 컴퓨터는 누구의 업적을 기반으로 하고 있어?</td>\n",
       "    </tr>\n",
       "    <tr>\n",
       "      <th>2</th>\n",
       "      <td>백남준</td>\n",
       "      <td>현 서울특별시 종로구 서린동 (구 일제 강점기 경기도 경성부 서린정) 출신이다. 친일파인 아버지 백낙승과 어머니 조종희 사이의 3남 2녀 중 막내로 태어났다. 그후 종로구 창신동 197번지 소위 \"큰대문집\"에서 18세까지 살았다. 수송국민학교와 경기제1고등보통학교를 다니면서 피아니스트 신재덕에게 피아노 연주를, 작이건우]]에게 작곡을 각각 배웠다. 이때 한국이 낳은 작곡가 김순남을 사사했다. 1949년 그는 홍콩 로이덴 스쿨로 전학했으며, 한국 전쟁이 발발하기 이전 가족이 일본으로 이주했다. 그 후 일본으로 건너가 1952년 도쿄 대학교 문과부에 입학했다. 2년 후 미술사학 및 미학으로 전공을 정했지만, 실제로는 일본 당대의 작곡가 모로이 사부로, 미학자 노무라 요시오 등에게서 작곡과, 음악사학을 공부했다. 졸업 논문은 ‘아르놀트 쇤베르크 연구’이다.\\n\\n1956년 백남준은 졸업과 함께 독일로 유학을 떠나 뮌헨 대학교 및 쾰른 대학교 등에서 서양의 건축, 음악사, 철학 등을 공부하였다. 뮌헨 대학교 입학 1년 후에는 프라이부르크 국립 음악 대학교로 옮겨 볼프강 포르트너 교수에게 배우지만, 곧 쇤베르크 이후 현대음악의 실험이 활발히 진행되던 다름슈타트 하기 강좌에 참여했다. 1958년 그 곳에서 현대음악가 존 케이지를 만나 그의 음악에 대한 파괴적 접근과 자유정신으로부터 깊은 영감을 얻었다. 이 영감은 \"세계의 역사는 우리에게 알려준다. 주어진 게임에서 이길 수 없다면 규칙을 바꿔라\" 라는 것으로 규정된다. 이후 1950년대부터 활발해지기 시작한 독일 라인 지역의 액션뮤직의 현장에서 백남준은 ‘아시아에서 온 문화테러리스트’(앨런 카프로)라고 불릴 정도의 탁월한 퍼포먼스 아티스트로 활약했다. 1959년 ‘존 케이지에게 보내는 경의’에서 음악적 콜라주와 함께 피아노를 부수는 퍼포먼스를 선보이는 것을 시작으로, 바이올린을 단숨에 파괴하거나(바이올린 솔로) 존 케이지가 착용한 넥타이를 잘라버리는 퍼포먼스(피아노 포르테를 위한 연습곡)가 특히 유명하다. 이 초기 퍼포먼스에 대해 백남준은 스스로 \"충격, 표현주의, 낭만주의, 클라이맥스, 놀라움, 기타 등등을 보여준 것\"이라고 표현한 바 있다. 1961년 카를하인츠 슈토크하우젠의 음악 퍼포먼스 ‘오리기날레’에서 머리와 넥타이로 잉크를 묻혀 두루마리에 흔적을 남기는 독특한 퍼포먼스 심플 머리를 위한 선율을 보여주기도 했다. 1960년대 초반 조지 마키우나스, 요셉 보이스 등과 의기투합하여 플럭서스 활동을 함께 전개했다. 다다이즘에 영향을 받은 플럭서스는 헤라클레이투스가 주장한 ‘변화 생성의 흐름’ 이라는 개념을 받아들여 \"목적이 없는 자유, 실험을 위한 실험\"이라는 명목 하에 이벤트와 퍼포먼스 그리고 전위음악에 주력했고, 곧 유럽과 아시아 및 미국 등 세계로 퍼져나갔다.\\n\\n1961년 백남준은 작곡가 슈토크하우젠이 중심이 된 쾰른의 WDR 전자음악 스튜디오에 출입했으며, 이때 1950년대부터 노버트 위너에 의해 제안된 '사이버네틱스' 개념 하에서 전자공학을 공부한 것으로 알려져 있다. 특히 레이다와 TV 작업에 몰두했던 독일 작가 칼 오토 괴츠의 실패를 거울 삼아서 2년여 동안 홀로 TV를 활용한 미디어 아트로서의 가능성을 탐문하고 실험했다. 그 성과를 바탕으로 1963년 독일 부퍼탈 파르나스 갤러리에서 자신의 첫 번째 전시 ‘음악의 전시-전자 텔레비전’을 열었으며, 13대의 실험적인 TV를 통해 훗날 비디오 아트라고 불리게 되는 초기 형태를 보여주었다. 이 전시는 백남준이 자신의 즉흥음악 또는 무음악의 발상에 기초한 실제 퍼포먼스, 그 흔적과 결과물처럼 유럽에서 자신이 진행해온 작업의 성과와 함께 TV를 비롯한 미디어로 새로운 예술의 형태를 시도하는 작업이 공존하고 있었다. ‘적분된 피아노’, ‘랜덤 액세스 뮤직’, ‘레코드 샤슐릭’같은 20세기 전위음악에 젖줄을 대고 있는 실험적 음악의 시도와 ‘잘린 소머리’, ‘파괴된 누드 마네킹’, ‘보이스의 피아노 파괴 퍼포먼스’'걸음을 위한 선' '바람을 위한 선' 같은 우상파괴적 설치 작업 및 참여예술 형태의 퍼포먼스가 함께 펼쳐졌다. 청년 백남준은 이러한 전시 내용을 ‘동시성’, ‘참여’, ‘임의접속’ 등등에 관한 16개의 테마로써 정리하는 종합적인 큐레이팅 전시로 보여주었기 때문에 최근날짜=2015-5-9 독일, 오스트리아 등지의 연구자들 사이에서 이 전시의 중요성을 재평가하면서 아카이빙 작업과 연구가 점차 활발해지는 추세에 있다.\\n\\n1964년 백남준은 일본으로 건너가 '로봇 K-456'을 제작했으며, 곧 세계 예술의 중심지 뉴욕으로 이주했다. 뉴욕 언더그라운드 필름 운동의 중심지 중 하나였던 시네마테크 필름메이커스에 관여했으며, 스스로 영상 작업을 진행하기도 했다. 1965년 소니의 포타팩(세계 최초의 휴대용 비디오카메라)으로 미국 뉴욕을 첫 방문 중이던 교황 요한 바오로 6세를 촬영하여 곧바로 그 영상을 ‘카페 오 고고’에서 방영했다. 이것이 미술사에서는 한동안 공식적인 비디오 아트의 시작으로 기록되어 있었다. 지금은 1963년 첫번째 전시를 비디오아트의 기점으로 보고 있다. 또한 첼로 연주자이자 뉴욕 아방가르드 페스티벌의 기획자였던 샬럿 무어먼과 함께 비디오 아트와 음악을 혼합한 퍼포먼스 작업을 활발히 펼쳤다. 특히 1967년 음악에 성적인 코드를 집어넣은 백남준의 ‘오페라 섹스트로니크’에서 샬럿 무어먼은 누드 상태의 첼로 연주를 시도하다가 뉴욕 경찰에 체포되어 큰 사회적 파장을 불러일으켰다. 그 결과로 인해 예술 현장에서 누드를 처벌할 수 없다는 뉴욕의 법 개정이 이루어지는 획기적인 진전이 일어난다. 이후에도 미디어 아트가 미국 뉴욕을 중심으로 서서히 득세해가는 시대적 조류 속에서 두 사람은 ‘살아있는 조각을 위한 TV 브라’, ‘TV 첼로’, ‘TV 침대’ 등등 미디어 테크놀로지와 퍼포먼스를 결합한 많은 예술활동을 전개했다.\\n\\n1974년부터 백남준은 영상으로서의 비디오 아트를 새로운 미술적 방법인 설치 미술로 변환하여 다양하게 진행했으며, 그에 따라 ‘TV 붓다’, ‘달은 가장 오래된 TV다’, ‘TV 정원’, ‘TV 물고기’ 등등 많은 대표작을 선보였다. 이 작품들은 비디오 아트와 생명의 상징을 전자적으로 결합하여 테크놀로지로 물든 현대 사회의 새로운 합성적 생명력을 추구했다는 평판을 얻었다. 특히 'TV 붓다'는 그의 초기 비디오 설치의 경향을 잘 보여주는 대표작으로서 가장 널리 알려졌다. 1960년대 후반부터 미국의 문화적 환경이 미디어 테크놀로지에 호의적으로 변화하면서 폭발적인 수준의 미디어 전시가 빈발했고, 백남준의 비디오 아트는 그룹전 형태로 수많은 전시에 활발하게 참여했다. 1974년 뉴욕 에버슨 미술관 개인전과 함께 비데아 앤 비디올로지: 1959-1973이라는 예술과 기술을 교차시키는 하이브리드에 관한 저작을 내놓아 미디아 아트의 이해를 도왔으며, 1982년 뉴욕 휘트니 미술관에서 개최된 ‘백남준 회고전’을 통해 그의 예술 세계가 뉴욕을 중심으로 미국 사회에 많이 알려지는 계기가 되었다.\\n\\n1970년대 중반부터는 뉴욕 WNET 방송국, 보스턴 WGBH 방송국과 협력하여 자신의 비디오 아트를 공중파 TV에서 방송했고, 이는 네트워크 방송을 끌어들여 예술 세계의 영역 확장을 꾀한 놀라운 시도였다. 나아가 1984년 1월 1일 ‘굿모닝 미스터 오웰’은 세계적인 아티스트들의 퍼포먼스를 뉴욕 WNET 방송국과 파리 퐁피두 센터를 연결한 실시간 위성 생중계로 방송하여 전 세계적 반향을 불러일으켰다. 샌프란시스코와 서울까지 연결된 이 국제적인 규모의 위성 아트에는 로리 앤더슨, 피터 가브리엘, 오잉고 보잉고, 존 케이지, 요셉 보이스, 앨런 긴즈버그, 이브 몽탕 등의 예술가과 대중문화의 스타가 다수 참여했으며, 전 세계 2천 5백만명(재방송 포함)이 시청하였다. 이로써 전세계적인 차원의 대중적 각인이 이루어졌고, 마치 대중스타처럼 성가를 높였다. 이후에도 ‘위성 아트’ 3부작으로 명명된 ‘바이 바이 키플링’(1986), ‘손에 손잡고’(1988) 등이 이어져 위성 연결을 통한 전세계의 네트워크가 어떻게 새로운 부족사회를 낳는지 실감시켰다.\\n\\n1984년 일본 도쿄 소게쓰[草月]홀에서 백남준과 요셉 보이스가 공동으로 참여한 퍼포먼스 '코요테 콘서트 II'가 펼쳐졌으며, 이들이 각각 몽골의 늑대 울음소리와 초원의 달빛을 음악적으로 표현한 것을 통해 1961년 첫 만남부터 계속 이어온 공동의 관심사가 무엇인지 알려지기 시작했다. 그러나 이들의 이후 퍼포먼스 계획은 요셉 보이스의 죽음과 함께 미완으로 끝났다.\\n\\n1992년 '비디오 때, 비디오 땅' 전시는 독일 쿤스트 할레와 스위스 쮜리히에서 진행된 전시의 서울 투어전시로서 당시 과천 막계동에 자리잡은 지 몇 년 되지 않았던 국립현대미술관 과천관에 총 관람 인원 20만명이 찾은 첫번째 전시로 기록되었다. 이 전시의 주요한 작품은 '나의 파우스트' 시리즈이다. 1993년 백남준은 독일 작가 한스 하케와 함께 베니스 비엔날레 독일관 작가로 초대되어 국가전시관 부문에서 황금사자상을 수상했다. '문명의 동서남북'이라는 주제의 이 전시에서 그는 북방 유라시아의 유목 문화를 배경으로 전자적 소통을 시도하는 비디오 로봇 형태의‘칭기스칸의 복권’, ‘마르크폴로’, ‘훈족의 왕 아틸라’,‘스키타이의 왕 단군’, ‘로봇 전사’, ‘고대기마인물상’ 같은 작품들을 중심으로 다수의 작품을 내놓았다.\\n\\n1995년 백남준은 제1회 광주 비엔날레 태동의 산파 역할을 하며, 한국 미술이 국제적으로 진출할 수 있도록 조력자 역할을 수행했다. 제1회 광주 비엔날레는 국내외 총 관람객이 160만 명에 달하는 성공을 거두었고, 특히 백남준이 직접 관여한 ‘INFO Art’전이 주목받았다. 또한 백남준은 같은 해 베니스 비엔날레 국가전시관 부문에 한국관을 설치하는 일에 결정적인 역할을 했다. 이로써 한국 미술이 세계 미술계에 진출하는 교두보가 마련되었다고 하겠다. 같은 해 그의 예술적 정수가 담긴 일렉트로닉 수퍼하이웨이 전시를 진행했다. 1996년 4월 9일 뇌졸중으로 쓰러졌으며, 6개월만인 그해 10월에 재기했다. 2000년 뉴욕 구겐하임 미술관에서 ‘백남준의 세계’ 라는 대규모 회고전이 열렸으며, 이때 백남준은 레이저 아트 ‘야곱의 사다리’, ‘삼원소’ 등을 전시한 바 있다.\\n\\n2006년 1월 29일, 미국 마이애미의 자택에서 노환으로 75세로 별세, 유해가 서울, 뉴욕, 독일에 나눠서 안치되었다.</td>\n",
       "      <td>위키피디아</td>\n",
       "      <td>TODO</td>\n",
       "      <td>NaN</td>\n",
       "      <td>NaN</td>\n",
       "      <td>NaN</td>\n",
       "      <td>[2]</td>\n",
       "      <td>1966년 졸업과 함께 독일로 유학을 떠나 뮌헨 대학교 및 쾰른 대학교 등에서 서양의 건축, 음악사, 철학 등을 공부한 사람은?</td>\n",
       "    </tr>\n",
       "    <tr>\n",
       "      <th>3</th>\n",
       "      <td>아오조라 문고</td>\n",
       "      <td>아오조라 문고(靑空文庫, あおぞらぶんこ|아오조라 분고)는 ‘일본어판 구텐베르크 프로젝트’로 불리는 일본의 인터넷 전자도서관으로, 저작권이 풀린 문학작품을 수집, 전자문서화해서 인터넷에 공개하고 있다. 저자 사후 50년이 지난 메이지, 쇼와 시대 초기의 일본 문학 작품이 그 대부분을 차지하고 있고, 일본어 외 문학 작품의 일본어 번역 작품도 다수 있다. 1997년 2월 도미타 미치오, 노구치 에이치, 야마키 미에, 란무로 사테이 등 4명이 창설하여 시작되었다.  2016년 연간 방문객수는 940만 건 이상이다. \\n\\n아오조라 문고에 수록된 작품은 JIS X 0208에 해당되는 한자 범위 내에서 자원봉사자에 의해 아오조라 문고 형식 텍스트파일이나 HTML 파일로 전자화된다. 또 아오조라 문고 수록파일 취급기준에 따라 자유롭게 이용할 수 있기 때문에, 수록된 작품을 PC는 물론 PDA와 휴대전화로도 볼 수 있다. 텍스트 파일을 큰 글자로 인쇄하거나 전용 소프트웨어에 불러들여 시각장애인용으로 이용하는 방안도 기대되고 있다. 아오조라 문고의 열람 소프트웨어는 따로 개발 및 제공되고 있는 것은 없지만, 전자사전이나 아이폰용 어플리케이션 등은 타사에서 개발하여 출시되어 있다 저자 사망 이후 50년이 지나 저작권이 소멸한 메이지 시대부터 쇼와 시대 초기까지의 서적 대부분이 존재한다. 외국 번역작품이나 저자가 무료보기를 인정한 현대작품도 포함된다. 장르는 정치부터 취미까지 다양하지만, 비교적 문학작품(시대소설, 추리소설등의 오락작품 포함)이 많다. 유명작가의 작품이 모두 갖춰져있진 않지만 그래도 일본어작품에 관련해서는 충실하게 갖춰진 편이다. (번역작품의 경우 번역저작권을 문제로 수가 많지 않다.)\\n\\n잘 알려지지 않은 작품을 보존, 소개하는 장점도 있다. 작품 텍스트화는 지금도 현재진행형이며 2011년 3월 15일 현재 등록작품수가 1만권이 넘었다.\\n고전작가인 모리 오가이, 나츠메 소세키, 아쿠타가와 류노스케, 최근의 작가로는 나카지마 아츠시, 다자이 오사무, 하야시 후미코, 미야모토 유리코, 호리 다쓰오, 사카구치 안고, 다카무라 고타로, 나가이 가후, 요시카와 에이지 등 인물의 작품이 있다. 아오조라 문고는 자원봉사로 운영되며 열람 역시 무료이다.  서비스 개시 초반에는 보이저 사에서 서버를 제공하였다.  1998년부터 1999년까지는 토미타가 작업 수칙과 매뉴얼을 만들었다. \\n\\n자원봉사로 운영되기 때문에 작품의 입력과 교정 역시 자원봉사자가 한다 입력은 원본을 보면서 타자입력이나 스캐너로 입력하는 방법으로 이뤄진다 또 작품을 입력하는 '입력자'와 입력된 작품을 교정하는 '교정자'는 별도의 자원봉사자가 담당한다.  따라서 작품이 공개되기 전까지는 작품을 입력한 뒤 교정자가 교정을 예약할 때까지 '교정대기' (校正待ち)가 되고, 작업을 멈추게 된다. 즉, 입력하는 자원봉사자가 작품을 입력해 교정을 맡은 자원봉사자가 교정예약을 해서, 교정작업을 완료하기 전까지는 작품을 공개할 수 없다. 때문에 입력이 완료되어도 작업 상태가 '교정대기' 상태인 작품이 증가하고\\n있다.  이는 입력에 비해 교정 작업이 부족하기 때문으로, 아오조라 문고 출범 당시부터 안고 있는 문제점이기도 하다. 이 문제에 대해서는 작품의 교정작업을 하지 않고 공개하는 방안과 입력자가 교정한 것도 인정하자는 방안이 제기된 적이 있지만 현재까지도 이 방안은 채택되지 못하고 있다 대신 2011년 12월 16일 공개분부터는 기부금을 재원으로 삼은 '유상교정' 서비스가 진행되고 있다. \\n\\n2013년 8월 아오조라 문고의 설립자인 토미타가 사망한 것을 계기로, 아오조라 문고에 지속적인 지원을 해줄 '책의 미래 기금' (本の未来基金)이 설립됐다.  하지만 2015년부터는 엔지니어가 없는 상태로 서버를 강제로 돌리고 있으며, 서버 자체도 노후화되고 있다는 점이 문제되고 있다. 이 때문에 2015년 5월 \"'Code for 아오조라 문고' 아이디어 송\"이 개최되어 향후 시스템 운용에 대한 의견 교환이 이뤄졌다.  그 이후에는 해당 모임을 바탕으로 시스템 관리와 코드수정 등을 맡는 'aozorahack' 프로젝트가 진행되고 있다. 텍스트 파일을 아오조라 문고에 수록할 때, 텍스트 파일이 갖추어야 할 서식을 '아오조라 문고' 형식이라 부른다.\\n\\n아오조라 문고 형식은 텍스트 파일로서 많은 환경에서 읽을 수 있도록 규격화되어있다. 때문에 가능한 한 원본의 충실한 재현을 목표로 삼고 있지만, 줄 바꿈이나 삽화 등의 정보는 원칙적으로 포함되지 않는다.\\n\\n아오조라 문고 형식에 대응하는 텍스트 뷰어와 텍스트 편집기도 존재하며, 올림문자와 방점 등도 재현할 수 있다. 또 이러한 텍스트 뷰어에서는 본래 아오조라 문고 형식에 포함되지 않았던 삽화 정보를 삽입하거나 세로쓰기로 표시할 수 있으며, 텍스트를 읽기 쉽도록 만드는 다양한 기능이 포함되어 있다. 이러한 소프트웨어는 유료와 무료를 불문하고 종류가 다양하다. 일본어 표기에 많이 쓰이는 올림문자 (후리가나)는 그대로 올려쓰지 않고 '｜'나 '《》'로 표시한다.  올림문자를 《》 로 묶거나 ｜로 올릴 문자열을 특정하는 방식은 일본 시각장애인 독서지원협회 (BBA) 의 원문입력 수칙에 따른 것이다.  \\n\\n이 같은 방식을 예시로 들자면 다음과 같다.\\n:青空｜文庫《ぶんこ》 아오조라 문고\\n라고 표기했다면 'ぶんこ' (분코)라는 올림표기가 '文庫' 부분에 걸려 있는 것이다. 다만,\\n:本日は晴天《せいてん》なり。 오늘은 맑은 하늘.\\n처럼 올림표기를 쓸 한자가 가나로 충분히 구분된다면 ｜를 써서 분리할 필요가 없으므로 쓰지 않는다. 또한,\\n:｜ブルースカイ《青空》 블루스카이 (\"청공\")\\n처럼 가나에 올림표기를 강제로 쓰는 것도 가능하다.</td>\n",
       "      <td>위키피디아</td>\n",
       "      <td>TODO</td>\n",
       "      <td>NaN</td>\n",
       "      <td>NaN</td>\n",
       "      <td>NaN</td>\n",
       "      <td>[3, 4, 5, 6, 7]</td>\n",
       "      <td>일본어판 구텐베르크 프로젝트로 불리는 일본의 인터넷 전자도서관이 어디지?</td>\n",
       "    </tr>\n",
       "    <tr>\n",
       "      <th>4</th>\n",
       "      <td>주기율표</td>\n",
       "      <td>주기율표(週期律表, 주기률표, periodic table) 또는 주기표(週期表)는 원소를 구분하기 쉽게 성질에 따라 배열한 표로, 러시아의 드미트리 멘델레예프가 처음 제안했다. 1913년 헨리 모즐리는 멘델레예프의 주기율표를 개량시켜서 원자번호순으로 배열했는데, 이는 현대의 원소 주기율표와 유사하다.\\n가장 많이 쓰이는 주기율표에는 단주기형과 장주기형이 있다. 단주기형 주기율표는 1주기와 3주기를 기준으로 하고, 4주기 아래로는 전형원소와 전이원소가 같은 칸에 있다. 이 단주기형 주기율표는 초기에 쓴 모델로 원자가 많이 알려지지 않았을 때 많이 사용하였다. 장주기형 주기율표는 현재 가장 많이 쓰고 있는 주기율표이다.</td>\n",
       "      <td>위키피디아</td>\n",
       "      <td>TODO</td>\n",
       "      <td>NaN</td>\n",
       "      <td>NaN</td>\n",
       "      <td>NaN</td>\n",
       "      <td>[9]</td>\n",
       "      <td>원소를 구분하기 쉽게 성질에 따라 배열한 표가 뭐야?</td>\n",
       "    </tr>\n",
       "  </tbody>\n",
       "</table>\n",
       "</div>"
      ],
      "text/plain": [
       "     title  \\\n",
       "0    나라 목록   \n",
       "1   데니스 리치   \n",
       "2      백남준   \n",
       "3  아오조라 문고   \n",
       "4     주기율표   \n",
       "\n",
       "                                                                                                                                                                                                                                                                                                                                                                                                                                                                                                                                                                                                                                                                                                                                                                                                                                                                                                                                                                                                                                                                                                                                                                                                                                                                                                                                                                                                                                                                                                                                                                                                                                                                                                                                                                                                                                                                                                                                                                                                                                                                                                                                                                                                                                                                                                                                                                                                                                                                                                                                                                                                                                                                                                                                                                                                                                                                                                                                                                                                                                                                                                                                                                                                                                                                                                                                                                                                                                                                                                                                                                                                                                                                                                                                                                                                                                                                                                                                                                                                                                                                                                                                                                                                                                                                                                                                                                                                                                                                                                                                                                                                                                                                                                                                                                                                                                                                                                                                                                                                                                                                                                                                                                                                                                                                                             text  \\\n",
       "0                                                                                                                                                                                                                                                                                                                                                                                                                                                                                                                                                                                                                                                                                                                                                                                                                                                                                                                                                                                                                                                                                                                                                                                                                                                                                                                                                                                                                                                                                                                                                                                                                                                                                                                                                                                                                                                                                                                                                                                                                                                                                                                                                                                                                                                                                                                                                                                                                     이 문서는 나라 목록이며, 전 세계 206개 나라의 각 현황과 주권 승인 정보를 개요 형태로 나열하고 있다.\\n\\n이 목록은 명료화를 위해 두 부분으로 나뉘어 있다.\\n\\n# 첫 번째 부분은 바티칸 시국과 팔레스타인을 포함하여 유엔 등 국제 기구에 가입되어 국제적인 승인을 널리 받았다고 여기는 195개 나라를 나열하고 있다.\\n# 두 번째 부분은 일부 지역의 주권을 사실상 (데 팍토) 행사하고 있지만, 아직 국제적인 승인을 널리 받지 않았다고 여기는 11개 나라를 나열하고 있다.\\n\\n두 목록은 모두 가나다 순이다.\\n\\n일부 국가의 경우 국가로서의 자격에 논쟁의 여부가 있으며, 이 때문에 이러한 목록을 엮는 것은 매우 어렵고 논란이 생길 수 있는 과정이다. 이 목록을 구성하고 있는 국가를 선정하는 기준에 대한 정보는 \"포함 기준\" 단락을 통해 설명하였다. 나라에 대한 일반적인 정보는 \"국가\" 문서에서 설명하고 있다. 이 목록에 실린 국가 기준은 1933년 몬테비데오 협약 1장을 참고로 하였다. 협정에 따르면, 국가는 다음의 조건을 만족해야 한다.\\n* (a) 영속적인 국민\\n* (b) 일정한 영토\\n* (c) 정부\\n* (d) 타국과의 관계 참여 자격.\\n특히, 마지막 조건은 국제 공동체의 참여 용인을 내포하고 있기 때문에, 다른 나라의 승인이 매우 중요한 역할을 할 수 있다.  이 목록에 포함된 모든 국가는 보통 이 기준을 만족하는 것으로 보이는 자주적이고 독립적인 국가이다. 하지만 몬테비데오 협약 기준을 만족하는지의 여부는 많은 국가가 논쟁이 되고 있는 실정이다. 또한, 몬테비데오 협약 기준만이 국가 지위의 충분한 자격이든 아니든, 국제법의 견해 차이는 존재할 수 있다. 이 물음에 대한 다른 이론에 대한 고리는 아래에서 볼 수 있다.\\n\\n위 기준에 논거하여 이 목록은 다음 206개 국가를 포함하고 있다.\\n* 일반 국제 승인을 받은 195개 자주 국가.\\n** 유엔 가입 국가 193개\\n** 성좌의 명칭으로 유엔에서 국제 승인을 받은 국가: 바티칸 시국\\n** 팔레스타인지역에 위치하며 유엔 영구 옵서버 국가: 팔레스타인\\n* 유엔의 가입국이 아니며, 일반 국제 승인을 받지 않은 11개 자주 국가.\\n** 유엔 회원국으로부터 승인을 받은 8개 국가: 남오세티야, 니우에, 북키프로스 튀르크 공화국, 사하라 아랍 민주 공화국, 압하지야, 중화민국, 코소보, 쿡 제도,\\n** 유엔 비회원국으로부터 승인을 받은 2개 국가: 아르차흐 공화국, 트란스니스트리아\\n** 어떤 나라에서도 승인 받지 않은 국가: 소말릴란드\\n\\n위 목록에 포함되지 않은 다음 국가는 몬테비데오 협약의 모든 조건을 만족하지 못하거나, 자주적이고 독립적임을 주장하지 않는 국가이다.\\n* 남극 대륙 전체는 정부와 영속 인구가 없다. 7개 국가가 남극 대륙 일부를 차지하고 있으며, 이중 5개 국가가 서로의 영유권을 인정하고 있다.  남극 조약에 따라서 규제되는 이 권리는 어떤 나라에서도 승인을 받지 않았다. \\n* EU 유럽 연합은 27개 가입 국가를 보유한 독특한 초국가 기구이다. 가입 국가는 입법권, 행정권, 사법권 기준을 유럽 연합 위원회로 이양하며, 유럽 연합은 엄밀히 말해 일반적인 주권 국가 간주와 관계 없이 주권 국가로의 특징을 가지고 있다. 유럽 연합은 주권 국가를 주장하지 않으며, 다른 나라와의 관계에서 제한된 지위를 가지고 있다.\\n* 미국과 오스트레일리아, 기타 국가에서 주 (State)라고 칭하는 행정 구역은 주 (행정 구역)을 참고하라. 이러한 하부 국가 개념의 행정 구역은 일부를 제외하고는 다른 나라와 관계를 형성하지 않는다. 예를 들어서 독일 제국의 주는 해외 영사관을 가졌으며, 소비에트 연방의 한 부분이었던 우크라이나 소비에트 사회주의 공화국 (현재의 우크라이나)과 벨로루시 소비에트 사회주의 공화국 (현재의 벨라루스)는 유엔 가입국이었다. 무엇보다 중요한 것은, 이러한 주들은 자주적이고 독립적임을 주장하지 않는다는 것이다.\\n* 몰타 기사단 몰타 기사단은 \"총회에 유효 참관국 자격으로 참여할 수 있으며, 본부에서 영속적인 지위를 유지하는 기타 국가\" 분류에 속하는 유엔 참관 국가이다.  이 단체는 104개 국가와 쌍방 외교 관계를 맺고 있으나, 로마 내의 치외 법권 영역 이외에는 일정한 영토가 없다.  단체의 웹사이트에서는 \"항상 국가에게 국제법의 독립 주체로 인정 받는다.\"고 선언하고 있다.  기사단의 헌법 에서는 다음과 같이 설명하고 있다. \"기사단은 국제법의 주체이며, 주권 기능을 행사한다.\"  기사단은 자주 주권을 주장하고 있지만, 이름에서 볼 수 있듯이 주권 국가라고 주장하지는 않는다. 다른 대사관처럼 이탈리아는 이론상 기사단과 외교 관계를 파기할 수 있으며, 이탈리아 국민이 아닌 단원을 이탈리아 영토에서 강제로 추방할 수 있다. 기사단의 단원은 모두 다른 나라의 국민이기 때문에, 사실상 이들은 모두 자신의 국가에서 살고 있으며, 로마에서 기사단의 치외 법권 영역에 거주하는 단원은 오직 공식 직무에만 연관하여 활동한다. 따라서, 기사단은 영속적인 국민의 특성이 부족하다고 볼 수 있다.\\n* 마이크로네이션으로 여겨지는 국가는 자주적이고 독립적이라고 주장하고, 다른 나라와 외교 관계를 맺고자 시도하여도 포함하지 않았다. 마이크로네이션이 정말로 점유한 영토를 지배하는지, 마이크로네이션의 '인구' 감소 빈도가 낮은 지의 여부는 논쟁이 되고 있다.\\n* ISIS 등은 다른 나라들 못지 않은 영역을 두고 있으며 스스로를 \"나라\"라고 자처하지만, 국제법상 주권이 결여되어 있으며 국제법에 위배되는 테러리즘을 일삼아 '나라'로 간주되지도 않는다. 다만 준국가로 분류한다.   \n",
       "1                                                                                                                                                                                                                                                                                                                                                                                                                                                                                                                                                                                                                                                                                                                                                                                                                                                                                                                                                                                                                                                                                                                                                                                                                                                                                                                                                                                                                                                                                                                                                                                                                                                                                                                                                                                                                                                                                                                                                                                                                                                                                                                                                                                                                                                                                                                                                                                                                                                                                                                                                                                                                                                                                                                                                                                                                                                                                                                                                                                                                                                                                                                                                                                                                                                                                                                                                                                                                                                                                                                                                                                                                                                                                                                                                                                                                                                                                                                                                                                                                                                                                                                                                                                                                                                                                                                                                                                                                                                                                                                                                                                                                                                                                                                                                 켄 톰슨(Ken Thompson) 등과 함께 최초의 유닉스(Unix) 시스템을 개발했고, 1971년 최초의 〈Unix Programmer's Manual〉을 썼다. 또한 C 언어를 개발한 후 브라이언 커니핸과 함께 〈C 프로그래밍 언어〉(The C Programming Language)를 기술했다. 커니핸과 〈C 프로그래밍 언어〉책을 썼기에 커니핸이 C 언어 개발에 참여한 것으로 종종 오해받으나 커니핸의 말에 따르면 자신은 C언어 개발에 참여하지 않았다고 한다.\\n\\nALTRAN, B언어, BCPL, Multics 등의 개발에도 영향을 끼친 것으로도 알려져 있다.\\n\\n1983년에 켄 톰프슨과 \"범용 운영체제 이론개발, 특히 유닉스 운영체제의 구현에 대한 공로\"로 튜링상을 수상했다.\\n\\n미국의 경제 전문지 '비즈니스 인사이더'에서는 '현재의 애플 컴퓨터는 거의 모두 데니스 리치의 업적에 기반하고 있다'이라며 그의 업적을 평가했다.  현재 애플 매킨토시의 OS X와 아이폰의 iOS는 모두 유닉스 운영체제를 기반으로 만들어져 있다.   \n",
       "2  현 서울특별시 종로구 서린동 (구 일제 강점기 경기도 경성부 서린정) 출신이다. 친일파인 아버지 백낙승과 어머니 조종희 사이의 3남 2녀 중 막내로 태어났다. 그후 종로구 창신동 197번지 소위 \"큰대문집\"에서 18세까지 살았다. 수송국민학교와 경기제1고등보통학교를 다니면서 피아니스트 신재덕에게 피아노 연주를, 작이건우]]에게 작곡을 각각 배웠다. 이때 한국이 낳은 작곡가 김순남을 사사했다. 1949년 그는 홍콩 로이덴 스쿨로 전학했으며, 한국 전쟁이 발발하기 이전 가족이 일본으로 이주했다. 그 후 일본으로 건너가 1952년 도쿄 대학교 문과부에 입학했다. 2년 후 미술사학 및 미학으로 전공을 정했지만, 실제로는 일본 당대의 작곡가 모로이 사부로, 미학자 노무라 요시오 등에게서 작곡과, 음악사학을 공부했다. 졸업 논문은 ‘아르놀트 쇤베르크 연구’이다.\\n\\n1956년 백남준은 졸업과 함께 독일로 유학을 떠나 뮌헨 대학교 및 쾰른 대학교 등에서 서양의 건축, 음악사, 철학 등을 공부하였다. 뮌헨 대학교 입학 1년 후에는 프라이부르크 국립 음악 대학교로 옮겨 볼프강 포르트너 교수에게 배우지만, 곧 쇤베르크 이후 현대음악의 실험이 활발히 진행되던 다름슈타트 하기 강좌에 참여했다. 1958년 그 곳에서 현대음악가 존 케이지를 만나 그의 음악에 대한 파괴적 접근과 자유정신으로부터 깊은 영감을 얻었다. 이 영감은 \"세계의 역사는 우리에게 알려준다. 주어진 게임에서 이길 수 없다면 규칙을 바꿔라\" 라는 것으로 규정된다. 이후 1950년대부터 활발해지기 시작한 독일 라인 지역의 액션뮤직의 현장에서 백남준은 ‘아시아에서 온 문화테러리스트’(앨런 카프로)라고 불릴 정도의 탁월한 퍼포먼스 아티스트로 활약했다. 1959년 ‘존 케이지에게 보내는 경의’에서 음악적 콜라주와 함께 피아노를 부수는 퍼포먼스를 선보이는 것을 시작으로, 바이올린을 단숨에 파괴하거나(바이올린 솔로) 존 케이지가 착용한 넥타이를 잘라버리는 퍼포먼스(피아노 포르테를 위한 연습곡)가 특히 유명하다. 이 초기 퍼포먼스에 대해 백남준은 스스로 \"충격, 표현주의, 낭만주의, 클라이맥스, 놀라움, 기타 등등을 보여준 것\"이라고 표현한 바 있다. 1961년 카를하인츠 슈토크하우젠의 음악 퍼포먼스 ‘오리기날레’에서 머리와 넥타이로 잉크를 묻혀 두루마리에 흔적을 남기는 독특한 퍼포먼스 심플 머리를 위한 선율을 보여주기도 했다. 1960년대 초반 조지 마키우나스, 요셉 보이스 등과 의기투합하여 플럭서스 활동을 함께 전개했다. 다다이즘에 영향을 받은 플럭서스는 헤라클레이투스가 주장한 ‘변화 생성의 흐름’ 이라는 개념을 받아들여 \"목적이 없는 자유, 실험을 위한 실험\"이라는 명목 하에 이벤트와 퍼포먼스 그리고 전위음악에 주력했고, 곧 유럽과 아시아 및 미국 등 세계로 퍼져나갔다.\\n\\n1961년 백남준은 작곡가 슈토크하우젠이 중심이 된 쾰른의 WDR 전자음악 스튜디오에 출입했으며, 이때 1950년대부터 노버트 위너에 의해 제안된 '사이버네틱스' 개념 하에서 전자공학을 공부한 것으로 알려져 있다. 특히 레이다와 TV 작업에 몰두했던 독일 작가 칼 오토 괴츠의 실패를 거울 삼아서 2년여 동안 홀로 TV를 활용한 미디어 아트로서의 가능성을 탐문하고 실험했다. 그 성과를 바탕으로 1963년 독일 부퍼탈 파르나스 갤러리에서 자신의 첫 번째 전시 ‘음악의 전시-전자 텔레비전’을 열었으며, 13대의 실험적인 TV를 통해 훗날 비디오 아트라고 불리게 되는 초기 형태를 보여주었다. 이 전시는 백남준이 자신의 즉흥음악 또는 무음악의 발상에 기초한 실제 퍼포먼스, 그 흔적과 결과물처럼 유럽에서 자신이 진행해온 작업의 성과와 함께 TV를 비롯한 미디어로 새로운 예술의 형태를 시도하는 작업이 공존하고 있었다. ‘적분된 피아노’, ‘랜덤 액세스 뮤직’, ‘레코드 샤슐릭’같은 20세기 전위음악에 젖줄을 대고 있는 실험적 음악의 시도와 ‘잘린 소머리’, ‘파괴된 누드 마네킹’, ‘보이스의 피아노 파괴 퍼포먼스’'걸음을 위한 선' '바람을 위한 선' 같은 우상파괴적 설치 작업 및 참여예술 형태의 퍼포먼스가 함께 펼쳐졌다. 청년 백남준은 이러한 전시 내용을 ‘동시성’, ‘참여’, ‘임의접속’ 등등에 관한 16개의 테마로써 정리하는 종합적인 큐레이팅 전시로 보여주었기 때문에 최근날짜=2015-5-9 독일, 오스트리아 등지의 연구자들 사이에서 이 전시의 중요성을 재평가하면서 아카이빙 작업과 연구가 점차 활발해지는 추세에 있다.\\n\\n1964년 백남준은 일본으로 건너가 '로봇 K-456'을 제작했으며, 곧 세계 예술의 중심지 뉴욕으로 이주했다. 뉴욕 언더그라운드 필름 운동의 중심지 중 하나였던 시네마테크 필름메이커스에 관여했으며, 스스로 영상 작업을 진행하기도 했다. 1965년 소니의 포타팩(세계 최초의 휴대용 비디오카메라)으로 미국 뉴욕을 첫 방문 중이던 교황 요한 바오로 6세를 촬영하여 곧바로 그 영상을 ‘카페 오 고고’에서 방영했다. 이것이 미술사에서는 한동안 공식적인 비디오 아트의 시작으로 기록되어 있었다. 지금은 1963년 첫번째 전시를 비디오아트의 기점으로 보고 있다. 또한 첼로 연주자이자 뉴욕 아방가르드 페스티벌의 기획자였던 샬럿 무어먼과 함께 비디오 아트와 음악을 혼합한 퍼포먼스 작업을 활발히 펼쳤다. 특히 1967년 음악에 성적인 코드를 집어넣은 백남준의 ‘오페라 섹스트로니크’에서 샬럿 무어먼은 누드 상태의 첼로 연주를 시도하다가 뉴욕 경찰에 체포되어 큰 사회적 파장을 불러일으켰다. 그 결과로 인해 예술 현장에서 누드를 처벌할 수 없다는 뉴욕의 법 개정이 이루어지는 획기적인 진전이 일어난다. 이후에도 미디어 아트가 미국 뉴욕을 중심으로 서서히 득세해가는 시대적 조류 속에서 두 사람은 ‘살아있는 조각을 위한 TV 브라’, ‘TV 첼로’, ‘TV 침대’ 등등 미디어 테크놀로지와 퍼포먼스를 결합한 많은 예술활동을 전개했다.\\n\\n1974년부터 백남준은 영상으로서의 비디오 아트를 새로운 미술적 방법인 설치 미술로 변환하여 다양하게 진행했으며, 그에 따라 ‘TV 붓다’, ‘달은 가장 오래된 TV다’, ‘TV 정원’, ‘TV 물고기’ 등등 많은 대표작을 선보였다. 이 작품들은 비디오 아트와 생명의 상징을 전자적으로 결합하여 테크놀로지로 물든 현대 사회의 새로운 합성적 생명력을 추구했다는 평판을 얻었다. 특히 'TV 붓다'는 그의 초기 비디오 설치의 경향을 잘 보여주는 대표작으로서 가장 널리 알려졌다. 1960년대 후반부터 미국의 문화적 환경이 미디어 테크놀로지에 호의적으로 변화하면서 폭발적인 수준의 미디어 전시가 빈발했고, 백남준의 비디오 아트는 그룹전 형태로 수많은 전시에 활발하게 참여했다. 1974년 뉴욕 에버슨 미술관 개인전과 함께 비데아 앤 비디올로지: 1959-1973이라는 예술과 기술을 교차시키는 하이브리드에 관한 저작을 내놓아 미디아 아트의 이해를 도왔으며, 1982년 뉴욕 휘트니 미술관에서 개최된 ‘백남준 회고전’을 통해 그의 예술 세계가 뉴욕을 중심으로 미국 사회에 많이 알려지는 계기가 되었다.\\n\\n1970년대 중반부터는 뉴욕 WNET 방송국, 보스턴 WGBH 방송국과 협력하여 자신의 비디오 아트를 공중파 TV에서 방송했고, 이는 네트워크 방송을 끌어들여 예술 세계의 영역 확장을 꾀한 놀라운 시도였다. 나아가 1984년 1월 1일 ‘굿모닝 미스터 오웰’은 세계적인 아티스트들의 퍼포먼스를 뉴욕 WNET 방송국과 파리 퐁피두 센터를 연결한 실시간 위성 생중계로 방송하여 전 세계적 반향을 불러일으켰다. 샌프란시스코와 서울까지 연결된 이 국제적인 규모의 위성 아트에는 로리 앤더슨, 피터 가브리엘, 오잉고 보잉고, 존 케이지, 요셉 보이스, 앨런 긴즈버그, 이브 몽탕 등의 예술가과 대중문화의 스타가 다수 참여했으며, 전 세계 2천 5백만명(재방송 포함)이 시청하였다. 이로써 전세계적인 차원의 대중적 각인이 이루어졌고, 마치 대중스타처럼 성가를 높였다. 이후에도 ‘위성 아트’ 3부작으로 명명된 ‘바이 바이 키플링’(1986), ‘손에 손잡고’(1988) 등이 이어져 위성 연결을 통한 전세계의 네트워크가 어떻게 새로운 부족사회를 낳는지 실감시켰다.\\n\\n1984년 일본 도쿄 소게쓰[草月]홀에서 백남준과 요셉 보이스가 공동으로 참여한 퍼포먼스 '코요테 콘서트 II'가 펼쳐졌으며, 이들이 각각 몽골의 늑대 울음소리와 초원의 달빛을 음악적으로 표현한 것을 통해 1961년 첫 만남부터 계속 이어온 공동의 관심사가 무엇인지 알려지기 시작했다. 그러나 이들의 이후 퍼포먼스 계획은 요셉 보이스의 죽음과 함께 미완으로 끝났다.\\n\\n1992년 '비디오 때, 비디오 땅' 전시는 독일 쿤스트 할레와 스위스 쮜리히에서 진행된 전시의 서울 투어전시로서 당시 과천 막계동에 자리잡은 지 몇 년 되지 않았던 국립현대미술관 과천관에 총 관람 인원 20만명이 찾은 첫번째 전시로 기록되었다. 이 전시의 주요한 작품은 '나의 파우스트' 시리즈이다. 1993년 백남준은 독일 작가 한스 하케와 함께 베니스 비엔날레 독일관 작가로 초대되어 국가전시관 부문에서 황금사자상을 수상했다. '문명의 동서남북'이라는 주제의 이 전시에서 그는 북방 유라시아의 유목 문화를 배경으로 전자적 소통을 시도하는 비디오 로봇 형태의‘칭기스칸의 복권’, ‘마르크폴로’, ‘훈족의 왕 아틸라’,‘스키타이의 왕 단군’, ‘로봇 전사’, ‘고대기마인물상’ 같은 작품들을 중심으로 다수의 작품을 내놓았다.\\n\\n1995년 백남준은 제1회 광주 비엔날레 태동의 산파 역할을 하며, 한국 미술이 국제적으로 진출할 수 있도록 조력자 역할을 수행했다. 제1회 광주 비엔날레는 국내외 총 관람객이 160만 명에 달하는 성공을 거두었고, 특히 백남준이 직접 관여한 ‘INFO Art’전이 주목받았다. 또한 백남준은 같은 해 베니스 비엔날레 국가전시관 부문에 한국관을 설치하는 일에 결정적인 역할을 했다. 이로써 한국 미술이 세계 미술계에 진출하는 교두보가 마련되었다고 하겠다. 같은 해 그의 예술적 정수가 담긴 일렉트로닉 수퍼하이웨이 전시를 진행했다. 1996년 4월 9일 뇌졸중으로 쓰러졌으며, 6개월만인 그해 10월에 재기했다. 2000년 뉴욕 구겐하임 미술관에서 ‘백남준의 세계’ 라는 대규모 회고전이 열렸으며, 이때 백남준은 레이저 아트 ‘야곱의 사다리’, ‘삼원소’ 등을 전시한 바 있다.\\n\\n2006년 1월 29일, 미국 마이애미의 자택에서 노환으로 75세로 별세, 유해가 서울, 뉴욕, 독일에 나눠서 안치되었다.   \n",
       "3                                                                                                                                                                                                                                                                                                                                                                                                                                                                                                                                                                                                                                                                                                                                                                                                                                                                                                                                                                                                                                                                                                                                                                                                                                                                                                                                                                                                                                                                                                                                                                                                                                                                                                                                                                                                                                                                                                                                                                                                                                                                                                                                                                                                                                                                                                                                                                               아오조라 문고(靑空文庫, あおぞらぶんこ|아오조라 분고)는 ‘일본어판 구텐베르크 프로젝트’로 불리는 일본의 인터넷 전자도서관으로, 저작권이 풀린 문학작품을 수집, 전자문서화해서 인터넷에 공개하고 있다. 저자 사후 50년이 지난 메이지, 쇼와 시대 초기의 일본 문학 작품이 그 대부분을 차지하고 있고, 일본어 외 문학 작품의 일본어 번역 작품도 다수 있다. 1997년 2월 도미타 미치오, 노구치 에이치, 야마키 미에, 란무로 사테이 등 4명이 창설하여 시작되었다.  2016년 연간 방문객수는 940만 건 이상이다. \\n\\n아오조라 문고에 수록된 작품은 JIS X 0208에 해당되는 한자 범위 내에서 자원봉사자에 의해 아오조라 문고 형식 텍스트파일이나 HTML 파일로 전자화된다. 또 아오조라 문고 수록파일 취급기준에 따라 자유롭게 이용할 수 있기 때문에, 수록된 작품을 PC는 물론 PDA와 휴대전화로도 볼 수 있다. 텍스트 파일을 큰 글자로 인쇄하거나 전용 소프트웨어에 불러들여 시각장애인용으로 이용하는 방안도 기대되고 있다. 아오조라 문고의 열람 소프트웨어는 따로 개발 및 제공되고 있는 것은 없지만, 전자사전이나 아이폰용 어플리케이션 등은 타사에서 개발하여 출시되어 있다 저자 사망 이후 50년이 지나 저작권이 소멸한 메이지 시대부터 쇼와 시대 초기까지의 서적 대부분이 존재한다. 외국 번역작품이나 저자가 무료보기를 인정한 현대작품도 포함된다. 장르는 정치부터 취미까지 다양하지만, 비교적 문학작품(시대소설, 추리소설등의 오락작품 포함)이 많다. 유명작가의 작품이 모두 갖춰져있진 않지만 그래도 일본어작품에 관련해서는 충실하게 갖춰진 편이다. (번역작품의 경우 번역저작권을 문제로 수가 많지 않다.)\\n\\n잘 알려지지 않은 작품을 보존, 소개하는 장점도 있다. 작품 텍스트화는 지금도 현재진행형이며 2011년 3월 15일 현재 등록작품수가 1만권이 넘었다.\\n고전작가인 모리 오가이, 나츠메 소세키, 아쿠타가와 류노스케, 최근의 작가로는 나카지마 아츠시, 다자이 오사무, 하야시 후미코, 미야모토 유리코, 호리 다쓰오, 사카구치 안고, 다카무라 고타로, 나가이 가후, 요시카와 에이지 등 인물의 작품이 있다. 아오조라 문고는 자원봉사로 운영되며 열람 역시 무료이다.  서비스 개시 초반에는 보이저 사에서 서버를 제공하였다.  1998년부터 1999년까지는 토미타가 작업 수칙과 매뉴얼을 만들었다. \\n\\n자원봉사로 운영되기 때문에 작품의 입력과 교정 역시 자원봉사자가 한다 입력은 원본을 보면서 타자입력이나 스캐너로 입력하는 방법으로 이뤄진다 또 작품을 입력하는 '입력자'와 입력된 작품을 교정하는 '교정자'는 별도의 자원봉사자가 담당한다.  따라서 작품이 공개되기 전까지는 작품을 입력한 뒤 교정자가 교정을 예약할 때까지 '교정대기' (校正待ち)가 되고, 작업을 멈추게 된다. 즉, 입력하는 자원봉사자가 작품을 입력해 교정을 맡은 자원봉사자가 교정예약을 해서, 교정작업을 완료하기 전까지는 작품을 공개할 수 없다. 때문에 입력이 완료되어도 작업 상태가 '교정대기' 상태인 작품이 증가하고\\n있다.  이는 입력에 비해 교정 작업이 부족하기 때문으로, 아오조라 문고 출범 당시부터 안고 있는 문제점이기도 하다. 이 문제에 대해서는 작품의 교정작업을 하지 않고 공개하는 방안과 입력자가 교정한 것도 인정하자는 방안이 제기된 적이 있지만 현재까지도 이 방안은 채택되지 못하고 있다 대신 2011년 12월 16일 공개분부터는 기부금을 재원으로 삼은 '유상교정' 서비스가 진행되고 있다. \\n\\n2013년 8월 아오조라 문고의 설립자인 토미타가 사망한 것을 계기로, 아오조라 문고에 지속적인 지원을 해줄 '책의 미래 기금' (本の未来基金)이 설립됐다.  하지만 2015년부터는 엔지니어가 없는 상태로 서버를 강제로 돌리고 있으며, 서버 자체도 노후화되고 있다는 점이 문제되고 있다. 이 때문에 2015년 5월 \"'Code for 아오조라 문고' 아이디어 송\"이 개최되어 향후 시스템 운용에 대한 의견 교환이 이뤄졌다.  그 이후에는 해당 모임을 바탕으로 시스템 관리와 코드수정 등을 맡는 'aozorahack' 프로젝트가 진행되고 있다. 텍스트 파일을 아오조라 문고에 수록할 때, 텍스트 파일이 갖추어야 할 서식을 '아오조라 문고' 형식이라 부른다.\\n\\n아오조라 문고 형식은 텍스트 파일로서 많은 환경에서 읽을 수 있도록 규격화되어있다. 때문에 가능한 한 원본의 충실한 재현을 목표로 삼고 있지만, 줄 바꿈이나 삽화 등의 정보는 원칙적으로 포함되지 않는다.\\n\\n아오조라 문고 형식에 대응하는 텍스트 뷰어와 텍스트 편집기도 존재하며, 올림문자와 방점 등도 재현할 수 있다. 또 이러한 텍스트 뷰어에서는 본래 아오조라 문고 형식에 포함되지 않았던 삽화 정보를 삽입하거나 세로쓰기로 표시할 수 있으며, 텍스트를 읽기 쉽도록 만드는 다양한 기능이 포함되어 있다. 이러한 소프트웨어는 유료와 무료를 불문하고 종류가 다양하다. 일본어 표기에 많이 쓰이는 올림문자 (후리가나)는 그대로 올려쓰지 않고 '｜'나 '《》'로 표시한다.  올림문자를 《》 로 묶거나 ｜로 올릴 문자열을 특정하는 방식은 일본 시각장애인 독서지원협회 (BBA) 의 원문입력 수칙에 따른 것이다.  \\n\\n이 같은 방식을 예시로 들자면 다음과 같다.\\n:青空｜文庫《ぶんこ》 아오조라 문고\\n라고 표기했다면 'ぶんこ' (분코)라는 올림표기가 '文庫' 부분에 걸려 있는 것이다. 다만,\\n:本日は晴天《せいてん》なり。 오늘은 맑은 하늘.\\n처럼 올림표기를 쓸 한자가 가나로 충분히 구분된다면 ｜를 써서 분리할 필요가 없으므로 쓰지 않는다. 또한,\\n:｜ブルースカイ《青空》 블루스카이 (\"청공\")\\n처럼 가나에 올림표기를 강제로 쓰는 것도 가능하다.   \n",
       "4                                                                                                                                                                                                                                                                                                                                                                                                                                                                                                                                                                                                                                                                                                                                                                                                                                                                                                                                                                                                                                                                                                                                                                                                                                                                                                                                                                                                                                                                                                                                                                                                                                                                                                                                                                                                                                                                                                                                                                                                                                                                                                                                                                                                                                                                                                                                                                                                                                                                                                                                                                                                                                                                                                                                                                                                                                                                                                                                                                                                                                                                                                                                                                                                                                                                                                                                                                                                                                                                                                                                                                                                                                                                                                                                                                                                                                                                                                                                                                                                                                                                                                                                                                                                                                                                                                                                                                                                                                                                                                                                                                                                                                                                                                                                                                                                                                                                                                                                    주기율표(週期律表, 주기률표, periodic table) 또는 주기표(週期表)는 원소를 구분하기 쉽게 성질에 따라 배열한 표로, 러시아의 드미트리 멘델레예프가 처음 제안했다. 1913년 헨리 모즐리는 멘델레예프의 주기율표를 개량시켜서 원자번호순으로 배열했는데, 이는 현대의 원소 주기율표와 유사하다.\\n가장 많이 쓰이는 주기율표에는 단주기형과 장주기형이 있다. 단주기형 주기율표는 1주기와 3주기를 기준으로 하고, 4주기 아래로는 전형원소와 전이원소가 같은 칸에 있다. 이 단주기형 주기율표는 초기에 쓴 모델로 원자가 많이 알려지지 않았을 때 많이 사용하였다. 장주기형 주기율표는 현재 가장 많이 쓰고 있는 주기율표이다.   \n",
       "\n",
       "  corpus_source   url  domain  author  html      document_id  \\\n",
       "0         위키피디아  TODO     NaN     NaN   NaN           [0, 1]   \n",
       "1         위키피디아  TODO     NaN     NaN   NaN              [8]   \n",
       "2         위키피디아  TODO     NaN     NaN   NaN              [2]   \n",
       "3         위키피디아  TODO     NaN     NaN   NaN  [3, 4, 5, 6, 7]   \n",
       "4         위키피디아  TODO     NaN     NaN   NaN              [9]   \n",
       "\n",
       "                                                             Q_based title  \n",
       "0                            세계 206개 나라의 현황과 주권 승인 정보를 개요 형태로 나열하는 문서가 뭐야?  \n",
       "1                                              애플 컴퓨터는 누구의 업적을 기반으로 하고 있어?  \n",
       "2  1966년 졸업과 함께 독일로 유학을 떠나 뮌헨 대학교 및 쾰른 대학교 등에서 서양의 건축, 음악사, 철학 등을 공부한 사람은?  \n",
       "3                                 일본어판 구텐베르크 프로젝트로 불리는 일본의 인터넷 전자도서관이 어디지?  \n",
       "4                                            원소를 구분하기 쉽게 성질에 따라 배열한 표가 뭐야?  "
      ]
     },
     "execution_count": 145,
     "metadata": {},
     "output_type": "execute_result"
    }
   ],
   "source": [
    "df_wiki_QG.head(10)"
   ]
  },
  {
   "cell_type": "code",
   "execution_count": 48,
   "metadata": {},
   "outputs": [
    {
     "data": {
      "text/plain": [
       "[\"Bill Bailey, Won't You Please... Come Home?라는 곡의 원제가 뭐야?\"]"
      ]
     },
     "execution_count": 48,
     "metadata": {},
     "output_type": "execute_result"
    }
   ],
   "source": [
    "df_test = df_wiki_QG.head(10).copy()\n",
    "\n",
    "df_test = df_test.groupby('title').agg({'text': lambda x: ' '.join(map(str,x)), 'corpus_source':'first', 'url':'first', 'domain':'first',  'author':'first', 'html':'first', 'document_id':'first', 'Q_based title':lambda x: list(map(str,x))\n",
    "                                        }).reset_index()   \n",
    "# df_test = df_test.groupby('title').agg({'text': lambda x: ' '.join(map(str,x)), 'corpus_source':'first', 'url':'first', 'domain':'first',  'author':'first', 'html':'first', 'document_id':'first', 'Q_based title':lambda x: x.iloc[:].to_list() }).reset_index()  # 동일한 코드임\n",
    "# df_test\n",
    "df_test.iloc[3]['Q_based title']"
   ]
  },
  {
   "attachments": {},
   "cell_type": "markdown",
   "metadata": {},
   "source": [
    "질문에 대해서 여러개가 만들어지네? 하다가 알고 보니 text를 concat한 뒤에 해야 한다는 사실을 깨달아 다시 수행한다."
   ]
  },
  {
   "attachments": {},
   "cell_type": "markdown",
   "metadata": {},
   "source": [
    "## text concat 후 title에 대한 Q G 수행"
   ]
  },
  {
   "attachments": {},
   "cell_type": "markdown",
   "metadata": {},
   "source": [
    "30개에 대해서 수행"
   ]
  },
  {
   "cell_type": "code",
   "execution_count": 49,
   "metadata": {},
   "outputs": [
    {
     "ename": "KeyError",
     "evalue": "'title'",
     "output_type": "error",
     "traceback": [
      "\u001b[0;31m---------------------------------------------------------------------------\u001b[0m",
      "\u001b[0;31mKeyError\u001b[0m                                  Traceback (most recent call last)",
      "\u001b[0;32m<ipython-input-49-a35618215b1d>\u001b[0m in \u001b[0;36m<module>\u001b[0;34m()\u001b[0m\n\u001b[1;32m      1\u001b[0m \u001b[0mdf_test\u001b[0m \u001b[0;34m=\u001b[0m \u001b[0mdf\u001b[0m\u001b[0;34m.\u001b[0m\u001b[0mhead\u001b[0m\u001b[0;34m(\u001b[0m\u001b[0;36m30\u001b[0m\u001b[0;34m)\u001b[0m\u001b[0;34m.\u001b[0m\u001b[0mcopy\u001b[0m\u001b[0;34m(\u001b[0m\u001b[0;34m)\u001b[0m\u001b[0;34m\u001b[0m\u001b[0;34m\u001b[0m\u001b[0m\n\u001b[0;32m----> 2\u001b[0;31m \u001b[0mdf_test\u001b[0m \u001b[0;34m=\u001b[0m \u001b[0mdf_test\u001b[0m\u001b[0;34m.\u001b[0m\u001b[0mgroupby\u001b[0m\u001b[0;34m(\u001b[0m\u001b[0;34m'title'\u001b[0m\u001b[0;34m)\u001b[0m\u001b[0;34m.\u001b[0m\u001b[0magg\u001b[0m\u001b[0;34m(\u001b[0m\u001b[0;34m{\u001b[0m\u001b[0;34m'text'\u001b[0m\u001b[0;34m:\u001b[0m \u001b[0;32mlambda\u001b[0m \u001b[0mx\u001b[0m\u001b[0;34m:\u001b[0m \u001b[0;34m' '\u001b[0m\u001b[0;34m.\u001b[0m\u001b[0mjoin\u001b[0m\u001b[0;34m(\u001b[0m\u001b[0mmap\u001b[0m\u001b[0;34m(\u001b[0m\u001b[0mstr\u001b[0m\u001b[0;34m,\u001b[0m\u001b[0mx\u001b[0m\u001b[0;34m)\u001b[0m\u001b[0;34m)\u001b[0m\u001b[0;34m,\u001b[0m \u001b[0;34m'corpus_source'\u001b[0m\u001b[0;34m:\u001b[0m\u001b[0;34m'first'\u001b[0m\u001b[0;34m,\u001b[0m \u001b[0;34m'url'\u001b[0m\u001b[0;34m:\u001b[0m\u001b[0;34m'first'\u001b[0m\u001b[0;34m,\u001b[0m \u001b[0;34m'domain'\u001b[0m\u001b[0;34m:\u001b[0m\u001b[0;34m'first'\u001b[0m\u001b[0;34m,\u001b[0m  \u001b[0;34m'author'\u001b[0m\u001b[0;34m:\u001b[0m\u001b[0;34m'first'\u001b[0m\u001b[0;34m,\u001b[0m \u001b[0;34m'html'\u001b[0m\u001b[0;34m:\u001b[0m\u001b[0;34m'first'\u001b[0m\u001b[0;34m,\u001b[0m \u001b[0;34m'document_id'\u001b[0m\u001b[0;34m:\u001b[0m\u001b[0;32mlambda\u001b[0m \u001b[0mx\u001b[0m\u001b[0;34m:\u001b[0m\u001b[0mlist\u001b[0m\u001b[0;34m(\u001b[0m\u001b[0mmap\u001b[0m\u001b[0;34m(\u001b[0m\u001b[0mint\u001b[0m\u001b[0;34m,\u001b[0m\u001b[0mx\u001b[0m\u001b[0;34m)\u001b[0m\u001b[0;34m)\u001b[0m\u001b[0;34m}\u001b[0m\u001b[0;34m)\u001b[0m\u001b[0;34m.\u001b[0m\u001b[0mreset_index\u001b[0m\u001b[0;34m(\u001b[0m\u001b[0;34m)\u001b[0m\u001b[0;34m\u001b[0m\u001b[0;34m\u001b[0m\u001b[0m\n\u001b[0m\u001b[1;32m      3\u001b[0m \u001b[0mdf_test\u001b[0m\u001b[0;34m\u001b[0m\u001b[0;34m\u001b[0m\u001b[0m\n",
      "\u001b[0;32m/opt/conda/envs/pororo/lib/python3.6/site-packages/pandas/core/frame.py\u001b[0m in \u001b[0;36mgroupby\u001b[0;34m(self, by, axis, level, as_index, sort, group_keys, squeeze, observed, dropna)\u001b[0m\n\u001b[1;32m   6523\u001b[0m             \u001b[0msqueeze\u001b[0m\u001b[0;34m=\u001b[0m\u001b[0msqueeze\u001b[0m\u001b[0;34m,\u001b[0m\u001b[0;34m\u001b[0m\u001b[0;34m\u001b[0m\u001b[0m\n\u001b[1;32m   6524\u001b[0m             \u001b[0mobserved\u001b[0m\u001b[0;34m=\u001b[0m\u001b[0mobserved\u001b[0m\u001b[0;34m,\u001b[0m\u001b[0;34m\u001b[0m\u001b[0;34m\u001b[0m\u001b[0m\n\u001b[0;32m-> 6525\u001b[0;31m             \u001b[0mdropna\u001b[0m\u001b[0;34m=\u001b[0m\u001b[0mdropna\u001b[0m\u001b[0;34m,\u001b[0m\u001b[0;34m\u001b[0m\u001b[0;34m\u001b[0m\u001b[0m\n\u001b[0m\u001b[1;32m   6526\u001b[0m         )\n\u001b[1;32m   6527\u001b[0m \u001b[0;34m\u001b[0m\u001b[0m\n",
      "\u001b[0;32m/opt/conda/envs/pororo/lib/python3.6/site-packages/pandas/core/groupby/groupby.py\u001b[0m in \u001b[0;36m__init__\u001b[0;34m(self, obj, keys, axis, level, grouper, exclusions, selection, as_index, sort, group_keys, squeeze, observed, mutated, dropna)\u001b[0m\n\u001b[1;32m    531\u001b[0m                 \u001b[0mobserved\u001b[0m\u001b[0;34m=\u001b[0m\u001b[0mobserved\u001b[0m\u001b[0;34m,\u001b[0m\u001b[0;34m\u001b[0m\u001b[0;34m\u001b[0m\u001b[0m\n\u001b[1;32m    532\u001b[0m                 \u001b[0mmutated\u001b[0m\u001b[0;34m=\u001b[0m\u001b[0mself\u001b[0m\u001b[0;34m.\u001b[0m\u001b[0mmutated\u001b[0m\u001b[0;34m,\u001b[0m\u001b[0;34m\u001b[0m\u001b[0;34m\u001b[0m\u001b[0m\n\u001b[0;32m--> 533\u001b[0;31m                 \u001b[0mdropna\u001b[0m\u001b[0;34m=\u001b[0m\u001b[0mself\u001b[0m\u001b[0;34m.\u001b[0m\u001b[0mdropna\u001b[0m\u001b[0;34m,\u001b[0m\u001b[0;34m\u001b[0m\u001b[0;34m\u001b[0m\u001b[0m\n\u001b[0m\u001b[1;32m    534\u001b[0m             )\n\u001b[1;32m    535\u001b[0m \u001b[0;34m\u001b[0m\u001b[0m\n",
      "\u001b[0;32m/opt/conda/envs/pororo/lib/python3.6/site-packages/pandas/core/groupby/grouper.py\u001b[0m in \u001b[0;36mget_grouper\u001b[0;34m(obj, key, axis, level, sort, observed, mutated, validate, dropna)\u001b[0m\n\u001b[1;32m    784\u001b[0m                 \u001b[0min_axis\u001b[0m\u001b[0;34m,\u001b[0m \u001b[0mname\u001b[0m\u001b[0;34m,\u001b[0m \u001b[0mlevel\u001b[0m\u001b[0;34m,\u001b[0m \u001b[0mgpr\u001b[0m \u001b[0;34m=\u001b[0m \u001b[0;32mFalse\u001b[0m\u001b[0;34m,\u001b[0m \u001b[0;32mNone\u001b[0m\u001b[0;34m,\u001b[0m \u001b[0mgpr\u001b[0m\u001b[0;34m,\u001b[0m \u001b[0;32mNone\u001b[0m\u001b[0;34m\u001b[0m\u001b[0;34m\u001b[0m\u001b[0m\n\u001b[1;32m    785\u001b[0m             \u001b[0;32melse\u001b[0m\u001b[0;34m:\u001b[0m\u001b[0;34m\u001b[0m\u001b[0;34m\u001b[0m\u001b[0m\n\u001b[0;32m--> 786\u001b[0;31m                 \u001b[0;32mraise\u001b[0m \u001b[0mKeyError\u001b[0m\u001b[0;34m(\u001b[0m\u001b[0mgpr\u001b[0m\u001b[0;34m)\u001b[0m\u001b[0;34m\u001b[0m\u001b[0;34m\u001b[0m\u001b[0m\n\u001b[0m\u001b[1;32m    787\u001b[0m         \u001b[0;32melif\u001b[0m \u001b[0misinstance\u001b[0m\u001b[0;34m(\u001b[0m\u001b[0mgpr\u001b[0m\u001b[0;34m,\u001b[0m \u001b[0mGrouper\u001b[0m\u001b[0;34m)\u001b[0m \u001b[0;32mand\u001b[0m \u001b[0mgpr\u001b[0m\u001b[0;34m.\u001b[0m\u001b[0mkey\u001b[0m \u001b[0;32mis\u001b[0m \u001b[0;32mnot\u001b[0m \u001b[0;32mNone\u001b[0m\u001b[0;34m:\u001b[0m\u001b[0;34m\u001b[0m\u001b[0;34m\u001b[0m\u001b[0m\n\u001b[1;32m    788\u001b[0m             \u001b[0;31m# Add key to exclusions\u001b[0m\u001b[0;34m\u001b[0m\u001b[0;34m\u001b[0m\u001b[0;34m\u001b[0m\u001b[0m\n",
      "\u001b[0;31mKeyError\u001b[0m: 'title'"
     ]
    }
   ],
   "source": [
    "df_test = df.head(30).copy()\n",
    "df_test = df_test.groupby('title').agg({'text': lambda x: ' '.join(map(str,x)), 'corpus_source':'first', 'url':'first', 'domain':'first',  'author':'first', 'html':'first', 'document_id':lambda x:list(map(int,x))}).reset_index() \n",
    "df_test"
   ]
  },
  {
   "cell_type": "code",
   "execution_count": 165,
   "metadata": {},
   "outputs": [
    {
     "data": {
      "text/html": [
       "<div>\n",
       "<style scoped>\n",
       "    .dataframe tbody tr th:only-of-type {\n",
       "        vertical-align: middle;\n",
       "    }\n",
       "\n",
       "    .dataframe tbody tr th {\n",
       "        vertical-align: top;\n",
       "    }\n",
       "\n",
       "    .dataframe thead th {\n",
       "        text-align: right;\n",
       "    }\n",
       "</style>\n",
       "<table border=\"1\" class=\"dataframe\">\n",
       "  <thead>\n",
       "    <tr style=\"text-align: right;\">\n",
       "      <th></th>\n",
       "      <th>title</th>\n",
       "      <th>text</th>\n",
       "      <th>corpus_source</th>\n",
       "      <th>url</th>\n",
       "      <th>domain</th>\n",
       "      <th>author</th>\n",
       "      <th>html</th>\n",
       "      <th>document_id</th>\n",
       "      <th>Q_based title</th>\n",
       "    </tr>\n",
       "  </thead>\n",
       "  <tbody>\n",
       "    <tr>\n",
       "      <th>0</th>\n",
       "      <td>나라 목록</td>\n",
       "      <td>이 문서는 나라 목록이며, 전 세계 206개 나라의 각 현황과 주권 승인 정보를 개요 형태로 나열하고 있다.\\n\\n이 목록은 명료화를 위해 두 부분으로 나뉘어 있다.\\n\\n# 첫 번째 부분은 바티칸 시국과 팔레스타인을 포함하여 유엔 등 국제 기구에 가입되어 국제적인 승인을 널리 받았다고 여기는 195개 나라를 나열하고 있다.\\n# 두 번째 부분은 일부 지역의 주권을 사실상 (데 팍토) 행사하고 있지만, 아직 국제적인 승인을 널리 받지 않았다고 여기는 11개 나라를 나열하고 있다.\\n\\n두 목록은 모두 가나다 순이다.\\n\\n일부 국가의 경우 국가로서의 자격에 논쟁의 여부가 있으며, 이 때문에 이러한 목록을 엮는 것은 매우 어렵고 논란이 생길 수 있는 과정이다. 이 목록을 구성하고 있는 국가를 선정하는 기준에 대한 정보는 \"포함 기준\" 단락을 통해 설명하였다. 나라에 대한 일반적인 정보는 \"국가\" 문서에서 설명하고 있다. 이 목록에 실린 국가 기준은 1933년 몬테비데오 협약 1장을 참고로 하였다. 협정에 따르면, 국가는 다음의 조건을 만족해야 한다.\\n* (a) 영속적인 국민\\n* (b) 일정한 영토\\n* (c) 정부\\n* (d) 타국과의 관계 참여 자격.\\n특히, 마지막 조건은 국제 공동체의 참여 용인을 내포하고 있기 때문에, 다른 나라의 승인이 매우 중요한 역할을 할 수 있다.  이 목록에 포함된 모든 국가는 보통 이 기준을 만족하는 것으로 보이는 자주적이고 독립적인 국가이다. 하지만 몬테비데오 협약 기준을 만족하는지의 여부는 많은 국가가 논쟁이 되고 있는 실정이다. 또한, 몬테비데오 협약 기준만이 국가 지위의 충분한 자격이든 아니든, 국제법의 견해 차이는 존재할 수 있다. 이 물음에 대한 다른 이론에 대한 고리는 아래에서 볼 수 있다.\\n\\n위 기준에 논거하여 이 목록은 다음 206개 국가를 포함하고 있다.\\n* 일반 국제 승인을 받은 195개 자주 국가.\\n** 유엔 가입 국가 193개\\n** 성좌의 명칭으로 유엔에서 국제 승인을 받은 국가: 바티칸 시국\\n** 팔레스타인지역에 위치하며 유엔 영구 옵서버 국가: 팔레스타인\\n* 유엔의 가입국이 아니며, 일반 국제 승인을 받지 않은 11개 자주 국가.\\n** 유엔 회원국으로부터 승인을 받은 8개 국가: 남오세티야, 니우에, 북키프로스 튀르크 공화국, 사하라 아랍 민주 공화국, 압하지야, 중화민국, 코소보, 쿡 제도,\\n** 유엔 비회원국으로부터 승인을 받은 2개 국가: 아르차흐 공화국, 트란스니스트리아\\n** 어떤 나라에서도 승인 받지 않은 국가: 소말릴란드\\n\\n위 목록에 포함되지 않은 다음 국가는 몬테비데오 협약의 모든 조건을 만족하지 못하거나, 자주적이고 독립적임을 주장하지 않는 국가이다.\\n* 남극 대륙 전체는 정부와 영속 인구가 없다. 7개 국가가 남극 대륙 일부를 차지하고 있으며, 이중 5개 국가가 서로의 영유권을 인정하고 있다.  남극 조약에 따라서 규제되는 이 권리는 어떤 나라에서도 승인을 받지 않았다. \\n* EU 유럽 연합은 27개 가입 국가를 보유한 독특한 초국가 기구이다. 가입 국가는 입법권, 행정권, 사법권 기준을 유럽 연합 위원회로 이양하며, 유럽 연합은 엄밀히 말해 일반적인 주권 국가 간주와 관계 없이 주권 국가로의 특징을 가지고 있다. 유럽 연합은 주권 국가를 주장하지 않으며, 다른 나라와의 관계에서 제한된 지위를 가지고 있다.\\n* 미국과 오스트레일리아, 기타 국가에서 주 (State)라고 칭하는 행정 구역은 주 (행정 구역)을 참고하라. 이러한 하부 국가 개념의 행정 구역은 일부를 제외하고는 다른 나라와 관계를 형성하지 않는다. 예를 들어서 독일 제국의 주는 해외 영사관을 가졌으며, 소비에트 연방의 한 부분이었던 우크라이나 소비에트 사회주의 공화국 (현재의 우크라이나)과 벨로루시 소비에트 사회주의 공화국 (현재의 벨라루스)는 유엔 가입국이었다. 무엇보다 중요한 것은, 이러한 주들은 자주적이고 독립적임을 주장하지 않는다는 것이다.\\n* 몰타 기사단 몰타 기사단은 \"총회에 유효 참관국 자격으로 참여할 수 있으며, 본부에서 영속적인 지위를 유지하는 기타 국가\" 분류에 속하는 유엔 참관 국가이다.  이 단체는 104개 국가와 쌍방 외교 관계를 맺고 있으나, 로마 내의 치외 법권 영역 이외에는 일정한 영토가 없다.  단체의 웹사이트에서는 \"항상 국가에게 국제법의 독립 주체로 인정 받는다.\"고 선언하고 있다.  기사단의 헌법 에서는 다음과 같이 설명하고 있다. \"기사단은 국제법의 주체이며, 주권 기능을 행사한다.\"  기사단은 자주 주권을 주장하고 있지만, 이름에서 볼 수 있듯이 주권 국가라고 주장하지는 않는다. 다른 대사관처럼 이탈리아는 이론상 기사단과 외교 관계를 파기할 수 있으며, 이탈리아 국민이 아닌 단원을 이탈리아 영토에서 강제로 추방할 수 있다. 기사단의 단원은 모두 다른 나라의 국민이기 때문에, 사실상 이들은 모두 자신의 국가에서 살고 있으며, 로마에서 기사단의 치외 법권 영역에 거주하는 단원은 오직 공식 직무에만 연관하여 활동한다. 따라서, 기사단은 영속적인 국민의 특성이 부족하다고 볼 수 있다.\\n* 마이크로네이션으로 여겨지는 국가는 자주적이고 독립적이라고 주장하고, 다른 나라와 외교 관계를 맺고자 시도하여도 포함하지 않았다. 마이크로네이션이 정말로 점유한 영토를 지배하는지, 마이크로네이션의 '인구' 감소 빈도가 낮은 지의 여부는 논쟁이 되고 있다.\\n* ISIS 등은 다른 나라들 못지 않은 영역을 두고 있으며 스스로를 \"나라\"라고 자처하지만, 국제법상 주권이 결여되어 있으며 국제법에 위배되는 테러리즘을 일삼아 '나라'로 간주되지도 않는다. 다만 준국가로 분류한다.</td>\n",
       "      <td>위키피디아</td>\n",
       "      <td>TODO</td>\n",
       "      <td>None</td>\n",
       "      <td>None</td>\n",
       "      <td>None</td>\n",
       "      <td>[0, 1]</td>\n",
       "      <td>세계 206개 나라의 현황과 주권 승인 정보를 개요 형태로 나열하는 문서가 뭐야?</td>\n",
       "    </tr>\n",
       "    <tr>\n",
       "      <th>1</th>\n",
       "      <td>대수학</td>\n",
       "      <td>대수학(代數學, Algebra)은 일련의 공리들을 만족하는 수학적 구조들의 일반적인 성질을 연구하는 수학의 한 분야이다. 이렇게 일련의 추상적인 성질들로 정의되는 구조들을 대수 구조라고 하며, 그 예시로 반군, 군, 환, 가군, 체, 벡터 공간, 격자 등이 있다. 대수학은 취급하는 구조에 따라서 반군론, 군론, 환론, 선형대수학, 격자론, 정수론 등으로 분류된다.\\n\\n기하학, 해석학, 정수론과 함께 대수학은 수학의 대분야 중 하나로 볼 수 있다. 대수학이란 용어는 단순한 산술적 수학을 가리키기도 하나, 수학자들은 군, 환, 불변량 이론과 같이 수 체계 및 그 체계 내에서의 연산에 대한 추상적 연구에 대해서 \"대수학\"이라는 용어를 자주 사용한다.</td>\n",
       "      <td>위키피디아</td>\n",
       "      <td>TODO</td>\n",
       "      <td>None</td>\n",
       "      <td>None</td>\n",
       "      <td>None</td>\n",
       "      <td>[29]</td>\n",
       "      <td>일련의 공리들을 만족하는 수학적 구조들의 일반적인 성질을 연구하는 수학의 한 분야가 뭐야?</td>\n",
       "    </tr>\n",
       "    <tr>\n",
       "      <th>2</th>\n",
       "      <td>데니스 리치</td>\n",
       "      <td>켄 톰슨(Ken Thompson) 등과 함께 최초의 유닉스(Unix) 시스템을 개발했고, 1971년 최초의 〈Unix Programmer's Manual〉을 썼다. 또한 C 언어를 개발한 후 브라이언 커니핸과 함께 〈C 프로그래밍 언어〉(The C Programming Language)를 기술했다. 커니핸과 〈C 프로그래밍 언어〉책을 썼기에 커니핸이 C 언어 개발에 참여한 것으로 종종 오해받으나 커니핸의 말에 따르면 자신은 C언어 개발에 참여하지 않았다고 한다.\\n\\nALTRAN, B언어, BCPL, Multics 등의 개발에도 영향을 끼친 것으로도 알려져 있다.\\n\\n1983년에 켄 톰프슨과 \"범용 운영체제 이론개발, 특히 유닉스 운영체제의 구현에 대한 공로\"로 튜링상을 수상했다.\\n\\n미국의 경제 전문지 '비즈니스 인사이더'에서는 '현재의 애플 컴퓨터는 거의 모두 데니스 리치의 업적에 기반하고 있다'이라며 그의 업적을 평가했다.  현재 애플 매킨토시의 OS X와 아이폰의 iOS는 모두 유닉스 운영체제를 기반으로 만들어져 있다.</td>\n",
       "      <td>위키피디아</td>\n",
       "      <td>TODO</td>\n",
       "      <td>None</td>\n",
       "      <td>None</td>\n",
       "      <td>None</td>\n",
       "      <td>[8]</td>\n",
       "      <td>애플 컴퓨터는 누구의 업적을 기반으로 하고 있어?</td>\n",
       "    </tr>\n",
       "    <tr>\n",
       "      <th>3</th>\n",
       "      <td>백남준</td>\n",
       "      <td>현 서울특별시 종로구 서린동 (구 일제 강점기 경기도 경성부 서린정) 출신이다. 친일파인 아버지 백낙승과 어머니 조종희 사이의 3남 2녀 중 막내로 태어났다. 그후 종로구 창신동 197번지 소위 \"큰대문집\"에서 18세까지 살았다. 수송국민학교와 경기제1고등보통학교를 다니면서 피아니스트 신재덕에게 피아노 연주를, 작이건우]]에게 작곡을 각각 배웠다. 이때 한국이 낳은 작곡가 김순남을 사사했다. 1949년 그는 홍콩 로이덴 스쿨로 전학했으며, 한국 전쟁이 발발하기 이전 가족이 일본으로 이주했다. 그 후 일본으로 건너가 1952년 도쿄 대학교 문과부에 입학했다. 2년 후 미술사학 및 미학으로 전공을 정했지만, 실제로는 일본 당대의 작곡가 모로이 사부로, 미학자 노무라 요시오 등에게서 작곡과, 음악사학을 공부했다. 졸업 논문은 ‘아르놀트 쇤베르크 연구’이다.\\n\\n1956년 백남준은 졸업과 함께 독일로 유학을 떠나 뮌헨 대학교 및 쾰른 대학교 등에서 서양의 건축, 음악사, 철학 등을 공부하였다. 뮌헨 대학교 입학 1년 후에는 프라이부르크 국립 음악 대학교로 옮겨 볼프강 포르트너 교수에게 배우지만, 곧 쇤베르크 이후 현대음악의 실험이 활발히 진행되던 다름슈타트 하기 강좌에 참여했다. 1958년 그 곳에서 현대음악가 존 케이지를 만나 그의 음악에 대한 파괴적 접근과 자유정신으로부터 깊은 영감을 얻었다. 이 영감은 \"세계의 역사는 우리에게 알려준다. 주어진 게임에서 이길 수 없다면 규칙을 바꿔라\" 라는 것으로 규정된다. 이후 1950년대부터 활발해지기 시작한 독일 라인 지역의 액션뮤직의 현장에서 백남준은 ‘아시아에서 온 문화테러리스트’(앨런 카프로)라고 불릴 정도의 탁월한 퍼포먼스 아티스트로 활약했다. 1959년 ‘존 케이지에게 보내는 경의’에서 음악적 콜라주와 함께 피아노를 부수는 퍼포먼스를 선보이는 것을 시작으로, 바이올린을 단숨에 파괴하거나(바이올린 솔로) 존 케이지가 착용한 넥타이를 잘라버리는 퍼포먼스(피아노 포르테를 위한 연습곡)가 특히 유명하다. 이 초기 퍼포먼스에 대해 백남준은 스스로 \"충격, 표현주의, 낭만주의, 클라이맥스, 놀라움, 기타 등등을 보여준 것\"이라고 표현한 바 있다. 1961년 카를하인츠 슈토크하우젠의 음악 퍼포먼스 ‘오리기날레’에서 머리와 넥타이로 잉크를 묻혀 두루마리에 흔적을 남기는 독특한 퍼포먼스 심플 머리를 위한 선율을 보여주기도 했다. 1960년대 초반 조지 마키우나스, 요셉 보이스 등과 의기투합하여 플럭서스 활동을 함께 전개했다. 다다이즘에 영향을 받은 플럭서스는 헤라클레이투스가 주장한 ‘변화 생성의 흐름’ 이라는 개념을 받아들여 \"목적이 없는 자유, 실험을 위한 실험\"이라는 명목 하에 이벤트와 퍼포먼스 그리고 전위음악에 주력했고, 곧 유럽과 아시아 및 미국 등 세계로 퍼져나갔다.\\n\\n1961년 백남준은 작곡가 슈토크하우젠이 중심이 된 쾰른의 WDR 전자음악 스튜디오에 출입했으며, 이때 1950년대부터 노버트 위너에 의해 제안된 '사이버네틱스' 개념 하에서 전자공학을 공부한 것으로 알려져 있다. 특히 레이다와 TV 작업에 몰두했던 독일 작가 칼 오토 괴츠의 실패를 거울 삼아서 2년여 동안 홀로 TV를 활용한 미디어 아트로서의 가능성을 탐문하고 실험했다. 그 성과를 바탕으로 1963년 독일 부퍼탈 파르나스 갤러리에서 자신의 첫 번째 전시 ‘음악의 전시-전자 텔레비전’을 열었으며, 13대의 실험적인 TV를 통해 훗날 비디오 아트라고 불리게 되는 초기 형태를 보여주었다. 이 전시는 백남준이 자신의 즉흥음악 또는 무음악의 발상에 기초한 실제 퍼포먼스, 그 흔적과 결과물처럼 유럽에서 자신이 진행해온 작업의 성과와 함께 TV를 비롯한 미디어로 새로운 예술의 형태를 시도하는 작업이 공존하고 있었다. ‘적분된 피아노’, ‘랜덤 액세스 뮤직’, ‘레코드 샤슐릭’같은 20세기 전위음악에 젖줄을 대고 있는 실험적 음악의 시도와 ‘잘린 소머리’, ‘파괴된 누드 마네킹’, ‘보이스의 피아노 파괴 퍼포먼스’'걸음을 위한 선' '바람을 위한 선' 같은 우상파괴적 설치 작업 및 참여예술 형태의 퍼포먼스가 함께 펼쳐졌다. 청년 백남준은 이러한 전시 내용을 ‘동시성’, ‘참여’, ‘임의접속’ 등등에 관한 16개의 테마로써 정리하는 종합적인 큐레이팅 전시로 보여주었기 때문에 최근날짜=2015-5-9 독일, 오스트리아 등지의 연구자들 사이에서 이 전시의 중요성을 재평가하면서 아카이빙 작업과 연구가 점차 활발해지는 추세에 있다.\\n\\n1964년 백남준은 일본으로 건너가 '로봇 K-456'을 제작했으며, 곧 세계 예술의 중심지 뉴욕으로 이주했다. 뉴욕 언더그라운드 필름 운동의 중심지 중 하나였던 시네마테크 필름메이커스에 관여했으며, 스스로 영상 작업을 진행하기도 했다. 1965년 소니의 포타팩(세계 최초의 휴대용 비디오카메라)으로 미국 뉴욕을 첫 방문 중이던 교황 요한 바오로 6세를 촬영하여 곧바로 그 영상을 ‘카페 오 고고’에서 방영했다. 이것이 미술사에서는 한동안 공식적인 비디오 아트의 시작으로 기록되어 있었다. 지금은 1963년 첫번째 전시를 비디오아트의 기점으로 보고 있다. 또한 첼로 연주자이자 뉴욕 아방가르드 페스티벌의 기획자였던 샬럿 무어먼과 함께 비디오 아트와 음악을 혼합한 퍼포먼스 작업을 활발히 펼쳤다. 특히 1967년 음악에 성적인 코드를 집어넣은 백남준의 ‘오페라 섹스트로니크’에서 샬럿 무어먼은 누드 상태의 첼로 연주를 시도하다가 뉴욕 경찰에 체포되어 큰 사회적 파장을 불러일으켰다. 그 결과로 인해 예술 현장에서 누드를 처벌할 수 없다는 뉴욕의 법 개정이 이루어지는 획기적인 진전이 일어난다. 이후에도 미디어 아트가 미국 뉴욕을 중심으로 서서히 득세해가는 시대적 조류 속에서 두 사람은 ‘살아있는 조각을 위한 TV 브라’, ‘TV 첼로’, ‘TV 침대’ 등등 미디어 테크놀로지와 퍼포먼스를 결합한 많은 예술활동을 전개했다.\\n\\n1974년부터 백남준은 영상으로서의 비디오 아트를 새로운 미술적 방법인 설치 미술로 변환하여 다양하게 진행했으며, 그에 따라 ‘TV 붓다’, ‘달은 가장 오래된 TV다’, ‘TV 정원’, ‘TV 물고기’ 등등 많은 대표작을 선보였다. 이 작품들은 비디오 아트와 생명의 상징을 전자적으로 결합하여 테크놀로지로 물든 현대 사회의 새로운 합성적 생명력을 추구했다는 평판을 얻었다. 특히 'TV 붓다'는 그의 초기 비디오 설치의 경향을 잘 보여주는 대표작으로서 가장 널리 알려졌다. 1960년대 후반부터 미국의 문화적 환경이 미디어 테크놀로지에 호의적으로 변화하면서 폭발적인 수준의 미디어 전시가 빈발했고, 백남준의 비디오 아트는 그룹전 형태로 수많은 전시에 활발하게 참여했다. 1974년 뉴욕 에버슨 미술관 개인전과 함께 비데아 앤 비디올로지: 1959-1973이라는 예술과 기술을 교차시키는 하이브리드에 관한 저작을 내놓아 미디아 아트의 이해를 도왔으며, 1982년 뉴욕 휘트니 미술관에서 개최된 ‘백남준 회고전’을 통해 그의 예술 세계가 뉴욕을 중심으로 미국 사회에 많이 알려지는 계기가 되었다.\\n\\n1970년대 중반부터는 뉴욕 WNET 방송국, 보스턴 WGBH 방송국과 협력하여 자신의 비디오 아트를 공중파 TV에서 방송했고, 이는 네트워크 방송을 끌어들여 예술 세계의 영역 확장을 꾀한 놀라운 시도였다. 나아가 1984년 1월 1일 ‘굿모닝 미스터 오웰’은 세계적인 아티스트들의 퍼포먼스를 뉴욕 WNET 방송국과 파리 퐁피두 센터를 연결한 실시간 위성 생중계로 방송하여 전 세계적 반향을 불러일으켰다. 샌프란시스코와 서울까지 연결된 이 국제적인 규모의 위성 아트에는 로리 앤더슨, 피터 가브리엘, 오잉고 보잉고, 존 케이지, 요셉 보이스, 앨런 긴즈버그, 이브 몽탕 등의 예술가과 대중문화의 스타가 다수 참여했으며, 전 세계 2천 5백만명(재방송 포함)이 시청하였다. 이로써 전세계적인 차원의 대중적 각인이 이루어졌고, 마치 대중스타처럼 성가를 높였다. 이후에도 ‘위성 아트’ 3부작으로 명명된 ‘바이 바이 키플링’(1986), ‘손에 손잡고’(1988) 등이 이어져 위성 연결을 통한 전세계의 네트워크가 어떻게 새로운 부족사회를 낳는지 실감시켰다.\\n\\n1984년 일본 도쿄 소게쓰[草月]홀에서 백남준과 요셉 보이스가 공동으로 참여한 퍼포먼스 '코요테 콘서트 II'가 펼쳐졌으며, 이들이 각각 몽골의 늑대 울음소리와 초원의 달빛을 음악적으로 표현한 것을 통해 1961년 첫 만남부터 계속 이어온 공동의 관심사가 무엇인지 알려지기 시작했다. 그러나 이들의 이후 퍼포먼스 계획은 요셉 보이스의 죽음과 함께 미완으로 끝났다.\\n\\n1992년 '비디오 때, 비디오 땅' 전시는 독일 쿤스트 할레와 스위스 쮜리히에서 진행된 전시의 서울 투어전시로서 당시 과천 막계동에 자리잡은 지 몇 년 되지 않았던 국립현대미술관 과천관에 총 관람 인원 20만명이 찾은 첫번째 전시로 기록되었다. 이 전시의 주요한 작품은 '나의 파우스트' 시리즈이다. 1993년 백남준은 독일 작가 한스 하케와 함께 베니스 비엔날레 독일관 작가로 초대되어 국가전시관 부문에서 황금사자상을 수상했다. '문명의 동서남북'이라는 주제의 이 전시에서 그는 북방 유라시아의 유목 문화를 배경으로 전자적 소통을 시도하는 비디오 로봇 형태의‘칭기스칸의 복권’, ‘마르크폴로’, ‘훈족의 왕 아틸라’,‘스키타이의 왕 단군’, ‘로봇 전사’, ‘고대기마인물상’ 같은 작품들을 중심으로 다수의 작품을 내놓았다.\\n\\n1995년 백남준은 제1회 광주 비엔날레 태동의 산파 역할을 하며, 한국 미술이 국제적으로 진출할 수 있도록 조력자 역할을 수행했다. 제1회 광주 비엔날레는 국내외 총 관람객이 160만 명에 달하는 성공을 거두었고, 특히 백남준이 직접 관여한 ‘INFO Art’전이 주목받았다. 또한 백남준은 같은 해 베니스 비엔날레 국가전시관 부문에 한국관을 설치하는 일에 결정적인 역할을 했다. 이로써 한국 미술이 세계 미술계에 진출하는 교두보가 마련되었다고 하겠다. 같은 해 그의 예술적 정수가 담긴 일렉트로닉 수퍼하이웨이 전시를 진행했다. 1996년 4월 9일 뇌졸중으로 쓰러졌으며, 6개월만인 그해 10월에 재기했다. 2000년 뉴욕 구겐하임 미술관에서 ‘백남준의 세계’ 라는 대규모 회고전이 열렸으며, 이때 백남준은 레이저 아트 ‘야곱의 사다리’, ‘삼원소’ 등을 전시한 바 있다.\\n\\n2006년 1월 29일, 미국 마이애미의 자택에서 노환으로 75세로 별세, 유해가 서울, 뉴욕, 독일에 나눠서 안치되었다.</td>\n",
       "      <td>위키피디아</td>\n",
       "      <td>TODO</td>\n",
       "      <td>None</td>\n",
       "      <td>None</td>\n",
       "      <td>None</td>\n",
       "      <td>[2]</td>\n",
       "      <td>1966년 졸업과 함께 독일로 유학을 떠나 뮌헨 대학교 및 쾰른 대학교 등에서 서양의 건축, 음악사, 철학 등을 공부한 사람은?</td>\n",
       "    </tr>\n",
       "    <tr>\n",
       "      <th>4</th>\n",
       "      <td>삼각함수</td>\n",
       "      <td>기원전 2~1세기 그리스의 히파르코스와 프톨레마이오스 등은 각도에 대해 달라지는 현의 길이를 다룬 적이 있다.\\n\\n현재 쓰는 것과 같은 삼각함수의 원형은 굽타 시대 인도 천문학에서 찾아볼 수 있다. 기원후 4~5세기 인도의 천문학 책이 산스크리트어에서 아랍어를 통해 라틴어로 번역되면서 유럽에 전해졌다.\\n\\n삼각함수가 동아시아에 전해진 것은 16~17세기 때이다. 독일의 선교사이자 과학자인 요한 슈렉이 명나라에서 저술한 《대측(大測)》(1631) 등의 책에서 사인·코사인·탄젠트를 정현(正弦)·여현(餘弦)·정절(正切)이라고 번역했다. 이 이름은 근대화되기 전의 조선·일본에서 쓰였고, 지금도 중국에서 쓰인다.</td>\n",
       "      <td>위키피디아</td>\n",
       "      <td>TODO</td>\n",
       "      <td>None</td>\n",
       "      <td>None</td>\n",
       "      <td>None</td>\n",
       "      <td>[25]</td>\n",
       "      <td>기원전 2~1세기 그리스의 히파르코스와 프톨레마이오스 등은 각도에 대해 달라지는 현의 길이를 다룬 적이 있는데 이 때 쓰인 것은 무엇인가?</td>\n",
       "    </tr>\n",
       "    <tr>\n",
       "      <th>5</th>\n",
       "      <td>아미노산</td>\n",
       "      <td>아미노산(amino acid)은 생물의 몸을 구성하는 단백질의 기본 구성 단위로, 단백질을 완전히 가수분해하면 암모니아와 함께 생성된다. 화학적으로 아미노기와 카복시기를 포함한 모든 분자를 지칭하기도 하며 화학식은NHCHRCOOH(n=1~20)이다.\\n\\n생화학에서는 흔히 α(알파)-아미노산을 간단히 아미노산이라 부른다. α-아미노산은 아미노기와 카복시기가 하나의 탄소(알파 탄소라고 부른다)에 붙어있다. 아미노산의 일종인 프롤린(proline)은 실제로는 아미노기 대신 이미노기를 포함하기 때문에 엄밀히 말하면 '이미노산'(imino acid)으로 분류해야 되지만, 생화학적으로 보통의 아미노산과 비슷한 기능을 수행하기 때문에 아미노산으로 분류한다. 일반적인 α-아미노산의 구조는 오른쪽 그림과 같다.\\n\\n아미노기와 카복실기를 모두 포함하고 있어, 아미노산은 중성에서 양쪽성 이온으로 존재하며, 카복실기가 공명 상태로 안정화를 취한다. 오른쪽의 구조에서 R은 나머지라는 뜻의 \"Residue\" 혹은 \"Remainder\"의 머릿글자로 곁사슬(Side chain)을 나타내고, 곁사슬에 무엇이 붙느냐에 따라 아미노산의 종류가 결정된다. 아미노산은 곁사슬의 성질에 따라 산성, 염기성, 친수성(극성), 소수성(무극성)의 네 가지 종류로 구분된다. 곁사슬이 수소 원자뿐인 글라이신(glycine)을 제외하고, 다른 아미노산은 모두 두가지 광학 활성을 가져, D형과 L형으로 구분된다. 단백질(protein)을 구성하는 아미노산의 거의 대부분은 L-아미노산 형태로 존재한다. 청자고둥(cone snail)같은 일부 특이한 바다생물에서 D-아미노산이 발견되기도 했다. 단백질은 아미노산의 탈수반응이자 펩타이드 결합(peptide bond)인 축합 중합을 통해 만들어진다.</td>\n",
       "      <td>위키피디아</td>\n",
       "      <td>TODO</td>\n",
       "      <td>None</td>\n",
       "      <td>None</td>\n",
       "      <td>None</td>\n",
       "      <td>[11, 12]</td>\n",
       "      <td>단백질을 가수분해하면 암모니아와 함께 생성되는 것은?</td>\n",
       "    </tr>\n",
       "    <tr>\n",
       "      <th>6</th>\n",
       "      <td>아오조라 문고</td>\n",
       "      <td>아오조라 문고(靑空文庫, あおぞらぶんこ|아오조라 분고)는 ‘일본어판 구텐베르크 프로젝트’로 불리는 일본의 인터넷 전자도서관으로, 저작권이 풀린 문학작품을 수집, 전자문서화해서 인터넷에 공개하고 있다. 저자 사후 50년이 지난 메이지, 쇼와 시대 초기의 일본 문학 작품이 그 대부분을 차지하고 있고, 일본어 외 문학 작품의 일본어 번역 작품도 다수 있다. 1997년 2월 도미타 미치오, 노구치 에이치, 야마키 미에, 란무로 사테이 등 4명이 창설하여 시작되었다.  2016년 연간 방문객수는 940만 건 이상이다. \\n\\n아오조라 문고에 수록된 작품은 JIS X 0208에 해당되는 한자 범위 내에서 자원봉사자에 의해 아오조라 문고 형식 텍스트파일이나 HTML 파일로 전자화된다. 또 아오조라 문고 수록파일 취급기준에 따라 자유롭게 이용할 수 있기 때문에, 수록된 작품을 PC는 물론 PDA와 휴대전화로도 볼 수 있다. 텍스트 파일을 큰 글자로 인쇄하거나 전용 소프트웨어에 불러들여 시각장애인용으로 이용하는 방안도 기대되고 있다. 아오조라 문고의 열람 소프트웨어는 따로 개발 및 제공되고 있는 것은 없지만, 전자사전이나 아이폰용 어플리케이션 등은 타사에서 개발하여 출시되어 있다 저자 사망 이후 50년이 지나 저작권이 소멸한 메이지 시대부터 쇼와 시대 초기까지의 서적 대부분이 존재한다. 외국 번역작품이나 저자가 무료보기를 인정한 현대작품도 포함된다. 장르는 정치부터 취미까지 다양하지만, 비교적 문학작품(시대소설, 추리소설등의 오락작품 포함)이 많다. 유명작가의 작품이 모두 갖춰져있진 않지만 그래도 일본어작품에 관련해서는 충실하게 갖춰진 편이다. (번역작품의 경우 번역저작권을 문제로 수가 많지 않다.)\\n\\n잘 알려지지 않은 작품을 보존, 소개하는 장점도 있다. 작품 텍스트화는 지금도 현재진행형이며 2011년 3월 15일 현재 등록작품수가 1만권이 넘었다.\\n고전작가인 모리 오가이, 나츠메 소세키, 아쿠타가와 류노스케, 최근의 작가로는 나카지마 아츠시, 다자이 오사무, 하야시 후미코, 미야모토 유리코, 호리 다쓰오, 사카구치 안고, 다카무라 고타로, 나가이 가후, 요시카와 에이지 등 인물의 작품이 있다. 아오조라 문고는 자원봉사로 운영되며 열람 역시 무료이다.  서비스 개시 초반에는 보이저 사에서 서버를 제공하였다.  1998년부터 1999년까지는 토미타가 작업 수칙과 매뉴얼을 만들었다. \\n\\n자원봉사로 운영되기 때문에 작품의 입력과 교정 역시 자원봉사자가 한다 입력은 원본을 보면서 타자입력이나 스캐너로 입력하는 방법으로 이뤄진다 또 작품을 입력하는 '입력자'와 입력된 작품을 교정하는 '교정자'는 별도의 자원봉사자가 담당한다.  따라서 작품이 공개되기 전까지는 작품을 입력한 뒤 교정자가 교정을 예약할 때까지 '교정대기' (校正待ち)가 되고, 작업을 멈추게 된다. 즉, 입력하는 자원봉사자가 작품을 입력해 교정을 맡은 자원봉사자가 교정예약을 해서, 교정작업을 완료하기 전까지는 작품을 공개할 수 없다. 때문에 입력이 완료되어도 작업 상태가 '교정대기' 상태인 작품이 증가하고\\n있다.  이는 입력에 비해 교정 작업이 부족하기 때문으로, 아오조라 문고 출범 당시부터 안고 있는 문제점이기도 하다. 이 문제에 대해서는 작품의 교정작업을 하지 않고 공개하는 방안과 입력자가 교정한 것도 인정하자는 방안이 제기된 적이 있지만 현재까지도 이 방안은 채택되지 못하고 있다 대신 2011년 12월 16일 공개분부터는 기부금을 재원으로 삼은 '유상교정' 서비스가 진행되고 있다. \\n\\n2013년 8월 아오조라 문고의 설립자인 토미타가 사망한 것을 계기로, 아오조라 문고에 지속적인 지원을 해줄 '책의 미래 기금' (本の未来基金)이 설립됐다.  하지만 2015년부터는 엔지니어가 없는 상태로 서버를 강제로 돌리고 있으며, 서버 자체도 노후화되고 있다는 점이 문제되고 있다. 이 때문에 2015년 5월 \"'Code for 아오조라 문고' 아이디어 송\"이 개최되어 향후 시스템 운용에 대한 의견 교환이 이뤄졌다.  그 이후에는 해당 모임을 바탕으로 시스템 관리와 코드수정 등을 맡는 'aozorahack' 프로젝트가 진행되고 있다. 텍스트 파일을 아오조라 문고에 수록할 때, 텍스트 파일이 갖추어야 할 서식을 '아오조라 문고' 형식이라 부른다.\\n\\n아오조라 문고 형식은 텍스트 파일로서 많은 환경에서 읽을 수 있도록 규격화되어있다. 때문에 가능한 한 원본의 충실한 재현을 목표로 삼고 있지만, 줄 바꿈이나 삽화 등의 정보는 원칙적으로 포함되지 않는다.\\n\\n아오조라 문고 형식에 대응하는 텍스트 뷰어와 텍스트 편집기도 존재하며, 올림문자와 방점 등도 재현할 수 있다. 또 이러한 텍스트 뷰어에서는 본래 아오조라 문고 형식에 포함되지 않았던 삽화 정보를 삽입하거나 세로쓰기로 표시할 수 있으며, 텍스트를 읽기 쉽도록 만드는 다양한 기능이 포함되어 있다. 이러한 소프트웨어는 유료와 무료를 불문하고 종류가 다양하다. 일본어 표기에 많이 쓰이는 올림문자 (후리가나)는 그대로 올려쓰지 않고 '｜'나 '《》'로 표시한다.  올림문자를 《》 로 묶거나 ｜로 올릴 문자열을 특정하는 방식은 일본 시각장애인 독서지원협회 (BBA) 의 원문입력 수칙에 따른 것이다.  \\n\\n이 같은 방식을 예시로 들자면 다음과 같다.\\n:青空｜文庫《ぶんこ》 아오조라 문고\\n라고 표기했다면 'ぶんこ' (분코)라는 올림표기가 '文庫' 부분에 걸려 있는 것이다. 다만,\\n:本日は晴天《せいてん》なり。 오늘은 맑은 하늘.\\n처럼 올림표기를 쓸 한자가 가나로 충분히 구분된다면 ｜를 써서 분리할 필요가 없으므로 쓰지 않는다. 또한,\\n:｜ブルースカイ《青空》 블루스카이 (\"청공\")\\n처럼 가나에 올림표기를 강제로 쓰는 것도 가능하다.</td>\n",
       "      <td>위키피디아</td>\n",
       "      <td>TODO</td>\n",
       "      <td>None</td>\n",
       "      <td>None</td>\n",
       "      <td>None</td>\n",
       "      <td>[3, 4, 5, 6, 7]</td>\n",
       "      <td>일본어판 구텐베르크 프로젝트로 불리는 일본의 인터넷 전자도서관이 어디지?</td>\n",
       "    </tr>\n",
       "    <tr>\n",
       "      <th>7</th>\n",
       "      <td>자연철학의 수학적 원리</td>\n",
       "      <td>《자연철학의 수학적 원리》(自然哲學- 數學的原理, Philosophiae Naturalis Principia Mathematica|필로소피아이 나투랄리스 프린키피아 마테마티카)는 서양의 과학 혁명을 집대성한 책의 하나이다. 줄여서 '프린키피아'(Principia)라고 불리기도 한다. 1687년에 나온 아이작 뉴턴의 세 권짜리 저작으로, 라틴어로 썼다.\\n\\n이 책에서 뉴턴은 고전 역학의 바탕을 이루는 뉴턴의 운동 법칙과 만유인력의 법칙을 기술하고 있다. 당시 요하네스 케플러가 천체의 운동에 대한 자료를 바탕으로 알아낸 케플러의 행성운동법칙을 뉴턴은 자신의 위 두 법칙들로써 증명해 낸다. 그는 이러한 일련의 작업을 통해서 코페르니쿠스에서 시작되어 케플러, 갈릴레오를 거치면서 이루어져 온 천문학의 혁명을 완성하는 한편, 갈릴레오 이후 데카르트, 하위헌스 등을 통해서 이루어져 온 근대 역학의 성공을 눈부시게 보여주고 있다.\\n\\n에드먼드 핼리도 이 책을 바탕으로 1530년, 1607년, 1682년에 나타났던 혜성들의 궤도를 계산해, 이 혜성 모두가 동일한 하나의 천체일 가능성이 높다는 사실을 발견했고 일정한 주기에 따라 1750년대 말에 다시 나타나리라고 예견했다. 뉴턴도 핼리도 죽은 뒤인 1758년에 수수께끼 같은 천체가 발견되었는데 그것이 다름 아닌 핼리 혜성이다. \\n\\n제1편은 운동에 관한 일반적 명제를 논술하였고, 제2편은 매질 속에서의 물체의 운동을 다루고, 마지막 제3편은 코페르니쿠스의 지동설, 케플러의 행성의 타원궤도 등의 행성의 운동을 증명하였다.\\n\\n뉴턴은 그의 이론을 기술하기 위해 미적분학을 역학에 적용하였지만, 이 책에서는 주로 기하학적인 증명 방법을 사용하고 미적분을 거의 사용하지 않고 있는데, 이는 당시의 사람들의 이해를 고려해서라고 한다.\\n\\n1687년에 초판, 1712년 증보 개정판, 그리고 1726년 제3판이 출간되었다.</td>\n",
       "      <td>위키피디아</td>\n",
       "      <td>TODO</td>\n",
       "      <td>None</td>\n",
       "      <td>None</td>\n",
       "      <td>None</td>\n",
       "      <td>[24]</td>\n",
       "      <td>프린키피아의 저자는?</td>\n",
       "    </tr>\n",
       "    <tr>\n",
       "      <th>8</th>\n",
       "      <td>주기율표</td>\n",
       "      <td>주기율표(週期律表, 주기률표, periodic table) 또는 주기표(週期表)는 원소를 구분하기 쉽게 성질에 따라 배열한 표로, 러시아의 드미트리 멘델레예프가 처음 제안했다. 1913년 헨리 모즐리는 멘델레예프의 주기율표를 개량시켜서 원자번호순으로 배열했는데, 이는 현대의 원소 주기율표와 유사하다.\\n가장 많이 쓰이는 주기율표에는 단주기형과 장주기형이 있다. 단주기형 주기율표는 1주기와 3주기를 기준으로 하고, 4주기 아래로는 전형원소와 전이원소가 같은 칸에 있다. 이 단주기형 주기율표는 초기에 쓴 모델로 원자가 많이 알려지지 않았을 때 많이 사용하였다. 장주기형 주기율표는 현재 가장 많이 쓰고 있는 주기율표이다. 수소와 헬륨의 위치에 대한 논쟁이 이어지고 있다. 현재의 주기율표에서는 수소를 알칼리 금속과 마찬가지로 가장 바깥쪽 껍질에 전자를 하나 가진 리튬 위에 배열한다. 그러나 일부에서는 수소는 금속 원소가 아니며 수소가 전자의 구조 면에서는 알칼리 금속이 아닌 할로겐에게 가깝고 할로젠 원소와 성질이 비슷하다고 주장하며, 수소의 위치를 17족 원소로 옮겨야 한다고 주장한다. \\n\\n마찬가지로 생각해서, 수소가 1족 원소라면 헬륨도 베릴륨 위에 2족 원소로 배치해야 한다는 설이 있다. 그러나 헬륨은 비활성 기체이므로 현재처럼 네온 위인 18족 원소가 가장 적당하다고 한다.</td>\n",
       "      <td>위키피디아</td>\n",
       "      <td>TODO</td>\n",
       "      <td>None</td>\n",
       "      <td>None</td>\n",
       "      <td>None</td>\n",
       "      <td>[9, 10]</td>\n",
       "      <td>원소를 구분하기 쉽게 성질에 따라 배열한 표가 뭐야?</td>\n",
       "    </tr>\n",
       "    <tr>\n",
       "      <th>9</th>\n",
       "      <td>통계학</td>\n",
       "      <td>통계학은 관찰 및 조사로 얻을 수 있는 데이터로부터, 응용 수학의 기법을 이용해 수치상의 성질, 규칙성 또는 불규칙성을 찾아낸다. 통계적 기법은, 실험 계획, 데이터의 요약이나 해석을 실시하는데 있어서의 근거를 제공하는 학문이며, 폭넓은 분야에서 응용되어 실생활에 적용되고 있다 통계학은 실증적인 뿌리를 가지고 있으며 실질적 활용에 초점을 맞추고 있기 때문에, 흔히 순수수학과는 다소 구분되는 응용수학의 일종으로 여겨진다. 통계학의 방법을 통해, 실제의 수치들을 왜곡하여 해석하는 것을 막고 연구를 바탕으로 합리적인 의사결정을 할 수 있다.\\n  \\n통계학은 과학, 산업, 또는 사회의 문제에 적용되며 모집단을 연구하는 과정이 우선시된다. 모집단은 \"한나라 안에 사는 모든 사람\" 또는 \"크리스탈을 구성하는 모든 원자\"와 같이 일정한 특성을 지닌 집단이면 어느 것이든 가능하다. 통계학자들은 전체인구(인구조사를 하는 기업)에 대한 데이터를 편집한다. 이것은 정부의 통계관련 법률요약집같은 조직화된 방법으로 수행될 수도 있다. 기술통계학은 모집단의 데이터를 요약하는데 사용된다. 도수 및 비율 (경주 등) 범주 형 데이터를 설명하는 측면에서 더 유용할 동안 수치 기술자는 연속적인 데이터 유형 (소득 등)에 대한 평균과 표준 편차를 포함한다. 데이터 분석 방법 엄청난 자료가 연구되는 현대 사회에서 경제지표연구, 마케팅, 여론조사, 농업, 생명과학, 의료의 임상연구 등 다양한 분야에서 응용되고 있는 통계는 단연 우리 사회에서 가장 필요하고 실용적인 학문이라고 할 수 있다. 영어의 statistics(통계학, 통계)는 확률을 뜻하는 라틴어의 statisticus(확률) 또는 statisticum(상태), 이탈리아어의 statista(나라, 정치가) 등에서 유래했다고 한다. 특히 국가라는 의미가 담긴 이탈리아 어 statista의 영향을 받아, 국가의 인력, 재력 등 국가적 자료를 비교 검토하는 학문을 의미하게 되었다. 근대에서의 통계학은 벨기에의 천문학자이자 사회학자이며 근대 통계학을 확립한 인물로 평가 받는 케틀레가 벨기에의 브뤼셀에서 통계학자들로 구성된 9개의 회의를 소집한 것을 기원으로 하고 있다\\n수집되고 분류된 숫자 데이터\"라는 의미로 사용된 것은 1829년부터이고, 약자로 stats가 처음 기록된 것은 1961년부터이다. 또, 통계학자의 의미인 statistician이 사용된 것은 1825년부터이다.\\n\\n한자 문화권에서 사용되는 통계(統計)라는 단어의 기원은 명확하게 알려진 바는 없지만, 막부 말기에서 메이지 천황 초년에 걸쳐 양학자인 야나가와 슌친(柳川春三)이 현재의 의미로 이 단어를 처음 사용했다고 여겨진다. 그가 1869년에 편찬한 책자에서 통계가 현재의 용법으로 사용되었다는 기록이 남아있다. 그 후 1871년에는 대장성에 통계사(統計司)와 통계요(統計寮)가 설치되면서 통계라는 단어의 사용이 대중화되었다. 매우 다양한 분야의 연구에서 주어진 문제에 대하여 적절한 정보를 수집하고 분석하여 해답을 구하는 과정은 아주 중요하다. 이런 방법을 연구하는 과학의 한 분야가 통계학이다. 통계학을 필요로 하는 연구분야는 농업, 생명과학, 환경과학, 산업연구, 품질보증, 시장조사 등 매우 많다. 또한 이러한 연구방식은 기업체와 정부의 의사결정과정에서 현저하게 나타난다. 주어진 문제에 대하여 필요한 자료의 형태, 자료를 수집하는 방법, 문제에 대한 최선의 답을 구하기 위한 분석방법을 결정하는 것이 통계학자의 역할이다.\\n\\n자료는 어떤 특정한 현상(주제, 사실)을 조사하기 위하여 설계하고 계획한 실험에서 나온다. 이런 종류의 자료, 즉 실험자료는 농업연구와 같은 분야에 흔히 있다. 통계학자들은 이미 나온 실험자료를 분석하는데만 관심이 있지않고, 자원을 효과적으로 사용하고 주어진 문제를 실험으로 해결하기 위하여 처음부터 실험을 계획하는데 관심이 있다.또 다른 형태의 자료를 관측으로부터 얻는다. 조사자들은 연구실 밖으로 나가서 실제로 존재하는 것을 조사한다. 이런 예로는 인구 및 주택센서스와 같은 전수조사, 여론조사, 교통량조사 등등이 있다. 이 경우 조사방법과 설문지 작성은 매우 중요한 문제가 된다.\\n설문지 조사에 있어서 가장 핵심적인 부분은 설문지 작성 요령이다. 묻고자 하는 질문을 짧고 명확하게 물어야 하고 응답자가 고민을 하지 않고 바로 대답할 수 있도록 구성해야 한다. 설문지는 묻고자 하는 질문이면 무엇이든지 다 물을 수 있는 것이 아니라 문제의 핵심적 내용을 담고 있어야 한다. 조사대상을 기준으로하면 대상이 되는 통계 집단의 단위를 하나하나 전부 조사하는 관찰 방법인 전수조사(全數調査)와 모집단의 일부를 표본으로 추출하여 조사한 결과로써 모집단 전체의 성질을 추측하는 통계 조사 방법인 표본조사(標本調査)가 대표적인 조사 방법이다. \\n\\n* 전수조사: 조사의 대상이 되는 자료 전체를 빠짐없이 조사하는 것이다.(모집단 전체를 조사)\\n* 표본조사: 조사의 대상이 되는 자료의 일부만을 택하여 조사함으로써 전체를 추측하는 조사이다 의식적으로 표본을 추출하는 유의 추출법과 확률론에 입각하여 표본을 추출하는 임의 추출법이 있다.\\n\\n이러한 조사를 통해 자료를 수집할때에는 자료의 양질이 측정수준에 따라 분류된다.\\n자료의 측정수준은 다음과 같이 분류된다. 측정수준에 따라 통계에 이용해야 할 요약 통계량이나 통계 검정법이 다르게 된다.\\n\\n* 분류 자료: 수치로 측정이 불가능한 자료이다. 질적 자료라고도 한다.\\n** 명목척도(nominal scale)： 단순한 번호로 차례의 의미는 없다. (예: 전화번호, 등번호, 성별, 혈액형, 주소 등.)\\n** 순서척도(서열척도)(ordinal scale)： 순서가 의미를 가지는 번호. (예: 계급, 순위, 등급 등.)\\n* 수량 자료: 수치로 측정이 가능한 자료이다. 양적 자료라고도 한다.\\n** 구간척도(등간척도, interval scale)： 순서뿐만 아니라 그 간격에도 의미가 있으나, 0에 절대적인 의미는 없다. (예: 온도, 지능지수 등.)\\n** 비율척도(ratio scale)： 0을 기준으로 하는 절대적 척도로, 간격뿐만이 아니라 비율에도 의미가 있다. (예: 절대온도, 금액, 몸무게, 키 등.) 설문지 작성은 실험계획의 일부이기도 하지만, 대개 별개의 실습을 통해 체득하여야 한다.\\n설문지는 \"앙케이트(Enquete)\"라고도 하며 통계 자료에 필요한 자료를 수집하기 위해 필요한 질문들을 기록하는 하나의 서식이다. 이를 이용해 설문지 작성자, 응답자들의 객관적인 생각, 각자의 가치와 신념, 태도 등과 같은 여러 정보를 수집할 수있다. 설문지는 가능한 표준화 되도록 작성해야한다. 필요한 정보를 더욱 포괄적으로 획득하기 위해 설문지는 다섯 가지 요소 응답자에 대한 협조요청, 식별자료, 지시사항, 설문문항, 응답자의 분류를 위한 자료로 구성된다. 설문지는 여러 번 수정, 검토 과정을 거쳐야 의도한 자료의 수집이 가능하다. 설문지를 이용한 통계자료 수집은 비교적 비용이 적게들고 큰 표본에도 쉽게 적용이 가능하다는 장점이 있다. 그러나 다른 자료수집 방법에 비해 무응답률이 높은 편이며 응답에 대한 보충설명의 기회가 주어지지 않는다는 단점이 있다. 추론 통계는 기술통계로 어떤 모집단에서 구한 표본정보를 가지고 그 모집단의 특성 및 가능성 등을 추론해내는 통계적 방법이다. 보통 수집된 자료는 어떻게 분석해야 할지 미리 정해져 있기도 하지만, 대부분 획득한 자료(모집단)을 가지고 여러 그래프를 그려보는 와중에 또다른 별개의 분석방법을 추가로 채택할 필요성을 느끼게 된다. 이러한 모집단에 대한 전체적 조감을 해보고 또다른 분석방향을 모색해 보는 과정에 해당한다\\n추론 통계는 바탕인 기술 통계량이 있어야 한다. 이 추론 통계를 하는 이유는 모든 사람을 대상으로 검사를 하는 것은 비합리적이고 대규모 집단을 가지고 연구하는 것이 소수의 집단을 가지고 연구하는 것보다 훨씬 경제적이고 효율적이기 때문이다. 추론 통계는 기술 통계량의 정확성을 유지하는 작업으로서 사용한다. 보통 일반적인 추론은 실험 결과가 기존의 방식, 또는 다른 품종간 비교 등에서 차이점이 유의한지를 검증하는 것이다. 통계학은 컴퓨터 과학, 프로그래밍 언어, 선형대수학, 해석학, 분포론, 수치해석, 확률론 등 여러 학문과 관련되어 있다.\\n\\n통계학과 사회과학의 발전에 따라 회귀분석, 인과분석 등과 같은 평가모형들이 발전되고, 이들이 정책평가에 응용됨으로써 정책영향의 평가에 공헌을 하고 있으며, 아직도 계속 발전되어 가는 과정에 있다.\\n\\n특히 정보화사회와 빅데이터 시대를 맞아 다양한 사회정보의 수집·분석·활용을 담당하는 새로운 직종으로 기업, 정당, 지방자치단체, 중앙정부 등 각종 단체의 시장조사 및 여론조사 등에 대한 계획을 수립하고 조사를 수행하며 그 결과를 체계적으로 분석, 보고서를 작성하는 관련 학문이 필요하게 되어 사회조사분석학이 등장하게 된다.\\n\\n사회조사분석사란 기업이나 정당, 지자체, 중앙정부 등 각종 단체가 필요로 하는 조사를 수행해 분석, 보고하는 전문 인력군이다. 주로 경영, 조사기획, 자료분석, 마케팅 분야에서 일하므로 조사방법론, 사회통계, SPSS 통계분석 실무 등의 지식을 필요로 한다. 현대에 들어와 데이터 과학자들로 구성된 통계 조직은 기관과 단체 그리고 기업의 수익에 영향을 미치는 다양한 데이터를 입체적으로 분석하고 결론을 얻어낸다. 미래를 예측해 더 나은 결과물을 처방한다. 수많은 데이터 가운데 의미 있는 데이터를 찾아냄으로써 더 나은 의사결정을 돕는 작업이 있는데 데이터 클리닝, 데이터 마이닝 등이다.\\n\\n기업과 기관마다 부르는 이름은 다르지만, 생산·판매와 서비스 등 핵심 직무에서 영업력 개선과 사원 복지 등 전 영역에 걸쳐 이같은 데이터 과학 조직의 역할은 전방위로 확대되고 있다. 업계에서는 주요 데이터에 대한 분석과 통계가 이뤄지는 비즈니스인텔리전스(BI) 조직이라 부른다. 데이터 분석 조직을 운영하는 IT 조직은 시스템에서 나오는 각종 데이터를 분석해 기업의 핵심 영역에 가치를 더하는 조직으로 변모 중이다.\\n\\n전사자원관리(ERP) 고객관계관리(CRM) 생산관리시스템(MES) 경영 정보 시스템(MIS) 전략적 기업 경영(SEM) 등 각종 시스템에서 쏟아지는 수많은 데이터에 대한 분석능력이 미래를 예측하는 핵심 경쟁력인 시대, 이른바 `데이터 경영` 시대의 개막이 시작되었다. 이러한 시대를 ‘빅 데이터’ 기술의 시대라고 하는데 미국의 유명 경제 출판 및 미디어 기업인 포브스도 미래의 유망직업 중 하나로 '데이터 마이너(정보수집 분석가)'를 선정하기도 했다.\\n\\n포브스에 의하면 빅 데이터(Big Data) 데이터 마이닝이란 기존 데이터베이스 관리도구의 데이터 수집·저장·관리·분석의 역량을 넘어서는 대량의 정형 또는 비정형 데이터 세트 및 이러한 데이터로부터 가치를 추출하고 결과를 분석하는 기술로되는 ‘빅 데이터’를 보완, 마케팅, 시청률조사, 경영 등으로부터 체계화해 분류, 예측, 연관분석 등의 데이터 마이닝을 거쳐 통계학적으로 결과를 도출해 내고 있다  \\n\\n대한민국에서는 2000년부터 정보통신부의 산하단체로 사단법인 한국BI데이터마이닝학회가 설립되어 데이터 마이닝에 관한 학술과 기술을 발전, 보급, 응용하고 있다. 또한 국내·외 통계분야에서 서서히 빅 데이터 활용에 대한 관심과 필요성이 커지고 있는 가운데 국가통계 업무를 계획하고 방대한 통계자료를 처리하는 국가기관인 통계청이 빅 데이터를 연구하고 활용방안을 모색하기 위한 '빅 데이터 연구회'를 발족하였다. \\n하지만 업계에 따르면, 미국과 영국, 일본 등 선진국들은 이미 빅 데이터를 다각적으로 분석해 조직의 전략방향을 제시하는 데이터과학자 양성에 사활을 걸고 있다. 그러나 한국은 정부와 일부 기업이 데이터과학자 양성을 위한 프로그램을 진행 중에 있어 아직 걸음마 단계인 것으로 알려져 있다.</td>\n",
       "      <td>위키피디아</td>\n",
       "      <td>TODO</td>\n",
       "      <td>None</td>\n",
       "      <td>None</td>\n",
       "      <td>None</td>\n",
       "      <td>[16, 17, 18, 19, 20, 21, 22, 23]</td>\n",
       "      <td>통계학에서 통계조사법이 사용되기 시작한 건 언제부터야?</td>\n",
       "    </tr>\n",
       "    <tr>\n",
       "      <th>10</th>\n",
       "      <td>파이의 날</td>\n",
       "      <td>파이의 날(Pi Day)은 원주율을 기념하는 날이다. 파이의 날은 원주율의 근삿값이 3.14이어서 3월 14일에 치러진다. 보통 3.14159에 맞추기 위해 오후 1시 59분에 기념하는데, 오후 1시 59분은 엄밀히 말하면 13시 59분이기 때문에 오전 1시 59분 혹은 15시 9분(오후 3시 9분)에 치러야 한다고 주장하는 사람도 있다. 세계 각국의 수학과에서 기념행사를 연다.\\n\\n3월 14일은 알베르트 아인슈타인의 생일이면서 스티븐 호킹의 기일이기도 하다. 이 날은 여러 방법으로 기념된다. 사람들이 모여서 원주율이 생활에서 어떤 역할을 했는지 이야기하고 원주율이 없는 세상을 상상해 본다. 모임에서는 보통 파이를 먹는다. 또한 많은 행사에서 원주율을 소수점 아래의 숫자를 얼마나 많이 외우는지 겨루는 대회가 열린다.\\n\\n분수 3과 7분의 1을 가분수로 나타내면 7분의 22가 되는데, 이를 유리수(순환소수)로 나타내면 3.142857...로 π의 근삿값이 되므로  7월 22일을 파이 근삿값 날로 부르기도 한다.</td>\n",
       "      <td>위키피디아</td>\n",
       "      <td>TODO</td>\n",
       "      <td>None</td>\n",
       "      <td>None</td>\n",
       "      <td>None</td>\n",
       "      <td>[14]</td>\n",
       "      <td>원주율을 기념하는 날을 뭐라고 불러?</td>\n",
       "    </tr>\n",
       "    <tr>\n",
       "      <th>11</th>\n",
       "      <td>표준 모형</td>\n",
       "      <td>소립자 물리학의 표준 모형(標準模型, Standard Model)은 자연계의 기본 입자와, 중력을 제외한 그 상호작용 (강한 상호작용, 약한 상호작용, 전자기 상호작용)을 다루는 게이지 이론이다. 강력을 다루는 양자 색역학과, 약력과 전자기력을 다루는 와인버그-살람 이론으로 이루어진다. 표준 모형에 따르면, 전자와 중성미자 및 기타 렙톤은 기본 입자이나, 강입자는 쿼크로 이루어진다. 이들은 게이지 보손에 의하여 상호작용한다. 게이지 보손은 이론의 대칭을 나타낸다. 표준 모형의 대칭 가운데 강한 상호작용의 대칭은 색가둠으로 인하여 간접적으로만 관찰할 수 있고, 약한 상호작용의 대칭은 힉스 메커니즘으로 인하여 깨진다. 따라서 거시적으로는 전자기 상호작용의 대칭만 쉽게 관찰할 수 있다.\\n표준 모형은 실험적으로 힉스 메커니즘을 제외하고 1980년대에 완성되었다. 힉스 메커니즘은 2010년대 초에 실험적인 증거가 발견되었다. 표준 모형은 이론적으로 여러 자연스러움 (naturality) 문제를 안고 있다. 이는 표준 모형에 등장하는 몇몇 상수가 너무나 큰 값 또는 작은 값을 가지는 것이다. 이런 문제를 해결하려면 대개 더 강력한 대칭을 도입하여 상수가 왜 그렇게 크거나 작은 값을 가지는지 설명해야한다. 이런 종류의 이론은 대통일 이론이나 초대칭 따위가 있다.\\n\\n계층 문제전약력의 자발 대칭 깨짐이 일어나는 눈금은 플랑크 눈금보다 터무니없이 작다. 표준 모형에서는 전약력 대칭 파괴는 스칼라 힉스 보손으로 일으켜지나, 스칼라 입자의 질량은 (초대칭이 없는 이상) 방사 보정에 대하여 안정하지 못하다. 따라서 일반적으로 새로운 물리가 나타나는 눈금(대통일 눈금이나 플랑크 눈금) 정도이여야 하는데, 힉스 보손의 질량은 플랑크 질량보다 훨씬 작다.CP 위반 문제강력이 CP대칭을 위반하는 정도는 지나치게 작다.우주 상수 문제진공의 에너지 밀도는 플랑크 에너지 밀도에 비하여 지나치게 작다. 이론적으로는 진공에너지(우주상수)는 무한대이거나 중력을 고려하면 플랑크 에너지 눈금에 있어야 하는데, 관측된 값은 이보다 훨씬 작다.\\n\\n\\n또한, 표준 모형은 여러가지로 임의적인 면이 있다. 표준 모형은 3세대로 구성되어 있지만, 왜 3세대로 구성되었는지 설명하지 않는다. 2세대가 발견되었을 때, 이지도어 아이작 라비는 \"누가 그걸 주문했어?\"라고 외칠 정도로, 세대의 존재와 그 수는 언뜻 보면 불필요한 구조다.\\n\\n표준 모형은 전하의 양자화를 설명하지 않는다. 폴 디랙은 전하의 양자화를 설명하려면 자기 홀극이 필요하다는 사실을 보였으나 표준 모형은 자기 홀극을 포함하지 않는다.\\n\\n또한 표준 모형은 19개의 자유 변수를 가진다. 이 자유 변수의 수는 기본 이론이라고 보기에는 너무 많다. 표준 모형은 입자 물리학의 거의 모든 실험 결과를 오차 범위 안으로 설명한다. 그러나 표준모형은 중력을 다루지 않는다. 또 표준 모형은 중성미자를 무질량 입자로 다루지만, 실제로 중성미자는 아주 작지만 영이 아닌 질량을 가진다 (중성미자 진동). 이 질량이 어떤 종류인지 (즉 중성미자가 디랙 입자인지 마요라나 입자인지) 아직 확실하지 않다.\\n\\n또한 표준 모형은 아무런 암흑 물질 입자를 포함하지 않는다. 표준 모형에서 암흑 물질로 간주할 수 있는 입자는 중성미자밖에 없는데, 중성미자는 이론적으로 전체 암흑 물질 양의 소량만을 차지한다.</td>\n",
       "      <td>위키피디아</td>\n",
       "      <td>TODO</td>\n",
       "      <td>None</td>\n",
       "      <td>None</td>\n",
       "      <td>None</td>\n",
       "      <td>[26, 27, 28]</td>\n",
       "      <td>자연계의 기본 입자와 중력을 제외한 그 상호작용을 다루는 소립자 물리학의 이론은 무엇인가?</td>\n",
       "    </tr>\n",
       "    <tr>\n",
       "      <th>12</th>\n",
       "      <td>푸리에 급수</td>\n",
       "      <td>수학에서, 푸리에 급수(Fourier級數, Fourier series)는 주기 함수를 삼각함수의 가중치로 분해한 급수다. 대부분의 경우, 급수의 계수는 본래 함수와 일대일로 대응한다.\\n\\n함수의 푸리에 계수는 본래 함수보다 다루기 쉽기 때문에 유용하게 쓰인다. 푸리에 급수는 전자 공학, 진동 해석, 음향학, 광학, 신호처리와 화상처리, 데이터 압축 등에 쓰인다. 천문학에서는 분광기를 통해 별빛의 진동수를 분해하여 별을 이루는 화학 물질을 알아내는 데 쓰이고, 통신 공학에서는 전송해야 하는 데이터 신호의 스펙트럼을 이용하여 통신 시스템 설계를 최적화하는 데 쓰인다.</td>\n",
       "      <td>위키피디아</td>\n",
       "      <td>TODO</td>\n",
       "      <td>None</td>\n",
       "      <td>None</td>\n",
       "      <td>None</td>\n",
       "      <td>[15]</td>\n",
       "      <td>수학에서 주기 함수를 삼각함수의 가중치로 분해한 급수가 뭐야?</td>\n",
       "    </tr>\n",
       "    <tr>\n",
       "      <th>13</th>\n",
       "      <td>히라가나</td>\n",
       "      <td>히라가나(平仮名, ひらがな, Hiragana)는 일본어에서 사용하는 두 가지 가나 중 하나이다. 가타카나는 주로 외래어 표기 등에 쓰이고, 히라가나는 다음과 같은 용도로 쓰인다.\\n\\n* 동사의 활용 어미, 조사, 조동사\\n* 일본 고유어로서 해당 한자가 없는 단어, 또는 해당하는 한자가 잘 쓰이지 않는 어려운 글자일 경우.\\n* 어린이가 사용하는 일본어의 뉘앙스를 보여 주고 싶을 때\\n\\n히라가나는 여성이 많이 썼다고 한다. 그래서 온나데(女手; おんなで)라고 불린 적도 있다. 이런 이유로 히라가나는 여자들만 쓰는 글이라 하여, 오랫동안 일본의 공용 문서에선 가타카나와 한자(칸지)만이 사용되었다. 현재 일본 철도의 역명판에는 히라가나와 칸지가 적혀 있다. 히라가나는 헤이안 시대부터 쓰인 것으로 알려져 있다. 일본의 유아들도 가나를 배울 때는 히라가나를 먼저 배우고 가타카나를 나중에 배우기 때문에 유아용 그림책 등에는 가타카나로 쓰인 단어 위에 히라가나를 후리가나로 덧붙이기도 한다. 음절문자이다.\\n\\n한영 자판 상태에서 히라가나를 입력할 경우 ㄸ+한자 키를 누르면 된다. 가타카나의 경우 장음 등 일부 문자를 제외하면, 꼭 ㅃ+한자 조합을 해야 한다.</td>\n",
       "      <td>위키피디아</td>\n",
       "      <td>TODO</td>\n",
       "      <td>None</td>\n",
       "      <td>None</td>\n",
       "      <td>None</td>\n",
       "      <td>[13]</td>\n",
       "      <td>일본어에서 쓰는 두 가지 가나가 뭐야?</td>\n",
       "    </tr>\n",
       "  </tbody>\n",
       "</table>\n",
       "</div>"
      ],
      "text/plain": [
       "           title  \\\n",
       "0          나라 목록   \n",
       "1            대수학   \n",
       "2         데니스 리치   \n",
       "3            백남준   \n",
       "4           삼각함수   \n",
       "5           아미노산   \n",
       "6        아오조라 문고   \n",
       "7   자연철학의 수학적 원리   \n",
       "8           주기율표   \n",
       "9            통계학   \n",
       "10         파이의 날   \n",
       "11         표준 모형   \n",
       "12        푸리에 급수   \n",
       "13          히라가나   \n",
       "\n",
       "                                                                                                                                                                                                                                                                                                                                                                                                                                                                                                                                                                                                                                                                                                                                                                                                                                                                                                                                                                                                                                                                                                                                                                                                                                                                                                                                                                                                                                                                                                                                                                                                                                                                                                                                                                                                                                                                                                                                                                                                                                                                                                                                                                                                                                                                                                                                                                                                                                                                                                                                                                                                                                                                                                                                                                                                                                                                                                                                                                                                                                                                                                                                                                                                                                                                                                                                                                                                                                                                                                                                                                                                                                                                                                                                                                                                                                                                                                                                                                                                                                                                                                                                                                                                                                                                                                                                                                                                                                                                                                                                                                                                                                                                                                                                                                                                                                                                                                                                                                                                                                                                                                                                                                                                                                                                                                                                                                                                                                                                                                                                                                                                                                                                                                                                                                                                                                                                                                                                                                                                                                text  \\\n",
       "0                                                                                                                                                                                                                                                                                                                                                                                                                                                                                                                                                                                                                                                                                                                                                                                                                                                                                                                                                                                                                                                                                                                                                                                                                                                                                                                                                                                                                                                                                                                                                                                                                                                                                                                                                                                                                                                                                                                                                                                                                                                                                                                                                                                                                                                                                                                                                                                                                                                                                                                                                                                                                                                                                                                                                                                                                                                                                                                                                                                                                                                                                                                                                        이 문서는 나라 목록이며, 전 세계 206개 나라의 각 현황과 주권 승인 정보를 개요 형태로 나열하고 있다.\\n\\n이 목록은 명료화를 위해 두 부분으로 나뉘어 있다.\\n\\n# 첫 번째 부분은 바티칸 시국과 팔레스타인을 포함하여 유엔 등 국제 기구에 가입되어 국제적인 승인을 널리 받았다고 여기는 195개 나라를 나열하고 있다.\\n# 두 번째 부분은 일부 지역의 주권을 사실상 (데 팍토) 행사하고 있지만, 아직 국제적인 승인을 널리 받지 않았다고 여기는 11개 나라를 나열하고 있다.\\n\\n두 목록은 모두 가나다 순이다.\\n\\n일부 국가의 경우 국가로서의 자격에 논쟁의 여부가 있으며, 이 때문에 이러한 목록을 엮는 것은 매우 어렵고 논란이 생길 수 있는 과정이다. 이 목록을 구성하고 있는 국가를 선정하는 기준에 대한 정보는 \"포함 기준\" 단락을 통해 설명하였다. 나라에 대한 일반적인 정보는 \"국가\" 문서에서 설명하고 있다. 이 목록에 실린 국가 기준은 1933년 몬테비데오 협약 1장을 참고로 하였다. 협정에 따르면, 국가는 다음의 조건을 만족해야 한다.\\n* (a) 영속적인 국민\\n* (b) 일정한 영토\\n* (c) 정부\\n* (d) 타국과의 관계 참여 자격.\\n특히, 마지막 조건은 국제 공동체의 참여 용인을 내포하고 있기 때문에, 다른 나라의 승인이 매우 중요한 역할을 할 수 있다.  이 목록에 포함된 모든 국가는 보통 이 기준을 만족하는 것으로 보이는 자주적이고 독립적인 국가이다. 하지만 몬테비데오 협약 기준을 만족하는지의 여부는 많은 국가가 논쟁이 되고 있는 실정이다. 또한, 몬테비데오 협약 기준만이 국가 지위의 충분한 자격이든 아니든, 국제법의 견해 차이는 존재할 수 있다. 이 물음에 대한 다른 이론에 대한 고리는 아래에서 볼 수 있다.\\n\\n위 기준에 논거하여 이 목록은 다음 206개 국가를 포함하고 있다.\\n* 일반 국제 승인을 받은 195개 자주 국가.\\n** 유엔 가입 국가 193개\\n** 성좌의 명칭으로 유엔에서 국제 승인을 받은 국가: 바티칸 시국\\n** 팔레스타인지역에 위치하며 유엔 영구 옵서버 국가: 팔레스타인\\n* 유엔의 가입국이 아니며, 일반 국제 승인을 받지 않은 11개 자주 국가.\\n** 유엔 회원국으로부터 승인을 받은 8개 국가: 남오세티야, 니우에, 북키프로스 튀르크 공화국, 사하라 아랍 민주 공화국, 압하지야, 중화민국, 코소보, 쿡 제도,\\n** 유엔 비회원국으로부터 승인을 받은 2개 국가: 아르차흐 공화국, 트란스니스트리아\\n** 어떤 나라에서도 승인 받지 않은 국가: 소말릴란드\\n\\n위 목록에 포함되지 않은 다음 국가는 몬테비데오 협약의 모든 조건을 만족하지 못하거나, 자주적이고 독립적임을 주장하지 않는 국가이다.\\n* 남극 대륙 전체는 정부와 영속 인구가 없다. 7개 국가가 남극 대륙 일부를 차지하고 있으며, 이중 5개 국가가 서로의 영유권을 인정하고 있다.  남극 조약에 따라서 규제되는 이 권리는 어떤 나라에서도 승인을 받지 않았다. \\n* EU 유럽 연합은 27개 가입 국가를 보유한 독특한 초국가 기구이다. 가입 국가는 입법권, 행정권, 사법권 기준을 유럽 연합 위원회로 이양하며, 유럽 연합은 엄밀히 말해 일반적인 주권 국가 간주와 관계 없이 주권 국가로의 특징을 가지고 있다. 유럽 연합은 주권 국가를 주장하지 않으며, 다른 나라와의 관계에서 제한된 지위를 가지고 있다.\\n* 미국과 오스트레일리아, 기타 국가에서 주 (State)라고 칭하는 행정 구역은 주 (행정 구역)을 참고하라. 이러한 하부 국가 개념의 행정 구역은 일부를 제외하고는 다른 나라와 관계를 형성하지 않는다. 예를 들어서 독일 제국의 주는 해외 영사관을 가졌으며, 소비에트 연방의 한 부분이었던 우크라이나 소비에트 사회주의 공화국 (현재의 우크라이나)과 벨로루시 소비에트 사회주의 공화국 (현재의 벨라루스)는 유엔 가입국이었다. 무엇보다 중요한 것은, 이러한 주들은 자주적이고 독립적임을 주장하지 않는다는 것이다.\\n* 몰타 기사단 몰타 기사단은 \"총회에 유효 참관국 자격으로 참여할 수 있으며, 본부에서 영속적인 지위를 유지하는 기타 국가\" 분류에 속하는 유엔 참관 국가이다.  이 단체는 104개 국가와 쌍방 외교 관계를 맺고 있으나, 로마 내의 치외 법권 영역 이외에는 일정한 영토가 없다.  단체의 웹사이트에서는 \"항상 국가에게 국제법의 독립 주체로 인정 받는다.\"고 선언하고 있다.  기사단의 헌법 에서는 다음과 같이 설명하고 있다. \"기사단은 국제법의 주체이며, 주권 기능을 행사한다.\"  기사단은 자주 주권을 주장하고 있지만, 이름에서 볼 수 있듯이 주권 국가라고 주장하지는 않는다. 다른 대사관처럼 이탈리아는 이론상 기사단과 외교 관계를 파기할 수 있으며, 이탈리아 국민이 아닌 단원을 이탈리아 영토에서 강제로 추방할 수 있다. 기사단의 단원은 모두 다른 나라의 국민이기 때문에, 사실상 이들은 모두 자신의 국가에서 살고 있으며, 로마에서 기사단의 치외 법권 영역에 거주하는 단원은 오직 공식 직무에만 연관하여 활동한다. 따라서, 기사단은 영속적인 국민의 특성이 부족하다고 볼 수 있다.\\n* 마이크로네이션으로 여겨지는 국가는 자주적이고 독립적이라고 주장하고, 다른 나라와 외교 관계를 맺고자 시도하여도 포함하지 않았다. 마이크로네이션이 정말로 점유한 영토를 지배하는지, 마이크로네이션의 '인구' 감소 빈도가 낮은 지의 여부는 논쟁이 되고 있다.\\n* ISIS 등은 다른 나라들 못지 않은 영역을 두고 있으며 스스로를 \"나라\"라고 자처하지만, 국제법상 주권이 결여되어 있으며 국제법에 위배되는 테러리즘을 일삼아 '나라'로 간주되지도 않는다. 다만 준국가로 분류한다.   \n",
       "1                                                                                                                                                                                                                                                                                                                                                                                                                                                                                                                                                                                                                                                                                                                                                                                                                                                                                                                                                                                                                                                                                                                                                                                                                                                                                                                                                                                                                                                                                                                                                                                                                                                                                                                                                                                                                                                                                                                                                                                                                                                                                                                                                                                                                                                                                                                                                                                                                                                                                                                                                                                                                                                                                                                                                                                                                                                                                                                                                                                                                                                                                                                                                                                                                                                                                                                                                                                                                                                                                                                                                                                                                                                                                                                                                                                                                                                                                                                                                                                                                                                                                                                                                                                                                                                                                                                                                                                                                                                                                                                                                                                                                                                                                                                                                                                                                                                                                                                                                                                                                                                                                                                                                                                                                                                                                                                                                                                                                                                                                                                                                                                                                                                      대수학(代數學, Algebra)은 일련의 공리들을 만족하는 수학적 구조들의 일반적인 성질을 연구하는 수학의 한 분야이다. 이렇게 일련의 추상적인 성질들로 정의되는 구조들을 대수 구조라고 하며, 그 예시로 반군, 군, 환, 가군, 체, 벡터 공간, 격자 등이 있다. 대수학은 취급하는 구조에 따라서 반군론, 군론, 환론, 선형대수학, 격자론, 정수론 등으로 분류된다.\\n\\n기하학, 해석학, 정수론과 함께 대수학은 수학의 대분야 중 하나로 볼 수 있다. 대수학이란 용어는 단순한 산술적 수학을 가리키기도 하나, 수학자들은 군, 환, 불변량 이론과 같이 수 체계 및 그 체계 내에서의 연산에 대한 추상적 연구에 대해서 \"대수학\"이라는 용어를 자주 사용한다.   \n",
       "2                                                                                                                                                                                                                                                                                                                                                                                                                                                                                                                                                                                                                                                                                                                                                                                                                                                                                                                                                                                                                                                                                                                                                                                                                                                                                                                                                                                                                                                                                                                                                                                                                                                                                                                                                                                                                                                                                                                                                                                                                                                                                                                                                                                                                                                                                                                                                                                                                                                                                                                                                                                                                                                                                                                                                                                                                                                                                                                                                                                                                                                                                                                                                                                                                                                                                                                                                                                                                                                                                                                                                                                                                                                                                                                                                                                                                                                                                                                                                                                                                                                                                                                                                                                                                                                                                                                                                                                                                                                                                                                                                                                                                                                                                                                                                                                                                                                                                                                                                                                                                                                                                                                                                                                                                                                                                                                                                                                                                                                                                    켄 톰슨(Ken Thompson) 등과 함께 최초의 유닉스(Unix) 시스템을 개발했고, 1971년 최초의 〈Unix Programmer's Manual〉을 썼다. 또한 C 언어를 개발한 후 브라이언 커니핸과 함께 〈C 프로그래밍 언어〉(The C Programming Language)를 기술했다. 커니핸과 〈C 프로그래밍 언어〉책을 썼기에 커니핸이 C 언어 개발에 참여한 것으로 종종 오해받으나 커니핸의 말에 따르면 자신은 C언어 개발에 참여하지 않았다고 한다.\\n\\nALTRAN, B언어, BCPL, Multics 등의 개발에도 영향을 끼친 것으로도 알려져 있다.\\n\\n1983년에 켄 톰프슨과 \"범용 운영체제 이론개발, 특히 유닉스 운영체제의 구현에 대한 공로\"로 튜링상을 수상했다.\\n\\n미국의 경제 전문지 '비즈니스 인사이더'에서는 '현재의 애플 컴퓨터는 거의 모두 데니스 리치의 업적에 기반하고 있다'이라며 그의 업적을 평가했다.  현재 애플 매킨토시의 OS X와 아이폰의 iOS는 모두 유닉스 운영체제를 기반으로 만들어져 있다.   \n",
       "3                                                                                                                                                                                                                                                                                                                                                                                                                                                                                                                                                                                                                                                                                                                                     현 서울특별시 종로구 서린동 (구 일제 강점기 경기도 경성부 서린정) 출신이다. 친일파인 아버지 백낙승과 어머니 조종희 사이의 3남 2녀 중 막내로 태어났다. 그후 종로구 창신동 197번지 소위 \"큰대문집\"에서 18세까지 살았다. 수송국민학교와 경기제1고등보통학교를 다니면서 피아니스트 신재덕에게 피아노 연주를, 작이건우]]에게 작곡을 각각 배웠다. 이때 한국이 낳은 작곡가 김순남을 사사했다. 1949년 그는 홍콩 로이덴 스쿨로 전학했으며, 한국 전쟁이 발발하기 이전 가족이 일본으로 이주했다. 그 후 일본으로 건너가 1952년 도쿄 대학교 문과부에 입학했다. 2년 후 미술사학 및 미학으로 전공을 정했지만, 실제로는 일본 당대의 작곡가 모로이 사부로, 미학자 노무라 요시오 등에게서 작곡과, 음악사학을 공부했다. 졸업 논문은 ‘아르놀트 쇤베르크 연구’이다.\\n\\n1956년 백남준은 졸업과 함께 독일로 유학을 떠나 뮌헨 대학교 및 쾰른 대학교 등에서 서양의 건축, 음악사, 철학 등을 공부하였다. 뮌헨 대학교 입학 1년 후에는 프라이부르크 국립 음악 대학교로 옮겨 볼프강 포르트너 교수에게 배우지만, 곧 쇤베르크 이후 현대음악의 실험이 활발히 진행되던 다름슈타트 하기 강좌에 참여했다. 1958년 그 곳에서 현대음악가 존 케이지를 만나 그의 음악에 대한 파괴적 접근과 자유정신으로부터 깊은 영감을 얻었다. 이 영감은 \"세계의 역사는 우리에게 알려준다. 주어진 게임에서 이길 수 없다면 규칙을 바꿔라\" 라는 것으로 규정된다. 이후 1950년대부터 활발해지기 시작한 독일 라인 지역의 액션뮤직의 현장에서 백남준은 ‘아시아에서 온 문화테러리스트’(앨런 카프로)라고 불릴 정도의 탁월한 퍼포먼스 아티스트로 활약했다. 1959년 ‘존 케이지에게 보내는 경의’에서 음악적 콜라주와 함께 피아노를 부수는 퍼포먼스를 선보이는 것을 시작으로, 바이올린을 단숨에 파괴하거나(바이올린 솔로) 존 케이지가 착용한 넥타이를 잘라버리는 퍼포먼스(피아노 포르테를 위한 연습곡)가 특히 유명하다. 이 초기 퍼포먼스에 대해 백남준은 스스로 \"충격, 표현주의, 낭만주의, 클라이맥스, 놀라움, 기타 등등을 보여준 것\"이라고 표현한 바 있다. 1961년 카를하인츠 슈토크하우젠의 음악 퍼포먼스 ‘오리기날레’에서 머리와 넥타이로 잉크를 묻혀 두루마리에 흔적을 남기는 독특한 퍼포먼스 심플 머리를 위한 선율을 보여주기도 했다. 1960년대 초반 조지 마키우나스, 요셉 보이스 등과 의기투합하여 플럭서스 활동을 함께 전개했다. 다다이즘에 영향을 받은 플럭서스는 헤라클레이투스가 주장한 ‘변화 생성의 흐름’ 이라는 개념을 받아들여 \"목적이 없는 자유, 실험을 위한 실험\"이라는 명목 하에 이벤트와 퍼포먼스 그리고 전위음악에 주력했고, 곧 유럽과 아시아 및 미국 등 세계로 퍼져나갔다.\\n\\n1961년 백남준은 작곡가 슈토크하우젠이 중심이 된 쾰른의 WDR 전자음악 스튜디오에 출입했으며, 이때 1950년대부터 노버트 위너에 의해 제안된 '사이버네틱스' 개념 하에서 전자공학을 공부한 것으로 알려져 있다. 특히 레이다와 TV 작업에 몰두했던 독일 작가 칼 오토 괴츠의 실패를 거울 삼아서 2년여 동안 홀로 TV를 활용한 미디어 아트로서의 가능성을 탐문하고 실험했다. 그 성과를 바탕으로 1963년 독일 부퍼탈 파르나스 갤러리에서 자신의 첫 번째 전시 ‘음악의 전시-전자 텔레비전’을 열었으며, 13대의 실험적인 TV를 통해 훗날 비디오 아트라고 불리게 되는 초기 형태를 보여주었다. 이 전시는 백남준이 자신의 즉흥음악 또는 무음악의 발상에 기초한 실제 퍼포먼스, 그 흔적과 결과물처럼 유럽에서 자신이 진행해온 작업의 성과와 함께 TV를 비롯한 미디어로 새로운 예술의 형태를 시도하는 작업이 공존하고 있었다. ‘적분된 피아노’, ‘랜덤 액세스 뮤직’, ‘레코드 샤슐릭’같은 20세기 전위음악에 젖줄을 대고 있는 실험적 음악의 시도와 ‘잘린 소머리’, ‘파괴된 누드 마네킹’, ‘보이스의 피아노 파괴 퍼포먼스’'걸음을 위한 선' '바람을 위한 선' 같은 우상파괴적 설치 작업 및 참여예술 형태의 퍼포먼스가 함께 펼쳐졌다. 청년 백남준은 이러한 전시 내용을 ‘동시성’, ‘참여’, ‘임의접속’ 등등에 관한 16개의 테마로써 정리하는 종합적인 큐레이팅 전시로 보여주었기 때문에 최근날짜=2015-5-9 독일, 오스트리아 등지의 연구자들 사이에서 이 전시의 중요성을 재평가하면서 아카이빙 작업과 연구가 점차 활발해지는 추세에 있다.\\n\\n1964년 백남준은 일본으로 건너가 '로봇 K-456'을 제작했으며, 곧 세계 예술의 중심지 뉴욕으로 이주했다. 뉴욕 언더그라운드 필름 운동의 중심지 중 하나였던 시네마테크 필름메이커스에 관여했으며, 스스로 영상 작업을 진행하기도 했다. 1965년 소니의 포타팩(세계 최초의 휴대용 비디오카메라)으로 미국 뉴욕을 첫 방문 중이던 교황 요한 바오로 6세를 촬영하여 곧바로 그 영상을 ‘카페 오 고고’에서 방영했다. 이것이 미술사에서는 한동안 공식적인 비디오 아트의 시작으로 기록되어 있었다. 지금은 1963년 첫번째 전시를 비디오아트의 기점으로 보고 있다. 또한 첼로 연주자이자 뉴욕 아방가르드 페스티벌의 기획자였던 샬럿 무어먼과 함께 비디오 아트와 음악을 혼합한 퍼포먼스 작업을 활발히 펼쳤다. 특히 1967년 음악에 성적인 코드를 집어넣은 백남준의 ‘오페라 섹스트로니크’에서 샬럿 무어먼은 누드 상태의 첼로 연주를 시도하다가 뉴욕 경찰에 체포되어 큰 사회적 파장을 불러일으켰다. 그 결과로 인해 예술 현장에서 누드를 처벌할 수 없다는 뉴욕의 법 개정이 이루어지는 획기적인 진전이 일어난다. 이후에도 미디어 아트가 미국 뉴욕을 중심으로 서서히 득세해가는 시대적 조류 속에서 두 사람은 ‘살아있는 조각을 위한 TV 브라’, ‘TV 첼로’, ‘TV 침대’ 등등 미디어 테크놀로지와 퍼포먼스를 결합한 많은 예술활동을 전개했다.\\n\\n1974년부터 백남준은 영상으로서의 비디오 아트를 새로운 미술적 방법인 설치 미술로 변환하여 다양하게 진행했으며, 그에 따라 ‘TV 붓다’, ‘달은 가장 오래된 TV다’, ‘TV 정원’, ‘TV 물고기’ 등등 많은 대표작을 선보였다. 이 작품들은 비디오 아트와 생명의 상징을 전자적으로 결합하여 테크놀로지로 물든 현대 사회의 새로운 합성적 생명력을 추구했다는 평판을 얻었다. 특히 'TV 붓다'는 그의 초기 비디오 설치의 경향을 잘 보여주는 대표작으로서 가장 널리 알려졌다. 1960년대 후반부터 미국의 문화적 환경이 미디어 테크놀로지에 호의적으로 변화하면서 폭발적인 수준의 미디어 전시가 빈발했고, 백남준의 비디오 아트는 그룹전 형태로 수많은 전시에 활발하게 참여했다. 1974년 뉴욕 에버슨 미술관 개인전과 함께 비데아 앤 비디올로지: 1959-1973이라는 예술과 기술을 교차시키는 하이브리드에 관한 저작을 내놓아 미디아 아트의 이해를 도왔으며, 1982년 뉴욕 휘트니 미술관에서 개최된 ‘백남준 회고전’을 통해 그의 예술 세계가 뉴욕을 중심으로 미국 사회에 많이 알려지는 계기가 되었다.\\n\\n1970년대 중반부터는 뉴욕 WNET 방송국, 보스턴 WGBH 방송국과 협력하여 자신의 비디오 아트를 공중파 TV에서 방송했고, 이는 네트워크 방송을 끌어들여 예술 세계의 영역 확장을 꾀한 놀라운 시도였다. 나아가 1984년 1월 1일 ‘굿모닝 미스터 오웰’은 세계적인 아티스트들의 퍼포먼스를 뉴욕 WNET 방송국과 파리 퐁피두 센터를 연결한 실시간 위성 생중계로 방송하여 전 세계적 반향을 불러일으켰다. 샌프란시스코와 서울까지 연결된 이 국제적인 규모의 위성 아트에는 로리 앤더슨, 피터 가브리엘, 오잉고 보잉고, 존 케이지, 요셉 보이스, 앨런 긴즈버그, 이브 몽탕 등의 예술가과 대중문화의 스타가 다수 참여했으며, 전 세계 2천 5백만명(재방송 포함)이 시청하였다. 이로써 전세계적인 차원의 대중적 각인이 이루어졌고, 마치 대중스타처럼 성가를 높였다. 이후에도 ‘위성 아트’ 3부작으로 명명된 ‘바이 바이 키플링’(1986), ‘손에 손잡고’(1988) 등이 이어져 위성 연결을 통한 전세계의 네트워크가 어떻게 새로운 부족사회를 낳는지 실감시켰다.\\n\\n1984년 일본 도쿄 소게쓰[草月]홀에서 백남준과 요셉 보이스가 공동으로 참여한 퍼포먼스 '코요테 콘서트 II'가 펼쳐졌으며, 이들이 각각 몽골의 늑대 울음소리와 초원의 달빛을 음악적으로 표현한 것을 통해 1961년 첫 만남부터 계속 이어온 공동의 관심사가 무엇인지 알려지기 시작했다. 그러나 이들의 이후 퍼포먼스 계획은 요셉 보이스의 죽음과 함께 미완으로 끝났다.\\n\\n1992년 '비디오 때, 비디오 땅' 전시는 독일 쿤스트 할레와 스위스 쮜리히에서 진행된 전시의 서울 투어전시로서 당시 과천 막계동에 자리잡은 지 몇 년 되지 않았던 국립현대미술관 과천관에 총 관람 인원 20만명이 찾은 첫번째 전시로 기록되었다. 이 전시의 주요한 작품은 '나의 파우스트' 시리즈이다. 1993년 백남준은 독일 작가 한스 하케와 함께 베니스 비엔날레 독일관 작가로 초대되어 국가전시관 부문에서 황금사자상을 수상했다. '문명의 동서남북'이라는 주제의 이 전시에서 그는 북방 유라시아의 유목 문화를 배경으로 전자적 소통을 시도하는 비디오 로봇 형태의‘칭기스칸의 복권’, ‘마르크폴로’, ‘훈족의 왕 아틸라’,‘스키타이의 왕 단군’, ‘로봇 전사’, ‘고대기마인물상’ 같은 작품들을 중심으로 다수의 작품을 내놓았다.\\n\\n1995년 백남준은 제1회 광주 비엔날레 태동의 산파 역할을 하며, 한국 미술이 국제적으로 진출할 수 있도록 조력자 역할을 수행했다. 제1회 광주 비엔날레는 국내외 총 관람객이 160만 명에 달하는 성공을 거두었고, 특히 백남준이 직접 관여한 ‘INFO Art’전이 주목받았다. 또한 백남준은 같은 해 베니스 비엔날레 국가전시관 부문에 한국관을 설치하는 일에 결정적인 역할을 했다. 이로써 한국 미술이 세계 미술계에 진출하는 교두보가 마련되었다고 하겠다. 같은 해 그의 예술적 정수가 담긴 일렉트로닉 수퍼하이웨이 전시를 진행했다. 1996년 4월 9일 뇌졸중으로 쓰러졌으며, 6개월만인 그해 10월에 재기했다. 2000년 뉴욕 구겐하임 미술관에서 ‘백남준의 세계’ 라는 대규모 회고전이 열렸으며, 이때 백남준은 레이저 아트 ‘야곱의 사다리’, ‘삼원소’ 등을 전시한 바 있다.\\n\\n2006년 1월 29일, 미국 마이애미의 자택에서 노환으로 75세로 별세, 유해가 서울, 뉴욕, 독일에 나눠서 안치되었다.   \n",
       "4                                                                                                                                                                                                                                                                                                                                                                                                                                                                                                                                                                                                                                                                                                                                                                                                                                                                                                                                                                                                                                                                                                                                                                                                                                                                                                                                                                                                                                                                                                                                                                                                                                                                                                                                                                                                                                                                                                                                                                                                                                                                                                                                                                                                                                                                                                                                                                                                                                                                                                                                                                                                                                                                                                                                                                                                                                                                                                                                                                                                                                                                                                                                                                                                                                                                                                                                                                                                                                                                                                                                                                                                                                                                                                                                                                                                                                                                                                                                                                                                                                                                                                                                                                                                                                                                                                                                                                                                                                                                                                                                                                                                                                                                                                                                                                                                                                                                                                                                                                                                                                                                                                                                                                                                                                                                                                                                                                                                                                                                                                                                                                                                                                                                            기원전 2~1세기 그리스의 히파르코스와 프톨레마이오스 등은 각도에 대해 달라지는 현의 길이를 다룬 적이 있다.\\n\\n현재 쓰는 것과 같은 삼각함수의 원형은 굽타 시대 인도 천문학에서 찾아볼 수 있다. 기원후 4~5세기 인도의 천문학 책이 산스크리트어에서 아랍어를 통해 라틴어로 번역되면서 유럽에 전해졌다.\\n\\n삼각함수가 동아시아에 전해진 것은 16~17세기 때이다. 독일의 선교사이자 과학자인 요한 슈렉이 명나라에서 저술한 《대측(大測)》(1631) 등의 책에서 사인·코사인·탄젠트를 정현(正弦)·여현(餘弦)·정절(正切)이라고 번역했다. 이 이름은 근대화되기 전의 조선·일본에서 쓰였고, 지금도 중국에서 쓰인다.   \n",
       "5                                                                                                                                                                                                                                                                                                                                                                                                                                                                                                                                                                                                                                                                                                                                                                                                                                                                                                                                                                                                                                                                                                                                                                                                                                                                                                                                                                                                                                                                                                                                                                                                                                                                                                                                                                                                                                                                                                                                                                                                                                                                                                                                                                                                                                                                                                                                                                                                                                                                                                                                                                                                                                                                                                                                                                                                                                                                                                                                                                                                                                                                                                                                                                                                                                                                                                                                                                                                                                                                                                                                                                                                                                                                                                                                                                                                                                                                                                                                                                                                                                                                                                                                                                                                                                                                                                                                                                                                                                                                                                                                                                                                                                                                                                                                                                                                                                                                                                                                                                                                                                                                                                                       아미노산(amino acid)은 생물의 몸을 구성하는 단백질의 기본 구성 단위로, 단백질을 완전히 가수분해하면 암모니아와 함께 생성된다. 화학적으로 아미노기와 카복시기를 포함한 모든 분자를 지칭하기도 하며 화학식은NHCHRCOOH(n=1~20)이다.\\n\\n생화학에서는 흔히 α(알파)-아미노산을 간단히 아미노산이라 부른다. α-아미노산은 아미노기와 카복시기가 하나의 탄소(알파 탄소라고 부른다)에 붙어있다. 아미노산의 일종인 프롤린(proline)은 실제로는 아미노기 대신 이미노기를 포함하기 때문에 엄밀히 말하면 '이미노산'(imino acid)으로 분류해야 되지만, 생화학적으로 보통의 아미노산과 비슷한 기능을 수행하기 때문에 아미노산으로 분류한다. 일반적인 α-아미노산의 구조는 오른쪽 그림과 같다.\\n\\n아미노기와 카복실기를 모두 포함하고 있어, 아미노산은 중성에서 양쪽성 이온으로 존재하며, 카복실기가 공명 상태로 안정화를 취한다. 오른쪽의 구조에서 R은 나머지라는 뜻의 \"Residue\" 혹은 \"Remainder\"의 머릿글자로 곁사슬(Side chain)을 나타내고, 곁사슬에 무엇이 붙느냐에 따라 아미노산의 종류가 결정된다. 아미노산은 곁사슬의 성질에 따라 산성, 염기성, 친수성(극성), 소수성(무극성)의 네 가지 종류로 구분된다. 곁사슬이 수소 원자뿐인 글라이신(glycine)을 제외하고, 다른 아미노산은 모두 두가지 광학 활성을 가져, D형과 L형으로 구분된다. 단백질(protein)을 구성하는 아미노산의 거의 대부분은 L-아미노산 형태로 존재한다. 청자고둥(cone snail)같은 일부 특이한 바다생물에서 D-아미노산이 발견되기도 했다. 단백질은 아미노산의 탈수반응이자 펩타이드 결합(peptide bond)인 축합 중합을 통해 만들어진다.   \n",
       "6                                                                                                                                                                                                                                                                                                                                                                                                                                                                                                                                                                                                                                                                                                                                                                                                                                                                                                                                                                                                                                                                                                                                                                                                                                                                                                                                                                                                                                                                                                                                                                                                                                                                                                                                                                                                                                                                                                                                                                                                                                                                                                                                                                                                                                                                                                                                                                                                                                                                                                                                                                                                                                                                                                                                                                                                                                                                                                                                                                                                                                                                                                                  아오조라 문고(靑空文庫, あおぞらぶんこ|아오조라 분고)는 ‘일본어판 구텐베르크 프로젝트’로 불리는 일본의 인터넷 전자도서관으로, 저작권이 풀린 문학작품을 수집, 전자문서화해서 인터넷에 공개하고 있다. 저자 사후 50년이 지난 메이지, 쇼와 시대 초기의 일본 문학 작품이 그 대부분을 차지하고 있고, 일본어 외 문학 작품의 일본어 번역 작품도 다수 있다. 1997년 2월 도미타 미치오, 노구치 에이치, 야마키 미에, 란무로 사테이 등 4명이 창설하여 시작되었다.  2016년 연간 방문객수는 940만 건 이상이다. \\n\\n아오조라 문고에 수록된 작품은 JIS X 0208에 해당되는 한자 범위 내에서 자원봉사자에 의해 아오조라 문고 형식 텍스트파일이나 HTML 파일로 전자화된다. 또 아오조라 문고 수록파일 취급기준에 따라 자유롭게 이용할 수 있기 때문에, 수록된 작품을 PC는 물론 PDA와 휴대전화로도 볼 수 있다. 텍스트 파일을 큰 글자로 인쇄하거나 전용 소프트웨어에 불러들여 시각장애인용으로 이용하는 방안도 기대되고 있다. 아오조라 문고의 열람 소프트웨어는 따로 개발 및 제공되고 있는 것은 없지만, 전자사전이나 아이폰용 어플리케이션 등은 타사에서 개발하여 출시되어 있다 저자 사망 이후 50년이 지나 저작권이 소멸한 메이지 시대부터 쇼와 시대 초기까지의 서적 대부분이 존재한다. 외국 번역작품이나 저자가 무료보기를 인정한 현대작품도 포함된다. 장르는 정치부터 취미까지 다양하지만, 비교적 문학작품(시대소설, 추리소설등의 오락작품 포함)이 많다. 유명작가의 작품이 모두 갖춰져있진 않지만 그래도 일본어작품에 관련해서는 충실하게 갖춰진 편이다. (번역작품의 경우 번역저작권을 문제로 수가 많지 않다.)\\n\\n잘 알려지지 않은 작품을 보존, 소개하는 장점도 있다. 작품 텍스트화는 지금도 현재진행형이며 2011년 3월 15일 현재 등록작품수가 1만권이 넘었다.\\n고전작가인 모리 오가이, 나츠메 소세키, 아쿠타가와 류노스케, 최근의 작가로는 나카지마 아츠시, 다자이 오사무, 하야시 후미코, 미야모토 유리코, 호리 다쓰오, 사카구치 안고, 다카무라 고타로, 나가이 가후, 요시카와 에이지 등 인물의 작품이 있다. 아오조라 문고는 자원봉사로 운영되며 열람 역시 무료이다.  서비스 개시 초반에는 보이저 사에서 서버를 제공하였다.  1998년부터 1999년까지는 토미타가 작업 수칙과 매뉴얼을 만들었다. \\n\\n자원봉사로 운영되기 때문에 작품의 입력과 교정 역시 자원봉사자가 한다 입력은 원본을 보면서 타자입력이나 스캐너로 입력하는 방법으로 이뤄진다 또 작품을 입력하는 '입력자'와 입력된 작품을 교정하는 '교정자'는 별도의 자원봉사자가 담당한다.  따라서 작품이 공개되기 전까지는 작품을 입력한 뒤 교정자가 교정을 예약할 때까지 '교정대기' (校正待ち)가 되고, 작업을 멈추게 된다. 즉, 입력하는 자원봉사자가 작품을 입력해 교정을 맡은 자원봉사자가 교정예약을 해서, 교정작업을 완료하기 전까지는 작품을 공개할 수 없다. 때문에 입력이 완료되어도 작업 상태가 '교정대기' 상태인 작품이 증가하고\\n있다.  이는 입력에 비해 교정 작업이 부족하기 때문으로, 아오조라 문고 출범 당시부터 안고 있는 문제점이기도 하다. 이 문제에 대해서는 작품의 교정작업을 하지 않고 공개하는 방안과 입력자가 교정한 것도 인정하자는 방안이 제기된 적이 있지만 현재까지도 이 방안은 채택되지 못하고 있다 대신 2011년 12월 16일 공개분부터는 기부금을 재원으로 삼은 '유상교정' 서비스가 진행되고 있다. \\n\\n2013년 8월 아오조라 문고의 설립자인 토미타가 사망한 것을 계기로, 아오조라 문고에 지속적인 지원을 해줄 '책의 미래 기금' (本の未来基金)이 설립됐다.  하지만 2015년부터는 엔지니어가 없는 상태로 서버를 강제로 돌리고 있으며, 서버 자체도 노후화되고 있다는 점이 문제되고 있다. 이 때문에 2015년 5월 \"'Code for 아오조라 문고' 아이디어 송\"이 개최되어 향후 시스템 운용에 대한 의견 교환이 이뤄졌다.  그 이후에는 해당 모임을 바탕으로 시스템 관리와 코드수정 등을 맡는 'aozorahack' 프로젝트가 진행되고 있다. 텍스트 파일을 아오조라 문고에 수록할 때, 텍스트 파일이 갖추어야 할 서식을 '아오조라 문고' 형식이라 부른다.\\n\\n아오조라 문고 형식은 텍스트 파일로서 많은 환경에서 읽을 수 있도록 규격화되어있다. 때문에 가능한 한 원본의 충실한 재현을 목표로 삼고 있지만, 줄 바꿈이나 삽화 등의 정보는 원칙적으로 포함되지 않는다.\\n\\n아오조라 문고 형식에 대응하는 텍스트 뷰어와 텍스트 편집기도 존재하며, 올림문자와 방점 등도 재현할 수 있다. 또 이러한 텍스트 뷰어에서는 본래 아오조라 문고 형식에 포함되지 않았던 삽화 정보를 삽입하거나 세로쓰기로 표시할 수 있으며, 텍스트를 읽기 쉽도록 만드는 다양한 기능이 포함되어 있다. 이러한 소프트웨어는 유료와 무료를 불문하고 종류가 다양하다. 일본어 표기에 많이 쓰이는 올림문자 (후리가나)는 그대로 올려쓰지 않고 '｜'나 '《》'로 표시한다.  올림문자를 《》 로 묶거나 ｜로 올릴 문자열을 특정하는 방식은 일본 시각장애인 독서지원협회 (BBA) 의 원문입력 수칙에 따른 것이다.  \\n\\n이 같은 방식을 예시로 들자면 다음과 같다.\\n:青空｜文庫《ぶんこ》 아오조라 문고\\n라고 표기했다면 'ぶんこ' (분코)라는 올림표기가 '文庫' 부분에 걸려 있는 것이다. 다만,\\n:本日は晴天《せいてん》なり。 오늘은 맑은 하늘.\\n처럼 올림표기를 쓸 한자가 가나로 충분히 구분된다면 ｜를 써서 분리할 필요가 없으므로 쓰지 않는다. 또한,\\n:｜ブルースカイ《青空》 블루스카이 (\"청공\")\\n처럼 가나에 올림표기를 강제로 쓰는 것도 가능하다.   \n",
       "7                                                                                                                                                                                                                                                                                                                                                                                                                                                                                                                                                                                                                                                                                                                                                                                                                                                                                                                                                                                                                                                                                                                                                                                                                                                                                                                                                                                                                                                                                                                                                                                                                                                                                                                                                                                                                                                                                                                                                                                                                                                                                                                                                                                                                                                                                                                                                                                                                                                                                                                                                                                                                                                                                                                                                                                                                                                                                                                                                                                                                                                                                                                                                                                                                                                                                                                                                                                                                                                                                                                                                                                                                                                                                                                                                                                                                                                                                                                                                                                                                                                                                                                                                                                                                                                                                                                                                                                                                                                                                                                                                                                                                                                                                                                                                                                                                                                                                                                                                                                                                                                          《자연철학의 수학적 원리》(自然哲學- 數學的原理, Philosophiae Naturalis Principia Mathematica|필로소피아이 나투랄리스 프린키피아 마테마티카)는 서양의 과학 혁명을 집대성한 책의 하나이다. 줄여서 '프린키피아'(Principia)라고 불리기도 한다. 1687년에 나온 아이작 뉴턴의 세 권짜리 저작으로, 라틴어로 썼다.\\n\\n이 책에서 뉴턴은 고전 역학의 바탕을 이루는 뉴턴의 운동 법칙과 만유인력의 법칙을 기술하고 있다. 당시 요하네스 케플러가 천체의 운동에 대한 자료를 바탕으로 알아낸 케플러의 행성운동법칙을 뉴턴은 자신의 위 두 법칙들로써 증명해 낸다. 그는 이러한 일련의 작업을 통해서 코페르니쿠스에서 시작되어 케플러, 갈릴레오를 거치면서 이루어져 온 천문학의 혁명을 완성하는 한편, 갈릴레오 이후 데카르트, 하위헌스 등을 통해서 이루어져 온 근대 역학의 성공을 눈부시게 보여주고 있다.\\n\\n에드먼드 핼리도 이 책을 바탕으로 1530년, 1607년, 1682년에 나타났던 혜성들의 궤도를 계산해, 이 혜성 모두가 동일한 하나의 천체일 가능성이 높다는 사실을 발견했고 일정한 주기에 따라 1750년대 말에 다시 나타나리라고 예견했다. 뉴턴도 핼리도 죽은 뒤인 1758년에 수수께끼 같은 천체가 발견되었는데 그것이 다름 아닌 핼리 혜성이다. \\n\\n제1편은 운동에 관한 일반적 명제를 논술하였고, 제2편은 매질 속에서의 물체의 운동을 다루고, 마지막 제3편은 코페르니쿠스의 지동설, 케플러의 행성의 타원궤도 등의 행성의 운동을 증명하였다.\\n\\n뉴턴은 그의 이론을 기술하기 위해 미적분학을 역학에 적용하였지만, 이 책에서는 주로 기하학적인 증명 방법을 사용하고 미적분을 거의 사용하지 않고 있는데, 이는 당시의 사람들의 이해를 고려해서라고 한다.\\n\\n1687년에 초판, 1712년 증보 개정판, 그리고 1726년 제3판이 출간되었다.   \n",
       "8                                                                                                                                                                                                                                                                                                                                                                                                                                                                                                                                                                                                                                                                                                                                                                                                                                                                                                                                                                                                                                                                                                                                                                                                                                                                                                                                                                                                                                                                                                                                                                                                                                                                                                                                                                                                                                                                                                                                                                                                                                                                                                                                                                                                                                                                                                                                                                                                                                                                                                                                                                                                                                                                                                                                                                                                                                                                                                                                                                                                                                                                                                                                                                                                                                                                                                                                                                                                                                                                                                                                                                                                                                                                                                                                                                                                                                                                                                                                                                                                                                                                                                                                                                                                                                                                                                                                                                                                                                                                                                                                                                                                                                                                                                                                                                                                                                                                                                                                                                                                                                                                                                                                                                                                                                                                                                                                        주기율표(週期律表, 주기률표, periodic table) 또는 주기표(週期表)는 원소를 구분하기 쉽게 성질에 따라 배열한 표로, 러시아의 드미트리 멘델레예프가 처음 제안했다. 1913년 헨리 모즐리는 멘델레예프의 주기율표를 개량시켜서 원자번호순으로 배열했는데, 이는 현대의 원소 주기율표와 유사하다.\\n가장 많이 쓰이는 주기율표에는 단주기형과 장주기형이 있다. 단주기형 주기율표는 1주기와 3주기를 기준으로 하고, 4주기 아래로는 전형원소와 전이원소가 같은 칸에 있다. 이 단주기형 주기율표는 초기에 쓴 모델로 원자가 많이 알려지지 않았을 때 많이 사용하였다. 장주기형 주기율표는 현재 가장 많이 쓰고 있는 주기율표이다. 수소와 헬륨의 위치에 대한 논쟁이 이어지고 있다. 현재의 주기율표에서는 수소를 알칼리 금속과 마찬가지로 가장 바깥쪽 껍질에 전자를 하나 가진 리튬 위에 배열한다. 그러나 일부에서는 수소는 금속 원소가 아니며 수소가 전자의 구조 면에서는 알칼리 금속이 아닌 할로겐에게 가깝고 할로젠 원소와 성질이 비슷하다고 주장하며, 수소의 위치를 17족 원소로 옮겨야 한다고 주장한다. \\n\\n마찬가지로 생각해서, 수소가 1족 원소라면 헬륨도 베릴륨 위에 2족 원소로 배치해야 한다는 설이 있다. 그러나 헬륨은 비활성 기체이므로 현재처럼 네온 위인 18족 원소가 가장 적당하다고 한다.   \n",
       "9   통계학은 관찰 및 조사로 얻을 수 있는 데이터로부터, 응용 수학의 기법을 이용해 수치상의 성질, 규칙성 또는 불규칙성을 찾아낸다. 통계적 기법은, 실험 계획, 데이터의 요약이나 해석을 실시하는데 있어서의 근거를 제공하는 학문이며, 폭넓은 분야에서 응용되어 실생활에 적용되고 있다 통계학은 실증적인 뿌리를 가지고 있으며 실질적 활용에 초점을 맞추고 있기 때문에, 흔히 순수수학과는 다소 구분되는 응용수학의 일종으로 여겨진다. 통계학의 방법을 통해, 실제의 수치들을 왜곡하여 해석하는 것을 막고 연구를 바탕으로 합리적인 의사결정을 할 수 있다.\\n  \\n통계학은 과학, 산업, 또는 사회의 문제에 적용되며 모집단을 연구하는 과정이 우선시된다. 모집단은 \"한나라 안에 사는 모든 사람\" 또는 \"크리스탈을 구성하는 모든 원자\"와 같이 일정한 특성을 지닌 집단이면 어느 것이든 가능하다. 통계학자들은 전체인구(인구조사를 하는 기업)에 대한 데이터를 편집한다. 이것은 정부의 통계관련 법률요약집같은 조직화된 방법으로 수행될 수도 있다. 기술통계학은 모집단의 데이터를 요약하는데 사용된다. 도수 및 비율 (경주 등) 범주 형 데이터를 설명하는 측면에서 더 유용할 동안 수치 기술자는 연속적인 데이터 유형 (소득 등)에 대한 평균과 표준 편차를 포함한다. 데이터 분석 방법 엄청난 자료가 연구되는 현대 사회에서 경제지표연구, 마케팅, 여론조사, 농업, 생명과학, 의료의 임상연구 등 다양한 분야에서 응용되고 있는 통계는 단연 우리 사회에서 가장 필요하고 실용적인 학문이라고 할 수 있다. 영어의 statistics(통계학, 통계)는 확률을 뜻하는 라틴어의 statisticus(확률) 또는 statisticum(상태), 이탈리아어의 statista(나라, 정치가) 등에서 유래했다고 한다. 특히 국가라는 의미가 담긴 이탈리아 어 statista의 영향을 받아, 국가의 인력, 재력 등 국가적 자료를 비교 검토하는 학문을 의미하게 되었다. 근대에서의 통계학은 벨기에의 천문학자이자 사회학자이며 근대 통계학을 확립한 인물로 평가 받는 케틀레가 벨기에의 브뤼셀에서 통계학자들로 구성된 9개의 회의를 소집한 것을 기원으로 하고 있다\\n수집되고 분류된 숫자 데이터\"라는 의미로 사용된 것은 1829년부터이고, 약자로 stats가 처음 기록된 것은 1961년부터이다. 또, 통계학자의 의미인 statistician이 사용된 것은 1825년부터이다.\\n\\n한자 문화권에서 사용되는 통계(統計)라는 단어의 기원은 명확하게 알려진 바는 없지만, 막부 말기에서 메이지 천황 초년에 걸쳐 양학자인 야나가와 슌친(柳川春三)이 현재의 의미로 이 단어를 처음 사용했다고 여겨진다. 그가 1869년에 편찬한 책자에서 통계가 현재의 용법으로 사용되었다는 기록이 남아있다. 그 후 1871년에는 대장성에 통계사(統計司)와 통계요(統計寮)가 설치되면서 통계라는 단어의 사용이 대중화되었다. 매우 다양한 분야의 연구에서 주어진 문제에 대하여 적절한 정보를 수집하고 분석하여 해답을 구하는 과정은 아주 중요하다. 이런 방법을 연구하는 과학의 한 분야가 통계학이다. 통계학을 필요로 하는 연구분야는 농업, 생명과학, 환경과학, 산업연구, 품질보증, 시장조사 등 매우 많다. 또한 이러한 연구방식은 기업체와 정부의 의사결정과정에서 현저하게 나타난다. 주어진 문제에 대하여 필요한 자료의 형태, 자료를 수집하는 방법, 문제에 대한 최선의 답을 구하기 위한 분석방법을 결정하는 것이 통계학자의 역할이다.\\n\\n자료는 어떤 특정한 현상(주제, 사실)을 조사하기 위하여 설계하고 계획한 실험에서 나온다. 이런 종류의 자료, 즉 실험자료는 농업연구와 같은 분야에 흔히 있다. 통계학자들은 이미 나온 실험자료를 분석하는데만 관심이 있지않고, 자원을 효과적으로 사용하고 주어진 문제를 실험으로 해결하기 위하여 처음부터 실험을 계획하는데 관심이 있다.또 다른 형태의 자료를 관측으로부터 얻는다. 조사자들은 연구실 밖으로 나가서 실제로 존재하는 것을 조사한다. 이런 예로는 인구 및 주택센서스와 같은 전수조사, 여론조사, 교통량조사 등등이 있다. 이 경우 조사방법과 설문지 작성은 매우 중요한 문제가 된다.\\n설문지 조사에 있어서 가장 핵심적인 부분은 설문지 작성 요령이다. 묻고자 하는 질문을 짧고 명확하게 물어야 하고 응답자가 고민을 하지 않고 바로 대답할 수 있도록 구성해야 한다. 설문지는 묻고자 하는 질문이면 무엇이든지 다 물을 수 있는 것이 아니라 문제의 핵심적 내용을 담고 있어야 한다. 조사대상을 기준으로하면 대상이 되는 통계 집단의 단위를 하나하나 전부 조사하는 관찰 방법인 전수조사(全數調査)와 모집단의 일부를 표본으로 추출하여 조사한 결과로써 모집단 전체의 성질을 추측하는 통계 조사 방법인 표본조사(標本調査)가 대표적인 조사 방법이다. \\n\\n* 전수조사: 조사의 대상이 되는 자료 전체를 빠짐없이 조사하는 것이다.(모집단 전체를 조사)\\n* 표본조사: 조사의 대상이 되는 자료의 일부만을 택하여 조사함으로써 전체를 추측하는 조사이다 의식적으로 표본을 추출하는 유의 추출법과 확률론에 입각하여 표본을 추출하는 임의 추출법이 있다.\\n\\n이러한 조사를 통해 자료를 수집할때에는 자료의 양질이 측정수준에 따라 분류된다.\\n자료의 측정수준은 다음과 같이 분류된다. 측정수준에 따라 통계에 이용해야 할 요약 통계량이나 통계 검정법이 다르게 된다.\\n\\n* 분류 자료: 수치로 측정이 불가능한 자료이다. 질적 자료라고도 한다.\\n** 명목척도(nominal scale)： 단순한 번호로 차례의 의미는 없다. (예: 전화번호, 등번호, 성별, 혈액형, 주소 등.)\\n** 순서척도(서열척도)(ordinal scale)： 순서가 의미를 가지는 번호. (예: 계급, 순위, 등급 등.)\\n* 수량 자료: 수치로 측정이 가능한 자료이다. 양적 자료라고도 한다.\\n** 구간척도(등간척도, interval scale)： 순서뿐만 아니라 그 간격에도 의미가 있으나, 0에 절대적인 의미는 없다. (예: 온도, 지능지수 등.)\\n** 비율척도(ratio scale)： 0을 기준으로 하는 절대적 척도로, 간격뿐만이 아니라 비율에도 의미가 있다. (예: 절대온도, 금액, 몸무게, 키 등.) 설문지 작성은 실험계획의 일부이기도 하지만, 대개 별개의 실습을 통해 체득하여야 한다.\\n설문지는 \"앙케이트(Enquete)\"라고도 하며 통계 자료에 필요한 자료를 수집하기 위해 필요한 질문들을 기록하는 하나의 서식이다. 이를 이용해 설문지 작성자, 응답자들의 객관적인 생각, 각자의 가치와 신념, 태도 등과 같은 여러 정보를 수집할 수있다. 설문지는 가능한 표준화 되도록 작성해야한다. 필요한 정보를 더욱 포괄적으로 획득하기 위해 설문지는 다섯 가지 요소 응답자에 대한 협조요청, 식별자료, 지시사항, 설문문항, 응답자의 분류를 위한 자료로 구성된다. 설문지는 여러 번 수정, 검토 과정을 거쳐야 의도한 자료의 수집이 가능하다. 설문지를 이용한 통계자료 수집은 비교적 비용이 적게들고 큰 표본에도 쉽게 적용이 가능하다는 장점이 있다. 그러나 다른 자료수집 방법에 비해 무응답률이 높은 편이며 응답에 대한 보충설명의 기회가 주어지지 않는다는 단점이 있다. 추론 통계는 기술통계로 어떤 모집단에서 구한 표본정보를 가지고 그 모집단의 특성 및 가능성 등을 추론해내는 통계적 방법이다. 보통 수집된 자료는 어떻게 분석해야 할지 미리 정해져 있기도 하지만, 대부분 획득한 자료(모집단)을 가지고 여러 그래프를 그려보는 와중에 또다른 별개의 분석방법을 추가로 채택할 필요성을 느끼게 된다. 이러한 모집단에 대한 전체적 조감을 해보고 또다른 분석방향을 모색해 보는 과정에 해당한다\\n추론 통계는 바탕인 기술 통계량이 있어야 한다. 이 추론 통계를 하는 이유는 모든 사람을 대상으로 검사를 하는 것은 비합리적이고 대규모 집단을 가지고 연구하는 것이 소수의 집단을 가지고 연구하는 것보다 훨씬 경제적이고 효율적이기 때문이다. 추론 통계는 기술 통계량의 정확성을 유지하는 작업으로서 사용한다. 보통 일반적인 추론은 실험 결과가 기존의 방식, 또는 다른 품종간 비교 등에서 차이점이 유의한지를 검증하는 것이다. 통계학은 컴퓨터 과학, 프로그래밍 언어, 선형대수학, 해석학, 분포론, 수치해석, 확률론 등 여러 학문과 관련되어 있다.\\n\\n통계학과 사회과학의 발전에 따라 회귀분석, 인과분석 등과 같은 평가모형들이 발전되고, 이들이 정책평가에 응용됨으로써 정책영향의 평가에 공헌을 하고 있으며, 아직도 계속 발전되어 가는 과정에 있다.\\n\\n특히 정보화사회와 빅데이터 시대를 맞아 다양한 사회정보의 수집·분석·활용을 담당하는 새로운 직종으로 기업, 정당, 지방자치단체, 중앙정부 등 각종 단체의 시장조사 및 여론조사 등에 대한 계획을 수립하고 조사를 수행하며 그 결과를 체계적으로 분석, 보고서를 작성하는 관련 학문이 필요하게 되어 사회조사분석학이 등장하게 된다.\\n\\n사회조사분석사란 기업이나 정당, 지자체, 중앙정부 등 각종 단체가 필요로 하는 조사를 수행해 분석, 보고하는 전문 인력군이다. 주로 경영, 조사기획, 자료분석, 마케팅 분야에서 일하므로 조사방법론, 사회통계, SPSS 통계분석 실무 등의 지식을 필요로 한다. 현대에 들어와 데이터 과학자들로 구성된 통계 조직은 기관과 단체 그리고 기업의 수익에 영향을 미치는 다양한 데이터를 입체적으로 분석하고 결론을 얻어낸다. 미래를 예측해 더 나은 결과물을 처방한다. 수많은 데이터 가운데 의미 있는 데이터를 찾아냄으로써 더 나은 의사결정을 돕는 작업이 있는데 데이터 클리닝, 데이터 마이닝 등이다.\\n\\n기업과 기관마다 부르는 이름은 다르지만, 생산·판매와 서비스 등 핵심 직무에서 영업력 개선과 사원 복지 등 전 영역에 걸쳐 이같은 데이터 과학 조직의 역할은 전방위로 확대되고 있다. 업계에서는 주요 데이터에 대한 분석과 통계가 이뤄지는 비즈니스인텔리전스(BI) 조직이라 부른다. 데이터 분석 조직을 운영하는 IT 조직은 시스템에서 나오는 각종 데이터를 분석해 기업의 핵심 영역에 가치를 더하는 조직으로 변모 중이다.\\n\\n전사자원관리(ERP) 고객관계관리(CRM) 생산관리시스템(MES) 경영 정보 시스템(MIS) 전략적 기업 경영(SEM) 등 각종 시스템에서 쏟아지는 수많은 데이터에 대한 분석능력이 미래를 예측하는 핵심 경쟁력인 시대, 이른바 `데이터 경영` 시대의 개막이 시작되었다. 이러한 시대를 ‘빅 데이터’ 기술의 시대라고 하는데 미국의 유명 경제 출판 및 미디어 기업인 포브스도 미래의 유망직업 중 하나로 '데이터 마이너(정보수집 분석가)'를 선정하기도 했다.\\n\\n포브스에 의하면 빅 데이터(Big Data) 데이터 마이닝이란 기존 데이터베이스 관리도구의 데이터 수집·저장·관리·분석의 역량을 넘어서는 대량의 정형 또는 비정형 데이터 세트 및 이러한 데이터로부터 가치를 추출하고 결과를 분석하는 기술로되는 ‘빅 데이터’를 보완, 마케팅, 시청률조사, 경영 등으로부터 체계화해 분류, 예측, 연관분석 등의 데이터 마이닝을 거쳐 통계학적으로 결과를 도출해 내고 있다  \\n\\n대한민국에서는 2000년부터 정보통신부의 산하단체로 사단법인 한국BI데이터마이닝학회가 설립되어 데이터 마이닝에 관한 학술과 기술을 발전, 보급, 응용하고 있다. 또한 국내·외 통계분야에서 서서히 빅 데이터 활용에 대한 관심과 필요성이 커지고 있는 가운데 국가통계 업무를 계획하고 방대한 통계자료를 처리하는 국가기관인 통계청이 빅 데이터를 연구하고 활용방안을 모색하기 위한 '빅 데이터 연구회'를 발족하였다. \\n하지만 업계에 따르면, 미국과 영국, 일본 등 선진국들은 이미 빅 데이터를 다각적으로 분석해 조직의 전략방향을 제시하는 데이터과학자 양성에 사활을 걸고 있다. 그러나 한국은 정부와 일부 기업이 데이터과학자 양성을 위한 프로그램을 진행 중에 있어 아직 걸음마 단계인 것으로 알려져 있다.   \n",
       "10                                                                                                                                                                                                                                                                                                                                                                                                                                                                                                                                                                                                                                                                                                                                                                                                                                                                                                                                                                                                                                                                                                                                                                                                                                                                                                                                                                                                                                                                                                                                                                                                                                                                                                                                                                                                                                                                                                                                                                                                                                                                                                                                                                                                                                                                                                                                                                                                                                                                                                                                                                                                                                                                                                                                                                                                                                                                                                                                                                                                                                                                                                                                                                                                                                                                                                                                                                                                                                                                                                                                                                                                                                                                                                                                                                                                                                                                                                                                                                                                                                                                                                                                                                                                                                                                                                                                                                                                                                                                                                                                                                                                                                                                                                                                                                                                                                                                                                                                                                                                                                                                                                                                                                                                                                                                                                                                                                                                                                                                                             파이의 날(Pi Day)은 원주율을 기념하는 날이다. 파이의 날은 원주율의 근삿값이 3.14이어서 3월 14일에 치러진다. 보통 3.14159에 맞추기 위해 오후 1시 59분에 기념하는데, 오후 1시 59분은 엄밀히 말하면 13시 59분이기 때문에 오전 1시 59분 혹은 15시 9분(오후 3시 9분)에 치러야 한다고 주장하는 사람도 있다. 세계 각국의 수학과에서 기념행사를 연다.\\n\\n3월 14일은 알베르트 아인슈타인의 생일이면서 스티븐 호킹의 기일이기도 하다. 이 날은 여러 방법으로 기념된다. 사람들이 모여서 원주율이 생활에서 어떤 역할을 했는지 이야기하고 원주율이 없는 세상을 상상해 본다. 모임에서는 보통 파이를 먹는다. 또한 많은 행사에서 원주율을 소수점 아래의 숫자를 얼마나 많이 외우는지 겨루는 대회가 열린다.\\n\\n분수 3과 7분의 1을 가분수로 나타내면 7분의 22가 되는데, 이를 유리수(순환소수)로 나타내면 3.142857...로 π의 근삿값이 되므로  7월 22일을 파이 근삿값 날로 부르기도 한다.   \n",
       "11                                                                                                                                                                                                                                                                                                                                                                                                                                                                                                                                                                                                                                                                                                                                                                                                                                                                                                                                                                                                                                                                                                                                                                                                                                                                                                                                                                                                                                                                                                                                                                                                                                                                                                                                                                                                                                                                                                                                                                                                                                                                                                                                                                                                                                                                                                                                                                                                                                                                                                                                                                                                                                                                                                                                                                                                                                                                                                                                                                                                                                                                                                                                                                                                                                                                                                                                                                                                                                                                                                                                                                                                                                                                                                                                                                                                                                                                                                                                                                                                                                                                                                                                                                                                                                                                                                                   소립자 물리학의 표준 모형(標準模型, Standard Model)은 자연계의 기본 입자와, 중력을 제외한 그 상호작용 (강한 상호작용, 약한 상호작용, 전자기 상호작용)을 다루는 게이지 이론이다. 강력을 다루는 양자 색역학과, 약력과 전자기력을 다루는 와인버그-살람 이론으로 이루어진다. 표준 모형에 따르면, 전자와 중성미자 및 기타 렙톤은 기본 입자이나, 강입자는 쿼크로 이루어진다. 이들은 게이지 보손에 의하여 상호작용한다. 게이지 보손은 이론의 대칭을 나타낸다. 표준 모형의 대칭 가운데 강한 상호작용의 대칭은 색가둠으로 인하여 간접적으로만 관찰할 수 있고, 약한 상호작용의 대칭은 힉스 메커니즘으로 인하여 깨진다. 따라서 거시적으로는 전자기 상호작용의 대칭만 쉽게 관찰할 수 있다.\\n표준 모형은 실험적으로 힉스 메커니즘을 제외하고 1980년대에 완성되었다. 힉스 메커니즘은 2010년대 초에 실험적인 증거가 발견되었다. 표준 모형은 이론적으로 여러 자연스러움 (naturality) 문제를 안고 있다. 이는 표준 모형에 등장하는 몇몇 상수가 너무나 큰 값 또는 작은 값을 가지는 것이다. 이런 문제를 해결하려면 대개 더 강력한 대칭을 도입하여 상수가 왜 그렇게 크거나 작은 값을 가지는지 설명해야한다. 이런 종류의 이론은 대통일 이론이나 초대칭 따위가 있다.\\n\\n계층 문제전약력의 자발 대칭 깨짐이 일어나는 눈금은 플랑크 눈금보다 터무니없이 작다. 표준 모형에서는 전약력 대칭 파괴는 스칼라 힉스 보손으로 일으켜지나, 스칼라 입자의 질량은 (초대칭이 없는 이상) 방사 보정에 대하여 안정하지 못하다. 따라서 일반적으로 새로운 물리가 나타나는 눈금(대통일 눈금이나 플랑크 눈금) 정도이여야 하는데, 힉스 보손의 질량은 플랑크 질량보다 훨씬 작다.CP 위반 문제강력이 CP대칭을 위반하는 정도는 지나치게 작다.우주 상수 문제진공의 에너지 밀도는 플랑크 에너지 밀도에 비하여 지나치게 작다. 이론적으로는 진공에너지(우주상수)는 무한대이거나 중력을 고려하면 플랑크 에너지 눈금에 있어야 하는데, 관측된 값은 이보다 훨씬 작다.\\n\\n\\n또한, 표준 모형은 여러가지로 임의적인 면이 있다. 표준 모형은 3세대로 구성되어 있지만, 왜 3세대로 구성되었는지 설명하지 않는다. 2세대가 발견되었을 때, 이지도어 아이작 라비는 \"누가 그걸 주문했어?\"라고 외칠 정도로, 세대의 존재와 그 수는 언뜻 보면 불필요한 구조다.\\n\\n표준 모형은 전하의 양자화를 설명하지 않는다. 폴 디랙은 전하의 양자화를 설명하려면 자기 홀극이 필요하다는 사실을 보였으나 표준 모형은 자기 홀극을 포함하지 않는다.\\n\\n또한 표준 모형은 19개의 자유 변수를 가진다. 이 자유 변수의 수는 기본 이론이라고 보기에는 너무 많다. 표준 모형은 입자 물리학의 거의 모든 실험 결과를 오차 범위 안으로 설명한다. 그러나 표준모형은 중력을 다루지 않는다. 또 표준 모형은 중성미자를 무질량 입자로 다루지만, 실제로 중성미자는 아주 작지만 영이 아닌 질량을 가진다 (중성미자 진동). 이 질량이 어떤 종류인지 (즉 중성미자가 디랙 입자인지 마요라나 입자인지) 아직 확실하지 않다.\\n\\n또한 표준 모형은 아무런 암흑 물질 입자를 포함하지 않는다. 표준 모형에서 암흑 물질로 간주할 수 있는 입자는 중성미자밖에 없는데, 중성미자는 이론적으로 전체 암흑 물질 양의 소량만을 차지한다.   \n",
       "12                                                                                                                                                                                                                                                                                                                                                                                                                                                                                                                                                                                                                                                                                                                                                                                                                                                                                                                                                                                                                                                                                                                                                                                                                                                                                                                                                                                                                                                                                                                                                                                                                                                                                                                                                                                                                                                                                                                                                                                                                                                                                                                                                                                                                                                                                                                                                                                                                                                                                                                                                                                                                                                                                                                                                                                                                                                                                                                                                                                                                                                                                                                                                                                                                                                                                                                                                                                                                                                                                                                                                                                                                                                                                                                                                                                                                                                                                                                                                                                                                                                                                                                                                                                                                                                                                                                                                                                                                                                                                                                                                                                                                                                                                                                                                                                                                                                                                                                                                                                                                                                                                                                                                                                                                                                                                                                                                                                                                                                                                                                                                                                                                                                                                                   수학에서, 푸리에 급수(Fourier級數, Fourier series)는 주기 함수를 삼각함수의 가중치로 분해한 급수다. 대부분의 경우, 급수의 계수는 본래 함수와 일대일로 대응한다.\\n\\n함수의 푸리에 계수는 본래 함수보다 다루기 쉽기 때문에 유용하게 쓰인다. 푸리에 급수는 전자 공학, 진동 해석, 음향학, 광학, 신호처리와 화상처리, 데이터 압축 등에 쓰인다. 천문학에서는 분광기를 통해 별빛의 진동수를 분해하여 별을 이루는 화학 물질을 알아내는 데 쓰이고, 통신 공학에서는 전송해야 하는 데이터 신호의 스펙트럼을 이용하여 통신 시스템 설계를 최적화하는 데 쓰인다.   \n",
       "13                                                                                                                                                                                                                                                                                                                                                                                                                                                                                                                                                                                                                                                                                                                                                                                                                                                                                                                                                                                                                                                                                                                                                                                                                                                                                                                                                                                                                                                                                                                                                                                                                                                                                                                                                                                                                                                                                                                                                                                                                                                                                                                                                                                                                                                                                                                                                                                                                                                                                                                                                                                                                                                                                                                                                                                                                                                                                                                                                                                                                                                                                                                                                                                                                                                                                                                                                                                                                                                                                                                                                                                                                                                                                                                                                                                                                                                                                                                                                                                                                                                                                                                                                                                                                                                                                                                                                                                                                                                                                                                                                                                                                                                                                                                                                                                                                                                                                                                                                                                                                                                                                                                                                                                                                                                                                                                                                                                                              히라가나(平仮名, ひらがな, Hiragana)는 일본어에서 사용하는 두 가지 가나 중 하나이다. 가타카나는 주로 외래어 표기 등에 쓰이고, 히라가나는 다음과 같은 용도로 쓰인다.\\n\\n* 동사의 활용 어미, 조사, 조동사\\n* 일본 고유어로서 해당 한자가 없는 단어, 또는 해당하는 한자가 잘 쓰이지 않는 어려운 글자일 경우.\\n* 어린이가 사용하는 일본어의 뉘앙스를 보여 주고 싶을 때\\n\\n히라가나는 여성이 많이 썼다고 한다. 그래서 온나데(女手; おんなで)라고 불린 적도 있다. 이런 이유로 히라가나는 여자들만 쓰는 글이라 하여, 오랫동안 일본의 공용 문서에선 가타카나와 한자(칸지)만이 사용되었다. 현재 일본 철도의 역명판에는 히라가나와 칸지가 적혀 있다. 히라가나는 헤이안 시대부터 쓰인 것으로 알려져 있다. 일본의 유아들도 가나를 배울 때는 히라가나를 먼저 배우고 가타카나를 나중에 배우기 때문에 유아용 그림책 등에는 가타카나로 쓰인 단어 위에 히라가나를 후리가나로 덧붙이기도 한다. 음절문자이다.\\n\\n한영 자판 상태에서 히라가나를 입력할 경우 ㄸ+한자 키를 누르면 된다. 가타카나의 경우 장음 등 일부 문자를 제외하면, 꼭 ㅃ+한자 조합을 해야 한다.   \n",
       "\n",
       "   corpus_source   url domain author  html                       document_id  \\\n",
       "0          위키피디아  TODO   None   None  None                            [0, 1]   \n",
       "1          위키피디아  TODO   None   None  None                              [29]   \n",
       "2          위키피디아  TODO   None   None  None                               [8]   \n",
       "3          위키피디아  TODO   None   None  None                               [2]   \n",
       "4          위키피디아  TODO   None   None  None                              [25]   \n",
       "5          위키피디아  TODO   None   None  None                          [11, 12]   \n",
       "6          위키피디아  TODO   None   None  None                   [3, 4, 5, 6, 7]   \n",
       "7          위키피디아  TODO   None   None  None                              [24]   \n",
       "8          위키피디아  TODO   None   None  None                           [9, 10]   \n",
       "9          위키피디아  TODO   None   None  None  [16, 17, 18, 19, 20, 21, 22, 23]   \n",
       "10         위키피디아  TODO   None   None  None                              [14]   \n",
       "11         위키피디아  TODO   None   None  None                      [26, 27, 28]   \n",
       "12         위키피디아  TODO   None   None  None                              [15]   \n",
       "13         위키피디아  TODO   None   None  None                              [13]   \n",
       "\n",
       "                                                                    Q_based title  \n",
       "0                                   세계 206개 나라의 현황과 주권 승인 정보를 개요 형태로 나열하는 문서가 뭐야?  \n",
       "1                              일련의 공리들을 만족하는 수학적 구조들의 일반적인 성질을 연구하는 수학의 한 분야가 뭐야?  \n",
       "2                                                     애플 컴퓨터는 누구의 업적을 기반으로 하고 있어?  \n",
       "3         1966년 졸업과 함께 독일로 유학을 떠나 뮌헨 대학교 및 쾰른 대학교 등에서 서양의 건축, 음악사, 철학 등을 공부한 사람은?  \n",
       "4   기원전 2~1세기 그리스의 히파르코스와 프톨레마이오스 등은 각도에 대해 달라지는 현의 길이를 다룬 적이 있는데 이 때 쓰인 것은 무엇인가?  \n",
       "5                                                   단백질을 가수분해하면 암모니아와 함께 생성되는 것은?  \n",
       "6                                        일본어판 구텐베르크 프로젝트로 불리는 일본의 인터넷 전자도서관이 어디지?  \n",
       "7                                                                     프린키피아의 저자는?  \n",
       "8                                                   원소를 구분하기 쉽게 성질에 따라 배열한 표가 뭐야?  \n",
       "9                                                  통계학에서 통계조사법이 사용되기 시작한 건 언제부터야?  \n",
       "10                                                           원주율을 기념하는 날을 뭐라고 불러?  \n",
       "11                             자연계의 기본 입자와 중력을 제외한 그 상호작용을 다루는 소립자 물리학의 이론은 무엇인가?  \n",
       "12                                             수학에서 주기 함수를 삼각함수의 가중치로 분해한 급수가 뭐야?  \n",
       "13                                                          일본어에서 쓰는 두 가지 가나가 뭐야?  "
      ]
     },
     "execution_count": 165,
     "metadata": {},
     "output_type": "execute_result"
    }
   ],
   "source": [
    "df_test['Q_based title'] = df_test[['title','text']].apply(lambda x: qg(x[0],x[1],n_wrong=0), axis=1)\n",
    "df_test"
   ]
  },
  {
   "attachments": {},
   "cell_type": "markdown",
   "metadata": {},
   "source": [
    "전체에 대해서 수행"
   ]
  },
  {
   "cell_type": "code",
   "execution_count": 50,
   "metadata": {},
   "outputs": [
    {
     "ename": "KeyError",
     "evalue": "'title'",
     "output_type": "error",
     "traceback": [
      "\u001b[0;31m---------------------------------------------------------------------------\u001b[0m",
      "\u001b[0;31mKeyError\u001b[0m                                  Traceback (most recent call last)",
      "\u001b[0;32m<ipython-input-50-3c578a85e67d>\u001b[0m in \u001b[0;36m<module>\u001b[0;34m()\u001b[0m\n\u001b[1;32m      1\u001b[0m \u001b[0mdf_test\u001b[0m \u001b[0;34m=\u001b[0m \u001b[0mdf\u001b[0m\u001b[0;34m.\u001b[0m\u001b[0mcopy\u001b[0m\u001b[0;34m(\u001b[0m\u001b[0;34m)\u001b[0m\u001b[0;34m\u001b[0m\u001b[0;34m\u001b[0m\u001b[0m\n\u001b[0;32m----> 2\u001b[0;31m \u001b[0mdf_test\u001b[0m \u001b[0;34m=\u001b[0m \u001b[0mdf_test\u001b[0m\u001b[0;34m.\u001b[0m\u001b[0mgroupby\u001b[0m\u001b[0;34m(\u001b[0m\u001b[0;34m'title'\u001b[0m\u001b[0;34m)\u001b[0m\u001b[0;34m.\u001b[0m\u001b[0magg\u001b[0m\u001b[0;34m(\u001b[0m\u001b[0;34m{\u001b[0m\u001b[0;34m'text'\u001b[0m\u001b[0;34m:\u001b[0m \u001b[0;32mlambda\u001b[0m \u001b[0mx\u001b[0m\u001b[0;34m:\u001b[0m \u001b[0;34m' '\u001b[0m\u001b[0;34m.\u001b[0m\u001b[0mjoin\u001b[0m\u001b[0;34m(\u001b[0m\u001b[0mmap\u001b[0m\u001b[0;34m(\u001b[0m\u001b[0mstr\u001b[0m\u001b[0;34m,\u001b[0m\u001b[0mx\u001b[0m\u001b[0;34m)\u001b[0m\u001b[0;34m)\u001b[0m\u001b[0;34m,\u001b[0m \u001b[0;34m'corpus_source'\u001b[0m\u001b[0;34m:\u001b[0m\u001b[0;34m'first'\u001b[0m\u001b[0;34m,\u001b[0m \u001b[0;34m'url'\u001b[0m\u001b[0;34m:\u001b[0m\u001b[0;34m'first'\u001b[0m\u001b[0;34m,\u001b[0m \u001b[0;34m'domain'\u001b[0m\u001b[0;34m:\u001b[0m\u001b[0;34m'first'\u001b[0m\u001b[0;34m,\u001b[0m  \u001b[0;34m'author'\u001b[0m\u001b[0;34m:\u001b[0m\u001b[0;34m'first'\u001b[0m\u001b[0;34m,\u001b[0m \u001b[0;34m'html'\u001b[0m\u001b[0;34m:\u001b[0m\u001b[0;34m'first'\u001b[0m\u001b[0;34m,\u001b[0m \u001b[0;34m'document_id'\u001b[0m\u001b[0;34m:\u001b[0m\u001b[0;32mlambda\u001b[0m \u001b[0mx\u001b[0m\u001b[0;34m:\u001b[0m\u001b[0mlist\u001b[0m\u001b[0;34m(\u001b[0m\u001b[0mmap\u001b[0m\u001b[0;34m(\u001b[0m\u001b[0mint\u001b[0m\u001b[0;34m,\u001b[0m\u001b[0mx\u001b[0m\u001b[0;34m)\u001b[0m\u001b[0;34m)\u001b[0m\u001b[0;34m}\u001b[0m\u001b[0;34m)\u001b[0m\u001b[0;34m.\u001b[0m\u001b[0mreset_index\u001b[0m\u001b[0;34m(\u001b[0m\u001b[0;34m)\u001b[0m\u001b[0;34m\u001b[0m\u001b[0;34m\u001b[0m\u001b[0m\n\u001b[0m\u001b[1;32m      3\u001b[0m \u001b[0mlen\u001b[0m\u001b[0;34m(\u001b[0m\u001b[0mdf_test\u001b[0m\u001b[0;34m)\u001b[0m\u001b[0;34m\u001b[0m\u001b[0;34m\u001b[0m\u001b[0m\n",
      "\u001b[0;32m/opt/conda/envs/pororo/lib/python3.6/site-packages/pandas/core/frame.py\u001b[0m in \u001b[0;36mgroupby\u001b[0;34m(self, by, axis, level, as_index, sort, group_keys, squeeze, observed, dropna)\u001b[0m\n\u001b[1;32m   6523\u001b[0m             \u001b[0msqueeze\u001b[0m\u001b[0;34m=\u001b[0m\u001b[0msqueeze\u001b[0m\u001b[0;34m,\u001b[0m\u001b[0;34m\u001b[0m\u001b[0;34m\u001b[0m\u001b[0m\n\u001b[1;32m   6524\u001b[0m             \u001b[0mobserved\u001b[0m\u001b[0;34m=\u001b[0m\u001b[0mobserved\u001b[0m\u001b[0;34m,\u001b[0m\u001b[0;34m\u001b[0m\u001b[0;34m\u001b[0m\u001b[0m\n\u001b[0;32m-> 6525\u001b[0;31m             \u001b[0mdropna\u001b[0m\u001b[0;34m=\u001b[0m\u001b[0mdropna\u001b[0m\u001b[0;34m,\u001b[0m\u001b[0;34m\u001b[0m\u001b[0;34m\u001b[0m\u001b[0m\n\u001b[0m\u001b[1;32m   6526\u001b[0m         )\n\u001b[1;32m   6527\u001b[0m \u001b[0;34m\u001b[0m\u001b[0m\n",
      "\u001b[0;32m/opt/conda/envs/pororo/lib/python3.6/site-packages/pandas/core/groupby/groupby.py\u001b[0m in \u001b[0;36m__init__\u001b[0;34m(self, obj, keys, axis, level, grouper, exclusions, selection, as_index, sort, group_keys, squeeze, observed, mutated, dropna)\u001b[0m\n\u001b[1;32m    531\u001b[0m                 \u001b[0mobserved\u001b[0m\u001b[0;34m=\u001b[0m\u001b[0mobserved\u001b[0m\u001b[0;34m,\u001b[0m\u001b[0;34m\u001b[0m\u001b[0;34m\u001b[0m\u001b[0m\n\u001b[1;32m    532\u001b[0m                 \u001b[0mmutated\u001b[0m\u001b[0;34m=\u001b[0m\u001b[0mself\u001b[0m\u001b[0;34m.\u001b[0m\u001b[0mmutated\u001b[0m\u001b[0;34m,\u001b[0m\u001b[0;34m\u001b[0m\u001b[0;34m\u001b[0m\u001b[0m\n\u001b[0;32m--> 533\u001b[0;31m                 \u001b[0mdropna\u001b[0m\u001b[0;34m=\u001b[0m\u001b[0mself\u001b[0m\u001b[0;34m.\u001b[0m\u001b[0mdropna\u001b[0m\u001b[0;34m,\u001b[0m\u001b[0;34m\u001b[0m\u001b[0;34m\u001b[0m\u001b[0m\n\u001b[0m\u001b[1;32m    534\u001b[0m             )\n\u001b[1;32m    535\u001b[0m \u001b[0;34m\u001b[0m\u001b[0m\n",
      "\u001b[0;32m/opt/conda/envs/pororo/lib/python3.6/site-packages/pandas/core/groupby/grouper.py\u001b[0m in \u001b[0;36mget_grouper\u001b[0;34m(obj, key, axis, level, sort, observed, mutated, validate, dropna)\u001b[0m\n\u001b[1;32m    784\u001b[0m                 \u001b[0min_axis\u001b[0m\u001b[0;34m,\u001b[0m \u001b[0mname\u001b[0m\u001b[0;34m,\u001b[0m \u001b[0mlevel\u001b[0m\u001b[0;34m,\u001b[0m \u001b[0mgpr\u001b[0m \u001b[0;34m=\u001b[0m \u001b[0;32mFalse\u001b[0m\u001b[0;34m,\u001b[0m \u001b[0;32mNone\u001b[0m\u001b[0;34m,\u001b[0m \u001b[0mgpr\u001b[0m\u001b[0;34m,\u001b[0m \u001b[0;32mNone\u001b[0m\u001b[0;34m\u001b[0m\u001b[0;34m\u001b[0m\u001b[0m\n\u001b[1;32m    785\u001b[0m             \u001b[0;32melse\u001b[0m\u001b[0;34m:\u001b[0m\u001b[0;34m\u001b[0m\u001b[0;34m\u001b[0m\u001b[0m\n\u001b[0;32m--> 786\u001b[0;31m                 \u001b[0;32mraise\u001b[0m \u001b[0mKeyError\u001b[0m\u001b[0;34m(\u001b[0m\u001b[0mgpr\u001b[0m\u001b[0;34m)\u001b[0m\u001b[0;34m\u001b[0m\u001b[0;34m\u001b[0m\u001b[0m\n\u001b[0m\u001b[1;32m    787\u001b[0m         \u001b[0;32melif\u001b[0m \u001b[0misinstance\u001b[0m\u001b[0;34m(\u001b[0m\u001b[0mgpr\u001b[0m\u001b[0;34m,\u001b[0m \u001b[0mGrouper\u001b[0m\u001b[0;34m)\u001b[0m \u001b[0;32mand\u001b[0m \u001b[0mgpr\u001b[0m\u001b[0;34m.\u001b[0m\u001b[0mkey\u001b[0m \u001b[0;32mis\u001b[0m \u001b[0;32mnot\u001b[0m \u001b[0;32mNone\u001b[0m\u001b[0;34m:\u001b[0m\u001b[0;34m\u001b[0m\u001b[0;34m\u001b[0m\u001b[0m\n\u001b[1;32m    788\u001b[0m             \u001b[0;31m# Add key to exclusions\u001b[0m\u001b[0;34m\u001b[0m\u001b[0;34m\u001b[0m\u001b[0;34m\u001b[0m\u001b[0m\n",
      "\u001b[0;31mKeyError\u001b[0m: 'title'"
     ]
    }
   ],
   "source": [
    "df_test = df.copy()\n",
    "df_test = df_test.groupby('title').agg({'text': lambda x: ' '.join(map(str,x)), 'corpus_source':'first', 'url':'first', 'domain':'first',  'author':'first', 'html':'first', 'document_id':lambda x:list(map(int,x))}).reset_index() \n",
    "len(df_test)"
   ]
  },
  {
   "cell_type": "code",
   "execution_count": 51,
   "metadata": {},
   "outputs": [
    {
     "ename": "KeyError",
     "evalue": "'title'",
     "output_type": "error",
     "traceback": [
      "\u001b[0;31m---------------------------------------------------------------------------\u001b[0m",
      "\u001b[0;31mKeyError\u001b[0m                                  Traceback (most recent call last)",
      "\u001b[0;32m/opt/conda/envs/pororo/lib/python3.6/site-packages/pandas/core/indexes/base.py\u001b[0m in \u001b[0;36mget_loc\u001b[0;34m(self, key, method, tolerance)\u001b[0m\n\u001b[1;32m   2897\u001b[0m             \u001b[0;32mtry\u001b[0m\u001b[0;34m:\u001b[0m\u001b[0;34m\u001b[0m\u001b[0;34m\u001b[0m\u001b[0m\n\u001b[0;32m-> 2898\u001b[0;31m                 \u001b[0;32mreturn\u001b[0m \u001b[0mself\u001b[0m\u001b[0;34m.\u001b[0m\u001b[0m_engine\u001b[0m\u001b[0;34m.\u001b[0m\u001b[0mget_loc\u001b[0m\u001b[0;34m(\u001b[0m\u001b[0mcasted_key\u001b[0m\u001b[0;34m)\u001b[0m\u001b[0;34m\u001b[0m\u001b[0;34m\u001b[0m\u001b[0m\n\u001b[0m\u001b[1;32m   2899\u001b[0m             \u001b[0;32mexcept\u001b[0m \u001b[0mKeyError\u001b[0m \u001b[0;32mas\u001b[0m \u001b[0merr\u001b[0m\u001b[0;34m:\u001b[0m\u001b[0;34m\u001b[0m\u001b[0;34m\u001b[0m\u001b[0m\n",
      "\u001b[0;32mpandas/_libs/index.pyx\u001b[0m in \u001b[0;36mpandas._libs.index.IndexEngine.get_loc\u001b[0;34m()\u001b[0m\n",
      "\u001b[0;32mpandas/_libs/index.pyx\u001b[0m in \u001b[0;36mpandas._libs.index.IndexEngine.get_loc\u001b[0;34m()\u001b[0m\n",
      "\u001b[0;32mpandas/_libs/hashtable_class_helper.pxi\u001b[0m in \u001b[0;36mpandas._libs.hashtable.PyObjectHashTable.get_item\u001b[0;34m()\u001b[0m\n",
      "\u001b[0;32mpandas/_libs/hashtable_class_helper.pxi\u001b[0m in \u001b[0;36mpandas._libs.hashtable.PyObjectHashTable.get_item\u001b[0;34m()\u001b[0m\n",
      "\u001b[0;31mKeyError\u001b[0m: 'title'",
      "\nThe above exception was the direct cause of the following exception:\n",
      "\u001b[0;31mKeyError\u001b[0m                                  Traceback (most recent call last)",
      "\u001b[0;32m<ipython-input-51-e3fdb3c6d545>\u001b[0m in \u001b[0;36m<module>\u001b[0;34m()\u001b[0m\n\u001b[0;32m----> 1\u001b[0;31m \u001b[0mdf_test\u001b[0m\u001b[0;34m[\u001b[0m\u001b[0mdf_test\u001b[0m\u001b[0;34m[\u001b[0m\u001b[0;34m'title'\u001b[0m\u001b[0;34m]\u001b[0m\u001b[0;34m==\u001b[0m\u001b[0;34m'아오조라 문고'\u001b[0m\u001b[0;34m]\u001b[0m\u001b[0;34m\u001b[0m\u001b[0;34m\u001b[0m\u001b[0m\n\u001b[0m",
      "\u001b[0;32m/opt/conda/envs/pororo/lib/python3.6/site-packages/pandas/core/frame.py\u001b[0m in \u001b[0;36m__getitem__\u001b[0;34m(self, key)\u001b[0m\n\u001b[1;32m   2904\u001b[0m             \u001b[0;32mif\u001b[0m \u001b[0mself\u001b[0m\u001b[0;34m.\u001b[0m\u001b[0mcolumns\u001b[0m\u001b[0;34m.\u001b[0m\u001b[0mnlevels\u001b[0m \u001b[0;34m>\u001b[0m \u001b[0;36m1\u001b[0m\u001b[0;34m:\u001b[0m\u001b[0;34m\u001b[0m\u001b[0;34m\u001b[0m\u001b[0m\n\u001b[1;32m   2905\u001b[0m                 \u001b[0;32mreturn\u001b[0m \u001b[0mself\u001b[0m\u001b[0;34m.\u001b[0m\u001b[0m_getitem_multilevel\u001b[0m\u001b[0;34m(\u001b[0m\u001b[0mkey\u001b[0m\u001b[0;34m)\u001b[0m\u001b[0;34m\u001b[0m\u001b[0;34m\u001b[0m\u001b[0m\n\u001b[0;32m-> 2906\u001b[0;31m             \u001b[0mindexer\u001b[0m \u001b[0;34m=\u001b[0m \u001b[0mself\u001b[0m\u001b[0;34m.\u001b[0m\u001b[0mcolumns\u001b[0m\u001b[0;34m.\u001b[0m\u001b[0mget_loc\u001b[0m\u001b[0;34m(\u001b[0m\u001b[0mkey\u001b[0m\u001b[0;34m)\u001b[0m\u001b[0;34m\u001b[0m\u001b[0;34m\u001b[0m\u001b[0m\n\u001b[0m\u001b[1;32m   2907\u001b[0m             \u001b[0;32mif\u001b[0m \u001b[0mis_integer\u001b[0m\u001b[0;34m(\u001b[0m\u001b[0mindexer\u001b[0m\u001b[0;34m)\u001b[0m\u001b[0;34m:\u001b[0m\u001b[0;34m\u001b[0m\u001b[0;34m\u001b[0m\u001b[0m\n\u001b[1;32m   2908\u001b[0m                 \u001b[0mindexer\u001b[0m \u001b[0;34m=\u001b[0m \u001b[0;34m[\u001b[0m\u001b[0mindexer\u001b[0m\u001b[0;34m]\u001b[0m\u001b[0;34m\u001b[0m\u001b[0;34m\u001b[0m\u001b[0m\n",
      "\u001b[0;32m/opt/conda/envs/pororo/lib/python3.6/site-packages/pandas/core/indexes/base.py\u001b[0m in \u001b[0;36mget_loc\u001b[0;34m(self, key, method, tolerance)\u001b[0m\n\u001b[1;32m   2898\u001b[0m                 \u001b[0;32mreturn\u001b[0m \u001b[0mself\u001b[0m\u001b[0;34m.\u001b[0m\u001b[0m_engine\u001b[0m\u001b[0;34m.\u001b[0m\u001b[0mget_loc\u001b[0m\u001b[0;34m(\u001b[0m\u001b[0mcasted_key\u001b[0m\u001b[0;34m)\u001b[0m\u001b[0;34m\u001b[0m\u001b[0;34m\u001b[0m\u001b[0m\n\u001b[1;32m   2899\u001b[0m             \u001b[0;32mexcept\u001b[0m \u001b[0mKeyError\u001b[0m \u001b[0;32mas\u001b[0m \u001b[0merr\u001b[0m\u001b[0;34m:\u001b[0m\u001b[0;34m\u001b[0m\u001b[0;34m\u001b[0m\u001b[0m\n\u001b[0;32m-> 2900\u001b[0;31m                 \u001b[0;32mraise\u001b[0m \u001b[0mKeyError\u001b[0m\u001b[0;34m(\u001b[0m\u001b[0mkey\u001b[0m\u001b[0;34m)\u001b[0m \u001b[0;32mfrom\u001b[0m \u001b[0merr\u001b[0m\u001b[0;34m\u001b[0m\u001b[0;34m\u001b[0m\u001b[0m\n\u001b[0m\u001b[1;32m   2901\u001b[0m \u001b[0;34m\u001b[0m\u001b[0m\n\u001b[1;32m   2902\u001b[0m         \u001b[0;32mif\u001b[0m \u001b[0mtolerance\u001b[0m \u001b[0;32mis\u001b[0m \u001b[0;32mnot\u001b[0m \u001b[0;32mNone\u001b[0m\u001b[0;34m:\u001b[0m\u001b[0;34m\u001b[0m\u001b[0;34m\u001b[0m\u001b[0m\n",
      "\u001b[0;31mKeyError\u001b[0m: 'title'"
     ]
    }
   ],
   "source": [
    "df_test[df_test['title']=='아오조라 문고']"
   ]
  },
  {
   "attachments": {},
   "cell_type": "markdown",
   "metadata": {},
   "source": [
    "확인만 하고, 수행은 .py파일로 돌림. 아래는 예상 소요시간"
   ]
  },
  {
   "cell_type": "code",
   "execution_count": 163,
   "metadata": {},
   "outputs": [
    {
     "name": "stdout",
     "output_type": "stream",
     "text": [
      "총 3.7047499999999998 시간 걸릴 듯\n"
     ]
    }
   ],
   "source": [
    "print(f'총 {len(df_test)*2.1/5/60/60} 시간 걸릴 듯')"
   ]
  },
  {
   "attachments": {},
   "cell_type": "markdown",
   "metadata": {},
   "source": [
    "## start index 찾기"
   ]
  },
  {
   "cell_type": "code",
   "execution_count": 54,
   "metadata": {},
   "outputs": [
    {
     "name": "stdout",
     "output_type": "stream",
     "text": [
      "31755\n",
      "60613\n"
     ]
    }
   ],
   "source": [
    "df_wiki_QG = pd.read_csv('/opt/ml/input/data/wiki_QG_concat.csv')\n",
    "print(len(df_wiki_QG))\n",
    "df_wiki = pd.read_json('../input/data/wikipedia_documents.json') ## pd.read_json 이용\n",
    "df_wiki = df_wiki.transpose()\n",
    "print(len(df_wiki))"
   ]
  },
  {
   "cell_type": "code",
   "execution_count": 55,
   "metadata": {},
   "outputs": [
    {
     "data": {
      "text/html": [
       "<div>\n",
       "<style scoped>\n",
       "    .dataframe tbody tr th:only-of-type {\n",
       "        vertical-align: middle;\n",
       "    }\n",
       "\n",
       "    .dataframe tbody tr th {\n",
       "        vertical-align: top;\n",
       "    }\n",
       "\n",
       "    .dataframe thead th {\n",
       "        text-align: right;\n",
       "    }\n",
       "</style>\n",
       "<table border=\"1\" class=\"dataframe\">\n",
       "  <thead>\n",
       "    <tr style=\"text-align: right;\">\n",
       "      <th></th>\n",
       "      <th>title</th>\n",
       "      <th>text</th>\n",
       "      <th>corpus_source</th>\n",
       "      <th>url</th>\n",
       "      <th>domain</th>\n",
       "      <th>author</th>\n",
       "      <th>html</th>\n",
       "      <th>document_id</th>\n",
       "      <th>Q_based title</th>\n",
       "    </tr>\n",
       "  </thead>\n",
       "  <tbody>\n",
       "    <tr>\n",
       "      <th>0</th>\n",
       "      <td>!쿵어</td>\n",
       "      <td>ǃ쿵어가 포함된 카어족, 코이산 제어를 연구하는 학자들이 언어를 분류한 방식이 서로 다르고, 시간이 지나면서 새로운 분류체계가 등장하고 있어 같은 용어라도 다른 의미로 쓰이는 경우가 있다. \\nǃ쿵어(ǃKung)라는 이름은 서로 연관되어있는 방언 각각 이름에 주로 사용하며(예:북부 ǃ쿵어, 중부 ǃ쿵어), 때로는 더 넓은 의미로 방언연속체를 구성하는 언어들 중 북부/북서부 지역의 방언들을 일컫는 말이다. 이때 대응되는 개념은 주호안어(Ju|ʼhoan)이며, 전체 중 남부/남동부의 방언을 지칭한다.\\n주어(Ju)라는 이름은 다양한 ǃ쿵어의 방언들을 하나의 “작은 어족”(language complex)으로 묶어서 부를 경우 주로 사용된다(예: 카어족은 주어(Ju)와 ǂʼ암코이어(ǂʼAmkoe)로 구성된다). \\n유전자 기반의 분석을 진행하는 분자인류학자들은 북부 ǃ쿵어를 사용하는 사람들을 세켈레(Sekele) 또는 바시켈라 ǃ쿵(Vasikela ǃKung)으로 표기하였고, 남부 ǃ쿵어, 즉 주호안어(Ju|ʼhoan)을 사용하는 사람들을 춤쿠에 산(Tsumkwe San) 혹은 ǃ쿵(ǃKung)으로 분류하였다. \\n\\nǃ쿵(ǃKung)이라는 단어 역시 다양한 형태로 표현된다. ǃ쿵(ǃKung)이 처음으로 사용된 것은 1937년이었다. \\nǃ쿵(ǃKung)을 나타내기 위하여 ǃXun ,\\nǃXuun , ǃXʼu(u)n, ǃKu(u)n, ǃHu, ǃKhung, ǃKu, Kung, Qxü, ǃung, ǃXo, ǃXu ,\\nXû, ǃXû, Xun, ǃXung ,\\nǃXũ ,\\nǃXũũ, ʗhũ: \\n등 다양한 표기가 사용되었다. 주(Ju) 역시 Dzu , Juu , Zhu 등 다양한 형태로 표기되었다.\\n\\n최근 문헌의 경우 ǃ쿵어를 표기하기 위해 ǃXun 또는 ǃXuun을 사용하는 경우가 많다. 다양한 ǃ쿵어들을 묶은 주어(Ju)는 흡착음을 사용하는 언어 중 코이코이어(Khoekhoe,  ), 산다웨어(Sandawe,  )에 이어 세 번째로 많은 사용자 수를 지닌다. 총 15,000명의 사용자가 있을 것으로 추정되며, 각각 나미비아에 9,000명, 보츠와나에 2,000명, 앙골라에 1,000명, 남아공에 3,700명의 사용자가 있을 것으로 추정된다.  앙골라의 ǃ쿵어 사용자 수는 1975년의 8,000명에서 앙골라 내전을 거친 현재 크게 줄어든 상태이다. 북부 ǃ쿵어를 사용하는 사람들이 앙골라 내전을 피하기 위해 나미비아로 탈출하거나, 남아공의 남아프리카 연방군에 소속되어 남아프리카 국경 전쟁에 투입되었다. 지속되는 남아프리카 국경 전쟁이 끝난 후 이들은 남아공으로 후송되어 슈미츠드리프트, 이어 플랫폰테인에 정착하게 되었다.</td>\n",
       "      <td>위키피디아</td>\n",
       "      <td>NaN</td>\n",
       "      <td>NaN</td>\n",
       "      <td>NaN</td>\n",
       "      <td>NaN</td>\n",
       "      <td>[39917, 39918]</td>\n",
       "      <td>특이한 언어를 알려줘?</td>\n",
       "    </tr>\n",
       "    <tr>\n",
       "      <th>1</th>\n",
       "      <td>(148209) 2000 CR105</td>\n",
       "      <td>마이클 E. 브라운의 웹사이트에서는 이 천체의 반사율을 0.04로 추정하여 지름을 328 km로 추산하였고, 왜행성이 될 가능성이 있다고 보았다  이 천체의 색이 해왕성 바깥 천체의 일반적인 색인 파랑색을 띄기 때문에, 반사율이 추정치보다 더 낮을 가능성이 높다 하지만 만약 반사율이 추정치보다 높다면, 지름이 추정치보다 반 이상 작을 가능성이 매우 높다.\\n\\n(148209) 2000 CR|105와 90377 세드나는 산란원반 천체로, 태양에 가장 가까이 가도 해왕성의 영향을 받지 않는다. 이 천체들이 어떻게 지금과 같은 궤도에 들어갔는지는 수수께끼이며, 추측만 무성하다. 궤도의 형성에 대한 이론들의 주장은 다음과 같다.\\n* 태양계 근처를 지나가던 항성에 의해 기존 궤도를 이탈하였을 것이다.  \\n* 현재 발견되지 않은 가상의 행성에 의해 기존 궤도를 이탈하였을 것이다. \\n* 현재 발견되지 않은 태양의 쌍성에 의해 기존 궤도를 이탈하였을 것이다\\n* 태양계 형성 초기에 다른 행성계에서 포획되었을 것이다 케년과 브롬리에 따르면, 태양이 자신과 비슷한 별과 형성 초기에 만났을 가능성은 15%이고, 행성 교환이 일어났을 가능성은 1%이다. (148209) 2000 CR|105은 포획된 천체일 가능성이 세드나보다 2~3배 높다\\n\\n(148209) 2000 CR|105는 궤도 긴반지름이 150 AU가 넘는 천체 중 최초로 발견된 천체로, 근일점 편각이 340 ± 55°에 달한다.  현재까지 긴반지름이 100 AU가 넘고 근일점이 42 AU를 넘는 천체는 11개밖에 발견되지 않았다.  (148209) 2000 CR|105는 제9행성의 영향을 받으리라고 예상된다.</td>\n",
       "      <td>위키피디아</td>\n",
       "      <td>NaN</td>\n",
       "      <td>NaN</td>\n",
       "      <td>NaN</td>\n",
       "      <td>NaN</td>\n",
       "      <td>[49858]</td>\n",
       "      <td>마이클 E. 브라운은 2000 CR 105가 왜행성이 될 수 있다고 봤어?</td>\n",
       "    </tr>\n",
       "  </tbody>\n",
       "</table>\n",
       "</div>"
      ],
      "text/plain": [
       "                 title  \\\n",
       "0                  !쿵어   \n",
       "1  (148209) 2000 CR105   \n",
       "\n",
       "                                                                                                                                                                                                                                                                                                                                                                                                                                                                                                                                                                                                                                                                                                                                                                                                                                                                                                                                                                                                                                                                                                                                                                                                                                                                                                                                                                  text  \\\n",
       "0  ǃ쿵어가 포함된 카어족, 코이산 제어를 연구하는 학자들이 언어를 분류한 방식이 서로 다르고, 시간이 지나면서 새로운 분류체계가 등장하고 있어 같은 용어라도 다른 의미로 쓰이는 경우가 있다. \\nǃ쿵어(ǃKung)라는 이름은 서로 연관되어있는 방언 각각 이름에 주로 사용하며(예:북부 ǃ쿵어, 중부 ǃ쿵어), 때로는 더 넓은 의미로 방언연속체를 구성하는 언어들 중 북부/북서부 지역의 방언들을 일컫는 말이다. 이때 대응되는 개념은 주호안어(Ju|ʼhoan)이며, 전체 중 남부/남동부의 방언을 지칭한다.\\n주어(Ju)라는 이름은 다양한 ǃ쿵어의 방언들을 하나의 “작은 어족”(language complex)으로 묶어서 부를 경우 주로 사용된다(예: 카어족은 주어(Ju)와 ǂʼ암코이어(ǂʼAmkoe)로 구성된다). \\n유전자 기반의 분석을 진행하는 분자인류학자들은 북부 ǃ쿵어를 사용하는 사람들을 세켈레(Sekele) 또는 바시켈라 ǃ쿵(Vasikela ǃKung)으로 표기하였고, 남부 ǃ쿵어, 즉 주호안어(Ju|ʼhoan)을 사용하는 사람들을 춤쿠에 산(Tsumkwe San) 혹은 ǃ쿵(ǃKung)으로 분류하였다. \\n\\nǃ쿵(ǃKung)이라는 단어 역시 다양한 형태로 표현된다. ǃ쿵(ǃKung)이 처음으로 사용된 것은 1937년이었다. \\nǃ쿵(ǃKung)을 나타내기 위하여 ǃXun ,\\nǃXuun , ǃXʼu(u)n, ǃKu(u)n, ǃHu, ǃKhung, ǃKu, Kung, Qxü, ǃung, ǃXo, ǃXu ,\\nXû, ǃXû, Xun, ǃXung ,\\nǃXũ ,\\nǃXũũ, ʗhũ: \\n등 다양한 표기가 사용되었다. 주(Ju) 역시 Dzu , Juu , Zhu 등 다양한 형태로 표기되었다.\\n\\n최근 문헌의 경우 ǃ쿵어를 표기하기 위해 ǃXun 또는 ǃXuun을 사용하는 경우가 많다. 다양한 ǃ쿵어들을 묶은 주어(Ju)는 흡착음을 사용하는 언어 중 코이코이어(Khoekhoe,  ), 산다웨어(Sandawe,  )에 이어 세 번째로 많은 사용자 수를 지닌다. 총 15,000명의 사용자가 있을 것으로 추정되며, 각각 나미비아에 9,000명, 보츠와나에 2,000명, 앙골라에 1,000명, 남아공에 3,700명의 사용자가 있을 것으로 추정된다.  앙골라의 ǃ쿵어 사용자 수는 1975년의 8,000명에서 앙골라 내전을 거친 현재 크게 줄어든 상태이다. 북부 ǃ쿵어를 사용하는 사람들이 앙골라 내전을 피하기 위해 나미비아로 탈출하거나, 남아공의 남아프리카 연방군에 소속되어 남아프리카 국경 전쟁에 투입되었다. 지속되는 남아프리카 국경 전쟁이 끝난 후 이들은 남아공으로 후송되어 슈미츠드리프트, 이어 플랫폰테인에 정착하게 되었다.   \n",
       "1                                                                                                                                                                                                                                                                                                                                                                                                                                                                                                          마이클 E. 브라운의 웹사이트에서는 이 천체의 반사율을 0.04로 추정하여 지름을 328 km로 추산하였고, 왜행성이 될 가능성이 있다고 보았다  이 천체의 색이 해왕성 바깥 천체의 일반적인 색인 파랑색을 띄기 때문에, 반사율이 추정치보다 더 낮을 가능성이 높다 하지만 만약 반사율이 추정치보다 높다면, 지름이 추정치보다 반 이상 작을 가능성이 매우 높다.\\n\\n(148209) 2000 CR|105와 90377 세드나는 산란원반 천체로, 태양에 가장 가까이 가도 해왕성의 영향을 받지 않는다. 이 천체들이 어떻게 지금과 같은 궤도에 들어갔는지는 수수께끼이며, 추측만 무성하다. 궤도의 형성에 대한 이론들의 주장은 다음과 같다.\\n* 태양계 근처를 지나가던 항성에 의해 기존 궤도를 이탈하였을 것이다.  \\n* 현재 발견되지 않은 가상의 행성에 의해 기존 궤도를 이탈하였을 것이다. \\n* 현재 발견되지 않은 태양의 쌍성에 의해 기존 궤도를 이탈하였을 것이다\\n* 태양계 형성 초기에 다른 행성계에서 포획되었을 것이다 케년과 브롬리에 따르면, 태양이 자신과 비슷한 별과 형성 초기에 만났을 가능성은 15%이고, 행성 교환이 일어났을 가능성은 1%이다. (148209) 2000 CR|105은 포획된 천체일 가능성이 세드나보다 2~3배 높다\\n\\n(148209) 2000 CR|105는 궤도 긴반지름이 150 AU가 넘는 천체 중 최초로 발견된 천체로, 근일점 편각이 340 ± 55°에 달한다.  현재까지 긴반지름이 100 AU가 넘고 근일점이 42 AU를 넘는 천체는 11개밖에 발견되지 않았다.  (148209) 2000 CR|105는 제9행성의 영향을 받으리라고 예상된다.   \n",
       "\n",
       "  corpus_source  url  domain  author  html     document_id  \\\n",
       "0         위키피디아  NaN     NaN     NaN   NaN  [39917, 39918]   \n",
       "1         위키피디아  NaN     NaN     NaN   NaN         [49858]   \n",
       "\n",
       "                               Q_based title  \n",
       "0                               특이한 언어를 알려줘?  \n",
       "1  마이클 E. 브라운은 2000 CR 105가 왜행성이 될 수 있다고 봤어?  "
      ]
     },
     "metadata": {},
     "output_type": "display_data"
    },
    {
     "data": {
      "text/html": [
       "<div>\n",
       "<style scoped>\n",
       "    .dataframe tbody tr th:only-of-type {\n",
       "        vertical-align: middle;\n",
       "    }\n",
       "\n",
       "    .dataframe tbody tr th {\n",
       "        vertical-align: top;\n",
       "    }\n",
       "\n",
       "    .dataframe thead th {\n",
       "        text-align: right;\n",
       "    }\n",
       "</style>\n",
       "<table border=\"1\" class=\"dataframe\">\n",
       "  <thead>\n",
       "    <tr style=\"text-align: right;\">\n",
       "      <th></th>\n",
       "      <th>text</th>\n",
       "      <th>corpus_source</th>\n",
       "      <th>url</th>\n",
       "      <th>domain</th>\n",
       "      <th>title</th>\n",
       "      <th>author</th>\n",
       "      <th>html</th>\n",
       "      <th>document_id</th>\n",
       "    </tr>\n",
       "  </thead>\n",
       "  <tbody>\n",
       "    <tr>\n",
       "      <th>0</th>\n",
       "      <td>이 문서는 나라 목록이며, 전 세계 206개 나라의 각 현황과 주권 승인 정보를 개요 형태로 나열하고 있다.\\n\\n이 목록은 명료화를 위해 두 부분으로 나뉘어 있다.\\n\\n# 첫 번째 부분은 바티칸 시국과 팔레스타인을 포함하여 유엔 등 국제 기구에 가입되어 국제적인 승인을 널리 받았다고 여기는 195개 나라를 나열하고 있다.\\n# 두 번째 부분은 일부 지역의 주권을 사실상 (데 팍토) 행사하고 있지만, 아직 국제적인 승인을 널리 받지 않았다고 여기는 11개 나라를 나열하고 있다.\\n\\n두 목록은 모두 가나다 순이다.\\n\\n일부 국가의 경우 국가로서의 자격에 논쟁의 여부가 있으며, 이 때문에 이러한 목록을 엮는 것은 매우 어렵고 논란이 생길 수 있는 과정이다. 이 목록을 구성하고 있는 국가를 선정하는 기준에 대한 정보는 \"포함 기준\" 단락을 통해 설명하였다. 나라에 대한 일반적인 정보는 \"국가\" 문서에서 설명하고 있다.</td>\n",
       "      <td>위키피디아</td>\n",
       "      <td>TODO</td>\n",
       "      <td>None</td>\n",
       "      <td>나라 목록</td>\n",
       "      <td>None</td>\n",
       "      <td>None</td>\n",
       "      <td>0</td>\n",
       "    </tr>\n",
       "    <tr>\n",
       "      <th>1</th>\n",
       "      <td>이 목록에 실린 국가 기준은 1933년 몬테비데오 협약 1장을 참고로 하였다. 협정에 따르면, 국가는 다음의 조건을 만족해야 한다.\\n* (a) 영속적인 국민\\n* (b) 일정한 영토\\n* (c) 정부\\n* (d) 타국과의 관계 참여 자격.\\n특히, 마지막 조건은 국제 공동체의 참여 용인을 내포하고 있기 때문에, 다른 나라의 승인이 매우 중요한 역할을 할 수 있다.  이 목록에 포함된 모든 국가는 보통 이 기준을 만족하는 것으로 보이는 자주적이고 독립적인 국가이다. 하지만 몬테비데오 협약 기준을 만족하는지의 여부는 많은 국가가 논쟁이 되고 있는 실정이다. 또한, 몬테비데오 협약 기준만이 국가 지위의 충분한 자격이든 아니든, 국제법의 견해 차이는 존재할 수 있다. 이 물음에 대한 다른 이론에 대한 고리는 아래에서 볼 수 있다.\\n\\n위 기준에 논거하여 이 목록은 다음 206개 국가를 포함하고 있다.\\n* 일반 국제 승인을 받은 195개 자주 국가.\\n** 유엔 가입 국가 193개\\n** 성좌의 명칭으로 유엔에서 국제 승인을 받은 국가: 바티칸 시국\\n** 팔레스타인지역에 위치하며 유엔 영구 옵서버 국가: 팔레스타인\\n* 유엔의 가입국이 아니며, 일반 국제 승인을 받지 않은 11개 자주 국가.\\n** 유엔 회원국으로부터 승인을 받은 8개 국가: 남오세티야, 니우에, 북키프로스 튀르크 공화국, 사하라 아랍 민주 공화국, 압하지야, 중화민국, 코소보, 쿡 제도,\\n** 유엔 비회원국으로부터 승인을 받은 2개 국가: 아르차흐 공화국, 트란스니스트리아\\n** 어떤 나라에서도 승인 받지 않은 국가: 소말릴란드\\n\\n위 목록에 포함되지 않은 다음 국가는 몬테비데오 협약의 모든 조건을 만족하지 못하거나, 자주적이고 독립적임을 주장하지 않는 국가이다.\\n* 남극 대륙 전체는 정부와 영속 인구가 없다. 7개 국가가 남극 대륙 일부를 차지하고 있으며, 이중 5개 국가가 서로의 영유권을 인정하고 있다.  남극 조약에 따라서 규제되는 이 권리는 어떤 나라에서도 승인을 받지 않았다. \\n* EU 유럽 연합은 27개 가입 국가를 보유한 독특한 초국가 기구이다. 가입 국가는 입법권, 행정권, 사법권 기준을 유럽 연합 위원회로 이양하며, 유럽 연합은 엄밀히 말해 일반적인 주권 국가 간주와 관계 없이 주권 국가로의 특징을 가지고 있다. 유럽 연합은 주권 국가를 주장하지 않으며, 다른 나라와의 관계에서 제한된 지위를 가지고 있다.\\n* 미국과 오스트레일리아, 기타 국가에서 주 (State)라고 칭하는 행정 구역은 주 (행정 구역)을 참고하라. 이러한 하부 국가 개념의 행정 구역은 일부를 제외하고는 다른 나라와 관계를 형성하지 않는다. 예를 들어서 독일 제국의 주는 해외 영사관을 가졌으며, 소비에트 연방의 한 부분이었던 우크라이나 소비에트 사회주의 공화국 (현재의 우크라이나)과 벨로루시 소비에트 사회주의 공화국 (현재의 벨라루스)는 유엔 가입국이었다. 무엇보다 중요한 것은, 이러한 주들은 자주적이고 독립적임을 주장하지 않는다는 것이다.\\n* 몰타 기사단 몰타 기사단은 \"총회에 유효 참관국 자격으로 참여할 수 있으며, 본부에서 영속적인 지위를 유지하는 기타 국가\" 분류에 속하는 유엔 참관 국가이다.  이 단체는 104개 국가와 쌍방 외교 관계를 맺고 있으나, 로마 내의 치외 법권 영역 이외에는 일정한 영토가 없다.  단체의 웹사이트에서는 \"항상 국가에게 국제법의 독립 주체로 인정 받는다.\"고 선언하고 있다.  기사단의 헌법 에서는 다음과 같이 설명하고 있다. \"기사단은 국제법의 주체이며, 주권 기능을 행사한다.\"  기사단은 자주 주권을 주장하고 있지만, 이름에서 볼 수 있듯이 주권 국가라고 주장하지는 않는다. 다른 대사관처럼 이탈리아는 이론상 기사단과 외교 관계를 파기할 수 있으며, 이탈리아 국민이 아닌 단원을 이탈리아 영토에서 강제로 추방할 수 있다. 기사단의 단원은 모두 다른 나라의 국민이기 때문에, 사실상 이들은 모두 자신의 국가에서 살고 있으며, 로마에서 기사단의 치외 법권 영역에 거주하는 단원은 오직 공식 직무에만 연관하여 활동한다. 따라서, 기사단은 영속적인 국민의 특성이 부족하다고 볼 수 있다.\\n* 마이크로네이션으로 여겨지는 국가는 자주적이고 독립적이라고 주장하고, 다른 나라와 외교 관계를 맺고자 시도하여도 포함하지 않았다. 마이크로네이션이 정말로 점유한 영토를 지배하는지, 마이크로네이션의 '인구' 감소 빈도가 낮은 지의 여부는 논쟁이 되고 있다.\\n* ISIS 등은 다른 나라들 못지 않은 영역을 두고 있으며 스스로를 \"나라\"라고 자처하지만, 국제법상 주권이 결여되어 있으며 국제법에 위배되는 테러리즘을 일삼아 '나라'로 간주되지도 않는다. 다만 준국가로 분류한다.</td>\n",
       "      <td>위키피디아</td>\n",
       "      <td>TODO</td>\n",
       "      <td>None</td>\n",
       "      <td>나라 목록</td>\n",
       "      <td>None</td>\n",
       "      <td>None</td>\n",
       "      <td>1</td>\n",
       "    </tr>\n",
       "  </tbody>\n",
       "</table>\n",
       "</div>"
      ],
      "text/plain": [
       "                                                                                                                                                                                                                                                                                                                                                                                                                                                                                                                                                                                                                                                                                                                                                                                                                                                                                                                                                                                                                                                                                                                                                                                                                                                                                                                                                                                                                                                                                                                                                                                                                                                                                                                                                                                                                                                                                                                                                                                                                                                                                                                                                                                                                                                                                                                                                                                          text  \\\n",
       "0                                                                                                                                                                                                                                                                                                                                                                                                                                                                                                                                                                                                                                                                                                                                                                                                                                                                                                                                                                                                                                                                                                                                                                                                                                                                                                                                                                                                                                                                                                                                                                                                                                                                                                                                                                                                                                                                                                              이 문서는 나라 목록이며, 전 세계 206개 나라의 각 현황과 주권 승인 정보를 개요 형태로 나열하고 있다.\\n\\n이 목록은 명료화를 위해 두 부분으로 나뉘어 있다.\\n\\n# 첫 번째 부분은 바티칸 시국과 팔레스타인을 포함하여 유엔 등 국제 기구에 가입되어 국제적인 승인을 널리 받았다고 여기는 195개 나라를 나열하고 있다.\\n# 두 번째 부분은 일부 지역의 주권을 사실상 (데 팍토) 행사하고 있지만, 아직 국제적인 승인을 널리 받지 않았다고 여기는 11개 나라를 나열하고 있다.\\n\\n두 목록은 모두 가나다 순이다.\\n\\n일부 국가의 경우 국가로서의 자격에 논쟁의 여부가 있으며, 이 때문에 이러한 목록을 엮는 것은 매우 어렵고 논란이 생길 수 있는 과정이다. 이 목록을 구성하고 있는 국가를 선정하는 기준에 대한 정보는 \"포함 기준\" 단락을 통해 설명하였다. 나라에 대한 일반적인 정보는 \"국가\" 문서에서 설명하고 있다.   \n",
       "1  이 목록에 실린 국가 기준은 1933년 몬테비데오 협약 1장을 참고로 하였다. 협정에 따르면, 국가는 다음의 조건을 만족해야 한다.\\n* (a) 영속적인 국민\\n* (b) 일정한 영토\\n* (c) 정부\\n* (d) 타국과의 관계 참여 자격.\\n특히, 마지막 조건은 국제 공동체의 참여 용인을 내포하고 있기 때문에, 다른 나라의 승인이 매우 중요한 역할을 할 수 있다.  이 목록에 포함된 모든 국가는 보통 이 기준을 만족하는 것으로 보이는 자주적이고 독립적인 국가이다. 하지만 몬테비데오 협약 기준을 만족하는지의 여부는 많은 국가가 논쟁이 되고 있는 실정이다. 또한, 몬테비데오 협약 기준만이 국가 지위의 충분한 자격이든 아니든, 국제법의 견해 차이는 존재할 수 있다. 이 물음에 대한 다른 이론에 대한 고리는 아래에서 볼 수 있다.\\n\\n위 기준에 논거하여 이 목록은 다음 206개 국가를 포함하고 있다.\\n* 일반 국제 승인을 받은 195개 자주 국가.\\n** 유엔 가입 국가 193개\\n** 성좌의 명칭으로 유엔에서 국제 승인을 받은 국가: 바티칸 시국\\n** 팔레스타인지역에 위치하며 유엔 영구 옵서버 국가: 팔레스타인\\n* 유엔의 가입국이 아니며, 일반 국제 승인을 받지 않은 11개 자주 국가.\\n** 유엔 회원국으로부터 승인을 받은 8개 국가: 남오세티야, 니우에, 북키프로스 튀르크 공화국, 사하라 아랍 민주 공화국, 압하지야, 중화민국, 코소보, 쿡 제도,\\n** 유엔 비회원국으로부터 승인을 받은 2개 국가: 아르차흐 공화국, 트란스니스트리아\\n** 어떤 나라에서도 승인 받지 않은 국가: 소말릴란드\\n\\n위 목록에 포함되지 않은 다음 국가는 몬테비데오 협약의 모든 조건을 만족하지 못하거나, 자주적이고 독립적임을 주장하지 않는 국가이다.\\n* 남극 대륙 전체는 정부와 영속 인구가 없다. 7개 국가가 남극 대륙 일부를 차지하고 있으며, 이중 5개 국가가 서로의 영유권을 인정하고 있다.  남극 조약에 따라서 규제되는 이 권리는 어떤 나라에서도 승인을 받지 않았다. \\n* EU 유럽 연합은 27개 가입 국가를 보유한 독특한 초국가 기구이다. 가입 국가는 입법권, 행정권, 사법권 기준을 유럽 연합 위원회로 이양하며, 유럽 연합은 엄밀히 말해 일반적인 주권 국가 간주와 관계 없이 주권 국가로의 특징을 가지고 있다. 유럽 연합은 주권 국가를 주장하지 않으며, 다른 나라와의 관계에서 제한된 지위를 가지고 있다.\\n* 미국과 오스트레일리아, 기타 국가에서 주 (State)라고 칭하는 행정 구역은 주 (행정 구역)을 참고하라. 이러한 하부 국가 개념의 행정 구역은 일부를 제외하고는 다른 나라와 관계를 형성하지 않는다. 예를 들어서 독일 제국의 주는 해외 영사관을 가졌으며, 소비에트 연방의 한 부분이었던 우크라이나 소비에트 사회주의 공화국 (현재의 우크라이나)과 벨로루시 소비에트 사회주의 공화국 (현재의 벨라루스)는 유엔 가입국이었다. 무엇보다 중요한 것은, 이러한 주들은 자주적이고 독립적임을 주장하지 않는다는 것이다.\\n* 몰타 기사단 몰타 기사단은 \"총회에 유효 참관국 자격으로 참여할 수 있으며, 본부에서 영속적인 지위를 유지하는 기타 국가\" 분류에 속하는 유엔 참관 국가이다.  이 단체는 104개 국가와 쌍방 외교 관계를 맺고 있으나, 로마 내의 치외 법권 영역 이외에는 일정한 영토가 없다.  단체의 웹사이트에서는 \"항상 국가에게 국제법의 독립 주체로 인정 받는다.\"고 선언하고 있다.  기사단의 헌법 에서는 다음과 같이 설명하고 있다. \"기사단은 국제법의 주체이며, 주권 기능을 행사한다.\"  기사단은 자주 주권을 주장하고 있지만, 이름에서 볼 수 있듯이 주권 국가라고 주장하지는 않는다. 다른 대사관처럼 이탈리아는 이론상 기사단과 외교 관계를 파기할 수 있으며, 이탈리아 국민이 아닌 단원을 이탈리아 영토에서 강제로 추방할 수 있다. 기사단의 단원은 모두 다른 나라의 국민이기 때문에, 사실상 이들은 모두 자신의 국가에서 살고 있으며, 로마에서 기사단의 치외 법권 영역에 거주하는 단원은 오직 공식 직무에만 연관하여 활동한다. 따라서, 기사단은 영속적인 국민의 특성이 부족하다고 볼 수 있다.\\n* 마이크로네이션으로 여겨지는 국가는 자주적이고 독립적이라고 주장하고, 다른 나라와 외교 관계를 맺고자 시도하여도 포함하지 않았다. 마이크로네이션이 정말로 점유한 영토를 지배하는지, 마이크로네이션의 '인구' 감소 빈도가 낮은 지의 여부는 논쟁이 되고 있다.\\n* ISIS 등은 다른 나라들 못지 않은 영역을 두고 있으며 스스로를 \"나라\"라고 자처하지만, 국제법상 주권이 결여되어 있으며 국제법에 위배되는 테러리즘을 일삼아 '나라'로 간주되지도 않는다. 다만 준국가로 분류한다.   \n",
       "\n",
       "  corpus_source   url domain  title author  html document_id  \n",
       "0         위키피디아  TODO   None  나라 목록   None  None           0  \n",
       "1         위키피디아  TODO   None  나라 목록   None  None           1  "
      ]
     },
     "metadata": {},
     "output_type": "display_data"
    }
   ],
   "source": [
    "display(df_wiki_QG.head(2))\n",
    "display(df_wiki.head(2))"
   ]
  },
  {
   "attachments": {},
   "cell_type": "markdown",
   "metadata": {},
   "source": [
    "### doc_id 기준 작은 것"
   ]
  },
  {
   "cell_type": "code",
   "execution_count": 56,
   "metadata": {},
   "outputs": [
    {
     "data": {
      "text/html": [
       "<div>\n",
       "<style scoped>\n",
       "    .dataframe tbody tr th:only-of-type {\n",
       "        vertical-align: middle;\n",
       "    }\n",
       "\n",
       "    .dataframe tbody tr th {\n",
       "        vertical-align: top;\n",
       "    }\n",
       "\n",
       "    .dataframe thead th {\n",
       "        text-align: right;\n",
       "    }\n",
       "</style>\n",
       "<table border=\"1\" class=\"dataframe\">\n",
       "  <thead>\n",
       "    <tr style=\"text-align: right;\">\n",
       "      <th></th>\n",
       "      <th>text</th>\n",
       "      <th>corpus_source</th>\n",
       "      <th>url</th>\n",
       "      <th>domain</th>\n",
       "      <th>title</th>\n",
       "      <th>author</th>\n",
       "      <th>html</th>\n",
       "      <th>document_id</th>\n",
       "      <th>Q</th>\n",
       "    </tr>\n",
       "  </thead>\n",
       "  <tbody>\n",
       "    <tr>\n",
       "      <th>39917</th>\n",
       "      <td>ǃ쿵어가 포함된 카어족, 코이산 제어를 연구하는 학자들이 언어를 분류한 방식이 서로 다르고, 시간이 지나면서 새로운 분류체계가 등장하고 있어 같은 용어라도 다른 의미로 쓰이는 경우가 있다. \\nǃ쿵어(ǃKung)라는 이름은 서로 연관되어있는 방언 각각 이름에 주로 사용하며(예:북부 ǃ쿵어, 중부 ǃ쿵어), 때로는 더 넓은 의미로 방언연속체를 구성하는 언어들 중 북부/북서부 지역의 방언들을 일컫는 말이다. 이때 대응되는 개념은 주호안어(Ju|ʼhoan)이며, 전체 중 남부/남동부의 방언을 지칭한다.\\n주어(Ju)라는 이름은 다양한 ǃ쿵어의 방언들을 하나의 “작은 어족”(language complex)으로 묶어서 부를 경우 주로 사용된다(예: 카어족은 주어(Ju)와 ǂʼ암코이어(ǂʼAmkoe)로 구성된다). \\n유전자 기반의 분석을 진행하는 분자인류학자들은 북부 ǃ쿵어를 사용하는 사람들을 세켈레(Sekele) 또는 바시켈라 ǃ쿵(Vasikela ǃKung)으로 표기하였고, 남부 ǃ쿵어, 즉 주호안어(Ju|ʼhoan)을 사용하는 사람들을 춤쿠에 산(Tsumkwe San) 혹은 ǃ쿵(ǃKung)으로 분류하였다. \\n\\nǃ쿵(ǃKung)이라는 단어 역시 다양한 형태로 표현된다. ǃ쿵(ǃKung)이 처음으로 사용된 것은 1937년이었다. \\nǃ쿵(ǃKung)을 나타내기 위하여 ǃXun ,\\nǃXuun , ǃXʼu(u)n, ǃKu(u)n, ǃHu, ǃKhung, ǃKu, Kung, Qxü, ǃung, ǃXo, ǃXu ,\\nXû, ǃXû, Xun, ǃXung ,\\nǃXũ ,\\nǃXũũ, ʗhũ: \\n등 다양한 표기가 사용되었다. 주(Ju) 역시 Dzu , Juu , Zhu 등 다양한 형태로 표기되었다.\\n\\n최근 문헌의 경우 ǃ쿵어를 표기하기 위해 ǃXun 또는 ǃXuun을 사용하는 경우가 많다.</td>\n",
       "      <td>위키피디아</td>\n",
       "      <td>None</td>\n",
       "      <td>None</td>\n",
       "      <td>!쿵어</td>\n",
       "      <td>None</td>\n",
       "      <td>None</td>\n",
       "      <td>39917</td>\n",
       "      <td>특이한 언어를 알려줘?</td>\n",
       "    </tr>\n",
       "  </tbody>\n",
       "</table>\n",
       "</div>"
      ],
      "text/plain": [
       "                                                                                                                                                                                                                                                                                                                                                                                                                                                                                                                                                                                                                                                                                                                                                                                                                                                                                                                                      text  \\\n",
       "39917  ǃ쿵어가 포함된 카어족, 코이산 제어를 연구하는 학자들이 언어를 분류한 방식이 서로 다르고, 시간이 지나면서 새로운 분류체계가 등장하고 있어 같은 용어라도 다른 의미로 쓰이는 경우가 있다. \\nǃ쿵어(ǃKung)라는 이름은 서로 연관되어있는 방언 각각 이름에 주로 사용하며(예:북부 ǃ쿵어, 중부 ǃ쿵어), 때로는 더 넓은 의미로 방언연속체를 구성하는 언어들 중 북부/북서부 지역의 방언들을 일컫는 말이다. 이때 대응되는 개념은 주호안어(Ju|ʼhoan)이며, 전체 중 남부/남동부의 방언을 지칭한다.\\n주어(Ju)라는 이름은 다양한 ǃ쿵어의 방언들을 하나의 “작은 어족”(language complex)으로 묶어서 부를 경우 주로 사용된다(예: 카어족은 주어(Ju)와 ǂʼ암코이어(ǂʼAmkoe)로 구성된다). \\n유전자 기반의 분석을 진행하는 분자인류학자들은 북부 ǃ쿵어를 사용하는 사람들을 세켈레(Sekele) 또는 바시켈라 ǃ쿵(Vasikela ǃKung)으로 표기하였고, 남부 ǃ쿵어, 즉 주호안어(Ju|ʼhoan)을 사용하는 사람들을 춤쿠에 산(Tsumkwe San) 혹은 ǃ쿵(ǃKung)으로 분류하였다. \\n\\nǃ쿵(ǃKung)이라는 단어 역시 다양한 형태로 표현된다. ǃ쿵(ǃKung)이 처음으로 사용된 것은 1937년이었다. \\nǃ쿵(ǃKung)을 나타내기 위하여 ǃXun ,\\nǃXuun , ǃXʼu(u)n, ǃKu(u)n, ǃHu, ǃKhung, ǃKu, Kung, Qxü, ǃung, ǃXo, ǃXu ,\\nXû, ǃXû, Xun, ǃXung ,\\nǃXũ ,\\nǃXũũ, ʗhũ: \\n등 다양한 표기가 사용되었다. 주(Ju) 역시 Dzu , Juu , Zhu 등 다양한 형태로 표기되었다.\\n\\n최근 문헌의 경우 ǃ쿵어를 표기하기 위해 ǃXun 또는 ǃXuun을 사용하는 경우가 많다.   \n",
       "\n",
       "      corpus_source   url domain title author  html document_id             Q  \n",
       "39917         위키피디아  None   None   !쿵어   None  None       39917  특이한 언어를 알려줘?  "
      ]
     },
     "execution_count": 56,
     "metadata": {},
     "output_type": "execute_result"
    }
   ],
   "source": [
    "df = pd.DataFrame()\n",
    "# df_tmp = pd.concat([df_wiki[df_wiki['document_id'] == eval(df_wiki_QG.iloc[0]['document_id'])[0]],df_wiki_QG.iloc[0]['Q_based title']],axis=1)\n",
    "df_tmp = df_wiki[df_wiki['document_id'] == eval(df_wiki_QG.iloc[0]['document_id'])[0]]\n",
    "df_tmp['Q'] = df_wiki_QG.iloc[0]['Q_based title']\n",
    "df = pd.concat([df,df_tmp],axis=0)\n",
    "df"
   ]
  },
  {
   "attachments": {},
   "cell_type": "markdown",
   "metadata": {},
   "source": [
    "전체 데이터 기준 Q, title 을 담고 있는 df 만들기, text는 doc_id 제일 작은 기준으로 자르기"
   ]
  },
  {
   "cell_type": "code",
   "execution_count": 57,
   "metadata": {},
   "outputs": [],
   "source": [
    "df = pd.DataFrame()\n",
    "for i in range(len(df_wiki_QG)):\n",
    "# for i in range(100):\n",
    "    # df_tmp = pd.concat([df_wiki[df_wiki['document_id'] == eval(df_wiki_QG.iloc[0]['document_id'])[0]],df_wiki_QG.iloc[0]['Q_based title']],axis=1)\n",
    "    df_tmp = df_wiki[df_wiki['document_id'] == eval(df_wiki_QG.iloc[i]['document_id'])[0]]\n",
    "    df_tmp['Q'] = df_wiki_QG.iloc[i]['Q_based title']\n",
    "    df = pd.concat([df,df_tmp],axis=0)"
   ]
  },
  {
   "cell_type": "code",
   "execution_count": 58,
   "metadata": {},
   "outputs": [
    {
     "data": {
      "text/html": [
       "<div>\n",
       "<style scoped>\n",
       "    .dataframe tbody tr th:only-of-type {\n",
       "        vertical-align: middle;\n",
       "    }\n",
       "\n",
       "    .dataframe tbody tr th {\n",
       "        vertical-align: top;\n",
       "    }\n",
       "\n",
       "    .dataframe thead th {\n",
       "        text-align: right;\n",
       "    }\n",
       "</style>\n",
       "<table border=\"1\" class=\"dataframe\">\n",
       "  <thead>\n",
       "    <tr style=\"text-align: right;\">\n",
       "      <th></th>\n",
       "      <th>text</th>\n",
       "      <th>corpus_source</th>\n",
       "      <th>url</th>\n",
       "      <th>domain</th>\n",
       "      <th>title</th>\n",
       "      <th>author</th>\n",
       "      <th>html</th>\n",
       "      <th>document_id</th>\n",
       "      <th>Q</th>\n",
       "    </tr>\n",
       "  </thead>\n",
       "  <tbody>\n",
       "    <tr>\n",
       "      <th>27193</th>\n",
       "      <td>; 나카지마 요코 (中嶋 陽子)\\n성우 : 히사카와 아야 / 이현선\\n: 현 경왕(景王). 연호는 적락(赤樂). 붉은색 머리카락과 녹색의 눈동자와 거무스름한 피부가 특징. 현대의 일본(봉래)에서 태어나서 자란 고등학생이지만, 실은 태과로, 왕기에 이끌려 봉래로 건너 온 케이키에 의해 십이국 세계에 돌아와, 라크슌과 연왕의 도움을 받아 위왕과 각왕의 계획을 부수고 경국의 왕이 된다. 관리에서는 세키시(赤子)라고 하는 호가 주어지며 츄우요우시(中陽子)의 이름으로 시정에 나오기도 한다. 경국에서는 최근의 몇년동안 무능한 여왕이 계속 되었기 때문에, 처음에는 관리에게도 백성에게도 신용이 전혀 없었지만, 화주의 난(수은)에 참여하여 개혁정치의 발판을 마련한다. 봉래에 있었을 때에는 사람들에게 미움받기 싫어 다른 사람의 안색이나 눈치를 살피며 행동하며 지내왔다. 십이국에 온 당초에도 매우 내성적이고 나약한 성격에 믿은 인간에게 배신당한 일로 모든 사람들을 불신하였지만 라크슌과 만나면서 사람을 믿는 마음을 되찾으며, 늠름하고 강인한 여성으로 성장한다. 따뜻한 마음씨의 소유자지만, 겉으로 크게 드러나지않는데다 다소 불만가득한 인상쓴 표정이라 라크슌에게는 무뚝뚝하다고 평 해진다. 봉래에서는 부모님께 여자아이다움을 강요당하고 있었지만, 십이국의 세계로 오면서 남장을 하고 있었던 때가 있어서인지 집무 중에는 수수한 복장을 좋아하며 시정에 나올 때는 남자같은 모습을 하고 있어 성격이나 말투도 그렇고 남자로 오해받는 일도 적지 않다. 관리에게는 '여자의 향기가 부족한 채 왕이 되었다'고 평 되지만 본인은 그다지 신경쓰지 않는 듯.  복장, 예의 등 고향과는 다른 십이국의 관습이나 신분이 여전히 적응이 잘 안되는 듯.\\n\\n; 케이키 (景麒)\\n성우 : 코야스 타케히토 / 김승준\\n: 경국의 기린. 경국의 재상을 맡으며 수도주, 영주의 주후도 겸한다. 엷은 금빛의 머리카락을 가졌으며 외관은 20대 후반의 남성. 기린의 본성인 자비로운 마음을 가지고 있지만, 무표정하고 과묵한 모습에 냉철한 성격으로 보이기도 한다. 요코가 왕이 되기 전에는 예왕(쇼가쿠)을 모셨기에 요코는 두 번째의 왕이다. 천성적으로 매우 고지식하고 성실한 성격이라 자주 연왕이나 엔키에 놀림당하기도 한다. 타이키와 교류를 통해서 사람에게 다정하게 대하는 법을 배우지만, 그것이 애석하게도 예왕의 실도의 원인이 된다.\\n\\n; 여사 쇼우케이(전 방국 예왕의 공주)\\n; 여어 오오키 스즈(해객, 전 재국 비선 취미군의 하인)\\n; 총재 코우칸(전 맥주후)\\n; 태사 송백(엔호)\\n; 사이보우(화주후)\\n; 금군 좌장군 세이신(칸타이)\\n; 라크슌 (楽俊)\\n성우 : 스즈무라 켄이치 / 변현우\\n: 성명은 장청. 반인반수로, 쥐 쪽이 옷을 안입어도 되는 등 간편하고 편안해서 쥐의 모습을 하고 있는 것이 대부분이다. 반수일 때 키는 요코의 명치 정도로 어린아이 같이 보이지만, 진짜 나이는 22세이다. 사람일 때 모습은 중간정도의 키에 조금 마른 편이다. 성격은 굉장히 선하고 싹싹하며 세상물정에도 밝다. 교국에서 반수는 호적도 주어지지않고 학교에도 들어갈 수 없어, 독학으로 면학에 힘쓴 노력가.교국에서 지쳐 쓰러진 요코를 구하고 친구가 되어, 요코와 함께 안국으로 향한다. 연왕의 추천으로 안국의 대학에 추천 되며, 입학하는 것도 상당히 어려운 대학에 수석으로 합격한다. 애니메이션에서는 마지막에 경국의 대학에 편입한다. 경국의 연호, 적락의 락은 라크슌의 이름에서 딴 것이다.</td>\n",
       "      <td>위키피디아</td>\n",
       "      <td>None</td>\n",
       "      <td>None</td>\n",
       "      <td>12국기의 등장인물</td>\n",
       "      <td>None</td>\n",
       "      <td>None</td>\n",
       "      <td>27193</td>\n",
       "      <td>타이키 코우리는 어느 나라의 왕이었어?</td>\n",
       "    </tr>\n",
       "    <tr>\n",
       "      <th>38423</th>\n",
       "      <td>12대 닥터 (Twelfth Doctor, 열두 번째 닥터)는 장수 방영되고 있는 BBC의 텔레비전 공상과학 드라마 닥터 후의 주인공인 닥터의 모습 중 하나이다. 스코틀랜드 배우 피터 카팔디가 역을 맡았다.  작중에서 닥터는 시간 여행을 하는 타임 로드라고 알려진 인간형 외계인 종족이다. 닥터는 위독한 부상을 입었을 때 자신의 몸을 재생성시킬수 있으나, 그렇게 하면서 신체적으로 새로운 모습을 얻고 그 모습으로 특유의 새로운 성격이 생기게 된다. 이 줄거리 구조는 1963년 드라마 시작 이래로 시대를 넘어 배우들의 시리즈에 따라 닥터를 인정해오고 있다.\\n\\n카팔디는 드라마 50주년 기념 스페셜 에피소드 \"The Day of the Doctor\" (2013)에서 갈리프레이를 멸망에서 구해내기 위해 모여든 닥터 후의 13개 모습들 중 하나로 닥터 역으로써 처음이자 매우 짧은 출연을 했다. 카팔디의 완전한 첫 출연은 크리스마스 스페셜 에피소드 \"The Time of the Doctor\"에서였다.   시즌 8에서 동행자인 클라라 오즈월드 (제나 콜먼)과 동행하였다.</td>\n",
       "      <td>위키피디아</td>\n",
       "      <td>None</td>\n",
       "      <td>None</td>\n",
       "      <td>12대 닥터</td>\n",
       "      <td>None</td>\n",
       "      <td>None</td>\n",
       "      <td>38423</td>\n",
       "      <td>드라마 닥터 후의 남자주인공이 몇 대 닥터야?</td>\n",
       "    </tr>\n",
       "    <tr>\n",
       "      <th>43948</th>\n",
       "      <td>RIM-116 램\\n2009년 10월 19일 LIG넥스원은 구미공장에서 RIM-116 램 양산 1호기를 출고했다. 레이시온의 기술이전으로 국산화를 완료했으며, 자체 수출도 가능하도록 라이센스를 받았다. 사거리 12 km이다. 2008년 5월에 계약이 체결되어 국산화가 시작되었다. 2011년까지 충무공이순신급 구축함, 세종대왕급 구축함, 독도함에 실전배치된다. 2015년까지 K-SAAM이 개발되어 인천함에 장착될 계획이다.\\n\\n레이시온 RIM-116 램은 직경 127mm인 레이시온 AIM-9 사이드와인더 공대공 미사일을 함대공 미사일로 개조한 것이다. 130mm 유도로켓은 직경 130mm 함대함 미사일이다. 외양은 직경 127mm인 AIM-9 사이드와인더, RIM-116 램과 거의 비슷하다.</td>\n",
       "      <td>위키피디아</td>\n",
       "      <td>None</td>\n",
       "      <td>None</td>\n",
       "      <td>130 mm 유도로켓</td>\n",
       "      <td>None</td>\n",
       "      <td>None</td>\n",
       "      <td>43948</td>\n",
       "      <td>LIG넥스원에서 언제 RIM-116 램 양산 1호기를 출고했어?</td>\n",
       "    </tr>\n",
       "    <tr>\n",
       "      <th>41283</th>\n",
       "      <td>1321년 나환자 공포(1321 leper scare) 또는 나환자음모사건(lepers' plot)은 서기 1321년 프랑스에서 나병 환자들이 우물을 오염시켜 자신들의 병을 퍼뜨리려 한다는 소문이 돌았던 사건이다.  그러나 이는 나병환자를 고문하여 강제로 자백을 받아낸 것이었다. 미국의 역사학자인  솔로몬 그레이젤(Solomon Grayzel)에 따르면, 나환자들은 중세에 가장 박해받던 사람들 중 하나로서, 나병이 전염성이 낮다는 것을 모르던 시대의 나환자들은 인간 거주지에서 내쫓겨 광야에서 들짐승과 같은 생활을 해야 했으며 환자의 재산은 몰수되었다.  또한 이 나환자들의 배후 조종을 한 것이 유대인과 무슬림들이라는 소문도 퍼져서 사람들은 유대인들과 나환자촌을 공격(포그롬)했다. 이 집단 히스테리는 가라앉지 않고 주변 지역으로 빠르게 퍼져나갔고, 특히 아라곤 왕국에서 심각했다. 그러나 이러한 주장은 과장된 것이며 나병 환자가 지역사회 내에서 생활했으며, 자선 기부금 등의 지원을 받으며 생활했다는 반대 입장 또한 존재한다.</td>\n",
       "      <td>위키피디아</td>\n",
       "      <td>None</td>\n",
       "      <td>None</td>\n",
       "      <td>1321년 나환자 공포</td>\n",
       "      <td>None</td>\n",
       "      <td>None</td>\n",
       "      <td>41283</td>\n",
       "      <td>프랑스에서 나병 환자들이 우물을 오염시켜 자신들의 병을 퍼뜨리려 한다는 소문을 뭐라고 해?</td>\n",
       "    </tr>\n",
       "    <tr>\n",
       "      <th>44029</th>\n",
       "      <td>이 곡은 1882년(일설에는 1881년)에 뮌헨에서 작곡되었다. 이것은 슈트라우스의 아주 초기의 작품이다. 초연은 1882년 11월 27일에 프란츠 뷜너의 지휘로 드레스덴 국립관현악단의 단원들에 의해 연주되었다. 제1호른을 연주한 것은 오스칼 프란츠로, 그는 왕립 작센 실내음악가라는 칭호를 가지고 있었는데, 이 세레나데를 통하여 슈트라우스와 친교를 맺게 되어, 후에 호른 협주곡 1번을 헌정받는다. 세레나데 초연의 평판은 아주 좋았고, 다음해 1월 5일에 같은 멤버의 의해서 재연되었다. 그리고 1883년 12월 26일에는 마이닝겐에서 뷜로의 지휘에 의해 마이닝겐 궁정악단이 연주하였다. 거기에는 브람스가 높게 평가하여, 그를 위해서 만년에 클라리넷을 사용한 4곡의 실내악곡을 작곡하게 된 클라리넷의 명연주자인 리하르트 뮐펠트(Richard Mühlfeld, 1856~1907)도 참여했다. \\n\\n세레나데의 총보와 파트악보는 1882년 11월에 뮌헨의 요제프 아이플 출판사에서 출판되었다. 슈트라우스는 이 곡을 연탄 피아노로 편곡하여 요제프 아이플사에서 출판한 이외에 피아노 독주용으로 편곡하여 브라이트코프 &amp; 헤르텔에서도 출판했다. 요제프 아이플사에서 출판된 것은 20세기에 들어와서는 빈의 우니베르잘 출판사에서 출판되었다. 곡은 ‘왕립 바이에른 궁정악단 악장으로 (슈트라우스가) 커다란 경의를 보내고 있었던 F.W 마이어씨에게’ 현정되었다. 마이어(Friedrich Wilhelm Meyer)는 1875년부터 1880년에 걸쳐서 슈트라우스에게 초보부터 상급 정도의 음악이론을 가르쳤다. 마이어가 1893년에 서거했을 때에 슈트라우스는 양친에게(6월 10일 날짜로) 다음과 같이 쓰고 있다. ‘궁정 악장 마이어의 죽음을 매우 슬퍼하고 있습니다. 그는 솔직한 사람으로 고상한 마음의 소유자였습니다. 나는 영원히 그의 애정과 즐거운 추억을 소중히 하겠습니다. 투이레도 전에 아주 요령 있게 말한 적이 있습니다만, 마이어는 자신이 애정했던 것 이상으로 내 향상을 위하여 많은 것을 해 주었습니다’\\n\\n그런데 슈트라우스는 독립된 기악용의 세레나데를 이 1곡만 남기고 있다. 이것은 관악기용 작품으로, 모차르트, 베토벤, 멘델스존, 브람스로부터의 영향을 나타내고 있다. 또한 슈트라우는 초기부터 만년까지 관악기의 앙상블 음악에 결코 무관심하지 않았다. 이 곡은 초연에서도 평판이 좋았지만, 그 후 슈트라우스를 전부터 초애했던 한스 폰 뷜로의 지휘로 독일 각지에서 소개되어, 슈트라우스의 작곡가로서의 명성을 급속하게 알리게 되었다. 세레나데는 작곡가 슈트라우스의 출세작의 하나가 되었다. 그리고 뷜로에게 권유받아 마침내 13개의 관악기를 위한 모음곡(Op.4, 슈트라우스의 작품번호는 작곡연대순 또는 출판순서에 따르지 않는 경우가 많다.)의 작곡을 시작한다.\\n\\n그런데 세레나데는 오리지넬에서는 13명의 관악기 연주자로 연주된다. 다만 그 중의 콘트라바순은 당시 독일의 로컬 오케스트라로서는 구하기 어려운 악기였으므로 튜바로 대용해도 좋다고 지정되어 있다. 또한저음에는 더블베이스를 더해도 좋다고 되어 있다. 이 곡을 연주하는 경우에 지휘자를 두어야할지 어떨지도 문제가 되었지만, 슈트라우는 특별히 이것에 대하여 지정하고 있지 않다. 그러나 곡 도중에 템포가 움직이거나, 각각의 악기에 상당히 고도의 기교를 요구하고 있다. 13명이라는 사람 수로 볼 때 지휘자를 두는 편이 결과적으로 좋은 것은 사실이다. 실제로 19세기에 걸쳐 이 곡의 연주기록을 보면, 거의 모두  지휘자를 두고 있다. 곡은 기악용의 세레나데라고 하면서 고전파 시대에 유행한 다악장 형식이 아닌 안단테의 단일악장이다. 그것은 다악장 세레나데의 중간의 하나의 악장을 골라내어 독립시킨 것과 비슷하다. 그 울림은 세레나데에 어울리며, 과연 슈트라우스답게 밝고 투명하다. 그러나 선율적 발상에서는 멘델스존 또는 브람스적인 면이 많다. 관악기 13개라는 것은 모차르트의 세레나데, 특히 13개의 관악기의 그랑 파르티타(K.361)에서 착안하였는지도 모른다.</td>\n",
       "      <td>위키피디아</td>\n",
       "      <td>None</td>\n",
       "      <td>None</td>\n",
       "      <td>13개의 관악기를 위한 세레나데</td>\n",
       "      <td>None</td>\n",
       "      <td>None</td>\n",
       "      <td>44029</td>\n",
       "      <td>재현부는 어떻게 곡을 맺는거야?</td>\n",
       "    </tr>\n",
       "    <tr>\n",
       "      <th>51866</th>\n",
       "      <td>1498년 휴가나다 지진(せんよんひゃくきゅうじゅうはちねん ひゅうがなだじしん)은 양력 1498년 7월 9일(메이오 7년 음력 6월 11일, 율리우스력 1498년 6월 30일) 일본 규슈 동부에 있는 휴가나다 해역에서 일어난 지진이다. 1498년 휴가 지진(1498年日向地震)라고도 부른다. 또한 1498년 일어난 휴가나다 지진을 단순하게 '휴가나다 지진'이나 '휴가지진'이라고 부르기도 한다. 지진 규모는 M7.0-7.5로 추정된다.\\n\\n규슈군기(九州軍記)에 따르면 묘각(6시경)에 지진이 일어났으며 사각(10시경)엔 대지진이 일어나 규슈 전역에 피해를 입었다고 기록되어 있다. 규슈에선 곳곳에서 산사태가 일어나고 벳푸시에선 사찰에서 폭발이 일어나 사원과 주지가 폭발력으로 날아가고 뜨거운 진흙더미가 분출하여 스님 수십명이 사망했다는 기록도 있다. 그 외에도 각지의 산사태로 도리이와 비석 대다수가 쓰러지거나 무너지고, 사망자가 많이 나왔다. 시코쿠의 이요국에서도 땅이 꺼지는 등의 지각변동이 있었다고 한다. \\n\\n같은 날 미각-신각(15시경)에도 교토, 나라, 구마노, 미카와국, 가이국에 강진을 느꼈다는 기록이 있다. 도토미국에선 산사태가 일어나고 기이국과 미카와국에선 쓰나미 피해를 입었다는 기록이 있다.</td>\n",
       "      <td>위키피디아</td>\n",
       "      <td>None</td>\n",
       "      <td>None</td>\n",
       "      <td>1498년 휴가나다 지진</td>\n",
       "      <td>None</td>\n",
       "      <td>None</td>\n",
       "      <td>51866</td>\n",
       "      <td>일본 규슈 동부에 있는 휴가나다 해역에서 1498년에 일어난 지진은?</td>\n",
       "    </tr>\n",
       "    <tr>\n",
       "      <th>58000</th>\n",
       "      <td>최초의 감염사례는 6월에 나타나기 시작했다. 램베스(Lambeth) 도서관에 보관된 존 스토우(John Stow)의 원고에 따르면, 1563년 6월 5일부터 12일까지 17명이 페스트로 인해 처음으로 사망했다. 엘리자베스는 교회를 통해 국민들에게 명령을 전달함으로써 전염병에 대한 정부의 대응을 조율하기 시작했다. 교회의 신도들과 성직자들은 페스트에 걸린 사람들과 함께 머무르는 교구민들에게 회복한 후 몇 주가 지나거나, 죽지 않는 이상 교회에 나오지 말라고 지시하였다. 감염자의 집에 푸른 십자가를 칠하거나, 길 잃은 고양이와 개를 모두 죽이고 묻으라는 등 페스트를 퇴치하기 위한 정부의 명령이 내려졌으며, 이를 수행하기 위한 특별 장교들이 임명되었다. \\n\\n많은 사람들은 여전히 페스트가 \"독기(miasmas)\"를 들이마셔서 생긴다고 믿었다. 따라서 7월 9일 엘리자베스 여왕 평의회는 저녁 7시에 모든 가정주부들이 부패한 공기를 없애기 위해 거리에서 모닥불을 피워야 한다는 명령을 내렸는데, 당연히 별 효과를 보지 못했다 그 후 6월 26일에서 7월 3일 사이에는 131명이 사망했으며, 7월 30일까지는 매주 수백 명의 사망하는 전염병은 계속 심각해져만 갔다.  튜더의 내과의사인 윌리엄 벌린(William Bullein)은 전염병을 피해 도망가는 사람들을 목격한 한 거지의 증언을 기록한다 런던 성벽 내에서 거주하는 사람들은 1563년의 전염병으로 큰 타격을 입었는데,  성 폴카르(Saint Poulkar) 교구, 플리트 디치의 턴어게인가(Fleet Ditch's Turnagain lane), 그리고 시코알가(Seacoal lane)가 가장 심한 타격을 입었다 폴카르 교구는 과일 시장이 있었으며, 길가에는 오물이 있어서 쥐가 많이 번식함에 따라 가장 심각한 영향을 받았다 플리트 강 주변 지역은 과밀하고 비위생적인 것으로 악명이 높았는데, 결국 이 지역들에 페스트가 마구 퍼졌다.</td>\n",
       "      <td>위키피디아</td>\n",
       "      <td>None</td>\n",
       "      <td>None</td>\n",
       "      <td>1563년 런던 페스트</td>\n",
       "      <td>None</td>\n",
       "      <td>None</td>\n",
       "      <td>58000</td>\n",
       "      <td>1563년 페스트의 유행이 종식된 방법은?</td>\n",
       "    </tr>\n",
       "    <tr>\n",
       "      <th>30420</th>\n",
       "      <td>(15760) 1992 QB|1, 또는 (15760) 1992 QB1은 명왕성과 그 위성인 카론 이후 발견된 최초의 큐비원족 천체이다. 1992년 하와이의 마우나케아 천문대의 David C. Jewitt와 Jane X. Luu에 의해 발견되었다. 현재는 고전적 카이퍼 대 천체로 분류되며 임시 명칭이었던 QB1은 이러한 종류의 천체를 가리키는 큐비원족(QB1族, cubewano)이라는 말이 생겨나게 된 원인이 되었다.\\n임시 명명법에 따르면 \"QB\"은 그 해의 8월 말에 발견된 27번째 천체라는 의미이다.\\n\\n발견자는 이 천체에 \"Smiley\"라는 이름을 붙일 것을 제안했으나 그 이름은 이미 미국 천문학자의 이름을 딴 혜성인 1613 Smiley에 붙여져 있었다. 그 이후 15760이라는 번호를 부여받았지만 정식 이름은 부여받지 못하고 남아있고 그냥 간단하게 \"QB1\"이라고 불리고 있다. 그러나 발견연도가 같이 붙지 않으면 중복될 수가 있다. 2018년 1월 31일 소행성체 센터에서는 \"알비온(Albion)\"이라는 이름을 공식적으로 사용했으며  그 이름은 영국의 시인 윌리엄 블레이크의 작품 \"신화(mythology)\"에서 이름을 따왔다.</td>\n",
       "      <td>위키피디아</td>\n",
       "      <td>None</td>\n",
       "      <td>None</td>\n",
       "      <td>15760 알비온</td>\n",
       "      <td>None</td>\n",
       "      <td>None</td>\n",
       "      <td>30420</td>\n",
       "      <td>최초의 큐비원족 천체가 뭐야?</td>\n",
       "    </tr>\n",
       "    <tr>\n",
       "      <th>21924</th>\n",
       "      <td>1577년 대혜성(공식 명칭: C/1577 V1)은 1577년 지구 근처를 지나간 혜성이다. 저명한 덴마크 천문학자 튀코 브라헤를 포함, 당시 유럽 대륙에 살던 사람들은 이 혜성을 목격했다. 튀코는 혜성 관측 자료로부터 혜성 및 그와 유사한 천체들은 지구 대기 현상이 아닌, 대기보다 높은 곳을 지나가는 물체임을 알아냈다.  튀코는 1577년 11월 13일부터 이듬해 1월 26일까지 74일동안 24회에 걸쳐 관측 기록을 남겼으며, 이를 토대로 혜성의 궤도를 계산한 것에 따르면 이 혜성은 현재 태양으로부터 약 300 천문단위 떨어진 곳에 위치한다.</td>\n",
       "      <td>위키피디아</td>\n",
       "      <td>None</td>\n",
       "      <td>None</td>\n",
       "      <td>1577년 대혜성</td>\n",
       "      <td>None</td>\n",
       "      <td>None</td>\n",
       "      <td>21924</td>\n",
       "      <td>튀코가 관찰한 혜성은?</td>\n",
       "    </tr>\n",
       "    <tr>\n",
       "      <th>60500</th>\n",
       "      <td>코로니스 (소행성체명 : 158 코로니스 )는 1876년 1월 4일 베를린 천문대에서 러시아 천문학자인 빅토르 크노레(Viktor Knorre)에 의하여 발견된 주 소행성대의 소행성으로 그가 발견한 네 개의 소행성 발견 중 첫 번째이다 소행성 이름의 의미는 확실하지 않지만 그리스 신화에서 아스클레피오스의 어머니인 코로니스(Coronis) 에서 유래했을 가능성이 있다. 또는 휘아데스(Hyades)의 자매 님프인 코로니스(Coronis)에서 왔을 수도 있다 코로니스 족은 이 소행성의 이름을 따서 명명되었다.\\n\\n스펙트럼 분석에 의하면 암석 성분을 나타내는 S형 소행성으로 분류된다 광도 관측에 의하면 보름달에서 초승달까지 자전주기로 14.206 ± 0.002 시간을 보여주고 이때 0.28-0.43 등급의 휘도 편차를 보여준다 2010 년, 알티미라(Altimira) 천문대에서 진행된 후속 연구에서는 이 추정치와 일치하는 14.208 ± 0.040 시간의 회전주기를 산출하였다 광도 곡선에 기초하여 생성된 모델에 의하면 코로니스의 모양은 같은 족의 소행성인 243 이다와 모양은 비슷하지만 크기는 약간 더 크다. \\n\\n1500 만년 전에 158 코로니스에 발생한 충돌에 의하여 246 개의 천체 클러스터가 생성되었다. 158 코로니스 자체는 전체 질량의 98.7 %를 유지했다. 충돌로 발생한 새로운 천체는 코로니스 (2) 족을 형성하였는데, 코로니스 (2) 족은 이보다 훨씬 더 큰 코로니스 족의 하위 족이다</td>\n",
       "      <td>위키피디아</td>\n",
       "      <td>None</td>\n",
       "      <td>None</td>\n",
       "      <td>158 코로니스</td>\n",
       "      <td>None</td>\n",
       "      <td>None</td>\n",
       "      <td>60500</td>\n",
       "      <td>코로니스의 소행성체명은?</td>\n",
       "    </tr>\n",
       "  </tbody>\n",
       "</table>\n",
       "</div>"
      ],
      "text/plain": [
       "                                                                                                                                                                                                                                                                                                                                                                                                                                                                                                                                                                                                                                                                                                                                                                                                                                                                                                                                                                                                                                                                                                                                                                                                                                                                                                                                                                                                                                                                                                                                                                                                                                                                                                                                                                                                                                                                                                                                                                                                                                                    text  \\\n",
       "27193                                                                                                                                                                                                                                                                      ; 나카지마 요코 (中嶋 陽子)\\n성우 : 히사카와 아야 / 이현선\\n: 현 경왕(景王). 연호는 적락(赤樂). 붉은색 머리카락과 녹색의 눈동자와 거무스름한 피부가 특징. 현대의 일본(봉래)에서 태어나서 자란 고등학생이지만, 실은 태과로, 왕기에 이끌려 봉래로 건너 온 케이키에 의해 십이국 세계에 돌아와, 라크슌과 연왕의 도움을 받아 위왕과 각왕의 계획을 부수고 경국의 왕이 된다. 관리에서는 세키시(赤子)라고 하는 호가 주어지며 츄우요우시(中陽子)의 이름으로 시정에 나오기도 한다. 경국에서는 최근의 몇년동안 무능한 여왕이 계속 되었기 때문에, 처음에는 관리에게도 백성에게도 신용이 전혀 없었지만, 화주의 난(수은)에 참여하여 개혁정치의 발판을 마련한다. 봉래에 있었을 때에는 사람들에게 미움받기 싫어 다른 사람의 안색이나 눈치를 살피며 행동하며 지내왔다. 십이국에 온 당초에도 매우 내성적이고 나약한 성격에 믿은 인간에게 배신당한 일로 모든 사람들을 불신하였지만 라크슌과 만나면서 사람을 믿는 마음을 되찾으며, 늠름하고 강인한 여성으로 성장한다. 따뜻한 마음씨의 소유자지만, 겉으로 크게 드러나지않는데다 다소 불만가득한 인상쓴 표정이라 라크슌에게는 무뚝뚝하다고 평 해진다. 봉래에서는 부모님께 여자아이다움을 강요당하고 있었지만, 십이국의 세계로 오면서 남장을 하고 있었던 때가 있어서인지 집무 중에는 수수한 복장을 좋아하며 시정에 나올 때는 남자같은 모습을 하고 있어 성격이나 말투도 그렇고 남자로 오해받는 일도 적지 않다. 관리에게는 '여자의 향기가 부족한 채 왕이 되었다'고 평 되지만 본인은 그다지 신경쓰지 않는 듯.  복장, 예의 등 고향과는 다른 십이국의 관습이나 신분이 여전히 적응이 잘 안되는 듯.\\n\\n; 케이키 (景麒)\\n성우 : 코야스 타케히토 / 김승준\\n: 경국의 기린. 경국의 재상을 맡으며 수도주, 영주의 주후도 겸한다. 엷은 금빛의 머리카락을 가졌으며 외관은 20대 후반의 남성. 기린의 본성인 자비로운 마음을 가지고 있지만, 무표정하고 과묵한 모습에 냉철한 성격으로 보이기도 한다. 요코가 왕이 되기 전에는 예왕(쇼가쿠)을 모셨기에 요코는 두 번째의 왕이다. 천성적으로 매우 고지식하고 성실한 성격이라 자주 연왕이나 엔키에 놀림당하기도 한다. 타이키와 교류를 통해서 사람에게 다정하게 대하는 법을 배우지만, 그것이 애석하게도 예왕의 실도의 원인이 된다.\\n\\n; 여사 쇼우케이(전 방국 예왕의 공주)\\n; 여어 오오키 스즈(해객, 전 재국 비선 취미군의 하인)\\n; 총재 코우칸(전 맥주후)\\n; 태사 송백(엔호)\\n; 사이보우(화주후)\\n; 금군 좌장군 세이신(칸타이)\\n; 라크슌 (楽俊)\\n성우 : 스즈무라 켄이치 / 변현우\\n: 성명은 장청. 반인반수로, 쥐 쪽이 옷을 안입어도 되는 등 간편하고 편안해서 쥐의 모습을 하고 있는 것이 대부분이다. 반수일 때 키는 요코의 명치 정도로 어린아이 같이 보이지만, 진짜 나이는 22세이다. 사람일 때 모습은 중간정도의 키에 조금 마른 편이다. 성격은 굉장히 선하고 싹싹하며 세상물정에도 밝다. 교국에서 반수는 호적도 주어지지않고 학교에도 들어갈 수 없어, 독학으로 면학에 힘쓴 노력가.교국에서 지쳐 쓰러진 요코를 구하고 친구가 되어, 요코와 함께 안국으로 향한다. 연왕의 추천으로 안국의 대학에 추천 되며, 입학하는 것도 상당히 어려운 대학에 수석으로 합격한다. 애니메이션에서는 마지막에 경국의 대학에 편입한다. 경국의 연호, 적락의 락은 라크슌의 이름에서 딴 것이다.   \n",
       "38423                                                                                                                                                                                                                                                                                                                                                                                                                                                                                                                                                                                                                                                                                                                                                                                                                                                                                                                                                                                                                                                                                                                                                                                                                                                                                                                                                                                                                                                                                    12대 닥터 (Twelfth Doctor, 열두 번째 닥터)는 장수 방영되고 있는 BBC의 텔레비전 공상과학 드라마 닥터 후의 주인공인 닥터의 모습 중 하나이다. 스코틀랜드 배우 피터 카팔디가 역을 맡았다.  작중에서 닥터는 시간 여행을 하는 타임 로드라고 알려진 인간형 외계인 종족이다. 닥터는 위독한 부상을 입었을 때 자신의 몸을 재생성시킬수 있으나, 그렇게 하면서 신체적으로 새로운 모습을 얻고 그 모습으로 특유의 새로운 성격이 생기게 된다. 이 줄거리 구조는 1963년 드라마 시작 이래로 시대를 넘어 배우들의 시리즈에 따라 닥터를 인정해오고 있다.\\n\\n카팔디는 드라마 50주년 기념 스페셜 에피소드 \"The Day of the Doctor\" (2013)에서 갈리프레이를 멸망에서 구해내기 위해 모여든 닥터 후의 13개 모습들 중 하나로 닥터 역으로써 처음이자 매우 짧은 출연을 했다. 카팔디의 완전한 첫 출연은 크리스마스 스페셜 에피소드 \"The Time of the Doctor\"에서였다.   시즌 8에서 동행자인 클라라 오즈월드 (제나 콜먼)과 동행하였다.   \n",
       "43948                                                                                                                                                                                                                                                                                                                                                                                                                                                                                                                                                                                                                                                                                                                                                                                                                                                                                                                                                                                                                                                                                                                                                                                                                                                                                                                                                                                                                                                                                                                                                                                                                                            RIM-116 램\\n2009년 10월 19일 LIG넥스원은 구미공장에서 RIM-116 램 양산 1호기를 출고했다. 레이시온의 기술이전으로 국산화를 완료했으며, 자체 수출도 가능하도록 라이센스를 받았다. 사거리 12 km이다. 2008년 5월에 계약이 체결되어 국산화가 시작되었다. 2011년까지 충무공이순신급 구축함, 세종대왕급 구축함, 독도함에 실전배치된다. 2015년까지 K-SAAM이 개발되어 인천함에 장착될 계획이다.\\n\\n레이시온 RIM-116 램은 직경 127mm인 레이시온 AIM-9 사이드와인더 공대공 미사일을 함대공 미사일로 개조한 것이다. 130mm 유도로켓은 직경 130mm 함대함 미사일이다. 외양은 직경 127mm인 AIM-9 사이드와인더, RIM-116 램과 거의 비슷하다.   \n",
       "41283                                                                                                                                                                                                                                                                                                                                                                                                                                                                                                                                                                                                                                                                                                                                                                                                                                                                                                                                                                                                                                                                                                                                                                                                                                                                                                                                                                                                                                                                                                         1321년 나환자 공포(1321 leper scare) 또는 나환자음모사건(lepers' plot)은 서기 1321년 프랑스에서 나병 환자들이 우물을 오염시켜 자신들의 병을 퍼뜨리려 한다는 소문이 돌았던 사건이다.  그러나 이는 나병환자를 고문하여 강제로 자백을 받아낸 것이었다. 미국의 역사학자인  솔로몬 그레이젤(Solomon Grayzel)에 따르면, 나환자들은 중세에 가장 박해받던 사람들 중 하나로서, 나병이 전염성이 낮다는 것을 모르던 시대의 나환자들은 인간 거주지에서 내쫓겨 광야에서 들짐승과 같은 생활을 해야 했으며 환자의 재산은 몰수되었다.  또한 이 나환자들의 배후 조종을 한 것이 유대인과 무슬림들이라는 소문도 퍼져서 사람들은 유대인들과 나환자촌을 공격(포그롬)했다. 이 집단 히스테리는 가라앉지 않고 주변 지역으로 빠르게 퍼져나갔고, 특히 아라곤 왕국에서 심각했다. 그러나 이러한 주장은 과장된 것이며 나병 환자가 지역사회 내에서 생활했으며, 자선 기부금 등의 지원을 받으며 생활했다는 반대 입장 또한 존재한다.   \n",
       "44029  이 곡은 1882년(일설에는 1881년)에 뮌헨에서 작곡되었다. 이것은 슈트라우스의 아주 초기의 작품이다. 초연은 1882년 11월 27일에 프란츠 뷜너의 지휘로 드레스덴 국립관현악단의 단원들에 의해 연주되었다. 제1호른을 연주한 것은 오스칼 프란츠로, 그는 왕립 작센 실내음악가라는 칭호를 가지고 있었는데, 이 세레나데를 통하여 슈트라우스와 친교를 맺게 되어, 후에 호른 협주곡 1번을 헌정받는다. 세레나데 초연의 평판은 아주 좋았고, 다음해 1월 5일에 같은 멤버의 의해서 재연되었다. 그리고 1883년 12월 26일에는 마이닝겐에서 뷜로의 지휘에 의해 마이닝겐 궁정악단이 연주하였다. 거기에는 브람스가 높게 평가하여, 그를 위해서 만년에 클라리넷을 사용한 4곡의 실내악곡을 작곡하게 된 클라리넷의 명연주자인 리하르트 뮐펠트(Richard Mühlfeld, 1856~1907)도 참여했다. \\n\\n세레나데의 총보와 파트악보는 1882년 11월에 뮌헨의 요제프 아이플 출판사에서 출판되었다. 슈트라우스는 이 곡을 연탄 피아노로 편곡하여 요제프 아이플사에서 출판한 이외에 피아노 독주용으로 편곡하여 브라이트코프 & 헤르텔에서도 출판했다. 요제프 아이플사에서 출판된 것은 20세기에 들어와서는 빈의 우니베르잘 출판사에서 출판되었다. 곡은 ‘왕립 바이에른 궁정악단 악장으로 (슈트라우스가) 커다란 경의를 보내고 있었던 F.W 마이어씨에게’ 현정되었다. 마이어(Friedrich Wilhelm Meyer)는 1875년부터 1880년에 걸쳐서 슈트라우스에게 초보부터 상급 정도의 음악이론을 가르쳤다. 마이어가 1893년에 서거했을 때에 슈트라우스는 양친에게(6월 10일 날짜로) 다음과 같이 쓰고 있다. ‘궁정 악장 마이어의 죽음을 매우 슬퍼하고 있습니다. 그는 솔직한 사람으로 고상한 마음의 소유자였습니다. 나는 영원히 그의 애정과 즐거운 추억을 소중히 하겠습니다. 투이레도 전에 아주 요령 있게 말한 적이 있습니다만, 마이어는 자신이 애정했던 것 이상으로 내 향상을 위하여 많은 것을 해 주었습니다’\\n\\n그런데 슈트라우스는 독립된 기악용의 세레나데를 이 1곡만 남기고 있다. 이것은 관악기용 작품으로, 모차르트, 베토벤, 멘델스존, 브람스로부터의 영향을 나타내고 있다. 또한 슈트라우는 초기부터 만년까지 관악기의 앙상블 음악에 결코 무관심하지 않았다. 이 곡은 초연에서도 평판이 좋았지만, 그 후 슈트라우스를 전부터 초애했던 한스 폰 뷜로의 지휘로 독일 각지에서 소개되어, 슈트라우스의 작곡가로서의 명성을 급속하게 알리게 되었다. 세레나데는 작곡가 슈트라우스의 출세작의 하나가 되었다. 그리고 뷜로에게 권유받아 마침내 13개의 관악기를 위한 모음곡(Op.4, 슈트라우스의 작품번호는 작곡연대순 또는 출판순서에 따르지 않는 경우가 많다.)의 작곡을 시작한다.\\n\\n그런데 세레나데는 오리지넬에서는 13명의 관악기 연주자로 연주된다. 다만 그 중의 콘트라바순은 당시 독일의 로컬 오케스트라로서는 구하기 어려운 악기였으므로 튜바로 대용해도 좋다고 지정되어 있다. 또한저음에는 더블베이스를 더해도 좋다고 되어 있다. 이 곡을 연주하는 경우에 지휘자를 두어야할지 어떨지도 문제가 되었지만, 슈트라우는 특별히 이것에 대하여 지정하고 있지 않다. 그러나 곡 도중에 템포가 움직이거나, 각각의 악기에 상당히 고도의 기교를 요구하고 있다. 13명이라는 사람 수로 볼 때 지휘자를 두는 편이 결과적으로 좋은 것은 사실이다. 실제로 19세기에 걸쳐 이 곡의 연주기록을 보면, 거의 모두  지휘자를 두고 있다. 곡은 기악용의 세레나데라고 하면서 고전파 시대에 유행한 다악장 형식이 아닌 안단테의 단일악장이다. 그것은 다악장 세레나데의 중간의 하나의 악장을 골라내어 독립시킨 것과 비슷하다. 그 울림은 세레나데에 어울리며, 과연 슈트라우스답게 밝고 투명하다. 그러나 선율적 발상에서는 멘델스존 또는 브람스적인 면이 많다. 관악기 13개라는 것은 모차르트의 세레나데, 특히 13개의 관악기의 그랑 파르티타(K.361)에서 착안하였는지도 모른다.   \n",
       "51866                                                                                                                                                                                                                                                                                                                                                                                                                                                                                                                                                                                                                                                                                                                                                                                                                                                                                                                                                                                                                                                                                                                                                                                                                                                                                                                                                                                                     1498년 휴가나다 지진(せんよんひゃくきゅうじゅうはちねん ひゅうがなだじしん)은 양력 1498년 7월 9일(메이오 7년 음력 6월 11일, 율리우스력 1498년 6월 30일) 일본 규슈 동부에 있는 휴가나다 해역에서 일어난 지진이다. 1498년 휴가 지진(1498年日向地震)라고도 부른다. 또한 1498년 일어난 휴가나다 지진을 단순하게 '휴가나다 지진'이나 '휴가지진'이라고 부르기도 한다. 지진 규모는 M7.0-7.5로 추정된다.\\n\\n규슈군기(九州軍記)에 따르면 묘각(6시경)에 지진이 일어났으며 사각(10시경)엔 대지진이 일어나 규슈 전역에 피해를 입었다고 기록되어 있다. 규슈에선 곳곳에서 산사태가 일어나고 벳푸시에선 사찰에서 폭발이 일어나 사원과 주지가 폭발력으로 날아가고 뜨거운 진흙더미가 분출하여 스님 수십명이 사망했다는 기록도 있다. 그 외에도 각지의 산사태로 도리이와 비석 대다수가 쓰러지거나 무너지고, 사망자가 많이 나왔다. 시코쿠의 이요국에서도 땅이 꺼지는 등의 지각변동이 있었다고 한다. \\n\\n같은 날 미각-신각(15시경)에도 교토, 나라, 구마노, 미카와국, 가이국에 강진을 느꼈다는 기록이 있다. 도토미국에선 산사태가 일어나고 기이국과 미카와국에선 쓰나미 피해를 입었다는 기록이 있다.   \n",
       "58000                                                                                                                                                                                                                                                                                                                                                                                                                                                                                                                                                                                                                                                                                                                                                                                                                                                                                                                                                                                                                                                              최초의 감염사례는 6월에 나타나기 시작했다. 램베스(Lambeth) 도서관에 보관된 존 스토우(John Stow)의 원고에 따르면, 1563년 6월 5일부터 12일까지 17명이 페스트로 인해 처음으로 사망했다. 엘리자베스는 교회를 통해 국민들에게 명령을 전달함으로써 전염병에 대한 정부의 대응을 조율하기 시작했다. 교회의 신도들과 성직자들은 페스트에 걸린 사람들과 함께 머무르는 교구민들에게 회복한 후 몇 주가 지나거나, 죽지 않는 이상 교회에 나오지 말라고 지시하였다. 감염자의 집에 푸른 십자가를 칠하거나, 길 잃은 고양이와 개를 모두 죽이고 묻으라는 등 페스트를 퇴치하기 위한 정부의 명령이 내려졌으며, 이를 수행하기 위한 특별 장교들이 임명되었다. \\n\\n많은 사람들은 여전히 페스트가 \"독기(miasmas)\"를 들이마셔서 생긴다고 믿었다. 따라서 7월 9일 엘리자베스 여왕 평의회는 저녁 7시에 모든 가정주부들이 부패한 공기를 없애기 위해 거리에서 모닥불을 피워야 한다는 명령을 내렸는데, 당연히 별 효과를 보지 못했다 그 후 6월 26일에서 7월 3일 사이에는 131명이 사망했으며, 7월 30일까지는 매주 수백 명의 사망하는 전염병은 계속 심각해져만 갔다.  튜더의 내과의사인 윌리엄 벌린(William Bullein)은 전염병을 피해 도망가는 사람들을 목격한 한 거지의 증언을 기록한다 런던 성벽 내에서 거주하는 사람들은 1563년의 전염병으로 큰 타격을 입었는데,  성 폴카르(Saint Poulkar) 교구, 플리트 디치의 턴어게인가(Fleet Ditch's Turnagain lane), 그리고 시코알가(Seacoal lane)가 가장 심한 타격을 입었다 폴카르 교구는 과일 시장이 있었으며, 길가에는 오물이 있어서 쥐가 많이 번식함에 따라 가장 심각한 영향을 받았다 플리트 강 주변 지역은 과밀하고 비위생적인 것으로 악명이 높았는데, 결국 이 지역들에 페스트가 마구 퍼졌다.   \n",
       "30420                                                                                                                                                                                                                                                                                                                                                                                                                                                                                                                                                                                                                                                                                                                                                                                                                                                                                                                                                                                                                                                                                                                                                                                                                                                                                                                                                                                                                                       (15760) 1992 QB|1, 또는 (15760) 1992 QB1은 명왕성과 그 위성인 카론 이후 발견된 최초의 큐비원족 천체이다. 1992년 하와이의 마우나케아 천문대의 David C. Jewitt와 Jane X. Luu에 의해 발견되었다. 현재는 고전적 카이퍼 대 천체로 분류되며 임시 명칭이었던 QB1은 이러한 종류의 천체를 가리키는 큐비원족(QB1族, cubewano)이라는 말이 생겨나게 된 원인이 되었다.\\n임시 명명법에 따르면 \"QB\"은 그 해의 8월 말에 발견된 27번째 천체라는 의미이다.\\n\\n발견자는 이 천체에 \"Smiley\"라는 이름을 붙일 것을 제안했으나 그 이름은 이미 미국 천문학자의 이름을 딴 혜성인 1613 Smiley에 붙여져 있었다. 그 이후 15760이라는 번호를 부여받았지만 정식 이름은 부여받지 못하고 남아있고 그냥 간단하게 \"QB1\"이라고 불리고 있다. 그러나 발견연도가 같이 붙지 않으면 중복될 수가 있다. 2018년 1월 31일 소행성체 센터에서는 \"알비온(Albion)\"이라는 이름을 공식적으로 사용했으며  그 이름은 영국의 시인 윌리엄 블레이크의 작품 \"신화(mythology)\"에서 이름을 따왔다.   \n",
       "21924                                                                                                                                                                                                                                                                                                                                                                                                                                                                                                                                                                                                                                                                                                                                                                                                                                                                                                                                                                                                                                                                                                                                                                                                                                                                                                                                                                                                                                                                                                                                                                                                                                                                                                                                1577년 대혜성(공식 명칭: C/1577 V1)은 1577년 지구 근처를 지나간 혜성이다. 저명한 덴마크 천문학자 튀코 브라헤를 포함, 당시 유럽 대륙에 살던 사람들은 이 혜성을 목격했다. 튀코는 혜성 관측 자료로부터 혜성 및 그와 유사한 천체들은 지구 대기 현상이 아닌, 대기보다 높은 곳을 지나가는 물체임을 알아냈다.  튀코는 1577년 11월 13일부터 이듬해 1월 26일까지 74일동안 24회에 걸쳐 관측 기록을 남겼으며, 이를 토대로 혜성의 궤도를 계산한 것에 따르면 이 혜성은 현재 태양으로부터 약 300 천문단위 떨어진 곳에 위치한다.   \n",
       "60500                                                                                                                                                                                                                                                                                                                                                                                                                                                                                                                                                                                                                                                                                                                                                                                                                                                                                                                                                                                                                                                                                                                                                                                                                                                                                  코로니스 (소행성체명 : 158 코로니스 )는 1876년 1월 4일 베를린 천문대에서 러시아 천문학자인 빅토르 크노레(Viktor Knorre)에 의하여 발견된 주 소행성대의 소행성으로 그가 발견한 네 개의 소행성 발견 중 첫 번째이다 소행성 이름의 의미는 확실하지 않지만 그리스 신화에서 아스클레피오스의 어머니인 코로니스(Coronis) 에서 유래했을 가능성이 있다. 또는 휘아데스(Hyades)의 자매 님프인 코로니스(Coronis)에서 왔을 수도 있다 코로니스 족은 이 소행성의 이름을 따서 명명되었다.\\n\\n스펙트럼 분석에 의하면 암석 성분을 나타내는 S형 소행성으로 분류된다 광도 관측에 의하면 보름달에서 초승달까지 자전주기로 14.206 ± 0.002 시간을 보여주고 이때 0.28-0.43 등급의 휘도 편차를 보여준다 2010 년, 알티미라(Altimira) 천문대에서 진행된 후속 연구에서는 이 추정치와 일치하는 14.208 ± 0.040 시간의 회전주기를 산출하였다 광도 곡선에 기초하여 생성된 모델에 의하면 코로니스의 모양은 같은 족의 소행성인 243 이다와 모양은 비슷하지만 크기는 약간 더 크다. \\n\\n1500 만년 전에 158 코로니스에 발생한 충돌에 의하여 246 개의 천체 클러스터가 생성되었다. 158 코로니스 자체는 전체 질량의 98.7 %를 유지했다. 충돌로 발생한 새로운 천체는 코로니스 (2) 족을 형성하였는데, 코로니스 (2) 족은 이보다 훨씬 더 큰 코로니스 족의 하위 족이다   \n",
       "\n",
       "      corpus_source   url domain              title author  html document_id  \\\n",
       "27193         위키피디아  None   None         12국기의 등장인물   None  None       27193   \n",
       "38423         위키피디아  None   None             12대 닥터   None  None       38423   \n",
       "43948         위키피디아  None   None        130 mm 유도로켓   None  None       43948   \n",
       "41283         위키피디아  None   None       1321년 나환자 공포   None  None       41283   \n",
       "44029         위키피디아  None   None  13개의 관악기를 위한 세레나데   None  None       44029   \n",
       "51866         위키피디아  None   None      1498년 휴가나다 지진   None  None       51866   \n",
       "58000         위키피디아  None   None       1563년 런던 페스트   None  None       58000   \n",
       "30420         위키피디아  None   None          15760 알비온   None  None       30420   \n",
       "21924         위키피디아  None   None          1577년 대혜성   None  None       21924   \n",
       "60500         위키피디아  None   None           158 코로니스   None  None       60500   \n",
       "\n",
       "                                                        Q  \n",
       "27193                               타이키 코우리는 어느 나라의 왕이었어?  \n",
       "38423                           드라마 닥터 후의 남자주인공이 몇 대 닥터야?  \n",
       "43948                 LIG넥스원에서 언제 RIM-116 램 양산 1호기를 출고했어?  \n",
       "41283  프랑스에서 나병 환자들이 우물을 오염시켜 자신들의 병을 퍼뜨리려 한다는 소문을 뭐라고 해?  \n",
       "44029                                   재현부는 어떻게 곡을 맺는거야?  \n",
       "51866              일본 규슈 동부에 있는 휴가나다 해역에서 1498년에 일어난 지진은?  \n",
       "58000                             1563년 페스트의 유행이 종식된 방법은?  \n",
       "30420                                    최초의 큐비원족 천체가 뭐야?  \n",
       "21924                                        튀코가 관찰한 혜성은?  \n",
       "60500                                       코로니스의 소행성체명은?  "
      ]
     },
     "execution_count": 58,
     "metadata": {},
     "output_type": "execute_result"
    }
   ],
   "source": [
    "df.iloc[40:50]"
   ]
  },
  {
   "cell_type": "code",
   "execution_count": 59,
   "metadata": {},
   "outputs": [
    {
     "name": "stdout",
     "output_type": "stream",
     "text": [
      "<class 'str'>\n",
      "<class 'str'>\n",
      "ǃ쿵어가 포함된 카어족, 코이산 제어를 연구하는 학자들이 언어를 분류한 방식이 서로 다르고, 시간이 지나면서 새로운 분류체계가 등장하고 있어 같은 용어라도 다른 의미로 쓰이는 경우가 있다. \n",
      "ǃ쿵어(ǃKung)라는 이름은 서로 연관되어있는 방언 각각 이름에 주로 사용하며(예:북부 ǃ쿵어, 중부 ǃ쿵어), 때로는 더 넓은 의미로 방언연속체를 구성하는 언어들 중 북부/북서부 지역의 방언들을 일컫는 말이다. 이때 대응되는 개념은 주호안어(Ju|ʼhoan)이며, 전체 중 남부/남동부의 방언을 지칭한다.\n",
      "주어(Ju)라는 이름은 다양한 ǃ쿵어의 방언들을 하나의 “작은 어족”(language complex)으로 묶어서 부를 경우 주로 사용된다(예: 카어족은 주어(Ju)와 ǂʼ암코이어(ǂʼAmkoe)로 구성된다). \n",
      "유전자 기반의 분석을 진행하는 분자인류학자들은 북부 ǃ쿵어를 사용하는 사람들을 세켈레(Sekele) 또는 바시켈라 ǃ쿵(Vasikela ǃKung)으로 표기하였고, 남부 ǃ쿵어, 즉 주호안어(Ju|ʼhoan)을 사용하는 사람들을 춤쿠에 산(Tsumkwe San) 혹은 ǃ쿵(ǃKung)으로 분류하였다. \n",
      "\n",
      "ǃ쿵(ǃKung)이라는 단어 역시 다양한 형태로 표현된다. ǃ쿵(ǃKung)이 처음으로 사용된 것은 1937년이었다. \n",
      "ǃ쿵(ǃKung)을 나타내기 위하여 ǃXun ,\n",
      "ǃXuun , ǃXʼu(u)n, ǃKu(u)n, ǃHu, ǃKhung, ǃKu, Kung, Qxü, ǃung, ǃXo, ǃXu ,\n",
      "Xû, ǃXû, Xun, ǃXung ,\n",
      "ǃXũ ,\n",
      "ǃXũũ, ʗhũ: \n",
      "등 다양한 표기가 사용되었다. 주(Ju) 역시 Dzu , Juu , Zhu 등 다양한 형태로 표기되었다.\n",
      "\n",
      "최근 문헌의 경우 ǃ쿵어를 표기하기 위해 ǃXun 또는 ǃXuun을 사용하는 경우가 많다.'#'; 나카지마 요코 (中嶋 陽子)\n",
      "성우 : 히사카와 아야 / 이현선\n",
      ": 현 경왕(景王). 연호는 적락(赤樂). 붉은색 머리카락과 녹색의 눈동자와 거무스름한 피부가 특징. 현대의 일본(봉래)에서 태어나서 자란 고등학생이지만, 실은 태과로, 왕기에 이끌려 봉래로 건너 온 케이키에 의해 십이국 세계에 돌아와, 라크슌과 연왕의 도움을 받아 위왕과 각왕의 계획을 부수고 경국의 왕이 된다. 관리에서는 세키시(赤子)라고 하는 호가 주어지며 츄우요우시(中陽子)의 이름으로 시정에 나오기도 한다. 경국에서는 최근의 몇년동안 무능한 여왕이 계속 되었기 때문에, 처음에는 관리에게도 백성에게도 신용이 전혀 없었지만, 화주의 난(수은)에 참여하여 개혁정치의 발판을 마련한다. 봉래에 있었을 때에는 사람들에게 미움받기 싫어 다른 사람의 안색이나 눈치를 살피며 행동하며 지내왔다. 십이국에 온 당초에도 매우 내성적이고 나약한 성격에 믿은 인간에게 배신당한 일로 모든 사람들을 불신하였지만 라크슌과 만나면서 사람을 믿는 마음을 되찾으며, 늠름하고 강인한 여성으로 성장한다. 따뜻한 마음씨의 소유자지만, 겉으로 크게 드러나지않는데다 다소 불만가득한 인상쓴 표정이라 라크슌에게는 무뚝뚝하다고 평 해진다. 봉래에서는 부모님께 여자아이다움을 강요당하고 있었지만, 십이국의 세계로 오면서 남장을 하고 있었던 때가 있어서인지 집무 중에는 수수한 복장을 좋아하며 시정에 나올 때는 남자같은 모습을 하고 있어 성격이나 말투도 그렇고 남자로 오해받는 일도 적지 않다. 관리에게는 '여자의 향기가 부족한 채 왕이 되었다'고 평 되지만 본인은 그다지 신경쓰지 않는 듯. 복장, 예의 등 고향과는 다른 십이국의 관습이나 신분이 여전히 적응이 잘 안되는 듯.\n",
      "\n",
      "\n",
      "ǃ쿵어\n"
     ]
    },
    {
     "data": {
      "text/plain": [
       "True"
      ]
     },
     "execution_count": 59,
     "metadata": {},
     "output_type": "execute_result"
    }
   ],
   "source": [
    "title = 'ǃ쿵어'\n",
    "text = \"ǃ쿵어가 포함된 카어족, 코이산 제어를 연구하는 학자들이 언어를 분류한 방식이 서로 다르고, 시간이 지나면서 새로운 분류체계가 등장하고 있어 같은 용어라도 다른 의미로 쓰이는 경우가 있다. \\nǃ쿵어(ǃKung)라는 이름은 서로 연관되어있는 방언 각각 이름에 주로 사용하며(예:북부 ǃ쿵어, 중부 ǃ쿵어), 때로는 더 넓은 의미로 방언연속체를 구성하는 언어들 중 북부/북서부 지역의 방언들을 일컫는 말이다. 이때 대응되는 개념은 주호안어(Ju|ʼhoan)이며, 전체 중 남부/남동부의 방언을 지칭한다.\\n주어(Ju)라는 이름은 다양한 ǃ쿵어의 방언들을 하나의 “작은 어족”(language complex)으로 묶어서 부를 경우 주로 사용된다(예: 카어족은 주어(Ju)와 ǂʼ암코이어(ǂʼAmkoe)로 구성된다). \\n유전자 기반의 분석을 진행하는 분자인류학자들은 북부 ǃ쿵어를 사용하는 사람들을 세켈레(Sekele) 또는 바시켈라 ǃ쿵(Vasikela ǃKung)으로 표기하였고, 남부 ǃ쿵어, 즉 주호안어(Ju|ʼhoan)을 사용하는 사람들을 춤쿠에 산(Tsumkwe San) 혹은 ǃ쿵(ǃKung)으로 분류하였다. \\n\\nǃ쿵(ǃKung)이라는 단어 역시 다양한 형태로 표현된다. ǃ쿵(ǃKung)이 처음으로 사용된 것은 1937년이었다. \\nǃ쿵(ǃKung)을 나타내기 위하여 ǃXun ,\\nǃXuun , ǃXʼu(u)n, ǃKu(u)n, ǃHu, ǃKhung, ǃKu, Kung, Qxü, ǃung, ǃXo, ǃXu ,\\nXû, ǃXû, Xun, ǃXung ,\\nǃXũ ,\\nǃXũũ, ʗhũ: \\n등 다양한 표기가 사용되었다. 주(Ju) 역시 Dzu , Juu , Zhu 등 다양한 형태로 표기되었다.\\n\\n최근 문헌의 경우 ǃ쿵어를 표기하기 위해 ǃXun 또는 ǃXuun을 사용하는 경우가 많다.'#'; 나카지마 요코 (中嶋 陽子)\\n성우 : 히사카와 아야 / 이현선\\n: 현 경왕(景王). 연호는 적락(赤樂). 붉은색 머리카락과 녹색의 눈동자와 거무스름한 피부가 특징. 현대의 일본(봉래)에서 태어나서 자란 고등학생이지만, 실은 태과로, 왕기에 이끌려 봉래로 건너 온 케이키에 의해 십이국 세계에 돌아와, 라크슌과 연왕의 도움을 받아 위왕과 각왕의 계획을 부수고 경국의 왕이 된다. 관리에서는 세키시(赤子)라고 하는 호가 주어지며 츄우요우시(中陽子)의 이름으로 시정에 나오기도 한다. 경국에서는 최근의 몇년동안 무능한 여왕이 계속 되었기 때문에, 처음에는 관리에게도 백성에게도 신용이 전혀 없었지만, 화주의 난(수은)에 참여하여 개혁정치의 발판을 마련한다. 봉래에 있었을 때에는 사람들에게 미움받기 싫어 다른 사람의 안색이나 눈치를 살피며 행동하며 지내왔다. 십이국에 온 당초에도 매우 내성적이고 나약한 성격에 믿은 인간에게 배신당한 일로 모든 사람들을 불신하였지만 라크슌과 만나면서 사람을 믿는 마음을 되찾으며, 늠름하고 강인한 여성으로 성장한다. 따뜻한 마음씨의 소유자지만, 겉으로 크게 드러나지않는데다 다소 불만가득한 인상쓴 표정이라 라크슌에게는 무뚝뚝하다고 평 해진다. 봉래에서는 부모님께 여자아이다움을 강요당하고 있었지만, 십이국의 세계로 오면서 남장을 하고 있었던 때가 있어서인지 집무 중에는 수수한 복장을 좋아하며 시정에 나올 때는 남자같은 모습을 하고 있어 성격이나 말투도 그렇고 남자로 오해받는 일도 적지 않다. 관리에게는 \\'여자의 향기가 부족한 채 왕이 되었다\\'고 평 되지만 본인은 그다지 신경쓰지 않는 듯. 복장, 예의 등 고향과는 다른 십이국의 관습이나 신분이 여전히 적응이 잘 안되는 듯.\\n\\n\" #; 케이키 (景麒)\\n성우 : 코야스 타케히토 / 김승준\\n: 경국의 기린. 경국의 재상을 맡으며 수도주, 영주의 주후도 겸한다. 엷은 금빛의 머리카락을 가졌으며 외관은 20대 후반의 남성. 기린의 본성인 자비로운 마음을 가지고 있지만, 무표정하고 과묵한 모습에 냉철한 성격으로 보이기도 한다. 요코가 왕이 되기 전에는 예왕(쇼가쿠)을 모셨기에 요코는 두 번째의 왕이다. 천성적으로 매우 고지식하고 성실한 성격이라 자주 연왕이나 엔키에 놀림당하기도 한다. 타이키와 교류를 통해서 사람에게 다정하게 대하는 법을 배우지만, 그것이 애석하게도 예왕의 실도의 원인이 된다.\\n\\n; 여사 쇼우케이(전 방국 예왕의 공주)\\n; 여어 오오키 스즈(해객, 전 재국 비선 취미군의 하인)\\n; 총재 코우칸(전 맥주후)\\n; 태사 송백(엔호)\\n; 사이보우(화주후)\\n; 금군 좌장군 세이신(칸타이)\\n; 라크슌 (楽俊)\\n성우 : 스즈무라 켄이치 / 변현우\\n: 성명은 장청. 반인반수로, 쥐 쪽이 옷을 안입어도 되는 등 간편하고 편안해서 쥐의 모습을 하고 있는 것이 대부분이다. 반수일 때 키는 요코의 명치 정도로 어린아이 같이 보이지만, 진짜 나이는 22세이다. 사람일 때 모습은 중간정도의 키에 조금 마른 편이다. 성격은 굉장히 선하고 싹싹하며 세상물정에도 밝다. 교국에서 반수는 호적도 주어지지않고 학교에도 들어갈 수 없어, 독학으로 면학에 힘쓴 노력가.교국에서 지쳐 쓰러진 요코를 구하고 친구가 되어, 요코와 함께 안국으로 향한다. 연왕의 추천으로 안국의 대학에 추천 되며, 입학하는 것도 상당히 어려운 대학에 수석으로 합격한다. 애니메이션에서는 마지막에 경국의 대학에 편입한다. 경국의 연호, 적락의 락은 라크슌의 이름에서 딴 것이다.'\n",
    "print(type(text))\n",
    "print(type(title))\n",
    "print(text)\n",
    "print(title)\n",
    "title in text"
   ]
  },
  {
   "cell_type": "code",
   "execution_count": 60,
   "metadata": {},
   "outputs": [
    {
     "name": "stdout",
     "output_type": "stream",
     "text": [
      "31755\n"
     ]
    },
    {
     "data": {
      "text/html": [
       "<div>\n",
       "<style scoped>\n",
       "    .dataframe tbody tr th:only-of-type {\n",
       "        vertical-align: middle;\n",
       "    }\n",
       "\n",
       "    .dataframe tbody tr th {\n",
       "        vertical-align: top;\n",
       "    }\n",
       "\n",
       "    .dataframe thead th {\n",
       "        text-align: right;\n",
       "    }\n",
       "</style>\n",
       "<table border=\"1\" class=\"dataframe\">\n",
       "  <thead>\n",
       "    <tr style=\"text-align: right;\">\n",
       "      <th></th>\n",
       "      <th>text</th>\n",
       "      <th>corpus_source</th>\n",
       "      <th>url</th>\n",
       "      <th>domain</th>\n",
       "      <th>title</th>\n",
       "      <th>author</th>\n",
       "      <th>html</th>\n",
       "      <th>document_id</th>\n",
       "      <th>Q</th>\n",
       "      <th>drop</th>\n",
       "    </tr>\n",
       "  </thead>\n",
       "  <tbody>\n",
       "    <tr>\n",
       "      <th>39917</th>\n",
       "      <td>ǃ쿵어가 포함된 카어족, 코이산 제어를 연구하는 학자들이 언어를 분류한 방식이 서로 다르고, 시간이 지나면서 새로운 분류체계가 등장하고 있어 같은 용어라도 다른 의미로 쓰이는 경우가 있다. \\nǃ쿵어(ǃKung)라는 이름은 서로 연관되어있는 방언 각각 이름에 주로 사용하며(예:북부 ǃ쿵어, 중부 ǃ쿵어), 때로는 더 넓은 의미로 방언연속체를 구성하는 언어들 중 북부/북서부 지역의 방언들을 일컫는 말이다. 이때 대응되는 개념은 주호안어(Ju|ʼhoan)이며, 전체 중 남부/남동부의 방언을 지칭한다.\\n주어(Ju)라는 이름은 다양한 ǃ쿵어의 방언들을 하나의 “작은 어족”(language complex)으로 묶어서 부를 경우 주로 사용된다(예: 카어족은 주어(Ju)와 ǂʼ암코이어(ǂʼAmkoe)로 구성된다). \\n유전자 기반의 분석을 진행하는 분자인류학자들은 북부 ǃ쿵어를 사용하는 사람들을 세켈레(Sekele) 또는 바시켈라 ǃ쿵(Vasikela ǃKung)으로 표기하였고, 남부 ǃ쿵어, 즉 주호안어(Ju|ʼhoan)을 사용하는 사람들을 춤쿠에 산(Tsumkwe San) 혹은 ǃ쿵(ǃKung)으로 분류하였다. \\n\\nǃ쿵(ǃKung)이라는 단어 역시 다양한 형태로 표현된다. ǃ쿵(ǃKung)이 처음으로 사용된 것은 1937년이었다. \\nǃ쿵(ǃKung)을 나타내기 위하여 ǃXun ,\\nǃXuun , ǃXʼu(u)n, ǃKu(u)n, ǃHu, ǃKhung, ǃKu, Kung, Qxü, ǃung, ǃXo, ǃXu ,\\nXû, ǃXû, Xun, ǃXung ,\\nǃXũ ,\\nǃXũũ, ʗhũ: \\n등 다양한 표기가 사용되었다. 주(Ju) 역시 Dzu , Juu , Zhu 등 다양한 형태로 표기되었다.\\n\\n최근 문헌의 경우 ǃ쿵어를 표기하기 위해 ǃXun 또는 ǃXuun을 사용하는 경우가 많다.</td>\n",
       "      <td>위키피디아</td>\n",
       "      <td>None</td>\n",
       "      <td>None</td>\n",
       "      <td>!쿵어</td>\n",
       "      <td>None</td>\n",
       "      <td>None</td>\n",
       "      <td>39917</td>\n",
       "      <td>특이한 언어를 알려줘?</td>\n",
       "      <td>False</td>\n",
       "    </tr>\n",
       "    <tr>\n",
       "      <th>49858</th>\n",
       "      <td>마이클 E. 브라운의 웹사이트에서는 이 천체의 반사율을 0.04로 추정하여 지름을 328 km로 추산하였고, 왜행성이 될 가능성이 있다고 보았다  이 천체의 색이 해왕성 바깥 천체의 일반적인 색인 파랑색을 띄기 때문에, 반사율이 추정치보다 더 낮을 가능성이 높다 하지만 만약 반사율이 추정치보다 높다면, 지름이 추정치보다 반 이상 작을 가능성이 매우 높다.\\n\\n(148209) 2000 CR|105와 90377 세드나는 산란원반 천체로, 태양에 가장 가까이 가도 해왕성의 영향을 받지 않는다. 이 천체들이 어떻게 지금과 같은 궤도에 들어갔는지는 수수께끼이며, 추측만 무성하다. 궤도의 형성에 대한 이론들의 주장은 다음과 같다.\\n* 태양계 근처를 지나가던 항성에 의해 기존 궤도를 이탈하였을 것이다.  \\n* 현재 발견되지 않은 가상의 행성에 의해 기존 궤도를 이탈하였을 것이다. \\n* 현재 발견되지 않은 태양의 쌍성에 의해 기존 궤도를 이탈하였을 것이다\\n* 태양계 형성 초기에 다른 행성계에서 포획되었을 것이다 케년과 브롬리에 따르면, 태양이 자신과 비슷한 별과 형성 초기에 만났을 가능성은 15%이고, 행성 교환이 일어났을 가능성은 1%이다. (148209) 2000 CR|105은 포획된 천체일 가능성이 세드나보다 2~3배 높다\\n\\n(148209) 2000 CR|105는 궤도 긴반지름이 150 AU가 넘는 천체 중 최초로 발견된 천체로, 근일점 편각이 340 ± 55°에 달한다.  현재까지 긴반지름이 100 AU가 넘고 근일점이 42 AU를 넘는 천체는 11개밖에 발견되지 않았다.  (148209) 2000 CR|105는 제9행성의 영향을 받으리라고 예상된다.</td>\n",
       "      <td>위키피디아</td>\n",
       "      <td>None</td>\n",
       "      <td>None</td>\n",
       "      <td>(148209) 2000 CR105</td>\n",
       "      <td>None</td>\n",
       "      <td>None</td>\n",
       "      <td>49858</td>\n",
       "      <td>마이클 E. 브라운은 2000 CR 105가 왜행성이 될 수 있다고 봤어?</td>\n",
       "      <td>False</td>\n",
       "    </tr>\n",
       "  </tbody>\n",
       "</table>\n",
       "</div>"
      ],
      "text/plain": [
       "                                                                                                                                                                                                                                                                                                                                                                                                                                                                                                                                                                                                                                                                                                                                                                                                                                                                                                                                      text  \\\n",
       "39917  ǃ쿵어가 포함된 카어족, 코이산 제어를 연구하는 학자들이 언어를 분류한 방식이 서로 다르고, 시간이 지나면서 새로운 분류체계가 등장하고 있어 같은 용어라도 다른 의미로 쓰이는 경우가 있다. \\nǃ쿵어(ǃKung)라는 이름은 서로 연관되어있는 방언 각각 이름에 주로 사용하며(예:북부 ǃ쿵어, 중부 ǃ쿵어), 때로는 더 넓은 의미로 방언연속체를 구성하는 언어들 중 북부/북서부 지역의 방언들을 일컫는 말이다. 이때 대응되는 개념은 주호안어(Ju|ʼhoan)이며, 전체 중 남부/남동부의 방언을 지칭한다.\\n주어(Ju)라는 이름은 다양한 ǃ쿵어의 방언들을 하나의 “작은 어족”(language complex)으로 묶어서 부를 경우 주로 사용된다(예: 카어족은 주어(Ju)와 ǂʼ암코이어(ǂʼAmkoe)로 구성된다). \\n유전자 기반의 분석을 진행하는 분자인류학자들은 북부 ǃ쿵어를 사용하는 사람들을 세켈레(Sekele) 또는 바시켈라 ǃ쿵(Vasikela ǃKung)으로 표기하였고, 남부 ǃ쿵어, 즉 주호안어(Ju|ʼhoan)을 사용하는 사람들을 춤쿠에 산(Tsumkwe San) 혹은 ǃ쿵(ǃKung)으로 분류하였다. \\n\\nǃ쿵(ǃKung)이라는 단어 역시 다양한 형태로 표현된다. ǃ쿵(ǃKung)이 처음으로 사용된 것은 1937년이었다. \\nǃ쿵(ǃKung)을 나타내기 위하여 ǃXun ,\\nǃXuun , ǃXʼu(u)n, ǃKu(u)n, ǃHu, ǃKhung, ǃKu, Kung, Qxü, ǃung, ǃXo, ǃXu ,\\nXû, ǃXû, Xun, ǃXung ,\\nǃXũ ,\\nǃXũũ, ʗhũ: \\n등 다양한 표기가 사용되었다. 주(Ju) 역시 Dzu , Juu , Zhu 등 다양한 형태로 표기되었다.\\n\\n최근 문헌의 경우 ǃ쿵어를 표기하기 위해 ǃXun 또는 ǃXuun을 사용하는 경우가 많다.   \n",
       "49858                                                                          마이클 E. 브라운의 웹사이트에서는 이 천체의 반사율을 0.04로 추정하여 지름을 328 km로 추산하였고, 왜행성이 될 가능성이 있다고 보았다  이 천체의 색이 해왕성 바깥 천체의 일반적인 색인 파랑색을 띄기 때문에, 반사율이 추정치보다 더 낮을 가능성이 높다 하지만 만약 반사율이 추정치보다 높다면, 지름이 추정치보다 반 이상 작을 가능성이 매우 높다.\\n\\n(148209) 2000 CR|105와 90377 세드나는 산란원반 천체로, 태양에 가장 가까이 가도 해왕성의 영향을 받지 않는다. 이 천체들이 어떻게 지금과 같은 궤도에 들어갔는지는 수수께끼이며, 추측만 무성하다. 궤도의 형성에 대한 이론들의 주장은 다음과 같다.\\n* 태양계 근처를 지나가던 항성에 의해 기존 궤도를 이탈하였을 것이다.  \\n* 현재 발견되지 않은 가상의 행성에 의해 기존 궤도를 이탈하였을 것이다. \\n* 현재 발견되지 않은 태양의 쌍성에 의해 기존 궤도를 이탈하였을 것이다\\n* 태양계 형성 초기에 다른 행성계에서 포획되었을 것이다 케년과 브롬리에 따르면, 태양이 자신과 비슷한 별과 형성 초기에 만났을 가능성은 15%이고, 행성 교환이 일어났을 가능성은 1%이다. (148209) 2000 CR|105은 포획된 천체일 가능성이 세드나보다 2~3배 높다\\n\\n(148209) 2000 CR|105는 궤도 긴반지름이 150 AU가 넘는 천체 중 최초로 발견된 천체로, 근일점 편각이 340 ± 55°에 달한다.  현재까지 긴반지름이 100 AU가 넘고 근일점이 42 AU를 넘는 천체는 11개밖에 발견되지 않았다.  (148209) 2000 CR|105는 제9행성의 영향을 받으리라고 예상된다.   \n",
       "\n",
       "      corpus_source   url domain                title author  html  \\\n",
       "39917         위키피디아  None   None                  !쿵어   None  None   \n",
       "49858         위키피디아  None   None  (148209) 2000 CR105   None  None   \n",
       "\n",
       "      document_id                                          Q   drop  \n",
       "39917       39917                               특이한 언어를 알려줘?  False  \n",
       "49858       49858  마이클 E. 브라운은 2000 CR 105가 왜행성이 될 수 있다고 봤어?  False  "
      ]
     },
     "metadata": {},
     "output_type": "display_data"
    },
    {
     "name": "stdout",
     "output_type": "stream",
     "text": [
      "17318\n"
     ]
    }
   ],
   "source": [
    "print(len(df))\n",
    "df_drop = df.copy()\n",
    "# dr_drop\n",
    "df_drop['drop'] = df_drop[['text','title']].apply(lambda x: x[1] in x[0], axis=1)\n",
    "display(df_drop.head(2))\n",
    "df_drop = df_drop[df_drop['drop'] == True]\n",
    "print(len(df_drop))"
   ]
  },
  {
   "cell_type": "code",
   "execution_count": 61,
   "metadata": {},
   "outputs": [
    {
     "name": "stdout",
     "output_type": "stream",
     "text": [
      "(Won't You Come Home) Bill Bailey\n",
      "〈(Won't You Come Home) Bill Bailey〉는 1902년에 출판된 곡으로 원제는 〈Bill Bailey, Won't You Please.... Come Home?〉이며, 간단하게 〈Bill Bailey〉라고도 불린다.\n",
      "\n",
      "작사와 작곡은 미국의 작곡가 겸 피아니스트인 휴이 캐넌이 썼고, 하울리, 하빌랜드와 드레서에서 출판하였다. 여전히 딕시랜드와 전통 재즈가 섞인 노래의 기준이라는 평을 받고 있다. 32마디의 화음의 코러스는 \"Over the Waves\", \"Washington and Lee Swing\", Bourbon Street Parade\", \"My Little Girl\", \"Tiger Rag\", \"The Beer Barrel Polka\"와 같은 곡에 사용되었다.\n",
      "(Won't You Come Home) Bill Bailey\n",
      "<class 'str'>\n",
      "<class 'str'>\n"
     ]
    },
    {
     "data": {
      "text/plain": [
       "True"
      ]
     },
     "execution_count": 61,
     "metadata": {},
     "output_type": "execute_result"
    }
   ],
   "source": [
    "type(df_drop.iloc[0]['text'])\n",
    "print(df_drop.iloc[0]['title'])\n",
    "# text = df_drop.iloc[0]['text']\n",
    "text = df_drop.iloc[0]['text'].replace(\"ǃ\",'!')\n",
    "title = df_drop.iloc[0]['title'].replace(\"ǃ\",'!')\n",
    "print(text)\n",
    "# # text = df_drop.iloc[0]['text'].replace(\"'\",'\\'')\n",
    "# text = text.replace('\"','')\n",
    "# text = text.replace('ʼ','')\n",
    "# text = text.replace('\\n','')\n",
    "# text = text.replace('“','')\n",
    "# text = text.replace('”','')\n",
    "# text = text.replace('!','')\n",
    "# title1 = df_drop.iloc[0]['title'].strip().split('\\'')[0]\n",
    "print(title)\n",
    "print(type(text))\n",
    "print(type(df_drop.iloc[0]['title']))\n",
    "# df_drop.iloc[0]['title'] in df_drop.iloc[0]['text']\n",
    "# df_drop.iloc[0]['text'].find(df_drop.iloc[0]['title'])\n",
    "# print(text)\n",
    "# print(title)\n",
    "# # title = str(title)\n",
    "# title2 = 'ǃ쿵어'\n",
    "# text = 'ǃ쿵어가 포함된 카어족, 코이산 제어를 연구하는 학자들이 언어를 분류한 방식이 서로 다르고, 시간이 지나면서 새로운 분류체계가 등장하고 있어 같은 용어라도 다른 의미로 쓰이는 경우가 있다. ǃ쿵어(ǃKung)라는 이름은 서로 연관되어있는 방언 각각 이름에 주로 사용하며(예:북부 ǃ쿵어, 중부 ǃ쿵어), 때로는 더 넓은 의미로 방언연속체를 구성하는 언어들 중 북부/북서부 지역의 방언들을 일컫는 말이다. 이때 대응되는 개념은 주호안어(Ju|hoan)이며, 전체 중 남부/남동부의 방언을 지칭한다.주어(Ju)라는 이름은 다양한 ǃ쿵어의 방언들을 하나의 작은 어족(language complex)으로 묶어서 부를 경우 주로 사용된다(예: 카어족은 주어(Ju)와 ǂ암코이어(ǂAmkoe)로 구성된다). 유전자 기반의 분석을 진행하는 분자인류학자들은 북부 ǃ쿵어를 사용하는 사람들을 세켈레(Sekele) 또는 바시켈라 ǃ쿵(Vasikela ǃKung)으로 표기하였고, 남부 ǃ쿵어, 즉 주호안어(Ju|hoan)을 사용하는 사람들을 춤쿠에 산(Tsumkwe San) 혹은 ǃ쿵(ǃKung)으로 분류하였다. ǃ쿵(ǃKung)이라는 단어 역시 다양한 형태로 표현된다. ǃ쿵(ǃKung)이 처음으로 사용된 것은 1937년이었다. ǃ쿵(ǃKung)을 나타내기 위하여 ǃXun ,ǃXuun , ǃXu(u)n, ǃKu(u)n, ǃHu, ǃKhung, ǃKu, Kung, Qxü, ǃung, ǃXo, ǃXu ,Xû, ǃXû, Xun, ǃXung ,ǃXũ ,ǃXũũ, ʗhũ: 등 다양한 표기가 사용되었다. 주(Ju) 역시 Dzu , Juu , Zhu 등 다양한 형태로 표기되었다.최근 문헌의 경우 ǃ쿵어를 표기하기 위해 ǃXun 또는 ǃXuun을 사용하는 경우가 많다.'\n",
    "# text = 'ǃ쿵어가 포함된 카어족, 코이산 제어를 연구하는 학자들이 언어를 분류한 방식이 서로 다르고!, 시'\n",
    "title in text"
   ]
  },
  {
   "cell_type": "code",
   "execution_count": 62,
   "metadata": {},
   "outputs": [
    {
     "ename": "NameError",
     "evalue": "name 'title1' is not defined",
     "output_type": "error",
     "traceback": [
      "\u001b[0;31m---------------------------------------------------------------------------\u001b[0m",
      "\u001b[0;31mNameError\u001b[0m                                 Traceback (most recent call last)",
      "\u001b[0;32m<ipython-input-62-64bd1ae90be6>\u001b[0m in \u001b[0;36m<module>\u001b[0;34m()\u001b[0m\n\u001b[0;32m----> 1\u001b[0;31m \u001b[0mprint\u001b[0m\u001b[0;34m(\u001b[0m\u001b[0mtitle1\u001b[0m\u001b[0;34m)\u001b[0m\u001b[0;34m\u001b[0m\u001b[0;34m\u001b[0m\u001b[0m\n\u001b[0m\u001b[1;32m      2\u001b[0m \u001b[0mprint\u001b[0m\u001b[0;34m(\u001b[0m\u001b[0mtitle2\u001b[0m\u001b[0;34m)\u001b[0m\u001b[0;34m\u001b[0m\u001b[0;34m\u001b[0m\u001b[0m\n\u001b[1;32m      3\u001b[0m \u001b[0mprint\u001b[0m\u001b[0;34m(\u001b[0m\u001b[0mtype\u001b[0m\u001b[0;34m(\u001b[0m\u001b[0mtitle1\u001b[0m\u001b[0;34m)\u001b[0m\u001b[0;34m,\u001b[0m\u001b[0mtype\u001b[0m\u001b[0;34m(\u001b[0m\u001b[0mtitle2\u001b[0m\u001b[0;34m)\u001b[0m\u001b[0;34m)\u001b[0m\u001b[0;34m\u001b[0m\u001b[0;34m\u001b[0m\u001b[0m\n\u001b[1;32m      4\u001b[0m \u001b[0mtitle1\u001b[0m \u001b[0;34m==\u001b[0m \u001b[0mtitle2\u001b[0m\u001b[0;34m\u001b[0m\u001b[0;34m\u001b[0m\u001b[0m\n",
      "\u001b[0;31mNameError\u001b[0m: name 'title1' is not defined"
     ]
    }
   ],
   "source": [
    "print(title1)\n",
    "print(title2)\n",
    "print(type(title1),type(title2))\n",
    "title1 == title2"
   ]
  },
  {
   "cell_type": "code",
   "execution_count": null,
   "metadata": {},
   "outputs": [
    {
     "name": "stdout",
     "output_type": "stream",
     "text": [
      "[(-1, '!'), (1, 'ǃ'), (0, '쿵어')]\n"
     ]
    }
   ],
   "source": [
    "from diff_match_patch import diff_match_patch\n",
    "dmp = diff_match_patch()\n",
    "diff = dmp.diff_main(title1, title2)\n",
    "print(diff)\n",
    "dmp.diff_cleanupSemantic(diff)"
   ]
  },
  {
   "cell_type": "code",
   "execution_count": null,
   "metadata": {},
   "outputs": [
    {
     "data": {
      "text/plain": [
       "[(-1, '!'), (1, 'ǃ')]"
      ]
     },
     "execution_count": 406,
     "metadata": {},
     "output_type": "execute_result"
    }
   ],
   "source": [
    "dmp.diff_main('!', 'ǃ')"
   ]
  },
  {
   "cell_type": "code",
   "execution_count": 64,
   "metadata": {},
   "outputs": [
    {
     "data": {
      "text/html": [
       "<div>\n",
       "<style scoped>\n",
       "    .dataframe tbody tr th:only-of-type {\n",
       "        vertical-align: middle;\n",
       "    }\n",
       "\n",
       "    .dataframe tbody tr th {\n",
       "        vertical-align: top;\n",
       "    }\n",
       "\n",
       "    .dataframe thead th {\n",
       "        text-align: right;\n",
       "    }\n",
       "</style>\n",
       "<table border=\"1\" class=\"dataframe\">\n",
       "  <thead>\n",
       "    <tr style=\"text-align: right;\">\n",
       "      <th></th>\n",
       "      <th>title</th>\n",
       "      <th>context</th>\n",
       "      <th>question</th>\n",
       "      <th>id</th>\n",
       "      <th>answers</th>\n",
       "      <th>document_id</th>\n",
       "      <th>__index_level_0__</th>\n",
       "    </tr>\n",
       "  </thead>\n",
       "  <tbody>\n",
       "    <tr>\n",
       "      <th>0</th>\n",
       "      <td>미국 상원</td>\n",
       "      <td>미국 상의원 또는 미국 상원(United States Senate)은 양원제인 미국 의회의 상원이다.\\n\\n미국 부통령이 상원의장이 된다. 각 주당 2명의 상원의원이 선출되어 100명의 상원의원으로 구성되어 있다. 임기는 6년이며, 2년마다 50개주 중 1/3씩 상원의원을 새로 선출하여 연방에 보낸다.\\n\\n미국 상원은 미국 하원과는 다르게 미국 대통령을 수반으로 하는 미국 연방 행정부에 각종 동의를 하는 기관이다. 하원이 세금과 경제에 대한 권한, 대통령을 포함한 대다수의 공무원을 파면할 권한을 갖고 있는 국민을 대표하는 기관인 반면 상원은 미국의 주를 대표한다. 즉 캘리포니아주, 일리노이주 같이 주 정부와 주 의회를 대표하는 기관이다. 그로 인하여 군대의 파병, 관료의 임명에 대한 동의, 외국 조약에 대한 승인 등 신속을 요하는 권한은 모두 상원에게만 있다. 그리고 하원에 대한 견제 역할(하원의 법안을 거부할 권한 등)을 담당한다. 2년의 임기로 인하여 급진적일 수밖에 없는 하원은 지나치게 급진적인 법안을 만들기 쉽다. 대표적인 예로 건강보험 개혁 당시 하원이 미국 연방 행정부에게 퍼블릭 옵션(공공건강보험기관)의 조항이 있는 반면 상원의 경우 하원안이 지나치게 세금이 많이 든다는 이유로 퍼블릭 옵션 조항을 제외하고 비영리건강보험기관이나 보험회사가 담당하도록 한 것이다. 이 경우처럼 상원은 하원이나 내각책임제가 빠지기 쉬운 국가들의 국회처럼 걸핏하면 발생하는 의회의 비정상적인 사태를 방지하는 기관이다. 상원은 급박한 처리사항의 경우가 아니면 법안을 먼저 내는 경우가 드물고 하원이 만든 법안을 수정하여 다시 하원에 되돌려보낸다. 이러한 방식으로 단원제가 빠지기 쉬운 함정을 미리 방지하는 것이다.날짜=2017-02-05</td>\n",
       "      <td>대통령을 포함한 미국의 행정부 견제권을 갖는 국가 기관은?</td>\n",
       "      <td>mrc-1-000067</td>\n",
       "      <td>{'answer_start': [235], 'text': ['하원']}</td>\n",
       "      <td>18293</td>\n",
       "      <td>42</td>\n",
       "    </tr>\n",
       "  </tbody>\n",
       "</table>\n",
       "</div>"
      ],
      "text/plain": [
       "   title  \\\n",
       "0  미국 상원   \n",
       "\n",
       "                                                                                                                                                                                                                                                                                                                                                                                                                                                                                                                                                                                                                                                                                                                                                                                                                                                                                          context  \\\n",
       "0  미국 상의원 또는 미국 상원(United States Senate)은 양원제인 미국 의회의 상원이다.\\n\\n미국 부통령이 상원의장이 된다. 각 주당 2명의 상원의원이 선출되어 100명의 상원의원으로 구성되어 있다. 임기는 6년이며, 2년마다 50개주 중 1/3씩 상원의원을 새로 선출하여 연방에 보낸다.\\n\\n미국 상원은 미국 하원과는 다르게 미국 대통령을 수반으로 하는 미국 연방 행정부에 각종 동의를 하는 기관이다. 하원이 세금과 경제에 대한 권한, 대통령을 포함한 대다수의 공무원을 파면할 권한을 갖고 있는 국민을 대표하는 기관인 반면 상원은 미국의 주를 대표한다. 즉 캘리포니아주, 일리노이주 같이 주 정부와 주 의회를 대표하는 기관이다. 그로 인하여 군대의 파병, 관료의 임명에 대한 동의, 외국 조약에 대한 승인 등 신속을 요하는 권한은 모두 상원에게만 있다. 그리고 하원에 대한 견제 역할(하원의 법안을 거부할 권한 등)을 담당한다. 2년의 임기로 인하여 급진적일 수밖에 없는 하원은 지나치게 급진적인 법안을 만들기 쉽다. 대표적인 예로 건강보험 개혁 당시 하원이 미국 연방 행정부에게 퍼블릭 옵션(공공건강보험기관)의 조항이 있는 반면 상원의 경우 하원안이 지나치게 세금이 많이 든다는 이유로 퍼블릭 옵션 조항을 제외하고 비영리건강보험기관이나 보험회사가 담당하도록 한 것이다. 이 경우처럼 상원은 하원이나 내각책임제가 빠지기 쉬운 국가들의 국회처럼 걸핏하면 발생하는 의회의 비정상적인 사태를 방지하는 기관이다. 상원은 급박한 처리사항의 경우가 아니면 법안을 먼저 내는 경우가 드물고 하원이 만든 법안을 수정하여 다시 하원에 되돌려보낸다. 이러한 방식으로 단원제가 빠지기 쉬운 함정을 미리 방지하는 것이다.날짜=2017-02-05   \n",
       "\n",
       "                           question            id  \\\n",
       "0  대통령을 포함한 미국의 행정부 견제권을 갖는 국가 기관은?  mrc-1-000067   \n",
       "\n",
       "                                   answers  document_id  __index_level_0__  \n",
       "0  {'answer_start': [235], 'text': ['하원']}        18293                 42  "
      ]
     },
     "metadata": {},
     "output_type": "display_data"
    },
    {
     "data": {
      "text/plain": [
       "Index(['title', 'context', 'question', 'id', 'answers', 'document_id',\n",
       "       '__index_level_0__'],\n",
       "      dtype='object')"
      ]
     },
     "execution_count": 64,
     "metadata": {},
     "output_type": "execute_result"
    }
   ],
   "source": [
    "from datasets import load_from_disk\n",
    "dataset = load_from_disk(\"../input/data/train_dataset/\")\n",
    "df = pd.DataFrame( dataset['train'] )\n",
    "display(df.head(1))\n",
    "df.columns"
   ]
  },
  {
   "cell_type": "code",
   "execution_count": 65,
   "metadata": {},
   "outputs": [
    {
     "data": {
      "text/html": [
       "<div>\n",
       "<style scoped>\n",
       "    .dataframe tbody tr th:only-of-type {\n",
       "        vertical-align: middle;\n",
       "    }\n",
       "\n",
       "    .dataframe tbody tr th {\n",
       "        vertical-align: top;\n",
       "    }\n",
       "\n",
       "    .dataframe thead th {\n",
       "        text-align: right;\n",
       "    }\n",
       "</style>\n",
       "<table border=\"1\" class=\"dataframe\">\n",
       "  <thead>\n",
       "    <tr style=\"text-align: right;\">\n",
       "      <th></th>\n",
       "      <th>text</th>\n",
       "      <th>corpus_source</th>\n",
       "      <th>url</th>\n",
       "      <th>domain</th>\n",
       "      <th>title</th>\n",
       "      <th>author</th>\n",
       "      <th>html</th>\n",
       "      <th>document_id</th>\n",
       "      <th>Q</th>\n",
       "      <th>drop</th>\n",
       "    </tr>\n",
       "  </thead>\n",
       "  <tbody>\n",
       "    <tr>\n",
       "      <th>60091</th>\n",
       "      <td>〈(Won't You Come Home) Bill Bailey〉는 1902년에 출판된 곡으로 원제는 〈Bill Bailey, Won't You Please.... Come Home?〉이며, 간단하게 〈Bill Bailey〉라고도 불린다.\\n\\n작사와 작곡은 미국의 작곡가 겸 피아니스트인 휴이 캐넌이 썼고, 하울리, 하빌랜드와 드레서에서 출판하였다. 여전히 딕시랜드와 전통 재즈가 섞인 노래의 기준이라는 평을 받고 있다. 32마디의 화음의 코러스는 \"Over the Waves\", \"Washington and Lee Swing\", Bourbon Street Parade\", \"My Little Girl\", \"Tiger Rag\", \"The Beer Barrel Polka\"와 같은 곡에 사용되었다.</td>\n",
       "      <td>위키피디아</td>\n",
       "      <td>None</td>\n",
       "      <td>None</td>\n",
       "      <td>(Won't You Come Home) Bill Bailey</td>\n",
       "      <td>None</td>\n",
       "      <td>None</td>\n",
       "      <td>60091</td>\n",
       "      <td>Bill Bailey, Won't You Please... Come Home?라는 곡의 원제가 뭐야?</td>\n",
       "      <td>True</td>\n",
       "    </tr>\n",
       "  </tbody>\n",
       "</table>\n",
       "</div>"
      ],
      "text/plain": [
       "                                                                                                                                                                                                                                                                                                                                                                                                        text  \\\n",
       "60091  〈(Won't You Come Home) Bill Bailey〉는 1902년에 출판된 곡으로 원제는 〈Bill Bailey, Won't You Please.... Come Home?〉이며, 간단하게 〈Bill Bailey〉라고도 불린다.\\n\\n작사와 작곡은 미국의 작곡가 겸 피아니스트인 휴이 캐넌이 썼고, 하울리, 하빌랜드와 드레서에서 출판하였다. 여전히 딕시랜드와 전통 재즈가 섞인 노래의 기준이라는 평을 받고 있다. 32마디의 화음의 코러스는 \"Over the Waves\", \"Washington and Lee Swing\", Bourbon Street Parade\", \"My Little Girl\", \"Tiger Rag\", \"The Beer Barrel Polka\"와 같은 곡에 사용되었다.   \n",
       "\n",
       "      corpus_source   url domain                              title author  \\\n",
       "60091         위키피디아  None   None  (Won't You Come Home) Bill Bailey   None   \n",
       "\n",
       "       html document_id  \\\n",
       "60091  None       60091   \n",
       "\n",
       "                                                              Q  drop  \n",
       "60091  Bill Bailey, Won't You Please... Come Home?라는 곡의 원제가 뭐야?  True  "
      ]
     },
     "execution_count": 65,
     "metadata": {},
     "output_type": "execute_result"
    }
   ],
   "source": [
    "df_drop.head(1)"
   ]
  },
  {
   "cell_type": "code",
   "execution_count": 66,
   "metadata": {},
   "outputs": [
    {
     "name": "stdout",
     "output_type": "stream",
     "text": [
      "3952\n"
     ]
    }
   ],
   "source": [
    "print(len(df))"
   ]
  },
  {
   "cell_type": "code",
   "execution_count": 67,
   "metadata": {},
   "outputs": [
    {
     "name": "stdout",
     "output_type": "stream",
     "text": [
      "-----change location...\n",
      "-----change name...\n",
      "21270\n"
     ]
    }
   ],
   "source": [
    "df__ = df_drop.copy()\n",
    "print('-----change location...')\n",
    "df__ = df__[['title','text','Q','document_id','title','document_id']]\n",
    "df__['__index_level_0__'] = pd.DataFrame(np.zeros(len(df_drop)))\n",
    "print('-----change name...')\n",
    "df__.columns = list(df.columns)\n",
    "\n",
    "def modi_answer(x):\n",
    "    tmp = {}\n",
    "    # print(x[0])\n",
    "    # print(x[1])\n",
    "    tmp['answer_start'] = [x[0].find(x[1])]\n",
    "    tmp['text'] = [x[1]]\n",
    "    return tmp\n",
    "    \n",
    "# display(df__.head(2))\n",
    "df__['answers'] = df__[['context','answers']].apply(modi_answer,axis=1)\n",
    "\n",
    "# display(df__.head(2))\n",
    "df_final = pd.concat([df,df__])\n",
    "print(len(df_final))"
   ]
  },
  {
   "cell_type": "code",
   "execution_count": 68,
   "metadata": {},
   "outputs": [
    {
     "data": {
      "text/plain": [
       "1"
      ]
     },
     "execution_count": 68,
     "metadata": {},
     "output_type": "execute_result"
    }
   ],
   "source": [
    "text ='《...Nothing Like the Sun》은 영국의 싱어송라이터 스팅의 두 번째 솔로 스튜디오 음반이고, 1987년 10월 13일 A&M 레코드에서 발매되었다. 이 음반은 팝 록, 소프트 록, 재즈, 레게, 월드 뮤직, 어쿠스틱 록, 댄스 록, 펑크 록의 장르를 탐구한다. 이 곡들은 1987년 3월~8월 몬트세랫의 에어 스튜디오에서 열린 세션에서 음반 제작자 휴 패드검, 브라이언 로렌, 닐 도프스먼의 도움을 받아 녹음되었다. 전직 더 폴리스 멤버 앤디 서머스, 에릭 클랩튼, 마크 노프플러, 하이럼 블록 등 다수의 유명 게스트 기타리스트들이 참여하고 있으며, 일반적으로 스팅의 초기 작품에서 보다 부드럽고 성인 지향적인 사운드의 정점으로 평가받고 있다.\\n\\n발매된 음반은 대다수의 음악 비평가들로부터 호평을 받았고 1989년에는 《롤링 스톤》이 선정한 \"80년대 베스트 음반 100개\" 목록에서 90위에 올랐다. 〈We'\n",
    "title = '...Nothing Like the Sun'\n",
    "text.find(title)"
   ]
  },
  {
   "cell_type": "code",
   "execution_count": 69,
   "metadata": {},
   "outputs": [],
   "source": [
    "# df_f = df_final.copy()\n",
    "# def modi_answer(x):\n",
    "#     tmp = {}\n",
    "#     print(x[0])\n",
    "#     print(x[1])\n",
    "#     tmp['answer_start'] = [x[0].find(x[1])]\n",
    "#     tmp['text'] = [x[1]]\n",
    "#     return tmp\n",
    "    \n",
    "\n",
    "# df_f['answers'] = df_f[['context','answers']].apply(modi_answer,axis=1)\n",
    "# df_f.head(1)"
   ]
  },
  {
   "cell_type": "code",
   "execution_count": 464,
   "metadata": {},
   "outputs": [
    {
     "data": {
      "text/html": [
       "<div>\n",
       "<style scoped>\n",
       "    .dataframe tbody tr th:only-of-type {\n",
       "        vertical-align: middle;\n",
       "    }\n",
       "\n",
       "    .dataframe tbody tr th {\n",
       "        vertical-align: top;\n",
       "    }\n",
       "\n",
       "    .dataframe thead th {\n",
       "        text-align: right;\n",
       "    }\n",
       "</style>\n",
       "<table border=\"1\" class=\"dataframe\">\n",
       "  <thead>\n",
       "    <tr style=\"text-align: right;\">\n",
       "      <th></th>\n",
       "      <th>title</th>\n",
       "      <th>context</th>\n",
       "      <th>question</th>\n",
       "      <th>id</th>\n",
       "      <th>answers</th>\n",
       "      <th>document_id</th>\n",
       "      <th>__index_level_0__</th>\n",
       "    </tr>\n",
       "  </thead>\n",
       "  <tbody>\n",
       "    <tr>\n",
       "      <th>20975</th>\n",
       "      <td>힙스터</td>\n",
       "      <td>힙스터(Hipster)는 아편을 뜻하는 속어 hop에서 진화한 hip, 혹은 hep이라는 말에서 유래했고 1940년대의 재즈광들을 지칭하는 슬랭이었다. 한 세대가 지난 1990년대 이후, 독특한 문화적 코드를 공유하는 젊은이들을 힙스터라고 부르고 있다. 뉴욕 브루클린의 윌리암스버그(Williamsburg), 시카고의 위커 파크(Wicker Park) 그리고 샌프란시스코의 미션지구(Mission District)에 많은 수의 힙스터들이 거주하고 있다.\\n\\n힙 스터의 하위 문화는 진부에 주로 거주하는 젊은 성인으로 구성되어 스마트 성장 및 젠트리피케이션.  \\n\\n힙스터는 2, 30 대의 독립적인 생각과 반문화성, 일반적으로 비건, 평화를 하고 녹색 정치적 견해, 자연친화, 잘 알려지지 않은 음악과 예술, 지식 그리고 위트를 가치있게 여기는 사람들을 일컫는다.\\n\\n힙스터 문화를 상징하는 아이콘으로는 쫄청바지, 무기어 자전거, 담배, 질좋은 차와 커피, 크래프트 맥주, 대체 음악, 인디 음악, 독립 영화 등이 있다.\\n\\n힙스터들이 추구하는 멋은 ‘노력하지 않은 멋’이다. 다듬지 않은 머리카락, 깎지 않은 수염, 뿔테 안경, 딱 붙는 하의, 늘어난 상의, 빛바랜 체크무의 셔츠와 같이 소탈한 맵시를 중시한다.\\n\\nIt is common to see hipsters in long beards and plastic glasses.\\n\\n씻지 않은 듯한 모습과 몸에 새긴 문신, 애플이나 친환경 제품을 사용하는 것이 특징이다.\\n\\n그들 가운데에는 자전거 타기를 즐기는 사람과 채식주의자가 많다. 이 밖에 스케이트를 타는 사람들이 많으며 그 지역의 작은 커피 전문점에서 산 커피 컵을 들고 다니는 모습을 많이 발견할 수 있다.\\n\\n힙 스터 하위 문화에 의해 가장 잘 알려진 장르는 최소 집, 진정 아웃 음악, 포크 음악, 모던 록, 팝 록, 브릿팝\\n\\nPBR(Pabst Blue Ribbon)은 그들이 즐겨마시는 맥주 브랜드이다.</td>\n",
       "      <td>힙스터 문화를 대표하는 아이콘이 뭐야?</td>\n",
       "      <td>20975</td>\n",
       "      <td>{'answer_start': [0], 'text': ['힙스터']}</td>\n",
       "      <td>20975</td>\n",
       "      <td>NaN</td>\n",
       "    </tr>\n",
       "    <tr>\n",
       "      <th>32576</th>\n",
       "      <td>힙합</td>\n",
       "      <td>힙합(Hip Hop)은 1970년대 미합중국 뉴욕의 브롱스에서 유행하기 시작한 춤과 대중음악으로부터 파생된 거리문화이다. 또한 미합중국 뉴욕의 브롱스에서 아프리카계 미국인과 캐리비안 미합중국인, 히스패닉계 주민의 커뮤니티에서 행해지고 있었던 블록 파티에서 태어난 문화이다.\\n\\n아프리카계 미합중국인들의 문화 (음악, 패션, 예술) 등 전반적인 삶의 양식을 조합하여 새로운 스타일을 만들어 내는 방식을 힙합 (Hip도 Hop도 튀는, 생기있고 활발하게 움직인다 라는 뜻의 약동하는 의미를 갖고 있다.) 이라고 호칭하기 시작하였으며, 이때가 1974년 11월이었다. 그리고 이것으로 하여 11월을 ‘힙합 역사의 달’(Hip Hop History Month)로 축하하는 관습이 생겨났다.\\n\\n힙합의 초기에는 팝, 펑크, 레게, 소울, 재즈 등 대중음악에서 추출한 샘플링이나 프로그래밍을 중심으로 한 트랙을 녹음해서 블록파티에 즉흥적인 춤판에 쓰다가, 음악을 틀던 DJ들은 곡 몇 가지 부분에 관중들을 향해 분위기를 맞추기 위해 이런 저런 말들이나 후렴구 도는 미사여구들을 뱉었는데, 그것이 차차 디제이로부터 분화되어 스테이지 위에서 사회를 보는 역할이 따로 만들어져 MC 또는 래퍼가 생겨났고, 그러므로 랩이라는 개념이 탄생하였다.</td>\n",
       "      <td>1970년대 미합중국 뉴욕의 브롱스에서 유행하기 시작한 춤과 대중음악으로부터 파생된 거리문화는 무엇인가?</td>\n",
       "      <td>32576</td>\n",
       "      <td>{'answer_start': [0], 'text': ['힙합']}</td>\n",
       "      <td>32576</td>\n",
       "      <td>NaN</td>\n",
       "    </tr>\n",
       "    <tr>\n",
       "      <th>30768</th>\n",
       "      <td>힙합엘이</td>\n",
       "      <td>2009년부터 자신의 블로그 \"heQmentary\"를 통해 외국 힙합 및 R&amp;B의 뉴스를 전달하던 히맨은 점차 좀 더 조직적인 구조를 갖춘 웹사이트를 구상하기 시작하였고, 칼럼 필진과 영문 가사 해석 필진을 모집한 후 홈페이지 제작을 거쳐 2010년 11월 사이트를 오픈하였다.\\n\\n2010년 11월 공식 홈페이지 오픈 이후, 힙합엘이는 빠른 국외 뉴스 전달과 자체 제작 자막 뮤직비디오를 통해 콘텐츠 기반을 다졌다. 이후 칼럼 기고, 인터뷰, 기획 기사 제작 등을 이용자에게 전달했다. 초반에는 국외 음악에만 집중되었으나, \"Music Salon\" 인터뷰 코너가 개설되면서 처음으로 국내 흑인음악 관련 콘텐츠를 다루기 시작했고, 이는 이후의 신설 코너 \"Spotlight\"와 \"힙합엘이 토크콘서트\" 등으로 이어졌다.\\n\\n2013년부터는 라이프스타일 메뉴를 추가해 음악 외에 패션, 전시, 테크, 아트 등 기타 문화 요소들에 대한 콘텐츠를 진행하고 있다. 이후 힙합엘이 라디오와 자막 전용 어플 런칭, LE TV 등의 플랫폼 다양화와 힙합엘이 파티, 캠페인, 워크샵, 북토크, 음감회 등의 오프라인 행사의 다양화를 통해 다방면에서 기획 및 홍보를 진행하고 있다. 이외에도 잡지, 음반 해설지, 타 웹매거진 등의 외부 기고와 회원들을 위한 온/오프라인 이벤트도 꾸준히 성사 중이다.\\n\\n2016년 웹사이트/모바일 리뉴얼 후에는, 힙합엘이 차이나(HIHOPLE CHINA) 런칭과 콘텐츠 매니지먼트, 패션 및 컬쳐브랜드 기획 콘텐츠, 스페셜 포커스, 잡지/책 프로젝트, 영상 기획 및 제작, 강연 등의 외부 행사 등을 전문적으로 진행하고 있다.</td>\n",
       "      <td>힙합엘이의 공식 홈페이지가 오픈되고 나서 가장 먼저 콘텐츠 제작 및 유통을 한 곳은 어디야?</td>\n",
       "      <td>30768</td>\n",
       "      <td>{'answer_start': [182], 'text': ['힙합엘이']}</td>\n",
       "      <td>30768</td>\n",
       "      <td>NaN</td>\n",
       "    </tr>\n",
       "  </tbody>\n",
       "</table>\n",
       "</div>"
      ],
      "text/plain": [
       "      title  \\\n",
       "20975   힙스터   \n",
       "32576    힙합   \n",
       "30768  힙합엘이   \n",
       "\n",
       "                                                                                                                                                                                                                                                                                                                                                                                                                                                                                                                                                                                                                                                                                                                                                                                                                                                                                                                                                                                                                context  \\\n",
       "20975  힙스터(Hipster)는 아편을 뜻하는 속어 hop에서 진화한 hip, 혹은 hep이라는 말에서 유래했고 1940년대의 재즈광들을 지칭하는 슬랭이었다. 한 세대가 지난 1990년대 이후, 독특한 문화적 코드를 공유하는 젊은이들을 힙스터라고 부르고 있다. 뉴욕 브루클린의 윌리암스버그(Williamsburg), 시카고의 위커 파크(Wicker Park) 그리고 샌프란시스코의 미션지구(Mission District)에 많은 수의 힙스터들이 거주하고 있다.\\n\\n힙 스터의 하위 문화는 진부에 주로 거주하는 젊은 성인으로 구성되어 스마트 성장 및 젠트리피케이션.  \\n\\n힙스터는 2, 30 대의 독립적인 생각과 반문화성, 일반적으로 비건, 평화를 하고 녹색 정치적 견해, 자연친화, 잘 알려지지 않은 음악과 예술, 지식 그리고 위트를 가치있게 여기는 사람들을 일컫는다.\\n\\n힙스터 문화를 상징하는 아이콘으로는 쫄청바지, 무기어 자전거, 담배, 질좋은 차와 커피, 크래프트 맥주, 대체 음악, 인디 음악, 독립 영화 등이 있다.\\n\\n힙스터들이 추구하는 멋은 ‘노력하지 않은 멋’이다. 다듬지 않은 머리카락, 깎지 않은 수염, 뿔테 안경, 딱 붙는 하의, 늘어난 상의, 빛바랜 체크무의 셔츠와 같이 소탈한 맵시를 중시한다.\\n\\nIt is common to see hipsters in long beards and plastic glasses.\\n\\n씻지 않은 듯한 모습과 몸에 새긴 문신, 애플이나 친환경 제품을 사용하는 것이 특징이다.\\n\\n그들 가운데에는 자전거 타기를 즐기는 사람과 채식주의자가 많다. 이 밖에 스케이트를 타는 사람들이 많으며 그 지역의 작은 커피 전문점에서 산 커피 컵을 들고 다니는 모습을 많이 발견할 수 있다.\\n\\n힙 스터 하위 문화에 의해 가장 잘 알려진 장르는 최소 집, 진정 아웃 음악, 포크 음악, 모던 록, 팝 록, 브릿팝\\n\\nPBR(Pabst Blue Ribbon)은 그들이 즐겨마시는 맥주 브랜드이다.   \n",
       "32576                                                                                                                                                                                                                                                                                                                                                          힙합(Hip Hop)은 1970년대 미합중국 뉴욕의 브롱스에서 유행하기 시작한 춤과 대중음악으로부터 파생된 거리문화이다. 또한 미합중국 뉴욕의 브롱스에서 아프리카계 미국인과 캐리비안 미합중국인, 히스패닉계 주민의 커뮤니티에서 행해지고 있었던 블록 파티에서 태어난 문화이다.\\n\\n아프리카계 미합중국인들의 문화 (음악, 패션, 예술) 등 전반적인 삶의 양식을 조합하여 새로운 스타일을 만들어 내는 방식을 힙합 (Hip도 Hop도 튀는, 생기있고 활발하게 움직인다 라는 뜻의 약동하는 의미를 갖고 있다.) 이라고 호칭하기 시작하였으며, 이때가 1974년 11월이었다. 그리고 이것으로 하여 11월을 ‘힙합 역사의 달’(Hip Hop History Month)로 축하하는 관습이 생겨났다.\\n\\n힙합의 초기에는 팝, 펑크, 레게, 소울, 재즈 등 대중음악에서 추출한 샘플링이나 프로그래밍을 중심으로 한 트랙을 녹음해서 블록파티에 즉흥적인 춤판에 쓰다가, 음악을 틀던 DJ들은 곡 몇 가지 부분에 관중들을 향해 분위기를 맞추기 위해 이런 저런 말들이나 후렴구 도는 미사여구들을 뱉었는데, 그것이 차차 디제이로부터 분화되어 스테이지 위에서 사회를 보는 역할이 따로 만들어져 MC 또는 래퍼가 생겨났고, 그러므로 랩이라는 개념이 탄생하였다.   \n",
       "30768                                                                                                                                                                         2009년부터 자신의 블로그 \"heQmentary\"를 통해 외국 힙합 및 R&B의 뉴스를 전달하던 히맨은 점차 좀 더 조직적인 구조를 갖춘 웹사이트를 구상하기 시작하였고, 칼럼 필진과 영문 가사 해석 필진을 모집한 후 홈페이지 제작을 거쳐 2010년 11월 사이트를 오픈하였다.\\n\\n2010년 11월 공식 홈페이지 오픈 이후, 힙합엘이는 빠른 국외 뉴스 전달과 자체 제작 자막 뮤직비디오를 통해 콘텐츠 기반을 다졌다. 이후 칼럼 기고, 인터뷰, 기획 기사 제작 등을 이용자에게 전달했다. 초반에는 국외 음악에만 집중되었으나, \"Music Salon\" 인터뷰 코너가 개설되면서 처음으로 국내 흑인음악 관련 콘텐츠를 다루기 시작했고, 이는 이후의 신설 코너 \"Spotlight\"와 \"힙합엘이 토크콘서트\" 등으로 이어졌다.\\n\\n2013년부터는 라이프스타일 메뉴를 추가해 음악 외에 패션, 전시, 테크, 아트 등 기타 문화 요소들에 대한 콘텐츠를 진행하고 있다. 이후 힙합엘이 라디오와 자막 전용 어플 런칭, LE TV 등의 플랫폼 다양화와 힙합엘이 파티, 캠페인, 워크샵, 북토크, 음감회 등의 오프라인 행사의 다양화를 통해 다방면에서 기획 및 홍보를 진행하고 있다. 이외에도 잡지, 음반 해설지, 타 웹매거진 등의 외부 기고와 회원들을 위한 온/오프라인 이벤트도 꾸준히 성사 중이다.\\n\\n2016년 웹사이트/모바일 리뉴얼 후에는, 힙합엘이 차이나(HIHOPLE CHINA) 런칭과 콘텐츠 매니지먼트, 패션 및 컬쳐브랜드 기획 콘텐츠, 스페셜 포커스, 잡지/책 프로젝트, 영상 기획 및 제작, 강연 등의 외부 행사 등을 전문적으로 진행하고 있다.   \n",
       "\n",
       "                                                         question     id  \\\n",
       "20975                                       힙스터 문화를 대표하는 아이콘이 뭐야?  20975   \n",
       "32576  1970년대 미합중국 뉴욕의 브롱스에서 유행하기 시작한 춤과 대중음악으로부터 파생된 거리문화는 무엇인가?  32576   \n",
       "30768         힙합엘이의 공식 홈페이지가 오픈되고 나서 가장 먼저 콘텐츠 제작 및 유통을 한 곳은 어디야?  30768   \n",
       "\n",
       "                                         answers document_id  \\\n",
       "20975     {'answer_start': [0], 'text': ['힙스터']}       20975   \n",
       "32576      {'answer_start': [0], 'text': ['힙합']}       32576   \n",
       "30768  {'answer_start': [182], 'text': ['힙합엘이']}       30768   \n",
       "\n",
       "       __index_level_0__  \n",
       "20975                NaN  \n",
       "32576                NaN  \n",
       "30768                NaN  "
      ]
     },
     "metadata": {},
     "output_type": "display_data"
    }
   ],
   "source": [
    "display(df_final.iloc[-3:])"
   ]
  },
  {
   "cell_type": "code",
   "execution_count": 70,
   "metadata": {},
   "outputs": [],
   "source": [
    "df_final.to_csv('/opt/ml/input/data/train_with_titleQ.csv', sep=',', na_rep='NaN',index=False) # do not write index"
   ]
  },
  {
   "attachments": {},
   "cell_type": "markdown",
   "metadata": {},
   "source": [
    "hf 데이터셋으로 만들기"
   ]
  },
  {
   "cell_type": "code",
   "execution_count": 77,
   "metadata": {},
   "outputs": [],
   "source": [
    "df_final = pd.read_csv('/opt/ml/input/data/train_with_titleQ.csv')\n",
    "Dataset.from_dict(train_df)"
   ]
  },
  {
   "cell_type": "code",
   "execution_count": 72,
   "metadata": {},
   "outputs": [
    {
     "data": {
      "text/plain": [
       "str"
      ]
     },
     "execution_count": 72,
     "metadata": {},
     "output_type": "execute_result"
    }
   ],
   "source": [
    "type(df_final.iloc[0]['answers'])"
   ]
  },
  {
   "cell_type": "code",
   "execution_count": 73,
   "metadata": {},
   "outputs": [],
   "source": [
    "df_final['answers'] = df_final['answers'].apply(lambda x: eval(x))"
   ]
  },
  {
   "cell_type": "code",
   "execution_count": 74,
   "metadata": {},
   "outputs": [
    {
     "data": {
      "text/plain": [
       "dict"
      ]
     },
     "execution_count": 74,
     "metadata": {},
     "output_type": "execute_result"
    }
   ],
   "source": [
    "type(df_final.iloc[0]['answers'])"
   ]
  },
  {
   "cell_type": "code",
   "execution_count": 75,
   "metadata": {},
   "outputs": [],
   "source": [
    "import csv\n",
    "df_final.to_csv('/opt/ml/input/data/train_with_titleQ2.csv', sep=',', na_rep='NaN',index=False, escapechar=\"/\", quoting=csv.QUOTE_NONE) # do not write index"
   ]
  },
  {
   "cell_type": "code",
   "execution_count": 9,
   "metadata": {},
   "outputs": [
    {
     "name": "stderr",
     "output_type": "stream",
     "text": [
      "[Kss]: Using custom data configuration default-3b16b9f88de6c966\n",
      "[Kss]: Reusing dataset csv (/opt/ml/.cache/huggingface/datasets/csv/default-3b16b9f88de6c966/0.0.0/652c3096f041ee27b04d2232d41f10547a8fecda3e284a79a0ec4053c916ef7a)\n",
      "100%|██████████| 1/1 [00:00<00:00, 513.94it/s]\n"
     ]
    }
   ],
   "source": [
    "from datasets import load_dataset\n",
    "dataset = load_dataset('csv', data_files={'train': '/opt/ml/input/data/train_with_titleQ.csv'})"
   ]
  },
  {
   "cell_type": "code",
   "execution_count": 10,
   "metadata": {},
   "outputs": [
    {
     "data": {
      "text/plain": [
       "{'title': '미국 상원',\n",
       " 'context': '미국 상의원 또는 미국 상원(United States Senate)은 양원제인 미국 의회의 상원이다.\\\\n\\\\n미국 부통령이 상원의장이 된다. 각 주당 2명의 상원의원이 선출되어 100명의 상원의원으로 구성되어 있다. 임기는 6년이며, 2년마다 50개주 중 1/3씩 상원의원을 새로 선출하여 연방에 보낸다.\\\\n\\\\n미국 상원은 미국 하원과는 다르게 미국 대통령을 수반으로 하는 미국 연방 행정부에 각종 동의를 하는 기관이다. 하원이 세금과 경제에 대한 권한, 대통령을 포함한 대다수의 공무원을 파면할 권한을 갖고 있는 국민을 대표하는 기관인 반면 상원은 미국의 주를 대표한다. 즉 캘리포니아주, 일리노이주 같이 주 정부와 주 의회를 대표하는 기관이다. 그로 인하여 군대의 파병, 관료의 임명에 대한 동의, 외국 조약에 대한 승인 등 신속을 요하는 권한은 모두 상원에게만 있다. 그리고 하원에 대한 견제 역할(하원의 법안을 거부할 권한 등)을 담당한다. 2년의 임기로 인하여 급진적일 수밖에 없는 하원은 지나치게 급진적인 법안을 만들기 쉽다. 대표적인 예로 건강보험 개혁 당시 하원이 미국 연방 행정부에게 퍼블릭 옵션(공공건강보험기관)의 조항이 있는 반면 상원의 경우 하원안이 지나치게 세금이 많이 든다는 이유로 퍼블릭 옵션 조항을 제외하고 비영리건강보험기관이나 보험회사가 담당하도록 한 것이다. 이 경우처럼 상원은 하원이나 내각책임제가 빠지기 쉬운 국가들의 국회처럼 걸핏하면 발생하는 의회의 비정상적인 사태를 방지하는 기관이다. 상원은 급박한 처리사항의 경우가 아니면 법안을 먼저 내는 경우가 드물고 하원이 만든 법안을 수정하여 다시 하원에 되돌려보낸다. 이러한 방식으로 단원제가 빠지기 쉬운 함정을 미리 방지하는 것이다.날짜=2017-02-05',\n",
       " 'question': '대통령을 포함한 미국의 행정부 견제권을 갖는 국가 기관은?',\n",
       " 'id': 'mrc-1-000067',\n",
       " 'answers': \"{'answer_start': [235], 'text': ['하원']}\",\n",
       " 'document_id': 18293,\n",
       " '__index_level_0__': 42.0}"
      ]
     },
     "execution_count": 10,
     "metadata": {},
     "output_type": "execute_result"
    }
   ],
   "source": [
    "dataset['train'][0]"
   ]
  },
  {
   "attachments": {},
   "cell_type": "markdown",
   "metadata": {},
   "source": [
    "# wiki ner based QG"
   ]
  },
  {
   "cell_type": "code",
   "execution_count": 7,
   "metadata": {},
   "outputs": [
    {
     "data": {
      "text/html": [
       "<div>\n",
       "<style scoped>\n",
       "    .dataframe tbody tr th:only-of-type {\n",
       "        vertical-align: middle;\n",
       "    }\n",
       "\n",
       "    .dataframe tbody tr th {\n",
       "        vertical-align: top;\n",
       "    }\n",
       "\n",
       "    .dataframe thead th {\n",
       "        text-align: right;\n",
       "    }\n",
       "</style>\n",
       "<table border=\"1\" class=\"dataframe\">\n",
       "  <thead>\n",
       "    <tr style=\"text-align: right;\">\n",
       "      <th></th>\n",
       "      <th>text</th>\n",
       "      <th>corpus_source</th>\n",
       "      <th>url</th>\n",
       "      <th>domain</th>\n",
       "      <th>title</th>\n",
       "      <th>author</th>\n",
       "      <th>html</th>\n",
       "      <th>document_id</th>\n",
       "    </tr>\n",
       "  </thead>\n",
       "  <tbody>\n",
       "    <tr>\n",
       "      <th>0</th>\n",
       "      <td>이 문서는 나라 목록이며, 전 세계 206개 나라의 각 현황과 주권 승인 정보를 개요 형태로 나열하고 있다.\\n\\n이 목록은 명료화를 위해 두 부분으로 나뉘어 있다.\\n\\n# 첫 번째 부분은 바티칸 시국과 팔레스타인을 포함하여 유엔 등 국제 기구에 가입되어 국제적인 승인을 널리 받았다고 여기는 195개 나라를 나열하고 있다.\\n# 두 번째 부분은 일부 지역의 주권을 사실상 (데 팍토) 행사하고 있지만, 아직 국제적인 승인을 널리 받지 않았다고 여기는 11개 나라를 나열하고 있다.\\n\\n두 목록은 모두 가나다 순이다.\\n\\n일부 국가의 경우 국가로서의 자격에 논쟁의 여부가 있으며, 이 때문에 이러한 목록을 엮는 것은 매우 어렵고 논란이 생길 수 있는 과정이다. 이 목록을 구성하고 있는 국가를 선정하는 기준에 대한 정보는 \"포함 기준\" 단락을 통해 설명하였다. 나라에 대한 일반적인 정보는 \"국가\" 문서에서 설명하고 있다.</td>\n",
       "      <td>위키피디아</td>\n",
       "      <td>TODO</td>\n",
       "      <td>None</td>\n",
       "      <td>나라 목록</td>\n",
       "      <td>None</td>\n",
       "      <td>None</td>\n",
       "      <td>0</td>\n",
       "    </tr>\n",
       "    <tr>\n",
       "      <th>1</th>\n",
       "      <td>이 목록에 실린 국가 기준은 1933년 몬테비데오 협약 1장을 참고로 하였다. 협정에 따르면, 국가는 다음의 조건을 만족해야 한다.\\n* (a) 영속적인 국민\\n* (b) 일정한 영토\\n* (c) 정부\\n* (d) 타국과의 관계 참여 자격.\\n특히, 마지막 조건은 국제 공동체의 참여 용인을 내포하고 있기 때문에, 다른 나라의 승인이 매우 중요한 역할을 할 수 있다.  이 목록에 포함된 모든 국가는 보통 이 기준을 만족하는 것으로 보이는 자주적이고 독립적인 국가이다. 하지만 몬테비데오 협약 기준을 만족하는지의 여부는 많은 국가가 논쟁이 되고 있는 실정이다. 또한, 몬테비데오 협약 기준만이 국가 지위의 충분한 자격이든 아니든, 국제법의 견해 차이는 존재할 수 있다. 이 물음에 대한 다른 이론에 대한 고리는 아래에서 볼 수 있다.\\n\\n위 기준에 논거하여 이 목록은 다음 206개 국가를 포함하고 있다.\\n* 일반 국제 승인을 받은 195개 자주 국가.\\n** 유엔 가입 국가 193개\\n** 성좌의 명칭으로 유엔에서 국제 승인을 받은 국가: 바티칸 시국\\n** 팔레스타인지역에 위치하며 유엔 영구 옵서버 국가: 팔레스타인\\n* 유엔의 가입국이 아니며, 일반 국제 승인을 받지 않은 11개 자주 국가.\\n** 유엔 회원국으로부터 승인을 받은 8개 국가: 남오세티야, 니우에, 북키프로스 튀르크 공화국, 사하라 아랍 민주 공화국, 압하지야, 중화민국, 코소보, 쿡 제도,\\n** 유엔 비회원국으로부터 승인을 받은 2개 국가: 아르차흐 공화국, 트란스니스트리아\\n** 어떤 나라에서도 승인 받지 않은 국가: 소말릴란드\\n\\n위 목록에 포함되지 않은 다음 국가는 몬테비데오 협약의 모든 조건을 만족하지 못하거나, 자주적이고 독립적임을 주장하지 않는 국가이다.\\n* 남극 대륙 전체는 정부와 영속 인구가 없다. 7개 국가가 남극 대륙 일부를 차지하고 있으며, 이중 5개 국가가 서로의 영유권을 인정하고 있다.  남극 조약에 따라서 규제되는 이 권리는 어떤 나라에서도 승인을 받지 않았다. \\n* EU 유럽 연합은 27개 가입 국가를 보유한 독특한 초국가 기구이다. 가입 국가는 입법권, 행정권, 사법권 기준을 유럽 연합 위원회로 이양하며, 유럽 연합은 엄밀히 말해 일반적인 주권 국가 간주와 관계 없이 주권 국가로의 특징을 가지고 있다. 유럽 연합은 주권 국가를 주장하지 않으며, 다른 나라와의 관계에서 제한된 지위를 가지고 있다.\\n* 미국과 오스트레일리아, 기타 국가에서 주 (State)라고 칭하는 행정 구역은 주 (행정 구역)을 참고하라. 이러한 하부 국가 개념의 행정 구역은 일부를 제외하고는 다른 나라와 관계를 형성하지 않는다. 예를 들어서 독일 제국의 주는 해외 영사관을 가졌으며, 소비에트 연방의 한 부분이었던 우크라이나 소비에트 사회주의 공화국 (현재의 우크라이나)과 벨로루시 소비에트 사회주의 공화국 (현재의 벨라루스)는 유엔 가입국이었다. 무엇보다 중요한 것은, 이러한 주들은 자주적이고 독립적임을 주장하지 않는다는 것이다.\\n* 몰타 기사단 몰타 기사단은 \"총회에 유효 참관국 자격으로 참여할 수 있으며, 본부에서 영속적인 지위를 유지하는 기타 국가\" 분류에 속하는 유엔 참관 국가이다.  이 단체는 104개 국가와 쌍방 외교 관계를 맺고 있으나, 로마 내의 치외 법권 영역 이외에는 일정한 영토가 없다.  단체의 웹사이트에서는 \"항상 국가에게 국제법의 독립 주체로 인정 받는다.\"고 선언하고 있다.  기사단의 헌법 에서는 다음과 같이 설명하고 있다. \"기사단은 국제법의 주체이며, 주권 기능을 행사한다.\"  기사단은 자주 주권을 주장하고 있지만, 이름에서 볼 수 있듯이 주권 국가라고 주장하지는 않는다. 다른 대사관처럼 이탈리아는 이론상 기사단과 외교 관계를 파기할 수 있으며, 이탈리아 국민이 아닌 단원을 이탈리아 영토에서 강제로 추방할 수 있다. 기사단의 단원은 모두 다른 나라의 국민이기 때문에, 사실상 이들은 모두 자신의 국가에서 살고 있으며, 로마에서 기사단의 치외 법권 영역에 거주하는 단원은 오직 공식 직무에만 연관하여 활동한다. 따라서, 기사단은 영속적인 국민의 특성이 부족하다고 볼 수 있다.\\n* 마이크로네이션으로 여겨지는 국가는 자주적이고 독립적이라고 주장하고, 다른 나라와 외교 관계를 맺고자 시도하여도 포함하지 않았다. 마이크로네이션이 정말로 점유한 영토를 지배하는지, 마이크로네이션의 '인구' 감소 빈도가 낮은 지의 여부는 논쟁이 되고 있다.\\n* ISIS 등은 다른 나라들 못지 않은 영역을 두고 있으며 스스로를 \"나라\"라고 자처하지만, 국제법상 주권이 결여되어 있으며 국제법에 위배되는 테러리즘을 일삼아 '나라'로 간주되지도 않는다. 다만 준국가로 분류한다.</td>\n",
       "      <td>위키피디아</td>\n",
       "      <td>TODO</td>\n",
       "      <td>None</td>\n",
       "      <td>나라 목록</td>\n",
       "      <td>None</td>\n",
       "      <td>None</td>\n",
       "      <td>1</td>\n",
       "    </tr>\n",
       "  </tbody>\n",
       "</table>\n",
       "</div>"
      ],
      "text/plain": [
       "                                                                                                                                                                                                                                                                                                                                                                                                                                                                                                                                                                                                                                                                                                                                                                                                                                                                                                                                                                                                                                                                                                                                                                                                                                                                                                                                                                                                                                                                                                                                                                                                                                                                                                                                                                                                                                                                                                                                                                                                                                                                                                                                                                                                                                                                                                                                                                                          text  \\\n",
       "0                                                                                                                                                                                                                                                                                                                                                                                                                                                                                                                                                                                                                                                                                                                                                                                                                                                                                                                                                                                                                                                                                                                                                                                                                                                                                                                                                                                                                                                                                                                                                                                                                                                                                                                                                                                                                                                                                                              이 문서는 나라 목록이며, 전 세계 206개 나라의 각 현황과 주권 승인 정보를 개요 형태로 나열하고 있다.\\n\\n이 목록은 명료화를 위해 두 부분으로 나뉘어 있다.\\n\\n# 첫 번째 부분은 바티칸 시국과 팔레스타인을 포함하여 유엔 등 국제 기구에 가입되어 국제적인 승인을 널리 받았다고 여기는 195개 나라를 나열하고 있다.\\n# 두 번째 부분은 일부 지역의 주권을 사실상 (데 팍토) 행사하고 있지만, 아직 국제적인 승인을 널리 받지 않았다고 여기는 11개 나라를 나열하고 있다.\\n\\n두 목록은 모두 가나다 순이다.\\n\\n일부 국가의 경우 국가로서의 자격에 논쟁의 여부가 있으며, 이 때문에 이러한 목록을 엮는 것은 매우 어렵고 논란이 생길 수 있는 과정이다. 이 목록을 구성하고 있는 국가를 선정하는 기준에 대한 정보는 \"포함 기준\" 단락을 통해 설명하였다. 나라에 대한 일반적인 정보는 \"국가\" 문서에서 설명하고 있다.   \n",
       "1  이 목록에 실린 국가 기준은 1933년 몬테비데오 협약 1장을 참고로 하였다. 협정에 따르면, 국가는 다음의 조건을 만족해야 한다.\\n* (a) 영속적인 국민\\n* (b) 일정한 영토\\n* (c) 정부\\n* (d) 타국과의 관계 참여 자격.\\n특히, 마지막 조건은 국제 공동체의 참여 용인을 내포하고 있기 때문에, 다른 나라의 승인이 매우 중요한 역할을 할 수 있다.  이 목록에 포함된 모든 국가는 보통 이 기준을 만족하는 것으로 보이는 자주적이고 독립적인 국가이다. 하지만 몬테비데오 협약 기준을 만족하는지의 여부는 많은 국가가 논쟁이 되고 있는 실정이다. 또한, 몬테비데오 협약 기준만이 국가 지위의 충분한 자격이든 아니든, 국제법의 견해 차이는 존재할 수 있다. 이 물음에 대한 다른 이론에 대한 고리는 아래에서 볼 수 있다.\\n\\n위 기준에 논거하여 이 목록은 다음 206개 국가를 포함하고 있다.\\n* 일반 국제 승인을 받은 195개 자주 국가.\\n** 유엔 가입 국가 193개\\n** 성좌의 명칭으로 유엔에서 국제 승인을 받은 국가: 바티칸 시국\\n** 팔레스타인지역에 위치하며 유엔 영구 옵서버 국가: 팔레스타인\\n* 유엔의 가입국이 아니며, 일반 국제 승인을 받지 않은 11개 자주 국가.\\n** 유엔 회원국으로부터 승인을 받은 8개 국가: 남오세티야, 니우에, 북키프로스 튀르크 공화국, 사하라 아랍 민주 공화국, 압하지야, 중화민국, 코소보, 쿡 제도,\\n** 유엔 비회원국으로부터 승인을 받은 2개 국가: 아르차흐 공화국, 트란스니스트리아\\n** 어떤 나라에서도 승인 받지 않은 국가: 소말릴란드\\n\\n위 목록에 포함되지 않은 다음 국가는 몬테비데오 협약의 모든 조건을 만족하지 못하거나, 자주적이고 독립적임을 주장하지 않는 국가이다.\\n* 남극 대륙 전체는 정부와 영속 인구가 없다. 7개 국가가 남극 대륙 일부를 차지하고 있으며, 이중 5개 국가가 서로의 영유권을 인정하고 있다.  남극 조약에 따라서 규제되는 이 권리는 어떤 나라에서도 승인을 받지 않았다. \\n* EU 유럽 연합은 27개 가입 국가를 보유한 독특한 초국가 기구이다. 가입 국가는 입법권, 행정권, 사법권 기준을 유럽 연합 위원회로 이양하며, 유럽 연합은 엄밀히 말해 일반적인 주권 국가 간주와 관계 없이 주권 국가로의 특징을 가지고 있다. 유럽 연합은 주권 국가를 주장하지 않으며, 다른 나라와의 관계에서 제한된 지위를 가지고 있다.\\n* 미국과 오스트레일리아, 기타 국가에서 주 (State)라고 칭하는 행정 구역은 주 (행정 구역)을 참고하라. 이러한 하부 국가 개념의 행정 구역은 일부를 제외하고는 다른 나라와 관계를 형성하지 않는다. 예를 들어서 독일 제국의 주는 해외 영사관을 가졌으며, 소비에트 연방의 한 부분이었던 우크라이나 소비에트 사회주의 공화국 (현재의 우크라이나)과 벨로루시 소비에트 사회주의 공화국 (현재의 벨라루스)는 유엔 가입국이었다. 무엇보다 중요한 것은, 이러한 주들은 자주적이고 독립적임을 주장하지 않는다는 것이다.\\n* 몰타 기사단 몰타 기사단은 \"총회에 유효 참관국 자격으로 참여할 수 있으며, 본부에서 영속적인 지위를 유지하는 기타 국가\" 분류에 속하는 유엔 참관 국가이다.  이 단체는 104개 국가와 쌍방 외교 관계를 맺고 있으나, 로마 내의 치외 법권 영역 이외에는 일정한 영토가 없다.  단체의 웹사이트에서는 \"항상 국가에게 국제법의 독립 주체로 인정 받는다.\"고 선언하고 있다.  기사단의 헌법 에서는 다음과 같이 설명하고 있다. \"기사단은 국제법의 주체이며, 주권 기능을 행사한다.\"  기사단은 자주 주권을 주장하고 있지만, 이름에서 볼 수 있듯이 주권 국가라고 주장하지는 않는다. 다른 대사관처럼 이탈리아는 이론상 기사단과 외교 관계를 파기할 수 있으며, 이탈리아 국민이 아닌 단원을 이탈리아 영토에서 강제로 추방할 수 있다. 기사단의 단원은 모두 다른 나라의 국민이기 때문에, 사실상 이들은 모두 자신의 국가에서 살고 있으며, 로마에서 기사단의 치외 법권 영역에 거주하는 단원은 오직 공식 직무에만 연관하여 활동한다. 따라서, 기사단은 영속적인 국민의 특성이 부족하다고 볼 수 있다.\\n* 마이크로네이션으로 여겨지는 국가는 자주적이고 독립적이라고 주장하고, 다른 나라와 외교 관계를 맺고자 시도하여도 포함하지 않았다. 마이크로네이션이 정말로 점유한 영토를 지배하는지, 마이크로네이션의 '인구' 감소 빈도가 낮은 지의 여부는 논쟁이 되고 있다.\\n* ISIS 등은 다른 나라들 못지 않은 영역을 두고 있으며 스스로를 \"나라\"라고 자처하지만, 국제법상 주권이 결여되어 있으며 국제법에 위배되는 테러리즘을 일삼아 '나라'로 간주되지도 않는다. 다만 준국가로 분류한다.   \n",
       "\n",
       "  corpus_source   url domain  title author  html document_id  \n",
       "0         위키피디아  TODO   None  나라 목록   None  None           0  \n",
       "1         위키피디아  TODO   None  나라 목록   None  None           1  "
      ]
     },
     "metadata": {},
     "output_type": "display_data"
    }
   ],
   "source": [
    "df = pd.read_json('../input/data/wikipedia_documents.json') ## pd.read_json 이용\n",
    "df = df.transpose()\n",
    "display(df.head(2))"
   ]
  },
  {
   "attachments": {},
   "cell_type": "markdown",
   "metadata": {},
   "source": [
    "### 단일 문장 예시 - index와 함께 ner 뽑아보기"
   ]
  },
  {
   "cell_type": "code",
   "execution_count": 8,
   "metadata": {},
   "outputs": [
    {
     "name": "stderr",
     "output_type": "stream",
     "text": [
      "[Kss]: Oh! You have mecab in your environment. Kss will take this as a backend! :D\n",
      "\n"
     ]
    }
   ],
   "source": [
    "sen = \"손흥민은 28세의 183 센티미터, 77 킬로그램이며, 현재 주급은 약 3억 원이다.\"\n",
    "result_ner = ner(sen)"
   ]
  },
  {
   "cell_type": "code",
   "execution_count": 182,
   "metadata": {},
   "outputs": [
    {
     "data": {
      "text/plain": [
       "[('손흥민', 'PERSON', 0),\n",
       " ('28세', 'QUANTITY', 5),\n",
       " ('183 센티미터', 'QUANTITY', 10),\n",
       " ('77 킬로그램', 'QUANTITY', 20),\n",
       " ('약 3억 원', 'QUANTITY', 38)]"
      ]
     },
     "execution_count": 182,
     "metadata": {},
     "output_type": "execute_result"
    }
   ],
   "source": [
    "ids = 0\n",
    "list_=[]\n",
    "for w,ne in result_ner:\n",
    "    if ne!='O':\n",
    "        list_.append((w,ne,ids))\n",
    "    ids+=len(w)\n",
    "list_"
   ]
  },
  {
   "cell_type": "code",
   "execution_count": 187,
   "metadata": {},
   "outputs": [
    {
     "name": "stdout",
     "output_type": "stream",
     "text": [
      "손흥민\n",
      "손흥민\n",
      "28세\n",
      "28세\n",
      "183 센티미터\n",
      "183 센티미터\n",
      "77 킬로그램\n",
      "77 킬로그램\n",
      "약 3억 원\n",
      "약 3억 원\n"
     ]
    }
   ],
   "source": [
    "for w,ne,i in list_:\n",
    "    print(w)\n",
    "    print(sen[i:i+len(w)])"
   ]
  },
  {
   "attachments": {},
   "cell_type": "markdown",
   "metadata": {},
   "source": [
    "### 단일 문장 예시 - index와 함께 ner 뽑은 결과 dict 에 담기"
   ]
  },
  {
   "cell_type": "code",
   "execution_count": 219,
   "metadata": {},
   "outputs": [
    {
     "data": {
      "text/plain": [
       "{'PERSON': [('손흥민', 0)],\n",
       " 'QUANTITY': [('28세', 5), ('183 센티미터', 10), ('77 킬로그램', 20), ('약 3억 원', 38)]}"
      ]
     },
     "execution_count": 219,
     "metadata": {},
     "output_type": "execute_result"
    }
   ],
   "source": [
    "sen = \"손흥민은 28세의 183 센티미터, 77 킬로그램이며, 현재 주급은 약 3억 원이다.\"\n",
    "result_ner = ner(sen)\n",
    "ids = 0\n",
    "dict_={}\n",
    "for w,ne in result_ner:\n",
    "    # print('--------',w,ne)\n",
    "    if ne!='O':\n",
    "        # print(dict_.get(ne,[]))\n",
    "        # list_ = dict_.get(ne,[])\n",
    "        # print(list_.append(w))\n",
    "        # dict_[ne].append(w)\n",
    "        dict_[ne] = dict_.get(ne,[]) \n",
    "        dict_[ne].append((w,ids))\n",
    "        \n",
    "        # dict_[ne] = list_.append((w,ids))\n",
    "        # print(dict_.get(ne,[]))\n",
    "        # print(dict_)\n",
    "    ids+=len(w)\n",
    "dict_"
   ]
  },
  {
   "attachments": {},
   "cell_type": "markdown",
   "metadata": {},
   "source": [
    "### pandas 예시(part) - dict에 담은 ner 결과로 column만들기"
   ]
  },
  {
   "cell_type": "code",
   "execution_count": 23,
   "metadata": {},
   "outputs": [],
   "source": [
    "def ner_dict(x):\n",
    "    result_ner = ner(x)\n",
    "    ids = 0\n",
    "    dict_={}\n",
    "    for w,ne in result_ner:\n",
    "        if ne!='O':\n",
    "            dict_[ne] = dict_.get(ne,[]) \n",
    "            dict_[ne].append((w,ids))\n",
    "        ids+=len(w)\n",
    "    return dict_\n",
    "df_ner = df.head(200).copy()\n",
    "df_ner['context_ner'] = df_ner['text'].apply(lambda x: ner_dict(x))"
   ]
  },
  {
   "cell_type": "code",
   "execution_count": 10,
   "metadata": {},
   "outputs": [
    {
     "data": {
      "text/html": [
       "<div>\n",
       "<style scoped>\n",
       "    .dataframe tbody tr th:only-of-type {\n",
       "        vertical-align: middle;\n",
       "    }\n",
       "\n",
       "    .dataframe tbody tr th {\n",
       "        vertical-align: top;\n",
       "    }\n",
       "\n",
       "    .dataframe thead th {\n",
       "        text-align: right;\n",
       "    }\n",
       "</style>\n",
       "<table border=\"1\" class=\"dataframe\">\n",
       "  <thead>\n",
       "    <tr style=\"text-align: right;\">\n",
       "      <th></th>\n",
       "      <th>text</th>\n",
       "      <th>corpus_source</th>\n",
       "      <th>url</th>\n",
       "      <th>domain</th>\n",
       "      <th>title</th>\n",
       "      <th>author</th>\n",
       "      <th>html</th>\n",
       "      <th>document_id</th>\n",
       "      <th>context_ner</th>\n",
       "    </tr>\n",
       "  </thead>\n",
       "  <tbody>\n",
       "    <tr>\n",
       "      <th>0</th>\n",
       "      <td>이 문서는 나라 목록이며, 전 세계 206개 나라의 각 현황과 주권 승인 정보를 개요 형태로 나열하고 있다.\\n\\n이 목록은 명료화를 위해 두 부분으로 나뉘어 있다.\\n\\n# 첫 번째 부분은 바티칸 시국과 팔레스타인을 포함하여 유엔 등 국제 기구에 가입되어 국제적인 승인을 널리 받았다고 여기는 195개 나라를 나열하고 있다.\\n# 두 번째 부분은 일부 지역의 주권을 사실상 (데 팍토) 행사하고 있지만, 아직 국제적인 승인을 널리 받지 않았다고 여기는 11개 나라를 나열하고 있다.\\n\\n두 목록은 모두 가나다 순이다.\\n\\n일부 국가의 경우 국가로서의 자격에 논쟁의 여부가 있으며, 이 때문에 이러한 목록을 엮는 것은 매우 어렵고 논란이 생길 수 있는 과정이다. 이 목록을 구성하고 있는 국가를 선정하는 기준에 대한 정보는 \"포함 기준\" 단락을 통해 설명하였다. 나라에 대한 일반적인 정보는 \"국가\" 문서에서 설명하고 있다.</td>\n",
       "      <td>위키피디아</td>\n",
       "      <td>TODO</td>\n",
       "      <td>None</td>\n",
       "      <td>나라 목록</td>\n",
       "      <td>None</td>\n",
       "      <td>None</td>\n",
       "      <td>0</td>\n",
       "      <td>{'QUANTITY': [('206개', 20), ('두 부분', 75), ('첫 번째', 92), ('195개', 159), ('두 번째', 179), ('11개', 247), ('두 목록', 264)], 'LOCATION': [('바티칸', 101), ('팔레스타인', 109)], 'ORGANIZATION': [('유엔', 121)], 'CIVILIZATION': [('주권', 195), ('데 팍토', 204)]}</td>\n",
       "    </tr>\n",
       "    <tr>\n",
       "      <th>1</th>\n",
       "      <td>이 목록에 실린 국가 기준은 1933년 몬테비데오 협약 1장을 참고로 하였다. 협정에 따르면, 국가는 다음의 조건을 만족해야 한다.\\n* (a) 영속적인 국민\\n* (b) 일정한 영토\\n* (c) 정부\\n* (d) 타국과의 관계 참여 자격.\\n특히, 마지막 조건은 국제 공동체의 참여 용인을 내포하고 있기 때문에, 다른 나라의 승인이 매우 중요한 역할을 할 수 있다.  이 목록에 포함된 모든 국가는 보통 이 기준을 만족하는 것으로 보이는 자주적이고 독립적인 국가이다. 하지만 몬테비데오 협약 기준을 만족하는지의 여부는 많은 국가가 논쟁이 되고 있는 실정이다. 또한, 몬테비데오 협약 기준만이 국가 지위의 충분한 자격이든 아니든, 국제법의 견해 차이는 존재할 수 있다. 이 물음에 대한 다른 이론에 대한 고리는 아래에서 볼 수 있다.\\n\\n위 기준에 논거하여 이 목록은 다음 206개 국가를 포함하고 있다.\\n* 일반 국제 승인을 받은 195개 자주 국가.\\n** 유엔 가입 국가 193개\\n** 성좌의 명칭으로 유엔에서 국제 승인을 받은 국가: 바티칸 시국\\n** 팔레스타인지역에 위치하며 유엔 영구 옵서버 국가: 팔레스타인\\n* 유엔의 가입국이 아니며, 일반 국제 승인을 받지 않은 11개 자주 국가.\\n** 유엔 회원국으로부터 승인을 받은 8개 국가: 남오세티야, 니우에, 북키프로스 튀르크 공화국, 사하라 아랍 민주 공화국, 압하지야, 중화민국, 코소보, 쿡 제도,\\n** 유엔 비회원국으로부터 승인을 받은 2개 국가: 아르차흐 공화국, 트란스니스트리아\\n** 어떤 나라에서도 승인 받지 않은 국가: 소말릴란드\\n\\n위 목록에 포함되지 않은 다음 국가는 몬테비데오 협약의 모든 조건을 만족하지 못하거나, 자주적이고 독립적임을 주장하지 않는 국가이다.\\n* 남극 대륙 전체는 정부와 영속 인구가 없다. 7개 국가가 남극 대륙 일부를 차지하고 있으며, 이중 5개 국가가 서로의 영유권을 인정하고 있다.  남극 조약에 따라서 규제되는 이 권리는 어떤 나라에서도 승인을 받지 않았다. \\n* EU 유럽 연합은 27개 가입 국가를 보유한 독특한 초국가 기구이다. 가입 국가는 입법권, 행정권, 사법권 기준을 유럽 연합 위원회로 이양하며, 유럽 연합은 엄밀히 말해 일반적인 주권 국가 간주와 관계 없이 주권 국가로의 특징을 가지고 있다. 유럽 연합은 주권 국가를 주장하지 않으며, 다른 나라와의 관계에서 제한된 지위를 가지고 있다.\\n* 미국과 오스트레일리아, 기타 국가에서 주 (State)라고 칭하는 행정 구역은 주 (행정 구역)을 참고하라. 이러한 하부 국가 개념의 행정 구역은 일부를 제외하고는 다른 나라와 관계를 형성하지 않는다. 예를 들어서 독일 제국의 주는 해외 영사관을 가졌으며, 소비에트 연방의 한 부분이었던 우크라이나 소비에트 사회주의 공화국 (현재의 우크라이나)과 벨로루시 소비에트 사회주의 공화국 (현재의 벨라루스)는 유엔 가입국이었다. 무엇보다 중요한 것은, 이러한 주들은 자주적이고 독립적임을 주장하지 않는다는 것이다.\\n* 몰타 기사단 몰타 기사단은 \"총회에 유효 참관국 자격으로 참여할 수 있으며, 본부에서 영속적인 지위를 유지하는 기타 국가\" 분류에 속하는 유엔 참관 국가이다.  이 단체는 104개 국가와 쌍방 외교 관계를 맺고 있으나, 로마 내의 치외 법권 영역 이외에는 일정한 영토가 없다.  단체의 웹사이트에서는 \"항상 국가에게 국제법의 독립 주체로 인정 받는다.\"고 선언하고 있다.  기사단의 헌법 에서는 다음과 같이 설명하고 있다. \"기사단은 국제법의 주체이며, 주권 기능을 행사한다.\"  기사단은 자주 주권을 주장하고 있지만, 이름에서 볼 수 있듯이 주권 국가라고 주장하지는 않는다. 다른 대사관처럼 이탈리아는 이론상 기사단과 외교 관계를 파기할 수 있으며, 이탈리아 국민이 아닌 단원을 이탈리아 영토에서 강제로 추방할 수 있다. 기사단의 단원은 모두 다른 나라의 국민이기 때문에, 사실상 이들은 모두 자신의 국가에서 살고 있으며, 로마에서 기사단의 치외 법권 영역에 거주하는 단원은 오직 공식 직무에만 연관하여 활동한다. 따라서, 기사단은 영속적인 국민의 특성이 부족하다고 볼 수 있다.\\n* 마이크로네이션으로 여겨지는 국가는 자주적이고 독립적이라고 주장하고, 다른 나라와 외교 관계를 맺고자 시도하여도 포함하지 않았다. 마이크로네이션이 정말로 점유한 영토를 지배하는지, 마이크로네이션의 '인구' 감소 빈도가 낮은 지의 여부는 논쟁이 되고 있다.\\n* ISIS 등은 다른 나라들 못지 않은 영역을 두고 있으며 스스로를 \"나라\"라고 자처하지만, 국제법상 주권이 결여되어 있으며 국제법에 위배되는 테러리즘을 일삼아 '나라'로 간주되지도 않는다. 다만 준국가로 분류한다.</td>\n",
       "      <td>위키피디아</td>\n",
       "      <td>TODO</td>\n",
       "      <td>None</td>\n",
       "      <td>나라 목록</td>\n",
       "      <td>None</td>\n",
       "      <td>None</td>\n",
       "      <td>1</td>\n",
       "      <td>{'DATE': [('1933년', 16)], 'ORGANIZATION': [('몬테비데오 협약', 22), ('정부', 107), ('몬테비데오', 312), ('유엔', 473), ('유엔', 499), ('유엔', 542), ('유엔', 564), ('유엔', 608), ('유엔', 701), ('몬테비데오 협약', 798), ('정부', 864), ('남극 조약', 934), ('EU 유럽 연합', 979), ('유럽 연합 위원회', 1043), ('유럽 연합', 1060), ('유럽 연합', 1115), ('독일 제국', 1290), ('유엔', 1395), ('몰타 기사단', 1456), ('몰타 기사단', 1463), ('유엔', 1533), ('ISIS', 2148)], 'QUANTITY': [('1장', 31), ('a', 77), ('(b', 90), ('206개', 425), ('195개', 458), ('193개', 482), ('11개', 594), ('8개', 626), ('2개 국가', 720), ('7개', 879), ('5개', 909), ('27개', 989), ('104개', 1551)], 'CIVILIZATION': [('국민', 85), ('몬테비데', 261), ('국제법', 347), ('옵서버', 548), ('회원', 611), ('영유권', 920), ('입법권', 1025), ('행정권', 1030), ('사법권', 1035), ('주권', 1079), ('주권', 1095), ('국제법', 1631), ('헌법', 1667), ('국제법', 1696), ('주권', 1729), ('주권', 1756), ('국민', 1822), ('단원', 1829), ('단원', 1862), ('국민', 1876), ('단원', 1939), ('국민', 1980), ('국제법', 2199), ('주권', 2204), ('국제법', 2217)], 'TERM': [('아래', 392)], 'LOCATION': [('바티칸', 518), ('팔레스타인', 528), ('팔레스타인', 556), ('남오세티야', 633), ('북키프로스 튀르크 공화국', 645), ('사하라', 660), ('아랍 민주 공화국', 664), ('압하지야', 675), ('소말릴란드', 771), ('남극', 854), ('남극', 886), ('소비에트 사회주의 공화국', 1337), ('벨로루시', 1364), ('소비에트 사회주의 공화국', 1369)], 'COUNTRY': [('니우에', 640), ('중화민국', 681), ('코소보', 687), ('쿡 제도', 692), ('아르차흐 공화국', 727), ('트란스니스트리아', 737), ('미국', 1170), ('오스트레일리아', 1174), ('소비에트 연방', 1314), ('우크라이나', 1331), ('우크라이나', 1356), ('벨라루스', 1388), ('이탈리아', 1784), ('이탈리아', 1817), ('이탈리아', 1833)], 'CITY': [('로마', 1578), ('로마', 1914)], 'THEORY': [('마이크로네이션', 2004), ('마이크로네이션', 2076), ('마이크로네이션', 2104), ('테러리즘', 2227)]}</td>\n",
       "    </tr>\n",
       "    <tr>\n",
       "      <th>2</th>\n",
       "      <td>현 서울특별시 종로구 서린동 (구 일제 강점기 경기도 경성부 서린정) 출신이다. 친일파인 아버지 백낙승과 어머니 조종희 사이의 3남 2녀 중 막내로 태어났다. 그후 종로구 창신동 197번지 소위 \"큰대문집\"에서 18세까지 살았다. 수송국민학교와 경기제1고등보통학교를 다니면서 피아니스트 신재덕에게 피아노 연주를, 작이건우]]에게 작곡을 각각 배웠다. 이때 한국이 낳은 작곡가 김순남을 사사했다. 1949년 그는 홍콩 로이덴 스쿨로 전학했으며, 한국 전쟁이 발발하기 이전 가족이 일본으로 이주했다. 그 후 일본으로 건너가 1952년 도쿄 대학교 문과부에 입학했다. 2년 후 미술사학 및 미학으로 전공을 정했지만, 실제로는 일본 당대의 작곡가 모로이 사부로, 미학자 노무라 요시오 등에게서 작곡과, 음악사학을 공부했다. 졸업 논문은 ‘아르놀트 쇤베르크 연구’이다.\\n\\n1956년 백남준은 졸업과 함께 독일로 유학을 떠나 뮌헨 대학교 및 쾰른 대학교 등에서 서양의 건축, 음악사, 철학 등을 공부하였다. 뮌헨 대학교 입학 1년 후에는 프라이부르크 국립 음악 대학교로 옮겨 볼프강 포르트너 교수에게 배우지만, 곧 쇤베르크 이후 현대음악의 실험이 활발히 진행되던 다름슈타트 하기 강좌에 참여했다. 1958년 그 곳에서 현대음악가 존 케이지를 만나 그의 음악에 대한 파괴적 접근과 자유정신으로부터 깊은 영감을 얻었다. 이 영감은 \"세계의 역사는 우리에게 알려준다. 주어진 게임에서 이길 수 없다면 규칙을 바꿔라\" 라는 것으로 규정된다. 이후 1950년대부터 활발해지기 시작한 독일 라인 지역의 액션뮤직의 현장에서 백남준은 ‘아시아에서 온 문화테러리스트’(앨런 카프로)라고 불릴 정도의 탁월한 퍼포먼스 아티스트로 활약했다. 1959년 ‘존 케이지에게 보내는 경의’에서 음악적 콜라주와 함께 피아노를 부수는 퍼포먼스를 선보이는 것을 시작으로, 바이올린을 단숨에 파괴하거나(바이올린 솔로) 존 케이지가 착용한 넥타이를 잘라버리는 퍼포먼스(피아노 포르테를 위한 연습곡)가 특히 유명하다. 이 초기 퍼포먼스에 대해 백남준은 스스로 \"충격, 표현주의, 낭만주의, 클라이맥스, 놀라움, 기타 등등을 보여준 것\"이라고 표현한 바 있다. 1961년 카를하인츠 슈토크하우젠의 음악 퍼포먼스 ‘오리기날레’에서 머리와 넥타이로 잉크를 묻혀 두루마리에 흔적을 남기는 독특한 퍼포먼스 심플 머리를 위한 선율을 보여주기도 했다. 1960년대 초반 조지 마키우나스, 요셉 보이스 등과 의기투합하여 플럭서스 활동을 함께 전개했다. 다다이즘에 영향을 받은 플럭서스는 헤라클레이투스가 주장한 ‘변화 생성의 흐름’ 이라는 개념을 받아들여 \"목적이 없는 자유, 실험을 위한 실험\"이라는 명목 하에 이벤트와 퍼포먼스 그리고 전위음악에 주력했고, 곧 유럽과 아시아 및 미국 등 세계로 퍼져나갔다.\\n\\n1961년 백남준은 작곡가 슈토크하우젠이 중심이 된 쾰른의 WDR 전자음악 스튜디오에 출입했으며, 이때 1950년대부터 노버트 위너에 의해 제안된 '사이버네틱스' 개념 하에서 전자공학을 공부한 것으로 알려져 있다. 특히 레이다와 TV 작업에 몰두했던 독일 작가 칼 오토 괴츠의 실패를 거울 삼아서 2년여 동안 홀로 TV를 활용한 미디어 아트로서의 가능성을 탐문하고 실험했다. 그 성과를 바탕으로 1963년 독일 부퍼탈 파르나스 갤러리에서 자신의 첫 번째 전시 ‘음악의 전시-전자 텔레비전’을 열었으며, 13대의 실험적인 TV를 통해 훗날 비디오 아트라고 불리게 되는 초기 형태를 보여주었다. 이 전시는 백남준이 자신의 즉흥음악 또는 무음악의 발상에 기초한 실제 퍼포먼스, 그 흔적과 결과물처럼 유럽에서 자신이 진행해온 작업의 성과와 함께 TV를 비롯한 미디어로 새로운 예술의 형태를 시도하는 작업이 공존하고 있었다. ‘적분된 피아노’, ‘랜덤 액세스 뮤직’, ‘레코드 샤슐릭’같은 20세기 전위음악에 젖줄을 대고 있는 실험적 음악의 시도와 ‘잘린 소머리’, ‘파괴된 누드 마네킹’, ‘보이스의 피아노 파괴 퍼포먼스’'걸음을 위한 선' '바람을 위한 선' 같은 우상파괴적 설치 작업 및 참여예술 형태의 퍼포먼스가 함께 펼쳐졌다. 청년 백남준은 이러한 전시 내용을 ‘동시성’, ‘참여’, ‘임의접속’ 등등에 관한 16개의 테마로써 정리하는 종합적인 큐레이팅 전시로 보여주었기 때문에 최근날짜=2015-5-9 독일, 오스트리아 등지의 연구자들 사이에서 이 전시의 중요성을 재평가하면서 아카이빙 작업과 연구가 점차 활발해지는 추세에 있다.\\n\\n1964년 백남준은 일본으로 건너가 '로봇 K-456'을 제작했으며, 곧 세계 예술의 중심지 뉴욕으로 이주했다. 뉴욕 언더그라운드 필름 운동의 중심지 중 하나였던 시네마테크 필름메이커스에 관여했으며, 스스로 영상 작업을 진행하기도 했다. 1965년 소니의 포타팩(세계 최초의 휴대용 비디오카메라)으로 미국 뉴욕을 첫 방문 중이던 교황 요한 바오로 6세를 촬영하여 곧바로 그 영상을 ‘카페 오 고고’에서 방영했다. 이것이 미술사에서는 한동안 공식적인 비디오 아트의 시작으로 기록되어 있었다. 지금은 1963년 첫번째 전시를 비디오아트의 기점으로 보고 있다. 또한 첼로 연주자이자 뉴욕 아방가르드 페스티벌의 기획자였던 샬럿 무어먼과 함께 비디오 아트와 음악을 혼합한 퍼포먼스 작업을 활발히 펼쳤다. 특히 1967년 음악에 성적인 코드를 집어넣은 백남준의 ‘오페라 섹스트로니크’에서 샬럿 무어먼은 누드 상태의 첼로 연주를 시도하다가 뉴욕 경찰에 체포되어 큰 사회적 파장을 불러일으켰다. 그 결과로 인해 예술 현장에서 누드를 처벌할 수 없다는 뉴욕의 법 개정이 이루어지는 획기적인 진전이 일어난다. 이후에도 미디어 아트가 미국 뉴욕을 중심으로 서서히 득세해가는 시대적 조류 속에서 두 사람은 ‘살아있는 조각을 위한 TV 브라’, ‘TV 첼로’, ‘TV 침대’ 등등 미디어 테크놀로지와 퍼포먼스를 결합한 많은 예술활동을 전개했다.\\n\\n1974년부터 백남준은 영상으로서의 비디오 아트를 새로운 미술적 방법인 설치 미술로 변환하여 다양하게 진행했으며, 그에 따라 ‘TV 붓다’, ‘달은 가장 오래된 TV다’, ‘TV 정원’, ‘TV 물고기’ 등등 많은 대표작을 선보였다. 이 작품들은 비디오 아트와 생명의 상징을 전자적으로 결합하여 테크놀로지로 물든 현대 사회의 새로운 합성적 생명력을 추구했다는 평판을 얻었다. 특히 'TV 붓다'는 그의 초기 비디오 설치의 경향을 잘 보여주는 대표작으로서 가장 널리 알려졌다. 1960년대 후반부터 미국의 문화적 환경이 미디어 테크놀로지에 호의적으로 변화하면서 폭발적인 수준의 미디어 전시가 빈발했고, 백남준의 비디오 아트는 그룹전 형태로 수많은 전시에 활발하게 참여했다. 1974년 뉴욕 에버슨 미술관 개인전과 함께 비데아 앤 비디올로지: 1959-1973이라는 예술과 기술을 교차시키는 하이브리드에 관한 저작을 내놓아 미디아 아트의 이해를 도왔으며, 1982년 뉴욕 휘트니 미술관에서 개최된 ‘백남준 회고전’을 통해 그의 예술 세계가 뉴욕을 중심으로 미국 사회에 많이 알려지는 계기가 되었다.\\n\\n1970년대 중반부터는 뉴욕 WNET 방송국, 보스턴 WGBH 방송국과 협력하여 자신의 비디오 아트를 공중파 TV에서 방송했고, 이는 네트워크 방송을 끌어들여 예술 세계의 영역 확장을 꾀한 놀라운 시도였다. 나아가 1984년 1월 1일 ‘굿모닝 미스터 오웰’은 세계적인 아티스트들의 퍼포먼스를 뉴욕 WNET 방송국과 파리 퐁피두 센터를 연결한 실시간 위성 생중계로 방송하여 전 세계적 반향을 불러일으켰다. 샌프란시스코와 서울까지 연결된 이 국제적인 규모의 위성 아트에는 로리 앤더슨, 피터 가브리엘, 오잉고 보잉고, 존 케이지, 요셉 보이스, 앨런 긴즈버그, 이브 몽탕 등의 예술가과 대중문화의 스타가 다수 참여했으며, 전 세계 2천 5백만명(재방송 포함)이 시청하였다. 이로써 전세계적인 차원의 대중적 각인이 이루어졌고, 마치 대중스타처럼 성가를 높였다. 이후에도 ‘위성 아트’ 3부작으로 명명된 ‘바이 바이 키플링’(1986), ‘손에 손잡고’(1988) 등이 이어져 위성 연결을 통한 전세계의 네트워크가 어떻게 새로운 부족사회를 낳는지 실감시켰다.\\n\\n1984년 일본 도쿄 소게쓰[草月]홀에서 백남준과 요셉 보이스가 공동으로 참여한 퍼포먼스 '코요테 콘서트 II'가 펼쳐졌으며, 이들이 각각 몽골의 늑대 울음소리와 초원의 달빛을 음악적으로 표현한 것을 통해 1961년 첫 만남부터 계속 이어온 공동의 관심사가 무엇인지 알려지기 시작했다. 그러나 이들의 이후 퍼포먼스 계획은 요셉 보이스의 죽음과 함께 미완으로 끝났다.\\n\\n1992년 '비디오 때, 비디오 땅' 전시는 독일 쿤스트 할레와 스위스 쮜리히에서 진행된 전시의 서울 투어전시로서 당시 과천 막계동에 자리잡은 지 몇 년 되지 않았던 국립현대미술관 과천관에 총 관람 인원 20만명이 찾은 첫번째 전시로 기록되었다. 이 전시의 주요한 작품은 '나의 파우스트' 시리즈이다. 1993년 백남준은 독일 작가 한스 하케와 함께 베니스 비엔날레 독일관 작가로 초대되어 국가전시관 부문에서 황금사자상을 수상했다. '문명의 동서남북'이라는 주제의 이 전시에서 그는 북방 유라시아의 유목 문화를 배경으로 전자적 소통을 시도하는 비디오 로봇 형태의‘칭기스칸의 복권’, ‘마르크폴로’, ‘훈족의 왕 아틸라’,‘스키타이의 왕 단군’, ‘로봇 전사’, ‘고대기마인물상’ 같은 작품들을 중심으로 다수의 작품을 내놓았다.\\n\\n1995년 백남준은 제1회 광주 비엔날레 태동의 산파 역할을 하며, 한국 미술이 국제적으로 진출할 수 있도록 조력자 역할을 수행했다. 제1회 광주 비엔날레는 국내외 총 관람객이 160만 명에 달하는 성공을 거두었고, 특히 백남준이 직접 관여한 ‘INFO Art’전이 주목받았다. 또한 백남준은 같은 해 베니스 비엔날레 국가전시관 부문에 한국관을 설치하는 일에 결정적인 역할을 했다. 이로써 한국 미술이 세계 미술계에 진출하는 교두보가 마련되었다고 하겠다. 같은 해 그의 예술적 정수가 담긴 일렉트로닉 수퍼하이웨이 전시를 진행했다. 1996년 4월 9일 뇌졸중으로 쓰러졌으며, 6개월만인 그해 10월에 재기했다. 2000년 뉴욕 구겐하임 미술관에서 ‘백남준의 세계’ 라는 대규모 회고전이 열렸으며, 이때 백남준은 레이저 아트 ‘야곱의 사다리’, ‘삼원소’ 등을 전시한 바 있다.\\n\\n2006년 1월 29일, 미국 마이애미의 자택에서 노환으로 75세로 별세, 유해가 서울, 뉴욕, 독일에 나눠서 안치되었다.</td>\n",
       "      <td>위키피디아</td>\n",
       "      <td>TODO</td>\n",
       "      <td>None</td>\n",
       "      <td>백남준</td>\n",
       "      <td>None</td>\n",
       "      <td>None</td>\n",
       "      <td>2</td>\n",
       "      <td>{'CITY': [('서울특별시', 2), ('홍콩', 230), ('쾰른', 1396), ('뉴욕', 2221), ('뉴욕', 2232), ('뉴욕', 2340), ('뉴욕', 2492), ('뉴욕', 2632), ('뉴욕', 2693), ('뉴욕', 2740), ('뉴욕', 3235), ('뉴욕', 3336), ('뉴욕', 3377), ('뉴욕', 3423), ('보스턴', 3436), ('뉴욕', 3574), ('파리', 3587), ('샌프란시스코', 3637), ('서울', 3645), ('도쿄', 3953), ('서울', 4203), ('뉴욕', 4904), ('마이애미', 5008), ('서울', 5037), ('뉴욕', 5041)], 'LOCATION': [('종로구', 8), ('서린동', 12), ('경기도', 26), ('경성부', 30), ('서린정', 34), ('종로구', 92), ('창신동', 96), ('서양', 475), ('라인', 765), ('아시아', 789), ('유럽', 1341), ('아시아', 1345), ('유럽', 1755), ('쿤스트 할레', 4177), ('쮜리히', 4189), ('과천', 4216), ('막계동', 4219), ('유라시아', 4422)], 'DATE': [('일제 강점기', 19), ('1949년', 221), ('1952년', 291), ('2년 후', 315), ('1956년', 426), ('1년 후', 511), ('1958년', 607), ('1950년대부터', 743), ('1959년', 844), ('1961년', 1068), ('1960년대 초반', 1169), ('1961년', 1367), ('1950년대부터', 1425), ('2년여 동안', 1533), ('1963년', 1588), ('20세기', 1860), ('2015-5-9', 2088), ('1964년', 2169), ('1965년', 2302), ('1963년', 2447), ('1967년', 2561), ('1974년부터', 2853), ('1960년대 후반부터', 3119), ('1974년', 3229), ('1959-1973', 3267), ('1982년', 3330), ('1970년대 중반부터', 3410), ('1984년 1월 1일', 3530), ('1986', 3869), ('1988', 3885), ('1984년', 3944), ('1961년', 4059), ('1992년', 4149), ('1993년', 4318), ('1995년', 4556), ('같은 해', 4720), ('같은 해', 4811), ('1996년 4월 9일', 4853), ('6개월만', 4878), ('그해 10월', 4884), ('2000년', 4898), ('2006년 1월 29일', 4991)], 'CIVILIZATION': [('친일파', 45), ('아버지', 50), ('어머니', 59), ('막내', 79), ('가족', 263), ('미학자', 367), ('현대음악가', 619), ('영감', 676), ('문화테러리스트', 797), ('아티스트', 832), ('넥타이', 946), ('넥타이', 1110), ('연구자', 2111), ('교황', 2353), ('기획자', 2507), ('아티스트', 3561), ('대중스타', 3818), ('황금사자상', 4378), ('조력자', 4617), ('관람객', 4650)], 'PERSON': [('백낙승', 54), ('조종희', 63), ('신재덕', 160), ('작이건우', 175), ('김순남', 210), ('모로이 사부로', 358), ('노무라 요시오', 371), ('백남준', 432), ('볼프강 포르트너', 539), ('쇤베르크', 561), ('존 케이지', 625), ('백남준', 783), ('앨런 카프로', 806), ('존 케이지', 935), ('백남준', 1003), ('카를하인츠 슈토크하우젠', 1074), ('조지 마키우나스', 1179), ('요셉 보이스', 1189), ('플럭서스', 1237), ('헤라클레이투스', 1243), ('백남준', 1373), ('슈토크하우젠', 1382), ('노버트 위너', 1434), ('칼 오토 괴츠', 1513), ('백남준', 1704), ('백남준', 2001), ('백남준', 2175), ('요한 바오로', 2356), ('샬럿 무어먼', 2513), ('백남준', 2584), ('샬럿 무어먼', 2604), ('백남준', 2861), ('백남준', 3189), ('로리 앤더슨', 3673), ('피터 가브리엘', 3681), ('오잉고 보잉고', 3690), ('존 케이지', 3699), ('요셉 보이스', 3706), ('앨런 긴즈버그', 3714), ('이브 몽탕', 3723), ('백남준', 3967), ('요셉 보이스', 3972), ('요셉 보이스', 4124), ('백남준', 4324), ('한스 하케', 4335), ('백남준', 4562), ('백남준', 4680), ('백남준', 4715), ('백남준', 4949)], 'QUANTITY': [('3남 2녀', 71), ('197번지', 100), ('18세', 118), ('첫 번째', 1616), ('13대', 1648), ('16개', 2044), ('하나', 2255), ('6세', 2363), ('첫번째', 2453), ('두 사람', 2770), ('2천 5백만명', 3762), ('3부작', 3847), ('20만명', 4263), ('첫번째', 4272), ('제1회', 4567), ('제1회', 4631), ('160만 명', 4655), ('75세', 5024)], 'ARTIFACT': [('큰대문', 110), ('피아노', 166), ('아르놀트 쇤베르크 연구', 409), ('존 케이지에게 보내는 경의', 851), ('피아노', 881), ('바이올린', 910), ('바이올린', 926), ('피아노', 962), ('기타', 1041), ('오리기날레', 1097), ('부퍼탈 파르나스 갤러리', 1597), ('적분된 피아노', 1825), ('랜덤 액세스 뮤직', 1836), ('레코드 샤슐릭', 1849), ('잘린 소머리', 1894), ('파괴된 누드 마네킹', 1904), ('보이스의 피아노', 1918), ('걸음을 위한 선', 1936), ('바람을 위한 선', 1947), ('로봇 K-456', 2190), ('포타팩', 2312), ('카페 오 고고', 2383), ('첼로', 2483), ('오페라 섹스트로니크', 2590), ('첼로', 2619), ('살아있는 조각을 위한', 2777), ('TV 브라', 2789), ('TV 첼로', 2798), ('TV 침대', 2807), ('TV 붓다', 2924), ('달은 가장 오래된 TV다', 2933), ('TV 정원', 2950), ('TV 물고기', 2959), ('TV 붓다', 3067), ('에버슨 미술관', 3238), ('비데아 앤 비디올로지', 3254), ('휘트니 미술관', 3339), ('굿모닝 미스터 오웰', 3543), ('바이 바이 키플링', 3858), ('손에 손잡고', 3877), ('소게쓰[草月]홀', 3956), ('국립현대미술관 과천관', 4242), ('나의 파우스트', 4302), ('칭기스칸의 복권', 4464), ('마르크폴로', 4476), ('훈족의 왕 아틸라', 4485), ('스키타이의 왕 단군', 4497), ('로봇 전사', 4511), ('고대기마인물상', 4520), ('구겐하임 미술관', 4907), ('야곱의 사다리', 4962), ('삼원소', 4973)], 'ORGANIZATION': [('수송국민학교', 129), ('경기제1고등보통학교', 137), ('로이덴 스쿨', 233), ('도쿄 대학교', 297), ('뮌헨 대학교', 455), ('쾰른 대학교', 464), ('뮌헨 대학교', 501), ('프라이부르크 국립 음악 대학교', 518), ('WDR', 1400), ('시네마테크 필름메이커스', 2260), ('소니', 2308), ('경찰', 2635), ('WNET 방송국', 3426), ('WGBH 방송', 3440), ('WNET 방송국', 3577), ('퐁피두 센터', 3590), ('독일', 4354)], 'OCCUPATION': [('피아니스트', 154), ('작곡가', 206), ('작곡가', 354), ('교수', 548), ('작곡가', 1378), ('작가', 1510), ('연주자', 2486), ('예술가', 3732), ('스타', 3743), ('작가', 4332), ('작가', 4358)], 'COUNTRY': [('한국', 199), ('일본', 267), ('일본', 282), ('일본', 347), ('독일', 444), ('독일', 762), ('미국', 1351), ('독일', 1507), ('독일', 1594), ('독일', 2097), ('오스트리아', 2101), ('일본', 2180), ('미국', 2337), ('미국', 2737), ('미국', 3131), ('미국', 3386), ('일본', 3950), ('몽골', 4022), ('독일', 4174), ('스위스', 4185), ('독일', 4329), ('한국', 4594), ('한국', 4744), ('한국', 4774), ('미국', 5005), ('독일', 5045)], 'EVENT': [('한국 전쟁', 248), ('다름슈타트 하기', 588), ('아방가르드 페스티벌', 2495), ('백남준 회고', 3354), ('코요테 콘서트 II', 3995), ('비디오 때, 비디오 땅', 4156), ('베니스 비엔날레', 4345), ('광주 비엔날레', 4571), ('광주 비엔날레', 4635), ('INFO Art', 4693), ('베니스 비엔날레', 4725), ('백남준의 세계', 4919)], 'STUDY_FIELD': [('미술사학', 320), ('미학', 327), ('음악사학', 389), ('건축', 479), ('음악사', 483), ('철학', 488), ('현대음악', 569), ('액션뮤직', 772), ('전자음', 1404), ('전자공학', 1465), ('비디오 아트', 1668), ('미술사', 2404), ('비디오 아트', 2420), ('비디오아트', 2461), ('비디오 아트', 2524), ('미디어 아트', 2729), ('미디어 테크놀로지', 2817), ('비디오 아트', 2873), ('설치 미술', 2893), ('비디오 아트', 2991), ('미', 3143), ('디어 테크놀로지', 3144), ('비디오 아트', 3194), ('미디아 아트', 3312), ('비디오 아트', 3459), ('위성 아트', 3665), ('위성 아트', 3840), ('미술', 4597), ('미술', 4777), ('일렉트로', 4830), ('레이저 아트', 4954)], 'THEORY': [('표현주의', 1017), ('낭만주의', 1023), ('다다이즘', 1224)], 'ANIMAL': [('머리', 1106), ('머리', 1148), ('늑대', 4026)], 'TERM': [('레이다', 1490), ('TV', 1495), ('TV', 1543), ('음악의 전시-전자 텔레비전', 1625), ('TV', 1658), ('TV', 1780), ('휴대용', 2323), ('비디오카메라', 2327), ('비디오', 3081), ('TV', 3471), ('위성', 3898), ('동서남북', 4396), ('북방', 4419), ('비디오', 4453), ('로봇', 4457)], 'DISEASE': [('뇌졸중', 4865)]}</td>\n",
       "    </tr>\n",
       "    <tr>\n",
       "      <th>3</th>\n",
       "      <td>아오조라 문고(靑空文庫, あおぞらぶんこ|아오조라 분고)는 ‘일본어판 구텐베르크 프로젝트’로 불리는 일본의 인터넷 전자도서관으로, 저작권이 풀린 문학작품을 수집, 전자문서화해서 인터넷에 공개하고 있다. 저자 사후 50년이 지난 메이지, 쇼와 시대 초기의 일본 문학 작품이 그 대부분을 차지하고 있고, 일본어 외 문학 작품의 일본어 번역 작품도 다수 있다. 1997년 2월 도미타 미치오, 노구치 에이치, 야마키 미에, 란무로 사테이 등 4명이 창설하여 시작되었다.  2016년 연간 방문객수는 940만 건 이상이다. \\n\\n아오조라 문고에 수록된 작품은 JIS X 0208에 해당되는 한자 범위 내에서 자원봉사자에 의해 아오조라 문고 형식 텍스트파일이나 HTML 파일로 전자화된다. 또 아오조라 문고 수록파일 취급기준에 따라 자유롭게 이용할 수 있기 때문에, 수록된 작품을 PC는 물론 PDA와 휴대전화로도 볼 수 있다. 텍스트 파일을 큰 글자로 인쇄하거나 전용 소프트웨어에 불러들여 시각장애인용으로 이용하는 방안도 기대되고 있다. 아오조라 문고의 열람 소프트웨어는 따로 개발 및 제공되고 있는 것은 없지만, 전자사전이나 아이폰용 어플리케이션 등은 타사에서 개발하여 출시되어 있다</td>\n",
       "      <td>위키피디아</td>\n",
       "      <td>TODO</td>\n",
       "      <td>None</td>\n",
       "      <td>아오조라 문고</td>\n",
       "      <td>None</td>\n",
       "      <td>None</td>\n",
       "      <td>3</td>\n",
       "      <td>{'ORGANIZATION': [('아오조라 문고', 0), ('아오조라 분고', 22), ('아오조라 문고', 287), ('아오조라 문', 378), ('아오조라 문고', 516)], 'TERM': [('일본어판', 33), ('구텐베르크 프로젝트', 38), ('HTML', 360), ('PC', 427), ('PDA', 434), ('휴대전화', 439)], 'COUNTRY': [('일본', 55), ('일본', 141)], 'CIVILIZATION': [('저작권', 72), ('일본어', 167), ('일본어', 180), ('방문객', 268), ('한자', 321), ('자원봉사자', 331), ('시각장애인', 489)], 'OCCUPATION': [('저자', 112)], 'DATE': [('50년', 118), ('쇼와 시대 초', 131), ('1997년 2월', 198), ('2016년', 259), ('연간', 265)], 'PERSON': [('메이지', 126), ('도미타 미치오', 207), ('노구치 에이치', 216), ('야마키 미에', 225), ('란무로 사테이', 233)], 'STUDY_FIELD': [('문학', 144), ('문학', 173)], 'QUANTITY': [('4명', 243), ('940만 건 이상', 274)], 'ARTIFACT': [('JIS X 0208', 304), ('아오조라', 341), ('아이폰', 566)]}</td>\n",
       "    </tr>\n",
       "    <tr>\n",
       "      <th>4</th>\n",
       "      <td>저자 사망 이후 50년이 지나 저작권이 소멸한 메이지 시대부터 쇼와 시대 초기까지의 서적 대부분이 존재한다. 외국 번역작품이나 저자가 무료보기를 인정한 현대작품도 포함된다. 장르는 정치부터 취미까지 다양하지만, 비교적 문학작품(시대소설, 추리소설등의 오락작품 포함)이 많다. 유명작가의 작품이 모두 갖춰져있진 않지만 그래도 일본어작품에 관련해서는 충실하게 갖춰진 편이다. (번역작품의 경우 번역저작권을 문제로 수가 많지 않다.)\\n\\n잘 알려지지 않은 작품을 보존, 소개하는 장점도 있다. 작품 텍스트화는 지금도 현재진행형이며 2011년 3월 15일 현재 등록작품수가 1만권이 넘었다.\\n고전작가인 모리 오가이, 나츠메 소세키, 아쿠타가와 류노스케, 최근의 작가로는 나카지마 아츠시, 다자이 오사무, 하야시 후미코, 미야모토 유리코, 호리 다쓰오, 사카구치 안고, 다카무라 고타로, 나가이 가후, 요시카와 에이지 등 인물의 작품이 있다.</td>\n",
       "      <td>위키피디아</td>\n",
       "      <td>TODO</td>\n",
       "      <td>None</td>\n",
       "      <td>아오조라 문고</td>\n",
       "      <td>None</td>\n",
       "      <td>None</td>\n",
       "      <td>4</td>\n",
       "      <td>{'OCCUPATION': [('저자', 0), ('저자', 71), ('작가', 156), ('작가', 364)], 'DATE': [('50년', 9), ('메이지 시대부터', 26), ('쇼와 시대 초기까지', 35), ('2011년 3월 15일', 292)], 'CIVILIZATION': [('저작권', 17), ('일본어', 181), ('번역저작권', 218), ('고전작가', 325)], 'STUDY_FIELD': [('시대소설', 127), ('추리소설', 133)], 'QUANTITY': [('1만권', 315)], 'PERSON': [('모리 오가이', 331), ('나츠메 소세키', 339), ('아쿠타가와 류노스케', 348), ('나카지마 아츠시', 369), ('다자이 오사무', 379), ('하야시 후미코', 388), ('미야모토 유리코', 397), ('호리 다쓰오', 407), ('사카구치 안고', 415), ('다카무라 고타로', 424), ('나가이 가후', 434), ('요시카와 에이지', 442)]}</td>\n",
       "    </tr>\n",
       "  </tbody>\n",
       "</table>\n",
       "</div>"
      ],
      "text/plain": [
       "                                                                                                                                                                                                                                                                                                                                                                                                                                                                                                                                                                                                                                                                                                                                                                                                                                                                                                                                                                                                                                                                                                                                                                                                                                                                                                                                                                                                                                                                                                                                                                                                                                                                                                                                                                                                                                                                                                                                                                                                                                                                                                                                                                                                                                                                                                                                                                                                                                                                                                                                                                                                                                                                                                                                                                                                                                                                                                                                                                                                                                                                                                                                                                                                                                                                                                                                                                                                                                                                                                                                                                                                                                                                                                                                                                                                                                                                                                                                                                                                                                                                                                                                                                                                                                                                                                                                                                                                                                                                                                                                                                                                                                                                                                                                                                                                                                                                                                                                                                                                                                                                                                                                                                                                                                                                                             text  \\\n",
       "0                                                                                                                                                                                                                                                                                                                                                                                                                                                                                                                                                                                                                                                                                                                                                                                                                                                                                                                                                                                                                                                                                                                                                                                                                                                                                                                                                                                                                                                                                                                                                                                                                                                                                                                                                                                                                                                                                                                                                                                                                                                                                                                                                                                                                                                                                                                                                                                                                                                                                                                                                                                                                                                                                                                                                                                                                                                                                                                                                                                                                                                                                                                                                                                                                                                                                                                                                                                                                                                                                                                                                                                                                                                                                                                                                                                                                                                                                                                                                                                                                                                                                                                                                                                                                                                                                                                                                                                                                                                                                                                                                                                                                                                                                                                                                                                                                 이 문서는 나라 목록이며, 전 세계 206개 나라의 각 현황과 주권 승인 정보를 개요 형태로 나열하고 있다.\\n\\n이 목록은 명료화를 위해 두 부분으로 나뉘어 있다.\\n\\n# 첫 번째 부분은 바티칸 시국과 팔레스타인을 포함하여 유엔 등 국제 기구에 가입되어 국제적인 승인을 널리 받았다고 여기는 195개 나라를 나열하고 있다.\\n# 두 번째 부분은 일부 지역의 주권을 사실상 (데 팍토) 행사하고 있지만, 아직 국제적인 승인을 널리 받지 않았다고 여기는 11개 나라를 나열하고 있다.\\n\\n두 목록은 모두 가나다 순이다.\\n\\n일부 국가의 경우 국가로서의 자격에 논쟁의 여부가 있으며, 이 때문에 이러한 목록을 엮는 것은 매우 어렵고 논란이 생길 수 있는 과정이다. 이 목록을 구성하고 있는 국가를 선정하는 기준에 대한 정보는 \"포함 기준\" 단락을 통해 설명하였다. 나라에 대한 일반적인 정보는 \"국가\" 문서에서 설명하고 있다.   \n",
       "1                                                                                                                                                                                                                                                                                                                                                                                                                                                                                                                                                                                                                                                                                                                                                                                                                                                                                                                                                                                                                                                                                                                                                                                                                                                                                                                                                                                                                                                                                                                                                                                                                                                                                                                                                                                                                                                                                                                                                                                                                                                                                                                                                                                                                                                                                                                                                                                                                                                                                                                                                                                                                                                                                                                                                                                                                                                                                                     이 목록에 실린 국가 기준은 1933년 몬테비데오 협약 1장을 참고로 하였다. 협정에 따르면, 국가는 다음의 조건을 만족해야 한다.\\n* (a) 영속적인 국민\\n* (b) 일정한 영토\\n* (c) 정부\\n* (d) 타국과의 관계 참여 자격.\\n특히, 마지막 조건은 국제 공동체의 참여 용인을 내포하고 있기 때문에, 다른 나라의 승인이 매우 중요한 역할을 할 수 있다.  이 목록에 포함된 모든 국가는 보통 이 기준을 만족하는 것으로 보이는 자주적이고 독립적인 국가이다. 하지만 몬테비데오 협약 기준을 만족하는지의 여부는 많은 국가가 논쟁이 되고 있는 실정이다. 또한, 몬테비데오 협약 기준만이 국가 지위의 충분한 자격이든 아니든, 국제법의 견해 차이는 존재할 수 있다. 이 물음에 대한 다른 이론에 대한 고리는 아래에서 볼 수 있다.\\n\\n위 기준에 논거하여 이 목록은 다음 206개 국가를 포함하고 있다.\\n* 일반 국제 승인을 받은 195개 자주 국가.\\n** 유엔 가입 국가 193개\\n** 성좌의 명칭으로 유엔에서 국제 승인을 받은 국가: 바티칸 시국\\n** 팔레스타인지역에 위치하며 유엔 영구 옵서버 국가: 팔레스타인\\n* 유엔의 가입국이 아니며, 일반 국제 승인을 받지 않은 11개 자주 국가.\\n** 유엔 회원국으로부터 승인을 받은 8개 국가: 남오세티야, 니우에, 북키프로스 튀르크 공화국, 사하라 아랍 민주 공화국, 압하지야, 중화민국, 코소보, 쿡 제도,\\n** 유엔 비회원국으로부터 승인을 받은 2개 국가: 아르차흐 공화국, 트란스니스트리아\\n** 어떤 나라에서도 승인 받지 않은 국가: 소말릴란드\\n\\n위 목록에 포함되지 않은 다음 국가는 몬테비데오 협약의 모든 조건을 만족하지 못하거나, 자주적이고 독립적임을 주장하지 않는 국가이다.\\n* 남극 대륙 전체는 정부와 영속 인구가 없다. 7개 국가가 남극 대륙 일부를 차지하고 있으며, 이중 5개 국가가 서로의 영유권을 인정하고 있다.  남극 조약에 따라서 규제되는 이 권리는 어떤 나라에서도 승인을 받지 않았다. \\n* EU 유럽 연합은 27개 가입 국가를 보유한 독특한 초국가 기구이다. 가입 국가는 입법권, 행정권, 사법권 기준을 유럽 연합 위원회로 이양하며, 유럽 연합은 엄밀히 말해 일반적인 주권 국가 간주와 관계 없이 주권 국가로의 특징을 가지고 있다. 유럽 연합은 주권 국가를 주장하지 않으며, 다른 나라와의 관계에서 제한된 지위를 가지고 있다.\\n* 미국과 오스트레일리아, 기타 국가에서 주 (State)라고 칭하는 행정 구역은 주 (행정 구역)을 참고하라. 이러한 하부 국가 개념의 행정 구역은 일부를 제외하고는 다른 나라와 관계를 형성하지 않는다. 예를 들어서 독일 제국의 주는 해외 영사관을 가졌으며, 소비에트 연방의 한 부분이었던 우크라이나 소비에트 사회주의 공화국 (현재의 우크라이나)과 벨로루시 소비에트 사회주의 공화국 (현재의 벨라루스)는 유엔 가입국이었다. 무엇보다 중요한 것은, 이러한 주들은 자주적이고 독립적임을 주장하지 않는다는 것이다.\\n* 몰타 기사단 몰타 기사단은 \"총회에 유효 참관국 자격으로 참여할 수 있으며, 본부에서 영속적인 지위를 유지하는 기타 국가\" 분류에 속하는 유엔 참관 국가이다.  이 단체는 104개 국가와 쌍방 외교 관계를 맺고 있으나, 로마 내의 치외 법권 영역 이외에는 일정한 영토가 없다.  단체의 웹사이트에서는 \"항상 국가에게 국제법의 독립 주체로 인정 받는다.\"고 선언하고 있다.  기사단의 헌법 에서는 다음과 같이 설명하고 있다. \"기사단은 국제법의 주체이며, 주권 기능을 행사한다.\"  기사단은 자주 주권을 주장하고 있지만, 이름에서 볼 수 있듯이 주권 국가라고 주장하지는 않는다. 다른 대사관처럼 이탈리아는 이론상 기사단과 외교 관계를 파기할 수 있으며, 이탈리아 국민이 아닌 단원을 이탈리아 영토에서 강제로 추방할 수 있다. 기사단의 단원은 모두 다른 나라의 국민이기 때문에, 사실상 이들은 모두 자신의 국가에서 살고 있으며, 로마에서 기사단의 치외 법권 영역에 거주하는 단원은 오직 공식 직무에만 연관하여 활동한다. 따라서, 기사단은 영속적인 국민의 특성이 부족하다고 볼 수 있다.\\n* 마이크로네이션으로 여겨지는 국가는 자주적이고 독립적이라고 주장하고, 다른 나라와 외교 관계를 맺고자 시도하여도 포함하지 않았다. 마이크로네이션이 정말로 점유한 영토를 지배하는지, 마이크로네이션의 '인구' 감소 빈도가 낮은 지의 여부는 논쟁이 되고 있다.\\n* ISIS 등은 다른 나라들 못지 않은 영역을 두고 있으며 스스로를 \"나라\"라고 자처하지만, 국제법상 주권이 결여되어 있으며 국제법에 위배되는 테러리즘을 일삼아 '나라'로 간주되지도 않는다. 다만 준국가로 분류한다.   \n",
       "2  현 서울특별시 종로구 서린동 (구 일제 강점기 경기도 경성부 서린정) 출신이다. 친일파인 아버지 백낙승과 어머니 조종희 사이의 3남 2녀 중 막내로 태어났다. 그후 종로구 창신동 197번지 소위 \"큰대문집\"에서 18세까지 살았다. 수송국민학교와 경기제1고등보통학교를 다니면서 피아니스트 신재덕에게 피아노 연주를, 작이건우]]에게 작곡을 각각 배웠다. 이때 한국이 낳은 작곡가 김순남을 사사했다. 1949년 그는 홍콩 로이덴 스쿨로 전학했으며, 한국 전쟁이 발발하기 이전 가족이 일본으로 이주했다. 그 후 일본으로 건너가 1952년 도쿄 대학교 문과부에 입학했다. 2년 후 미술사학 및 미학으로 전공을 정했지만, 실제로는 일본 당대의 작곡가 모로이 사부로, 미학자 노무라 요시오 등에게서 작곡과, 음악사학을 공부했다. 졸업 논문은 ‘아르놀트 쇤베르크 연구’이다.\\n\\n1956년 백남준은 졸업과 함께 독일로 유학을 떠나 뮌헨 대학교 및 쾰른 대학교 등에서 서양의 건축, 음악사, 철학 등을 공부하였다. 뮌헨 대학교 입학 1년 후에는 프라이부르크 국립 음악 대학교로 옮겨 볼프강 포르트너 교수에게 배우지만, 곧 쇤베르크 이후 현대음악의 실험이 활발히 진행되던 다름슈타트 하기 강좌에 참여했다. 1958년 그 곳에서 현대음악가 존 케이지를 만나 그의 음악에 대한 파괴적 접근과 자유정신으로부터 깊은 영감을 얻었다. 이 영감은 \"세계의 역사는 우리에게 알려준다. 주어진 게임에서 이길 수 없다면 규칙을 바꿔라\" 라는 것으로 규정된다. 이후 1950년대부터 활발해지기 시작한 독일 라인 지역의 액션뮤직의 현장에서 백남준은 ‘아시아에서 온 문화테러리스트’(앨런 카프로)라고 불릴 정도의 탁월한 퍼포먼스 아티스트로 활약했다. 1959년 ‘존 케이지에게 보내는 경의’에서 음악적 콜라주와 함께 피아노를 부수는 퍼포먼스를 선보이는 것을 시작으로, 바이올린을 단숨에 파괴하거나(바이올린 솔로) 존 케이지가 착용한 넥타이를 잘라버리는 퍼포먼스(피아노 포르테를 위한 연습곡)가 특히 유명하다. 이 초기 퍼포먼스에 대해 백남준은 스스로 \"충격, 표현주의, 낭만주의, 클라이맥스, 놀라움, 기타 등등을 보여준 것\"이라고 표현한 바 있다. 1961년 카를하인츠 슈토크하우젠의 음악 퍼포먼스 ‘오리기날레’에서 머리와 넥타이로 잉크를 묻혀 두루마리에 흔적을 남기는 독특한 퍼포먼스 심플 머리를 위한 선율을 보여주기도 했다. 1960년대 초반 조지 마키우나스, 요셉 보이스 등과 의기투합하여 플럭서스 활동을 함께 전개했다. 다다이즘에 영향을 받은 플럭서스는 헤라클레이투스가 주장한 ‘변화 생성의 흐름’ 이라는 개념을 받아들여 \"목적이 없는 자유, 실험을 위한 실험\"이라는 명목 하에 이벤트와 퍼포먼스 그리고 전위음악에 주력했고, 곧 유럽과 아시아 및 미국 등 세계로 퍼져나갔다.\\n\\n1961년 백남준은 작곡가 슈토크하우젠이 중심이 된 쾰른의 WDR 전자음악 스튜디오에 출입했으며, 이때 1950년대부터 노버트 위너에 의해 제안된 '사이버네틱스' 개념 하에서 전자공학을 공부한 것으로 알려져 있다. 특히 레이다와 TV 작업에 몰두했던 독일 작가 칼 오토 괴츠의 실패를 거울 삼아서 2년여 동안 홀로 TV를 활용한 미디어 아트로서의 가능성을 탐문하고 실험했다. 그 성과를 바탕으로 1963년 독일 부퍼탈 파르나스 갤러리에서 자신의 첫 번째 전시 ‘음악의 전시-전자 텔레비전’을 열었으며, 13대의 실험적인 TV를 통해 훗날 비디오 아트라고 불리게 되는 초기 형태를 보여주었다. 이 전시는 백남준이 자신의 즉흥음악 또는 무음악의 발상에 기초한 실제 퍼포먼스, 그 흔적과 결과물처럼 유럽에서 자신이 진행해온 작업의 성과와 함께 TV를 비롯한 미디어로 새로운 예술의 형태를 시도하는 작업이 공존하고 있었다. ‘적분된 피아노’, ‘랜덤 액세스 뮤직’, ‘레코드 샤슐릭’같은 20세기 전위음악에 젖줄을 대고 있는 실험적 음악의 시도와 ‘잘린 소머리’, ‘파괴된 누드 마네킹’, ‘보이스의 피아노 파괴 퍼포먼스’'걸음을 위한 선' '바람을 위한 선' 같은 우상파괴적 설치 작업 및 참여예술 형태의 퍼포먼스가 함께 펼쳐졌다. 청년 백남준은 이러한 전시 내용을 ‘동시성’, ‘참여’, ‘임의접속’ 등등에 관한 16개의 테마로써 정리하는 종합적인 큐레이팅 전시로 보여주었기 때문에 최근날짜=2015-5-9 독일, 오스트리아 등지의 연구자들 사이에서 이 전시의 중요성을 재평가하면서 아카이빙 작업과 연구가 점차 활발해지는 추세에 있다.\\n\\n1964년 백남준은 일본으로 건너가 '로봇 K-456'을 제작했으며, 곧 세계 예술의 중심지 뉴욕으로 이주했다. 뉴욕 언더그라운드 필름 운동의 중심지 중 하나였던 시네마테크 필름메이커스에 관여했으며, 스스로 영상 작업을 진행하기도 했다. 1965년 소니의 포타팩(세계 최초의 휴대용 비디오카메라)으로 미국 뉴욕을 첫 방문 중이던 교황 요한 바오로 6세를 촬영하여 곧바로 그 영상을 ‘카페 오 고고’에서 방영했다. 이것이 미술사에서는 한동안 공식적인 비디오 아트의 시작으로 기록되어 있었다. 지금은 1963년 첫번째 전시를 비디오아트의 기점으로 보고 있다. 또한 첼로 연주자이자 뉴욕 아방가르드 페스티벌의 기획자였던 샬럿 무어먼과 함께 비디오 아트와 음악을 혼합한 퍼포먼스 작업을 활발히 펼쳤다. 특히 1967년 음악에 성적인 코드를 집어넣은 백남준의 ‘오페라 섹스트로니크’에서 샬럿 무어먼은 누드 상태의 첼로 연주를 시도하다가 뉴욕 경찰에 체포되어 큰 사회적 파장을 불러일으켰다. 그 결과로 인해 예술 현장에서 누드를 처벌할 수 없다는 뉴욕의 법 개정이 이루어지는 획기적인 진전이 일어난다. 이후에도 미디어 아트가 미국 뉴욕을 중심으로 서서히 득세해가는 시대적 조류 속에서 두 사람은 ‘살아있는 조각을 위한 TV 브라’, ‘TV 첼로’, ‘TV 침대’ 등등 미디어 테크놀로지와 퍼포먼스를 결합한 많은 예술활동을 전개했다.\\n\\n1974년부터 백남준은 영상으로서의 비디오 아트를 새로운 미술적 방법인 설치 미술로 변환하여 다양하게 진행했으며, 그에 따라 ‘TV 붓다’, ‘달은 가장 오래된 TV다’, ‘TV 정원’, ‘TV 물고기’ 등등 많은 대표작을 선보였다. 이 작품들은 비디오 아트와 생명의 상징을 전자적으로 결합하여 테크놀로지로 물든 현대 사회의 새로운 합성적 생명력을 추구했다는 평판을 얻었다. 특히 'TV 붓다'는 그의 초기 비디오 설치의 경향을 잘 보여주는 대표작으로서 가장 널리 알려졌다. 1960년대 후반부터 미국의 문화적 환경이 미디어 테크놀로지에 호의적으로 변화하면서 폭발적인 수준의 미디어 전시가 빈발했고, 백남준의 비디오 아트는 그룹전 형태로 수많은 전시에 활발하게 참여했다. 1974년 뉴욕 에버슨 미술관 개인전과 함께 비데아 앤 비디올로지: 1959-1973이라는 예술과 기술을 교차시키는 하이브리드에 관한 저작을 내놓아 미디아 아트의 이해를 도왔으며, 1982년 뉴욕 휘트니 미술관에서 개최된 ‘백남준 회고전’을 통해 그의 예술 세계가 뉴욕을 중심으로 미국 사회에 많이 알려지는 계기가 되었다.\\n\\n1970년대 중반부터는 뉴욕 WNET 방송국, 보스턴 WGBH 방송국과 협력하여 자신의 비디오 아트를 공중파 TV에서 방송했고, 이는 네트워크 방송을 끌어들여 예술 세계의 영역 확장을 꾀한 놀라운 시도였다. 나아가 1984년 1월 1일 ‘굿모닝 미스터 오웰’은 세계적인 아티스트들의 퍼포먼스를 뉴욕 WNET 방송국과 파리 퐁피두 센터를 연결한 실시간 위성 생중계로 방송하여 전 세계적 반향을 불러일으켰다. 샌프란시스코와 서울까지 연결된 이 국제적인 규모의 위성 아트에는 로리 앤더슨, 피터 가브리엘, 오잉고 보잉고, 존 케이지, 요셉 보이스, 앨런 긴즈버그, 이브 몽탕 등의 예술가과 대중문화의 스타가 다수 참여했으며, 전 세계 2천 5백만명(재방송 포함)이 시청하였다. 이로써 전세계적인 차원의 대중적 각인이 이루어졌고, 마치 대중스타처럼 성가를 높였다. 이후에도 ‘위성 아트’ 3부작으로 명명된 ‘바이 바이 키플링’(1986), ‘손에 손잡고’(1988) 등이 이어져 위성 연결을 통한 전세계의 네트워크가 어떻게 새로운 부족사회를 낳는지 실감시켰다.\\n\\n1984년 일본 도쿄 소게쓰[草月]홀에서 백남준과 요셉 보이스가 공동으로 참여한 퍼포먼스 '코요테 콘서트 II'가 펼쳐졌으며, 이들이 각각 몽골의 늑대 울음소리와 초원의 달빛을 음악적으로 표현한 것을 통해 1961년 첫 만남부터 계속 이어온 공동의 관심사가 무엇인지 알려지기 시작했다. 그러나 이들의 이후 퍼포먼스 계획은 요셉 보이스의 죽음과 함께 미완으로 끝났다.\\n\\n1992년 '비디오 때, 비디오 땅' 전시는 독일 쿤스트 할레와 스위스 쮜리히에서 진행된 전시의 서울 투어전시로서 당시 과천 막계동에 자리잡은 지 몇 년 되지 않았던 국립현대미술관 과천관에 총 관람 인원 20만명이 찾은 첫번째 전시로 기록되었다. 이 전시의 주요한 작품은 '나의 파우스트' 시리즈이다. 1993년 백남준은 독일 작가 한스 하케와 함께 베니스 비엔날레 독일관 작가로 초대되어 국가전시관 부문에서 황금사자상을 수상했다. '문명의 동서남북'이라는 주제의 이 전시에서 그는 북방 유라시아의 유목 문화를 배경으로 전자적 소통을 시도하는 비디오 로봇 형태의‘칭기스칸의 복권’, ‘마르크폴로’, ‘훈족의 왕 아틸라’,‘스키타이의 왕 단군’, ‘로봇 전사’, ‘고대기마인물상’ 같은 작품들을 중심으로 다수의 작품을 내놓았다.\\n\\n1995년 백남준은 제1회 광주 비엔날레 태동의 산파 역할을 하며, 한국 미술이 국제적으로 진출할 수 있도록 조력자 역할을 수행했다. 제1회 광주 비엔날레는 국내외 총 관람객이 160만 명에 달하는 성공을 거두었고, 특히 백남준이 직접 관여한 ‘INFO Art’전이 주목받았다. 또한 백남준은 같은 해 베니스 비엔날레 국가전시관 부문에 한국관을 설치하는 일에 결정적인 역할을 했다. 이로써 한국 미술이 세계 미술계에 진출하는 교두보가 마련되었다고 하겠다. 같은 해 그의 예술적 정수가 담긴 일렉트로닉 수퍼하이웨이 전시를 진행했다. 1996년 4월 9일 뇌졸중으로 쓰러졌으며, 6개월만인 그해 10월에 재기했다. 2000년 뉴욕 구겐하임 미술관에서 ‘백남준의 세계’ 라는 대규모 회고전이 열렸으며, 이때 백남준은 레이저 아트 ‘야곱의 사다리’, ‘삼원소’ 등을 전시한 바 있다.\\n\\n2006년 1월 29일, 미국 마이애미의 자택에서 노환으로 75세로 별세, 유해가 서울, 뉴욕, 독일에 나눠서 안치되었다.   \n",
       "3                                                                                                                                                                                                                                                                                                                                                                                                                                                                                                                                                                                                                                                                                                                                                                                                                                                                                                                                                                                                                                                                                                                                                                                                                                                                                                                                                                                                                                                                                                                                                                                                                                                                                                                                                                                                                                                                                                                                                                                                                                                                                                                                                                                                                                                                                                                                                                                                                                                                                                                                                                                                                                                                                                                                                                                                                                                                                                                                                                                                                                                                                                                                                                                                                                                                                                                                                                                                                                                                                                                                                                                                                                                                                                                                                                                                                                                                                                                                                                                                                                                                                                                                                                                                                                                                                                                                                                                                                                                                                                                                                                                                                                                                     아오조라 문고(靑空文庫, あおぞらぶんこ|아오조라 분고)는 ‘일본어판 구텐베르크 프로젝트’로 불리는 일본의 인터넷 전자도서관으로, 저작권이 풀린 문학작품을 수집, 전자문서화해서 인터넷에 공개하고 있다. 저자 사후 50년이 지난 메이지, 쇼와 시대 초기의 일본 문학 작품이 그 대부분을 차지하고 있고, 일본어 외 문학 작품의 일본어 번역 작품도 다수 있다. 1997년 2월 도미타 미치오, 노구치 에이치, 야마키 미에, 란무로 사테이 등 4명이 창설하여 시작되었다.  2016년 연간 방문객수는 940만 건 이상이다. \\n\\n아오조라 문고에 수록된 작품은 JIS X 0208에 해당되는 한자 범위 내에서 자원봉사자에 의해 아오조라 문고 형식 텍스트파일이나 HTML 파일로 전자화된다. 또 아오조라 문고 수록파일 취급기준에 따라 자유롭게 이용할 수 있기 때문에, 수록된 작품을 PC는 물론 PDA와 휴대전화로도 볼 수 있다. 텍스트 파일을 큰 글자로 인쇄하거나 전용 소프트웨어에 불러들여 시각장애인용으로 이용하는 방안도 기대되고 있다. 아오조라 문고의 열람 소프트웨어는 따로 개발 및 제공되고 있는 것은 없지만, 전자사전이나 아이폰용 어플리케이션 등은 타사에서 개발하여 출시되어 있다   \n",
       "4                                                                                                                                                                                                                                                                                                                                                                                                                                                                                                                                                                                                                                                                                                                                                                                                                                                                                                                                                                                                                                                                                                                                                                                                                                                                                                                                                                                                                                                                                                                                                                                                                                                                                                                                                                                                                                                                                                                                                                                                                                                                                                                                                                                                                                                                                                                                                                                                                                                                                                                                                                                                                                                                                                                                                                                                                                                                                                                                                                                                                                                                                                                                                                                                                                                                                                                                                                                                                                                                                                                                                                                                                                                                                                                                                                                                                                                                                                                                                                                                                                                                                                                                                                                                                                                                                                                                                                                                                                                                                                                                                                                                                                                                                                                                                                                                            저자 사망 이후 50년이 지나 저작권이 소멸한 메이지 시대부터 쇼와 시대 초기까지의 서적 대부분이 존재한다. 외국 번역작품이나 저자가 무료보기를 인정한 현대작품도 포함된다. 장르는 정치부터 취미까지 다양하지만, 비교적 문학작품(시대소설, 추리소설등의 오락작품 포함)이 많다. 유명작가의 작품이 모두 갖춰져있진 않지만 그래도 일본어작품에 관련해서는 충실하게 갖춰진 편이다. (번역작품의 경우 번역저작권을 문제로 수가 많지 않다.)\\n\\n잘 알려지지 않은 작품을 보존, 소개하는 장점도 있다. 작품 텍스트화는 지금도 현재진행형이며 2011년 3월 15일 현재 등록작품수가 1만권이 넘었다.\\n고전작가인 모리 오가이, 나츠메 소세키, 아쿠타가와 류노스케, 최근의 작가로는 나카지마 아츠시, 다자이 오사무, 하야시 후미코, 미야모토 유리코, 호리 다쓰오, 사카구치 안고, 다카무라 고타로, 나가이 가후, 요시카와 에이지 등 인물의 작품이 있다.   \n",
       "\n",
       "  corpus_source   url domain    title author  html document_id  \\\n",
       "0         위키피디아  TODO   None    나라 목록   None  None           0   \n",
       "1         위키피디아  TODO   None    나라 목록   None  None           1   \n",
       "2         위키피디아  TODO   None      백남준   None  None           2   \n",
       "3         위키피디아  TODO   None  아오조라 문고   None  None           3   \n",
       "4         위키피디아  TODO   None  아오조라 문고   None  None           4   \n",
       "\n",
       "                                                                                                                                                                                                                                                                                                                                                                                                                                                                                                                                                                                                                                                                                                                                                                                                                                                                                                                                                                                                                                                                                                                                                                                                                                                                                                                                                                                                                                                                                                                                                                                                                                                                                                                                                                                                                                                                                                                                                                                                                                                                                                                                                                                                                                                                                                                                                                                                                                                                                                                                                                                                                                                                                                                                                                                                                                                                                                                                                                                                                                                                                                                                                                                                                                                                                                                                                                                                                                                                                                                                                                                                                                                                                                                                                                                                                                                                                                                                                                                                                                                                                                                                                                                                                                                                                                                                                                                                                                                                                                                                                                                                                                                                                                                                                                                                                                                                                                                                                                                                                                                                                                                                                                                                                                                                                                                                                                                                                                                                                                                                                                                                                                                                                                                                                                                                                                                                                                                                                                                                                                                                  context_ner  \n",
       "0                                                                                                                                                                                                                                                                                                                                                                                                                                                                                                                                                                                                                                                                                                                                                                                                                                                                                                                                                                                                                                                                                                                                                                                                                                                                                                                                                                                                                                                                                                                                                                                                                                                                                                                                                                                                                                                                                                                                                                                                                                                                                                                                                                                                                                                                                                                                                                                                                                                                                                                                                                                                                                                                                                                                                                                                                                                                                                                                                                                                                                                                                                                                                                                                                                                                                                                                                                                                                                                                                                                                                                                                                                                                                                                                                                                                                                                                                                                                                                                                                                                                                                                                                                                                                                                                                                                                                                                                                                                                                                                                                                                                                                                                                                                                                                                                                                                                                                                                                                                                                                                                                                                                                                                                                                                                                                                                                                                                                                                                                                                                                                                                                                                                                                                                                                                                                                {'QUANTITY': [('206개', 20), ('두 부분', 75), ('첫 번째', 92), ('195개', 159), ('두 번째', 179), ('11개', 247), ('두 목록', 264)], 'LOCATION': [('바티칸', 101), ('팔레스타인', 109)], 'ORGANIZATION': [('유엔', 121)], 'CIVILIZATION': [('주권', 195), ('데 팍토', 204)]}  \n",
       "1                                                                                                                                                                                                                                                                                                                                                                                                                                                                                                                                                                                                                                                                                                                                                                                                                                                                                                                                                                                                                                                                                                                                                                                                                                                                                                                                                                                                                                                                                                                                                                                                                                                                                                                                                                                                                                                                                                                                                                                                                                                                                                                                                                                                                                                                                                                                                                                                                                                                                                                                                                                                                                                                                                                                                                                                                                                                                                                                                                                                                                                                                                                                                                                                                                                                                                                                                                                                                                                                                                                                                                                                                                                                                                                                                                                                                                                                                                                                                                                                                                                                                                                                                                                                                                                                                                                                                                                             {'DATE': [('1933년', 16)], 'ORGANIZATION': [('몬테비데오 협약', 22), ('정부', 107), ('몬테비데오', 312), ('유엔', 473), ('유엔', 499), ('유엔', 542), ('유엔', 564), ('유엔', 608), ('유엔', 701), ('몬테비데오 협약', 798), ('정부', 864), ('남극 조약', 934), ('EU 유럽 연합', 979), ('유럽 연합 위원회', 1043), ('유럽 연합', 1060), ('유럽 연합', 1115), ('독일 제국', 1290), ('유엔', 1395), ('몰타 기사단', 1456), ('몰타 기사단', 1463), ('유엔', 1533), ('ISIS', 2148)], 'QUANTITY': [('1장', 31), ('a', 77), ('(b', 90), ('206개', 425), ('195개', 458), ('193개', 482), ('11개', 594), ('8개', 626), ('2개 국가', 720), ('7개', 879), ('5개', 909), ('27개', 989), ('104개', 1551)], 'CIVILIZATION': [('국민', 85), ('몬테비데', 261), ('국제법', 347), ('옵서버', 548), ('회원', 611), ('영유권', 920), ('입법권', 1025), ('행정권', 1030), ('사법권', 1035), ('주권', 1079), ('주권', 1095), ('국제법', 1631), ('헌법', 1667), ('국제법', 1696), ('주권', 1729), ('주권', 1756), ('국민', 1822), ('단원', 1829), ('단원', 1862), ('국민', 1876), ('단원', 1939), ('국민', 1980), ('국제법', 2199), ('주권', 2204), ('국제법', 2217)], 'TERM': [('아래', 392)], 'LOCATION': [('바티칸', 518), ('팔레스타인', 528), ('팔레스타인', 556), ('남오세티야', 633), ('북키프로스 튀르크 공화국', 645), ('사하라', 660), ('아랍 민주 공화국', 664), ('압하지야', 675), ('소말릴란드', 771), ('남극', 854), ('남극', 886), ('소비에트 사회주의 공화국', 1337), ('벨로루시', 1364), ('소비에트 사회주의 공화국', 1369)], 'COUNTRY': [('니우에', 640), ('중화민국', 681), ('코소보', 687), ('쿡 제도', 692), ('아르차흐 공화국', 727), ('트란스니스트리아', 737), ('미국', 1170), ('오스트레일리아', 1174), ('소비에트 연방', 1314), ('우크라이나', 1331), ('우크라이나', 1356), ('벨라루스', 1388), ('이탈리아', 1784), ('이탈리아', 1817), ('이탈리아', 1833)], 'CITY': [('로마', 1578), ('로마', 1914)], 'THEORY': [('마이크로네이션', 2004), ('마이크로네이션', 2076), ('마이크로네이션', 2104), ('테러리즘', 2227)]}  \n",
       "2  {'CITY': [('서울특별시', 2), ('홍콩', 230), ('쾰른', 1396), ('뉴욕', 2221), ('뉴욕', 2232), ('뉴욕', 2340), ('뉴욕', 2492), ('뉴욕', 2632), ('뉴욕', 2693), ('뉴욕', 2740), ('뉴욕', 3235), ('뉴욕', 3336), ('뉴욕', 3377), ('뉴욕', 3423), ('보스턴', 3436), ('뉴욕', 3574), ('파리', 3587), ('샌프란시스코', 3637), ('서울', 3645), ('도쿄', 3953), ('서울', 4203), ('뉴욕', 4904), ('마이애미', 5008), ('서울', 5037), ('뉴욕', 5041)], 'LOCATION': [('종로구', 8), ('서린동', 12), ('경기도', 26), ('경성부', 30), ('서린정', 34), ('종로구', 92), ('창신동', 96), ('서양', 475), ('라인', 765), ('아시아', 789), ('유럽', 1341), ('아시아', 1345), ('유럽', 1755), ('쿤스트 할레', 4177), ('쮜리히', 4189), ('과천', 4216), ('막계동', 4219), ('유라시아', 4422)], 'DATE': [('일제 강점기', 19), ('1949년', 221), ('1952년', 291), ('2년 후', 315), ('1956년', 426), ('1년 후', 511), ('1958년', 607), ('1950년대부터', 743), ('1959년', 844), ('1961년', 1068), ('1960년대 초반', 1169), ('1961년', 1367), ('1950년대부터', 1425), ('2년여 동안', 1533), ('1963년', 1588), ('20세기', 1860), ('2015-5-9', 2088), ('1964년', 2169), ('1965년', 2302), ('1963년', 2447), ('1967년', 2561), ('1974년부터', 2853), ('1960년대 후반부터', 3119), ('1974년', 3229), ('1959-1973', 3267), ('1982년', 3330), ('1970년대 중반부터', 3410), ('1984년 1월 1일', 3530), ('1986', 3869), ('1988', 3885), ('1984년', 3944), ('1961년', 4059), ('1992년', 4149), ('1993년', 4318), ('1995년', 4556), ('같은 해', 4720), ('같은 해', 4811), ('1996년 4월 9일', 4853), ('6개월만', 4878), ('그해 10월', 4884), ('2000년', 4898), ('2006년 1월 29일', 4991)], 'CIVILIZATION': [('친일파', 45), ('아버지', 50), ('어머니', 59), ('막내', 79), ('가족', 263), ('미학자', 367), ('현대음악가', 619), ('영감', 676), ('문화테러리스트', 797), ('아티스트', 832), ('넥타이', 946), ('넥타이', 1110), ('연구자', 2111), ('교황', 2353), ('기획자', 2507), ('아티스트', 3561), ('대중스타', 3818), ('황금사자상', 4378), ('조력자', 4617), ('관람객', 4650)], 'PERSON': [('백낙승', 54), ('조종희', 63), ('신재덕', 160), ('작이건우', 175), ('김순남', 210), ('모로이 사부로', 358), ('노무라 요시오', 371), ('백남준', 432), ('볼프강 포르트너', 539), ('쇤베르크', 561), ('존 케이지', 625), ('백남준', 783), ('앨런 카프로', 806), ('존 케이지', 935), ('백남준', 1003), ('카를하인츠 슈토크하우젠', 1074), ('조지 마키우나스', 1179), ('요셉 보이스', 1189), ('플럭서스', 1237), ('헤라클레이투스', 1243), ('백남준', 1373), ('슈토크하우젠', 1382), ('노버트 위너', 1434), ('칼 오토 괴츠', 1513), ('백남준', 1704), ('백남준', 2001), ('백남준', 2175), ('요한 바오로', 2356), ('샬럿 무어먼', 2513), ('백남준', 2584), ('샬럿 무어먼', 2604), ('백남준', 2861), ('백남준', 3189), ('로리 앤더슨', 3673), ('피터 가브리엘', 3681), ('오잉고 보잉고', 3690), ('존 케이지', 3699), ('요셉 보이스', 3706), ('앨런 긴즈버그', 3714), ('이브 몽탕', 3723), ('백남준', 3967), ('요셉 보이스', 3972), ('요셉 보이스', 4124), ('백남준', 4324), ('한스 하케', 4335), ('백남준', 4562), ('백남준', 4680), ('백남준', 4715), ('백남준', 4949)], 'QUANTITY': [('3남 2녀', 71), ('197번지', 100), ('18세', 118), ('첫 번째', 1616), ('13대', 1648), ('16개', 2044), ('하나', 2255), ('6세', 2363), ('첫번째', 2453), ('두 사람', 2770), ('2천 5백만명', 3762), ('3부작', 3847), ('20만명', 4263), ('첫번째', 4272), ('제1회', 4567), ('제1회', 4631), ('160만 명', 4655), ('75세', 5024)], 'ARTIFACT': [('큰대문', 110), ('피아노', 166), ('아르놀트 쇤베르크 연구', 409), ('존 케이지에게 보내는 경의', 851), ('피아노', 881), ('바이올린', 910), ('바이올린', 926), ('피아노', 962), ('기타', 1041), ('오리기날레', 1097), ('부퍼탈 파르나스 갤러리', 1597), ('적분된 피아노', 1825), ('랜덤 액세스 뮤직', 1836), ('레코드 샤슐릭', 1849), ('잘린 소머리', 1894), ('파괴된 누드 마네킹', 1904), ('보이스의 피아노', 1918), ('걸음을 위한 선', 1936), ('바람을 위한 선', 1947), ('로봇 K-456', 2190), ('포타팩', 2312), ('카페 오 고고', 2383), ('첼로', 2483), ('오페라 섹스트로니크', 2590), ('첼로', 2619), ('살아있는 조각을 위한', 2777), ('TV 브라', 2789), ('TV 첼로', 2798), ('TV 침대', 2807), ('TV 붓다', 2924), ('달은 가장 오래된 TV다', 2933), ('TV 정원', 2950), ('TV 물고기', 2959), ('TV 붓다', 3067), ('에버슨 미술관', 3238), ('비데아 앤 비디올로지', 3254), ('휘트니 미술관', 3339), ('굿모닝 미스터 오웰', 3543), ('바이 바이 키플링', 3858), ('손에 손잡고', 3877), ('소게쓰[草月]홀', 3956), ('국립현대미술관 과천관', 4242), ('나의 파우스트', 4302), ('칭기스칸의 복권', 4464), ('마르크폴로', 4476), ('훈족의 왕 아틸라', 4485), ('스키타이의 왕 단군', 4497), ('로봇 전사', 4511), ('고대기마인물상', 4520), ('구겐하임 미술관', 4907), ('야곱의 사다리', 4962), ('삼원소', 4973)], 'ORGANIZATION': [('수송국민학교', 129), ('경기제1고등보통학교', 137), ('로이덴 스쿨', 233), ('도쿄 대학교', 297), ('뮌헨 대학교', 455), ('쾰른 대학교', 464), ('뮌헨 대학교', 501), ('프라이부르크 국립 음악 대학교', 518), ('WDR', 1400), ('시네마테크 필름메이커스', 2260), ('소니', 2308), ('경찰', 2635), ('WNET 방송국', 3426), ('WGBH 방송', 3440), ('WNET 방송국', 3577), ('퐁피두 센터', 3590), ('독일', 4354)], 'OCCUPATION': [('피아니스트', 154), ('작곡가', 206), ('작곡가', 354), ('교수', 548), ('작곡가', 1378), ('작가', 1510), ('연주자', 2486), ('예술가', 3732), ('스타', 3743), ('작가', 4332), ('작가', 4358)], 'COUNTRY': [('한국', 199), ('일본', 267), ('일본', 282), ('일본', 347), ('독일', 444), ('독일', 762), ('미국', 1351), ('독일', 1507), ('독일', 1594), ('독일', 2097), ('오스트리아', 2101), ('일본', 2180), ('미국', 2337), ('미국', 2737), ('미국', 3131), ('미국', 3386), ('일본', 3950), ('몽골', 4022), ('독일', 4174), ('스위스', 4185), ('독일', 4329), ('한국', 4594), ('한국', 4744), ('한국', 4774), ('미국', 5005), ('독일', 5045)], 'EVENT': [('한국 전쟁', 248), ('다름슈타트 하기', 588), ('아방가르드 페스티벌', 2495), ('백남준 회고', 3354), ('코요테 콘서트 II', 3995), ('비디오 때, 비디오 땅', 4156), ('베니스 비엔날레', 4345), ('광주 비엔날레', 4571), ('광주 비엔날레', 4635), ('INFO Art', 4693), ('베니스 비엔날레', 4725), ('백남준의 세계', 4919)], 'STUDY_FIELD': [('미술사학', 320), ('미학', 327), ('음악사학', 389), ('건축', 479), ('음악사', 483), ('철학', 488), ('현대음악', 569), ('액션뮤직', 772), ('전자음', 1404), ('전자공학', 1465), ('비디오 아트', 1668), ('미술사', 2404), ('비디오 아트', 2420), ('비디오아트', 2461), ('비디오 아트', 2524), ('미디어 아트', 2729), ('미디어 테크놀로지', 2817), ('비디오 아트', 2873), ('설치 미술', 2893), ('비디오 아트', 2991), ('미', 3143), ('디어 테크놀로지', 3144), ('비디오 아트', 3194), ('미디아 아트', 3312), ('비디오 아트', 3459), ('위성 아트', 3665), ('위성 아트', 3840), ('미술', 4597), ('미술', 4777), ('일렉트로', 4830), ('레이저 아트', 4954)], 'THEORY': [('표현주의', 1017), ('낭만주의', 1023), ('다다이즘', 1224)], 'ANIMAL': [('머리', 1106), ('머리', 1148), ('늑대', 4026)], 'TERM': [('레이다', 1490), ('TV', 1495), ('TV', 1543), ('음악의 전시-전자 텔레비전', 1625), ('TV', 1658), ('TV', 1780), ('휴대용', 2323), ('비디오카메라', 2327), ('비디오', 3081), ('TV', 3471), ('위성', 3898), ('동서남북', 4396), ('북방', 4419), ('비디오', 4453), ('로봇', 4457)], 'DISEASE': [('뇌졸중', 4865)]}  \n",
       "3                                                                                                                                                                                                                                                                                                                                                                                                                                                                                                                                                                                                                                                                                                                                                                                                                                                                                                                                                                                                                                                                                                                                                                                                                                                                                                                                                                                                                                                                                                                                                                                                                                                                                                                                                                                                                                                                                                                                                                                                                                                                                                                                                                                                                                                                                                                                                                                                                                                                                                                                                                                                                                                                                                                                                                                                                                                                                                                                                                                                                                                                                                                                                                                                                                                                                                                                                                                                                                                                                                                                                                                                                                                                                                                                                                                                                                                                                                                                                                                                                                                                                                                                                                                                                                                                                                                                                                                                                                                                                                                                                                                                                                                                                                                                                                                                                                                                                                                                                                                                                                                                                                                                                                                                                                                                                                                 {'ORGANIZATION': [('아오조라 문고', 0), ('아오조라 분고', 22), ('아오조라 문고', 287), ('아오조라 문', 378), ('아오조라 문고', 516)], 'TERM': [('일본어판', 33), ('구텐베르크 프로젝트', 38), ('HTML', 360), ('PC', 427), ('PDA', 434), ('휴대전화', 439)], 'COUNTRY': [('일본', 55), ('일본', 141)], 'CIVILIZATION': [('저작권', 72), ('일본어', 167), ('일본어', 180), ('방문객', 268), ('한자', 321), ('자원봉사자', 331), ('시각장애인', 489)], 'OCCUPATION': [('저자', 112)], 'DATE': [('50년', 118), ('쇼와 시대 초', 131), ('1997년 2월', 198), ('2016년', 259), ('연간', 265)], 'PERSON': [('메이지', 126), ('도미타 미치오', 207), ('노구치 에이치', 216), ('야마키 미에', 225), ('란무로 사테이', 233)], 'STUDY_FIELD': [('문학', 144), ('문학', 173)], 'QUANTITY': [('4명', 243), ('940만 건 이상', 274)], 'ARTIFACT': [('JIS X 0208', 304), ('아오조라', 341), ('아이폰', 566)]}  \n",
       "4                                                                                                                                                                                                                                                                                                                                                                                                                                                                                                                                                                                                                                                                                                                                                                                                                                                                                                                                                                                                                                                                                                                                                                                                                                                                                                                                                                                                                                                                                                                                                                                                                                                                                                                                                                                                                                                                                                                                                                                                                                                                                                                                                                                                                                                                                                                                                                                                                                                                                                                                                                                                                                                                                                                                                                                                                                                                                                                                                                                                                                                                                                                                                                                                                                                                                                                                                                                                                                                                                                                                                                                                                                                                                                                                                                                                                                                                                                                                                                                                                                                                                                                                                                                                                                                                                                                                                                                                                                                                                                                                                                                                                                                                                                                                                                                                                                                                                                                                                                                                                                                                                                                                                                                                                                                                                                                                                                                                                                                                                                                         {'OCCUPATION': [('저자', 0), ('저자', 71), ('작가', 156), ('작가', 364)], 'DATE': [('50년', 9), ('메이지 시대부터', 26), ('쇼와 시대 초기까지', 35), ('2011년 3월 15일', 292)], 'CIVILIZATION': [('저작권', 17), ('일본어', 181), ('번역저작권', 218), ('고전작가', 325)], 'STUDY_FIELD': [('시대소설', 127), ('추리소설', 133)], 'QUANTITY': [('1만권', 315)], 'PERSON': [('모리 오가이', 331), ('나츠메 소세키', 339), ('아쿠타가와 류노스케', 348), ('나카지마 아츠시', 369), ('다자이 오사무', 379), ('하야시 후미코', 388), ('미야모토 유리코', 397), ('호리 다쓰오', 407), ('사카구치 안고', 415), ('다카무라 고타로', 424), ('나가이 가후', 434), ('요시카와 에이지', 442)]}  "
      ]
     },
     "execution_count": 10,
     "metadata": {},
     "output_type": "execute_result"
    }
   ],
   "source": [
    "df_ner.head()"
   ]
  },
  {
   "cell_type": "code",
   "execution_count": 11,
   "metadata": {},
   "outputs": [
    {
     "data": {
      "text/plain": [
       "200"
      ]
     },
     "execution_count": 11,
     "metadata": {},
     "output_type": "execute_result"
    }
   ],
   "source": [
    "len(df_ner)"
   ]
  },
  {
   "cell_type": "code",
   "execution_count": 12,
   "metadata": {},
   "outputs": [],
   "source": [
    "# 대상(무엇을 -목적) - EVENT, ORGANIZATION, ARTIFACTS + \n",
    "# 인물(누가 - 주어) - PERSON\n",
    "# -----\n",
    "# 시간(언제) - DATE / TIME\n",
    "# ----\n",
    "# 장소(어디서) - LOCATION\n",
    "# --\n",
    "# 방법(어떻게) -  x \n",
    "# 원인(왜) - x"
   ]
  },
  {
   "cell_type": "code",
   "execution_count": 15,
   "metadata": {},
   "outputs": [],
   "source": [
    "import random"
   ]
  },
  {
   "cell_type": "code",
   "execution_count": 24,
   "metadata": {},
   "outputs": [],
   "source": [
    "df_ner['k_p'] = df_ner['context_ner'].apply(lambda x: 'PERSON' in x.keys())\n",
    "\n",
    "p_num = 2\n",
    "df_p = df_ner[df_ner['k_p']==True].sample(n=p_num)\n",
    "df_p['p_ch']=df_p['context_ner'].apply(lambda x: random.choice(x['PERSON']))\n",
    "\n",
    "# df_ner['k_e'] = df_ner['context_ner'].apply(lambda x: 'EVENT' in x.keys())\n",
    "# df_ner['k_o'] = df_ner['context_ner'].apply(lambda x: 'ORGANIZATION' in x.keys())\n",
    "# df_ner['k_a'] = df_ner['context_ner'].apply(lambda x: 'ARTIFACTS' in x.keys())\n",
    "# df_ner['k_d'] = df_ner['context_ner'].apply(lambda x: 'DATE' in x.keys())\n",
    "# df_ner['k_t'] = df_ner['context_ner'].apply(lambda x: 'TIME' in x.keys())\n",
    "# df_ner['k_l'] = df_ner['context_ner'].apply(lambda x: 'LOCATION' in x.keys())"
   ]
  },
  {
   "cell_type": "code",
   "execution_count": 25,
   "metadata": {},
   "outputs": [
    {
     "data": {
      "text/html": [
       "<div>\n",
       "<style scoped>\n",
       "    .dataframe tbody tr th:only-of-type {\n",
       "        vertical-align: middle;\n",
       "    }\n",
       "\n",
       "    .dataframe tbody tr th {\n",
       "        vertical-align: top;\n",
       "    }\n",
       "\n",
       "    .dataframe thead th {\n",
       "        text-align: right;\n",
       "    }\n",
       "</style>\n",
       "<table border=\"1\" class=\"dataframe\">\n",
       "  <thead>\n",
       "    <tr style=\"text-align: right;\">\n",
       "      <th></th>\n",
       "      <th>text</th>\n",
       "      <th>corpus_source</th>\n",
       "      <th>url</th>\n",
       "      <th>domain</th>\n",
       "      <th>title</th>\n",
       "      <th>author</th>\n",
       "      <th>html</th>\n",
       "      <th>document_id</th>\n",
       "      <th>context_ner</th>\n",
       "      <th>k_p</th>\n",
       "    </tr>\n",
       "  </thead>\n",
       "  <tbody>\n",
       "    <tr>\n",
       "      <th>0</th>\n",
       "      <td>이 문서는 나라 목록이며, 전 세계 206개 나라의 각 현황과 주권 승인 정보를 개요 형태로 나열하고 있다.\\n\\n이 목록은 명료화를 위해 두 부분으로 나뉘어 있다.\\n\\n# 첫 번째 부분은 바티칸 시국과 팔레스타인을 포함하여 유엔 등 국제 기구에 가입되어 국제적인 승인을 널리 받았다고 여기는 195개 나라를 나열하고 있다.\\n# 두 번째 부분은 일부 지역의 주권을 사실상 (데 팍토) 행사하고 있지만, 아직 국제적인 승인을 널리 받지 않았다고 여기는 11개 나라를 나열하고 있다.\\n\\n두 목록은 모두 가나다 순이다.\\n\\n일부 국가의 경우 국가로서의 자격에 논쟁의 여부가 있으며, 이 때문에 이러한 목록을 엮는 것은 매우 어렵고 논란이 생길 수 있는 과정이다. 이 목록을 구성하고 있는 국가를 선정하는 기준에 대한 정보는 \"포함 기준\" 단락을 통해 설명하였다. 나라에 대한 일반적인 정보는 \"국가\" 문서에서 설명하고 있다.</td>\n",
       "      <td>위키피디아</td>\n",
       "      <td>TODO</td>\n",
       "      <td>None</td>\n",
       "      <td>나라 목록</td>\n",
       "      <td>None</td>\n",
       "      <td>None</td>\n",
       "      <td>0</td>\n",
       "      <td>{'QUANTITY': [('206개', 20), ('두 부분', 75), ('첫 번째', 92), ('195개', 159), ('두 번째', 179), ('11개', 247), ('두 목록', 264)], 'LOCATION': [('바티칸', 101), ('팔레스타인', 109)], 'ORGANIZATION': [('유엔', 121)], 'CIVILIZATION': [('주권', 195), ('데 팍토', 204)]}</td>\n",
       "      <td>False</td>\n",
       "    </tr>\n",
       "    <tr>\n",
       "      <th>1</th>\n",
       "      <td>이 목록에 실린 국가 기준은 1933년 몬테비데오 협약 1장을 참고로 하였다. 협정에 따르면, 국가는 다음의 조건을 만족해야 한다.\\n* (a) 영속적인 국민\\n* (b) 일정한 영토\\n* (c) 정부\\n* (d) 타국과의 관계 참여 자격.\\n특히, 마지막 조건은 국제 공동체의 참여 용인을 내포하고 있기 때문에, 다른 나라의 승인이 매우 중요한 역할을 할 수 있다.  이 목록에 포함된 모든 국가는 보통 이 기준을 만족하는 것으로 보이는 자주적이고 독립적인 국가이다. 하지만 몬테비데오 협약 기준을 만족하는지의 여부는 많은 국가가 논쟁이 되고 있는 실정이다. 또한, 몬테비데오 협약 기준만이 국가 지위의 충분한 자격이든 아니든, 국제법의 견해 차이는 존재할 수 있다. 이 물음에 대한 다른 이론에 대한 고리는 아래에서 볼 수 있다.\\n\\n위 기준에 논거하여 이 목록은 다음 206개 국가를 포함하고 있다.\\n* 일반 국제 승인을 받은 195개 자주 국가.\\n** 유엔 가입 국가 193개\\n** 성좌의 명칭으로 유엔에서 국제 승인을 받은 국가: 바티칸 시국\\n** 팔레스타인지역에 위치하며 유엔 영구 옵서버 국가: 팔레스타인\\n* 유엔의 가입국이 아니며, 일반 국제 승인을 받지 않은 11개 자주 국가.\\n** 유엔 회원국으로부터 승인을 받은 8개 국가: 남오세티야, 니우에, 북키프로스 튀르크 공화국, 사하라 아랍 민주 공화국, 압하지야, 중화민국, 코소보, 쿡 제도,\\n** 유엔 비회원국으로부터 승인을 받은 2개 국가: 아르차흐 공화국, 트란스니스트리아\\n** 어떤 나라에서도 승인 받지 않은 국가: 소말릴란드\\n\\n위 목록에 포함되지 않은 다음 국가는 몬테비데오 협약의 모든 조건을 만족하지 못하거나, 자주적이고 독립적임을 주장하지 않는 국가이다.\\n* 남극 대륙 전체는 정부와 영속 인구가 없다. 7개 국가가 남극 대륙 일부를 차지하고 있으며, 이중 5개 국가가 서로의 영유권을 인정하고 있다.  남극 조약에 따라서 규제되는 이 권리는 어떤 나라에서도 승인을 받지 않았다. \\n* EU 유럽 연합은 27개 가입 국가를 보유한 독특한 초국가 기구이다. 가입 국가는 입법권, 행정권, 사법권 기준을 유럽 연합 위원회로 이양하며, 유럽 연합은 엄밀히 말해 일반적인 주권 국가 간주와 관계 없이 주권 국가로의 특징을 가지고 있다. 유럽 연합은 주권 국가를 주장하지 않으며, 다른 나라와의 관계에서 제한된 지위를 가지고 있다.\\n* 미국과 오스트레일리아, 기타 국가에서 주 (State)라고 칭하는 행정 구역은 주 (행정 구역)을 참고하라. 이러한 하부 국가 개념의 행정 구역은 일부를 제외하고는 다른 나라와 관계를 형성하지 않는다. 예를 들어서 독일 제국의 주는 해외 영사관을 가졌으며, 소비에트 연방의 한 부분이었던 우크라이나 소비에트 사회주의 공화국 (현재의 우크라이나)과 벨로루시 소비에트 사회주의 공화국 (현재의 벨라루스)는 유엔 가입국이었다. 무엇보다 중요한 것은, 이러한 주들은 자주적이고 독립적임을 주장하지 않는다는 것이다.\\n* 몰타 기사단 몰타 기사단은 \"총회에 유효 참관국 자격으로 참여할 수 있으며, 본부에서 영속적인 지위를 유지하는 기타 국가\" 분류에 속하는 유엔 참관 국가이다.  이 단체는 104개 국가와 쌍방 외교 관계를 맺고 있으나, 로마 내의 치외 법권 영역 이외에는 일정한 영토가 없다.  단체의 웹사이트에서는 \"항상 국가에게 국제법의 독립 주체로 인정 받는다.\"고 선언하고 있다.  기사단의 헌법 에서는 다음과 같이 설명하고 있다. \"기사단은 국제법의 주체이며, 주권 기능을 행사한다.\"  기사단은 자주 주권을 주장하고 있지만, 이름에서 볼 수 있듯이 주권 국가라고 주장하지는 않는다. 다른 대사관처럼 이탈리아는 이론상 기사단과 외교 관계를 파기할 수 있으며, 이탈리아 국민이 아닌 단원을 이탈리아 영토에서 강제로 추방할 수 있다. 기사단의 단원은 모두 다른 나라의 국민이기 때문에, 사실상 이들은 모두 자신의 국가에서 살고 있으며, 로마에서 기사단의 치외 법권 영역에 거주하는 단원은 오직 공식 직무에만 연관하여 활동한다. 따라서, 기사단은 영속적인 국민의 특성이 부족하다고 볼 수 있다.\\n* 마이크로네이션으로 여겨지는 국가는 자주적이고 독립적이라고 주장하고, 다른 나라와 외교 관계를 맺고자 시도하여도 포함하지 않았다. 마이크로네이션이 정말로 점유한 영토를 지배하는지, 마이크로네이션의 '인구' 감소 빈도가 낮은 지의 여부는 논쟁이 되고 있다.\\n* ISIS 등은 다른 나라들 못지 않은 영역을 두고 있으며 스스로를 \"나라\"라고 자처하지만, 국제법상 주권이 결여되어 있으며 국제법에 위배되는 테러리즘을 일삼아 '나라'로 간주되지도 않는다. 다만 준국가로 분류한다.</td>\n",
       "      <td>위키피디아</td>\n",
       "      <td>TODO</td>\n",
       "      <td>None</td>\n",
       "      <td>나라 목록</td>\n",
       "      <td>None</td>\n",
       "      <td>None</td>\n",
       "      <td>1</td>\n",
       "      <td>{'DATE': [('1933년', 16)], 'ORGANIZATION': [('몬테비데오 협약', 22), ('정부', 107), ('몬테비데오', 312), ('유엔', 473), ('유엔', 499), ('유엔', 542), ('유엔', 564), ('유엔', 608), ('유엔', 701), ('몬테비데오 협약', 798), ('정부', 864), ('남극 조약', 934), ('EU 유럽 연합', 979), ('유럽 연합 위원회', 1043), ('유럽 연합', 1060), ('유럽 연합', 1115), ('독일 제국', 1290), ('유엔', 1395), ('몰타 기사단', 1456), ('몰타 기사단', 1463), ('유엔', 1533), ('ISIS', 2148)], 'QUANTITY': [('1장', 31), ('a', 77), ('(b', 90), ('206개', 425), ('195개', 458), ('193개', 482), ('11개', 594), ('8개', 626), ('2개 국가', 720), ('7개', 879), ('5개', 909), ('27개', 989), ('104개', 1551)], 'CIVILIZATION': [('국민', 85), ('몬테비데', 261), ('국제법', 347), ('옵서버', 548), ('회원', 611), ('영유권', 920), ('입법권', 1025), ('행정권', 1030), ('사법권', 1035), ('주권', 1079), ('주권', 1095), ('국제법', 1631), ('헌법', 1667), ('국제법', 1696), ('주권', 1729), ('주권', 1756), ('국민', 1822), ('단원', 1829), ('단원', 1862), ('국민', 1876), ('단원', 1939), ('국민', 1980), ('국제법', 2199), ('주권', 2204), ('국제법', 2217)], 'TERM': [('아래', 392)], 'LOCATION': [('바티칸', 518), ('팔레스타인', 528), ('팔레스타인', 556), ('남오세티야', 633), ('북키프로스 튀르크 공화국', 645), ('사하라', 660), ('아랍 민주 공화국', 664), ('압하지야', 675), ('소말릴란드', 771), ('남극', 854), ('남극', 886), ('소비에트 사회주의 공화국', 1337), ('벨로루시', 1364), ('소비에트 사회주의 공화국', 1369)], 'COUNTRY': [('니우에', 640), ('중화민국', 681), ('코소보', 687), ('쿡 제도', 692), ('아르차흐 공화국', 727), ('트란스니스트리아', 737), ('미국', 1170), ('오스트레일리아', 1174), ('소비에트 연방', 1314), ('우크라이나', 1331), ('우크라이나', 1356), ('벨라루스', 1388), ('이탈리아', 1784), ('이탈리아', 1817), ('이탈리아', 1833)], 'CITY': [('로마', 1578), ('로마', 1914)], 'THEORY': [('마이크로네이션', 2004), ('마이크로네이션', 2076), ('마이크로네이션', 2104), ('테러리즘', 2227)]}</td>\n",
       "      <td>False</td>\n",
       "    </tr>\n",
       "    <tr>\n",
       "      <th>2</th>\n",
       "      <td>현 서울특별시 종로구 서린동 (구 일제 강점기 경기도 경성부 서린정) 출신이다. 친일파인 아버지 백낙승과 어머니 조종희 사이의 3남 2녀 중 막내로 태어났다. 그후 종로구 창신동 197번지 소위 \"큰대문집\"에서 18세까지 살았다. 수송국민학교와 경기제1고등보통학교를 다니면서 피아니스트 신재덕에게 피아노 연주를, 작이건우]]에게 작곡을 각각 배웠다. 이때 한국이 낳은 작곡가 김순남을 사사했다. 1949년 그는 홍콩 로이덴 스쿨로 전학했으며, 한국 전쟁이 발발하기 이전 가족이 일본으로 이주했다. 그 후 일본으로 건너가 1952년 도쿄 대학교 문과부에 입학했다. 2년 후 미술사학 및 미학으로 전공을 정했지만, 실제로는 일본 당대의 작곡가 모로이 사부로, 미학자 노무라 요시오 등에게서 작곡과, 음악사학을 공부했다. 졸업 논문은 ‘아르놀트 쇤베르크 연구’이다.\\n\\n1956년 백남준은 졸업과 함께 독일로 유학을 떠나 뮌헨 대학교 및 쾰른 대학교 등에서 서양의 건축, 음악사, 철학 등을 공부하였다. 뮌헨 대학교 입학 1년 후에는 프라이부르크 국립 음악 대학교로 옮겨 볼프강 포르트너 교수에게 배우지만, 곧 쇤베르크 이후 현대음악의 실험이 활발히 진행되던 다름슈타트 하기 강좌에 참여했다. 1958년 그 곳에서 현대음악가 존 케이지를 만나 그의 음악에 대한 파괴적 접근과 자유정신으로부터 깊은 영감을 얻었다. 이 영감은 \"세계의 역사는 우리에게 알려준다. 주어진 게임에서 이길 수 없다면 규칙을 바꿔라\" 라는 것으로 규정된다. 이후 1950년대부터 활발해지기 시작한 독일 라인 지역의 액션뮤직의 현장에서 백남준은 ‘아시아에서 온 문화테러리스트’(앨런 카프로)라고 불릴 정도의 탁월한 퍼포먼스 아티스트로 활약했다. 1959년 ‘존 케이지에게 보내는 경의’에서 음악적 콜라주와 함께 피아노를 부수는 퍼포먼스를 선보이는 것을 시작으로, 바이올린을 단숨에 파괴하거나(바이올린 솔로) 존 케이지가 착용한 넥타이를 잘라버리는 퍼포먼스(피아노 포르테를 위한 연습곡)가 특히 유명하다. 이 초기 퍼포먼스에 대해 백남준은 스스로 \"충격, 표현주의, 낭만주의, 클라이맥스, 놀라움, 기타 등등을 보여준 것\"이라고 표현한 바 있다. 1961년 카를하인츠 슈토크하우젠의 음악 퍼포먼스 ‘오리기날레’에서 머리와 넥타이로 잉크를 묻혀 두루마리에 흔적을 남기는 독특한 퍼포먼스 심플 머리를 위한 선율을 보여주기도 했다. 1960년대 초반 조지 마키우나스, 요셉 보이스 등과 의기투합하여 플럭서스 활동을 함께 전개했다. 다다이즘에 영향을 받은 플럭서스는 헤라클레이투스가 주장한 ‘변화 생성의 흐름’ 이라는 개념을 받아들여 \"목적이 없는 자유, 실험을 위한 실험\"이라는 명목 하에 이벤트와 퍼포먼스 그리고 전위음악에 주력했고, 곧 유럽과 아시아 및 미국 등 세계로 퍼져나갔다.\\n\\n1961년 백남준은 작곡가 슈토크하우젠이 중심이 된 쾰른의 WDR 전자음악 스튜디오에 출입했으며, 이때 1950년대부터 노버트 위너에 의해 제안된 '사이버네틱스' 개념 하에서 전자공학을 공부한 것으로 알려져 있다. 특히 레이다와 TV 작업에 몰두했던 독일 작가 칼 오토 괴츠의 실패를 거울 삼아서 2년여 동안 홀로 TV를 활용한 미디어 아트로서의 가능성을 탐문하고 실험했다. 그 성과를 바탕으로 1963년 독일 부퍼탈 파르나스 갤러리에서 자신의 첫 번째 전시 ‘음악의 전시-전자 텔레비전’을 열었으며, 13대의 실험적인 TV를 통해 훗날 비디오 아트라고 불리게 되는 초기 형태를 보여주었다. 이 전시는 백남준이 자신의 즉흥음악 또는 무음악의 발상에 기초한 실제 퍼포먼스, 그 흔적과 결과물처럼 유럽에서 자신이 진행해온 작업의 성과와 함께 TV를 비롯한 미디어로 새로운 예술의 형태를 시도하는 작업이 공존하고 있었다. ‘적분된 피아노’, ‘랜덤 액세스 뮤직’, ‘레코드 샤슐릭’같은 20세기 전위음악에 젖줄을 대고 있는 실험적 음악의 시도와 ‘잘린 소머리’, ‘파괴된 누드 마네킹’, ‘보이스의 피아노 파괴 퍼포먼스’'걸음을 위한 선' '바람을 위한 선' 같은 우상파괴적 설치 작업 및 참여예술 형태의 퍼포먼스가 함께 펼쳐졌다. 청년 백남준은 이러한 전시 내용을 ‘동시성’, ‘참여’, ‘임의접속’ 등등에 관한 16개의 테마로써 정리하는 종합적인 큐레이팅 전시로 보여주었기 때문에 최근날짜=2015-5-9 독일, 오스트리아 등지의 연구자들 사이에서 이 전시의 중요성을 재평가하면서 아카이빙 작업과 연구가 점차 활발해지는 추세에 있다.\\n\\n1964년 백남준은 일본으로 건너가 '로봇 K-456'을 제작했으며, 곧 세계 예술의 중심지 뉴욕으로 이주했다. 뉴욕 언더그라운드 필름 운동의 중심지 중 하나였던 시네마테크 필름메이커스에 관여했으며, 스스로 영상 작업을 진행하기도 했다. 1965년 소니의 포타팩(세계 최초의 휴대용 비디오카메라)으로 미국 뉴욕을 첫 방문 중이던 교황 요한 바오로 6세를 촬영하여 곧바로 그 영상을 ‘카페 오 고고’에서 방영했다. 이것이 미술사에서는 한동안 공식적인 비디오 아트의 시작으로 기록되어 있었다. 지금은 1963년 첫번째 전시를 비디오아트의 기점으로 보고 있다. 또한 첼로 연주자이자 뉴욕 아방가르드 페스티벌의 기획자였던 샬럿 무어먼과 함께 비디오 아트와 음악을 혼합한 퍼포먼스 작업을 활발히 펼쳤다. 특히 1967년 음악에 성적인 코드를 집어넣은 백남준의 ‘오페라 섹스트로니크’에서 샬럿 무어먼은 누드 상태의 첼로 연주를 시도하다가 뉴욕 경찰에 체포되어 큰 사회적 파장을 불러일으켰다. 그 결과로 인해 예술 현장에서 누드를 처벌할 수 없다는 뉴욕의 법 개정이 이루어지는 획기적인 진전이 일어난다. 이후에도 미디어 아트가 미국 뉴욕을 중심으로 서서히 득세해가는 시대적 조류 속에서 두 사람은 ‘살아있는 조각을 위한 TV 브라’, ‘TV 첼로’, ‘TV 침대’ 등등 미디어 테크놀로지와 퍼포먼스를 결합한 많은 예술활동을 전개했다.\\n\\n1974년부터 백남준은 영상으로서의 비디오 아트를 새로운 미술적 방법인 설치 미술로 변환하여 다양하게 진행했으며, 그에 따라 ‘TV 붓다’, ‘달은 가장 오래된 TV다’, ‘TV 정원’, ‘TV 물고기’ 등등 많은 대표작을 선보였다. 이 작품들은 비디오 아트와 생명의 상징을 전자적으로 결합하여 테크놀로지로 물든 현대 사회의 새로운 합성적 생명력을 추구했다는 평판을 얻었다. 특히 'TV 붓다'는 그의 초기 비디오 설치의 경향을 잘 보여주는 대표작으로서 가장 널리 알려졌다. 1960년대 후반부터 미국의 문화적 환경이 미디어 테크놀로지에 호의적으로 변화하면서 폭발적인 수준의 미디어 전시가 빈발했고, 백남준의 비디오 아트는 그룹전 형태로 수많은 전시에 활발하게 참여했다. 1974년 뉴욕 에버슨 미술관 개인전과 함께 비데아 앤 비디올로지: 1959-1973이라는 예술과 기술을 교차시키는 하이브리드에 관한 저작을 내놓아 미디아 아트의 이해를 도왔으며, 1982년 뉴욕 휘트니 미술관에서 개최된 ‘백남준 회고전’을 통해 그의 예술 세계가 뉴욕을 중심으로 미국 사회에 많이 알려지는 계기가 되었다.\\n\\n1970년대 중반부터는 뉴욕 WNET 방송국, 보스턴 WGBH 방송국과 협력하여 자신의 비디오 아트를 공중파 TV에서 방송했고, 이는 네트워크 방송을 끌어들여 예술 세계의 영역 확장을 꾀한 놀라운 시도였다. 나아가 1984년 1월 1일 ‘굿모닝 미스터 오웰’은 세계적인 아티스트들의 퍼포먼스를 뉴욕 WNET 방송국과 파리 퐁피두 센터를 연결한 실시간 위성 생중계로 방송하여 전 세계적 반향을 불러일으켰다. 샌프란시스코와 서울까지 연결된 이 국제적인 규모의 위성 아트에는 로리 앤더슨, 피터 가브리엘, 오잉고 보잉고, 존 케이지, 요셉 보이스, 앨런 긴즈버그, 이브 몽탕 등의 예술가과 대중문화의 스타가 다수 참여했으며, 전 세계 2천 5백만명(재방송 포함)이 시청하였다. 이로써 전세계적인 차원의 대중적 각인이 이루어졌고, 마치 대중스타처럼 성가를 높였다. 이후에도 ‘위성 아트’ 3부작으로 명명된 ‘바이 바이 키플링’(1986), ‘손에 손잡고’(1988) 등이 이어져 위성 연결을 통한 전세계의 네트워크가 어떻게 새로운 부족사회를 낳는지 실감시켰다.\\n\\n1984년 일본 도쿄 소게쓰[草月]홀에서 백남준과 요셉 보이스가 공동으로 참여한 퍼포먼스 '코요테 콘서트 II'가 펼쳐졌으며, 이들이 각각 몽골의 늑대 울음소리와 초원의 달빛을 음악적으로 표현한 것을 통해 1961년 첫 만남부터 계속 이어온 공동의 관심사가 무엇인지 알려지기 시작했다. 그러나 이들의 이후 퍼포먼스 계획은 요셉 보이스의 죽음과 함께 미완으로 끝났다.\\n\\n1992년 '비디오 때, 비디오 땅' 전시는 독일 쿤스트 할레와 스위스 쮜리히에서 진행된 전시의 서울 투어전시로서 당시 과천 막계동에 자리잡은 지 몇 년 되지 않았던 국립현대미술관 과천관에 총 관람 인원 20만명이 찾은 첫번째 전시로 기록되었다. 이 전시의 주요한 작품은 '나의 파우스트' 시리즈이다. 1993년 백남준은 독일 작가 한스 하케와 함께 베니스 비엔날레 독일관 작가로 초대되어 국가전시관 부문에서 황금사자상을 수상했다. '문명의 동서남북'이라는 주제의 이 전시에서 그는 북방 유라시아의 유목 문화를 배경으로 전자적 소통을 시도하는 비디오 로봇 형태의‘칭기스칸의 복권’, ‘마르크폴로’, ‘훈족의 왕 아틸라’,‘스키타이의 왕 단군’, ‘로봇 전사’, ‘고대기마인물상’ 같은 작품들을 중심으로 다수의 작품을 내놓았다.\\n\\n1995년 백남준은 제1회 광주 비엔날레 태동의 산파 역할을 하며, 한국 미술이 국제적으로 진출할 수 있도록 조력자 역할을 수행했다. 제1회 광주 비엔날레는 국내외 총 관람객이 160만 명에 달하는 성공을 거두었고, 특히 백남준이 직접 관여한 ‘INFO Art’전이 주목받았다. 또한 백남준은 같은 해 베니스 비엔날레 국가전시관 부문에 한국관을 설치하는 일에 결정적인 역할을 했다. 이로써 한국 미술이 세계 미술계에 진출하는 교두보가 마련되었다고 하겠다. 같은 해 그의 예술적 정수가 담긴 일렉트로닉 수퍼하이웨이 전시를 진행했다. 1996년 4월 9일 뇌졸중으로 쓰러졌으며, 6개월만인 그해 10월에 재기했다. 2000년 뉴욕 구겐하임 미술관에서 ‘백남준의 세계’ 라는 대규모 회고전이 열렸으며, 이때 백남준은 레이저 아트 ‘야곱의 사다리’, ‘삼원소’ 등을 전시한 바 있다.\\n\\n2006년 1월 29일, 미국 마이애미의 자택에서 노환으로 75세로 별세, 유해가 서울, 뉴욕, 독일에 나눠서 안치되었다.</td>\n",
       "      <td>위키피디아</td>\n",
       "      <td>TODO</td>\n",
       "      <td>None</td>\n",
       "      <td>백남준</td>\n",
       "      <td>None</td>\n",
       "      <td>None</td>\n",
       "      <td>2</td>\n",
       "      <td>{'CITY': [('서울특별시', 2), ('홍콩', 230), ('쾰른', 1396), ('뉴욕', 2221), ('뉴욕', 2232), ('뉴욕', 2340), ('뉴욕', 2492), ('뉴욕', 2632), ('뉴욕', 2693), ('뉴욕', 2740), ('뉴욕', 3235), ('뉴욕', 3336), ('뉴욕', 3377), ('뉴욕', 3423), ('보스턴', 3436), ('뉴욕', 3574), ('파리', 3587), ('샌프란시스코', 3637), ('서울', 3645), ('도쿄', 3953), ('서울', 4203), ('뉴욕', 4904), ('마이애미', 5008), ('서울', 5037), ('뉴욕', 5041)], 'LOCATION': [('종로구', 8), ('서린동', 12), ('경기도', 26), ('경성부', 30), ('서린정', 34), ('종로구', 92), ('창신동', 96), ('서양', 475), ('라인', 765), ('아시아', 789), ('유럽', 1341), ('아시아', 1345), ('유럽', 1755), ('쿤스트 할레', 4177), ('쮜리히', 4189), ('과천', 4216), ('막계동', 4219), ('유라시아', 4422)], 'DATE': [('일제 강점기', 19), ('1949년', 221), ('1952년', 291), ('2년 후', 315), ('1956년', 426), ('1년 후', 511), ('1958년', 607), ('1950년대부터', 743), ('1959년', 844), ('1961년', 1068), ('1960년대 초반', 1169), ('1961년', 1367), ('1950년대부터', 1425), ('2년여 동안', 1533), ('1963년', 1588), ('20세기', 1860), ('2015-5-9', 2088), ('1964년', 2169), ('1965년', 2302), ('1963년', 2447), ('1967년', 2561), ('1974년부터', 2853), ('1960년대 후반부터', 3119), ('1974년', 3229), ('1959-1973', 3267), ('1982년', 3330), ('1970년대 중반부터', 3410), ('1984년 1월 1일', 3530), ('1986', 3869), ('1988', 3885), ('1984년', 3944), ('1961년', 4059), ('1992년', 4149), ('1993년', 4318), ('1995년', 4556), ('같은 해', 4720), ('같은 해', 4811), ('1996년 4월 9일', 4853), ('6개월만', 4878), ('그해 10월', 4884), ('2000년', 4898), ('2006년 1월 29일', 4991)], 'CIVILIZATION': [('친일파', 45), ('아버지', 50), ('어머니', 59), ('막내', 79), ('가족', 263), ('미학자', 367), ('현대음악가', 619), ('영감', 676), ('문화테러리스트', 797), ('아티스트', 832), ('넥타이', 946), ('넥타이', 1110), ('연구자', 2111), ('교황', 2353), ('기획자', 2507), ('아티스트', 3561), ('대중스타', 3818), ('황금사자상', 4378), ('조력자', 4617), ('관람객', 4650)], 'PERSON': [('백낙승', 54), ('조종희', 63), ('신재덕', 160), ('작이건우', 175), ('김순남', 210), ('모로이 사부로', 358), ('노무라 요시오', 371), ('백남준', 432), ('볼프강 포르트너', 539), ('쇤베르크', 561), ('존 케이지', 625), ('백남준', 783), ('앨런 카프로', 806), ('존 케이지', 935), ('백남준', 1003), ('카를하인츠 슈토크하우젠', 1074), ('조지 마키우나스', 1179), ('요셉 보이스', 1189), ('플럭서스', 1237), ('헤라클레이투스', 1243), ('백남준', 1373), ('슈토크하우젠', 1382), ('노버트 위너', 1434), ('칼 오토 괴츠', 1513), ('백남준', 1704), ('백남준', 2001), ('백남준', 2175), ('요한 바오로', 2356), ('샬럿 무어먼', 2513), ('백남준', 2584), ('샬럿 무어먼', 2604), ('백남준', 2861), ('백남준', 3189), ('로리 앤더슨', 3673), ('피터 가브리엘', 3681), ('오잉고 보잉고', 3690), ('존 케이지', 3699), ('요셉 보이스', 3706), ('앨런 긴즈버그', 3714), ('이브 몽탕', 3723), ('백남준', 3967), ('요셉 보이스', 3972), ('요셉 보이스', 4124), ('백남준', 4324), ('한스 하케', 4335), ('백남준', 4562), ('백남준', 4680), ('백남준', 4715), ('백남준', 4949)], 'QUANTITY': [('3남 2녀', 71), ('197번지', 100), ('18세', 118), ('첫 번째', 1616), ('13대', 1648), ('16개', 2044), ('하나', 2255), ('6세', 2363), ('첫번째', 2453), ('두 사람', 2770), ('2천 5백만명', 3762), ('3부작', 3847), ('20만명', 4263), ('첫번째', 4272), ('제1회', 4567), ('제1회', 4631), ('160만 명', 4655), ('75세', 5024)], 'ARTIFACT': [('큰대문', 110), ('피아노', 166), ('아르놀트 쇤베르크 연구', 409), ('존 케이지에게 보내는 경의', 851), ('피아노', 881), ('바이올린', 910), ('바이올린', 926), ('피아노', 962), ('기타', 1041), ('오리기날레', 1097), ('부퍼탈 파르나스 갤러리', 1597), ('적분된 피아노', 1825), ('랜덤 액세스 뮤직', 1836), ('레코드 샤슐릭', 1849), ('잘린 소머리', 1894), ('파괴된 누드 마네킹', 1904), ('보이스의 피아노', 1918), ('걸음을 위한 선', 1936), ('바람을 위한 선', 1947), ('로봇 K-456', 2190), ('포타팩', 2312), ('카페 오 고고', 2383), ('첼로', 2483), ('오페라 섹스트로니크', 2590), ('첼로', 2619), ('살아있는 조각을 위한', 2777), ('TV 브라', 2789), ('TV 첼로', 2798), ('TV 침대', 2807), ('TV 붓다', 2924), ('달은 가장 오래된 TV다', 2933), ('TV 정원', 2950), ('TV 물고기', 2959), ('TV 붓다', 3067), ('에버슨 미술관', 3238), ('비데아 앤 비디올로지', 3254), ('휘트니 미술관', 3339), ('굿모닝 미스터 오웰', 3543), ('바이 바이 키플링', 3858), ('손에 손잡고', 3877), ('소게쓰[草月]홀', 3956), ('국립현대미술관 과천관', 4242), ('나의 파우스트', 4302), ('칭기스칸의 복권', 4464), ('마르크폴로', 4476), ('훈족의 왕 아틸라', 4485), ('스키타이의 왕 단군', 4497), ('로봇 전사', 4511), ('고대기마인물상', 4520), ('구겐하임 미술관', 4907), ('야곱의 사다리', 4962), ('삼원소', 4973)], 'ORGANIZATION': [('수송국민학교', 129), ('경기제1고등보통학교', 137), ('로이덴 스쿨', 233), ('도쿄 대학교', 297), ('뮌헨 대학교', 455), ('쾰른 대학교', 464), ('뮌헨 대학교', 501), ('프라이부르크 국립 음악 대학교', 518), ('WDR', 1400), ('시네마테크 필름메이커스', 2260), ('소니', 2308), ('경찰', 2635), ('WNET 방송국', 3426), ('WGBH 방송', 3440), ('WNET 방송국', 3577), ('퐁피두 센터', 3590), ('독일', 4354)], 'OCCUPATION': [('피아니스트', 154), ('작곡가', 206), ('작곡가', 354), ('교수', 548), ('작곡가', 1378), ('작가', 1510), ('연주자', 2486), ('예술가', 3732), ('스타', 3743), ('작가', 4332), ('작가', 4358)], 'COUNTRY': [('한국', 199), ('일본', 267), ('일본', 282), ('일본', 347), ('독일', 444), ('독일', 762), ('미국', 1351), ('독일', 1507), ('독일', 1594), ('독일', 2097), ('오스트리아', 2101), ('일본', 2180), ('미국', 2337), ('미국', 2737), ('미국', 3131), ('미국', 3386), ('일본', 3950), ('몽골', 4022), ('독일', 4174), ('스위스', 4185), ('독일', 4329), ('한국', 4594), ('한국', 4744), ('한국', 4774), ('미국', 5005), ('독일', 5045)], 'EVENT': [('한국 전쟁', 248), ('다름슈타트 하기', 588), ('아방가르드 페스티벌', 2495), ('백남준 회고', 3354), ('코요테 콘서트 II', 3995), ('비디오 때, 비디오 땅', 4156), ('베니스 비엔날레', 4345), ('광주 비엔날레', 4571), ('광주 비엔날레', 4635), ('INFO Art', 4693), ('베니스 비엔날레', 4725), ('백남준의 세계', 4919)], 'STUDY_FIELD': [('미술사학', 320), ('미학', 327), ('음악사학', 389), ('건축', 479), ('음악사', 483), ('철학', 488), ('현대음악', 569), ('액션뮤직', 772), ('전자음', 1404), ('전자공학', 1465), ('비디오 아트', 1668), ('미술사', 2404), ('비디오 아트', 2420), ('비디오아트', 2461), ('비디오 아트', 2524), ('미디어 아트', 2729), ('미디어 테크놀로지', 2817), ('비디오 아트', 2873), ('설치 미술', 2893), ('비디오 아트', 2991), ('미', 3143), ('디어 테크놀로지', 3144), ('비디오 아트', 3194), ('미디아 아트', 3312), ('비디오 아트', 3459), ('위성 아트', 3665), ('위성 아트', 3840), ('미술', 4597), ('미술', 4777), ('일렉트로', 4830), ('레이저 아트', 4954)], 'THEORY': [('표현주의', 1017), ('낭만주의', 1023), ('다다이즘', 1224)], 'ANIMAL': [('머리', 1106), ('머리', 1148), ('늑대', 4026)], 'TERM': [('레이다', 1490), ('TV', 1495), ('TV', 1543), ('음악의 전시-전자 텔레비전', 1625), ('TV', 1658), ('TV', 1780), ('휴대용', 2323), ('비디오카메라', 2327), ('비디오', 3081), ('TV', 3471), ('위성', 3898), ('동서남북', 4396), ('북방', 4419), ('비디오', 4453), ('로봇', 4457)], 'DISEASE': [('뇌졸중', 4865)]}</td>\n",
       "      <td>True</td>\n",
       "    </tr>\n",
       "    <tr>\n",
       "      <th>3</th>\n",
       "      <td>아오조라 문고(靑空文庫, あおぞらぶんこ|아오조라 분고)는 ‘일본어판 구텐베르크 프로젝트’로 불리는 일본의 인터넷 전자도서관으로, 저작권이 풀린 문학작품을 수집, 전자문서화해서 인터넷에 공개하고 있다. 저자 사후 50년이 지난 메이지, 쇼와 시대 초기의 일본 문학 작품이 그 대부분을 차지하고 있고, 일본어 외 문학 작품의 일본어 번역 작품도 다수 있다. 1997년 2월 도미타 미치오, 노구치 에이치, 야마키 미에, 란무로 사테이 등 4명이 창설하여 시작되었다.  2016년 연간 방문객수는 940만 건 이상이다. \\n\\n아오조라 문고에 수록된 작품은 JIS X 0208에 해당되는 한자 범위 내에서 자원봉사자에 의해 아오조라 문고 형식 텍스트파일이나 HTML 파일로 전자화된다. 또 아오조라 문고 수록파일 취급기준에 따라 자유롭게 이용할 수 있기 때문에, 수록된 작품을 PC는 물론 PDA와 휴대전화로도 볼 수 있다. 텍스트 파일을 큰 글자로 인쇄하거나 전용 소프트웨어에 불러들여 시각장애인용으로 이용하는 방안도 기대되고 있다. 아오조라 문고의 열람 소프트웨어는 따로 개발 및 제공되고 있는 것은 없지만, 전자사전이나 아이폰용 어플리케이션 등은 타사에서 개발하여 출시되어 있다</td>\n",
       "      <td>위키피디아</td>\n",
       "      <td>TODO</td>\n",
       "      <td>None</td>\n",
       "      <td>아오조라 문고</td>\n",
       "      <td>None</td>\n",
       "      <td>None</td>\n",
       "      <td>3</td>\n",
       "      <td>{'ORGANIZATION': [('아오조라 문고', 0), ('아오조라 분고', 22), ('아오조라 문고', 287), ('아오조라 문', 378), ('아오조라 문고', 516)], 'TERM': [('일본어판', 33), ('구텐베르크 프로젝트', 38), ('HTML', 360), ('PC', 427), ('PDA', 434), ('휴대전화', 439)], 'COUNTRY': [('일본', 55), ('일본', 141)], 'CIVILIZATION': [('저작권', 72), ('일본어', 167), ('일본어', 180), ('방문객', 268), ('한자', 321), ('자원봉사자', 331), ('시각장애인', 489)], 'OCCUPATION': [('저자', 112)], 'DATE': [('50년', 118), ('쇼와 시대 초', 131), ('1997년 2월', 198), ('2016년', 259), ('연간', 265)], 'PERSON': [('메이지', 126), ('도미타 미치오', 207), ('노구치 에이치', 216), ('야마키 미에', 225), ('란무로 사테이', 233)], 'STUDY_FIELD': [('문학', 144), ('문학', 173)], 'QUANTITY': [('4명', 243), ('940만 건 이상', 274)], 'ARTIFACT': [('JIS X 0208', 304), ('아오조라', 341), ('아이폰', 566)]}</td>\n",
       "      <td>True</td>\n",
       "    </tr>\n",
       "    <tr>\n",
       "      <th>4</th>\n",
       "      <td>저자 사망 이후 50년이 지나 저작권이 소멸한 메이지 시대부터 쇼와 시대 초기까지의 서적 대부분이 존재한다. 외국 번역작품이나 저자가 무료보기를 인정한 현대작품도 포함된다. 장르는 정치부터 취미까지 다양하지만, 비교적 문학작품(시대소설, 추리소설등의 오락작품 포함)이 많다. 유명작가의 작품이 모두 갖춰져있진 않지만 그래도 일본어작품에 관련해서는 충실하게 갖춰진 편이다. (번역작품의 경우 번역저작권을 문제로 수가 많지 않다.)\\n\\n잘 알려지지 않은 작품을 보존, 소개하는 장점도 있다. 작품 텍스트화는 지금도 현재진행형이며 2011년 3월 15일 현재 등록작품수가 1만권이 넘었다.\\n고전작가인 모리 오가이, 나츠메 소세키, 아쿠타가와 류노스케, 최근의 작가로는 나카지마 아츠시, 다자이 오사무, 하야시 후미코, 미야모토 유리코, 호리 다쓰오, 사카구치 안고, 다카무라 고타로, 나가이 가후, 요시카와 에이지 등 인물의 작품이 있다.</td>\n",
       "      <td>위키피디아</td>\n",
       "      <td>TODO</td>\n",
       "      <td>None</td>\n",
       "      <td>아오조라 문고</td>\n",
       "      <td>None</td>\n",
       "      <td>None</td>\n",
       "      <td>4</td>\n",
       "      <td>{'OCCUPATION': [('저자', 0), ('저자', 71), ('작가', 156), ('작가', 364)], 'DATE': [('50년', 9), ('메이지 시대부터', 26), ('쇼와 시대 초기까지', 35), ('2011년 3월 15일', 292)], 'CIVILIZATION': [('저작권', 17), ('일본어', 181), ('번역저작권', 218), ('고전작가', 325)], 'STUDY_FIELD': [('시대소설', 127), ('추리소설', 133)], 'QUANTITY': [('1만권', 315)], 'PERSON': [('모리 오가이', 331), ('나츠메 소세키', 339), ('아쿠타가와 류노스케', 348), ('나카지마 아츠시', 369), ('다자이 오사무', 379), ('하야시 후미코', 388), ('미야모토 유리코', 397), ('호리 다쓰오', 407), ('사카구치 안고', 415), ('다카무라 고타로', 424), ('나가이 가후', 434), ('요시카와 에이지', 442)]}</td>\n",
       "      <td>True</td>\n",
       "    </tr>\n",
       "  </tbody>\n",
       "</table>\n",
       "</div>"
      ],
      "text/plain": [
       "                                                                                                                                                                                                                                                                                                                                                                                                                                                                                                                                                                                                                                                                                                                                                                                                                                                                                                                                                                                                                                                                                                                                                                                                                                                                                                                                                                                                                                                                                                                                                                                                                                                                                                                                                                                                                                                                                                                                                                                                                                                                                                                                                                                                                                                                                                                                                                                                                                                                                                                                                                                                                                                                                                                                                                                                                                                                                                                                                                                                                                                                                                                                                                                                                                                                                                                                                                                                                                                                                                                                                                                                                                                                                                                                                                                                                                                                                                                                                                                                                                                                                                                                                                                                                                                                                                                                                                                                                                                                                                                                                                                                                                                                                                                                                                                                                                                                                                                                                                                                                                                                                                                                                                                                                                                                                             text  \\\n",
       "0                                                                                                                                                                                                                                                                                                                                                                                                                                                                                                                                                                                                                                                                                                                                                                                                                                                                                                                                                                                                                                                                                                                                                                                                                                                                                                                                                                                                                                                                                                                                                                                                                                                                                                                                                                                                                                                                                                                                                                                                                                                                                                                                                                                                                                                                                                                                                                                                                                                                                                                                                                                                                                                                                                                                                                                                                                                                                                                                                                                                                                                                                                                                                                                                                                                                                                                                                                                                                                                                                                                                                                                                                                                                                                                                                                                                                                                                                                                                                                                                                                                                                                                                                                                                                                                                                                                                                                                                                                                                                                                                                                                                                                                                                                                                                                                                                 이 문서는 나라 목록이며, 전 세계 206개 나라의 각 현황과 주권 승인 정보를 개요 형태로 나열하고 있다.\\n\\n이 목록은 명료화를 위해 두 부분으로 나뉘어 있다.\\n\\n# 첫 번째 부분은 바티칸 시국과 팔레스타인을 포함하여 유엔 등 국제 기구에 가입되어 국제적인 승인을 널리 받았다고 여기는 195개 나라를 나열하고 있다.\\n# 두 번째 부분은 일부 지역의 주권을 사실상 (데 팍토) 행사하고 있지만, 아직 국제적인 승인을 널리 받지 않았다고 여기는 11개 나라를 나열하고 있다.\\n\\n두 목록은 모두 가나다 순이다.\\n\\n일부 국가의 경우 국가로서의 자격에 논쟁의 여부가 있으며, 이 때문에 이러한 목록을 엮는 것은 매우 어렵고 논란이 생길 수 있는 과정이다. 이 목록을 구성하고 있는 국가를 선정하는 기준에 대한 정보는 \"포함 기준\" 단락을 통해 설명하였다. 나라에 대한 일반적인 정보는 \"국가\" 문서에서 설명하고 있다.   \n",
       "1                                                                                                                                                                                                                                                                                                                                                                                                                                                                                                                                                                                                                                                                                                                                                                                                                                                                                                                                                                                                                                                                                                                                                                                                                                                                                                                                                                                                                                                                                                                                                                                                                                                                                                                                                                                                                                                                                                                                                                                                                                                                                                                                                                                                                                                                                                                                                                                                                                                                                                                                                                                                                                                                                                                                                                                                                                                                                                     이 목록에 실린 국가 기준은 1933년 몬테비데오 협약 1장을 참고로 하였다. 협정에 따르면, 국가는 다음의 조건을 만족해야 한다.\\n* (a) 영속적인 국민\\n* (b) 일정한 영토\\n* (c) 정부\\n* (d) 타국과의 관계 참여 자격.\\n특히, 마지막 조건은 국제 공동체의 참여 용인을 내포하고 있기 때문에, 다른 나라의 승인이 매우 중요한 역할을 할 수 있다.  이 목록에 포함된 모든 국가는 보통 이 기준을 만족하는 것으로 보이는 자주적이고 독립적인 국가이다. 하지만 몬테비데오 협약 기준을 만족하는지의 여부는 많은 국가가 논쟁이 되고 있는 실정이다. 또한, 몬테비데오 협약 기준만이 국가 지위의 충분한 자격이든 아니든, 국제법의 견해 차이는 존재할 수 있다. 이 물음에 대한 다른 이론에 대한 고리는 아래에서 볼 수 있다.\\n\\n위 기준에 논거하여 이 목록은 다음 206개 국가를 포함하고 있다.\\n* 일반 국제 승인을 받은 195개 자주 국가.\\n** 유엔 가입 국가 193개\\n** 성좌의 명칭으로 유엔에서 국제 승인을 받은 국가: 바티칸 시국\\n** 팔레스타인지역에 위치하며 유엔 영구 옵서버 국가: 팔레스타인\\n* 유엔의 가입국이 아니며, 일반 국제 승인을 받지 않은 11개 자주 국가.\\n** 유엔 회원국으로부터 승인을 받은 8개 국가: 남오세티야, 니우에, 북키프로스 튀르크 공화국, 사하라 아랍 민주 공화국, 압하지야, 중화민국, 코소보, 쿡 제도,\\n** 유엔 비회원국으로부터 승인을 받은 2개 국가: 아르차흐 공화국, 트란스니스트리아\\n** 어떤 나라에서도 승인 받지 않은 국가: 소말릴란드\\n\\n위 목록에 포함되지 않은 다음 국가는 몬테비데오 협약의 모든 조건을 만족하지 못하거나, 자주적이고 독립적임을 주장하지 않는 국가이다.\\n* 남극 대륙 전체는 정부와 영속 인구가 없다. 7개 국가가 남극 대륙 일부를 차지하고 있으며, 이중 5개 국가가 서로의 영유권을 인정하고 있다.  남극 조약에 따라서 규제되는 이 권리는 어떤 나라에서도 승인을 받지 않았다. \\n* EU 유럽 연합은 27개 가입 국가를 보유한 독특한 초국가 기구이다. 가입 국가는 입법권, 행정권, 사법권 기준을 유럽 연합 위원회로 이양하며, 유럽 연합은 엄밀히 말해 일반적인 주권 국가 간주와 관계 없이 주권 국가로의 특징을 가지고 있다. 유럽 연합은 주권 국가를 주장하지 않으며, 다른 나라와의 관계에서 제한된 지위를 가지고 있다.\\n* 미국과 오스트레일리아, 기타 국가에서 주 (State)라고 칭하는 행정 구역은 주 (행정 구역)을 참고하라. 이러한 하부 국가 개념의 행정 구역은 일부를 제외하고는 다른 나라와 관계를 형성하지 않는다. 예를 들어서 독일 제국의 주는 해외 영사관을 가졌으며, 소비에트 연방의 한 부분이었던 우크라이나 소비에트 사회주의 공화국 (현재의 우크라이나)과 벨로루시 소비에트 사회주의 공화국 (현재의 벨라루스)는 유엔 가입국이었다. 무엇보다 중요한 것은, 이러한 주들은 자주적이고 독립적임을 주장하지 않는다는 것이다.\\n* 몰타 기사단 몰타 기사단은 \"총회에 유효 참관국 자격으로 참여할 수 있으며, 본부에서 영속적인 지위를 유지하는 기타 국가\" 분류에 속하는 유엔 참관 국가이다.  이 단체는 104개 국가와 쌍방 외교 관계를 맺고 있으나, 로마 내의 치외 법권 영역 이외에는 일정한 영토가 없다.  단체의 웹사이트에서는 \"항상 국가에게 국제법의 독립 주체로 인정 받는다.\"고 선언하고 있다.  기사단의 헌법 에서는 다음과 같이 설명하고 있다. \"기사단은 국제법의 주체이며, 주권 기능을 행사한다.\"  기사단은 자주 주권을 주장하고 있지만, 이름에서 볼 수 있듯이 주권 국가라고 주장하지는 않는다. 다른 대사관처럼 이탈리아는 이론상 기사단과 외교 관계를 파기할 수 있으며, 이탈리아 국민이 아닌 단원을 이탈리아 영토에서 강제로 추방할 수 있다. 기사단의 단원은 모두 다른 나라의 국민이기 때문에, 사실상 이들은 모두 자신의 국가에서 살고 있으며, 로마에서 기사단의 치외 법권 영역에 거주하는 단원은 오직 공식 직무에만 연관하여 활동한다. 따라서, 기사단은 영속적인 국민의 특성이 부족하다고 볼 수 있다.\\n* 마이크로네이션으로 여겨지는 국가는 자주적이고 독립적이라고 주장하고, 다른 나라와 외교 관계를 맺고자 시도하여도 포함하지 않았다. 마이크로네이션이 정말로 점유한 영토를 지배하는지, 마이크로네이션의 '인구' 감소 빈도가 낮은 지의 여부는 논쟁이 되고 있다.\\n* ISIS 등은 다른 나라들 못지 않은 영역을 두고 있으며 스스로를 \"나라\"라고 자처하지만, 국제법상 주권이 결여되어 있으며 국제법에 위배되는 테러리즘을 일삼아 '나라'로 간주되지도 않는다. 다만 준국가로 분류한다.   \n",
       "2  현 서울특별시 종로구 서린동 (구 일제 강점기 경기도 경성부 서린정) 출신이다. 친일파인 아버지 백낙승과 어머니 조종희 사이의 3남 2녀 중 막내로 태어났다. 그후 종로구 창신동 197번지 소위 \"큰대문집\"에서 18세까지 살았다. 수송국민학교와 경기제1고등보통학교를 다니면서 피아니스트 신재덕에게 피아노 연주를, 작이건우]]에게 작곡을 각각 배웠다. 이때 한국이 낳은 작곡가 김순남을 사사했다. 1949년 그는 홍콩 로이덴 스쿨로 전학했으며, 한국 전쟁이 발발하기 이전 가족이 일본으로 이주했다. 그 후 일본으로 건너가 1952년 도쿄 대학교 문과부에 입학했다. 2년 후 미술사학 및 미학으로 전공을 정했지만, 실제로는 일본 당대의 작곡가 모로이 사부로, 미학자 노무라 요시오 등에게서 작곡과, 음악사학을 공부했다. 졸업 논문은 ‘아르놀트 쇤베르크 연구’이다.\\n\\n1956년 백남준은 졸업과 함께 독일로 유학을 떠나 뮌헨 대학교 및 쾰른 대학교 등에서 서양의 건축, 음악사, 철학 등을 공부하였다. 뮌헨 대학교 입학 1년 후에는 프라이부르크 국립 음악 대학교로 옮겨 볼프강 포르트너 교수에게 배우지만, 곧 쇤베르크 이후 현대음악의 실험이 활발히 진행되던 다름슈타트 하기 강좌에 참여했다. 1958년 그 곳에서 현대음악가 존 케이지를 만나 그의 음악에 대한 파괴적 접근과 자유정신으로부터 깊은 영감을 얻었다. 이 영감은 \"세계의 역사는 우리에게 알려준다. 주어진 게임에서 이길 수 없다면 규칙을 바꿔라\" 라는 것으로 규정된다. 이후 1950년대부터 활발해지기 시작한 독일 라인 지역의 액션뮤직의 현장에서 백남준은 ‘아시아에서 온 문화테러리스트’(앨런 카프로)라고 불릴 정도의 탁월한 퍼포먼스 아티스트로 활약했다. 1959년 ‘존 케이지에게 보내는 경의’에서 음악적 콜라주와 함께 피아노를 부수는 퍼포먼스를 선보이는 것을 시작으로, 바이올린을 단숨에 파괴하거나(바이올린 솔로) 존 케이지가 착용한 넥타이를 잘라버리는 퍼포먼스(피아노 포르테를 위한 연습곡)가 특히 유명하다. 이 초기 퍼포먼스에 대해 백남준은 스스로 \"충격, 표현주의, 낭만주의, 클라이맥스, 놀라움, 기타 등등을 보여준 것\"이라고 표현한 바 있다. 1961년 카를하인츠 슈토크하우젠의 음악 퍼포먼스 ‘오리기날레’에서 머리와 넥타이로 잉크를 묻혀 두루마리에 흔적을 남기는 독특한 퍼포먼스 심플 머리를 위한 선율을 보여주기도 했다. 1960년대 초반 조지 마키우나스, 요셉 보이스 등과 의기투합하여 플럭서스 활동을 함께 전개했다. 다다이즘에 영향을 받은 플럭서스는 헤라클레이투스가 주장한 ‘변화 생성의 흐름’ 이라는 개념을 받아들여 \"목적이 없는 자유, 실험을 위한 실험\"이라는 명목 하에 이벤트와 퍼포먼스 그리고 전위음악에 주력했고, 곧 유럽과 아시아 및 미국 등 세계로 퍼져나갔다.\\n\\n1961년 백남준은 작곡가 슈토크하우젠이 중심이 된 쾰른의 WDR 전자음악 스튜디오에 출입했으며, 이때 1950년대부터 노버트 위너에 의해 제안된 '사이버네틱스' 개념 하에서 전자공학을 공부한 것으로 알려져 있다. 특히 레이다와 TV 작업에 몰두했던 독일 작가 칼 오토 괴츠의 실패를 거울 삼아서 2년여 동안 홀로 TV를 활용한 미디어 아트로서의 가능성을 탐문하고 실험했다. 그 성과를 바탕으로 1963년 독일 부퍼탈 파르나스 갤러리에서 자신의 첫 번째 전시 ‘음악의 전시-전자 텔레비전’을 열었으며, 13대의 실험적인 TV를 통해 훗날 비디오 아트라고 불리게 되는 초기 형태를 보여주었다. 이 전시는 백남준이 자신의 즉흥음악 또는 무음악의 발상에 기초한 실제 퍼포먼스, 그 흔적과 결과물처럼 유럽에서 자신이 진행해온 작업의 성과와 함께 TV를 비롯한 미디어로 새로운 예술의 형태를 시도하는 작업이 공존하고 있었다. ‘적분된 피아노’, ‘랜덤 액세스 뮤직’, ‘레코드 샤슐릭’같은 20세기 전위음악에 젖줄을 대고 있는 실험적 음악의 시도와 ‘잘린 소머리’, ‘파괴된 누드 마네킹’, ‘보이스의 피아노 파괴 퍼포먼스’'걸음을 위한 선' '바람을 위한 선' 같은 우상파괴적 설치 작업 및 참여예술 형태의 퍼포먼스가 함께 펼쳐졌다. 청년 백남준은 이러한 전시 내용을 ‘동시성’, ‘참여’, ‘임의접속’ 등등에 관한 16개의 테마로써 정리하는 종합적인 큐레이팅 전시로 보여주었기 때문에 최근날짜=2015-5-9 독일, 오스트리아 등지의 연구자들 사이에서 이 전시의 중요성을 재평가하면서 아카이빙 작업과 연구가 점차 활발해지는 추세에 있다.\\n\\n1964년 백남준은 일본으로 건너가 '로봇 K-456'을 제작했으며, 곧 세계 예술의 중심지 뉴욕으로 이주했다. 뉴욕 언더그라운드 필름 운동의 중심지 중 하나였던 시네마테크 필름메이커스에 관여했으며, 스스로 영상 작업을 진행하기도 했다. 1965년 소니의 포타팩(세계 최초의 휴대용 비디오카메라)으로 미국 뉴욕을 첫 방문 중이던 교황 요한 바오로 6세를 촬영하여 곧바로 그 영상을 ‘카페 오 고고’에서 방영했다. 이것이 미술사에서는 한동안 공식적인 비디오 아트의 시작으로 기록되어 있었다. 지금은 1963년 첫번째 전시를 비디오아트의 기점으로 보고 있다. 또한 첼로 연주자이자 뉴욕 아방가르드 페스티벌의 기획자였던 샬럿 무어먼과 함께 비디오 아트와 음악을 혼합한 퍼포먼스 작업을 활발히 펼쳤다. 특히 1967년 음악에 성적인 코드를 집어넣은 백남준의 ‘오페라 섹스트로니크’에서 샬럿 무어먼은 누드 상태의 첼로 연주를 시도하다가 뉴욕 경찰에 체포되어 큰 사회적 파장을 불러일으켰다. 그 결과로 인해 예술 현장에서 누드를 처벌할 수 없다는 뉴욕의 법 개정이 이루어지는 획기적인 진전이 일어난다. 이후에도 미디어 아트가 미국 뉴욕을 중심으로 서서히 득세해가는 시대적 조류 속에서 두 사람은 ‘살아있는 조각을 위한 TV 브라’, ‘TV 첼로’, ‘TV 침대’ 등등 미디어 테크놀로지와 퍼포먼스를 결합한 많은 예술활동을 전개했다.\\n\\n1974년부터 백남준은 영상으로서의 비디오 아트를 새로운 미술적 방법인 설치 미술로 변환하여 다양하게 진행했으며, 그에 따라 ‘TV 붓다’, ‘달은 가장 오래된 TV다’, ‘TV 정원’, ‘TV 물고기’ 등등 많은 대표작을 선보였다. 이 작품들은 비디오 아트와 생명의 상징을 전자적으로 결합하여 테크놀로지로 물든 현대 사회의 새로운 합성적 생명력을 추구했다는 평판을 얻었다. 특히 'TV 붓다'는 그의 초기 비디오 설치의 경향을 잘 보여주는 대표작으로서 가장 널리 알려졌다. 1960년대 후반부터 미국의 문화적 환경이 미디어 테크놀로지에 호의적으로 변화하면서 폭발적인 수준의 미디어 전시가 빈발했고, 백남준의 비디오 아트는 그룹전 형태로 수많은 전시에 활발하게 참여했다. 1974년 뉴욕 에버슨 미술관 개인전과 함께 비데아 앤 비디올로지: 1959-1973이라는 예술과 기술을 교차시키는 하이브리드에 관한 저작을 내놓아 미디아 아트의 이해를 도왔으며, 1982년 뉴욕 휘트니 미술관에서 개최된 ‘백남준 회고전’을 통해 그의 예술 세계가 뉴욕을 중심으로 미국 사회에 많이 알려지는 계기가 되었다.\\n\\n1970년대 중반부터는 뉴욕 WNET 방송국, 보스턴 WGBH 방송국과 협력하여 자신의 비디오 아트를 공중파 TV에서 방송했고, 이는 네트워크 방송을 끌어들여 예술 세계의 영역 확장을 꾀한 놀라운 시도였다. 나아가 1984년 1월 1일 ‘굿모닝 미스터 오웰’은 세계적인 아티스트들의 퍼포먼스를 뉴욕 WNET 방송국과 파리 퐁피두 센터를 연결한 실시간 위성 생중계로 방송하여 전 세계적 반향을 불러일으켰다. 샌프란시스코와 서울까지 연결된 이 국제적인 규모의 위성 아트에는 로리 앤더슨, 피터 가브리엘, 오잉고 보잉고, 존 케이지, 요셉 보이스, 앨런 긴즈버그, 이브 몽탕 등의 예술가과 대중문화의 스타가 다수 참여했으며, 전 세계 2천 5백만명(재방송 포함)이 시청하였다. 이로써 전세계적인 차원의 대중적 각인이 이루어졌고, 마치 대중스타처럼 성가를 높였다. 이후에도 ‘위성 아트’ 3부작으로 명명된 ‘바이 바이 키플링’(1986), ‘손에 손잡고’(1988) 등이 이어져 위성 연결을 통한 전세계의 네트워크가 어떻게 새로운 부족사회를 낳는지 실감시켰다.\\n\\n1984년 일본 도쿄 소게쓰[草月]홀에서 백남준과 요셉 보이스가 공동으로 참여한 퍼포먼스 '코요테 콘서트 II'가 펼쳐졌으며, 이들이 각각 몽골의 늑대 울음소리와 초원의 달빛을 음악적으로 표현한 것을 통해 1961년 첫 만남부터 계속 이어온 공동의 관심사가 무엇인지 알려지기 시작했다. 그러나 이들의 이후 퍼포먼스 계획은 요셉 보이스의 죽음과 함께 미완으로 끝났다.\\n\\n1992년 '비디오 때, 비디오 땅' 전시는 독일 쿤스트 할레와 스위스 쮜리히에서 진행된 전시의 서울 투어전시로서 당시 과천 막계동에 자리잡은 지 몇 년 되지 않았던 국립현대미술관 과천관에 총 관람 인원 20만명이 찾은 첫번째 전시로 기록되었다. 이 전시의 주요한 작품은 '나의 파우스트' 시리즈이다. 1993년 백남준은 독일 작가 한스 하케와 함께 베니스 비엔날레 독일관 작가로 초대되어 국가전시관 부문에서 황금사자상을 수상했다. '문명의 동서남북'이라는 주제의 이 전시에서 그는 북방 유라시아의 유목 문화를 배경으로 전자적 소통을 시도하는 비디오 로봇 형태의‘칭기스칸의 복권’, ‘마르크폴로’, ‘훈족의 왕 아틸라’,‘스키타이의 왕 단군’, ‘로봇 전사’, ‘고대기마인물상’ 같은 작품들을 중심으로 다수의 작품을 내놓았다.\\n\\n1995년 백남준은 제1회 광주 비엔날레 태동의 산파 역할을 하며, 한국 미술이 국제적으로 진출할 수 있도록 조력자 역할을 수행했다. 제1회 광주 비엔날레는 국내외 총 관람객이 160만 명에 달하는 성공을 거두었고, 특히 백남준이 직접 관여한 ‘INFO Art’전이 주목받았다. 또한 백남준은 같은 해 베니스 비엔날레 국가전시관 부문에 한국관을 설치하는 일에 결정적인 역할을 했다. 이로써 한국 미술이 세계 미술계에 진출하는 교두보가 마련되었다고 하겠다. 같은 해 그의 예술적 정수가 담긴 일렉트로닉 수퍼하이웨이 전시를 진행했다. 1996년 4월 9일 뇌졸중으로 쓰러졌으며, 6개월만인 그해 10월에 재기했다. 2000년 뉴욕 구겐하임 미술관에서 ‘백남준의 세계’ 라는 대규모 회고전이 열렸으며, 이때 백남준은 레이저 아트 ‘야곱의 사다리’, ‘삼원소’ 등을 전시한 바 있다.\\n\\n2006년 1월 29일, 미국 마이애미의 자택에서 노환으로 75세로 별세, 유해가 서울, 뉴욕, 독일에 나눠서 안치되었다.   \n",
       "3                                                                                                                                                                                                                                                                                                                                                                                                                                                                                                                                                                                                                                                                                                                                                                                                                                                                                                                                                                                                                                                                                                                                                                                                                                                                                                                                                                                                                                                                                                                                                                                                                                                                                                                                                                                                                                                                                                                                                                                                                                                                                                                                                                                                                                                                                                                                                                                                                                                                                                                                                                                                                                                                                                                                                                                                                                                                                                                                                                                                                                                                                                                                                                                                                                                                                                                                                                                                                                                                                                                                                                                                                                                                                                                                                                                                                                                                                                                                                                                                                                                                                                                                                                                                                                                                                                                                                                                                                                                                                                                                                                                                                                                                     아오조라 문고(靑空文庫, あおぞらぶんこ|아오조라 분고)는 ‘일본어판 구텐베르크 프로젝트’로 불리는 일본의 인터넷 전자도서관으로, 저작권이 풀린 문학작품을 수집, 전자문서화해서 인터넷에 공개하고 있다. 저자 사후 50년이 지난 메이지, 쇼와 시대 초기의 일본 문학 작품이 그 대부분을 차지하고 있고, 일본어 외 문학 작품의 일본어 번역 작품도 다수 있다. 1997년 2월 도미타 미치오, 노구치 에이치, 야마키 미에, 란무로 사테이 등 4명이 창설하여 시작되었다.  2016년 연간 방문객수는 940만 건 이상이다. \\n\\n아오조라 문고에 수록된 작품은 JIS X 0208에 해당되는 한자 범위 내에서 자원봉사자에 의해 아오조라 문고 형식 텍스트파일이나 HTML 파일로 전자화된다. 또 아오조라 문고 수록파일 취급기준에 따라 자유롭게 이용할 수 있기 때문에, 수록된 작품을 PC는 물론 PDA와 휴대전화로도 볼 수 있다. 텍스트 파일을 큰 글자로 인쇄하거나 전용 소프트웨어에 불러들여 시각장애인용으로 이용하는 방안도 기대되고 있다. 아오조라 문고의 열람 소프트웨어는 따로 개발 및 제공되고 있는 것은 없지만, 전자사전이나 아이폰용 어플리케이션 등은 타사에서 개발하여 출시되어 있다   \n",
       "4                                                                                                                                                                                                                                                                                                                                                                                                                                                                                                                                                                                                                                                                                                                                                                                                                                                                                                                                                                                                                                                                                                                                                                                                                                                                                                                                                                                                                                                                                                                                                                                                                                                                                                                                                                                                                                                                                                                                                                                                                                                                                                                                                                                                                                                                                                                                                                                                                                                                                                                                                                                                                                                                                                                                                                                                                                                                                                                                                                                                                                                                                                                                                                                                                                                                                                                                                                                                                                                                                                                                                                                                                                                                                                                                                                                                                                                                                                                                                                                                                                                                                                                                                                                                                                                                                                                                                                                                                                                                                                                                                                                                                                                                                                                                                                                                            저자 사망 이후 50년이 지나 저작권이 소멸한 메이지 시대부터 쇼와 시대 초기까지의 서적 대부분이 존재한다. 외국 번역작품이나 저자가 무료보기를 인정한 현대작품도 포함된다. 장르는 정치부터 취미까지 다양하지만, 비교적 문학작품(시대소설, 추리소설등의 오락작품 포함)이 많다. 유명작가의 작품이 모두 갖춰져있진 않지만 그래도 일본어작품에 관련해서는 충실하게 갖춰진 편이다. (번역작품의 경우 번역저작권을 문제로 수가 많지 않다.)\\n\\n잘 알려지지 않은 작품을 보존, 소개하는 장점도 있다. 작품 텍스트화는 지금도 현재진행형이며 2011년 3월 15일 현재 등록작품수가 1만권이 넘었다.\\n고전작가인 모리 오가이, 나츠메 소세키, 아쿠타가와 류노스케, 최근의 작가로는 나카지마 아츠시, 다자이 오사무, 하야시 후미코, 미야모토 유리코, 호리 다쓰오, 사카구치 안고, 다카무라 고타로, 나가이 가후, 요시카와 에이지 등 인물의 작품이 있다.   \n",
       "\n",
       "  corpus_source   url domain    title author  html document_id  \\\n",
       "0         위키피디아  TODO   None    나라 목록   None  None           0   \n",
       "1         위키피디아  TODO   None    나라 목록   None  None           1   \n",
       "2         위키피디아  TODO   None      백남준   None  None           2   \n",
       "3         위키피디아  TODO   None  아오조라 문고   None  None           3   \n",
       "4         위키피디아  TODO   None  아오조라 문고   None  None           4   \n",
       "\n",
       "                                                                                                                                                                                                                                                                                                                                                                                                                                                                                                                                                                                                                                                                                                                                                                                                                                                                                                                                                                                                                                                                                                                                                                                                                                                                                                                                                                                                                                                                                                                                                                                                                                                                                                                                                                                                                                                                                                                                                                                                                                                                                                                                                                                                                                                                                                                                                                                                                                                                                                                                                                                                                                                                                                                                                                                                                                                                                                                                                                                                                                                                                                                                                                                                                                                                                                                                                                                                                                                                                                                                                                                                                                                                                                                                                                                                                                                                                                                                                                                                                                                                                                                                                                                                                                                                                                                                                                                                                                                                                                                                                                                                                                                                                                                                                                                                                                                                                                                                                                                                                                                                                                                                                                                                                                                                                                                                                                                                                                                                                                                                                                                                                                                                                                                                                                                                                                                                                                                                                                                                                                                                  context_ner  \\\n",
       "0                                                                                                                                                                                                                                                                                                                                                                                                                                                                                                                                                                                                                                                                                                                                                                                                                                                                                                                                                                                                                                                                                                                                                                                                                                                                                                                                                                                                                                                                                                                                                                                                                                                                                                                                                                                                                                                                                                                                                                                                                                                                                                                                                                                                                                                                                                                                                                                                                                                                                                                                                                                                                                                                                                                                                                                                                                                                                                                                                                                                                                                                                                                                                                                                                                                                                                                                                                                                                                                                                                                                                                                                                                                                                                                                                                                                                                                                                                                                                                                                                                                                                                                                                                                                                                                                                                                                                                                                                                                                                                                                                                                                                                                                                                                                                                                                                                                                                                                                                                                                                                                                                                                                                                                                                                                                                                                                                                                                                                                                                                                                                                                                                                                                                                                                                                                                                                {'QUANTITY': [('206개', 20), ('두 부분', 75), ('첫 번째', 92), ('195개', 159), ('두 번째', 179), ('11개', 247), ('두 목록', 264)], 'LOCATION': [('바티칸', 101), ('팔레스타인', 109)], 'ORGANIZATION': [('유엔', 121)], 'CIVILIZATION': [('주권', 195), ('데 팍토', 204)]}   \n",
       "1                                                                                                                                                                                                                                                                                                                                                                                                                                                                                                                                                                                                                                                                                                                                                                                                                                                                                                                                                                                                                                                                                                                                                                                                                                                                                                                                                                                                                                                                                                                                                                                                                                                                                                                                                                                                                                                                                                                                                                                                                                                                                                                                                                                                                                                                                                                                                                                                                                                                                                                                                                                                                                                                                                                                                                                                                                                                                                                                                                                                                                                                                                                                                                                                                                                                                                                                                                                                                                                                                                                                                                                                                                                                                                                                                                                                                                                                                                                                                                                                                                                                                                                                                                                                                                                                                                                                                                                             {'DATE': [('1933년', 16)], 'ORGANIZATION': [('몬테비데오 협약', 22), ('정부', 107), ('몬테비데오', 312), ('유엔', 473), ('유엔', 499), ('유엔', 542), ('유엔', 564), ('유엔', 608), ('유엔', 701), ('몬테비데오 협약', 798), ('정부', 864), ('남극 조약', 934), ('EU 유럽 연합', 979), ('유럽 연합 위원회', 1043), ('유럽 연합', 1060), ('유럽 연합', 1115), ('독일 제국', 1290), ('유엔', 1395), ('몰타 기사단', 1456), ('몰타 기사단', 1463), ('유엔', 1533), ('ISIS', 2148)], 'QUANTITY': [('1장', 31), ('a', 77), ('(b', 90), ('206개', 425), ('195개', 458), ('193개', 482), ('11개', 594), ('8개', 626), ('2개 국가', 720), ('7개', 879), ('5개', 909), ('27개', 989), ('104개', 1551)], 'CIVILIZATION': [('국민', 85), ('몬테비데', 261), ('국제법', 347), ('옵서버', 548), ('회원', 611), ('영유권', 920), ('입법권', 1025), ('행정권', 1030), ('사법권', 1035), ('주권', 1079), ('주권', 1095), ('국제법', 1631), ('헌법', 1667), ('국제법', 1696), ('주권', 1729), ('주권', 1756), ('국민', 1822), ('단원', 1829), ('단원', 1862), ('국민', 1876), ('단원', 1939), ('국민', 1980), ('국제법', 2199), ('주권', 2204), ('국제법', 2217)], 'TERM': [('아래', 392)], 'LOCATION': [('바티칸', 518), ('팔레스타인', 528), ('팔레스타인', 556), ('남오세티야', 633), ('북키프로스 튀르크 공화국', 645), ('사하라', 660), ('아랍 민주 공화국', 664), ('압하지야', 675), ('소말릴란드', 771), ('남극', 854), ('남극', 886), ('소비에트 사회주의 공화국', 1337), ('벨로루시', 1364), ('소비에트 사회주의 공화국', 1369)], 'COUNTRY': [('니우에', 640), ('중화민국', 681), ('코소보', 687), ('쿡 제도', 692), ('아르차흐 공화국', 727), ('트란스니스트리아', 737), ('미국', 1170), ('오스트레일리아', 1174), ('소비에트 연방', 1314), ('우크라이나', 1331), ('우크라이나', 1356), ('벨라루스', 1388), ('이탈리아', 1784), ('이탈리아', 1817), ('이탈리아', 1833)], 'CITY': [('로마', 1578), ('로마', 1914)], 'THEORY': [('마이크로네이션', 2004), ('마이크로네이션', 2076), ('마이크로네이션', 2104), ('테러리즘', 2227)]}   \n",
       "2  {'CITY': [('서울특별시', 2), ('홍콩', 230), ('쾰른', 1396), ('뉴욕', 2221), ('뉴욕', 2232), ('뉴욕', 2340), ('뉴욕', 2492), ('뉴욕', 2632), ('뉴욕', 2693), ('뉴욕', 2740), ('뉴욕', 3235), ('뉴욕', 3336), ('뉴욕', 3377), ('뉴욕', 3423), ('보스턴', 3436), ('뉴욕', 3574), ('파리', 3587), ('샌프란시스코', 3637), ('서울', 3645), ('도쿄', 3953), ('서울', 4203), ('뉴욕', 4904), ('마이애미', 5008), ('서울', 5037), ('뉴욕', 5041)], 'LOCATION': [('종로구', 8), ('서린동', 12), ('경기도', 26), ('경성부', 30), ('서린정', 34), ('종로구', 92), ('창신동', 96), ('서양', 475), ('라인', 765), ('아시아', 789), ('유럽', 1341), ('아시아', 1345), ('유럽', 1755), ('쿤스트 할레', 4177), ('쮜리히', 4189), ('과천', 4216), ('막계동', 4219), ('유라시아', 4422)], 'DATE': [('일제 강점기', 19), ('1949년', 221), ('1952년', 291), ('2년 후', 315), ('1956년', 426), ('1년 후', 511), ('1958년', 607), ('1950년대부터', 743), ('1959년', 844), ('1961년', 1068), ('1960년대 초반', 1169), ('1961년', 1367), ('1950년대부터', 1425), ('2년여 동안', 1533), ('1963년', 1588), ('20세기', 1860), ('2015-5-9', 2088), ('1964년', 2169), ('1965년', 2302), ('1963년', 2447), ('1967년', 2561), ('1974년부터', 2853), ('1960년대 후반부터', 3119), ('1974년', 3229), ('1959-1973', 3267), ('1982년', 3330), ('1970년대 중반부터', 3410), ('1984년 1월 1일', 3530), ('1986', 3869), ('1988', 3885), ('1984년', 3944), ('1961년', 4059), ('1992년', 4149), ('1993년', 4318), ('1995년', 4556), ('같은 해', 4720), ('같은 해', 4811), ('1996년 4월 9일', 4853), ('6개월만', 4878), ('그해 10월', 4884), ('2000년', 4898), ('2006년 1월 29일', 4991)], 'CIVILIZATION': [('친일파', 45), ('아버지', 50), ('어머니', 59), ('막내', 79), ('가족', 263), ('미학자', 367), ('현대음악가', 619), ('영감', 676), ('문화테러리스트', 797), ('아티스트', 832), ('넥타이', 946), ('넥타이', 1110), ('연구자', 2111), ('교황', 2353), ('기획자', 2507), ('아티스트', 3561), ('대중스타', 3818), ('황금사자상', 4378), ('조력자', 4617), ('관람객', 4650)], 'PERSON': [('백낙승', 54), ('조종희', 63), ('신재덕', 160), ('작이건우', 175), ('김순남', 210), ('모로이 사부로', 358), ('노무라 요시오', 371), ('백남준', 432), ('볼프강 포르트너', 539), ('쇤베르크', 561), ('존 케이지', 625), ('백남준', 783), ('앨런 카프로', 806), ('존 케이지', 935), ('백남준', 1003), ('카를하인츠 슈토크하우젠', 1074), ('조지 마키우나스', 1179), ('요셉 보이스', 1189), ('플럭서스', 1237), ('헤라클레이투스', 1243), ('백남준', 1373), ('슈토크하우젠', 1382), ('노버트 위너', 1434), ('칼 오토 괴츠', 1513), ('백남준', 1704), ('백남준', 2001), ('백남준', 2175), ('요한 바오로', 2356), ('샬럿 무어먼', 2513), ('백남준', 2584), ('샬럿 무어먼', 2604), ('백남준', 2861), ('백남준', 3189), ('로리 앤더슨', 3673), ('피터 가브리엘', 3681), ('오잉고 보잉고', 3690), ('존 케이지', 3699), ('요셉 보이스', 3706), ('앨런 긴즈버그', 3714), ('이브 몽탕', 3723), ('백남준', 3967), ('요셉 보이스', 3972), ('요셉 보이스', 4124), ('백남준', 4324), ('한스 하케', 4335), ('백남준', 4562), ('백남준', 4680), ('백남준', 4715), ('백남준', 4949)], 'QUANTITY': [('3남 2녀', 71), ('197번지', 100), ('18세', 118), ('첫 번째', 1616), ('13대', 1648), ('16개', 2044), ('하나', 2255), ('6세', 2363), ('첫번째', 2453), ('두 사람', 2770), ('2천 5백만명', 3762), ('3부작', 3847), ('20만명', 4263), ('첫번째', 4272), ('제1회', 4567), ('제1회', 4631), ('160만 명', 4655), ('75세', 5024)], 'ARTIFACT': [('큰대문', 110), ('피아노', 166), ('아르놀트 쇤베르크 연구', 409), ('존 케이지에게 보내는 경의', 851), ('피아노', 881), ('바이올린', 910), ('바이올린', 926), ('피아노', 962), ('기타', 1041), ('오리기날레', 1097), ('부퍼탈 파르나스 갤러리', 1597), ('적분된 피아노', 1825), ('랜덤 액세스 뮤직', 1836), ('레코드 샤슐릭', 1849), ('잘린 소머리', 1894), ('파괴된 누드 마네킹', 1904), ('보이스의 피아노', 1918), ('걸음을 위한 선', 1936), ('바람을 위한 선', 1947), ('로봇 K-456', 2190), ('포타팩', 2312), ('카페 오 고고', 2383), ('첼로', 2483), ('오페라 섹스트로니크', 2590), ('첼로', 2619), ('살아있는 조각을 위한', 2777), ('TV 브라', 2789), ('TV 첼로', 2798), ('TV 침대', 2807), ('TV 붓다', 2924), ('달은 가장 오래된 TV다', 2933), ('TV 정원', 2950), ('TV 물고기', 2959), ('TV 붓다', 3067), ('에버슨 미술관', 3238), ('비데아 앤 비디올로지', 3254), ('휘트니 미술관', 3339), ('굿모닝 미스터 오웰', 3543), ('바이 바이 키플링', 3858), ('손에 손잡고', 3877), ('소게쓰[草月]홀', 3956), ('국립현대미술관 과천관', 4242), ('나의 파우스트', 4302), ('칭기스칸의 복권', 4464), ('마르크폴로', 4476), ('훈족의 왕 아틸라', 4485), ('스키타이의 왕 단군', 4497), ('로봇 전사', 4511), ('고대기마인물상', 4520), ('구겐하임 미술관', 4907), ('야곱의 사다리', 4962), ('삼원소', 4973)], 'ORGANIZATION': [('수송국민학교', 129), ('경기제1고등보통학교', 137), ('로이덴 스쿨', 233), ('도쿄 대학교', 297), ('뮌헨 대학교', 455), ('쾰른 대학교', 464), ('뮌헨 대학교', 501), ('프라이부르크 국립 음악 대학교', 518), ('WDR', 1400), ('시네마테크 필름메이커스', 2260), ('소니', 2308), ('경찰', 2635), ('WNET 방송국', 3426), ('WGBH 방송', 3440), ('WNET 방송국', 3577), ('퐁피두 센터', 3590), ('독일', 4354)], 'OCCUPATION': [('피아니스트', 154), ('작곡가', 206), ('작곡가', 354), ('교수', 548), ('작곡가', 1378), ('작가', 1510), ('연주자', 2486), ('예술가', 3732), ('스타', 3743), ('작가', 4332), ('작가', 4358)], 'COUNTRY': [('한국', 199), ('일본', 267), ('일본', 282), ('일본', 347), ('독일', 444), ('독일', 762), ('미국', 1351), ('독일', 1507), ('독일', 1594), ('독일', 2097), ('오스트리아', 2101), ('일본', 2180), ('미국', 2337), ('미국', 2737), ('미국', 3131), ('미국', 3386), ('일본', 3950), ('몽골', 4022), ('독일', 4174), ('스위스', 4185), ('독일', 4329), ('한국', 4594), ('한국', 4744), ('한국', 4774), ('미국', 5005), ('독일', 5045)], 'EVENT': [('한국 전쟁', 248), ('다름슈타트 하기', 588), ('아방가르드 페스티벌', 2495), ('백남준 회고', 3354), ('코요테 콘서트 II', 3995), ('비디오 때, 비디오 땅', 4156), ('베니스 비엔날레', 4345), ('광주 비엔날레', 4571), ('광주 비엔날레', 4635), ('INFO Art', 4693), ('베니스 비엔날레', 4725), ('백남준의 세계', 4919)], 'STUDY_FIELD': [('미술사학', 320), ('미학', 327), ('음악사학', 389), ('건축', 479), ('음악사', 483), ('철학', 488), ('현대음악', 569), ('액션뮤직', 772), ('전자음', 1404), ('전자공학', 1465), ('비디오 아트', 1668), ('미술사', 2404), ('비디오 아트', 2420), ('비디오아트', 2461), ('비디오 아트', 2524), ('미디어 아트', 2729), ('미디어 테크놀로지', 2817), ('비디오 아트', 2873), ('설치 미술', 2893), ('비디오 아트', 2991), ('미', 3143), ('디어 테크놀로지', 3144), ('비디오 아트', 3194), ('미디아 아트', 3312), ('비디오 아트', 3459), ('위성 아트', 3665), ('위성 아트', 3840), ('미술', 4597), ('미술', 4777), ('일렉트로', 4830), ('레이저 아트', 4954)], 'THEORY': [('표현주의', 1017), ('낭만주의', 1023), ('다다이즘', 1224)], 'ANIMAL': [('머리', 1106), ('머리', 1148), ('늑대', 4026)], 'TERM': [('레이다', 1490), ('TV', 1495), ('TV', 1543), ('음악의 전시-전자 텔레비전', 1625), ('TV', 1658), ('TV', 1780), ('휴대용', 2323), ('비디오카메라', 2327), ('비디오', 3081), ('TV', 3471), ('위성', 3898), ('동서남북', 4396), ('북방', 4419), ('비디오', 4453), ('로봇', 4457)], 'DISEASE': [('뇌졸중', 4865)]}   \n",
       "3                                                                                                                                                                                                                                                                                                                                                                                                                                                                                                                                                                                                                                                                                                                                                                                                                                                                                                                                                                                                                                                                                                                                                                                                                                                                                                                                                                                                                                                                                                                                                                                                                                                                                                                                                                                                                                                                                                                                                                                                                                                                                                                                                                                                                                                                                                                                                                                                                                                                                                                                                                                                                                                                                                                                                                                                                                                                                                                                                                                                                                                                                                                                                                                                                                                                                                                                                                                                                                                                                                                                                                                                                                                                                                                                                                                                                                                                                                                                                                                                                                                                                                                                                                                                                                                                                                                                                                                                                                                                                                                                                                                                                                                                                                                                                                                                                                                                                                                                                                                                                                                                                                                                                                                                                                                                                                                 {'ORGANIZATION': [('아오조라 문고', 0), ('아오조라 분고', 22), ('아오조라 문고', 287), ('아오조라 문', 378), ('아오조라 문고', 516)], 'TERM': [('일본어판', 33), ('구텐베르크 프로젝트', 38), ('HTML', 360), ('PC', 427), ('PDA', 434), ('휴대전화', 439)], 'COUNTRY': [('일본', 55), ('일본', 141)], 'CIVILIZATION': [('저작권', 72), ('일본어', 167), ('일본어', 180), ('방문객', 268), ('한자', 321), ('자원봉사자', 331), ('시각장애인', 489)], 'OCCUPATION': [('저자', 112)], 'DATE': [('50년', 118), ('쇼와 시대 초', 131), ('1997년 2월', 198), ('2016년', 259), ('연간', 265)], 'PERSON': [('메이지', 126), ('도미타 미치오', 207), ('노구치 에이치', 216), ('야마키 미에', 225), ('란무로 사테이', 233)], 'STUDY_FIELD': [('문학', 144), ('문학', 173)], 'QUANTITY': [('4명', 243), ('940만 건 이상', 274)], 'ARTIFACT': [('JIS X 0208', 304), ('아오조라', 341), ('아이폰', 566)]}   \n",
       "4                                                                                                                                                                                                                                                                                                                                                                                                                                                                                                                                                                                                                                                                                                                                                                                                                                                                                                                                                                                                                                                                                                                                                                                                                                                                                                                                                                                                                                                                                                                                                                                                                                                                                                                                                                                                                                                                                                                                                                                                                                                                                                                                                                                                                                                                                                                                                                                                                                                                                                                                                                                                                                                                                                                                                                                                                                                                                                                                                                                                                                                                                                                                                                                                                                                                                                                                                                                                                                                                                                                                                                                                                                                                                                                                                                                                                                                                                                                                                                                                                                                                                                                                                                                                                                                                                                                                                                                                                                                                                                                                                                                                                                                                                                                                                                                                                                                                                                                                                                                                                                                                                                                                                                                                                                                                                                                                                                                                                                                                                                                         {'OCCUPATION': [('저자', 0), ('저자', 71), ('작가', 156), ('작가', 364)], 'DATE': [('50년', 9), ('메이지 시대부터', 26), ('쇼와 시대 초기까지', 35), ('2011년 3월 15일', 292)], 'CIVILIZATION': [('저작권', 17), ('일본어', 181), ('번역저작권', 218), ('고전작가', 325)], 'STUDY_FIELD': [('시대소설', 127), ('추리소설', 133)], 'QUANTITY': [('1만권', 315)], 'PERSON': [('모리 오가이', 331), ('나츠메 소세키', 339), ('아쿠타가와 류노스케', 348), ('나카지마 아츠시', 369), ('다자이 오사무', 379), ('하야시 후미코', 388), ('미야모토 유리코', 397), ('호리 다쓰오', 407), ('사카구치 안고', 415), ('다카무라 고타로', 424), ('나가이 가후', 434), ('요시카와 에이지', 442)]}   \n",
       "\n",
       "     k_p  \n",
       "0  False  \n",
       "1  False  \n",
       "2   True  \n",
       "3   True  \n",
       "4   True  "
      ]
     },
     "execution_count": 25,
     "metadata": {},
     "output_type": "execute_result"
    }
   ],
   "source": [
    "df_ner.head()"
   ]
  },
  {
   "cell_type": "code",
   "execution_count": 26,
   "metadata": {},
   "outputs": [
    {
     "data": {
      "text/html": [
       "<div>\n",
       "<style scoped>\n",
       "    .dataframe tbody tr th:only-of-type {\n",
       "        vertical-align: middle;\n",
       "    }\n",
       "\n",
       "    .dataframe tbody tr th {\n",
       "        vertical-align: top;\n",
       "    }\n",
       "\n",
       "    .dataframe thead th {\n",
       "        text-align: right;\n",
       "    }\n",
       "</style>\n",
       "<table border=\"1\" class=\"dataframe\">\n",
       "  <thead>\n",
       "    <tr style=\"text-align: right;\">\n",
       "      <th></th>\n",
       "      <th>text</th>\n",
       "      <th>corpus_source</th>\n",
       "      <th>url</th>\n",
       "      <th>domain</th>\n",
       "      <th>title</th>\n",
       "      <th>author</th>\n",
       "      <th>html</th>\n",
       "      <th>document_id</th>\n",
       "      <th>context_ner</th>\n",
       "      <th>k_p</th>\n",
       "      <th>p_ch</th>\n",
       "    </tr>\n",
       "  </thead>\n",
       "  <tbody>\n",
       "    <tr>\n",
       "      <th>197</th>\n",
       "      <td>한국의 삼국시대 시가\\n삼국은 각기 부족 연맹으로부터 세력을 키워 고대 국가로 성장하였으며, 이 과정에서 자체의 문학을 발전시켰던 것으로 보인다. 삼국이 초창기에는 아직 문화적으로 제의와 밀접히 관련된 원시의 치졸한 단계에 머물러 있던 것이 삼국 시대에 이르러서는 이러한 집단적·제의적 성격을 탈피하여 개인적인 문학예술이 발달을 보게 된 것이다. 향가는 세련된 개인 창작시로서 남북국 시대의 문학을 대표하고 있다. 신라 유리왕 연대에 지어진 〈도솔가〉, 〈회소곡〉 등은 농업 국가를 형성한 신라 민족의 제신적인 성격에서 벗어난 비종교적인 시가이다. 향가는 신라의 삼국 통일 이후 본격적으로 발달한 시가 양식이다. 이것은 특히 경주 지방을 중심으로 한 화랑·승려 등 신라의 중앙 귀족층에 의해서 발달된 것으로 보인다. 따라서 제의적·민요적인 것과는 달리 개인 창작 예술로서 어디까지나 귀족 문학인 것이다. 이 향가의 완성형은 10구체이며, 그 과도기적인 형태로서 4구체와 8구체가 있다. 내용 면에서 보면, 주로 생사(生死) 등 인생의 심각한 문제를 높은 종교적인 차원으로까지 끌어올려 우아한 언어로 표현한 고상한 서정시이다. 현재 전통적인 신라 향가 14수와 균여의 불교찬가로 지어진 11수가 전하고 있다. 신라 말기에 위홍과 대구화상에 의해 향가집 〈삼대목〉이 편찬되었다고는 하나 현재는 전하지 않는다.</td>\n",
       "      <td>위키피디아</td>\n",
       "      <td>TODO</td>\n",
       "      <td>None</td>\n",
       "      <td>시 (문학)</td>\n",
       "      <td>None</td>\n",
       "      <td>None</td>\n",
       "      <td>197</td>\n",
       "      <td>{'COUNTRY': [('한국', 0)], 'DATE': [('삼국시대', 4), ('원시', 112), ('삼국 시대', 134), ('남북국 시대', 210), ('신라', 231), ('신라', 273), ('신라', 310), ('신라', 371), ('신라', 581), ('신라 말기', 619)], 'STUDY_FIELD': [('시', 9), ('문학', 62), ('문학', 173), ('창작시', 204), ('문학', 218), ('시', 333), ('문학', 440), ('서정시', 566), ('향가', 584)], 'QUANTITY': [('삼국', 12), ('삼국', 81), ('삼국', 314), ('10구체', 460), ('4구체', 481), ('8구체', 486), ('14수', 587), ('11수', 606)], 'PERSON': [('유리왕', 234), ('균여', 592), ('위홍', 626), ('대구화상', 630)], 'ARTIFACT': [('도솔가', 247), ('회소곡', 254), ('불교찬가', 596), ('삼대목', 644)], 'CITY': [('경주', 349)], 'CIVILIZATION': [('화랑', 363), ('승려', 366)]}</td>\n",
       "      <td>True</td>\n",
       "      <td>(유리왕, 234)</td>\n",
       "    </tr>\n",
       "    <tr>\n",
       "      <th>68</th>\n",
       "      <td>프랙탈의 형태적 특징을 기하학적 조형성으로 이용하여 만든 디자인이다. 프랙탈의 성질은 형태적으로 '반복', '자기유사성', '회전'이며, 질서, 통일, 반복, 조화같은 기본적인 디자인 원칙하에 프랙탈의 형태적 특성이 나타난다.\\n\\n프랙탈 디자인에서의 자기유사성은 기본적 형태요소의 크기를 늘리거나 줄이면서 배열되는 데에서 드러난다. 이런 기본형태요소는 끝없이 반복되며, 이 가운데서 통일성과 질서 조화를 보는 이로 하여금 느끼게 해준다.\\n\\n프랙탈 디자인은 포토샵이나 일러스트 같은 컴퓨터 그래픽 툴로 만들 수 있다. 그래픽 툴로 프랙탈 디자인을 만드는 방법은 기본형태를 복사해서 크기를 점점 줄이거나, 점점 늘리면서 반복해서 확장시키는 것이다.\\n\\n프랙탈 디자인이 적용된 대표적인 예로 존 마에다가 디자인한 Morisawa poster가 있다.</td>\n",
       "      <td>위키피디아</td>\n",
       "      <td>TODO</td>\n",
       "      <td>None</td>\n",
       "      <td>프랙탈</td>\n",
       "      <td>None</td>\n",
       "      <td>None</td>\n",
       "      <td>68</td>\n",
       "      <td>{'ARTIFACT': [('프랙탈', 0), ('프랙탈', 39), ('프랙탈', 108), ('Morisawa poster', 391)], 'THEORY': [('프랙탈 디자인', 127), ('프랙탈 디자인', 243), ('프랙탈 디자', 358)], 'TERM': [('포토샵', 252), ('컴퓨터', 266)], 'PERSON': [('존 마에다', 379)]}</td>\n",
       "      <td>True</td>\n",
       "      <td>(존 마에다, 379)</td>\n",
       "    </tr>\n",
       "  </tbody>\n",
       "</table>\n",
       "</div>"
      ],
      "text/plain": [
       "                                                                                                                                                                                                                                                                                                                                                                                                                                                                                                                                                                                                                                                                                                   text  \\\n",
       "197  한국의 삼국시대 시가\\n삼국은 각기 부족 연맹으로부터 세력을 키워 고대 국가로 성장하였으며, 이 과정에서 자체의 문학을 발전시켰던 것으로 보인다. 삼국이 초창기에는 아직 문화적으로 제의와 밀접히 관련된 원시의 치졸한 단계에 머물러 있던 것이 삼국 시대에 이르러서는 이러한 집단적·제의적 성격을 탈피하여 개인적인 문학예술이 발달을 보게 된 것이다. 향가는 세련된 개인 창작시로서 남북국 시대의 문학을 대표하고 있다. 신라 유리왕 연대에 지어진 〈도솔가〉, 〈회소곡〉 등은 농업 국가를 형성한 신라 민족의 제신적인 성격에서 벗어난 비종교적인 시가이다. 향가는 신라의 삼국 통일 이후 본격적으로 발달한 시가 양식이다. 이것은 특히 경주 지방을 중심으로 한 화랑·승려 등 신라의 중앙 귀족층에 의해서 발달된 것으로 보인다. 따라서 제의적·민요적인 것과는 달리 개인 창작 예술로서 어디까지나 귀족 문학인 것이다. 이 향가의 완성형은 10구체이며, 그 과도기적인 형태로서 4구체와 8구체가 있다. 내용 면에서 보면, 주로 생사(生死) 등 인생의 심각한 문제를 높은 종교적인 차원으로까지 끌어올려 우아한 언어로 표현한 고상한 서정시이다. 현재 전통적인 신라 향가 14수와 균여의 불교찬가로 지어진 11수가 전하고 있다. 신라 말기에 위홍과 대구화상에 의해 향가집 〈삼대목〉이 편찬되었다고는 하나 현재는 전하지 않는다.   \n",
       "68                                                                                                                                                                                                                                                                 프랙탈의 형태적 특징을 기하학적 조형성으로 이용하여 만든 디자인이다. 프랙탈의 성질은 형태적으로 '반복', '자기유사성', '회전'이며, 질서, 통일, 반복, 조화같은 기본적인 디자인 원칙하에 프랙탈의 형태적 특성이 나타난다.\\n\\n프랙탈 디자인에서의 자기유사성은 기본적 형태요소의 크기를 늘리거나 줄이면서 배열되는 데에서 드러난다. 이런 기본형태요소는 끝없이 반복되며, 이 가운데서 통일성과 질서 조화를 보는 이로 하여금 느끼게 해준다.\\n\\n프랙탈 디자인은 포토샵이나 일러스트 같은 컴퓨터 그래픽 툴로 만들 수 있다. 그래픽 툴로 프랙탈 디자인을 만드는 방법은 기본형태를 복사해서 크기를 점점 줄이거나, 점점 늘리면서 반복해서 확장시키는 것이다.\\n\\n프랙탈 디자인이 적용된 대표적인 예로 존 마에다가 디자인한 Morisawa poster가 있다.   \n",
       "\n",
       "    corpus_source   url domain   title author  html document_id  \\\n",
       "197         위키피디아  TODO   None  시 (문학)   None  None         197   \n",
       "68          위키피디아  TODO   None     프랙탈   None  None          68   \n",
       "\n",
       "                                                                                                                                                                                                                                                                                                                                                                                                                                                                                                                                                                                                                                                  context_ner  \\\n",
       "197  {'COUNTRY': [('한국', 0)], 'DATE': [('삼국시대', 4), ('원시', 112), ('삼국 시대', 134), ('남북국 시대', 210), ('신라', 231), ('신라', 273), ('신라', 310), ('신라', 371), ('신라', 581), ('신라 말기', 619)], 'STUDY_FIELD': [('시', 9), ('문학', 62), ('문학', 173), ('창작시', 204), ('문학', 218), ('시', 333), ('문학', 440), ('서정시', 566), ('향가', 584)], 'QUANTITY': [('삼국', 12), ('삼국', 81), ('삼국', 314), ('10구체', 460), ('4구체', 481), ('8구체', 486), ('14수', 587), ('11수', 606)], 'PERSON': [('유리왕', 234), ('균여', 592), ('위홍', 626), ('대구화상', 630)], 'ARTIFACT': [('도솔가', 247), ('회소곡', 254), ('불교찬가', 596), ('삼대목', 644)], 'CITY': [('경주', 349)], 'CIVILIZATION': [('화랑', 363), ('승려', 366)]}   \n",
       "68                                                                                                                                                                                                                                                                                                                                                                                                                                         {'ARTIFACT': [('프랙탈', 0), ('프랙탈', 39), ('프랙탈', 108), ('Morisawa poster', 391)], 'THEORY': [('프랙탈 디자인', 127), ('프랙탈 디자인', 243), ('프랙탈 디자', 358)], 'TERM': [('포토샵', 252), ('컴퓨터', 266)], 'PERSON': [('존 마에다', 379)]}   \n",
       "\n",
       "      k_p          p_ch  \n",
       "197  True    (유리왕, 234)  \n",
       "68   True  (존 마에다, 379)  "
      ]
     },
     "execution_count": 26,
     "metadata": {},
     "output_type": "execute_result"
    }
   ],
   "source": [
    "df_p"
   ]
  },
  {
   "cell_type": "code",
   "execution_count": 262,
   "metadata": {},
   "outputs": [],
   "source": [
    "df_m = pd.concat([df_ner, df_p.iloc[:,:-1]])"
   ]
  },
  {
   "cell_type": "code",
   "execution_count": 264,
   "metadata": {},
   "outputs": [
    {
     "data": {
      "text/html": [
       "<div>\n",
       "<style scoped>\n",
       "    .dataframe tbody tr th:only-of-type {\n",
       "        vertical-align: middle;\n",
       "    }\n",
       "\n",
       "    .dataframe tbody tr th {\n",
       "        vertical-align: top;\n",
       "    }\n",
       "\n",
       "    .dataframe thead th {\n",
       "        text-align: right;\n",
       "    }\n",
       "</style>\n",
       "<table border=\"1\" class=\"dataframe\">\n",
       "  <thead>\n",
       "    <tr style=\"text-align: right;\">\n",
       "      <th></th>\n",
       "      <th>text</th>\n",
       "      <th>corpus_source</th>\n",
       "      <th>url</th>\n",
       "      <th>domain</th>\n",
       "      <th>title</th>\n",
       "      <th>author</th>\n",
       "      <th>html</th>\n",
       "      <th>document_id</th>\n",
       "      <th>context_ner</th>\n",
       "      <th>k_p</th>\n",
       "      <th>k_e</th>\n",
       "      <th>k_o</th>\n",
       "      <th>k_a</th>\n",
       "      <th>k_d</th>\n",
       "      <th>k_t</th>\n",
       "      <th>k_l</th>\n",
       "    </tr>\n",
       "  </thead>\n",
       "  <tbody>\n",
       "    <tr>\n",
       "      <th>0</th>\n",
       "      <td>이 문서는 나라 목록이며, 전 세계 206개 나라의 각 현황과 주권 승인 정보를 개요 형태로 나열하고 있다.\\n\\n이 목록은 명료화를 위해 두 부분으로 나뉘어 있다.\\n\\n# 첫 번째 부분은 바티칸 시국과 팔레스타인을 포함하여 유엔 등 국제 기구에 가입되어 국제적인 승인을 널리 받았다고 여기는 195개 나라를 나열하고 있다.\\n# 두 번째 부분은 일부 지역의 주권을 사실상 (데 팍토) 행사하고 있지만, 아직 국제적인 승인을 널리 받지 않았다고 여기는 11개 나라를 나열하고 있다.\\n\\n두 목록은 모두 가나다 순이다.\\n\\n일부 국가의 경우 국가로서의 자격에 논쟁의 여부가 있으며, 이 때문에 이러한 목록을 엮는 것은 매우 어렵고 논란이 생길 수 있는 과정이다. 이 목록을 구성하고 있는 국가를 선정하는 기준에 대한 정보는 \"포함 기준\" 단락을 통해 설명하였다. 나라에 대한 일반적인 정보는 \"국가\" 문서에서 설명하고 있다.</td>\n",
       "      <td>위키피디아</td>\n",
       "      <td>TODO</td>\n",
       "      <td>None</td>\n",
       "      <td>나라 목록</td>\n",
       "      <td>None</td>\n",
       "      <td>None</td>\n",
       "      <td>0</td>\n",
       "      <td>{'QUANTITY': [('206개', 20), ('두 부분', 75), ('첫 번째', 92), ('195개', 159), ('두 번째', 179), ('11개', 247), ('두 목록', 264)], 'LOCATION': [('바티칸', 101), ('팔레스타인', 109)], 'ORGANIZATION': [('유엔', 121)], 'CIVILIZATION': [('주권', 195), ('데 팍토', 204)]}</td>\n",
       "      <td>False</td>\n",
       "      <td>False</td>\n",
       "      <td>True</td>\n",
       "      <td>False</td>\n",
       "      <td>False</td>\n",
       "      <td>False</td>\n",
       "      <td>True</td>\n",
       "    </tr>\n",
       "    <tr>\n",
       "      <th>1</th>\n",
       "      <td>이 목록에 실린 국가 기준은 1933년 몬테비데오 협약 1장을 참고로 하였다. 협정에 따르면, 국가는 다음의 조건을 만족해야 한다.\\n* (a) 영속적인 국민\\n* (b) 일정한 영토\\n* (c) 정부\\n* (d) 타국과의 관계 참여 자격.\\n특히, 마지막 조건은 국제 공동체의 참여 용인을 내포하고 있기 때문에, 다른 나라의 승인이 매우 중요한 역할을 할 수 있다.  이 목록에 포함된 모든 국가는 보통 이 기준을 만족하는 것으로 보이는 자주적이고 독립적인 국가이다. 하지만 몬테비데오 협약 기준을 만족하는지의 여부는 많은 국가가 논쟁이 되고 있는 실정이다. 또한, 몬테비데오 협약 기준만이 국가 지위의 충분한 자격이든 아니든, 국제법의 견해 차이는 존재할 수 있다. 이 물음에 대한 다른 이론에 대한 고리는 아래에서 볼 수 있다.\\n\\n위 기준에 논거하여 이 목록은 다음 206개 국가를 포함하고 있다.\\n* 일반 국제 승인을 받은 195개 자주 국가.\\n** 유엔 가입 국가 193개\\n** 성좌의 명칭으로 유엔에서 국제 승인을 받은 국가: 바티칸 시국\\n** 팔레스타인지역에 위치하며 유엔 영구 옵서버 국가: 팔레스타인\\n* 유엔의 가입국이 아니며, 일반 국제 승인을 받지 않은 11개 자주 국가.\\n** 유엔 회원국으로부터 승인을 받은 8개 국가: 남오세티야, 니우에, 북키프로스 튀르크 공화국, 사하라 아랍 민주 공화국, 압하지야, 중화민국, 코소보, 쿡 제도,\\n** 유엔 비회원국으로부터 승인을 받은 2개 국가: 아르차흐 공화국, 트란스니스트리아\\n** 어떤 나라에서도 승인 받지 않은 국가: 소말릴란드\\n\\n위 목록에 포함되지 않은 다음 국가는 몬테비데오 협약의 모든 조건을 만족하지 못하거나, 자주적이고 독립적임을 주장하지 않는 국가이다.\\n* 남극 대륙 전체는 정부와 영속 인구가 없다. 7개 국가가 남극 대륙 일부를 차지하고 있으며, 이중 5개 국가가 서로의 영유권을 인정하고 있다.  남극 조약에 따라서 규제되는 이 권리는 어떤 나라에서도 승인을 받지 않았다. \\n* EU 유럽 연합은 27개 가입 국가를 보유한 독특한 초국가 기구이다. 가입 국가는 입법권, 행정권, 사법권 기준을 유럽 연합 위원회로 이양하며, 유럽 연합은 엄밀히 말해 일반적인 주권 국가 간주와 관계 없이 주권 국가로의 특징을 가지고 있다. 유럽 연합은 주권 국가를 주장하지 않으며, 다른 나라와의 관계에서 제한된 지위를 가지고 있다.\\n* 미국과 오스트레일리아, 기타 국가에서 주 (State)라고 칭하는 행정 구역은 주 (행정 구역)을 참고하라. 이러한 하부 국가 개념의 행정 구역은 일부를 제외하고는 다른 나라와 관계를 형성하지 않는다. 예를 들어서 독일 제국의 주는 해외 영사관을 가졌으며, 소비에트 연방의 한 부분이었던 우크라이나 소비에트 사회주의 공화국 (현재의 우크라이나)과 벨로루시 소비에트 사회주의 공화국 (현재의 벨라루스)는 유엔 가입국이었다. 무엇보다 중요한 것은, 이러한 주들은 자주적이고 독립적임을 주장하지 않는다는 것이다.\\n* 몰타 기사단 몰타 기사단은 \"총회에 유효 참관국 자격으로 참여할 수 있으며, 본부에서 영속적인 지위를 유지하는 기타 국가\" 분류에 속하는 유엔 참관 국가이다.  이 단체는 104개 국가와 쌍방 외교 관계를 맺고 있으나, 로마 내의 치외 법권 영역 이외에는 일정한 영토가 없다.  단체의 웹사이트에서는 \"항상 국가에게 국제법의 독립 주체로 인정 받는다.\"고 선언하고 있다.  기사단의 헌법 에서는 다음과 같이 설명하고 있다. \"기사단은 국제법의 주체이며, 주권 기능을 행사한다.\"  기사단은 자주 주권을 주장하고 있지만, 이름에서 볼 수 있듯이 주권 국가라고 주장하지는 않는다. 다른 대사관처럼 이탈리아는 이론상 기사단과 외교 관계를 파기할 수 있으며, 이탈리아 국민이 아닌 단원을 이탈리아 영토에서 강제로 추방할 수 있다. 기사단의 단원은 모두 다른 나라의 국민이기 때문에, 사실상 이들은 모두 자신의 국가에서 살고 있으며, 로마에서 기사단의 치외 법권 영역에 거주하는 단원은 오직 공식 직무에만 연관하여 활동한다. 따라서, 기사단은 영속적인 국민의 특성이 부족하다고 볼 수 있다.\\n* 마이크로네이션으로 여겨지는 국가는 자주적이고 독립적이라고 주장하고, 다른 나라와 외교 관계를 맺고자 시도하여도 포함하지 않았다. 마이크로네이션이 정말로 점유한 영토를 지배하는지, 마이크로네이션의 '인구' 감소 빈도가 낮은 지의 여부는 논쟁이 되고 있다.\\n* ISIS 등은 다른 나라들 못지 않은 영역을 두고 있으며 스스로를 \"나라\"라고 자처하지만, 국제법상 주권이 결여되어 있으며 국제법에 위배되는 테러리즘을 일삼아 '나라'로 간주되지도 않는다. 다만 준국가로 분류한다.</td>\n",
       "      <td>위키피디아</td>\n",
       "      <td>TODO</td>\n",
       "      <td>None</td>\n",
       "      <td>나라 목록</td>\n",
       "      <td>None</td>\n",
       "      <td>None</td>\n",
       "      <td>1</td>\n",
       "      <td>{'DATE': [('1933년', 16)], 'ORGANIZATION': [('몬테비데오 협약', 22), ('정부', 107), ('몬테비데오', 312), ('유엔', 473), ('유엔', 499), ('유엔', 542), ('유엔', 564), ('유엔', 608), ('유엔', 701), ('몬테비데오 협약', 798), ('정부', 864), ('남극 조약', 934), ('EU 유럽 연합', 979), ('유럽 연합 위원회', 1043), ('유럽 연합', 1060), ('유럽 연합', 1115), ('독일 제국', 1290), ('유엔', 1395), ('몰타 기사단', 1456), ('몰타 기사단', 1463), ('유엔', 1533), ('ISIS', 2148)], 'QUANTITY': [('1장', 31), ('a', 77), ('(b', 90), ('206개', 425), ('195개', 458), ('193개', 482), ('11개', 594), ('8개', 626), ('2개 국가', 720), ('7개', 879), ('5개', 909), ('27개', 989), ('104개', 1551)], 'CIVILIZATION': [('국민', 85), ('몬테비데', 261), ('국제법', 347), ('옵서버', 548), ('회원', 611), ('영유권', 920), ('입법권', 1025), ('행정권', 1030), ('사법권', 1035), ('주권', 1079), ('주권', 1095), ('국제법', 1631), ('헌법', 1667), ('국제법', 1696), ('주권', 1729), ('주권', 1756), ('국민', 1822), ('단원', 1829), ('단원', 1862), ('국민', 1876), ('단원', 1939), ('국민', 1980), ('국제법', 2199), ('주권', 2204), ('국제법', 2217)], 'TERM': [('아래', 392)], 'LOCATION': [('바티칸', 518), ('팔레스타인', 528), ('팔레스타인', 556), ('남오세티야', 633), ('북키프로스 튀르크 공화국', 645), ('사하라', 660), ('아랍 민주 공화국', 664), ('압하지야', 675), ('소말릴란드', 771), ('남극', 854), ('남극', 886), ('소비에트 사회주의 공화국', 1337), ('벨로루시', 1364), ('소비에트 사회주의 공화국', 1369)], 'COUNTRY': [('니우에', 640), ('중화민국', 681), ('코소보', 687), ('쿡 제도', 692), ('아르차흐 공화국', 727), ('트란스니스트리아', 737), ('미국', 1170), ('오스트레일리아', 1174), ('소비에트 연방', 1314), ('우크라이나', 1331), ('우크라이나', 1356), ('벨라루스', 1388), ('이탈리아', 1784), ('이탈리아', 1817), ('이탈리아', 1833)], 'CITY': [('로마', 1578), ('로마', 1914)], 'THEORY': [('마이크로네이션', 2004), ('마이크로네이션', 2076), ('마이크로네이션', 2104), ('테러리즘', 2227)]}</td>\n",
       "      <td>False</td>\n",
       "      <td>False</td>\n",
       "      <td>True</td>\n",
       "      <td>False</td>\n",
       "      <td>True</td>\n",
       "      <td>False</td>\n",
       "      <td>True</td>\n",
       "    </tr>\n",
       "    <tr>\n",
       "      <th>2</th>\n",
       "      <td>현 서울특별시 종로구 서린동 (구 일제 강점기 경기도 경성부 서린정) 출신이다. 친일파인 아버지 백낙승과 어머니 조종희 사이의 3남 2녀 중 막내로 태어났다. 그후 종로구 창신동 197번지 소위 \"큰대문집\"에서 18세까지 살았다. 수송국민학교와 경기제1고등보통학교를 다니면서 피아니스트 신재덕에게 피아노 연주를, 작이건우]]에게 작곡을 각각 배웠다. 이때 한국이 낳은 작곡가 김순남을 사사했다. 1949년 그는 홍콩 로이덴 스쿨로 전학했으며, 한국 전쟁이 발발하기 이전 가족이 일본으로 이주했다. 그 후 일본으로 건너가 1952년 도쿄 대학교 문과부에 입학했다. 2년 후 미술사학 및 미학으로 전공을 정했지만, 실제로는 일본 당대의 작곡가 모로이 사부로, 미학자 노무라 요시오 등에게서 작곡과, 음악사학을 공부했다. 졸업 논문은 ‘아르놀트 쇤베르크 연구’이다.\\n\\n1956년 백남준은 졸업과 함께 독일로 유학을 떠나 뮌헨 대학교 및 쾰른 대학교 등에서 서양의 건축, 음악사, 철학 등을 공부하였다. 뮌헨 대학교 입학 1년 후에는 프라이부르크 국립 음악 대학교로 옮겨 볼프강 포르트너 교수에게 배우지만, 곧 쇤베르크 이후 현대음악의 실험이 활발히 진행되던 다름슈타트 하기 강좌에 참여했다. 1958년 그 곳에서 현대음악가 존 케이지를 만나 그의 음악에 대한 파괴적 접근과 자유정신으로부터 깊은 영감을 얻었다. 이 영감은 \"세계의 역사는 우리에게 알려준다. 주어진 게임에서 이길 수 없다면 규칙을 바꿔라\" 라는 것으로 규정된다. 이후 1950년대부터 활발해지기 시작한 독일 라인 지역의 액션뮤직의 현장에서 백남준은 ‘아시아에서 온 문화테러리스트’(앨런 카프로)라고 불릴 정도의 탁월한 퍼포먼스 아티스트로 활약했다. 1959년 ‘존 케이지에게 보내는 경의’에서 음악적 콜라주와 함께 피아노를 부수는 퍼포먼스를 선보이는 것을 시작으로, 바이올린을 단숨에 파괴하거나(바이올린 솔로) 존 케이지가 착용한 넥타이를 잘라버리는 퍼포먼스(피아노 포르테를 위한 연습곡)가 특히 유명하다. 이 초기 퍼포먼스에 대해 백남준은 스스로 \"충격, 표현주의, 낭만주의, 클라이맥스, 놀라움, 기타 등등을 보여준 것\"이라고 표현한 바 있다. 1961년 카를하인츠 슈토크하우젠의 음악 퍼포먼스 ‘오리기날레’에서 머리와 넥타이로 잉크를 묻혀 두루마리에 흔적을 남기는 독특한 퍼포먼스 심플 머리를 위한 선율을 보여주기도 했다. 1960년대 초반 조지 마키우나스, 요셉 보이스 등과 의기투합하여 플럭서스 활동을 함께 전개했다. 다다이즘에 영향을 받은 플럭서스는 헤라클레이투스가 주장한 ‘변화 생성의 흐름’ 이라는 개념을 받아들여 \"목적이 없는 자유, 실험을 위한 실험\"이라는 명목 하에 이벤트와 퍼포먼스 그리고 전위음악에 주력했고, 곧 유럽과 아시아 및 미국 등 세계로 퍼져나갔다.\\n\\n1961년 백남준은 작곡가 슈토크하우젠이 중심이 된 쾰른의 WDR 전자음악 스튜디오에 출입했으며, 이때 1950년대부터 노버트 위너에 의해 제안된 '사이버네틱스' 개념 하에서 전자공학을 공부한 것으로 알려져 있다. 특히 레이다와 TV 작업에 몰두했던 독일 작가 칼 오토 괴츠의 실패를 거울 삼아서 2년여 동안 홀로 TV를 활용한 미디어 아트로서의 가능성을 탐문하고 실험했다. 그 성과를 바탕으로 1963년 독일 부퍼탈 파르나스 갤러리에서 자신의 첫 번째 전시 ‘음악의 전시-전자 텔레비전’을 열었으며, 13대의 실험적인 TV를 통해 훗날 비디오 아트라고 불리게 되는 초기 형태를 보여주었다. 이 전시는 백남준이 자신의 즉흥음악 또는 무음악의 발상에 기초한 실제 퍼포먼스, 그 흔적과 결과물처럼 유럽에서 자신이 진행해온 작업의 성과와 함께 TV를 비롯한 미디어로 새로운 예술의 형태를 시도하는 작업이 공존하고 있었다. ‘적분된 피아노’, ‘랜덤 액세스 뮤직’, ‘레코드 샤슐릭’같은 20세기 전위음악에 젖줄을 대고 있는 실험적 음악의 시도와 ‘잘린 소머리’, ‘파괴된 누드 마네킹’, ‘보이스의 피아노 파괴 퍼포먼스’'걸음을 위한 선' '바람을 위한 선' 같은 우상파괴적 설치 작업 및 참여예술 형태의 퍼포먼스가 함께 펼쳐졌다. 청년 백남준은 이러한 전시 내용을 ‘동시성’, ‘참여’, ‘임의접속’ 등등에 관한 16개의 테마로써 정리하는 종합적인 큐레이팅 전시로 보여주었기 때문에 최근날짜=2015-5-9 독일, 오스트리아 등지의 연구자들 사이에서 이 전시의 중요성을 재평가하면서 아카이빙 작업과 연구가 점차 활발해지는 추세에 있다.\\n\\n1964년 백남준은 일본으로 건너가 '로봇 K-456'을 제작했으며, 곧 세계 예술의 중심지 뉴욕으로 이주했다. 뉴욕 언더그라운드 필름 운동의 중심지 중 하나였던 시네마테크 필름메이커스에 관여했으며, 스스로 영상 작업을 진행하기도 했다. 1965년 소니의 포타팩(세계 최초의 휴대용 비디오카메라)으로 미국 뉴욕을 첫 방문 중이던 교황 요한 바오로 6세를 촬영하여 곧바로 그 영상을 ‘카페 오 고고’에서 방영했다. 이것이 미술사에서는 한동안 공식적인 비디오 아트의 시작으로 기록되어 있었다. 지금은 1963년 첫번째 전시를 비디오아트의 기점으로 보고 있다. 또한 첼로 연주자이자 뉴욕 아방가르드 페스티벌의 기획자였던 샬럿 무어먼과 함께 비디오 아트와 음악을 혼합한 퍼포먼스 작업을 활발히 펼쳤다. 특히 1967년 음악에 성적인 코드를 집어넣은 백남준의 ‘오페라 섹스트로니크’에서 샬럿 무어먼은 누드 상태의 첼로 연주를 시도하다가 뉴욕 경찰에 체포되어 큰 사회적 파장을 불러일으켰다. 그 결과로 인해 예술 현장에서 누드를 처벌할 수 없다는 뉴욕의 법 개정이 이루어지는 획기적인 진전이 일어난다. 이후에도 미디어 아트가 미국 뉴욕을 중심으로 서서히 득세해가는 시대적 조류 속에서 두 사람은 ‘살아있는 조각을 위한 TV 브라’, ‘TV 첼로’, ‘TV 침대’ 등등 미디어 테크놀로지와 퍼포먼스를 결합한 많은 예술활동을 전개했다.\\n\\n1974년부터 백남준은 영상으로서의 비디오 아트를 새로운 미술적 방법인 설치 미술로 변환하여 다양하게 진행했으며, 그에 따라 ‘TV 붓다’, ‘달은 가장 오래된 TV다’, ‘TV 정원’, ‘TV 물고기’ 등등 많은 대표작을 선보였다. 이 작품들은 비디오 아트와 생명의 상징을 전자적으로 결합하여 테크놀로지로 물든 현대 사회의 새로운 합성적 생명력을 추구했다는 평판을 얻었다. 특히 'TV 붓다'는 그의 초기 비디오 설치의 경향을 잘 보여주는 대표작으로서 가장 널리 알려졌다. 1960년대 후반부터 미국의 문화적 환경이 미디어 테크놀로지에 호의적으로 변화하면서 폭발적인 수준의 미디어 전시가 빈발했고, 백남준의 비디오 아트는 그룹전 형태로 수많은 전시에 활발하게 참여했다. 1974년 뉴욕 에버슨 미술관 개인전과 함께 비데아 앤 비디올로지: 1959-1973이라는 예술과 기술을 교차시키는 하이브리드에 관한 저작을 내놓아 미디아 아트의 이해를 도왔으며, 1982년 뉴욕 휘트니 미술관에서 개최된 ‘백남준 회고전’을 통해 그의 예술 세계가 뉴욕을 중심으로 미국 사회에 많이 알려지는 계기가 되었다.\\n\\n1970년대 중반부터는 뉴욕 WNET 방송국, 보스턴 WGBH 방송국과 협력하여 자신의 비디오 아트를 공중파 TV에서 방송했고, 이는 네트워크 방송을 끌어들여 예술 세계의 영역 확장을 꾀한 놀라운 시도였다. 나아가 1984년 1월 1일 ‘굿모닝 미스터 오웰’은 세계적인 아티스트들의 퍼포먼스를 뉴욕 WNET 방송국과 파리 퐁피두 센터를 연결한 실시간 위성 생중계로 방송하여 전 세계적 반향을 불러일으켰다. 샌프란시스코와 서울까지 연결된 이 국제적인 규모의 위성 아트에는 로리 앤더슨, 피터 가브리엘, 오잉고 보잉고, 존 케이지, 요셉 보이스, 앨런 긴즈버그, 이브 몽탕 등의 예술가과 대중문화의 스타가 다수 참여했으며, 전 세계 2천 5백만명(재방송 포함)이 시청하였다. 이로써 전세계적인 차원의 대중적 각인이 이루어졌고, 마치 대중스타처럼 성가를 높였다. 이후에도 ‘위성 아트’ 3부작으로 명명된 ‘바이 바이 키플링’(1986), ‘손에 손잡고’(1988) 등이 이어져 위성 연결을 통한 전세계의 네트워크가 어떻게 새로운 부족사회를 낳는지 실감시켰다.\\n\\n1984년 일본 도쿄 소게쓰[草月]홀에서 백남준과 요셉 보이스가 공동으로 참여한 퍼포먼스 '코요테 콘서트 II'가 펼쳐졌으며, 이들이 각각 몽골의 늑대 울음소리와 초원의 달빛을 음악적으로 표현한 것을 통해 1961년 첫 만남부터 계속 이어온 공동의 관심사가 무엇인지 알려지기 시작했다. 그러나 이들의 이후 퍼포먼스 계획은 요셉 보이스의 죽음과 함께 미완으로 끝났다.\\n\\n1992년 '비디오 때, 비디오 땅' 전시는 독일 쿤스트 할레와 스위스 쮜리히에서 진행된 전시의 서울 투어전시로서 당시 과천 막계동에 자리잡은 지 몇 년 되지 않았던 국립현대미술관 과천관에 총 관람 인원 20만명이 찾은 첫번째 전시로 기록되었다. 이 전시의 주요한 작품은 '나의 파우스트' 시리즈이다. 1993년 백남준은 독일 작가 한스 하케와 함께 베니스 비엔날레 독일관 작가로 초대되어 국가전시관 부문에서 황금사자상을 수상했다. '문명의 동서남북'이라는 주제의 이 전시에서 그는 북방 유라시아의 유목 문화를 배경으로 전자적 소통을 시도하는 비디오 로봇 형태의‘칭기스칸의 복권’, ‘마르크폴로’, ‘훈족의 왕 아틸라’,‘스키타이의 왕 단군’, ‘로봇 전사’, ‘고대기마인물상’ 같은 작품들을 중심으로 다수의 작품을 내놓았다.\\n\\n1995년 백남준은 제1회 광주 비엔날레 태동의 산파 역할을 하며, 한국 미술이 국제적으로 진출할 수 있도록 조력자 역할을 수행했다. 제1회 광주 비엔날레는 국내외 총 관람객이 160만 명에 달하는 성공을 거두었고, 특히 백남준이 직접 관여한 ‘INFO Art’전이 주목받았다. 또한 백남준은 같은 해 베니스 비엔날레 국가전시관 부문에 한국관을 설치하는 일에 결정적인 역할을 했다. 이로써 한국 미술이 세계 미술계에 진출하는 교두보가 마련되었다고 하겠다. 같은 해 그의 예술적 정수가 담긴 일렉트로닉 수퍼하이웨이 전시를 진행했다. 1996년 4월 9일 뇌졸중으로 쓰러졌으며, 6개월만인 그해 10월에 재기했다. 2000년 뉴욕 구겐하임 미술관에서 ‘백남준의 세계’ 라는 대규모 회고전이 열렸으며, 이때 백남준은 레이저 아트 ‘야곱의 사다리’, ‘삼원소’ 등을 전시한 바 있다.\\n\\n2006년 1월 29일, 미국 마이애미의 자택에서 노환으로 75세로 별세, 유해가 서울, 뉴욕, 독일에 나눠서 안치되었다.</td>\n",
       "      <td>위키피디아</td>\n",
       "      <td>TODO</td>\n",
       "      <td>None</td>\n",
       "      <td>백남준</td>\n",
       "      <td>None</td>\n",
       "      <td>None</td>\n",
       "      <td>2</td>\n",
       "      <td>{'CITY': [('서울특별시', 2), ('홍콩', 230), ('쾰른', 1396), ('뉴욕', 2221), ('뉴욕', 2232), ('뉴욕', 2340), ('뉴욕', 2492), ('뉴욕', 2632), ('뉴욕', 2693), ('뉴욕', 2740), ('뉴욕', 3235), ('뉴욕', 3336), ('뉴욕', 3377), ('뉴욕', 3423), ('보스턴', 3436), ('뉴욕', 3574), ('파리', 3587), ('샌프란시스코', 3637), ('서울', 3645), ('도쿄', 3953), ('서울', 4203), ('뉴욕', 4904), ('마이애미', 5008), ('서울', 5037), ('뉴욕', 5041)], 'LOCATION': [('종로구', 8), ('서린동', 12), ('경기도', 26), ('경성부', 30), ('서린정', 34), ('종로구', 92), ('창신동', 96), ('서양', 475), ('라인', 765), ('아시아', 789), ('유럽', 1341), ('아시아', 1345), ('유럽', 1755), ('쿤스트 할레', 4177), ('쮜리히', 4189), ('과천', 4216), ('막계동', 4219), ('유라시아', 4422)], 'DATE': [('일제 강점기', 19), ('1949년', 221), ('1952년', 291), ('2년 후', 315), ('1956년', 426), ('1년 후', 511), ('1958년', 607), ('1950년대부터', 743), ('1959년', 844), ('1961년', 1068), ('1960년대 초반', 1169), ('1961년', 1367), ('1950년대부터', 1425), ('2년여 동안', 1533), ('1963년', 1588), ('20세기', 1860), ('2015-5-9', 2088), ('1964년', 2169), ('1965년', 2302), ('1963년', 2447), ('1967년', 2561), ('1974년부터', 2853), ('1960년대 후반부터', 3119), ('1974년', 3229), ('1959-1973', 3267), ('1982년', 3330), ('1970년대 중반부터', 3410), ('1984년 1월 1일', 3530), ('1986', 3869), ('1988', 3885), ('1984년', 3944), ('1961년', 4059), ('1992년', 4149), ('1993년', 4318), ('1995년', 4556), ('같은 해', 4720), ('같은 해', 4811), ('1996년 4월 9일', 4853), ('6개월만', 4878), ('그해 10월', 4884), ('2000년', 4898), ('2006년 1월 29일', 4991)], 'CIVILIZATION': [('친일파', 45), ('아버지', 50), ('어머니', 59), ('막내', 79), ('가족', 263), ('미학자', 367), ('현대음악가', 619), ('영감', 676), ('문화테러리스트', 797), ('아티스트', 832), ('넥타이', 946), ('넥타이', 1110), ('연구자', 2111), ('교황', 2353), ('기획자', 2507), ('아티스트', 3561), ('대중스타', 3818), ('황금사자상', 4378), ('조력자', 4617), ('관람객', 4650)], 'PERSON': [('백낙승', 54), ('조종희', 63), ('신재덕', 160), ('작이건우', 175), ('김순남', 210), ('모로이 사부로', 358), ('노무라 요시오', 371), ('백남준', 432), ('볼프강 포르트너', 539), ('쇤베르크', 561), ('존 케이지', 625), ('백남준', 783), ('앨런 카프로', 806), ('존 케이지', 935), ('백남준', 1003), ('카를하인츠 슈토크하우젠', 1074), ('조지 마키우나스', 1179), ('요셉 보이스', 1189), ('플럭서스', 1237), ('헤라클레이투스', 1243), ('백남준', 1373), ('슈토크하우젠', 1382), ('노버트 위너', 1434), ('칼 오토 괴츠', 1513), ('백남준', 1704), ('백남준', 2001), ('백남준', 2175), ('요한 바오로', 2356), ('샬럿 무어먼', 2513), ('백남준', 2584), ('샬럿 무어먼', 2604), ('백남준', 2861), ('백남준', 3189), ('로리 앤더슨', 3673), ('피터 가브리엘', 3681), ('오잉고 보잉고', 3690), ('존 케이지', 3699), ('요셉 보이스', 3706), ('앨런 긴즈버그', 3714), ('이브 몽탕', 3723), ('백남준', 3967), ('요셉 보이스', 3972), ('요셉 보이스', 4124), ('백남준', 4324), ('한스 하케', 4335), ('백남준', 4562), ('백남준', 4680), ('백남준', 4715), ('백남준', 4949)], 'QUANTITY': [('3남 2녀', 71), ('197번지', 100), ('18세', 118), ('첫 번째', 1616), ('13대', 1648), ('16개', 2044), ('하나', 2255), ('6세', 2363), ('첫번째', 2453), ('두 사람', 2770), ('2천 5백만명', 3762), ('3부작', 3847), ('20만명', 4263), ('첫번째', 4272), ('제1회', 4567), ('제1회', 4631), ('160만 명', 4655), ('75세', 5024)], 'ARTIFACT': [('큰대문', 110), ('피아노', 166), ('아르놀트 쇤베르크 연구', 409), ('존 케이지에게 보내는 경의', 851), ('피아노', 881), ('바이올린', 910), ('바이올린', 926), ('피아노', 962), ('기타', 1041), ('오리기날레', 1097), ('부퍼탈 파르나스 갤러리', 1597), ('적분된 피아노', 1825), ('랜덤 액세스 뮤직', 1836), ('레코드 샤슐릭', 1849), ('잘린 소머리', 1894), ('파괴된 누드 마네킹', 1904), ('보이스의 피아노', 1918), ('걸음을 위한 선', 1936), ('바람을 위한 선', 1947), ('로봇 K-456', 2190), ('포타팩', 2312), ('카페 오 고고', 2383), ('첼로', 2483), ('오페라 섹스트로니크', 2590), ('첼로', 2619), ('살아있는 조각을 위한', 2777), ('TV 브라', 2789), ('TV 첼로', 2798), ('TV 침대', 2807), ('TV 붓다', 2924), ('달은 가장 오래된 TV다', 2933), ('TV 정원', 2950), ('TV 물고기', 2959), ('TV 붓다', 3067), ('에버슨 미술관', 3238), ('비데아 앤 비디올로지', 3254), ('휘트니 미술관', 3339), ('굿모닝 미스터 오웰', 3543), ('바이 바이 키플링', 3858), ('손에 손잡고', 3877), ('소게쓰[草月]홀', 3956), ('국립현대미술관 과천관', 4242), ('나의 파우스트', 4302), ('칭기스칸의 복권', 4464), ('마르크폴로', 4476), ('훈족의 왕 아틸라', 4485), ('스키타이의 왕 단군', 4497), ('로봇 전사', 4511), ('고대기마인물상', 4520), ('구겐하임 미술관', 4907), ('야곱의 사다리', 4962), ('삼원소', 4973)], 'ORGANIZATION': [('수송국민학교', 129), ('경기제1고등보통학교', 137), ('로이덴 스쿨', 233), ('도쿄 대학교', 297), ('뮌헨 대학교', 455), ('쾰른 대학교', 464), ('뮌헨 대학교', 501), ('프라이부르크 국립 음악 대학교', 518), ('WDR', 1400), ('시네마테크 필름메이커스', 2260), ('소니', 2308), ('경찰', 2635), ('WNET 방송국', 3426), ('WGBH 방송', 3440), ('WNET 방송국', 3577), ('퐁피두 센터', 3590), ('독일', 4354)], 'OCCUPATION': [('피아니스트', 154), ('작곡가', 206), ('작곡가', 354), ('교수', 548), ('작곡가', 1378), ('작가', 1510), ('연주자', 2486), ('예술가', 3732), ('스타', 3743), ('작가', 4332), ('작가', 4358)], 'COUNTRY': [('한국', 199), ('일본', 267), ('일본', 282), ('일본', 347), ('독일', 444), ('독일', 762), ('미국', 1351), ('독일', 1507), ('독일', 1594), ('독일', 2097), ('오스트리아', 2101), ('일본', 2180), ('미국', 2337), ('미국', 2737), ('미국', 3131), ('미국', 3386), ('일본', 3950), ('몽골', 4022), ('독일', 4174), ('스위스', 4185), ('독일', 4329), ('한국', 4594), ('한국', 4744), ('한국', 4774), ('미국', 5005), ('독일', 5045)], 'EVENT': [('한국 전쟁', 248), ('다름슈타트 하기', 588), ('아방가르드 페스티벌', 2495), ('백남준 회고', 3354), ('코요테 콘서트 II', 3995), ('비디오 때, 비디오 땅', 4156), ('베니스 비엔날레', 4345), ('광주 비엔날레', 4571), ('광주 비엔날레', 4635), ('INFO Art', 4693), ('베니스 비엔날레', 4725), ('백남준의 세계', 4919)], 'STUDY_FIELD': [('미술사학', 320), ('미학', 327), ('음악사학', 389), ('건축', 479), ('음악사', 483), ('철학', 488), ('현대음악', 569), ('액션뮤직', 772), ('전자음', 1404), ('전자공학', 1465), ('비디오 아트', 1668), ('미술사', 2404), ('비디오 아트', 2420), ('비디오아트', 2461), ('비디오 아트', 2524), ('미디어 아트', 2729), ('미디어 테크놀로지', 2817), ('비디오 아트', 2873), ('설치 미술', 2893), ('비디오 아트', 2991), ('미', 3143), ('디어 테크놀로지', 3144), ('비디오 아트', 3194), ('미디아 아트', 3312), ('비디오 아트', 3459), ('위성 아트', 3665), ('위성 아트', 3840), ('미술', 4597), ('미술', 4777), ('일렉트로', 4830), ('레이저 아트', 4954)], 'THEORY': [('표현주의', 1017), ('낭만주의', 1023), ('다다이즘', 1224)], 'ANIMAL': [('머리', 1106), ('머리', 1148), ('늑대', 4026)], 'TERM': [('레이다', 1490), ('TV', 1495), ('TV', 1543), ('음악의 전시-전자 텔레비전', 1625), ('TV', 1658), ('TV', 1780), ('휴대용', 2323), ('비디오카메라', 2327), ('비디오', 3081), ('TV', 3471), ('위성', 3898), ('동서남북', 4396), ('북방', 4419), ('비디오', 4453), ('로봇', 4457)], 'DISEASE': [('뇌졸중', 4865)]}</td>\n",
       "      <td>True</td>\n",
       "      <td>True</td>\n",
       "      <td>True</td>\n",
       "      <td>False</td>\n",
       "      <td>True</td>\n",
       "      <td>False</td>\n",
       "      <td>True</td>\n",
       "    </tr>\n",
       "    <tr>\n",
       "      <th>3</th>\n",
       "      <td>아오조라 문고(靑空文庫, あおぞらぶんこ|아오조라 분고)는 ‘일본어판 구텐베르크 프로젝트’로 불리는 일본의 인터넷 전자도서관으로, 저작권이 풀린 문학작품을 수집, 전자문서화해서 인터넷에 공개하고 있다. 저자 사후 50년이 지난 메이지, 쇼와 시대 초기의 일본 문학 작품이 그 대부분을 차지하고 있고, 일본어 외 문학 작품의 일본어 번역 작품도 다수 있다. 1997년 2월 도미타 미치오, 노구치 에이치, 야마키 미에, 란무로 사테이 등 4명이 창설하여 시작되었다.  2016년 연간 방문객수는 940만 건 이상이다. \\n\\n아오조라 문고에 수록된 작품은 JIS X 0208에 해당되는 한자 범위 내에서 자원봉사자에 의해 아오조라 문고 형식 텍스트파일이나 HTML 파일로 전자화된다. 또 아오조라 문고 수록파일 취급기준에 따라 자유롭게 이용할 수 있기 때문에, 수록된 작품을 PC는 물론 PDA와 휴대전화로도 볼 수 있다. 텍스트 파일을 큰 글자로 인쇄하거나 전용 소프트웨어에 불러들여 시각장애인용으로 이용하는 방안도 기대되고 있다. 아오조라 문고의 열람 소프트웨어는 따로 개발 및 제공되고 있는 것은 없지만, 전자사전이나 아이폰용 어플리케이션 등은 타사에서 개발하여 출시되어 있다</td>\n",
       "      <td>위키피디아</td>\n",
       "      <td>TODO</td>\n",
       "      <td>None</td>\n",
       "      <td>아오조라 문고</td>\n",
       "      <td>None</td>\n",
       "      <td>None</td>\n",
       "      <td>3</td>\n",
       "      <td>{'ORGANIZATION': [('아오조라 문고', 0), ('아오조라 분고', 22), ('아오조라 문고', 287), ('아오조라 문', 378), ('아오조라 문고', 516)], 'TERM': [('일본어판', 33), ('구텐베르크 프로젝트', 38), ('HTML', 360), ('PC', 427), ('PDA', 434), ('휴대전화', 439)], 'COUNTRY': [('일본', 55), ('일본', 141)], 'CIVILIZATION': [('저작권', 72), ('일본어', 167), ('일본어', 180), ('방문객', 268), ('한자', 321), ('자원봉사자', 331), ('시각장애인', 489)], 'OCCUPATION': [('저자', 112)], 'DATE': [('50년', 118), ('쇼와 시대 초', 131), ('1997년 2월', 198), ('2016년', 259), ('연간', 265)], 'PERSON': [('메이지', 126), ('도미타 미치오', 207), ('노구치 에이치', 216), ('야마키 미에', 225), ('란무로 사테이', 233)], 'STUDY_FIELD': [('문학', 144), ('문학', 173)], 'QUANTITY': [('4명', 243), ('940만 건 이상', 274)], 'ARTIFACT': [('JIS X 0208', 304), ('아오조라', 341), ('아이폰', 566)]}</td>\n",
       "      <td>True</td>\n",
       "      <td>False</td>\n",
       "      <td>True</td>\n",
       "      <td>False</td>\n",
       "      <td>True</td>\n",
       "      <td>False</td>\n",
       "      <td>False</td>\n",
       "    </tr>\n",
       "    <tr>\n",
       "      <th>4</th>\n",
       "      <td>저자 사망 이후 50년이 지나 저작권이 소멸한 메이지 시대부터 쇼와 시대 초기까지의 서적 대부분이 존재한다. 외국 번역작품이나 저자가 무료보기를 인정한 현대작품도 포함된다. 장르는 정치부터 취미까지 다양하지만, 비교적 문학작품(시대소설, 추리소설등의 오락작품 포함)이 많다. 유명작가의 작품이 모두 갖춰져있진 않지만 그래도 일본어작품에 관련해서는 충실하게 갖춰진 편이다. (번역작품의 경우 번역저작권을 문제로 수가 많지 않다.)\\n\\n잘 알려지지 않은 작품을 보존, 소개하는 장점도 있다. 작품 텍스트화는 지금도 현재진행형이며 2011년 3월 15일 현재 등록작품수가 1만권이 넘었다.\\n고전작가인 모리 오가이, 나츠메 소세키, 아쿠타가와 류노스케, 최근의 작가로는 나카지마 아츠시, 다자이 오사무, 하야시 후미코, 미야모토 유리코, 호리 다쓰오, 사카구치 안고, 다카무라 고타로, 나가이 가후, 요시카와 에이지 등 인물의 작품이 있다.</td>\n",
       "      <td>위키피디아</td>\n",
       "      <td>TODO</td>\n",
       "      <td>None</td>\n",
       "      <td>아오조라 문고</td>\n",
       "      <td>None</td>\n",
       "      <td>None</td>\n",
       "      <td>4</td>\n",
       "      <td>{'OCCUPATION': [('저자', 0), ('저자', 71), ('작가', 156), ('작가', 364)], 'DATE': [('50년', 9), ('메이지 시대부터', 26), ('쇼와 시대 초기까지', 35), ('2011년 3월 15일', 292)], 'CIVILIZATION': [('저작권', 17), ('일본어', 181), ('번역저작권', 218), ('고전작가', 325)], 'STUDY_FIELD': [('시대소설', 127), ('추리소설', 133)], 'QUANTITY': [('1만권', 315)], 'PERSON': [('모리 오가이', 331), ('나츠메 소세키', 339), ('아쿠타가와 류노스케', 348), ('나카지마 아츠시', 369), ('다자이 오사무', 379), ('하야시 후미코', 388), ('미야모토 유리코', 397), ('호리 다쓰오', 407), ('사카구치 안고', 415), ('다카무라 고타로', 424), ('나가이 가후', 434), ('요시카와 에이지', 442)]}</td>\n",
       "      <td>True</td>\n",
       "      <td>False</td>\n",
       "      <td>False</td>\n",
       "      <td>False</td>\n",
       "      <td>True</td>\n",
       "      <td>False</td>\n",
       "      <td>False</td>\n",
       "    </tr>\n",
       "    <tr>\n",
       "      <th>5</th>\n",
       "      <td>아오조라 문고는 자원봉사로 운영되며 열람 역시 무료이다.  서비스 개시 초반에는 보이저 사에서 서버를 제공하였다.  1998년부터 1999년까지는 토미타가 작업 수칙과 매뉴얼을 만들었다. \\n\\n자원봉사로 운영되기 때문에 작품의 입력과 교정 역시 자원봉사자가 한다 입력은 원본을 보면서 타자입력이나 스캐너로 입력하는 방법으로 이뤄진다 또 작품을 입력하는 '입력자'와 입력된 작품을 교정하는 '교정자'는 별도의 자원봉사자가 담당한다.  따라서 작품이 공개되기 전까지는 작품을 입력한 뒤 교정자가 교정을 예약할 때까지 '교정대기' (校正待ち)가 되고, 작업을 멈추게 된다. 즉, 입력하는 자원봉사자가 작품을 입력해 교정을 맡은 자원봉사자가 교정예약을 해서, 교정작업을 완료하기 전까지는 작품을 공개할 수 없다. 때문에 입력이 완료되어도 작업 상태가 '교정대기' 상태인 작품이 증가하고\\n있다.  이는 입력에 비해 교정 작업이 부족하기 때문으로, 아오조라 문고 출범 당시부터 안고 있는 문제점이기도 하다. 이 문제에 대해서는 작품의 교정작업을 하지 않고 공개하는 방안과 입력자가 교정한 것도 인정하자는 방안이 제기된 적이 있지만 현재까지도 이 방안은 채택되지 못하고 있다 대신 2011년 12월 16일 공개분부터는 기부금을 재원으로 삼은 '유상교정' 서비스가 진행되고 있다. \\n\\n2013년 8월 아오조라 문고의 설립자인 토미타가 사망한 것을 계기로, 아오조라 문고에 지속적인 지원을 해줄 '책의 미래 기금' (本の未来基金)이 설립됐다.  하지만 2015년부터는 엔지니어가 없는 상태로 서버를 강제로 돌리고 있으며, 서버 자체도 노후화되고 있다는 점이 문제되고 있다. 이 때문에 2015년 5월 \"'Code for 아오조라 문고' 아이디어 송\"이 개최되어 향후 시스템 운용에 대한 의견 교환이 이뤄졌다.  그 이후에는 해당 모임을 바탕으로 시스템 관리와 코드수정 등을 맡는 'aozorahack' 프로젝트가 진행되고 있다.</td>\n",
       "      <td>위키피디아</td>\n",
       "      <td>TODO</td>\n",
       "      <td>None</td>\n",
       "      <td>아오조라 문고</td>\n",
       "      <td>None</td>\n",
       "      <td>None</td>\n",
       "      <td>5</td>\n",
       "      <td>{'ORGANIZATION': [('아오조라 문고', 0), ('보이저', 44), ('아오조라 문고', 462), ('아오조라 문고', 655), ('아오조라 문고', 686), ('책의 미래 기금', 708)], 'DATE': [('1998년부터 1999년까지', 63), ('2011년 12월 16일', 591), ('2013년 8월', 646), ('2015년부터', 738), ('2015년 5월', 812)], 'PERSON': [('토미타', 80), ('토미타', 669)], 'CIVILIZATION': [('자원봉사자', 132), ('입력자', 193), ('교정자', 213), ('자원봉사자', 223), ('교정자', 264), ('자원봉사자', 320), ('자원봉사자', 342), ('입력자', 531)], 'TERM': [('스캐너', 161), ('aozorahack', 921)], 'OCCUPATION': [('설립자', 664), ('엔지니어', 747)], 'EVENT': [('Code for 아오조라 문고' 아이디어 송', 823)]}</td>\n",
       "      <td>True</td>\n",
       "      <td>True</td>\n",
       "      <td>True</td>\n",
       "      <td>False</td>\n",
       "      <td>True</td>\n",
       "      <td>False</td>\n",
       "      <td>False</td>\n",
       "    </tr>\n",
       "    <tr>\n",
       "      <th>6</th>\n",
       "      <td>텍스트 파일을 아오조라 문고에 수록할 때, 텍스트 파일이 갖추어야 할 서식을 '아오조라 문고' 형식이라 부른다.\\n\\n아오조라 문고 형식은 텍스트 파일로서 많은 환경에서 읽을 수 있도록 규격화되어있다. 때문에 가능한 한 원본의 충실한 재현을 목표로 삼고 있지만, 줄 바꿈이나 삽화 등의 정보는 원칙적으로 포함되지 않는다.\\n\\n아오조라 문고 형식에 대응하는 텍스트 뷰어와 텍스트 편집기도 존재하며, 올림문자와 방점 등도 재현할 수 있다. 또 이러한 텍스트 뷰어에서는 본래 아오조라 문고 형식에 포함되지 않았던 삽화 정보를 삽입하거나 세로쓰기로 표시할 수 있으며, 텍스트를 읽기 쉽도록 만드는 다양한 기능이 포함되어 있다. 이러한 소프트웨어는 유료와 무료를 불문하고 종류가 다양하다.</td>\n",
       "      <td>위키피디아</td>\n",
       "      <td>TODO</td>\n",
       "      <td>None</td>\n",
       "      <td>아오조라 문고</td>\n",
       "      <td>None</td>\n",
       "      <td>None</td>\n",
       "      <td>6</td>\n",
       "      <td>{'TERM': [('아오조라 문고', 8), ('아오조라 문고', 44), ('텍스트 뷰어', 194), ('편집기', 206), ('텍스트 뷰어', 245)], 'ARTIFACT': [('아오조라', 258)]}</td>\n",
       "      <td>False</td>\n",
       "      <td>False</td>\n",
       "      <td>False</td>\n",
       "      <td>False</td>\n",
       "      <td>False</td>\n",
       "      <td>False</td>\n",
       "      <td>False</td>\n",
       "    </tr>\n",
       "    <tr>\n",
       "      <th>7</th>\n",
       "      <td>일본어 표기에 많이 쓰이는 올림문자 (후리가나)는 그대로 올려쓰지 않고 '｜'나 '《》'로 표시한다.  올림문자를 《》 로 묶거나 ｜로 올릴 문자열을 특정하는 방식은 일본 시각장애인 독서지원협회 (BBA) 의 원문입력 수칙에 따른 것이다.  \\n\\n이 같은 방식을 예시로 들자면 다음과 같다.\\n:青空｜文庫《ぶんこ》 아오조라 문고\\n라고 표기했다면 'ぶんこ' (분코)라는 올림표기가 '文庫' 부분에 걸려 있는 것이다. 다만,\\n:本日は晴天《せいてん》なり。 오늘은 맑은 하늘.\\n처럼 올림표기를 쓸 한자가 가나로 충분히 구분된다면 ｜를 써서 분리할 필요가 없으므로 쓰지 않는다. 또한,\\n:｜ブルースカイ《青空》 블루스카이 (\"청공\")\\n처럼 가나에 올림표기를 강제로 쓰는 것도 가능하다.</td>\n",
       "      <td>위키피디아</td>\n",
       "      <td>TODO</td>\n",
       "      <td>None</td>\n",
       "      <td>아오조라 문고</td>\n",
       "      <td>None</td>\n",
       "      <td>None</td>\n",
       "      <td>7</td>\n",
       "      <td>{'CIVILIZATION': [('일본어', 0), ('한자', 268)], 'COUNTRY': [('일본', 92), ('가나', 346)], 'ORGANIZATION': [('시각장애인 독서지원협회', 95), ('BBA', 109), ('아오조라 문고', 170)], 'ARTIFACT': [('ぶんこ', 165), ('청공', 338)], 'DATE': [('오늘', 246)], 'PERSON': [('블루스카이', 330)]}</td>\n",
       "      <td>True</td>\n",
       "      <td>False</td>\n",
       "      <td>True</td>\n",
       "      <td>False</td>\n",
       "      <td>True</td>\n",
       "      <td>False</td>\n",
       "      <td>False</td>\n",
       "    </tr>\n",
       "    <tr>\n",
       "      <th>8</th>\n",
       "      <td>켄 톰슨(Ken Thompson) 등과 함께 최초의 유닉스(Unix) 시스템을 개발했고, 1971년 최초의 〈Unix Programmer's Manual〉을 썼다. 또한 C 언어를 개발한 후 브라이언 커니핸과 함께 〈C 프로그래밍 언어〉(The C Programming Language)를 기술했다. 커니핸과 〈C 프로그래밍 언어〉책을 썼기에 커니핸이 C 언어 개발에 참여한 것으로 종종 오해받으나 커니핸의 말에 따르면 자신은 C언어 개발에 참여하지 않았다고 한다.\\n\\nALTRAN, B언어, BCPL, Multics 등의 개발에도 영향을 끼친 것으로도 알려져 있다.\\n\\n1983년에 켄 톰프슨과 \"범용 운영체제 이론개발, 특히 유닉스 운영체제의 구현에 대한 공로\"로 튜링상을 수상했다.\\n\\n미국의 경제 전문지 '비즈니스 인사이더'에서는 '현재의 애플 컴퓨터는 거의 모두 데니스 리치의 업적에 기반하고 있다'이라며 그의 업적을 평가했다.  현재 애플 매킨토시의 OS X와 아이폰의 iOS는 모두 유닉스 운영체제를 기반으로 만들어져 있다.</td>\n",
       "      <td>위키피디아</td>\n",
       "      <td>TODO</td>\n",
       "      <td>None</td>\n",
       "      <td>데니스 리치</td>\n",
       "      <td>None</td>\n",
       "      <td>None</td>\n",
       "      <td>8</td>\n",
       "      <td>{'PERSON': [('켄 톰슨', 0), ('브라이언 커니핸', 107), ('커니핸', 168), ('커니핸', 192), ('커니핸', 223), ('켄 톰프슨', 323), ('데니스 리치', 426)], 'TERM': [('유닉스', 29), ('(Unix', 32), ('C', 95), ('C', 121), ('유닉스', 348), ('운영체', 352), ('컴퓨터', 415), ('iOS', 486), ('유닉스', 494)], 'DATE': [('1971년', 50), ('1983년', 316)], 'ARTIFACT': [('Unix Programmer's Manual', 61), ('C 프로그래밍 언어', 174), ('C', 239), ('매킨토시', 469), ('OS X', 475), ('아이폰', 481)], 'CIVILIZATION': [('튜링상', 370)], 'COUNTRY': [('미국', 381)], 'ORGANIZATION': [('비즈니스 인사이더', 393), ('애플', 412), ('애플', 466)]}</td>\n",
       "      <td>True</td>\n",
       "      <td>False</td>\n",
       "      <td>True</td>\n",
       "      <td>False</td>\n",
       "      <td>True</td>\n",
       "      <td>False</td>\n",
       "      <td>False</td>\n",
       "    </tr>\n",
       "    <tr>\n",
       "      <th>9</th>\n",
       "      <td>주기율표(週期律表, 주기률표, periodic table) 또는 주기표(週期表)는 원소를 구분하기 쉽게 성질에 따라 배열한 표로, 러시아의 드미트리 멘델레예프가 처음 제안했다. 1913년 헨리 모즐리는 멘델레예프의 주기율표를 개량시켜서 원자번호순으로 배열했는데, 이는 현대의 원소 주기율표와 유사하다.\\n가장 많이 쓰이는 주기율표에는 단주기형과 장주기형이 있다. 단주기형 주기율표는 1주기와 3주기를 기준으로 하고, 4주기 아래로는 전형원소와 전이원소가 같은 칸에 있다. 이 단주기형 주기율표는 초기에 쓴 모델로 원자가 많이 알려지지 않았을 때 많이 사용하였다. 장주기형 주기율표는 현재 가장 많이 쓰고 있는 주기율표이다.</td>\n",
       "      <td>위키피디아</td>\n",
       "      <td>TODO</td>\n",
       "      <td>None</td>\n",
       "      <td>주기율표</td>\n",
       "      <td>None</td>\n",
       "      <td>None</td>\n",
       "      <td>9</td>\n",
       "      <td>{'COUNTRY': [('러시아', 73)], 'PERSON': [('드미트리 멘델레예프', 78), ('헨리 모즐리', 105), ('멘델레예프', 113)], 'DATE': [('1913년', 99)], 'QUANTITY': [('1주기', 213), ('3주기', 218), ('4주기', 232)], 'TERM': [('아래', 236)]}</td>\n",
       "      <td>True</td>\n",
       "      <td>False</td>\n",
       "      <td>False</td>\n",
       "      <td>False</td>\n",
       "      <td>True</td>\n",
       "      <td>False</td>\n",
       "      <td>False</td>\n",
       "    </tr>\n",
       "  </tbody>\n",
       "</table>\n",
       "</div>"
      ],
      "text/plain": [
       "                                                                                                                                                                                                                                                                                                                                                                                                                                                                                                                                                                                                                                                                                                                                                                                                                                                                                                                                                                                                                                                                                                                                                                                                                                                                                                                                                                                                                                                                                                                                                                                                                                                                                                                                                                                                                                                                                                                                                                                                                                                                                                                                                                                                                                                                                                                                                                                                                                                                                                                                                                                                                                                                                                                                                                                                                                                                                                                                                                                                                                                                                                                                                                                                                                                                                                                                                                                                                                                                                                                                                                                                                                                                                                                                                                                                                                                                                                                                                                                                                                                                                                                                                                                                                                                                                                                                                                                                                                                                                                                                                                                                                                                                                                                                                                                                                                                                                                                                                                                                                                                                                                                                                                                                                                                                                             text  \\\n",
       "0                                                                                                                                                                                                                                                                                                                                                                                                                                                                                                                                                                                                                                                                                                                                                                                                                                                                                                                                                                                                                                                                                                                                                                                                                                                                                                                                                                                                                                                                                                                                                                                                                                                                                                                                                                                                                                                                                                                                                                                                                                                                                                                                                                                                                                                                                                                                                                                                                                                                                                                                                                                                                                                                                                                                                                                                                                                                                                                                                                                                                                                                                                                                                                                                                                                                                                                                                                                                                                                                                                                                                                                                                                                                                                                                                                                                                                                                                                                                                                                                                                                                                                                                                                                                                                                                                                                                                                                                                                                                                                                                                                                                                                                                                                                                                                                                                 이 문서는 나라 목록이며, 전 세계 206개 나라의 각 현황과 주권 승인 정보를 개요 형태로 나열하고 있다.\\n\\n이 목록은 명료화를 위해 두 부분으로 나뉘어 있다.\\n\\n# 첫 번째 부분은 바티칸 시국과 팔레스타인을 포함하여 유엔 등 국제 기구에 가입되어 국제적인 승인을 널리 받았다고 여기는 195개 나라를 나열하고 있다.\\n# 두 번째 부분은 일부 지역의 주권을 사실상 (데 팍토) 행사하고 있지만, 아직 국제적인 승인을 널리 받지 않았다고 여기는 11개 나라를 나열하고 있다.\\n\\n두 목록은 모두 가나다 순이다.\\n\\n일부 국가의 경우 국가로서의 자격에 논쟁의 여부가 있으며, 이 때문에 이러한 목록을 엮는 것은 매우 어렵고 논란이 생길 수 있는 과정이다. 이 목록을 구성하고 있는 국가를 선정하는 기준에 대한 정보는 \"포함 기준\" 단락을 통해 설명하였다. 나라에 대한 일반적인 정보는 \"국가\" 문서에서 설명하고 있다.   \n",
       "1                                                                                                                                                                                                                                                                                                                                                                                                                                                                                                                                                                                                                                                                                                                                                                                                                                                                                                                                                                                                                                                                                                                                                                                                                                                                                                                                                                                                                                                                                                                                                                                                                                                                                                                                                                                                                                                                                                                                                                                                                                                                                                                                                                                                                                                                                                                                                                                                                                                                                                                                                                                                                                                                                                                                                                                                                                                                                                     이 목록에 실린 국가 기준은 1933년 몬테비데오 협약 1장을 참고로 하였다. 협정에 따르면, 국가는 다음의 조건을 만족해야 한다.\\n* (a) 영속적인 국민\\n* (b) 일정한 영토\\n* (c) 정부\\n* (d) 타국과의 관계 참여 자격.\\n특히, 마지막 조건은 국제 공동체의 참여 용인을 내포하고 있기 때문에, 다른 나라의 승인이 매우 중요한 역할을 할 수 있다.  이 목록에 포함된 모든 국가는 보통 이 기준을 만족하는 것으로 보이는 자주적이고 독립적인 국가이다. 하지만 몬테비데오 협약 기준을 만족하는지의 여부는 많은 국가가 논쟁이 되고 있는 실정이다. 또한, 몬테비데오 협약 기준만이 국가 지위의 충분한 자격이든 아니든, 국제법의 견해 차이는 존재할 수 있다. 이 물음에 대한 다른 이론에 대한 고리는 아래에서 볼 수 있다.\\n\\n위 기준에 논거하여 이 목록은 다음 206개 국가를 포함하고 있다.\\n* 일반 국제 승인을 받은 195개 자주 국가.\\n** 유엔 가입 국가 193개\\n** 성좌의 명칭으로 유엔에서 국제 승인을 받은 국가: 바티칸 시국\\n** 팔레스타인지역에 위치하며 유엔 영구 옵서버 국가: 팔레스타인\\n* 유엔의 가입국이 아니며, 일반 국제 승인을 받지 않은 11개 자주 국가.\\n** 유엔 회원국으로부터 승인을 받은 8개 국가: 남오세티야, 니우에, 북키프로스 튀르크 공화국, 사하라 아랍 민주 공화국, 압하지야, 중화민국, 코소보, 쿡 제도,\\n** 유엔 비회원국으로부터 승인을 받은 2개 국가: 아르차흐 공화국, 트란스니스트리아\\n** 어떤 나라에서도 승인 받지 않은 국가: 소말릴란드\\n\\n위 목록에 포함되지 않은 다음 국가는 몬테비데오 협약의 모든 조건을 만족하지 못하거나, 자주적이고 독립적임을 주장하지 않는 국가이다.\\n* 남극 대륙 전체는 정부와 영속 인구가 없다. 7개 국가가 남극 대륙 일부를 차지하고 있으며, 이중 5개 국가가 서로의 영유권을 인정하고 있다.  남극 조약에 따라서 규제되는 이 권리는 어떤 나라에서도 승인을 받지 않았다. \\n* EU 유럽 연합은 27개 가입 국가를 보유한 독특한 초국가 기구이다. 가입 국가는 입법권, 행정권, 사법권 기준을 유럽 연합 위원회로 이양하며, 유럽 연합은 엄밀히 말해 일반적인 주권 국가 간주와 관계 없이 주권 국가로의 특징을 가지고 있다. 유럽 연합은 주권 국가를 주장하지 않으며, 다른 나라와의 관계에서 제한된 지위를 가지고 있다.\\n* 미국과 오스트레일리아, 기타 국가에서 주 (State)라고 칭하는 행정 구역은 주 (행정 구역)을 참고하라. 이러한 하부 국가 개념의 행정 구역은 일부를 제외하고는 다른 나라와 관계를 형성하지 않는다. 예를 들어서 독일 제국의 주는 해외 영사관을 가졌으며, 소비에트 연방의 한 부분이었던 우크라이나 소비에트 사회주의 공화국 (현재의 우크라이나)과 벨로루시 소비에트 사회주의 공화국 (현재의 벨라루스)는 유엔 가입국이었다. 무엇보다 중요한 것은, 이러한 주들은 자주적이고 독립적임을 주장하지 않는다는 것이다.\\n* 몰타 기사단 몰타 기사단은 \"총회에 유효 참관국 자격으로 참여할 수 있으며, 본부에서 영속적인 지위를 유지하는 기타 국가\" 분류에 속하는 유엔 참관 국가이다.  이 단체는 104개 국가와 쌍방 외교 관계를 맺고 있으나, 로마 내의 치외 법권 영역 이외에는 일정한 영토가 없다.  단체의 웹사이트에서는 \"항상 국가에게 국제법의 독립 주체로 인정 받는다.\"고 선언하고 있다.  기사단의 헌법 에서는 다음과 같이 설명하고 있다. \"기사단은 국제법의 주체이며, 주권 기능을 행사한다.\"  기사단은 자주 주권을 주장하고 있지만, 이름에서 볼 수 있듯이 주권 국가라고 주장하지는 않는다. 다른 대사관처럼 이탈리아는 이론상 기사단과 외교 관계를 파기할 수 있으며, 이탈리아 국민이 아닌 단원을 이탈리아 영토에서 강제로 추방할 수 있다. 기사단의 단원은 모두 다른 나라의 국민이기 때문에, 사실상 이들은 모두 자신의 국가에서 살고 있으며, 로마에서 기사단의 치외 법권 영역에 거주하는 단원은 오직 공식 직무에만 연관하여 활동한다. 따라서, 기사단은 영속적인 국민의 특성이 부족하다고 볼 수 있다.\\n* 마이크로네이션으로 여겨지는 국가는 자주적이고 독립적이라고 주장하고, 다른 나라와 외교 관계를 맺고자 시도하여도 포함하지 않았다. 마이크로네이션이 정말로 점유한 영토를 지배하는지, 마이크로네이션의 '인구' 감소 빈도가 낮은 지의 여부는 논쟁이 되고 있다.\\n* ISIS 등은 다른 나라들 못지 않은 영역을 두고 있으며 스스로를 \"나라\"라고 자처하지만, 국제법상 주권이 결여되어 있으며 국제법에 위배되는 테러리즘을 일삼아 '나라'로 간주되지도 않는다. 다만 준국가로 분류한다.   \n",
       "2  현 서울특별시 종로구 서린동 (구 일제 강점기 경기도 경성부 서린정) 출신이다. 친일파인 아버지 백낙승과 어머니 조종희 사이의 3남 2녀 중 막내로 태어났다. 그후 종로구 창신동 197번지 소위 \"큰대문집\"에서 18세까지 살았다. 수송국민학교와 경기제1고등보통학교를 다니면서 피아니스트 신재덕에게 피아노 연주를, 작이건우]]에게 작곡을 각각 배웠다. 이때 한국이 낳은 작곡가 김순남을 사사했다. 1949년 그는 홍콩 로이덴 스쿨로 전학했으며, 한국 전쟁이 발발하기 이전 가족이 일본으로 이주했다. 그 후 일본으로 건너가 1952년 도쿄 대학교 문과부에 입학했다. 2년 후 미술사학 및 미학으로 전공을 정했지만, 실제로는 일본 당대의 작곡가 모로이 사부로, 미학자 노무라 요시오 등에게서 작곡과, 음악사학을 공부했다. 졸업 논문은 ‘아르놀트 쇤베르크 연구’이다.\\n\\n1956년 백남준은 졸업과 함께 독일로 유학을 떠나 뮌헨 대학교 및 쾰른 대학교 등에서 서양의 건축, 음악사, 철학 등을 공부하였다. 뮌헨 대학교 입학 1년 후에는 프라이부르크 국립 음악 대학교로 옮겨 볼프강 포르트너 교수에게 배우지만, 곧 쇤베르크 이후 현대음악의 실험이 활발히 진행되던 다름슈타트 하기 강좌에 참여했다. 1958년 그 곳에서 현대음악가 존 케이지를 만나 그의 음악에 대한 파괴적 접근과 자유정신으로부터 깊은 영감을 얻었다. 이 영감은 \"세계의 역사는 우리에게 알려준다. 주어진 게임에서 이길 수 없다면 규칙을 바꿔라\" 라는 것으로 규정된다. 이후 1950년대부터 활발해지기 시작한 독일 라인 지역의 액션뮤직의 현장에서 백남준은 ‘아시아에서 온 문화테러리스트’(앨런 카프로)라고 불릴 정도의 탁월한 퍼포먼스 아티스트로 활약했다. 1959년 ‘존 케이지에게 보내는 경의’에서 음악적 콜라주와 함께 피아노를 부수는 퍼포먼스를 선보이는 것을 시작으로, 바이올린을 단숨에 파괴하거나(바이올린 솔로) 존 케이지가 착용한 넥타이를 잘라버리는 퍼포먼스(피아노 포르테를 위한 연습곡)가 특히 유명하다. 이 초기 퍼포먼스에 대해 백남준은 스스로 \"충격, 표현주의, 낭만주의, 클라이맥스, 놀라움, 기타 등등을 보여준 것\"이라고 표현한 바 있다. 1961년 카를하인츠 슈토크하우젠의 음악 퍼포먼스 ‘오리기날레’에서 머리와 넥타이로 잉크를 묻혀 두루마리에 흔적을 남기는 독특한 퍼포먼스 심플 머리를 위한 선율을 보여주기도 했다. 1960년대 초반 조지 마키우나스, 요셉 보이스 등과 의기투합하여 플럭서스 활동을 함께 전개했다. 다다이즘에 영향을 받은 플럭서스는 헤라클레이투스가 주장한 ‘변화 생성의 흐름’ 이라는 개념을 받아들여 \"목적이 없는 자유, 실험을 위한 실험\"이라는 명목 하에 이벤트와 퍼포먼스 그리고 전위음악에 주력했고, 곧 유럽과 아시아 및 미국 등 세계로 퍼져나갔다.\\n\\n1961년 백남준은 작곡가 슈토크하우젠이 중심이 된 쾰른의 WDR 전자음악 스튜디오에 출입했으며, 이때 1950년대부터 노버트 위너에 의해 제안된 '사이버네틱스' 개념 하에서 전자공학을 공부한 것으로 알려져 있다. 특히 레이다와 TV 작업에 몰두했던 독일 작가 칼 오토 괴츠의 실패를 거울 삼아서 2년여 동안 홀로 TV를 활용한 미디어 아트로서의 가능성을 탐문하고 실험했다. 그 성과를 바탕으로 1963년 독일 부퍼탈 파르나스 갤러리에서 자신의 첫 번째 전시 ‘음악의 전시-전자 텔레비전’을 열었으며, 13대의 실험적인 TV를 통해 훗날 비디오 아트라고 불리게 되는 초기 형태를 보여주었다. 이 전시는 백남준이 자신의 즉흥음악 또는 무음악의 발상에 기초한 실제 퍼포먼스, 그 흔적과 결과물처럼 유럽에서 자신이 진행해온 작업의 성과와 함께 TV를 비롯한 미디어로 새로운 예술의 형태를 시도하는 작업이 공존하고 있었다. ‘적분된 피아노’, ‘랜덤 액세스 뮤직’, ‘레코드 샤슐릭’같은 20세기 전위음악에 젖줄을 대고 있는 실험적 음악의 시도와 ‘잘린 소머리’, ‘파괴된 누드 마네킹’, ‘보이스의 피아노 파괴 퍼포먼스’'걸음을 위한 선' '바람을 위한 선' 같은 우상파괴적 설치 작업 및 참여예술 형태의 퍼포먼스가 함께 펼쳐졌다. 청년 백남준은 이러한 전시 내용을 ‘동시성’, ‘참여’, ‘임의접속’ 등등에 관한 16개의 테마로써 정리하는 종합적인 큐레이팅 전시로 보여주었기 때문에 최근날짜=2015-5-9 독일, 오스트리아 등지의 연구자들 사이에서 이 전시의 중요성을 재평가하면서 아카이빙 작업과 연구가 점차 활발해지는 추세에 있다.\\n\\n1964년 백남준은 일본으로 건너가 '로봇 K-456'을 제작했으며, 곧 세계 예술의 중심지 뉴욕으로 이주했다. 뉴욕 언더그라운드 필름 운동의 중심지 중 하나였던 시네마테크 필름메이커스에 관여했으며, 스스로 영상 작업을 진행하기도 했다. 1965년 소니의 포타팩(세계 최초의 휴대용 비디오카메라)으로 미국 뉴욕을 첫 방문 중이던 교황 요한 바오로 6세를 촬영하여 곧바로 그 영상을 ‘카페 오 고고’에서 방영했다. 이것이 미술사에서는 한동안 공식적인 비디오 아트의 시작으로 기록되어 있었다. 지금은 1963년 첫번째 전시를 비디오아트의 기점으로 보고 있다. 또한 첼로 연주자이자 뉴욕 아방가르드 페스티벌의 기획자였던 샬럿 무어먼과 함께 비디오 아트와 음악을 혼합한 퍼포먼스 작업을 활발히 펼쳤다. 특히 1967년 음악에 성적인 코드를 집어넣은 백남준의 ‘오페라 섹스트로니크’에서 샬럿 무어먼은 누드 상태의 첼로 연주를 시도하다가 뉴욕 경찰에 체포되어 큰 사회적 파장을 불러일으켰다. 그 결과로 인해 예술 현장에서 누드를 처벌할 수 없다는 뉴욕의 법 개정이 이루어지는 획기적인 진전이 일어난다. 이후에도 미디어 아트가 미국 뉴욕을 중심으로 서서히 득세해가는 시대적 조류 속에서 두 사람은 ‘살아있는 조각을 위한 TV 브라’, ‘TV 첼로’, ‘TV 침대’ 등등 미디어 테크놀로지와 퍼포먼스를 결합한 많은 예술활동을 전개했다.\\n\\n1974년부터 백남준은 영상으로서의 비디오 아트를 새로운 미술적 방법인 설치 미술로 변환하여 다양하게 진행했으며, 그에 따라 ‘TV 붓다’, ‘달은 가장 오래된 TV다’, ‘TV 정원’, ‘TV 물고기’ 등등 많은 대표작을 선보였다. 이 작품들은 비디오 아트와 생명의 상징을 전자적으로 결합하여 테크놀로지로 물든 현대 사회의 새로운 합성적 생명력을 추구했다는 평판을 얻었다. 특히 'TV 붓다'는 그의 초기 비디오 설치의 경향을 잘 보여주는 대표작으로서 가장 널리 알려졌다. 1960년대 후반부터 미국의 문화적 환경이 미디어 테크놀로지에 호의적으로 변화하면서 폭발적인 수준의 미디어 전시가 빈발했고, 백남준의 비디오 아트는 그룹전 형태로 수많은 전시에 활발하게 참여했다. 1974년 뉴욕 에버슨 미술관 개인전과 함께 비데아 앤 비디올로지: 1959-1973이라는 예술과 기술을 교차시키는 하이브리드에 관한 저작을 내놓아 미디아 아트의 이해를 도왔으며, 1982년 뉴욕 휘트니 미술관에서 개최된 ‘백남준 회고전’을 통해 그의 예술 세계가 뉴욕을 중심으로 미국 사회에 많이 알려지는 계기가 되었다.\\n\\n1970년대 중반부터는 뉴욕 WNET 방송국, 보스턴 WGBH 방송국과 협력하여 자신의 비디오 아트를 공중파 TV에서 방송했고, 이는 네트워크 방송을 끌어들여 예술 세계의 영역 확장을 꾀한 놀라운 시도였다. 나아가 1984년 1월 1일 ‘굿모닝 미스터 오웰’은 세계적인 아티스트들의 퍼포먼스를 뉴욕 WNET 방송국과 파리 퐁피두 센터를 연결한 실시간 위성 생중계로 방송하여 전 세계적 반향을 불러일으켰다. 샌프란시스코와 서울까지 연결된 이 국제적인 규모의 위성 아트에는 로리 앤더슨, 피터 가브리엘, 오잉고 보잉고, 존 케이지, 요셉 보이스, 앨런 긴즈버그, 이브 몽탕 등의 예술가과 대중문화의 스타가 다수 참여했으며, 전 세계 2천 5백만명(재방송 포함)이 시청하였다. 이로써 전세계적인 차원의 대중적 각인이 이루어졌고, 마치 대중스타처럼 성가를 높였다. 이후에도 ‘위성 아트’ 3부작으로 명명된 ‘바이 바이 키플링’(1986), ‘손에 손잡고’(1988) 등이 이어져 위성 연결을 통한 전세계의 네트워크가 어떻게 새로운 부족사회를 낳는지 실감시켰다.\\n\\n1984년 일본 도쿄 소게쓰[草月]홀에서 백남준과 요셉 보이스가 공동으로 참여한 퍼포먼스 '코요테 콘서트 II'가 펼쳐졌으며, 이들이 각각 몽골의 늑대 울음소리와 초원의 달빛을 음악적으로 표현한 것을 통해 1961년 첫 만남부터 계속 이어온 공동의 관심사가 무엇인지 알려지기 시작했다. 그러나 이들의 이후 퍼포먼스 계획은 요셉 보이스의 죽음과 함께 미완으로 끝났다.\\n\\n1992년 '비디오 때, 비디오 땅' 전시는 독일 쿤스트 할레와 스위스 쮜리히에서 진행된 전시의 서울 투어전시로서 당시 과천 막계동에 자리잡은 지 몇 년 되지 않았던 국립현대미술관 과천관에 총 관람 인원 20만명이 찾은 첫번째 전시로 기록되었다. 이 전시의 주요한 작품은 '나의 파우스트' 시리즈이다. 1993년 백남준은 독일 작가 한스 하케와 함께 베니스 비엔날레 독일관 작가로 초대되어 국가전시관 부문에서 황금사자상을 수상했다. '문명의 동서남북'이라는 주제의 이 전시에서 그는 북방 유라시아의 유목 문화를 배경으로 전자적 소통을 시도하는 비디오 로봇 형태의‘칭기스칸의 복권’, ‘마르크폴로’, ‘훈족의 왕 아틸라’,‘스키타이의 왕 단군’, ‘로봇 전사’, ‘고대기마인물상’ 같은 작품들을 중심으로 다수의 작품을 내놓았다.\\n\\n1995년 백남준은 제1회 광주 비엔날레 태동의 산파 역할을 하며, 한국 미술이 국제적으로 진출할 수 있도록 조력자 역할을 수행했다. 제1회 광주 비엔날레는 국내외 총 관람객이 160만 명에 달하는 성공을 거두었고, 특히 백남준이 직접 관여한 ‘INFO Art’전이 주목받았다. 또한 백남준은 같은 해 베니스 비엔날레 국가전시관 부문에 한국관을 설치하는 일에 결정적인 역할을 했다. 이로써 한국 미술이 세계 미술계에 진출하는 교두보가 마련되었다고 하겠다. 같은 해 그의 예술적 정수가 담긴 일렉트로닉 수퍼하이웨이 전시를 진행했다. 1996년 4월 9일 뇌졸중으로 쓰러졌으며, 6개월만인 그해 10월에 재기했다. 2000년 뉴욕 구겐하임 미술관에서 ‘백남준의 세계’ 라는 대규모 회고전이 열렸으며, 이때 백남준은 레이저 아트 ‘야곱의 사다리’, ‘삼원소’ 등을 전시한 바 있다.\\n\\n2006년 1월 29일, 미국 마이애미의 자택에서 노환으로 75세로 별세, 유해가 서울, 뉴욕, 독일에 나눠서 안치되었다.   \n",
       "3                                                                                                                                                                                                                                                                                                                                                                                                                                                                                                                                                                                                                                                                                                                                                                                                                                                                                                                                                                                                                                                                                                                                                                                                                                                                                                                                                                                                                                                                                                                                                                                                                                                                                                                                                                                                                                                                                                                                                                                                                                                                                                                                                                                                                                                                                                                                                                                                                                                                                                                                                                                                                                                                                                                                                                                                                                                                                                                                                                                                                                                                                                                                                                                                                                                                                                                                                                                                                                                                                                                                                                                                                                                                                                                                                                                                                                                                                                                                                                                                                                                                                                                                                                                                                                                                                                                                                                                                                                                                                                                                                                                                                                                                     아오조라 문고(靑空文庫, あおぞらぶんこ|아오조라 분고)는 ‘일본어판 구텐베르크 프로젝트’로 불리는 일본의 인터넷 전자도서관으로, 저작권이 풀린 문학작품을 수집, 전자문서화해서 인터넷에 공개하고 있다. 저자 사후 50년이 지난 메이지, 쇼와 시대 초기의 일본 문학 작품이 그 대부분을 차지하고 있고, 일본어 외 문학 작품의 일본어 번역 작품도 다수 있다. 1997년 2월 도미타 미치오, 노구치 에이치, 야마키 미에, 란무로 사테이 등 4명이 창설하여 시작되었다.  2016년 연간 방문객수는 940만 건 이상이다. \\n\\n아오조라 문고에 수록된 작품은 JIS X 0208에 해당되는 한자 범위 내에서 자원봉사자에 의해 아오조라 문고 형식 텍스트파일이나 HTML 파일로 전자화된다. 또 아오조라 문고 수록파일 취급기준에 따라 자유롭게 이용할 수 있기 때문에, 수록된 작품을 PC는 물론 PDA와 휴대전화로도 볼 수 있다. 텍스트 파일을 큰 글자로 인쇄하거나 전용 소프트웨어에 불러들여 시각장애인용으로 이용하는 방안도 기대되고 있다. 아오조라 문고의 열람 소프트웨어는 따로 개발 및 제공되고 있는 것은 없지만, 전자사전이나 아이폰용 어플리케이션 등은 타사에서 개발하여 출시되어 있다   \n",
       "4                                                                                                                                                                                                                                                                                                                                                                                                                                                                                                                                                                                                                                                                                                                                                                                                                                                                                                                                                                                                                                                                                                                                                                                                                                                                                                                                                                                                                                                                                                                                                                                                                                                                                                                                                                                                                                                                                                                                                                                                                                                                                                                                                                                                                                                                                                                                                                                                                                                                                                                                                                                                                                                                                                                                                                                                                                                                                                                                                                                                                                                                                                                                                                                                                                                                                                                                                                                                                                                                                                                                                                                                                                                                                                                                                                                                                                                                                                                                                                                                                                                                                                                                                                                                                                                                                                                                                                                                                                                                                                                                                                                                                                                                                                                                                                                                            저자 사망 이후 50년이 지나 저작권이 소멸한 메이지 시대부터 쇼와 시대 초기까지의 서적 대부분이 존재한다. 외국 번역작품이나 저자가 무료보기를 인정한 현대작품도 포함된다. 장르는 정치부터 취미까지 다양하지만, 비교적 문학작품(시대소설, 추리소설등의 오락작품 포함)이 많다. 유명작가의 작품이 모두 갖춰져있진 않지만 그래도 일본어작품에 관련해서는 충실하게 갖춰진 편이다. (번역작품의 경우 번역저작권을 문제로 수가 많지 않다.)\\n\\n잘 알려지지 않은 작품을 보존, 소개하는 장점도 있다. 작품 텍스트화는 지금도 현재진행형이며 2011년 3월 15일 현재 등록작품수가 1만권이 넘었다.\\n고전작가인 모리 오가이, 나츠메 소세키, 아쿠타가와 류노스케, 최근의 작가로는 나카지마 아츠시, 다자이 오사무, 하야시 후미코, 미야모토 유리코, 호리 다쓰오, 사카구치 안고, 다카무라 고타로, 나가이 가후, 요시카와 에이지 등 인물의 작품이 있다.   \n",
       "5                                                                                                                                                                                                                                                                                                                                                                                                                                                                                                                                                                                                                                                                                                                                                                                                                                                                                                                                                                                                                                                                                                                                                                                                                                                                                                                                                                                                                                                                                                                                                                                                                                                                                                                                                                                                                                                                                                                                                                                                                                                                                                                                                                                                                                                                                                                                                                                                                                                                                                                                                                                                                                                                                                                                                                                                                                                                                                                                                                                                                                                                                                                                                                                                                                                                                                                                                                                                                                                                                                                                                                                                                                                                                                                                                                                                                                                                                                                                                                                                                                                                                                                                                                                                                                                                                              아오조라 문고는 자원봉사로 운영되며 열람 역시 무료이다.  서비스 개시 초반에는 보이저 사에서 서버를 제공하였다.  1998년부터 1999년까지는 토미타가 작업 수칙과 매뉴얼을 만들었다. \\n\\n자원봉사로 운영되기 때문에 작품의 입력과 교정 역시 자원봉사자가 한다 입력은 원본을 보면서 타자입력이나 스캐너로 입력하는 방법으로 이뤄진다 또 작품을 입력하는 '입력자'와 입력된 작품을 교정하는 '교정자'는 별도의 자원봉사자가 담당한다.  따라서 작품이 공개되기 전까지는 작품을 입력한 뒤 교정자가 교정을 예약할 때까지 '교정대기' (校正待ち)가 되고, 작업을 멈추게 된다. 즉, 입력하는 자원봉사자가 작품을 입력해 교정을 맡은 자원봉사자가 교정예약을 해서, 교정작업을 완료하기 전까지는 작품을 공개할 수 없다. 때문에 입력이 완료되어도 작업 상태가 '교정대기' 상태인 작품이 증가하고\\n있다.  이는 입력에 비해 교정 작업이 부족하기 때문으로, 아오조라 문고 출범 당시부터 안고 있는 문제점이기도 하다. 이 문제에 대해서는 작품의 교정작업을 하지 않고 공개하는 방안과 입력자가 교정한 것도 인정하자는 방안이 제기된 적이 있지만 현재까지도 이 방안은 채택되지 못하고 있다 대신 2011년 12월 16일 공개분부터는 기부금을 재원으로 삼은 '유상교정' 서비스가 진행되고 있다. \\n\\n2013년 8월 아오조라 문고의 설립자인 토미타가 사망한 것을 계기로, 아오조라 문고에 지속적인 지원을 해줄 '책의 미래 기금' (本の未来基金)이 설립됐다.  하지만 2015년부터는 엔지니어가 없는 상태로 서버를 강제로 돌리고 있으며, 서버 자체도 노후화되고 있다는 점이 문제되고 있다. 이 때문에 2015년 5월 \"'Code for 아오조라 문고' 아이디어 송\"이 개최되어 향후 시스템 운용에 대한 의견 교환이 이뤄졌다.  그 이후에는 해당 모임을 바탕으로 시스템 관리와 코드수정 등을 맡는 'aozorahack' 프로젝트가 진행되고 있다.   \n",
       "6                                                                                                                                                                                                                                                                                                                                                                                                                                                                                                                                                                                                                                                                                                                                                                                                                                                                                                                                                                                                                                                                                                                                                                                                                                                                                                                                                                                                                                                                                                                                                                                                                                                                                                                                                                                                                                                                                                                                                                                                                                                                                                                                                                                                                                                                                                                                                                                                                                                                                                                                                                                                                                                                                                                                                                                                                                                                                                                                                                                                                                                                                                                                                                                                                                                                                                                                                                                                                                                                                                                                                                                                                                                                                                                                                                                                                                                                                                                                                                                                                                                                                                                                                                                                                                                                                                                                                                                                                                                                                                                                                                                                                                                                                                                                                                                                                                                                                                   텍스트 파일을 아오조라 문고에 수록할 때, 텍스트 파일이 갖추어야 할 서식을 '아오조라 문고' 형식이라 부른다.\\n\\n아오조라 문고 형식은 텍스트 파일로서 많은 환경에서 읽을 수 있도록 규격화되어있다. 때문에 가능한 한 원본의 충실한 재현을 목표로 삼고 있지만, 줄 바꿈이나 삽화 등의 정보는 원칙적으로 포함되지 않는다.\\n\\n아오조라 문고 형식에 대응하는 텍스트 뷰어와 텍스트 편집기도 존재하며, 올림문자와 방점 등도 재현할 수 있다. 또 이러한 텍스트 뷰어에서는 본래 아오조라 문고 형식에 포함되지 않았던 삽화 정보를 삽입하거나 세로쓰기로 표시할 수 있으며, 텍스트를 읽기 쉽도록 만드는 다양한 기능이 포함되어 있다. 이러한 소프트웨어는 유료와 무료를 불문하고 종류가 다양하다.   \n",
       "7                                                                                                                                                                                                                                                                                                                                                                                                                                                                                                                                                                                                                                                                                                                                                                                                                                                                                                                                                                                                                                                                                                                                                                                                                                                                                                                                                                                                                                                                                                                                                                                                                                                                                                                                                                                                                                                                                                                                                                                                                                                                                                                                                                                                                                                                                                                                                                                                                                                                                                                                                                                                                                                                                                                                                                                                                                                                                                                                                                                                                                                                                                                                                                                                                                                                                                                                                                                                                                                                                                                                                                                                                                                                                                                                                                                                                                                                                                                                                                                                                                                                                                                                                                                                                                                                                                                                                                                                                                                                                                                                                                                                                                                                                                                                                                                                                                                                                                 일본어 표기에 많이 쓰이는 올림문자 (후리가나)는 그대로 올려쓰지 않고 '｜'나 '《》'로 표시한다.  올림문자를 《》 로 묶거나 ｜로 올릴 문자열을 특정하는 방식은 일본 시각장애인 독서지원협회 (BBA) 의 원문입력 수칙에 따른 것이다.  \\n\\n이 같은 방식을 예시로 들자면 다음과 같다.\\n:青空｜文庫《ぶんこ》 아오조라 문고\\n라고 표기했다면 'ぶんこ' (분코)라는 올림표기가 '文庫' 부분에 걸려 있는 것이다. 다만,\\n:本日は晴天《せいてん》なり。 오늘은 맑은 하늘.\\n처럼 올림표기를 쓸 한자가 가나로 충분히 구분된다면 ｜를 써서 분리할 필요가 없으므로 쓰지 않는다. 또한,\\n:｜ブルースカイ《青空》 블루스카이 (\"청공\")\\n처럼 가나에 올림표기를 강제로 쓰는 것도 가능하다.   \n",
       "8                                                                                                                                                                                                                                                                                                                                                                                                                                                                                                                                                                                                                                                                                                                                                                                                                                                                                                                                                                                                                                                                                                                                                                                                                                                                                                                                                                                                                                                                                                                                                                                                                                                                                                                                                                                                                                                                                                                                                                                                                                                                                                                                                                                                                                                                                                                                                                                                                                                                                                                                                                                                                                                                                                                                                                                                                                                                                                                                                                                                                                                                                                                                                                                                                                                                                                                                                                                                                                                                                                                                                                                                                                                                                                                                                                                                                                                                                                                                                                                                                                                                                                                                                                                                                                                                                                                                                                                                                                                                                                                                                                                                                                                                                                                                                 켄 톰슨(Ken Thompson) 등과 함께 최초의 유닉스(Unix) 시스템을 개발했고, 1971년 최초의 〈Unix Programmer's Manual〉을 썼다. 또한 C 언어를 개발한 후 브라이언 커니핸과 함께 〈C 프로그래밍 언어〉(The C Programming Language)를 기술했다. 커니핸과 〈C 프로그래밍 언어〉책을 썼기에 커니핸이 C 언어 개발에 참여한 것으로 종종 오해받으나 커니핸의 말에 따르면 자신은 C언어 개발에 참여하지 않았다고 한다.\\n\\nALTRAN, B언어, BCPL, Multics 등의 개발에도 영향을 끼친 것으로도 알려져 있다.\\n\\n1983년에 켄 톰프슨과 \"범용 운영체제 이론개발, 특히 유닉스 운영체제의 구현에 대한 공로\"로 튜링상을 수상했다.\\n\\n미국의 경제 전문지 '비즈니스 인사이더'에서는 '현재의 애플 컴퓨터는 거의 모두 데니스 리치의 업적에 기반하고 있다'이라며 그의 업적을 평가했다.  현재 애플 매킨토시의 OS X와 아이폰의 iOS는 모두 유닉스 운영체제를 기반으로 만들어져 있다.   \n",
       "9                                                                                                                                                                                                                                                                                                                                                                                                                                                                                                                                                                                                                                                                                                                                                                                                                                                                                                                                                                                                                                                                                                                                                                                                                                                                                                                                                                                                                                                                                                                                                                                                                                                                                                                                                                                                                                                                                                                                                                                                                                                                                                                                                                                                                                                                                                                                                                                                                                                                                                                                                                                                                                                                                                                                                                                                                                                                                                                                                                                                                                                                                                                                                                                                                                                                                                                                                                                                                                                                                                                                                                                                                                                                                                                                                                                                                                                                                                                                                                                                                                                                                                                                                                                                                                                                                                                                                                                                                                                                                                                                                                                                                                                                                                                                                                                                                                                                                                                                    주기율표(週期律表, 주기률표, periodic table) 또는 주기표(週期表)는 원소를 구분하기 쉽게 성질에 따라 배열한 표로, 러시아의 드미트리 멘델레예프가 처음 제안했다. 1913년 헨리 모즐리는 멘델레예프의 주기율표를 개량시켜서 원자번호순으로 배열했는데, 이는 현대의 원소 주기율표와 유사하다.\\n가장 많이 쓰이는 주기율표에는 단주기형과 장주기형이 있다. 단주기형 주기율표는 1주기와 3주기를 기준으로 하고, 4주기 아래로는 전형원소와 전이원소가 같은 칸에 있다. 이 단주기형 주기율표는 초기에 쓴 모델로 원자가 많이 알려지지 않았을 때 많이 사용하였다. 장주기형 주기율표는 현재 가장 많이 쓰고 있는 주기율표이다.   \n",
       "\n",
       "  corpus_source   url domain    title author  html document_id  \\\n",
       "0         위키피디아  TODO   None    나라 목록   None  None           0   \n",
       "1         위키피디아  TODO   None    나라 목록   None  None           1   \n",
       "2         위키피디아  TODO   None      백남준   None  None           2   \n",
       "3         위키피디아  TODO   None  아오조라 문고   None  None           3   \n",
       "4         위키피디아  TODO   None  아오조라 문고   None  None           4   \n",
       "5         위키피디아  TODO   None  아오조라 문고   None  None           5   \n",
       "6         위키피디아  TODO   None  아오조라 문고   None  None           6   \n",
       "7         위키피디아  TODO   None  아오조라 문고   None  None           7   \n",
       "8         위키피디아  TODO   None   데니스 리치   None  None           8   \n",
       "9         위키피디아  TODO   None     주기율표   None  None           9   \n",
       "\n",
       "                                                                                                                                                                                                                                                                                                                                                                                                                                                                                                                                                                                                                                                                                                                                                                                                                                                                                                                                                                                                                                                                                                                                                                                                                                                                                                                                                                                                                                                                                                                                                                                                                                                                                                                                                                                                                                                                                                                                                                                                                                                                                                                                                                                                                                                                                                                                                                                                                                                                                                                                                                                                                                                                                                                                                                                                                                                                                                                                                                                                                                                                                                                                                                                                                                                                                                                                                                                                                                                                                                                                                                                                                                                                                                                                                                                                                                                                                                                                                                                                                                                                                                                                                                                                                                                                                                                                                                                                                                                                                                                                                                                                                                                                                                                                                                                                                                                                                                                                                                                                                                                                                                                                                                                                                                                                                                                                                                                                                                                                                                                                                                                                                                                                                                                                                                                                                                                                                                                                                                                                                                                                  context_ner  \\\n",
       "0                                                                                                                                                                                                                                                                                                                                                                                                                                                                                                                                                                                                                                                                                                                                                                                                                                                                                                                                                                                                                                                                                                                                                                                                                                                                                                                                                                                                                                                                                                                                                                                                                                                                                                                                                                                                                                                                                                                                                                                                                                                                                                                                                                                                                                                                                                                                                                                                                                                                                                                                                                                                                                                                                                                                                                                                                                                                                                                                                                                                                                                                                                                                                                                                                                                                                                                                                                                                                                                                                                                                                                                                                                                                                                                                                                                                                                                                                                                                                                                                                                                                                                                                                                                                                                                                                                                                                                                                                                                                                                                                                                                                                                                                                                                                                                                                                                                                                                                                                                                                                                                                                                                                                                                                                                                                                                                                                                                                                                                                                                                                                                                                                                                                                                                                                                                                                                {'QUANTITY': [('206개', 20), ('두 부분', 75), ('첫 번째', 92), ('195개', 159), ('두 번째', 179), ('11개', 247), ('두 목록', 264)], 'LOCATION': [('바티칸', 101), ('팔레스타인', 109)], 'ORGANIZATION': [('유엔', 121)], 'CIVILIZATION': [('주권', 195), ('데 팍토', 204)]}   \n",
       "1                                                                                                                                                                                                                                                                                                                                                                                                                                                                                                                                                                                                                                                                                                                                                                                                                                                                                                                                                                                                                                                                                                                                                                                                                                                                                                                                                                                                                                                                                                                                                                                                                                                                                                                                                                                                                                                                                                                                                                                                                                                                                                                                                                                                                                                                                                                                                                                                                                                                                                                                                                                                                                                                                                                                                                                                                                                                                                                                                                                                                                                                                                                                                                                                                                                                                                                                                                                                                                                                                                                                                                                                                                                                                                                                                                                                                                                                                                                                                                                                                                                                                                                                                                                                                                                                                                                                                                                             {'DATE': [('1933년', 16)], 'ORGANIZATION': [('몬테비데오 협약', 22), ('정부', 107), ('몬테비데오', 312), ('유엔', 473), ('유엔', 499), ('유엔', 542), ('유엔', 564), ('유엔', 608), ('유엔', 701), ('몬테비데오 협약', 798), ('정부', 864), ('남극 조약', 934), ('EU 유럽 연합', 979), ('유럽 연합 위원회', 1043), ('유럽 연합', 1060), ('유럽 연합', 1115), ('독일 제국', 1290), ('유엔', 1395), ('몰타 기사단', 1456), ('몰타 기사단', 1463), ('유엔', 1533), ('ISIS', 2148)], 'QUANTITY': [('1장', 31), ('a', 77), ('(b', 90), ('206개', 425), ('195개', 458), ('193개', 482), ('11개', 594), ('8개', 626), ('2개 국가', 720), ('7개', 879), ('5개', 909), ('27개', 989), ('104개', 1551)], 'CIVILIZATION': [('국민', 85), ('몬테비데', 261), ('국제법', 347), ('옵서버', 548), ('회원', 611), ('영유권', 920), ('입법권', 1025), ('행정권', 1030), ('사법권', 1035), ('주권', 1079), ('주권', 1095), ('국제법', 1631), ('헌법', 1667), ('국제법', 1696), ('주권', 1729), ('주권', 1756), ('국민', 1822), ('단원', 1829), ('단원', 1862), ('국민', 1876), ('단원', 1939), ('국민', 1980), ('국제법', 2199), ('주권', 2204), ('국제법', 2217)], 'TERM': [('아래', 392)], 'LOCATION': [('바티칸', 518), ('팔레스타인', 528), ('팔레스타인', 556), ('남오세티야', 633), ('북키프로스 튀르크 공화국', 645), ('사하라', 660), ('아랍 민주 공화국', 664), ('압하지야', 675), ('소말릴란드', 771), ('남극', 854), ('남극', 886), ('소비에트 사회주의 공화국', 1337), ('벨로루시', 1364), ('소비에트 사회주의 공화국', 1369)], 'COUNTRY': [('니우에', 640), ('중화민국', 681), ('코소보', 687), ('쿡 제도', 692), ('아르차흐 공화국', 727), ('트란스니스트리아', 737), ('미국', 1170), ('오스트레일리아', 1174), ('소비에트 연방', 1314), ('우크라이나', 1331), ('우크라이나', 1356), ('벨라루스', 1388), ('이탈리아', 1784), ('이탈리아', 1817), ('이탈리아', 1833)], 'CITY': [('로마', 1578), ('로마', 1914)], 'THEORY': [('마이크로네이션', 2004), ('마이크로네이션', 2076), ('마이크로네이션', 2104), ('테러리즘', 2227)]}   \n",
       "2  {'CITY': [('서울특별시', 2), ('홍콩', 230), ('쾰른', 1396), ('뉴욕', 2221), ('뉴욕', 2232), ('뉴욕', 2340), ('뉴욕', 2492), ('뉴욕', 2632), ('뉴욕', 2693), ('뉴욕', 2740), ('뉴욕', 3235), ('뉴욕', 3336), ('뉴욕', 3377), ('뉴욕', 3423), ('보스턴', 3436), ('뉴욕', 3574), ('파리', 3587), ('샌프란시스코', 3637), ('서울', 3645), ('도쿄', 3953), ('서울', 4203), ('뉴욕', 4904), ('마이애미', 5008), ('서울', 5037), ('뉴욕', 5041)], 'LOCATION': [('종로구', 8), ('서린동', 12), ('경기도', 26), ('경성부', 30), ('서린정', 34), ('종로구', 92), ('창신동', 96), ('서양', 475), ('라인', 765), ('아시아', 789), ('유럽', 1341), ('아시아', 1345), ('유럽', 1755), ('쿤스트 할레', 4177), ('쮜리히', 4189), ('과천', 4216), ('막계동', 4219), ('유라시아', 4422)], 'DATE': [('일제 강점기', 19), ('1949년', 221), ('1952년', 291), ('2년 후', 315), ('1956년', 426), ('1년 후', 511), ('1958년', 607), ('1950년대부터', 743), ('1959년', 844), ('1961년', 1068), ('1960년대 초반', 1169), ('1961년', 1367), ('1950년대부터', 1425), ('2년여 동안', 1533), ('1963년', 1588), ('20세기', 1860), ('2015-5-9', 2088), ('1964년', 2169), ('1965년', 2302), ('1963년', 2447), ('1967년', 2561), ('1974년부터', 2853), ('1960년대 후반부터', 3119), ('1974년', 3229), ('1959-1973', 3267), ('1982년', 3330), ('1970년대 중반부터', 3410), ('1984년 1월 1일', 3530), ('1986', 3869), ('1988', 3885), ('1984년', 3944), ('1961년', 4059), ('1992년', 4149), ('1993년', 4318), ('1995년', 4556), ('같은 해', 4720), ('같은 해', 4811), ('1996년 4월 9일', 4853), ('6개월만', 4878), ('그해 10월', 4884), ('2000년', 4898), ('2006년 1월 29일', 4991)], 'CIVILIZATION': [('친일파', 45), ('아버지', 50), ('어머니', 59), ('막내', 79), ('가족', 263), ('미학자', 367), ('현대음악가', 619), ('영감', 676), ('문화테러리스트', 797), ('아티스트', 832), ('넥타이', 946), ('넥타이', 1110), ('연구자', 2111), ('교황', 2353), ('기획자', 2507), ('아티스트', 3561), ('대중스타', 3818), ('황금사자상', 4378), ('조력자', 4617), ('관람객', 4650)], 'PERSON': [('백낙승', 54), ('조종희', 63), ('신재덕', 160), ('작이건우', 175), ('김순남', 210), ('모로이 사부로', 358), ('노무라 요시오', 371), ('백남준', 432), ('볼프강 포르트너', 539), ('쇤베르크', 561), ('존 케이지', 625), ('백남준', 783), ('앨런 카프로', 806), ('존 케이지', 935), ('백남준', 1003), ('카를하인츠 슈토크하우젠', 1074), ('조지 마키우나스', 1179), ('요셉 보이스', 1189), ('플럭서스', 1237), ('헤라클레이투스', 1243), ('백남준', 1373), ('슈토크하우젠', 1382), ('노버트 위너', 1434), ('칼 오토 괴츠', 1513), ('백남준', 1704), ('백남준', 2001), ('백남준', 2175), ('요한 바오로', 2356), ('샬럿 무어먼', 2513), ('백남준', 2584), ('샬럿 무어먼', 2604), ('백남준', 2861), ('백남준', 3189), ('로리 앤더슨', 3673), ('피터 가브리엘', 3681), ('오잉고 보잉고', 3690), ('존 케이지', 3699), ('요셉 보이스', 3706), ('앨런 긴즈버그', 3714), ('이브 몽탕', 3723), ('백남준', 3967), ('요셉 보이스', 3972), ('요셉 보이스', 4124), ('백남준', 4324), ('한스 하케', 4335), ('백남준', 4562), ('백남준', 4680), ('백남준', 4715), ('백남준', 4949)], 'QUANTITY': [('3남 2녀', 71), ('197번지', 100), ('18세', 118), ('첫 번째', 1616), ('13대', 1648), ('16개', 2044), ('하나', 2255), ('6세', 2363), ('첫번째', 2453), ('두 사람', 2770), ('2천 5백만명', 3762), ('3부작', 3847), ('20만명', 4263), ('첫번째', 4272), ('제1회', 4567), ('제1회', 4631), ('160만 명', 4655), ('75세', 5024)], 'ARTIFACT': [('큰대문', 110), ('피아노', 166), ('아르놀트 쇤베르크 연구', 409), ('존 케이지에게 보내는 경의', 851), ('피아노', 881), ('바이올린', 910), ('바이올린', 926), ('피아노', 962), ('기타', 1041), ('오리기날레', 1097), ('부퍼탈 파르나스 갤러리', 1597), ('적분된 피아노', 1825), ('랜덤 액세스 뮤직', 1836), ('레코드 샤슐릭', 1849), ('잘린 소머리', 1894), ('파괴된 누드 마네킹', 1904), ('보이스의 피아노', 1918), ('걸음을 위한 선', 1936), ('바람을 위한 선', 1947), ('로봇 K-456', 2190), ('포타팩', 2312), ('카페 오 고고', 2383), ('첼로', 2483), ('오페라 섹스트로니크', 2590), ('첼로', 2619), ('살아있는 조각을 위한', 2777), ('TV 브라', 2789), ('TV 첼로', 2798), ('TV 침대', 2807), ('TV 붓다', 2924), ('달은 가장 오래된 TV다', 2933), ('TV 정원', 2950), ('TV 물고기', 2959), ('TV 붓다', 3067), ('에버슨 미술관', 3238), ('비데아 앤 비디올로지', 3254), ('휘트니 미술관', 3339), ('굿모닝 미스터 오웰', 3543), ('바이 바이 키플링', 3858), ('손에 손잡고', 3877), ('소게쓰[草月]홀', 3956), ('국립현대미술관 과천관', 4242), ('나의 파우스트', 4302), ('칭기스칸의 복권', 4464), ('마르크폴로', 4476), ('훈족의 왕 아틸라', 4485), ('스키타이의 왕 단군', 4497), ('로봇 전사', 4511), ('고대기마인물상', 4520), ('구겐하임 미술관', 4907), ('야곱의 사다리', 4962), ('삼원소', 4973)], 'ORGANIZATION': [('수송국민학교', 129), ('경기제1고등보통학교', 137), ('로이덴 스쿨', 233), ('도쿄 대학교', 297), ('뮌헨 대학교', 455), ('쾰른 대학교', 464), ('뮌헨 대학교', 501), ('프라이부르크 국립 음악 대학교', 518), ('WDR', 1400), ('시네마테크 필름메이커스', 2260), ('소니', 2308), ('경찰', 2635), ('WNET 방송국', 3426), ('WGBH 방송', 3440), ('WNET 방송국', 3577), ('퐁피두 센터', 3590), ('독일', 4354)], 'OCCUPATION': [('피아니스트', 154), ('작곡가', 206), ('작곡가', 354), ('교수', 548), ('작곡가', 1378), ('작가', 1510), ('연주자', 2486), ('예술가', 3732), ('스타', 3743), ('작가', 4332), ('작가', 4358)], 'COUNTRY': [('한국', 199), ('일본', 267), ('일본', 282), ('일본', 347), ('독일', 444), ('독일', 762), ('미국', 1351), ('독일', 1507), ('독일', 1594), ('독일', 2097), ('오스트리아', 2101), ('일본', 2180), ('미국', 2337), ('미국', 2737), ('미국', 3131), ('미국', 3386), ('일본', 3950), ('몽골', 4022), ('독일', 4174), ('스위스', 4185), ('독일', 4329), ('한국', 4594), ('한국', 4744), ('한국', 4774), ('미국', 5005), ('독일', 5045)], 'EVENT': [('한국 전쟁', 248), ('다름슈타트 하기', 588), ('아방가르드 페스티벌', 2495), ('백남준 회고', 3354), ('코요테 콘서트 II', 3995), ('비디오 때, 비디오 땅', 4156), ('베니스 비엔날레', 4345), ('광주 비엔날레', 4571), ('광주 비엔날레', 4635), ('INFO Art', 4693), ('베니스 비엔날레', 4725), ('백남준의 세계', 4919)], 'STUDY_FIELD': [('미술사학', 320), ('미학', 327), ('음악사학', 389), ('건축', 479), ('음악사', 483), ('철학', 488), ('현대음악', 569), ('액션뮤직', 772), ('전자음', 1404), ('전자공학', 1465), ('비디오 아트', 1668), ('미술사', 2404), ('비디오 아트', 2420), ('비디오아트', 2461), ('비디오 아트', 2524), ('미디어 아트', 2729), ('미디어 테크놀로지', 2817), ('비디오 아트', 2873), ('설치 미술', 2893), ('비디오 아트', 2991), ('미', 3143), ('디어 테크놀로지', 3144), ('비디오 아트', 3194), ('미디아 아트', 3312), ('비디오 아트', 3459), ('위성 아트', 3665), ('위성 아트', 3840), ('미술', 4597), ('미술', 4777), ('일렉트로', 4830), ('레이저 아트', 4954)], 'THEORY': [('표현주의', 1017), ('낭만주의', 1023), ('다다이즘', 1224)], 'ANIMAL': [('머리', 1106), ('머리', 1148), ('늑대', 4026)], 'TERM': [('레이다', 1490), ('TV', 1495), ('TV', 1543), ('음악의 전시-전자 텔레비전', 1625), ('TV', 1658), ('TV', 1780), ('휴대용', 2323), ('비디오카메라', 2327), ('비디오', 3081), ('TV', 3471), ('위성', 3898), ('동서남북', 4396), ('북방', 4419), ('비디오', 4453), ('로봇', 4457)], 'DISEASE': [('뇌졸중', 4865)]}   \n",
       "3                                                                                                                                                                                                                                                                                                                                                                                                                                                                                                                                                                                                                                                                                                                                                                                                                                                                                                                                                                                                                                                                                                                                                                                                                                                                                                                                                                                                                                                                                                                                                                                                                                                                                                                                                                                                                                                                                                                                                                                                                                                                                                                                                                                                                                                                                                                                                                                                                                                                                                                                                                                                                                                                                                                                                                                                                                                                                                                                                                                                                                                                                                                                                                                                                                                                                                                                                                                                                                                                                                                                                                                                                                                                                                                                                                                                                                                                                                                                                                                                                                                                                                                                                                                                                                                                                                                                                                                                                                                                                                                                                                                                                                                                                                                                                                                                                                                                                                                                                                                                                                                                                                                                                                                                                                                                                                                 {'ORGANIZATION': [('아오조라 문고', 0), ('아오조라 분고', 22), ('아오조라 문고', 287), ('아오조라 문', 378), ('아오조라 문고', 516)], 'TERM': [('일본어판', 33), ('구텐베르크 프로젝트', 38), ('HTML', 360), ('PC', 427), ('PDA', 434), ('휴대전화', 439)], 'COUNTRY': [('일본', 55), ('일본', 141)], 'CIVILIZATION': [('저작권', 72), ('일본어', 167), ('일본어', 180), ('방문객', 268), ('한자', 321), ('자원봉사자', 331), ('시각장애인', 489)], 'OCCUPATION': [('저자', 112)], 'DATE': [('50년', 118), ('쇼와 시대 초', 131), ('1997년 2월', 198), ('2016년', 259), ('연간', 265)], 'PERSON': [('메이지', 126), ('도미타 미치오', 207), ('노구치 에이치', 216), ('야마키 미에', 225), ('란무로 사테이', 233)], 'STUDY_FIELD': [('문학', 144), ('문학', 173)], 'QUANTITY': [('4명', 243), ('940만 건 이상', 274)], 'ARTIFACT': [('JIS X 0208', 304), ('아오조라', 341), ('아이폰', 566)]}   \n",
       "4                                                                                                                                                                                                                                                                                                                                                                                                                                                                                                                                                                                                                                                                                                                                                                                                                                                                                                                                                                                                                                                                                                                                                                                                                                                                                                                                                                                                                                                                                                                                                                                                                                                                                                                                                                                                                                                                                                                                                                                                                                                                                                                                                                                                                                                                                                                                                                                                                                                                                                                                                                                                                                                                                                                                                                                                                                                                                                                                                                                                                                                                                                                                                                                                                                                                                                                                                                                                                                                                                                                                                                                                                                                                                                                                                                                                                                                                                                                                                                                                                                                                                                                                                                                                                                                                                                                                                                                                                                                                                                                                                                                                                                                                                                                                                                                                                                                                                                                                                                                                                                                                                                                                                                                                                                                                                                                                                                                                                                                                                                                         {'OCCUPATION': [('저자', 0), ('저자', 71), ('작가', 156), ('작가', 364)], 'DATE': [('50년', 9), ('메이지 시대부터', 26), ('쇼와 시대 초기까지', 35), ('2011년 3월 15일', 292)], 'CIVILIZATION': [('저작권', 17), ('일본어', 181), ('번역저작권', 218), ('고전작가', 325)], 'STUDY_FIELD': [('시대소설', 127), ('추리소설', 133)], 'QUANTITY': [('1만권', 315)], 'PERSON': [('모리 오가이', 331), ('나츠메 소세키', 339), ('아쿠타가와 류노스케', 348), ('나카지마 아츠시', 369), ('다자이 오사무', 379), ('하야시 후미코', 388), ('미야모토 유리코', 397), ('호리 다쓰오', 407), ('사카구치 안고', 415), ('다카무라 고타로', 424), ('나가이 가후', 434), ('요시카와 에이지', 442)]}   \n",
       "5                                                                                                                                                                                                                                                                                                                                                                                                                                                                                                                                                                                                                                                                                                                                                                                                                                                                                                                                                                                                                                                                                                                                                                                                                                                                                                                                                                                                                                                                                                                                                                                                                                                                                                                                                                                                                                                                                                                                                                                                                                                                                                                                                                                                                                                                                                                                                                                                                                                                                                                                                                                                                                                                                                                                                                                                                                                                                                                                                                                                                                                                                                                                                                                                                                                                                                                                                                                                                                                                                                                                                                                                                                                                                                                                                                                                                                                                                                                                                                                                                                                                                                                                                                                                                                                                                                                                                                                                                                                                                                                                                                                                                                                                                                                                                                                                                                                                                                                                                                                                                                                                                                                                                                                                                                                                                                                                                                                                                                                                                                        {'ORGANIZATION': [('아오조라 문고', 0), ('보이저', 44), ('아오조라 문고', 462), ('아오조라 문고', 655), ('아오조라 문고', 686), ('책의 미래 기금', 708)], 'DATE': [('1998년부터 1999년까지', 63), ('2011년 12월 16일', 591), ('2013년 8월', 646), ('2015년부터', 738), ('2015년 5월', 812)], 'PERSON': [('토미타', 80), ('토미타', 669)], 'CIVILIZATION': [('자원봉사자', 132), ('입력자', 193), ('교정자', 213), ('자원봉사자', 223), ('교정자', 264), ('자원봉사자', 320), ('자원봉사자', 342), ('입력자', 531)], 'TERM': [('스캐너', 161), ('aozorahack', 921)], 'OCCUPATION': [('설립자', 664), ('엔지니어', 747)], 'EVENT': [('Code for 아오조라 문고' 아이디어 송', 823)]}   \n",
       "6                                                                                                                                                                                                                                                                                                                                                                                                                                                                                                                                                                                                                                                                                                                                                                                                                                                                                                                                                                                                                                                                                                                                                                                                                                                                                                                                                                                                                                                                                                                                                                                                                                                                                                                                                                                                                                                                                                                                                                                                                                                                                                                                                                                                                                                                                                                                                                                                                                                                                                                                                                                                                                                                                                                                                                                                                                                                                                                                                                                                                                                                                                                                                                                                                                                                                                                                                                                                                                                                                                                                                                                                                                                                                                                                                                                                                                                                                                                                                                                                                                                                                                                                                                                                                                                                                                                                                                                                                                                                                                                                                                                                                                                                                                                                                                                                                                                                                                                                                                                                                                                                                                                                                                                                                                                                                                                                                                                                                                                                                                                                                                                                                                                                                                                                                                                                                                                                                                                                                    {'TERM': [('아오조라 문고', 8), ('아오조라 문고', 44), ('텍스트 뷰어', 194), ('편집기', 206), ('텍스트 뷰어', 245)], 'ARTIFACT': [('아오조라', 258)]}   \n",
       "7                                                                                                                                                                                                                                                                                                                                                                                                                                                                                                                                                                                                                                                                                                                                                                                                                                                                                                                                                                                                                                                                                                                                                                                                                                                                                                                                                                                                                                                                                                                                                                                                                                                                                                                                                                                                                                                                                                                                                                                                                                                                                                                                                                                                                                                                                                                                                                                                                                                                                                                                                                                                                                                                                                                                                                                                                                                                                                                                                                                                                                                                                                                                                                                                                                                                                                                                                                                                                                                                                                                                                                                                                                                                                                                                                                                                                                                                                                                                                                                                                                                                                                                                                                                                                                                                                                                                                                                                                                                                                                                                                                                                                                                                                                                                                                                                                                                                                                                                                                                                                                                                                                                                                                                                                                                                                                                                                                                                                                                                                                                                                                                                                                                                                                                                                                                                                       {'CIVILIZATION': [('일본어', 0), ('한자', 268)], 'COUNTRY': [('일본', 92), ('가나', 346)], 'ORGANIZATION': [('시각장애인 독서지원협회', 95), ('BBA', 109), ('아오조라 문고', 170)], 'ARTIFACT': [('ぶんこ', 165), ('청공', 338)], 'DATE': [('오늘', 246)], 'PERSON': [('블루스카이', 330)]}   \n",
       "8                                                                                                                                                                                                                                                                                                                                                                                                                                                                                                                                                                                                                                                                                                                                                                                                                                                                                                                                                                                                                                                                                                                                                                                                                                                                                                                                                                                                                                                                                                                                                                                                                                                                                                                                                                                                                                                                                                                                                                                                                                                                                                                                                                                                                                                                                                                                                                                                                                                                                                                                                                                                                                                                                                                                                                                                                                                                                                                                                                                                                                                                                                                                                                                                                                                                                                                                                                                                                                                                                                                                                                                                                                                                                                                                                                                                                                                                                                                                                                                                                                                                                                                                                                                                                                                                                                                                                                                                                                                                                                                                                                                                                                                                                                                                                                                                                                                                                                                                                                                                                                                                                                                                                                                                                                                                                                                                                                                                                                                                                                                  {'PERSON': [('켄 톰슨', 0), ('브라이언 커니핸', 107), ('커니핸', 168), ('커니핸', 192), ('커니핸', 223), ('켄 톰프슨', 323), ('데니스 리치', 426)], 'TERM': [('유닉스', 29), ('(Unix', 32), ('C', 95), ('C', 121), ('유닉스', 348), ('운영체', 352), ('컴퓨터', 415), ('iOS', 486), ('유닉스', 494)], 'DATE': [('1971년', 50), ('1983년', 316)], 'ARTIFACT': [('Unix Programmer's Manual', 61), ('C 프로그래밍 언어', 174), ('C', 239), ('매킨토시', 469), ('OS X', 475), ('아이폰', 481)], 'CIVILIZATION': [('튜링상', 370)], 'COUNTRY': [('미국', 381)], 'ORGANIZATION': [('비즈니스 인사이더', 393), ('애플', 412), ('애플', 466)]}   \n",
       "9                                                                                                                                                                                                                                                                                                                                                                                                                                                                                                                                                                                                                                                                                                                                                                                                                                                                                                                                                                                                                                                                                                                                                                                                                                                                                                                                                                                                                                                                                                                                                                                                                                                                                                                                                                                                                                                                                                                                                                                                                                                                                                                                                                                                                                                                                                                                                                                                                                                                                                                                                                                                                                                                                                                                                                                                                                                                                                                                                                                                                                                                                                                                                                                                                                                                                                                                                                                                                                                                                                                                                                                                                                                                                                                                                                                                                                                                                                                                                                                                                                                                                                                                                                                                                                                                                                                                                                                                                                                                                                                                                                                                                                                                                                                                                                                                                                                                                                                                                                                                                                                                                                                                                                                                                                                                                                                                                                                                                                                                                                                                                                                                                                                                                                                                                                                                                                                                         {'COUNTRY': [('러시아', 73)], 'PERSON': [('드미트리 멘델레예프', 78), ('헨리 모즐리', 105), ('멘델레예프', 113)], 'DATE': [('1913년', 99)], 'QUANTITY': [('1주기', 213), ('3주기', 218), ('4주기', 232)], 'TERM': [('아래', 236)]}   \n",
       "\n",
       "     k_p    k_e    k_o    k_a    k_d    k_t    k_l  \n",
       "0  False  False   True  False  False  False   True  \n",
       "1  False  False   True  False   True  False   True  \n",
       "2   True   True   True  False   True  False   True  \n",
       "3   True  False   True  False   True  False  False  \n",
       "4   True  False  False  False   True  False  False  \n",
       "5   True   True   True  False   True  False  False  \n",
       "6  False  False  False  False  False  False  False  \n",
       "7   True  False   True  False   True  False  False  \n",
       "8   True  False   True  False   True  False  False  \n",
       "9   True  False  False  False   True  False  False  "
      ]
     },
     "execution_count": 264,
     "metadata": {},
     "output_type": "execute_result"
    }
   ],
   "source": [
    "df_m.index.drop_duplicates(keep='first')\n",
    "df_m.head(10)"
   ]
  },
  {
   "cell_type": "code",
   "execution_count": null,
   "metadata": {},
   "outputs": [],
   "source": []
  },
  {
   "attachments": {},
   "cell_type": "markdown",
   "metadata": {},
   "source": [
    "## pandas 예시 - 전체"
   ]
  },
  {
   "attachments": {},
   "cell_type": "markdown",
   "metadata": {},
   "source": [
    "wiki 기반으로 ner 만들기"
   ]
  },
  {
   "cell_type": "code",
   "execution_count": 22,
   "metadata": {},
   "outputs": [],
   "source": [
    "# 다른 파일에서 돌림\n",
    "# def ner_dict(x):\n",
    "#     try:\n",
    "#         result_ner = ner(x)\n",
    "#         ids = 0\n",
    "#         dict_={}\n",
    "#         for w,ne in result_ner:\n",
    "#             if ne!='O':\n",
    "#                 dict_[ne] = dict_.get(ne,[]) \n",
    "#                 dict_[ne].append((w,ids))\n",
    "#             ids+=len(w)\n",
    "#         return dict_\n",
    "#     except ValueError:\n",
    "#         return {}\n",
    "# df_ner_total = df.copy()\n",
    "# df_ner_total['context_ner'] = df_ner_total['text'].apply(lambda x: ner_dict(x))"
   ]
  },
  {
   "cell_type": "code",
   "execution_count": 41,
   "metadata": {},
   "outputs": [],
   "source": [
    "df_wiki_ne = pd.read_csv('/opt/ml/input/data/wiki_ner.csv')"
   ]
  },
  {
   "cell_type": "code",
   "execution_count": 284,
   "metadata": {},
   "outputs": [
    {
     "name": "stdout",
     "output_type": "stream",
     "text": [
      "20\n"
     ]
    },
    {
     "data": {
      "text/html": [
       "<div>\n",
       "<style scoped>\n",
       "    .dataframe tbody tr th:only-of-type {\n",
       "        vertical-align: middle;\n",
       "    }\n",
       "\n",
       "    .dataframe tbody tr th {\n",
       "        vertical-align: top;\n",
       "    }\n",
       "\n",
       "    .dataframe thead th {\n",
       "        text-align: right;\n",
       "    }\n",
       "</style>\n",
       "<table border=\"1\" class=\"dataframe\">\n",
       "  <thead>\n",
       "    <tr style=\"text-align: right;\">\n",
       "      <th></th>\n",
       "      <th>text</th>\n",
       "      <th>corpus_source</th>\n",
       "      <th>url</th>\n",
       "      <th>domain</th>\n",
       "      <th>title</th>\n",
       "      <th>author</th>\n",
       "      <th>html</th>\n",
       "      <th>document_id</th>\n",
       "      <th>context_ner</th>\n",
       "    </tr>\n",
       "  </thead>\n",
       "  <tbody>\n",
       "    <tr>\n",
       "      <th>0</th>\n",
       "      <td>이 문서는 나라 목록이며, 전 세계 206개 나라의 각 현황과 주권 승인 정보를 개요 형태로 나열하고 있다.\\n\\n이 목록은 명료화를 위해 두 부분으로 나뉘어 있다.\\n\\n# 첫 번째 부분은 바티칸 시국과 팔레스타인을 포함하여 유엔 등 국제 기구에 가입되어 국제적인 승인을 널리 받았다고 여기는 195개 나라를 나열하고 있다.\\n# 두 번째 부분은 일부 지역의 주권을 사실상 (데 팍토) 행사하고 있지만, 아직 국제적인 승인을 널리 받지 않았다고 여기는 11개 나라를 나열하고 있다.\\n\\n두 목록은 모두 가나다 순이다.\\n\\n일부 국가의 경우 국가로서의 자격에 논쟁의 여부가 있으며, 이 때문에 이러한 목록을 엮는 것은 매우 어렵고 논란이 생길 수 있는 과정이다. 이 목록을 구성하고 있는 국가를 선정하는 기준에 대한 정보는 \"포함 기준\" 단락을 통해 설명하였다. 나라에 대한 일반적인 정보는 \"국가\" 문서에서 설명하고 있다.</td>\n",
       "      <td>위키피디아</td>\n",
       "      <td>TODO</td>\n",
       "      <td>NaN</td>\n",
       "      <td>나라 목록</td>\n",
       "      <td>NaN</td>\n",
       "      <td>NaN</td>\n",
       "      <td>0</td>\n",
       "      <td>{'QUANTITY': [('206개', 20), ('두 부분', 75), ('첫 번째', 92), ('195개', 159), ('두 번째', 179), ('11개', 247), ('두 목록', 264)], 'LOCATION': [('바티칸', 101), ('팔레스타인', 109)], 'ORGANIZATION': [('유엔', 121)], 'CIVILIZATION': [('주권', 195), ('데 팍토', 204)]}</td>\n",
       "    </tr>\n",
       "  </tbody>\n",
       "</table>\n",
       "</div>"
      ],
      "text/plain": [
       "                                                                                                                                                                                                                                                                                                                                                                                                                                                                              text  \\\n",
       "0  이 문서는 나라 목록이며, 전 세계 206개 나라의 각 현황과 주권 승인 정보를 개요 형태로 나열하고 있다.\\n\\n이 목록은 명료화를 위해 두 부분으로 나뉘어 있다.\\n\\n# 첫 번째 부분은 바티칸 시국과 팔레스타인을 포함하여 유엔 등 국제 기구에 가입되어 국제적인 승인을 널리 받았다고 여기는 195개 나라를 나열하고 있다.\\n# 두 번째 부분은 일부 지역의 주권을 사실상 (데 팍토) 행사하고 있지만, 아직 국제적인 승인을 널리 받지 않았다고 여기는 11개 나라를 나열하고 있다.\\n\\n두 목록은 모두 가나다 순이다.\\n\\n일부 국가의 경우 국가로서의 자격에 논쟁의 여부가 있으며, 이 때문에 이러한 목록을 엮는 것은 매우 어렵고 논란이 생길 수 있는 과정이다. 이 목록을 구성하고 있는 국가를 선정하는 기준에 대한 정보는 \"포함 기준\" 단락을 통해 설명하였다. 나라에 대한 일반적인 정보는 \"국가\" 문서에서 설명하고 있다.   \n",
       "\n",
       "  corpus_source   url  domain  title  author  html  document_id  \\\n",
       "0         위키피디아  TODO     NaN  나라 목록     NaN   NaN            0   \n",
       "\n",
       "                                                                                                                                                                                                                                    context_ner  \n",
       "0  {'QUANTITY': [('206개', 20), ('두 부분', 75), ('첫 번째', 92), ('195개', 159), ('두 번째', 179), ('11개', 247), ('두 목록', 264)], 'LOCATION': [('바티칸', 101), ('팔레스타인', 109)], 'ORGANIZATION': [('유엔', 121)], 'CIVILIZATION': [('주권', 195), ('데 팍토', 204)]}  "
      ]
     },
     "execution_count": 284,
     "metadata": {},
     "output_type": "execute_result"
    }
   ],
   "source": [
    "df_wiki_ner = df_wiki_ne.head(20).copy()\n",
    "df_wiki_ner['context_ner'] = df_wiki_ner['context_ner'].apply(lambda x: eval(x))\n",
    "print(len(df_wiki_ner))\n",
    "df_wiki_ner.head(1)\n",
    "# df_wiki_ner.iloc[0]['context_ner'].keys()"
   ]
  },
  {
   "attachments": {},
   "cell_type": "markdown",
   "metadata": {},
   "source": [
    "### test random sampling"
   ]
  },
  {
   "attachments": {},
   "cell_type": "markdown",
   "metadata": {},
   "source": [
    "test  _ 항목별 개수 뽑아내기"
   ]
  },
  {
   "cell_type": "code",
   "execution_count": 219,
   "metadata": {},
   "outputs": [
    {
     "data": {
      "text/plain": [
       "[2, 9, 0, 11, 1, 4]"
      ]
     },
     "execution_count": 219,
     "metadata": {},
     "output_type": "execute_result"
    }
   ],
   "source": [
    "df_ner = df_wiki_ner.copy()\n",
    "df_ner['k_e'] = df_ner['context_ner'].apply(lambda x: 'EVENT' in x.keys())\n",
    "df_ner['k_o'] = df_ner['context_ner'].apply(lambda x: 'ORGANIZATION' in x.keys())\n",
    "df_ner['k_a'] = df_ner['context_ner'].apply(lambda x: 'ARTIFACTS' in x.keys())\n",
    "df_ner['k_d'] = df_ner['context_ner'].apply(lambda x: 'DATE' in x.keys())\n",
    "df_ner['k_t'] = df_ner['context_ner'].apply(lambda x: 'TIME' in x.keys())\n",
    "df_ner['k_l'] = df_ner['context_ner'].apply(lambda x: 'LOCATION' in x.keys())\n",
    "def num_T(x,df):\n",
    "    try: \n",
    "        return df[x].value_counts()[True] \n",
    "    except KeyError:\n",
    "        return 0\n",
    "tmp_list = ['k_e','k_o','k_a','k_d','k_t','k_l']\n",
    "num_list = []\n",
    "for t in tmp_list:\n",
    "    num_list.append(num_T(t,df_ner))\n",
    "num_list"
   ]
  },
  {
   "cell_type": "code",
   "execution_count": 220,
   "metadata": {},
   "outputs": [
    {
     "data": {
      "text/plain": [
       "[2, 9, 0, 11, 1, 1]"
      ]
     },
     "execution_count": 220,
     "metadata": {},
     "output_type": "execute_result"
    }
   ],
   "source": [
    "[min(num_list[3],num_list[0]),min(num_list[3],num_list[1]),min(round(num_list[3]*19/20),num_list[2]),num_list[3],min(round(num_list[3]*5/20),num_list[4]) ,min(round(num_list[3]*2/20),num_list[5])]"
   ]
  },
  {
   "cell_type": "code",
   "execution_count": null,
   "metadata": {},
   "outputs": [],
   "source": [
    "# df_add = pd.DataFrame()\n",
    "# for i in range(1):\n",
    "#     print(i)\n",
    "#     for ne in ner_list:\n",
    "#         print(ne)\n",
    "#         df_wiki_ner['k_'+ne] = df_wiki_ner['context_ner'].apply(lambda x: ne in (x).keys())\n",
    "\n",
    "#         df_p = df_wiki_ner[df_wiki_ner['k_'+ne]==True].sample(n=p_num)\n",
    "#         # display(df_p)\n",
    "#         df_p.insert(9, 'answer', df_p['context_ner'].apply(lambda x: random.choice((x)[ne])))\n",
    "#         df_p['context_ner']=df_p[['context_ner','answer']].apply(pop_dict,axis=1)\n",
    "#         # display(df_p)\n",
    "#         df_add = pd.concat([df_add,df_p])\n",
    "    \n",
    "# df_add"
   ]
  },
  {
   "cell_type": "code",
   "execution_count": 246,
   "metadata": {},
   "outputs": [],
   "source": [
    "# 대상(무엇을 -목적) - EVENT, ORGANIZATION, ARTIFACTS + \n",
    "# 인물(누가 - 주어) - PERSON\n",
    "# -----\n",
    "# 시간(언제) - DATE / TIME\n",
    "# ----\n",
    "# 장소(어디서) - LOCATION\n",
    "# --\n",
    "# 방법(어떻게) -  x \n",
    "# 원인(왜) - x\n",
    "# ner_list = ['PERSON', 'EVENT', 'ORGANIZATION', 'ARTIFACTS', 'DATE', 'TIME', 'LOCATION']\n",
    "ner_list = ['PERSON', 'EVENT', 'ORGANIZATION',  'DATE', 'TIME', 'LOCATION']\n",
    "# ner_list = ['PERSON','EVENT']\n",
    "def pop_dict(x):\n",
    "    x[0][ne].remove(x[1])\n",
    "    if len(x[0][ne])==0:\n",
    "        del(x[0][ne])\n",
    "        return x[0]\n",
    "    else:\n",
    "        return x[0]\n",
    "p_num = 2"
   ]
  },
  {
   "cell_type": "code",
   "execution_count": 234,
   "metadata": {},
   "outputs": [
    {
     "data": {
      "text/plain": [
       "100"
      ]
     },
     "execution_count": 234,
     "metadata": {},
     "output_type": "execute_result"
    }
   ],
   "source": [
    "# person을 기준으로 person\n",
    "24 +24 +24 +8+ 8+ 12"
   ]
  },
  {
   "cell_type": "code",
   "execution_count": 242,
   "metadata": {},
   "outputs": [
    {
     "data": {
      "text/plain": [
       "int"
      ]
     },
     "execution_count": 242,
     "metadata": {},
     "output_type": "execute_result"
    }
   ],
   "source": [
    "type(round(55/5))"
   ]
  },
  {
   "cell_type": "code",
   "execution_count": 288,
   "metadata": {},
   "outputs": [
    {
     "name": "stdout",
     "output_type": "stream",
     "text": [
      "10\n",
      "0\n",
      "[7, 2, 7, 8, 0, 3]    ->   [7, 2, 7, 2, 0, 3]\n",
      "1\n",
      "[6, 1, 6, 5, 0, 3]    ->   [6, 1, 6, 2, 0, 3]\n",
      "2\n",
      "[5, 1, 6, 4, 0, 2]    ->   [5, 1, 5, 2, 0, 2]\n",
      "3\n",
      "[4, 1, 4, 4, 0, 2]    ->   [4, 1, 4, 1, 0, 2]\n",
      "4\n",
      "[4, 1, 4, 3, 0, 2]    ->   [4, 1, 4, 1, 0, 2]\n"
     ]
    },
    {
     "data": {
      "text/plain": [
       "95"
      ]
     },
     "execution_count": 288,
     "metadata": {},
     "output_type": "execute_result"
    }
   ],
   "source": [
    "df_wiki_ner = df_wiki_ne.head(10).copy()\n",
    "df_wiki_ner['context_ner'] = df_wiki_ner['context_ner'].apply(lambda x: eval(x))\n",
    "print(len(df_wiki_ner))\n",
    "df_wiki_ner.head(1)\n",
    "\n",
    "# ------------------------------------------\n",
    "ids_base=0\n",
    "range_num = 5\n",
    "\n",
    "\n",
    "df_add = pd.DataFrame()\n",
    "for i in range(range_num):\n",
    "    print(i)\n",
    "    num_list = []\n",
    "    for ne in ner_list:\n",
    "        # print(ne)\n",
    "        df_wiki_ner['k_'+ne] = df_wiki_ner['context_ner'].apply(lambda x: ne in (x).keys())\n",
    "        num_list.append(num_T('k_'+ne,df_wiki_ner))\n",
    "    print(num_list,'   ->   ',end='')\n",
    "    p_num\n",
    "\n",
    "    print([min(round(num_list[ids_base]),num_list[0]), min(num_list[ids_base],num_list[1]), min(num_list[ids_base],num_list[2]), min(round(num_list[ids_base]*8/24),num_list[3]), min(round(num_list[ids_base]*8/24),num_list[4]), min(round(num_list[ids_base]*12/24),num_list[5]) ])\n",
    "    for (i,ne) in enumerate(ner_list):\n",
    "        # print(ne)\n",
    "        # if num_list[i]<p_num:\n",
    "        #     pass\n",
    "        # else:\n",
    "        df_p = df_wiki_ner[df_wiki_ner['k_'+ne]==True].sample(n=num_list[i])\n",
    "        # display(df_p)\n",
    "        df_p.insert(9, 'answer', df_p['context_ner'].apply(lambda x: random.choice((x)[ne])))\n",
    "        df_p['context_ner']=df_p[['context_ner','answer']].apply(pop_dict,axis=1)\n",
    "        # display(df_p)\n",
    "        # print('========================================================================\\n===========================================================')\n",
    "        df_add = pd.concat([df_add,df_p])\n",
    "    \n",
    "\n",
    "len(df_add)"
   ]
  },
  {
   "cell_type": "code",
   "execution_count": 250,
   "metadata": {},
   "outputs": [
    {
     "data": {
      "text/html": [
       "<div>\n",
       "<style scoped>\n",
       "    .dataframe tbody tr th:only-of-type {\n",
       "        vertical-align: middle;\n",
       "    }\n",
       "\n",
       "    .dataframe tbody tr th {\n",
       "        vertical-align: top;\n",
       "    }\n",
       "\n",
       "    .dataframe thead th {\n",
       "        text-align: right;\n",
       "    }\n",
       "</style>\n",
       "<table border=\"1\" class=\"dataframe\">\n",
       "  <thead>\n",
       "    <tr style=\"text-align: right;\">\n",
       "      <th></th>\n",
       "      <th>text</th>\n",
       "      <th>corpus_source</th>\n",
       "      <th>url</th>\n",
       "      <th>domain</th>\n",
       "      <th>title</th>\n",
       "      <th>author</th>\n",
       "      <th>html</th>\n",
       "      <th>document_id</th>\n",
       "      <th>context_ner</th>\n",
       "      <th>answer</th>\n",
       "      <th>k_PERSON</th>\n",
       "      <th>k_EVENT</th>\n",
       "      <th>k_ORGANIZATION</th>\n",
       "      <th>k_DATE</th>\n",
       "      <th>k_TIME</th>\n",
       "      <th>k_LOCATION</th>\n",
       "    </tr>\n",
       "  </thead>\n",
       "  <tbody>\n",
       "    <tr>\n",
       "      <th>9</th>\n",
       "      <td>주기율표(週期律表, 주기률표, periodic table) 또는 주기표(週期表)는 원소를 구분하기 쉽게 성질에 따라 배열한 표로, 러시아의 드미트리 멘델레예프가 처음 제안했다. 1913년 헨리 모즐리는 멘델레예프의 주기율표를 개량시켜서 원자번호순으로 배열했는데, 이는 현대의 원소 주기율표와 유사하다.\\n가장 많이 쓰이는 주기율표에는 단주기형과 장주기형이 있다. 단주기형 주기율표는 1주기와 3주기를 기준으로 하고, 4주기 아래로는 전형원소와 전이원소가 같은 칸에 있다. 이 단주기형 주기율표는 초기에 쓴 모델로 원자가 많이 알려지지 않았을 때 많이 사용하였다. 장주기형 주기율표는 현재 가장 많이 쓰고 있는 주기율표이다.</td>\n",
       "      <td>위키피디아</td>\n",
       "      <td>TODO</td>\n",
       "      <td>NaN</td>\n",
       "      <td>주기율표</td>\n",
       "      <td>NaN</td>\n",
       "      <td>NaN</td>\n",
       "      <td>9</td>\n",
       "      <td>{'COUNTRY': [('러시아', 73)], 'QUANTITY': [('1주기', 213), ('3주기', 218), ('4주기', 232)], 'TERM': [('아래', 236)]}</td>\n",
       "      <td>(드미트리 멘델레예프, 78)</td>\n",
       "      <td>True</td>\n",
       "      <td>False</td>\n",
       "      <td>False</td>\n",
       "      <td>True</td>\n",
       "      <td>False</td>\n",
       "      <td>False</td>\n",
       "    </tr>\n",
       "    <tr>\n",
       "      <th>7</th>\n",
       "      <td>일본어 표기에 많이 쓰이는 올림문자 (후리가나)는 그대로 올려쓰지 않고 '｜'나 '《》'로 표시한다.  올림문자를 《》 로 묶거나 ｜로 올릴 문자열을 특정하는 방식은 일본 시각장애인 독서지원협회 (BBA) 의 원문입력 수칙에 따른 것이다.  \\n\\n이 같은 방식을 예시로 들자면 다음과 같다.\\n:青空｜文庫《ぶんこ》 아오조라 문고\\n라고 표기했다면 'ぶんこ' (분코)라는 올림표기가 '文庫' 부분에 걸려 있는 것이다. 다만,\\n:本日は晴天《せいてん》なり。 오늘은 맑은 하늘.\\n처럼 올림표기를 쓸 한자가 가나로 충분히 구분된다면 ｜를 써서 분리할 필요가 없으므로 쓰지 않는다. 또한,\\n:｜ブルースカイ《青空》 블루스카이 (\"청공\")\\n처럼 가나에 올림표기를 강제로 쓰는 것도 가능하다.</td>\n",
       "      <td>위키피디아</td>\n",
       "      <td>TODO</td>\n",
       "      <td>NaN</td>\n",
       "      <td>아오조라 문고</td>\n",
       "      <td>NaN</td>\n",
       "      <td>NaN</td>\n",
       "      <td>7</td>\n",
       "      <td>{'CIVILIZATION': [('일본어', 0), ('한자', 268)], 'COUNTRY': [('일본', 92), ('가나', 346)], 'ARTIFACT': [('ぶんこ', 165), ('청공', 338)]}</td>\n",
       "      <td>(블루스카이, 330)</td>\n",
       "      <td>True</td>\n",
       "      <td>False</td>\n",
       "      <td>True</td>\n",
       "      <td>True</td>\n",
       "      <td>False</td>\n",
       "      <td>False</td>\n",
       "    </tr>\n",
       "    <tr>\n",
       "      <th>8</th>\n",
       "      <td>켄 톰슨(Ken Thompson) 등과 함께 최초의 유닉스(Unix) 시스템을 개발했고, 1971년 최초의 〈Unix Programmer's Manual〉을 썼다. 또한 C 언어를 개발한 후 브라이언 커니핸과 함께 〈C 프로그래밍 언어〉(The C Programming Language)를 기술했다. 커니핸과 〈C 프로그래밍 언어〉책을 썼기에 커니핸이 C 언어 개발에 참여한 것으로 종종 오해받으나 커니핸의 말에 따르면 자신은 C언어 개발에 참여하지 않았다고 한다.\\n\\nALTRAN, B언어, BCPL, Multics 등의 개발에도 영향을 끼친 것으로도 알려져 있다.\\n\\n1983년에 켄 톰프슨과 \"범용 운영체제 이론개발, 특히 유닉스 운영체제의 구현에 대한 공로\"로 튜링상을 수상했다.\\n\\n미국의 경제 전문지 '비즈니스 인사이더'에서는 '현재의 애플 컴퓨터는 거의 모두 데니스 리치의 업적에 기반하고 있다'이라며 그의 업적을 평가했다.  현재 애플 매킨토시의 OS X와 아이폰의 iOS는 모두 유닉스 운영체제를 기반으로 만들어져 있다.</td>\n",
       "      <td>위키피디아</td>\n",
       "      <td>TODO</td>\n",
       "      <td>NaN</td>\n",
       "      <td>데니스 리치</td>\n",
       "      <td>NaN</td>\n",
       "      <td>NaN</td>\n",
       "      <td>8</td>\n",
       "      <td>{'PERSON': [('브라이언 커니핸', 107), ('켄 톰프슨', 323)], 'TERM': [('유닉스', 29), ('(Unix', 32), ('C', 95), ('C', 121), ('유닉스', 348), ('운영체', 352), ('컴퓨터', 415), ('iOS', 486), ('유닉스', 494)], 'ARTIFACT': [('Unix Programmer's Manual', 61), ('C 프로그래밍 언어', 174), ('C', 239), ('매킨토시', 469), ('OS X', 475), ('아이폰', 481)], 'CIVILIZATION': [('튜링상', 370)], 'COUNTRY': [('미국', 381)]}</td>\n",
       "      <td>(커니핸, 192)</td>\n",
       "      <td>True</td>\n",
       "      <td>False</td>\n",
       "      <td>True</td>\n",
       "      <td>True</td>\n",
       "      <td>False</td>\n",
       "      <td>False</td>\n",
       "    </tr>\n",
       "    <tr>\n",
       "      <th>2</th>\n",
       "      <td>현 서울특별시 종로구 서린동 (구 일제 강점기 경기도 경성부 서린정) 출신이다. 친일파인 아버지 백낙승과 어머니 조종희 사이의 3남 2녀 중 막내로 태어났다. 그후 종로구 창신동 197번지 소위 \"큰대문집\"에서 18세까지 살았다. 수송국민학교와 경기제1고등보통학교를 다니면서 피아니스트 신재덕에게 피아노 연주를, 작이건우]]에게 작곡을 각각 배웠다. 이때 한국이 낳은 작곡가 김순남을 사사했다. 1949년 그는 홍콩 로이덴 스쿨로 전학했으며, 한국 전쟁이 발발하기 이전 가족이 일본으로 이주했다. 그 후 일본으로 건너가 1952년 도쿄 대학교 문과부에 입학했다. 2년 후 미술사학 및 미학으로 전공을 정했지만, 실제로는 일본 당대의 작곡가 모로이 사부로, 미학자 노무라 요시오 등에게서 작곡과, 음악사학을 공부했다. 졸업 논문은 ‘아르놀트 쇤베르크 연구’이다.\\n\\n1956년 백남준은 졸업과 함께 독일로 유학을 떠나 뮌헨 대학교 및 쾰른 대학교 등에서 서양의 건축, 음악사, 철학 등을 공부하였다. 뮌헨 대학교 입학 1년 후에는 프라이부르크 국립 음악 대학교로 옮겨 볼프강 포르트너 교수에게 배우지만, 곧 쇤베르크 이후 현대음악의 실험이 활발히 진행되던 다름슈타트 하기 강좌에 참여했다. 1958년 그 곳에서 현대음악가 존 케이지를 만나 그의 음악에 대한 파괴적 접근과 자유정신으로부터 깊은 영감을 얻었다. 이 영감은 \"세계의 역사는 우리에게 알려준다. 주어진 게임에서 이길 수 없다면 규칙을 바꿔라\" 라는 것으로 규정된다. 이후 1950년대부터 활발해지기 시작한 독일 라인 지역의 액션뮤직의 현장에서 백남준은 ‘아시아에서 온 문화테러리스트’(앨런 카프로)라고 불릴 정도의 탁월한 퍼포먼스 아티스트로 활약했다. 1959년 ‘존 케이지에게 보내는 경의’에서 음악적 콜라주와 함께 피아노를 부수는 퍼포먼스를 선보이는 것을 시작으로, 바이올린을 단숨에 파괴하거나(바이올린 솔로) 존 케이지가 착용한 넥타이를 잘라버리는 퍼포먼스(피아노 포르테를 위한 연습곡)가 특히 유명하다. 이 초기 퍼포먼스에 대해 백남준은 스스로 \"충격, 표현주의, 낭만주의, 클라이맥스, 놀라움, 기타 등등을 보여준 것\"이라고 표현한 바 있다. 1961년 카를하인츠 슈토크하우젠의 음악 퍼포먼스 ‘오리기날레’에서 머리와 넥타이로 잉크를 묻혀 두루마리에 흔적을 남기는 독특한 퍼포먼스 심플 머리를 위한 선율을 보여주기도 했다. 1960년대 초반 조지 마키우나스, 요셉 보이스 등과 의기투합하여 플럭서스 활동을 함께 전개했다. 다다이즘에 영향을 받은 플럭서스는 헤라클레이투스가 주장한 ‘변화 생성의 흐름’ 이라는 개념을 받아들여 \"목적이 없는 자유, 실험을 위한 실험\"이라는 명목 하에 이벤트와 퍼포먼스 그리고 전위음악에 주력했고, 곧 유럽과 아시아 및 미국 등 세계로 퍼져나갔다.\\n\\n1961년 백남준은 작곡가 슈토크하우젠이 중심이 된 쾰른의 WDR 전자음악 스튜디오에 출입했으며, 이때 1950년대부터 노버트 위너에 의해 제안된 '사이버네틱스' 개념 하에서 전자공학을 공부한 것으로 알려져 있다. 특히 레이다와 TV 작업에 몰두했던 독일 작가 칼 오토 괴츠의 실패를 거울 삼아서 2년여 동안 홀로 TV를 활용한 미디어 아트로서의 가능성을 탐문하고 실험했다. 그 성과를 바탕으로 1963년 독일 부퍼탈 파르나스 갤러리에서 자신의 첫 번째 전시 ‘음악의 전시-전자 텔레비전’을 열었으며, 13대의 실험적인 TV를 통해 훗날 비디오 아트라고 불리게 되는 초기 형태를 보여주었다. 이 전시는 백남준이 자신의 즉흥음악 또는 무음악의 발상에 기초한 실제 퍼포먼스, 그 흔적과 결과물처럼 유럽에서 자신이 진행해온 작업의 성과와 함께 TV를 비롯한 미디어로 새로운 예술의 형태를 시도하는 작업이 공존하고 있었다. ‘적분된 피아노’, ‘랜덤 액세스 뮤직’, ‘레코드 샤슐릭’같은 20세기 전위음악에 젖줄을 대고 있는 실험적 음악의 시도와 ‘잘린 소머리’, ‘파괴된 누드 마네킹’, ‘보이스의 피아노 파괴 퍼포먼스’'걸음을 위한 선' '바람을 위한 선' 같은 우상파괴적 설치 작업 및 참여예술 형태의 퍼포먼스가 함께 펼쳐졌다. 청년 백남준은 이러한 전시 내용을 ‘동시성’, ‘참여’, ‘임의접속’ 등등에 관한 16개의 테마로써 정리하는 종합적인 큐레이팅 전시로 보여주었기 때문에 최근날짜=2015-5-9 독일, 오스트리아 등지의 연구자들 사이에서 이 전시의 중요성을 재평가하면서 아카이빙 작업과 연구가 점차 활발해지는 추세에 있다.\\n\\n1964년 백남준은 일본으로 건너가 '로봇 K-456'을 제작했으며, 곧 세계 예술의 중심지 뉴욕으로 이주했다. 뉴욕 언더그라운드 필름 운동의 중심지 중 하나였던 시네마테크 필름메이커스에 관여했으며, 스스로 영상 작업을 진행하기도 했다. 1965년 소니의 포타팩(세계 최초의 휴대용 비디오카메라)으로 미국 뉴욕을 첫 방문 중이던 교황 요한 바오로 6세를 촬영하여 곧바로 그 영상을 ‘카페 오 고고’에서 방영했다. 이것이 미술사에서는 한동안 공식적인 비디오 아트의 시작으로 기록되어 있었다. 지금은 1963년 첫번째 전시를 비디오아트의 기점으로 보고 있다. 또한 첼로 연주자이자 뉴욕 아방가르드 페스티벌의 기획자였던 샬럿 무어먼과 함께 비디오 아트와 음악을 혼합한 퍼포먼스 작업을 활발히 펼쳤다. 특히 1967년 음악에 성적인 코드를 집어넣은 백남준의 ‘오페라 섹스트로니크’에서 샬럿 무어먼은 누드 상태의 첼로 연주를 시도하다가 뉴욕 경찰에 체포되어 큰 사회적 파장을 불러일으켰다. 그 결과로 인해 예술 현장에서 누드를 처벌할 수 없다는 뉴욕의 법 개정이 이루어지는 획기적인 진전이 일어난다. 이후에도 미디어 아트가 미국 뉴욕을 중심으로 서서히 득세해가는 시대적 조류 속에서 두 사람은 ‘살아있는 조각을 위한 TV 브라’, ‘TV 첼로’, ‘TV 침대’ 등등 미디어 테크놀로지와 퍼포먼스를 결합한 많은 예술활동을 전개했다.\\n\\n1974년부터 백남준은 영상으로서의 비디오 아트를 새로운 미술적 방법인 설치 미술로 변환하여 다양하게 진행했으며, 그에 따라 ‘TV 붓다’, ‘달은 가장 오래된 TV다’, ‘TV 정원’, ‘TV 물고기’ 등등 많은 대표작을 선보였다. 이 작품들은 비디오 아트와 생명의 상징을 전자적으로 결합하여 테크놀로지로 물든 현대 사회의 새로운 합성적 생명력을 추구했다는 평판을 얻었다. 특히 'TV 붓다'는 그의 초기 비디오 설치의 경향을 잘 보여주는 대표작으로서 가장 널리 알려졌다. 1960년대 후반부터 미국의 문화적 환경이 미디어 테크놀로지에 호의적으로 변화하면서 폭발적인 수준의 미디어 전시가 빈발했고, 백남준의 비디오 아트는 그룹전 형태로 수많은 전시에 활발하게 참여했다. 1974년 뉴욕 에버슨 미술관 개인전과 함께 비데아 앤 비디올로지: 1959-1973이라는 예술과 기술을 교차시키는 하이브리드에 관한 저작을 내놓아 미디아 아트의 이해를 도왔으며, 1982년 뉴욕 휘트니 미술관에서 개최된 ‘백남준 회고전’을 통해 그의 예술 세계가 뉴욕을 중심으로 미국 사회에 많이 알려지는 계기가 되었다.\\n\\n1970년대 중반부터는 뉴욕 WNET 방송국, 보스턴 WGBH 방송국과 협력하여 자신의 비디오 아트를 공중파 TV에서 방송했고, 이는 네트워크 방송을 끌어들여 예술 세계의 영역 확장을 꾀한 놀라운 시도였다. 나아가 1984년 1월 1일 ‘굿모닝 미스터 오웰’은 세계적인 아티스트들의 퍼포먼스를 뉴욕 WNET 방송국과 파리 퐁피두 센터를 연결한 실시간 위성 생중계로 방송하여 전 세계적 반향을 불러일으켰다. 샌프란시스코와 서울까지 연결된 이 국제적인 규모의 위성 아트에는 로리 앤더슨, 피터 가브리엘, 오잉고 보잉고, 존 케이지, 요셉 보이스, 앨런 긴즈버그, 이브 몽탕 등의 예술가과 대중문화의 스타가 다수 참여했으며, 전 세계 2천 5백만명(재방송 포함)이 시청하였다. 이로써 전세계적인 차원의 대중적 각인이 이루어졌고, 마치 대중스타처럼 성가를 높였다. 이후에도 ‘위성 아트’ 3부작으로 명명된 ‘바이 바이 키플링’(1986), ‘손에 손잡고’(1988) 등이 이어져 위성 연결을 통한 전세계의 네트워크가 어떻게 새로운 부족사회를 낳는지 실감시켰다.\\n\\n1984년 일본 도쿄 소게쓰[草月]홀에서 백남준과 요셉 보이스가 공동으로 참여한 퍼포먼스 '코요테 콘서트 II'가 펼쳐졌으며, 이들이 각각 몽골의 늑대 울음소리와 초원의 달빛을 음악적으로 표현한 것을 통해 1961년 첫 만남부터 계속 이어온 공동의 관심사가 무엇인지 알려지기 시작했다. 그러나 이들의 이후 퍼포먼스 계획은 요셉 보이스의 죽음과 함께 미완으로 끝났다.\\n\\n1992년 '비디오 때, 비디오 땅' 전시는 독일 쿤스트 할레와 스위스 쮜리히에서 진행된 전시의 서울 투어전시로서 당시 과천 막계동에 자리잡은 지 몇 년 되지 않았던 국립현대미술관 과천관에 총 관람 인원 20만명이 찾은 첫번째 전시로 기록되었다. 이 전시의 주요한 작품은 '나의 파우스트' 시리즈이다. 1993년 백남준은 독일 작가 한스 하케와 함께 베니스 비엔날레 독일관 작가로 초대되어 국가전시관 부문에서 황금사자상을 수상했다. '문명의 동서남북'이라는 주제의 이 전시에서 그는 북방 유라시아의 유목 문화를 배경으로 전자적 소통을 시도하는 비디오 로봇 형태의‘칭기스칸의 복권’, ‘마르크폴로’, ‘훈족의 왕 아틸라’,‘스키타이의 왕 단군’, ‘로봇 전사’, ‘고대기마인물상’ 같은 작품들을 중심으로 다수의 작품을 내놓았다.\\n\\n1995년 백남준은 제1회 광주 비엔날레 태동의 산파 역할을 하며, 한국 미술이 국제적으로 진출할 수 있도록 조력자 역할을 수행했다. 제1회 광주 비엔날레는 국내외 총 관람객이 160만 명에 달하는 성공을 거두었고, 특히 백남준이 직접 관여한 ‘INFO Art’전이 주목받았다. 또한 백남준은 같은 해 베니스 비엔날레 국가전시관 부문에 한국관을 설치하는 일에 결정적인 역할을 했다. 이로써 한국 미술이 세계 미술계에 진출하는 교두보가 마련되었다고 하겠다. 같은 해 그의 예술적 정수가 담긴 일렉트로닉 수퍼하이웨이 전시를 진행했다. 1996년 4월 9일 뇌졸중으로 쓰러졌으며, 6개월만인 그해 10월에 재기했다. 2000년 뉴욕 구겐하임 미술관에서 ‘백남준의 세계’ 라는 대규모 회고전이 열렸으며, 이때 백남준은 레이저 아트 ‘야곱의 사다리’, ‘삼원소’ 등을 전시한 바 있다.\\n\\n2006년 1월 29일, 미국 마이애미의 자택에서 노환으로 75세로 별세, 유해가 서울, 뉴욕, 독일에 나눠서 안치되었다.</td>\n",
       "      <td>위키피디아</td>\n",
       "      <td>TODO</td>\n",
       "      <td>NaN</td>\n",
       "      <td>백남준</td>\n",
       "      <td>NaN</td>\n",
       "      <td>NaN</td>\n",
       "      <td>2</td>\n",
       "      <td>{'CITY': [('서울특별시', 2), ('홍콩', 230), ('쾰른', 1396), ('뉴욕', 2221), ('뉴욕', 2232), ('뉴욕', 2340), ('뉴욕', 2492), ('뉴욕', 2632), ('뉴욕', 2693), ('뉴욕', 2740), ('뉴욕', 3235), ('뉴욕', 3336), ('뉴욕', 3377), ('뉴욕', 3423), ('보스턴', 3436), ('뉴욕', 3574), ('파리', 3587), ('샌프란시스코', 3637), ('서울', 3645), ('도쿄', 3953), ('서울', 4203), ('뉴욕', 4904), ('마이애미', 5008), ('서울', 5037), ('뉴욕', 5041)], 'LOCATION': [('종로구', 8), ('경기도', 26), ('경성부', 30), ('서린정', 34), ('종로구', 92), ('창신동', 96), ('아시아', 789), ('유럽', 1341), ('쿤스트 할레', 4177), ('쮜리히', 4189), ('과천', 4216), ('막계동', 4219), ('유라시아', 4422)], 'DATE': [('1949년', 221), ('1952년', 291), ('2년 후', 315), ('1956년', 426), ('1년 후', 511), ('1958년', 607), ('1950년대부터', 743), ('1959년', 844), ('1961년', 1367), ('1950년대부터', 1425), ('2년여 동안', 1533), ('1963년', 1588), ('20세기', 1860), ('2015-5-9', 2088), ('1964년', 2169), ('1965년', 2302), ('1963년', 2447), ('1967년', 2561), ('1974년부터', 2853), ('1960년대 후반부터', 3119), ('1974년', 3229), ('1959-1973', 3267), ('1982년', 3330), ('1970년대 중반부터', 3410), ('1984년 1월 1일', 3530), ('1986', 3869), ('1984년', 3944), ('1961년', 4059), ('1992년', 4149), ('1993년', 4318), ('1995년', 4556), ('같은 해', 4720), ('같은 해', 4811), ('1996년 4월 9일', 4853), ('그해 10월', 4884), ('2000년', 4898), ('2006년 1월 29일', 4991)], 'CIVILIZATION': [('친일파', 45), ('아버지', 50), ('어머니', 59), ('막내', 79), ('가족', 263), ('미학자', 367), ('현대음악가', 619), ('영감', 676), ('문화테러리스트', 797), ('아티스트', 832), ('넥타이', 946), ('넥타이', 1110), ('연구자', 2111), ('교황', 2353), ('기획자', 2507), ('아티스트', 3561), ('대중스타', 3818), ('황금사자상', 4378), ('조력자', 4617), ('관람객', 4650)], 'PERSON': [('백낙승', 54), ('조종희', 63), ('신재덕', 160), ('작이건우', 175), ('김순남', 210), ('모로이 사부로', 358), ('노무라 요시오', 371), ('백남준', 432), ('볼프강 포르트너', 539), ('쇤베르크', 561), ('존 케이지', 625), ('백남준', 783), ('앨런 카프로', 806), ('카를하인츠 슈토크하우젠', 1074), ('조지 마키우나스', 1179), ('요셉 보이스', 1189), ('플럭서스', 1237), ('헤라클레이투스', 1243), ('백남준', 1373), ('슈토크하우젠', 1382), ('노버트 위너', 1434), ('칼 오토 괴츠', 1513), ('백남준', 1704), ('백남준', 2175), ('요한 바오로', 2356), ('샬럿 무어먼', 2513), ('백남준', 2584), ('샬럿 무어먼', 2604), ('백남준', 2861), ('백남준', 3189), ('피터 가브리엘', 3681), ('오잉고 보잉고', 3690), ('존 케이지', 3699), ('요셉 보이스', 3706), ('앨런 긴즈버그', 3714), ('이브 몽탕', 3723), ('백남준', 3967), ('요셉 보이스', 3972), ('백남준', 4324), ('한스 하케', 4335), ('백남준', 4562), ('백남준', 4680), ('백남준', 4715), ('백남준', 4949)], 'QUANTITY': [('3남 2녀', 71), ('197번지', 100), ('18세', 118), ('첫 번째', 1616), ('13대', 1648), ('16개', 2044), ('하나', 2255), ('6세', 2363), ('첫번째', 2453), ('두 사람', 2770), ('2천 5백만명', 3762), ('3부작', 3847), ('20만명', 4263), ('첫번째', 4272), ('제1회', 4567), ('제1회', 4631), ('160만 명', 4655), ('75세', 5024)], 'ARTIFACT': [('큰대문', 110), ('피아노', 166), ('아르놀트 쇤베르크 연구', 409), ('존 케이지에게 보내는 경의', 851), ('피아노', 881), ('바이올린', 910), ('바이올린', 926), ('피아노', 962), ('기타', 1041), ('오리기날레', 1097), ('부퍼탈 파르나스 갤러리', 1597), ('적분된 피아노', 1825), ('랜덤 액세스 뮤직', 1836), ('레코드 샤슐릭', 1849), ('잘린 소머리', 1894), ('파괴된 누드 마네킹', 1904), ('보이스의 피아노', 1918), ('걸음을 위한 선', 1936), ('바람을 위한 선', 1947), ('로봇 K-456', 2190), ('포타팩', 2312), ('카페 오 고고', 2383), ('첼로', 2483), ('오페라 섹스트로니크', 2590), ('첼로', 2619), ('살아있는 조각을 위한', 2777), ('TV 브라', 2789), ('TV 첼로', 2798), ('TV 침대', 2807), ('TV 붓다', 2924), ('달은 가장 오래된 TV다', 2933), ('TV 정원', 2950), ('TV 물고기', 2959), ('TV 붓다', 3067), ('에버슨 미술관', 3238), ('비데아 앤 비디올로지', 3254), ('휘트니 미술관', 3339), ('굿모닝 미스터 오웰', 3543), ('바이 바이 키플링', 3858), ('손에 손잡고', 3877), ('소게쓰[草月]홀', 3956), ('국립현대미술관 과천관', 4242), ('나의 파우스트', 4302), ('칭기스칸의 복권', 4464), ('마르크폴로', 4476), ('훈족의 왕 아틸라', 4485), ('스키타이의 왕 단군', 4497), ('로봇 전사', 4511), ('고대기마인물상', 4520), ('구겐하임 미술관', 4907), ('야곱의 사다리', 4962), ('삼원소', 4973)], 'ORGANIZATION': [('수송국민학교', 129), ('경기제1고등보통학교', 137), ('로이덴 스쿨', 233), ('쾰른 대학교', 464), ('뮌헨 대학교', 501), ('WDR', 1400), ('시네마테크 필름메이커스', 2260), ('소니', 2308), ('경찰', 2635), ('WNET 방송국', 3426), ('WGBH 방송', 3440), ('WNET 방송국', 3577)], 'OCCUPATION': [('피아니스트', 154), ('작곡가', 206), ('작곡가', 354), ('교수', 548), ('작곡가', 1378), ('작가', 1510), ('연주자', 2486), ('예술가', 3732), ('스타', 3743), ('작가', 4332), ('작가', 4358)], 'COUNTRY': [('한국', 199), ('일본', 267), ('일본', 282), ('일본', 347), ('독일', 444), ('독일', 762), ('미국', 1351), ('독일', 1507), ('독일', 1594), ('독일', 2097), ('오스트리아', 2101), ('일본', 2180), ('미국', 2337), ('미국', 2737), ('미국', 3131), ('미국', 3386), ('일본', 3950), ('몽골', 4022), ('독일', 4174), ('스위스', 4185), ('독일', 4329), ('한국', 4594), ('한국', 4744), ('한국', 4774), ('미국', 5005), ('독일', 5045)], 'EVENT': [('한국 전쟁', 248), ('다름슈타트 하기', 588), ('백남준 회고', 3354), ('비디오 때, 비디오 땅', 4156), ('베니스 비엔날레', 4345), ('광주 비엔날레', 4635), ('백남준의 세계', 4919)], 'STUDY_FIELD': [('미술사학', 320), ('미학', 327), ('음악사학', 389), ('건축', 479), ('음악사', 483), ('철학', 488), ('현대음악', 569), ('액션뮤직', 772), ('전자음', 1404), ('전자공학', 1465), ('비디오 아트', 1668), ('미술사', 2404), ('비디오 아트', 2420), ('비디오아트', 2461), ('비디오 아트', 2524), ('미디어 아트', 2729), ('미디어 테크놀로지', 2817), ('비디오 아트', 2873), ('설치 미술', 2893), ('비디오 아트', 2991), ('미', 3143), ('디어 테크놀로지', 3144), ('비디오 아트', 3194), ('미디아 아트', 3312), ('비디오 아트', 3459), ('위성 아트', 3665), ('위성 아트', 3840), ('미술', 4597), ('미술', 4777), ('일렉트로', 4830), ('레이저 아트', 4954)], 'THEORY': [('표현주의', 1017), ('낭만주의', 1023), ('다다이즘', 1224)], 'ANIMAL': [('머리', 1106), ('머리', 1148), ('늑대', 4026)], 'TERM': [('레이다', 1490), ('TV', 1495), ('TV', 1543), ('음악의 전시-전자 텔레비전', 1625), ('TV', 1658), ('TV', 1780), ('휴대용', 2323), ('비디오카메라', 2327), ('비디오', 3081), ('TV', 3471), ('위성', 3898), ('동서남북', 4396), ('북방', 4419), ('비디오', 4453), ('로봇', 4457)], 'DISEASE': [('뇌졸중', 4865)]}</td>\n",
       "      <td>(백남준, 2001)</td>\n",
       "      <td>True</td>\n",
       "      <td>True</td>\n",
       "      <td>True</td>\n",
       "      <td>True</td>\n",
       "      <td>False</td>\n",
       "      <td>True</td>\n",
       "    </tr>\n",
       "    <tr>\n",
       "      <th>4</th>\n",
       "      <td>저자 사망 이후 50년이 지나 저작권이 소멸한 메이지 시대부터 쇼와 시대 초기까지의 서적 대부분이 존재한다. 외국 번역작품이나 저자가 무료보기를 인정한 현대작품도 포함된다. 장르는 정치부터 취미까지 다양하지만, 비교적 문학작품(시대소설, 추리소설등의 오락작품 포함)이 많다. 유명작가의 작품이 모두 갖춰져있진 않지만 그래도 일본어작품에 관련해서는 충실하게 갖춰진 편이다. (번역작품의 경우 번역저작권을 문제로 수가 많지 않다.)\\n\\n잘 알려지지 않은 작품을 보존, 소개하는 장점도 있다. 작품 텍스트화는 지금도 현재진행형이며 2011년 3월 15일 현재 등록작품수가 1만권이 넘었다.\\n고전작가인 모리 오가이, 나츠메 소세키, 아쿠타가와 류노스케, 최근의 작가로는 나카지마 아츠시, 다자이 오사무, 하야시 후미코, 미야모토 유리코, 호리 다쓰오, 사카구치 안고, 다카무라 고타로, 나가이 가후, 요시카와 에이지 등 인물의 작품이 있다.</td>\n",
       "      <td>위키피디아</td>\n",
       "      <td>TODO</td>\n",
       "      <td>NaN</td>\n",
       "      <td>아오조라 문고</td>\n",
       "      <td>NaN</td>\n",
       "      <td>NaN</td>\n",
       "      <td>4</td>\n",
       "      <td>{'OCCUPATION': [('저자', 0), ('저자', 71), ('작가', 156), ('작가', 364)], 'CIVILIZATION': [('저작권', 17), ('일본어', 181), ('번역저작권', 218), ('고전작가', 325)], 'STUDY_FIELD': [('시대소설', 127), ('추리소설', 133)], 'QUANTITY': [('1만권', 315)], 'PERSON': [('모리 오가이', 331), ('나카지마 아츠시', 369), ('다자이 오사무', 379), ('하야시 후미코', 388), ('호리 다쓰오', 407), ('다카무라 고타로', 424), ('나가이 가후', 434)]}</td>\n",
       "      <td>(요시카와 에이지, 442)</td>\n",
       "      <td>True</td>\n",
       "      <td>False</td>\n",
       "      <td>False</td>\n",
       "      <td>True</td>\n",
       "      <td>False</td>\n",
       "      <td>False</td>\n",
       "    </tr>\n",
       "  </tbody>\n",
       "</table>\n",
       "</div>"
      ],
      "text/plain": [
       "                                                                                                                                                                                                                                                                                                                                                                                                                                                                                                                                                                                                                                                                                                                                                                                                                                                                                                                                                                                                                                                                                                                                                                                                                                                                                                                                                                                                                                                                                                                                                                                                                                                                                                                                                                                                                                                                                                                                                                                                                                                                                                                                                                                                                                                                                                                                                                                                                                                                                                                                                                                                                                                                                                                                                                                                                                                                                                                                                                                                                                                                                                                                                                                                                                                                                                                                                                                                                                                                                                                                                                                                                                                                                                                                                                                                                                                                                                                                                                                                                                                                                                                                                                                                                                                                                                                                                                                                                                                                                                                                                                                                                                                                                                                                                                                                                                                                                                                                                                                                                                                                                                                                                                                                                                                                                             text  \\\n",
       "9                                                                                                                                                                                                                                                                                                                                                                                                                                                                                                                                                                                                                                                                                                                                                                                                                                                                                                                                                                                                                                                                                                                                                                                                                                                                                                                                                                                                                                                                                                                                                                                                                                                                                                                                                                                                                                                                                                                                                                                                                                                                                                                                                                                                                                                                                                                                                                                                                                                                                                                                                                                                                                                                                                                                                                                                                                                                                                                                                                                                                                                                                                                                                                                                                                                                                                                                                                                                                                                                                                                                                                                                                                                                                                                                                                                                                                                                                                                                                                                                                                                                                                                                                                                                                                                                                                                                                                                                                                                                                                                                                                                                                                                                                                                                                                                                                                                                                                                                    주기율표(週期律表, 주기률표, periodic table) 또는 주기표(週期表)는 원소를 구분하기 쉽게 성질에 따라 배열한 표로, 러시아의 드미트리 멘델레예프가 처음 제안했다. 1913년 헨리 모즐리는 멘델레예프의 주기율표를 개량시켜서 원자번호순으로 배열했는데, 이는 현대의 원소 주기율표와 유사하다.\\n가장 많이 쓰이는 주기율표에는 단주기형과 장주기형이 있다. 단주기형 주기율표는 1주기와 3주기를 기준으로 하고, 4주기 아래로는 전형원소와 전이원소가 같은 칸에 있다. 이 단주기형 주기율표는 초기에 쓴 모델로 원자가 많이 알려지지 않았을 때 많이 사용하였다. 장주기형 주기율표는 현재 가장 많이 쓰고 있는 주기율표이다.   \n",
       "7                                                                                                                                                                                                                                                                                                                                                                                                                                                                                                                                                                                                                                                                                                                                                                                                                                                                                                                                                                                                                                                                                                                                                                                                                                                                                                                                                                                                                                                                                                                                                                                                                                                                                                                                                                                                                                                                                                                                                                                                                                                                                                                                                                                                                                                                                                                                                                                                                                                                                                                                                                                                                                                                                                                                                                                                                                                                                                                                                                                                                                                                                                                                                                                                                                                                                                                                                                                                                                                                                                                                                                                                                                                                                                                                                                                                                                                                                                                                                                                                                                                                                                                                                                                                                                                                                                                                                                                                                                                                                                                                                                                                                                                                                                                                                                                                                                                                                                 일본어 표기에 많이 쓰이는 올림문자 (후리가나)는 그대로 올려쓰지 않고 '｜'나 '《》'로 표시한다.  올림문자를 《》 로 묶거나 ｜로 올릴 문자열을 특정하는 방식은 일본 시각장애인 독서지원협회 (BBA) 의 원문입력 수칙에 따른 것이다.  \\n\\n이 같은 방식을 예시로 들자면 다음과 같다.\\n:青空｜文庫《ぶんこ》 아오조라 문고\\n라고 표기했다면 'ぶんこ' (분코)라는 올림표기가 '文庫' 부분에 걸려 있는 것이다. 다만,\\n:本日は晴天《せいてん》なり。 오늘은 맑은 하늘.\\n처럼 올림표기를 쓸 한자가 가나로 충분히 구분된다면 ｜를 써서 분리할 필요가 없으므로 쓰지 않는다. 또한,\\n:｜ブルースカイ《青空》 블루스카이 (\"청공\")\\n처럼 가나에 올림표기를 강제로 쓰는 것도 가능하다.   \n",
       "8                                                                                                                                                                                                                                                                                                                                                                                                                                                                                                                                                                                                                                                                                                                                                                                                                                                                                                                                                                                                                                                                                                                                                                                                                                                                                                                                                                                                                                                                                                                                                                                                                                                                                                                                                                                                                                                                                                                                                                                                                                                                                                                                                                                                                                                                                                                                                                                                                                                                                                                                                                                                                                                                                                                                                                                                                                                                                                                                                                                                                                                                                                                                                                                                                                                                                                                                                                                                                                                                                                                                                                                                                                                                                                                                                                                                                                                                                                                                                                                                                                                                                                                                                                                                                                                                                                                                                                                                                                                                                                                                                                                                                                                                                                                                                 켄 톰슨(Ken Thompson) 등과 함께 최초의 유닉스(Unix) 시스템을 개발했고, 1971년 최초의 〈Unix Programmer's Manual〉을 썼다. 또한 C 언어를 개발한 후 브라이언 커니핸과 함께 〈C 프로그래밍 언어〉(The C Programming Language)를 기술했다. 커니핸과 〈C 프로그래밍 언어〉책을 썼기에 커니핸이 C 언어 개발에 참여한 것으로 종종 오해받으나 커니핸의 말에 따르면 자신은 C언어 개발에 참여하지 않았다고 한다.\\n\\nALTRAN, B언어, BCPL, Multics 등의 개발에도 영향을 끼친 것으로도 알려져 있다.\\n\\n1983년에 켄 톰프슨과 \"범용 운영체제 이론개발, 특히 유닉스 운영체제의 구현에 대한 공로\"로 튜링상을 수상했다.\\n\\n미국의 경제 전문지 '비즈니스 인사이더'에서는 '현재의 애플 컴퓨터는 거의 모두 데니스 리치의 업적에 기반하고 있다'이라며 그의 업적을 평가했다.  현재 애플 매킨토시의 OS X와 아이폰의 iOS는 모두 유닉스 운영체제를 기반으로 만들어져 있다.   \n",
       "2  현 서울특별시 종로구 서린동 (구 일제 강점기 경기도 경성부 서린정) 출신이다. 친일파인 아버지 백낙승과 어머니 조종희 사이의 3남 2녀 중 막내로 태어났다. 그후 종로구 창신동 197번지 소위 \"큰대문집\"에서 18세까지 살았다. 수송국민학교와 경기제1고등보통학교를 다니면서 피아니스트 신재덕에게 피아노 연주를, 작이건우]]에게 작곡을 각각 배웠다. 이때 한국이 낳은 작곡가 김순남을 사사했다. 1949년 그는 홍콩 로이덴 스쿨로 전학했으며, 한국 전쟁이 발발하기 이전 가족이 일본으로 이주했다. 그 후 일본으로 건너가 1952년 도쿄 대학교 문과부에 입학했다. 2년 후 미술사학 및 미학으로 전공을 정했지만, 실제로는 일본 당대의 작곡가 모로이 사부로, 미학자 노무라 요시오 등에게서 작곡과, 음악사학을 공부했다. 졸업 논문은 ‘아르놀트 쇤베르크 연구’이다.\\n\\n1956년 백남준은 졸업과 함께 독일로 유학을 떠나 뮌헨 대학교 및 쾰른 대학교 등에서 서양의 건축, 음악사, 철학 등을 공부하였다. 뮌헨 대학교 입학 1년 후에는 프라이부르크 국립 음악 대학교로 옮겨 볼프강 포르트너 교수에게 배우지만, 곧 쇤베르크 이후 현대음악의 실험이 활발히 진행되던 다름슈타트 하기 강좌에 참여했다. 1958년 그 곳에서 현대음악가 존 케이지를 만나 그의 음악에 대한 파괴적 접근과 자유정신으로부터 깊은 영감을 얻었다. 이 영감은 \"세계의 역사는 우리에게 알려준다. 주어진 게임에서 이길 수 없다면 규칙을 바꿔라\" 라는 것으로 규정된다. 이후 1950년대부터 활발해지기 시작한 독일 라인 지역의 액션뮤직의 현장에서 백남준은 ‘아시아에서 온 문화테러리스트’(앨런 카프로)라고 불릴 정도의 탁월한 퍼포먼스 아티스트로 활약했다. 1959년 ‘존 케이지에게 보내는 경의’에서 음악적 콜라주와 함께 피아노를 부수는 퍼포먼스를 선보이는 것을 시작으로, 바이올린을 단숨에 파괴하거나(바이올린 솔로) 존 케이지가 착용한 넥타이를 잘라버리는 퍼포먼스(피아노 포르테를 위한 연습곡)가 특히 유명하다. 이 초기 퍼포먼스에 대해 백남준은 스스로 \"충격, 표현주의, 낭만주의, 클라이맥스, 놀라움, 기타 등등을 보여준 것\"이라고 표현한 바 있다. 1961년 카를하인츠 슈토크하우젠의 음악 퍼포먼스 ‘오리기날레’에서 머리와 넥타이로 잉크를 묻혀 두루마리에 흔적을 남기는 독특한 퍼포먼스 심플 머리를 위한 선율을 보여주기도 했다. 1960년대 초반 조지 마키우나스, 요셉 보이스 등과 의기투합하여 플럭서스 활동을 함께 전개했다. 다다이즘에 영향을 받은 플럭서스는 헤라클레이투스가 주장한 ‘변화 생성의 흐름’ 이라는 개념을 받아들여 \"목적이 없는 자유, 실험을 위한 실험\"이라는 명목 하에 이벤트와 퍼포먼스 그리고 전위음악에 주력했고, 곧 유럽과 아시아 및 미국 등 세계로 퍼져나갔다.\\n\\n1961년 백남준은 작곡가 슈토크하우젠이 중심이 된 쾰른의 WDR 전자음악 스튜디오에 출입했으며, 이때 1950년대부터 노버트 위너에 의해 제안된 '사이버네틱스' 개념 하에서 전자공학을 공부한 것으로 알려져 있다. 특히 레이다와 TV 작업에 몰두했던 독일 작가 칼 오토 괴츠의 실패를 거울 삼아서 2년여 동안 홀로 TV를 활용한 미디어 아트로서의 가능성을 탐문하고 실험했다. 그 성과를 바탕으로 1963년 독일 부퍼탈 파르나스 갤러리에서 자신의 첫 번째 전시 ‘음악의 전시-전자 텔레비전’을 열었으며, 13대의 실험적인 TV를 통해 훗날 비디오 아트라고 불리게 되는 초기 형태를 보여주었다. 이 전시는 백남준이 자신의 즉흥음악 또는 무음악의 발상에 기초한 실제 퍼포먼스, 그 흔적과 결과물처럼 유럽에서 자신이 진행해온 작업의 성과와 함께 TV를 비롯한 미디어로 새로운 예술의 형태를 시도하는 작업이 공존하고 있었다. ‘적분된 피아노’, ‘랜덤 액세스 뮤직’, ‘레코드 샤슐릭’같은 20세기 전위음악에 젖줄을 대고 있는 실험적 음악의 시도와 ‘잘린 소머리’, ‘파괴된 누드 마네킹’, ‘보이스의 피아노 파괴 퍼포먼스’'걸음을 위한 선' '바람을 위한 선' 같은 우상파괴적 설치 작업 및 참여예술 형태의 퍼포먼스가 함께 펼쳐졌다. 청년 백남준은 이러한 전시 내용을 ‘동시성’, ‘참여’, ‘임의접속’ 등등에 관한 16개의 테마로써 정리하는 종합적인 큐레이팅 전시로 보여주었기 때문에 최근날짜=2015-5-9 독일, 오스트리아 등지의 연구자들 사이에서 이 전시의 중요성을 재평가하면서 아카이빙 작업과 연구가 점차 활발해지는 추세에 있다.\\n\\n1964년 백남준은 일본으로 건너가 '로봇 K-456'을 제작했으며, 곧 세계 예술의 중심지 뉴욕으로 이주했다. 뉴욕 언더그라운드 필름 운동의 중심지 중 하나였던 시네마테크 필름메이커스에 관여했으며, 스스로 영상 작업을 진행하기도 했다. 1965년 소니의 포타팩(세계 최초의 휴대용 비디오카메라)으로 미국 뉴욕을 첫 방문 중이던 교황 요한 바오로 6세를 촬영하여 곧바로 그 영상을 ‘카페 오 고고’에서 방영했다. 이것이 미술사에서는 한동안 공식적인 비디오 아트의 시작으로 기록되어 있었다. 지금은 1963년 첫번째 전시를 비디오아트의 기점으로 보고 있다. 또한 첼로 연주자이자 뉴욕 아방가르드 페스티벌의 기획자였던 샬럿 무어먼과 함께 비디오 아트와 음악을 혼합한 퍼포먼스 작업을 활발히 펼쳤다. 특히 1967년 음악에 성적인 코드를 집어넣은 백남준의 ‘오페라 섹스트로니크’에서 샬럿 무어먼은 누드 상태의 첼로 연주를 시도하다가 뉴욕 경찰에 체포되어 큰 사회적 파장을 불러일으켰다. 그 결과로 인해 예술 현장에서 누드를 처벌할 수 없다는 뉴욕의 법 개정이 이루어지는 획기적인 진전이 일어난다. 이후에도 미디어 아트가 미국 뉴욕을 중심으로 서서히 득세해가는 시대적 조류 속에서 두 사람은 ‘살아있는 조각을 위한 TV 브라’, ‘TV 첼로’, ‘TV 침대’ 등등 미디어 테크놀로지와 퍼포먼스를 결합한 많은 예술활동을 전개했다.\\n\\n1974년부터 백남준은 영상으로서의 비디오 아트를 새로운 미술적 방법인 설치 미술로 변환하여 다양하게 진행했으며, 그에 따라 ‘TV 붓다’, ‘달은 가장 오래된 TV다’, ‘TV 정원’, ‘TV 물고기’ 등등 많은 대표작을 선보였다. 이 작품들은 비디오 아트와 생명의 상징을 전자적으로 결합하여 테크놀로지로 물든 현대 사회의 새로운 합성적 생명력을 추구했다는 평판을 얻었다. 특히 'TV 붓다'는 그의 초기 비디오 설치의 경향을 잘 보여주는 대표작으로서 가장 널리 알려졌다. 1960년대 후반부터 미국의 문화적 환경이 미디어 테크놀로지에 호의적으로 변화하면서 폭발적인 수준의 미디어 전시가 빈발했고, 백남준의 비디오 아트는 그룹전 형태로 수많은 전시에 활발하게 참여했다. 1974년 뉴욕 에버슨 미술관 개인전과 함께 비데아 앤 비디올로지: 1959-1973이라는 예술과 기술을 교차시키는 하이브리드에 관한 저작을 내놓아 미디아 아트의 이해를 도왔으며, 1982년 뉴욕 휘트니 미술관에서 개최된 ‘백남준 회고전’을 통해 그의 예술 세계가 뉴욕을 중심으로 미국 사회에 많이 알려지는 계기가 되었다.\\n\\n1970년대 중반부터는 뉴욕 WNET 방송국, 보스턴 WGBH 방송국과 협력하여 자신의 비디오 아트를 공중파 TV에서 방송했고, 이는 네트워크 방송을 끌어들여 예술 세계의 영역 확장을 꾀한 놀라운 시도였다. 나아가 1984년 1월 1일 ‘굿모닝 미스터 오웰’은 세계적인 아티스트들의 퍼포먼스를 뉴욕 WNET 방송국과 파리 퐁피두 센터를 연결한 실시간 위성 생중계로 방송하여 전 세계적 반향을 불러일으켰다. 샌프란시스코와 서울까지 연결된 이 국제적인 규모의 위성 아트에는 로리 앤더슨, 피터 가브리엘, 오잉고 보잉고, 존 케이지, 요셉 보이스, 앨런 긴즈버그, 이브 몽탕 등의 예술가과 대중문화의 스타가 다수 참여했으며, 전 세계 2천 5백만명(재방송 포함)이 시청하였다. 이로써 전세계적인 차원의 대중적 각인이 이루어졌고, 마치 대중스타처럼 성가를 높였다. 이후에도 ‘위성 아트’ 3부작으로 명명된 ‘바이 바이 키플링’(1986), ‘손에 손잡고’(1988) 등이 이어져 위성 연결을 통한 전세계의 네트워크가 어떻게 새로운 부족사회를 낳는지 실감시켰다.\\n\\n1984년 일본 도쿄 소게쓰[草月]홀에서 백남준과 요셉 보이스가 공동으로 참여한 퍼포먼스 '코요테 콘서트 II'가 펼쳐졌으며, 이들이 각각 몽골의 늑대 울음소리와 초원의 달빛을 음악적으로 표현한 것을 통해 1961년 첫 만남부터 계속 이어온 공동의 관심사가 무엇인지 알려지기 시작했다. 그러나 이들의 이후 퍼포먼스 계획은 요셉 보이스의 죽음과 함께 미완으로 끝났다.\\n\\n1992년 '비디오 때, 비디오 땅' 전시는 독일 쿤스트 할레와 스위스 쮜리히에서 진행된 전시의 서울 투어전시로서 당시 과천 막계동에 자리잡은 지 몇 년 되지 않았던 국립현대미술관 과천관에 총 관람 인원 20만명이 찾은 첫번째 전시로 기록되었다. 이 전시의 주요한 작품은 '나의 파우스트' 시리즈이다. 1993년 백남준은 독일 작가 한스 하케와 함께 베니스 비엔날레 독일관 작가로 초대되어 국가전시관 부문에서 황금사자상을 수상했다. '문명의 동서남북'이라는 주제의 이 전시에서 그는 북방 유라시아의 유목 문화를 배경으로 전자적 소통을 시도하는 비디오 로봇 형태의‘칭기스칸의 복권’, ‘마르크폴로’, ‘훈족의 왕 아틸라’,‘스키타이의 왕 단군’, ‘로봇 전사’, ‘고대기마인물상’ 같은 작품들을 중심으로 다수의 작품을 내놓았다.\\n\\n1995년 백남준은 제1회 광주 비엔날레 태동의 산파 역할을 하며, 한국 미술이 국제적으로 진출할 수 있도록 조력자 역할을 수행했다. 제1회 광주 비엔날레는 국내외 총 관람객이 160만 명에 달하는 성공을 거두었고, 특히 백남준이 직접 관여한 ‘INFO Art’전이 주목받았다. 또한 백남준은 같은 해 베니스 비엔날레 국가전시관 부문에 한국관을 설치하는 일에 결정적인 역할을 했다. 이로써 한국 미술이 세계 미술계에 진출하는 교두보가 마련되었다고 하겠다. 같은 해 그의 예술적 정수가 담긴 일렉트로닉 수퍼하이웨이 전시를 진행했다. 1996년 4월 9일 뇌졸중으로 쓰러졌으며, 6개월만인 그해 10월에 재기했다. 2000년 뉴욕 구겐하임 미술관에서 ‘백남준의 세계’ 라는 대규모 회고전이 열렸으며, 이때 백남준은 레이저 아트 ‘야곱의 사다리’, ‘삼원소’ 등을 전시한 바 있다.\\n\\n2006년 1월 29일, 미국 마이애미의 자택에서 노환으로 75세로 별세, 유해가 서울, 뉴욕, 독일에 나눠서 안치되었다.   \n",
       "4                                                                                                                                                                                                                                                                                                                                                                                                                                                                                                                                                                                                                                                                                                                                                                                                                                                                                                                                                                                                                                                                                                                                                                                                                                                                                                                                                                                                                                                                                                                                                                                                                                                                                                                                                                                                                                                                                                                                                                                                                                                                                                                                                                                                                                                                                                                                                                                                                                                                                                                                                                                                                                                                                                                                                                                                                                                                                                                                                                                                                                                                                                                                                                                                                                                                                                                                                                                                                                                                                                                                                                                                                                                                                                                                                                                                                                                                                                                                                                                                                                                                                                                                                                                                                                                                                                                                                                                                                                                                                                                                                                                                                                                                                                                                                                                                            저자 사망 이후 50년이 지나 저작권이 소멸한 메이지 시대부터 쇼와 시대 초기까지의 서적 대부분이 존재한다. 외국 번역작품이나 저자가 무료보기를 인정한 현대작품도 포함된다. 장르는 정치부터 취미까지 다양하지만, 비교적 문학작품(시대소설, 추리소설등의 오락작품 포함)이 많다. 유명작가의 작품이 모두 갖춰져있진 않지만 그래도 일본어작품에 관련해서는 충실하게 갖춰진 편이다. (번역작품의 경우 번역저작권을 문제로 수가 많지 않다.)\\n\\n잘 알려지지 않은 작품을 보존, 소개하는 장점도 있다. 작품 텍스트화는 지금도 현재진행형이며 2011년 3월 15일 현재 등록작품수가 1만권이 넘었다.\\n고전작가인 모리 오가이, 나츠메 소세키, 아쿠타가와 류노스케, 최근의 작가로는 나카지마 아츠시, 다자이 오사무, 하야시 후미코, 미야모토 유리코, 호리 다쓰오, 사카구치 안고, 다카무라 고타로, 나가이 가후, 요시카와 에이지 등 인물의 작품이 있다.   \n",
       "\n",
       "  corpus_source   url  domain    title  author  html  document_id  \\\n",
       "9         위키피디아  TODO     NaN     주기율표     NaN   NaN            9   \n",
       "7         위키피디아  TODO     NaN  아오조라 문고     NaN   NaN            7   \n",
       "8         위키피디아  TODO     NaN   데니스 리치     NaN   NaN            8   \n",
       "2         위키피디아  TODO     NaN      백남준     NaN   NaN            2   \n",
       "4         위키피디아  TODO     NaN  아오조라 문고     NaN   NaN            4   \n",
       "\n",
       "                                                                                                                                                                                                                                                                                                                                                                                                                                                                                                                                                                                                                                                                                                                                                                                                                                                                                                                                                                                                                                                                                                                                                                                                                                                                                                                                                                                                                                                                                                                                                                                                                                                                                                                                                                                                                                                                                                                                                                                                                                                                                                                                                                                                                                                                                                                                                                                                                                                                                                                                                                                                                                                                                                                                                                                                                                                                                                                                                                                                                                                                                                                                                                                                                                                                                                                                                                                                                                                                                                                                                                                                                                                                                                                                                                                                                                                                                                                                                                                                                                                                                                                                                                                                                                                                                                                                                                                                                                                                                                                                                                                                                                                                                                                                                                                                                                                                                                                                                                                                                                                                                                                                                                                                                                                                                                                                                                                                                                                                                                                                                                                                                  context_ner  \\\n",
       "9                                                                                                                                                                                                                                                                                                                                                                                                                                                                                                                                                                                                                                                                                                                                                                                                                                                                                                                                                                                                                                                                                                                                                                                                                                                                                                                                                                                                                                                                                                                                                                                                                                                                                                                                                                                                                                                                                                                                                                                                                                                                                                                                                                                                                                                                                                                                                                                                                                                                                                                                                                                                                                                                                                                                                                                                                                                                                                                                                                                                                                                                                                                                                                                                                                                                                                                                                                                                                                                                                                                                                                                                                                                                                                                                                                                                                                                                                                                                                                                                                                                                                                                                                                                                                                                                                                                                                                                                                                                                                                                                                                                                                                                                                                                                                                                                                                                                                                                                                                                                                                                                                                                                                                                                                                                                                                                                                                                                                                                                                                                   {'COUNTRY': [('러시아', 73)], 'QUANTITY': [('1주기', 213), ('3주기', 218), ('4주기', 232)], 'TERM': [('아래', 236)]}   \n",
       "7                                                                                                                                                                                                                                                                                                                                                                                                                                                                                                                                                                                                                                                                                                                                                                                                                                                                                                                                                                                                                                                                                                                                                                                                                                                                                                                                                                                                                                                                                                                                                                                                                                                                                                                                                                                                                                                                                                                                                                                                                                                                                                                                                                                                                                                                                                                                                                                                                                                                                                                                                                                                                                                                                                                                                                                                                                                                                                                                                                                                                                                                                                                                                                                                                                                                                                                                                                                                                                                                                                                                                                                                                                                                                                                                                                                                                                                                                                                                                                                                                                                                                                                                                                                                                                                                                                                                                                                                                                                                                                                                                                                                                                                                                                                                                                                                                                                                                                                                                                                                                                                                                                                                                                                                                                                                                                                                                                                                                                                                                                  {'CIVILIZATION': [('일본어', 0), ('한자', 268)], 'COUNTRY': [('일본', 92), ('가나', 346)], 'ARTIFACT': [('ぶんこ', 165), ('청공', 338)]}   \n",
       "8                                                                                                                                                                                                                                                                                                                                                                                                                                                                                                                                                                                                                                                                                                                                                                                                                                                                                                                                                                                                                                                                                                                                                                                                                                                                                                                                                                                                                                                                                                                                                                                                                                                                                                                                                                                                                                                                                                                                                                                                                                                                                                                                                                                                                                                                                                                                                                                                                                                                                                                                                                                                                                                                                                                                                                                                                                                                                                                                                                                                                                                                                                                                                                                                                                                                                                                                                                                                                                                                                                                                                                                                                                                                                                                                                                                                                                                                                                                                                                                                                                                                                                                                                                                                                                                                                                                                                                                                                                                                                                                                                                                                                                                                                                                                                                                                                                                                                                                                                                                                                                                                                                                                                                                                                                                   {'PERSON': [('브라이언 커니핸', 107), ('켄 톰프슨', 323)], 'TERM': [('유닉스', 29), ('(Unix', 32), ('C', 95), ('C', 121), ('유닉스', 348), ('운영체', 352), ('컴퓨터', 415), ('iOS', 486), ('유닉스', 494)], 'ARTIFACT': [('Unix Programmer's Manual', 61), ('C 프로그래밍 언어', 174), ('C', 239), ('매킨토시', 469), ('OS X', 475), ('아이폰', 481)], 'CIVILIZATION': [('튜링상', 370)], 'COUNTRY': [('미국', 381)]}   \n",
       "2  {'CITY': [('서울특별시', 2), ('홍콩', 230), ('쾰른', 1396), ('뉴욕', 2221), ('뉴욕', 2232), ('뉴욕', 2340), ('뉴욕', 2492), ('뉴욕', 2632), ('뉴욕', 2693), ('뉴욕', 2740), ('뉴욕', 3235), ('뉴욕', 3336), ('뉴욕', 3377), ('뉴욕', 3423), ('보스턴', 3436), ('뉴욕', 3574), ('파리', 3587), ('샌프란시스코', 3637), ('서울', 3645), ('도쿄', 3953), ('서울', 4203), ('뉴욕', 4904), ('마이애미', 5008), ('서울', 5037), ('뉴욕', 5041)], 'LOCATION': [('종로구', 8), ('경기도', 26), ('경성부', 30), ('서린정', 34), ('종로구', 92), ('창신동', 96), ('아시아', 789), ('유럽', 1341), ('쿤스트 할레', 4177), ('쮜리히', 4189), ('과천', 4216), ('막계동', 4219), ('유라시아', 4422)], 'DATE': [('1949년', 221), ('1952년', 291), ('2년 후', 315), ('1956년', 426), ('1년 후', 511), ('1958년', 607), ('1950년대부터', 743), ('1959년', 844), ('1961년', 1367), ('1950년대부터', 1425), ('2년여 동안', 1533), ('1963년', 1588), ('20세기', 1860), ('2015-5-9', 2088), ('1964년', 2169), ('1965년', 2302), ('1963년', 2447), ('1967년', 2561), ('1974년부터', 2853), ('1960년대 후반부터', 3119), ('1974년', 3229), ('1959-1973', 3267), ('1982년', 3330), ('1970년대 중반부터', 3410), ('1984년 1월 1일', 3530), ('1986', 3869), ('1984년', 3944), ('1961년', 4059), ('1992년', 4149), ('1993년', 4318), ('1995년', 4556), ('같은 해', 4720), ('같은 해', 4811), ('1996년 4월 9일', 4853), ('그해 10월', 4884), ('2000년', 4898), ('2006년 1월 29일', 4991)], 'CIVILIZATION': [('친일파', 45), ('아버지', 50), ('어머니', 59), ('막내', 79), ('가족', 263), ('미학자', 367), ('현대음악가', 619), ('영감', 676), ('문화테러리스트', 797), ('아티스트', 832), ('넥타이', 946), ('넥타이', 1110), ('연구자', 2111), ('교황', 2353), ('기획자', 2507), ('아티스트', 3561), ('대중스타', 3818), ('황금사자상', 4378), ('조력자', 4617), ('관람객', 4650)], 'PERSON': [('백낙승', 54), ('조종희', 63), ('신재덕', 160), ('작이건우', 175), ('김순남', 210), ('모로이 사부로', 358), ('노무라 요시오', 371), ('백남준', 432), ('볼프강 포르트너', 539), ('쇤베르크', 561), ('존 케이지', 625), ('백남준', 783), ('앨런 카프로', 806), ('카를하인츠 슈토크하우젠', 1074), ('조지 마키우나스', 1179), ('요셉 보이스', 1189), ('플럭서스', 1237), ('헤라클레이투스', 1243), ('백남준', 1373), ('슈토크하우젠', 1382), ('노버트 위너', 1434), ('칼 오토 괴츠', 1513), ('백남준', 1704), ('백남준', 2175), ('요한 바오로', 2356), ('샬럿 무어먼', 2513), ('백남준', 2584), ('샬럿 무어먼', 2604), ('백남준', 2861), ('백남준', 3189), ('피터 가브리엘', 3681), ('오잉고 보잉고', 3690), ('존 케이지', 3699), ('요셉 보이스', 3706), ('앨런 긴즈버그', 3714), ('이브 몽탕', 3723), ('백남준', 3967), ('요셉 보이스', 3972), ('백남준', 4324), ('한스 하케', 4335), ('백남준', 4562), ('백남준', 4680), ('백남준', 4715), ('백남준', 4949)], 'QUANTITY': [('3남 2녀', 71), ('197번지', 100), ('18세', 118), ('첫 번째', 1616), ('13대', 1648), ('16개', 2044), ('하나', 2255), ('6세', 2363), ('첫번째', 2453), ('두 사람', 2770), ('2천 5백만명', 3762), ('3부작', 3847), ('20만명', 4263), ('첫번째', 4272), ('제1회', 4567), ('제1회', 4631), ('160만 명', 4655), ('75세', 5024)], 'ARTIFACT': [('큰대문', 110), ('피아노', 166), ('아르놀트 쇤베르크 연구', 409), ('존 케이지에게 보내는 경의', 851), ('피아노', 881), ('바이올린', 910), ('바이올린', 926), ('피아노', 962), ('기타', 1041), ('오리기날레', 1097), ('부퍼탈 파르나스 갤러리', 1597), ('적분된 피아노', 1825), ('랜덤 액세스 뮤직', 1836), ('레코드 샤슐릭', 1849), ('잘린 소머리', 1894), ('파괴된 누드 마네킹', 1904), ('보이스의 피아노', 1918), ('걸음을 위한 선', 1936), ('바람을 위한 선', 1947), ('로봇 K-456', 2190), ('포타팩', 2312), ('카페 오 고고', 2383), ('첼로', 2483), ('오페라 섹스트로니크', 2590), ('첼로', 2619), ('살아있는 조각을 위한', 2777), ('TV 브라', 2789), ('TV 첼로', 2798), ('TV 침대', 2807), ('TV 붓다', 2924), ('달은 가장 오래된 TV다', 2933), ('TV 정원', 2950), ('TV 물고기', 2959), ('TV 붓다', 3067), ('에버슨 미술관', 3238), ('비데아 앤 비디올로지', 3254), ('휘트니 미술관', 3339), ('굿모닝 미스터 오웰', 3543), ('바이 바이 키플링', 3858), ('손에 손잡고', 3877), ('소게쓰[草月]홀', 3956), ('국립현대미술관 과천관', 4242), ('나의 파우스트', 4302), ('칭기스칸의 복권', 4464), ('마르크폴로', 4476), ('훈족의 왕 아틸라', 4485), ('스키타이의 왕 단군', 4497), ('로봇 전사', 4511), ('고대기마인물상', 4520), ('구겐하임 미술관', 4907), ('야곱의 사다리', 4962), ('삼원소', 4973)], 'ORGANIZATION': [('수송국민학교', 129), ('경기제1고등보통학교', 137), ('로이덴 스쿨', 233), ('쾰른 대학교', 464), ('뮌헨 대학교', 501), ('WDR', 1400), ('시네마테크 필름메이커스', 2260), ('소니', 2308), ('경찰', 2635), ('WNET 방송국', 3426), ('WGBH 방송', 3440), ('WNET 방송국', 3577)], 'OCCUPATION': [('피아니스트', 154), ('작곡가', 206), ('작곡가', 354), ('교수', 548), ('작곡가', 1378), ('작가', 1510), ('연주자', 2486), ('예술가', 3732), ('스타', 3743), ('작가', 4332), ('작가', 4358)], 'COUNTRY': [('한국', 199), ('일본', 267), ('일본', 282), ('일본', 347), ('독일', 444), ('독일', 762), ('미국', 1351), ('독일', 1507), ('독일', 1594), ('독일', 2097), ('오스트리아', 2101), ('일본', 2180), ('미국', 2337), ('미국', 2737), ('미국', 3131), ('미국', 3386), ('일본', 3950), ('몽골', 4022), ('독일', 4174), ('스위스', 4185), ('독일', 4329), ('한국', 4594), ('한국', 4744), ('한국', 4774), ('미국', 5005), ('독일', 5045)], 'EVENT': [('한국 전쟁', 248), ('다름슈타트 하기', 588), ('백남준 회고', 3354), ('비디오 때, 비디오 땅', 4156), ('베니스 비엔날레', 4345), ('광주 비엔날레', 4635), ('백남준의 세계', 4919)], 'STUDY_FIELD': [('미술사학', 320), ('미학', 327), ('음악사학', 389), ('건축', 479), ('음악사', 483), ('철학', 488), ('현대음악', 569), ('액션뮤직', 772), ('전자음', 1404), ('전자공학', 1465), ('비디오 아트', 1668), ('미술사', 2404), ('비디오 아트', 2420), ('비디오아트', 2461), ('비디오 아트', 2524), ('미디어 아트', 2729), ('미디어 테크놀로지', 2817), ('비디오 아트', 2873), ('설치 미술', 2893), ('비디오 아트', 2991), ('미', 3143), ('디어 테크놀로지', 3144), ('비디오 아트', 3194), ('미디아 아트', 3312), ('비디오 아트', 3459), ('위성 아트', 3665), ('위성 아트', 3840), ('미술', 4597), ('미술', 4777), ('일렉트로', 4830), ('레이저 아트', 4954)], 'THEORY': [('표현주의', 1017), ('낭만주의', 1023), ('다다이즘', 1224)], 'ANIMAL': [('머리', 1106), ('머리', 1148), ('늑대', 4026)], 'TERM': [('레이다', 1490), ('TV', 1495), ('TV', 1543), ('음악의 전시-전자 텔레비전', 1625), ('TV', 1658), ('TV', 1780), ('휴대용', 2323), ('비디오카메라', 2327), ('비디오', 3081), ('TV', 3471), ('위성', 3898), ('동서남북', 4396), ('북방', 4419), ('비디오', 4453), ('로봇', 4457)], 'DISEASE': [('뇌졸중', 4865)]}   \n",
       "4                                                                                                                                                                                                                                                                                                                                                                                                                                                                                                                                                                                                                                                                                                                                                                                                                                                                                                                                                                                                                                                                                                                                                                                                                                                                                                                                                                                                                                                                                                                                                                                                                                                                                                                                                                                                                                                                                                                                                                                                                                                                                                                                                                                                                                                                                                                                                                                                                                                                                                                                                                                                                                                                                                                                                                                                                                                                                                                                                                                                                                                                                                                                                                                                                                                                                                                                                                                                                                                                                                                                                                                                                                                                                                                                                                                                                                                                                                                                                                                                                                                                                                                                                                                                                                                                                                                                                                                                                                                                                                                                                                                                                                                                                                                                                                                                                                                                                                                                                                                                                                                                                                                                                                                                                                                           {'OCCUPATION': [('저자', 0), ('저자', 71), ('작가', 156), ('작가', 364)], 'CIVILIZATION': [('저작권', 17), ('일본어', 181), ('번역저작권', 218), ('고전작가', 325)], 'STUDY_FIELD': [('시대소설', 127), ('추리소설', 133)], 'QUANTITY': [('1만권', 315)], 'PERSON': [('모리 오가이', 331), ('나카지마 아츠시', 369), ('다자이 오사무', 379), ('하야시 후미코', 388), ('호리 다쓰오', 407), ('다카무라 고타로', 424), ('나가이 가후', 434)]}   \n",
       "\n",
       "             answer  k_PERSON  k_EVENT  k_ORGANIZATION  k_DATE  k_TIME  \\\n",
       "9  (드미트리 멘델레예프, 78)      True    False           False    True   False   \n",
       "7      (블루스카이, 330)      True    False            True    True   False   \n",
       "8        (커니핸, 192)      True    False            True    True   False   \n",
       "2       (백남준, 2001)      True     True            True    True   False   \n",
       "4   (요시카와 에이지, 442)      True    False           False    True   False   \n",
       "\n",
       "   k_LOCATION  \n",
       "9       False  \n",
       "7       False  \n",
       "8       False  \n",
       "2        True  \n",
       "4       False  "
      ]
     },
     "execution_count": 250,
     "metadata": {},
     "output_type": "execute_result"
    }
   ],
   "source": [
    "df_add.head()"
   ]
  },
  {
   "cell_type": "code",
   "execution_count": 292,
   "metadata": {},
   "outputs": [],
   "source": [
    "# 원래 코드\n",
    "# df_add = pd.DataFrame()\n",
    "# for i in range(1):\n",
    "#     print(i)\n",
    "#     for ne in ner_list:\n",
    "#         df_wiki_ner['k_'+ne] = df_wiki_ner['context_ner'].apply(lambda x: ne in (x).keys())\n",
    "\n",
    "#         p_num = 2\n",
    "#         df_p = df_wiki_ner[df_wiki_ner['k_'+ne]==True].sample(n=p_num)\n",
    "#         display(df_p)\n",
    "#         df_p['answer']=df_p['context_ner'].apply(lambda x: random.choice((x)[ne]))\n",
    "#         df_p['context_ner']=df_p[['context_ner',ne+'_a']].apply(pop_dict,axis=1)\n",
    "#         display(df_p)\n",
    "#         df_add = pd.concat([df_add,df_p])\n"
   ]
  },
  {
   "attachments": {},
   "cell_type": "markdown",
   "metadata": {},
   "source": [
    "test - dict remove 실험"
   ]
  },
  {
   "cell_type": "code",
   "execution_count": 82,
   "metadata": {},
   "outputs": [],
   "source": [
    "a = {'p':[('aa',3),('bb',4)],'pq':[('aaq',3),('bbq',4)]}"
   ]
  },
  {
   "cell_type": "code",
   "execution_count": 83,
   "metadata": {},
   "outputs": [
    {
     "data": {
      "text/plain": [
       "{'p': [('aa', 3)], 'pq': [('aaq', 3), ('bbq', 4)]}"
      ]
     },
     "execution_count": 83,
     "metadata": {},
     "output_type": "execute_result"
    }
   ],
   "source": [
    "a['p'].remove(('bb',4))\n",
    "a"
   ]
  },
  {
   "attachments": {},
   "cell_type": "markdown",
   "metadata": {},
   "source": [
    "### ner 기반으로 qg test"
   ]
  },
  {
   "attachments": {},
   "cell_type": "markdown",
   "metadata": {},
   "source": [
    "기존에 만들어 둔 ner - 기반 answer 까지 있는 상태에서 QG"
   ]
  },
  {
   "cell_type": "code",
   "execution_count": 42,
   "metadata": {},
   "outputs": [],
   "source": [
    "tmp = pd.read_csv('/opt/ml/input/data/wiki_ner_a2.csv')"
   ]
  },
  {
   "cell_type": "code",
   "execution_count": 43,
   "metadata": {},
   "outputs": [
    {
     "name": "stdout",
     "output_type": "stream",
     "text": [
      "251618\n"
     ]
    },
    {
     "data": {
      "text/html": [
       "<div>\n",
       "<style scoped>\n",
       "    .dataframe tbody tr th:only-of-type {\n",
       "        vertical-align: middle;\n",
       "    }\n",
       "\n",
       "    .dataframe tbody tr th {\n",
       "        vertical-align: top;\n",
       "    }\n",
       "\n",
       "    .dataframe thead th {\n",
       "        text-align: right;\n",
       "    }\n",
       "</style>\n",
       "<table border=\"1\" class=\"dataframe\">\n",
       "  <thead>\n",
       "    <tr style=\"text-align: right;\">\n",
       "      <th></th>\n",
       "      <th>text</th>\n",
       "      <th>corpus_source</th>\n",
       "      <th>url</th>\n",
       "      <th>domain</th>\n",
       "      <th>title</th>\n",
       "      <th>author</th>\n",
       "      <th>html</th>\n",
       "      <th>document_id</th>\n",
       "      <th>context_ner</th>\n",
       "      <th>answer</th>\n",
       "      <th>k_PERSON</th>\n",
       "      <th>k_EVENT</th>\n",
       "      <th>k_ORGANIZATION</th>\n",
       "      <th>k_DATE</th>\n",
       "      <th>k_TIME</th>\n",
       "      <th>k_LOCATION</th>\n",
       "    </tr>\n",
       "  </thead>\n",
       "  <tbody>\n",
       "    <tr>\n",
       "      <th>0</th>\n",
       "      <td>아메리칸 허슬의 수상 및 후보 목록\\n\\n아메리칸 허슬은 골든 글로브상에서 7개 부문에 후보 지명 되었다. 에이미 아담스와 제니퍼 로렌스는 각각 영화 뮤지컬·코미디 부문 최우수 여우주연상과 영화 부문 최우수 여우조연상을 수상하였고, 또한 영화 뮤지컬·코미디 부문 최우수 작품상을 수상하였다.  \\n\\n이 영화는 미국 아카데미상에서 최우수 작품상, 최우수 감독상, 최우수 각본상, 4개의 연기 부문과 함께  총 10개 부문에 후보 지명 되었지만 수상에는 이르지 못했다. 이 영화는 영국 아카데미 영화상(BAFTA)에서 10개 부문에 후보에 올랐으며, 제니퍼 로렌스는 최우수 여우조연상을, 데이비드 O. 러셀과 에릭 워런 싱어는 최우수 각본상을 수상했다.  \\n\\n이 영화는 1977년 《터닝 포인트》의 11개 부문과 1985년의 《컬러 퍼플》 이후 오스카 상을 수상하지 못한 영화에서 두 번째로 많은 수의 후보작을 받았으며, 《더 브레이브》와 《갱스 오브 뉴욕》과의 차이점이 있다. 4개의 연기 부문에 모두 지명 된 15번째 영화이자 러셀이 감독한 2012년 《실버라이닝 플레이북》 이후 1981년 이후 두 번째 영화이다.  15편의 영화 중 1936년 《마이 맨 갓 프리》와 1950년대 《선셋 대로》만이 연기상을 받지 못했다. 이 영화는 미국 배우 조합상(SAG)에서 영화 부문 최우수 연기 캐스트상을 수상하였다.</td>\n",
       "      <td>위키피디아</td>\n",
       "      <td>NaN</td>\n",
       "      <td>NaN</td>\n",
       "      <td>아메리칸 허슬</td>\n",
       "      <td>NaN</td>\n",
       "      <td>NaN</td>\n",
       "      <td>37128</td>\n",
       "      <td>{'CIVILIZATION': [('후보', 14), ('아메리칸 허슬', 20), ('골든 글로브상', 29), ('후보', 46), ('최우수', 92), ('여우주연상', 96), ('최우수 여우조연상', 109), ('최우수 작품상', 144), ('미국 아카데미상', 166), ('최우수 작품상', 177), ('최우수 감독상', 186), ('최우수 각본상', 195), ('후보', 228), ('영국 아카데미 영화상', 259), ('후보', 288), ('최우수 여우조연상', 307), ('최우수 각본상', 341), ('오스카 상', 404), ('연기상', 604), ('배우 조합상', 626), ('SAG', 633), ('최우수 연기 캐스트상', 646)], 'QUANTITY': [('7개', 39), ('4개', 204), ('10개', 220), ('10개', 280), ('11개', 378), ('두 번째', 424), ('4개', 479), ('15번째', 498), ('두 번째', 547), ('15편', 558)], 'PERSON': [('에이미 아담스', 57), ('제니퍼 로렌스', 66), ('제니퍼 로렌스', 298), ('에릭 워런 싱어', 331), ('러셀', 508)], 'STUDY_FIELD': [('뮤지컬', 81), ('코미디', 85), ('뮤지컬', 133), ('코미디', 137)], 'DATE': [('1977년', 362), ('1985년', 386), ('2012년', 516), ('1981년 이후', 538), ('1936년', 568), ('1950년대', 587)], 'ARTIFACT': [('터닝 포인트', 369), ('컬러 퍼플', 394), ('더 브레이브', 448), ('갱스 오브 뉴욕', 458), ('실버라이닝 플레이북', 523), ('마이 맨 갓 프리', 575), ('선셋 대로', 595)], 'COUNTRY': [('미국', 623)]}</td>\n",
       "      <td>('데이비드 O.', 319)</td>\n",
       "      <td>True</td>\n",
       "      <td>True</td>\n",
       "      <td>True</td>\n",
       "      <td>True</td>\n",
       "      <td>False</td>\n",
       "      <td>False</td>\n",
       "    </tr>\n",
       "    <tr>\n",
       "      <th>1</th>\n",
       "      <td>이후 마우리아 제국의 2대 황제로 즉위한 빈두사라는 아버지인 찬드라굽타 마우리아 때부터 마우리아 제국의 총리였던 차나키야의 도움을 받아 당시 데칸 고원 남부의 카르나타카 지역까지 영토를 확장하는 동시에 해당 지역에 존재하던 16개의 왕국을 전부 정복하였으며, 칼링가와 남인도 지역을 제외한 인도 아대륙 대부분을 차지하게 되었다. \\n\\n빈두사라는 그리스 세계와 우호적인 외교 관계를 유지하였는데, 전해지는 이야기에 따르면 빈두사라가 당시 셀레우코스 제국의 바실레우스인 안티오코스 1세 소테르에게 무화과와 그리스 포도주, 그리스 수사학 교사를 사고 싶다는 내용의 서신을 보냈으며, 이에 셀레우코스 제국에서는 \"그리스 법에 교사 판매는 금지되어 있다\"는 내용이 적힌 서신과 함께 무화과와 포도주를 보내주었던 적이 있었다고 한다. 빈두사라의 아버지인 찬드라굽타 마우리아가 자이나교를 믿었던 것과 달리, 빈두사라는 아지비카교를 믿었으며, 당시 아지비카교의 사원들을 후원하는 정책들을 실시하였다. 그러나 빈두사라 시절에는 반란도 자주 발생하였는데, 탁실라를 주도로 하는 웃타라파타(북부 속주)에서 반란이 대표적으로 이 지역에서의 반란을 진압하기 위해 파견된 아소카 황자가 웃타라파타 사람들이 이 속주를 담당하는 관리의 횡포로 인해 반란을 일으킨 것을 안 후 그 관리에게 처벌을 내림으로서 평화적으로 반란을 진압하였고 이로 인해 탁실라 사람들의 지지를 얻게 되고 자신의 군대 또한 확장하였으며, 탁실라 인근에서 발생한 반란 또한 진압하며 시민들의 강력한 지지를 얻게 되었지만, 이 사건으로 아소카가 당시 제국의 황제인 빈두사라보다 시민들의 지지를 더 많이 받게 되면서 빈두사라는 아소카를 경계하게 되었다.\\n\\n한편 기원전 273년에 원인을 알 수 없는 병에 걸려 죽음을 직감한 빈두사라는 제국의 차기 황제로 아소카가 아닌 당시 웃타라파타 지역에 또다시 발생한 반란을 진압하기 위해 부왕으로 파견된 수시마를 차기 황제로 지명한 후 한 신하에게 수시마를 불러와 황위에 앉히고 대신 이전에 웃타라파타에서의 반란을 진압한 전적이 있는 아소카를 다시 파견해 반란을 재진압하도록 명령하였지만, 이 반란 자체가 그 신하가 수시마에게 앙금을 품고 당시 우자인을 주도로 하는 아반티파타(서부 속주)에 부왕으로 파견되어 있던 아소카를 황위에 앉히기 위해 웃타라파타의 시민들을 선동하여 꾸민 자작극이었으며 이 소식을 들은 아소카는 수시마보다 먼저 파탈리푸트라에 귀환하였다. 귀환한 아소카는 자신들을 지지하는 신하들과 함께 빈두사라를 찾아가 수시마가 아닌 아소카가 황위를 이어야 한다고 설득하였고 이에 빈두사라는 분노하며 이를 거절하였지만, 이 일로 화병까지 겹친 빈두사라는 얼마 안가 세상을 떠났다.</td>\n",
       "      <td>위키피디아</td>\n",
       "      <td>NaN</td>\n",
       "      <td>NaN</td>\n",
       "      <td>마우리아 제국</td>\n",
       "      <td>NaN</td>\n",
       "      <td>NaN</td>\n",
       "      <td>11039</td>\n",
       "      <td>{'ORGANIZATION': [('마우리아 제국', 49), ('아지비카교', 453), ('아지비카교', 469), ('제국', 886)], 'QUANTITY': [('2대', 12), ('16개', 125)], 'OCCUPATION': [('황제', 15), ('교사', 300), ('교사', 348), ('황제', 785), ('황제', 893), ('황제', 955)], 'PERSON': [('빈두사라', 23), ('찬드라굽타 마우리아', 34), ('차나키야', 63), ('빈두사라', 237), ('안티오코스', 263), ('1세 소테르', 269), ('빈두사라', 407), ('찬드라굽타 마우리아', 418), ('빈두사라', 447), ('아소카', 588), ('아소카', 773), ('빈두사라', 789), ('아소카', 823), ('아소카', 897), ('수시마', 947), ('수시마', 972), ('아소카', 1020), ('수시마', 1066), ('우자인', 1082), ('아소카', 1121), ('아소카', 1174), ('아소카', 1207), ('빈두사라', 1230), ('빈두사라', 1274)], 'CIVILIZATION': [('아버지', 29), ('총리', 58), ('바실레우스', 256), ('무화과', 278), ('포도주', 287), ('무화과', 379), ('포도주', 384), ('아버지', 413), ('황자', 592), ('관리', 618), ('관리', 646), ('시민', 744), ('시민', 796), ('부왕', 938), ('신하', 967), ('신하', 1062), ('부왕', 1108), ('시민', 1144), ('신하', 1222)], 'LOCATION': [('데칸 고원', 79), ('카르나타카', 89), ('칼링가', 145), ('남인도', 150), ('빈두사라', 189), ('셀레우코스 제국', 246), ('셀레우코스 제국', 328), ('빈두사라', 502), ('탁실라', 527), ('웃타라파타', 539), ('속주', 548), ('웃타라파타', 596), ('탁실라', 683), ('탁실라', 720), ('빈두사라', 817), ('빈두사라', 880), ('웃타라파타', 908), ('웃타라파타', 996), ('아반티파타', 1094), ('속주', 1103), ('웃타라파타', 1137), ('수시마', 1179), ('수시마', 1240)], 'TERM': [('남부', 85), ('북부', 545), ('서부', 1100), ('화병', 1301)], 'COUNTRY': [('인도', 162), ('그리스', 195), ('그리스', 283), ('그리스', 292), ('그리스', 341)], 'STUDY_FIELD': [('수사학', 296)], 'DATE': [('기원전 273년', 845)], 'CITY': [('파탈리푸트라', 1188)]}</td>\n",
       "      <td>('빈두사라', 1309)</td>\n",
       "      <td>True</td>\n",
       "      <td>False</td>\n",
       "      <td>True</td>\n",
       "      <td>True</td>\n",
       "      <td>False</td>\n",
       "      <td>True</td>\n",
       "    </tr>\n",
       "  </tbody>\n",
       "</table>\n",
       "</div>"
      ],
      "text/plain": [
       "                                                                                                                                                                                                                                                                                                                                                                                                                                                                                                                                                                                                                                                                                                                                                                                                                                                                                                                                                                                                                                                                                                                                                                                                                                                                                                                                                                              text  \\\n",
       "0                                                                                                                                                                                                                                                                                                                                                                                                                                                                                                                                                                                                                                                                         아메리칸 허슬의 수상 및 후보 목록\\n\\n아메리칸 허슬은 골든 글로브상에서 7개 부문에 후보 지명 되었다. 에이미 아담스와 제니퍼 로렌스는 각각 영화 뮤지컬·코미디 부문 최우수 여우주연상과 영화 부문 최우수 여우조연상을 수상하였고, 또한 영화 뮤지컬·코미디 부문 최우수 작품상을 수상하였다.  \\n\\n이 영화는 미국 아카데미상에서 최우수 작품상, 최우수 감독상, 최우수 각본상, 4개의 연기 부문과 함께  총 10개 부문에 후보 지명 되었지만 수상에는 이르지 못했다. 이 영화는 영국 아카데미 영화상(BAFTA)에서 10개 부문에 후보에 올랐으며, 제니퍼 로렌스는 최우수 여우조연상을, 데이비드 O. 러셀과 에릭 워런 싱어는 최우수 각본상을 수상했다.  \\n\\n이 영화는 1977년 《터닝 포인트》의 11개 부문과 1985년의 《컬러 퍼플》 이후 오스카 상을 수상하지 못한 영화에서 두 번째로 많은 수의 후보작을 받았으며, 《더 브레이브》와 《갱스 오브 뉴욕》과의 차이점이 있다. 4개의 연기 부문에 모두 지명 된 15번째 영화이자 러셀이 감독한 2012년 《실버라이닝 플레이북》 이후 1981년 이후 두 번째 영화이다.  15편의 영화 중 1936년 《마이 맨 갓 프리》와 1950년대 《선셋 대로》만이 연기상을 받지 못했다. 이 영화는 미국 배우 조합상(SAG)에서 영화 부문 최우수 연기 캐스트상을 수상하였다.   \n",
       "1  이후 마우리아 제국의 2대 황제로 즉위한 빈두사라는 아버지인 찬드라굽타 마우리아 때부터 마우리아 제국의 총리였던 차나키야의 도움을 받아 당시 데칸 고원 남부의 카르나타카 지역까지 영토를 확장하는 동시에 해당 지역에 존재하던 16개의 왕국을 전부 정복하였으며, 칼링가와 남인도 지역을 제외한 인도 아대륙 대부분을 차지하게 되었다. \\n\\n빈두사라는 그리스 세계와 우호적인 외교 관계를 유지하였는데, 전해지는 이야기에 따르면 빈두사라가 당시 셀레우코스 제국의 바실레우스인 안티오코스 1세 소테르에게 무화과와 그리스 포도주, 그리스 수사학 교사를 사고 싶다는 내용의 서신을 보냈으며, 이에 셀레우코스 제국에서는 \"그리스 법에 교사 판매는 금지되어 있다\"는 내용이 적힌 서신과 함께 무화과와 포도주를 보내주었던 적이 있었다고 한다. 빈두사라의 아버지인 찬드라굽타 마우리아가 자이나교를 믿었던 것과 달리, 빈두사라는 아지비카교를 믿었으며, 당시 아지비카교의 사원들을 후원하는 정책들을 실시하였다. 그러나 빈두사라 시절에는 반란도 자주 발생하였는데, 탁실라를 주도로 하는 웃타라파타(북부 속주)에서 반란이 대표적으로 이 지역에서의 반란을 진압하기 위해 파견된 아소카 황자가 웃타라파타 사람들이 이 속주를 담당하는 관리의 횡포로 인해 반란을 일으킨 것을 안 후 그 관리에게 처벌을 내림으로서 평화적으로 반란을 진압하였고 이로 인해 탁실라 사람들의 지지를 얻게 되고 자신의 군대 또한 확장하였으며, 탁실라 인근에서 발생한 반란 또한 진압하며 시민들의 강력한 지지를 얻게 되었지만, 이 사건으로 아소카가 당시 제국의 황제인 빈두사라보다 시민들의 지지를 더 많이 받게 되면서 빈두사라는 아소카를 경계하게 되었다.\\n\\n한편 기원전 273년에 원인을 알 수 없는 병에 걸려 죽음을 직감한 빈두사라는 제국의 차기 황제로 아소카가 아닌 당시 웃타라파타 지역에 또다시 발생한 반란을 진압하기 위해 부왕으로 파견된 수시마를 차기 황제로 지명한 후 한 신하에게 수시마를 불러와 황위에 앉히고 대신 이전에 웃타라파타에서의 반란을 진압한 전적이 있는 아소카를 다시 파견해 반란을 재진압하도록 명령하였지만, 이 반란 자체가 그 신하가 수시마에게 앙금을 품고 당시 우자인을 주도로 하는 아반티파타(서부 속주)에 부왕으로 파견되어 있던 아소카를 황위에 앉히기 위해 웃타라파타의 시민들을 선동하여 꾸민 자작극이었으며 이 소식을 들은 아소카는 수시마보다 먼저 파탈리푸트라에 귀환하였다. 귀환한 아소카는 자신들을 지지하는 신하들과 함께 빈두사라를 찾아가 수시마가 아닌 아소카가 황위를 이어야 한다고 설득하였고 이에 빈두사라는 분노하며 이를 거절하였지만, 이 일로 화병까지 겹친 빈두사라는 얼마 안가 세상을 떠났다.   \n",
       "\n",
       "  corpus_source  url  domain    title  author  html  document_id  \\\n",
       "0         위키피디아  NaN     NaN  아메리칸 허슬     NaN   NaN        37128   \n",
       "1         위키피디아  NaN     NaN  마우리아 제국     NaN   NaN        11039   \n",
       "\n",
       "                                                                                                                                                                                                                                                                                                                                                                                                                                                                                                                                                                                                                                                                                                                                                                                                                                                                                                                                                                                                                                                                                                                                                                                                                                                                                                                                                                                                                                                                                                                     context_ner  \\\n",
       "0                                                                                                                                                                                                                                                                                                                                                                                                                                                                                                           {'CIVILIZATION': [('후보', 14), ('아메리칸 허슬', 20), ('골든 글로브상', 29), ('후보', 46), ('최우수', 92), ('여우주연상', 96), ('최우수 여우조연상', 109), ('최우수 작품상', 144), ('미국 아카데미상', 166), ('최우수 작품상', 177), ('최우수 감독상', 186), ('최우수 각본상', 195), ('후보', 228), ('영국 아카데미 영화상', 259), ('후보', 288), ('최우수 여우조연상', 307), ('최우수 각본상', 341), ('오스카 상', 404), ('연기상', 604), ('배우 조합상', 626), ('SAG', 633), ('최우수 연기 캐스트상', 646)], 'QUANTITY': [('7개', 39), ('4개', 204), ('10개', 220), ('10개', 280), ('11개', 378), ('두 번째', 424), ('4개', 479), ('15번째', 498), ('두 번째', 547), ('15편', 558)], 'PERSON': [('에이미 아담스', 57), ('제니퍼 로렌스', 66), ('제니퍼 로렌스', 298), ('에릭 워런 싱어', 331), ('러셀', 508)], 'STUDY_FIELD': [('뮤지컬', 81), ('코미디', 85), ('뮤지컬', 133), ('코미디', 137)], 'DATE': [('1977년', 362), ('1985년', 386), ('2012년', 516), ('1981년 이후', 538), ('1936년', 568), ('1950년대', 587)], 'ARTIFACT': [('터닝 포인트', 369), ('컬러 퍼플', 394), ('더 브레이브', 448), ('갱스 오브 뉴욕', 458), ('실버라이닝 플레이북', 523), ('마이 맨 갓 프리', 575), ('선셋 대로', 595)], 'COUNTRY': [('미국', 623)]}   \n",
       "1  {'ORGANIZATION': [('마우리아 제국', 49), ('아지비카교', 453), ('아지비카교', 469), ('제국', 886)], 'QUANTITY': [('2대', 12), ('16개', 125)], 'OCCUPATION': [('황제', 15), ('교사', 300), ('교사', 348), ('황제', 785), ('황제', 893), ('황제', 955)], 'PERSON': [('빈두사라', 23), ('찬드라굽타 마우리아', 34), ('차나키야', 63), ('빈두사라', 237), ('안티오코스', 263), ('1세 소테르', 269), ('빈두사라', 407), ('찬드라굽타 마우리아', 418), ('빈두사라', 447), ('아소카', 588), ('아소카', 773), ('빈두사라', 789), ('아소카', 823), ('아소카', 897), ('수시마', 947), ('수시마', 972), ('아소카', 1020), ('수시마', 1066), ('우자인', 1082), ('아소카', 1121), ('아소카', 1174), ('아소카', 1207), ('빈두사라', 1230), ('빈두사라', 1274)], 'CIVILIZATION': [('아버지', 29), ('총리', 58), ('바실레우스', 256), ('무화과', 278), ('포도주', 287), ('무화과', 379), ('포도주', 384), ('아버지', 413), ('황자', 592), ('관리', 618), ('관리', 646), ('시민', 744), ('시민', 796), ('부왕', 938), ('신하', 967), ('신하', 1062), ('부왕', 1108), ('시민', 1144), ('신하', 1222)], 'LOCATION': [('데칸 고원', 79), ('카르나타카', 89), ('칼링가', 145), ('남인도', 150), ('빈두사라', 189), ('셀레우코스 제국', 246), ('셀레우코스 제국', 328), ('빈두사라', 502), ('탁실라', 527), ('웃타라파타', 539), ('속주', 548), ('웃타라파타', 596), ('탁실라', 683), ('탁실라', 720), ('빈두사라', 817), ('빈두사라', 880), ('웃타라파타', 908), ('웃타라파타', 996), ('아반티파타', 1094), ('속주', 1103), ('웃타라파타', 1137), ('수시마', 1179), ('수시마', 1240)], 'TERM': [('남부', 85), ('북부', 545), ('서부', 1100), ('화병', 1301)], 'COUNTRY': [('인도', 162), ('그리스', 195), ('그리스', 283), ('그리스', 292), ('그리스', 341)], 'STUDY_FIELD': [('수사학', 296)], 'DATE': [('기원전 273년', 845)], 'CITY': [('파탈리푸트라', 1188)]}   \n",
       "\n",
       "             answer  k_PERSON  k_EVENT  k_ORGANIZATION  k_DATE  k_TIME  \\\n",
       "0  ('데이비드 O.', 319)      True     True            True    True   False   \n",
       "1    ('빈두사라', 1309)      True    False            True    True   False   \n",
       "\n",
       "   k_LOCATION  \n",
       "0       False  \n",
       "1        True  "
      ]
     },
     "execution_count": 43,
     "metadata": {},
     "output_type": "execute_result"
    }
   ],
   "source": [
    "print(len(tmp))\n",
    "tmp.head(2)"
   ]
  },
  {
   "cell_type": "code",
   "execution_count": 44,
   "metadata": {},
   "outputs": [
    {
     "data": {
      "text/plain": [
       "'데이비드 O.'"
      ]
     },
     "execution_count": 44,
     "metadata": {},
     "output_type": "execute_result"
    }
   ],
   "source": [
    "eval(tmp.iloc[0]['answer'])[0]"
   ]
  },
  {
   "cell_type": "code",
   "execution_count": 45,
   "metadata": {},
   "outputs": [
    {
     "name": "stdout",
     "output_type": "stream",
     "text": [
      "making QG func...\n"
     ]
    },
    {
     "name": "stdout",
     "output_type": "stream",
     "text": [
      "making Dataframe...\n"
     ]
    },
    {
     "data": {
      "text/html": [
       "<div>\n",
       "<style scoped>\n",
       "    .dataframe tbody tr th:only-of-type {\n",
       "        vertical-align: middle;\n",
       "    }\n",
       "\n",
       "    .dataframe tbody tr th {\n",
       "        vertical-align: top;\n",
       "    }\n",
       "\n",
       "    .dataframe thead th {\n",
       "        text-align: right;\n",
       "    }\n",
       "</style>\n",
       "<table border=\"1\" class=\"dataframe\">\n",
       "  <thead>\n",
       "    <tr style=\"text-align: right;\">\n",
       "      <th></th>\n",
       "      <th>text</th>\n",
       "      <th>corpus_source</th>\n",
       "      <th>url</th>\n",
       "      <th>domain</th>\n",
       "      <th>title</th>\n",
       "      <th>author</th>\n",
       "      <th>html</th>\n",
       "      <th>document_id</th>\n",
       "      <th>context_ner</th>\n",
       "      <th>answer</th>\n",
       "      <th>k_PERSON</th>\n",
       "      <th>k_EVENT</th>\n",
       "      <th>k_ORGANIZATION</th>\n",
       "      <th>k_DATE</th>\n",
       "      <th>k_TIME</th>\n",
       "      <th>k_LOCATION</th>\n",
       "    </tr>\n",
       "  </thead>\n",
       "  <tbody>\n",
       "    <tr>\n",
       "      <th>0</th>\n",
       "      <td>아메리칸 허슬의 수상 및 후보 목록\\n\\n아메리칸 허슬은 골든 글로브상에서 7개 부문에 후보 지명 되었다. 에이미 아담스와 제니퍼 로렌스는 각각 영화 뮤지컬·코미디 부문 최우수 여우주연상과 영화 부문 최우수 여우조연상을 수상하였고, 또한 영화 뮤지컬·코미디 부문 최우수 작품상을 수상하였다.  \\n\\n이 영화는 미국 아카데미상에서 최우수 작품상, 최우수 감독상, 최우수 각본상, 4개의 연기 부문과 함께  총 10개 부문에 후보 지명 되었지만 수상에는 이르지 못했다. 이 영화는 영국 아카데미 영화상(BAFTA)에서 10개 부문에 후보에 올랐으며, 제니퍼 로렌스는 최우수 여우조연상을, 데이비드 O. 러셀과 에릭 워런 싱어는 최우수 각본상을 수상했다.  \\n\\n이 영화는 1977년 《터닝 포인트》의 11개 부문과 1985년의 《컬러 퍼플》 이후 오스카 상을 수상하지 못한 영화에서 두 번째로 많은 수의 후보작을 받았으며, 《더 브레이브》와 《갱스 오브 뉴욕》과의 차이점이 있다. 4개의 연기 부문에 모두 지명 된 15번째 영화이자 러셀이 감독한 2012년 《실버라이닝 플레이북》 이후 1981년 이후 두 번째 영화이다.  15편의 영화 중 1936년 《마이 맨 갓 프리》와 1950년대 《선셋 대로》만이 연기상을 받지 못했다. 이 영화는 미국 배우 조합상(SAG)에서 영화 부문 최우수 연기 캐스트상을 수상하였다.</td>\n",
       "      <td>위키피디아</td>\n",
       "      <td>NaN</td>\n",
       "      <td>NaN</td>\n",
       "      <td>아메리칸 허슬</td>\n",
       "      <td>NaN</td>\n",
       "      <td>NaN</td>\n",
       "      <td>37128</td>\n",
       "      <td>{'CIVILIZATION': [('후보', 14), ('아메리칸 허슬', 20), ('골든 글로브상', 29), ('후보', 46), ('최우수', 92), ('여우주연상', 96), ('최우수 여우조연상', 109), ('최우수 작품상', 144), ('미국 아카데미상', 166), ('최우수 작품상', 177), ('최우수 감독상', 186), ('최우수 각본상', 195), ('후보', 228), ('영국 아카데미 영화상', 259), ('후보', 288), ('최우수 여우조연상', 307), ('최우수 각본상', 341), ('오스카 상', 404), ('연기상', 604), ('배우 조합상', 626), ('SAG', 633), ('최우수 연기 캐스트상', 646)], 'QUANTITY': [('7개', 39), ('4개', 204), ('10개', 220), ('10개', 280), ('11개', 378), ('두 번째', 424), ('4개', 479), ('15번째', 498), ('두 번째', 547), ('15편', 558)], 'PERSON': [('에이미 아담스', 57), ('제니퍼 로렌스', 66), ('제니퍼 로렌스', 298), ('에릭 워런 싱어', 331), ('러셀', 508)], 'STUDY_FIELD': [('뮤지컬', 81), ('코미디', 85), ('뮤지컬', 133), ('코미디', 137)], 'DATE': [('1977년', 362), ('1985년', 386), ('2012년', 516), ('1981년 이후', 538), ('1936년', 568), ('1950년대', 587)], 'ARTIFACT': [('터닝 포인트', 369), ('컬러 퍼플', 394), ('더 브레이브', 448), ('갱스 오브 뉴욕', 458), ('실버라이닝 플레이북', 523), ('마이 맨 갓 프리', 575), ('선셋 대로', 595)], 'COUNTRY': [('미국', 623)]}</td>\n",
       "      <td>('데이비드 O.', 319)</td>\n",
       "      <td>True</td>\n",
       "      <td>True</td>\n",
       "      <td>True</td>\n",
       "      <td>True</td>\n",
       "      <td>False</td>\n",
       "      <td>False</td>\n",
       "    </tr>\n",
       "    <tr>\n",
       "      <th>1</th>\n",
       "      <td>이후 마우리아 제국의 2대 황제로 즉위한 빈두사라는 아버지인 찬드라굽타 마우리아 때부터 마우리아 제국의 총리였던 차나키야의 도움을 받아 당시 데칸 고원 남부의 카르나타카 지역까지 영토를 확장하는 동시에 해당 지역에 존재하던 16개의 왕국을 전부 정복하였으며, 칼링가와 남인도 지역을 제외한 인도 아대륙 대부분을 차지하게 되었다. \\n\\n빈두사라는 그리스 세계와 우호적인 외교 관계를 유지하였는데, 전해지는 이야기에 따르면 빈두사라가 당시 셀레우코스 제국의 바실레우스인 안티오코스 1세 소테르에게 무화과와 그리스 포도주, 그리스 수사학 교사를 사고 싶다는 내용의 서신을 보냈으며, 이에 셀레우코스 제국에서는 \"그리스 법에 교사 판매는 금지되어 있다\"는 내용이 적힌 서신과 함께 무화과와 포도주를 보내주었던 적이 있었다고 한다. 빈두사라의 아버지인 찬드라굽타 마우리아가 자이나교를 믿었던 것과 달리, 빈두사라는 아지비카교를 믿었으며, 당시 아지비카교의 사원들을 후원하는 정책들을 실시하였다. 그러나 빈두사라 시절에는 반란도 자주 발생하였는데, 탁실라를 주도로 하는 웃타라파타(북부 속주)에서 반란이 대표적으로 이 지역에서의 반란을 진압하기 위해 파견된 아소카 황자가 웃타라파타 사람들이 이 속주를 담당하는 관리의 횡포로 인해 반란을 일으킨 것을 안 후 그 관리에게 처벌을 내림으로서 평화적으로 반란을 진압하였고 이로 인해 탁실라 사람들의 지지를 얻게 되고 자신의 군대 또한 확장하였으며, 탁실라 인근에서 발생한 반란 또한 진압하며 시민들의 강력한 지지를 얻게 되었지만, 이 사건으로 아소카가 당시 제국의 황제인 빈두사라보다 시민들의 지지를 더 많이 받게 되면서 빈두사라는 아소카를 경계하게 되었다.\\n\\n한편 기원전 273년에 원인을 알 수 없는 병에 걸려 죽음을 직감한 빈두사라는 제국의 차기 황제로 아소카가 아닌 당시 웃타라파타 지역에 또다시 발생한 반란을 진압하기 위해 부왕으로 파견된 수시마를 차기 황제로 지명한 후 한 신하에게 수시마를 불러와 황위에 앉히고 대신 이전에 웃타라파타에서의 반란을 진압한 전적이 있는 아소카를 다시 파견해 반란을 재진압하도록 명령하였지만, 이 반란 자체가 그 신하가 수시마에게 앙금을 품고 당시 우자인을 주도로 하는 아반티파타(서부 속주)에 부왕으로 파견되어 있던 아소카를 황위에 앉히기 위해 웃타라파타의 시민들을 선동하여 꾸민 자작극이었으며 이 소식을 들은 아소카는 수시마보다 먼저 파탈리푸트라에 귀환하였다. 귀환한 아소카는 자신들을 지지하는 신하들과 함께 빈두사라를 찾아가 수시마가 아닌 아소카가 황위를 이어야 한다고 설득하였고 이에 빈두사라는 분노하며 이를 거절하였지만, 이 일로 화병까지 겹친 빈두사라는 얼마 안가 세상을 떠났다.</td>\n",
       "      <td>위키피디아</td>\n",
       "      <td>NaN</td>\n",
       "      <td>NaN</td>\n",
       "      <td>마우리아 제국</td>\n",
       "      <td>NaN</td>\n",
       "      <td>NaN</td>\n",
       "      <td>11039</td>\n",
       "      <td>{'ORGANIZATION': [('마우리아 제국', 49), ('아지비카교', 453), ('아지비카교', 469), ('제국', 886)], 'QUANTITY': [('2대', 12), ('16개', 125)], 'OCCUPATION': [('황제', 15), ('교사', 300), ('교사', 348), ('황제', 785), ('황제', 893), ('황제', 955)], 'PERSON': [('빈두사라', 23), ('찬드라굽타 마우리아', 34), ('차나키야', 63), ('빈두사라', 237), ('안티오코스', 263), ('1세 소테르', 269), ('빈두사라', 407), ('찬드라굽타 마우리아', 418), ('빈두사라', 447), ('아소카', 588), ('아소카', 773), ('빈두사라', 789), ('아소카', 823), ('아소카', 897), ('수시마', 947), ('수시마', 972), ('아소카', 1020), ('수시마', 1066), ('우자인', 1082), ('아소카', 1121), ('아소카', 1174), ('아소카', 1207), ('빈두사라', 1230), ('빈두사라', 1274)], 'CIVILIZATION': [('아버지', 29), ('총리', 58), ('바실레우스', 256), ('무화과', 278), ('포도주', 287), ('무화과', 379), ('포도주', 384), ('아버지', 413), ('황자', 592), ('관리', 618), ('관리', 646), ('시민', 744), ('시민', 796), ('부왕', 938), ('신하', 967), ('신하', 1062), ('부왕', 1108), ('시민', 1144), ('신하', 1222)], 'LOCATION': [('데칸 고원', 79), ('카르나타카', 89), ('칼링가', 145), ('남인도', 150), ('빈두사라', 189), ('셀레우코스 제국', 246), ('셀레우코스 제국', 328), ('빈두사라', 502), ('탁실라', 527), ('웃타라파타', 539), ('속주', 548), ('웃타라파타', 596), ('탁실라', 683), ('탁실라', 720), ('빈두사라', 817), ('빈두사라', 880), ('웃타라파타', 908), ('웃타라파타', 996), ('아반티파타', 1094), ('속주', 1103), ('웃타라파타', 1137), ('수시마', 1179), ('수시마', 1240)], 'TERM': [('남부', 85), ('북부', 545), ('서부', 1100), ('화병', 1301)], 'COUNTRY': [('인도', 162), ('그리스', 195), ('그리스', 283), ('그리스', 292), ('그리스', 341)], 'STUDY_FIELD': [('수사학', 296)], 'DATE': [('기원전 273년', 845)], 'CITY': [('파탈리푸트라', 1188)]}</td>\n",
       "      <td>('빈두사라', 1309)</td>\n",
       "      <td>True</td>\n",
       "      <td>False</td>\n",
       "      <td>True</td>\n",
       "      <td>True</td>\n",
       "      <td>False</td>\n",
       "      <td>True</td>\n",
       "    </tr>\n",
       "  </tbody>\n",
       "</table>\n",
       "</div>"
      ],
      "text/plain": [
       "                                                                                                                                                                                                                                                                                                                                                                                                                                                                                                                                                                                                                                                                                                                                                                                                                                                                                                                                                                                                                                                                                                                                                                                                                                                                                                                                                                              text  \\\n",
       "0                                                                                                                                                                                                                                                                                                                                                                                                                                                                                                                                                                                                                                                                         아메리칸 허슬의 수상 및 후보 목록\\n\\n아메리칸 허슬은 골든 글로브상에서 7개 부문에 후보 지명 되었다. 에이미 아담스와 제니퍼 로렌스는 각각 영화 뮤지컬·코미디 부문 최우수 여우주연상과 영화 부문 최우수 여우조연상을 수상하였고, 또한 영화 뮤지컬·코미디 부문 최우수 작품상을 수상하였다.  \\n\\n이 영화는 미국 아카데미상에서 최우수 작품상, 최우수 감독상, 최우수 각본상, 4개의 연기 부문과 함께  총 10개 부문에 후보 지명 되었지만 수상에는 이르지 못했다. 이 영화는 영국 아카데미 영화상(BAFTA)에서 10개 부문에 후보에 올랐으며, 제니퍼 로렌스는 최우수 여우조연상을, 데이비드 O. 러셀과 에릭 워런 싱어는 최우수 각본상을 수상했다.  \\n\\n이 영화는 1977년 《터닝 포인트》의 11개 부문과 1985년의 《컬러 퍼플》 이후 오스카 상을 수상하지 못한 영화에서 두 번째로 많은 수의 후보작을 받았으며, 《더 브레이브》와 《갱스 오브 뉴욕》과의 차이점이 있다. 4개의 연기 부문에 모두 지명 된 15번째 영화이자 러셀이 감독한 2012년 《실버라이닝 플레이북》 이후 1981년 이후 두 번째 영화이다.  15편의 영화 중 1936년 《마이 맨 갓 프리》와 1950년대 《선셋 대로》만이 연기상을 받지 못했다. 이 영화는 미국 배우 조합상(SAG)에서 영화 부문 최우수 연기 캐스트상을 수상하였다.   \n",
       "1  이후 마우리아 제국의 2대 황제로 즉위한 빈두사라는 아버지인 찬드라굽타 마우리아 때부터 마우리아 제국의 총리였던 차나키야의 도움을 받아 당시 데칸 고원 남부의 카르나타카 지역까지 영토를 확장하는 동시에 해당 지역에 존재하던 16개의 왕국을 전부 정복하였으며, 칼링가와 남인도 지역을 제외한 인도 아대륙 대부분을 차지하게 되었다. \\n\\n빈두사라는 그리스 세계와 우호적인 외교 관계를 유지하였는데, 전해지는 이야기에 따르면 빈두사라가 당시 셀레우코스 제국의 바실레우스인 안티오코스 1세 소테르에게 무화과와 그리스 포도주, 그리스 수사학 교사를 사고 싶다는 내용의 서신을 보냈으며, 이에 셀레우코스 제국에서는 \"그리스 법에 교사 판매는 금지되어 있다\"는 내용이 적힌 서신과 함께 무화과와 포도주를 보내주었던 적이 있었다고 한다. 빈두사라의 아버지인 찬드라굽타 마우리아가 자이나교를 믿었던 것과 달리, 빈두사라는 아지비카교를 믿었으며, 당시 아지비카교의 사원들을 후원하는 정책들을 실시하였다. 그러나 빈두사라 시절에는 반란도 자주 발생하였는데, 탁실라를 주도로 하는 웃타라파타(북부 속주)에서 반란이 대표적으로 이 지역에서의 반란을 진압하기 위해 파견된 아소카 황자가 웃타라파타 사람들이 이 속주를 담당하는 관리의 횡포로 인해 반란을 일으킨 것을 안 후 그 관리에게 처벌을 내림으로서 평화적으로 반란을 진압하였고 이로 인해 탁실라 사람들의 지지를 얻게 되고 자신의 군대 또한 확장하였으며, 탁실라 인근에서 발생한 반란 또한 진압하며 시민들의 강력한 지지를 얻게 되었지만, 이 사건으로 아소카가 당시 제국의 황제인 빈두사라보다 시민들의 지지를 더 많이 받게 되면서 빈두사라는 아소카를 경계하게 되었다.\\n\\n한편 기원전 273년에 원인을 알 수 없는 병에 걸려 죽음을 직감한 빈두사라는 제국의 차기 황제로 아소카가 아닌 당시 웃타라파타 지역에 또다시 발생한 반란을 진압하기 위해 부왕으로 파견된 수시마를 차기 황제로 지명한 후 한 신하에게 수시마를 불러와 황위에 앉히고 대신 이전에 웃타라파타에서의 반란을 진압한 전적이 있는 아소카를 다시 파견해 반란을 재진압하도록 명령하였지만, 이 반란 자체가 그 신하가 수시마에게 앙금을 품고 당시 우자인을 주도로 하는 아반티파타(서부 속주)에 부왕으로 파견되어 있던 아소카를 황위에 앉히기 위해 웃타라파타의 시민들을 선동하여 꾸민 자작극이었으며 이 소식을 들은 아소카는 수시마보다 먼저 파탈리푸트라에 귀환하였다. 귀환한 아소카는 자신들을 지지하는 신하들과 함께 빈두사라를 찾아가 수시마가 아닌 아소카가 황위를 이어야 한다고 설득하였고 이에 빈두사라는 분노하며 이를 거절하였지만, 이 일로 화병까지 겹친 빈두사라는 얼마 안가 세상을 떠났다.   \n",
       "\n",
       "  corpus_source  url  domain    title  author  html  document_id  \\\n",
       "0         위키피디아  NaN     NaN  아메리칸 허슬     NaN   NaN        37128   \n",
       "1         위키피디아  NaN     NaN  마우리아 제국     NaN   NaN        11039   \n",
       "\n",
       "                                                                                                                                                                                                                                                                                                                                                                                                                                                                                                                                                                                                                                                                                                                                                                                                                                                                                                                                                                                                                                                                                                                                                                                                                                                                                                                                                                                                                                                                                                                     context_ner  \\\n",
       "0                                                                                                                                                                                                                                                                                                                                                                                                                                                                                                           {'CIVILIZATION': [('후보', 14), ('아메리칸 허슬', 20), ('골든 글로브상', 29), ('후보', 46), ('최우수', 92), ('여우주연상', 96), ('최우수 여우조연상', 109), ('최우수 작품상', 144), ('미국 아카데미상', 166), ('최우수 작품상', 177), ('최우수 감독상', 186), ('최우수 각본상', 195), ('후보', 228), ('영국 아카데미 영화상', 259), ('후보', 288), ('최우수 여우조연상', 307), ('최우수 각본상', 341), ('오스카 상', 404), ('연기상', 604), ('배우 조합상', 626), ('SAG', 633), ('최우수 연기 캐스트상', 646)], 'QUANTITY': [('7개', 39), ('4개', 204), ('10개', 220), ('10개', 280), ('11개', 378), ('두 번째', 424), ('4개', 479), ('15번째', 498), ('두 번째', 547), ('15편', 558)], 'PERSON': [('에이미 아담스', 57), ('제니퍼 로렌스', 66), ('제니퍼 로렌스', 298), ('에릭 워런 싱어', 331), ('러셀', 508)], 'STUDY_FIELD': [('뮤지컬', 81), ('코미디', 85), ('뮤지컬', 133), ('코미디', 137)], 'DATE': [('1977년', 362), ('1985년', 386), ('2012년', 516), ('1981년 이후', 538), ('1936년', 568), ('1950년대', 587)], 'ARTIFACT': [('터닝 포인트', 369), ('컬러 퍼플', 394), ('더 브레이브', 448), ('갱스 오브 뉴욕', 458), ('실버라이닝 플레이북', 523), ('마이 맨 갓 프리', 575), ('선셋 대로', 595)], 'COUNTRY': [('미국', 623)]}   \n",
       "1  {'ORGANIZATION': [('마우리아 제국', 49), ('아지비카교', 453), ('아지비카교', 469), ('제국', 886)], 'QUANTITY': [('2대', 12), ('16개', 125)], 'OCCUPATION': [('황제', 15), ('교사', 300), ('교사', 348), ('황제', 785), ('황제', 893), ('황제', 955)], 'PERSON': [('빈두사라', 23), ('찬드라굽타 마우리아', 34), ('차나키야', 63), ('빈두사라', 237), ('안티오코스', 263), ('1세 소테르', 269), ('빈두사라', 407), ('찬드라굽타 마우리아', 418), ('빈두사라', 447), ('아소카', 588), ('아소카', 773), ('빈두사라', 789), ('아소카', 823), ('아소카', 897), ('수시마', 947), ('수시마', 972), ('아소카', 1020), ('수시마', 1066), ('우자인', 1082), ('아소카', 1121), ('아소카', 1174), ('아소카', 1207), ('빈두사라', 1230), ('빈두사라', 1274)], 'CIVILIZATION': [('아버지', 29), ('총리', 58), ('바실레우스', 256), ('무화과', 278), ('포도주', 287), ('무화과', 379), ('포도주', 384), ('아버지', 413), ('황자', 592), ('관리', 618), ('관리', 646), ('시민', 744), ('시민', 796), ('부왕', 938), ('신하', 967), ('신하', 1062), ('부왕', 1108), ('시민', 1144), ('신하', 1222)], 'LOCATION': [('데칸 고원', 79), ('카르나타카', 89), ('칼링가', 145), ('남인도', 150), ('빈두사라', 189), ('셀레우코스 제국', 246), ('셀레우코스 제국', 328), ('빈두사라', 502), ('탁실라', 527), ('웃타라파타', 539), ('속주', 548), ('웃타라파타', 596), ('탁실라', 683), ('탁실라', 720), ('빈두사라', 817), ('빈두사라', 880), ('웃타라파타', 908), ('웃타라파타', 996), ('아반티파타', 1094), ('속주', 1103), ('웃타라파타', 1137), ('수시마', 1179), ('수시마', 1240)], 'TERM': [('남부', 85), ('북부', 545), ('서부', 1100), ('화병', 1301)], 'COUNTRY': [('인도', 162), ('그리스', 195), ('그리스', 283), ('그리스', 292), ('그리스', 341)], 'STUDY_FIELD': [('수사학', 296)], 'DATE': [('기원전 273년', 845)], 'CITY': [('파탈리푸트라', 1188)]}   \n",
       "\n",
       "             answer  k_PERSON  k_EVENT  k_ORGANIZATION  k_DATE  k_TIME  \\\n",
       "0  ('데이비드 O.', 319)      True     True            True    True   False   \n",
       "1    ('빈두사라', 1309)      True    False            True    True   False   \n",
       "\n",
       "   k_LOCATION  \n",
       "0       False  \n",
       "1        True  "
      ]
     },
     "metadata": {},
     "output_type": "display_data"
    },
    {
     "name": "stdout",
     "output_type": "stream",
     "text": [
      "making Q...\n"
     ]
    },
    {
     "name": "stderr",
     "output_type": "stream",
     "text": [
      "[Kss]: Oh! You have mecab in your environment. Kss will take this as a backend! :D\n",
      "\n"
     ]
    },
    {
     "name": "stdout",
     "output_type": "stream",
     "text": [
      "making csv...\n",
      "DONE!\n"
     ]
    },
    {
     "data": {
      "text/html": [
       "<div>\n",
       "<style scoped>\n",
       "    .dataframe tbody tr th:only-of-type {\n",
       "        vertical-align: middle;\n",
       "    }\n",
       "\n",
       "    .dataframe tbody tr th {\n",
       "        vertical-align: top;\n",
       "    }\n",
       "\n",
       "    .dataframe thead th {\n",
       "        text-align: right;\n",
       "    }\n",
       "</style>\n",
       "<table border=\"1\" class=\"dataframe\">\n",
       "  <thead>\n",
       "    <tr style=\"text-align: right;\">\n",
       "      <th></th>\n",
       "      <th>text</th>\n",
       "      <th>corpus_source</th>\n",
       "      <th>url</th>\n",
       "      <th>domain</th>\n",
       "      <th>title</th>\n",
       "      <th>author</th>\n",
       "      <th>html</th>\n",
       "      <th>document_id</th>\n",
       "      <th>context_ner</th>\n",
       "      <th>answer</th>\n",
       "      <th>k_PERSON</th>\n",
       "      <th>k_EVENT</th>\n",
       "      <th>k_ORGANIZATION</th>\n",
       "      <th>k_DATE</th>\n",
       "      <th>k_TIME</th>\n",
       "      <th>k_LOCATION</th>\n",
       "      <th>Q_based title</th>\n",
       "    </tr>\n",
       "  </thead>\n",
       "  <tbody>\n",
       "    <tr>\n",
       "      <th>0</th>\n",
       "      <td>아메리칸 허슬의 수상 및 후보 목록\\n\\n아메리칸 허슬은 골든 글로브상에서 7개 부문에 후보 지명 되었다. 에이미 아담스와 제니퍼 로렌스는 각각 영화 뮤지컬·코미디 부문 최우수 여우주연상과 영화 부문 최우수 여우조연상을 수상하였고, 또한 영화 뮤지컬·코미디 부문 최우수 작품상을 수상하였다.  \\n\\n이 영화는 미국 아카데미상에서 최우수 작품상, 최우수 감독상, 최우수 각본상, 4개의 연기 부문과 함께  총 10개 부문에 후보 지명 되었지만 수상에는 이르지 못했다. 이 영화는 영국 아카데미 영화상(BAFTA)에서 10개 부문에 후보에 올랐으며, 제니퍼 로렌스는 최우수 여우조연상을, 데이비드 O. 러셀과 에릭 워런 싱어는 최우수 각본상을 수상했다.  \\n\\n이 영화는 1977년 《터닝 포인트》의 11개 부문과 1985년의 《컬러 퍼플》 이후 오스카 상을 수상하지 못한 영화에서 두 번째로 많은 수의 후보작을 받았으며, 《더 브레이브》와 《갱스 오브 뉴욕》과의 차이점이 있다. 4개의 연기 부문에 모두 지명 된 15번째 영화이자 러셀이 감독한 2012년 《실버라이닝 플레이북》 이후 1981년 이후 두 번째 영화이다.  15편의 영화 중 1936년 《마이 맨 갓 프리》와 1950년대 《선셋 대로》만이 연기상을 받지 못했다. 이 영화는 미국 배우 조합상(SAG)에서 영화 부문 최우수 연기 캐스트상을 수상하였다.</td>\n",
       "      <td>위키피디아</td>\n",
       "      <td>NaN</td>\n",
       "      <td>NaN</td>\n",
       "      <td>아메리칸 허슬</td>\n",
       "      <td>NaN</td>\n",
       "      <td>NaN</td>\n",
       "      <td>37128</td>\n",
       "      <td>{'CIVILIZATION': [('후보', 14), ('아메리칸 허슬', 20), ('골든 글로브상', 29), ('후보', 46), ('최우수', 92), ('여우주연상', 96), ('최우수 여우조연상', 109), ('최우수 작품상', 144), ('미국 아카데미상', 166), ('최우수 작품상', 177), ('최우수 감독상', 186), ('최우수 각본상', 195), ('후보', 228), ('영국 아카데미 영화상', 259), ('후보', 288), ('최우수 여우조연상', 307), ('최우수 각본상', 341), ('오스카 상', 404), ('연기상', 604), ('배우 조합상', 626), ('SAG', 633), ('최우수 연기 캐스트상', 646)], 'QUANTITY': [('7개', 39), ('4개', 204), ('10개', 220), ('10개', 280), ('11개', 378), ('두 번째', 424), ('4개', 479), ('15번째', 498), ('두 번째', 547), ('15편', 558)], 'PERSON': [('에이미 아담스', 57), ('제니퍼 로렌스', 66), ('제니퍼 로렌스', 298), ('에릭 워런 싱어', 331), ('러셀', 508)], 'STUDY_FIELD': [('뮤지컬', 81), ('코미디', 85), ('뮤지컬', 133), ('코미디', 137)], 'DATE': [('1977년', 362), ('1985년', 386), ('2012년', 516), ('1981년 이후', 538), ('1936년', 568), ('1950년대', 587)], 'ARTIFACT': [('터닝 포인트', 369), ('컬러 퍼플', 394), ('더 브레이브', 448), ('갱스 오브 뉴욕', 458), ('실버라이닝 플레이북', 523), ('마이 맨 갓 프리', 575), ('선셋 대로', 595)], 'COUNTRY': [('미국', 623)]}</td>\n",
       "      <td>('데이비드 O.', 319)</td>\n",
       "      <td>True</td>\n",
       "      <td>True</td>\n",
       "      <td>True</td>\n",
       "      <td>True</td>\n",
       "      <td>False</td>\n",
       "      <td>False</td>\n",
       "      <td>에이미 아담스에 이어 최우수 각본상을 수상한 배우는 누구야?</td>\n",
       "    </tr>\n",
       "    <tr>\n",
       "      <th>1</th>\n",
       "      <td>이후 마우리아 제국의 2대 황제로 즉위한 빈두사라는 아버지인 찬드라굽타 마우리아 때부터 마우리아 제국의 총리였던 차나키야의 도움을 받아 당시 데칸 고원 남부의 카르나타카 지역까지 영토를 확장하는 동시에 해당 지역에 존재하던 16개의 왕국을 전부 정복하였으며, 칼링가와 남인도 지역을 제외한 인도 아대륙 대부분을 차지하게 되었다. \\n\\n빈두사라는 그리스 세계와 우호적인 외교 관계를 유지하였는데, 전해지는 이야기에 따르면 빈두사라가 당시 셀레우코스 제국의 바실레우스인 안티오코스 1세 소테르에게 무화과와 그리스 포도주, 그리스 수사학 교사를 사고 싶다는 내용의 서신을 보냈으며, 이에 셀레우코스 제국에서는 \"그리스 법에 교사 판매는 금지되어 있다\"는 내용이 적힌 서신과 함께 무화과와 포도주를 보내주었던 적이 있었다고 한다. 빈두사라의 아버지인 찬드라굽타 마우리아가 자이나교를 믿었던 것과 달리, 빈두사라는 아지비카교를 믿었으며, 당시 아지비카교의 사원들을 후원하는 정책들을 실시하였다. 그러나 빈두사라 시절에는 반란도 자주 발생하였는데, 탁실라를 주도로 하는 웃타라파타(북부 속주)에서 반란이 대표적으로 이 지역에서의 반란을 진압하기 위해 파견된 아소카 황자가 웃타라파타 사람들이 이 속주를 담당하는 관리의 횡포로 인해 반란을 일으킨 것을 안 후 그 관리에게 처벌을 내림으로서 평화적으로 반란을 진압하였고 이로 인해 탁실라 사람들의 지지를 얻게 되고 자신의 군대 또한 확장하였으며, 탁실라 인근에서 발생한 반란 또한 진압하며 시민들의 강력한 지지를 얻게 되었지만, 이 사건으로 아소카가 당시 제국의 황제인 빈두사라보다 시민들의 지지를 더 많이 받게 되면서 빈두사라는 아소카를 경계하게 되었다.\\n\\n한편 기원전 273년에 원인을 알 수 없는 병에 걸려 죽음을 직감한 빈두사라는 제국의 차기 황제로 아소카가 아닌 당시 웃타라파타 지역에 또다시 발생한 반란을 진압하기 위해 부왕으로 파견된 수시마를 차기 황제로 지명한 후 한 신하에게 수시마를 불러와 황위에 앉히고 대신 이전에 웃타라파타에서의 반란을 진압한 전적이 있는 아소카를 다시 파견해 반란을 재진압하도록 명령하였지만, 이 반란 자체가 그 신하가 수시마에게 앙금을 품고 당시 우자인을 주도로 하는 아반티파타(서부 속주)에 부왕으로 파견되어 있던 아소카를 황위에 앉히기 위해 웃타라파타의 시민들을 선동하여 꾸민 자작극이었으며 이 소식을 들은 아소카는 수시마보다 먼저 파탈리푸트라에 귀환하였다. 귀환한 아소카는 자신들을 지지하는 신하들과 함께 빈두사라를 찾아가 수시마가 아닌 아소카가 황위를 이어야 한다고 설득하였고 이에 빈두사라는 분노하며 이를 거절하였지만, 이 일로 화병까지 겹친 빈두사라는 얼마 안가 세상을 떠났다.</td>\n",
       "      <td>위키피디아</td>\n",
       "      <td>NaN</td>\n",
       "      <td>NaN</td>\n",
       "      <td>마우리아 제국</td>\n",
       "      <td>NaN</td>\n",
       "      <td>NaN</td>\n",
       "      <td>11039</td>\n",
       "      <td>{'ORGANIZATION': [('마우리아 제국', 49), ('아지비카교', 453), ('아지비카교', 469), ('제국', 886)], 'QUANTITY': [('2대', 12), ('16개', 125)], 'OCCUPATION': [('황제', 15), ('교사', 300), ('교사', 348), ('황제', 785), ('황제', 893), ('황제', 955)], 'PERSON': [('빈두사라', 23), ('찬드라굽타 마우리아', 34), ('차나키야', 63), ('빈두사라', 237), ('안티오코스', 263), ('1세 소테르', 269), ('빈두사라', 407), ('찬드라굽타 마우리아', 418), ('빈두사라', 447), ('아소카', 588), ('아소카', 773), ('빈두사라', 789), ('아소카', 823), ('아소카', 897), ('수시마', 947), ('수시마', 972), ('아소카', 1020), ('수시마', 1066), ('우자인', 1082), ('아소카', 1121), ('아소카', 1174), ('아소카', 1207), ('빈두사라', 1230), ('빈두사라', 1274)], 'CIVILIZATION': [('아버지', 29), ('총리', 58), ('바실레우스', 256), ('무화과', 278), ('포도주', 287), ('무화과', 379), ('포도주', 384), ('아버지', 413), ('황자', 592), ('관리', 618), ('관리', 646), ('시민', 744), ('시민', 796), ('부왕', 938), ('신하', 967), ('신하', 1062), ('부왕', 1108), ('시민', 1144), ('신하', 1222)], 'LOCATION': [('데칸 고원', 79), ('카르나타카', 89), ('칼링가', 145), ('남인도', 150), ('빈두사라', 189), ('셀레우코스 제국', 246), ('셀레우코스 제국', 328), ('빈두사라', 502), ('탁실라', 527), ('웃타라파타', 539), ('속주', 548), ('웃타라파타', 596), ('탁실라', 683), ('탁실라', 720), ('빈두사라', 817), ('빈두사라', 880), ('웃타라파타', 908), ('웃타라파타', 996), ('아반티파타', 1094), ('속주', 1103), ('웃타라파타', 1137), ('수시마', 1179), ('수시마', 1240)], 'TERM': [('남부', 85), ('북부', 545), ('서부', 1100), ('화병', 1301)], 'COUNTRY': [('인도', 162), ('그리스', 195), ('그리스', 283), ('그리스', 292), ('그리스', 341)], 'STUDY_FIELD': [('수사학', 296)], 'DATE': [('기원전 273년', 845)], 'CITY': [('파탈리푸트라', 1188)]}</td>\n",
       "      <td>('빈두사라', 1309)</td>\n",
       "      <td>True</td>\n",
       "      <td>False</td>\n",
       "      <td>True</td>\n",
       "      <td>True</td>\n",
       "      <td>False</td>\n",
       "      <td>True</td>\n",
       "      <td>마우리아 제국의 2대 황제가 누구야?</td>\n",
       "    </tr>\n",
       "  </tbody>\n",
       "</table>\n",
       "</div>"
      ],
      "text/plain": [
       "                                                                                                                                                                                                                                                                                                                                                                                                                                                                                                                                                                                                                                                                                                                                                                                                                                                                                                                                                                                                                                                                                                                                                                                                                                                                                                                                                                              text  \\\n",
       "0                                                                                                                                                                                                                                                                                                                                                                                                                                                                                                                                                                                                                                                                         아메리칸 허슬의 수상 및 후보 목록\\n\\n아메리칸 허슬은 골든 글로브상에서 7개 부문에 후보 지명 되었다. 에이미 아담스와 제니퍼 로렌스는 각각 영화 뮤지컬·코미디 부문 최우수 여우주연상과 영화 부문 최우수 여우조연상을 수상하였고, 또한 영화 뮤지컬·코미디 부문 최우수 작품상을 수상하였다.  \\n\\n이 영화는 미국 아카데미상에서 최우수 작품상, 최우수 감독상, 최우수 각본상, 4개의 연기 부문과 함께  총 10개 부문에 후보 지명 되었지만 수상에는 이르지 못했다. 이 영화는 영국 아카데미 영화상(BAFTA)에서 10개 부문에 후보에 올랐으며, 제니퍼 로렌스는 최우수 여우조연상을, 데이비드 O. 러셀과 에릭 워런 싱어는 최우수 각본상을 수상했다.  \\n\\n이 영화는 1977년 《터닝 포인트》의 11개 부문과 1985년의 《컬러 퍼플》 이후 오스카 상을 수상하지 못한 영화에서 두 번째로 많은 수의 후보작을 받았으며, 《더 브레이브》와 《갱스 오브 뉴욕》과의 차이점이 있다. 4개의 연기 부문에 모두 지명 된 15번째 영화이자 러셀이 감독한 2012년 《실버라이닝 플레이북》 이후 1981년 이후 두 번째 영화이다.  15편의 영화 중 1936년 《마이 맨 갓 프리》와 1950년대 《선셋 대로》만이 연기상을 받지 못했다. 이 영화는 미국 배우 조합상(SAG)에서 영화 부문 최우수 연기 캐스트상을 수상하였다.   \n",
       "1  이후 마우리아 제국의 2대 황제로 즉위한 빈두사라는 아버지인 찬드라굽타 마우리아 때부터 마우리아 제국의 총리였던 차나키야의 도움을 받아 당시 데칸 고원 남부의 카르나타카 지역까지 영토를 확장하는 동시에 해당 지역에 존재하던 16개의 왕국을 전부 정복하였으며, 칼링가와 남인도 지역을 제외한 인도 아대륙 대부분을 차지하게 되었다. \\n\\n빈두사라는 그리스 세계와 우호적인 외교 관계를 유지하였는데, 전해지는 이야기에 따르면 빈두사라가 당시 셀레우코스 제국의 바실레우스인 안티오코스 1세 소테르에게 무화과와 그리스 포도주, 그리스 수사학 교사를 사고 싶다는 내용의 서신을 보냈으며, 이에 셀레우코스 제국에서는 \"그리스 법에 교사 판매는 금지되어 있다\"는 내용이 적힌 서신과 함께 무화과와 포도주를 보내주었던 적이 있었다고 한다. 빈두사라의 아버지인 찬드라굽타 마우리아가 자이나교를 믿었던 것과 달리, 빈두사라는 아지비카교를 믿었으며, 당시 아지비카교의 사원들을 후원하는 정책들을 실시하였다. 그러나 빈두사라 시절에는 반란도 자주 발생하였는데, 탁실라를 주도로 하는 웃타라파타(북부 속주)에서 반란이 대표적으로 이 지역에서의 반란을 진압하기 위해 파견된 아소카 황자가 웃타라파타 사람들이 이 속주를 담당하는 관리의 횡포로 인해 반란을 일으킨 것을 안 후 그 관리에게 처벌을 내림으로서 평화적으로 반란을 진압하였고 이로 인해 탁실라 사람들의 지지를 얻게 되고 자신의 군대 또한 확장하였으며, 탁실라 인근에서 발생한 반란 또한 진압하며 시민들의 강력한 지지를 얻게 되었지만, 이 사건으로 아소카가 당시 제국의 황제인 빈두사라보다 시민들의 지지를 더 많이 받게 되면서 빈두사라는 아소카를 경계하게 되었다.\\n\\n한편 기원전 273년에 원인을 알 수 없는 병에 걸려 죽음을 직감한 빈두사라는 제국의 차기 황제로 아소카가 아닌 당시 웃타라파타 지역에 또다시 발생한 반란을 진압하기 위해 부왕으로 파견된 수시마를 차기 황제로 지명한 후 한 신하에게 수시마를 불러와 황위에 앉히고 대신 이전에 웃타라파타에서의 반란을 진압한 전적이 있는 아소카를 다시 파견해 반란을 재진압하도록 명령하였지만, 이 반란 자체가 그 신하가 수시마에게 앙금을 품고 당시 우자인을 주도로 하는 아반티파타(서부 속주)에 부왕으로 파견되어 있던 아소카를 황위에 앉히기 위해 웃타라파타의 시민들을 선동하여 꾸민 자작극이었으며 이 소식을 들은 아소카는 수시마보다 먼저 파탈리푸트라에 귀환하였다. 귀환한 아소카는 자신들을 지지하는 신하들과 함께 빈두사라를 찾아가 수시마가 아닌 아소카가 황위를 이어야 한다고 설득하였고 이에 빈두사라는 분노하며 이를 거절하였지만, 이 일로 화병까지 겹친 빈두사라는 얼마 안가 세상을 떠났다.   \n",
       "\n",
       "  corpus_source  url  domain    title  author  html  document_id  \\\n",
       "0         위키피디아  NaN     NaN  아메리칸 허슬     NaN   NaN        37128   \n",
       "1         위키피디아  NaN     NaN  마우리아 제국     NaN   NaN        11039   \n",
       "\n",
       "                                                                                                                                                                                                                                                                                                                                                                                                                                                                                                                                                                                                                                                                                                                                                                                                                                                                                                                                                                                                                                                                                                                                                                                                                                                                                                                                                                                                                                                                                                                     context_ner  \\\n",
       "0                                                                                                                                                                                                                                                                                                                                                                                                                                                                                                           {'CIVILIZATION': [('후보', 14), ('아메리칸 허슬', 20), ('골든 글로브상', 29), ('후보', 46), ('최우수', 92), ('여우주연상', 96), ('최우수 여우조연상', 109), ('최우수 작품상', 144), ('미국 아카데미상', 166), ('최우수 작품상', 177), ('최우수 감독상', 186), ('최우수 각본상', 195), ('후보', 228), ('영국 아카데미 영화상', 259), ('후보', 288), ('최우수 여우조연상', 307), ('최우수 각본상', 341), ('오스카 상', 404), ('연기상', 604), ('배우 조합상', 626), ('SAG', 633), ('최우수 연기 캐스트상', 646)], 'QUANTITY': [('7개', 39), ('4개', 204), ('10개', 220), ('10개', 280), ('11개', 378), ('두 번째', 424), ('4개', 479), ('15번째', 498), ('두 번째', 547), ('15편', 558)], 'PERSON': [('에이미 아담스', 57), ('제니퍼 로렌스', 66), ('제니퍼 로렌스', 298), ('에릭 워런 싱어', 331), ('러셀', 508)], 'STUDY_FIELD': [('뮤지컬', 81), ('코미디', 85), ('뮤지컬', 133), ('코미디', 137)], 'DATE': [('1977년', 362), ('1985년', 386), ('2012년', 516), ('1981년 이후', 538), ('1936년', 568), ('1950년대', 587)], 'ARTIFACT': [('터닝 포인트', 369), ('컬러 퍼플', 394), ('더 브레이브', 448), ('갱스 오브 뉴욕', 458), ('실버라이닝 플레이북', 523), ('마이 맨 갓 프리', 575), ('선셋 대로', 595)], 'COUNTRY': [('미국', 623)]}   \n",
       "1  {'ORGANIZATION': [('마우리아 제국', 49), ('아지비카교', 453), ('아지비카교', 469), ('제국', 886)], 'QUANTITY': [('2대', 12), ('16개', 125)], 'OCCUPATION': [('황제', 15), ('교사', 300), ('교사', 348), ('황제', 785), ('황제', 893), ('황제', 955)], 'PERSON': [('빈두사라', 23), ('찬드라굽타 마우리아', 34), ('차나키야', 63), ('빈두사라', 237), ('안티오코스', 263), ('1세 소테르', 269), ('빈두사라', 407), ('찬드라굽타 마우리아', 418), ('빈두사라', 447), ('아소카', 588), ('아소카', 773), ('빈두사라', 789), ('아소카', 823), ('아소카', 897), ('수시마', 947), ('수시마', 972), ('아소카', 1020), ('수시마', 1066), ('우자인', 1082), ('아소카', 1121), ('아소카', 1174), ('아소카', 1207), ('빈두사라', 1230), ('빈두사라', 1274)], 'CIVILIZATION': [('아버지', 29), ('총리', 58), ('바실레우스', 256), ('무화과', 278), ('포도주', 287), ('무화과', 379), ('포도주', 384), ('아버지', 413), ('황자', 592), ('관리', 618), ('관리', 646), ('시민', 744), ('시민', 796), ('부왕', 938), ('신하', 967), ('신하', 1062), ('부왕', 1108), ('시민', 1144), ('신하', 1222)], 'LOCATION': [('데칸 고원', 79), ('카르나타카', 89), ('칼링가', 145), ('남인도', 150), ('빈두사라', 189), ('셀레우코스 제국', 246), ('셀레우코스 제국', 328), ('빈두사라', 502), ('탁실라', 527), ('웃타라파타', 539), ('속주', 548), ('웃타라파타', 596), ('탁실라', 683), ('탁실라', 720), ('빈두사라', 817), ('빈두사라', 880), ('웃타라파타', 908), ('웃타라파타', 996), ('아반티파타', 1094), ('속주', 1103), ('웃타라파타', 1137), ('수시마', 1179), ('수시마', 1240)], 'TERM': [('남부', 85), ('북부', 545), ('서부', 1100), ('화병', 1301)], 'COUNTRY': [('인도', 162), ('그리스', 195), ('그리스', 283), ('그리스', 292), ('그리스', 341)], 'STUDY_FIELD': [('수사학', 296)], 'DATE': [('기원전 273년', 845)], 'CITY': [('파탈리푸트라', 1188)]}   \n",
       "\n",
       "             answer  k_PERSON  k_EVENT  k_ORGANIZATION  k_DATE  k_TIME  \\\n",
       "0  ('데이비드 O.', 319)      True     True            True    True   False   \n",
       "1    ('빈두사라', 1309)      True    False            True    True   False   \n",
       "\n",
       "   k_LOCATION                      Q_based title  \n",
       "0       False  에이미 아담스에 이어 최우수 각본상을 수상한 배우는 누구야?  \n",
       "1        True               마우리아 제국의 2대 황제가 누구야?  "
      ]
     },
     "metadata": {},
     "output_type": "display_data"
    }
   ],
   "source": [
    "from pororo import Pororo\n",
    "import pandas as pd\n",
    "import json\n",
    "print('making QG func...')\n",
    "qg = Pororo(task='qg',lang='ko')\n",
    "print('making Dataframe...')\n",
    "df_wiki_ner = tmp.head(100)\n",
    "display(df_wiki_ner.head(2))\n",
    "print('making Q...')\n",
    "range_num = 2\n",
    "df_wiki_ner['Q_based title'] = df_wiki_ner[['answer','text']].apply(lambda x: qg(eval(x[0])[0] , x[1],  n_wrong=0, len_penalty=-0.2  ), axis=1)\n",
    "# df_wiki_ner['Q_based title'] = df_wiki_ner[['answer','text']].apply(lambda x: eval(x[0])[0] + '에요요요이ㅓㄹ아ㅣㅓ리ㅏㅇ'+ x[1], axis=1)\n",
    "print('making csv...')\n",
    "# df_wiki_ner.to_csv('/opt/ml/input/data/wiki_QG_ner_'+str(range_num)+'.csv', sep=',', na_rep='NaN',index=False) # do not write index\n",
    "print('DONE!')\n",
    "display(df_wiki_ner.head(2))"
   ]
  },
  {
   "attachments": {},
   "cell_type": "markdown",
   "metadata": {},
   "source": [
    "확인만 하고, 수행은 .py파일로 돌림. 아래는 예상 소요시간"
   ]
  },
  {
   "cell_type": "code",
   "execution_count": 296,
   "metadata": {},
   "outputs": [
    {
     "data": {
      "text/plain": [
       "27.887661666666663"
      ]
     },
     "execution_count": 296,
     "metadata": {},
     "output_type": "execute_result"
    }
   ],
   "source": [
    "len(tmp)*39.9/100/60/60"
   ]
  },
  {
   "cell_type": "code",
   "execution_count": null,
   "metadata": {},
   "outputs": [],
   "source": []
  }
 ],
 "metadata": {
  "kernelspec": {
   "display_name": "pororo",
   "language": "python",
   "name": "python3"
  },
  "language_info": {
   "codemirror_mode": {
    "name": "ipython",
    "version": 3
   },
   "file_extension": ".py",
   "mimetype": "text/x-python",
   "name": "python",
   "nbconvert_exporter": "python",
   "pygments_lexer": "ipython3",
   "version": "3.6.15"
  },
  "orig_nbformat": 4
 },
 "nbformat": 4,
 "nbformat_minor": 2
}
