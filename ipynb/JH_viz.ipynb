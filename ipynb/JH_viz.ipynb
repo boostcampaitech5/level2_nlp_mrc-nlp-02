{
 "cells": [
  {
   "cell_type": "code",
   "execution_count": 1,
   "id": "460fa429",
   "metadata": {
    "ExecuteTime": {
     "end_time": "2023-06-07T11:58:58.426467Z",
     "start_time": "2023-06-07T11:58:51.598266Z"
    }
   },
   "outputs": [],
   "source": [
    "import numpy as np\n",
    "import pandas as pd\n",
    "import matplotlib.pyplot as plt\n",
    "import seaborn as sns\n",
    "import matplotlib.style as style\n",
    "\n",
    "plt.style.use('seaborn')\n",
    "from matplotlib import rc, font_manager\n",
    "style.use(\"fivethirtyeight\")\n",
    "style.use(\"seaborn-talk\")\n",
    "plt.rcParams['font.family'] = 'serif'\n",
    "\n",
    "import pickle\n",
    "import os\n",
    "import re\n",
    "import json\n",
    "\n",
    "from ast import literal_eval\n",
    "\n",
    "import warnings\n",
    "warnings.filterwarnings('ignore')\n",
    "\n",
    "import matplotlib\n",
    "matplotlib.rcParams['font.family'] ='Malgun Gothic'\n",
    "matplotlib.rcParams['axes.unicode_minus'] =False"
   ]
  },
  {
   "attachments": {},
   "cell_type": "markdown",
   "id": "3d235ed1",
   "metadata": {},
   "source": [
    "# wiki"
   ]
  },
  {
   "cell_type": "code",
   "execution_count": 8,
   "id": "729480e1",
   "metadata": {
    "ExecuteTime": {
     "end_time": "2023-06-07T11:59:00.305250Z",
     "start_time": "2023-06-07T11:58:58.427246Z"
    }
   },
   "outputs": [
    {
     "data": {
      "text/plain": [
       "dict_keys(['text', 'corpus_source', 'url', 'domain', 'title', 'author', 'html', 'document_id'])"
      ]
     },
     "execution_count": 8,
     "metadata": {},
     "output_type": "execute_result"
    }
   ],
   "source": [
    "with open(os.path.join(\"../data/wikipedia_documents.json\"), \"r\", encoding=\"utf-8\") as f:\n",
    "    wiki = json.load(f)\n",
    "wiki['0'].keys()"
   ]
  },
  {
   "cell_type": "code",
   "execution_count": 9,
   "id": "d7679862",
   "metadata": {
    "ExecuteTime": {
     "end_time": "2023-06-07T11:59:02.911395Z",
     "start_time": "2023-06-07T11:59:00.305250Z"
    }
   },
   "outputs": [
    {
     "data": {
      "text/html": [
       "<div>\n",
       "<style scoped>\n",
       "    .dataframe tbody tr th:only-of-type {\n",
       "        vertical-align: middle;\n",
       "    }\n",
       "\n",
       "    .dataframe tbody tr th {\n",
       "        vertical-align: top;\n",
       "    }\n",
       "\n",
       "    .dataframe thead th {\n",
       "        text-align: right;\n",
       "    }\n",
       "</style>\n",
       "<table border=\"1\" class=\"dataframe\">\n",
       "  <thead>\n",
       "    <tr style=\"text-align: right;\">\n",
       "      <th></th>\n",
       "      <th>text</th>\n",
       "      <th>corpus_source</th>\n",
       "      <th>url</th>\n",
       "      <th>domain</th>\n",
       "      <th>title</th>\n",
       "      <th>author</th>\n",
       "      <th>html</th>\n",
       "      <th>document_id</th>\n",
       "    </tr>\n",
       "  </thead>\n",
       "  <tbody>\n",
       "    <tr>\n",
       "      <th>0</th>\n",
       "      <td>이 문서는 나라 목록이며, 전 세계 206개 나라의 각 현황과 주권 승인 정보를 개...</td>\n",
       "      <td>위키피디아</td>\n",
       "      <td>TODO</td>\n",
       "      <td>None</td>\n",
       "      <td>나라 목록</td>\n",
       "      <td>None</td>\n",
       "      <td>None</td>\n",
       "      <td>0</td>\n",
       "    </tr>\n",
       "    <tr>\n",
       "      <th>1</th>\n",
       "      <td>이 목록에 실린 국가 기준은 1933년 몬테비데오 협약 1장을 참고로 하였다. 협정...</td>\n",
       "      <td>위키피디아</td>\n",
       "      <td>TODO</td>\n",
       "      <td>None</td>\n",
       "      <td>나라 목록</td>\n",
       "      <td>None</td>\n",
       "      <td>None</td>\n",
       "      <td>1</td>\n",
       "    </tr>\n",
       "    <tr>\n",
       "      <th>2</th>\n",
       "      <td>현 서울특별시 종로구 서린동 (구 일제 강점기 경기도 경성부 서린정) 출신이다. 친...</td>\n",
       "      <td>위키피디아</td>\n",
       "      <td>TODO</td>\n",
       "      <td>None</td>\n",
       "      <td>백남준</td>\n",
       "      <td>None</td>\n",
       "      <td>None</td>\n",
       "      <td>2</td>\n",
       "    </tr>\n",
       "    <tr>\n",
       "      <th>3</th>\n",
       "      <td>아오조라 문고(靑空文庫, あおぞらぶんこ|아오조라 분고)는 ‘일본어판 구텐베르크 프로...</td>\n",
       "      <td>위키피디아</td>\n",
       "      <td>TODO</td>\n",
       "      <td>None</td>\n",
       "      <td>아오조라 문고</td>\n",
       "      <td>None</td>\n",
       "      <td>None</td>\n",
       "      <td>3</td>\n",
       "    </tr>\n",
       "    <tr>\n",
       "      <th>4</th>\n",
       "      <td>저자 사망 이후 50년이 지나 저작권이 소멸한 메이지 시대부터 쇼와 시대 초기까지의...</td>\n",
       "      <td>위키피디아</td>\n",
       "      <td>TODO</td>\n",
       "      <td>None</td>\n",
       "      <td>아오조라 문고</td>\n",
       "      <td>None</td>\n",
       "      <td>None</td>\n",
       "      <td>4</td>\n",
       "    </tr>\n",
       "  </tbody>\n",
       "</table>\n",
       "</div>"
      ],
      "text/plain": [
       "                                                text corpus_source   url  \\\n",
       "0  이 문서는 나라 목록이며, 전 세계 206개 나라의 각 현황과 주권 승인 정보를 개...         위키피디아  TODO   \n",
       "1  이 목록에 실린 국가 기준은 1933년 몬테비데오 협약 1장을 참고로 하였다. 협정...         위키피디아  TODO   \n",
       "2  현 서울특별시 종로구 서린동 (구 일제 강점기 경기도 경성부 서린정) 출신이다. 친...         위키피디아  TODO   \n",
       "3  아오조라 문고(靑空文庫, あおぞらぶんこ|아오조라 분고)는 ‘일본어판 구텐베르크 프로...         위키피디아  TODO   \n",
       "4  저자 사망 이후 50년이 지나 저작권이 소멸한 메이지 시대부터 쇼와 시대 초기까지의...         위키피디아  TODO   \n",
       "\n",
       "  domain    title author  html document_id  \n",
       "0   None    나라 목록   None  None           0  \n",
       "1   None    나라 목록   None  None           1  \n",
       "2   None      백남준   None  None           2  \n",
       "3   None  아오조라 문고   None  None           3  \n",
       "4   None  아오조라 문고   None  None           4  "
      ]
     },
     "execution_count": 9,
     "metadata": {},
     "output_type": "execute_result"
    }
   ],
   "source": [
    "wiki = pd.DataFrame(wiki).T\n",
    "wiki.head()"
   ]
  },
  {
   "cell_type": "code",
   "execution_count": 10,
   "id": "c1a694fd",
   "metadata": {
    "ExecuteTime": {
     "end_time": "2023-06-07T11:59:02.926687Z",
     "start_time": "2023-06-07T11:59:02.914944Z"
    }
   },
   "outputs": [
    {
     "data": {
      "text/plain": [
       "60613"
      ]
     },
     "execution_count": 10,
     "metadata": {},
     "output_type": "execute_result"
    }
   ],
   "source": [
    "len(wiki)"
   ]
  },
  {
   "attachments": {},
   "cell_type": "markdown",
   "id": "a3e0a9c6",
   "metadata": {},
   "source": [
    "# train/valid"
   ]
  },
  {
   "cell_type": "code",
   "execution_count": 11,
   "id": "96bf92bf",
   "metadata": {
    "ExecuteTime": {
     "end_time": "2023-06-07T11:59:02.942535Z",
     "start_time": "2023-06-07T11:59:02.929933Z"
    }
   },
   "outputs": [],
   "source": [
    "#pip install datasets==2.12.0"
   ]
  },
  {
   "cell_type": "code",
   "execution_count": 13,
   "id": "4fb39cea",
   "metadata": {
    "ExecuteTime": {
     "end_time": "2023-06-07T11:59:05.061929Z",
     "start_time": "2023-06-07T11:59:02.944405Z"
    }
   },
   "outputs": [],
   "source": [
    "# train_dataset을 불러오고 싶은 경우\n",
    "from datasets import load_from_disk\n",
    "train_dataset = load_from_disk(\"../data/train_dataset/\")"
   ]
  },
  {
   "cell_type": "code",
   "execution_count": 14,
   "id": "1bc57141",
   "metadata": {
    "ExecuteTime": {
     "end_time": "2023-06-07T11:59:05.079350Z",
     "start_time": "2023-06-07T11:59:05.065057Z"
    }
   },
   "outputs": [
    {
     "data": {
      "text/plain": [
       "DatasetDict({\n",
       "    train: Dataset({\n",
       "        features: ['title', 'context', 'question', 'id', 'answers', 'document_id', '__index_level_0__'],\n",
       "        num_rows: 3952\n",
       "    })\n",
       "    validation: Dataset({\n",
       "        features: ['title', 'context', 'question', 'id', 'answers', 'document_id', '__index_level_0__'],\n",
       "        num_rows: 240\n",
       "    })\n",
       "})"
      ]
     },
     "execution_count": 14,
     "metadata": {},
     "output_type": "execute_result"
    }
   ],
   "source": [
    "train_dataset"
   ]
  },
  {
   "attachments": {},
   "cell_type": "markdown",
   "id": "89adee28",
   "metadata": {},
   "source": [
    "- id: 질문의 고유 id\n",
    "- question: 질문\n",
    "- answers: 답변에 대한 정보. 하나의 질문에 하나의 답변만 존재함\n",
    "    - answer_start : 답변의 시작 위치\n",
    "    - text: 답변의 텍스트\n",
    "- context: 답변이 포함된 문서\n",
    "- title: 문서의 제목\n",
    "- document_id: 문서의 고유 id"
   ]
  },
  {
   "cell_type": "code",
   "execution_count": 15,
   "id": "458a38ed",
   "metadata": {
    "ExecuteTime": {
     "end_time": "2023-06-07T11:59:05.309740Z",
     "start_time": "2023-06-07T11:59:05.082371Z"
    }
   },
   "outputs": [],
   "source": [
    "train=pd.DataFrame({'title':train_dataset['train']['title'], 'context':train_dataset['train']['context'], 'question':train_dataset['train']['question'], 'id':train_dataset['train']['id'], 'answers':train_dataset['train']['answers'], 'document_id':train_dataset['train']['document_id'], '__index_level_0__':train_dataset['train']['__index_level_0__']})\n",
    "valid=pd.DataFrame({'title':train_dataset['validation']['title'], 'context':train_dataset['validation']['context'], 'question':train_dataset['validation']['question'], 'id':train_dataset['validation']['id'], 'answers':train_dataset['validation']['answers'], 'document_id':train_dataset['validation']['document_id'], '__index_level_0__':train_dataset['validation']['__index_level_0__']})"
   ]
  },
  {
   "cell_type": "code",
   "execution_count": 23,
   "id": "78d3cc41",
   "metadata": {},
   "outputs": [
    {
     "name": "stdout",
     "output_type": "stream",
     "text": [
      "--train--\n",
      "3952 Index(['title', 'context', 'question', 'id', 'answers', 'document_id',\n",
      "       '__index_level_0__'],\n",
      "      dtype='object') \n",
      "\n",
      "--valid--\n",
      "240 Index(['title', 'context', 'question', 'id', 'answers', 'document_id',\n",
      "       '__index_level_0__'],\n",
      "      dtype='object')\n"
     ]
    }
   ],
   "source": [
    "print(\"--train--\")\n",
    "print(len(train), train.columns, '\\n')\n",
    "\n",
    "print(\"--valid--\")\n",
    "print(len(valid), valid.columns)\n"
   ]
  },
  {
   "cell_type": "code",
   "execution_count": 20,
   "id": "0b0922b5",
   "metadata": {
    "ExecuteTime": {
     "end_time": "2023-06-07T11:59:05.541668Z",
     "start_time": "2023-06-07T11:59:05.499300Z"
    }
   },
   "outputs": [
    {
     "data": {
      "text/html": [
       "<div>\n",
       "<style scoped>\n",
       "    .dataframe tbody tr th:only-of-type {\n",
       "        vertical-align: middle;\n",
       "    }\n",
       "\n",
       "    .dataframe tbody tr th {\n",
       "        vertical-align: top;\n",
       "    }\n",
       "\n",
       "    .dataframe thead th {\n",
       "        text-align: right;\n",
       "    }\n",
       "</style>\n",
       "<table border=\"1\" class=\"dataframe\">\n",
       "  <thead>\n",
       "    <tr style=\"text-align: right;\">\n",
       "      <th></th>\n",
       "      <th>title</th>\n",
       "      <th>context</th>\n",
       "      <th>question</th>\n",
       "      <th>id</th>\n",
       "      <th>answers</th>\n",
       "      <th>document_id</th>\n",
       "      <th>__index_level_0__</th>\n",
       "    </tr>\n",
       "  </thead>\n",
       "  <tbody>\n",
       "    <tr>\n",
       "      <th>0</th>\n",
       "      <td>미국 상원</td>\n",
       "      <td>미국 상의원 또는 미국 상원(United States Senate)은 양원제인 미국...</td>\n",
       "      <td>대통령을 포함한 미국의 행정부 견제권을 갖는 국가 기관은?</td>\n",
       "      <td>mrc-1-000067</td>\n",
       "      <td>{'answer_start': [235], 'text': ['하원']}</td>\n",
       "      <td>18293</td>\n",
       "      <td>42</td>\n",
       "    </tr>\n",
       "    <tr>\n",
       "      <th>1</th>\n",
       "      <td>인사조직관리</td>\n",
       "      <td>'근대적 경영학' 또는 '고전적 경영학'에서 현대적 경영학으로 전환되는 시기는 19...</td>\n",
       "      <td>현대적 인사조직관리의 시발점이 된 책은?</td>\n",
       "      <td>mrc-0-004397</td>\n",
       "      <td>{'answer_start': [212], 'text': ['《경영의 실제》']}</td>\n",
       "      <td>51638</td>\n",
       "      <td>2873</td>\n",
       "    </tr>\n",
       "    <tr>\n",
       "      <th>2</th>\n",
       "      <td>강희제</td>\n",
       "      <td>강희제는 강화된 황권으로 거의 황제 중심의 독단적으로 나라를 이끌어 갔기에 자칫 전...</td>\n",
       "      <td>강희제가 1717년에 쓴 글은 누구를 위해 쓰여졌는가?</td>\n",
       "      <td>mrc-1-000362</td>\n",
       "      <td>{'answer_start': [510], 'text': ['백성']}</td>\n",
       "      <td>5028</td>\n",
       "      <td>230</td>\n",
       "    </tr>\n",
       "    <tr>\n",
       "      <th>3</th>\n",
       "      <td>금동삼존불감</td>\n",
       "      <td>불상을 모시기 위해 나무나 돌, 쇠 등을 깎아 일반적인 건축물보다 작은 규모로 만든...</td>\n",
       "      <td>11~12세기에 제작된 본존불은 보통 어떤 나라의 특징이 전파되었나요?</td>\n",
       "      <td>mrc-0-001510</td>\n",
       "      <td>{'answer_start': [625], 'text': ['중국']}</td>\n",
       "      <td>34146</td>\n",
       "      <td>992</td>\n",
       "    </tr>\n",
       "    <tr>\n",
       "      <th>4</th>\n",
       "      <td>계사명 사리구</td>\n",
       "      <td>동아대학교박물관에서 소장하고 있는 계사명 사리구는 총 4개의 용기로 구성된 조선후기...</td>\n",
       "      <td>명문이 적힌 유물을 구성하는 그릇의 총 개수는?</td>\n",
       "      <td>mrc-0-000823</td>\n",
       "      <td>{'answer_start': [30], 'text': ['4개']}</td>\n",
       "      <td>47334</td>\n",
       "      <td>548</td>\n",
       "    </tr>\n",
       "  </tbody>\n",
       "</table>\n",
       "</div>"
      ],
      "text/plain": [
       "     title                                            context  \\\n",
       "0    미국 상원  미국 상의원 또는 미국 상원(United States Senate)은 양원제인 미국...   \n",
       "1   인사조직관리  '근대적 경영학' 또는 '고전적 경영학'에서 현대적 경영학으로 전환되는 시기는 19...   \n",
       "2      강희제  강희제는 강화된 황권으로 거의 황제 중심의 독단적으로 나라를 이끌어 갔기에 자칫 전...   \n",
       "3   금동삼존불감  불상을 모시기 위해 나무나 돌, 쇠 등을 깎아 일반적인 건축물보다 작은 규모로 만든...   \n",
       "4  계사명 사리구  동아대학교박물관에서 소장하고 있는 계사명 사리구는 총 4개의 용기로 구성된 조선후기...   \n",
       "\n",
       "                                  question            id  \\\n",
       "0         대통령을 포함한 미국의 행정부 견제권을 갖는 국가 기관은?  mrc-1-000067   \n",
       "1                   현대적 인사조직관리의 시발점이 된 책은?  mrc-0-004397   \n",
       "2           강희제가 1717년에 쓴 글은 누구를 위해 쓰여졌는가?  mrc-1-000362   \n",
       "3  11~12세기에 제작된 본존불은 보통 어떤 나라의 특징이 전파되었나요?  mrc-0-001510   \n",
       "4               명문이 적힌 유물을 구성하는 그릇의 총 개수는?  mrc-0-000823   \n",
       "\n",
       "                                         answers  document_id  \\\n",
       "0        {'answer_start': [235], 'text': ['하원']}        18293   \n",
       "1  {'answer_start': [212], 'text': ['《경영의 실제》']}        51638   \n",
       "2        {'answer_start': [510], 'text': ['백성']}         5028   \n",
       "3        {'answer_start': [625], 'text': ['중국']}        34146   \n",
       "4         {'answer_start': [30], 'text': ['4개']}        47334   \n",
       "\n",
       "   __index_level_0__  \n",
       "0                 42  \n",
       "1               2873  \n",
       "2                230  \n",
       "3                992  \n",
       "4                548  "
      ]
     },
     "execution_count": 20,
     "metadata": {},
     "output_type": "execute_result"
    }
   ],
   "source": [
    "train.head()"
   ]
  },
  {
   "attachments": {},
   "cell_type": "markdown",
   "id": "bafb2922",
   "metadata": {},
   "source": [
    "# 1. context 길이"
   ]
  },
  {
   "cell_type": "code",
   "execution_count": 107,
   "id": "88efad84",
   "metadata": {},
   "outputs": [
    {
     "data": {
      "text/html": [
       "<div>\n",
       "<style scoped>\n",
       "    .dataframe tbody tr th:only-of-type {\n",
       "        vertical-align: middle;\n",
       "    }\n",
       "\n",
       "    .dataframe tbody tr th {\n",
       "        vertical-align: top;\n",
       "    }\n",
       "\n",
       "    .dataframe thead th {\n",
       "        text-align: right;\n",
       "    }\n",
       "</style>\n",
       "<table border=\"1\" class=\"dataframe\">\n",
       "  <thead>\n",
       "    <tr style=\"text-align: right;\">\n",
       "      <th></th>\n",
       "      <th>title</th>\n",
       "      <th>context</th>\n",
       "      <th>question</th>\n",
       "      <th>id</th>\n",
       "      <th>answers</th>\n",
       "      <th>document_id</th>\n",
       "      <th>__index_level_0__</th>\n",
       "      <th>context_length</th>\n",
       "    </tr>\n",
       "  </thead>\n",
       "  <tbody>\n",
       "    <tr>\n",
       "      <th>0</th>\n",
       "      <td>미국 상원</td>\n",
       "      <td>미국 상의원 또는 미국 상원(United States Senate)은 양원제인 미국...</td>\n",
       "      <td>대통령을 포함한 미국의 행정부 견제권을 갖는 국가 기관은?</td>\n",
       "      <td>mrc-1-000067</td>\n",
       "      <td>{'answer_start': [235], 'text': ['하원']}</td>\n",
       "      <td>18293</td>\n",
       "      <td>42</td>\n",
       "      <td>430</td>\n",
       "    </tr>\n",
       "    <tr>\n",
       "      <th>1</th>\n",
       "      <td>인사조직관리</td>\n",
       "      <td>'근대적 경영학' 또는 '고전적 경영학'에서 현대적 경영학으로 전환되는 시기는 19...</td>\n",
       "      <td>현대적 인사조직관리의 시발점이 된 책은?</td>\n",
       "      <td>mrc-0-004397</td>\n",
       "      <td>{'answer_start': [212], 'text': ['《경영의 실제》']}</td>\n",
       "      <td>51638</td>\n",
       "      <td>2873</td>\n",
       "      <td>320</td>\n",
       "    </tr>\n",
       "    <tr>\n",
       "      <th>2</th>\n",
       "      <td>강희제</td>\n",
       "      <td>강희제는 강화된 황권으로 거의 황제 중심의 독단적으로 나라를 이끌어 갔기에 자칫 전...</td>\n",
       "      <td>강희제가 1717년에 쓴 글은 누구를 위해 쓰여졌는가?</td>\n",
       "      <td>mrc-1-000362</td>\n",
       "      <td>{'answer_start': [510], 'text': ['백성']}</td>\n",
       "      <td>5028</td>\n",
       "      <td>230</td>\n",
       "      <td>460</td>\n",
       "    </tr>\n",
       "  </tbody>\n",
       "</table>\n",
       "</div>"
      ],
      "text/plain": [
       "    title                                            context  \\\n",
       "0   미국 상원  미국 상의원 또는 미국 상원(United States Senate)은 양원제인 미국...   \n",
       "1  인사조직관리  '근대적 경영학' 또는 '고전적 경영학'에서 현대적 경영학으로 전환되는 시기는 19...   \n",
       "2     강희제  강희제는 강화된 황권으로 거의 황제 중심의 독단적으로 나라를 이끌어 갔기에 자칫 전...   \n",
       "\n",
       "                           question            id  \\\n",
       "0  대통령을 포함한 미국의 행정부 견제권을 갖는 국가 기관은?  mrc-1-000067   \n",
       "1            현대적 인사조직관리의 시발점이 된 책은?  mrc-0-004397   \n",
       "2    강희제가 1717년에 쓴 글은 누구를 위해 쓰여졌는가?  mrc-1-000362   \n",
       "\n",
       "                                         answers  document_id  \\\n",
       "0        {'answer_start': [235], 'text': ['하원']}        18293   \n",
       "1  {'answer_start': [212], 'text': ['《경영의 실제》']}        51638   \n",
       "2        {'answer_start': [510], 'text': ['백성']}         5028   \n",
       "\n",
       "   __index_level_0__  context_length  \n",
       "0                 42             430  \n",
       "1               2873             320  \n",
       "2                230             460  "
      ]
     },
     "execution_count": 107,
     "metadata": {},
     "output_type": "execute_result"
    }
   ],
   "source": [
    "# 단순한 len으로 길이 재기 - train\n",
    "def splitter(string):\n",
    "    return string.split()\n",
    "\n",
    "def context_length(tokenizer, text):\n",
    "    if tokenizer is None:\n",
    "        tokenizer = splitter\n",
    "        result = tokenizer(text)\n",
    "    else:\n",
    "        result = tokenizer(text,\n",
    "                           max_length = 2048,\n",
    "                           truncation=True,\n",
    "                           # padding=\"max_length\",\n",
    "                           ).input_ids\n",
    "    \n",
    "    return len(result)//10 * 10\n",
    "\n",
    "train_df = train.copy()\n",
    "\n",
    "# # 단순한 splitter\n",
    "# \n",
    "# train_df['context_length'] = train_df['context'].apply(lambda x:context_length(None, x))\n",
    "# train_df.head(3)\n",
    "\n",
    "# klue-bert tokenizer로 토큰 길이 확인하기\n",
    "# klue-bert 토크나이저\n",
    "from transformers import AutoTokenizer\n",
    "\n",
    "model_name = 'klue/bert-base'\n",
    "tokenizer = AutoTokenizer.from_pretrained(model_name)\n",
    "\n",
    "train_df['context_length'] = train_df['context'].apply(lambda x:context_length(tokenizer, x))\n",
    "train_df.head(3)\n"
   ]
  },
  {
   "cell_type": "code",
   "execution_count": 64,
   "id": "cf614c94",
   "metadata": {},
   "outputs": [
    {
     "data": {
      "text/plain": [
       "[Text(0, 0, '240'),\n",
       " Text(1, 0, '250'),\n",
       " Text(2, 0, '260'),\n",
       " Text(3, 0, '270'),\n",
       " Text(4, 0, '280'),\n",
       " Text(5, 0, '290'),\n",
       " Text(6, 0, '300'),\n",
       " Text(7, 0, '310'),\n",
       " Text(8, 0, '320'),\n",
       " Text(9, 0, '330'),\n",
       " Text(10, 0, '340'),\n",
       " Text(11, 0, '350'),\n",
       " Text(12, 0, '360'),\n",
       " Text(13, 0, '370'),\n",
       " Text(14, 0, '380'),\n",
       " Text(15, 0, '390'),\n",
       " Text(16, 0, '400'),\n",
       " Text(17, 0, '410'),\n",
       " Text(18, 0, '420'),\n",
       " Text(19, 0, '430'),\n",
       " Text(20, 0, '440'),\n",
       " Text(21, 0, '450'),\n",
       " Text(22, 0, '460'),\n",
       " Text(23, 0, '470'),\n",
       " Text(24, 0, '480'),\n",
       " Text(25, 0, '490'),\n",
       " Text(26, 0, '500'),\n",
       " Text(27, 0, '510'),\n",
       " Text(28, 0, '520'),\n",
       " Text(29, 0, '530'),\n",
       " Text(30, 0, '540'),\n",
       " Text(31, 0, '550'),\n",
       " Text(32, 0, '560'),\n",
       " Text(33, 0, '570'),\n",
       " Text(34, 0, '580'),\n",
       " Text(35, 0, '590'),\n",
       " Text(36, 0, '600'),\n",
       " Text(37, 0, '610'),\n",
       " Text(38, 0, '620'),\n",
       " Text(39, 0, '630'),\n",
       " Text(40, 0, '640'),\n",
       " Text(41, 0, '650'),\n",
       " Text(42, 0, '660'),\n",
       " Text(43, 0, '670'),\n",
       " Text(44, 0, '680'),\n",
       " Text(45, 0, '690'),\n",
       " Text(46, 0, '700'),\n",
       " Text(47, 0, '710'),\n",
       " Text(48, 0, '720'),\n",
       " Text(49, 0, '730'),\n",
       " Text(50, 0, '740'),\n",
       " Text(51, 0, '750'),\n",
       " Text(52, 0, '760'),\n",
       " Text(53, 0, '770'),\n",
       " Text(54, 0, '780'),\n",
       " Text(55, 0, '790'),\n",
       " Text(56, 0, '800'),\n",
       " Text(57, 0, '810'),\n",
       " Text(58, 0, '820'),\n",
       " Text(59, 0, '830'),\n",
       " Text(60, 0, '840'),\n",
       " Text(61, 0, '850'),\n",
       " Text(62, 0, '860'),\n",
       " Text(63, 0, '870'),\n",
       " Text(64, 0, '880'),\n",
       " Text(65, 0, '890'),\n",
       " Text(66, 0, '900'),\n",
       " Text(67, 0, '910'),\n",
       " Text(68, 0, '920'),\n",
       " Text(69, 0, '930'),\n",
       " Text(70, 0, '940'),\n",
       " Text(71, 0, '950'),\n",
       " Text(72, 0, '960'),\n",
       " Text(73, 0, '970'),\n",
       " Text(74, 0, '980'),\n",
       " Text(75, 0, '990'),\n",
       " Text(76, 0, '1000'),\n",
       " Text(77, 0, '1010'),\n",
       " Text(78, 0, '1020'),\n",
       " Text(79, 0, '1030'),\n",
       " Text(80, 0, '1040'),\n",
       " Text(81, 0, '1050'),\n",
       " Text(82, 0, '1060'),\n",
       " Text(83, 0, '1070'),\n",
       " Text(84, 0, '1080'),\n",
       " Text(85, 0, '1090'),\n",
       " Text(86, 0, '1100'),\n",
       " Text(87, 0, '1110'),\n",
       " Text(88, 0, '1120'),\n",
       " Text(89, 0, '1130'),\n",
       " Text(90, 0, '1140'),\n",
       " Text(91, 0, '1150'),\n",
       " Text(92, 0, '1170')]"
      ]
     },
     "execution_count": 64,
     "metadata": {},
     "output_type": "execute_result"
    },
    {
     "name": "stderr",
     "output_type": "stream",
     "text": [
      "findfont: Font family ['Malgun Gothic'] not found. Falling back to DejaVu Sans.\n"
     ]
    },
    {
     "data": {
      "image/png": "[encoded data removed]",
      "text/plain": [
       "<Figure size 1040x715 with 1 Axes>"
      ]
     },
     "metadata": {},
     "output_type": "display_data"
    }
   ],
   "source": [
    "# 시각화\n",
    "import seaborn as sns\n",
    "import matplotlib.pyplot as plt\n",
    "\n",
    "ax = sns.countplot(x=train_df['context_length'], data=train_df)\n",
    "ax.set_xticklabels(ax.get_xticklabels(), rotation=90, fontsize=7)"
   ]
  },
  {
   "cell_type": "code",
   "execution_count": 89,
   "id": "59e0edaf",
   "metadata": {},
   "outputs": [
    {
     "name": "stdout",
     "output_type": "stream",
     "text": [
      "Minimal length of context: \n",
      "('아일랜드는 미국과 협업하기 편리한 시간대에 위치하고 있으며, 미국의 노동자들이 잠들어있는 시간 동안 아일랜드 노동자들이 일상 업무의 전반 '\n",
      " '부분을 해낼 수 있다. 이것은 특히 법무, 재무 부서를 가진 기업에 유용하며 예를 들어 미국의 변호사가 잠자는 시간에 아일랜드의 변호사가 '\n",
      " '소송에 대한 작업을 할 수 있다. 또한 미국 기업들이 생각하기에 아일랜드는 다른 유럽 연합 회원국, 특히 동유럽 국가에 비해 정부의 '\n",
      " '개입이 적다는 것도 매력이었다. 또한 성 금요일 합의에 의해 북아일랜드 정세가 안정화 된 것으로, 아일랜드는 안정된 경제 활동 환경을 '\n",
      " '정돈할 수 있었다. \\\\n\\\\n아일랜드는 포르투갈이나 스페인 등 인건비가 낮은 다른 유럽 연합 회원국의 노동자에 비해 즉시 영어로 대화 '\n",
      " '할 수 있는 이점이 있으며, 이것은 미국 기업들이 아일랜드의 노동자를 선택하는 이유 중 하나이다. 또한 출산율이 낮기 때문에 노동 인구 '\n",
      " '비율이 증가 인구배당효과의 상태나, 여성의 노동 시장 참여 등도 인구 1인당 소득 증가로 이어지고 있다고도 지적되고 있다.')\n",
      "Length of this context:  240\n",
      "\n",
      "number of shorter than 250(from tokenizer):  18 개\n"
     ]
    }
   ],
   "source": [
    "# minimal length context 보기 - 예시 1\n",
    "from pprint import pprint\n",
    "print(\"Minimal length of context: \")\n",
    "pprint(train_df.loc[train_df['context_length'].idxmin(), 'context'])\n",
    "print(\"Length of this context: \", train_df.loc[train_df['context_length'].idxmin(), 'context_length'])\n",
    "\n",
    "# minimal length인 애들 전체 개수\n",
    "clen_min_around = train_df[train_df['context_length'] <= 250]\n",
    "clen_min_around_len = len(clen_min_around)\n",
    "print(\"\\nnumber of shorter than 250(from tokenizer): \", clen_min_around_len, \"개\")"
   ]
  },
  {
   "cell_type": "code",
   "execution_count": 91,
   "id": "6c59f43a",
   "metadata": {},
   "outputs": [
    {
     "name": "stdout",
     "output_type": "stream",
     "text": [
      "Minimal length of context: \n",
      "('아니메 《기동전사 건담》에서는 솔로몬 공략전 후 제37화에서 샤아가 조종하는 신형 모빌슈트로서 최초 등장했다. 당시 기체는 샤아 '\n",
      " '전용기라는 의미를 가지고 있었기 때문에 붉은 색을 기조로 도장되어 있었다. 그 다음 화에서는 텍사스 콜로니에서 건담과 격렬한 싸움을 '\n",
      " '연출하지만 손상으로 후퇴하고 만다.\\\\n그 후 엘메스과 동시에 수회 출격했으며, 제41화에서 샤아의 겔구그는 오른 팔을 건담의 빔 사벨 '\n",
      " '공격에 잃고 엘메스마저 잃은 채 후퇴하고 만다(덧붙여, 이 당시 장면은 리메이크되어 《기동전사 건담 역습의 샤아》에서 회상 장면으로서 '\n",
      " '재등장한다).\\\\n\\\\n또한 일년전쟁 최종 결전인 아 바오아 쿠 공략전이 시작되는 제42화에서는 녹색을 기조로 도장된 양산기가 등장해 '\n",
      " '겔구그는 샤아만이 탑승하는 기체가 아닌 복수 양산된 기체라는 인상이 부여되었다. 또한 다음 화인 제43화가 최종회였기 때문에 전선 투입이 '\n",
      " '늦은 신형 병기라는 인상도 주었다.\\\\n\\\\n아니메 《기동전사 Z 건담》에서는 제26화「지온의 망령」에서 손상을 입고 방기되어 있던 구 '\n",
      " '지온 공국군 전함「그와덴」안에 역시 같이 방기되어 있던 모빌슈트로서 자이언트 바주카를 장비한 녹색의 겔구그가 등장한다. 이 기체에 카츠 '\n",
      " '고바야시가 탑승해 야잔 게블의 가프랑에게 쫓기고 있던 카미유 비단의 Z 건담을 구출했다. 당시 기체는 회수되어 아가마에서 수리(네모의 '\n",
      " '부품을 이식했다)되어 레코아 론드가 쥬피트리스에 침입할 당시 사용되기도 하고 메가 바주카 런처의 추가 에너지 제너레이터 용도로서 '\n",
      " '이용되기도 하는 등 여러 차례 등장한다.\\\\n\\\\n아니메 《기동전사 ZZ 건담》에서는 아프리카 민족해방전선 소속 게릴라인 청색 부대에서 '\n",
      " '대장 데도 카루토하 및 에로 메로에 일행이 겔구그(극중 대사로 봐서는 오리지널이 아닌 레플리카인 듯하다)를 탑승하고 등장한다. 청색 부대 '\n",
      " '소속의 다른 기체와 함께 부대색인 청색으로 도장되어 있었다. 또한 구 지온 공국 병사의 연인이었던 마사이 옹가바가 연인이 남긴 겔구그로 '\n",
      " '주도 아시타에게 도전했다가 격파되었다. 기체는 왠지 몰라도 샤아 전용기로서 같은 붉은색을 기조로 도장되어 있었다.\\\\n\\\\n모델 그래픽스 '\n",
      " '별책《건담 웍스 프로젝트 제타》에 게재된 픽션 스토리에서는 에우고의 여명기를 배경으로「블렉스 포러 탈취 작전」이 묘사되어 있다. 샤아, '\n",
      " '아폴리, 로베르토, 브라운 4인이 겔구그에 탑승해 부하들의 릭 돔 8기와 함께 스티브 오사라한 중위가 이끄는 지구 연방군 릭 돔 '\n",
      " '부대「블루 라이트닝」과 교전을 벌였다.\\\\n\\\\n아니메 《기동전사 건담 F91》에서는 로이 전쟁 박물관에 양산기가 전시되어 있었다. '\n",
      " 'OVA 《기동전사 건담 0083 스타더스트 메모리》에서는 1화 첫머리 아 바오아 쿠 전투에서 아나벨 가토가 탑승. 당시 기체는 그의 '\n",
      " '전용기라는 의미로 청색과 녹색으로 도장되어 있었다. 당초는 양산기인 A형이었지만(사후, 마스터 그레이드 모델에서의 표기는 A형으로 되어 '\n",
      " '있다), 근년에는 샤아 아즈나블의 탑승기처럼 YMS-14형으로 설정이 바뀌었다.\\\\n\\\\n만화 《솔로몬의 악몽》(《가라!가라! 우리들의 '\n",
      " 'V건담!!》: 고토부키 츠카사著 수록)에서는 애너벨 가토가 소형화에 성공하기 이전의 시작형 빔 라이플을 솔로몬 방기 당시 벌어진 철수 '\n",
      " '임무에서 사용하는 내용이 묘사되어 있다. 시작형 빔 라이플은 그 후 발매된 MG 가토전용 겔구그에 부속되었지만, 프라모델에 부속되기에는 '\n",
      " '너무 거대한 디자인이었기 때문에 아쉽게도 새롭게 가토키 하지메에 의해 리파인된 통상형 라이플 사이즈의 디자인으로 변경되었다. 하지만 '\n",
      " '설명서에서는 만화의 묘사가 그대로 인용되어「너무도 거대해 함 내에 수용이 불가능했기 때문에 함 외에 계류되었다」라는 설정이 모순된 상황을 '\n",
      " '낳고 말았다.\\\\n\\\\n만화《기동전사 건담 C.D.A 젊은 혜성의 초상》에서는 앞서 벌어진 전투로 유실한 오른팔을 급히 겔구그 마리네의 '\n",
      " '것으로 개수한 샤아 전용기가 등장. 그 때문에 110mm 속사포가 추가되었으며, 추가로 백팩은 고기동형의 것이 증설되었다. 샤아가 탑승해 '\n",
      " '아 바오아 쿠로부터 우군의 탈출을 엄호하지만 테스트가 이루어지지 않은 탓에 전투 중 고장을 일으키고 만다. 이 기체는 후에 전면적으로 '\n",
      " '개수되었다.')\n",
      "Length of this context:  1170\n",
      "\n",
      "number of shorter than 250(from tokenizer):  106 개\n"
     ]
    }
   ],
   "source": [
    "# max 한번 봐보기\n",
    "\n",
    "print(\"Minimal length of context: \")\n",
    "pprint(train_df.loc[train_df['context_length'].idxmax(), 'context'])\n",
    "print(\"Length of this context: \", train_df.loc[train_df['context_length'].idxmax(), 'context_length'])\n",
    "\n",
    "# minimal length인 애들 전체 개수\n",
    "clen_max_around = train_df[train_df['context_length'] >= 1000]\n",
    "clen_max_around_len = len(clen_max_around)\n",
    "print(\"\\nnumber of shorter than 250(from tokenizer): \", clen_max_around_len, \"개\")"
   ]
  },
  {
   "cell_type": "code",
   "execution_count": 120,
   "id": "92e6d1a6",
   "metadata": {},
   "outputs": [
    {
     "data": {
      "text/plain": [
       "[Text(0, 0, '260'),\n",
       " Text(1, 0, '270'),\n",
       " Text(2, 0, '280'),\n",
       " Text(3, 0, '290'),\n",
       " Text(4, 0, '300'),\n",
       " Text(5, 0, '310'),\n",
       " Text(6, 0, '320'),\n",
       " Text(7, 0, '330'),\n",
       " Text(8, 0, '340'),\n",
       " Text(9, 0, '350'),\n",
       " Text(10, 0, '360'),\n",
       " Text(11, 0, '370'),\n",
       " Text(12, 0, '380'),\n",
       " Text(13, 0, '390'),\n",
       " Text(14, 0, '400'),\n",
       " Text(15, 0, '410'),\n",
       " Text(16, 0, '420'),\n",
       " Text(17, 0, '430'),\n",
       " Text(18, 0, '440'),\n",
       " Text(19, 0, '450'),\n",
       " Text(20, 0, '460'),\n",
       " Text(21, 0, '470'),\n",
       " Text(22, 0, '480'),\n",
       " Text(23, 0, '490'),\n",
       " Text(24, 0, '500'),\n",
       " Text(25, 0, '510'),\n",
       " Text(26, 0, '520'),\n",
       " Text(27, 0, '530'),\n",
       " Text(28, 0, '540'),\n",
       " Text(29, 0, '550'),\n",
       " Text(30, 0, '560'),\n",
       " Text(31, 0, '570'),\n",
       " Text(32, 0, '580'),\n",
       " Text(33, 0, '590'),\n",
       " Text(34, 0, '600'),\n",
       " Text(35, 0, '610'),\n",
       " Text(36, 0, '620'),\n",
       " Text(37, 0, '630'),\n",
       " Text(38, 0, '640'),\n",
       " Text(39, 0, '650'),\n",
       " Text(40, 0, '660'),\n",
       " Text(41, 0, '680'),\n",
       " Text(42, 0, '690'),\n",
       " Text(43, 0, '700'),\n",
       " Text(44, 0, '710'),\n",
       " Text(45, 0, '730'),\n",
       " Text(46, 0, '740'),\n",
       " Text(47, 0, '750'),\n",
       " Text(48, 0, '790'),\n",
       " Text(49, 0, '800'),\n",
       " Text(50, 0, '820'),\n",
       " Text(51, 0, '840'),\n",
       " Text(52, 0, '850'),\n",
       " Text(53, 0, '860'),\n",
       " Text(54, 0, '870'),\n",
       " Text(55, 0, '880'),\n",
       " Text(56, 0, '890'),\n",
       " Text(57, 0, '920'),\n",
       " Text(58, 0, '930'),\n",
       " Text(59, 0, '960'),\n",
       " Text(60, 0, '980'),\n",
       " Text(61, 0, '1010'),\n",
       " Text(62, 0, '1020'),\n",
       " Text(63, 0, '1040'),\n",
       " Text(64, 0, '1060'),\n",
       " Text(65, 0, '1150')]"
      ]
     },
     "execution_count": 120,
     "metadata": {},
     "output_type": "execute_result"
    },
    {
     "data": {
      "image/png": "[encoded data removed]",
      "text/plain": [
       "<Figure size 1040x715 with 1 Axes>"
      ]
     },
     "metadata": {},
     "output_type": "display_data"
    }
   ],
   "source": [
    "# valid context 시각화\n",
    "\n",
    "valid_df = valid.copy()\n",
    "valid_df['context_length'] = valid_df['context'].apply(lambda x:context_length(tokenizer, x))\n",
    "valid_df.head(3)\n",
    "\n",
    "ax = sns.countplot(x=valid_df['context_length'], data=valid_df)\n",
    "ax.set_xticklabels(ax.get_xticklabels(), rotation=90, fontsize=7)"
   ]
  },
  {
   "cell_type": "code",
   "execution_count": 172,
   "id": "67bd3efb",
   "metadata": {},
   "outputs": [],
   "source": [
    "# train, valid 는 context 길이 측면에서 차이가 없다."
   ]
  },
  {
   "cell_type": "code",
   "execution_count": null,
   "id": "a60aaba2",
   "metadata": {},
   "outputs": [],
   "source": []
  },
  {
   "attachments": {},
   "cell_type": "markdown",
   "id": "dfb0bd9e",
   "metadata": {},
   "source": [
    "# 2. Answer 길이"
   ]
  },
  {
   "cell_type": "code",
   "execution_count": 127,
   "id": "00c20597",
   "metadata": {},
   "outputs": [
    {
     "name": "stdout",
     "output_type": "stream",
     "text": [
      "[2, 11119, 3]\n",
      "[SEP]\n"
     ]
    }
   ],
   "source": [
    "print(tokenizer(\"하원\").input_ids)\n",
    "print(tokenizer.convert_ids_to_tokens(3))"
   ]
  },
  {
   "cell_type": "code",
   "execution_count": 124,
   "id": "01a5748f",
   "metadata": {},
   "outputs": [
    {
     "data": {
      "text/html": [
       "<div>\n",
       "<style scoped>\n",
       "    .dataframe tbody tr th:only-of-type {\n",
       "        vertical-align: middle;\n",
       "    }\n",
       "\n",
       "    .dataframe tbody tr th {\n",
       "        vertical-align: top;\n",
       "    }\n",
       "\n",
       "    .dataframe thead th {\n",
       "        text-align: right;\n",
       "    }\n",
       "</style>\n",
       "<table border=\"1\" class=\"dataframe\">\n",
       "  <thead>\n",
       "    <tr style=\"text-align: right;\">\n",
       "      <th></th>\n",
       "      <th>title</th>\n",
       "      <th>context</th>\n",
       "      <th>question</th>\n",
       "      <th>id</th>\n",
       "      <th>answers</th>\n",
       "      <th>document_id</th>\n",
       "      <th>__index_level_0__</th>\n",
       "      <th>context_length</th>\n",
       "      <th>answer_text</th>\n",
       "      <th>answer_length</th>\n",
       "    </tr>\n",
       "  </thead>\n",
       "  <tbody>\n",
       "    <tr>\n",
       "      <th>0</th>\n",
       "      <td>미국 상원</td>\n",
       "      <td>미국 상의원 또는 미국 상원(United States Senate)은 양원제인 미국...</td>\n",
       "      <td>대통령을 포함한 미국의 행정부 견제권을 갖는 국가 기관은?</td>\n",
       "      <td>mrc-1-000067</td>\n",
       "      <td>{'answer_start': [235], 'text': ['하원']}</td>\n",
       "      <td>18293</td>\n",
       "      <td>42</td>\n",
       "      <td>430</td>\n",
       "      <td>하원</td>\n",
       "      <td>3</td>\n",
       "    </tr>\n",
       "    <tr>\n",
       "      <th>1</th>\n",
       "      <td>인사조직관리</td>\n",
       "      <td>'근대적 경영학' 또는 '고전적 경영학'에서 현대적 경영학으로 전환되는 시기는 19...</td>\n",
       "      <td>현대적 인사조직관리의 시발점이 된 책은?</td>\n",
       "      <td>mrc-0-004397</td>\n",
       "      <td>{'answer_start': [212], 'text': ['《경영의 실제》']}</td>\n",
       "      <td>51638</td>\n",
       "      <td>2873</td>\n",
       "      <td>320</td>\n",
       "      <td>《경영의 실제》</td>\n",
       "      <td>7</td>\n",
       "    </tr>\n",
       "    <tr>\n",
       "      <th>2</th>\n",
       "      <td>강희제</td>\n",
       "      <td>강희제는 강화된 황권으로 거의 황제 중심의 독단적으로 나라를 이끌어 갔기에 자칫 전...</td>\n",
       "      <td>강희제가 1717년에 쓴 글은 누구를 위해 쓰여졌는가?</td>\n",
       "      <td>mrc-1-000362</td>\n",
       "      <td>{'answer_start': [510], 'text': ['백성']}</td>\n",
       "      <td>5028</td>\n",
       "      <td>230</td>\n",
       "      <td>460</td>\n",
       "      <td>백성</td>\n",
       "      <td>3</td>\n",
       "    </tr>\n",
       "    <tr>\n",
       "      <th>3</th>\n",
       "      <td>금동삼존불감</td>\n",
       "      <td>불상을 모시기 위해 나무나 돌, 쇠 등을 깎아 일반적인 건축물보다 작은 규모로 만든...</td>\n",
       "      <td>11~12세기에 제작된 본존불은 보통 어떤 나라의 특징이 전파되었나요?</td>\n",
       "      <td>mrc-0-001510</td>\n",
       "      <td>{'answer_start': [625], 'text': ['중국']}</td>\n",
       "      <td>34146</td>\n",
       "      <td>992</td>\n",
       "      <td>410</td>\n",
       "      <td>중국</td>\n",
       "      <td>3</td>\n",
       "    </tr>\n",
       "    <tr>\n",
       "      <th>4</th>\n",
       "      <td>계사명 사리구</td>\n",
       "      <td>동아대학교박물관에서 소장하고 있는 계사명 사리구는 총 4개의 용기로 구성된 조선후기...</td>\n",
       "      <td>명문이 적힌 유물을 구성하는 그릇의 총 개수는?</td>\n",
       "      <td>mrc-0-000823</td>\n",
       "      <td>{'answer_start': [30], 'text': ['4개']}</td>\n",
       "      <td>47334</td>\n",
       "      <td>548</td>\n",
       "      <td>340</td>\n",
       "      <td>4개</td>\n",
       "      <td>4</td>\n",
       "    </tr>\n",
       "  </tbody>\n",
       "</table>\n",
       "</div>"
      ],
      "text/plain": [
       "     title                                            context  \\\n",
       "0    미국 상원  미국 상의원 또는 미국 상원(United States Senate)은 양원제인 미국...   \n",
       "1   인사조직관리  '근대적 경영학' 또는 '고전적 경영학'에서 현대적 경영학으로 전환되는 시기는 19...   \n",
       "2      강희제  강희제는 강화된 황권으로 거의 황제 중심의 독단적으로 나라를 이끌어 갔기에 자칫 전...   \n",
       "3   금동삼존불감  불상을 모시기 위해 나무나 돌, 쇠 등을 깎아 일반적인 건축물보다 작은 규모로 만든...   \n",
       "4  계사명 사리구  동아대학교박물관에서 소장하고 있는 계사명 사리구는 총 4개의 용기로 구성된 조선후기...   \n",
       "\n",
       "                                  question            id  \\\n",
       "0         대통령을 포함한 미국의 행정부 견제권을 갖는 국가 기관은?  mrc-1-000067   \n",
       "1                   현대적 인사조직관리의 시발점이 된 책은?  mrc-0-004397   \n",
       "2           강희제가 1717년에 쓴 글은 누구를 위해 쓰여졌는가?  mrc-1-000362   \n",
       "3  11~12세기에 제작된 본존불은 보통 어떤 나라의 특징이 전파되었나요?  mrc-0-001510   \n",
       "4               명문이 적힌 유물을 구성하는 그릇의 총 개수는?  mrc-0-000823   \n",
       "\n",
       "                                         answers  document_id  \\\n",
       "0        {'answer_start': [235], 'text': ['하원']}        18293   \n",
       "1  {'answer_start': [212], 'text': ['《경영의 실제》']}        51638   \n",
       "2        {'answer_start': [510], 'text': ['백성']}         5028   \n",
       "3        {'answer_start': [625], 'text': ['중국']}        34146   \n",
       "4         {'answer_start': [30], 'text': ['4개']}        47334   \n",
       "\n",
       "   __index_level_0__  context_length answer_text  answer_length  \n",
       "0                 42             430          하원              3  \n",
       "1               2873             320    《경영의 실제》              7  \n",
       "2                230             460          백성              3  \n",
       "3                992             410          중국              3  \n",
       "4                548             340          4개              4  "
      ]
     },
     "execution_count": 124,
     "metadata": {},
     "output_type": "execute_result"
    }
   ],
   "source": [
    "def extract_answer_text(string):\n",
    "    return string['text'][0]\n",
    "\n",
    "tokenizer = AutoTokenizer.from_pretrained(model_name)\n",
    "train_df['answer_text'] = train_df['answers'].apply(lambda x: extract_answer_text(x))\n",
    "train_df['answer_length'] = train_df['answer_text'].apply(lambda x:len(tokenizer(str(x)).input_ids))\n",
    "\n",
    "valid_df['answer_text'] = valid_df['answers'].apply(lambda x: extract_answer_text(x))\n",
    "valid_df['answer_length'] = valid_df['answer_text'].apply(lambda x:len(tokenizer(str(x)).input_ids))\n",
    "\n",
    "train_df.head(5)"
   ]
  },
  {
   "cell_type": "code",
   "execution_count": 147,
   "id": "8eb48b67",
   "metadata": {},
   "outputs": [
    {
     "data": {
      "text/plain": [
       "[Text(0, 0, '3'),\n",
       " Text(1, 0, '4'),\n",
       " Text(2, 0, '5'),\n",
       " Text(3, 0, '6'),\n",
       " Text(4, 0, '7'),\n",
       " Text(5, 0, '8'),\n",
       " Text(6, 0, '9'),\n",
       " Text(7, 0, '10'),\n",
       " Text(8, 0, '11'),\n",
       " Text(9, 0, '12'),\n",
       " Text(10, 0, '13'),\n",
       " Text(11, 0, '14'),\n",
       " Text(12, 0, '15'),\n",
       " Text(13, 0, '16'),\n",
       " Text(14, 0, '17'),\n",
       " Text(15, 0, '18'),\n",
       " Text(16, 0, '19'),\n",
       " Text(17, 0, '20'),\n",
       " Text(18, 0, '21'),\n",
       " Text(19, 0, '23'),\n",
       " Text(20, 0, '25'),\n",
       " Text(21, 0, '26'),\n",
       " Text(22, 0, '28'),\n",
       " Text(23, 0, '29'),\n",
       " Text(24, 0, '36'),\n",
       " Text(25, 0, '37'),\n",
       " Text(26, 0, '51')]"
      ]
     },
     "execution_count": 147,
     "metadata": {},
     "output_type": "execute_result"
    },
    {
     "data": {
      "image/png": "[encoded data removed]",
      "text/plain": [
       "<Figure size 1040x715 with 1 Axes>"
      ]
     },
     "metadata": {},
     "output_type": "display_data"
    }
   ],
   "source": [
    "# train context 시각화\n",
    "\n",
    "ax = sns.countplot(x=train_df['answer_length'], data=train_df)\n",
    "for p in ax.patches:\n",
    "    ax.annotate(text=format(p.get_height(), '.0f'), \n",
    "                xy=(p.get_x() + p.get_width() / 2., p.get_height()), \n",
    "                ha = 'center', va = 'center', \n",
    "                xytext = (0, 5), \n",
    "                textcoords = 'offset points',\n",
    "                )\n",
    "\n",
    "ax.set_xticklabels(ax.get_xticklabels(), rotation=90)"
   ]
  },
  {
   "cell_type": "code",
   "execution_count": 162,
   "id": "e91bb1b1",
   "metadata": {},
   "outputs": [
    {
     "data": {
      "text/plain": [
       "[Text(0, 0, '3'),\n",
       " Text(1, 0, '4'),\n",
       " Text(2, 0, '5'),\n",
       " Text(3, 0, '6'),\n",
       " Text(4, 0, '7'),\n",
       " Text(5, 0, '8'),\n",
       " Text(6, 0, '9'),\n",
       " Text(7, 0, '10'),\n",
       " Text(8, 0, '11'),\n",
       " Text(9, 0, '12'),\n",
       " Text(10, 0, '13'),\n",
       " Text(11, 0, '14'),\n",
       " Text(12, 0, '15'),\n",
       " Text(13, 0, '17'),\n",
       " Text(14, 0, '18'),\n",
       " Text(15, 0, '19'),\n",
       " Text(16, 0, '21'),\n",
       " Text(17, 0, '22'),\n",
       " Text(18, 0, '32')]"
      ]
     },
     "execution_count": 162,
     "metadata": {},
     "output_type": "execute_result"
    },
    {
     "data": {
      "image/png": "[encoded data removed]",
      "text/plain": [
       "<Figure size 1040x715 with 1 Axes>"
      ]
     },
     "metadata": {},
     "output_type": "display_data"
    }
   ],
   "source": [
    "# valid answer 시각화\n",
    "\n",
    "ax = sns.countplot(x=valid_df['answer_length'], data=valid_df)\n",
    "for p in ax.patches:\n",
    "    ax.annotate(text=format(p.get_height(), '.0f'), \n",
    "                xy=(p.get_x() + p.get_width() / 2., p.get_height()), \n",
    "                ha = 'center', va = 'center', \n",
    "                xytext = (0, 5), \n",
    "                textcoords = 'offset points',\n",
    "                )\n",
    "\n",
    "ax.set_xticklabels(ax.get_xticklabels(), rotation=90)"
   ]
  },
  {
   "cell_type": "code",
   "execution_count": 171,
   "id": "514249d1",
   "metadata": {},
   "outputs": [
    {
     "name": "stdout",
     "output_type": "stream",
     "text": [
      "\n",
      "길이가 4인 answer :  1945년\n",
      "tokenizer 결과:  [2, 12883, 2440, 3] ['[CLS]', '1945', '##년', '[SEP]']\n"
     ]
    }
   ],
   "source": [
    "length_4_test = train_df[train_df['answer_length']==4][\"answer_text\"].tolist()[6]\n",
    "print(\"\\n길이가 4인 answer : \", length_4_test)\n",
    "print(\"tokenizer 결과: \", tokenizer(length_4_test).input_ids, tokenizer.convert_ids_to_tokens(tokenizer(length_4_test).input_ids))"
   ]
  },
  {
   "cell_type": "code",
   "execution_count": 161,
   "id": "38d7f11b",
   "metadata": {},
   "outputs": [
    {
     "name": "stdout",
     "output_type": "stream",
     "text": [
      "가장 긴 answer :  “나는 국경일에 일장기를 게양하는 것을 반대하지 않는다. 왜냐하면 우리가 일본의 통치하에 있는 한 우리는 그 통치의 명령에 복종해야 하기 때문이다.”\n",
      "해당 answer의 길이:  51\n",
      "해당 query:  윤치호가 일부 독립운동 지도자들로부터 비난 받았던 일기의 내용은?\n",
      "\n",
      "두 번째로 긴 answer :  형태에 있어 거의 혹은 전혀 자유가 없어 다양한 번역을 창조해내기가 불가능하고 시구 구조에서도 다른 여지를 찾기 어려운 탓이다.\n",
      "해당 answer의 길이:  37\n",
      "해당 query:  노랫말의 번역이 대구 시구 번역보다 훨씬 제약이 많은 이유는?\n"
     ]
    }
   ],
   "source": [
    "# 가장 짧은 단어 -> \"하원\" -> [CLS] 하원 [SEP]\n",
    "# 그다음 길이의 단어 -> \"다산 정약용\", \"1945년\"\n",
    "# trian에서 가장 긴 단어 확인하기\n",
    "print(\"--- train ---\")\n",
    "print(\"가장 긴 answer : \", train_df.loc[train_df['answer_length'].idxmax(), \"answer_text\"])\n",
    "print(\"해당 answer의 길이: \", train_df.loc[train_df['answer_length'].idxmax(), \"answer_length\"])\n",
    "print(\"해당 query: \", train_df.loc[train_df['answer_length'].idxmax(), \"question\"])\n",
    "\n",
    "print(\"\\n두 번째로 긴 answer : \", train_df[train_df['answer_length']==37][\"answer_text\"].tolist()[0])\n",
    "print(\"해당 answer의 길이: \", train_df.loc[train_df['answer_length']==37, \"answer_length\"].tolist()[0])\n",
    "print(\"해당 query: \", train_df.loc[train_df['answer_length']==37, \"question\"].tolist()[0])\n",
    "\n",
    "print(\"\\n--- valid ---\")\n",
    "print(\"가장 긴 answer : \", train_df.loc[train_df['answer_length'].idxmax(), \"answer_text\"])\n",
    "print(\"해당 answer의 길이: \", train_df.loc[train_df['answer_length'].idxmax(), \"answer_length\"])\n",
    "print(\"해당 query: \", train_df.loc[train_df['answer_length'].idxmax(), \"question\"])\n",
    "\n",
    "print(\"\\n두 번째로 긴 answer : \", train_df[train_df['answer_length']==37][\"answer_text\"].tolist()[0])\n",
    "print(\"해당 answer의 길이: \", train_df.loc[train_df['answer_length']==37, \"answer_length\"].tolist()[0])\n",
    "print(\"해당 query: \", train_df.loc[train_df['answer_length']==37, \"question\"].tolist()[0])"
   ]
  },
  {
   "cell_type": "code",
   "execution_count": null,
   "id": "1f877fda",
   "metadata": {},
   "outputs": [],
   "source": []
  },
  {
   "attachments": {},
   "cell_type": "markdown",
   "id": "1333af22",
   "metadata": {},
   "source": [
    "# 3. context - question의 개수 정도 분포"
   ]
  },
  {
   "cell_type": "code",
   "execution_count": 173,
   "id": "e5cf1acf",
   "metadata": {},
   "outputs": [
    {
     "data": {
      "text/plain": [
       "Index(['title', 'context', 'question', 'id', 'answers', 'document_id',\n",
       "       '__index_level_0__', 'context_length', 'answer_text', 'answer_length'],\n",
       "      dtype='object')"
      ]
     },
     "execution_count": 173,
     "metadata": {},
     "output_type": "execute_result"
    }
   ],
   "source": [
    "train_df.columns"
   ]
  },
  {
   "cell_type": "code",
   "execution_count": 178,
   "id": "55b5a2ea",
   "metadata": {},
   "outputs": [
    {
     "data": {
      "text/plain": [
       "68      1894년 장위영 영관을 지낸 무관이었다. 1896년 명성황후가 일본인 낭인들에게 ...\n",
       "292     하느님이시요 사람이신 그리스도의 시\\n1943년부터 1951년까지 마리아 발토르타는...\n",
       "320     1878년 10월 21일 조선 충청북도 증평에서 태어난 그는 형제로는 독립운동가 연...\n",
       "327     선언형 프로그래밍은 두 가지 뜻으로 통용되고 있다.\\n\\n한 정의에 따르면, 프로그...\n",
       "337     경북 선산에서 태어나 경성부의 중앙고등보통학교를 졸업했다. 화가 이종우에게 수학한 ...\n",
       "                              ...                        \n",
       "3943    진실규명 결정을 받은 김지태의 유가족들은 2010년 6월에야 법원에 정수장학회와 국...\n",
       "3946    628년에 당이 마지막 남은 군벌 세력과 서돌궐을 제거하고 통일하였듯, 당의 성장을...\n",
       "3947    이오의 산\\n이오의 산 목록\\n 이오에는 100~150개의 산이 있다. 이들 산의 ...\n",
       "3950    원어는 고대 그리스어까지 거슬러 올라간다. 영어 문헌에 이 말이 나타나기 시작한 것...\n",
       "3951    2008년 2월 28일 실시된 2008년 함부르크 주의회 선거에서 기민련은 과반수 ...\n",
       "Name: context, Length: 612, dtype: object"
      ]
     },
     "execution_count": 178,
     "metadata": {},
     "output_type": "execute_result"
    }
   ],
   "source": [
    "train_df[train_df.duplicated(subset=['context'])]['context']"
   ]
  },
  {
   "cell_type": "code",
   "execution_count": 189,
   "id": "1778dc50",
   "metadata": {},
   "outputs": [
    {
     "name": "stdout",
     "output_type": "stream",
     "text": [
      "                                                context  \\\n",
      "201   그러나 한편으로는 미국 사회의 인종차별주의적, 흑인을 차별하는 태도를 목격하면서 백...   \n",
      "1426  그러나 한편으로는 미국 사회의 인종차별주의적, 흑인을 차별하는 태도를 목격하면서 백...   \n",
      "1622  그러나 한편으로는 미국 사회의 인종차별주의적, 흑인을 차별하는 태도를 목격하면서 백...   \n",
      "2199  그러나 한편으로는 미국 사회의 인종차별주의적, 흑인을 차별하는 태도를 목격하면서 백...   \n",
      "\n",
      "                                             question  \n",
      "201   평상시 기독교선교사들로부터 차별적 대우를 받은 윤치호가 생각한 미국의 중대한 속성은?  \n",
      "1426                 윤치호가 미국의 특징이 인종주의라고 생각하게 만든 인물은?  \n",
      "1622                 조선에서도 윤치호를 유색 인종이라는 이유로 차별한 사람은?  \n",
      "2199                         윤치호는 누구의 설교를 듣고 충격을 받았나?  \n"
     ]
    }
   ],
   "source": [
    "grouped_df = train_df.groupby(['context'])\n",
    "\n",
    "for context, group in grouped_df:\n",
    "    if len(group) > 3:\n",
    "        print(group[['context', 'question']])\n",
    "    "
   ]
  },
  {
   "cell_type": "code",
   "execution_count": 193,
   "id": "da7460c3",
   "metadata": {},
   "outputs": [
    {
     "name": "stdout",
     "output_type": "stream",
     "text": [
      "2\n",
      "                                               context  \\\n",
      "74   러셀은 1890년 케임브리지 대학교의 트리니티 칼리지에 장학생으로 들어갔다. 그는 ...   \n",
      "231  러셀은 1890년 케임브리지 대학교의 트리니티 칼리지에 장학생으로 들어갔다. 그는 ...   \n",
      "\n",
      "                              question  \n",
      "74                     러셀의 여자 친구의 종교는?  \n",
      "231  러셀은 누구의 가족과 함께 1889년 파리 박람회에 갔는가?  \n",
      "2\n",
      "                                              context  \\\n",
      "6   수를 놓을 때에 사용하는 기법을 문양의 형태에 따라 나누어 보면 선을 잇는 수, 면...   \n",
      "81  수를 놓을 때에 사용하는 기법을 문양의 형태에 따라 나누어 보면 선을 잇는 수, 면...   \n",
      "\n",
      "                                  question  \n",
      "6         징금수는 서양 자수의 어떤 기법과 같은 기술을 사용하는가?  \n",
      "81  수를 놓을 때에 사용하는 기법 중 아주 작은 점으로 표현하는 방식은?  \n",
      "2\n",
      "                                               context  \\\n",
      "129  요나라와의 전연의 맹세에 지불한 것으로 알려진 재물은 비단 20만필, 은 10만량이...   \n",
      "205  요나라와의 전연의 맹세에 지불한 것으로 알려진 재물은 비단 20만필, 은 10만량이...   \n",
      "\n",
      "                            question  \n",
      "129         송나라가 돈을 지불하여 피하고자 했던 것은?  \n",
      "205  송이 금에게 바친 공물은 은 30만량과 비단 몇 필인가?  \n",
      "2\n",
      "                                               context  \\\n",
      "162  태양권계면(Heliopause)은 천문학에서 태양의 태양풍을 성간매질이 멈추게 하는...   \n",
      "189  태양권계면(Heliopause)은 천문학에서 태양의 태양풍을 성간매질이 멈추게 하는...   \n",
      "\n",
      "                                question  \n",
      "162    입자들의 속도가 줄 때, 방출되는 에너지가 만들어내는 것은?  \n",
      "189  태양풍을 멈추게 하는 것과 말단 충격의 틈을 무엇이라 부르는가?  \n",
      "2\n",
      "                                               context  \\\n",
      "73   현재 우리가 볼 수 있는 티칼의 모습은 펜실베이니아 대학교와 과테말라 정부의 협조 ...   \n",
      "236  현재 우리가 볼 수 있는 티칼의 모습은 펜실베이니아 대학교와 과테말라 정부의 협조 ...   \n",
      "\n",
      "                          question  \n",
      "73   돌을 캐고 난 빈 채석장은 어떠한 용도로 이용하였나?  \n",
      "236     공놀이 경기장 중 일부는 어디에 위치하고 있나?  \n"
     ]
    }
   ],
   "source": [
    "grouped_df = valid_df.groupby(['context'])\n",
    "\n",
    "for context, group in grouped_df:\n",
    "    if len(group) > 1:\n",
    "        print(len(group))\n",
    "        print(group[['context', 'question']])\n",
    "        \n",
    "# -> valid같은 경우 context가 중복되는 경우는 단 5건 만 존재한다. 그것도 question이 같은 context에 최대 2개만 존재한다."
   ]
  },
  {
   "cell_type": "code",
   "execution_count": 202,
   "id": "e8fb2db5",
   "metadata": {},
   "outputs": [
    {
     "name": "stdout",
     "output_type": "stream",
     "text": [
      "total duplicated:  612\n"
     ]
    }
   ],
   "source": [
    "print(\"total duplicated: \", len(train_df[train_df.duplicated(subset=['context'])]))\n"
   ]
  },
  {
   "cell_type": "code",
   "execution_count": 180,
   "id": "8b5a9076",
   "metadata": {},
   "outputs": [
    {
     "name": "stdout",
     "output_type": "stream",
     "text": [
      "Count of duplicated 'context' rows with different 'answer' and 'question' values: 1191\n"
     ]
    }
   ],
   "source": [
    "# Count the duplicated 'context' rows with different 'answer' and 'question' values\n",
    "duplicated_context_count = train_df[train_df.duplicated(subset=['context'], keep=False) &\n",
    "                                    ~train_df.duplicated(subset=['context', 'answer_text', 'question'], keep=False)].shape[0]\n",
    "\n",
    "# Print the count\n",
    "print(\"Count of duplicated 'context' rows with different 'answer' and 'question' values:\", duplicated_context_count)\n"
   ]
  },
  {
   "cell_type": "code",
   "execution_count": null,
   "id": "a73fe61a",
   "metadata": {},
   "outputs": [],
   "source": []
  },
  {
   "attachments": {},
   "cell_type": "markdown",
   "id": "3eb0c642",
   "metadata": {},
   "source": [
    "# 4. 추가해볼만한 EDA는...\n",
    "- context-question 자체에서의 TF-IDF 수치 확인하기"
   ]
  },
  {
   "cell_type": "code",
   "execution_count": 215,
   "id": "c59f22a8",
   "metadata": {},
   "outputs": [
    {
     "name": "stdout",
     "output_type": "stream",
     "text": [
      "org train len: 3952, after set: 3340\n"
     ]
    }
   ],
   "source": [
    "from sklearn.feature_extraction.text import TfidfVectorizer\n",
    "# model_name = 'klue/bert-base'\n",
    "# tokenizer = AutoTokenizer.from_pretrained(model_name)\n",
    "tokenizer_func = lambda x: x.split(' ')\n",
    "vectorizer = TfidfVectorizer(tokenizer=tokenizer_func, ngram_range=(1,2))\n",
    "\n",
    "# corpus\n",
    "corpus = list(set([example['context'] for _, example in train_df.iterrows()]))\n",
    "print(f\"org train len: {len(train_df)}, after set: {len(corpus)}\")\n"
   ]
  },
  {
   "cell_type": "code",
   "execution_count": 217,
   "id": "cafdd03b",
   "metadata": {},
   "outputs": [
    {
     "name": "stdout",
     "output_type": "stream",
     "text": [
      "(3340, 842301)\n"
     ]
    }
   ],
   "source": [
    "# TF-IDF training\n",
    "vectorizer.fit(corpus)\n",
    "sp_matrix = vectorizer.transform(corpus)\n",
    "\n",
    "print(sp_matrix.shape)"
   ]
  },
  {
   "cell_type": "code",
   "execution_count": 218,
   "id": "7874103b",
   "metadata": {},
   "outputs": [
    {
     "name": "stdout",
     "output_type": "stream",
     "text": [
      "        TF-IDF\n",
      "밀본이   0.253834\n",
      "병을    0.091478\n",
      "와서    0.085129\n",
      "김유신의  0.084611\n",
      "밀본을   0.084611\n",
      "귀신들을  0.084611\n",
      "인혜는   0.084611\n",
      "거사는   0.084611\n",
      "나았다.  0.080537\n",
      "병은    0.080537\n"
     ]
    }
   ],
   "source": [
    "import pandas as pd\n",
    "df = pd.DataFrame(sp_matrix[0].T.todense(), index=vectorizer.get_feature_names_out(), columns=[\"TF-IDF\"])\n",
    "df = df.sort_values('TF-IDF', ascending=False)\n",
    "print(df.head(10))"
   ]
  },
  {
   "cell_type": "code",
   "execution_count": 233,
   "id": "8be0e788",
   "metadata": {},
   "outputs": [
    {
     "name": "stdout",
     "output_type": "stream",
     "text": [
      "(1, 842301) (1, 842301)   (0, 0)\t0.24035603265897992\n",
      "(1, 842301) (1, 842301) ground truth가 아닌 문서와는: [0.02916644 0.02587913]\n"
     ]
    }
   ],
   "source": [
    "# query 각각을 tf-idf vector로 변환\n",
    "\n",
    "query_test = train_df['question'][1]\n",
    "ground_truth = train_df['context'][1]\n",
    "\n",
    "query_vec = vectorizer.transform([query_test])\n",
    "doc_vec = vectorizer.transform([ground_truth])\n",
    "print(query_vec.shape, doc_vec.shape, query_vec*doc_vec.T)\n",
    "\n",
    "\n",
    "result = query_vec*sp_matrix.T\n",
    "print(query_vec.shape, doc_vec.shape, \"ground truth가 아닌 문서와는:\",result.data[np.argsort(-result.data)][1:3])\n"
   ]
  },
  {
   "cell_type": "code",
   "execution_count": 234,
   "id": "a6de48be",
   "metadata": {},
   "outputs": [],
   "source": [
    "# 음... question이 애초에 context의 단어들을 너무 많이 가져오는 게 아닌가 하는 의심은 어떻게 해야하지?"
   ]
  },
  {
   "cell_type": "code",
   "execution_count": 236,
   "id": "f9466ee5",
   "metadata": {},
   "outputs": [
    {
     "data": {
      "text/plain": [
       "title                                                            미국 상원\n",
       "context              미국 상의원 또는 미국 상원(United States Senate)은 양원제인 미국...\n",
       "question                              대통령을 포함한 미국의 행정부 견제권을 갖는 국가 기관은?\n",
       "id                                                        mrc-1-000067\n",
       "answers                        {'answer_start': [235], 'text': ['하원']}\n",
       "document_id                                                      18293\n",
       "__index_level_0__                                                   42\n",
       "context_length                                                     430\n",
       "answer_text                                                         하원\n",
       "answer_length                                                        3\n",
       "Name: 0, dtype: object"
      ]
     },
     "execution_count": 236,
     "metadata": {},
     "output_type": "execute_result"
    }
   ],
   "source": [
    "train_df.loc[0, :]"
   ]
  },
  {
   "cell_type": "code",
   "execution_count": 241,
   "id": "0601a847",
   "metadata": {},
   "outputs": [
    {
     "data": {
      "text/html": [
       "<div>\n",
       "<style scoped>\n",
       "    .dataframe tbody tr th:only-of-type {\n",
       "        vertical-align: middle;\n",
       "    }\n",
       "\n",
       "    .dataframe tbody tr th {\n",
       "        vertical-align: top;\n",
       "    }\n",
       "\n",
       "    .dataframe thead th {\n",
       "        text-align: right;\n",
       "    }\n",
       "</style>\n",
       "<table border=\"1\" class=\"dataframe\">\n",
       "  <thead>\n",
       "    <tr style=\"text-align: right;\">\n",
       "      <th></th>\n",
       "      <th>title</th>\n",
       "      <th>context</th>\n",
       "      <th>question</th>\n",
       "      <th>id</th>\n",
       "      <th>answers</th>\n",
       "      <th>document_id</th>\n",
       "      <th>__index_level_0__</th>\n",
       "      <th>context_length</th>\n",
       "      <th>answer_text</th>\n",
       "      <th>answer_length</th>\n",
       "      <th>tf_idf_score</th>\n",
       "    </tr>\n",
       "  </thead>\n",
       "  <tbody>\n",
       "    <tr>\n",
       "      <th>0</th>\n",
       "      <td>미국 상원</td>\n",
       "      <td>미국 상의원 또는 미국 상원(United States Senate)은 양원제인 미국...</td>\n",
       "      <td>대통령을 포함한 미국의 행정부 견제권을 갖는 국가 기관은?</td>\n",
       "      <td>mrc-1-000067</td>\n",
       "      <td>{'answer_start': [235], 'text': ['하원']}</td>\n",
       "      <td>18293</td>\n",
       "      <td>42</td>\n",
       "      <td>430</td>\n",
       "      <td>하원</td>\n",
       "      <td>3</td>\n",
       "      <td>(0, 0)\\t0.07221097856687125</td>\n",
       "    </tr>\n",
       "    <tr>\n",
       "      <th>1</th>\n",
       "      <td>인사조직관리</td>\n",
       "      <td>'근대적 경영학' 또는 '고전적 경영학'에서 현대적 경영학으로 전환되는 시기는 19...</td>\n",
       "      <td>현대적 인사조직관리의 시발점이 된 책은?</td>\n",
       "      <td>mrc-0-004397</td>\n",
       "      <td>{'answer_start': [212], 'text': ['《경영의 실제》']}</td>\n",
       "      <td>51638</td>\n",
       "      <td>2873</td>\n",
       "      <td>320</td>\n",
       "      <td>《경영의 실제》</td>\n",
       "      <td>7</td>\n",
       "      <td>(0, 0)\\t0.24035603265897992</td>\n",
       "    </tr>\n",
       "    <tr>\n",
       "      <th>2</th>\n",
       "      <td>강희제</td>\n",
       "      <td>강희제는 강화된 황권으로 거의 황제 중심의 독단적으로 나라를 이끌어 갔기에 자칫 전...</td>\n",
       "      <td>강희제가 1717년에 쓴 글은 누구를 위해 쓰여졌는가?</td>\n",
       "      <td>mrc-1-000362</td>\n",
       "      <td>{'answer_start': [510], 'text': ['백성']}</td>\n",
       "      <td>5028</td>\n",
       "      <td>230</td>\n",
       "      <td>460</td>\n",
       "      <td>백성</td>\n",
       "      <td>3</td>\n",
       "      <td>(0, 0)\\t0.01012734497886054</td>\n",
       "    </tr>\n",
       "    <tr>\n",
       "      <th>3</th>\n",
       "      <td>금동삼존불감</td>\n",
       "      <td>불상을 모시기 위해 나무나 돌, 쇠 등을 깎아 일반적인 건축물보다 작은 규모로 만든...</td>\n",
       "      <td>11~12세기에 제작된 본존불은 보통 어떤 나라의 특징이 전파되었나요?</td>\n",
       "      <td>mrc-0-001510</td>\n",
       "      <td>{'answer_start': [625], 'text': ['중국']}</td>\n",
       "      <td>34146</td>\n",
       "      <td>992</td>\n",
       "      <td>410</td>\n",
       "      <td>중국</td>\n",
       "      <td>3</td>\n",
       "      <td></td>\n",
       "    </tr>\n",
       "  </tbody>\n",
       "</table>\n",
       "</div>"
      ],
      "text/plain": [
       "    title                                            context  \\\n",
       "0   미국 상원  미국 상의원 또는 미국 상원(United States Senate)은 양원제인 미국...   \n",
       "1  인사조직관리  '근대적 경영학' 또는 '고전적 경영학'에서 현대적 경영학으로 전환되는 시기는 19...   \n",
       "2     강희제  강희제는 강화된 황권으로 거의 황제 중심의 독단적으로 나라를 이끌어 갔기에 자칫 전...   \n",
       "3  금동삼존불감  불상을 모시기 위해 나무나 돌, 쇠 등을 깎아 일반적인 건축물보다 작은 규모로 만든...   \n",
       "\n",
       "                                  question            id  \\\n",
       "0         대통령을 포함한 미국의 행정부 견제권을 갖는 국가 기관은?  mrc-1-000067   \n",
       "1                   현대적 인사조직관리의 시발점이 된 책은?  mrc-0-004397   \n",
       "2           강희제가 1717년에 쓴 글은 누구를 위해 쓰여졌는가?  mrc-1-000362   \n",
       "3  11~12세기에 제작된 본존불은 보통 어떤 나라의 특징이 전파되었나요?  mrc-0-001510   \n",
       "\n",
       "                                         answers  document_id  \\\n",
       "0        {'answer_start': [235], 'text': ['하원']}        18293   \n",
       "1  {'answer_start': [212], 'text': ['《경영의 실제》']}        51638   \n",
       "2        {'answer_start': [510], 'text': ['백성']}         5028   \n",
       "3        {'answer_start': [625], 'text': ['중국']}        34146   \n",
       "\n",
       "   __index_level_0__  context_length answer_text  answer_length  \\\n",
       "0                 42             430          하원              3   \n",
       "1               2873             320    《경영의 실제》              7   \n",
       "2                230             460          백성              3   \n",
       "3                992             410          중국              3   \n",
       "\n",
       "                    tf_idf_score  \n",
       "0    (0, 0)\\t0.07221097856687125  \n",
       "1    (0, 0)\\t0.24035603265897992  \n",
       "2    (0, 0)\\t0.01012734497886054  \n",
       "3                                 "
      ]
     },
     "execution_count": 241,
     "metadata": {},
     "output_type": "execute_result"
    }
   ],
   "source": [
    "def cal_tf_idf_score(row):\n",
    "    query_test = row['question']\n",
    "    ground_truth = row['context']\n",
    "\n",
    "    query_vec = vectorizer.transform([query_test])\n",
    "    doc_vec = vectorizer.transform([ground_truth])\n",
    "    \n",
    "    return query_vec*doc_vec.T\n",
    "\n",
    "# 약 30-60초 소요\n",
    "train_df['tf_idf_score'] = train_df.apply(lambda x:cal_tf_idf_score(x), axis=1)\n",
    "train_df.head(4)"
   ]
  },
  {
   "cell_type": "code",
   "execution_count": 268,
   "id": "fca73b33",
   "metadata": {},
   "outputs": [
    {
     "name": "stderr",
     "output_type": "stream",
     "text": [
      "tf_idf 점수 계산중입니다: 3952it [00:34, 113.79it/s]\n"
     ]
    }
   ],
   "source": [
    "from tqdm import tqdm\n",
    "\n",
    "train_df['tf_idf_score'] = [0.0]*len(train_df)\n",
    "for idx, row in tqdm(train_df.iterrows(), desc=\"tf_idf 점수 계산중입니다\"):\n",
    "    # if idx > 5: break\n",
    "    query_test = row['question']\n",
    "    ground_truth = row['context']\n",
    "\n",
    "    query_vec = vectorizer.transform([query_test])\n",
    "    doc_vec = vectorizer.transform([ground_truth])\n",
    "    result = query_vec*doc_vec.T\n",
    "    #print(result.data.shape, result.data[0], result.data.size)\n",
    "    \n",
    "    if result.data.size:\n",
    "        train_df.loc[idx, 'tf_idf_score'] = round(result.data[0], 2)\n",
    "    else:\n",
    "        train_df.loc[idx, 'tf_idf_score'] = 0.0"
   ]
  },
  {
   "cell_type": "code",
   "execution_count": 269,
   "id": "43290b9a",
   "metadata": {},
   "outputs": [
    {
     "data": {
      "text/html": [
       "<div>\n",
       "<style scoped>\n",
       "    .dataframe tbody tr th:only-of-type {\n",
       "        vertical-align: middle;\n",
       "    }\n",
       "\n",
       "    .dataframe tbody tr th {\n",
       "        vertical-align: top;\n",
       "    }\n",
       "\n",
       "    .dataframe thead th {\n",
       "        text-align: right;\n",
       "    }\n",
       "</style>\n",
       "<table border=\"1\" class=\"dataframe\">\n",
       "  <thead>\n",
       "    <tr style=\"text-align: right;\">\n",
       "      <th></th>\n",
       "      <th>title</th>\n",
       "      <th>context</th>\n",
       "      <th>question</th>\n",
       "      <th>id</th>\n",
       "      <th>answers</th>\n",
       "      <th>document_id</th>\n",
       "      <th>__index_level_0__</th>\n",
       "      <th>context_length</th>\n",
       "      <th>answer_text</th>\n",
       "      <th>answer_length</th>\n",
       "      <th>tf_idf_score</th>\n",
       "    </tr>\n",
       "  </thead>\n",
       "  <tbody>\n",
       "    <tr>\n",
       "      <th>0</th>\n",
       "      <td>미국 상원</td>\n",
       "      <td>미국 상의원 또는 미국 상원(United States Senate)은 양원제인 미국...</td>\n",
       "      <td>대통령을 포함한 미국의 행정부 견제권을 갖는 국가 기관은?</td>\n",
       "      <td>mrc-1-000067</td>\n",
       "      <td>{'answer_start': [235], 'text': ['하원']}</td>\n",
       "      <td>18293</td>\n",
       "      <td>42</td>\n",
       "      <td>430</td>\n",
       "      <td>하원</td>\n",
       "      <td>3</td>\n",
       "      <td>0.07</td>\n",
       "    </tr>\n",
       "    <tr>\n",
       "      <th>1</th>\n",
       "      <td>인사조직관리</td>\n",
       "      <td>'근대적 경영학' 또는 '고전적 경영학'에서 현대적 경영학으로 전환되는 시기는 19...</td>\n",
       "      <td>현대적 인사조직관리의 시발점이 된 책은?</td>\n",
       "      <td>mrc-0-004397</td>\n",
       "      <td>{'answer_start': [212], 'text': ['《경영의 실제》']}</td>\n",
       "      <td>51638</td>\n",
       "      <td>2873</td>\n",
       "      <td>320</td>\n",
       "      <td>《경영의 실제》</td>\n",
       "      <td>7</td>\n",
       "      <td>0.24</td>\n",
       "    </tr>\n",
       "    <tr>\n",
       "      <th>2</th>\n",
       "      <td>강희제</td>\n",
       "      <td>강희제는 강화된 황권으로 거의 황제 중심의 독단적으로 나라를 이끌어 갔기에 자칫 전...</td>\n",
       "      <td>강희제가 1717년에 쓴 글은 누구를 위해 쓰여졌는가?</td>\n",
       "      <td>mrc-1-000362</td>\n",
       "      <td>{'answer_start': [510], 'text': ['백성']}</td>\n",
       "      <td>5028</td>\n",
       "      <td>230</td>\n",
       "      <td>460</td>\n",
       "      <td>백성</td>\n",
       "      <td>3</td>\n",
       "      <td>0.01</td>\n",
       "    </tr>\n",
       "    <tr>\n",
       "      <th>3</th>\n",
       "      <td>금동삼존불감</td>\n",
       "      <td>불상을 모시기 위해 나무나 돌, 쇠 등을 깎아 일반적인 건축물보다 작은 규모로 만든...</td>\n",
       "      <td>11~12세기에 제작된 본존불은 보통 어떤 나라의 특징이 전파되었나요?</td>\n",
       "      <td>mrc-0-001510</td>\n",
       "      <td>{'answer_start': [625], 'text': ['중국']}</td>\n",
       "      <td>34146</td>\n",
       "      <td>992</td>\n",
       "      <td>410</td>\n",
       "      <td>중국</td>\n",
       "      <td>3</td>\n",
       "      <td>0.00</td>\n",
       "    </tr>\n",
       "    <tr>\n",
       "      <th>4</th>\n",
       "      <td>계사명 사리구</td>\n",
       "      <td>동아대학교박물관에서 소장하고 있는 계사명 사리구는 총 4개의 용기로 구성된 조선후기...</td>\n",
       "      <td>명문이 적힌 유물을 구성하는 그릇의 총 개수는?</td>\n",
       "      <td>mrc-0-000823</td>\n",
       "      <td>{'answer_start': [30], 'text': ['4개']}</td>\n",
       "      <td>47334</td>\n",
       "      <td>548</td>\n",
       "      <td>340</td>\n",
       "      <td>4개</td>\n",
       "      <td>4</td>\n",
       "      <td>0.06</td>\n",
       "    </tr>\n",
       "  </tbody>\n",
       "</table>\n",
       "</div>"
      ],
      "text/plain": [
       "     title                                            context  \\\n",
       "0    미국 상원  미국 상의원 또는 미국 상원(United States Senate)은 양원제인 미국...   \n",
       "1   인사조직관리  '근대적 경영학' 또는 '고전적 경영학'에서 현대적 경영학으로 전환되는 시기는 19...   \n",
       "2      강희제  강희제는 강화된 황권으로 거의 황제 중심의 독단적으로 나라를 이끌어 갔기에 자칫 전...   \n",
       "3   금동삼존불감  불상을 모시기 위해 나무나 돌, 쇠 등을 깎아 일반적인 건축물보다 작은 규모로 만든...   \n",
       "4  계사명 사리구  동아대학교박물관에서 소장하고 있는 계사명 사리구는 총 4개의 용기로 구성된 조선후기...   \n",
       "\n",
       "                                  question            id  \\\n",
       "0         대통령을 포함한 미국의 행정부 견제권을 갖는 국가 기관은?  mrc-1-000067   \n",
       "1                   현대적 인사조직관리의 시발점이 된 책은?  mrc-0-004397   \n",
       "2           강희제가 1717년에 쓴 글은 누구를 위해 쓰여졌는가?  mrc-1-000362   \n",
       "3  11~12세기에 제작된 본존불은 보통 어떤 나라의 특징이 전파되었나요?  mrc-0-001510   \n",
       "4               명문이 적힌 유물을 구성하는 그릇의 총 개수는?  mrc-0-000823   \n",
       "\n",
       "                                         answers  document_id  \\\n",
       "0        {'answer_start': [235], 'text': ['하원']}        18293   \n",
       "1  {'answer_start': [212], 'text': ['《경영의 실제》']}        51638   \n",
       "2        {'answer_start': [510], 'text': ['백성']}         5028   \n",
       "3        {'answer_start': [625], 'text': ['중국']}        34146   \n",
       "4         {'answer_start': [30], 'text': ['4개']}        47334   \n",
       "\n",
       "   __index_level_0__  context_length answer_text  answer_length  tf_idf_score  \n",
       "0                 42             430          하원              3          0.07  \n",
       "1               2873             320    《경영의 실제》              7          0.24  \n",
       "2                230             460          백성              3          0.01  \n",
       "3                992             410          중국              3          0.00  \n",
       "4                548             340          4개              4          0.06  "
      ]
     },
     "execution_count": 269,
     "metadata": {},
     "output_type": "execute_result"
    }
   ],
   "source": [
    "train_df.head(5)"
   ]
  },
  {
   "cell_type": "code",
   "execution_count": 270,
   "id": "e052da85",
   "metadata": {},
   "outputs": [
    {
     "data": {
      "text/plain": [
       "[Text(0, 0, '0.0'),\n",
       " Text(1, 0, '0.01'),\n",
       " Text(2, 0, '0.02'),\n",
       " Text(3, 0, '0.03'),\n",
       " Text(4, 0, '0.04'),\n",
       " Text(5, 0, '0.05'),\n",
       " Text(6, 0, '0.06'),\n",
       " Text(7, 0, '0.07'),\n",
       " Text(8, 0, '0.08'),\n",
       " Text(9, 0, '0.09'),\n",
       " Text(10, 0, '0.1'),\n",
       " Text(11, 0, '0.11'),\n",
       " Text(12, 0, '0.12'),\n",
       " Text(13, 0, '0.13'),\n",
       " Text(14, 0, '0.14'),\n",
       " Text(15, 0, '0.15'),\n",
       " Text(16, 0, '0.16'),\n",
       " Text(17, 0, '0.17'),\n",
       " Text(18, 0, '0.18'),\n",
       " Text(19, 0, '0.19'),\n",
       " Text(20, 0, '0.2'),\n",
       " Text(21, 0, '0.21'),\n",
       " Text(22, 0, '0.22'),\n",
       " Text(23, 0, '0.23'),\n",
       " Text(24, 0, '0.24'),\n",
       " Text(25, 0, '0.25'),\n",
       " Text(26, 0, '0.26'),\n",
       " Text(27, 0, '0.27'),\n",
       " Text(28, 0, '0.28'),\n",
       " Text(29, 0, '0.29'),\n",
       " Text(30, 0, '0.3'),\n",
       " Text(31, 0, '0.31'),\n",
       " Text(32, 0, '0.32'),\n",
       " Text(33, 0, '0.33'),\n",
       " Text(34, 0, '0.34'),\n",
       " Text(35, 0, '0.35'),\n",
       " Text(36, 0, '0.36'),\n",
       " Text(37, 0, '0.37'),\n",
       " Text(38, 0, '0.38'),\n",
       " Text(39, 0, '0.4'),\n",
       " Text(40, 0, '0.41'),\n",
       " Text(41, 0, '0.42'),\n",
       " Text(42, 0, '0.43'),\n",
       " Text(43, 0, '0.44'),\n",
       " Text(44, 0, '0.46'),\n",
       " Text(45, 0, '0.47'),\n",
       " Text(46, 0, '0.52'),\n",
       " Text(47, 0, '0.6')]"
      ]
     },
     "execution_count": 270,
     "metadata": {},
     "output_type": "execute_result"
    },
    {
     "data": {
      "image/png": "[encoded data removed]",
      "text/plain": [
       "<Figure size 1040x715 with 1 Axes>"
      ]
     },
     "metadata": {},
     "output_type": "display_data"
    }
   ],
   "source": [
    "# train tf idf 시각화\n",
    "\n",
    "ax = sns.countplot(x=train_df['tf_idf_score'], data=train_df)\n",
    "for p in ax.patches:\n",
    "    ax.annotate(text=format(p.get_height(), '.0f'), \n",
    "                xy=(p.get_x() + p.get_width() / 2., p.get_height()), \n",
    "                ha = 'center', va = 'center', \n",
    "                xytext = (0, 5), \n",
    "                textcoords = 'offset points',\n",
    "                )\n",
    "\n",
    "ax.set_xticklabels(ax.get_xticklabels(), rotation=90)"
   ]
  },
  {
   "cell_type": "code",
   "execution_count": 281,
   "id": "cfcd3b67",
   "metadata": {},
   "outputs": [],
   "source": [
    "model_name = 'klue/bert-base'\n",
    "tokenizer = AutoTokenizer.from_pretrained(model_name)\n",
    "\n",
    "train_df['question_length'] = train_df['question'].apply(lambda x:context_length(tokenizer, x))"
   ]
  },
  {
   "cell_type": "code",
   "execution_count": 282,
   "id": "60b4f0a8",
   "metadata": {},
   "outputs": [
    {
     "data": {
      "text/html": [
       "<div>\n",
       "<style scoped>\n",
       "    .dataframe tbody tr th:only-of-type {\n",
       "        vertical-align: middle;\n",
       "    }\n",
       "\n",
       "    .dataframe tbody tr th {\n",
       "        vertical-align: top;\n",
       "    }\n",
       "\n",
       "    .dataframe thead th {\n",
       "        text-align: right;\n",
       "    }\n",
       "</style>\n",
       "<table border=\"1\" class=\"dataframe\">\n",
       "  <thead>\n",
       "    <tr style=\"text-align: right;\">\n",
       "      <th></th>\n",
       "      <th>context</th>\n",
       "      <th>question</th>\n",
       "      <th>question_length</th>\n",
       "    </tr>\n",
       "  </thead>\n",
       "  <tbody>\n",
       "    <tr>\n",
       "      <th>946</th>\n",
       "      <td>스페인은 피레네 산맥, 시스테마 센트럴 산맥, 세스테마 이베리코 산맥, 시에라 네바...</td>\n",
       "      <td>시에라 네바다 산맥에서 할 수 있는 스포츠는?</td>\n",
       "      <td>10</td>\n",
       "    </tr>\n",
       "    <tr>\n",
       "      <th>2956</th>\n",
       "      <td>제파 디 미노는 시에나에 사는 매우 유복한 평민이었다. 그에게는 항상 친하게 지내는...</td>\n",
       "      <td>제파 디 미노는 친구의 아내에게 함께 복수하기를 부탁하며 무엇을 건네었나?</td>\n",
       "      <td>20</td>\n",
       "    </tr>\n",
       "  </tbody>\n",
       "</table>\n",
       "</div>"
      ],
      "text/plain": [
       "                                                context  \\\n",
       "946   스페인은 피레네 산맥, 시스테마 센트럴 산맥, 세스테마 이베리코 산맥, 시에라 네바...   \n",
       "2956  제파 디 미노는 시에나에 사는 매우 유복한 평민이었다. 그에게는 항상 친하게 지내는...   \n",
       "\n",
       "                                       question  question_length  \n",
       "946                   시에라 네바다 산맥에서 할 수 있는 스포츠는?               10  \n",
       "2956  제파 디 미노는 친구의 아내에게 함께 복수하기를 부탁하며 무엇을 건네었나?               20  "
      ]
     },
     "execution_count": 282,
     "metadata": {},
     "output_type": "execute_result"
    }
   ],
   "source": [
    "train_df[train_df['tf_idf_score'] > 0.5][['context', 'question', 'question_length']]"
   ]
  },
  {
   "cell_type": "code",
   "execution_count": 280,
   "id": "7ba6f9ab",
   "metadata": {},
   "outputs": [
    {
     "data": {
      "text/plain": [
       "Index(['title', 'context', 'question', 'id', 'answers', 'document_id',\n",
       "       '__index_level_0__', 'context_length', 'answer_text', 'answer_length',\n",
       "       'tf_idf_score'],\n",
       "      dtype='object')"
      ]
     },
     "execution_count": 280,
     "metadata": {},
     "output_type": "execute_result"
    }
   ],
   "source": [
    "# question 길이가 짧아서 많이 매칭된다고 볼 수 있으려나? 이것도 좀 봐야겠다."
   ]
  },
  {
   "cell_type": "code",
   "execution_count": 289,
   "id": "005c2a81",
   "metadata": {},
   "outputs": [
    {
     "name": "stdout",
     "output_type": "stream",
     "text": [
      "('스페인은 피레네 산맥, 시스테마 센트럴 산맥, 세스테마 이베리코 산맥, 시에라 네바다 산맥을 포함하여 전국의 여러 지역에 유명 스키장이 '\n",
      " '있는 일반적인 산악국가이다. 대부분의 경우, 주요 산마루는 프랑스와 스페인 사이의 국경을 형성하며, 그 사이에 안도라라는 작은 국가가 '\n",
      " '존재한다. 아라곤 연합왕국과 나바라 왕국은 역사적으로 산맥의 양쪽으로 확장되어 왔는데, 북쪽의 작은 부분은 현재 프랑스의 영토이고, '\n",
      " '대다수의 남쪽 부분은 현재 스페인의 영토이다. \\\\n\\\\n스페인의 시에라 네바다 산맥은 인기있는 관광지로 산맥의 높은 봉우리로 인해 '\n",
      " '유럽의 가장 남쪽에서 스키를 즐길 수 있는 스키장이 있으며, 온난한 기후와 풍부한 햇빛으로 유명한 지중해 연안 지역과 인접해 있다. '\n",
      " '시에라 네바다 산맥의 산기슭에는 그라나다가 있고, 조금 더 멀리에는 알메리아와 말라가가 있다.\\\\n\\\\n시에라 네바다 산맥의 일부는 '\n",
      " '시에라 네바다 국립공원에 포함되어 있다. 또한 시에라 네바다 산맥은 생물권 보호지역으로 지정되어 있다. 시에라 네바다 천문대는 해발 '\n",
      " '2,800 m 높이의 북쪽 경사면에 위치하고 있다. 시에라 네바다 산맥은 동쪽으로는 유럽 알프스 산맥을 형성하고, 남쪽으로는 지중해를 '\n",
      " '가로질러 북아프리카의 아틀라스 산맥을 형성한 알파인 조산 운동을 통해 형성되었다. 오늘날 관찰되는 시에라 네바다 산맥은 아프리카와 '\n",
      " '유라시아 대륙판의 충돌로 인해 고제3기와 신제3기(66~180만년 전) 동안에 형성되었다.')\n",
      "시에라 네바다 산맥에서 할 수 있는 스포츠는? {'answer_start': [309], 'text': ['스키']}\n",
      "0.52\n"
     ]
    }
   ],
   "source": [
    "pprint(train_df.loc[946, 'context'])\n",
    "print(train_df.loc[946, 'question'], train_df.loc[946, 'answers'])\n",
    "print(train_df.loc[946, 'tf_idf_score'])"
   ]
  },
  {
   "cell_type": "code",
   "execution_count": 288,
   "id": "5c572573",
   "metadata": {},
   "outputs": [
    {
     "name": "stdout",
     "output_type": "stream",
     "text": [
      "('제파 디 미노는 시에나에 사는 매우 유복한 평민이었다. 그에게는 항상 친하게 지내는 친구가 있었는데, 그 친구가 집을 자주 드나드는 동안 '\n",
      " '그만 그 친구와 제파 디 미노의 아내가 바람이 나고 말았다. 제파 디 미노는 그 사실을 알게 되어, 친구에게 복수할 꾀를 '\n",
      " '낸다.\\\\n\\\\n제파 디 미노는 자신의 아내에게 죄를 물어서 아내가 자신의 말을 고분고분히 듣게 한 후에, 아내가 친구를 속이도록 해서 '\n",
      " '친구를 상자 속에 갇히도록 한다. 그리고, 제파 디 미노는 친구의 아내를 끌어 들여, 친구가 갇힌 상자 바로 앞에서, 이 모든 사실들을 '\n",
      " '다 친구의 아내에게 말하고, 친구의 아내에게 보석을 줄테니 복수를 위해 같은 일을 하지 않겠냐고 한다. 그리하여 친구의 아내와 제파 디 '\n",
      " '미노는 바로 친구가 갇혀 있는 그 상자 위에서 서로 어루만지며 즐기게 된다.\\\\n\\\\n제파 디 미노는 마지막에 친구를 상자에서 꺼내 '\n",
      " '준다. 친구는 상자에서 자신의 아내가 제파 디 미노와 놀아나는 것을 생생하게 느꼈으므로, 크게 부끄러움을 느끼고 자신의 죄를 반성하였다. '\n",
      " '이후 두 사람의 우정은 회복되었고, 친구의 제안에 따라 두 사람은 서로 아내들을 공유하여, 두 아내와 두 남편이 서로 자유롭게 상대를 '\n",
      " '바꾸며 지내는 사이가 된다.')\n",
      "제파 디 미노는 친구의 아내에게 함께 복수하기를 부탁하며 무엇을 건네었나? {'answer_start': [320], 'text': ['보석']}\n",
      "0.6\n"
     ]
    }
   ],
   "source": [
    "pprint(train_df.loc[2956, 'context'])\n",
    "print(train_df.loc[2956, 'question'], train_df.loc[2956, 'answers'])\n",
    "print(train_df.loc[2956, 'tf_idf_score'])\n",
    "# 아 이건 도대체 무슨 글인가요;"
   ]
  },
  {
   "cell_type": "code",
   "execution_count": 291,
   "id": "88c10ef4",
   "metadata": {},
   "outputs": [
    {
     "name": "stderr",
     "output_type": "stream",
     "text": [
      "tf_idf 점수 계산중입니다: 240it [00:02, 104.12it/s]\n"
     ]
    },
    {
     "data": {
      "text/plain": [
       "[Text(0, 0, '0.0'),\n",
       " Text(1, 0, '0.01'),\n",
       " Text(2, 0, '0.02'),\n",
       " Text(3, 0, '0.03'),\n",
       " Text(4, 0, '0.04'),\n",
       " Text(5, 0, '0.05'),\n",
       " Text(6, 0, '0.06'),\n",
       " Text(7, 0, '0.07'),\n",
       " Text(8, 0, '0.08'),\n",
       " Text(9, 0, '0.09'),\n",
       " Text(10, 0, '0.1'),\n",
       " Text(11, 0, '0.11'),\n",
       " Text(12, 0, '0.12'),\n",
       " Text(13, 0, '0.13'),\n",
       " Text(14, 0, '0.14'),\n",
       " Text(15, 0, '0.15'),\n",
       " Text(16, 0, '0.16'),\n",
       " Text(17, 0, '0.17'),\n",
       " Text(18, 0, '0.18'),\n",
       " Text(19, 0, '0.19'),\n",
       " Text(20, 0, '0.2'),\n",
       " Text(21, 0, '0.21'),\n",
       " Text(22, 0, '0.22'),\n",
       " Text(23, 0, '0.23'),\n",
       " Text(24, 0, '0.24'),\n",
       " Text(25, 0, '0.28'),\n",
       " Text(26, 0, '0.29'),\n",
       " Text(27, 0, '0.3'),\n",
       " Text(28, 0, '0.31'),\n",
       " Text(29, 0, '0.33'),\n",
       " Text(30, 0, '0.34'),\n",
       " Text(31, 0, '0.35'),\n",
       " Text(32, 0, '0.37'),\n",
       " Text(33, 0, '0.38'),\n",
       " Text(34, 0, '0.4')]"
      ]
     },
     "execution_count": 291,
     "metadata": {},
     "output_type": "execute_result"
    },
    {
     "data": {
      "image/png": "[encoded data removed]",
      "text/plain": [
       "<Figure size 1040x715 with 1 Axes>"
      ]
     },
     "metadata": {},
     "output_type": "display_data"
    }
   ],
   "source": [
    "## valid 에 대해서도 확인해보기\n",
    "\n",
    "from tqdm import tqdm\n",
    "\n",
    "valid_df['tf_idf_score'] = [0.0]*len(valid_df)\n",
    "for idx, row in tqdm(valid_df.iterrows(), desc=\"tf_idf 점수 계산중입니다\"):\n",
    "    # if idx > 5: break\n",
    "    query_test = row['question']\n",
    "    ground_truth = row['context']\n",
    "\n",
    "    query_vec = vectorizer.transform([query_test])\n",
    "    doc_vec = vectorizer.transform([ground_truth])\n",
    "    result = query_vec*doc_vec.T\n",
    "    #print(result.data.shape, result.data[0], result.data.size)\n",
    "    \n",
    "    if result.data.size:\n",
    "        valid_df.loc[idx, 'tf_idf_score'] = round(result.data[0], 2)\n",
    "    else:\n",
    "        valid_df.loc[idx, 'tf_idf_score'] = 0.0\n",
    "        \n",
    "# train tf idf 시각화\n",
    "\n",
    "ax = sns.countplot(x=valid_df['tf_idf_score'], data=valid_df)\n",
    "for p in ax.patches:\n",
    "    ax.annotate(text=format(p.get_height(), '.0f'), \n",
    "                xy=(p.get_x() + p.get_width() / 2., p.get_height()), \n",
    "                ha = 'center', va = 'center', \n",
    "                xytext = (0, 5), \n",
    "                textcoords = 'offset points',\n",
    "                )\n",
    "\n",
    "ax.set_xticklabels(ax.get_xticklabels(), rotation=90)"
   ]
  },
  {
   "cell_type": "code",
   "execution_count": null,
   "id": "6dc17752",
   "metadata": {},
   "outputs": [],
   "source": []
  }
 ],
 "metadata": {
  "kernelspec": {
   "display_name": "Python 3 (ipykernel)",
   "language": "python",
   "name": "python3"
  },
  "language_info": {
   "codemirror_mode": {
    "name": "ipython",
    "version": 3
   },
   "file_extension": ".py",
   "mimetype": "text/x-python",
   "name": "python",
   "nbconvert_exporter": "python",
   "pygments_lexer": "ipython3",
   "version": "3.9.13"
  },
  "toc": {
   "base_numbering": 1,
   "nav_menu": {},
   "number_sections": true,
   "sideBar": true,
   "skip_h1_title": false,
   "title_cell": "Table of Contents",
   "title_sidebar": "Contents",
   "toc_cell": false,
   "toc_position": {},
   "toc_section_display": true,
   "toc_window_display": false
  }
 },
 "nbformat": 4,
 "nbformat_minor": 5
}
