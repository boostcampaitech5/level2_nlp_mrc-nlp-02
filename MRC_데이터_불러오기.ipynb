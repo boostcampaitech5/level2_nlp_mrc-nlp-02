{
 "cells": [
  {
   "cell_type": "code",
   "execution_count": 7,
   "id": "460fa429",
   "metadata": {
    "ExecuteTime": {
     "end_time": "2023-06-07T11:58:58.426467Z",
     "start_time": "2023-06-07T11:58:51.598266Z"
    }
   },
   "outputs": [
    {
     "name": "stderr",
     "output_type": "stream",
     "text": [
      "/tmp/ipykernel_3744/986316748.py:7: MatplotlibDeprecationWarning: The seaborn styles shipped by Matplotlib are deprecated since 3.6, as they no longer correspond to the styles shipped by seaborn. However, they will remain available as 'seaborn-v0_8-<style>'. Alternatively, directly use the seaborn API instead.\n",
      "  plt.style.use('seaborn')\n",
      "/tmp/ipykernel_3744/986316748.py:10: MatplotlibDeprecationWarning: The seaborn styles shipped by Matplotlib are deprecated since 3.6, as they no longer correspond to the styles shipped by seaborn. However, they will remain available as 'seaborn-v0_8-<style>'. Alternatively, directly use the seaborn API instead.\n",
      "  style.use(\"seaborn-talk\")\n"
     ]
    }
   ],
   "source": [
    "import numpy as np\n",
    "import pandas as pd\n",
    "import matplotlib.pyplot as plt\n",
    "import seaborn as sns\n",
    "import matplotlib.style as style\n",
    "\n",
    "plt.style.use('seaborn')\n",
    "from matplotlib import rc, font_manager\n",
    "style.use(\"fivethirtyeight\")\n",
    "style.use(\"seaborn-talk\")\n",
    "plt.rcParams['font.family'] = 'serif'\n",
    "\n",
    "import pickle\n",
    "import os\n",
    "import re\n",
    "import json\n",
    "\n",
    "from ast import literal_eval\n",
    "\n",
    "import warnings\n",
    "warnings.filterwarnings('ignore')\n",
    "\n",
    "import matplotlib\n",
    "# matplotlib.rcParams['font.family'] ='Malgun Gothic'\n",
    "# matplotlib.rcParams['axes.unicode_minus'] =False"
   ]
  },
  {
   "cell_type": "markdown",
   "id": "3d235ed1",
   "metadata": {},
   "source": [
    "# wiki"
   ]
  },
  {
   "cell_type": "code",
   "execution_count": 8,
   "id": "729480e1",
   "metadata": {
    "ExecuteTime": {
     "end_time": "2023-06-07T11:59:00.305250Z",
     "start_time": "2023-06-07T11:58:58.427246Z"
    }
   },
   "outputs": [
    {
     "data": {
      "text/plain": [
       "dict_keys(['text', 'corpus_source', 'url', 'domain', 'title', 'author', 'html', 'document_id'])"
      ]
     },
     "execution_count": 8,
     "metadata": {},
     "output_type": "execute_result"
    }
   ],
   "source": [
    "with open(os.path.join(\"./input/data/wikipedia_documents.json\"), \"r\", encoding=\"utf-8\") as f:\n",
    "    wiki = json.load(f)\n",
    "wiki['0'].keys()"
   ]
  },
  {
   "cell_type": "code",
   "execution_count": 9,
   "id": "d7679862",
   "metadata": {
    "ExecuteTime": {
     "end_time": "2023-06-07T11:59:02.911395Z",
     "start_time": "2023-06-07T11:59:00.305250Z"
    }
   },
   "outputs": [
    {
     "data": {
      "text/html": [
       "<div>\n",
       "<style scoped>\n",
       "    .dataframe tbody tr th:only-of-type {\n",
       "        vertical-align: middle;\n",
       "    }\n",
       "\n",
       "    .dataframe tbody tr th {\n",
       "        vertical-align: top;\n",
       "    }\n",
       "\n",
       "    .dataframe thead th {\n",
       "        text-align: right;\n",
       "    }\n",
       "</style>\n",
       "<table border=\"1\" class=\"dataframe\">\n",
       "  <thead>\n",
       "    <tr style=\"text-align: right;\">\n",
       "      <th></th>\n",
       "      <th>text</th>\n",
       "      <th>corpus_source</th>\n",
       "      <th>url</th>\n",
       "      <th>domain</th>\n",
       "      <th>title</th>\n",
       "      <th>author</th>\n",
       "      <th>html</th>\n",
       "      <th>document_id</th>\n",
       "    </tr>\n",
       "  </thead>\n",
       "  <tbody>\n",
       "    <tr>\n",
       "      <th>0</th>\n",
       "      <td>이 문서는 나라 목록이며, 전 세계 206개 나라의 각 현황과 주권 승인 정보를 개...</td>\n",
       "      <td>위키피디아</td>\n",
       "      <td>TODO</td>\n",
       "      <td>None</td>\n",
       "      <td>나라 목록</td>\n",
       "      <td>None</td>\n",
       "      <td>None</td>\n",
       "      <td>0</td>\n",
       "    </tr>\n",
       "    <tr>\n",
       "      <th>1</th>\n",
       "      <td>이 목록에 실린 국가 기준은 1933년 몬테비데오 협약 1장을 참고로 하였다. 협정...</td>\n",
       "      <td>위키피디아</td>\n",
       "      <td>TODO</td>\n",
       "      <td>None</td>\n",
       "      <td>나라 목록</td>\n",
       "      <td>None</td>\n",
       "      <td>None</td>\n",
       "      <td>1</td>\n",
       "    </tr>\n",
       "    <tr>\n",
       "      <th>2</th>\n",
       "      <td>현 서울특별시 종로구 서린동 (구 일제 강점기 경기도 경성부 서린정) 출신이다. 친...</td>\n",
       "      <td>위키피디아</td>\n",
       "      <td>TODO</td>\n",
       "      <td>None</td>\n",
       "      <td>백남준</td>\n",
       "      <td>None</td>\n",
       "      <td>None</td>\n",
       "      <td>2</td>\n",
       "    </tr>\n",
       "    <tr>\n",
       "      <th>3</th>\n",
       "      <td>아오조라 문고(靑空文庫, あおぞらぶんこ|아오조라 분고)는 ‘일본어판 구텐베르크 프로...</td>\n",
       "      <td>위키피디아</td>\n",
       "      <td>TODO</td>\n",
       "      <td>None</td>\n",
       "      <td>아오조라 문고</td>\n",
       "      <td>None</td>\n",
       "      <td>None</td>\n",
       "      <td>3</td>\n",
       "    </tr>\n",
       "    <tr>\n",
       "      <th>4</th>\n",
       "      <td>저자 사망 이후 50년이 지나 저작권이 소멸한 메이지 시대부터 쇼와 시대 초기까지의...</td>\n",
       "      <td>위키피디아</td>\n",
       "      <td>TODO</td>\n",
       "      <td>None</td>\n",
       "      <td>아오조라 문고</td>\n",
       "      <td>None</td>\n",
       "      <td>None</td>\n",
       "      <td>4</td>\n",
       "    </tr>\n",
       "  </tbody>\n",
       "</table>\n",
       "</div>"
      ],
      "text/plain": [
       "                                                text corpus_source   url  \\\n",
       "0  이 문서는 나라 목록이며, 전 세계 206개 나라의 각 현황과 주권 승인 정보를 개...         위키피디아  TODO   \n",
       "1  이 목록에 실린 국가 기준은 1933년 몬테비데오 협약 1장을 참고로 하였다. 협정...         위키피디아  TODO   \n",
       "2  현 서울특별시 종로구 서린동 (구 일제 강점기 경기도 경성부 서린정) 출신이다. 친...         위키피디아  TODO   \n",
       "3  아오조라 문고(靑空文庫, あおぞらぶんこ|아오조라 분고)는 ‘일본어판 구텐베르크 프로...         위키피디아  TODO   \n",
       "4  저자 사망 이후 50년이 지나 저작권이 소멸한 메이지 시대부터 쇼와 시대 초기까지의...         위키피디아  TODO   \n",
       "\n",
       "  domain    title author  html document_id  \n",
       "0   None    나라 목록   None  None           0  \n",
       "1   None    나라 목록   None  None           1  \n",
       "2   None      백남준   None  None           2  \n",
       "3   None  아오조라 문고   None  None           3  \n",
       "4   None  아오조라 문고   None  None           4  "
      ]
     },
     "execution_count": 9,
     "metadata": {},
     "output_type": "execute_result"
    }
   ],
   "source": [
    "wiki = pd.DataFrame(wiki).T\n",
    "wiki.head()"
   ]
  },
  {
   "cell_type": "code",
   "execution_count": 6,
   "id": "c1a694fd",
   "metadata": {
    "ExecuteTime": {
     "end_time": "2023-06-07T11:59:02.926687Z",
     "start_time": "2023-06-07T11:59:02.914944Z"
    }
   },
   "outputs": [
    {
     "data": {
      "text/plain": [
       "60613"
      ]
     },
     "execution_count": 6,
     "metadata": {},
     "output_type": "execute_result"
    }
   ],
   "source": [
    "len(wiki)"
   ]
  },
  {
   "cell_type": "code",
   "execution_count": 10,
   "id": "a72241dc",
   "metadata": {},
   "outputs": [
    {
     "name": "stdout",
     "output_type": "stream",
     "text": [
      "corpus_source\n",
      "위키피디아    60613\n",
      "Name: count, dtype: int64\n",
      "url\n",
      "TODO    4554\n",
      "Name: count, dtype: int64\n",
      "Series([], Name: count, dtype: int64)\n",
      "title\n",
      "장면            146\n",
      "윤치호           144\n",
      "여운형            96\n",
      "데카메론의 줄거리      68\n",
      "루트비히 판 베토벤     66\n",
      "             ... \n",
      "이성보             1\n",
      "혼합 경제           1\n",
      "꼬리기름상어          1\n",
      "얼 클루            1\n",
      "Weiß            1\n",
      "Name: count, Length: 31755, dtype: int64\n",
      "Series([], Name: count, dtype: int64)\n",
      "Series([], Name: count, dtype: int64)\n",
      "document_id\n",
      "0        1\n",
      "40414    1\n",
      "40402    1\n",
      "40403    1\n",
      "40404    1\n",
      "        ..\n",
      "20208    1\n",
      "20209    1\n",
      "20210    1\n",
      "20211    1\n",
      "60612    1\n",
      "Name: count, Length: 60613, dtype: int64\n"
     ]
    }
   ],
   "source": [
    "for col_names in ['corpus_source', 'url', 'domain', 'title', 'author', 'html', 'document_id']:\n",
    "    print(wiki[col_names].value_counts())"
   ]
  },
  {
   "cell_type": "markdown",
   "id": "a3e0a9c6",
   "metadata": {},
   "source": [
    "# train/valid"
   ]
  },
  {
   "cell_type": "code",
   "execution_count": 11,
   "id": "4fb39cea",
   "metadata": {
    "ExecuteTime": {
     "end_time": "2023-06-07T11:59:05.061929Z",
     "start_time": "2023-06-07T11:59:02.944405Z"
    }
   },
   "outputs": [],
   "source": [
    "# train_dataset을 불러오고 싶은 경우\n",
    "from datasets import load_from_disk\n",
    "train_dataset = load_from_disk(\"./input/data/train_dataset/\")"
   ]
  },
  {
   "cell_type": "code",
   "execution_count": 12,
   "id": "1bc57141",
   "metadata": {
    "ExecuteTime": {
     "end_time": "2023-06-07T11:59:05.079350Z",
     "start_time": "2023-06-07T11:59:05.065057Z"
    }
   },
   "outputs": [
    {
     "data": {
      "text/plain": [
       "DatasetDict({\n",
       "    train: Dataset({\n",
       "        features: ['title', 'context', 'question', 'id', 'answers', 'document_id', '__index_level_0__'],\n",
       "        num_rows: 3952\n",
       "    })\n",
       "    validation: Dataset({\n",
       "        features: ['title', 'context', 'question', 'id', 'answers', 'document_id', '__index_level_0__'],\n",
       "        num_rows: 240\n",
       "    })\n",
       "})"
      ]
     },
     "execution_count": 12,
     "metadata": {},
     "output_type": "execute_result"
    }
   ],
   "source": [
    "train_dataset"
   ]
  },
  {
   "cell_type": "markdown",
   "id": "89adee28",
   "metadata": {},
   "source": [
    "- id: 질문의 고유 id\n",
    "- question: 질문\n",
    "- answers: 답변에 대한 정보. 하나의 질문에 하나의 답변만 존재함\n",
    "    - answer_start : 답변의 시작 위치\n",
    "    - text: 답변의 텍스트\n",
    "- context: 답변이 포함된 문서\n",
    "- title: 문서의 제목\n",
    "- document_id: 문서의 고유 id"
   ]
  },
  {
   "cell_type": "code",
   "execution_count": 13,
   "id": "458a38ed",
   "metadata": {
    "ExecuteTime": {
     "end_time": "2023-06-07T11:59:05.309740Z",
     "start_time": "2023-06-07T11:59:05.082371Z"
    }
   },
   "outputs": [],
   "source": [
    "train=pd.DataFrame({'title':train_dataset['train']['title'], 'context':train_dataset['train']['context'], 'question':train_dataset['train']['question'], 'id':train_dataset['train']['id'], 'answers':train_dataset['train']['answers'], 'document_id':train_dataset['train']['document_id'], '__index_level_0__':train_dataset['train']['__index_level_0__']})\n",
    "valid=pd.DataFrame({'title':train_dataset['validation']['title'], 'context':train_dataset['validation']['context'], 'question':train_dataset['validation']['question'], 'id':train_dataset['validation']['id'], 'answers':train_dataset['validation']['answers'], 'document_id':train_dataset['validation']['document_id'], '__index_level_0__':train_dataset['validation']['__index_level_0__']})"
   ]
  },
  {
   "cell_type": "code",
   "execution_count": 14,
   "id": "5d1800b4",
   "metadata": {
    "ExecuteTime": {
     "end_time": "2023-06-07T11:59:05.325416Z",
     "start_time": "2023-06-07T11:59:05.312591Z"
    }
   },
   "outputs": [
    {
     "data": {
      "text/plain": [
       "3952"
      ]
     },
     "execution_count": 14,
     "metadata": {},
     "output_type": "execute_result"
    }
   ],
   "source": [
    "len(train)"
   ]
  },
  {
   "cell_type": "code",
   "execution_count": 15,
   "id": "fabfb07f",
   "metadata": {
    "ExecuteTime": {
     "end_time": "2023-06-07T11:59:05.341156Z",
     "start_time": "2023-06-07T11:59:05.325416Z"
    }
   },
   "outputs": [
    {
     "data": {
      "text/plain": [
       "240"
      ]
     },
     "execution_count": 15,
     "metadata": {},
     "output_type": "execute_result"
    }
   ],
   "source": [
    "len(valid)"
   ]
  },
  {
   "cell_type": "code",
   "execution_count": 16,
   "id": "c6b395e7",
   "metadata": {
    "ExecuteTime": {
     "end_time": "2023-06-07T11:59:05.362906Z",
     "start_time": "2023-06-07T11:59:05.341156Z"
    }
   },
   "outputs": [
    {
     "data": {
      "text/plain": [
       "Index(['title', 'context', 'question', 'id', 'answers', 'document_id',\n",
       "       '__index_level_0__'],\n",
       "      dtype='object')"
      ]
     },
     "execution_count": 16,
     "metadata": {},
     "output_type": "execute_result"
    }
   ],
   "source": [
    "train.columns"
   ]
  },
  {
   "cell_type": "code",
   "execution_count": 17,
   "id": "20c56c47",
   "metadata": {
    "ExecuteTime": {
     "end_time": "2023-06-07T11:59:05.381060Z",
     "start_time": "2023-06-07T11:59:05.365933Z"
    }
   },
   "outputs": [
    {
     "data": {
      "text/plain": [
       "Index(['title', 'context', 'question', 'id', 'answers', 'document_id',\n",
       "       '__index_level_0__'],\n",
       "      dtype='object')"
      ]
     },
     "execution_count": 17,
     "metadata": {},
     "output_type": "execute_result"
    }
   ],
   "source": [
    "valid.columns"
   ]
  },
  {
   "cell_type": "code",
   "execution_count": 18,
   "id": "0b0922b5",
   "metadata": {
    "ExecuteTime": {
     "end_time": "2023-06-07T11:59:05.541668Z",
     "start_time": "2023-06-07T11:59:05.499300Z"
    }
   },
   "outputs": [
    {
     "data": {
      "text/html": [
       "<div>\n",
       "<style scoped>\n",
       "    .dataframe tbody tr th:only-of-type {\n",
       "        vertical-align: middle;\n",
       "    }\n",
       "\n",
       "    .dataframe tbody tr th {\n",
       "        vertical-align: top;\n",
       "    }\n",
       "\n",
       "    .dataframe thead th {\n",
       "        text-align: right;\n",
       "    }\n",
       "</style>\n",
       "<table border=\"1\" class=\"dataframe\">\n",
       "  <thead>\n",
       "    <tr style=\"text-align: right;\">\n",
       "      <th></th>\n",
       "      <th>title</th>\n",
       "      <th>context</th>\n",
       "      <th>question</th>\n",
       "      <th>id</th>\n",
       "      <th>answers</th>\n",
       "      <th>document_id</th>\n",
       "      <th>__index_level_0__</th>\n",
       "    </tr>\n",
       "  </thead>\n",
       "  <tbody>\n",
       "    <tr>\n",
       "      <th>0</th>\n",
       "      <td>미국 상원</td>\n",
       "      <td>미국 상의원 또는 미국 상원(United States Senate)은 양원제인 미국...</td>\n",
       "      <td>대통령을 포함한 미국의 행정부 견제권을 갖는 국가 기관은?</td>\n",
       "      <td>mrc-1-000067</td>\n",
       "      <td>{'answer_start': [235], 'text': ['하원']}</td>\n",
       "      <td>18293</td>\n",
       "      <td>42</td>\n",
       "    </tr>\n",
       "    <tr>\n",
       "      <th>1</th>\n",
       "      <td>인사조직관리</td>\n",
       "      <td>'근대적 경영학' 또는 '고전적 경영학'에서 현대적 경영학으로 전환되는 시기는 19...</td>\n",
       "      <td>현대적 인사조직관리의 시발점이 된 책은?</td>\n",
       "      <td>mrc-0-004397</td>\n",
       "      <td>{'answer_start': [212], 'text': ['《경영의 실제》']}</td>\n",
       "      <td>51638</td>\n",
       "      <td>2873</td>\n",
       "    </tr>\n",
       "    <tr>\n",
       "      <th>2</th>\n",
       "      <td>강희제</td>\n",
       "      <td>강희제는 강화된 황권으로 거의 황제 중심의 독단적으로 나라를 이끌어 갔기에 자칫 전...</td>\n",
       "      <td>강희제가 1717년에 쓴 글은 누구를 위해 쓰여졌는가?</td>\n",
       "      <td>mrc-1-000362</td>\n",
       "      <td>{'answer_start': [510], 'text': ['백성']}</td>\n",
       "      <td>5028</td>\n",
       "      <td>230</td>\n",
       "    </tr>\n",
       "    <tr>\n",
       "      <th>3</th>\n",
       "      <td>금동삼존불감</td>\n",
       "      <td>불상을 모시기 위해 나무나 돌, 쇠 등을 깎아 일반적인 건축물보다 작은 규모로 만든...</td>\n",
       "      <td>11~12세기에 제작된 본존불은 보통 어떤 나라의 특징이 전파되었나요?</td>\n",
       "      <td>mrc-0-001510</td>\n",
       "      <td>{'answer_start': [625], 'text': ['중국']}</td>\n",
       "      <td>34146</td>\n",
       "      <td>992</td>\n",
       "    </tr>\n",
       "    <tr>\n",
       "      <th>4</th>\n",
       "      <td>계사명 사리구</td>\n",
       "      <td>동아대학교박물관에서 소장하고 있는 계사명 사리구는 총 4개의 용기로 구성된 조선후기...</td>\n",
       "      <td>명문이 적힌 유물을 구성하는 그릇의 총 개수는?</td>\n",
       "      <td>mrc-0-000823</td>\n",
       "      <td>{'answer_start': [30], 'text': ['4개']}</td>\n",
       "      <td>47334</td>\n",
       "      <td>548</td>\n",
       "    </tr>\n",
       "  </tbody>\n",
       "</table>\n",
       "</div>"
      ],
      "text/plain": [
       "     title                                            context  \\\n",
       "0    미국 상원  미국 상의원 또는 미국 상원(United States Senate)은 양원제인 미국...   \n",
       "1   인사조직관리  '근대적 경영학' 또는 '고전적 경영학'에서 현대적 경영학으로 전환되는 시기는 19...   \n",
       "2      강희제  강희제는 강화된 황권으로 거의 황제 중심의 독단적으로 나라를 이끌어 갔기에 자칫 전...   \n",
       "3   금동삼존불감  불상을 모시기 위해 나무나 돌, 쇠 등을 깎아 일반적인 건축물보다 작은 규모로 만든...   \n",
       "4  계사명 사리구  동아대학교박물관에서 소장하고 있는 계사명 사리구는 총 4개의 용기로 구성된 조선후기...   \n",
       "\n",
       "                                  question            id  \\\n",
       "0         대통령을 포함한 미국의 행정부 견제권을 갖는 국가 기관은?  mrc-1-000067   \n",
       "1                   현대적 인사조직관리의 시발점이 된 책은?  mrc-0-004397   \n",
       "2           강희제가 1717년에 쓴 글은 누구를 위해 쓰여졌는가?  mrc-1-000362   \n",
       "3  11~12세기에 제작된 본존불은 보통 어떤 나라의 특징이 전파되었나요?  mrc-0-001510   \n",
       "4               명문이 적힌 유물을 구성하는 그릇의 총 개수는?  mrc-0-000823   \n",
       "\n",
       "                                         answers  document_id  \\\n",
       "0        {'answer_start': [235], 'text': ['하원']}        18293   \n",
       "1  {'answer_start': [212], 'text': ['《경영의 실제》']}        51638   \n",
       "2        {'answer_start': [510], 'text': ['백성']}         5028   \n",
       "3        {'answer_start': [625], 'text': ['중국']}        34146   \n",
       "4         {'answer_start': [30], 'text': ['4개']}        47334   \n",
       "\n",
       "   __index_level_0__  \n",
       "0                 42  \n",
       "1               2873  \n",
       "2                230  \n",
       "3                992  \n",
       "4                548  "
      ]
     },
     "execution_count": 18,
     "metadata": {},
     "output_type": "execute_result"
    }
   ],
   "source": [
    "train.head()"
   ]
  },
  {
   "cell_type": "code",
   "execution_count": 19,
   "id": "c465fa3c",
   "metadata": {
    "ExecuteTime": {
     "end_time": "2023-06-07T11:59:05.557468Z",
     "start_time": "2023-06-07T11:59:05.544973Z"
    }
   },
   "outputs": [
    {
     "data": {
      "text/plain": [
       "Index(['title', 'context', 'question', 'id', 'answers', 'document_id',\n",
       "       '__index_level_0__'],\n",
       "      dtype='object')"
      ]
     },
     "execution_count": 19,
     "metadata": {},
     "output_type": "execute_result"
    }
   ],
   "source": [
    "train.columns"
   ]
  },
  {
   "cell_type": "code",
   "execution_count": 20,
   "id": "312394a2",
   "metadata": {},
   "outputs": [
    {
     "data": {
      "image/png": "[encoded data removed]",
      "text/plain": [
       "<Figure size 1000x600 with 1 Axes>"
      ]
     },
     "metadata": {},
     "output_type": "display_data"
    }
   ],
   "source": [
    "context_lengths = train['context'].apply(len)\n",
    "\n",
    "plt.figure(figsize=(10,6))\n",
    "plt.hist(context_lengths, bins=50, color='blue', edgecolor='black')\n",
    "plt.title('Context Length Distribution')\n",
    "plt.xlabel('Context Length')\n",
    "plt.ylabel('Frequency')\n",
    "plt.show()"
   ]
  },
  {
   "cell_type": "code",
   "execution_count": 21,
   "id": "5aa20732",
   "metadata": {},
   "outputs": [
    {
     "data": {
      "text/plain": [
       "1022    그는 전라남도 고흥군에 태어나 조선대학교 생물학과를 졸업하고 순천고등학교와 광주고등...\n",
       "3139    모라스주의(모라시슴)는 프랑스의 반혁명가 샤를 모라스가 고안한 이념교리로, 악시옹 ...\n",
       "3612    모라스주의(모라시슴)는 프랑스의 반혁명가 샤를 모라스가 고안한 이념교리로, 악시옹 ...\n",
       "1610    파아보 탈벨라가 지휘를 맡기 이전의 그 지역 핀란드군은 적의 포화에 쫓겨 후퇴를 거...\n",
       "1085    파아보 탈벨라가 지휘를 맡기 이전의 그 지역 핀란드군은 적의 포화에 쫓겨 후퇴를 거...\n",
       "3380    본관은 밀양(密陽). 함경남도 북청에서 출생하였으며 지난날 한때 함경남도 단천에서 ...\n",
       "3187    제서지전(齊西之戰)이후 제나라는 급격히 쇠퇴해 전성기 때의 강역을 회복하지 못했다....\n",
       "3780    선언서는 핀챠스 로젠의 부탁에 따라 히스타드루트 (팔레스타인 노동총연맹)의 법적 자...\n",
       "1145    민족자결주의\\n1916년 조선총독부는 여러 번 사람을 보내 그에게 당국 시책에 협조...\n",
       "1318    민족자결주의\\n1916년 조선총독부는 여러 번 사람을 보내 그에게 당국 시책에 협조...\n",
       "565     이호영은 1803년 경기도 이천에서 태어났고 부친을 여읜 후 서울로 이사했다. 그의...\n",
       "1840    면접교섭권은 1990년 민법 개정으로 신설된 제837조의2에 따라 1991년 1월 ...\n",
       "1226    1990년 FIFA 월드컵 당시 대한민국 축구 국가대표팀은 비교적 선전했던 전 대회...\n",
       "2369    에우제니오 2세의 선출과 즉위는 프랑크족에 대한 승리로서 이후로도 큰 영향을 끼쳤다...\n",
       "1550    에우제니오 2세의 선출과 즉위는 프랑크족에 대한 승리로서 이후로도 큰 영향을 끼쳤다...\n",
       "2047    아니메 《기동전사 건담》에서는 솔로몬 공략전 후 제37화에서 샤아가 조종하는 신형 ...\n",
       "3850    회사를 구조하는 데 워너 브라더스는 새로운 기술 - 음향에 기회를 잡는 데 첫 스튜...\n",
       "2606    북부에서 배신자로 간주된 브레킨리지는 버지니아주로 여행을 떠나 아메리카 연합국으로 ...\n",
       "3000    발렌스는 발렌티니아누스 1세의 동생으로 초기의 생애에 대하여는 별로 알려진 것이없다...\n",
       "577     리의 가장 잘 알려진 작품들 중 하나는 프로젝트들 (1997-2001)이다. 이는 ...\n",
       "Name: context, dtype: object"
      ]
     },
     "execution_count": 21,
     "metadata": {},
     "output_type": "execute_result"
    }
   ],
   "source": [
    "\n",
    "train['context_length'] = train['context'].apply(len)\n",
    "\n",
    "\n",
    "sorted_train = train.sort_values(by='context_length', ascending=False)\n",
    "\n",
    "\n",
    "sorted_train['context'].head(20)"
   ]
  },
  {
   "cell_type": "code",
   "execution_count": 22,
   "id": "a5211482",
   "metadata": {},
   "outputs": [
    {
     "data": {
      "image/png": "[encoded data removed]",
      "text/plain": [
       "<Figure size 1000x600 with 1 Axes>"
      ]
     },
     "metadata": {},
     "output_type": "display_data"
    }
   ],
   "source": [
    "question_lengths = train['question'].apply(len)\n",
    "\n",
    "plt.figure(figsize=(10,6))\n",
    "plt.hist(question_lengths, bins=50, color='blue', edgecolor='black')\n",
    "plt.title('Question Length Distribution')\n",
    "plt.xlabel('Question Length')\n",
    "plt.ylabel('Frequency')\n",
    "plt.show()"
   ]
  },
  {
   "cell_type": "code",
   "execution_count": 23,
   "id": "e6fe1066",
   "metadata": {},
   "outputs": [
    {
     "data": {
      "text/plain": [
       "2371        연희의 직업은?\n",
       "2724        훈다손의 뜻은?\n",
       "3698       삼존불의 재질은?\n",
       "86         우메노의 사인은?\n",
       "2634      천안군당의 사상은?\n",
       "2111     알렉상드린의 아빠는?\n",
       "1719     콘토미레의 주재료는?\n",
       "1228     구룡이 위치한 도는?\n",
       "3813     칠무늬토기의 별칭은?\n",
       "1499     홍타이지의 어머니는?\n",
       "1916     윤치호의 사망원인은?\n",
       "1467     <존 윅>의 장르는?\n",
       "1414     테세우스의 어머니는?\n",
       "3638     서민 귀족의 장르는?\n",
       "2691     풍진의 전파 경로는?\n",
       "3517     정조가 태어난 해는?\n",
       "3103    카스가는 복역 기간은?\n",
       "3350    테런스 엄마의 직업은?\n",
       "3045    카자크의 소통 언어는?\n",
       "2575    혜경궁 홍씨의 저서는?\n",
       "Name: question, dtype: object"
      ]
     },
     "execution_count": 23,
     "metadata": {},
     "output_type": "execute_result"
    }
   ],
   "source": [
    "train['question_length'] = train['question'].apply(len)\n",
    "\n",
    "\n",
    "sorted_train = train.sort_values(by='question_length', ascending=True)\n",
    "\n",
    "\n",
    "sorted_train['question'].head(20)"
   ]
  },
  {
   "cell_type": "code",
   "execution_count": 28,
   "id": "90639b78",
   "metadata": {},
   "outputs": [
    {
     "data": {
      "text/plain": [
       "question_postfix\n",
       " 사람은?    224\n",
       " 인물은?    207\n",
       "무엇인가?    128\n",
       "누구인가?    125\n",
       "는 것은?     81\n",
       "        ... \n",
       "성국가는?      1\n",
       "성했나요?      1\n",
       "마였는가?      1\n",
       " 마법은?      1\n",
       " 신화는?      1\n",
       "Name: count, Length: 1198, dtype: int64"
      ]
     },
     "execution_count": 28,
     "metadata": {},
     "output_type": "execute_result"
    }
   ],
   "source": [
    "train['question_postfix'] = train['question'].apply(lambda x: x[-5:])\n",
    "\n",
    "train['question_postfix'].value_counts()"
   ]
  },
  {
   "cell_type": "code",
   "execution_count": 10,
   "id": "d58ab622",
   "metadata": {},
   "outputs": [
    {
     "data": {
      "image/png": "[encoded data removed]",
      "text/plain": [
       "<Figure size 1000x500 with 1 Axes>"
      ]
     },
     "metadata": {},
     "output_type": "display_data"
    }
   ],
   "source": [
    "import numpy as np\n",
    "\n",
    "# Create a smooth set of x values\n",
    "x = np.linspace(0, 100, 500)\n",
    "\n",
    "# Create a piecewise function to simulate the stages of the Dunning-Kruger effect\n",
    "y = np.piecewise(x, [x < 20, (x >= 20) & (x < 50), x >= 50], [lambda x: x + 70, lambda x: 90 - x, lambda x: x - 30])\n",
    "\n",
    "plt.figure(figsize=(10, 5))\n",
    "\n",
    "# Plot the data\n",
    "plt.plot(x, y, label='Confidence')\n",
    "plt.title('Dunning-Kruger Effect')\n",
    "plt.xlabel('Expertise/Knowledge')\n",
    "plt.ylabel('Confidence')\n",
    "\n",
    "# Annotate the various stages\n",
    "plt.annotate('Unskilled & Unaware', xy=(10, 80), xytext=(5, 90),\n",
    "             arrowprops=dict(facecolor='red', shrink=0.05))\n",
    "plt.annotate('Realization of Limitations', xy=(30, 60), xytext=(20, 50),\n",
    "             arrowprops=dict(facecolor='red', shrink=0.05))\n",
    "plt.annotate('Gained Some Competence', xy=(70, 40), xytext=(60, 50),\n",
    "             arrowprops=dict(facecolor='red', shrink=0.05))\n",
    "plt.annotate('True Expert', xy=(100, 70), xytext=(80, 80),\n",
    "             arrowprops=dict(facecolor='red', shrink=0.05))\n",
    "\n",
    "plt.legend()\n",
    "plt.show()"
   ]
  },
  {
   "cell_type": "code",
   "execution_count": 25,
   "id": "9b31bacc",
   "metadata": {},
   "outputs": [],
   "source": [
    "from konlpy.tag import Okt\n",
    "okt = Okt()\n",
    "\n"
   ]
  },
  {
   "cell_type": "code",
   "execution_count": 29,
   "id": "670f85bb",
   "metadata": {},
   "outputs": [
    {
     "data": {
      "text/plain": [
       "question_postmorph_1\n",
       "?     3950\n",
       "는        1\n",
       "?-       1\n",
       "Name: count, dtype: int64"
      ]
     },
     "execution_count": 29,
     "metadata": {},
     "output_type": "execute_result"
    }
   ],
   "source": [
    "train['question_postmorph_1'] = train['question'].apply(lambda x: okt.morphs(x)[-1])\n",
    "\n",
    "train['question_postmorph_1'].value_counts()"
   ]
  },
  {
   "cell_type": "code",
   "execution_count": 30,
   "id": "d6670f6a",
   "metadata": {},
   "outputs": [
    {
     "data": {
      "text/plain": [
       "question_postmorph_2\n",
       "은        1502\n",
       "는         838\n",
       "인가        530\n",
       "인가요       117\n",
       "하는가        54\n",
       "         ... \n",
       "불렀나요        1\n",
       "돌아가셨나       1\n",
       "하였었나요       1\n",
       "나오는가        1\n",
       "돼있나         1\n",
       "Name: count, Length: 291, dtype: int64"
      ]
     },
     "execution_count": 30,
     "metadata": {},
     "output_type": "execute_result"
    }
   ],
   "source": [
    "train['question_postmorph_2'] = train['question'].apply(lambda x: okt.morphs(x)[-2])\n",
    "\n",
    "train['question_postmorph_2'].value_counts()"
   ]
  },
  {
   "cell_type": "code",
   "execution_count": 35,
   "id": "4e19fe82",
   "metadata": {},
   "outputs": [
    {
     "data": {
      "text/plain": [
       "question_postmorph_2&3\n",
       "사람은      225\n",
       "인물은      207\n",
       "것은       188\n",
       "무엇인가     128\n",
       "누구인가     125\n",
       "해는       119\n",
       "곳은       118\n",
       "이름은       76\n",
       "어디인가      72\n",
       "시기는       44\n",
       "무엇인가요     41\n",
       "국가는       39\n",
       "언제인가      38\n",
       "나라는       37\n",
       "연도는       37\n",
       "이유는       32\n",
       "년도는       28\n",
       "지역은       28\n",
       "것인가       25\n",
       "때문인가      24\n",
       "기관은       24\n",
       "명칭은       23\n",
       "장소는       22\n",
       "집단은       21\n",
       "도시는       20\n",
       "누구인가요     19\n",
       "수는        18\n",
       "언제인가요     18\n",
       "단체는       17\n",
       "년인가       16\n",
       "대상은       15\n",
       "날짜는       15\n",
       "날은        13\n",
       "직업은       13\n",
       "방법은       12\n",
       "기간은       11\n",
       "부위는       11\n",
       "종류는       11\n",
       "책은        11\n",
       "물건은       11\n",
       "나이는       11\n",
       "직책은       10\n",
       "수있는가      10\n",
       "세력은       10\n",
       "선수는       10\n",
       "동물은       10\n",
       "년도인가      10\n",
       "제도는       10\n",
       "어디인가요     10\n",
       "직위는        9\n",
       "Name: count, dtype: int64"
      ]
     },
     "execution_count": 35,
     "metadata": {},
     "output_type": "execute_result"
    }
   ],
   "source": [
    "train['question_postmorph_2&3'] = train['question'].apply(lambda x: ''.join(okt.morphs(x)[-3:-1]))\n",
    "\n",
    "train['question_postmorph_2&3'].value_counts().head(50)"
   ]
  },
  {
   "cell_type": "code",
   "execution_count": 36,
   "id": "15f2b782",
   "metadata": {},
   "outputs": [],
   "source": [
    "train_find = train[train['question_postmorph_2&3'] == '것인가']"
   ]
  },
  {
   "cell_type": "code",
   "execution_count": 37,
   "id": "9234d6ee",
   "metadata": {},
   "outputs": [
    {
     "data": {
      "text/html": [
       "<div>\n",
       "<style scoped>\n",
       "    .dataframe tbody tr th:only-of-type {\n",
       "        vertical-align: middle;\n",
       "    }\n",
       "\n",
       "    .dataframe tbody tr th {\n",
       "        vertical-align: top;\n",
       "    }\n",
       "\n",
       "    .dataframe thead th {\n",
       "        text-align: right;\n",
       "    }\n",
       "</style>\n",
       "<table border=\"1\" class=\"dataframe\">\n",
       "  <thead>\n",
       "    <tr style=\"text-align: right;\">\n",
       "      <th></th>\n",
       "      <th>title</th>\n",
       "      <th>context</th>\n",
       "      <th>question</th>\n",
       "      <th>id</th>\n",
       "      <th>answers</th>\n",
       "      <th>document_id</th>\n",
       "      <th>__index_level_0__</th>\n",
       "      <th>context_length</th>\n",
       "      <th>question_length</th>\n",
       "      <th>question_postfix</th>\n",
       "      <th>question_postmorph_1</th>\n",
       "      <th>question_postmorph_2</th>\n",
       "      <th>question_postmorph_2&amp;3</th>\n",
       "    </tr>\n",
       "  </thead>\n",
       "  <tbody>\n",
       "    <tr>\n",
       "      <th>281</th>\n",
       "      <td>제58군 (일본군)</td>\n",
       "      <td>결7호 작전에 따라 제주도는 거대한 군사 요새가 되었다. 200여명의 비행장 경비 ...</td>\n",
       "      <td>58군 사령부가 최후의 유격전을 준비한 것은 누구를 염두에 둔 것인가?</td>\n",
       "      <td>mrc-1-001772</td>\n",
       "      <td>{'answer_start': [216], 'text': ['미 해병대']}</td>\n",
       "      <td>37953</td>\n",
       "      <td>1157</td>\n",
       "      <td>596</td>\n",
       "      <td>39</td>\n",
       "      <td>것인가?</td>\n",
       "      <td>?</td>\n",
       "      <td>인가</td>\n",
       "      <td>것인가</td>\n",
       "    </tr>\n",
       "    <tr>\n",
       "      <th>369</th>\n",
       "      <td>스쿨데이즈 (비디오 게임)</td>\n",
       "      <td>;두명의 연인(二人の恋人)\\n:마코토와 세카이가 애정을 나누기 위해 마코토의 집으로...</td>\n",
       "      <td>세카이와 코토노하가 마코토에게 줄 선물은 언제를 위한 것인가?</td>\n",
       "      <td>mrc-0-003610</td>\n",
       "      <td>{'answer_start': [456], 'text': ['크리스마스']}</td>\n",
       "      <td>10698</td>\n",
       "      <td>2367</td>\n",
       "      <td>935</td>\n",
       "      <td>34</td>\n",
       "      <td>것인가?</td>\n",
       "      <td>?</td>\n",
       "      <td>인가</td>\n",
       "      <td>것인가</td>\n",
       "    </tr>\n",
       "    <tr>\n",
       "      <th>602</th>\n",
       "      <td>농촌진흥운동</td>\n",
       "      <td>1930년대 초반, 세계 경제 대공황의 여파로 인해 농촌경제와 사회가 급격히 무너져...</td>\n",
       "      <td>농촌진흥운동은 누가 주도한 것인가?</td>\n",
       "      <td>mrc-0-003414</td>\n",
       "      <td>{'answer_start': [629], 'text': ['총독부']}</td>\n",
       "      <td>22999</td>\n",
       "      <td>2242</td>\n",
       "      <td>1118</td>\n",
       "      <td>19</td>\n",
       "      <td>것인가?</td>\n",
       "      <td>?</td>\n",
       "      <td>인가</td>\n",
       "      <td>것인가</td>\n",
       "    </tr>\n",
       "    <tr>\n",
       "      <th>639</th>\n",
       "      <td>팔레올로고스 왕조 치하의 비잔티움 제국</td>\n",
       "      <td>안드로니코스 2세는 서방과 동방에서의 사건으로 묶여 있었다. 스테판 우로시 2세 밀...</td>\n",
       "      <td>튀르크인을 아나톨리아로 쫓아낸 병사들은 어느 지역에서 온 것인가?</td>\n",
       "      <td>mrc-0-004327</td>\n",
       "      <td>{'answer_start': [782], 'text': ['카탈루냐']}</td>\n",
       "      <td>59735</td>\n",
       "      <td>2834</td>\n",
       "      <td>1092</td>\n",
       "      <td>36</td>\n",
       "      <td>것인가?</td>\n",
       "      <td>?</td>\n",
       "      <td>인가</td>\n",
       "      <td>것인가</td>\n",
       "    </tr>\n",
       "    <tr>\n",
       "      <th>704</th>\n",
       "      <td>가로등</td>\n",
       "      <td>가로등(街路燈)은 매일 밤 특정한 시간대에 어두운 도로나 보도 같은 길에서 운전자나...</td>\n",
       "      <td>광전지는 무엇에 민감하게 반응하는 성질을 이용한 것인가?</td>\n",
       "      <td>mrc-0-003650</td>\n",
       "      <td>{'answer_start': [111], 'text': ['빛']}</td>\n",
       "      <td>9190</td>\n",
       "      <td>2401</td>\n",
       "      <td>833</td>\n",
       "      <td>31</td>\n",
       "      <td>것인가?</td>\n",
       "      <td>?</td>\n",
       "      <td>인가</td>\n",
       "      <td>것인가</td>\n",
       "    </tr>\n",
       "    <tr>\n",
       "      <th>1048</th>\n",
       "      <td>표도르 도스토옙스키</td>\n",
       "      <td>도스토옙스키는 러시아 문학의 최고 거장 가운데 한 명으로 불리며 20세기 소설에 지...</td>\n",
       "      <td>도스토옙스키의 작품에 담긴 기독교 사상은 무엇에 기반한 것인가?</td>\n",
       "      <td>mrc-1-001711</td>\n",
       "      <td>{'answer_start': [344], 'text': ['정교회 교리']}</td>\n",
       "      <td>8238</td>\n",
       "      <td>1119</td>\n",
       "      <td>682</td>\n",
       "      <td>35</td>\n",
       "      <td>것인가?</td>\n",
       "      <td>?</td>\n",
       "      <td>인가</td>\n",
       "      <td>것인가</td>\n",
       "    </tr>\n",
       "    <tr>\n",
       "      <th>1121</th>\n",
       "      <td>가지 (식물학)</td>\n",
       "      <td>가지(branch)는 눈이 자란 것으로, 여기에서 또다른 가지가 갈라져 나오는데, ...</td>\n",
       "      <td>종자식물의 분지는 무엇이 자란 것인가?</td>\n",
       "      <td>mrc-0-001403</td>\n",
       "      <td>{'answer_start': [106], 'text': ['겨드랑이눈']}</td>\n",
       "      <td>25892</td>\n",
       "      <td>920</td>\n",
       "      <td>828</td>\n",
       "      <td>21</td>\n",
       "      <td>것인가?</td>\n",
       "      <td>?</td>\n",
       "      <td>인가</td>\n",
       "      <td>것인가</td>\n",
       "    </tr>\n",
       "    <tr>\n",
       "      <th>1192</th>\n",
       "      <td>공하류</td>\n",
       "      <td>공하류(디노카리디다 Dinocaridida) 는 멸종한 절지동물을 닮은 해양 동물 ...</td>\n",
       "      <td>공하류의 무서운 새우라는 의미는 어떤 동물 종류의 외형에서 따온 것인가?</td>\n",
       "      <td>mrc-0-001747</td>\n",
       "      <td>{'answer_start': [191], 'text': ['갑각류']}</td>\n",
       "      <td>37850</td>\n",
       "      <td>1142</td>\n",
       "      <td>620</td>\n",
       "      <td>40</td>\n",
       "      <td>것인가?</td>\n",
       "      <td>?</td>\n",
       "      <td>인가</td>\n",
       "      <td>것인가</td>\n",
       "    </tr>\n",
       "    <tr>\n",
       "      <th>1532</th>\n",
       "      <td>베르사유 조약</td>\n",
       "      <td>재건을 위해 바이마르 공화국에게 막대한 비용을 부담했다. 심각한 경제적 고충에 부딪...</td>\n",
       "      <td>영 안은 어떤 나라가 지불해야 하는 전쟁 보상금에 관한 것인가?</td>\n",
       "      <td>mrc-1-001315</td>\n",
       "      <td>{'answer_start': [239], 'text': ['독일']}</td>\n",
       "      <td>7677</td>\n",
       "      <td>859</td>\n",
       "      <td>707</td>\n",
       "      <td>35</td>\n",
       "      <td>것인가?</td>\n",
       "      <td>?</td>\n",
       "      <td>인가</td>\n",
       "      <td>것인가</td>\n",
       "    </tr>\n",
       "    <tr>\n",
       "      <th>1626</th>\n",
       "      <td>소총통</td>\n",
       "      <td>소총통은 조선 중기의 대표적인 소형총통인 승자총통의 발전된 형식이다. 약통에 도화선...</td>\n",
       "      <td>소총통은 무엇이 개량된 것인가?</td>\n",
       "      <td>mrc-0-000063</td>\n",
       "      <td>{'answer_start': [23], 'text': ['승자총통']}</td>\n",
       "      <td>19618</td>\n",
       "      <td>44</td>\n",
       "      <td>537</td>\n",
       "      <td>17</td>\n",
       "      <td>것인가?</td>\n",
       "      <td>?</td>\n",
       "      <td>인가</td>\n",
       "      <td>것인가</td>\n",
       "    </tr>\n",
       "    <tr>\n",
       "      <th>1648</th>\n",
       "      <td>플랑베르주</td>\n",
       "      <td>플랑베르주(Flamberge)는 프랑스 양손 검의 명칭으로 날이 불결 모양인 검이다...</td>\n",
       "      <td>불기둥 같은 날을 가진 검은 어느 나라의 것인가?</td>\n",
       "      <td>mrc-0-005400</td>\n",
       "      <td>{'answer_start': [18], 'text': ['프랑스']}</td>\n",
       "      <td>14186</td>\n",
       "      <td>3520</td>\n",
       "      <td>1006</td>\n",
       "      <td>27</td>\n",
       "      <td>것인가?</td>\n",
       "      <td>?</td>\n",
       "      <td>인가</td>\n",
       "      <td>것인가</td>\n",
       "    </tr>\n",
       "    <tr>\n",
       "      <th>1816</th>\n",
       "      <td>은산 도천사지</td>\n",
       "      <td>이 사지는 부여에서 청양에 이르는 도로를 따라 은산면 소재지를 지나 약 5km쯤 가...</td>\n",
       "      <td>도천사지 내에서 발견되는 와편은 어느 나라 때 만들어진 것인가?</td>\n",
       "      <td>mrc-0-000573</td>\n",
       "      <td>{'answer_start': [472], 'text': ['조선']}</td>\n",
       "      <td>49737</td>\n",
       "      <td>390</td>\n",
       "      <td>555</td>\n",
       "      <td>35</td>\n",
       "      <td>것인가?</td>\n",
       "      <td>?</td>\n",
       "      <td>인가</td>\n",
       "      <td>것인가</td>\n",
       "    </tr>\n",
       "    <tr>\n",
       "      <th>2083</th>\n",
       "      <td>신용장</td>\n",
       "      <td>신용장에는 신용장 자체에 관한 사항, 환어음에 관한 사항, 서류에 관한 사항, 물품...</td>\n",
       "      <td>환어음에 관한 사항은 무엇을 바탕으로 작성된 것인가?</td>\n",
       "      <td>mrc-0-002174</td>\n",
       "      <td>{'answer_start': [752], 'text': ['국제 상업 회의소의 신...</td>\n",
       "      <td>17178</td>\n",
       "      <td>1433</td>\n",
       "      <td>791</td>\n",
       "      <td>29</td>\n",
       "      <td>것인가?</td>\n",
       "      <td>?</td>\n",
       "      <td>인가</td>\n",
       "      <td>것인가</td>\n",
       "    </tr>\n",
       "    <tr>\n",
       "      <th>2432</th>\n",
       "      <td>삼지연 초대소</td>\n",
       "      <td>백두산 초대소는 삼지연 초대소로도 불리는데 양강도 삼지연군 삼지연읍에서 서남쪽으로 ...</td>\n",
       "      <td>혜산시의 전용 역은 누구를 위한 것인가?</td>\n",
       "      <td>mrc-0-003851</td>\n",
       "      <td>{'answer_start': [185], 'text': ['김정일']}</td>\n",
       "      <td>51241</td>\n",
       "      <td>2527</td>\n",
       "      <td>952</td>\n",
       "      <td>22</td>\n",
       "      <td>것인가?</td>\n",
       "      <td>?</td>\n",
       "      <td>인가</td>\n",
       "      <td>것인가</td>\n",
       "    </tr>\n",
       "    <tr>\n",
       "      <th>2622</th>\n",
       "      <td>모르도비야 아레나</td>\n",
       "      <td>이 경기장에는 관중석 위에 캐노피를 형성하고 있는 껍데기로 보호된 사발로 덮인 높은...</td>\n",
       "      <td>경기장에 있는 특별 지정 구역은 누구를 위한 것인가?</td>\n",
       "      <td>mrc-0-003106</td>\n",
       "      <td>{'answer_start': [419], 'text': ['게스트 팀 팬']}</td>\n",
       "      <td>50338</td>\n",
       "      <td>2043</td>\n",
       "      <td>602</td>\n",
       "      <td>29</td>\n",
       "      <td>것인가?</td>\n",
       "      <td>?</td>\n",
       "      <td>인가</td>\n",
       "      <td>것인가</td>\n",
       "    </tr>\n",
       "    <tr>\n",
       "      <th>2783</th>\n",
       "      <td>해양 지각</td>\n",
       "      <td>해양지각의 구조는 여러가지 방법을 통하여 직간접적으로 추론할 수 있다. 오피올라이트...</td>\n",
       "      <td>탄산염과 규산염질로 이루어진 퇴적물은 어디에서 온 것인가?</td>\n",
       "      <td>mrc-0-004440</td>\n",
       "      <td>{'answer_start': [331], 'text': ['해양']}</td>\n",
       "      <td>22251</td>\n",
       "      <td>2896</td>\n",
       "      <td>632</td>\n",
       "      <td>32</td>\n",
       "      <td>것인가?</td>\n",
       "      <td>?</td>\n",
       "      <td>인가</td>\n",
       "      <td>것인가</td>\n",
       "    </tr>\n",
       "    <tr>\n",
       "      <th>3016</th>\n",
       "      <td>금단의 열매</td>\n",
       "      <td>사과는 많은 종교적 전통에서 언급되는데 신비적이고 금지된 과일로 특히 여겨진다. 창...</td>\n",
       "      <td>후두의 영어표현은 누구에게서 비롯된 것인가?</td>\n",
       "      <td>mrc-0-005469</td>\n",
       "      <td>{'answer_start': [325], 'text': ['아담']}</td>\n",
       "      <td>26472</td>\n",
       "      <td>3570</td>\n",
       "      <td>943</td>\n",
       "      <td>24</td>\n",
       "      <td>것인가?</td>\n",
       "      <td>?</td>\n",
       "      <td>인가</td>\n",
       "      <td>것인가</td>\n",
       "    </tr>\n",
       "    <tr>\n",
       "      <th>3062</th>\n",
       "      <td>정선 수고당 고택</td>\n",
       "      <td>나지막한 언덕에 자리하고 있는 옛집으로, 조선 숙종(재위 1674∼1720) 때 이...</td>\n",
       "      <td>수고당에 보존되어 있는 의류는 누구의 것인가?</td>\n",
       "      <td>mrc-0-004126</td>\n",
       "      <td>{'answer_start': [537], 'text': ['외재 이단하 내외분']}</td>\n",
       "      <td>55628</td>\n",
       "      <td>2699</td>\n",
       "      <td>632</td>\n",
       "      <td>25</td>\n",
       "      <td>것인가?</td>\n",
       "      <td>?</td>\n",
       "      <td>인가</td>\n",
       "      <td>것인가</td>\n",
       "    </tr>\n",
       "    <tr>\n",
       "      <th>3141</th>\n",
       "      <td>창 (건축)</td>\n",
       "      <td>창(窓)은 환기, 채광, 혹은 장식을 목적으로 대표적으로 기나 빛, 소리가 들어오거...</td>\n",
       "      <td>이중창은 언제를 대비한 것인가?</td>\n",
       "      <td>mrc-0-004702</td>\n",
       "      <td>{'answer_start': [219], 'text': ['겨울철']}</td>\n",
       "      <td>13020</td>\n",
       "      <td>3066</td>\n",
       "      <td>531</td>\n",
       "      <td>17</td>\n",
       "      <td>것인가?</td>\n",
       "      <td>?</td>\n",
       "      <td>인가</td>\n",
       "      <td>것인가</td>\n",
       "    </tr>\n",
       "    <tr>\n",
       "      <th>3160</th>\n",
       "      <td>루트비히 판 베토벤</td>\n",
       "      <td>베토벤의 후기는 1810-1819년에 시작되었다. 베토벤은 그의 청력 저하로 의기소...</td>\n",
       "      <td>폴리포니는 누가 남긴 것인가?</td>\n",
       "      <td>mrc-0-000743</td>\n",
       "      <td>{'answer_start': [227], 'text': ['바흐']}</td>\n",
       "      <td>4820</td>\n",
       "      <td>498</td>\n",
       "      <td>861</td>\n",
       "      <td>16</td>\n",
       "      <td>것인가?</td>\n",
       "      <td>?</td>\n",
       "      <td>인가</td>\n",
       "      <td>것인가</td>\n",
       "    </tr>\n",
       "    <tr>\n",
       "      <th>3198</th>\n",
       "      <td>망건</td>\n",
       "      <td>망건(網巾)은 상투를 틀 때 머리카락이 흘러내려오지 않도록 이마에 두르는 그물 모양...</td>\n",
       "      <td>기혼 남성들이 사용하던 망건은 신체 어느 부위에 착용하는 것인가?</td>\n",
       "      <td>mrc-1-000025</td>\n",
       "      <td>{'answer_start': [33], 'text': ['이마']}</td>\n",
       "      <td>19259</td>\n",
       "      <td>17</td>\n",
       "      <td>755</td>\n",
       "      <td>36</td>\n",
       "      <td>것인가?</td>\n",
       "      <td>?</td>\n",
       "      <td>인가</td>\n",
       "      <td>것인가</td>\n",
       "    </tr>\n",
       "    <tr>\n",
       "      <th>3237</th>\n",
       "      <td>계사명 사리구</td>\n",
       "      <td>동아대학교박물관에서 소장하고 있는 계사명 사리구는 총 4개의 용기로 구성된 조선후기...</td>\n",
       "      <td>승표 부부에 대해 적혀있는 명문은 무엇으로 쓰여진 것인가?</td>\n",
       "      <td>mrc-0-000533</td>\n",
       "      <td>{'answer_start': [187], 'text': ['청화안료']}</td>\n",
       "      <td>47334</td>\n",
       "      <td>361</td>\n",
       "      <td>609</td>\n",
       "      <td>32</td>\n",
       "      <td>것인가?</td>\n",
       "      <td>?</td>\n",
       "      <td>인가</td>\n",
       "      <td>것인가</td>\n",
       "    </tr>\n",
       "    <tr>\n",
       "      <th>3320</th>\n",
       "      <td>인재 홍진 영정</td>\n",
       "      <td>홍진의 초상화이다. 홍진(1541∼1616)은 조선 중기의 문신으로 과거를 통해 벼...</td>\n",
       "      <td>이 초상화는 얼굴의 어느 방면을 그린 것인가?</td>\n",
       "      <td>mrc-0-002739</td>\n",
       "      <td>{'answer_start': [107], 'text': ['왼쪽']}</td>\n",
       "      <td>52954</td>\n",
       "      <td>1796</td>\n",
       "      <td>735</td>\n",
       "      <td>25</td>\n",
       "      <td>것인가?</td>\n",
       "      <td>?</td>\n",
       "      <td>인가</td>\n",
       "      <td>것인가</td>\n",
       "    </tr>\n",
       "    <tr>\n",
       "      <th>3443</th>\n",
       "      <td>보주 (스위스)</td>\n",
       "      <td>스위스 서남부에 위치한다. 북쪽은 뇌샤텔 호, 남쪽은 레만 호(제네바 호)에 면하며...</td>\n",
       "      <td>로잔의 옛 명칭인 라우소니움은 어느 시대에 붙여진 것인가?</td>\n",
       "      <td>mrc-0-003565</td>\n",
       "      <td>{'answer_start': [149], 'text': ['로마 제국']}</td>\n",
       "      <td>22525</td>\n",
       "      <td>2336</td>\n",
       "      <td>715</td>\n",
       "      <td>32</td>\n",
       "      <td>것인가?</td>\n",
       "      <td>?</td>\n",
       "      <td>인가</td>\n",
       "      <td>것인가</td>\n",
       "    </tr>\n",
       "    <tr>\n",
       "      <th>3939</th>\n",
       "      <td>성진학</td>\n",
       "      <td>성진학(Asteroseismology)은 주파수 분광의 상호작용에 의한 맥동하는 별...</td>\n",
       "      <td>별의 주요 작용 원리는 복사 에너지를 무엇으로 바꾸는 것인가?</td>\n",
       "      <td>mrc-0-000926</td>\n",
       "      <td>{'answer_start': [346], 'text': ['맥동 에너지']}</td>\n",
       "      <td>13290</td>\n",
       "      <td>612</td>\n",
       "      <td>943</td>\n",
       "      <td>34</td>\n",
       "      <td>것인가?</td>\n",
       "      <td>?</td>\n",
       "      <td>인가</td>\n",
       "      <td>것인가</td>\n",
       "    </tr>\n",
       "  </tbody>\n",
       "</table>\n",
       "</div>"
      ],
      "text/plain": [
       "                      title  \\\n",
       "281              제58군 (일본군)   \n",
       "369          스쿨데이즈 (비디오 게임)   \n",
       "602                  농촌진흥운동   \n",
       "639   팔레올로고스 왕조 치하의 비잔티움 제국   \n",
       "704                     가로등   \n",
       "1048             표도르 도스토옙스키   \n",
       "1121               가지 (식물학)   \n",
       "1192                    공하류   \n",
       "1532                베르사유 조약   \n",
       "1626                    소총통   \n",
       "1648                  플랑베르주   \n",
       "1816                은산 도천사지   \n",
       "2083                    신용장   \n",
       "2432                삼지연 초대소   \n",
       "2622              모르도비야 아레나   \n",
       "2783                  해양 지각   \n",
       "3016                 금단의 열매   \n",
       "3062              정선 수고당 고택   \n",
       "3141                 창 (건축)   \n",
       "3160             루트비히 판 베토벤   \n",
       "3198                     망건   \n",
       "3237                계사명 사리구   \n",
       "3320               인재 홍진 영정   \n",
       "3443               보주 (스위스)   \n",
       "3939                    성진학   \n",
       "\n",
       "                                                context  \\\n",
       "281   결7호 작전에 따라 제주도는 거대한 군사 요새가 되었다. 200여명의 비행장 경비 ...   \n",
       "369   ;두명의 연인(二人の恋人)\\n:마코토와 세카이가 애정을 나누기 위해 마코토의 집으로...   \n",
       "602   1930년대 초반, 세계 경제 대공황의 여파로 인해 농촌경제와 사회가 급격히 무너져...   \n",
       "639   안드로니코스 2세는 서방과 동방에서의 사건으로 묶여 있었다. 스테판 우로시 2세 밀...   \n",
       "704   가로등(街路燈)은 매일 밤 특정한 시간대에 어두운 도로나 보도 같은 길에서 운전자나...   \n",
       "1048  도스토옙스키는 러시아 문학의 최고 거장 가운데 한 명으로 불리며 20세기 소설에 지...   \n",
       "1121  가지(branch)는 눈이 자란 것으로, 여기에서 또다른 가지가 갈라져 나오는데, ...   \n",
       "1192  공하류(디노카리디다 Dinocaridida) 는 멸종한 절지동물을 닮은 해양 동물 ...   \n",
       "1532  재건을 위해 바이마르 공화국에게 막대한 비용을 부담했다. 심각한 경제적 고충에 부딪...   \n",
       "1626  소총통은 조선 중기의 대표적인 소형총통인 승자총통의 발전된 형식이다. 약통에 도화선...   \n",
       "1648  플랑베르주(Flamberge)는 프랑스 양손 검의 명칭으로 날이 불결 모양인 검이다...   \n",
       "1816  이 사지는 부여에서 청양에 이르는 도로를 따라 은산면 소재지를 지나 약 5km쯤 가...   \n",
       "2083  신용장에는 신용장 자체에 관한 사항, 환어음에 관한 사항, 서류에 관한 사항, 물품...   \n",
       "2432  백두산 초대소는 삼지연 초대소로도 불리는데 양강도 삼지연군 삼지연읍에서 서남쪽으로 ...   \n",
       "2622  이 경기장에는 관중석 위에 캐노피를 형성하고 있는 껍데기로 보호된 사발로 덮인 높은...   \n",
       "2783  해양지각의 구조는 여러가지 방법을 통하여 직간접적으로 추론할 수 있다. 오피올라이트...   \n",
       "3016  사과는 많은 종교적 전통에서 언급되는데 신비적이고 금지된 과일로 특히 여겨진다. 창...   \n",
       "3062  나지막한 언덕에 자리하고 있는 옛집으로, 조선 숙종(재위 1674∼1720) 때 이...   \n",
       "3141  창(窓)은 환기, 채광, 혹은 장식을 목적으로 대표적으로 기나 빛, 소리가 들어오거...   \n",
       "3160  베토벤의 후기는 1810-1819년에 시작되었다. 베토벤은 그의 청력 저하로 의기소...   \n",
       "3198  망건(網巾)은 상투를 틀 때 머리카락이 흘러내려오지 않도록 이마에 두르는 그물 모양...   \n",
       "3237  동아대학교박물관에서 소장하고 있는 계사명 사리구는 총 4개의 용기로 구성된 조선후기...   \n",
       "3320  홍진의 초상화이다. 홍진(1541∼1616)은 조선 중기의 문신으로 과거를 통해 벼...   \n",
       "3443  스위스 서남부에 위치한다. 북쪽은 뇌샤텔 호, 남쪽은 레만 호(제네바 호)에 면하며...   \n",
       "3939  성진학(Asteroseismology)은 주파수 분광의 상호작용에 의한 맥동하는 별...   \n",
       "\n",
       "                                      question            id  \\\n",
       "281    58군 사령부가 최후의 유격전을 준비한 것은 누구를 염두에 둔 것인가?  mrc-1-001772   \n",
       "369         세카이와 코토노하가 마코토에게 줄 선물은 언제를 위한 것인가?  mrc-0-003610   \n",
       "602                        농촌진흥운동은 누가 주도한 것인가?  mrc-0-003414   \n",
       "639       튀르크인을 아나톨리아로 쫓아낸 병사들은 어느 지역에서 온 것인가?  mrc-0-004327   \n",
       "704            광전지는 무엇에 민감하게 반응하는 성질을 이용한 것인가?  mrc-0-003650   \n",
       "1048       도스토옙스키의 작품에 담긴 기독교 사상은 무엇에 기반한 것인가?  mrc-1-001711   \n",
       "1121                     종자식물의 분지는 무엇이 자란 것인가?  mrc-0-001403   \n",
       "1192  공하류의 무서운 새우라는 의미는 어떤 동물 종류의 외형에서 따온 것인가?  mrc-0-001747   \n",
       "1532       영 안은 어떤 나라가 지불해야 하는 전쟁 보상금에 관한 것인가?  mrc-1-001315   \n",
       "1626                         소총통은 무엇이 개량된 것인가?  mrc-0-000063   \n",
       "1648               불기둥 같은 날을 가진 검은 어느 나라의 것인가?  mrc-0-005400   \n",
       "1816       도천사지 내에서 발견되는 와편은 어느 나라 때 만들어진 것인가?  mrc-0-000573   \n",
       "2083             환어음에 관한 사항은 무엇을 바탕으로 작성된 것인가?  mrc-0-002174   \n",
       "2432                    혜산시의 전용 역은 누구를 위한 것인가?  mrc-0-003851   \n",
       "2622             경기장에 있는 특별 지정 구역은 누구를 위한 것인가?  mrc-0-003106   \n",
       "2783          탄산염과 규산염질로 이루어진 퇴적물은 어디에서 온 것인가?  mrc-0-004440   \n",
       "3016                  후두의 영어표현은 누구에게서 비롯된 것인가?  mrc-0-005469   \n",
       "3062                 수고당에 보존되어 있는 의류는 누구의 것인가?  mrc-0-004126   \n",
       "3141                         이중창은 언제를 대비한 것인가?  mrc-0-004702   \n",
       "3160                          폴리포니는 누가 남긴 것인가?  mrc-0-000743   \n",
       "3198      기혼 남성들이 사용하던 망건은 신체 어느 부위에 착용하는 것인가?  mrc-1-000025   \n",
       "3237          승표 부부에 대해 적혀있는 명문은 무엇으로 쓰여진 것인가?  mrc-0-000533   \n",
       "3320                 이 초상화는 얼굴의 어느 방면을 그린 것인가?  mrc-0-002739   \n",
       "3443          로잔의 옛 명칭인 라우소니움은 어느 시대에 붙여진 것인가?  mrc-0-003565   \n",
       "3939        별의 주요 작용 원리는 복사 에너지를 무엇으로 바꾸는 것인가?  mrc-0-000926   \n",
       "\n",
       "                                                answers  document_id  \\\n",
       "281          {'answer_start': [216], 'text': ['미 해병대']}        37953   \n",
       "369          {'answer_start': [456], 'text': ['크리스마스']}        10698   \n",
       "602            {'answer_start': [629], 'text': ['총독부']}        22999   \n",
       "639           {'answer_start': [782], 'text': ['카탈루냐']}        59735   \n",
       "704              {'answer_start': [111], 'text': ['빛']}         9190   \n",
       "1048        {'answer_start': [344], 'text': ['정교회 교리']}         8238   \n",
       "1121         {'answer_start': [106], 'text': ['겨드랑이눈']}        25892   \n",
       "1192           {'answer_start': [191], 'text': ['갑각류']}        37850   \n",
       "1532            {'answer_start': [239], 'text': ['독일']}         7677   \n",
       "1626           {'answer_start': [23], 'text': ['승자총통']}        19618   \n",
       "1648            {'answer_start': [18], 'text': ['프랑스']}        14186   \n",
       "1816            {'answer_start': [472], 'text': ['조선']}        49737   \n",
       "2083  {'answer_start': [752], 'text': ['국제 상업 회의소의 신...        17178   \n",
       "2432           {'answer_start': [185], 'text': ['김정일']}        51241   \n",
       "2622       {'answer_start': [419], 'text': ['게스트 팀 팬']}        50338   \n",
       "2783            {'answer_start': [331], 'text': ['해양']}        22251   \n",
       "3016            {'answer_start': [325], 'text': ['아담']}        26472   \n",
       "3062    {'answer_start': [537], 'text': ['외재 이단하 내외분']}        55628   \n",
       "3141           {'answer_start': [219], 'text': ['겨울철']}        13020   \n",
       "3160            {'answer_start': [227], 'text': ['바흐']}         4820   \n",
       "3198             {'answer_start': [33], 'text': ['이마']}        19259   \n",
       "3237          {'answer_start': [187], 'text': ['청화안료']}        47334   \n",
       "3320            {'answer_start': [107], 'text': ['왼쪽']}        52954   \n",
       "3443         {'answer_start': [149], 'text': ['로마 제국']}        22525   \n",
       "3939        {'answer_start': [346], 'text': ['맥동 에너지']}        13290   \n",
       "\n",
       "      __index_level_0__  context_length  question_length question_postfix  \\\n",
       "281                1157             596               39             것인가?   \n",
       "369                2367             935               34             것인가?   \n",
       "602                2242            1118               19             것인가?   \n",
       "639                2834            1092               36             것인가?   \n",
       "704                2401             833               31             것인가?   \n",
       "1048               1119             682               35             것인가?   \n",
       "1121                920             828               21             것인가?   \n",
       "1192               1142             620               40             것인가?   \n",
       "1532                859             707               35             것인가?   \n",
       "1626                 44             537               17             것인가?   \n",
       "1648               3520            1006               27             것인가?   \n",
       "1816                390             555               35             것인가?   \n",
       "2083               1433             791               29             것인가?   \n",
       "2432               2527             952               22             것인가?   \n",
       "2622               2043             602               29             것인가?   \n",
       "2783               2896             632               32             것인가?   \n",
       "3016               3570             943               24             것인가?   \n",
       "3062               2699             632               25             것인가?   \n",
       "3141               3066             531               17             것인가?   \n",
       "3160                498             861               16             것인가?   \n",
       "3198                 17             755               36             것인가?   \n",
       "3237                361             609               32             것인가?   \n",
       "3320               1796             735               25             것인가?   \n",
       "3443               2336             715               32             것인가?   \n",
       "3939                612             943               34             것인가?   \n",
       "\n",
       "     question_postmorph_1 question_postmorph_2 question_postmorph_2&3  \n",
       "281                     ?                   인가                    것인가  \n",
       "369                     ?                   인가                    것인가  \n",
       "602                     ?                   인가                    것인가  \n",
       "639                     ?                   인가                    것인가  \n",
       "704                     ?                   인가                    것인가  \n",
       "1048                    ?                   인가                    것인가  \n",
       "1121                    ?                   인가                    것인가  \n",
       "1192                    ?                   인가                    것인가  \n",
       "1532                    ?                   인가                    것인가  \n",
       "1626                    ?                   인가                    것인가  \n",
       "1648                    ?                   인가                    것인가  \n",
       "1816                    ?                   인가                    것인가  \n",
       "2083                    ?                   인가                    것인가  \n",
       "2432                    ?                   인가                    것인가  \n",
       "2622                    ?                   인가                    것인가  \n",
       "2783                    ?                   인가                    것인가  \n",
       "3016                    ?                   인가                    것인가  \n",
       "3062                    ?                   인가                    것인가  \n",
       "3141                    ?                   인가                    것인가  \n",
       "3160                    ?                   인가                    것인가  \n",
       "3198                    ?                   인가                    것인가  \n",
       "3237                    ?                   인가                    것인가  \n",
       "3320                    ?                   인가                    것인가  \n",
       "3443                    ?                   인가                    것인가  \n",
       "3939                    ?                   인가                    것인가  "
      ]
     },
     "execution_count": 37,
     "metadata": {},
     "output_type": "execute_result"
    }
   ],
   "source": [
    "train_find"
   ]
  },
  {
   "cell_type": "code",
   "execution_count": 47,
   "id": "032ae856",
   "metadata": {},
   "outputs": [],
   "source": [
    "def filter_5W1H(sentence):\n",
    "    if ('사람' in sentence) or ('인물' in sentence) or ('누구' in sentence) or ('이름' in sentence):\n",
    "        return 'Who'\n",
    "    elif ('것' in sentence) or ('무엇' in sentence) or ('무엇인가요' in sentence):\n",
    "        return 'What'\n",
    "    elif ('해는' in sentence) or ('시기' in sentence) or ('언제' in sentence) or ('연도' in sentence) or ('년도' in sentence):\n",
    "        return 'When'\n",
    "    elif ('곳' in sentence) or ('어디' in sentence) or ('지역' in sentence)  or ('국가는' in sentence) or ('나라느' in sentence):\n",
    "        return 'Where'\n",
    "    elif ('이유' in sentence) or ('때문' in sentence):\n",
    "        return 'Why'\n",
    "    else:\n",
    "        return 'Confuse'"
   ]
  },
  {
   "cell_type": "code",
   "execution_count": 48,
   "id": "2ad541ae",
   "metadata": {},
   "outputs": [],
   "source": [
    "train['type'] = train['question'].apply(filter_5W1H)"
   ]
  },
  {
   "cell_type": "code",
   "execution_count": 49,
   "id": "4a60f4f4",
   "metadata": {},
   "outputs": [
    {
     "data": {
      "text/plain": [
       "type\n",
       "Confuse    1506\n",
       "Who         981\n",
       "What        676\n",
       "Where       389\n",
       "When        359\n",
       "Why          41\n",
       "Name: count, dtype: int64"
      ]
     },
     "execution_count": 49,
     "metadata": {},
     "output_type": "execute_result"
    }
   ],
   "source": [
    "train['type'].value_counts()"
   ]
  },
  {
   "attachments": {},
   "cell_type": "markdown",
   "id": "ef037189",
   "metadata": {},
   "source": [
    "https://aihub.or.kr/aihubdata/data/view.do?currMenu=115&topMenu=100&aihubDataSe=realm&dataSetSn=106\n",
    "https://aihub.or.kr/aihubdata/data/view.do?currMenu=115&topMenu=100&aihubDataSe=realm&dataSetSn=92"
   ]
  }
 ],
 "metadata": {
  "kernelspec": {
   "display_name": "Python 3 (ipykernel)",
   "language": "python",
   "name": "python3"
  },
  "language_info": {
   "codemirror_mode": {
    "name": "ipython",
    "version": 3
   },
   "file_extension": ".py",
   "mimetype": "text/x-python",
   "name": "python",
   "nbconvert_exporter": "python",
   "pygments_lexer": "ipython3",
   "version": "3.10.11"
  },
  "toc": {
   "base_numbering": 1,
   "nav_menu": {},
   "number_sections": true,
   "sideBar": true,
   "skip_h1_title": false,
   "title_cell": "Table of Contents",
   "title_sidebar": "Contents",
   "toc_cell": false,
   "toc_position": {},
   "toc_section_display": true,
   "toc_window_display": false
  }
 },
 "nbformat": 4,
 "nbformat_minor": 5
}
